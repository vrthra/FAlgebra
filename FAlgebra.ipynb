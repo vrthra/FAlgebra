{
 "cells": [
  {
   "cell_type": "markdown",
   "metadata": {},
   "source": [
    "# Fault Algebras"
   ]
  },
  {
   "cell_type": "markdown",
   "metadata": {},
   "source": [
    "The main question being asked is, how to combine and negate fault patterns."
   ]
  },
  {
   "cell_type": "code",
   "execution_count": 1,
   "metadata": {},
   "outputs": [],
   "source": [
    "from enum import Enum\n",
    "import copy"
   ]
  },
  {
   "cell_type": "markdown",
   "metadata": {},
   "source": [
    "The faults can from several different inputs. The idea is that the characterizing node, and abstraction removes the influences of the specific parse tree."
   ]
  },
  {
   "cell_type": "code",
   "execution_count": null,
   "metadata": {},
   "outputs": [],
   "source": []
  },
  {
   "cell_type": "markdown",
   "metadata": {},
   "source": [
    "## Fault Patterns"
   ]
  },
  {
   "cell_type": "markdown",
   "metadata": {},
   "source": [
    "### Predicate\n",
    "\n",
    "First, we define a way to capture the status of an input. There can be four outcomes when an input is executed:\n",
    "\n",
    "* Success (failure condition reproduced)\n",
    "* Failed (failure condition not reproduced)\n",
    "* Invalid (Did not reach failure condition -- possibly semantically invalid)\n",
    "* Timeout (equivalant to Failed)"
   ]
  },
  {
   "cell_type": "code",
   "execution_count": 2,
   "metadata": {},
   "outputs": [],
   "source": [
    "class PRes(str, Enum):\n",
    "    success = 'SUCCESS'\n",
    "    failed = 'FAILED'\n",
    "    invalid = 'INVALID'\n",
    "    timeout = 'TIMEOUT'"
   ]
  },
  {
   "cell_type": "markdown",
   "metadata": {},
   "source": [
    "Next, we define our predicate. It is a simple test for doubled parenthesis such as `((..))` or an expression `0 / 0`"
   ]
  },
  {
   "cell_type": "code",
   "execution_count": 3,
   "metadata": {},
   "outputs": [],
   "source": [
    "import re"
   ]
  },
  {
   "cell_type": "code",
   "execution_count": 4,
   "metadata": {},
   "outputs": [],
   "source": [
    "def expr_double_paren(inp):\n",
    "    if re.match(r'.*[(][(].*[)][)].*', inp):\n",
    "        return PRes.success\n",
    "    #if re.match(r'.*0 / 0.*', inp):\n",
    "    #    return PRes.success\n",
    "    return PRes.failed"
   ]
  },
  {
   "cell_type": "code",
   "execution_count": 5,
   "metadata": {},
   "outputs": [],
   "source": [
    "my_predicate = expr_double_paren"
   ]
  },
  {
   "cell_type": "markdown",
   "metadata": {},
   "source": [
    "We also define an input."
   ]
  },
  {
   "cell_type": "code",
   "execution_count": 6,
   "metadata": {},
   "outputs": [],
   "source": [
    "expr_input =  '1 + ((2 * 3 / 4))'"
   ]
  },
  {
   "cell_type": "code",
   "execution_count": 7,
   "metadata": {},
   "outputs": [],
   "source": [
    "my_input = expr_input"
   ]
  },
  {
   "cell_type": "markdown",
   "metadata": {},
   "source": [
    "We verify that we can reproduce the failing condition correctly."
   ]
  },
  {
   "cell_type": "code",
   "execution_count": 8,
   "metadata": {},
   "outputs": [],
   "source": [
    "assert my_predicate(my_input) == PRes.success"
   ]
  },
  {
   "cell_type": "code",
   "execution_count": 9,
   "metadata": {},
   "outputs": [],
   "source": [
    "assert my_predicate('(1 + 2)') == PRes.failed"
   ]
  },
  {
   "cell_type": "code",
   "execution_count": 10,
   "metadata": {},
   "outputs": [],
   "source": [
    "assert my_predicate('0 / 0') == PRes.failed"
   ]
  },
  {
   "cell_type": "markdown",
   "metadata": {},
   "source": [
    "### Grammar"
   ]
  },
  {
   "cell_type": "markdown",
   "metadata": {},
   "source": [
    "A context-free grammar is represented as a Python dict, with each nonterminal symbol forming a key, and each nonterminal _defined_ by a list of expansion rules. For example, the expression grammar for parsing arithmetic expressions is given below."
   ]
  },
  {
   "cell_type": "code",
   "execution_count": 11,
   "metadata": {},
   "outputs": [],
   "source": [
    "EXPR_GRAMMAR = {'<start>': [['<expr>']],\n",
    " '<expr>': [['<term>', ' + ', '<expr>'],\n",
    "  ['<term>', ' - ', '<expr>'],\n",
    "  ['<term>']],\n",
    " '<term>': [['<factor>', ' * ', '<term>'],\n",
    "  ['<factor>', ' / ', '<term>'],\n",
    "  ['<factor>']],\n",
    " '<factor>': [['+', '<factor>'],\n",
    "  ['-', '<factor>'],\n",
    "  ['(', '<expr>', ')'],\n",
    "  ['<integer>', '.', '<integer>'],\n",
    "  ['<integer>']],\n",
    " '<integer>': [['<digit>', '<integer>'], ['<digit>']],\n",
    " '<digit>': [['0'], ['1'], ['2'], ['3'], ['4'], ['5'], ['6'], ['7'], ['8'], ['9']]}"
   ]
  },
  {
   "cell_type": "code",
   "execution_count": 12,
   "metadata": {},
   "outputs": [],
   "source": [
    "EXPR_G = {'[start]': '<start>', '[grammar]': EXPR_GRAMMAR}"
   ]
  },
  {
   "cell_type": "markdown",
   "metadata": {},
   "source": [
    "Note the convetion we used: Each nonterminal is enclosed in angle brackets. E.g. `<expr>`. We now define a function that can distinguish terminal symbols from nonterminals."
   ]
  },
  {
   "cell_type": "markdown",
   "metadata": {},
   "source": [
    "The `is_nt()` function checks if the given node is a terminal or not."
   ]
  },
  {
   "cell_type": "code",
   "execution_count": 13,
   "metadata": {},
   "outputs": [],
   "source": [
    "def is_nt(symbol):\n",
    "     return symbol and (symbol[0], symbol[-1]) == ('<', '>')"
   ]
  },
  {
   "cell_type": "markdown",
   "metadata": {},
   "source": [
    "#### The parser"
   ]
  },
  {
   "cell_type": "markdown",
   "metadata": {},
   "source": [
    "Given the grammar, and an input, we can parse it into a derivation tree.\n",
    "The `Parser` below is from [fuzzingbook.org](https://www.fuzzingbook.org/html/Parser.html), and provides a generic context-free parser. This is present in the `src` directory."
   ]
  },
  {
   "cell_type": "code",
   "execution_count": 14,
   "metadata": {},
   "outputs": [],
   "source": [
    "from Parser import EarleyParser as Parser"
   ]
  },
  {
   "cell_type": "markdown",
   "metadata": {},
   "source": [
    "How do we check that our parse succeeded? We can convert the derivation tree back to the original string and check for equality."
   ]
  },
  {
   "cell_type": "markdown",
   "metadata": {},
   "source": [
    "The `tree_to_str()` function converts a derivation tree to its original string."
   ]
  },
  {
   "cell_type": "code",
   "execution_count": 15,
   "metadata": {},
   "outputs": [],
   "source": [
    "def tree_to_str(node):\n",
    "    name, children, *rest = node\n",
    "    if not children:\n",
    "        return name\n",
    "    return ''.join([tree_to_str(c) for c in children])"
   ]
  },
  {
   "cell_type": "code",
   "execution_count": 16,
   "metadata": {},
   "outputs": [],
   "source": [
    "Ts = tree_to_str"
   ]
  },
  {
   "cell_type": "code",
   "execution_count": 17,
   "metadata": {
    "scrolled": false
   },
   "outputs": [
    {
     "data": {
      "text/plain": [
       "'1 + ((2 * 3 / 4))'"
      ]
     },
     "execution_count": 17,
     "metadata": {},
     "output_type": "execute_result"
    }
   ],
   "source": [
    "expr_parser = Parser(EXPR_GRAMMAR, start_symbol='<start>', canonical=True)\n",
    "parsed_expr = list(expr_parser.parse(my_input))[0]\n",
    "tree_to_str(parsed_expr)"
   ]
  },
  {
   "cell_type": "markdown",
   "metadata": {},
   "source": [
    "#### Display\n",
    "\n",
    "While converting to strings are easy, it is unsatisfying. We want to make our output look pretty, and inspect the tree structure of the parsed tree. So we define graphical tree display (code from fuzzingbook)"
   ]
  },
  {
   "cell_type": "code",
   "execution_count": 18,
   "metadata": {},
   "outputs": [],
   "source": [
    "from graphviz import Digraph"
   ]
  },
  {
   "cell_type": "code",
   "execution_count": 19,
   "metadata": {},
   "outputs": [],
   "source": [
    "from IPython.display import display, Image"
   ]
  },
  {
   "cell_type": "code",
   "execution_count": 20,
   "metadata": {},
   "outputs": [],
   "source": [
    "def zoom(v, zoom=True):\n",
    "    # return v directly if you do not want to zoom out.\n",
    "    if zoom:\n",
    "        return Image(v.render(format='png'))\n",
    "    return v"
   ]
  },
  {
   "cell_type": "code",
   "execution_count": 21,
   "metadata": {},
   "outputs": [],
   "source": [
    "class DisplayTree():\n",
    "    def __init__(self):\n",
    "        pass\n",
    "\n",
    "    def extract_node(self, node, id):\n",
    "        symbol, children, *annotation = node\n",
    "        return symbol, children, ''.join(str(a) for a in annotation)\n",
    "    \n",
    "    def node_attr(self, dot, nid, symbol, ann):\n",
    "        dot.node(repr(nid), symbol + ' ')\n",
    "        \n",
    "    def edge_attr(self, dot, start_node, stop_node):\n",
    "        dot.edge(repr(start_node), repr(stop_node))\n",
    "        \n",
    "    def graph_attr(self, dot):\n",
    "        dot.attr('node', shape='plain')\n",
    "        \n",
    "    def display(self, derivation_tree):\n",
    "        counter = 0\n",
    "        def traverse_tree(dot, tree, id=0):\n",
    "            (symbol, children, annotation) = self.extract_node(tree, id)\n",
    "            self.node_attr(dot, id, symbol, annotation)\n",
    "            if children:\n",
    "                for child in children:\n",
    "                    nonlocal counter\n",
    "                    counter += 1\n",
    "                    child_id = counter\n",
    "                    self.edge_attr(dot, id, child_id)\n",
    "                    traverse_tree(dot, child, child_id)\n",
    "        dot = Digraph(comment=\"Derivation Tree\")\n",
    "        self.graph_attr(dot)\n",
    "        traverse_tree(dot, derivation_tree)\n",
    "        return dot\n",
    "    \n",
    "    def __call__(self, dt):\n",
    "        return self.display(dt)"
   ]
  },
  {
   "cell_type": "code",
   "execution_count": 22,
   "metadata": {},
   "outputs": [],
   "source": [
    "display_tree = DisplayTree()"
   ]
  },
  {
   "cell_type": "code",
   "execution_count": 23,
   "metadata": {},
   "outputs": [],
   "source": [
    "# procedural\n",
    "def extract_node_(node, id):\n",
    "    symbol, children, *annotation = node\n",
    "    return symbol, children, ''.join(str(a) for a in annotation)\n",
    "def node_attr_(dot, nid, symbol, ann): dot.node(repr(nid), symbol + ' ')\n",
    "def edge_attr_(dot, start_node, stop_node): dot.edge(repr(start_node), repr(stop_node))\n",
    "def graph_attr_(dot): dot.attr('node', shape='plain')\n",
    "def display_tree_(derivation_tree):\n",
    "    counter = 0\n",
    "    def traverse_tree(dot, tree, id=0):\n",
    "        (symbol, children, annotation) = extract_node(tree, id)\n",
    "        node_attr(dot, id, symbol, annotation)\n",
    "        if children:\n",
    "            for child in children:\n",
    "                nonlocal counter\n",
    "                counter += 1\n",
    "                child_id = counter\n",
    "                edge_attr(dot, id, child_id)\n",
    "                traverse_tree(dot, child, child_id)\n",
    "    dot = Digraph(comment=\"Derivation Tree\")\n",
    "    graph_attr(dot)\n",
    "    traverse_tree(dot, derivation_tree)\n",
    "    return dot"
   ]
  },
  {
   "cell_type": "markdown",
   "metadata": {},
   "source": [
    "We are now ready to display the tree structure."
   ]
  },
  {
   "cell_type": "code",
   "execution_count": 24,
   "metadata": {
    "scrolled": false
   },
   "outputs": [
    {
     "data": {
      "image/png": "[encoded data removed]",
      "text/plain": [
       "<IPython.core.display.Image object>"
      ]
     },
     "execution_count": 24,
     "metadata": {},
     "output_type": "execute_result"
    }
   ],
   "source": [
    "zoom(display_tree(parsed_expr))"
   ]
  },
  {
   "cell_type": "markdown",
   "metadata": {},
   "source": [
    "#### A Fuzzer"
   ]
  },
  {
   "cell_type": "markdown",
   "metadata": {},
   "source": [
    "In order to define abstraction, we need to be able to generate values based on a grammar. Our fuzzer is able to do that."
   ]
  },
  {
   "cell_type": "code",
   "execution_count": 25,
   "metadata": {},
   "outputs": [],
   "source": [
    "import random"
   ]
  },
  {
   "cell_type": "markdown",
   "metadata": {},
   "source": [
    "##### The interface"
   ]
  },
  {
   "cell_type": "code",
   "execution_count": 26,
   "metadata": {},
   "outputs": [],
   "source": [
    "class Fuzzer:\n",
    "    def __init__(self, grammar):\n",
    "        self.grammar = grammar\n",
    "\n",
    "    def fuzz(self, key='<start>', max_num=None, max_depth=None):\n",
    "        raise NotImplemented()"
   ]
  },
  {
   "cell_type": "markdown",
   "metadata": {},
   "source": [
    "##### The implementation"
   ]
  },
  {
   "cell_type": "markdown",
   "metadata": {},
   "source": [
    "The fuzzer tries to randomly choose an expansion when more than one expansion is available. If however, it goes beyond max_depth, then it chooses the cheapest nodes. The cheapest nodes are those nodes with minimum further expansion (no recursion)."
   ]
  },
  {
   "cell_type": "code",
   "execution_count": 27,
   "metadata": {},
   "outputs": [],
   "source": [
    "class LimitFuzzer(Fuzzer):\n",
    "    def symbol_cost(self, grammar, symbol, seen):\n",
    "        if symbol in self.key_cost: return self.key_cost[symbol]\n",
    "        if symbol in seen:\n",
    "            self.key_cost[symbol] = float('inf')\n",
    "            return float('inf')\n",
    "        v = min((self.expansion_cost(grammar, rule, seen | {symbol})\n",
    "                    for rule in grammar.get(symbol, [])), default=0)\n",
    "        self.key_cost[symbol] = v\n",
    "        return v\n",
    "\n",
    "    def expansion_cost(self, grammar, tokens, seen):\n",
    "        return max((self.symbol_cost(grammar, token, seen)\n",
    "                    for token in tokens if token in grammar), default=0) + 1\n",
    "\n",
    "    def gen_key(self, key, depth, max_depth):\n",
    "        if key not in self.grammar: return key\n",
    "        if depth > max_depth:\n",
    "            assert key in self.cost\n",
    "            clst = sorted([(self.cost[key][str(rule)], rule) for rule in self.grammar[key]])\n",
    "            rules = [r for c,r in clst if c == clst[0][0]]\n",
    "        else:\n",
    "            rules = self.grammar[key]\n",
    "        return self.gen_rule(random.choice(rules), depth+1, max_depth)\n",
    "\n",
    "    def gen_rule(self, rule, depth, max_depth):\n",
    "        return ''.join(self.gen_key(token, depth, max_depth) for token in rule)\n",
    "\n",
    "    def fuzz(self, key='<start>', max_depth=10):\n",
    "        return self.gen_key(key=key, depth=0, max_depth=max_depth)\n",
    "\n",
    "    def __init__(self, grammar):\n",
    "        super().__init__(grammar)\n",
    "        self.key_cost = {}\n",
    "        self.cost = self.compute_cost(grammar)\n",
    "\n",
    "    def compute_cost(self, grammar):\n",
    "        cost = {}\n",
    "        for k in grammar:\n",
    "            cost[k] = {}\n",
    "            for rule in grammar[k]:\n",
    "                cost[k][str(rule)] = self.expansion_cost(grammar, rule, set())\n",
    "        return cost"
   ]
  },
  {
   "cell_type": "code",
   "execution_count": 28,
   "metadata": {},
   "outputs": [
    {
     "data": {
      "text/plain": [
       "'+(-461.4 / +++3 * (6.4) / (3.0) * 2.3 * 4.8) / -230860.1767 / (+61 / (1 - 4.4) / 9.0 * 8 * 6.7 + -+2.4 / +3 * 7.2 / 8.1 + 4 * 4 * 2) / ((7 + 7.0) / 9 - 7.6 / 5.5 / 3.6 + 3.2 / 9.8 - 9 - 2) / +--5'"
      ]
     },
     "execution_count": 28,
     "metadata": {},
     "output_type": "execute_result"
    }
   ],
   "source": [
    "expr_fuzzer = LimitFuzzer(EXPR_GRAMMAR)\n",
    "expr_fuzzer.fuzz()"
   ]
  },
  {
   "cell_type": "markdown",
   "metadata": {},
   "source": [
    "### Library functions"
   ]
  },
  {
   "cell_type": "markdown",
   "metadata": {},
   "source": [
    "Finding nodes given the path"
   ]
  },
  {
   "cell_type": "code",
   "execution_count": 29,
   "metadata": {},
   "outputs": [],
   "source": [
    "def find_node(node, path):\n",
    "    name, children, *rest = node\n",
    "    if not path:\n",
    "        return node\n",
    "    p, *path = path\n",
    "    for i,c in enumerate(children):\n",
    "        if i == p:\n",
    "            return find_node(c, path)\n",
    "    return None"
   ]
  },
  {
   "cell_type": "code",
   "execution_count": 30,
   "metadata": {},
   "outputs": [
    {
     "data": {
      "text/plain": [
       "(' + ', [])"
      ]
     },
     "execution_count": 30,
     "metadata": {},
     "output_type": "execute_result"
    }
   ],
   "source": [
    "find_node(parsed_expr, [0,1])"
   ]
  },
  {
   "cell_type": "code",
   "execution_count": 31,
   "metadata": {},
   "outputs": [
    {
     "data": {
      "text/plain": [
       "(')', [])"
      ]
     },
     "execution_count": 31,
     "metadata": {},
     "output_type": "execute_result"
    }
   ],
   "source": [
    "find_node(parsed_expr, [0,2,0,0,2])"
   ]
  },
  {
   "cell_type": "markdown",
   "metadata": {},
   "source": [
    "In the grammar, we want to compute the minimum/maximum possible expansions for each nontermainal. The reason is that, if the number of expansions is limited (1) then, marking the parent for generalization does not get us anything. For parents with those nonterminals (honorary terminals), we register their grand parent."
   ]
  },
  {
   "cell_type": "code",
   "execution_count": 32,
   "metadata": {},
   "outputs": [],
   "source": [
    "import math"
   ]
  },
  {
   "cell_type": "code",
   "execution_count": 33,
   "metadata": {},
   "outputs": [],
   "source": [
    "def find_maximum_expansions_for_key(grammar, key, seen_so_far):\n",
    "    child_expansions = 0\n",
    "    \n",
    "    for rule in grammar[key]:\n",
    "        rule_expansions = 1\n",
    "        for token in rule:\n",
    "            if token in seen_so_far:\n",
    "                return math.inf\n",
    "            if not is_nt(token):\n",
    "                # only a single expansion\n",
    "                rule_expansions *= 1\n",
    "            else:\n",
    "                v = find_maximum_expansions_for_key(grammar, token, seen_so_far | {key})\n",
    "                rule_expansions *= v\n",
    "        child_expansions += rule_expansions\n",
    "    return child_expansions"
   ]
  },
  {
   "cell_type": "code",
   "execution_count": 34,
   "metadata": {},
   "outputs": [],
   "source": [
    "def find_maximum_expansions(grammar):\n",
    "    return {k:find_maximum_expansions_for_key(grammar, k, set()) for k in grammar}"
   ]
  },
  {
   "cell_type": "code",
   "execution_count": 35,
   "metadata": {},
   "outputs": [
    {
     "data": {
      "text/plain": [
       "{'<start>': inf,\n",
       " '<expr>': inf,\n",
       " '<term>': inf,\n",
       " '<factor>': inf,\n",
       " '<integer>': inf,\n",
       " '<digit>': 10}"
      ]
     },
     "execution_count": 35,
     "metadata": {},
     "output_type": "execute_result"
    }
   ],
   "source": [
    "find_maximum_expansions(EXPR_GRAMMAR)"
   ]
  },
  {
   "cell_type": "markdown",
   "metadata": {},
   "source": [
    "First, collect the paths to the (unique) parents of each terminal symbol, then extend it by paths to the unique parents of each nonterminal that does not have enough expansions. From this, generate abstract trees with the particular node marked abstract.\n",
    "\n",
    "Next, identify recursive nonterminals in the grammar. Identify nodes that are parents of terminal symbols that are recursive. Finally, generate new trees with these recursive nodes replaced by any of their closest chidren of same kind.\n"
   ]
  },
  {
   "cell_type": "code",
   "execution_count": 36,
   "metadata": {},
   "outputs": [],
   "source": [
    "def find_matching_node_subpaths(node, fn):\n",
    "    name, children = node\n",
    "    if fn(node): return [[]]\n",
    "    paths = []\n",
    "    for i,c in enumerate(children):\n",
    "        ps_ = find_matching_node_subpaths(c, fn)\n",
    "        if ps_:\n",
    "            ps = [[i] + p_ for p_ in ps_]\n",
    "            paths.extend(ps)\n",
    "    return paths"
   ]
  },
  {
   "cell_type": "code",
   "execution_count": 37,
   "metadata": {},
   "outputs": [],
   "source": [
    "def match_factor(n):\n",
    "    return n[0] == '<factor>'"
   ]
  },
  {
   "cell_type": "code",
   "execution_count": 38,
   "metadata": {},
   "outputs": [
    {
     "name": "stdout",
     "output_type": "stream",
     "text": [
      "[0, 0, 0]\n",
      "<factor> 1\n",
      "[0, 2, 0, 0]\n",
      "<factor> ((2 * 3 / 4))\n"
     ]
    }
   ],
   "source": [
    "paths = find_matching_node_subpaths(parsed_expr, match_factor)\n",
    "for p in paths:\n",
    "    print(p)\n",
    "    n = find_node(parsed_expr, p)\n",
    "    print(n[0], tree_to_str(n))"
   ]
  },
  {
   "cell_type": "code",
   "execution_count": 39,
   "metadata": {},
   "outputs": [],
   "source": [
    "def replace_tree(node, path, newnode):\n",
    "    if not path:\n",
    "        return newnode\n",
    "    name, children = node\n",
    "    hd, *subpath = path\n",
    "    assert hd < len(children)\n",
    "    new_children = []\n",
    "    for i,c in enumerate(children):\n",
    "        if i == hd:\n",
    "            c_ = replace_tree(c, subpath, newnode)\n",
    "        else:\n",
    "            c_ = c\n",
    "        new_children.append(c_)\n",
    "    return (name, new_children)"
   ]
  },
  {
   "cell_type": "code",
   "execution_count": 40,
   "metadata": {},
   "outputs": [
    {
     "data": {
      "text/plain": [
       "'((2 * 3 / 4))'"
      ]
     },
     "execution_count": 40,
     "metadata": {},
     "output_type": "execute_result"
    }
   ],
   "source": [
    "tree_to_str(find_node(parsed_expr, [0,2,0,0]))"
   ]
  },
  {
   "cell_type": "code",
   "execution_count": 41,
   "metadata": {},
   "outputs": [
    {
     "data": {
      "text/plain": [
       "'1 + 1'"
      ]
     },
     "execution_count": 41,
     "metadata": {},
     "output_type": "execute_result"
    }
   ],
   "source": [
    "tree_to_str(replace_tree(parsed_expr, [0, 2, 0, 0], ('1', [])))"
   ]
  },
  {
   "cell_type": "markdown",
   "metadata": {},
   "source": [
    "Validating a parse tree"
   ]
  },
  {
   "cell_type": "code",
   "execution_count": 42,
   "metadata": {},
   "outputs": [],
   "source": [
    "def validate_tree(tree, grammar):\n",
    "    def keys(arr):\n",
    "        return [a[0] for a in arr]\n",
    "    name, children, *rest = tree\n",
    "    if not is_nt(name): return True\n",
    "    \n",
    "    seen = False\n",
    "    for rule in grammar[name]:\n",
    "        if keys(children) == rule:\n",
    "            seen = True\n",
    "    assert seen, name + ' needs ' + repr(grammar[name])\n",
    "    for c in children:\n",
    "        validate_tree(c, grammar)"
   ]
  },
  {
   "cell_type": "code",
   "execution_count": 43,
   "metadata": {},
   "outputs": [],
   "source": [
    "validate_tree(parsed_expr, EXPR_GRAMMAR)"
   ]
  },
  {
   "cell_type": "code",
   "execution_count": 44,
   "metadata": {},
   "outputs": [
    {
     "name": "stdout",
     "output_type": "stream",
     "text": [
      "<term> needs [['<factor>', ' * ', '<term>'], ['<factor>', ' / ', '<term>'], ['<factor>']]\n"
     ]
    }
   ],
   "source": [
    "try:\n",
    "    validate_tree(replace_tree(parsed_expr, [0, 2, 0, 0], ('1', [])), EXPR_GRAMMAR)\n",
    "except AssertionError as e:\n",
    "    print(e)"
   ]
  },
  {
   "cell_type": "code",
   "execution_count": 45,
   "metadata": {},
   "outputs": [],
   "source": [
    "rt = replace_tree(parsed_expr, [0, 2, 0, 0], ('<factor>', [('<integer>', [('<digit>',[('1', [])])])]))\n",
    "try:\n",
    "    validate_tree(rt, EXPR_GRAMMAR)\n",
    "except AssertionError as e:\n",
    "    print(e)"
   ]
  },
  {
   "cell_type": "code",
   "execution_count": 46,
   "metadata": {},
   "outputs": [
    {
     "data": {
      "text/plain": [
       "'1 + 1'"
      ]
     },
     "execution_count": 46,
     "metadata": {},
     "output_type": "execute_result"
    }
   ],
   "source": [
    "tree_to_str(rt)"
   ]
  },
  {
   "cell_type": "code",
   "execution_count": 47,
   "metadata": {},
   "outputs": [],
   "source": [
    "def grammar_gc(grammar, start_symbol):\n",
    "    def strip_key(grammar, key, order):\n",
    "        rules = sorted(grammar[key])\n",
    "        old_len = len(order)\n",
    "        for rule in rules:\n",
    "            for token in rule:\n",
    "                if is_nt(token):\n",
    "                    if token not in order:\n",
    "                        order.append(token)\n",
    "        new = order[old_len:]\n",
    "        for ckey in new:\n",
    "            strip_key(grammar, ckey, order)\n",
    "\n",
    "    order = [start_symbol]\n",
    "    strip_key(grammar, start_symbol, order)\n",
    "    if len(order) != len(grammar.keys()):\n",
    "        stripped = [k for k in grammar if k not in order]\n",
    "        if stripped:\n",
    "            print(\"Stripping: %s\" % str(stripped))\n",
    "        faulty = [k for k in order if k not in grammar]\n",
    "        assert not faulty\n",
    "    return {k: [list(r) for r in sorted(grammar[k])] for k in order}"
   ]
  },
  {
   "cell_type": "markdown",
   "metadata": {},
   "source": [
    "## Contextualization"
   ]
  },
  {
   "cell_type": "markdown",
   "metadata": {},
   "source": [
    "The output that we get from `ddset` has nodes marked. So, we define a way to mark nodes as abstract."
   ]
  },
  {
   "cell_type": "markdown",
   "metadata": {},
   "source": [
    "### Mark the abstract nodes\n",
    "\n",
    "Given a path, we mark the node as abstract."
   ]
  },
  {
   "cell_type": "code",
   "execution_count": 48,
   "metadata": {},
   "outputs": [],
   "source": [
    "def mark_path_abstract(tree, path):\n",
    "    name, children = find_node(tree, path)\n",
    "    new_tree = replace_tree(tree, path, (name, children, {'abstract': True}))\n",
    "    return new_tree"
   ]
  },
  {
   "cell_type": "markdown",
   "metadata": {},
   "source": [
    "First, we locate a suitable node."
   ]
  },
  {
   "cell_type": "code",
   "execution_count": 49,
   "metadata": {},
   "outputs": [
    {
     "data": {
      "text/plain": [
       "'2 * 3 / 4'"
      ]
     },
     "execution_count": 49,
     "metadata": {},
     "output_type": "execute_result"
    }
   ],
   "source": [
    "abs_path_1 = [0,2,0,0,1,0,0,1]\n",
    "tree_to_str(find_node(parsed_expr, abs_path_1))"
   ]
  },
  {
   "cell_type": "code",
   "execution_count": 50,
   "metadata": {
    "scrolled": false
   },
   "outputs": [
    {
     "data": {
      "text/plain": [
       "('<start>',\n",
       " [('<expr>',\n",
       "   [('<term>', [('<factor>', [('<integer>', [('<digit>', [('1', [])])])])]),\n",
       "    (' + ', []),\n",
       "    ('<expr>',\n",
       "     [('<term>',\n",
       "       [('<factor>',\n",
       "         [('(', []),\n",
       "          ('<expr>',\n",
       "           [('<term>',\n",
       "             [('<factor>',\n",
       "               [('(', []),\n",
       "                ('<expr>',\n",
       "                 [('<term>',\n",
       "                   [('<factor>', [('<integer>', [('<digit>', [('2', [])])])]),\n",
       "                    (' * ', []),\n",
       "                    ('<term>',\n",
       "                     [('<factor>',\n",
       "                       [('<integer>', [('<digit>', [('3', [])])])]),\n",
       "                      (' / ', []),\n",
       "                      ('<term>',\n",
       "                       [('<factor>',\n",
       "                         [('<integer>', [('<digit>', [('4', [])])])])])])])],\n",
       "                 {'abstract': True}),\n",
       "                (')', [])])])]),\n",
       "          (')', [])])])])])])"
      ]
     },
     "execution_count": 50,
     "metadata": {},
     "output_type": "execute_result"
    }
   ],
   "source": [
    "v = mark_path_abstract(parsed_expr, abs_path_1); v"
   ]
  },
  {
   "cell_type": "markdown",
   "metadata": {},
   "source": [
    "Given a tree with some nodes marked abstract, go through the tree, and mark everything else as concrete. Default is to mark a node as concrete."
   ]
  },
  {
   "cell_type": "code",
   "execution_count": 51,
   "metadata": {},
   "outputs": [],
   "source": [
    "def mark_concrete_r(tree):\n",
    "    name, children, *abstract_a = tree\n",
    "    abstract = {'abstract': False} if not abstract_a else abstract_a[0]\n",
    "    return (name, [mark_concrete_r(c) for c in children], abstract)"
   ]
  },
  {
   "cell_type": "code",
   "execution_count": 52,
   "metadata": {},
   "outputs": [
    {
     "data": {
      "text/plain": [
       "('<start>',\n",
       " [('<expr>',\n",
       "   [('<term>',\n",
       "     [('<factor>',\n",
       "       [('<integer>',\n",
       "         [('<digit>', [('1', [], {'abstract': False})], {'abstract': False})],\n",
       "         {'abstract': False})],\n",
       "       {'abstract': False})],\n",
       "     {'abstract': False}),\n",
       "    (' + ', [], {'abstract': False}),\n",
       "    ('<expr>',\n",
       "     [('<term>',\n",
       "       [('<factor>',\n",
       "         [('(', [], {'abstract': False}),\n",
       "          ('<expr>',\n",
       "           [('<term>',\n",
       "             [('<factor>',\n",
       "               [('(', [], {'abstract': False}),\n",
       "                ('<expr>',\n",
       "                 [('<term>',\n",
       "                   [('<factor>',\n",
       "                     [('<integer>',\n",
       "                       [('<digit>',\n",
       "                         [('2', [], {'abstract': False})],\n",
       "                         {'abstract': False})],\n",
       "                       {'abstract': False})],\n",
       "                     {'abstract': False}),\n",
       "                    (' * ', [], {'abstract': False}),\n",
       "                    ('<term>',\n",
       "                     [('<factor>',\n",
       "                       [('<integer>',\n",
       "                         [('<digit>',\n",
       "                           [('3', [], {'abstract': False})],\n",
       "                           {'abstract': False})],\n",
       "                         {'abstract': False})],\n",
       "                       {'abstract': False}),\n",
       "                      (' / ', [], {'abstract': False}),\n",
       "                      ('<term>',\n",
       "                       [('<factor>',\n",
       "                         [('<integer>',\n",
       "                           [('<digit>',\n",
       "                             [('4', [], {'abstract': False})],\n",
       "                             {'abstract': False})],\n",
       "                           {'abstract': False})],\n",
       "                         {'abstract': False})],\n",
       "                       {'abstract': False})],\n",
       "                     {'abstract': False})],\n",
       "                   {'abstract': False})],\n",
       "                 {'abstract': True}),\n",
       "                (')', [], {'abstract': False})],\n",
       "               {'abstract': False})],\n",
       "             {'abstract': False})],\n",
       "           {'abstract': False}),\n",
       "          (')', [], {'abstract': False})],\n",
       "         {'abstract': False})],\n",
       "       {'abstract': False})],\n",
       "     {'abstract': False})],\n",
       "   {'abstract': False})],\n",
       " {'abstract': False})"
      ]
     },
     "execution_count": 52,
     "metadata": {},
     "output_type": "execute_result"
    }
   ],
   "source": [
    "t = mark_concrete_r(v); t"
   ]
  },
  {
   "cell_type": "markdown",
   "metadata": {},
   "source": [
    "A way to display the abstracted tree"
   ]
  },
  {
   "cell_type": "code",
   "execution_count": 53,
   "metadata": {},
   "outputs": [],
   "source": [
    "def till_abstract(node):\n",
    "    name, children, *rest = node\n",
    "    if rest[-1]['abstract']:\n",
    "        return (name + '*', [])\n",
    "    return (name, [till_abstract(c) for c in children], *rest)"
   ]
  },
  {
   "cell_type": "code",
   "execution_count": 54,
   "metadata": {},
   "outputs": [
    {
     "data": {
      "image/png": "[encoded data removed]",
      "text/plain": [
       "<IPython.core.display.Image object>"
      ]
     },
     "execution_count": 54,
     "metadata": {},
     "output_type": "execute_result"
    }
   ],
   "source": [
    "zoom(display_tree(till_abstract(t)))"
   ]
  },
  {
   "cell_type": "code",
   "execution_count": 55,
   "metadata": {},
   "outputs": [
    {
     "data": {
      "text/plain": [
       "('((2 * 3 / 4))', '<expr>')"
      ]
     },
     "execution_count": 55,
     "metadata": {},
     "output_type": "execute_result"
    }
   ],
   "source": [
    "abs_t1_ = find_node(parsed_expr, [0, 2])\n",
    "tree_to_str(abs_t1_), abs_t1_[0]"
   ]
  },
  {
   "cell_type": "code",
   "execution_count": 56,
   "metadata": {},
   "outputs": [],
   "source": [
    "abs_t1 = ('<start>', [abs_t1_])"
   ]
  },
  {
   "cell_type": "code",
   "execution_count": 57,
   "metadata": {},
   "outputs": [],
   "source": [
    "validate_tree(abs_t1, EXPR_GRAMMAR)"
   ]
  },
  {
   "cell_type": "code",
   "execution_count": 58,
   "metadata": {},
   "outputs": [
    {
     "data": {
      "text/plain": [
       "'2 * 3 / 4'"
      ]
     },
     "execution_count": 58,
     "metadata": {},
     "output_type": "execute_result"
    }
   ],
   "source": [
    "t_abs_p1 = [0, 0, 0, 1, 0, 0, 1]\n",
    "Ts(find_node(abs_t1, t_abs_p1))"
   ]
  },
  {
   "cell_type": "markdown",
   "metadata": {},
   "source": [
    "We now define a function to check if a given node is abstract or not."
   ]
  },
  {
   "cell_type": "code",
   "execution_count": 59,
   "metadata": {},
   "outputs": [],
   "source": [
    "def e_g_(abstract_a):\n",
    "    if not abstract_a:\n",
    "        return True\n",
    "    else:\n",
    "        return abstract_a[0]['abstract']"
   ]
  },
  {
   "cell_type": "code",
   "execution_count": 60,
   "metadata": {},
   "outputs": [],
   "source": [
    "def is_node_abstract(node):\n",
    "    name, children, *abstract_a = node\n",
    "    if not abstract_a:\n",
    "        return True\n",
    "    else:\n",
    "        return abstract_a[0]['abstract']"
   ]
  },
  {
   "cell_type": "code",
   "execution_count": 61,
   "metadata": {},
   "outputs": [],
   "source": [
    "def tree_to_str_a(tree):\n",
    "    name, children, *general_ = tree\n",
    "    if not is_nt(name): return name\n",
    "    if is_node_abstract(tree):\n",
    "        return name\n",
    "    return ''.join([tree_to_str_a(c) for c in children])"
   ]
  },
  {
   "cell_type": "code",
   "execution_count": 62,
   "metadata": {},
   "outputs": [],
   "source": [
    "Ta = tree_to_str_a"
   ]
  },
  {
   "cell_type": "code",
   "execution_count": 63,
   "metadata": {},
   "outputs": [
    {
     "data": {
      "text/plain": [
       "'1 + ((<expr>))'"
      ]
     },
     "execution_count": 63,
     "metadata": {},
     "output_type": "execute_result"
    }
   ],
   "source": [
    "tree_to_str_a(t)"
   ]
  },
  {
   "cell_type": "code",
   "execution_count": 64,
   "metadata": {},
   "outputs": [
    {
     "data": {
      "text/plain": [
       "('<start>',\n",
       " [('<expr>',\n",
       "   [('<term>',\n",
       "     [('<factor>',\n",
       "       [('(', [], {'abstract': False}),\n",
       "        ('<expr>',\n",
       "         [('<term>',\n",
       "           [('<factor>',\n",
       "             [('(', [], {'abstract': False}),\n",
       "              ('<expr>',\n",
       "               [('<term>',\n",
       "                 [('<factor>',\n",
       "                   [('<integer>',\n",
       "                     [('<digit>',\n",
       "                       [('2', [], {'abstract': False})],\n",
       "                       {'abstract': False})],\n",
       "                     {'abstract': False})],\n",
       "                   {'abstract': False}),\n",
       "                  (' * ', [], {'abstract': False}),\n",
       "                  ('<term>',\n",
       "                   [('<factor>',\n",
       "                     [('<integer>',\n",
       "                       [('<digit>',\n",
       "                         [('3', [], {'abstract': False})],\n",
       "                         {'abstract': False})],\n",
       "                       {'abstract': False})],\n",
       "                     {'abstract': False}),\n",
       "                    (' / ', [], {'abstract': False}),\n",
       "                    ('<term>',\n",
       "                     [('<factor>',\n",
       "                       [('<integer>',\n",
       "                         [('<digit>',\n",
       "                           [('4', [], {'abstract': False})],\n",
       "                           {'abstract': False})],\n",
       "                         {'abstract': False})],\n",
       "                       {'abstract': False})],\n",
       "                     {'abstract': False})],\n",
       "                   {'abstract': False})],\n",
       "                 {'abstract': False})],\n",
       "               {'abstract': True}),\n",
       "              (')', [], {'abstract': False})],\n",
       "             {'abstract': False})],\n",
       "           {'abstract': False})],\n",
       "         {'abstract': False}),\n",
       "        (')', [], {'abstract': False})],\n",
       "       {'abstract': False})],\n",
       "     {'abstract': False})],\n",
       "   {'abstract': False})],\n",
       " {'abstract': False})"
      ]
     },
     "execution_count": 64,
     "metadata": {},
     "output_type": "execute_result"
    }
   ],
   "source": [
    "abs_tree1 = mark_concrete_r(mark_path_abstract(abs_t1, t_abs_p1)); abs_tree1"
   ]
  },
  {
   "cell_type": "code",
   "execution_count": 65,
   "metadata": {},
   "outputs": [
    {
     "data": {
      "text/plain": [
       "'((<expr>))'"
      ]
     },
     "execution_count": 65,
     "metadata": {},
     "output_type": "execute_result"
    }
   ],
   "source": [
    "Ta(abs_tree1)"
   ]
  },
  {
   "cell_type": "code",
   "execution_count": 66,
   "metadata": {},
   "outputs": [],
   "source": [
    "def mark_abstract_nodes(tree, paths):\n",
    "    for path in paths:\n",
    "        tree = mark_path_abstract(tree, path)\n",
    "    return mark_concrete_r(tree)"
   ]
  },
  {
   "cell_type": "code",
   "execution_count": 67,
   "metadata": {},
   "outputs": [
    {
     "data": {
      "text/plain": [
       "'((2 * 3 / 4))'"
      ]
     },
     "execution_count": 67,
     "metadata": {},
     "output_type": "execute_result"
    }
   ],
   "source": [
    "Ta(mark_abstract_nodes(abs_t1, []))"
   ]
  },
  {
   "cell_type": "code",
   "execution_count": 68,
   "metadata": {},
   "outputs": [
    {
     "data": {
      "text/plain": [
       "'((<expr>))'"
      ]
     },
     "execution_count": 68,
     "metadata": {},
     "output_type": "execute_result"
    }
   ],
   "source": [
    "Ta(mark_abstract_nodes(abs_t1, [t_abs_p1]))"
   ]
  },
  {
   "cell_type": "markdown",
   "metadata": {},
   "source": [
    "### Finding characterizing node\n",
    "\n",
    "A characterizing node is the lowest node that completely contains the given pattern."
   ]
  },
  {
   "cell_type": "code",
   "execution_count": 69,
   "metadata": {},
   "outputs": [],
   "source": [
    " def find_charecterizing_node(tree):\n",
    "    name, children, gen = tree\n",
    "    if len(children) == 1:\n",
    "        return find_charecterizing_node(children[0])\n",
    "    return tree"
   ]
  },
  {
   "cell_type": "code",
   "execution_count": 70,
   "metadata": {},
   "outputs": [
    {
     "data": {
      "text/plain": [
       "('<factor>',\n",
       " [('(', [], {'abstract': False}),\n",
       "  ('<expr>',\n",
       "   [('<term>',\n",
       "     [('<factor>',\n",
       "       [('(', [], {'abstract': False}),\n",
       "        ('<expr>',\n",
       "         [('<term>',\n",
       "           [('<factor>',\n",
       "             [('<integer>',\n",
       "               [('<digit>',\n",
       "                 [('2', [], {'abstract': False})],\n",
       "                 {'abstract': False})],\n",
       "               {'abstract': False})],\n",
       "             {'abstract': False}),\n",
       "            (' * ', [], {'abstract': False}),\n",
       "            ('<term>',\n",
       "             [('<factor>',\n",
       "               [('<integer>',\n",
       "                 [('<digit>',\n",
       "                   [('3', [], {'abstract': False})],\n",
       "                   {'abstract': False})],\n",
       "                 {'abstract': False})],\n",
       "               {'abstract': False}),\n",
       "              (' / ', [], {'abstract': False}),\n",
       "              ('<term>',\n",
       "               [('<factor>',\n",
       "                 [('<integer>',\n",
       "                   [('<digit>',\n",
       "                     [('4', [], {'abstract': False})],\n",
       "                     {'abstract': False})],\n",
       "                   {'abstract': False})],\n",
       "                 {'abstract': False})],\n",
       "               {'abstract': False})],\n",
       "             {'abstract': False})],\n",
       "           {'abstract': False})],\n",
       "         {'abstract': True}),\n",
       "        (')', [], {'abstract': False})],\n",
       "       {'abstract': False})],\n",
       "     {'abstract': False})],\n",
       "   {'abstract': False}),\n",
       "  (')', [], {'abstract': False})],\n",
       " {'abstract': False})"
      ]
     },
     "execution_count": 70,
     "metadata": {},
     "output_type": "execute_result"
    }
   ],
   "source": [
    "abs_tree_cnode1 = find_charecterizing_node(abs_tree1); abs_tree_cnode1"
   ]
  },
  {
   "cell_type": "markdown",
   "metadata": {},
   "source": [
    "As can be seen, the `<factor>` node completely contains the fault pattern."
   ]
  },
  {
   "cell_type": "code",
   "execution_count": 71,
   "metadata": {},
   "outputs": [
    {
     "data": {
      "text/plain": [
       "('<start>', '((2 * 3 / 4))')"
      ]
     },
     "execution_count": 71,
     "metadata": {},
     "output_type": "execute_result"
    }
   ],
   "source": [
    "abs_tree1[0], Ts(abs_tree1)"
   ]
  },
  {
   "cell_type": "code",
   "execution_count": 72,
   "metadata": {},
   "outputs": [
    {
     "data": {
      "text/plain": [
       "('<factor>', '((2 * 3 / 4))')"
      ]
     },
     "execution_count": 72,
     "metadata": {},
     "output_type": "execute_result"
    }
   ],
   "source": [
    "abs_tree_cnode1[0], Ts(abs_tree_cnode1)"
   ]
  },
  {
   "cell_type": "markdown",
   "metadata": {},
   "source": [
    "### Finding reachable keys"
   ]
  },
  {
   "cell_type": "code",
   "execution_count": 73,
   "metadata": {},
   "outputs": [],
   "source": [
    "def find_reachable_keys(grammar, key, reachable_keys=None, found_so_far=None):\n",
    "    if reachable_keys is None: reachable_keys = {}\n",
    "    if found_so_far is None: found_so_far = set()\n",
    "\n",
    "    for rule in grammar[key]:\n",
    "        for token in rule:\n",
    "            if not is_nt(token): continue\n",
    "            if token in found_so_far: continue\n",
    "            found_so_far.add(token)\n",
    "            if token in reachable_keys:\n",
    "                for k in reachable_keys[token]:\n",
    "                    found_so_far.add(k)\n",
    "            else:\n",
    "                keys = find_reachable_keys(grammar, token, reachable_keys, found_so_far)\n",
    "                # reachable_keys[token] = keys <- found_so_far contains results from earlier\n",
    "    return found_so_far"
   ]
  },
  {
   "cell_type": "code",
   "execution_count": 74,
   "metadata": {
    "scrolled": true
   },
   "outputs": [
    {
     "name": "stdout",
     "output_type": "stream",
     "text": [
      "<start> {'<integer>', '<factor>', '<digit>', '<expr>', '<term>'}\n",
      "<expr> {'<integer>', '<factor>', '<digit>', '<expr>', '<term>'}\n",
      "<term> {'<integer>', '<factor>', '<digit>', '<expr>', '<term>'}\n",
      "<factor> {'<integer>', '<factor>', '<digit>', '<expr>', '<term>'}\n",
      "<integer> {'<digit>', '<integer>'}\n",
      "<digit> set()\n"
     ]
    }
   ],
   "source": [
    "for key in EXPR_GRAMMAR:\n",
    "    keys = find_reachable_keys(EXPR_GRAMMAR, key, {})\n",
    "    print(key, keys)"
   ]
  },
  {
   "cell_type": "markdown",
   "metadata": {},
   "source": [
    "Finding recursive keys"
   ]
  },
  {
   "cell_type": "code",
   "execution_count": 75,
   "metadata": {},
   "outputs": [],
   "source": [
    "def reachable_dict(grammar):\n",
    "    reachable = {}\n",
    "    for key in grammar:\n",
    "        keys = find_reachable_keys(grammar, key, reachable)\n",
    "        reachable[key] = keys\n",
    "    return reachable"
   ]
  },
  {
   "cell_type": "code",
   "execution_count": 76,
   "metadata": {},
   "outputs": [
    {
     "data": {
      "text/plain": [
       "{'<start>': {'<digit>', '<expr>', '<factor>', '<integer>', '<term>'},\n",
       " '<expr>': {'<digit>', '<expr>', '<factor>', '<integer>', '<term>'},\n",
       " '<term>': {'<digit>', '<expr>', '<factor>', '<integer>', '<term>'},\n",
       " '<factor>': {'<digit>', '<expr>', '<factor>', '<integer>', '<term>'},\n",
       " '<integer>': {'<digit>', '<integer>'},\n",
       " '<digit>': set()}"
      ]
     },
     "execution_count": 76,
     "metadata": {},
     "output_type": "execute_result"
    }
   ],
   "source": [
    "reachable_dict(EXPR_GRAMMAR)"
   ]
  },
  {
   "cell_type": "markdown",
   "metadata": {},
   "source": [
    "### Updating the grammar with failure keys"
   ]
  },
  {
   "cell_type": "markdown",
   "metadata": {},
   "source": [
    "Now, we want to add our grammar the keys that are required to cause a failure. For that, we first extract the local grammar that reproduces the fault pattern "
   ]
  },
  {
   "cell_type": "markdown",
   "metadata": {},
   "source": [
    "#### Linear Grammar"
   ]
  },
  {
   "cell_type": "code",
   "execution_count": 77,
   "metadata": {},
   "outputs": [
    {
     "data": {
      "text/plain": [
       "('<factor>',\n",
       " [('(', [], {'abstract': False}),\n",
       "  ('<expr>',\n",
       "   [('<term>',\n",
       "     [('<factor>',\n",
       "       [('(', [], {'abstract': False}),\n",
       "        ('<expr>',\n",
       "         [('<term>',\n",
       "           [('<factor>',\n",
       "             [('<integer>',\n",
       "               [('<digit>',\n",
       "                 [('2', [], {'abstract': False})],\n",
       "                 {'abstract': False})],\n",
       "               {'abstract': False})],\n",
       "             {'abstract': False}),\n",
       "            (' * ', [], {'abstract': False}),\n",
       "            ('<term>',\n",
       "             [('<factor>',\n",
       "               [('<integer>',\n",
       "                 [('<digit>',\n",
       "                   [('3', [], {'abstract': False})],\n",
       "                   {'abstract': False})],\n",
       "                 {'abstract': False})],\n",
       "               {'abstract': False}),\n",
       "              (' / ', [], {'abstract': False}),\n",
       "              ('<term>',\n",
       "               [('<factor>',\n",
       "                 [('<integer>',\n",
       "                   [('<digit>',\n",
       "                     [('4', [], {'abstract': False})],\n",
       "                     {'abstract': False})],\n",
       "                   {'abstract': False})],\n",
       "                 {'abstract': False})],\n",
       "               {'abstract': False})],\n",
       "             {'abstract': False})],\n",
       "           {'abstract': False})],\n",
       "         {'abstract': True}),\n",
       "        (')', [], {'abstract': False})],\n",
       "       {'abstract': False})],\n",
       "     {'abstract': False})],\n",
       "   {'abstract': False}),\n",
       "  (')', [], {'abstract': False})],\n",
       " {'abstract': False})"
      ]
     },
     "execution_count": 77,
     "metadata": {},
     "output_type": "execute_result"
    }
   ],
   "source": [
    "abs_tree_cnode1"
   ]
  },
  {
   "cell_type": "code",
   "execution_count": 78,
   "metadata": {},
   "outputs": [],
   "source": [
    " def mark_faulty_name(symbol, prefix, v):\n",
    "    return '<%s L%s_%s>'% (symbol[1:-1], prefix, v)"
   ]
  },
  {
   "cell_type": "code",
   "execution_count": 79,
   "metadata": {},
   "outputs": [],
   "source": [
    "def mark_faulty_nodes(node, prefix, counter=None):\n",
    "    if counter is None: counter = {}\n",
    "    symbol, children, *abstract = node\n",
    "    if is_node_abstract(node): # we dont markup further\n",
    "        return node\n",
    "    if symbol not in counter: counter[symbol] = 0\n",
    "    counter[symbol] += 1\n",
    "    v = str(counter[symbol])\n",
    "    if is_nt(symbol):\n",
    "        return (mark_faulty_name(symbol, prefix, v),\n",
    "                [mark_faulty_nodes(c, prefix, counter) for c in children],\n",
    "                *abstract)\n",
    "    else:\n",
    "        assert not children\n",
    "        return (symbol, children, *abstract)"
   ]
  },
  {
   "cell_type": "code",
   "execution_count": 80,
   "metadata": {},
   "outputs": [
    {
     "data": {
      "image/svg+xml": [
       "<?xml version=\"1.0\" encoding=\"UTF-8\" standalone=\"no\"?>\n",
       "<!DOCTYPE svg PUBLIC \"-//W3C//DTD SVG 1.1//EN\"\n",
       " \"http://www.w3.org/Graphics/SVG/1.1/DTD/svg11.dtd\">\n",
       "<!-- Generated by graphviz version 2.40.1 (20161225.0304)\n",
       " -->\n",
       "<!-- Title: %3 Pages: 1 -->\n",
       "<svg width=\"238pt\" height=\"572pt\"\n",
       " viewBox=\"0.00 0.00 238.16 572.00\" xmlns=\"http://www.w3.org/2000/svg\" xmlns:xlink=\"http://www.w3.org/1999/xlink\">\n",
       "<g id=\"graph0\" class=\"graph\" transform=\"scale(1 1) rotate(0) translate(4 568)\">\n",
       "<title>%3</title>\n",
       "<polygon fill=\"#ffffff\" stroke=\"transparent\" points=\"-4,4 -4,-568 234.1602,-568 234.1602,4 -4,4\"/>\n",
       "<!-- 0 -->\n",
       "<g id=\"node1\" class=\"node\">\n",
       "<title>0</title>\n",
       "<text text-anchor=\"middle\" x=\"98.0801\" y=\"-552.8\" font-family=\"Times,serif\" font-size=\"14.00\" fill=\"#000000\">&lt;factor L1_1&gt; </text>\n",
       "</g>\n",
       "<!-- 1 -->\n",
       "<g id=\"node2\" class=\"node\">\n",
       "<title>1</title>\n",
       "<text text-anchor=\"middle\" x=\"37.0801\" y=\"-502.8\" font-family=\"Times,serif\" font-size=\"14.00\" fill=\"#000000\">( </text>\n",
       "</g>\n",
       "<!-- 0&#45;&gt;1 -->\n",
       "<g id=\"edge1\" class=\"edge\">\n",
       "<title>0&#45;&gt;1</title>\n",
       "<path fill=\"none\" stroke=\"#000000\" d=\"M89.3403,-549.8362C78.8385,-541.2282 61.155,-526.7336 49.3038,-517.0195\"/>\n",
       "<polygon fill=\"#000000\" stroke=\"#000000\" points=\"51.2511,-514.0901 41.2984,-510.4577 46.8136,-519.5039 51.2511,-514.0901\"/>\n",
       "</g>\n",
       "<!-- 2 -->\n",
       "<g id=\"node3\" class=\"node\">\n",
       "<title>2</title>\n",
       "<text text-anchor=\"middle\" x=\"98.0801\" y=\"-502.8\" font-family=\"Times,serif\" font-size=\"14.00\" fill=\"#000000\">&lt;expr L1_1&gt; </text>\n",
       "</g>\n",
       "<!-- 0&#45;&gt;2 -->\n",
       "<g id=\"edge2\" class=\"edge\">\n",
       "<title>0&#45;&gt;2</title>\n",
       "<path fill=\"none\" stroke=\"#000000\" d=\"M98.0801,-549.6223C98.0801,-542.9738 98.0801,-532.942 98.0801,-524.2807\"/>\n",
       "<polygon fill=\"#000000\" stroke=\"#000000\" points=\"101.5802,-524.0842 98.0801,-514.0842 94.5802,-524.0842 101.5802,-524.0842\"/>\n",
       "</g>\n",
       "<!-- 25 -->\n",
       "<g id=\"node26\" class=\"node\">\n",
       "<title>25</title>\n",
       "<text text-anchor=\"middle\" x=\"159.0801\" y=\"-502.8\" font-family=\"Times,serif\" font-size=\"14.00\" fill=\"#000000\">) </text>\n",
       "</g>\n",
       "<!-- 0&#45;&gt;25 -->\n",
       "<g id=\"edge25\" class=\"edge\">\n",
       "<title>0&#45;&gt;25</title>\n",
       "<path fill=\"none\" stroke=\"#000000\" d=\"M106.8199,-549.8362C117.3216,-541.2282 135.0051,-526.7336 146.8563,-517.0195\"/>\n",
       "<polygon fill=\"#000000\" stroke=\"#000000\" points=\"149.3465,-519.5039 154.8617,-510.4577 144.909,-514.0901 149.3465,-519.5039\"/>\n",
       "</g>\n",
       "<!-- 3 -->\n",
       "<g id=\"node4\" class=\"node\">\n",
       "<title>3</title>\n",
       "<text text-anchor=\"middle\" x=\"98.0801\" y=\"-452.8\" font-family=\"Times,serif\" font-size=\"14.00\" fill=\"#000000\">&lt;term L1_1&gt; </text>\n",
       "</g>\n",
       "<!-- 2&#45;&gt;3 -->\n",
       "<g id=\"edge3\" class=\"edge\">\n",
       "<title>2&#45;&gt;3</title>\n",
       "<path fill=\"none\" stroke=\"#000000\" d=\"M98.0801,-499.6223C98.0801,-492.9738 98.0801,-482.942 98.0801,-474.2807\"/>\n",
       "<polygon fill=\"#000000\" stroke=\"#000000\" points=\"101.5802,-474.0842 98.0801,-464.0842 94.5802,-474.0842 101.5802,-474.0842\"/>\n",
       "</g>\n",
       "<!-- 4 -->\n",
       "<g id=\"node5\" class=\"node\">\n",
       "<title>4</title>\n",
       "<text text-anchor=\"middle\" x=\"98.0801\" y=\"-402.8\" font-family=\"Times,serif\" font-size=\"14.00\" fill=\"#000000\">&lt;factor L1_2&gt; </text>\n",
       "</g>\n",
       "<!-- 3&#45;&gt;4 -->\n",
       "<g id=\"edge4\" class=\"edge\">\n",
       "<title>3&#45;&gt;4</title>\n",
       "<path fill=\"none\" stroke=\"#000000\" d=\"M98.0801,-449.6223C98.0801,-442.9738 98.0801,-432.942 98.0801,-424.2807\"/>\n",
       "<polygon fill=\"#000000\" stroke=\"#000000\" points=\"101.5802,-424.0842 98.0801,-414.0842 94.5802,-424.0842 101.5802,-424.0842\"/>\n",
       "</g>\n",
       "<!-- 5 -->\n",
       "<g id=\"node6\" class=\"node\">\n",
       "<title>5</title>\n",
       "<text text-anchor=\"middle\" x=\"54.0801\" y=\"-352.8\" font-family=\"Times,serif\" font-size=\"14.00\" fill=\"#000000\">( </text>\n",
       "</g>\n",
       "<!-- 4&#45;&gt;5 -->\n",
       "<g id=\"edge5\" class=\"edge\">\n",
       "<title>4&#45;&gt;5</title>\n",
       "<path fill=\"none\" stroke=\"#000000\" d=\"M91.5877,-399.6223C84.5597,-391.6359 73.2356,-378.7676 64.8666,-369.2574\"/>\n",
       "<polygon fill=\"#000000\" stroke=\"#000000\" points=\"67.4533,-366.8988 58.2195,-361.7039 62.1983,-371.5232 67.4533,-366.8988\"/>\n",
       "</g>\n",
       "<!-- 6 -->\n",
       "<g id=\"node7\" class=\"node\">\n",
       "<title>6</title>\n",
       "<text text-anchor=\"middle\" x=\"98.0801\" y=\"-352.8\" font-family=\"Times,serif\" font-size=\"14.00\" fill=\"#000000\">&lt;expr&gt; </text>\n",
       "</g>\n",
       "<!-- 4&#45;&gt;6 -->\n",
       "<g id=\"edge6\" class=\"edge\">\n",
       "<title>4&#45;&gt;6</title>\n",
       "<path fill=\"none\" stroke=\"#000000\" d=\"M98.0801,-399.6223C98.0801,-392.9738 98.0801,-382.942 98.0801,-374.2807\"/>\n",
       "<polygon fill=\"#000000\" stroke=\"#000000\" points=\"101.5802,-374.0842 98.0801,-364.0842 94.5802,-374.0842 101.5802,-374.0842\"/>\n",
       "</g>\n",
       "<!-- 24 -->\n",
       "<g id=\"node25\" class=\"node\">\n",
       "<title>24</title>\n",
       "<text text-anchor=\"middle\" x=\"142.0801\" y=\"-352.8\" font-family=\"Times,serif\" font-size=\"14.00\" fill=\"#000000\">) </text>\n",
       "</g>\n",
       "<!-- 4&#45;&gt;24 -->\n",
       "<g id=\"edge24\" class=\"edge\">\n",
       "<title>4&#45;&gt;24</title>\n",
       "<path fill=\"none\" stroke=\"#000000\" d=\"M104.5724,-399.6223C111.6005,-391.6359 122.9246,-378.7676 131.2936,-369.2574\"/>\n",
       "<polygon fill=\"#000000\" stroke=\"#000000\" points=\"133.9619,-371.5232 137.9407,-361.7039 128.7068,-366.8988 133.9619,-371.5232\"/>\n",
       "</g>\n",
       "<!-- 7 -->\n",
       "<g id=\"node8\" class=\"node\">\n",
       "<title>7</title>\n",
       "<text text-anchor=\"middle\" x=\"98.0801\" y=\"-302.8\" font-family=\"Times,serif\" font-size=\"14.00\" fill=\"#000000\">&lt;term&gt; </text>\n",
       "</g>\n",
       "<!-- 6&#45;&gt;7 -->\n",
       "<g id=\"edge7\" class=\"edge\">\n",
       "<title>6&#45;&gt;7</title>\n",
       "<path fill=\"none\" stroke=\"#000000\" d=\"M98.0801,-349.6223C98.0801,-342.9738 98.0801,-332.942 98.0801,-324.2807\"/>\n",
       "<polygon fill=\"#000000\" stroke=\"#000000\" points=\"101.5802,-324.0842 98.0801,-314.0842 94.5802,-324.0842 101.5802,-324.0842\"/>\n",
       "</g>\n",
       "<!-- 8 -->\n",
       "<g id=\"node9\" class=\"node\">\n",
       "<title>8</title>\n",
       "<text text-anchor=\"middle\" x=\"40.0801\" y=\"-252.8\" font-family=\"Times,serif\" font-size=\"14.00\" fill=\"#000000\">&lt;factor&gt; </text>\n",
       "</g>\n",
       "<!-- 7&#45;&gt;8 -->\n",
       "<g id=\"edge8\" class=\"edge\">\n",
       "<title>7&#45;&gt;8</title>\n",
       "<path fill=\"none\" stroke=\"#000000\" d=\"M89.522,-299.6223C80.7698,-292.0773 66.9634,-280.1752 56.162,-270.8637\"/>\n",
       "<polygon fill=\"#000000\" stroke=\"#000000\" points=\"58.1572,-267.9627 48.2977,-264.0842 53.5866,-273.2646 58.1572,-267.9627\"/>\n",
       "</g>\n",
       "<!-- 12 -->\n",
       "<g id=\"node13\" class=\"node\">\n",
       "<title>12</title>\n",
       "<text text-anchor=\"middle\" x=\"98.0801\" y=\"-252.8\" font-family=\"Times,serif\" font-size=\"14.00\" fill=\"#000000\"> * &#160;</text>\n",
       "</g>\n",
       "<!-- 7&#45;&gt;12 -->\n",
       "<g id=\"edge12\" class=\"edge\">\n",
       "<title>7&#45;&gt;12</title>\n",
       "<path fill=\"none\" stroke=\"#000000\" d=\"M98.0801,-299.6223C98.0801,-292.9738 98.0801,-282.942 98.0801,-274.2807\"/>\n",
       "<polygon fill=\"#000000\" stroke=\"#000000\" points=\"101.5802,-274.0842 98.0801,-264.0842 94.5802,-274.0842 101.5802,-274.0842\"/>\n",
       "</g>\n",
       "<!-- 13 -->\n",
       "<g id=\"node14\" class=\"node\">\n",
       "<title>13</title>\n",
       "<text text-anchor=\"middle\" x=\"150.0801\" y=\"-252.8\" font-family=\"Times,serif\" font-size=\"14.00\" fill=\"#000000\">&lt;term&gt; </text>\n",
       "</g>\n",
       "<!-- 7&#45;&gt;13 -->\n",
       "<g id=\"edge13\" class=\"edge\">\n",
       "<title>7&#45;&gt;13</title>\n",
       "<path fill=\"none\" stroke=\"#000000\" d=\"M105.7529,-299.6223C113.522,-292.152 125.7332,-280.4105 135.3734,-271.1411\"/>\n",
       "<polygon fill=\"#000000\" stroke=\"#000000\" points=\"137.9301,-273.5382 142.7125,-264.0842 133.0783,-268.4924 137.9301,-273.5382\"/>\n",
       "</g>\n",
       "<!-- 9 -->\n",
       "<g id=\"node10\" class=\"node\">\n",
       "<title>9</title>\n",
       "<text text-anchor=\"middle\" x=\"29.0801\" y=\"-202.8\" font-family=\"Times,serif\" font-size=\"14.00\" fill=\"#000000\">&lt;integer&gt; </text>\n",
       "</g>\n",
       "<!-- 8&#45;&gt;9 -->\n",
       "<g id=\"edge9\" class=\"edge\">\n",
       "<title>8&#45;&gt;9</title>\n",
       "<path fill=\"none\" stroke=\"#000000\" d=\"M38.457,-249.6223C36.9779,-242.8991 34.7376,-232.7161 32.8177,-223.9893\"/>\n",
       "<polygon fill=\"#000000\" stroke=\"#000000\" points=\"36.2056,-223.0986 30.6386,-214.0842 29.369,-224.6027 36.2056,-223.0986\"/>\n",
       "</g>\n",
       "<!-- 10 -->\n",
       "<g id=\"node11\" class=\"node\">\n",
       "<title>10</title>\n",
       "<text text-anchor=\"middle\" x=\"29.0801\" y=\"-152.8\" font-family=\"Times,serif\" font-size=\"14.00\" fill=\"#000000\">&lt;digit&gt; </text>\n",
       "</g>\n",
       "<!-- 9&#45;&gt;10 -->\n",
       "<g id=\"edge10\" class=\"edge\">\n",
       "<title>9&#45;&gt;10</title>\n",
       "<path fill=\"none\" stroke=\"#000000\" d=\"M29.0801,-199.6223C29.0801,-192.9738 29.0801,-182.942 29.0801,-174.2807\"/>\n",
       "<polygon fill=\"#000000\" stroke=\"#000000\" points=\"32.5802,-174.0842 29.0801,-164.0842 25.5802,-174.0842 32.5802,-174.0842\"/>\n",
       "</g>\n",
       "<!-- 11 -->\n",
       "<g id=\"node12\" class=\"node\">\n",
       "<title>11</title>\n",
       "<text text-anchor=\"middle\" x=\"29.0801\" y=\"-102.8\" font-family=\"Times,serif\" font-size=\"14.00\" fill=\"#000000\">2 </text>\n",
       "</g>\n",
       "<!-- 10&#45;&gt;11 -->\n",
       "<g id=\"edge11\" class=\"edge\">\n",
       "<title>10&#45;&gt;11</title>\n",
       "<path fill=\"none\" stroke=\"#000000\" d=\"M29.0801,-149.6223C29.0801,-142.9738 29.0801,-132.942 29.0801,-124.2807\"/>\n",
       "<polygon fill=\"#000000\" stroke=\"#000000\" points=\"32.5802,-124.0842 29.0801,-114.0842 25.5802,-124.0842 32.5802,-124.0842\"/>\n",
       "</g>\n",
       "<!-- 14 -->\n",
       "<g id=\"node15\" class=\"node\">\n",
       "<title>14</title>\n",
       "<text text-anchor=\"middle\" x=\"102.0801\" y=\"-202.8\" font-family=\"Times,serif\" font-size=\"14.00\" fill=\"#000000\">&lt;factor&gt; </text>\n",
       "</g>\n",
       "<!-- 13&#45;&gt;14 -->\n",
       "<g id=\"edge14\" class=\"edge\">\n",
       "<title>13&#45;&gt;14</title>\n",
       "<path fill=\"none\" stroke=\"#000000\" d=\"M142.9975,-249.6223C135.8977,-242.2267 124.7792,-230.6449 115.9232,-221.4199\"/>\n",
       "<polygon fill=\"#000000\" stroke=\"#000000\" points=\"118.3311,-218.8742 108.8809,-214.0842 113.2814,-223.722 118.3311,-218.8742\"/>\n",
       "</g>\n",
       "<!-- 18 -->\n",
       "<g id=\"node19\" class=\"node\">\n",
       "<title>18</title>\n",
       "<text text-anchor=\"middle\" x=\"153.0801\" y=\"-202.8\" font-family=\"Times,serif\" font-size=\"14.00\" fill=\"#000000\"> / &#160;</text>\n",
       "</g>\n",
       "<!-- 13&#45;&gt;18 -->\n",
       "<g id=\"edge18\" class=\"edge\">\n",
       "<title>13&#45;&gt;18</title>\n",
       "<path fill=\"none\" stroke=\"#000000\" d=\"M150.5227,-249.6223C150.9217,-242.9738 151.5236,-232.942 152.0432,-224.2807\"/>\n",
       "<polygon fill=\"#000000\" stroke=\"#000000\" points=\"155.5497,-224.2759 152.655,-214.0842 148.5623,-223.8566 155.5497,-224.2759\"/>\n",
       "</g>\n",
       "<!-- 19 -->\n",
       "<g id=\"node20\" class=\"node\">\n",
       "<title>19</title>\n",
       "<text text-anchor=\"middle\" x=\"201.0801\" y=\"-202.8\" font-family=\"Times,serif\" font-size=\"14.00\" fill=\"#000000\">&lt;term&gt; </text>\n",
       "</g>\n",
       "<!-- 13&#45;&gt;19 -->\n",
       "<g id=\"edge19\" class=\"edge\">\n",
       "<title>13&#45;&gt;19</title>\n",
       "<path fill=\"none\" stroke=\"#000000\" d=\"M157.6053,-249.6223C165.225,-242.152 177.2014,-230.4105 186.6562,-221.1411\"/>\n",
       "<polygon fill=\"#000000\" stroke=\"#000000\" points=\"189.1637,-223.5842 193.8542,-214.0842 184.2632,-218.5857 189.1637,-223.5842\"/>\n",
       "</g>\n",
       "<!-- 15 -->\n",
       "<g id=\"node16\" class=\"node\">\n",
       "<title>15</title>\n",
       "<text text-anchor=\"middle\" x=\"102.0801\" y=\"-152.8\" font-family=\"Times,serif\" font-size=\"14.00\" fill=\"#000000\">&lt;integer&gt; </text>\n",
       "</g>\n",
       "<!-- 14&#45;&gt;15 -->\n",
       "<g id=\"edge15\" class=\"edge\">\n",
       "<title>14&#45;&gt;15</title>\n",
       "<path fill=\"none\" stroke=\"#000000\" d=\"M102.0801,-199.6223C102.0801,-192.9738 102.0801,-182.942 102.0801,-174.2807\"/>\n",
       "<polygon fill=\"#000000\" stroke=\"#000000\" points=\"105.5802,-174.0842 102.0801,-164.0842 98.5802,-174.0842 105.5802,-174.0842\"/>\n",
       "</g>\n",
       "<!-- 16 -->\n",
       "<g id=\"node17\" class=\"node\">\n",
       "<title>16</title>\n",
       "<text text-anchor=\"middle\" x=\"102.0801\" y=\"-102.8\" font-family=\"Times,serif\" font-size=\"14.00\" fill=\"#000000\">&lt;digit&gt; </text>\n",
       "</g>\n",
       "<!-- 15&#45;&gt;16 -->\n",
       "<g id=\"edge16\" class=\"edge\">\n",
       "<title>15&#45;&gt;16</title>\n",
       "<path fill=\"none\" stroke=\"#000000\" d=\"M102.0801,-149.6223C102.0801,-142.9738 102.0801,-132.942 102.0801,-124.2807\"/>\n",
       "<polygon fill=\"#000000\" stroke=\"#000000\" points=\"105.5802,-124.0842 102.0801,-114.0842 98.5802,-124.0842 105.5802,-124.0842\"/>\n",
       "</g>\n",
       "<!-- 17 -->\n",
       "<g id=\"node18\" class=\"node\">\n",
       "<title>17</title>\n",
       "<text text-anchor=\"middle\" x=\"102.0801\" y=\"-52.8\" font-family=\"Times,serif\" font-size=\"14.00\" fill=\"#000000\">3 </text>\n",
       "</g>\n",
       "<!-- 16&#45;&gt;17 -->\n",
       "<g id=\"edge17\" class=\"edge\">\n",
       "<title>16&#45;&gt;17</title>\n",
       "<path fill=\"none\" stroke=\"#000000\" d=\"M102.0801,-99.6223C102.0801,-92.9738 102.0801,-82.942 102.0801,-74.2807\"/>\n",
       "<polygon fill=\"#000000\" stroke=\"#000000\" points=\"105.5802,-74.0842 102.0801,-64.0842 98.5802,-74.0842 105.5802,-74.0842\"/>\n",
       "</g>\n",
       "<!-- 20 -->\n",
       "<g id=\"node21\" class=\"node\">\n",
       "<title>20</title>\n",
       "<text text-anchor=\"middle\" x=\"201.0801\" y=\"-152.8\" font-family=\"Times,serif\" font-size=\"14.00\" fill=\"#000000\">&lt;factor&gt; </text>\n",
       "</g>\n",
       "<!-- 19&#45;&gt;20 -->\n",
       "<g id=\"edge20\" class=\"edge\">\n",
       "<title>19&#45;&gt;20</title>\n",
       "<path fill=\"none\" stroke=\"#000000\" d=\"M201.0801,-199.6223C201.0801,-192.9738 201.0801,-182.942 201.0801,-174.2807\"/>\n",
       "<polygon fill=\"#000000\" stroke=\"#000000\" points=\"204.5802,-174.0842 201.0801,-164.0842 197.5802,-174.0842 204.5802,-174.0842\"/>\n",
       "</g>\n",
       "<!-- 21 -->\n",
       "<g id=\"node22\" class=\"node\">\n",
       "<title>21</title>\n",
       "<text text-anchor=\"middle\" x=\"201.0801\" y=\"-102.8\" font-family=\"Times,serif\" font-size=\"14.00\" fill=\"#000000\">&lt;integer&gt; </text>\n",
       "</g>\n",
       "<!-- 20&#45;&gt;21 -->\n",
       "<g id=\"edge21\" class=\"edge\">\n",
       "<title>20&#45;&gt;21</title>\n",
       "<path fill=\"none\" stroke=\"#000000\" d=\"M201.0801,-149.6223C201.0801,-142.9738 201.0801,-132.942 201.0801,-124.2807\"/>\n",
       "<polygon fill=\"#000000\" stroke=\"#000000\" points=\"204.5802,-124.0842 201.0801,-114.0842 197.5802,-124.0842 204.5802,-124.0842\"/>\n",
       "</g>\n",
       "<!-- 22 -->\n",
       "<g id=\"node23\" class=\"node\">\n",
       "<title>22</title>\n",
       "<text text-anchor=\"middle\" x=\"201.0801\" y=\"-52.8\" font-family=\"Times,serif\" font-size=\"14.00\" fill=\"#000000\">&lt;digit&gt; </text>\n",
       "</g>\n",
       "<!-- 21&#45;&gt;22 -->\n",
       "<g id=\"edge22\" class=\"edge\">\n",
       "<title>21&#45;&gt;22</title>\n",
       "<path fill=\"none\" stroke=\"#000000\" d=\"M201.0801,-99.6223C201.0801,-92.9738 201.0801,-82.942 201.0801,-74.2807\"/>\n",
       "<polygon fill=\"#000000\" stroke=\"#000000\" points=\"204.5802,-74.0842 201.0801,-64.0842 197.5802,-74.0842 204.5802,-74.0842\"/>\n",
       "</g>\n",
       "<!-- 23 -->\n",
       "<g id=\"node24\" class=\"node\">\n",
       "<title>23</title>\n",
       "<text text-anchor=\"middle\" x=\"201.0801\" y=\"-2.8\" font-family=\"Times,serif\" font-size=\"14.00\" fill=\"#000000\">4 </text>\n",
       "</g>\n",
       "<!-- 22&#45;&gt;23 -->\n",
       "<g id=\"edge23\" class=\"edge\">\n",
       "<title>22&#45;&gt;23</title>\n",
       "<path fill=\"none\" stroke=\"#000000\" d=\"M201.0801,-49.6223C201.0801,-42.9738 201.0801,-32.942 201.0801,-24.2807\"/>\n",
       "<polygon fill=\"#000000\" stroke=\"#000000\" points=\"204.5802,-24.0842 201.0801,-14.0842 197.5802,-24.0842 204.5802,-24.0842\"/>\n",
       "</g>\n",
       "</g>\n",
       "</svg>\n"
      ],
      "text/plain": [
       "<graphviz.dot.Digraph at 0x10d327f28>"
      ]
     },
     "execution_count": 80,
     "metadata": {},
     "output_type": "execute_result"
    }
   ],
   "source": [
    "display_tree(mark_faulty_nodes(abs_tree_cnode1, '1'))"
   ]
  },
  {
   "cell_type": "code",
   "execution_count": 81,
   "metadata": {},
   "outputs": [],
   "source": [
    "c_node1 = mark_faulty_nodes(abs_tree_cnode1, '1')"
   ]
  },
  {
   "cell_type": "code",
   "execution_count": 82,
   "metadata": {},
   "outputs": [],
   "source": [
    "f_node1 = c_node1"
   ]
  },
  {
   "cell_type": "code",
   "execution_count": 83,
   "metadata": {},
   "outputs": [],
   "source": [
    "def faulty_node_to_grammar(tree, grammar=None):\n",
    "    if grammar is None: grammar = {}\n",
    "    if is_node_abstract(tree): return grammar\n",
    "    name, children, *rest = tree\n",
    "    tokens = []\n",
    "    if name not in grammar: grammar[name] = []\n",
    "    for c in children:\n",
    "        n, cs, *rest = c\n",
    "        tokens.append(n)\n",
    "        if is_nt(n):\n",
    "            faulty_node_to_grammar(c, grammar)\n",
    "    grammar[name].append(tuple(tokens))\n",
    "    return grammar"
   ]
  },
  {
   "cell_type": "code",
   "execution_count": 84,
   "metadata": {},
   "outputs": [
    {
     "data": {
      "text/plain": [
       "{'<factor>': [('(', '<expr>', ')'), ('(', '<expr>', ')')],\n",
       " '<expr>': [('<term>',)],\n",
       " '<term>': [('<factor>',)]}"
      ]
     },
     "execution_count": 84,
     "metadata": {},
     "output_type": "execute_result"
    }
   ],
   "source": [
    "faulty_node_to_grammar(abs_tree_cnode1)"
   ]
  },
  {
   "cell_type": "code",
   "execution_count": 85,
   "metadata": {},
   "outputs": [],
   "source": [
    "def faulty_node_to_linear_grammar(tree, prefix, grammar=None):\n",
    "    ltree = mark_faulty_nodes(tree, prefix)\n",
    "    return faulty_node_to_grammar(ltree)"
   ]
  },
  {
   "cell_type": "code",
   "execution_count": 86,
   "metadata": {},
   "outputs": [
    {
     "data": {
      "text/plain": [
       "{'<factor L1_1>': [('(', '<expr L1_1>', ')')],\n",
       " '<expr L1_1>': [('<term L1_1>',)],\n",
       " '<term L1_1>': [('<factor L1_2>',)],\n",
       " '<factor L1_2>': [('(', '<expr>', ')')]}"
      ]
     },
     "execution_count": 86,
     "metadata": {},
     "output_type": "execute_result"
    }
   ],
   "source": [
    "faulty_node_to_linear_grammar(abs_tree_cnode1, '1')"
   ]
  },
  {
   "cell_type": "code",
   "execution_count": 87,
   "metadata": {},
   "outputs": [],
   "source": [
    "dd_tree_abs1 = abs_tree1"
   ]
  },
  {
   "cell_type": "code",
   "execution_count": 88,
   "metadata": {},
   "outputs": [],
   "source": [
    "faulty_node1 = abs_tree_cnode1"
   ]
  },
  {
   "cell_type": "markdown",
   "metadata": {},
   "source": [
    "### Finding insertable positions"
   ]
  },
  {
   "cell_type": "markdown",
   "metadata": {},
   "source": [
    "Given a rule, and the faulty symbol, the positions in the rule where the fault can be inserted are all the non-terminals that will eventually reach the symbol of the faulty symbol. That is, if we have `<digit> + <expr>` as the expansion and the faulty symbol is `<factor*>` then, since `<digit>` can never reach `<factor>`, `0` is out, and so is `1` since it is a terminal symbol. Hence, only `<expr>` remains, which when expanded, one of the expansion paths will include a `<factor>`. Hence, here `[2]` is the answer."
   ]
  },
  {
   "cell_type": "code",
   "execution_count": 89,
   "metadata": {},
   "outputs": [],
   "source": [
    "def get_insertable_positions(rule, fkey, reachable):\n",
    "    positions = []\n",
    "    for i, token in enumerate(rule):\n",
    "        if not is_nt(token): continue\n",
    "        if fkey in reachable[token]:\n",
    "            positions.append(i)\n",
    "    return positions"
   ]
  },
  {
   "cell_type": "code",
   "execution_count": 90,
   "metadata": {},
   "outputs": [],
   "source": [
    "reachable1 = reachable_dict(EXPR_GRAMMAR)"
   ]
  },
  {
   "cell_type": "code",
   "execution_count": 91,
   "metadata": {},
   "outputs": [
    {
     "name": "stdout",
     "output_type": "stream",
     "text": [
      "<start>\n",
      "\t ['<expr>'] [0]\n",
      "<expr>\n",
      "\t ['<term>', ' + ', '<expr>'] [0, 2]\n",
      "\t ['<term>', ' - ', '<expr>'] [0, 2]\n",
      "\t ['<term>'] [0]\n",
      "<term>\n",
      "\t ['<factor>', ' * ', '<term>'] [0, 2]\n",
      "\t ['<factor>', ' / ', '<term>'] [0, 2]\n",
      "\t ['<factor>'] [0]\n",
      "<factor>\n",
      "\t ['+', '<factor>'] [1]\n",
      "\t ['-', '<factor>'] [1]\n",
      "\t ['(', '<expr>', ')'] [1]\n",
      "\t ['<integer>', '.', '<integer>'] []\n",
      "\t ['<integer>'] []\n",
      "<integer>\n",
      "\t ['<digit>', '<integer>'] []\n",
      "\t ['<digit>'] []\n",
      "<digit>\n",
      "\t ['0'] []\n",
      "\t ['1'] []\n",
      "\t ['2'] []\n",
      "\t ['3'] []\n",
      "\t ['4'] []\n",
      "\t ['5'] []\n",
      "\t ['6'] []\n",
      "\t ['7'] []\n",
      "\t ['8'] []\n",
      "\t ['9'] []\n"
     ]
    }
   ],
   "source": [
    "for k in EXPR_GRAMMAR:\n",
    "    print(k)\n",
    "    for rule in EXPR_GRAMMAR[k]:\n",
    "        v = get_insertable_positions(rule, '<factor>', reachable1)\n",
    "        print('\\t', rule, v)"
   ]
  },
  {
   "cell_type": "markdown",
   "metadata": {},
   "source": [
    "### Insert into key definition"
   ]
  },
  {
   "cell_type": "markdown",
   "metadata": {},
   "source": [
    " The essential idea is to make the rules in the grammar such that there is one fault position in each position.\n",
    "Take one rule at a time. For each token in the rule, get the reachable tokens. If the fsym is not in reachable tokens, then the falt can nnot be inserted in that position. So get all positions for the rule that we can insert fsym in, and for each position, change the symbol for later insertion. `fsym_matches` are keys that already match the pattern we are trying to insert. So we need to leave them alone."
   ]
  },
  {
   "cell_type": "code",
   "execution_count": 92,
   "metadata": {},
   "outputs": [],
   "source": [
    "def to_faulty_key(name, prefix):\n",
    "    return \"<%s F%s>\" % (name[1:-1], prefix)"
   ]
  },
  {
   "cell_type": "code",
   "execution_count": 93,
   "metadata": {},
   "outputs": [],
   "source": [
    "def insert_into_key(grammar, key, fsym, fsym_matches, prefix, reachable):\n",
    "    rules = grammar[key]\n",
    "    my_rules = []\n",
    "    for rule in grammar[key]:\n",
    "        positions = get_insertable_positions(rule, fsym, reachable)\n",
    "        if not positions: # make it len(positions) >= n if necessary\n",
    "            # skip this rule if no fsym_matches because we can not embed the fault here.\n",
    "            for fsym_m in fsym_matches:\n",
    "                m_positions = get_insertable_positions(rule, fsym_m, reachable)\n",
    "                positions.extend(m_positions)\n",
    "            # fsym_matches are those tokens that already embed the fault. Hence, no\n",
    "            # fault insertion necessary\n",
    "            if positions:\n",
    "                my_rules.append(rule)           \n",
    "        else:\n",
    "            # at each position, insert the fsym\n",
    "            for pos in positions:\n",
    "                new_rule = list(copy.deepcopy(rule))\n",
    "                new_rule[pos] = to_faulty_key(new_rule[pos], prefix)\n",
    "                my_rules.append(new_rule)\n",
    "    return (to_faulty_key(key, prefix), my_rules)"
   ]
  },
  {
   "cell_type": "code",
   "execution_count": 94,
   "metadata": {},
   "outputs": [
    {
     "name": "stdout",
     "output_type": "stream",
     "text": [
      "<start F1>\n",
      "     ['<expr F1>']\n",
      "\n",
      "<expr F1>\n",
      "     ['<term F1>', ' + ', '<expr>']\n",
      "     ['<term>', ' + ', '<expr F1>']\n",
      "     ['<term F1>', ' - ', '<expr>']\n",
      "     ['<term>', ' - ', '<expr F1>']\n",
      "     ['<term F1>']\n",
      "\n",
      "<term F1>\n",
      "     ['<factor F1>', ' * ', '<term>']\n",
      "     ['<factor>', ' * ', '<term F1>']\n",
      "     ['<factor F1>', ' / ', '<term>']\n",
      "     ['<factor>', ' / ', '<term F1>']\n",
      "     ['<factor F1>']\n",
      "\n",
      "<factor F1>\n",
      "     ['+', '<factor F1>']\n",
      "     ['-', '<factor F1>']\n",
      "     ['(', '<expr F1>', ')']\n",
      "\n",
      "<integer F1>\n",
      "\n",
      "<digit F1>\n",
      "\n"
     ]
    }
   ],
   "source": [
    "for key in EXPR_GRAMMAR:\n",
    "    fk, rules = insert_into_key(EXPR_GRAMMAR, key, '<factor>', [], '1', reachable1)\n",
    "    print(fk)\n",
    "    for r in rules:\n",
    "        print('    ', r)\n",
    "    print()"
   ]
  },
  {
   "cell_type": "code",
   "execution_count": 95,
   "metadata": {},
   "outputs": [],
   "source": [
    "def remove_duplicate_rules(grammar):\n",
    "    return {k: list(set([tuple(rule) for rule in grammar[k]])) for k in grammar}"
   ]
  },
  {
   "cell_type": "code",
   "execution_count": 96,
   "metadata": {},
   "outputs": [],
   "source": [
    "def insert_into_grammar(grammar, new_grammar, fsym, fsym_matches, prefix_f, reachable):\n",
    "    for key in grammar:\n",
    "        fk, rules = insert_into_key(grammar, key, fsym, fsym_matches, prefix_f, reachable)\n",
    "        if not rules: continue # no applicable rules\n",
    "        if fk not in new_grammar:\n",
    "            new_grammar[fk] = []\n",
    "        new_grammar[fk].extend(rules)\n",
    "    return remove_duplicate_rules(new_grammar)"
   ]
  },
  {
   "cell_type": "markdown",
   "metadata": {},
   "source": [
    "### Get the final grammar"
   ]
  },
  {
   "cell_type": "markdown",
   "metadata": {},
   "source": [
    "The final steps are as follows:\n",
    "1. Add the fault node, and the child nodes to the grammar.\n",
    "2. Generate the faulty key definitions. This is done per key in the original grammar.\n",
    "3. Finally, connect the faulty key and fault node."
   ]
  },
  {
   "cell_type": "code",
   "execution_count": 97,
   "metadata": {},
   "outputs": [],
   "source": [
    "def get_faulty_grammar(grammar, start_symbol, fault_node, f_idx):\n",
    "    def L_prefix(i): return '%d' % i\n",
    "    def F_prefix(i): return '%d' % i\n",
    "    prefix_l = L_prefix(f_idx)\n",
    "    prefix_f = F_prefix(f_idx)\n",
    "    key_f = fault_node[0]\n",
    "    # First, get the linear grammar\n",
    "\n",
    "    g = faulty_node_to_linear_grammar(fault_node, prefix_l)\n",
    "    new_grammar = {**g, **grammar}\n",
    "    \n",
    "    reachable = reachable_dict(grammar)\n",
    "    # the new grammar contains the faulty keys and their definitions.\n",
    "    # next, want to insert the fault prefix_f into each insertable positions. \n",
    "    # the insertable locations are those that can reach fsym\n",
    "    insert_into_grammar(grammar, new_grammar, key_f, [], prefix_f, reachable)\n",
    "\n",
    "    # now, the faulty key is an alternative to the original\n",
    "    fkey = mark_faulty_name(key_f, prefix_l, 1) # the starting in make_faulty is 1\n",
    "    fsym = to_faulty_key(key_f, prefix_f)\n",
    "    new_grammar[fsym].append([fkey])\n",
    "        \n",
    "    return to_faulty_key(start_symbol, F_prefix(f_idx)), new_grammar"
   ]
  },
  {
   "cell_type": "code",
   "execution_count": 98,
   "metadata": {},
   "outputs": [
    {
     "data": {
      "text/plain": [
       "{'<factor L1_1>': [('(', '<expr L1_1>', ')')],\n",
       " '<expr L1_1>': [('<term L1_1>',)],\n",
       " '<term L1_1>': [('<factor L1_2>',)],\n",
       " '<factor L1_2>': [('(', '<expr>', ')')],\n",
       " '<start>': [['<expr>']],\n",
       " '<expr>': [['<term>', ' + ', '<expr>'],\n",
       "  ['<term>', ' - ', '<expr>'],\n",
       "  ['<term>']],\n",
       " '<term>': [['<factor>', ' * ', '<term>'],\n",
       "  ['<factor>', ' / ', '<term>'],\n",
       "  ['<factor>']],\n",
       " '<factor>': [['+', '<factor>'],\n",
       "  ['-', '<factor>'],\n",
       "  ['(', '<expr>', ')'],\n",
       "  ['<integer>', '.', '<integer>'],\n",
       "  ['<integer>']],\n",
       " '<integer>': [['<digit>', '<integer>'], ['<digit>']],\n",
       " '<digit>': [['0'],\n",
       "  ['1'],\n",
       "  ['2'],\n",
       "  ['3'],\n",
       "  ['4'],\n",
       "  ['5'],\n",
       "  ['6'],\n",
       "  ['7'],\n",
       "  ['8'],\n",
       "  ['9']],\n",
       " '<start F1>': [['<expr F1>']],\n",
       " '<expr F1>': [['<term F1>', ' + ', '<expr>'],\n",
       "  ['<term>', ' + ', '<expr F1>'],\n",
       "  ['<term F1>', ' - ', '<expr>'],\n",
       "  ['<term>', ' - ', '<expr F1>'],\n",
       "  ['<term F1>']],\n",
       " '<term F1>': [['<factor F1>', ' * ', '<term>'],\n",
       "  ['<factor>', ' * ', '<term F1>'],\n",
       "  ['<factor F1>', ' / ', '<term>'],\n",
       "  ['<factor>', ' / ', '<term F1>'],\n",
       "  ['<factor F1>']],\n",
       " '<factor F1>': [['+', '<factor F1>'],\n",
       "  ['-', '<factor F1>'],\n",
       "  ['(', '<expr F1>', ')'],\n",
       "  ['<factor L1_1>']]}"
      ]
     },
     "execution_count": 98,
     "metadata": {},
     "output_type": "execute_result"
    }
   ],
   "source": [
    "start_faulty1, faulty_grammar1 = get_faulty_grammar(EXPR_GRAMMAR, '<start>', faulty_node1, 1); faulty_grammar1"
   ]
  },
  {
   "cell_type": "code",
   "execution_count": 99,
   "metadata": {},
   "outputs": [
    {
     "data": {
      "text/plain": [
       "'<start F1>'"
      ]
     },
     "execution_count": 99,
     "metadata": {},
     "output_type": "execute_result"
    }
   ],
   "source": [
    "start_faulty1"
   ]
  },
  {
   "cell_type": "code",
   "execution_count": 100,
   "metadata": {},
   "outputs": [],
   "source": [
    "gf1 = LimitFuzzer(faulty_grammar1)\n",
    "parser1 = Parser(faulty_grammar1, canonical=True, start_symbol=start_faulty1)"
   ]
  },
  {
   "cell_type": "code",
   "execution_count": 101,
   "metadata": {},
   "outputs": [
    {
     "name": "stdout",
     "output_type": "stream",
     "text": [
      "122 / 7 / +6.48098 * -+683.4 / 409.4 / 7.8 / +1.3 / +8 * 3.5 / 0.8 + 7340 + -+((2.9))\n",
      "\n",
      "+8 - ----34 / ((2 - 9)) / (5 / 8.4 - (6.4) * 1.0 - 0.3 - 5 - 8) * +9.0 / 4 / (6.2) / 1 * 2 * 9.6\n",
      "\n",
      "-+-5.01 / 28.74 * 6 + (3.9349 * +(3 - 8.9) / (1) * 5.6 - 048.3 * (2.7 + ((9))) / 5.0 - 1 - (4.2) / 3.6 / 2 - 2.5) / (-+-6.3 * (6.4 - 1.8) * 8 * 3 + (4.4 + 8.8) * (7) / 2 * 3.9 - (5.9) / 2.2 - 1.1 - 2) - 5.8 + (-2.3 / 0 / 8.4 * 9 + 8 / 5.1 - 2.3 - 5.4) * 350.55 + +(1 / 8 - 7 - 4.4) * 2.55 * -9.1 * +5 + 8.000\n",
      "\n",
      "((+6 * 1.8 * 9)) / 51 + (800 - -4 * --6 / -5 / 6 + +-1.8 / 7.5 * 4.4 * 9.2) * (+-(7.1) + 9) * --0.861 / --6 - +(+-3 * (4.9) / 2 * 7.2 + -9.2 / 3.0 * 0)\n",
      "\n",
      "(+65.6981 / 976.1 / +3 / (8 + 6) / 4.5) / 7 + 20051 / -+1.83 - +++0.89 * --8.6 * +-((7)) / -(8.2) / +(7) * 1 - 13.3\n",
      "\n",
      "(--+(6 - ((8)) * 6.8) / -(4 + 5) / 08 * -5.1 / 4 / 2 / 8.6) + 5.87 * ++3889 / -2.4 * 1.41 * 203.3 / +6.2 / (9.7) * 8 / 7\n",
      "\n",
      "(((3.7)) * -54.7 / 63 / (3.4 + 0.2) - (+4 * 0.2 - 5)) * 08 * 5\n",
      "\n",
      "2844 * 11 * ((9 * 2.7 - 7) / ++((6)) / 9 / 6.9 - (1.6 - 9.4) / -2.8 + (6.3) / 0.6 * 4 - 7.9 / 3.2) + 970 * 20.7 * 172.3 / +28 / (5.2 * 1.1 - 7.6 - 7.5) / (9.6 + 2)\n",
      "\n",
      "(-(-1 * 9 / 3.7) / (+2) / +5.78) * +-+((5)) / 8.0 / -(+3) - +((6.6 - 3) / ++9 * +3 / 1.3 / 9) * 397 - 4.05 * 1.5 / (+9 / 1.0 / 4.5) * 58 / 3.0 / 1.4\n",
      "\n",
      "((8 + 6 - 3.2 + 6)) * +975 / 1 + -7.573 / 2 * -0 * ((3) / 2 / 9 - 8 + 9) / -78 * 88.49 + +246.9 * 6 * +4.72 / +-(9.3)\n",
      "\n"
     ]
    }
   ],
   "source": [
    "for i in range(10):\n",
    "    s = gf1.fuzz(key=start_faulty1)\n",
    "    for t in parser1.parse(s):\n",
    "        print(tree_to_str(t))\n",
    "    print()"
   ]
  },
  {
   "cell_type": "markdown",
   "metadata": {},
   "source": [
    "A few parses"
   ]
  },
  {
   "cell_type": "code",
   "execution_count": 102,
   "metadata": {},
   "outputs": [
    {
     "name": "stdout",
     "output_type": "stream",
     "text": [
      "((2))\n"
     ]
    }
   ],
   "source": [
    "for tree in parser1.parse('((2))'):\n",
    "    print(tree_to_str(tree))"
   ]
  },
  {
   "cell_type": "code",
   "execution_count": 103,
   "metadata": {},
   "outputs": [
    {
     "name": "stdout",
     "output_type": "stream",
     "text": [
      "((1 + 1))\n"
     ]
    }
   ],
   "source": [
    "for tree in parser1.parse('((1 + 1))'):\n",
    "    print(tree_to_str(tree))"
   ]
  },
  {
   "cell_type": "code",
   "execution_count": 104,
   "metadata": {},
   "outputs": [
    {
     "name": "stdout",
     "output_type": "stream",
     "text": [
      "at '1 + 2'\n"
     ]
    }
   ],
   "source": [
    "try:\n",
    "    for tree in parser1.parse('1 + 2'):\n",
    "        print(tree)\n",
    "except SyntaxError as e:\n",
    "    print(e)"
   ]
  },
  {
   "cell_type": "code",
   "execution_count": 105,
   "metadata": {},
   "outputs": [
    {
     "name": "stdout",
     "output_type": "stream",
     "text": [
      "1 + ((3))\n"
     ]
    }
   ],
   "source": [
    "for tree in parser1.parse('1 + ((3))'):\n",
    "    print(tree_to_str(tree))"
   ]
  },
  {
   "cell_type": "markdown",
   "metadata": {},
   "source": [
    "## Adding Another Fault"
   ]
  },
  {
   "cell_type": "code",
   "execution_count": 106,
   "metadata": {},
   "outputs": [
    {
     "name": "stdout",
     "output_type": "stream",
     "text": [
      "Stripping: ['<start>']\n"
     ]
    },
    {
     "data": {
      "text/plain": [
       "{'<start F1>': [['<expr F1>']],\n",
       " '<expr F1>': [['<term F1>'],\n",
       "  ['<term F1>', ' + ', '<expr>'],\n",
       "  ['<term F1>', ' - ', '<expr>'],\n",
       "  ['<term>', ' + ', '<expr F1>'],\n",
       "  ['<term>', ' - ', '<expr F1>']],\n",
       " '<term F1>': [['<factor F1>'],\n",
       "  ['<factor F1>', ' * ', '<term>'],\n",
       "  ['<factor F1>', ' / ', '<term>'],\n",
       "  ['<factor>', ' * ', '<term F1>'],\n",
       "  ['<factor>', ' / ', '<term F1>']],\n",
       " '<expr>': [['<term>'],\n",
       "  ['<term>', ' + ', '<expr>'],\n",
       "  ['<term>', ' - ', '<expr>']],\n",
       " '<term>': [['<factor>'],\n",
       "  ['<factor>', ' * ', '<term>'],\n",
       "  ['<factor>', ' / ', '<term>']],\n",
       " '<factor F1>': [['(', '<expr F1>', ')'],\n",
       "  ['+', '<factor F1>'],\n",
       "  ['-', '<factor F1>'],\n",
       "  ['<factor L1_1>']],\n",
       " '<factor>': [['(', '<expr>', ')'],\n",
       "  ['+', '<factor>'],\n",
       "  ['-', '<factor>'],\n",
       "  ['<integer>'],\n",
       "  ['<integer>', '.', '<integer>']],\n",
       " '<factor L1_1>': [['(', '<expr L1_1>', ')']],\n",
       " '<expr L1_1>': [['<term L1_1>']],\n",
       " '<term L1_1>': [['<factor L1_2>']],\n",
       " '<factor L1_2>': [['(', '<expr>', ')']],\n",
       " '<integer>': [['<digit>'], ['<digit>', '<integer>']],\n",
       " '<digit>': [['0'],\n",
       "  ['1'],\n",
       "  ['2'],\n",
       "  ['3'],\n",
       "  ['4'],\n",
       "  ['5'],\n",
       "  ['6'],\n",
       "  ['7'],\n",
       "  ['8'],\n",
       "  ['9']]}"
      ]
     },
     "execution_count": 106,
     "metadata": {},
     "output_type": "execute_result"
    }
   ],
   "source": [
    "f2_grammar = grammar_gc(faulty_grammar1, start_faulty1); f2_grammar"
   ]
  },
  {
   "cell_type": "markdown",
   "metadata": {},
   "source": [
    "### Abstract nodes"
   ]
  },
  {
   "cell_type": "code",
   "execution_count": 107,
   "metadata": {},
   "outputs": [],
   "source": [
    "abs_path_2 = [0, 2, 0, 0, 1, 0, 0, 1, 0, 2]\n",
    "tree2 = find_node(parsed_expr, abs_path_2)"
   ]
  },
  {
   "cell_type": "code",
   "execution_count": 108,
   "metadata": {},
   "outputs": [
    {
     "data": {
      "text/plain": [
       "('<term>',\n",
       " [('<factor>', [('<integer>', [('<digit>', [('3', [])])])]),\n",
       "  (' / ', []),\n",
       "  ('<term>', [('<factor>', [('<integer>', [('<digit>', [('4', [])])])])])])"
      ]
     },
     "execution_count": 108,
     "metadata": {},
     "output_type": "execute_result"
    }
   ],
   "source": [
    "tree2"
   ]
  },
  {
   "cell_type": "code",
   "execution_count": 109,
   "metadata": {},
   "outputs": [
    {
     "data": {
      "text/plain": [
       "('<term>', [('<factor>', [('<integer>', [('<digit>', [('4', [])])])])])"
      ]
     },
     "execution_count": 109,
     "metadata": {},
     "output_type": "execute_result"
    }
   ],
   "source": [
    "find_node(tree2, [2])"
   ]
  },
  {
   "cell_type": "code",
   "execution_count": 110,
   "metadata": {},
   "outputs": [],
   "source": [
    "abs_tree2 = mark_abstract_nodes(tree2, [[0], [2]])"
   ]
  },
  {
   "cell_type": "code",
   "execution_count": 111,
   "metadata": {},
   "outputs": [
    {
     "data": {
      "text/plain": [
       "'<factor> / <term>'"
      ]
     },
     "execution_count": 111,
     "metadata": {},
     "output_type": "execute_result"
    }
   ],
   "source": [
    "tree_to_str_a(abs_tree2)"
   ]
  },
  {
   "cell_type": "code",
   "execution_count": 112,
   "metadata": {},
   "outputs": [
    {
     "data": {
      "text/plain": [
       "('<term>',\n",
       " [('<factor>',\n",
       "   [('<integer>',\n",
       "     [('<digit>', [('3', [], {'abstract': False})], {'abstract': False})],\n",
       "     {'abstract': False})],\n",
       "   {'abstract': True}),\n",
       "  (' / ', [], {'abstract': False}),\n",
       "  ('<term>',\n",
       "   [('<factor>',\n",
       "     [('<integer>',\n",
       "       [('<digit>', [('4', [], {'abstract': False})], {'abstract': False})],\n",
       "       {'abstract': False})],\n",
       "     {'abstract': False})],\n",
       "   {'abstract': True})],\n",
       " {'abstract': False})"
      ]
     },
     "execution_count": 112,
     "metadata": {},
     "output_type": "execute_result"
    }
   ],
   "source": [
    "abs_tree2"
   ]
  },
  {
   "cell_type": "markdown",
   "metadata": {},
   "source": [
    "### Characterizing node"
   ]
  },
  {
   "cell_type": "code",
   "execution_count": 113,
   "metadata": {
    "scrolled": true
   },
   "outputs": [
    {
     "data": {
      "text/plain": [
       "('<term>',\n",
       " [('<factor>',\n",
       "   [('<integer>',\n",
       "     [('<digit>', [('3', [], {'abstract': False})], {'abstract': False})],\n",
       "     {'abstract': False})],\n",
       "   {'abstract': True}),\n",
       "  (' / ', [], {'abstract': False}),\n",
       "  ('<term>',\n",
       "   [('<factor>',\n",
       "     [('<integer>',\n",
       "       [('<digit>', [('4', [], {'abstract': False})], {'abstract': False})],\n",
       "       {'abstract': False})],\n",
       "     {'abstract': False})],\n",
       "   {'abstract': True})],\n",
       " {'abstract': False})"
      ]
     },
     "execution_count": 113,
     "metadata": {},
     "output_type": "execute_result"
    }
   ],
   "source": [
    "abs_tree_cnode2 = find_charecterizing_node(abs_tree2); abs_tree_cnode2"
   ]
  },
  {
   "cell_type": "code",
   "execution_count": 114,
   "metadata": {},
   "outputs": [
    {
     "data": {
      "text/plain": [
       "('<term L2_1>',\n",
       " [('<factor>',\n",
       "   [('<integer>',\n",
       "     [('<digit>', [('3', [], {'abstract': False})], {'abstract': False})],\n",
       "     {'abstract': False})],\n",
       "   {'abstract': True}),\n",
       "  (' / ', [], {'abstract': False}),\n",
       "  ('<term>',\n",
       "   [('<factor>',\n",
       "     [('<integer>',\n",
       "       [('<digit>', [('4', [], {'abstract': False})], {'abstract': False})],\n",
       "       {'abstract': False})],\n",
       "     {'abstract': False})],\n",
       "   {'abstract': True})],\n",
       " {'abstract': False})"
      ]
     },
     "execution_count": 114,
     "metadata": {},
     "output_type": "execute_result"
    }
   ],
   "source": [
    "c_node2 = mark_faulty_nodes(abs_tree_cnode2, '2'); c_node2"
   ]
  },
  {
   "cell_type": "markdown",
   "metadata": {},
   "source": [
    "### Reachable keys"
   ]
  },
  {
   "cell_type": "markdown",
   "metadata": {},
   "source": [
    "Next, we need to identify insertable positions. The complexity here is that we have some special nodes -- `L` and `F` that require special handling. For these, only the first part of the nt should be inspected. Note that the `L` node is the linearized fault pattern, while `F` is the guaranteed fault nonterminal.\n",
    "\n",
    "Simple reachability analysis works for all nodes;"
   ]
  },
  {
   "cell_type": "markdown",
   "metadata": {},
   "source": [
    " However, simple reachability is not enough. We also have to check whether `L` nodes match directly, and if so, add them to reachable."
   ]
  },
  {
   "cell_type": "markdown",
   "metadata": {},
   "source": [
    "First, we find all the `L` keys, then, choose only those keys that correspond to the characteristic node of our fault. Only these can be inspected for direct match."
   ]
  },
  {
   "cell_type": "code",
   "execution_count": 115,
   "metadata": {},
   "outputs": [],
   "source": [
    "def is_linear(key): return ' L' in key"
   ]
  },
  {
   "cell_type": "code",
   "execution_count": 116,
   "metadata": {},
   "outputs": [],
   "source": [
    "def normalize(key):\n",
    "    assert key[0], key[-1] == ('<', '>')\n",
    "    return '<%s>' % key[1:-1].split()[0]"
   ]
  },
  {
   "cell_type": "code",
   "execution_count": 117,
   "metadata": {},
   "outputs": [
    {
     "data": {
      "text/plain": [
       "'<term>'"
      ]
     },
     "execution_count": 117,
     "metadata": {},
     "output_type": "execute_result"
    }
   ],
   "source": [
    "nt_name2 = abs_tree_cnode2[0]; nt_name2"
   ]
  },
  {
   "cell_type": "code",
   "execution_count": 118,
   "metadata": {},
   "outputs": [
    {
     "data": {
      "text/plain": [
       "['<factor L1_1>', '<factor L1_2>']"
      ]
     },
     "execution_count": 118,
     "metadata": {},
     "output_type": "execute_result"
    }
   ],
   "source": [
    "L0 = [key for key in f2_grammar if is_linear(key) and normalize(key) == '<factor>']; L0"
   ]
  },
  {
   "cell_type": "code",
   "execution_count": 119,
   "metadata": {},
   "outputs": [
    {
     "data": {
      "text/plain": [
       "['<term L1_1>']"
      ]
     },
     "execution_count": 119,
     "metadata": {},
     "output_type": "execute_result"
    }
   ],
   "source": [
    "L1 = [key for key in f2_grammar if is_linear(key) and normalize(key) == nt_name2]; L1"
   ]
  },
  {
   "cell_type": "markdown",
   "metadata": {},
   "source": [
    "How many of the above list will match our new fault pattern directly? Note that we are not interested in indirect matches as they will be included in the reachable dict anyway."
   ]
  },
  {
   "cell_type": "code",
   "execution_count": 120,
   "metadata": {},
   "outputs": [],
   "source": [
    "def to_rule(children):\n",
    "    return [normalize(c[0]) if is_nt(c[0]) else c[0] for c in children]"
   ]
  },
  {
   "cell_type": "code",
   "execution_count": 121,
   "metadata": {},
   "outputs": [
    {
     "data": {
      "text/plain": [
       "['(', '<expr L1_1>', ')']"
      ]
     },
     "execution_count": 121,
     "metadata": {},
     "output_type": "execute_result"
    }
   ],
   "source": [
    "[c[0] for c in c_node1[1]]"
   ]
  },
  {
   "cell_type": "code",
   "execution_count": 122,
   "metadata": {},
   "outputs": [
    {
     "data": {
      "text/plain": [
       "['(', '<expr>', ')']"
      ]
     },
     "execution_count": 122,
     "metadata": {},
     "output_type": "execute_result"
    }
   ],
   "source": [
    "to_rule(c_node1[1])"
   ]
  },
  {
   "cell_type": "code",
   "execution_count": 123,
   "metadata": {},
   "outputs": [
    {
     "data": {
      "text/plain": [
       "('<factor L1_1>',\n",
       " [('(', [], {'abstract': False}),\n",
       "  ('<expr L1_1>',\n",
       "   [('<term L1_1>',\n",
       "     [('<factor L1_2>',\n",
       "       [('(', [], {'abstract': False}),\n",
       "        ('<expr>',\n",
       "         [('<term>',\n",
       "           [('<factor>',\n",
       "             [('<integer>',\n",
       "               [('<digit>',\n",
       "                 [('2', [], {'abstract': False})],\n",
       "                 {'abstract': False})],\n",
       "               {'abstract': False})],\n",
       "             {'abstract': False}),\n",
       "            (' * ', [], {'abstract': False}),\n",
       "            ('<term>',\n",
       "             [('<factor>',\n",
       "               [('<integer>',\n",
       "                 [('<digit>',\n",
       "                   [('3', [], {'abstract': False})],\n",
       "                   {'abstract': False})],\n",
       "                 {'abstract': False})],\n",
       "               {'abstract': False}),\n",
       "              (' / ', [], {'abstract': False}),\n",
       "              ('<term>',\n",
       "               [('<factor>',\n",
       "                 [('<integer>',\n",
       "                   [('<digit>',\n",
       "                     [('4', [], {'abstract': False})],\n",
       "                     {'abstract': False})],\n",
       "                   {'abstract': False})],\n",
       "                 {'abstract': False})],\n",
       "               {'abstract': False})],\n",
       "             {'abstract': False})],\n",
       "           {'abstract': False})],\n",
       "         {'abstract': True}),\n",
       "        (')', [], {'abstract': False})],\n",
       "       {'abstract': False})],\n",
       "     {'abstract': False})],\n",
       "   {'abstract': False}),\n",
       "  (')', [], {'abstract': False})],\n",
       " {'abstract': False})"
      ]
     },
     "execution_count": 123,
     "metadata": {},
     "output_type": "execute_result"
    }
   ],
   "source": [
    "c_node1"
   ]
  },
  {
   "cell_type": "code",
   "execution_count": 124,
   "metadata": {},
   "outputs": [
    {
     "data": {
      "text/plain": [
       "('<term L2_1>',\n",
       " [('<factor>',\n",
       "   [('<integer>',\n",
       "     [('<digit>', [('3', [], {'abstract': False})], {'abstract': False})],\n",
       "     {'abstract': False})],\n",
       "   {'abstract': True}),\n",
       "  (' / ', [], {'abstract': False}),\n",
       "  ('<term>',\n",
       "   [('<factor>',\n",
       "     [('<integer>',\n",
       "       [('<digit>', [('4', [], {'abstract': False})], {'abstract': False})],\n",
       "       {'abstract': False})],\n",
       "     {'abstract': False})],\n",
       "   {'abstract': True})],\n",
       " {'abstract': False})"
      ]
     },
     "execution_count": 124,
     "metadata": {},
     "output_type": "execute_result"
    }
   ],
   "source": [
    "c_node2"
   ]
  },
  {
   "cell_type": "markdown",
   "metadata": {},
   "source": [
    "TODO: There are two things to be careful about here: The new cnode could be more refined than the original: i.e new cnode is `(((<expr>)))` and the grammar represents `((<expr>))` or the new cnode could be more abstract: `(<expr>)`. Note that while grammar can present `((<expr ...>))`, cnode can never present `(<expr ...>)`. Unfortunately, these could be different on each abstract node, which could be many in the same cnode. These are not problematic in `f1 and f2` operations as we do not guarantee exact count, but should be handled in `f1 and not(f2)`."
   ]
  },
  {
   "cell_type": "code",
   "execution_count": 125,
   "metadata": {},
   "outputs": [],
   "source": [
    "def does_Lkey_produce_abs_pattern(grammar, key, cnode):\n",
    "    name_c, children_c, *rest = cnode\n",
    "    #assert ' ' not in name_c # not on marked cnodes\n",
    "    rule_c = to_rule(children_c)\n",
    "    nkey = normalize(key)\n",
    "    if normalize(name_c) != nkey:\n",
    "        return False\n",
    "    if is_node_abstract(cnode): # we do not need to check anymore.\n",
    "        # TODO: is the grammar more refined?\n",
    "        return True\n",
    "    \n",
    "    # a not abstract key should be linear.\n",
    "    if not is_linear(key):\n",
    "        # TODO: is the cnode more refined?\n",
    "        return False\n",
    "    # print(key, 'matches', name_c)\n",
    "\n",
    "    rules = grammar[key]\n",
    "    for rule in rules:\n",
    "        match = False\n",
    "        n_rule = [normalize(t) if is_nt(t) else t for t in rule]\n",
    "        if n_rule != rule_c: continue\n",
    "        for k,c in zip(rule, children_c):\n",
    "            if is_nt(k):\n",
    "                match = does_Lkey_produce_abs_pattern(grammar, k, c)\n",
    "            else:\n",
    "                match = (k == c[0]) # terminals; does not need to normalize\n",
    "            if not match:\n",
    "                # to the next rule\n",
    "                break\n",
    "        #print(\"    \",rule_c)\n",
    "        if match: return True\n",
    "    return False"
   ]
  },
  {
   "cell_type": "markdown",
   "metadata": {},
   "source": [
    "Verify that the `L` key of the same characteriztic node matches."
   ]
  },
  {
   "cell_type": "code",
   "execution_count": 126,
   "metadata": {},
   "outputs": [],
   "source": [
    "assert does_Lkey_produce_abs_pattern(f2_grammar, '<factor L1_1>', c_node1)"
   ]
  },
  {
   "cell_type": "markdown",
   "metadata": {},
   "source": [
    "Note: `<factor L1_2>` corresponds to a single parenthesis. It should not match abs_tree_cnode1"
   ]
  },
  {
   "cell_type": "code",
   "execution_count": 127,
   "metadata": {},
   "outputs": [],
   "source": [
    "assert not does_Lkey_produce_abs_pattern(f2_grammar, '<factor L1_2>', c_node1)"
   ]
  },
  {
   "cell_type": "markdown",
   "metadata": {},
   "source": [
    "These should not match."
   ]
  },
  {
   "cell_type": "code",
   "execution_count": 128,
   "metadata": {},
   "outputs": [],
   "source": [
    "assert not does_Lkey_produce_abs_pattern(f2_grammar, '<term L1_1>', c_node1)"
   ]
  },
  {
   "cell_type": "code",
   "execution_count": 129,
   "metadata": {},
   "outputs": [],
   "source": [
    "assert not does_Lkey_produce_abs_pattern(f2_grammar, '<term L1_1>', c_node2)"
   ]
  },
  {
   "cell_type": "markdown",
   "metadata": {},
   "source": [
    "The following should match as it is again a single parenthesis"
   ]
  },
  {
   "cell_type": "code",
   "execution_count": 130,
   "metadata": {},
   "outputs": [
    {
     "data": {
      "text/plain": [
       "'(<expr>)'"
      ]
     },
     "execution_count": 130,
     "metadata": {},
     "output_type": "execute_result"
    }
   ],
   "source": [
    "v = find_node(abs_tree_cnode1, [1,0]); tree_to_str_a(v)"
   ]
  },
  {
   "cell_type": "code",
   "execution_count": 131,
   "metadata": {},
   "outputs": [],
   "source": [
    "assert does_Lkey_produce_abs_pattern(f2_grammar, '<term L1_1>', v)"
   ]
  },
  {
   "cell_type": "markdown",
   "metadata": {},
   "source": [
    "Now, we can extend our reachability; that is if `<term L1_1>` does match the given characteristic node, then reaching or being `<term L1_1>` is also sufficient for reachability."
   ]
  },
  {
   "cell_type": "code",
   "execution_count": 132,
   "metadata": {},
   "outputs": [],
   "source": [
    "def similar_nodes_to_cnode(f_grammar, cnode):\n",
    "    c_node_key = normalize(cnode[0])\n",
    "    # get all the matching Linear nodes to the characteristic node's starting key\n",
    "    Lx = [key for key in f_grammar if is_linear(key) and normalize(key) == c_node_key]\n",
    "    extra_reach = [kx for kx in Lx if does_Lkey_produce_abs_pattern(f_grammar, kx, cnode)]\n",
    "    return extra_reach"
   ]
  },
  {
   "cell_type": "markdown",
   "metadata": {},
   "source": [
    "Only `<factro L1_1>` (double paren) should match `cnode1`. In particular, `<factor L1_2>` (single paren) should not match the `cnode1`."
   ]
  },
  {
   "cell_type": "code",
   "execution_count": 133,
   "metadata": {},
   "outputs": [
    {
     "name": "stdout",
     "output_type": "stream",
     "text": [
      "<factor L2x_1>\n"
     ]
    },
    {
     "data": {
      "text/plain": [
       "['<factor L1_1>']"
      ]
     },
     "execution_count": 133,
     "metadata": {},
     "output_type": "execute_result"
    }
   ],
   "source": [
    "cx_node1 = mark_faulty_nodes(abs_tree_cnode1, '2x'); print(cx_node1[0])\n",
    "er1 = similar_nodes_to_cnode(f2_grammar, cx_node1); er1"
   ]
  },
  {
   "cell_type": "code",
   "execution_count": 134,
   "metadata": {},
   "outputs": [
    {
     "data": {
      "text/plain": [
       "[]"
      ]
     },
     "execution_count": 134,
     "metadata": {},
     "output_type": "execute_result"
    }
   ],
   "source": [
    "similar_nodes_to_cnode(f2_grammar, c_node2)"
   ]
  },
  {
   "cell_type": "code",
   "execution_count": null,
   "metadata": {},
   "outputs": [],
   "source": []
  },
  {
   "cell_type": "code",
   "execution_count": 135,
   "metadata": {},
   "outputs": [],
   "source": [
    "reachable2 = reachable_dict(f2_grammar)"
   ]
  },
  {
   "cell_type": "code",
   "execution_count": 136,
   "metadata": {
    "scrolled": false
   },
   "outputs": [
    {
     "name": "stdout",
     "output_type": "stream",
     "text": [
      "<start F1>\n",
      "   <integer>\n",
      "   <factor>\n",
      "   <expr F1>\n",
      "   <digit>\n",
      "   <factor F1>\n",
      "   <term F1>\n",
      "   <term L1_1>\n",
      "   <expr>\n",
      "   <term>\n",
      "   <factor L1_2>\n",
      "   <expr L1_1>\n",
      "   <factor L1_1>\n",
      "\n",
      "<expr F1>\n",
      "   <integer>\n",
      "   <factor>\n",
      "   <expr F1>\n",
      "   <digit>\n",
      "   <factor F1>\n",
      "   <term F1>\n",
      "   <term L1_1>\n",
      "   <expr>\n",
      "   <term>\n",
      "   <factor L1_2>\n",
      "   <expr L1_1>\n",
      "   <factor L1_1>\n",
      "\n",
      "<term F1>\n",
      "   <integer>\n",
      "   <factor>\n",
      "   <expr F1>\n",
      "   <digit>\n",
      "   <factor F1>\n",
      "   <term F1>\n",
      "   <expr>\n",
      "   <term>\n",
      "   <factor L1_2>\n",
      "   <factor L1_1>\n",
      "   <term L1_1>\n",
      "   <expr L1_1>\n",
      "\n",
      "<expr>\n",
      "   <integer>\n",
      "   <factor>\n",
      "   <digit>\n",
      "   <expr>\n",
      "   <term>\n",
      "\n",
      "<term>\n",
      "   <integer>\n",
      "   <factor>\n",
      "   <digit>\n",
      "   <expr>\n",
      "   <term>\n",
      "\n",
      "<factor F1>\n",
      "   <integer>\n",
      "   <factor>\n",
      "   <expr F1>\n",
      "   <digit>\n",
      "   <factor F1>\n",
      "   <term F1>\n",
      "   <expr>\n",
      "   <term>\n",
      "   <factor L1_2>\n",
      "   <factor L1_1>\n",
      "   <term L1_1>\n",
      "   <expr L1_1>\n",
      "\n",
      "<factor>\n",
      "   <integer>\n",
      "   <factor>\n",
      "   <digit>\n",
      "   <expr>\n",
      "   <term>\n",
      "\n",
      "<factor L1_1>\n",
      "   <integer>\n",
      "   <factor>\n",
      "   <digit>\n",
      "   <expr>\n",
      "   <term>\n",
      "   <factor L1_2>\n",
      "   <term L1_1>\n",
      "   <expr L1_1>\n",
      "\n",
      "<expr L1_1>\n",
      "   <integer>\n",
      "   <factor>\n",
      "   <digit>\n",
      "   <expr>\n",
      "   <term>\n",
      "   <factor L1_2>\n",
      "   <term L1_1>\n",
      "\n",
      "<term L1_1>\n",
      "   <integer>\n",
      "   <factor>\n",
      "   <digit>\n",
      "   <expr>\n",
      "   <term>\n",
      "   <factor L1_2>\n",
      "\n",
      "<factor L1_2>\n",
      "   <integer>\n",
      "   <factor>\n",
      "   <digit>\n",
      "   <expr>\n",
      "   <term>\n",
      "\n",
      "<integer>\n",
      "   <digit>\n",
      "   <integer>\n",
      "\n",
      "<digit>\n",
      "\n"
     ]
    }
   ],
   "source": [
    "for k in reachable2:\n",
    "    print(k)\n",
    "    for v in reachable2[k]:\n",
    "        print(\"  \", v)\n",
    "    print()"
   ]
  },
  {
   "cell_type": "markdown",
   "metadata": {},
   "source": [
    "If we are inserting `cx_node1`, then `<factor L1_1>` should be considered similar to `<factor>`, but no other factor."
   ]
  },
  {
   "cell_type": "code",
   "execution_count": null,
   "metadata": {},
   "outputs": [],
   "source": []
  },
  {
   "cell_type": "code",
   "execution_count": null,
   "metadata": {},
   "outputs": [],
   "source": []
  },
  {
   "cell_type": "code",
   "execution_count": null,
   "metadata": {},
   "outputs": [],
   "source": []
  },
  {
   "cell_type": "code",
   "execution_count": null,
   "metadata": {},
   "outputs": [],
   "source": []
  },
  {
   "cell_type": "code",
   "execution_count": 137,
   "metadata": {},
   "outputs": [
    {
     "data": {
      "text/plain": [
       "{'<term L2_1>': [('<factor>', ' / ', '<term>')]}"
      ]
     },
     "execution_count": 137,
     "metadata": {},
     "output_type": "execute_result"
    }
   ],
   "source": [
    "faulty_node_to_linear_grammar(abs_tree_cnode2, '2')"
   ]
  },
  {
   "cell_type": "code",
   "execution_count": null,
   "metadata": {},
   "outputs": [],
   "source": []
  },
  {
   "cell_type": "code",
   "execution_count": 138,
   "metadata": {},
   "outputs": [
    {
     "name": "stdout",
     "output_type": "stream",
     "text": [
      "<start F1 F2>\n",
      "     ['<expr F1 F2>']\n",
      "\n",
      "<expr F1 F2>\n",
      "     ['<term F1 F2>']\n",
      "     ['<term F1 F2>', ' + ', '<expr>']\n",
      "     ['<term F1>', ' + ', '<expr F2>']\n",
      "     ['<term F1 F2>', ' - ', '<expr>']\n",
      "     ['<term F1>', ' - ', '<expr F2>']\n",
      "     ['<term F2>', ' + ', '<expr F1>']\n",
      "     ['<term>', ' + ', '<expr F1 F2>']\n",
      "     ['<term F2>', ' - ', '<expr F1>']\n",
      "     ['<term>', ' - ', '<expr F1 F2>']\n",
      "\n",
      "<term F1 F2>\n",
      "     ['<factor F1 F2>']\n",
      "     ['<factor F1 F2>', ' * ', '<term>']\n",
      "     ['<factor F1>', ' * ', '<term F2>']\n",
      "     ['<factor F1 F2>', ' / ', '<term>']\n",
      "     ['<factor F1>', ' / ', '<term F2>']\n",
      "     ['<factor F2>', ' * ', '<term F1>']\n",
      "     ['<factor>', ' * ', '<term F1 F2>']\n",
      "     ['<factor F2>', ' / ', '<term F1>']\n",
      "     ['<factor>', ' / ', '<term F1 F2>']\n",
      "\n",
      "<expr F2>\n",
      "     ['<term F2>']\n",
      "     ['<term F2>', ' + ', '<expr>']\n",
      "     ['<term>', ' + ', '<expr F2>']\n",
      "     ['<term F2>', ' - ', '<expr>']\n",
      "     ['<term>', ' - ', '<expr F2>']\n",
      "\n",
      "<term F2>\n",
      "     ['<factor F2>']\n",
      "     ['<factor F2>', ' * ', '<term>']\n",
      "     ['<factor>', ' * ', '<term F2>']\n",
      "     ['<factor F2>', ' / ', '<term>']\n",
      "     ['<factor>', ' / ', '<term F2>']\n",
      "\n",
      "<factor F1 F2>\n",
      "     ['(', '<expr F1 F2>', ')']\n",
      "     ['+', '<factor F1 F2>']\n",
      "     ['-', '<factor F1 F2>']\n",
      "     ['<factor L1_1 F2>']\n",
      "\n",
      "<factor F2>\n",
      "     ['(', '<expr F2>', ')']\n",
      "     ['+', '<factor F2>']\n",
      "     ['-', '<factor F2>']\n",
      "\n",
      "<factor L1_1 F2>\n",
      "     ['(', '<expr L1_1 F2>', ')']\n",
      "\n",
      "<expr L1_1 F2>\n",
      "     ['<term L1_1 F2>']\n",
      "\n",
      "<term L1_1 F2>\n",
      "     ['<factor L1_2 F2>']\n",
      "\n",
      "<factor L1_2 F2>\n",
      "     ['(', '<expr F2>', ')']\n",
      "\n",
      "<integer F2>\n",
      "\n",
      "<digit F2>\n",
      "\n"
     ]
    }
   ],
   "source": [
    "for key in f2_grammar:\n",
    "    fk, rules = insert_into_key(f2_grammar, key, '<factor>', [], '2', reachable2)\n",
    "    print(fk)\n",
    "    for r in rules:\n",
    "        print('    ', r)\n",
    "    print()"
   ]
  },
  {
   "cell_type": "code",
   "execution_count": 139,
   "metadata": {},
   "outputs": [],
   "source": [
    "faulty_node2 = abs_tree_cnode2"
   ]
  },
  {
   "cell_type": "code",
   "execution_count": 140,
   "metadata": {},
   "outputs": [],
   "source": [
    "def get_faulty_grammar(grammar, start_symbol, fault_node, f_idx):\n",
    "    def L_prefix(i): return '%d' % i\n",
    "    def F_prefix(i): return '%d' % i\n",
    "    prefix_l = L_prefix(f_idx)\n",
    "    prefix_f = F_prefix(f_idx)\n",
    "    key_f = fault_node[0]\n",
    "    # First, get the linear grammar\n",
    "\n",
    "    g = faulty_node_to_linear_grammar(fault_node, prefix_l)\n",
    "    new_grammar = {**g, **grammar}\n",
    "    \n",
    "    reachable = reachable_dict(grammar)\n",
    "    similar_nodes = similar_nodes_to_cnode(grammar, fault_node)\n",
    "    # the new grammar contains the faulty keys and their definitions.\n",
    "    # next, want to insert the fault prefix_f into each insertable positions. \n",
    "    # the insertable locations are those that can reach fsym\n",
    "    insert_into_grammar(grammar, new_grammar, key_f, similar_nodes, prefix_f, reachable)\n",
    "\n",
    "    # now, the faulty key is an alternative to the original\n",
    "    fkey = mark_faulty_name(key_f, prefix_l, 1) # the starting in make_faulty is 1\n",
    "    fsym = to_faulty_key(key_f, prefix_f)\n",
    "    new_grammar[fsym].append([fkey])\n",
    "        \n",
    "    return to_faulty_key(start_symbol, F_prefix(f_idx)), new_grammar"
   ]
  },
  {
   "cell_type": "code",
   "execution_count": 141,
   "metadata": {},
   "outputs": [
    {
     "name": "stdout",
     "output_type": "stream",
     "text": [
      "Stripping: ['<start>', '<start F1>', '<start F2>']\n"
     ]
    },
    {
     "data": {
      "text/plain": [
       "{'<start F1 F2>': [['<expr F1 F2>']],\n",
       " '<expr F1 F2>': [['<term F1 F2>'],\n",
       "  ['<term F1 F2>', ' + ', '<expr>'],\n",
       "  ['<term F1 F2>', ' - ', '<expr>'],\n",
       "  ['<term F1>', ' + ', '<expr F2>'],\n",
       "  ['<term F1>', ' - ', '<expr F2>'],\n",
       "  ['<term F2>', ' + ', '<expr F1>'],\n",
       "  ['<term F2>', ' - ', '<expr F1>'],\n",
       "  ['<term>', ' + ', '<expr F1 F2>'],\n",
       "  ['<term>', ' - ', '<expr F1 F2>']],\n",
       " '<term F1 F2>': [['<factor F1 F2>'],\n",
       "  ['<factor F1 F2>', ' * ', '<term>'],\n",
       "  ['<factor F1 F2>', ' / ', '<term>'],\n",
       "  ['<factor F1>', ' * ', '<term F2>'],\n",
       "  ['<factor F1>', ' / ', '<term F2>'],\n",
       "  ['<factor F2>', ' * ', '<term F1>'],\n",
       "  ['<factor F2>', ' / ', '<term F1>'],\n",
       "  ['<factor>', ' * ', '<term F1 F2>'],\n",
       "  ['<factor>', ' / ', '<term F1 F2>']],\n",
       " '<expr>': [['<term>'],\n",
       "  ['<term>', ' + ', '<expr>'],\n",
       "  ['<term>', ' - ', '<expr>']],\n",
       " '<term F1>': [['<factor F1>'],\n",
       "  ['<factor F1>', ' * ', '<term>'],\n",
       "  ['<factor F1>', ' / ', '<term>'],\n",
       "  ['<factor>', ' * ', '<term F1>'],\n",
       "  ['<factor>', ' / ', '<term F1>']],\n",
       " '<expr F2>': [['<term F2>'],\n",
       "  ['<term F2>', ' + ', '<expr>'],\n",
       "  ['<term F2>', ' - ', '<expr>'],\n",
       "  ['<term>', ' + ', '<expr F2>'],\n",
       "  ['<term>', ' - ', '<expr F2>']],\n",
       " '<term F2>': [['<factor F2>'],\n",
       "  ['<factor F2>', ' * ', '<term>'],\n",
       "  ['<factor F2>', ' / ', '<term>'],\n",
       "  ['<factor>', ' * ', '<term F2>'],\n",
       "  ['<factor>', ' / ', '<term F2>'],\n",
       "  ['<term L2_1>']],\n",
       " '<expr F1>': [['<term F1>'],\n",
       "  ['<term F1>', ' + ', '<expr>'],\n",
       "  ['<term F1>', ' - ', '<expr>'],\n",
       "  ['<term>', ' + ', '<expr F1>'],\n",
       "  ['<term>', ' - ', '<expr F1>']],\n",
       " '<term>': [['<factor>'],\n",
       "  ['<factor>', ' * ', '<term>'],\n",
       "  ['<factor>', ' / ', '<term>']],\n",
       " '<factor F1 F2>': [['(', '<expr F1 F2>', ')'],\n",
       "  ['+', '<factor F1 F2>'],\n",
       "  ['-', '<factor F1 F2>'],\n",
       "  ['<factor L1_1 F2>']],\n",
       " '<factor F1>': [['(', '<expr F1>', ')'],\n",
       "  ['+', '<factor F1>'],\n",
       "  ['-', '<factor F1>'],\n",
       "  ['<factor L1_1>']],\n",
       " '<factor F2>': [['(', '<expr F2>', ')'],\n",
       "  ['+', '<factor F2>'],\n",
       "  ['-', '<factor F2>']],\n",
       " '<factor>': [['(', '<expr>', ')'],\n",
       "  ['+', '<factor>'],\n",
       "  ['-', '<factor>'],\n",
       "  ['<integer>'],\n",
       "  ['<integer>', '.', '<integer>']],\n",
       " '<factor L1_1 F2>': [['(', '<expr L1_1 F2>', ')']],\n",
       " '<expr L1_1 F2>': [['<term L1_1 F2>']],\n",
       " '<term L1_1 F2>': [['<factor L1_2 F2>']],\n",
       " '<factor L1_2 F2>': [['(', '<expr F2>', ')']],\n",
       " '<factor L1_1>': [['(', '<expr L1_1>', ')']],\n",
       " '<expr L1_1>': [['<term L1_1>']],\n",
       " '<term L1_1>': [['<factor L1_2>']],\n",
       " '<factor L1_2>': [['(', '<expr>', ')']],\n",
       " '<integer>': [['<digit>'], ['<digit>', '<integer>']],\n",
       " '<digit>': [['0'],\n",
       "  ['1'],\n",
       "  ['2'],\n",
       "  ['3'],\n",
       "  ['4'],\n",
       "  ['5'],\n",
       "  ['6'],\n",
       "  ['7'],\n",
       "  ['8'],\n",
       "  ['9']],\n",
       " '<term L2_1>': [['<factor>', ' / ', '<term>']]}"
      ]
     },
     "execution_count": 141,
     "metadata": {},
     "output_type": "execute_result"
    }
   ],
   "source": [
    "start_faulty2, faulty_grammar2_ = get_faulty_grammar(faulty_grammar1, start_faulty1, faulty_node2, 2);\n",
    "faulty_grammar2 = grammar_gc(faulty_grammar2_, start_faulty2); faulty_grammar2"
   ]
  },
  {
   "cell_type": "code",
   "execution_count": 142,
   "metadata": {},
   "outputs": [],
   "source": [
    "gf2 = LimitFuzzer(faulty_grammar2)\n",
    "parser2 = Parser(faulty_grammar2, canonical=True, start_symbol=start_faulty2)"
   ]
  },
  {
   "cell_type": "code",
   "execution_count": 143,
   "metadata": {
    "scrolled": false
   },
   "outputs": [
    {
     "name": "stdout",
     "output_type": "stream",
     "text": [
      "++-(-1.2 * -6 / 2.3 * 6.0 + 3.0 - 7 * 4.8) / +--((9)) / (6 - -5 - 7 / 1.4 / 8.8) / +-(8.5 / 4.0) * -7 + 3 * 3 + +-67 / -6.1260\n",
      "++-(-1.2 * -6 / 2.3 * 6.0 + 3.0 - 7 * 4.8) / +--((9)) / (6 - -5 - 7 / 1.4 / 8.8) / +-(8.5 / 4.0) * -7 + 3 * 3 + +-67 / -6.1260\n",
      "++-(-1.2 * -6 / 2.3 * 6.0 + 3.0 - 7 * 4.8) / +--((9)) / (6 - -5 - 7 / 1.4 / 8.8) / +-(8.5 / 4.0) * -7 + 3 * 3 + +-67 / -6.1260\n",
      "\n",
      "4 / 1.5 * 0 * -((8.8)) * 53.0 * --+9 / (4.6 + 7.2) + (354.1 + +0 / (7.7) / 0 - +(6) * -9.2 * 6.2 - 3 * 8 * 2 + 8.1 * 3.1) * (-1 / 57.2 * (0.3))\n",
      "4 / 1.5 * 0 * -((8.8)) * 53.0 * --+9 / (4.6 + 7.2) + (354.1 + +0 / (7.7) / 0 - +(6) * -9.2 * 6.2 - 3 * 8 * 2 + 8.1 * 3.1) * (-1 / 57.2 * (0.3))\n",
      "\n",
      "09177481.0 * -+-+++-(0.1 / 7.2) + -0.2 * 99.13 * +-0.540 - 463.4 * 3.8 / 7.553 * (7.7 * 2.2 - 0 + 9.7) - -((9.3)) * 2 / 40 - 1 / 7.1\n",
      "09177481.0 * -+-+++-(0.1 / 7.2) + -0.2 * 99.13 * +-0.540 - 463.4 * 3.8 / 7.553 * (7.7 * 2.2 - 0 + 9.7) - -((9.3)) * 2 / 40 - 1 / 7.1\n",
      "\n",
      "((63 / +3 / 3.9 - (0.3) / 3 / 0.5 + 8 / 6 + 5 + 1.4 / 5.7) / +213 / --+4 / +-2 / -9 / 8 * 5.2 - +3 + (5.3 * 2.4) * +(4.3) * 1.9 + +2 * +4.9 * 5.3 / 9 * 8.8 / (8 - ((8)) / 2.2 + 4.7) * 5.5 + +4 * 9 / 1 - 8.0 / 7 - 2) / 8 / -20768 - +0 * 048.6\n",
      "((63 / +3 / 3.9 - (0.3) / 3 / 0.5 + 8 / 6 + 5 + 1.4 / 5.7) / +213 / --+4 / +-2 / -9 / 8 * 5.2 - +3 + (5.3 * 2.4) * +(4.3) * 1.9 + +2 * +4.9 * 5.3 / 9 * 8.8 / (8 - ((8)) / 2.2 + 4.7) * 5.5 + +4 * 9 / 1 - 8.0 / 7 - 2) / 8 / -20768 - +0 * 048.6\n",
      "\n",
      "-((4 / 0.5 + 1.3 - 4)) * (57 / --+(3 / 4.4) / 38.54 * (8.9) / 4 / 4) / +-(6 / 1.7 * 1) / 3 / (0 + 4.3 * 2) / 895 / 91.01 / (7.0) / 4 * 2\n",
      "-((4 / 0.5 + 1.3 - 4)) * (57 / --+(3 / 4.4) / 38.54 * (8.9) / 4 / 4) / +-(6 / 1.7 * 1) / 3 / (0 + 4.3 * 2) / 895 / 91.01 / (7.0) / 4 * 2\n",
      "-((4 / 0.5 + 1.3 - 4)) * (57 / --+(3 / 4.4) / 38.54 * (8.9) / 4 / 4) / +-(6 / 1.7 * 1) / 3 / (0 + 4.3 * 2) / 895 / 91.01 / (7.0) / 4 * 2\n",
      "-((4 / 0.5 + 1.3 - 4)) * (57 / --+(3 / 4.4) / 38.54 * (8.9) / 4 / 4) / +-(6 / 1.7 * 1) / 3 / (0 + 4.3 * 2) / 895 / 91.01 / (7.0) / 4 * 2\n",
      "\n",
      "-96 / +59.538 - 953 + 5 / 710.4 + ((0.0 - 1.4)) - 421.74 * (2 - 8.5 * (6 + 1 * -(((8.5)) * 9)) * 4.2) / +7 + 2.957 - (8.5 - 3)\n",
      "-96 / +59.538 - 953 + 5 / 710.4 + ((0.0 - 1.4)) - 421.74 * (2 - 8.5 * (6 + 1 * -(((8.5)) * 9)) * 4.2) / +7 + 2.957 - (8.5 - 3)\n",
      "\n",
      "--+4.61 / (-((2 / 9) * 8 - 9.2 - 5) / +88 - -++3.1 / -(5.9 - 6.2 + 3.0 * (+((1)) * 3.2) - 7) / 8.6 * 8 / 5.2 + 6.83 - 6.0 * 0.2 - 2) / -+629 + +(029.173 / -8 / +7.3 / 9 / 6 - +5 * 6.8 / 9 + -2 * 0.8 * 9.7) * 387706 * 8.4 * --(5.8 - 2.2) * 3 / 6.40 * -8.1 - 2.51 * 28 / 078.42 + 919.8477 * (-4 / 2 / 9) / 873.8 / 19.37 + ((2.5)) / -1 * +3 * 8.5 / 4 / 6.8 + -29.4 * (9 + 0.0) * -4 * 5 * 1 - -(5) * +4.8 * 9 / 8\n",
      "--+4.61 / (-((2 / 9) * 8 - 9.2 - 5) / +88 - -++3.1 / -(5.9 - 6.2 + 3.0 * (+((1)) * 3.2) - 7) / 8.6 * 8 / 5.2 + 6.83 - 6.0 * 0.2 - 2) / -+629 + +(029.173 / -8 / +7.3 / 9 / 6 - +5 * 6.8 / 9 + -2 * 0.8 * 9.7) * 387706 * 8.4 * --(5.8 - 2.2) * 3 / 6.40 * -8.1 - 2.51 * 28 / 078.42 + 919.8477 * (-4 / 2 / 9) / 873.8 / 19.37 + ((2.5)) / -1 * +3 * 8.5 / 4 / 6.8 + -29.4 * (9 + 0.0) * -4 * 5 * 1 - -(5) * +4.8 * 9 / 8\n",
      "--+4.61 / (-((2 / 9) * 8 - 9.2 - 5) / +88 - -++3.1 / -(5.9 - 6.2 + 3.0 * (+((1)) * 3.2) - 7) / 8.6 * 8 / 5.2 + 6.83 - 6.0 * 0.2 - 2) / -+629 + +(029.173 / -8 / +7.3 / 9 / 6 - +5 * 6.8 / 9 + -2 * 0.8 * 9.7) * 387706 * 8.4 * --(5.8 - 2.2) * 3 / 6.40 * -8.1 - 2.51 * 28 / 078.42 + 919.8477 * (-4 / 2 / 9) / 873.8 / 19.37 + ((2.5)) / -1 * +3 * 8.5 / 4 / 6.8 + -29.4 * (9 + 0.0) * -4 * 5 * 1 - -(5) * +4.8 * 9 / 8\n",
      "--+4.61 / (-((2 / 9) * 8 - 9.2 - 5) / +88 - -++3.1 / -(5.9 - 6.2 + 3.0 * (+((1)) * 3.2) - 7) / 8.6 * 8 / 5.2 + 6.83 - 6.0 * 0.2 - 2) / -+629 + +(029.173 / -8 / +7.3 / 9 / 6 - +5 * 6.8 / 9 + -2 * 0.8 * 9.7) * 387706 * 8.4 * --(5.8 - 2.2) * 3 / 6.40 * -8.1 - 2.51 * 28 / 078.42 + 919.8477 * (-4 / 2 / 9) / 873.8 / 19.37 + ((2.5)) / -1 * +3 * 8.5 / 4 / 6.8 + -29.4 * (9 + 0.0) * -4 * 5 * 1 - -(5) * +4.8 * 9 / 8\n",
      "--+4.61 / (-((2 / 9) * 8 - 9.2 - 5) / +88 - -++3.1 / -(5.9 - 6.2 + 3.0 * (+((1)) * 3.2) - 7) / 8.6 * 8 / 5.2 + 6.83 - 6.0 * 0.2 - 2) / -+629 + +(029.173 / -8 / +7.3 / 9 / 6 - +5 * 6.8 / 9 + -2 * 0.8 * 9.7) * 387706 * 8.4 * --(5.8 - 2.2) * 3 / 6.40 * -8.1 - 2.51 * 28 / 078.42 + 919.8477 * (-4 / 2 / 9) / 873.8 / 19.37 + ((2.5)) / -1 * +3 * 8.5 / 4 / 6.8 + -29.4 * (9 + 0.0) * -4 * 5 * 1 - -(5) * +4.8 * 9 / 8\n",
      "--+4.61 / (-((2 / 9) * 8 - 9.2 - 5) / +88 - -++3.1 / -(5.9 - 6.2 + 3.0 * (+((1)) * 3.2) - 7) / 8.6 * 8 / 5.2 + 6.83 - 6.0 * 0.2 - 2) / -+629 + +(029.173 / -8 / +7.3 / 9 / 6 - +5 * 6.8 / 9 + -2 * 0.8 * 9.7) * 387706 * 8.4 * --(5.8 - 2.2) * 3 / 6.40 * -8.1 - 2.51 * 28 / 078.42 + 919.8477 * (-4 / 2 / 9) / 873.8 / 19.37 + ((2.5)) / -1 * +3 * 8.5 / 4 / 6.8 + -29.4 * (9 + 0.0) * -4 * 5 * 1 - -(5) * +4.8 * 9 / 8\n",
      "--+4.61 / (-((2 / 9) * 8 - 9.2 - 5) / +88 - -++3.1 / -(5.9 - 6.2 + 3.0 * (+((1)) * 3.2) - 7) / 8.6 * 8 / 5.2 + 6.83 - 6.0 * 0.2 - 2) / -+629 + +(029.173 / -8 / +7.3 / 9 / 6 - +5 * 6.8 / 9 + -2 * 0.8 * 9.7) * 387706 * 8.4 * --(5.8 - 2.2) * 3 / 6.40 * -8.1 - 2.51 * 28 / 078.42 + 919.8477 * (-4 / 2 / 9) / 873.8 / 19.37 + ((2.5)) / -1 * +3 * 8.5 / 4 / 6.8 + -29.4 * (9 + 0.0) * -4 * 5 * 1 - -(5) * +4.8 * 9 / 8\n",
      "\n",
      "((+6.2 / 8.9 / 8.5 + 0.7 * 1 - 2.8 - 6)) / 7 * 54.5 * +7 / 8 - (29.9 - 075 / ++4 / 4 / 0.2 / 8) / 1.9 + (9.54 - 97.3 * 4.9 / 6 * 7.0 + -9.6 * 3.4 * 8) + 6.6 + --4 * 5.1 / +0.1 - ((8.2 / 0.5) / 3.7) - (6 - 8.8) * 9.6 / 0.4\n",
      "((+6.2 / 8.9 / 8.5 + 0.7 * 1 - 2.8 - 6)) / 7 * 54.5 * +7 / 8 - (29.9 - 075 / ++4 / 4 / 0.2 / 8) / 1.9 + (9.54 - 97.3 * 4.9 / 6 * 7.0 + -9.6 * 3.4 * 8) + 6.6 + --4 * 5.1 / +0.1 - ((8.2 / 0.5) / 3.7) - (6 - 8.8) * 9.6 / 0.4\n",
      "((+6.2 / 8.9 / 8.5 + 0.7 * 1 - 2.8 - 6)) / 7 * 54.5 * +7 / 8 - (29.9 - 075 / ++4 / 4 / 0.2 / 8) / 1.9 + (9.54 - 97.3 * 4.9 / 6 * 7.0 + -9.6 * 3.4 * 8) + 6.6 + --4 * 5.1 / +0.1 - ((8.2 / 0.5) / 3.7) - (6 - 8.8) * 9.6 / 0.4\n",
      "((+6.2 / 8.9 / 8.5 + 0.7 * 1 - 2.8 - 6)) / 7 * 54.5 * +7 / 8 - (29.9 - 075 / ++4 / 4 / 0.2 / 8) / 1.9 + (9.54 - 97.3 * 4.9 / 6 * 7.0 + -9.6 * 3.4 * 8) + 6.6 + --4 * 5.1 / +0.1 - ((8.2 / 0.5) / 3.7) - (6 - 8.8) * 9.6 / 0.4\n",
      "\n",
      "2.09 / -((1.0 * 6 + 1 + 9.3) / (1.2 + 8.1) * 3.9 * 7 - 5.7 - -7.6 * 0.5 - 7 + -+(3 - 7.5 + 3.0 - ((8)) - 3.0) + 0) + +-(-+(5.8 / 7.4) / -2 / 3 * 7.6 - 9 + 0 * 2) * +2.51 / 3 / -+75\n",
      "2.09 / -((1.0 * 6 + 1 + 9.3) / (1.2 + 8.1) * 3.9 * 7 - 5.7 - -7.6 * 0.5 - 7 + -+(3 - 7.5 + 3.0 - ((8)) - 3.0) + 0) + +-(-+(5.8 / 7.4) / -2 / 3 * 7.6 - 9 + 0 * 2) * +2.51 / 3 / -+75\n",
      "\n",
      "6 / --+(-3 / (2 / 7) - 3 + 5 + +((1)) - 3) * +--0.744 * 5.34274\n",
      "\n"
     ]
    }
   ],
   "source": [
    "for i in range(10):\n",
    "    s = gf2.fuzz(key=start_faulty2)\n",
    "    for t in parser2.parse(s):\n",
    "        print(tree_to_str(t))\n",
    "    print()"
   ]
  }
 ],
 "metadata": {
  "kernelspec": {
   "display_name": "Python 3",
   "language": "python",
   "name": "python3"
  },
  "language_info": {
   "codemirror_mode": {
    "name": "ipython",
    "version": 3
   },
   "file_extension": ".py",
   "mimetype": "text/x-python",
   "name": "python",
   "nbconvert_exporter": "python",
   "pygments_lexer": "ipython3",
   "version": "3.6.8"
  },
  "toc": {
   "base_numbering": 1,
   "nav_menu": {},
   "number_sections": true,
   "sideBar": true,
   "skip_h1_title": false,
   "title_cell": "Table of Contents",
   "title_sidebar": "Contents",
   "toc_cell": false,
   "toc_position": {},
   "toc_section_display": true,
   "toc_window_display": true
  }
 },
 "nbformat": 4,
 "nbformat_minor": 4
}
