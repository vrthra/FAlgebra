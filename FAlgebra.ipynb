{
 "cells": [
  {
   "cell_type": "markdown",
   "metadata": {},
   "source": [
    "# Algebra of Failure Inducing Input Patterns"
   ]
  },
  {
   "cell_type": "markdown",
   "metadata": {},
   "source": [
    "We are trying to generate grammars that produce inputs that contain or does not specific behaviors (or complex combinations thereof). To do that, we extract the abstract syntactical patterns that correspond to given behaviors, and then generate a refinement grammar from the original grammar that follows the algebraic specifications. So, one can say things of the sort: I want to generate inputs with parenthesis, but discard everything with doubled parenthesis.\n",
    "\n",
    "While boolean grammars are the formalism for such things (e.g A & B & !C), and one can trivially construct multi-level recognizers for it (parse A, parse B, not parse C), generation is much harder, and as far as I can see, no one has found a way to easily generate inputs from such expressions (other than the generate and filter approach, which is really inefficient). Further, the boolean grammars are already beyond context free grammars, and our current techniques will not work on them. What we do here, is to recognize that for fault pattern additions and removal, one can stick to a context-free subset, and one can guarantee the properties of the resulting grammar.\n",
    "\n",
    "\n",
    "\n",
    "The main question being asked is, how to combine and negate fault patterns."
   ]
  },
  {
   "cell_type": "code",
   "execution_count": 1,
   "metadata": {},
   "outputs": [],
   "source": [
    "import copy"
   ]
  },
  {
   "cell_type": "markdown",
   "metadata": {},
   "source": [
    "The faults can from several different inputs. The idea is that the characterizing node, and abstraction removes the influences of the specific parse tree."
   ]
  },
  {
   "cell_type": "markdown",
   "metadata": {},
   "source": [
    "## Fault Patterns"
   ]
  },
  {
   "cell_type": "markdown",
   "metadata": {},
   "source": [
    "We define an input from which we extract our patterns. Note that we do not use the predicate; rather we assume that we already have a few such predicates."
   ]
  },
  {
   "cell_type": "code",
   "execution_count": 2,
   "metadata": {},
   "outputs": [],
   "source": [
    "expr_input =  '1 + ((2 * 3 / 4))'"
   ]
  },
  {
   "cell_type": "markdown",
   "metadata": {},
   "source": [
    "### Grammar"
   ]
  },
  {
   "cell_type": "markdown",
   "metadata": {},
   "source": [
    "A context-free grammar is represented as a Python dict, with each nonterminal symbol forming a key, and each nonterminal _defined_ by a list of expansion rules. For example, the expression grammar for parsing arithmetic expressions is given below."
   ]
  },
  {
   "cell_type": "code",
   "execution_count": 3,
   "metadata": {},
   "outputs": [],
   "source": [
    "EXPR_GRAMMAR = {'<start>': [['<expr>']],\n",
    " '<expr>': [['<term>', ' + ', '<expr>'],\n",
    "  ['<term>', ' - ', '<expr>'],\n",
    "  ['<term>']],\n",
    " '<term>': [['<factor>', ' * ', '<term>'],\n",
    "  ['<factor>', ' / ', '<term>'],\n",
    "  ['<factor>']],\n",
    " '<factor>': [['+', '<factor>'],\n",
    "  ['-', '<factor>'],\n",
    "  ['(', '<expr>', ')'],\n",
    "  ['<integer>', '.', '<integer>'],\n",
    "  ['<integer>']],\n",
    " '<integer>': [['<digit>', '<integer>'], ['<digit>']],\n",
    " '<digit>': [['0'], ['1'], ['2'], ['3'], ['4'], ['5'], ['6'], ['7'], ['8'], ['9']]}"
   ]
  },
  {
   "cell_type": "code",
   "execution_count": 4,
   "metadata": {},
   "outputs": [],
   "source": [
    "EXPR_G = {'[start]': '<start>', '[grammar]': EXPR_GRAMMAR}"
   ]
  },
  {
   "cell_type": "markdown",
   "metadata": {},
   "source": [
    "Note the convetion we used: Each nonterminal is enclosed in angle brackets. E.g. `<expr>`. We now define a function that can distinguish terminal symbols from nonterminals."
   ]
  },
  {
   "cell_type": "markdown",
   "metadata": {},
   "source": [
    "The `is_nt()` function checks if the given node is a terminal or not."
   ]
  },
  {
   "cell_type": "code",
   "execution_count": 5,
   "metadata": {},
   "outputs": [],
   "source": [
    "def is_nt(symbol):\n",
    "     return symbol and (symbol[0], symbol[-1]) == ('<', '>')"
   ]
  },
  {
   "cell_type": "markdown",
   "metadata": {},
   "source": [
    "#### The Parser"
   ]
  },
  {
   "cell_type": "markdown",
   "metadata": {},
   "source": [
    "Given the grammar, and an input, we can parse it into a derivation tree.\n",
    "The `Parser` below is from [fuzzingbook.org](https://www.fuzzingbook.org/html/Parser.html), and provides a generic context-free parser. This is present in the `src` directory."
   ]
  },
  {
   "cell_type": "code",
   "execution_count": 6,
   "metadata": {},
   "outputs": [],
   "source": [
    "from Parser import EarleyParser as Parser"
   ]
  },
  {
   "cell_type": "markdown",
   "metadata": {},
   "source": [
    "How do we check that our parse succeeded? We can convert the derivation tree back to the original string and check for equality."
   ]
  },
  {
   "cell_type": "markdown",
   "metadata": {},
   "source": [
    "The `tree_to_str()` function converts a derivation tree to its original string."
   ]
  },
  {
   "cell_type": "code",
   "execution_count": 7,
   "metadata": {},
   "outputs": [],
   "source": [
    "def tree_to_str(node):\n",
    "    name, children, *rest = node\n",
    "    if not children:\n",
    "        return name\n",
    "    return ''.join([tree_to_str(c) for c in children])"
   ]
  },
  {
   "cell_type": "code",
   "execution_count": 8,
   "metadata": {},
   "outputs": [],
   "source": [
    "Ts = tree_to_str"
   ]
  },
  {
   "cell_type": "code",
   "execution_count": 9,
   "metadata": {
    "scrolled": false
   },
   "outputs": [
    {
     "data": {
      "text/plain": [
       "'1 + ((2 * 3 / 4))'"
      ]
     },
     "execution_count": 9,
     "metadata": {},
     "output_type": "execute_result"
    }
   ],
   "source": [
    "expr_parser = Parser(EXPR_GRAMMAR, start_symbol='<start>', canonical=True)\n",
    "parsed_expr = list(expr_parser.parse(expr_input))[0]\n",
    "tree_to_str(parsed_expr)"
   ]
  },
  {
   "cell_type": "markdown",
   "metadata": {},
   "source": [
    "#### Display\n",
    "\n",
    "While converting to strings are easy, it is unsatisfying. We want to make our output look pretty, and inspect the tree structure of the parsed tree. So we define graphical tree display (code from fuzzingbook)"
   ]
  },
  {
   "cell_type": "code",
   "execution_count": 10,
   "metadata": {},
   "outputs": [],
   "source": [
    "from graphviz import Digraph"
   ]
  },
  {
   "cell_type": "code",
   "execution_count": 11,
   "metadata": {},
   "outputs": [],
   "source": [
    "from IPython.display import display, Image"
   ]
  },
  {
   "cell_type": "code",
   "execution_count": 12,
   "metadata": {},
   "outputs": [],
   "source": [
    "def zoom(v, zoom=True):\n",
    "    # return v directly if you do not want to zoom out.\n",
    "    if zoom:\n",
    "        return Image(v.render(format='png'))\n",
    "    return v"
   ]
  },
  {
   "cell_type": "code",
   "execution_count": 13,
   "metadata": {},
   "outputs": [],
   "source": [
    "class DisplayTree():\n",
    "    def __init__(self):\n",
    "        pass\n",
    "\n",
    "    def extract_node(self, node, id):\n",
    "        symbol, children, *annotation = node\n",
    "        return symbol, children, ''.join(str(a) for a in annotation)\n",
    "    \n",
    "    def node_attr(self, dot, nid, symbol, ann):\n",
    "        dot.node(repr(nid), symbol + ' ')\n",
    "        \n",
    "    def edge_attr(self, dot, start_node, stop_node):\n",
    "        dot.edge(repr(start_node), repr(stop_node))\n",
    "        \n",
    "    def graph_attr(self, dot):\n",
    "        dot.attr('node', shape='plain')\n",
    "        \n",
    "    def display(self, derivation_tree):\n",
    "        counter = 0\n",
    "        def traverse_tree(dot, tree, id=0):\n",
    "            (symbol, children, annotation) = self.extract_node(tree, id)\n",
    "            self.node_attr(dot, id, symbol, annotation)\n",
    "            if children:\n",
    "                for child in children:\n",
    "                    nonlocal counter\n",
    "                    counter += 1\n",
    "                    child_id = counter\n",
    "                    self.edge_attr(dot, id, child_id)\n",
    "                    traverse_tree(dot, child, child_id)\n",
    "        dot = Digraph(comment=\"Derivation Tree\")\n",
    "        self.graph_attr(dot)\n",
    "        traverse_tree(dot, derivation_tree)\n",
    "        return dot\n",
    "    \n",
    "    def __call__(self, dt):\n",
    "        return self.display(dt)"
   ]
  },
  {
   "cell_type": "code",
   "execution_count": 14,
   "metadata": {},
   "outputs": [],
   "source": [
    "display_tree = DisplayTree()"
   ]
  },
  {
   "cell_type": "markdown",
   "metadata": {},
   "source": [
    "We are now ready to display the tree structure."
   ]
  },
  {
   "cell_type": "code",
   "execution_count": 15,
   "metadata": {
    "scrolled": false
   },
   "outputs": [
    {
     "data": {
      "image/png": "[encoded data removed]",
      "text/plain": [
       "<IPython.core.display.Image object>"
      ]
     },
     "execution_count": 15,
     "metadata": {},
     "output_type": "execute_result"
    }
   ],
   "source": [
    "zoom(display_tree(parsed_expr))"
   ]
  },
  {
   "cell_type": "markdown",
   "metadata": {},
   "source": [
    "#### A Fuzzer"
   ]
  },
  {
   "cell_type": "markdown",
   "metadata": {},
   "source": [
    "In order to define abstraction, we need to be able to generate values based on a grammar. Our fuzzer is able to do that."
   ]
  },
  {
   "cell_type": "code",
   "execution_count": 16,
   "metadata": {},
   "outputs": [],
   "source": [
    "import random"
   ]
  },
  {
   "cell_type": "markdown",
   "metadata": {},
   "source": [
    "##### The interface"
   ]
  },
  {
   "cell_type": "code",
   "execution_count": 17,
   "metadata": {},
   "outputs": [],
   "source": [
    "class Fuzzer:\n",
    "    def __init__(self, grammar):\n",
    "        self.grammar = grammar\n",
    "\n",
    "    def fuzz(self, key='<start>', max_num=None, max_depth=None):\n",
    "        raise NotImplemented()"
   ]
  },
  {
   "cell_type": "markdown",
   "metadata": {},
   "source": [
    "##### The implementation"
   ]
  },
  {
   "cell_type": "markdown",
   "metadata": {},
   "source": [
    "The fuzzer tries to randomly choose an expansion when more than one expansion is available. If however, it goes beyond max_depth, then it chooses the cheapest nodes. The cheapest nodes are those nodes with minimum further expansion (no recursion)."
   ]
  },
  {
   "cell_type": "code",
   "execution_count": 18,
   "metadata": {},
   "outputs": [],
   "source": [
    "class LimitFuzzer(Fuzzer):\n",
    "    def symbol_cost(self, grammar, symbol, seen):\n",
    "        if symbol in self.key_cost: return self.key_cost[symbol]\n",
    "        if symbol in seen:\n",
    "            self.key_cost[symbol] = float('inf')\n",
    "            return float('inf')\n",
    "        v = min((self.expansion_cost(grammar, rule, seen | {symbol})\n",
    "                    for rule in grammar.get(symbol, [])), default=0)\n",
    "        self.key_cost[symbol] = v\n",
    "        return v\n",
    "\n",
    "    def expansion_cost(self, grammar, tokens, seen):\n",
    "        return max((self.symbol_cost(grammar, token, seen)\n",
    "                    for token in tokens if token in grammar), default=0) + 1\n",
    "\n",
    "    def gen_key(self, key, depth, max_depth):\n",
    "        if key not in self.grammar: return key\n",
    "        if depth > max_depth:\n",
    "            assert key in self.cost\n",
    "            clst = sorted([(self.cost[key][str(rule)], rule) for rule in self.grammar[key]])\n",
    "            rules = [r for c,r in clst if c == clst[0][0]]\n",
    "        else:\n",
    "            rules = self.grammar[key]\n",
    "        return self.gen_rule(random.choice(rules), depth+1, max_depth)\n",
    "\n",
    "    def gen_rule(self, rule, depth, max_depth):\n",
    "        return ''.join(self.gen_key(token, depth, max_depth) for token in rule)\n",
    "\n",
    "    def fuzz(self, key='<start>', max_depth=10):\n",
    "        return self.gen_key(key=key, depth=0, max_depth=max_depth)\n",
    "\n",
    "    def __init__(self, grammar):\n",
    "        super().__init__(grammar)\n",
    "        self.key_cost = {}\n",
    "        self.cost = self.compute_cost(grammar)\n",
    "\n",
    "    def compute_cost(self, grammar):\n",
    "        cost = {}\n",
    "        for k in grammar:\n",
    "            cost[k] = {}\n",
    "            for rule in grammar[k]:\n",
    "                cost[k][str(rule)] = self.expansion_cost(grammar, rule, set())\n",
    "        return cost"
   ]
  },
  {
   "cell_type": "code",
   "execution_count": 19,
   "metadata": {},
   "outputs": [
    {
     "data": {
      "text/plain": [
       "'-0181 * +359.4946 - 57.72 * 1.13 / 7'"
      ]
     },
     "execution_count": 19,
     "metadata": {},
     "output_type": "execute_result"
    }
   ],
   "source": [
    "expr_fuzzer = LimitFuzzer(EXPR_GRAMMAR)\n",
    "expr_fuzzer.fuzz()"
   ]
  },
  {
   "cell_type": "markdown",
   "metadata": {},
   "source": [
    "### Library functions"
   ]
  },
  {
   "cell_type": "markdown",
   "metadata": {},
   "source": [
    "Finding nodes given the path"
   ]
  },
  {
   "cell_type": "code",
   "execution_count": 20,
   "metadata": {},
   "outputs": [],
   "source": [
    "def find_node(node, path):\n",
    "    name, children, *rest = node\n",
    "    if not path:\n",
    "        return node\n",
    "    p, *path = path\n",
    "    for i,c in enumerate(children):\n",
    "        if i == p:\n",
    "            return find_node(c, path)\n",
    "    return None"
   ]
  },
  {
   "cell_type": "code",
   "execution_count": 21,
   "metadata": {},
   "outputs": [
    {
     "data": {
      "text/plain": [
       "(' + ', [])"
      ]
     },
     "execution_count": 21,
     "metadata": {},
     "output_type": "execute_result"
    }
   ],
   "source": [
    "find_node(parsed_expr, [0,1])"
   ]
  },
  {
   "cell_type": "code",
   "execution_count": 22,
   "metadata": {},
   "outputs": [
    {
     "data": {
      "text/plain": [
       "(')', [])"
      ]
     },
     "execution_count": 22,
     "metadata": {},
     "output_type": "execute_result"
    }
   ],
   "source": [
    "find_node(parsed_expr, [0,2,0,0,2])"
   ]
  },
  {
   "cell_type": "markdown",
   "metadata": {},
   "source": [
    "In the grammar, we want to compute the minimum/maximum possible expansions for each nontermainal. The reason is that, if the number of expansions is limited (1) then, marking the parent for generalization does not get us anything. For parents with those nonterminals (honorary terminals), we register their grand parent."
   ]
  },
  {
   "cell_type": "code",
   "execution_count": 23,
   "metadata": {},
   "outputs": [],
   "source": [
    "import math"
   ]
  },
  {
   "cell_type": "code",
   "execution_count": 24,
   "metadata": {},
   "outputs": [],
   "source": [
    "def find_maximum_expansions_for_key(grammar, key, seen_so_far):\n",
    "    child_expansions = 0\n",
    "    \n",
    "    for rule in grammar[key]:\n",
    "        rule_expansions = 1\n",
    "        for token in rule:\n",
    "            if token in seen_so_far:\n",
    "                return math.inf\n",
    "            if not is_nt(token):\n",
    "                # only a single expansion\n",
    "                rule_expansions *= 1\n",
    "            else:\n",
    "                v = find_maximum_expansions_for_key(grammar, token, seen_so_far | {key})\n",
    "                rule_expansions *= v\n",
    "        child_expansions += rule_expansions\n",
    "    return child_expansions"
   ]
  },
  {
   "cell_type": "code",
   "execution_count": 25,
   "metadata": {},
   "outputs": [],
   "source": [
    "def find_maximum_expansions(grammar):\n",
    "    return {k:find_maximum_expansions_for_key(grammar, k, set()) for k in grammar}"
   ]
  },
  {
   "cell_type": "code",
   "execution_count": 26,
   "metadata": {},
   "outputs": [
    {
     "data": {
      "text/plain": [
       "{'<start>': inf,\n",
       " '<expr>': inf,\n",
       " '<term>': inf,\n",
       " '<factor>': inf,\n",
       " '<integer>': inf,\n",
       " '<digit>': 10}"
      ]
     },
     "execution_count": 26,
     "metadata": {},
     "output_type": "execute_result"
    }
   ],
   "source": [
    "find_maximum_expansions(EXPR_GRAMMAR)"
   ]
  },
  {
   "cell_type": "markdown",
   "metadata": {},
   "source": [
    "First, collect the paths to the (unique) parents of each terminal symbol, then extend it by paths to the unique parents of each nonterminal that does not have enough expansions. From this, generate abstract trees with the particular node marked abstract.\n",
    "\n",
    "Next, identify recursive nonterminals in the grammar. Identify nodes that are parents of terminal symbols that are recursive. Finally, generate new trees with these recursive nodes replaced by any of their closest chidren of same kind.\n"
   ]
  },
  {
   "cell_type": "code",
   "execution_count": 27,
   "metadata": {},
   "outputs": [],
   "source": [
    "def find_matching_node_subpaths(node, fn):\n",
    "    name, children = node\n",
    "    if fn(node): return [[]]\n",
    "    paths = []\n",
    "    for i,c in enumerate(children):\n",
    "        ps_ = find_matching_node_subpaths(c, fn)\n",
    "        if ps_:\n",
    "            ps = [[i] + p_ for p_ in ps_]\n",
    "            paths.extend(ps)\n",
    "    return paths"
   ]
  },
  {
   "cell_type": "code",
   "execution_count": 28,
   "metadata": {},
   "outputs": [],
   "source": [
    "def match_factor(n):\n",
    "    return n[0] == '<factor>'"
   ]
  },
  {
   "cell_type": "code",
   "execution_count": 29,
   "metadata": {},
   "outputs": [
    {
     "name": "stdout",
     "output_type": "stream",
     "text": [
      "[0, 0, 0]\n",
      "<factor> 1\n",
      "[0, 2, 0, 0]\n",
      "<factor> ((2 * 3 / 4))\n"
     ]
    }
   ],
   "source": [
    "paths = find_matching_node_subpaths(parsed_expr, match_factor)\n",
    "for p in paths:\n",
    "    print(p)\n",
    "    n = find_node(parsed_expr, p)\n",
    "    print(n[0], tree_to_str(n))"
   ]
  },
  {
   "cell_type": "code",
   "execution_count": 30,
   "metadata": {},
   "outputs": [],
   "source": [
    "def replace_tree(node, path, newnode):\n",
    "    if not path:\n",
    "        return newnode\n",
    "    name, children = node\n",
    "    hd, *subpath = path\n",
    "    assert hd < len(children)\n",
    "    new_children = []\n",
    "    for i,c in enumerate(children):\n",
    "        if i == hd:\n",
    "            c_ = replace_tree(c, subpath, newnode)\n",
    "        else:\n",
    "            c_ = c\n",
    "        new_children.append(c_)\n",
    "    return (name, new_children)"
   ]
  },
  {
   "cell_type": "code",
   "execution_count": 31,
   "metadata": {},
   "outputs": [
    {
     "data": {
      "text/plain": [
       "'((2 * 3 / 4))'"
      ]
     },
     "execution_count": 31,
     "metadata": {},
     "output_type": "execute_result"
    }
   ],
   "source": [
    "tree_to_str(find_node(parsed_expr, [0,2,0,0]))"
   ]
  },
  {
   "cell_type": "code",
   "execution_count": 32,
   "metadata": {},
   "outputs": [
    {
     "data": {
      "text/plain": [
       "'1 + 1'"
      ]
     },
     "execution_count": 32,
     "metadata": {},
     "output_type": "execute_result"
    }
   ],
   "source": [
    "tree_to_str(replace_tree(parsed_expr, [0, 2, 0, 0], ('1', [])))"
   ]
  },
  {
   "cell_type": "markdown",
   "metadata": {},
   "source": [
    "Validating a parse tree"
   ]
  },
  {
   "cell_type": "code",
   "execution_count": 33,
   "metadata": {},
   "outputs": [],
   "source": [
    "def validate_tree(tree, grammar):\n",
    "    def keys(arr):\n",
    "        return [a[0] for a in arr]\n",
    "    name, children, *rest = tree\n",
    "    if not is_nt(name): return True\n",
    "    \n",
    "    seen = False\n",
    "    for rule in grammar[name]:\n",
    "        if keys(children) == rule:\n",
    "            seen = True\n",
    "    assert seen, name + ' needs ' + repr(grammar[name])\n",
    "    for c in children:\n",
    "        validate_tree(c, grammar)"
   ]
  },
  {
   "cell_type": "code",
   "execution_count": 34,
   "metadata": {},
   "outputs": [],
   "source": [
    "validate_tree(parsed_expr, EXPR_GRAMMAR)"
   ]
  },
  {
   "cell_type": "code",
   "execution_count": 35,
   "metadata": {},
   "outputs": [
    {
     "name": "stdout",
     "output_type": "stream",
     "text": [
      "<term> needs [['<factor>', ' * ', '<term>'], ['<factor>', ' / ', '<term>'], ['<factor>']]\n"
     ]
    }
   ],
   "source": [
    "try:\n",
    "    validate_tree(replace_tree(parsed_expr, [0, 2, 0, 0], ('1', [])), EXPR_GRAMMAR)\n",
    "except AssertionError as e:\n",
    "    print(e)"
   ]
  },
  {
   "cell_type": "code",
   "execution_count": 36,
   "metadata": {},
   "outputs": [],
   "source": [
    "rt = replace_tree(parsed_expr, [0, 2, 0, 0], ('<factor>', [('<integer>', [('<digit>',[('1', [])])])]))\n",
    "try:\n",
    "    validate_tree(rt, EXPR_GRAMMAR)\n",
    "except AssertionError as e:\n",
    "    print(e)"
   ]
  },
  {
   "cell_type": "code",
   "execution_count": 37,
   "metadata": {},
   "outputs": [
    {
     "data": {
      "text/plain": [
       "'1 + 1'"
      ]
     },
     "execution_count": 37,
     "metadata": {},
     "output_type": "execute_result"
    }
   ],
   "source": [
    "tree_to_str(rt)"
   ]
  },
  {
   "cell_type": "code",
   "execution_count": 38,
   "metadata": {},
   "outputs": [],
   "source": [
    "def grammar_gc(grammar, start_symbol):\n",
    "    def strip_key(grammar, key, order):\n",
    "        rules = sorted(grammar[key])\n",
    "        old_len = len(order)\n",
    "        for rule in rules:\n",
    "            for token in rule:\n",
    "                if is_nt(token):\n",
    "                    if token not in order:\n",
    "                        order.append(token)\n",
    "        new = order[old_len:]\n",
    "        for ckey in new:\n",
    "            strip_key(grammar, ckey, order)\n",
    "    if start_symbol not in grammar:\n",
    "        return {}\n",
    "\n",
    "    order = [start_symbol]\n",
    "    strip_key(grammar, start_symbol, order)\n",
    "    if len(order) != len(grammar.keys()):\n",
    "        stripped = [k for k in grammar if k not in order]\n",
    "        if stripped:\n",
    "            print(\"Stripping: %s\" % str(stripped))\n",
    "        faulty = [k for k in order if k not in grammar]\n",
    "        assert not faulty\n",
    "    return {k: [list(r) for r in sorted(grammar[k])] for k in order}"
   ]
  },
  {
   "cell_type": "markdown",
   "metadata": {},
   "source": [
    "## Contextualization"
   ]
  },
  {
   "cell_type": "markdown",
   "metadata": {},
   "source": [
    "The output that we get from `ddset` has nodes marked. So, we define a way to mark nodes as abstract."
   ]
  },
  {
   "cell_type": "markdown",
   "metadata": {},
   "source": [
    "### Mark the abstract nodes\n",
    "\n",
    "Given a path, we mark the node as abstract."
   ]
  },
  {
   "cell_type": "code",
   "execution_count": 39,
   "metadata": {},
   "outputs": [],
   "source": [
    "def mark_path_abstract(tree, path):\n",
    "    name, children = find_node(tree, path)\n",
    "    new_tree = replace_tree(tree, path, (name, children, {'abstract': True}))\n",
    "    return new_tree"
   ]
  },
  {
   "cell_type": "markdown",
   "metadata": {},
   "source": [
    "First, we locate a suitable node."
   ]
  },
  {
   "cell_type": "code",
   "execution_count": 40,
   "metadata": {},
   "outputs": [
    {
     "data": {
      "text/plain": [
       "'2 * 3 / 4'"
      ]
     },
     "execution_count": 40,
     "metadata": {},
     "output_type": "execute_result"
    }
   ],
   "source": [
    "abs_path_1 = [0,2,0,0,1,0,0,1]\n",
    "tree_to_str(find_node(parsed_expr, abs_path_1))"
   ]
  },
  {
   "cell_type": "code",
   "execution_count": 41,
   "metadata": {
    "scrolled": false
   },
   "outputs": [
    {
     "data": {
      "text/plain": [
       "('<start>',\n",
       " [('<expr>',\n",
       "   [('<term>', [('<factor>', [('<integer>', [('<digit>', [('1', [])])])])]),\n",
       "    (' + ', []),\n",
       "    ('<expr>',\n",
       "     [('<term>',\n",
       "       [('<factor>',\n",
       "         [('(', []),\n",
       "          ('<expr>',\n",
       "           [('<term>',\n",
       "             [('<factor>',\n",
       "               [('(', []),\n",
       "                ('<expr>',\n",
       "                 [('<term>',\n",
       "                   [('<factor>', [('<integer>', [('<digit>', [('2', [])])])]),\n",
       "                    (' * ', []),\n",
       "                    ('<term>',\n",
       "                     [('<factor>',\n",
       "                       [('<integer>', [('<digit>', [('3', [])])])]),\n",
       "                      (' / ', []),\n",
       "                      ('<term>',\n",
       "                       [('<factor>',\n",
       "                         [('<integer>', [('<digit>', [('4', [])])])])])])])],\n",
       "                 {'abstract': True}),\n",
       "                (')', [])])])]),\n",
       "          (')', [])])])])])])"
      ]
     },
     "execution_count": 41,
     "metadata": {},
     "output_type": "execute_result"
    }
   ],
   "source": [
    "v = mark_path_abstract(parsed_expr, abs_path_1); v"
   ]
  },
  {
   "cell_type": "markdown",
   "metadata": {},
   "source": [
    "Given a tree with some nodes marked abstract, go through the tree, and mark everything else as concrete. Default is to mark a node as concrete."
   ]
  },
  {
   "cell_type": "code",
   "execution_count": 42,
   "metadata": {},
   "outputs": [],
   "source": [
    "def mark_concrete_r(tree):\n",
    "    name, children, *abstract_a = tree\n",
    "    abstract = {'abstract': False} if not abstract_a else abstract_a[0]\n",
    "    return (name, [mark_concrete_r(c) for c in children], abstract)"
   ]
  },
  {
   "cell_type": "code",
   "execution_count": 43,
   "metadata": {},
   "outputs": [
    {
     "data": {
      "text/plain": [
       "('<start>',\n",
       " [('<expr>',\n",
       "   [('<term>',\n",
       "     [('<factor>',\n",
       "       [('<integer>',\n",
       "         [('<digit>', [('1', [], {'abstract': False})], {'abstract': False})],\n",
       "         {'abstract': False})],\n",
       "       {'abstract': False})],\n",
       "     {'abstract': False}),\n",
       "    (' + ', [], {'abstract': False}),\n",
       "    ('<expr>',\n",
       "     [('<term>',\n",
       "       [('<factor>',\n",
       "         [('(', [], {'abstract': False}),\n",
       "          ('<expr>',\n",
       "           [('<term>',\n",
       "             [('<factor>',\n",
       "               [('(', [], {'abstract': False}),\n",
       "                ('<expr>',\n",
       "                 [('<term>',\n",
       "                   [('<factor>',\n",
       "                     [('<integer>',\n",
       "                       [('<digit>',\n",
       "                         [('2', [], {'abstract': False})],\n",
       "                         {'abstract': False})],\n",
       "                       {'abstract': False})],\n",
       "                     {'abstract': False}),\n",
       "                    (' * ', [], {'abstract': False}),\n",
       "                    ('<term>',\n",
       "                     [('<factor>',\n",
       "                       [('<integer>',\n",
       "                         [('<digit>',\n",
       "                           [('3', [], {'abstract': False})],\n",
       "                           {'abstract': False})],\n",
       "                         {'abstract': False})],\n",
       "                       {'abstract': False}),\n",
       "                      (' / ', [], {'abstract': False}),\n",
       "                      ('<term>',\n",
       "                       [('<factor>',\n",
       "                         [('<integer>',\n",
       "                           [('<digit>',\n",
       "                             [('4', [], {'abstract': False})],\n",
       "                             {'abstract': False})],\n",
       "                           {'abstract': False})],\n",
       "                         {'abstract': False})],\n",
       "                       {'abstract': False})],\n",
       "                     {'abstract': False})],\n",
       "                   {'abstract': False})],\n",
       "                 {'abstract': True}),\n",
       "                (')', [], {'abstract': False})],\n",
       "               {'abstract': False})],\n",
       "             {'abstract': False})],\n",
       "           {'abstract': False}),\n",
       "          (')', [], {'abstract': False})],\n",
       "         {'abstract': False})],\n",
       "       {'abstract': False})],\n",
       "     {'abstract': False})],\n",
       "   {'abstract': False})],\n",
       " {'abstract': False})"
      ]
     },
     "execution_count": 43,
     "metadata": {},
     "output_type": "execute_result"
    }
   ],
   "source": [
    "t = mark_concrete_r(v); t"
   ]
  },
  {
   "cell_type": "markdown",
   "metadata": {},
   "source": [
    "A way to display the abstracted tree"
   ]
  },
  {
   "cell_type": "code",
   "execution_count": 44,
   "metadata": {},
   "outputs": [],
   "source": [
    "def till_abstract(node):\n",
    "    name, children, *rest = node\n",
    "    if rest[-1]['abstract']:\n",
    "        return (name + '*', [])\n",
    "    return (name, [till_abstract(c) for c in children], *rest)"
   ]
  },
  {
   "cell_type": "code",
   "execution_count": 45,
   "metadata": {},
   "outputs": [
    {
     "data": {
      "image/png": "[encoded data removed]",
      "text/plain": [
       "<IPython.core.display.Image object>"
      ]
     },
     "execution_count": 45,
     "metadata": {},
     "output_type": "execute_result"
    }
   ],
   "source": [
    "zoom(display_tree(till_abstract(t)))"
   ]
  },
  {
   "cell_type": "code",
   "execution_count": 46,
   "metadata": {},
   "outputs": [
    {
     "data": {
      "text/plain": [
       "('((2 * 3 / 4))', '<expr>')"
      ]
     },
     "execution_count": 46,
     "metadata": {},
     "output_type": "execute_result"
    }
   ],
   "source": [
    "abs_t1_ = find_node(parsed_expr, [0, 2])\n",
    "tree_to_str(abs_t1_), abs_t1_[0]"
   ]
  },
  {
   "cell_type": "code",
   "execution_count": 47,
   "metadata": {},
   "outputs": [],
   "source": [
    "abs_t1 = ('<start>', [abs_t1_])"
   ]
  },
  {
   "cell_type": "code",
   "execution_count": 48,
   "metadata": {},
   "outputs": [],
   "source": [
    "validate_tree(abs_t1, EXPR_GRAMMAR)"
   ]
  },
  {
   "cell_type": "code",
   "execution_count": 49,
   "metadata": {},
   "outputs": [
    {
     "data": {
      "text/plain": [
       "'2 * 3 / 4'"
      ]
     },
     "execution_count": 49,
     "metadata": {},
     "output_type": "execute_result"
    }
   ],
   "source": [
    "t_abs_p1 = [0, 0, 0, 1, 0, 0, 1]\n",
    "Ts(find_node(abs_t1, t_abs_p1))"
   ]
  },
  {
   "cell_type": "markdown",
   "metadata": {},
   "source": [
    "We now define a function to check if a given node is abstract or not."
   ]
  },
  {
   "cell_type": "code",
   "execution_count": 50,
   "metadata": {},
   "outputs": [],
   "source": [
    "def e_g_(abstract_a):\n",
    "    if not abstract_a:\n",
    "        return True\n",
    "    else:\n",
    "        return abstract_a[0]['abstract']"
   ]
  },
  {
   "cell_type": "code",
   "execution_count": 51,
   "metadata": {},
   "outputs": [],
   "source": [
    "def is_node_abstract(node):\n",
    "    name, children, *abstract_a = node\n",
    "    if not abstract_a:\n",
    "        return True\n",
    "    else:\n",
    "        return abstract_a[0]['abstract']"
   ]
  },
  {
   "cell_type": "code",
   "execution_count": 52,
   "metadata": {},
   "outputs": [],
   "source": [
    "def tree_to_str_a(tree):\n",
    "    name, children, *general_ = tree\n",
    "    if not is_nt(name): return name\n",
    "    if is_node_abstract(tree):\n",
    "        return name\n",
    "    return ''.join([tree_to_str_a(c) for c in children])"
   ]
  },
  {
   "cell_type": "code",
   "execution_count": 53,
   "metadata": {},
   "outputs": [],
   "source": [
    "Ta = tree_to_str_a"
   ]
  },
  {
   "cell_type": "code",
   "execution_count": 54,
   "metadata": {},
   "outputs": [
    {
     "data": {
      "text/plain": [
       "'1 + ((<expr>))'"
      ]
     },
     "execution_count": 54,
     "metadata": {},
     "output_type": "execute_result"
    }
   ],
   "source": [
    "tree_to_str_a(t)"
   ]
  },
  {
   "cell_type": "code",
   "execution_count": 55,
   "metadata": {},
   "outputs": [
    {
     "data": {
      "text/plain": [
       "('<start>',\n",
       " [('<expr>',\n",
       "   [('<term>',\n",
       "     [('<factor>',\n",
       "       [('(', [], {'abstract': False}),\n",
       "        ('<expr>',\n",
       "         [('<term>',\n",
       "           [('<factor>',\n",
       "             [('(', [], {'abstract': False}),\n",
       "              ('<expr>',\n",
       "               [('<term>',\n",
       "                 [('<factor>',\n",
       "                   [('<integer>',\n",
       "                     [('<digit>',\n",
       "                       [('2', [], {'abstract': False})],\n",
       "                       {'abstract': False})],\n",
       "                     {'abstract': False})],\n",
       "                   {'abstract': False}),\n",
       "                  (' * ', [], {'abstract': False}),\n",
       "                  ('<term>',\n",
       "                   [('<factor>',\n",
       "                     [('<integer>',\n",
       "                       [('<digit>',\n",
       "                         [('3', [], {'abstract': False})],\n",
       "                         {'abstract': False})],\n",
       "                       {'abstract': False})],\n",
       "                     {'abstract': False}),\n",
       "                    (' / ', [], {'abstract': False}),\n",
       "                    ('<term>',\n",
       "                     [('<factor>',\n",
       "                       [('<integer>',\n",
       "                         [('<digit>',\n",
       "                           [('4', [], {'abstract': False})],\n",
       "                           {'abstract': False})],\n",
       "                         {'abstract': False})],\n",
       "                       {'abstract': False})],\n",
       "                     {'abstract': False})],\n",
       "                   {'abstract': False})],\n",
       "                 {'abstract': False})],\n",
       "               {'abstract': True}),\n",
       "              (')', [], {'abstract': False})],\n",
       "             {'abstract': False})],\n",
       "           {'abstract': False})],\n",
       "         {'abstract': False}),\n",
       "        (')', [], {'abstract': False})],\n",
       "       {'abstract': False})],\n",
       "     {'abstract': False})],\n",
       "   {'abstract': False})],\n",
       " {'abstract': False})"
      ]
     },
     "execution_count": 55,
     "metadata": {},
     "output_type": "execute_result"
    }
   ],
   "source": [
    "abs_tree1 = mark_concrete_r(mark_path_abstract(abs_t1, t_abs_p1)); abs_tree1"
   ]
  },
  {
   "cell_type": "code",
   "execution_count": 56,
   "metadata": {},
   "outputs": [
    {
     "data": {
      "text/plain": [
       "'((<expr>))'"
      ]
     },
     "execution_count": 56,
     "metadata": {},
     "output_type": "execute_result"
    }
   ],
   "source": [
    "Ta(abs_tree1)"
   ]
  },
  {
   "cell_type": "code",
   "execution_count": 57,
   "metadata": {},
   "outputs": [],
   "source": [
    "def mark_abstract_nodes(tree, paths):\n",
    "    for path in paths:\n",
    "        tree = mark_path_abstract(tree, path)\n",
    "    return mark_concrete_r(tree)"
   ]
  },
  {
   "cell_type": "code",
   "execution_count": 58,
   "metadata": {},
   "outputs": [
    {
     "data": {
      "text/plain": [
       "'((2 * 3 / 4))'"
      ]
     },
     "execution_count": 58,
     "metadata": {},
     "output_type": "execute_result"
    }
   ],
   "source": [
    "Ta(mark_abstract_nodes(abs_t1, []))"
   ]
  },
  {
   "cell_type": "code",
   "execution_count": 59,
   "metadata": {},
   "outputs": [
    {
     "data": {
      "text/plain": [
       "'((<expr>))'"
      ]
     },
     "execution_count": 59,
     "metadata": {},
     "output_type": "execute_result"
    }
   ],
   "source": [
    "Ta(mark_abstract_nodes(abs_t1, [t_abs_p1]))"
   ]
  },
  {
   "cell_type": "markdown",
   "metadata": {},
   "source": [
    "### Finding characterizing node\n",
    "\n",
    "A characterizing node is the lowest node that completely contains the given pattern."
   ]
  },
  {
   "cell_type": "code",
   "execution_count": 60,
   "metadata": {},
   "outputs": [],
   "source": [
    " def find_charecterizing_node(tree):\n",
    "    name, children, gen = tree\n",
    "    if len(children) == 1:\n",
    "        return find_charecterizing_node(children[0])\n",
    "    return tree"
   ]
  },
  {
   "cell_type": "code",
   "execution_count": 61,
   "metadata": {},
   "outputs": [
    {
     "data": {
      "text/plain": [
       "('<factor>',\n",
       " [('(', [], {'abstract': False}),\n",
       "  ('<expr>',\n",
       "   [('<term>',\n",
       "     [('<factor>',\n",
       "       [('(', [], {'abstract': False}),\n",
       "        ('<expr>',\n",
       "         [('<term>',\n",
       "           [('<factor>',\n",
       "             [('<integer>',\n",
       "               [('<digit>',\n",
       "                 [('2', [], {'abstract': False})],\n",
       "                 {'abstract': False})],\n",
       "               {'abstract': False})],\n",
       "             {'abstract': False}),\n",
       "            (' * ', [], {'abstract': False}),\n",
       "            ('<term>',\n",
       "             [('<factor>',\n",
       "               [('<integer>',\n",
       "                 [('<digit>',\n",
       "                   [('3', [], {'abstract': False})],\n",
       "                   {'abstract': False})],\n",
       "                 {'abstract': False})],\n",
       "               {'abstract': False}),\n",
       "              (' / ', [], {'abstract': False}),\n",
       "              ('<term>',\n",
       "               [('<factor>',\n",
       "                 [('<integer>',\n",
       "                   [('<digit>',\n",
       "                     [('4', [], {'abstract': False})],\n",
       "                     {'abstract': False})],\n",
       "                   {'abstract': False})],\n",
       "                 {'abstract': False})],\n",
       "               {'abstract': False})],\n",
       "             {'abstract': False})],\n",
       "           {'abstract': False})],\n",
       "         {'abstract': True}),\n",
       "        (')', [], {'abstract': False})],\n",
       "       {'abstract': False})],\n",
       "     {'abstract': False})],\n",
       "   {'abstract': False}),\n",
       "  (')', [], {'abstract': False})],\n",
       " {'abstract': False})"
      ]
     },
     "execution_count": 61,
     "metadata": {},
     "output_type": "execute_result"
    }
   ],
   "source": [
    "abs_tree_cnode1 = find_charecterizing_node(abs_tree1); abs_tree_cnode1"
   ]
  },
  {
   "cell_type": "markdown",
   "metadata": {},
   "source": [
    "As can be seen, the `<factor>` node completely contains the fault pattern."
   ]
  },
  {
   "cell_type": "code",
   "execution_count": 62,
   "metadata": {},
   "outputs": [
    {
     "data": {
      "text/plain": [
       "('<start>', '((2 * 3 / 4))')"
      ]
     },
     "execution_count": 62,
     "metadata": {},
     "output_type": "execute_result"
    }
   ],
   "source": [
    "abs_tree1[0], Ts(abs_tree1)"
   ]
  },
  {
   "cell_type": "code",
   "execution_count": 63,
   "metadata": {},
   "outputs": [
    {
     "data": {
      "text/plain": [
       "('<factor>', '((2 * 3 / 4))')"
      ]
     },
     "execution_count": 63,
     "metadata": {},
     "output_type": "execute_result"
    }
   ],
   "source": [
    "abs_tree_cnode1[0], Ts(abs_tree_cnode1)"
   ]
  },
  {
   "cell_type": "markdown",
   "metadata": {},
   "source": [
    "### Finding reachable keys"
   ]
  },
  {
   "cell_type": "code",
   "execution_count": 64,
   "metadata": {},
   "outputs": [],
   "source": [
    "def find_reachable_keys(grammar, key, reachable_keys=None, found_so_far=None):\n",
    "    if reachable_keys is None: reachable_keys = {}\n",
    "    if found_so_far is None: found_so_far = set()\n",
    "\n",
    "    for rule in grammar[key]:\n",
    "        for token in rule:\n",
    "            if not is_nt(token): continue\n",
    "            if token in found_so_far: continue\n",
    "            found_so_far.add(token)\n",
    "            if token in reachable_keys:\n",
    "                for k in reachable_keys[token]:\n",
    "                    found_so_far.add(k)\n",
    "            else:\n",
    "                keys = find_reachable_keys(grammar, token, reachable_keys, found_so_far)\n",
    "                # reachable_keys[token] = keys <- found_so_far contains results from earlier\n",
    "    return found_so_far"
   ]
  },
  {
   "cell_type": "code",
   "execution_count": 65,
   "metadata": {
    "scrolled": true
   },
   "outputs": [
    {
     "name": "stdout",
     "output_type": "stream",
     "text": [
      "<start> {'<integer>', '<expr>', '<term>', '<digit>', '<factor>'}\n",
      "<expr> {'<integer>', '<expr>', '<term>', '<digit>', '<factor>'}\n",
      "<term> {'<integer>', '<expr>', '<term>', '<digit>', '<factor>'}\n",
      "<factor> {'<integer>', '<expr>', '<term>', '<digit>', '<factor>'}\n",
      "<integer> {'<integer>', '<digit>'}\n",
      "<digit> set()\n"
     ]
    }
   ],
   "source": [
    "for key in EXPR_GRAMMAR:\n",
    "    keys = find_reachable_keys(EXPR_GRAMMAR, key, {})\n",
    "    print(key, keys)"
   ]
  },
  {
   "cell_type": "markdown",
   "metadata": {},
   "source": [
    "Finding recursive keys"
   ]
  },
  {
   "cell_type": "code",
   "execution_count": 66,
   "metadata": {},
   "outputs": [],
   "source": [
    "def reachable_dict(grammar):\n",
    "    reachable = {}\n",
    "    for key in grammar:\n",
    "        keys = find_reachable_keys(grammar, key, reachable)\n",
    "        reachable[key] = keys\n",
    "    return reachable"
   ]
  },
  {
   "cell_type": "code",
   "execution_count": 67,
   "metadata": {},
   "outputs": [
    {
     "data": {
      "text/plain": [
       "{'<start>': {'<digit>', '<expr>', '<factor>', '<integer>', '<term>'},\n",
       " '<expr>': {'<digit>', '<expr>', '<factor>', '<integer>', '<term>'},\n",
       " '<term>': {'<digit>', '<expr>', '<factor>', '<integer>', '<term>'},\n",
       " '<factor>': {'<digit>', '<expr>', '<factor>', '<integer>', '<term>'},\n",
       " '<integer>': {'<digit>', '<integer>'},\n",
       " '<digit>': set()}"
      ]
     },
     "execution_count": 67,
     "metadata": {},
     "output_type": "execute_result"
    }
   ],
   "source": [
    "reachable_dict(EXPR_GRAMMAR)"
   ]
  },
  {
   "cell_type": "markdown",
   "metadata": {},
   "source": [
    "### Updating the grammar with failure keys"
   ]
  },
  {
   "cell_type": "markdown",
   "metadata": {},
   "source": [
    "Now, we want to add our grammar the keys that are required to cause a failure. For that, we first extract the local grammar that reproduces the fault pattern "
   ]
  },
  {
   "cell_type": "markdown",
   "metadata": {},
   "source": [
    "#### Linear Grammar"
   ]
  },
  {
   "cell_type": "code",
   "execution_count": 68,
   "metadata": {},
   "outputs": [
    {
     "data": {
      "text/plain": [
       "('<factor>',\n",
       " [('(', [], {'abstract': False}),\n",
       "  ('<expr>',\n",
       "   [('<term>',\n",
       "     [('<factor>',\n",
       "       [('(', [], {'abstract': False}),\n",
       "        ('<expr>',\n",
       "         [('<term>',\n",
       "           [('<factor>',\n",
       "             [('<integer>',\n",
       "               [('<digit>',\n",
       "                 [('2', [], {'abstract': False})],\n",
       "                 {'abstract': False})],\n",
       "               {'abstract': False})],\n",
       "             {'abstract': False}),\n",
       "            (' * ', [], {'abstract': False}),\n",
       "            ('<term>',\n",
       "             [('<factor>',\n",
       "               [('<integer>',\n",
       "                 [('<digit>',\n",
       "                   [('3', [], {'abstract': False})],\n",
       "                   {'abstract': False})],\n",
       "                 {'abstract': False})],\n",
       "               {'abstract': False}),\n",
       "              (' / ', [], {'abstract': False}),\n",
       "              ('<term>',\n",
       "               [('<factor>',\n",
       "                 [('<integer>',\n",
       "                   [('<digit>',\n",
       "                     [('4', [], {'abstract': False})],\n",
       "                     {'abstract': False})],\n",
       "                   {'abstract': False})],\n",
       "                 {'abstract': False})],\n",
       "               {'abstract': False})],\n",
       "             {'abstract': False})],\n",
       "           {'abstract': False})],\n",
       "         {'abstract': True}),\n",
       "        (')', [], {'abstract': False})],\n",
       "       {'abstract': False})],\n",
       "     {'abstract': False})],\n",
       "   {'abstract': False}),\n",
       "  (')', [], {'abstract': False})],\n",
       " {'abstract': False})"
      ]
     },
     "execution_count": 68,
     "metadata": {},
     "output_type": "execute_result"
    }
   ],
   "source": [
    "abs_tree_cnode1"
   ]
  },
  {
   "cell_type": "code",
   "execution_count": 69,
   "metadata": {},
   "outputs": [],
   "source": [
    " def mark_faulty_name(symbol, prefix, v):\n",
    "    return '<%s L%s_%s>'% (symbol[1:-1], prefix, v)"
   ]
  },
  {
   "cell_type": "code",
   "execution_count": 70,
   "metadata": {},
   "outputs": [],
   "source": [
    "def mark_faulty_nodes(node, prefix, counter=None):\n",
    "    if counter is None: counter = {}\n",
    "    symbol, children, *abstract = node\n",
    "    if is_node_abstract(node): # we dont markup further\n",
    "        return node\n",
    "    if symbol not in counter: counter[symbol] = 0\n",
    "    counter[symbol] += 1\n",
    "    v = str(counter[symbol])\n",
    "    if is_nt(symbol):\n",
    "        return (mark_faulty_name(symbol, prefix, v),\n",
    "                [mark_faulty_nodes(c, prefix, counter) for c in children],\n",
    "                *abstract)\n",
    "    else:\n",
    "        assert not children\n",
    "        return (symbol, children, *abstract)"
   ]
  },
  {
   "cell_type": "code",
   "execution_count": 71,
   "metadata": {},
   "outputs": [
    {
     "data": {
      "image/svg+xml": [
       "<?xml version=\"1.0\" encoding=\"UTF-8\" standalone=\"no\"?>\n",
       "<!DOCTYPE svg PUBLIC \"-//W3C//DTD SVG 1.1//EN\"\n",
       " \"http://www.w3.org/Graphics/SVG/1.1/DTD/svg11.dtd\">\n",
       "<!-- Generated by graphviz version 2.40.1 (20161225.0304)\n",
       " -->\n",
       "<!-- Title: %3 Pages: 1 -->\n",
       "<svg width=\"238pt\" height=\"572pt\"\n",
       " viewBox=\"0.00 0.00 238.16 572.00\" xmlns=\"http://www.w3.org/2000/svg\" xmlns:xlink=\"http://www.w3.org/1999/xlink\">\n",
       "<g id=\"graph0\" class=\"graph\" transform=\"scale(1 1) rotate(0) translate(4 568)\">\n",
       "<title>%3</title>\n",
       "<polygon fill=\"#ffffff\" stroke=\"transparent\" points=\"-4,4 -4,-568 234.1602,-568 234.1602,4 -4,4\"/>\n",
       "<!-- 0 -->\n",
       "<g id=\"node1\" class=\"node\">\n",
       "<title>0</title>\n",
       "<text text-anchor=\"middle\" x=\"98.0801\" y=\"-552.8\" font-family=\"Times,serif\" font-size=\"14.00\" fill=\"#000000\">&lt;factor L1_1&gt; </text>\n",
       "</g>\n",
       "<!-- 1 -->\n",
       "<g id=\"node2\" class=\"node\">\n",
       "<title>1</title>\n",
       "<text text-anchor=\"middle\" x=\"37.0801\" y=\"-502.8\" font-family=\"Times,serif\" font-size=\"14.00\" fill=\"#000000\">( </text>\n",
       "</g>\n",
       "<!-- 0&#45;&gt;1 -->\n",
       "<g id=\"edge1\" class=\"edge\">\n",
       "<title>0&#45;&gt;1</title>\n",
       "<path fill=\"none\" stroke=\"#000000\" d=\"M89.3403,-549.8362C78.8385,-541.2282 61.155,-526.7336 49.3038,-517.0195\"/>\n",
       "<polygon fill=\"#000000\" stroke=\"#000000\" points=\"51.2511,-514.0901 41.2984,-510.4577 46.8136,-519.5039 51.2511,-514.0901\"/>\n",
       "</g>\n",
       "<!-- 2 -->\n",
       "<g id=\"node3\" class=\"node\">\n",
       "<title>2</title>\n",
       "<text text-anchor=\"middle\" x=\"98.0801\" y=\"-502.8\" font-family=\"Times,serif\" font-size=\"14.00\" fill=\"#000000\">&lt;expr L1_1&gt; </text>\n",
       "</g>\n",
       "<!-- 0&#45;&gt;2 -->\n",
       "<g id=\"edge2\" class=\"edge\">\n",
       "<title>0&#45;&gt;2</title>\n",
       "<path fill=\"none\" stroke=\"#000000\" d=\"M98.0801,-549.6223C98.0801,-542.9738 98.0801,-532.942 98.0801,-524.2807\"/>\n",
       "<polygon fill=\"#000000\" stroke=\"#000000\" points=\"101.5802,-524.0842 98.0801,-514.0842 94.5802,-524.0842 101.5802,-524.0842\"/>\n",
       "</g>\n",
       "<!-- 25 -->\n",
       "<g id=\"node26\" class=\"node\">\n",
       "<title>25</title>\n",
       "<text text-anchor=\"middle\" x=\"159.0801\" y=\"-502.8\" font-family=\"Times,serif\" font-size=\"14.00\" fill=\"#000000\">) </text>\n",
       "</g>\n",
       "<!-- 0&#45;&gt;25 -->\n",
       "<g id=\"edge25\" class=\"edge\">\n",
       "<title>0&#45;&gt;25</title>\n",
       "<path fill=\"none\" stroke=\"#000000\" d=\"M106.8199,-549.8362C117.3216,-541.2282 135.0051,-526.7336 146.8563,-517.0195\"/>\n",
       "<polygon fill=\"#000000\" stroke=\"#000000\" points=\"149.3465,-519.5039 154.8617,-510.4577 144.909,-514.0901 149.3465,-519.5039\"/>\n",
       "</g>\n",
       "<!-- 3 -->\n",
       "<g id=\"node4\" class=\"node\">\n",
       "<title>3</title>\n",
       "<text text-anchor=\"middle\" x=\"98.0801\" y=\"-452.8\" font-family=\"Times,serif\" font-size=\"14.00\" fill=\"#000000\">&lt;term L1_1&gt; </text>\n",
       "</g>\n",
       "<!-- 2&#45;&gt;3 -->\n",
       "<g id=\"edge3\" class=\"edge\">\n",
       "<title>2&#45;&gt;3</title>\n",
       "<path fill=\"none\" stroke=\"#000000\" d=\"M98.0801,-499.6223C98.0801,-492.9738 98.0801,-482.942 98.0801,-474.2807\"/>\n",
       "<polygon fill=\"#000000\" stroke=\"#000000\" points=\"101.5802,-474.0842 98.0801,-464.0842 94.5802,-474.0842 101.5802,-474.0842\"/>\n",
       "</g>\n",
       "<!-- 4 -->\n",
       "<g id=\"node5\" class=\"node\">\n",
       "<title>4</title>\n",
       "<text text-anchor=\"middle\" x=\"98.0801\" y=\"-402.8\" font-family=\"Times,serif\" font-size=\"14.00\" fill=\"#000000\">&lt;factor L1_2&gt; </text>\n",
       "</g>\n",
       "<!-- 3&#45;&gt;4 -->\n",
       "<g id=\"edge4\" class=\"edge\">\n",
       "<title>3&#45;&gt;4</title>\n",
       "<path fill=\"none\" stroke=\"#000000\" d=\"M98.0801,-449.6223C98.0801,-442.9738 98.0801,-432.942 98.0801,-424.2807\"/>\n",
       "<polygon fill=\"#000000\" stroke=\"#000000\" points=\"101.5802,-424.0842 98.0801,-414.0842 94.5802,-424.0842 101.5802,-424.0842\"/>\n",
       "</g>\n",
       "<!-- 5 -->\n",
       "<g id=\"node6\" class=\"node\">\n",
       "<title>5</title>\n",
       "<text text-anchor=\"middle\" x=\"54.0801\" y=\"-352.8\" font-family=\"Times,serif\" font-size=\"14.00\" fill=\"#000000\">( </text>\n",
       "</g>\n",
       "<!-- 4&#45;&gt;5 -->\n",
       "<g id=\"edge5\" class=\"edge\">\n",
       "<title>4&#45;&gt;5</title>\n",
       "<path fill=\"none\" stroke=\"#000000\" d=\"M91.5877,-399.6223C84.5597,-391.6359 73.2356,-378.7676 64.8666,-369.2574\"/>\n",
       "<polygon fill=\"#000000\" stroke=\"#000000\" points=\"67.4533,-366.8988 58.2195,-361.7039 62.1983,-371.5232 67.4533,-366.8988\"/>\n",
       "</g>\n",
       "<!-- 6 -->\n",
       "<g id=\"node7\" class=\"node\">\n",
       "<title>6</title>\n",
       "<text text-anchor=\"middle\" x=\"98.0801\" y=\"-352.8\" font-family=\"Times,serif\" font-size=\"14.00\" fill=\"#000000\">&lt;expr&gt; </text>\n",
       "</g>\n",
       "<!-- 4&#45;&gt;6 -->\n",
       "<g id=\"edge6\" class=\"edge\">\n",
       "<title>4&#45;&gt;6</title>\n",
       "<path fill=\"none\" stroke=\"#000000\" d=\"M98.0801,-399.6223C98.0801,-392.9738 98.0801,-382.942 98.0801,-374.2807\"/>\n",
       "<polygon fill=\"#000000\" stroke=\"#000000\" points=\"101.5802,-374.0842 98.0801,-364.0842 94.5802,-374.0842 101.5802,-374.0842\"/>\n",
       "</g>\n",
       "<!-- 24 -->\n",
       "<g id=\"node25\" class=\"node\">\n",
       "<title>24</title>\n",
       "<text text-anchor=\"middle\" x=\"142.0801\" y=\"-352.8\" font-family=\"Times,serif\" font-size=\"14.00\" fill=\"#000000\">) </text>\n",
       "</g>\n",
       "<!-- 4&#45;&gt;24 -->\n",
       "<g id=\"edge24\" class=\"edge\">\n",
       "<title>4&#45;&gt;24</title>\n",
       "<path fill=\"none\" stroke=\"#000000\" d=\"M104.5724,-399.6223C111.6005,-391.6359 122.9246,-378.7676 131.2936,-369.2574\"/>\n",
       "<polygon fill=\"#000000\" stroke=\"#000000\" points=\"133.9619,-371.5232 137.9407,-361.7039 128.7068,-366.8988 133.9619,-371.5232\"/>\n",
       "</g>\n",
       "<!-- 7 -->\n",
       "<g id=\"node8\" class=\"node\">\n",
       "<title>7</title>\n",
       "<text text-anchor=\"middle\" x=\"98.0801\" y=\"-302.8\" font-family=\"Times,serif\" font-size=\"14.00\" fill=\"#000000\">&lt;term&gt; </text>\n",
       "</g>\n",
       "<!-- 6&#45;&gt;7 -->\n",
       "<g id=\"edge7\" class=\"edge\">\n",
       "<title>6&#45;&gt;7</title>\n",
       "<path fill=\"none\" stroke=\"#000000\" d=\"M98.0801,-349.6223C98.0801,-342.9738 98.0801,-332.942 98.0801,-324.2807\"/>\n",
       "<polygon fill=\"#000000\" stroke=\"#000000\" points=\"101.5802,-324.0842 98.0801,-314.0842 94.5802,-324.0842 101.5802,-324.0842\"/>\n",
       "</g>\n",
       "<!-- 8 -->\n",
       "<g id=\"node9\" class=\"node\">\n",
       "<title>8</title>\n",
       "<text text-anchor=\"middle\" x=\"40.0801\" y=\"-252.8\" font-family=\"Times,serif\" font-size=\"14.00\" fill=\"#000000\">&lt;factor&gt; </text>\n",
       "</g>\n",
       "<!-- 7&#45;&gt;8 -->\n",
       "<g id=\"edge8\" class=\"edge\">\n",
       "<title>7&#45;&gt;8</title>\n",
       "<path fill=\"none\" stroke=\"#000000\" d=\"M89.522,-299.6223C80.7698,-292.0773 66.9634,-280.1752 56.162,-270.8637\"/>\n",
       "<polygon fill=\"#000000\" stroke=\"#000000\" points=\"58.1572,-267.9627 48.2977,-264.0842 53.5866,-273.2646 58.1572,-267.9627\"/>\n",
       "</g>\n",
       "<!-- 12 -->\n",
       "<g id=\"node13\" class=\"node\">\n",
       "<title>12</title>\n",
       "<text text-anchor=\"middle\" x=\"98.0801\" y=\"-252.8\" font-family=\"Times,serif\" font-size=\"14.00\" fill=\"#000000\"> * &#160;</text>\n",
       "</g>\n",
       "<!-- 7&#45;&gt;12 -->\n",
       "<g id=\"edge12\" class=\"edge\">\n",
       "<title>7&#45;&gt;12</title>\n",
       "<path fill=\"none\" stroke=\"#000000\" d=\"M98.0801,-299.6223C98.0801,-292.9738 98.0801,-282.942 98.0801,-274.2807\"/>\n",
       "<polygon fill=\"#000000\" stroke=\"#000000\" points=\"101.5802,-274.0842 98.0801,-264.0842 94.5802,-274.0842 101.5802,-274.0842\"/>\n",
       "</g>\n",
       "<!-- 13 -->\n",
       "<g id=\"node14\" class=\"node\">\n",
       "<title>13</title>\n",
       "<text text-anchor=\"middle\" x=\"150.0801\" y=\"-252.8\" font-family=\"Times,serif\" font-size=\"14.00\" fill=\"#000000\">&lt;term&gt; </text>\n",
       "</g>\n",
       "<!-- 7&#45;&gt;13 -->\n",
       "<g id=\"edge13\" class=\"edge\">\n",
       "<title>7&#45;&gt;13</title>\n",
       "<path fill=\"none\" stroke=\"#000000\" d=\"M105.7529,-299.6223C113.522,-292.152 125.7332,-280.4105 135.3734,-271.1411\"/>\n",
       "<polygon fill=\"#000000\" stroke=\"#000000\" points=\"137.9301,-273.5382 142.7125,-264.0842 133.0783,-268.4924 137.9301,-273.5382\"/>\n",
       "</g>\n",
       "<!-- 9 -->\n",
       "<g id=\"node10\" class=\"node\">\n",
       "<title>9</title>\n",
       "<text text-anchor=\"middle\" x=\"29.0801\" y=\"-202.8\" font-family=\"Times,serif\" font-size=\"14.00\" fill=\"#000000\">&lt;integer&gt; </text>\n",
       "</g>\n",
       "<!-- 8&#45;&gt;9 -->\n",
       "<g id=\"edge9\" class=\"edge\">\n",
       "<title>8&#45;&gt;9</title>\n",
       "<path fill=\"none\" stroke=\"#000000\" d=\"M38.457,-249.6223C36.9779,-242.8991 34.7376,-232.7161 32.8177,-223.9893\"/>\n",
       "<polygon fill=\"#000000\" stroke=\"#000000\" points=\"36.2056,-223.0986 30.6386,-214.0842 29.369,-224.6027 36.2056,-223.0986\"/>\n",
       "</g>\n",
       "<!-- 10 -->\n",
       "<g id=\"node11\" class=\"node\">\n",
       "<title>10</title>\n",
       "<text text-anchor=\"middle\" x=\"29.0801\" y=\"-152.8\" font-family=\"Times,serif\" font-size=\"14.00\" fill=\"#000000\">&lt;digit&gt; </text>\n",
       "</g>\n",
       "<!-- 9&#45;&gt;10 -->\n",
       "<g id=\"edge10\" class=\"edge\">\n",
       "<title>9&#45;&gt;10</title>\n",
       "<path fill=\"none\" stroke=\"#000000\" d=\"M29.0801,-199.6223C29.0801,-192.9738 29.0801,-182.942 29.0801,-174.2807\"/>\n",
       "<polygon fill=\"#000000\" stroke=\"#000000\" points=\"32.5802,-174.0842 29.0801,-164.0842 25.5802,-174.0842 32.5802,-174.0842\"/>\n",
       "</g>\n",
       "<!-- 11 -->\n",
       "<g id=\"node12\" class=\"node\">\n",
       "<title>11</title>\n",
       "<text text-anchor=\"middle\" x=\"29.0801\" y=\"-102.8\" font-family=\"Times,serif\" font-size=\"14.00\" fill=\"#000000\">2 </text>\n",
       "</g>\n",
       "<!-- 10&#45;&gt;11 -->\n",
       "<g id=\"edge11\" class=\"edge\">\n",
       "<title>10&#45;&gt;11</title>\n",
       "<path fill=\"none\" stroke=\"#000000\" d=\"M29.0801,-149.6223C29.0801,-142.9738 29.0801,-132.942 29.0801,-124.2807\"/>\n",
       "<polygon fill=\"#000000\" stroke=\"#000000\" points=\"32.5802,-124.0842 29.0801,-114.0842 25.5802,-124.0842 32.5802,-124.0842\"/>\n",
       "</g>\n",
       "<!-- 14 -->\n",
       "<g id=\"node15\" class=\"node\">\n",
       "<title>14</title>\n",
       "<text text-anchor=\"middle\" x=\"102.0801\" y=\"-202.8\" font-family=\"Times,serif\" font-size=\"14.00\" fill=\"#000000\">&lt;factor&gt; </text>\n",
       "</g>\n",
       "<!-- 13&#45;&gt;14 -->\n",
       "<g id=\"edge14\" class=\"edge\">\n",
       "<title>13&#45;&gt;14</title>\n",
       "<path fill=\"none\" stroke=\"#000000\" d=\"M142.9975,-249.6223C135.8977,-242.2267 124.7792,-230.6449 115.9232,-221.4199\"/>\n",
       "<polygon fill=\"#000000\" stroke=\"#000000\" points=\"118.3311,-218.8742 108.8809,-214.0842 113.2814,-223.722 118.3311,-218.8742\"/>\n",
       "</g>\n",
       "<!-- 18 -->\n",
       "<g id=\"node19\" class=\"node\">\n",
       "<title>18</title>\n",
       "<text text-anchor=\"middle\" x=\"153.0801\" y=\"-202.8\" font-family=\"Times,serif\" font-size=\"14.00\" fill=\"#000000\"> / &#160;</text>\n",
       "</g>\n",
       "<!-- 13&#45;&gt;18 -->\n",
       "<g id=\"edge18\" class=\"edge\">\n",
       "<title>13&#45;&gt;18</title>\n",
       "<path fill=\"none\" stroke=\"#000000\" d=\"M150.5227,-249.6223C150.9217,-242.9738 151.5236,-232.942 152.0432,-224.2807\"/>\n",
       "<polygon fill=\"#000000\" stroke=\"#000000\" points=\"155.5497,-224.2759 152.655,-214.0842 148.5623,-223.8566 155.5497,-224.2759\"/>\n",
       "</g>\n",
       "<!-- 19 -->\n",
       "<g id=\"node20\" class=\"node\">\n",
       "<title>19</title>\n",
       "<text text-anchor=\"middle\" x=\"201.0801\" y=\"-202.8\" font-family=\"Times,serif\" font-size=\"14.00\" fill=\"#000000\">&lt;term&gt; </text>\n",
       "</g>\n",
       "<!-- 13&#45;&gt;19 -->\n",
       "<g id=\"edge19\" class=\"edge\">\n",
       "<title>13&#45;&gt;19</title>\n",
       "<path fill=\"none\" stroke=\"#000000\" d=\"M157.6053,-249.6223C165.225,-242.152 177.2014,-230.4105 186.6562,-221.1411\"/>\n",
       "<polygon fill=\"#000000\" stroke=\"#000000\" points=\"189.1637,-223.5842 193.8542,-214.0842 184.2632,-218.5857 189.1637,-223.5842\"/>\n",
       "</g>\n",
       "<!-- 15 -->\n",
       "<g id=\"node16\" class=\"node\">\n",
       "<title>15</title>\n",
       "<text text-anchor=\"middle\" x=\"102.0801\" y=\"-152.8\" font-family=\"Times,serif\" font-size=\"14.00\" fill=\"#000000\">&lt;integer&gt; </text>\n",
       "</g>\n",
       "<!-- 14&#45;&gt;15 -->\n",
       "<g id=\"edge15\" class=\"edge\">\n",
       "<title>14&#45;&gt;15</title>\n",
       "<path fill=\"none\" stroke=\"#000000\" d=\"M102.0801,-199.6223C102.0801,-192.9738 102.0801,-182.942 102.0801,-174.2807\"/>\n",
       "<polygon fill=\"#000000\" stroke=\"#000000\" points=\"105.5802,-174.0842 102.0801,-164.0842 98.5802,-174.0842 105.5802,-174.0842\"/>\n",
       "</g>\n",
       "<!-- 16 -->\n",
       "<g id=\"node17\" class=\"node\">\n",
       "<title>16</title>\n",
       "<text text-anchor=\"middle\" x=\"102.0801\" y=\"-102.8\" font-family=\"Times,serif\" font-size=\"14.00\" fill=\"#000000\">&lt;digit&gt; </text>\n",
       "</g>\n",
       "<!-- 15&#45;&gt;16 -->\n",
       "<g id=\"edge16\" class=\"edge\">\n",
       "<title>15&#45;&gt;16</title>\n",
       "<path fill=\"none\" stroke=\"#000000\" d=\"M102.0801,-149.6223C102.0801,-142.9738 102.0801,-132.942 102.0801,-124.2807\"/>\n",
       "<polygon fill=\"#000000\" stroke=\"#000000\" points=\"105.5802,-124.0842 102.0801,-114.0842 98.5802,-124.0842 105.5802,-124.0842\"/>\n",
       "</g>\n",
       "<!-- 17 -->\n",
       "<g id=\"node18\" class=\"node\">\n",
       "<title>17</title>\n",
       "<text text-anchor=\"middle\" x=\"102.0801\" y=\"-52.8\" font-family=\"Times,serif\" font-size=\"14.00\" fill=\"#000000\">3 </text>\n",
       "</g>\n",
       "<!-- 16&#45;&gt;17 -->\n",
       "<g id=\"edge17\" class=\"edge\">\n",
       "<title>16&#45;&gt;17</title>\n",
       "<path fill=\"none\" stroke=\"#000000\" d=\"M102.0801,-99.6223C102.0801,-92.9738 102.0801,-82.942 102.0801,-74.2807\"/>\n",
       "<polygon fill=\"#000000\" stroke=\"#000000\" points=\"105.5802,-74.0842 102.0801,-64.0842 98.5802,-74.0842 105.5802,-74.0842\"/>\n",
       "</g>\n",
       "<!-- 20 -->\n",
       "<g id=\"node21\" class=\"node\">\n",
       "<title>20</title>\n",
       "<text text-anchor=\"middle\" x=\"201.0801\" y=\"-152.8\" font-family=\"Times,serif\" font-size=\"14.00\" fill=\"#000000\">&lt;factor&gt; </text>\n",
       "</g>\n",
       "<!-- 19&#45;&gt;20 -->\n",
       "<g id=\"edge20\" class=\"edge\">\n",
       "<title>19&#45;&gt;20</title>\n",
       "<path fill=\"none\" stroke=\"#000000\" d=\"M201.0801,-199.6223C201.0801,-192.9738 201.0801,-182.942 201.0801,-174.2807\"/>\n",
       "<polygon fill=\"#000000\" stroke=\"#000000\" points=\"204.5802,-174.0842 201.0801,-164.0842 197.5802,-174.0842 204.5802,-174.0842\"/>\n",
       "</g>\n",
       "<!-- 21 -->\n",
       "<g id=\"node22\" class=\"node\">\n",
       "<title>21</title>\n",
       "<text text-anchor=\"middle\" x=\"201.0801\" y=\"-102.8\" font-family=\"Times,serif\" font-size=\"14.00\" fill=\"#000000\">&lt;integer&gt; </text>\n",
       "</g>\n",
       "<!-- 20&#45;&gt;21 -->\n",
       "<g id=\"edge21\" class=\"edge\">\n",
       "<title>20&#45;&gt;21</title>\n",
       "<path fill=\"none\" stroke=\"#000000\" d=\"M201.0801,-149.6223C201.0801,-142.9738 201.0801,-132.942 201.0801,-124.2807\"/>\n",
       "<polygon fill=\"#000000\" stroke=\"#000000\" points=\"204.5802,-124.0842 201.0801,-114.0842 197.5802,-124.0842 204.5802,-124.0842\"/>\n",
       "</g>\n",
       "<!-- 22 -->\n",
       "<g id=\"node23\" class=\"node\">\n",
       "<title>22</title>\n",
       "<text text-anchor=\"middle\" x=\"201.0801\" y=\"-52.8\" font-family=\"Times,serif\" font-size=\"14.00\" fill=\"#000000\">&lt;digit&gt; </text>\n",
       "</g>\n",
       "<!-- 21&#45;&gt;22 -->\n",
       "<g id=\"edge22\" class=\"edge\">\n",
       "<title>21&#45;&gt;22</title>\n",
       "<path fill=\"none\" stroke=\"#000000\" d=\"M201.0801,-99.6223C201.0801,-92.9738 201.0801,-82.942 201.0801,-74.2807\"/>\n",
       "<polygon fill=\"#000000\" stroke=\"#000000\" points=\"204.5802,-74.0842 201.0801,-64.0842 197.5802,-74.0842 204.5802,-74.0842\"/>\n",
       "</g>\n",
       "<!-- 23 -->\n",
       "<g id=\"node24\" class=\"node\">\n",
       "<title>23</title>\n",
       "<text text-anchor=\"middle\" x=\"201.0801\" y=\"-2.8\" font-family=\"Times,serif\" font-size=\"14.00\" fill=\"#000000\">4 </text>\n",
       "</g>\n",
       "<!-- 22&#45;&gt;23 -->\n",
       "<g id=\"edge23\" class=\"edge\">\n",
       "<title>22&#45;&gt;23</title>\n",
       "<path fill=\"none\" stroke=\"#000000\" d=\"M201.0801,-49.6223C201.0801,-42.9738 201.0801,-32.942 201.0801,-24.2807\"/>\n",
       "<polygon fill=\"#000000\" stroke=\"#000000\" points=\"204.5802,-24.0842 201.0801,-14.0842 197.5802,-24.0842 204.5802,-24.0842\"/>\n",
       "</g>\n",
       "</g>\n",
       "</svg>\n"
      ],
      "text/plain": [
       "<graphviz.dot.Digraph at 0x1070d9ed0>"
      ]
     },
     "execution_count": 71,
     "metadata": {},
     "output_type": "execute_result"
    }
   ],
   "source": [
    "display_tree(mark_faulty_nodes(abs_tree_cnode1, '1'))"
   ]
  },
  {
   "cell_type": "code",
   "execution_count": 72,
   "metadata": {},
   "outputs": [],
   "source": [
    "c_node1 = mark_faulty_nodes(abs_tree_cnode1, '1')"
   ]
  },
  {
   "cell_type": "code",
   "execution_count": 73,
   "metadata": {},
   "outputs": [],
   "source": [
    "f_node1 = c_node1"
   ]
  },
  {
   "cell_type": "code",
   "execution_count": 74,
   "metadata": {},
   "outputs": [],
   "source": [
    "def faulty_node_to_grammar(tree, grammar=None):\n",
    "    if grammar is None: grammar = {}\n",
    "    if is_node_abstract(tree): return grammar\n",
    "    name, children, *rest = tree\n",
    "    tokens = []\n",
    "    if name not in grammar: grammar[name] = []\n",
    "    for c in children:\n",
    "        n, cs, *rest = c\n",
    "        tokens.append(n)\n",
    "        if is_nt(n):\n",
    "            faulty_node_to_grammar(c, grammar)\n",
    "    grammar[name].append(tuple(tokens))\n",
    "    return grammar"
   ]
  },
  {
   "cell_type": "code",
   "execution_count": 75,
   "metadata": {},
   "outputs": [
    {
     "data": {
      "text/plain": [
       "{'<factor>': [('(', '<expr>', ')'), ('(', '<expr>', ')')],\n",
       " '<expr>': [('<term>',)],\n",
       " '<term>': [('<factor>',)]}"
      ]
     },
     "execution_count": 75,
     "metadata": {},
     "output_type": "execute_result"
    }
   ],
   "source": [
    "faulty_node_to_grammar(abs_tree_cnode1)"
   ]
  },
  {
   "cell_type": "code",
   "execution_count": 76,
   "metadata": {},
   "outputs": [],
   "source": [
    "def faulty_node_to_linear_grammar(tree, prefix, grammar=None):\n",
    "    ltree = mark_faulty_nodes(tree, prefix)\n",
    "    return faulty_node_to_grammar(ltree)"
   ]
  },
  {
   "cell_type": "code",
   "execution_count": 77,
   "metadata": {},
   "outputs": [
    {
     "data": {
      "text/plain": [
       "{'<factor L1_1>': [('(', '<expr L1_1>', ')')],\n",
       " '<expr L1_1>': [('<term L1_1>',)],\n",
       " '<term L1_1>': [('<factor L1_2>',)],\n",
       " '<factor L1_2>': [('(', '<expr>', ')')]}"
      ]
     },
     "execution_count": 77,
     "metadata": {},
     "output_type": "execute_result"
    }
   ],
   "source": [
    "faulty_node_to_linear_grammar(abs_tree_cnode1, '1')"
   ]
  },
  {
   "cell_type": "code",
   "execution_count": 78,
   "metadata": {},
   "outputs": [],
   "source": [
    "dd_tree_abs1 = abs_tree1"
   ]
  },
  {
   "cell_type": "code",
   "execution_count": 79,
   "metadata": {},
   "outputs": [],
   "source": [
    "faulty_node1 = abs_tree_cnode1"
   ]
  },
  {
   "cell_type": "markdown",
   "metadata": {},
   "source": [
    "### Finding insertable positions"
   ]
  },
  {
   "cell_type": "markdown",
   "metadata": {},
   "source": [
    "Given a rule, and the faulty symbol, the positions in the rule where the fault can be inserted are all the non-terminals that will eventually reach the symbol of the faulty symbol. That is, if we have `<digit> + <expr>` as the expansion and the faulty symbol is `<factor*>` then, since `<digit>` can never reach `<factor>`, `0` is out, and so is `1` since it is a terminal symbol. Hence, only `<expr>` remains, which when expanded, one of the expansion paths will include a `<factor>`. Hence, here `[2]` is the answer."
   ]
  },
  {
   "cell_type": "code",
   "execution_count": 80,
   "metadata": {},
   "outputs": [],
   "source": [
    "def get_insertable_positions(rule, fkey, reachable):\n",
    "    positions = []\n",
    "    for i, token in enumerate(rule):\n",
    "        if not is_nt(token): continue\n",
    "        if fkey in reachable[token]:\n",
    "            positions.append(i)\n",
    "    return positions"
   ]
  },
  {
   "cell_type": "code",
   "execution_count": 81,
   "metadata": {},
   "outputs": [],
   "source": [
    "reachable1 = reachable_dict(EXPR_GRAMMAR)"
   ]
  },
  {
   "cell_type": "code",
   "execution_count": 82,
   "metadata": {},
   "outputs": [
    {
     "name": "stdout",
     "output_type": "stream",
     "text": [
      "<start>\n",
      "\t ['<expr>'] [0]\n",
      "<expr>\n",
      "\t ['<term>', ' + ', '<expr>'] [0, 2]\n",
      "\t ['<term>', ' - ', '<expr>'] [0, 2]\n",
      "\t ['<term>'] [0]\n",
      "<term>\n",
      "\t ['<factor>', ' * ', '<term>'] [0, 2]\n",
      "\t ['<factor>', ' / ', '<term>'] [0, 2]\n",
      "\t ['<factor>'] [0]\n",
      "<factor>\n",
      "\t ['+', '<factor>'] [1]\n",
      "\t ['-', '<factor>'] [1]\n",
      "\t ['(', '<expr>', ')'] [1]\n",
      "\t ['<integer>', '.', '<integer>'] []\n",
      "\t ['<integer>'] []\n",
      "<integer>\n",
      "\t ['<digit>', '<integer>'] []\n",
      "\t ['<digit>'] []\n",
      "<digit>\n",
      "\t ['0'] []\n",
      "\t ['1'] []\n",
      "\t ['2'] []\n",
      "\t ['3'] []\n",
      "\t ['4'] []\n",
      "\t ['5'] []\n",
      "\t ['6'] []\n",
      "\t ['7'] []\n",
      "\t ['8'] []\n",
      "\t ['9'] []\n"
     ]
    }
   ],
   "source": [
    "for k in EXPR_GRAMMAR:\n",
    "    print(k)\n",
    "    for rule in EXPR_GRAMMAR[k]:\n",
    "        v = get_insertable_positions(rule, '<factor>', reachable1)\n",
    "        print('\\t', rule, v)"
   ]
  },
  {
   "cell_type": "markdown",
   "metadata": {},
   "source": [
    "### Insert into key definition"
   ]
  },
  {
   "cell_type": "markdown",
   "metadata": {},
   "source": [
    "The essential idea is to make the rules in the grammar such that there is one fault position in each position.\n",
    "Take one rule at a time. For each token in the rule, get the reachable tokens. If the fsym is not in reachable tokens, then the falt can nnot be inserted in that position. So get all positions for the rule that we can insert fsym in, and for each position, change the symbol for later insertion."
   ]
  },
  {
   "cell_type": "code",
   "execution_count": 83,
   "metadata": {},
   "outputs": [],
   "source": [
    "def to_faulty_key(name, prefix):\n",
    "    return \"<%s F%s>\" % (name[1:-1], prefix)"
   ]
  },
  {
   "cell_type": "code",
   "execution_count": 84,
   "metadata": {},
   "outputs": [],
   "source": [
    "def insert_into_key(grammar, key, fsym, prefix, reachable):\n",
    "    rules = grammar[key]\n",
    "    my_rules = []\n",
    "    for rule in grammar[key]:\n",
    "        positions = get_insertable_positions(rule, fsym, reachable)\n",
    "        if not positions: # make it len(positions) >= n if necessary\n",
    "            # skip this rule because we can not embed the fault here.\n",
    "            continue\n",
    "        else:\n",
    "            # at each position, insert the fsym\n",
    "            for pos in positions:\n",
    "                new_rule = list(copy.deepcopy(rule))\n",
    "                new_rule[pos] = to_faulty_key(new_rule[pos], prefix)\n",
    "                my_rules.append(new_rule)\n",
    "    return (to_faulty_key(key, prefix), my_rules)"
   ]
  },
  {
   "cell_type": "code",
   "execution_count": 85,
   "metadata": {},
   "outputs": [
    {
     "name": "stdout",
     "output_type": "stream",
     "text": [
      "<start F1>\n",
      "     ['<expr F1>']\n",
      "\n",
      "<expr F1>\n",
      "     ['<term F1>', ' + ', '<expr>']\n",
      "     ['<term>', ' + ', '<expr F1>']\n",
      "     ['<term F1>', ' - ', '<expr>']\n",
      "     ['<term>', ' - ', '<expr F1>']\n",
      "     ['<term F1>']\n",
      "\n",
      "<term F1>\n",
      "     ['<factor F1>', ' * ', '<term>']\n",
      "     ['<factor>', ' * ', '<term F1>']\n",
      "     ['<factor F1>', ' / ', '<term>']\n",
      "     ['<factor>', ' / ', '<term F1>']\n",
      "     ['<factor F1>']\n",
      "\n",
      "<factor F1>\n",
      "     ['+', '<factor F1>']\n",
      "     ['-', '<factor F1>']\n",
      "     ['(', '<expr F1>', ')']\n",
      "\n",
      "<integer F1>\n",
      "\n",
      "<digit F1>\n",
      "\n"
     ]
    }
   ],
   "source": [
    "for key in EXPR_GRAMMAR:\n",
    "    fk, rules = insert_into_key(EXPR_GRAMMAR, key, '<factor>', '1', reachable1)\n",
    "    print(fk)\n",
    "    for r in rules:\n",
    "        print('    ', r)\n",
    "    print()"
   ]
  },
  {
   "cell_type": "code",
   "execution_count": 86,
   "metadata": {},
   "outputs": [],
   "source": [
    "def remove_duplicate_rules(grammar):\n",
    "    return {k: list(set([tuple(rule) for rule in grammar[k]])) for k in grammar}"
   ]
  },
  {
   "cell_type": "code",
   "execution_count": 87,
   "metadata": {},
   "outputs": [],
   "source": [
    "def insert_into_grammar(grammar, new_grammar, fsym, prefix_f, reachable):\n",
    "    for key in grammar:\n",
    "        fk, rules = insert_into_key(grammar, key, fsym, prefix_f, reachable)\n",
    "        if not rules: continue # no applicable rules\n",
    "        if fk not in new_grammar:\n",
    "            new_grammar[fk] = []\n",
    "        new_grammar[fk].extend(rules)\n",
    "    return remove_duplicate_rules(new_grammar)"
   ]
  },
  {
   "cell_type": "markdown",
   "metadata": {},
   "source": [
    "### Get the final grammar"
   ]
  },
  {
   "cell_type": "markdown",
   "metadata": {},
   "source": [
    "The final steps are as follows:\n",
    "1. Add the fault node, and the child nodes to the grammar.\n",
    "2. Generate the faulty key definitions. This is done per key in the original grammar.\n",
    "3. Finally, connect the faulty key and fault node."
   ]
  },
  {
   "cell_type": "code",
   "execution_count": 88,
   "metadata": {},
   "outputs": [],
   "source": [
    "def get_faulty_grammar(grammar, start_symbol, fault_node, f_idx):\n",
    "    def L_prefix(i): return '%d' % i\n",
    "    def F_prefix(i): return '%d' % i\n",
    "    prefix_l = L_prefix(f_idx)\n",
    "    prefix_f = F_prefix(f_idx)\n",
    "    key_f = fault_node[0]\n",
    "    # First, get the linear grammar\n",
    "\n",
    "    g = faulty_node_to_linear_grammar(fault_node, prefix_l)\n",
    "    new_grammar = {**g, **grammar}\n",
    "    \n",
    "    reachable = reachable_dict(grammar)\n",
    "    # the new grammar contains the faulty keys and their definitions.\n",
    "    # next, want to insert the fault prefix_f into each insertable positions. \n",
    "    # the insertable locations are those that can reach fsym\n",
    "    insert_into_grammar(grammar, new_grammar, key_f, prefix_f, reachable)\n",
    "\n",
    "    # now, the faulty key is an alternative to the original\n",
    "    fkey = mark_faulty_name(key_f, prefix_l, 1) # the starting in make_faulty is 1\n",
    "    fsym = to_faulty_key(key_f, prefix_f)\n",
    "    new_grammar[fsym].append([fkey])\n",
    "        \n",
    "    return to_faulty_key(start_symbol, F_prefix(f_idx)), new_grammar"
   ]
  },
  {
   "cell_type": "code",
   "execution_count": 89,
   "metadata": {},
   "outputs": [
    {
     "data": {
      "text/plain": [
       "{'<factor L1_1>': [('(', '<expr L1_1>', ')')],\n",
       " '<expr L1_1>': [('<term L1_1>',)],\n",
       " '<term L1_1>': [('<factor L1_2>',)],\n",
       " '<factor L1_2>': [('(', '<expr>', ')')],\n",
       " '<start>': [['<expr>']],\n",
       " '<expr>': [['<term>', ' + ', '<expr>'],\n",
       "  ['<term>', ' - ', '<expr>'],\n",
       "  ['<term>']],\n",
       " '<term>': [['<factor>', ' * ', '<term>'],\n",
       "  ['<factor>', ' / ', '<term>'],\n",
       "  ['<factor>']],\n",
       " '<factor>': [['+', '<factor>'],\n",
       "  ['-', '<factor>'],\n",
       "  ['(', '<expr>', ')'],\n",
       "  ['<integer>', '.', '<integer>'],\n",
       "  ['<integer>']],\n",
       " '<integer>': [['<digit>', '<integer>'], ['<digit>']],\n",
       " '<digit>': [['0'],\n",
       "  ['1'],\n",
       "  ['2'],\n",
       "  ['3'],\n",
       "  ['4'],\n",
       "  ['5'],\n",
       "  ['6'],\n",
       "  ['7'],\n",
       "  ['8'],\n",
       "  ['9']],\n",
       " '<start F1>': [['<expr F1>']],\n",
       " '<expr F1>': [['<term F1>', ' + ', '<expr>'],\n",
       "  ['<term>', ' + ', '<expr F1>'],\n",
       "  ['<term F1>', ' - ', '<expr>'],\n",
       "  ['<term>', ' - ', '<expr F1>'],\n",
       "  ['<term F1>']],\n",
       " '<term F1>': [['<factor F1>', ' * ', '<term>'],\n",
       "  ['<factor>', ' * ', '<term F1>'],\n",
       "  ['<factor F1>', ' / ', '<term>'],\n",
       "  ['<factor>', ' / ', '<term F1>'],\n",
       "  ['<factor F1>']],\n",
       " '<factor F1>': [['+', '<factor F1>'],\n",
       "  ['-', '<factor F1>'],\n",
       "  ['(', '<expr F1>', ')'],\n",
       "  ['<factor L1_1>']]}"
      ]
     },
     "execution_count": 89,
     "metadata": {},
     "output_type": "execute_result"
    }
   ],
   "source": [
    "start_faulty1, faulty_grammar1 = get_faulty_grammar(EXPR_GRAMMAR, '<start>', faulty_node1, 1); faulty_grammar1"
   ]
  },
  {
   "cell_type": "code",
   "execution_count": 90,
   "metadata": {},
   "outputs": [
    {
     "data": {
      "text/plain": [
       "'<start F1>'"
      ]
     },
     "execution_count": 90,
     "metadata": {},
     "output_type": "execute_result"
    }
   ],
   "source": [
    "start_faulty1"
   ]
  },
  {
   "cell_type": "code",
   "execution_count": 91,
   "metadata": {},
   "outputs": [],
   "source": [
    "gf1 = LimitFuzzer(faulty_grammar1)\n",
    "parser1 = Parser(faulty_grammar1, canonical=True, start_symbol=start_faulty1)"
   ]
  },
  {
   "cell_type": "code",
   "execution_count": 92,
   "metadata": {},
   "outputs": [
    {
     "name": "stdout",
     "output_type": "stream",
     "text": [
      "(1 / +4 + 1944 / (5 / 1 - 8)) * 23 / +((2.5)) - (6.9) / 932.0000 / ((1 + 4.1) + 2.6 * 5.8 * 8.1 - 1 / 5 + 7.9 - 7.2) * -8.14\n",
      "\n",
      "+33.2 - ---1 * ((5.3 + 6.7)) / +-5 + 119.0 / (-7.6 * 7 * 8.8 * 9) / +499.4 / 0.8\n",
      "\n",
      "(--01 * 47.436 / ((5.0)) / +(0.9)) - +-+(-5.2 * 5 + 3 - 8.8 + 6) / -60 * -1.791 / 6.57 - +(3.89 * +0 - 6.7 - 1.5 / 2 + 9 - 9) * 27 * +(2 * 8.1) / -0 / 7.1 - +----6 * +(7 * 7.8 - 1.5 - 9.3)\n",
      "\n",
      "(+---(((2.8)) / 5 - 9) / ((3) * 9.2 / 3.6) * (2.1 - 2.9 + 1.7) / --4.6 + -+(8.1) / (3.9 + 6 + 9) / (2 - 4.8)) * 77 + 0.7 / ++0\n",
      "\n",
      "+((5 * 7 - 7.5)) / 4 - 0.013 * (+(0.2 + 4) / 1.91 * 0.6 / 5.9 * 8.1) - 6 * 57541 * ((9) * 8) / +(3 + 0) / -+3 / +8 - 7.8\n",
      "\n",
      "-(+1.6 * (9 / 9)) / 53.27 / (+-(8) + (2.0 - 5.5) / 8.9 * 2.8 + -3.0 + 5 / 2 - 4 - 4) * ((9) / +6.1 * 9 * 9.4 - -8 * 7.5 / 4) * 9 / (2.0 * 2.4 - 6) / (9.6) * 3.0 / 2.1 * 8 - +-((7 - 2.6) / 5 * 6 / 1.6 - +9.7 / 2.7) - -+0 + -(6 / 5) - +-9.66 * (9.6 * 9 + 4 + 2) - +(0 - 4.4) - -(((1)) / 9.5) / 9 * 2 * 5.7 + 7.0 / 4 / 3 - 7\n",
      "\n",
      "(-+(((1)) * 1) * (7 / 7.8 + 8.6 / 5.1) * 473.5) / +71785.7 - -((8 * 5.3 + 8.1 + 0) - 97.05 / 7 / 5.2 + (2.6) / 1.8 / 2 - 8.2 / 0 + 1) / +--8.32 + -80 * -46.961\n",
      "\n",
      "(-+((7)) * 3789 / 788.3) * +--81.563 - +1 / -+-4 + 1.3 / (2 / 7.0)\n",
      "\n",
      "(721 * 705 * 685.28 / --0.1 - 8552.9761 / 32.2 - (1 - 6 - 1.7) / +8.6 * -2 / 2.8 / 8.0) / ((-((2.6))) + +-4.1 + +2 * (0)) / 4 - -+(-+5 / +1) + 7.311 - -4519.22 / (9.8)\n",
      "\n",
      "4 * 21 + (4.1855 + (4 + 7) - ++5.9 / 1.5 / 1 - (4) * 2 / 5.8) * --(+((3)) + 0.1 + 5.6) / +1.9 / (+1 * 7.4 / 5.7) * (3.2 * 1 + 3 - 0.5) * 23.4 / 4\n",
      "\n"
     ]
    }
   ],
   "source": [
    "for i in range(10):\n",
    "    s = gf1.fuzz(key=start_faulty1)\n",
    "    for t in parser1.parse(s):\n",
    "        print(tree_to_str(t))\n",
    "    print()"
   ]
  },
  {
   "cell_type": "markdown",
   "metadata": {},
   "source": [
    "A few parses"
   ]
  },
  {
   "cell_type": "code",
   "execution_count": 93,
   "metadata": {},
   "outputs": [
    {
     "name": "stdout",
     "output_type": "stream",
     "text": [
      "((2))\n"
     ]
    }
   ],
   "source": [
    "for tree in parser1.parse('((2))'):\n",
    "    print(tree_to_str(tree))"
   ]
  },
  {
   "cell_type": "code",
   "execution_count": 94,
   "metadata": {},
   "outputs": [
    {
     "name": "stdout",
     "output_type": "stream",
     "text": [
      "((1 + 1))\n"
     ]
    }
   ],
   "source": [
    "for tree in parser1.parse('((1 + 1))'):\n",
    "    print(tree_to_str(tree))"
   ]
  },
  {
   "cell_type": "code",
   "execution_count": 95,
   "metadata": {},
   "outputs": [
    {
     "name": "stdout",
     "output_type": "stream",
     "text": [
      "at '1 + 2'\n"
     ]
    }
   ],
   "source": [
    "try:\n",
    "    for tree in parser1.parse('1 + 2'):\n",
    "        print(tree)\n",
    "except SyntaxError as e:\n",
    "    print(e)"
   ]
  },
  {
   "cell_type": "code",
   "execution_count": 96,
   "metadata": {},
   "outputs": [
    {
     "name": "stdout",
     "output_type": "stream",
     "text": [
      "1 + ((3))\n"
     ]
    }
   ],
   "source": [
    "for tree in parser1.parse('1 + ((3))'):\n",
    "    print(tree_to_str(tree))"
   ]
  },
  {
   "cell_type": "markdown",
   "metadata": {},
   "source": [
    "## Adding Another Fault"
   ]
  },
  {
   "cell_type": "code",
   "execution_count": 97,
   "metadata": {},
   "outputs": [
    {
     "name": "stdout",
     "output_type": "stream",
     "text": [
      "Stripping: ['<start>']\n"
     ]
    },
    {
     "data": {
      "text/plain": [
       "{'<start F1>': [['<expr F1>']],\n",
       " '<expr F1>': [['<term F1>'],\n",
       "  ['<term F1>', ' + ', '<expr>'],\n",
       "  ['<term F1>', ' - ', '<expr>'],\n",
       "  ['<term>', ' + ', '<expr F1>'],\n",
       "  ['<term>', ' - ', '<expr F1>']],\n",
       " '<term F1>': [['<factor F1>'],\n",
       "  ['<factor F1>', ' * ', '<term>'],\n",
       "  ['<factor F1>', ' / ', '<term>'],\n",
       "  ['<factor>', ' * ', '<term F1>'],\n",
       "  ['<factor>', ' / ', '<term F1>']],\n",
       " '<expr>': [['<term>'],\n",
       "  ['<term>', ' + ', '<expr>'],\n",
       "  ['<term>', ' - ', '<expr>']],\n",
       " '<term>': [['<factor>'],\n",
       "  ['<factor>', ' * ', '<term>'],\n",
       "  ['<factor>', ' / ', '<term>']],\n",
       " '<factor F1>': [['(', '<expr F1>', ')'],\n",
       "  ['+', '<factor F1>'],\n",
       "  ['-', '<factor F1>'],\n",
       "  ['<factor L1_1>']],\n",
       " '<factor>': [['(', '<expr>', ')'],\n",
       "  ['+', '<factor>'],\n",
       "  ['-', '<factor>'],\n",
       "  ['<integer>'],\n",
       "  ['<integer>', '.', '<integer>']],\n",
       " '<factor L1_1>': [['(', '<expr L1_1>', ')']],\n",
       " '<expr L1_1>': [['<term L1_1>']],\n",
       " '<term L1_1>': [['<factor L1_2>']],\n",
       " '<factor L1_2>': [['(', '<expr>', ')']],\n",
       " '<integer>': [['<digit>'], ['<digit>', '<integer>']],\n",
       " '<digit>': [['0'],\n",
       "  ['1'],\n",
       "  ['2'],\n",
       "  ['3'],\n",
       "  ['4'],\n",
       "  ['5'],\n",
       "  ['6'],\n",
       "  ['7'],\n",
       "  ['8'],\n",
       "  ['9']]}"
      ]
     },
     "execution_count": 97,
     "metadata": {},
     "output_type": "execute_result"
    }
   ],
   "source": [
    "f2_grammar = grammar_gc(faulty_grammar1, start_faulty1); f2_grammar"
   ]
  },
  {
   "cell_type": "markdown",
   "metadata": {},
   "source": [
    "### Abstract nodes"
   ]
  },
  {
   "cell_type": "code",
   "execution_count": 98,
   "metadata": {},
   "outputs": [],
   "source": [
    "abs_path_2 = [0, 2, 0, 0, 1, 0, 0, 1, 0, 2]\n",
    "tree2 = find_node(parsed_expr, abs_path_2)"
   ]
  },
  {
   "cell_type": "code",
   "execution_count": 99,
   "metadata": {},
   "outputs": [
    {
     "data": {
      "text/plain": [
       "('<term>',\n",
       " [('<factor>', [('<integer>', [('<digit>', [('3', [])])])]),\n",
       "  (' / ', []),\n",
       "  ('<term>', [('<factor>', [('<integer>', [('<digit>', [('4', [])])])])])])"
      ]
     },
     "execution_count": 99,
     "metadata": {},
     "output_type": "execute_result"
    }
   ],
   "source": [
    "tree2"
   ]
  },
  {
   "cell_type": "code",
   "execution_count": 100,
   "metadata": {},
   "outputs": [
    {
     "data": {
      "text/plain": [
       "('<term>', [('<factor>', [('<integer>', [('<digit>', [('4', [])])])])])"
      ]
     },
     "execution_count": 100,
     "metadata": {},
     "output_type": "execute_result"
    }
   ],
   "source": [
    "find_node(tree2, [2])"
   ]
  },
  {
   "cell_type": "code",
   "execution_count": 101,
   "metadata": {},
   "outputs": [],
   "source": [
    "abs_tree2 = mark_abstract_nodes(tree2, [[0], [2]])"
   ]
  },
  {
   "cell_type": "code",
   "execution_count": 102,
   "metadata": {},
   "outputs": [
    {
     "data": {
      "text/plain": [
       "'<factor> / <term>'"
      ]
     },
     "execution_count": 102,
     "metadata": {},
     "output_type": "execute_result"
    }
   ],
   "source": [
    "tree_to_str_a(abs_tree2)"
   ]
  },
  {
   "cell_type": "code",
   "execution_count": 103,
   "metadata": {},
   "outputs": [
    {
     "data": {
      "text/plain": [
       "('<term>',\n",
       " [('<factor>',\n",
       "   [('<integer>',\n",
       "     [('<digit>', [('3', [], {'abstract': False})], {'abstract': False})],\n",
       "     {'abstract': False})],\n",
       "   {'abstract': True}),\n",
       "  (' / ', [], {'abstract': False}),\n",
       "  ('<term>',\n",
       "   [('<factor>',\n",
       "     [('<integer>',\n",
       "       [('<digit>', [('4', [], {'abstract': False})], {'abstract': False})],\n",
       "       {'abstract': False})],\n",
       "     {'abstract': False})],\n",
       "   {'abstract': True})],\n",
       " {'abstract': False})"
      ]
     },
     "execution_count": 103,
     "metadata": {},
     "output_type": "execute_result"
    }
   ],
   "source": [
    "abs_tree2"
   ]
  },
  {
   "cell_type": "markdown",
   "metadata": {},
   "source": [
    "### Characterizing node"
   ]
  },
  {
   "cell_type": "code",
   "execution_count": 104,
   "metadata": {
    "scrolled": true
   },
   "outputs": [
    {
     "data": {
      "text/plain": [
       "('<term>',\n",
       " [('<factor>',\n",
       "   [('<integer>',\n",
       "     [('<digit>', [('3', [], {'abstract': False})], {'abstract': False})],\n",
       "     {'abstract': False})],\n",
       "   {'abstract': True}),\n",
       "  (' / ', [], {'abstract': False}),\n",
       "  ('<term>',\n",
       "   [('<factor>',\n",
       "     [('<integer>',\n",
       "       [('<digit>', [('4', [], {'abstract': False})], {'abstract': False})],\n",
       "       {'abstract': False})],\n",
       "     {'abstract': False})],\n",
       "   {'abstract': True})],\n",
       " {'abstract': False})"
      ]
     },
     "execution_count": 104,
     "metadata": {},
     "output_type": "execute_result"
    }
   ],
   "source": [
    "abs_tree_cnode2 = find_charecterizing_node(abs_tree2); abs_tree_cnode2"
   ]
  },
  {
   "cell_type": "code",
   "execution_count": 105,
   "metadata": {},
   "outputs": [
    {
     "data": {
      "text/plain": [
       "('<term L2_1>',\n",
       " [('<factor>',\n",
       "   [('<integer>',\n",
       "     [('<digit>', [('3', [], {'abstract': False})], {'abstract': False})],\n",
       "     {'abstract': False})],\n",
       "   {'abstract': True}),\n",
       "  (' / ', [], {'abstract': False}),\n",
       "  ('<term>',\n",
       "   [('<factor>',\n",
       "     [('<integer>',\n",
       "       [('<digit>', [('4', [], {'abstract': False})], {'abstract': False})],\n",
       "       {'abstract': False})],\n",
       "     {'abstract': False})],\n",
       "   {'abstract': True})],\n",
       " {'abstract': False})"
      ]
     },
     "execution_count": 105,
     "metadata": {},
     "output_type": "execute_result"
    }
   ],
   "source": [
    "c_node2 = mark_faulty_nodes(abs_tree_cnode2, '2'); c_node2"
   ]
  },
  {
   "cell_type": "markdown",
   "metadata": {},
   "source": [
    "### Reachable keys"
   ]
  },
  {
   "cell_type": "markdown",
   "metadata": {},
   "source": [
    "Next, we need to identify insertable positions. The complexity here is that we have some special nodes -- `L` and `F` that require special handling. For these, only the first part of the nt should be inspected. Note that the `L` node is the linearized fault pattern, while `F` is the guaranteed fault nonterminal.\n",
    "\n",
    "Simple reachability analysis works for all nodes;"
   ]
  },
  {
   "cell_type": "markdown",
   "metadata": {},
   "source": [
    " However, simple reachability is not enough. We also have to check whether `L` nodes match directly, and if so, add them to reachable."
   ]
  },
  {
   "cell_type": "markdown",
   "metadata": {},
   "source": [
    "First, we find all the `L` keys, then, choose only those keys that correspond to the characteristic node of our fault. Only these can be inspected for direct match."
   ]
  },
  {
   "cell_type": "code",
   "execution_count": 106,
   "metadata": {},
   "outputs": [],
   "source": [
    "def is_linear(key): return ' L' in key"
   ]
  },
  {
   "cell_type": "code",
   "execution_count": 107,
   "metadata": {},
   "outputs": [],
   "source": [
    "def normalize(key):\n",
    "    assert key[0], key[-1] == ('<', '>')\n",
    "    return '<%s>' % key[1:-1].split()[0]"
   ]
  },
  {
   "cell_type": "code",
   "execution_count": 108,
   "metadata": {},
   "outputs": [
    {
     "data": {
      "text/plain": [
       "'<term>'"
      ]
     },
     "execution_count": 108,
     "metadata": {},
     "output_type": "execute_result"
    }
   ],
   "source": [
    "nt_name2 = abs_tree_cnode2[0]; nt_name2"
   ]
  },
  {
   "cell_type": "code",
   "execution_count": 109,
   "metadata": {},
   "outputs": [
    {
     "data": {
      "text/plain": [
       "['<factor L1_1>', '<factor L1_2>']"
      ]
     },
     "execution_count": 109,
     "metadata": {},
     "output_type": "execute_result"
    }
   ],
   "source": [
    "L0 = [key for key in f2_grammar if is_linear(key) and normalize(key) == '<factor>']; L0"
   ]
  },
  {
   "cell_type": "code",
   "execution_count": 110,
   "metadata": {},
   "outputs": [
    {
     "data": {
      "text/plain": [
       "['<term L1_1>']"
      ]
     },
     "execution_count": 110,
     "metadata": {},
     "output_type": "execute_result"
    }
   ],
   "source": [
    "L1 = [key for key in f2_grammar if is_linear(key) and normalize(key) == nt_name2]; L1"
   ]
  },
  {
   "cell_type": "markdown",
   "metadata": {},
   "source": [
    "How many of the above list will match our new fault pattern directly? Note that we are not interested in indirect matches as they will be included in the reachable dict anyway."
   ]
  },
  {
   "cell_type": "code",
   "execution_count": 111,
   "metadata": {},
   "outputs": [],
   "source": [
    "def node_to_normalized_rule(children):\n",
    "    return [normalize(c[0]) if is_nt(c[0]) else c[0] for c in children]"
   ]
  },
  {
   "cell_type": "code",
   "execution_count": 112,
   "metadata": {},
   "outputs": [],
   "source": [
    "def rule_to_normalized_rule(rule):\n",
    "    return [normalize(t) if is_nt(t) else t for t in rule]"
   ]
  },
  {
   "cell_type": "code",
   "execution_count": 113,
   "metadata": {},
   "outputs": [],
   "source": [
    "def to_non_faulty_key(name, prefix):\n",
    "    return \"<%s N%s>\" % (name[1:-1], prefix)"
   ]
  },
  {
   "cell_type": "code",
   "execution_count": 114,
   "metadata": {},
   "outputs": [
    {
     "data": {
      "text/plain": [
       "['(', '<expr L1_1>', ')']"
      ]
     },
     "execution_count": 114,
     "metadata": {},
     "output_type": "execute_result"
    }
   ],
   "source": [
    "[c[0] for c in c_node1[1]]"
   ]
  },
  {
   "cell_type": "code",
   "execution_count": 115,
   "metadata": {},
   "outputs": [
    {
     "data": {
      "text/plain": [
       "['(', '<expr>', ')']"
      ]
     },
     "execution_count": 115,
     "metadata": {},
     "output_type": "execute_result"
    }
   ],
   "source": [
    "node_to_normalized_rule(c_node1[1])"
   ]
  },
  {
   "cell_type": "code",
   "execution_count": 116,
   "metadata": {},
   "outputs": [
    {
     "data": {
      "text/plain": [
       "('<factor L1_1>',\n",
       " [('(', [], {'abstract': False}),\n",
       "  ('<expr L1_1>',\n",
       "   [('<term L1_1>',\n",
       "     [('<factor L1_2>',\n",
       "       [('(', [], {'abstract': False}),\n",
       "        ('<expr>',\n",
       "         [('<term>',\n",
       "           [('<factor>',\n",
       "             [('<integer>',\n",
       "               [('<digit>',\n",
       "                 [('2', [], {'abstract': False})],\n",
       "                 {'abstract': False})],\n",
       "               {'abstract': False})],\n",
       "             {'abstract': False}),\n",
       "            (' * ', [], {'abstract': False}),\n",
       "            ('<term>',\n",
       "             [('<factor>',\n",
       "               [('<integer>',\n",
       "                 [('<digit>',\n",
       "                   [('3', [], {'abstract': False})],\n",
       "                   {'abstract': False})],\n",
       "                 {'abstract': False})],\n",
       "               {'abstract': False}),\n",
       "              (' / ', [], {'abstract': False}),\n",
       "              ('<term>',\n",
       "               [('<factor>',\n",
       "                 [('<integer>',\n",
       "                   [('<digit>',\n",
       "                     [('4', [], {'abstract': False})],\n",
       "                     {'abstract': False})],\n",
       "                   {'abstract': False})],\n",
       "                 {'abstract': False})],\n",
       "               {'abstract': False})],\n",
       "             {'abstract': False})],\n",
       "           {'abstract': False})],\n",
       "         {'abstract': True}),\n",
       "        (')', [], {'abstract': False})],\n",
       "       {'abstract': False})],\n",
       "     {'abstract': False})],\n",
       "   {'abstract': False}),\n",
       "  (')', [], {'abstract': False})],\n",
       " {'abstract': False})"
      ]
     },
     "execution_count": 116,
     "metadata": {},
     "output_type": "execute_result"
    }
   ],
   "source": [
    "c_node1"
   ]
  },
  {
   "cell_type": "code",
   "execution_count": 117,
   "metadata": {},
   "outputs": [
    {
     "data": {
      "text/plain": [
       "('<term L2_1>',\n",
       " [('<factor>',\n",
       "   [('<integer>',\n",
       "     [('<digit>', [('3', [], {'abstract': False})], {'abstract': False})],\n",
       "     {'abstract': False})],\n",
       "   {'abstract': True}),\n",
       "  (' / ', [], {'abstract': False}),\n",
       "  ('<term>',\n",
       "   [('<factor>',\n",
       "     [('<integer>',\n",
       "       [('<digit>', [('4', [], {'abstract': False})], {'abstract': False})],\n",
       "       {'abstract': False})],\n",
       "     {'abstract': False})],\n",
       "   {'abstract': True})],\n",
       " {'abstract': False})"
      ]
     },
     "execution_count": 117,
     "metadata": {},
     "output_type": "execute_result"
    }
   ],
   "source": [
    "c_node2"
   ]
  },
  {
   "cell_type": "markdown",
   "metadata": {},
   "source": [
    "TODO: There are two things to be careful about here: The new cnode could be more refined than the original: i.e new cnode is `(((<expr>)))` and the grammar represents `((<expr>))` or the new cnode could be more abstract: `(<expr>)`. Note that while grammar can present `((<expr ...>))`, cnode can never present `(<expr ...>)`. Unfortunately, these could be different on each abstract node, which could be many in the same cnode. These are not problematic in `f1 and f2` operations as we do not guarantee exact count, but should be handled in `f1 and not(f2)`."
   ]
  },
  {
   "cell_type": "code",
   "execution_count": 118,
   "metadata": {},
   "outputs": [],
   "source": [
    "def does_Lkey_produce_abs_pattern(grammar, key, cnode):\n",
    "    name_c, children_c, *rest = cnode\n",
    "    #assert ' ' not in name_c # not on marked cnodes\n",
    "    rule_c = node_to_normalized_rule(children_c)\n",
    "    nkey = normalize(key)\n",
    "    if normalize(name_c) != nkey:\n",
    "        return False\n",
    "    if is_node_abstract(cnode): # we do not need to check anymore.\n",
    "        # TODO: is the grammar more refined?\n",
    "        return True\n",
    "    \n",
    "    # a not abstract key should be linear.\n",
    "    if not is_linear(key):\n",
    "        # TODO: is the cnode more refined?\n",
    "        return False\n",
    "    # print(key, 'matches', name_c)\n",
    "\n",
    "    rules = grammar[key]\n",
    "    for rule in rules:\n",
    "        match = False\n",
    "        n_rule = [normalize(t) if is_nt(t) else t for t in rule]\n",
    "        if n_rule != rule_c: continue\n",
    "        for k,c in zip(rule, children_c):\n",
    "            if is_nt(k):\n",
    "                match = does_Lkey_produce_abs_pattern(grammar, k, c)\n",
    "            else:\n",
    "                match = (k == c[0]) # terminals; does not need to normalize\n",
    "            if not match:\n",
    "                # to the next rule\n",
    "                break\n",
    "        #print(\"    \",rule_c)\n",
    "        if match: return True\n",
    "    return False"
   ]
  },
  {
   "cell_type": "markdown",
   "metadata": {},
   "source": [
    "Verify that the `L` key of the same characteriztic node matches."
   ]
  },
  {
   "cell_type": "code",
   "execution_count": 119,
   "metadata": {},
   "outputs": [],
   "source": [
    "assert does_Lkey_produce_abs_pattern(f2_grammar, '<factor L1_1>', c_node1)"
   ]
  },
  {
   "cell_type": "markdown",
   "metadata": {},
   "source": [
    "Note: `<factor L1_2>` corresponds to a single parenthesis. It should not match abs_tree_cnode1"
   ]
  },
  {
   "cell_type": "code",
   "execution_count": 120,
   "metadata": {},
   "outputs": [],
   "source": [
    "assert not does_Lkey_produce_abs_pattern(f2_grammar, '<factor L1_2>', c_node1)"
   ]
  },
  {
   "cell_type": "markdown",
   "metadata": {},
   "source": [
    "These should not match."
   ]
  },
  {
   "cell_type": "code",
   "execution_count": 121,
   "metadata": {},
   "outputs": [],
   "source": [
    "assert not does_Lkey_produce_abs_pattern(f2_grammar, '<term L1_1>', c_node1)"
   ]
  },
  {
   "cell_type": "code",
   "execution_count": 122,
   "metadata": {},
   "outputs": [],
   "source": [
    "assert not does_Lkey_produce_abs_pattern(f2_grammar, '<term L1_1>', c_node2)"
   ]
  },
  {
   "cell_type": "markdown",
   "metadata": {},
   "source": [
    "The following should match as it is again a single parenthesis"
   ]
  },
  {
   "cell_type": "code",
   "execution_count": 123,
   "metadata": {},
   "outputs": [
    {
     "data": {
      "text/plain": [
       "'(<expr>)'"
      ]
     },
     "execution_count": 123,
     "metadata": {},
     "output_type": "execute_result"
    }
   ],
   "source": [
    "v = find_node(abs_tree_cnode1, [1,0]); tree_to_str_a(v)"
   ]
  },
  {
   "cell_type": "code",
   "execution_count": 124,
   "metadata": {},
   "outputs": [],
   "source": [
    "assert does_Lkey_produce_abs_pattern(f2_grammar, '<term L1_1>', v)"
   ]
  },
  {
   "cell_type": "markdown",
   "metadata": {},
   "source": [
    "Now, we can extend our reachability; that is if `<term L1_1>` does match the given characteristic node, then reaching or being `<term L1_1>` is also sufficient for reachability."
   ]
  },
  {
   "cell_type": "code",
   "execution_count": 125,
   "metadata": {},
   "outputs": [],
   "source": [
    "def similar_nodes_to_cnode(f_grammar, cnode):\n",
    "    c_node_key = normalize(cnode[0])\n",
    "    # get all the matching Linear nodes to the characteristic node's starting key\n",
    "    Lx = [key for key in f_grammar if is_linear(key) and normalize(key) == c_node_key]\n",
    "    extra_reach = [kx for kx in Lx if does_Lkey_produce_abs_pattern(f_grammar, kx, cnode)]\n",
    "    return extra_reach"
   ]
  },
  {
   "cell_type": "markdown",
   "metadata": {},
   "source": [
    "Only `<factro L1_1>` (double paren) should match `cnode1`. In particular, `<factor L1_2>` (single paren) should not match the `cnode1`."
   ]
  },
  {
   "cell_type": "code",
   "execution_count": 126,
   "metadata": {},
   "outputs": [
    {
     "name": "stdout",
     "output_type": "stream",
     "text": [
      "<factor L2x_1>\n"
     ]
    },
    {
     "data": {
      "text/plain": [
       "['<factor L1_1>']"
      ]
     },
     "execution_count": 126,
     "metadata": {},
     "output_type": "execute_result"
    }
   ],
   "source": [
    "cx_node1 = mark_faulty_nodes(abs_tree_cnode1, '2x'); print(cx_node1[0])\n",
    "er1 = similar_nodes_to_cnode(f2_grammar, cx_node1); er1"
   ]
  },
  {
   "cell_type": "code",
   "execution_count": 127,
   "metadata": {},
   "outputs": [
    {
     "data": {
      "text/plain": [
       "[]"
      ]
     },
     "execution_count": 127,
     "metadata": {},
     "output_type": "execute_result"
    }
   ],
   "source": [
    "similar_nodes_to_cnode(f2_grammar, c_node2)"
   ]
  },
  {
   "cell_type": "code",
   "execution_count": 128,
   "metadata": {},
   "outputs": [],
   "source": [
    "reachable2 = reachable_dict(f2_grammar)"
   ]
  },
  {
   "cell_type": "code",
   "execution_count": 129,
   "metadata": {
    "scrolled": false
   },
   "outputs": [
    {
     "name": "stdout",
     "output_type": "stream",
     "text": [
      "<start F1>\n",
      "   <expr F1>\n",
      "   <factor L1_1>\n",
      "   <expr L1_1>\n",
      "   <integer>\n",
      "   <factor>\n",
      "   <factor L1_2>\n",
      "   <factor F1>\n",
      "   <expr>\n",
      "   <term>\n",
      "   <term F1>\n",
      "   <digit>\n",
      "   <term L1_1>\n",
      "\n",
      "<expr F1>\n",
      "   <expr F1>\n",
      "   <factor L1_1>\n",
      "   <term L1_1>\n",
      "   <integer>\n",
      "   <expr L1_1>\n",
      "   <factor L1_2>\n",
      "   <factor F1>\n",
      "   <expr>\n",
      "   <term>\n",
      "   <term F1>\n",
      "   <digit>\n",
      "   <factor>\n",
      "\n",
      "<term F1>\n",
      "   <expr F1>\n",
      "   <factor L1_1>\n",
      "   <integer>\n",
      "   <expr L1_1>\n",
      "   <factor>\n",
      "   <factor L1_2>\n",
      "   <term F1>\n",
      "   <expr>\n",
      "   <term>\n",
      "   <factor F1>\n",
      "   <digit>\n",
      "   <term L1_1>\n",
      "\n",
      "<expr>\n",
      "   <integer>\n",
      "   <expr>\n",
      "   <term>\n",
      "   <digit>\n",
      "   <factor>\n",
      "\n",
      "<term>\n",
      "   <integer>\n",
      "   <expr>\n",
      "   <term>\n",
      "   <digit>\n",
      "   <factor>\n",
      "\n",
      "<factor F1>\n",
      "   <expr F1>\n",
      "   <factor L1_1>\n",
      "   <expr L1_1>\n",
      "   <integer>\n",
      "   <factor>\n",
      "   <factor L1_2>\n",
      "   <term F1>\n",
      "   <expr>\n",
      "   <term>\n",
      "   <factor F1>\n",
      "   <digit>\n",
      "   <term L1_1>\n",
      "\n",
      "<factor>\n",
      "   <integer>\n",
      "   <expr>\n",
      "   <term>\n",
      "   <digit>\n",
      "   <factor>\n",
      "\n",
      "<factor L1_1>\n",
      "   <integer>\n",
      "   <expr L1_1>\n",
      "   <factor>\n",
      "   <factor L1_2>\n",
      "   <expr>\n",
      "   <term>\n",
      "   <digit>\n",
      "   <term L1_1>\n",
      "\n",
      "<expr L1_1>\n",
      "   <integer>\n",
      "   <factor>\n",
      "   <factor L1_2>\n",
      "   <expr>\n",
      "   <term>\n",
      "   <digit>\n",
      "   <term L1_1>\n",
      "\n",
      "<term L1_1>\n",
      "   <integer>\n",
      "   <factor L1_2>\n",
      "   <expr>\n",
      "   <term>\n",
      "   <digit>\n",
      "   <factor>\n",
      "\n",
      "<factor L1_2>\n",
      "   <integer>\n",
      "   <expr>\n",
      "   <term>\n",
      "   <digit>\n",
      "   <factor>\n",
      "\n",
      "<integer>\n",
      "   <integer>\n",
      "   <digit>\n",
      "\n",
      "<digit>\n",
      "\n"
     ]
    }
   ],
   "source": [
    "for k in reachable2:\n",
    "    print(k)\n",
    "    for v in reachable2[k]:\n",
    "        print(\"  \", v)\n",
    "    print()"
   ]
  },
  {
   "cell_type": "markdown",
   "metadata": {},
   "source": [
    "If we are inserting `cx_node1`, then `<factor L1_1>` should be considered similar to `<factor>`, but no other factor."
   ]
  },
  {
   "cell_type": "code",
   "execution_count": 130,
   "metadata": {},
   "outputs": [
    {
     "data": {
      "text/plain": [
       "{'<term L2_1>': [('<factor>', ' / ', '<term>')]}"
      ]
     },
     "execution_count": 130,
     "metadata": {},
     "output_type": "execute_result"
    }
   ],
   "source": [
    "faulty_node_to_linear_grammar(abs_tree_cnode2, '2')"
   ]
  },
  {
   "cell_type": "markdown",
   "metadata": {},
   "source": [
    "### Insert into Key"
   ]
  },
  {
   "cell_type": "markdown",
   "metadata": {},
   "source": [
    " The essential idea is to make the rules in the grammar such that there is one fault position in each position.\n",
    "Take one rule at a time. For each token in the rule, get the reachable tokens. If the fsym is not in reachable tokens, then the falt can nnot be inserted in that position. So get all positions for the rule that we can insert fsym in, and for each position, change the symbol for later insertion. `fsym_matches` are keys that already match the pattern we are trying to insert. So we need to leave them alone."
   ]
  },
  {
   "cell_type": "code",
   "execution_count": 131,
   "metadata": {},
   "outputs": [],
   "source": [
    "def insert_into_key(grammar, key, fsym, fsym_matches, prefix, reachable):\n",
    "    rules = grammar[key]\n",
    "    my_rules = []\n",
    "    for rule in grammar[key]:\n",
    "        # if there are fsym_matches, then the fault is already inserted.\n",
    "        # Leave the rule alone.\n",
    "        positions = []\n",
    "        for fsym_m in fsym_matches:\n",
    "            m_positions = get_insertable_positions(rule, fsym_m, reachable)\n",
    "            positions.extend(m_positions)\n",
    "        # fsym_matches are those tokens that already embed the fault. Hence, no\n",
    "        # fault insertion necessary\n",
    "        if positions:\n",
    "            my_rules.append(rule)                  \n",
    "        else:\n",
    "            positions = get_insertable_positions(rule, fsym, reachable)\n",
    "            if not positions: # make it len(positions) >= n if necessary\n",
    "                # skip this rule because we can not embed the fault here.\n",
    "                continue\n",
    "            else:\n",
    "                # at each position, insert the fsym\n",
    "                for pos in positions:\n",
    "                    new_rule = list(copy.deepcopy(rule))\n",
    "                    new_rule[pos] = to_faulty_key(new_rule[pos], prefix)\n",
    "                    my_rules.append(new_rule)\n",
    "    return (to_faulty_key(key, prefix), my_rules)"
   ]
  },
  {
   "cell_type": "code",
   "execution_count": 132,
   "metadata": {},
   "outputs": [
    {
     "name": "stdout",
     "output_type": "stream",
     "text": [
      "<start F1 F2>\n",
      "     ['<expr F1 F2>']\n",
      "\n",
      "<expr F1 F2>\n",
      "     ['<term F1 F2>']\n",
      "     ['<term F1 F2>', ' + ', '<expr>']\n",
      "     ['<term F1>', ' + ', '<expr F2>']\n",
      "     ['<term F1 F2>', ' - ', '<expr>']\n",
      "     ['<term F1>', ' - ', '<expr F2>']\n",
      "     ['<term F2>', ' + ', '<expr F1>']\n",
      "     ['<term>', ' + ', '<expr F1 F2>']\n",
      "     ['<term F2>', ' - ', '<expr F1>']\n",
      "     ['<term>', ' - ', '<expr F1 F2>']\n",
      "\n",
      "<term F1 F2>\n",
      "     ['<factor F1 F2>']\n",
      "     ['<factor F1 F2>', ' * ', '<term>']\n",
      "     ['<factor F1>', ' * ', '<term F2>']\n",
      "     ['<factor F1 F2>', ' / ', '<term>']\n",
      "     ['<factor F1>', ' / ', '<term F2>']\n",
      "     ['<factor F2>', ' * ', '<term F1>']\n",
      "     ['<factor>', ' * ', '<term F1 F2>']\n",
      "     ['<factor F2>', ' / ', '<term F1>']\n",
      "     ['<factor>', ' / ', '<term F1 F2>']\n",
      "\n",
      "<expr F2>\n",
      "     ['<term F2>']\n",
      "     ['<term F2>', ' + ', '<expr>']\n",
      "     ['<term>', ' + ', '<expr F2>']\n",
      "     ['<term F2>', ' - ', '<expr>']\n",
      "     ['<term>', ' - ', '<expr F2>']\n",
      "\n",
      "<term F2>\n",
      "     ['<factor F2>']\n",
      "     ['<factor F2>', ' * ', '<term>']\n",
      "     ['<factor>', ' * ', '<term F2>']\n",
      "     ['<factor F2>', ' / ', '<term>']\n",
      "     ['<factor>', ' / ', '<term F2>']\n",
      "\n",
      "<factor F1 F2>\n",
      "     ['(', '<expr F1 F2>', ')']\n",
      "     ['+', '<factor F1 F2>']\n",
      "     ['-', '<factor F1 F2>']\n",
      "     ['<factor L1_1 F2>']\n",
      "\n",
      "<factor F2>\n",
      "     ['(', '<expr F2>', ')']\n",
      "     ['+', '<factor F2>']\n",
      "     ['-', '<factor F2>']\n",
      "\n",
      "<factor L1_1 F2>\n",
      "     ['(', '<expr L1_1 F2>', ')']\n",
      "\n",
      "<expr L1_1 F2>\n",
      "     ['<term L1_1 F2>']\n",
      "\n",
      "<term L1_1 F2>\n",
      "     ['<factor L1_2 F2>']\n",
      "\n",
      "<factor L1_2 F2>\n",
      "     ['(', '<expr F2>', ')']\n",
      "\n",
      "<integer F2>\n",
      "\n",
      "<digit F2>\n",
      "\n"
     ]
    }
   ],
   "source": [
    "for key in f2_grammar:\n",
    "    fk, rules = insert_into_key(f2_grammar, key, '<factor>', [], '2', reachable2)\n",
    "    print(fk)\n",
    "    for r in rules:\n",
    "        print('    ', r)\n",
    "    print()"
   ]
  },
  {
   "cell_type": "code",
   "execution_count": 133,
   "metadata": {},
   "outputs": [],
   "source": [
    "def insert_into_grammar(grammar, new_grammar, fsym, fsym_matches, prefix_f, reachable):\n",
    "    for key in grammar:\n",
    "        fk, rules = insert_into_key(grammar, key, fsym, fsym_matches, prefix_f, reachable)\n",
    "        if not rules: continue # no applicable rules\n",
    "        if fk not in new_grammar:\n",
    "            new_grammar[fk] = []\n",
    "        new_grammar[fk].extend(rules)\n",
    "    return remove_duplicate_rules(new_grammar)"
   ]
  },
  {
   "cell_type": "code",
   "execution_count": 134,
   "metadata": {},
   "outputs": [],
   "source": [
    "faulty_node2 = abs_tree_cnode2"
   ]
  },
  {
   "cell_type": "code",
   "execution_count": 135,
   "metadata": {},
   "outputs": [],
   "source": [
    "def get_faulty_grammar(grammar, start_symbol, fault_node, f_idx):\n",
    "    def L_prefix(i): return '%d' % i\n",
    "    def F_prefix(i): return '%d' % i\n",
    "    prefix_l = L_prefix(f_idx)\n",
    "    prefix_f = F_prefix(f_idx)\n",
    "    key_f = fault_node[0]\n",
    "    # First, get the linear grammar\n",
    "\n",
    "    g = faulty_node_to_linear_grammar(fault_node, prefix_l)\n",
    "    new_grammar = {**g, **grammar}\n",
    "    \n",
    "    reachable = reachable_dict(grammar)\n",
    "    similar_nodes = similar_nodes_to_cnode(grammar, fault_node)\n",
    "    # the new grammar contains the faulty keys and their definitions.\n",
    "    # next, want to insert the fault prefix_f into each insertable positions. \n",
    "    # the insertable locations are those that can reach fsym\n",
    "    insert_into_grammar(grammar, new_grammar, key_f, similar_nodes, prefix_f, reachable)\n",
    "\n",
    "    # now, the faulty key is an alternative to the original\n",
    "    fkey = mark_faulty_name(key_f, prefix_l, 1) # the starting in make_faulty is 1\n",
    "    fsym = to_faulty_key(key_f, prefix_f)\n",
    "    new_grammar[fsym].append([fkey])\n",
    "        \n",
    "    return to_faulty_key(start_symbol, F_prefix(f_idx)), new_grammar"
   ]
  },
  {
   "cell_type": "code",
   "execution_count": 136,
   "metadata": {},
   "outputs": [
    {
     "name": "stdout",
     "output_type": "stream",
     "text": [
      "Stripping: ['<start>', '<start F1>', '<start F2>']\n"
     ]
    },
    {
     "data": {
      "text/plain": [
       "{'<start F1 F2>': [['<expr F1 F2>']],\n",
       " '<expr F1 F2>': [['<term F1 F2>'],\n",
       "  ['<term F1 F2>', ' + ', '<expr>'],\n",
       "  ['<term F1 F2>', ' - ', '<expr>'],\n",
       "  ['<term F1>', ' + ', '<expr F2>'],\n",
       "  ['<term F1>', ' - ', '<expr F2>'],\n",
       "  ['<term F2>', ' + ', '<expr F1>'],\n",
       "  ['<term F2>', ' - ', '<expr F1>'],\n",
       "  ['<term>', ' + ', '<expr F1 F2>'],\n",
       "  ['<term>', ' - ', '<expr F1 F2>']],\n",
       " '<term F1 F2>': [['<factor F1 F2>'],\n",
       "  ['<factor F1 F2>', ' * ', '<term>'],\n",
       "  ['<factor F1 F2>', ' / ', '<term>'],\n",
       "  ['<factor F1>', ' * ', '<term F2>'],\n",
       "  ['<factor F1>', ' / ', '<term F2>'],\n",
       "  ['<factor F2>', ' * ', '<term F1>'],\n",
       "  ['<factor F2>', ' / ', '<term F1>'],\n",
       "  ['<factor>', ' * ', '<term F1 F2>'],\n",
       "  ['<factor>', ' / ', '<term F1 F2>']],\n",
       " '<expr>': [['<term>'],\n",
       "  ['<term>', ' + ', '<expr>'],\n",
       "  ['<term>', ' - ', '<expr>']],\n",
       " '<term F1>': [['<factor F1>'],\n",
       "  ['<factor F1>', ' * ', '<term>'],\n",
       "  ['<factor F1>', ' / ', '<term>'],\n",
       "  ['<factor>', ' * ', '<term F1>'],\n",
       "  ['<factor>', ' / ', '<term F1>']],\n",
       " '<expr F2>': [['<term F2>'],\n",
       "  ['<term F2>', ' + ', '<expr>'],\n",
       "  ['<term F2>', ' - ', '<expr>'],\n",
       "  ['<term>', ' + ', '<expr F2>'],\n",
       "  ['<term>', ' - ', '<expr F2>']],\n",
       " '<term F2>': [['<factor F2>'],\n",
       "  ['<factor F2>', ' * ', '<term>'],\n",
       "  ['<factor F2>', ' / ', '<term>'],\n",
       "  ['<factor>', ' * ', '<term F2>'],\n",
       "  ['<factor>', ' / ', '<term F2>'],\n",
       "  ['<term L2_1>']],\n",
       " '<expr F1>': [['<term F1>'],\n",
       "  ['<term F1>', ' + ', '<expr>'],\n",
       "  ['<term F1>', ' - ', '<expr>'],\n",
       "  ['<term>', ' + ', '<expr F1>'],\n",
       "  ['<term>', ' - ', '<expr F1>']],\n",
       " '<term>': [['<factor>'],\n",
       "  ['<factor>', ' * ', '<term>'],\n",
       "  ['<factor>', ' / ', '<term>']],\n",
       " '<factor F1 F2>': [['(', '<expr F1 F2>', ')'],\n",
       "  ['+', '<factor F1 F2>'],\n",
       "  ['-', '<factor F1 F2>'],\n",
       "  ['<factor L1_1 F2>']],\n",
       " '<factor F1>': [['(', '<expr F1>', ')'],\n",
       "  ['+', '<factor F1>'],\n",
       "  ['-', '<factor F1>'],\n",
       "  ['<factor L1_1>']],\n",
       " '<factor F2>': [['(', '<expr F2>', ')'],\n",
       "  ['+', '<factor F2>'],\n",
       "  ['-', '<factor F2>']],\n",
       " '<factor>': [['(', '<expr>', ')'],\n",
       "  ['+', '<factor>'],\n",
       "  ['-', '<factor>'],\n",
       "  ['<integer>'],\n",
       "  ['<integer>', '.', '<integer>']],\n",
       " '<factor L1_1 F2>': [['(', '<expr L1_1 F2>', ')']],\n",
       " '<expr L1_1 F2>': [['<term L1_1 F2>']],\n",
       " '<term L1_1 F2>': [['<factor L1_2 F2>']],\n",
       " '<factor L1_2 F2>': [['(', '<expr F2>', ')']],\n",
       " '<factor L1_1>': [['(', '<expr L1_1>', ')']],\n",
       " '<expr L1_1>': [['<term L1_1>']],\n",
       " '<term L1_1>': [['<factor L1_2>']],\n",
       " '<factor L1_2>': [['(', '<expr>', ')']],\n",
       " '<integer>': [['<digit>'], ['<digit>', '<integer>']],\n",
       " '<digit>': [['0'],\n",
       "  ['1'],\n",
       "  ['2'],\n",
       "  ['3'],\n",
       "  ['4'],\n",
       "  ['5'],\n",
       "  ['6'],\n",
       "  ['7'],\n",
       "  ['8'],\n",
       "  ['9']],\n",
       " '<term L2_1>': [['<factor>', ' / ', '<term>']]}"
      ]
     },
     "execution_count": 136,
     "metadata": {},
     "output_type": "execute_result"
    }
   ],
   "source": [
    "start_faulty2, faulty_grammar2_ = get_faulty_grammar(faulty_grammar1, start_faulty1, faulty_node2, 2);\n",
    "faulty_grammar2 = grammar_gc(faulty_grammar2_, start_faulty2); faulty_grammar2"
   ]
  },
  {
   "cell_type": "code",
   "execution_count": 137,
   "metadata": {},
   "outputs": [],
   "source": [
    "gf2 = LimitFuzzer(faulty_grammar2)\n",
    "parser2 = Parser(faulty_grammar2, canonical=True, start_symbol=start_faulty2)"
   ]
  },
  {
   "cell_type": "code",
   "execution_count": 138,
   "metadata": {
    "scrolled": false
   },
   "outputs": [
    {
     "name": "stdout",
     "output_type": "stream",
     "text": [
      "(1.2 / ++1.6) * ++(+0.2 / 6.5 * 9.9 - 1 + 0 - 5) / 6053 + 4.086 * 34 * 9.34 / -+38 * (6.7 * 6.4 - 8.7 - 9.0) / +9 * 3.3 / 4.0 * 8 - 4 * +8.9 / 1.58 * 989.9 * ++2 / +4 + (60 + -3 - 1.3) + -((4)) + 526.0 - 2.95 / 6.8 * 4 - 5 / 2 * 6.9\n",
      "(1.2 / ++1.6) * ++(+0.2 / 6.5 * 9.9 - 1 + 0 - 5) / 6053 + 4.086 * 34 * 9.34 / -+38 * (6.7 * 6.4 - 8.7 - 9.0) / +9 * 3.3 / 4.0 * 8 - 4 * +8.9 / 1.58 * 989.9 * ++2 / +4 + (60 + -3 - 1.3) + -((4)) + 526.0 - 2.95 / 6.8 * 4 - 5 / 2 * 6.9\n",
      "(1.2 / ++1.6) * ++(+0.2 / 6.5 * 9.9 - 1 + 0 - 5) / 6053 + 4.086 * 34 * 9.34 / -+38 * (6.7 * 6.4 - 8.7 - 9.0) / +9 * 3.3 / 4.0 * 8 - 4 * +8.9 / 1.58 * 989.9 * ++2 / +4 + (60 + -3 - 1.3) + -((4)) + 526.0 - 2.95 / 6.8 * 4 - 5 / 2 * 6.9\n",
      "(1.2 / ++1.6) * ++(+0.2 / 6.5 * 9.9 - 1 + 0 - 5) / 6053 + 4.086 * 34 * 9.34 / -+38 * (6.7 * 6.4 - 8.7 - 9.0) / +9 * 3.3 / 4.0 * 8 - 4 * +8.9 / 1.58 * 989.9 * ++2 / +4 + (60 + -3 - 1.3) + -((4)) + 526.0 - 2.95 / 6.8 * 4 - 5 / 2 * 6.9\n",
      "\n",
      "(((7.0))) + --749 * -075.3 + +91 * -81.11 / --1.7 / ---5 / (4) - +-(7.8) / 538\n",
      "\n",
      "---++++(1.5 / 3.0) * -(-(3.4) - -1.5) - (-(4 / 1.4) / 5 / +-((4)) + -28 + -4.2 * +2.4 * 1.6 / 0.5) * 2 * -4052 * ((5.0)) / 01 / +8.8\n",
      "---++++(1.5 / 3.0) * -(-(3.4) - -1.5) - (-(4 / 1.4) / 5 / +-((4)) + -28 + -4.2 * +2.4 * 1.6 / 0.5) * 2 * -4052 * ((5.0)) / 01 / +8.8\n",
      "\n",
      "(+0.9 / -+1.21 / -2 - 73.1091 * 286) * -+551.70 + (++(3 + 2.0) / +++7.9 + -12 - ++(2 / 8.6) - 6.4 / 8.2 / 9 + 9 * 2 + 2.4 - 3) / -39.02 * +(-6.2 / 4.0 * 2 - 3 / 5) + (-+7.5 - 75 * 0 / 9 * 6.0) / 90 * ((0))\n",
      "(+0.9 / -+1.21 / -2 - 73.1091 * 286) * -+551.70 + (++(3 + 2.0) / +++7.9 + -12 - ++(2 / 8.6) - 6.4 / 8.2 / 9 + 9 * 2 + 2.4 - 3) / -39.02 * +(-6.2 / 4.0 * 2 - 3 / 5) + (-+7.5 - 75 * 0 / 9 * 6.0) / 90 * ((0))\n",
      "(+0.9 / -+1.21 / -2 - 73.1091 * 286) * -+551.70 + (++(3 + 2.0) / +++7.9 + -12 - ++(2 / 8.6) - 6.4 / 8.2 / 9 + 9 * 2 + 2.4 - 3) / -39.02 * +(-6.2 / 4.0 * 2 - 3 / 5) + (-+7.5 - 75 * 0 / 9 * 6.0) / 90 * ((0))\n",
      "\n",
      "(72.7 * +-+-(2 / 0.1) / -1.88 * +(9) * +4 * 3.4 / 2 - 2.1) * +-((7 - 0 + 9.1 / ((7)) + 6.0) - 6 + 5 * 3.7 - 6.5 + 9) * 0.941 + --++-+(5.5) / -+(8.5 * 4 - 3 / 7.1) + 6 / 791 * ((1.7) / 1 / 8 + 1 - 0 - 6.3) + 59 + +-+9 / +++6 / 04 / +3.5 * 6 / 0 + ++-6 - 35 * -3 / 8 / 7\n",
      "(72.7 * +-+-(2 / 0.1) / -1.88 * +(9) * +4 * 3.4 / 2 - 2.1) * +-((7 - 0 + 9.1 / ((7)) + 6.0) - 6 + 5 * 3.7 - 6.5 + 9) * 0.941 + --++-+(5.5) / -+(8.5 * 4 - 3 / 7.1) + 6 / 791 * ((1.7) / 1 / 8 + 1 - 0 - 6.3) + 59 + +-+9 / +++6 / 04 / +3.5 * 6 / 0 + ++-6 - 35 * -3 / 8 / 7\n",
      "(72.7 * +-+-(2 / 0.1) / -1.88 * +(9) * +4 * 3.4 / 2 - 2.1) * +-((7 - 0 + 9.1 / ((7)) + 6.0) - 6 + 5 * 3.7 - 6.5 + 9) * 0.941 + --++-+(5.5) / -+(8.5 * 4 - 3 / 7.1) + 6 / 791 * ((1.7) / 1 / 8 + 1 - 0 - 6.3) + 59 + +-+9 / +++6 / 04 / +3.5 * 6 / 0 + ++-6 - 35 * -3 / 8 / 7\n",
      "\n",
      "+4 * -+2.63 * 12.6 / (+0 + 5.6 / 0.3 - 2.6 + 0.6) / (3.3 * 8) * 3 * 2 / 7.8 / 1.3 + -(60.027 * +6 * +0 * 0.2 - -0.2 / 8 / 0.8 - (7) + 4.4 + 4) * (+-8 * ((8.0)) * +7 + -+2 + +0.9 * 8.8 + 5 * 0.6) * (+4.9 * 4.6 - -3.2 / 1.4 / 4.4 + 9) + 754.65 + -+8 * ((8.0) * 2 / 9.5)\n",
      "+4 * -+2.63 * 12.6 / (+0 + 5.6 / 0.3 - 2.6 + 0.6) / (3.3 * 8) * 3 * 2 / 7.8 / 1.3 + -(60.027 * +6 * +0 * 0.2 - -0.2 / 8 / 0.8 - (7) + 4.4 + 4) * (+-8 * ((8.0)) * +7 + -+2 + +0.9 * 8.8 + 5 * 0.6) * (+4.9 * 4.6 - -3.2 / 1.4 / 4.4 + 9) + 754.65 + -+8 * ((8.0) * 2 / 9.5)\n",
      "+4 * -+2.63 * 12.6 / (+0 + 5.6 / 0.3 - 2.6 + 0.6) / (3.3 * 8) * 3 * 2 / 7.8 / 1.3 + -(60.027 * +6 * +0 * 0.2 - -0.2 / 8 / 0.8 - (7) + 4.4 + 4) * (+-8 * ((8.0)) * +7 + -+2 + +0.9 * 8.8 + 5 * 0.6) * (+4.9 * 4.6 - -3.2 / 1.4 / 4.4 + 9) + 754.65 + -+8 * ((8.0) * 2 / 9.5)\n",
      "\n",
      "((5.3 * 8.0 / 3 + 5 * 8.5)) * -2 / -(0 * 8 + 3 * 7.3 - 1 - 2.9) / 6 * +-2 / (7.0 + 7.7)\n",
      "((5.3 * 8.0 / 3 + 5 * 8.5)) * -2 / -(0 * 8 + 3 * 7.3 - 1 - 2.9) / 6 * +-2 / (7.0 + 7.7)\n",
      "((5.3 * 8.0 / 3 + 5 * 8.5)) * -2 / -(0 * 8 + 3 * 7.3 - 1 - 2.9) / 6 * +-2 / (7.0 + 7.7)\n",
      "\n",
      "(-5.0 / (+7.0 - 0.8 - 5) / 4) / --+(+7 / 4.5 * 0 / 9.5 - 4) - 4.8 - 151 / +((0.6))\n",
      "(-5.0 / (+7.0 - 0.8 - 5) / 4) / --+(+7 / 4.5 * 0 / 9.5 - 4) - 4.8 - 151 / +((0.6))\n",
      "(-5.0 / (+7.0 - 0.8 - 5) / 4) / --+(+7 / 4.5 * 0 / 9.5 - 4) - 4.8 - 151 / +((0.6))\n",
      "\n",
      "-++((5) * -3.5 * (9.5 / 8.1)) / 17 * -+(-3.3) / +(3 - 9.0 * 4) * 1 / +2 * 4 + -71 / ((0.6 - 5.6)) / +--75.04 / 4 * 3.52 / +2 / +7.4 / 7.8 * 3.5 - -+((6.9) * 5.0 + 7.1 - 7 + 8.2) * +(1 / 8.0 + 5.2 + 3.3 - 5) + +03 * +2 / (1 * 4.2) + 9.125 / +(6.7 + 5) / 29 + 0\n",
      "-++((5) * -3.5 * (9.5 / 8.1)) / 17 * -+(-3.3) / +(3 - 9.0 * 4) * 1 / +2 * 4 + -71 / ((0.6 - 5.6)) / +--75.04 / 4 * 3.52 / +2 / +7.4 / 7.8 * 3.5 - -+((6.9) * 5.0 + 7.1 - 7 + 8.2) * +(1 / 8.0 + 5.2 + 3.3 - 5) + +03 * +2 / (1 * 4.2) + 9.125 / +(6.7 + 5) / 29 + 0\n",
      "-++((5) * -3.5 * (9.5 / 8.1)) / 17 * -+(-3.3) / +(3 - 9.0 * 4) * 1 / +2 * 4 + -71 / ((0.6 - 5.6)) / +--75.04 / 4 * 3.52 / +2 / +7.4 / 7.8 * 3.5 - -+((6.9) * 5.0 + 7.1 - 7 + 8.2) * +(1 / 8.0 + 5.2 + 3.3 - 5) + +03 * +2 / (1 * 4.2) + 9.125 / +(6.7 + 5) / 29 + 0\n",
      "-++((5) * -3.5 * (9.5 / 8.1)) / 17 * -+(-3.3) / +(3 - 9.0 * 4) * 1 / +2 * 4 + -71 / ((0.6 - 5.6)) / +--75.04 / 4 * 3.52 / +2 / +7.4 / 7.8 * 3.5 - -+((6.9) * 5.0 + 7.1 - 7 + 8.2) * +(1 / 8.0 + 5.2 + 3.3 - 5) + +03 * +2 / (1 * 4.2) + 9.125 / +(6.7 + 5) / 29 + 0\n",
      "-++((5) * -3.5 * (9.5 / 8.1)) / 17 * -+(-3.3) / +(3 - 9.0 * 4) * 1 / +2 * 4 + -71 / ((0.6 - 5.6)) / +--75.04 / 4 * 3.52 / +2 / +7.4 / 7.8 * 3.5 - -+((6.9) * 5.0 + 7.1 - 7 + 8.2) * +(1 / 8.0 + 5.2 + 3.3 - 5) + +03 * +2 / (1 * 4.2) + 9.125 / +(6.7 + 5) / 29 + 0\n",
      "\n",
      "+54 * 1.0870 * -+(1 / 9 - 3.8 / 0.7 + 1.0) - ((4.0 * 7)) * (7.414 - (2) * 4.0 * 1 * 8.6 - 1.2 * 1 * 0.1 - 7 + 3.7 - 8.3)\n",
      "\n"
     ]
    }
   ],
   "source": [
    "for i in range(10):\n",
    "    s = gf2.fuzz(key=start_faulty2)\n",
    "    for t in parser2.parse(s):\n",
    "        print(tree_to_str(t))\n",
    "    print()"
   ]
  },
  {
   "cell_type": "markdown",
   "metadata": {},
   "source": [
    "### Verify idempotency\n",
    "\n",
    "Check: Adding the same fault multiple times should not result in changes to grammar."
   ]
  },
  {
   "cell_type": "code",
   "execution_count": 139,
   "metadata": {},
   "outputs": [
    {
     "data": {
      "text/plain": [
       "'((<expr>))'"
      ]
     },
     "execution_count": 139,
     "metadata": {},
     "output_type": "execute_result"
    }
   ],
   "source": [
    "tree_to_str_a(faulty_node1)"
   ]
  },
  {
   "cell_type": "code",
   "execution_count": 140,
   "metadata": {},
   "outputs": [
    {
     "name": "stdout",
     "output_type": "stream",
     "text": [
      "Stripping: ['<start>']\n"
     ]
    },
    {
     "data": {
      "text/plain": [
       "{'<start F1>': [['<expr F1>']],\n",
       " '<expr F1>': [['<term F1>'],\n",
       "  ['<term F1>', ' + ', '<expr>'],\n",
       "  ['<term F1>', ' - ', '<expr>'],\n",
       "  ['<term>', ' + ', '<expr F1>'],\n",
       "  ['<term>', ' - ', '<expr F1>']],\n",
       " '<term F1>': [['<factor F1>'],\n",
       "  ['<factor F1>', ' * ', '<term>'],\n",
       "  ['<factor F1>', ' / ', '<term>'],\n",
       "  ['<factor>', ' * ', '<term F1>'],\n",
       "  ['<factor>', ' / ', '<term F1>']],\n",
       " '<expr>': [['<term>'],\n",
       "  ['<term>', ' + ', '<expr>'],\n",
       "  ['<term>', ' - ', '<expr>']],\n",
       " '<term>': [['<factor>'],\n",
       "  ['<factor>', ' * ', '<term>'],\n",
       "  ['<factor>', ' / ', '<term>']],\n",
       " '<factor F1>': [['(', '<expr F1>', ')'],\n",
       "  ['+', '<factor F1>'],\n",
       "  ['-', '<factor F1>'],\n",
       "  ['<factor L1_1>']],\n",
       " '<factor>': [['(', '<expr>', ')'],\n",
       "  ['+', '<factor>'],\n",
       "  ['-', '<factor>'],\n",
       "  ['<integer>'],\n",
       "  ['<integer>', '.', '<integer>']],\n",
       " '<factor L1_1>': [['(', '<expr L1_1>', ')']],\n",
       " '<expr L1_1>': [['<term L1_1>']],\n",
       " '<term L1_1>': [['<factor L1_2>']],\n",
       " '<factor L1_2>': [['(', '<expr>', ')']],\n",
       " '<integer>': [['<digit>'], ['<digit>', '<integer>']],\n",
       " '<digit>': [['0'],\n",
       "  ['1'],\n",
       "  ['2'],\n",
       "  ['3'],\n",
       "  ['4'],\n",
       "  ['5'],\n",
       "  ['6'],\n",
       "  ['7'],\n",
       "  ['8'],\n",
       "  ['9']]}"
      ]
     },
     "execution_count": 140,
     "metadata": {},
     "output_type": "execute_result"
    }
   ],
   "source": [
    "start_faultyA, faulty_grammarA_ = get_faulty_grammar(EXPR_GRAMMAR, '<start>', faulty_node1, 1);\n",
    "faulty_grammarA = grammar_gc(faulty_grammarA_, start_faultyA); faulty_grammarA"
   ]
  },
  {
   "cell_type": "code",
   "execution_count": 141,
   "metadata": {},
   "outputs": [
    {
     "name": "stdout",
     "output_type": "stream",
     "text": [
      "Stripping: ['<factor L2_1>', '<expr L2_1>', '<term L2_1>', '<factor L2_2>', '<start F1>', '<expr F1 F2>', '<term F1 F2>', '<expr F2>', '<term F2>', '<factor F1 F2>', '<factor F2>', '<factor L1_1 F2>', '<expr L1_1 F2>', '<term L1_1 F2>', '<factor L1_2 F2>']\n"
     ]
    },
    {
     "data": {
      "text/plain": [
       "{'<start F1 F2>': [['<expr F1>']],\n",
       " '<expr F1>': [['<term F1>'],\n",
       "  ['<term F1>', ' + ', '<expr>'],\n",
       "  ['<term F1>', ' - ', '<expr>'],\n",
       "  ['<term>', ' + ', '<expr F1>'],\n",
       "  ['<term>', ' - ', '<expr F1>']],\n",
       " '<term F1>': [['<factor F1>'],\n",
       "  ['<factor F1>', ' * ', '<term>'],\n",
       "  ['<factor F1>', ' / ', '<term>'],\n",
       "  ['<factor>', ' * ', '<term F1>'],\n",
       "  ['<factor>', ' / ', '<term F1>']],\n",
       " '<expr>': [['<term>'],\n",
       "  ['<term>', ' + ', '<expr>'],\n",
       "  ['<term>', ' - ', '<expr>']],\n",
       " '<term>': [['<factor>'],\n",
       "  ['<factor>', ' * ', '<term>'],\n",
       "  ['<factor>', ' / ', '<term>']],\n",
       " '<factor F1>': [['(', '<expr F1>', ')'],\n",
       "  ['+', '<factor F1>'],\n",
       "  ['-', '<factor F1>'],\n",
       "  ['<factor L1_1>']],\n",
       " '<factor>': [['(', '<expr>', ')'],\n",
       "  ['+', '<factor>'],\n",
       "  ['-', '<factor>'],\n",
       "  ['<integer>'],\n",
       "  ['<integer>', '.', '<integer>']],\n",
       " '<factor L1_1>': [['(', '<expr L1_1>', ')']],\n",
       " '<expr L1_1>': [['<term L1_1>']],\n",
       " '<term L1_1>': [['<factor L1_2>']],\n",
       " '<factor L1_2>': [['(', '<expr>', ')']],\n",
       " '<integer>': [['<digit>'], ['<digit>', '<integer>']],\n",
       " '<digit>': [['0'],\n",
       "  ['1'],\n",
       "  ['2'],\n",
       "  ['3'],\n",
       "  ['4'],\n",
       "  ['5'],\n",
       "  ['6'],\n",
       "  ['7'],\n",
       "  ['8'],\n",
       "  ['9']]}"
      ]
     },
     "execution_count": 141,
     "metadata": {},
     "output_type": "execute_result"
    }
   ],
   "source": [
    "start_faultyB, faulty_grammarB_ = get_faulty_grammar(faulty_grammarA, start_faultyA, faulty_node1, 2);\n",
    "faulty_grammarB = grammar_gc(faulty_grammarB_, start_faultyB); faulty_grammarB"
   ]
  },
  {
   "cell_type": "markdown",
   "metadata": {},
   "source": [
    "## Removing a fault"
   ]
  },
  {
   "cell_type": "markdown",
   "metadata": {},
   "source": [
    "The question is, given a grammar, how do we make sure that a particular abstract pattern does not occur. The idea, start looking at the nonterminal of the characteristic node; then, find the matching rule (accept all other rules as is) that matches with the characteristic node's children, and for each child, create a new rule with that child negated."
   ]
  },
  {
   "cell_type": "code",
   "execution_count": 142,
   "metadata": {},
   "outputs": [],
   "source": [
    "def to_non_faulty_key(name, prefix):\n",
    "    return \"<%s N%s>\" % (name[1:-1], prefix)"
   ]
  },
  {
   "cell_type": "code",
   "execution_count": 143,
   "metadata": {},
   "outputs": [
    {
     "data": {
      "text/plain": [
       "'((<expr>))'"
      ]
     },
     "execution_count": 143,
     "metadata": {},
     "output_type": "execute_result"
    }
   ],
   "source": [
    "tree_to_str_a(abs_tree_cnode1)"
   ]
  },
  {
   "cell_type": "code",
   "execution_count": 144,
   "metadata": {
    "scrolled": false
   },
   "outputs": [
    {
     "data": {
      "text/plain": [
       "('<factor LN_1>',\n",
       " [('(', [], {'abstract': False}),\n",
       "  ('<expr LN_1>',\n",
       "   [('<term LN_1>',\n",
       "     [('<factor LN_2>',\n",
       "       [('(', [], {'abstract': False}),\n",
       "        ('<expr>',\n",
       "         [('<term>',\n",
       "           [('<factor>',\n",
       "             [('<integer>',\n",
       "               [('<digit>',\n",
       "                 [('2', [], {'abstract': False})],\n",
       "                 {'abstract': False})],\n",
       "               {'abstract': False})],\n",
       "             {'abstract': False}),\n",
       "            (' * ', [], {'abstract': False}),\n",
       "            ('<term>',\n",
       "             [('<factor>',\n",
       "               [('<integer>',\n",
       "                 [('<digit>',\n",
       "                   [('3', [], {'abstract': False})],\n",
       "                   {'abstract': False})],\n",
       "                 {'abstract': False})],\n",
       "               {'abstract': False}),\n",
       "              (' / ', [], {'abstract': False}),\n",
       "              ('<term>',\n",
       "               [('<factor>',\n",
       "                 [('<integer>',\n",
       "                   [('<digit>',\n",
       "                     [('4', [], {'abstract': False})],\n",
       "                     {'abstract': False})],\n",
       "                   {'abstract': False})],\n",
       "                 {'abstract': False})],\n",
       "               {'abstract': False})],\n",
       "             {'abstract': False})],\n",
       "           {'abstract': False})],\n",
       "         {'abstract': True}),\n",
       "        (')', [], {'abstract': False})],\n",
       "       {'abstract': False})],\n",
       "     {'abstract': False})],\n",
       "   {'abstract': False}),\n",
       "  (')', [], {'abstract': False})],\n",
       " {'abstract': False})"
      ]
     },
     "execution_count": 144,
     "metadata": {},
     "output_type": "execute_result"
    }
   ],
   "source": [
    "cnode_n1 = mark_faulty_nodes(abs_tree_cnode1, 'N'); cnode_n1"
   ]
  },
  {
   "cell_type": "code",
   "execution_count": 145,
   "metadata": {},
   "outputs": [
    {
     "data": {
      "text/plain": [
       "'<factor>'"
      ]
     },
     "execution_count": 145,
     "metadata": {},
     "output_type": "execute_result"
    }
   ],
   "source": [
    "to_non_faulty_key = normalize(cnode_n1[0]); to_non_faulty_key"
   ]
  },
  {
   "cell_type": "code",
   "execution_count": 146,
   "metadata": {},
   "outputs": [
    {
     "data": {
      "text/plain": [
       "[['+', '<factor>'],\n",
       " ['-', '<factor>'],\n",
       " ['(', '<expr>', ')'],\n",
       " ['<integer>', '.', '<integer>'],\n",
       " ['<integer>']]"
      ]
     },
     "execution_count": 146,
     "metadata": {},
     "output_type": "execute_result"
    }
   ],
   "source": [
    "EXPR_GRAMMAR[to_non_faulty_key]"
   ]
  },
  {
   "cell_type": "code",
   "execution_count": 147,
   "metadata": {},
   "outputs": [
    {
     "data": {
      "text/plain": [
       "['(', '<expr>', ')']"
      ]
     },
     "execution_count": 147,
     "metadata": {},
     "output_type": "execute_result"
    }
   ],
   "source": [
    "node_to_normalized_rule(cnode_n1[1])"
   ]
  },
  {
   "cell_type": "markdown",
   "metadata": {},
   "source": [
    "### Negate a token in the given rule\n",
    "\n",
    "Given a rule, the pattern rule, and the token index, we return the rule with the token at the token index replaced with negated name. The negated name is the negation of the token at the index using the token in the pattern at the given index."
   ]
  },
  {
   "cell_type": "code",
   "execution_count": 148,
   "metadata": {},
   "outputs": [],
   "source": [
    "def tsplit(token):\n",
    "    front, *back = token[1:-1].split(None, 1)\n",
    "    return front, ' '.join(back)"
   ]
  },
  {
   "cell_type": "code",
   "execution_count": 149,
   "metadata": {},
   "outputs": [],
   "source": [
    "def negate_name(original, pattern_name):\n",
    "    ofront, oback = tsplit(original)\n",
    "    pfront, pback = tsplit(pattern_name)\n",
    "    assert ofront == pfront\n",
    "    return '<%s %s-%s>' % (pfront, oback, pback)"
   ]
  },
  {
   "cell_type": "markdown",
   "metadata": {},
   "source": [
    "#### The stem\n",
    "\n",
    "The stem of a token is the original nonterminal it corresponds to, before refinement."
   ]
  },
  {
   "cell_type": "code",
   "execution_count": 150,
   "metadata": {},
   "outputs": [],
   "source": [
    "def stem(token):\n",
    "    return tsplit(token)[0]"
   ]
  },
  {
   "cell_type": "markdown",
   "metadata": {},
   "source": [
    "#### The refinement\n",
    "\n",
    "The refinement of a token is the part after the initial space in a token which corresponds to how the refined token came to be (based on adding/negating other faults.)"
   ]
  },
  {
   "cell_type": "code",
   "execution_count": 151,
   "metadata": {},
   "outputs": [],
   "source": [
    "def refinement(token):\n",
    "    return tsplit(token)[1]"
   ]
  },
  {
   "cell_type": "markdown",
   "metadata": {},
   "source": [
    "We assume that the pattern_node is linearized."
   ]
  },
  {
   "cell_type": "code",
   "execution_count": 152,
   "metadata": {},
   "outputs": [],
   "source": [
    "def negate_a_token(g_rule, pattern_rule, at):\n",
    "    oname, pname = g_rule[at], pattern_rule[at]\n",
    "    assert is_nt(pname)\n",
    "    nname = negate_name(oname, pname)\n",
    "    return (oname, pname), [nname if i == at else t for i,t in enumerate(g_rule)]"
   ]
  },
  {
   "cell_type": "markdown",
   "metadata": {},
   "source": [
    "### Negate a rule completely"
   ]
  },
  {
   "cell_type": "markdown",
   "metadata": {},
   "source": [
    "Given the rule, a _matching_ pattern rule, and the pattern key that is the parent of the pattern rule, we produce a list of rules where the given rule no longer matches with the pattern at each index. A complication is when the \n",
    "nonterminal is abstract. This is determined by checking the fault_category (i.e the second part of the nonterminal which indicates what fault/s it was inserted by). If it is abstract, then this token can not be negated successfully as changing it would not change the pattern."
   ]
  },
  {
   "cell_type": "code",
   "execution_count": 153,
   "metadata": {},
   "outputs": [],
   "source": [
    "def negate_a_rule(g_rule, pattern_rule, pattern_key):\n",
    "    assert rule_to_normalized_rule(g_rule) == rule_to_normalized_rule(pattern_rule)\n",
    "   \n",
    "    new_rules = []\n",
    "    negated_names = []\n",
    "    for i in range(len(pattern_rule)):\n",
    "        if not is_nt(pattern_rule[i]):\n",
    "            # cannot negate a terminal\n",
    "            continue\n",
    "        # if is_abstract() that is,\n",
    "        #print(pattern_key, repr(refinement(pattern_rule[i])))\n",
    "        #if (refinement(pattern_rule[i]) == ''):\n",
    "        #    continue\n",
    "        if refinement(pattern_key) != refinement(pattern_rule[i]):\n",
    "            continue\n",
    "            #return [], None\n",
    "        nn, nrule = negate_a_token(g_rule, pattern_rule, i)\n",
    "        new_rules.append(nrule)\n",
    "        negated_names.append(nn)\n",
    "    return negated_names, new_rules\n"
   ]
  },
  {
   "cell_type": "markdown",
   "metadata": {},
   "source": [
    "### Negate key pattern"
   ]
  },
  {
   "cell_type": "markdown",
   "metadata": {},
   "source": [
    "Here, we are attempting to negate a key that matches the pattern key. Only one of the rules will match the pattern rule (because of deterministic parsing, and the fact that pattern rule corresponds to a parse tree). So, we only have to negate that rule."
   ]
  },
  {
   "cell_type": "code",
   "execution_count": 154,
   "metadata": {},
   "outputs": [],
   "source": [
    "def negate_key_pattern(key, grammar, pattern_key, pattern_g):\n",
    "    pattern_rule = pattern_g[pattern_key][0]\n",
    "    g_rules = grammar[key]\n",
    "    \n",
    "    faulty_rule = rule_to_normalized_rule(pattern_rule)\n",
    "    new_rules = []\n",
    "    negated_names = []\n",
    "    for g_rule in g_rules:\n",
    "        if rule_to_normalized_rule(g_rule) == faulty_rule:\n",
    "            # for each token in the rule, try to negate it; each becoming a new rule.\n",
    "            nnames, nrules = negate_a_rule(g_rule, pattern_rule, pattern_key)\n",
    "            #if nrules is None:\n",
    "            #    # found an abstract; this rule should not be used.\n",
    "            #    continue\n",
    "            new_rules.extend(nrules)\n",
    "            negated_names.extend(nnames)\n",
    "        else:\n",
    "            new_rules.append(g_rule)\n",
    "    return negated_names, new_rules"
   ]
  },
  {
   "cell_type": "markdown",
   "metadata": {},
   "source": [
    "### Negate matched keys"
   ]
  },
  {
   "cell_type": "markdown",
   "metadata": {},
   "source": [
    "There could be multiple _refined_ keys that match the pattern key. We look through the keys in the grammar, and negate all matching keys."
   ]
  },
  {
   "cell_type": "code",
   "execution_count": 155,
   "metadata": {},
   "outputs": [],
   "source": [
    "def negate_matched_keys_from_grammar(grammar, pattern_key, pattern_g):\n",
    "    faulty_key = normalize(pattern_key)\n",
    "    # print('faulty_key:', faulty_key)\n",
    "    # get all keys that corresponds to this stem.\n",
    "    negated_names = []\n",
    "    new_grammar = {} #copy.deepcopy(grammar)\n",
    "    for k in grammar:\n",
    "        if normalize(k) == faulty_key:\n",
    "            # print(\">\", k, normalize(k))\n",
    "            nnames, new_rules = negate_key_pattern(k, grammar, pattern_key, pattern_g)\n",
    "            new_grammar[negate_name(k, pattern_key)] = new_rules\n",
    "            new_grammar[k] = [[negate_name(k, pattern_key)]]\n",
    "            negated_names.extend(nnames)\n",
    "        else:\n",
    "            new_grammar[k] = grammar[k]\n",
    "    # now we need to add all negated_names to grammar.\n",
    "    return negated_names, new_grammar"
   ]
  },
  {
   "cell_type": "code",
   "execution_count": 156,
   "metadata": {},
   "outputs": [
    {
     "data": {
      "text/plain": [
       "{'<factor LN_1 LX_1>': [('(', '<expr LN_1 LX_1>', ')')],\n",
       " '<expr LN_1 LX_1>': [('<term LN_1 LX_1>',)],\n",
       " '<term LN_1 LX_1>': [('<factor LN_2 LX_1>',)],\n",
       " '<factor LN_2 LX_1>': [('(', '<expr>', ')')]}"
      ]
     },
     "execution_count": 156,
     "metadata": {},
     "output_type": "execute_result"
    }
   ],
   "source": [
    "cnode_g1 = faulty_node_to_linear_grammar(cnode_n1, 'X'); cnode_g1"
   ]
  },
  {
   "cell_type": "code",
   "execution_count": 157,
   "metadata": {
    "scrolled": true
   },
   "outputs": [
    {
     "name": "stdout",
     "output_type": "stream",
     "text": [
      "<factor LN_1 LX_1> ('(', '<expr LN_1 LX_1>', ')')\n",
      "<start>\n",
      "   ['<expr>']\n",
      "<expr>\n",
      "   ['<term>', ' + ', '<expr>']\n",
      "   ['<term>', ' - ', '<expr>']\n",
      "   ['<term>']\n",
      "<term>\n",
      "   ['<factor>', ' * ', '<term>']\n",
      "   ['<factor>', ' / ', '<term>']\n",
      "   ['<factor>']\n",
      "<factor -LN_1 LX_1>\n",
      "   ['+', '<factor>']\n",
      "   ['-', '<factor>']\n",
      "   ['(', '<expr -LN_1 LX_1>', ')']\n",
      "   ['<integer>', '.', '<integer>']\n",
      "   ['<integer>']\n",
      "<factor>\n",
      "   ['<factor -LN_1 LX_1>']\n",
      "<integer>\n",
      "   ['<digit>', '<integer>']\n",
      "   ['<digit>']\n",
      "<digit>\n",
      "   ['0']\n",
      "   ['1']\n",
      "   ['2']\n",
      "   ['3']\n",
      "   ['4']\n",
      "   ['5']\n",
      "   ['6']\n",
      "   ['7']\n",
      "   ['8']\n",
      "   ['9']\n",
      "> to negate:\n",
      "   <expr> <expr LN_1 LX_1> <expr -LN_1 LX_1>\n",
      "\n",
      "<expr LN_1 LX_1> ('<term LN_1 LX_1>',)\n",
      "<start>\n",
      "   ['<expr>']\n",
      "<expr -LN_1 LX_1>\n",
      "   ['<term>', ' + ', '<expr>']\n",
      "   ['<term>', ' - ', '<expr>']\n",
      "   ['<term -LN_1 LX_1>']\n",
      "<expr>\n",
      "   ['<expr -LN_1 LX_1>']\n",
      "<term>\n",
      "   ['<factor>', ' * ', '<term>']\n",
      "   ['<factor>', ' / ', '<term>']\n",
      "   ['<factor>']\n",
      "<factor>\n",
      "   ['+', '<factor>']\n",
      "   ['-', '<factor>']\n",
      "   ['(', '<expr>', ')']\n",
      "   ['<integer>', '.', '<integer>']\n",
      "   ['<integer>']\n",
      "<integer>\n",
      "   ['<digit>', '<integer>']\n",
      "   ['<digit>']\n",
      "<digit>\n",
      "   ['0']\n",
      "   ['1']\n",
      "   ['2']\n",
      "   ['3']\n",
      "   ['4']\n",
      "   ['5']\n",
      "   ['6']\n",
      "   ['7']\n",
      "   ['8']\n",
      "   ['9']\n",
      "> to negate:\n",
      "   <term> <term LN_1 LX_1> <term -LN_1 LX_1>\n",
      "\n",
      "<term LN_1 LX_1> ('<factor LN_2 LX_1>',)\n",
      "<start>\n",
      "   ['<expr>']\n",
      "<expr>\n",
      "   ['<term>', ' + ', '<expr>']\n",
      "   ['<term>', ' - ', '<expr>']\n",
      "   ['<term>']\n",
      "<term -LN_1 LX_1>\n",
      "   ['<factor>', ' * ', '<term>']\n",
      "   ['<factor>', ' / ', '<term>']\n",
      "<term>\n",
      "   ['<term -LN_1 LX_1>']\n",
      "<factor>\n",
      "   ['+', '<factor>']\n",
      "   ['-', '<factor>']\n",
      "   ['(', '<expr>', ')']\n",
      "   ['<integer>', '.', '<integer>']\n",
      "   ['<integer>']\n",
      "<integer>\n",
      "   ['<digit>', '<integer>']\n",
      "   ['<digit>']\n",
      "<digit>\n",
      "   ['0']\n",
      "   ['1']\n",
      "   ['2']\n",
      "   ['3']\n",
      "   ['4']\n",
      "   ['5']\n",
      "   ['6']\n",
      "   ['7']\n",
      "   ['8']\n",
      "   ['9']\n",
      "> to negate:\n",
      "\n",
      "<factor LN_2 LX_1> ('(', '<expr>', ')')\n",
      "<start>\n",
      "   ['<expr>']\n",
      "<expr>\n",
      "   ['<term>', ' + ', '<expr>']\n",
      "   ['<term>', ' - ', '<expr>']\n",
      "   ['<term>']\n",
      "<term>\n",
      "   ['<factor>', ' * ', '<term>']\n",
      "   ['<factor>', ' / ', '<term>']\n",
      "   ['<factor>']\n",
      "<factor -LN_2 LX_1>\n",
      "   ['+', '<factor>']\n",
      "   ['-', '<factor>']\n",
      "   ['<integer>', '.', '<integer>']\n",
      "   ['<integer>']\n",
      "<factor>\n",
      "   ['<factor -LN_2 LX_1>']\n",
      "<integer>\n",
      "   ['<digit>', '<integer>']\n",
      "   ['<digit>']\n",
      "<digit>\n",
      "   ['0']\n",
      "   ['1']\n",
      "   ['2']\n",
      "   ['3']\n",
      "   ['4']\n",
      "   ['5']\n",
      "   ['6']\n",
      "   ['7']\n",
      "   ['8']\n",
      "   ['9']\n",
      "> to negate:\n",
      "\n"
     ]
    }
   ],
   "source": [
    "# we shouldn't be doing this; we do not need to remove from the grammar anything other than the characteristic node\n",
    "for pk in cnode_g1:\n",
    "    print(pk, cnode_g1[pk][0])\n",
    "    negated_names, new_grammar = negate_matched_keys_from_grammar(EXPR_GRAMMAR, pk, cnode_g1)\n",
    "    for k in (new_grammar):\n",
    "        print(k)\n",
    "        for rule in new_grammar[k]:\n",
    "            print(\"  \", rule)\n",
    "    print('> to negate:')\n",
    "    for oname, pname in negated_names:\n",
    "        print('  ', oname, pname, negate_name(oname, pname))\n",
    "    print()"
   ]
  },
  {
   "cell_type": "markdown",
   "metadata": {},
   "source": [
    "### Negate fault from grammar"
   ]
  },
  {
   "cell_type": "markdown",
   "metadata": {},
   "source": [
    "What we need to do, is to collect all the keys from the linearized grammar, and for each key, remove the node, collect the negated names, and define all of them.\n",
    "\n",
    "For adding a new negation rule, we copy the corresponding rule from the grammar, and modify it so that the negated rule doesn't appear.\n",
    "\n",
    "For the new_key definition, everything in g_rule is allowed except that which\n",
    "matches the pattern_rule."
   ]
  },
  {
   "cell_type": "code",
   "execution_count": 158,
   "metadata": {},
   "outputs": [],
   "source": [
    "def negate_fault_from_grammar(grammar, fnode, prefix):\n",
    "    # faulty\n",
    "    cnode = mark_faulty_nodes(fnode, prefix)\n",
    "    cnode_g1 = faulty_node_to_grammar(cnode)\n",
    "    t_key = cnode[0]\n",
    "    # print(\"##\", t_key)\n",
    "    negated_names, new_grammar = negate_matched_keys_from_grammar(grammar, t_key, cnode_g1)\n",
    "    while negated_names:\n",
    "        (oname, pname), *negated_names = negated_names\n",
    "        n_name = negate_name(oname, pname)\n",
    "        print(n_name)\n",
    "        if ' ' not in pname:\n",
    "            # abstract node. TODO:\n",
    "            # we should probably discard the rule that this name comes from.\n",
    "            # if it is the original characteristic node, \n",
    "            new_grammar[n_name] = grammar[oname]\n",
    "            continue\n",
    "        print(oname, pname)\n",
    "        nn, new_rules = negate_key_pattern(oname, grammar, pname, cnode_g1)\n",
    "        #assert new_rules, '%s -- %s' % (oname, pname) # we always expect at least one rule for a valid grammar.\n",
    "        if not new_rules:\n",
    "            print('The key (%s) is empty; it should be removed' % n_name)\n",
    "        new_grammar[n_name] = new_rules\n",
    "        #new_grammar[oname] = new_rules\n",
    "        negated_names.extend(nn)\n",
    "    return remove_empty_keys(new_grammar)"
   ]
  },
  {
   "cell_type": "code",
   "execution_count": 159,
   "metadata": {},
   "outputs": [],
   "source": [
    "def find_empty_keys(g):\n",
    "    return [k for k in g if not g[k]]"
   ]
  },
  {
   "cell_type": "code",
   "execution_count": 160,
   "metadata": {},
   "outputs": [],
   "source": [
    "def remove_key(k, g):\n",
    "    new_g = {}\n",
    "    for k_ in g:\n",
    "        if k_ == k:\n",
    "            continue\n",
    "        else:\n",
    "            new_rules = []\n",
    "            for rule in g[k_]:\n",
    "                new_rule = []\n",
    "                for t in rule:\n",
    "                    if t == k:\n",
    "                        # skip this rule\n",
    "                        new_rule = None\n",
    "                        break\n",
    "                    else:\n",
    "                        new_rule.append(t)\n",
    "                if new_rule is not None:\n",
    "                    new_rules.append(new_rule)\n",
    "            new_g[k] = new_rules\n",
    "    return new_g"
   ]
  },
  {
   "cell_type": "code",
   "execution_count": 161,
   "metadata": {},
   "outputs": [],
   "source": [
    "def remove_empty_keys(g):\n",
    "    new_g = copy.deepcopy(g)\n",
    "    empty_keys = find_empty_keys(new_g)\n",
    "    while empty_keys:\n",
    "        for k in empty_keys:\n",
    "            g_ = remove_key(k, new_g)\n",
    "            new_g = g_\n",
    "        empty_keys = find_empty_keys(new_g)\n",
    "    return new_g"
   ]
  },
  {
   "cell_type": "markdown",
   "metadata": {},
   "source": [
    "#### Negating the parenthesis fault on pure grammar"
   ]
  },
  {
   "cell_type": "code",
   "execution_count": 162,
   "metadata": {},
   "outputs": [
    {
     "name": "stdout",
     "output_type": "stream",
     "text": [
      "<expr -L3_1>\n",
      "<expr> <expr L3_1>\n",
      "<term -L3_1>\n",
      "<term> <term L3_1>\n"
     ]
    },
    {
     "data": {
      "text/plain": [
       "{'<start>': [['<expr>']],\n",
       " '<expr>': [['<term>', ' + ', '<expr>'],\n",
       "  ['<term>', ' - ', '<expr>'],\n",
       "  ['<term>']],\n",
       " '<term>': [['<factor>', ' * ', '<term>'],\n",
       "  ['<factor>', ' / ', '<term>'],\n",
       "  ['<factor>']],\n",
       " '<factor -L3_1>': [['+', '<factor>'],\n",
       "  ['-', '<factor>'],\n",
       "  ['(', '<expr -L3_1>', ')'],\n",
       "  ['<integer>', '.', '<integer>'],\n",
       "  ['<integer>']],\n",
       " '<factor>': [['<factor -L3_1>']],\n",
       " '<integer>': [['<digit>', '<integer>'], ['<digit>']],\n",
       " '<digit>': [['0'],\n",
       "  ['1'],\n",
       "  ['2'],\n",
       "  ['3'],\n",
       "  ['4'],\n",
       "  ['5'],\n",
       "  ['6'],\n",
       "  ['7'],\n",
       "  ['8'],\n",
       "  ['9']],\n",
       " '<expr -L3_1>': [['<term>', ' + ', '<expr>'],\n",
       "  ['<term>', ' - ', '<expr>'],\n",
       "  ['<term -L3_1>']],\n",
       " '<term -L3_1>': [['<factor>', ' * ', '<term>'],\n",
       "  ['<factor>', ' / ', '<term>']]}"
      ]
     },
     "execution_count": 162,
     "metadata": {},
     "output_type": "execute_result"
    }
   ],
   "source": [
    "new_grammar = negate_fault_from_grammar(EXPR_GRAMMAR, faulty_node1, 3); new_grammar"
   ]
  },
  {
   "cell_type": "code",
   "execution_count": 163,
   "metadata": {},
   "outputs": [
    {
     "data": {
      "text/plain": [
       "dict_keys(['<start>', '<expr>', '<term>', '<factor -L3_1>', '<factor>', '<integer>', '<digit>', '<expr -L3_1>', '<term -L3_1>'])"
      ]
     },
     "execution_count": 163,
     "metadata": {},
     "output_type": "execute_result"
    }
   ],
   "source": [
    "new_grammar.keys()"
   ]
  },
  {
   "cell_type": "code",
   "execution_count": 164,
   "metadata": {},
   "outputs": [],
   "source": [
    "gnf = LimitFuzzer(new_grammar)\n",
    "parsernf = Parser(new_grammar, canonical=True, start_symbol='<start>')"
   ]
  },
  {
   "cell_type": "code",
   "execution_count": 165,
   "metadata": {
    "scrolled": true
   },
   "outputs": [
    {
     "name": "stdout",
     "output_type": "stream",
     "text": [
      "6 + ---9 * -(2 - 1 - 6.2) * (6 / 6 / 9.2 - 8.9) * ++7 / -0.4 * (6 - 4.2)\n",
      "Should not parse\n",
      "\n",
      "+398 / +(4 * 9.8 / 4.8) / --(4 - 0) + -(0 * 4.2 * 9.0) - (-5.0 / 1.4 + 4.3 * 9 - 5.6 / 3.5 - 7.4 - 8.5) * (9 * 6 / 5 - 1 * 0 - 5.6 + 3.6)\n",
      "Should not parse\n",
      "\n",
      "(1.925 / (5 - 0.5) / 8.7 / 5 / 2) / +5.1 + 88.0 * ++7 / (1 * 8.0 * 0.0) - ++-9 * -+0 - (7.8 * 5.6 + 7.9 + 2.3 + 2.9) - +(1.6 + 0) / +4.6 - 8.63 / -6 / 8.7 - -9 - 0.0 / 4 * 6\n",
      "Should not parse\n",
      "\n",
      "27.184 * -(9 * 1 / 3) / 872.8 * -+3 / (9.1 - 0.2 + 9.4) * 17.32 / -8 / 9.9 * 7.1 / 7.3 - (-8 * 2 * 2 * 4.7 / 3.8) * -1 - 72.2 * -72.2\n",
      "Should not parse\n",
      "\n",
      "+942 / +5.10 / 89.9 / 3.2 / 924 / +0.4 / (5.7 - 8.4) * 5.8 / 1 * 2 - 3 + ((9 + 0.9) * 1 / 6.0 * 4 - 9) / +0 - 9.4 - +-9.0 * 90.02 / (3 + 0.8) - -4.5 + (2.7 - 8) * 8 / 0.5 / 8 - 4.7 / 5 * 2.9 + 1.7 + 6\n",
      "Should not parse\n",
      "\n",
      "4 * (-3.8 * -2 / 8.1 + +3 * 3.1 * 9.8 - 3.1 * 5 / 6 - 7) * (7.8 * 0.4 / 4 - 2.7 / 1.0 * 9) - --54 + -782 * 74.71 + -(2 + 8.6)\n",
      "Should not parse\n",
      "\n",
      "2.00 / 3835 / +(9 / 7.1 - 6.4 - 7.9) * +-3.9 - +57.391 * 411 - (+2.0 / 4 * 7.5 / 4.3) / +27.3 * -(9.4 + 0.0) * 2.4 / (2 - 3)\n",
      "Should not parse\n",
      "\n",
      "2.153 / +50.2 / ((0 + 3) + 3) + --65 - -+-7.6 / (7.8 / 3.1 - 4 / 6.2) * +5.2 - (2 - 0.2 + 4.1 + 3.8) * 960 * 31\n",
      "Should not parse\n",
      "\n",
      "+8.7\n",
      "Should not parse\n",
      "\n",
      "-703 / -3 * (-5 - 9.7 * 8 - 1.8 / 7.2 + 2.8 + 0.9) / 7 * -(5.8 - 1.1) / (6.4 / 6.9) + --+2.3 / 71.4325 * 5 / +8 - -+-5.4 * (4.3 - 4.1 + 8.6 - 0) * 3.82 - (4.9 + 0.2 * 1 - 6.1 - 6.5) / -+3.7 + (7 * 6 + 0 + 1.1) * (5 + 9) * 0.0 * 9.2 / 2.1 / 2 + 9 * +2.5 * 0.3 * 3 * 3\n",
      "Should not parse\n",
      "\n",
      "4 / (+2.3 / +2.4 / 7) * +16.177 / ++9 * 7.202 / +9 * -2.0 * 8.7 * 6 / 5.8 + +62 * -801.5 / (4.3 * 5.7 * 4) / (6.5 * 5)\n",
      "Should not parse\n",
      "\n",
      "(+(9.4 - 7) / 8 * -8.1 / 0 / 7 * 2)\n",
      "Should not parse\n",
      "\n",
      "-+6 + (-1.8 / 9.4 / 9.4) / 83.0 + 5 * +4 / 2 + +(2 + 1) * 44.58 - (4.1 * 3) - 4.6\n",
      "Should not parse\n",
      "\n",
      "-++-6.7 + 56141 - (+9.3 * 1.5) * +8.17 * (8.2 / 9 - 2) * 73.8 - -6.19 * 77.9 + (3 / 0 + 3 - 6)\n",
      "Should not parse\n",
      "\n",
      "25\n",
      "Should not parse\n",
      "\n",
      "+-6.4\n",
      "Should not parse\n",
      "\n",
      "0 / 94 * -5.10 - 6.0359 / (+2 * 8.2 * 2 - 1.0 * 9.1 * 1) * -(4.0 - 6)\n",
      "Should not parse\n",
      "\n",
      "6.94 / +8.18 / 4 * -(3.1 - 3) * 229 * (2.5 / 3.8) * +7 / 7 * 0 / 4.0 - -98 * (5.2 / 4 * 9 * 8 + 1.2 / 3.4 - 3.9 * 8 + 4 + 0) / -+0 / (8 * 2.1) + +--2.6 * 28 / 356\n",
      "Should not parse\n",
      "\n",
      "--(3.1 / 6.0 + 0 + 4) * 6 / (+2.9 * 8.5) / 8.4 * 039 * 85.45\n",
      "Should not parse\n",
      "\n",
      "+6 - 1.75 * (-5 - 0.1) * 5.0 + -+5 * (5.6 + 2.8 * 7 + 1) - 2.3 * -+8.9 * +5 * +4 - 4 - 1.29\n",
      "Should not parse\n",
      "\n",
      "(18 * 0.46 + (4.9 - 8) + 8 / 9.8 + 7 * 5.4 * 5.1) - 9 + -21.60 / +-2 + +1.2 + 9 * 4 * -1.9 + 5.9 * -5.5 * 1 * 0\n",
      "Should not parse\n",
      "\n",
      "(-7.1 + 5 * 3.3) / 21 / -+(6 - 4.6) / (7 / 7 / 1) * 4.2 / +1.8 / +1.0 * 5.2\n",
      "Should not parse\n",
      "\n",
      "(5.6 / 5 - +0.1 * -1 * 9 * 2 / 1 + 1 / 7.6 / 7.7 + 2.1 * 2) / 86056.7 * 53767 / +6.0 / 35 / 82.55 * 3.1 * 7 * 8 / 8 - -9 / +9 * 481.9 / -8 - -(3 / 8.3) * +61.4 / -+6 - 0302 / 66 - +-1 * (0 * 9) + (0 / 0.2) * 9 * 0 + 5.4 * 7 / 8 * 5\n",
      "Should not parse\n",
      "\n",
      "(8.3 - +7.2 * (6.5 + 7.7) - 2 + 3.2 + 4.0 * 3.3 + 2.4 - 2)\n",
      "Should not parse\n",
      "\n",
      "-(8.0 * 8.7 / 0.5 / 8) / (+4 / 7.5 - -4.9 / 4.5 / 5.8) / 2803.96 / -+0.1 + 62 * +(4.2 - 8.5 + 6.3) * 7.218 * 608.49 * -0 + 5 / +04.49\n",
      "Should not parse\n",
      "\n",
      "2\n",
      "Should not parse\n",
      "\n",
      "(279 * -1 / 1 - (3 * 0) / 1 / 6 + 3.8 * 3 * 0 / 1) / +2554 + 6.9 * 3 * 7.4 / +4.2 / +6.2 + 5387 * (3.7 + 0.1 / 3.8 + 5 + 6.3) + 6.521 / --4 * 7.16 * 2.5 / 5 + 2 / -5 / +7\n",
      "Should not parse\n",
      "\n",
      "-6 * ((8 * 4) / -4.1 * 1.8 + 8 / 8.3 / 2 * 3 + 8.7 + 5.9 * 1.7 - 2.6 - 6) / 8 / +-2.3 - ++(1.8 / 5.9) / 02 / 13 - +9.01 * +56 + +(8.0 - 5)\n",
      "Should not parse\n",
      "\n",
      "59.904 / 15.05 * --+8\n",
      "Should not parse\n",
      "\n",
      "6.47 / 7.2577 / 3 - -34.166 * -(0 * 7 + 3.0 - 6.6) / -2 * 34 / +1 / 0 / 6 / 4 * 4 + (6.0 / 8 * 8.1 * 6.5) / (7.1 / 3.0 / 2) * -(1 + 5) + ++4 * 8 * -0.0 / -3 + --4.8 + (4 - 9) - +5 * 8.5 / 4 / 4 - 9 / 8 + 5 * 5\n",
      "Should not parse\n",
      "\n",
      "--2 / --7 / 2.0491 - (-4.4 + 5 * 5.6) / 3 + (2 / 4.8 + 1.0 / 1 / 8.1) / (1.0 - 7.4 / 6.3 + 9 + 3) * 86 * +6.3 * (6.1 - 8.6) * 1 * 9.8 * 5 - 1 + +5\n",
      "Should not parse\n",
      "\n",
      "+3.89467\n",
      "Should not parse\n",
      "\n",
      "+3 * ++01 / 17 + +(9.9 / 1 * 9.8 + 8.3 - 9.3) / 66 * +(3 * 6) + (-2 + 8.2 / 1.2 / 7 - 4 * 9) * +-4 - -+6 + --9 / -7 / 2.3\n",
      "Should not parse\n",
      "\n",
      "9 * 75 * +(6.3 / 4) / (1.6 * 8 * 9.5 + 0 / 9.7 - 4.4 - 0) - (-2.8 - 1 * 0.8 / 7) / +(0.8 * 3.5 - 0.7 + 4) / -85.86\n",
      "Should not parse\n",
      "\n",
      "58 * (01.91 / -3.0 * 4.5 - +1 - 8 * 5.9) - 7\n",
      "Should not parse\n",
      "\n",
      "1 * 33\n",
      "Should not parse\n",
      "\n",
      "(4.1 * (4.2 - 0) / +2 / 6.1 * 9 / 2 + 9.7 / 3.8 * 8 * 1.1) * +--4 / (+4 * 0.7 / 9 * 4.8 - 9 / 5.6 / 8.0 - 3.3 - 5 - 8.9) / +-8.3 * 901.54 * 8 * -3.4 * 9 - +(4.2 - 0.4 / 5.0 - 6.9) / 39 / -+0.6 / +1 / (1.7 * 8.5) / 4.8 / 3 * 4.3 * 8.8 - 2 / 8 - 79 / +(0.1 + 5.0) / 0.04 * (3.4 + 9.6) - 81.4\n",
      "Should not parse\n",
      "\n",
      "(++7.0 * +2.5 + (1 + 4) + (5 + 8.0) + 8 / 2 / 5.8) / 5 * +5\n",
      "Should not parse\n",
      "\n",
      "(-+1 * (5 / 0) - -9 / 2 * 7 * 8.2 - -7.3 + 5 * 9.7 / 0.8) / 5.2460 * (8 * 5 * 9 * 7 + 4.1 - 8 / 1.8 + 2 - 5) + +0\n",
      "Should not parse\n",
      "\n",
      "06 - 6 / 98 + +781.8 * 5.4 / -(3 + 0.5) * +2.3 / (5 - 2) / 4.2 * 4 - +(1.7 - 2.7) * 9.3 - (0.5 + 1) * 8.8 * +5\n",
      "Should not parse\n",
      "\n",
      "9.7833 * -+-2 + +8971 * 9.87737 / +3.0 - ((2.9 - 5) - 3.8 / 5 * 6) - 9 * +1.0 * -5 * (9.1 + 8)\n",
      "Should not parse\n",
      "\n",
      "(++2.9 * 33.2 * (5.1 - 4.1) / 8 * 5 - -3.2 / 1.1 + +6.1 / 7.0 / 3.9 - 8 - 1.0 / 8.1 + 9.4 + 4) + (48 * +4.8 - +8 / 4 - 0 + 9 / 0.3) / (4 / 7 / 3.3 / 0.9) / (2.4 + 9 * 5)\n",
      "Should not parse\n",
      "\n",
      "-(-8.6 - 1.8 * 1 + 5 * 3 - 9 - 7) / ++86.69 - (+2.7 + (5.4 + 7.0))\n",
      "Should not parse\n",
      "\n",
      "(08 / 8 * 1.8 + 3 * 2 / 4 * 0 * 8.6 - 0) / 504.8\n",
      "Should not parse\n",
      "\n",
      "-(5 + 4.4 / 2.1 / 1 - 7.3 - 8 + 2) + +(2 / 7 + 8.7 * 4) / 1 + (-7.3 / 1 / 0 - 8.8 - 9 / 5) / 7.4 + 92.35 / 8.45 * 4 / +2 * 3 + 18.9\n",
      "Should not parse\n",
      "\n",
      "+3.8 - +(1.2 + 5.7 * 1) / ((3.3 + 9.0) / 2.0)\n",
      "Should not parse\n",
      "\n",
      "5 / +7 / 398.9892 * (6 / 6.1 * 2 - 3.8) / +-4.8 / 63 * (5.3 - 8.9) * 1.8 + 996130 * --0.2 * 2 - 03\n",
      "Should not parse\n",
      "\n",
      "+++-4 - +(3.8 - 5.3 - 1.7) * 2.16880 / (0 * 3 * 7 - 2.8) * 72 - (1 / 0 * 1 * 8 - 2.8 / 6 * 6 + 8.8 / 8) * (4.1 * 3 / 3.1 - 0.8 / 9.8 - 6 - 7) / 6.74 * -1 * 1.7 * 7.9 / 0.0\n",
      "Should not parse\n",
      "\n",
      "-58290.6 / 3 / 5.9 - 4.9 - +6 * --3.6 / +-5.3 - (5.6 * 3.8 / 8.2) / +9 * 1.5 * 0 - (8.4 * 1.5) * -3 / +1 * 0.4 / 3.1 / 0.1 - -5.5 / -9 / 4.4 * 1.4 + +8 * 5 / 6.0 - 1 / 8.2 * 4.4 - 0 / 2.4\n",
      "Should not parse\n",
      "\n",
      "8.828 - 4.39 / 71547.18 * --8 / --5 * (3.8 - 0)\n",
      "Should not parse\n",
      "\n",
      "((5 * 1 + 7.5 - 3.9) * (4 + 8) * -8.6 * 9 * 4) * (+0 * (8.1 + 0) + (6.2 - 0.9)) / -+(4 + 8.6) + +783 * 31.340 * --4.6 / 6 * 1.22 * 0.0 * 1.8 / 5.0 * 3\n",
      "Should not parse\n",
      "\n",
      "-84 * 4.37 / 74 / 7.214 * (4.6 / 4.7) / 98.8 + 41.713 * 59\n",
      "Should not parse\n",
      "\n",
      "(456.1 * +2.9 * (0.0 + 5) * 6.7 - (2 + 1) * 6.8 / 6 * 7.9 * 3) / (4 / -4.4 * 3 / 7.9 + 2.1 / 5 / 3.4 * 6) / 329.2 * 6 * --6 + -(2.4 / 3 / 0.3)\n",
      "Should not parse\n",
      "\n",
      "7.4054 + +(7 / 3 + 2) / 2.23142 / (6 / 4.0 / 6.1) * 3.1 / 88 / -0 / 5 * 0 + +-4 * --4 / +7 / (6.9 + 1) * 4.0 - 4180 / +-6.3 / +0 * 5.9 * 3 / 7.8 / 5\n",
      "Should not parse\n",
      "\n",
      "+-++8 * (6.1 / -4.3 / 5.6 / 6.2) * (2.4 * 4 / 3.5 + 5.8 / 1.1 * 7 + 3.9) * ++7.4 / 62 * (8 + 0.5) / (8.4 - 2.9) * 0.9 / 3.1 / 2.2\n",
      "Should not parse\n",
      "\n",
      "-3 - -0\n",
      "Should not parse\n",
      "\n",
      "5 * 0.4 * 4.7\n",
      "Should not parse\n",
      "\n",
      "((6 * 2.2 + 3.4 + 1.4) * 86 / 2 / 3.2 / 0.2 * 0.2 + (1 * 8) * 5 + 0.2) / 5 * 3 / --8.4 - (24 - +6.2 / 2.5 + 6 / 0.8 / 1 + 9 / 3 + 6.1 - 7) * 6 - -(9.8 / 0.3 - 8 + 4) / -5 + +-2 / 897.9 * 99.9 / -7.9 * 7 * 2 - -7 - +5 * +4.7 * 4 + +3 * 0 * 4.2 / 9 - 7 + 0 - 8.1\n",
      "Should not parse\n",
      "\n",
      "39 * 2 * 7723 / -6.5 * +9 / (5.2 - 8.8) + -2064 + 45.58 - +-7.9 + (9 * 1.0) * (4.0 * 7.7) / 1 / 4 * 9.1 * 1 + +4 * 8.7\n",
      "Should not parse\n",
      "\n",
      "(1.024 / 8 * 8) * -(9 * 4.1 * 8.9 + 4 - 6 + 6.1) * 2\n",
      "Should not parse\n",
      "\n",
      "507 / 3453.588 * -+1.1 + 65\n",
      "Should not parse\n",
      "\n",
      "--(7.5 / 6.6) * 76 / 25.648 / -(2 - 5) - -(9 * 7.8 * 8 - 7.9 / 0.7) * (4 - 6.9) * +74.4 * ++0.7 * 2 * (8.5 - 2.4) + 34.8 * (5.8 / 4 / 2 - 1 * 8.3 - 2.9 + 5) + (7.4 / 6.2 * 7.1 + 0.8 + 6.6) + +(1 + 8) / +8.2 * 8 - (8 - 0) - 5 / 0.3 / 1.5 / 8 - 0 / 5.7 * 2.3\n",
      "Should not parse\n",
      "\n",
      "-7.2 + (+3 / 5 * 3 * 7 / 1 + -5 * 2 * 9 + 8.1 * 4) - +71 * -(3 - 8.0)\n",
      "Should not parse\n",
      "\n",
      "39531.8 / -(1.4 / 9.4 / 7 + 7.1 / 6 - 3.1 - 9) + ((0.2 + 8.2) - +1.2 * 7 * 7 * 3 - 5.3 - 0.7 * 9.1 - 4.7 - 2) * +(0 * 8) / (0.0 / 1.0) + ((9 + 9) + 4 / 8 + 1 / 9 + 1.7) - +(7 - 4) / -9 - 9.085 - 36 / +1.3 * 6 * 5 * 7\n",
      "Should not parse\n",
      "\n",
      "+(+3 / 4.9 * 4.8 - 6.2 + 3 + 3 - 8) * -5 / 85981.03\n",
      "Should not parse\n",
      "\n",
      "(60 / 25 - -1 - 1.5 / 1 / 9 * 5 + 1.8 * 0.3) * (-4 / 9 - +0.9 * 1 * 6 / 4.4 + 7 / 2.0 / 3.7 + 4 * 1) * -(6.2 * 1.7) - -(3.1 * 9 - 7.3 / 0.6 + 1.8 - 3) / 4 * -+1 / (6 * 1 + 7.0) * +1 * (7 - 0.6) * 7 * 8.3\n"
     ]
    },
    {
     "name": "stdout",
     "output_type": "stream",
     "text": [
      "Should not parse\n",
      "\n",
      "((2.7 / 1 - 2.9 - 3) * (9 * 3) / 6 / 4.2 - +4.4 / 3.5 + 6.7 / 4 - 4 / 9.5)\n",
      "Should not parse\n",
      "\n",
      "-2 - 1.51 - +(5.9 / 0) / (3.4 * 1 - 8.9) * 7\n",
      "Should not parse\n",
      "\n",
      "+74.094 + 4.20\n",
      "Should not parse\n",
      "\n",
      "1 / +-20.4 / (2.1 / 1.0 - 7 / 1 + 1.5 / 1) * 4 + 03.45 / 0575\n",
      "Should not parse\n",
      "\n",
      "+00 / +--9 * 05.53 - +87 - 4 / 655 * 4 - (8 + 2 + 7 + 4) / -6 + -4.3 / 48 * 9.3 + -6 * -9 / 2 * 5 / 6.5 + 1 * 4.2 + 4.5 - 1.4 / 5\n",
      "Should not parse\n",
      "\n",
      "+---3 / ---1.9 / 1.3 * 5.0 * +4.0 * 51.4 / (2 + 3) * 2 - (+3 / -2) * 0 / +(7.3 + 0.9) * +-6.2 - 6 * 838\n",
      "Should not parse\n",
      "\n",
      "7 + 2.78 * 112.15 + 46 - -(7.5 + 2) * -(1 + 8) * (1 / 6.1)\n",
      "Should not parse\n",
      "\n",
      "+-(9 * 2) - 50.21 + (-9 * 8 * 9 * 9.8) * (5.4 / 1.7 * 6) * -4.1 / (7 - 6.3)\n",
      "Should not parse\n",
      "\n",
      "((5.4 * 8 + 4) / 07 * 8.0 * 6.1 + 3 - (6.3 + 9.7) - 2.4 / 3 + 0 - 4 - 2) - (+5.5 + 5.2 / 8.3 * 9 / 1)\n",
      "Should not parse\n",
      "\n",
      "4.5 * +-1.1 - ++(8 - 0.9) / +8.6 / 8.71 - +65\n",
      "Should not parse\n",
      "\n",
      "0.59 * (+6 - (4 + 9.6) / 7 - 4 * 5 / 6) / 1.35273 * (8 * 0.4 - 3 - 5.5 + 3) * 982 / 9\n",
      "Should not parse\n",
      "\n",
      "+8 - ++-1 - -7 / -+1.7 * +-8.0 / (0.6 + 7) * (0.9 + 9)\n",
      "Should not parse\n",
      "\n",
      "-6.522\n",
      "Should not parse\n",
      "\n",
      "(+(0.1 - 6) / (7 - 4)) - (40 * 8.9) + 10 * +06.60 / (5.0 / 1.6) * 8 - --4\n",
      "Should not parse\n",
      "\n",
      "25.38 / (5.45 / 0 * 2 / 9.2 / 7.0 + (3.2 - 8) * 7.7 + 8.5 / 4 * 5.9 - 8.5)\n",
      "Should not parse\n",
      "\n",
      "++-2 - +(0 - 4 / 6) - 9362.2 / (3.0 * 9.7 * 5.5) * +(6.7 + 5.9) * +0.6 - 004.7446\n",
      "Should not parse\n",
      "\n",
      "-(2 / 8.2 / 3 / 2.9)\n",
      "Should not parse\n",
      "\n",
      "-(-4 + 0.9 * 7.2 - 4.2) * +77 / -+(7 + 2.1) - 5.3216\n",
      "Should not parse\n",
      "\n",
      "((3 / 7 + 2 + 8.0) * (9 - 9) * (7 - 4.9) * 5 + -5 + 5.7 + 9.4 * 4.5 - 9.2 * 6 + 7.3) - (+1 + +2 / 7 + 0 / 7.6 * 0 + 7.8 - 7.5) * -(2.1 / 7.0) / +8.59 * 23 / 4 * 1\n",
      "Should not parse\n",
      "\n",
      "(9 / (7.7 - 9) / 2.5 * 3 * 6 / 1) * 246.7 * 1 / 273.0 + -(7.2 - 7 * 4)\n",
      "Should not parse\n",
      "\n",
      "+-(6 * 6 - 4) * 59.75 + +495 / -75 / 1.446 / -(4 + 1.3) * +4 + +(8.4 / 7.8 + 7.4 - 5) / 14.0 / 536.945\n",
      "Should not parse\n",
      "\n",
      "((1.1 / 9) / -3.6 / 2.5 / 3.1) / 43.5 * -954.8 / (6 / 1 * 4.6 + 5 - 1.1 + 2.3) * +3.0 / +9 * -6 * 9.2 / 2 / 7 + 6.3 * +-(9 - 5.6) * 9128.34 - 83.7 / (0 + 7.8 * 7) / ++8.6 / (1.7 / 1.0) - +37.5 / (8 * 9) / +9 * 6 / 1.6 / 8 * 3.9\n",
      "Should not parse\n",
      "\n",
      "+(+3.7 - 0 / 6.7) / 0.648 * -+-9\n",
      "Should not parse\n",
      "\n",
      "+(8.1 / 3 - 8 - 8 / 2.7 - 7 + 3) * 142 / +5.88 + (56.2 * 5 + -7.9 - 1.0 - 2.7 * 1 - 3 - 0.5)\n",
      "Should not parse\n",
      "\n",
      "2.7 / 030 - +(8.3 * 7.3 * 5.9) * -9 / 3.11 / +6 / 57 / +4 / 7.0 + -+9 / 910.212 - 5.140 * 9.1 + 4 * 1 * -4.8 * 7.8 / 2.9 * 8.0 - +1\n",
      "Should not parse\n",
      "\n",
      "5 * 4.4 + 4795.897 / ---7 / (9.9 * 3) / (0.5 * 5.4 + 0 - 7.5) * 4 * (7.2 + 4)\n",
      "Should not parse\n",
      "\n",
      "-36 / 48 * +9.0 - +(1.7 + 0 / 8 - 1.0 + 2.4) / 4.6 + 8 * -+7 / 12 * 81 + 6 + (8.2 * 3.7 + 6.4) * 80 * 7.5 / 1.0\n",
      "Should not parse\n",
      "\n",
      "88.868\n",
      "Should not parse\n",
      "\n",
      "-9 + 46 * 6 * +-1\n",
      "Should not parse\n",
      "\n",
      "6.1 * (89 / (4.0 - 6.2) / 5.6 * 3 / 2 + (0.2 - 1) - 7 * 9) * -5 / +(6.1 - 4.7) * (9.2 * 2 - 7.7) * +6.7 / 3 + -++1.5 * 291 / (5 * 3.5 * 6.2) / (1 / 0 + 3.8)\n",
      "Should not parse\n",
      "\n",
      "-79\n",
      "Should not parse\n",
      "\n",
      "-+6 / ((0 + 7.0) - 5.0 / 8 - 0.6) * 7 / -+5 - (-2.1 - (0 - 1) / 3 / 5 / 3 + 6 * 7 / 9) * +7.486 * 88 * -(1 + 0) / -8 / 5.4 / 1 / 0 / 6.1\n",
      "Should not parse\n",
      "\n",
      "0 - (+7 * 2 * 8.3 / 5 * 1.1 + -9 / 2 * 7.7 / 3.0 - 8.7 / 7 * 0 + 1.9 / 5 + 3.5 + 6.3) - +(6.3 * 0 + 2.4 - 5) / 9219.3577 / (1.0 + 0.4) * +9.6 * +5.4 - +-5.6 * (7 / 0.7 + 7 - 4.7) / (2 + 0) * 8 * 2.0 / 6.2 * 9.2 - 116 - 31.60 / 6 * 4.4 * 9 / 7.1 - (5.3 + 9.0)\n",
      "Should not parse\n",
      "\n",
      "-(2.3 * 3.4 / 5.2) / -5 / ++(4.3 + 1) / 6 / -+5.3 * 1.40 + +-(3.1 + 2) / ---8 / +8.5 * +2 / (4.2 - 8) * (2 - 2.6) - (+9 * 9 / 4) * (8.1 * 7 + 8.0 / 2.3 - 5 + 9) / 1 * 28.5 / +4.6 - --8.5 / 1 * +6.5 * (6 + 3.3) + 82 * 08\n",
      "Should not parse\n",
      "\n"
     ]
    }
   ],
   "source": [
    "for i in range(100):\n",
    "    s = gnf.fuzz(key='<start>')\n",
    "    for t in parsernf.parse(s):\n",
    "        print(tree_to_str(t))\n",
    "    parsed = False\n",
    "    try:\n",
    "        f = parser1.parse(s)\n",
    "        for t in f:\n",
    "            print(t)\n",
    "            parsed = True\n",
    "    except:\n",
    "        parsed = False\n",
    "        print('Should not parse')\n",
    "    assert not parsed\n",
    "    print()"
   ]
  },
  {
   "cell_type": "markdown",
   "metadata": {},
   "source": [
    "#### Negating inserted parenthesis fault\n",
    "\n",
    "This should result in an empty set."
   ]
  },
  {
   "cell_type": "code",
   "execution_count": 166,
   "metadata": {
    "scrolled": false
   },
   "outputs": [
    {
     "name": "stdout",
     "output_type": "stream",
     "text": [
      "Stripping: ['<start>']\n"
     ]
    },
    {
     "data": {
      "text/plain": [
       "{'<start F1>': [['<expr F1>']],\n",
       " '<expr F1>': [['<term F1>'],\n",
       "  ['<term F1>', ' + ', '<expr>'],\n",
       "  ['<term F1>', ' - ', '<expr>'],\n",
       "  ['<term>', ' + ', '<expr F1>'],\n",
       "  ['<term>', ' - ', '<expr F1>']],\n",
       " '<term F1>': [['<factor F1>'],\n",
       "  ['<factor F1>', ' * ', '<term>'],\n",
       "  ['<factor F1>', ' / ', '<term>'],\n",
       "  ['<factor>', ' * ', '<term F1>'],\n",
       "  ['<factor>', ' / ', '<term F1>']],\n",
       " '<expr>': [['<term>'],\n",
       "  ['<term>', ' + ', '<expr>'],\n",
       "  ['<term>', ' - ', '<expr>']],\n",
       " '<term>': [['<factor>'],\n",
       "  ['<factor>', ' * ', '<term>'],\n",
       "  ['<factor>', ' / ', '<term>']],\n",
       " '<factor F1>': [['(', '<expr F1>', ')'],\n",
       "  ['+', '<factor F1>'],\n",
       "  ['-', '<factor F1>'],\n",
       "  ['<factor L1_1>']],\n",
       " '<factor>': [['(', '<expr>', ')'],\n",
       "  ['+', '<factor>'],\n",
       "  ['-', '<factor>'],\n",
       "  ['<integer>'],\n",
       "  ['<integer>', '.', '<integer>']],\n",
       " '<factor L1_1>': [['(', '<expr L1_1>', ')']],\n",
       " '<expr L1_1>': [['<term L1_1>']],\n",
       " '<term L1_1>': [['<factor L1_2>']],\n",
       " '<factor L1_2>': [['(', '<expr>', ')']],\n",
       " '<integer>': [['<digit>'], ['<digit>', '<integer>']],\n",
       " '<digit>': [['0'],\n",
       "  ['1'],\n",
       "  ['2'],\n",
       "  ['3'],\n",
       "  ['4'],\n",
       "  ['5'],\n",
       "  ['6'],\n",
       "  ['7'],\n",
       "  ['8'],\n",
       "  ['9']]}"
      ]
     },
     "execution_count": 166,
     "metadata": {},
     "output_type": "execute_result"
    }
   ],
   "source": [
    "start_faultyA, faulty_grammarA_ = get_faulty_grammar(EXPR_GRAMMAR, '<start>', faulty_node1, 1);\n",
    "faulty_grammarA = grammar_gc(faulty_grammarA_, start_faultyA); faulty_grammarA"
   ]
  },
  {
   "cell_type": "code",
   "execution_count": 167,
   "metadata": {},
   "outputs": [
    {
     "name": "stdout",
     "output_type": "stream",
     "text": [
      "<expr F1-L3_1>\n",
      "<expr F1> <expr L3_1>\n",
      "<expr -L3_1>\n",
      "<expr> <expr L3_1>\n",
      "<expr L1_1-L3_1>\n",
      "<expr L1_1> <expr L3_1>\n",
      "<expr -L3_1>\n",
      "<expr> <expr L3_1>\n",
      "<term F1-L3_1>\n",
      "<term F1> <term L3_1>\n",
      "<term -L3_1>\n",
      "<term> <term L3_1>\n",
      "<term L1_1-L3_1>\n",
      "<term L1_1> <term L3_1>\n",
      "The key (<term L1_1-L3_1>) is empty; it should be removed\n",
      "<term -L3_1>\n",
      "<term> <term L3_1>\n"
     ]
    },
    {
     "data": {
      "text/plain": [
       "{'<term L1_1-L3_1>': [['<factor>', ' * ', '<term>'],\n",
       "  ['<factor>', ' / ', '<term>']]}"
      ]
     },
     "execution_count": 167,
     "metadata": {},
     "output_type": "execute_result"
    }
   ],
   "source": [
    "faulty_grammarA_A_ = negate_fault_from_grammar(faulty_grammarA, faulty_node1, 3);faulty_grammarA_A_"
   ]
  },
  {
   "cell_type": "code",
   "execution_count": 168,
   "metadata": {
    "scrolled": true
   },
   "outputs": [
    {
     "data": {
      "text/plain": [
       "{}"
      ]
     },
     "execution_count": 168,
     "metadata": {},
     "output_type": "execute_result"
    }
   ],
   "source": [
    "faulty_grammarA_A = grammar_gc(faulty_grammarA_A_, start_faultyA); faulty_grammarA_A"
   ]
  },
  {
   "cell_type": "markdown",
   "metadata": {},
   "source": [
    "### Another negation"
   ]
  },
  {
   "cell_type": "code",
   "execution_count": 169,
   "metadata": {},
   "outputs": [
    {
     "name": "stdout",
     "output_type": "stream",
     "text": [
      "Stripping: ['<start>']\n"
     ]
    },
    {
     "data": {
      "text/plain": [
       "{'<start F1>': [['<expr F1>']],\n",
       " '<expr F1>': [['<term F1>'],\n",
       "  ['<term F1>', ' + ', '<expr>'],\n",
       "  ['<term F1>', ' - ', '<expr>'],\n",
       "  ['<term>', ' + ', '<expr F1>'],\n",
       "  ['<term>', ' - ', '<expr F1>']],\n",
       " '<term F1>': [['<factor F1>'],\n",
       "  ['<factor F1>', ' * ', '<term>'],\n",
       "  ['<factor F1>', ' / ', '<term>'],\n",
       "  ['<factor>', ' * ', '<term F1>'],\n",
       "  ['<factor>', ' / ', '<term F1>'],\n",
       "  ['<term L1_1>']],\n",
       " '<expr>': [['<term>'],\n",
       "  ['<term>', ' + ', '<expr>'],\n",
       "  ['<term>', ' - ', '<expr>']],\n",
       " '<term>': [['<factor>'],\n",
       "  ['<factor>', ' * ', '<term>'],\n",
       "  ['<factor>', ' / ', '<term>']],\n",
       " '<factor F1>': [['(', '<expr F1>', ')'],\n",
       "  ['+', '<factor F1>'],\n",
       "  ['-', '<factor F1>']],\n",
       " '<factor>': [['(', '<expr>', ')'],\n",
       "  ['+', '<factor>'],\n",
       "  ['-', '<factor>'],\n",
       "  ['<integer>'],\n",
       "  ['<integer>', '.', '<integer>']],\n",
       " '<term L1_1>': [['<factor>', ' / ', '<term>']],\n",
       " '<integer>': [['<digit>'], ['<digit>', '<integer>']],\n",
       " '<digit>': [['0'],\n",
       "  ['1'],\n",
       "  ['2'],\n",
       "  ['3'],\n",
       "  ['4'],\n",
       "  ['5'],\n",
       "  ['6'],\n",
       "  ['7'],\n",
       "  ['8'],\n",
       "  ['9']]}"
      ]
     },
     "execution_count": 169,
     "metadata": {},
     "output_type": "execute_result"
    }
   ],
   "source": [
    "start_faultyB, faulty_grammarB_ = get_faulty_grammar(EXPR_GRAMMAR, '<start>', faulty_node2, 1);\n",
    "faulty_grammarB = grammar_gc(faulty_grammarB_, start_faultyB); faulty_grammarB"
   ]
  },
  {
   "cell_type": "code",
   "execution_count": 170,
   "metadata": {},
   "outputs": [
    {
     "data": {
      "text/plain": [
       "{'<start>': [['<expr>']],\n",
       " '<expr>': [['<term>'],\n",
       "  ['<term>', ' + ', '<expr>'],\n",
       "  ['<term>', ' - ', '<expr>']],\n",
       " '<term>': [['<term -L4_1>']],\n",
       " '<term -L4_1>': [['<factor>'], ['<factor>', ' * ', '<term>']],\n",
       " '<factor>': [['(', '<expr>', ')'],\n",
       "  ['+', '<factor>'],\n",
       "  ['-', '<factor>'],\n",
       "  ['<integer>'],\n",
       "  ['<integer>', '.', '<integer>']],\n",
       " '<integer>': [['<digit>'], ['<digit>', '<integer>']],\n",
       " '<digit>': [['0'],\n",
       "  ['1'],\n",
       "  ['2'],\n",
       "  ['3'],\n",
       "  ['4'],\n",
       "  ['5'],\n",
       "  ['6'],\n",
       "  ['7'],\n",
       "  ['8'],\n",
       "  ['9']]}"
      ]
     },
     "execution_count": 170,
     "metadata": {},
     "output_type": "execute_result"
    }
   ],
   "source": [
    "faulty_grammar_B_ = negate_fault_from_grammar(EXPR_GRAMMAR, faulty_node2, 4);faulty_grammar_B_\n",
    "faulty_grammar_B = grammar_gc(faulty_grammar_B_, '<start>'); faulty_grammar_B"
   ]
  },
  {
   "cell_type": "code",
   "execution_count": 171,
   "metadata": {},
   "outputs": [],
   "source": [
    "gnf_B = LimitFuzzer(faulty_grammar_B)\n",
    "parsernf_B = Parser(faulty_grammar_B, canonical=True, start_symbol='<start>')"
   ]
  },
  {
   "cell_type": "code",
   "execution_count": 172,
   "metadata": {},
   "outputs": [],
   "source": [
    "parsernfB = Parser(faulty_grammarB, canonical=True, start_symbol=start_faultyB)"
   ]
  },
  {
   "cell_type": "code",
   "execution_count": 173,
   "metadata": {},
   "outputs": [
    {
     "name": "stdout",
     "output_type": "stream",
     "text": [
      "+-+(5.5 * 7.6 - 7.8) * +-77.0\n",
      "Should not parse\n",
      "\n",
      "+++4\n",
      "Should not parse\n",
      "\n",
      "-036.3 * (+6.0 * 7 - 0 * 4.4 + 3)\n",
      "Should not parse\n",
      "\n",
      "51.0 * -(5 + 8) + --7 - +(6.6 - 2.2) + -(2 - 0.9) + 286 - -3.5 + +5 * 9.0 + 9\n",
      "Should not parse\n",
      "\n",
      "7569 * ---9.2\n",
      "Should not parse\n",
      "\n",
      "-257.42 - 355 - 0.94 * 6.34 * (2) + 9 * 0 - 01 * +7 * 5.8 - 64.67 * 4.7 + 0\n",
      "Should not parse\n",
      "\n",
      "---++(6 + 8.3) * +--(6) * (7.0 - 3 - 2)\n",
      "Should not parse\n",
      "\n",
      "03 * -++38.5\n",
      "Should not parse\n",
      "\n",
      "((9.7 + 3.2) * (6) * 3) * -+539 + (1.92 * 6 * 1.3) * 2 * -(8) + (0 * 7.0 - 8.9 + 4.7 + 0.3 + 3.6)\n",
      "Should not parse\n",
      "\n",
      "50.52 * 761.92 * (9 + 0.5) - 0.227 * 0.34\n",
      "Should not parse\n",
      "\n",
      "(1.64 * 7 * 7) + -+--5\n",
      "Should not parse\n",
      "\n",
      "4 - 9.6 * 19.17 - -++(9.8) * -6.95 - 190.67 + -+(2.7) * -1 * 4 + 62\n",
      "Should not parse\n",
      "\n",
      "32 - +(1.5 + 2 * 3 - 4 - 4.1) * 0.5 + (5 + 4 - 8.3 - 0 - 4.5)\n",
      "Should not parse\n",
      "\n",
      "-(37.2 * 9.1 + 5 * 0) + (-(2))\n",
      "Should not parse\n",
      "\n",
      "+0 + (+2.7 + -0)\n",
      "Should not parse\n",
      "\n",
      "+1.11 * -02\n",
      "Should not parse\n",
      "\n",
      "4.03 * -54 - 684 - 19.605\n",
      "Should not parse\n",
      "\n",
      "-6.78 * -9 * -1 * +8 + 0 * (0.5 + 6) + ++830.0 * 49.2 * 9 + 5.7 - +9 * (2) + 4 - -9 * 2 - 6.0 * 6.8 + 0.2 + 1.5\n",
      "Should not parse\n",
      "\n",
      "4.8314 + 3 + ((4.3) * 3 - 8 * 2.4 - 7.0) * 195.4 - -33.9 + 3 * +5.2 + -+5.5 - -6.9\n",
      "Should not parse\n",
      "\n",
      "((0.2) + (8 + 9) * 8 * 4.1 + -2 - 2.8 - 6.4) * +67\n",
      "Should not parse\n",
      "\n",
      "(9.22 * 3 * 1 + +5 * 9 * 0) * 684.61 * (2.1 + 9 - 0)\n",
      "Should not parse\n",
      "\n",
      "((5.1 + 7 - 0) + +-4 * 4 * 5 + 8.3 * 4.9 + 9.9 * 9.3 + 3) * +-+-(2.5) - 1.068800 * +2.66 - (-1 * 0.8 + 2.3 * 3.6 + 1.7 - 3 + 8) * 4 - (7.5 * 1.2 + 7.5 + 5.9 + 3.2) * (1.1 + 6) * 0.1\n",
      "Should not parse\n",
      "\n",
      "235.86 * 38\n",
      "Should not parse\n",
      "\n",
      "6 - ((7) * 5.4 * 1.6 - 6.5) * +374\n",
      "Should not parse\n",
      "\n",
      "-+((0) * 0.6 + 2.6 + 6 - 9) * 4.8733 * 6 * +0.3 + -((9) - 2) * -(3.5 - 5.7 + 7.6) - ((4) * 0 + 0) * 78.7 * -2.7 * 7 - 4948.7 * (6 + 1.5) * 1\n",
      "Should not parse\n",
      "\n",
      "((4) * 6.0) * +0650.6 * (9.4 + 0 + 4) * 2.9 + 0.4\n",
      "Should not parse\n",
      "\n",
      "0.8 * 2.8 * 734.793 + 0.13 * 0 * 6 * 2.3 - 35302.84 * 50.6 - 0 * 15 * 7.8 * 0.9 + +52.94\n",
      "Should not parse\n",
      "\n",
      "--+388.4 + 4.5 + ((8.2)) - 9.65 * 23.78 * 9 + --9\n",
      "Should not parse\n",
      "\n",
      "-103.43 * -059.27\n",
      "Should not parse\n",
      "\n",
      "-(-+3 * 3.6 - (7)) - +6692\n",
      "Should not parse\n",
      "\n",
      "-960.0 * 217.76 * 030.8 * +6.8 - 2.6 * 4787.17 - 582 + ---1.7 * -7 - (2.0 - 8.1 - 7.1) * 4.7 - 66 + 9 - 3\n",
      "Should not parse\n",
      "\n",
      "---0488.1 * --+24.89 - 0\n",
      "Should not parse\n",
      "\n",
      "47\n",
      "Should not parse\n",
      "\n",
      "--+(0) - +99.459 * 6.1 - 2963.9 - -+(2 - 0.0) * 07.62 - -3.29 - (1.9 + 0.3) * 5.6 * 3.1\n",
      "Should not parse\n",
      "\n",
      "(7 * -7 - (2.7) - 6)\n",
      "Should not parse\n",
      "\n",
      "535.57 * 02\n",
      "Should not parse\n",
      "\n",
      "((0.1 + 1 + 6.8) * 7 * 2 - +0) - 58.7 * 04.57 - 9 * +4.0 * 5 + 13.1 * 5.1 * 2 * 7 + (2 - 7 + 4.6) * 4 - -2 * 2\n",
      "Should not parse\n",
      "\n",
      "(---7.8 * 6.0 * 0) * 5\n",
      "Should not parse\n",
      "\n",
      "8.028\n",
      "Should not parse\n",
      "\n",
      "4 + -5.94 + 6.5 * -+2.0\n",
      "Should not parse\n",
      "\n",
      "(-45.7 * (7.0) * 5 + 3.3 * 1 * 0 - +0 * 8 + 3 * 8.4) + --+299.669 - (4) + (4 + 2.4)\n",
      "Should not parse\n",
      "\n",
      "846\n",
      "Should not parse\n",
      "\n",
      "6 * +6 - --4.4\n",
      "Should not parse\n",
      "\n",
      "8.6 * -8 * -(8.3) - +99.63 * 2\n",
      "Should not parse\n",
      "\n",
      "(-(1.7) * +6 * 9.1 + -(3.1) * 0.7)\n",
      "Should not parse\n",
      "\n",
      "2 * (+9 + 6.6 * 6.3) * 560 + +3.7\n",
      "Should not parse\n",
      "\n",
      "+092 * (+4.1 * 4 - 9.3 * 4.9 + 0) - 3.6 * 98.19\n",
      "Should not parse\n",
      "\n",
      "7.8 * (-3 * 0.0 - 9.8 * 1.8 - 7 + 1) + -1.1 * +(1 - 7.2)\n",
      "Should not parse\n",
      "\n",
      "4 * (+1.7 * 1.8 - 2 * 7) * (7.8 - 7.7 - 7) + +6 * +975.952 * 3.39 * 6 - 3.05\n",
      "Should not parse\n",
      "\n",
      "347626\n",
      "Should not parse\n",
      "\n",
      "(+11 * 1.9)\n",
      "Should not parse\n",
      "\n",
      "-+((1) + 9.3 * 1.6) * 59 * -94 - +8.01 - 7525 + -0.3\n",
      "Should not parse\n",
      "\n",
      "5.3 - -++-(4 - 5.4) * (0 * 2 - 5 + 6.5) * +(1) + 91.2 * +24.58 + 0\n",
      "Should not parse\n",
      "\n",
      "-(++5.0 - (0.8) * 0 - 0.9 * 0.7) + 2 - 1.01200 * -(1.1 + 0.7)\n",
      "Should not parse\n",
      "\n",
      "(795.35 * -5.9 + -+1.3 * 5 * 1.7) * 045 * ++-8 * -5.1 - 6\n",
      "Should not parse\n",
      "\n",
      "0012 * 0.02 * -(0) * 5.9 * 1 + 3 + ++85\n",
      "Should not parse\n",
      "\n",
      "(09) * 70.51 - (+0 * 4.3 + (1) * 8 + 0.2 - 8) * 2.708\n",
      "Should not parse\n",
      "\n",
      "83 - ++60.3 + 12.47 * (9) - -++-0.6 * (1.2 - 9.1) - (3.8 - 9) + (9.5 + 0) - +0.1 - 5.8 - 4 + 2.8 - 3\n",
      "Should not parse\n",
      "\n",
      "+--(0 * 7)\n",
      "Should not parse\n",
      "\n",
      "1\n",
      "Should not parse\n",
      "\n",
      "044 - (-+9.1 * 4.6)\n",
      "Should not parse\n",
      "\n",
      "(+(5) * -7.6 * 2.1) * -(7 * 2) * (7.4) * (9) * 6.1 + 2 * +4.8 + --(8.2 - 8 + 8) * -(2 + 2.7) * +4 - +++-7.9 * (5) * 9 * 9.2 - +(9)\n",
      "Should not parse\n",
      "\n",
      "421396 - 76 * 0\n",
      "Should not parse\n",
      "\n",
      "3 * +(1 * 5.3 - 6.1 - 9)\n",
      "Should not parse\n",
      "\n",
      "((3 - 1 - 3) * -6 + 60.46 * 8 * 5.2) + (76.47 * 2.5 * 0.9) * 399.5 + 73361.4033 * -6 - -0.633 - -42\n",
      "Should not parse\n",
      "\n",
      "71363 * 9.5157 * -+7 * +0.8 * 0 + +245.294 * +(5 + 7 - 7.0) * 2.5 - 8 - (4) + ++8 - 7.15 * 4.6 - 5.6 - 4.3 * 5 + 7\n",
      "Should not parse\n",
      "\n",
      "34414 * 8 - 26\n",
      "Should not parse\n",
      "\n",
      "+-(-5.5 + 6.3 + 0) * 99.3 * -+5.0\n",
      "Should not parse\n",
      "\n",
      "867.877 - 11.1 * (7.1 - 0) + 3.29\n",
      "Should not parse\n",
      "\n",
      "7.7 * 13.9766\n",
      "Should not parse\n",
      "\n",
      "3.65 * ((2) * 6.2 + 0 - 7)\n",
      "Should not parse\n",
      "\n",
      "1 + ((4 - 1) * 3.9 * 6) * 10.69 - -++82 + -8 - 206.86 - 46 * 7.9\n",
      "Should not parse\n",
      "\n",
      "5 * 95.522 * 5.96 * -2 * 1 + 0.58 * (3) + +4.41\n",
      "Should not parse\n",
      "\n",
      "6 * (-8.5 + 1.9 - 6) + ++(0 * 6 + 0) * (6.4 - 1.7 - 0 + 6) * 8.9 - (-7.3 + 7) - (7 - 7 + 6.8 + 6.4)\n",
      "Should not parse\n",
      "\n",
      "7 + 884179 + --+33 * +2 + 45 * +-9.8 - --3 - (6.0 - 6.2) + -0\n",
      "Should not parse\n",
      "\n",
      "-66 * ((1) * 0.7) * 3 * (1)\n",
      "Should not parse\n",
      "\n",
      "91 - (7 * 4.1 * 6 - 6.3 * 4 + 0) + 3635.96\n",
      "Should not parse\n",
      "\n",
      "7 - 343 * --0.9 * ++5 - -+(2.8 - 6.6 - 9) + (0.4 * 9.0 + 0 + 6 - 1) + -(4 - 4) * +1\n",
      "Should not parse\n",
      "\n",
      "9.15 * (+8.7 * 1.3 - 8) - +59.94 * (3.8 * 2 - 4) - 2.8 - 8 * 8.76 + 2\n",
      "Should not parse\n",
      "\n",
      "-1.57 + 92689 - 21 - (7.2 * 4.1 - 4.3 - 3.9 - 8) + +(5 - 9) * 1.2 * 1.3 - 56 + -8 * 8.3\n",
      "Should not parse\n",
      "\n",
      "+3 * (5 - 6 * 0 + 0 - 9.1 - 1.4) - (+1.5 * 1.7 - -8 * 9) * +8.6 * -7 * 2.4\n",
      "Should not parse\n",
      "\n",
      "-(+(5.9))\n",
      "Should not parse\n",
      "\n",
      "((5.7 - 9 + 4.6) * 8 * 9 + +7 + (0) * 0.3 + 0 + 9) * (+0.4 * 3.6 + 9.7 + 2 + 4.9) * 5.286 * +0.0 + ((4) * 0.9 * 8) - 9 + --59 * --6 * 9.9 * 2.3\n",
      "Should not parse\n",
      "\n",
      "(9.40 + (3.9 - 4) + +4 * 5 - 2 * 0.9) * 14676.608 * 885\n",
      "Should not parse\n",
      "\n",
      "----46 * --+(5 - 5.3) + --2.11 * (0 + 0 - 7) * 3 * 4.1 * 7 - 9 * 719\n",
      "Should not parse\n",
      "\n",
      "+62.606753 * (+3.8 + 1.3 - 4 - 8.0) * --+1 * +7 * 0 - ++(6.0 * 8.6 + 1) * 8.3 * 28.25\n",
      "Should not parse\n",
      "\n",
      "9564 * 8.3 * -6.88 - -0.3\n",
      "Should not parse\n",
      "\n",
      "1.3 * -++-(7.2) * 4 * -6.0 - 97.03\n",
      "Should not parse\n",
      "\n",
      "-(+-6.7) + +5.74\n",
      "Should not parse\n",
      "\n",
      "6.7 * +(3.2 + 1 + 4.5 - 7) + 85.3 * (1.8 + 6 - 2.5 + 7) * +6 - +++0.5 + -+(5.0 + 2.0) - -++8.4 + 79.2 - +1 * 3 + 8 + 8 - 0\n",
      "Should not parse\n",
      "\n",
      "(--4 + 56.29 * 7 * 6.3 - +4.9 + 0.5) + (8 * 1 - 2 - 0 * 9 - 9) - 6 + 27 * -+6\n",
      "Should not parse\n",
      "\n",
      "3 * 0 - --+796.3 * (9)\n",
      "Should not parse\n",
      "\n",
      "+518 - 5 * 63.95\n",
      "Should not parse\n",
      "\n",
      "6 * -7057 * 74.169 * 8.2\n",
      "Should not parse\n",
      "\n",
      "-+9 - 6 - 62 + 9 * 3.2\n",
      "Should not parse\n",
      "\n",
      "29 * 987\n",
      "Should not parse\n",
      "\n",
      "39\n",
      "Should not parse\n",
      "\n",
      "3 * 2 - -46.97550 * (1 * 4.2 + 3.6 - 0.2 + 7) - 78 * (9.8) * 8\n",
      "Should not parse\n",
      "\n",
      "86.96 + (-1.3 * 7.2 * 0 - 8 * 7.5)\n",
      "Should not parse\n",
      "\n",
      "+-6.692 * +6567.283 - 4.6282 * 1.9 * (3) + -(5 + 9.1 + 8.3 + 6) * 60 * 8.5 + 9.5\n",
      "Should not parse\n",
      "\n"
     ]
    }
   ],
   "source": [
    "for i in range(100):\n",
    "    s = gnf_B.fuzz(key='<start>')\n",
    "    for t in parsernf_B.parse(s):\n",
    "        print(tree_to_str(t))\n",
    "    parsed = False\n",
    "    try:\n",
    "        f = parserB.parse(s)\n",
    "        for t in f:\n",
    "            print(t)\n",
    "            parsed = True\n",
    "    except:\n",
    "        parsed = False\n",
    "        print('Should not parse')\n",
    "    assert not parsed\n",
    "    print()"
   ]
  },
  {
   "cell_type": "markdown",
   "metadata": {},
   "source": [
    "## Tests"
   ]
  },
  {
   "cell_type": "code",
   "execution_count": 174,
   "metadata": {},
   "outputs": [
    {
     "data": {
      "text/plain": [
       "('<factor>', '((<expr>))')"
      ]
     },
     "execution_count": 174,
     "metadata": {},
     "output_type": "execute_result"
    }
   ],
   "source": [
    " faulty_node1[0], tree_to_str_a(faulty_node1)"
   ]
  },
  {
   "cell_type": "code",
   "execution_count": 175,
   "metadata": {},
   "outputs": [],
   "source": [
    "my_grammar, my_start, abs_faultA = EXPR_GRAMMAR, '<start>', faulty_node1"
   ]
  },
  {
   "cell_type": "code",
   "execution_count": 176,
   "metadata": {},
   "outputs": [],
   "source": [
    "abs_faultB = faulty_node2"
   ]
  },
  {
   "cell_type": "code",
   "execution_count": 177,
   "metadata": {},
   "outputs": [
    {
     "data": {
      "text/plain": [
       "('<factor>', '(2 * 3 / 4)')"
      ]
     },
     "execution_count": 177,
     "metadata": {},
     "output_type": "execute_result"
    }
   ],
   "source": [
    "p = [0, 2, 0, 0, 1, 0, 0]\n",
    "node = find_node(parsed_expr, p)\n",
    "node[0], tree_to_str(node)"
   ]
  },
  {
   "cell_type": "code",
   "execution_count": 178,
   "metadata": {},
   "outputs": [
    {
     "data": {
      "text/plain": [
       "('<expr>', '2 * 3 / 4')"
      ]
     },
     "execution_count": 178,
     "metadata": {},
     "output_type": "execute_result"
    }
   ],
   "source": [
    "abs_path_3 = [1]\n",
    "n = find_node(node, abs_path_3)\n",
    "n[0], tree_to_str(n)"
   ]
  },
  {
   "cell_type": "code",
   "execution_count": 179,
   "metadata": {},
   "outputs": [
    {
     "data": {
      "text/plain": [
       "('<factor>',\n",
       " [('(', [], {'abstract': False}),\n",
       "  ('<expr>',\n",
       "   [('<term>',\n",
       "     [('<factor>',\n",
       "       [('<integer>',\n",
       "         [('<digit>', [('2', [], {'abstract': False})], {'abstract': False})],\n",
       "         {'abstract': False})],\n",
       "       {'abstract': False}),\n",
       "      (' * ', [], {'abstract': False}),\n",
       "      ('<term>',\n",
       "       [('<factor>',\n",
       "         [('<integer>',\n",
       "           [('<digit>',\n",
       "             [('3', [], {'abstract': False})],\n",
       "             {'abstract': False})],\n",
       "           {'abstract': False})],\n",
       "         {'abstract': False}),\n",
       "        (' / ', [], {'abstract': False}),\n",
       "        ('<term>',\n",
       "         [('<factor>',\n",
       "           [('<integer>',\n",
       "             [('<digit>',\n",
       "               [('4', [], {'abstract': False})],\n",
       "               {'abstract': False})],\n",
       "             {'abstract': False})],\n",
       "           {'abstract': False})],\n",
       "         {'abstract': False})],\n",
       "       {'abstract': False})],\n",
       "     {'abstract': False})],\n",
       "   {'abstract': True}),\n",
       "  (')', [], {'abstract': False})],\n",
       " {'abstract': False})"
      ]
     },
     "execution_count": 179,
     "metadata": {},
     "output_type": "execute_result"
    }
   ],
   "source": [
    "faulty_node3 = mark_abstract_nodes(node, [abs_path_3])\n",
    "faulty_node3"
   ]
  },
  {
   "cell_type": "code",
   "execution_count": 180,
   "metadata": {},
   "outputs": [
    {
     "data": {
      "text/plain": [
       "'(<expr>)'"
      ]
     },
     "execution_count": 180,
     "metadata": {},
     "output_type": "execute_result"
    }
   ],
   "source": [
    "tree_to_str_a(faulty_node3)"
   ]
  },
  {
   "cell_type": "code",
   "execution_count": 181,
   "metadata": {},
   "outputs": [],
   "source": [
    "abs_faultC = faulty_node3"
   ]
  },
  {
   "cell_type": "code",
   "execution_count": 182,
   "metadata": {},
   "outputs": [],
   "source": [
    "FAULT_COUNTER = 0"
   ]
  },
  {
   "cell_type": "code",
   "execution_count": 183,
   "metadata": {},
   "outputs": [],
   "source": [
    "def and_abstraction(grammar, start, faulty_node):\n",
    "    global FAULT_COUNTER\n",
    "    FAULT_COUNTER += 1\n",
    "    s, g = get_faulty_grammar(grammar, start, faulty_node, FAULT_COUNTER);\n",
    "    return s, grammar_gc(g, s)"
   ]
  },
  {
   "cell_type": "code",
   "execution_count": 184,
   "metadata": {},
   "outputs": [],
   "source": [
    "def neg_abstraction(grammar, start, faulty_node):\n",
    "    global FAULT_COUNTER\n",
    "    FAULT_COUNTER += 1\n",
    "    g = negate_fault_from_grammar(grammar, faulty_node, FAULT_COUNTER)\n",
    "    return start, grammar_gc(g, start)"
   ]
  },
  {
   "cell_type": "markdown",
   "metadata": {},
   "source": [
    "### G & A"
   ]
  },
  {
   "cell_type": "markdown",
   "metadata": {},
   "source": [
    "Generate inputs that contain doubled parenthesis."
   ]
  },
  {
   "cell_type": "code",
   "execution_count": 185,
   "metadata": {},
   "outputs": [
    {
     "data": {
      "text/plain": [
       "'((<expr>))'"
      ]
     },
     "execution_count": 185,
     "metadata": {},
     "output_type": "execute_result"
    }
   ],
   "source": [
    "tree_to_str_a(abs_faultA)"
   ]
  },
  {
   "cell_type": "code",
   "execution_count": 186,
   "metadata": {},
   "outputs": [
    {
     "name": "stdout",
     "output_type": "stream",
     "text": [
      "Stripping: ['<start>']\n"
     ]
    }
   ],
   "source": [
    "G_and_A_s, G_and_A_g = and_abstraction(my_grammar, my_start, abs_faultA);"
   ]
  },
  {
   "cell_type": "code",
   "execution_count": 187,
   "metadata": {},
   "outputs": [
    {
     "data": {
      "text/plain": [
       "('<start F1>',\n",
       " {'<start F1>': [['<expr F1>']],\n",
       "  '<expr F1>': [['<term F1>'],\n",
       "   ['<term F1>', ' + ', '<expr>'],\n",
       "   ['<term F1>', ' - ', '<expr>'],\n",
       "   ['<term>', ' + ', '<expr F1>'],\n",
       "   ['<term>', ' - ', '<expr F1>']],\n",
       "  '<term F1>': [['<factor F1>'],\n",
       "   ['<factor F1>', ' * ', '<term>'],\n",
       "   ['<factor F1>', ' / ', '<term>'],\n",
       "   ['<factor>', ' * ', '<term F1>'],\n",
       "   ['<factor>', ' / ', '<term F1>']],\n",
       "  '<expr>': [['<term>'],\n",
       "   ['<term>', ' + ', '<expr>'],\n",
       "   ['<term>', ' - ', '<expr>']],\n",
       "  '<term>': [['<factor>'],\n",
       "   ['<factor>', ' * ', '<term>'],\n",
       "   ['<factor>', ' / ', '<term>']],\n",
       "  '<factor F1>': [['(', '<expr F1>', ')'],\n",
       "   ['+', '<factor F1>'],\n",
       "   ['-', '<factor F1>'],\n",
       "   ['<factor L1_1>']],\n",
       "  '<factor>': [['(', '<expr>', ')'],\n",
       "   ['+', '<factor>'],\n",
       "   ['-', '<factor>'],\n",
       "   ['<integer>'],\n",
       "   ['<integer>', '.', '<integer>']],\n",
       "  '<factor L1_1>': [['(', '<expr L1_1>', ')']],\n",
       "  '<expr L1_1>': [['<term L1_1>']],\n",
       "  '<term L1_1>': [['<factor L1_2>']],\n",
       "  '<factor L1_2>': [['(', '<expr>', ')']],\n",
       "  '<integer>': [['<digit>'], ['<digit>', '<integer>']],\n",
       "  '<digit>': [['0'],\n",
       "   ['1'],\n",
       "   ['2'],\n",
       "   ['3'],\n",
       "   ['4'],\n",
       "   ['5'],\n",
       "   ['6'],\n",
       "   ['7'],\n",
       "   ['8'],\n",
       "   ['9']]})"
      ]
     },
     "execution_count": 187,
     "metadata": {},
     "output_type": "execute_result"
    }
   ],
   "source": [
    "G_and_A_s, G_and_A_g"
   ]
  },
  {
   "cell_type": "code",
   "execution_count": 188,
   "metadata": {},
   "outputs": [],
   "source": [
    "G_and_A_f = LimitFuzzer(G_and_A_g)\n",
    "G_and_A_p = Parser(G_and_A_g, canonical=True, start_symbol=G_and_A_s)"
   ]
  },
  {
   "cell_type": "code",
   "execution_count": 189,
   "metadata": {},
   "outputs": [
    {
     "name": "stdout",
     "output_type": "stream",
     "text": [
      "-(403 / 5 * +-7.0 * 5 / 2.8) * (+-(4.3 + ((0)) * 1 - 9)) * 6.06 * 06.3 * (9 + 0) / (2.5 / 3.4 - 3 + 1.8) - 6 * (-(9 - 7.4) - +-6.8 * 5.9) / (--4.4 * 9.8 / 9 * 1.4) / +60 / +-9.5 / ++8.7 / -7 * 5.7 * 9\n",
      "\n",
      "0.76 / +4.64 / -08403 * 38.08496 + -4.9891 * +(--((9)) - +3 - 4.0 * 1 + 8.1 - 7) / ((4 - 7) * 1.5 * 1 - 6 * 5 / 3 + 6.9) * 5.1 - ++2.9 / ++2.3 * (-4 - 3 / 5) * -45.54 * (7.8 - 4.5) + ++-(1.0) * 169\n",
      "\n",
      "(+++(2 - ((5)) / 2 - 1.8) * 78.0 / -4.66) / 1390 * 4.163160 / 96.63 / 0988.9 - +-((2 + 9.5) / (2) * 3 * 5 - 6.8) / -12.7 / 7601 * +-(5 + 8.3) * (5 - 6.8) - 54.0 / 272.2\n",
      "\n",
      "9 * +((1 + 7)) * -+-(6.3 / 9)\n",
      "\n",
      "(-2.84 / ++58 / (0.3 * 7.5 - 7) * (2 + 0.5) / 9.4 / 3.5 + ((2)) / (1 / 6.8 + 2.1 + 4) * (8.1) * 5) / 78 * -6.4 / 4.62 / +35 + 04.4 / -96693.7 * +(+5.5) + -074.9\n",
      "\n",
      "8.31 * ((9.5 / 3)) * (-5.21 - 0.0 * +2.8 / 3) * ---+4.8 * +8 / 082.63 * 41.1 / (0.6) / 5 / 0 - 78.4\n",
      "\n",
      "+(((((7))) / 9.8 / 1 + 7) / -++9.0 / 63.1) * -9.6 * (1 / ++6 / (0.7) * 9) / (--6.0 / (8.2) / 3 - -2.2 * 5 / 0 - 0 * 5 + 3.9) / +3 * +56.66 / +-3 * -0\n",
      "\n",
      "6.3 - (((2.0)) / +9.17 * (6.1 + 1.9) * (7.8) - -(0) / 25.36 - (6.3 + 3) - (5.1) / 3.6 / 8.5 + 3.9 / 0 - 5 - 9) * -67348 / 2.803 * ((3) + 1 - 5.7 - 1) + 943 * -46.41 - 6.5 / 5.75 / 57 / (4 + 9.8) / 0.7 / 0.2 * 8 - 258.53 - -+-8.5\n",
      "\n",
      "(+(+8.5 * 2.1)) - +((6.4 - 4.9)) * +881.6 * +-(7.7 / 5 + 1 + 3.3) * +416\n",
      "\n",
      "--+((2)) - ++-9.2 + -83 / (++1 * 2 + 1.4 * 7.1) + 314 - -1 - 9\n",
      "\n"
     ]
    }
   ],
   "source": [
    "for i in range(10):\n",
    "    s = G_and_A_f.fuzz(key=G_and_A_s)\n",
    "    for t in G_and_A_p.parse(s):\n",
    "        print(tree_to_str(t))\n",
    "    print()"
   ]
  },
  {
   "cell_type": "markdown",
   "metadata": {},
   "source": [
    "### G & -A"
   ]
  },
  {
   "cell_type": "markdown",
   "metadata": {},
   "source": [
    "Generate inputs that does not contain doubled parenthesis."
   ]
  },
  {
   "cell_type": "code",
   "execution_count": 190,
   "metadata": {},
   "outputs": [
    {
     "data": {
      "text/plain": [
       "'((<expr>))'"
      ]
     },
     "execution_count": 190,
     "metadata": {},
     "output_type": "execute_result"
    }
   ],
   "source": [
    "tree_to_str_a(abs_faultA)"
   ]
  },
  {
   "cell_type": "code",
   "execution_count": 191,
   "metadata": {},
   "outputs": [
    {
     "name": "stdout",
     "output_type": "stream",
     "text": [
      "<expr -L2_1>\n",
      "<expr> <expr L2_1>\n",
      "<term -L2_1>\n",
      "<term> <term L2_1>\n"
     ]
    }
   ],
   "source": [
    "G_and_negA_s, G_and_negA_g = neg_abstraction(my_grammar, my_start, abs_faultA);"
   ]
  },
  {
   "cell_type": "code",
   "execution_count": 192,
   "metadata": {},
   "outputs": [
    {
     "data": {
      "text/plain": [
       "{'<start>': [['<expr>']],\n",
       " '<expr>': [['<term>'],\n",
       "  ['<term>', ' + ', '<expr>'],\n",
       "  ['<term>', ' - ', '<expr>']],\n",
       " '<term>': [['<factor>'],\n",
       "  ['<factor>', ' * ', '<term>'],\n",
       "  ['<factor>', ' / ', '<term>']],\n",
       " '<factor>': [['<factor -L2_1>']],\n",
       " '<factor -L2_1>': [['(', '<expr -L2_1>', ')'],\n",
       "  ['+', '<factor>'],\n",
       "  ['-', '<factor>'],\n",
       "  ['<integer>'],\n",
       "  ['<integer>', '.', '<integer>']],\n",
       " '<expr -L2_1>': [['<term -L2_1>'],\n",
       "  ['<term>', ' + ', '<expr>'],\n",
       "  ['<term>', ' - ', '<expr>']],\n",
       " '<integer>': [['<digit>'], ['<digit>', '<integer>']],\n",
       " '<term -L2_1>': [['<factor>', ' * ', '<term>'],\n",
       "  ['<factor>', ' / ', '<term>']],\n",
       " '<digit>': [['0'],\n",
       "  ['1'],\n",
       "  ['2'],\n",
       "  ['3'],\n",
       "  ['4'],\n",
       "  ['5'],\n",
       "  ['6'],\n",
       "  ['7'],\n",
       "  ['8'],\n",
       "  ['9']]}"
      ]
     },
     "execution_count": 192,
     "metadata": {},
     "output_type": "execute_result"
    }
   ],
   "source": [
    "G_and_negA_g"
   ]
  },
  {
   "cell_type": "code",
   "execution_count": 193,
   "metadata": {},
   "outputs": [],
   "source": [
    "G_and_negA_f = LimitFuzzer(G_and_negA_g)\n",
    "G_and_negA_p = Parser(G_and_negA_g, canonical=True, start_symbol=G_and_negA_s)"
   ]
  },
  {
   "cell_type": "code",
   "execution_count": 194,
   "metadata": {},
   "outputs": [
    {
     "name": "stdout",
     "output_type": "stream",
     "text": [
      "2.68 / -7.63 + 62.621 / +-+1.9 - 4.0 / 3 / (1 + 4.2) / 3.9\n",
      "Should not parse\n",
      "\n",
      "+(2.9 - 9 - 0 / 1.1) * 2.17642 * ((1.7 + 6.5) / 5) / (2.0 - 4.2 / 5.5 + 9 - 0.2) * (9 / 9 + 3.9) + ((0 / 5.7) + (1 - 1) / 4.4 / 9 * 4 - 8) - ++(1.9 + 5.1) * (5 + 8 / 8) * --7\n",
      "Should not parse\n",
      "\n",
      "6889.3 * ++(0.2 + 7.7) * 02.269 * 7 * 300.29 * +6 / +0.9\n",
      "Should not parse\n",
      "\n",
      "+5917 / 6 * 68.85076\n",
      "Should not parse\n",
      "\n",
      "94 * (1.5 * -8 * 9 * 7) * 357 * 236 * (5.9 + 9) / 47 / -0.8 - ---2.2\n",
      "Should not parse\n",
      "\n",
      "+(5.1 / 5 * 2 - 2.4 / 7.7 / 2.0 + 6 / 0 - 5 - 2.0) / -7 + +(5 * 3.9 / 3 - 6 + 8 - 3) + +++3.7 + (8 - 4.3 / 2 + 1) / 954 * +7 - 8.9 * 5 * 6 / 1 / 8.3\n",
      "Should not parse\n",
      "\n",
      "++493 / +-+1.9 * +8 / --3.2 * 9.312 - (0.7 * (7.6 + 7.1) * 0.3 * 1 * 1) + 3 * 3.8\n",
      "Should not parse\n",
      "\n",
      "+((1 + 0.1) / 8.8 * 0 + 8 / 6 / 0) * (6.0 * 0.2 + 6.6 / 7 / 0 / 4.3) - 8 * -+4.5 * 4.886 - +-+1.4 * 3 * 9.52 * 43.8 / 2.2 + 1.0 * -6.3 * 57.65 / -3 / 4.3 / 5.7 / 0.0\n",
      "Should not parse\n",
      "\n",
      "+-(5 * 3.5) - -783 - -+7.2 / (1.7 * 4 * 5.9 + 4.5 / 3.3 + 4.8)\n",
      "Should not parse\n",
      "\n",
      "(++2 * 6 / (1 - 7.2) * 2.5) - ++7\n",
      "Should not parse\n",
      "\n"
     ]
    }
   ],
   "source": [
    "for i in range(10):\n",
    "    s = G_and_negA_f.fuzz(key=G_and_negA_s)\n",
    "    for t in G_and_negA_p.parse(s):\n",
    "        print(tree_to_str(t))\n",
    "    try:\n",
    "        f = G_and_A_p.parse(s)\n",
    "        for t in f:\n",
    "            print(t)\n",
    "            parsed = True\n",
    "    except:\n",
    "        parsed = False\n",
    "        print('Should not parse')\n",
    "    assert not parsed\n",
    "    print()"
   ]
  },
  {
   "cell_type": "markdown",
   "metadata": {},
   "source": [
    "### G & B"
   ]
  },
  {
   "cell_type": "markdown",
   "metadata": {},
   "source": [
    "Generate inputs that contains a division."
   ]
  },
  {
   "cell_type": "code",
   "execution_count": 195,
   "metadata": {},
   "outputs": [
    {
     "data": {
      "text/plain": [
       "'<factor> / <term>'"
      ]
     },
     "execution_count": 195,
     "metadata": {},
     "output_type": "execute_result"
    }
   ],
   "source": [
    "tree_to_str_a(abs_faultB)"
   ]
  },
  {
   "cell_type": "code",
   "execution_count": 196,
   "metadata": {},
   "outputs": [
    {
     "name": "stdout",
     "output_type": "stream",
     "text": [
      "Stripping: ['<start>']\n"
     ]
    }
   ],
   "source": [
    "G_and_B_s, G_and_B_g = and_abstraction(my_grammar, my_start, abs_faultB);"
   ]
  },
  {
   "cell_type": "code",
   "execution_count": 197,
   "metadata": {},
   "outputs": [
    {
     "data": {
      "text/plain": [
       "('<start F3>',\n",
       " {'<start F3>': [['<expr F3>']],\n",
       "  '<expr F3>': [['<term F3>'],\n",
       "   ['<term F3>', ' + ', '<expr>'],\n",
       "   ['<term F3>', ' - ', '<expr>'],\n",
       "   ['<term>', ' + ', '<expr F3>'],\n",
       "   ['<term>', ' - ', '<expr F3>']],\n",
       "  '<term F3>': [['<factor F3>'],\n",
       "   ['<factor F3>', ' * ', '<term>'],\n",
       "   ['<factor F3>', ' / ', '<term>'],\n",
       "   ['<factor>', ' * ', '<term F3>'],\n",
       "   ['<factor>', ' / ', '<term F3>'],\n",
       "   ['<term L3_1>']],\n",
       "  '<expr>': [['<term>'],\n",
       "   ['<term>', ' + ', '<expr>'],\n",
       "   ['<term>', ' - ', '<expr>']],\n",
       "  '<term>': [['<factor>'],\n",
       "   ['<factor>', ' * ', '<term>'],\n",
       "   ['<factor>', ' / ', '<term>']],\n",
       "  '<factor F3>': [['(', '<expr F3>', ')'],\n",
       "   ['+', '<factor F3>'],\n",
       "   ['-', '<factor F3>']],\n",
       "  '<factor>': [['(', '<expr>', ')'],\n",
       "   ['+', '<factor>'],\n",
       "   ['-', '<factor>'],\n",
       "   ['<integer>'],\n",
       "   ['<integer>', '.', '<integer>']],\n",
       "  '<term L3_1>': [['<factor>', ' / ', '<term>']],\n",
       "  '<integer>': [['<digit>'], ['<digit>', '<integer>']],\n",
       "  '<digit>': [['0'],\n",
       "   ['1'],\n",
       "   ['2'],\n",
       "   ['3'],\n",
       "   ['4'],\n",
       "   ['5'],\n",
       "   ['6'],\n",
       "   ['7'],\n",
       "   ['8'],\n",
       "   ['9']]})"
      ]
     },
     "execution_count": 197,
     "metadata": {},
     "output_type": "execute_result"
    }
   ],
   "source": [
    "G_and_B_s, G_and_B_g"
   ]
  },
  {
   "cell_type": "code",
   "execution_count": 198,
   "metadata": {},
   "outputs": [],
   "source": [
    "G_and_B_f = LimitFuzzer(G_and_B_g)\n",
    "G_and_B_p = Parser(G_and_B_g, canonical=True, start_symbol=G_and_B_s)"
   ]
  },
  {
   "cell_type": "code",
   "execution_count": 199,
   "metadata": {},
   "outputs": [
    {
     "name": "stdout",
     "output_type": "stream",
     "text": [
      "-55 + --((0.2 + 3) - 2 - 5 / 8 / 4.5) / +++-69 * -+-58.25 / 637 - (69 / 66.21 - 9.65 / (2) / 8.7) / ++(0 * 3 + 7.5) - -(7 * 2 * 8) * (2.1 / 2.8 * 6.5 - 5 + 6 - 3) - 1.3 + 6 * 5 / -7 / 3.1 - 93.9 + -3.7 * 0 / 2.4 + 0 / 3 - 3.4\n",
      "-55 + --((0.2 + 3) - 2 - 5 / 8 / 4.5) / +++-69 * -+-58.25 / 637 - (69 / 66.21 - 9.65 / (2) / 8.7) / ++(0 * 3 + 7.5) - -(7 * 2 * 8) * (2.1 / 2.8 * 6.5 - 5 + 6 - 3) - 1.3 + 6 * 5 / -7 / 3.1 - 93.9 + -3.7 * 0 / 2.4 + 0 / 3 - 3.4\n",
      "\n",
      "+(++--1 / 45.61 - +6.08 / +4.9 / -4 / 8.8 - 8.0 * 5.5 + +(4 / 8.7) / 9 / 2.0)\n",
      "\n",
      "11221060.3 + (((5.1) / 1 * 0.5) * -0 / -(1) / 7.5 / 5.4 / 4.6 - +--3.2 + -(4)) + (-59 * ++(4 / 5.7) / +7.9 / 6.8 + ++8.5 + 1) / +4 * (-2.1 + 7 * 0) / (3 * 1.9) + (+-4 / 4 * 0 - -6.9) / 36.3 * -(1 + 5)\n",
      "11221060.3 + (((5.1) / 1 * 0.5) * -0 / -(1) / 7.5 / 5.4 / 4.6 - +--3.2 + -(4)) + (-59 * ++(4 / 5.7) / +7.9 / 6.8 + ++8.5 + 1) / +4 * (-2.1 + 7 * 0) / (3 * 1.9) + (+-4 / 4 * 0 - -6.9) / 36.3 * -(1 + 5)\n",
      "\n",
      "(-++(9.2 / 9 + 4.5) * (5.9 * 3 * 0 + 9.0 * 0.0) * 1 / -+3.5 * (5) - -5 / (7.9) / 90.9 / +1.8 - ++7.8 / -+6 / -9.8 - -0 - -8.9 + 5.3 * 3.5) + -++2 * 3.0 / +(3.8 * 7.5 * 9.0 - 0.2 / 3.0) * 4 * 1 / 30\n",
      "(-++(9.2 / 9 + 4.5) * (5.9 * 3 * 0 + 9.0 * 0.0) * 1 / -+3.5 * (5) - -5 / (7.9) / 90.9 / +1.8 - ++7.8 / -+6 / -9.8 - -0 - -8.9 + 5.3 * 3.5) + -++2 * 3.0 / +(3.8 * 7.5 * 9.0 - 0.2 / 3.0) * 4 * 1 / 30\n",
      "\n",
      "+++(+-7.5 / 4 * 7.2 + (0.2)) / 5 * -----(3 / 5) * (76.4 / 5 * 9 / 6.0 + +8 * 3.1 * 9.0 - 5.2 / 2.6 + 0 - 5.2) / ++(7.7 + 8) * -(2) * -+4 * (3.1) - --66 * (3)\n",
      "+++(+-7.5 / 4 * 7.2 + (0.2)) / 5 * -----(3 / 5) * (76.4 / 5 * 9 / 6.0 + +8 * 3.1 * 9.0 - 5.2 / 2.6 + 0 - 5.2) / ++(7.7 + 8) * -(2) * -+4 * (3.1) - --66 * (3)\n",
      "+++(+-7.5 / 4 * 7.2 + (0.2)) / 5 * -----(3 / 5) * (76.4 / 5 * 9 / 6.0 + +8 * 3.1 * 9.0 - 5.2 / 2.6 + 0 - 5.2) / ++(7.7 + 8) * -(2) * -+4 * (3.1) - --66 * (3)\n",
      "\n",
      "-+2.6 / 0.3 * (-34 * -(8 / 9)) / ((2 + 8.5) - +6.0 - 7 / 6.2) / +-1 * --(3)\n",
      "-+2.6 / 0.3 * (-34 * -(8 / 9)) / ((2 + 8.5) - +6.0 - 7 / 6.2) / +-1 * --(3)\n",
      "\n",
      "2 - (-(6 * 8.8 + 9 + 2) / +20 * 54.6 * 7.3 - +0.71 + +(3.4) + -9 * 1 * 8 + 3 / 2.4) * +(+-9 / 7) - 13817.984 * 643.5792 / 06 * +-+8 / ++3 / 3.4 / 2 / 7 + 1 / 931 / 139 + -22 / (0 + 1) / 1.4 * 2.5 * 3 + (0) - -1 * 4.5 * 1.4 * 5.4 + (6) / 0 * 3.8\n",
      "2 - (-(6 * 8.8 + 9 + 2) / +20 * 54.6 * 7.3 - +0.71 + +(3.4) + -9 * 1 * 8 + 3 / 2.4) * +(+-9 / 7) - 13817.984 * 643.5792 / 06 * +-+8 / ++3 / 3.4 / 2 / 7 + 1 / 931 / 139 + -22 / (0 + 1) / 1.4 * 2.5 * 3 + (0) - -1 * 4.5 * 1.4 * 5.4 + (6) / 0 * 3.8\n",
      "\n",
      "(+(-0 * 9.6 / 1.1 + 2 / 5 - 4 - 0) + 69 / +--4 / 2.91 * -5 / 0 / 5 - 4 / +-6.3 * (5.0) / 6 / 0) / 4 / (008 * (6.1 + 3) * -(7 / 0.8) / 9.3 - -(6.5) * 2.9 * 1 * 6 + 4 / 3.5 / 0.7) * 4.257 - ((-1.6) * +-+6 / -8 + 4 / 3.91 / -9 * 4 * 3)\n",
      "(+(-0 * 9.6 / 1.1 + 2 / 5 - 4 - 0) + 69 / +--4 / 2.91 * -5 / 0 / 5 - 4 / +-6.3 * (5.0) / 6 / 0) / 4 / (008 * (6.1 + 3) * -(7 / 0.8) / 9.3 - -(6.5) * 2.9 * 1 * 6 + 4 / 3.5 / 0.7) * 4.257 - ((-1.6) * +-+6 / -8 + 4 / 3.91 / -9 * 4 * 3)\n",
      "(+(-0 * 9.6 / 1.1 + 2 / 5 - 4 - 0) + 69 / +--4 / 2.91 * -5 / 0 / 5 - 4 / +-6.3 * (5.0) / 6 / 0) / 4 / (008 * (6.1 + 3) * -(7 / 0.8) / 9.3 - -(6.5) * 2.9 * 1 * 6 + 4 / 3.5 / 0.7) * 4.257 - ((-1.6) * +-+6 / -8 + 4 / 3.91 / -9 * 4 * 3)\n",
      "(+(-0 * 9.6 / 1.1 + 2 / 5 - 4 - 0) + 69 / +--4 / 2.91 * -5 / 0 / 5 - 4 / +-6.3 * (5.0) / 6 / 0) / 4 / (008 * (6.1 + 3) * -(7 / 0.8) / 9.3 - -(6.5) * 2.9 * 1 * 6 + 4 / 3.5 / 0.7) * 4.257 - ((-1.6) * +-+6 / -8 + 4 / 3.91 / -9 * 4 * 3)\n",
      "\n",
      "(16.05 * ((3.5 / 7.3) * 4 / 1 + 3) - ++-(6) / +-+8.5 + +(1.9 + 5) / --1.6) - 83.3465 + (+5.90) / +(-1.5) / +1.309 + -(4.3 * 5.4 / 9 + 8 / 3.5 + 0 + 7) / +07.0\n",
      "(16.05 * ((3.5 / 7.3) * 4 / 1 + 3) - ++-(6) / +-+8.5 + +(1.9 + 5) / --1.6) - 83.3465 + (+5.90) / +(-1.5) / +1.309 + -(4.3 * 5.4 / 9 + 8 / 3.5 + 0 + 7) / +07.0\n",
      "\n",
      "((++(4 / 1) * (8) / 8 * 2 + +2.9 * 5 / 7) * 1227 / (6.9 / 0.8 - 4 + 1) * +(8) + (9) - +8.91 * 84.30 + 13.6 / 8.1 * 7.9 * 5.1 - +9 + 5 / 6.1 + 2 + 0.6)\n",
      "((++(4 / 1) * (8) / 8 * 2 + +2.9 * 5 / 7) * 1227 / (6.9 / 0.8 - 4 + 1) * +(8) + (9) - +8.91 * 84.30 + 13.6 / 8.1 * 7.9 * 5.1 - +9 + 5 / 6.1 + 2 + 0.6)\n",
      "\n"
     ]
    }
   ],
   "source": [
    "for i in range(10):\n",
    "    s = G_and_B_f.fuzz(key=G_and_B_s)\n",
    "    for t in G_and_B_p.parse(s):\n",
    "        print(tree_to_str(t))\n",
    "    print()"
   ]
  },
  {
   "cell_type": "markdown",
   "metadata": {},
   "source": [
    "### G & -B"
   ]
  },
  {
   "cell_type": "markdown",
   "metadata": {},
   "source": [
    "Generate inputs that does not contain any divisions."
   ]
  },
  {
   "cell_type": "code",
   "execution_count": 200,
   "metadata": {},
   "outputs": [
    {
     "data": {
      "text/plain": [
       "'<factor> / <term>'"
      ]
     },
     "execution_count": 200,
     "metadata": {},
     "output_type": "execute_result"
    }
   ],
   "source": [
    "tree_to_str_a(abs_faultB)"
   ]
  },
  {
   "cell_type": "code",
   "execution_count": 201,
   "metadata": {},
   "outputs": [],
   "source": [
    "G_and_negB_s, G_and_negB_g = neg_abstraction(my_grammar, my_start, abs_faultB);"
   ]
  },
  {
   "cell_type": "code",
   "execution_count": 202,
   "metadata": {},
   "outputs": [
    {
     "data": {
      "text/plain": [
       "{'<start>': [['<expr>']],\n",
       " '<expr>': [['<term>'],\n",
       "  ['<term>', ' + ', '<expr>'],\n",
       "  ['<term>', ' - ', '<expr>']],\n",
       " '<term>': [['<term -L4_1>']],\n",
       " '<term -L4_1>': [['<factor>'], ['<factor>', ' * ', '<term>']],\n",
       " '<factor>': [['(', '<expr>', ')'],\n",
       "  ['+', '<factor>'],\n",
       "  ['-', '<factor>'],\n",
       "  ['<integer>'],\n",
       "  ['<integer>', '.', '<integer>']],\n",
       " '<integer>': [['<digit>'], ['<digit>', '<integer>']],\n",
       " '<digit>': [['0'],\n",
       "  ['1'],\n",
       "  ['2'],\n",
       "  ['3'],\n",
       "  ['4'],\n",
       "  ['5'],\n",
       "  ['6'],\n",
       "  ['7'],\n",
       "  ['8'],\n",
       "  ['9']]}"
      ]
     },
     "execution_count": 202,
     "metadata": {},
     "output_type": "execute_result"
    }
   ],
   "source": [
    "G_and_negB_g"
   ]
  },
  {
   "cell_type": "code",
   "execution_count": 203,
   "metadata": {},
   "outputs": [],
   "source": [
    "G_and_negB_f = LimitFuzzer(G_and_negB_g)\n",
    "G_and_negB_p = Parser(G_and_negB_g, canonical=True, start_symbol=G_and_negB_s)"
   ]
  },
  {
   "cell_type": "code",
   "execution_count": 204,
   "metadata": {},
   "outputs": [
    {
     "name": "stdout",
     "output_type": "stream",
     "text": [
      "6.16 + 0.39 - 5.8 * 12 * 4 * 4.0 + -(6.8 + 9 + 3) * +9 * 8.6 - ---7.8 * 0 * 2.7 - -0\n",
      "Should not parse\n",
      "\n",
      "+((7.9) - 2 + 7.8 - 8.0 + 1.3) * 4 * (5) * 3.6 * 7 - --(5 * 3.8) * +(2.2 + 3 - 0) * 8.8 + -+89 - (1 * 1 - 6.7 - 2.3 + 0.3)\n",
      "Should not parse\n",
      "\n",
      "332.1\n",
      "Should not parse\n",
      "\n",
      "(--4)\n",
      "Should not parse\n",
      "\n",
      "--+34 * +9.40\n",
      "Should not parse\n",
      "\n",
      "-4.2 + (76 * 4.0 - 8 * 0)\n",
      "Should not parse\n",
      "\n",
      "-+-++-7.7 * -9722 + 15 * -4.2 * 5.94 * 2 * 2.6 - (+5.5 * 9 + 9 * 8 - 0.1)\n",
      "Should not parse\n",
      "\n",
      "(20.0) * 15.781 * (7.1 - 5) * 9.8\n",
      "Should not parse\n",
      "\n",
      "+((6 - 1) * 6.2 * 2.2) * (7.4 - 1 - 4 + 8 - 2.1) - ((0.3 - 2.0) + (8.9)) * 7 * -(9.5) * 4 - +(3 * 4.2 - 7 + 1.9) - +5\n",
      "Should not parse\n",
      "\n",
      "9.83940 + 79.11 * -81.96 - 4.7 * -(3.0 + 3) + ++++4.3 * +-9\n",
      "Should not parse\n",
      "\n"
     ]
    }
   ],
   "source": [
    "for i in range(10):\n",
    "    s = G_and_negB_f.fuzz(key=G_and_negB_s)\n",
    "    for t in G_and_negB_p.parse(s):\n",
    "        print(tree_to_str(t))\n",
    "    try:\n",
    "        f = G_and_B_p.parse(s)\n",
    "        for t in f:\n",
    "            print(t)\n",
    "            parsed = True\n",
    "    except:\n",
    "        parsed = False\n",
    "        print('Should not parse')\n",
    "    assert not parsed\n",
    "    print()"
   ]
  },
  {
   "cell_type": "markdown",
   "metadata": {},
   "source": [
    "### G & C"
   ]
  },
  {
   "cell_type": "markdown",
   "metadata": {},
   "source": [
    "Generate inputs that contain parenthesis."
   ]
  },
  {
   "cell_type": "code",
   "execution_count": 205,
   "metadata": {},
   "outputs": [
    {
     "data": {
      "text/plain": [
       "('<factor>', '(<expr>)')"
      ]
     },
     "execution_count": 205,
     "metadata": {},
     "output_type": "execute_result"
    }
   ],
   "source": [
    "abs_faultC[0], tree_to_str_a(abs_faultC)"
   ]
  },
  {
   "cell_type": "code",
   "execution_count": 206,
   "metadata": {},
   "outputs": [
    {
     "name": "stdout",
     "output_type": "stream",
     "text": [
      "Stripping: ['<start>']\n"
     ]
    }
   ],
   "source": [
    "G_and_C_s, G_and_C_g = and_abstraction(my_grammar, my_start, abs_faultC);"
   ]
  },
  {
   "cell_type": "code",
   "execution_count": 207,
   "metadata": {},
   "outputs": [
    {
     "data": {
      "text/plain": [
       "('<start F5>',\n",
       " {'<start F5>': [['<expr F5>']],\n",
       "  '<expr F5>': [['<term F5>'],\n",
       "   ['<term F5>', ' + ', '<expr>'],\n",
       "   ['<term F5>', ' - ', '<expr>'],\n",
       "   ['<term>', ' + ', '<expr F5>'],\n",
       "   ['<term>', ' - ', '<expr F5>']],\n",
       "  '<term F5>': [['<factor F5>'],\n",
       "   ['<factor F5>', ' * ', '<term>'],\n",
       "   ['<factor F5>', ' / ', '<term>'],\n",
       "   ['<factor>', ' * ', '<term F5>'],\n",
       "   ['<factor>', ' / ', '<term F5>']],\n",
       "  '<expr>': [['<term>'],\n",
       "   ['<term>', ' + ', '<expr>'],\n",
       "   ['<term>', ' - ', '<expr>']],\n",
       "  '<term>': [['<factor>'],\n",
       "   ['<factor>', ' * ', '<term>'],\n",
       "   ['<factor>', ' / ', '<term>']],\n",
       "  '<factor F5>': [['(', '<expr F5>', ')'],\n",
       "   ['+', '<factor F5>'],\n",
       "   ['-', '<factor F5>'],\n",
       "   ['<factor L5_1>']],\n",
       "  '<factor>': [['(', '<expr>', ')'],\n",
       "   ['+', '<factor>'],\n",
       "   ['-', '<factor>'],\n",
       "   ['<integer>'],\n",
       "   ['<integer>', '.', '<integer>']],\n",
       "  '<factor L5_1>': [['(', '<expr>', ')']],\n",
       "  '<integer>': [['<digit>'], ['<digit>', '<integer>']],\n",
       "  '<digit>': [['0'],\n",
       "   ['1'],\n",
       "   ['2'],\n",
       "   ['3'],\n",
       "   ['4'],\n",
       "   ['5'],\n",
       "   ['6'],\n",
       "   ['7'],\n",
       "   ['8'],\n",
       "   ['9']]})"
      ]
     },
     "execution_count": 207,
     "metadata": {},
     "output_type": "execute_result"
    }
   ],
   "source": [
    "G_and_C_s, G_and_C_g"
   ]
  },
  {
   "cell_type": "code",
   "execution_count": 208,
   "metadata": {},
   "outputs": [],
   "source": [
    "G_and_C_f = LimitFuzzer(G_and_C_g)\n",
    "G_and_C_p = Parser(G_and_C_g, canonical=True, start_symbol=G_and_C_s)"
   ]
  },
  {
   "cell_type": "code",
   "execution_count": 209,
   "metadata": {},
   "outputs": [
    {
     "name": "stdout",
     "output_type": "stream",
     "text": [
      "-4 - (0 / -74 / (0 + 8.0) * 2.4 * 8 * 2) / (++7.7 + -0.2 / 5) - +(+4.6 + (1) * 1.8 / 0 + 3 / 5.5 + 3.3) - 13 + 5 / 3\n",
      "-4 - (0 / -74 / (0 + 8.0) * 2.4 * 8 * 2) / (++7.7 + -0.2 / 5) - +(+4.6 + (1) * 1.8 / 0 + 3 / 5.5 + 3.3) - 13 + 5 / 3\n",
      "\n",
      "+(0.4 * 5.1 / 0 * 0.8 * 7.8 + -(0.8) / 0 * 0.3 * 7.2)\n",
      "+(0.4 * 5.1 / 0 * 0.8 * 7.8 + -(0.8) / 0 * 0.3 * 7.2)\n",
      "\n",
      "-----(2 / 7.4 - 1 + 7) * 834 / 4.9 * +35.38 / 5 * -+8 + 6.00052 * ((4 / 8.1)) / -(+(0) * 4.2 / 8) / 2 + 4 - +((7)) / 9 / (1 * 7.5) * 22.82 / 7 * 3 * 3 - 0.908 / 1.7 + 78.1 / 9.0 - 24 / (7.5) / 3 * 1\n",
      "-----(2 / 7.4 - 1 + 7) * 834 / 4.9 * +35.38 / 5 * -+8 + 6.00052 * ((4 / 8.1)) / -(+(0) * 4.2 / 8) / 2 + 4 - +((7)) / 9 / (1 * 7.5) * 22.82 / 7 * 3 * 3 - 0.908 / 1.7 + 78.1 / 9.0 - 24 / (7.5) / 3 * 1\n",
      "-----(2 / 7.4 - 1 + 7) * 834 / 4.9 * +35.38 / 5 * -+8 + 6.00052 * ((4 / 8.1)) / -(+(0) * 4.2 / 8) / 2 + 4 - +((7)) / 9 / (1 * 7.5) * 22.82 / 7 * 3 * 3 - 0.908 / 1.7 + 78.1 / 9.0 - 24 / (7.5) / 3 * 1\n",
      "\n",
      "+-+(48 / (4.0) * 2.7 * 0.6 + 3.3 / 6.0 * 0 - 9.9 * 8.4 + 5) * 78 * --+(4.8 / (2) / 3.7 + 7 + 8) / 5285 * (5.8 / 4 * 9.3) + 86 - 47 * 5 * -648 / ++(6) * 4 * 7 * 1.2 * 9\n",
      "+-+(48 / (4.0) * 2.7 * 0.6 + 3.3 / 6.0 * 0 - 9.9 * 8.4 + 5) * 78 * --+(4.8 / (2) / 3.7 + 7 + 8) / 5285 * (5.8 / 4 * 9.3) + 86 - 47 * 5 * -648 / ++(6) * 4 * 7 * 1.2 * 9\n",
      "+-+(48 / (4.0) * 2.7 * 0.6 + 3.3 / 6.0 * 0 - 9.9 * 8.4 + 5) * 78 * --+(4.8 / (2) / 3.7 + 7 + 8) / 5285 * (5.8 / 4 * 9.3) + 86 - 47 * 5 * -648 / ++(6) * 4 * 7 * 1.2 * 9\n",
      "\n",
      "66 * -+2 / (168.4) / 3 - ((4.6 - 6.4 + 8 + 3) + (3.5) - 9 + 1 / 6.1 / 5.5 + 8.0 / 8 + 9) / -4.7 - -(-2.2 + +4.6 * 3 * 8.3) * 8 + (1 / 0.7 - -0.9 * 2.5 / 3.0) * 8.34 * (4 / 9.3 - 8) + 32 - -(5 - 9.5) * ++9.0 - (4) * 5 * 6.4 * (9.2)\n",
      "66 * -+2 / (168.4) / 3 - ((4.6 - 6.4 + 8 + 3) + (3.5) - 9 + 1 / 6.1 / 5.5 + 8.0 / 8 + 9) / -4.7 - -(-2.2 + +4.6 * 3 * 8.3) * 8 + (1 / 0.7 - -0.9 * 2.5 / 3.0) * 8.34 * (4 / 9.3 - 8) + 32 - -(5 - 9.5) * ++9.0 - (4) * 5 * 6.4 * (9.2)\n",
      "66 * -+2 / (168.4) / 3 - ((4.6 - 6.4 + 8 + 3) + (3.5) - 9 + 1 / 6.1 / 5.5 + 8.0 / 8 + 9) / -4.7 - -(-2.2 + +4.6 * 3 * 8.3) * 8 + (1 / 0.7 - -0.9 * 2.5 / 3.0) * 8.34 * (4 / 9.3 - 8) + 32 - -(5 - 9.5) * ++9.0 - (4) * 5 * 6.4 * (9.2)\n",
      "\n",
      "(7.8 + --++(9.0)) - 0.7998 - 1.1 + 7 / ((4.4) / 0.6 / 3.0) / 4 * 15 * -4 / 0.8 + 43.291 - -55.45 / 2.1 / -1 + +0 * +6.3 * 8 * 8.2 - (3.9) + 0 * 2.6\n",
      "(7.8 + --++(9.0)) - 0.7998 - 1.1 + 7 / ((4.4) / 0.6 / 3.0) / 4 * 15 * -4 / 0.8 + 43.291 - -55.45 / 2.1 / -1 + +0 * +6.3 * 8 * 8.2 - (3.9) + 0 * 2.6\n",
      "\n",
      "62.2 / 2 / +(9.5 * (1.4) / 1.1 - 9 * 3.5) * +72 / -(7.0 / 9 + 3 - 2) * (7 - 9.7 - 3) * 23 / (1) * 8.0 / 6 + 10.3 - (95 / +2 / 8 + (2.5) * 0 * 3)\n",
      "62.2 / 2 / +(9.5 * (1.4) / 1.1 - 9 * 3.5) * +72 / -(7.0 / 9 + 3 - 2) * (7 - 9.7 - 3) * 23 / (1) * 8.0 / 6 + 10.3 - (95 / +2 / 8 + (2.5) * 0 * 3)\n",
      "\n",
      "---+-88.5 * ++--((7.0) / 2.9 - 8.2 + 6.1) * 97011.2 / 86862 / +1 * +1.7 + -5 / (-(0 + 6.7) * (9.7 + 0.9) * 5 / 7 + +(1) / (0) - 2 / 3 * 5.6 - 0.7 * 7)\n",
      "---+-88.5 * ++--((7.0) / 2.9 - 8.2 + 6.1) * 97011.2 / 86862 / +1 * +1.7 + -5 / (-(0 + 6.7) * (9.7 + 0.9) * 5 / 7 + +(1) / (0) - 2 / 3 * 5.6 - 0.7 * 7)\n",
      "\n",
      "+8.8 / 9 * (-(5.4 - (9) + 1.1) * +(1.1) * -9 * 5 / 5 + (5.4 + 1.5) / +9 - -1) / 1613.6 * 935.698 * 771.648 * +(9) / 8 * 9.7 + -8.35 * -0 - (-(9.5 - 7.1)) / 751.0 + (+4.6 - +4) * 1578 * 7 / 65 - (+5 / 7 - 7.8) - (6.5 * 0 + 5.6 + 4) * +(8)\n",
      "+8.8 / 9 * (-(5.4 - (9) + 1.1) * +(1.1) * -9 * 5 / 5 + (5.4 + 1.5) / +9 - -1) / 1613.6 * 935.698 * 771.648 * +(9) / 8 * 9.7 + -8.35 * -0 - (-(9.5 - 7.1)) / 751.0 + (+4.6 - +4) * 1578 * 7 / 65 - (+5 / 7 - 7.8) - (6.5 * 0 + 5.6 + 4) * +(8)\n",
      "\n",
      "-+(+(8.6) / (2.3 + 9) / -4 * 6.7 / 1.6) * +(+52 * +-0 / 5.8 / 6 - -(0.4) - +0 * 8) * (-+7.8 * 8 + ++3.2 * 5.8 + 4 / 5.8) / ++(5.6 * 5.7 + 5) / 213.26 * (3.6 / 7 - 6 - 2) * ++5 * 2 - ---(+3.6 * 3.7 * 6 + 4.6 + 5 + 3) / 3\n",
      "-+(+(8.6) / (2.3 + 9) / -4 * 6.7 / 1.6) * +(+52 * +-0 / 5.8 / 6 - -(0.4) - +0 * 8) * (-+7.8 * 8 + ++3.2 * 5.8 + 4 / 5.8) / ++(5.6 * 5.7 + 5) / 213.26 * (3.6 / 7 - 6 - 2) * ++5 * 2 - ---(+3.6 * 3.7 * 6 + 4.6 + 5 + 3) / 3\n",
      "-+(+(8.6) / (2.3 + 9) / -4 * 6.7 / 1.6) * +(+52 * +-0 / 5.8 / 6 - -(0.4) - +0 * 8) * (-+7.8 * 8 + ++3.2 * 5.8 + 4 / 5.8) / ++(5.6 * 5.7 + 5) / 213.26 * (3.6 / 7 - 6 - 2) * ++5 * 2 - ---(+3.6 * 3.7 * 6 + 4.6 + 5 + 3) / 3\n",
      "\n"
     ]
    }
   ],
   "source": [
    "for i in range(10):\n",
    "    s = G_and_C_f.fuzz(key=G_and_C_s)\n",
    "    for t in G_and_C_p.parse(s):\n",
    "        print(tree_to_str(t))\n",
    "    print()"
   ]
  },
  {
   "cell_type": "markdown",
   "metadata": {},
   "source": [
    "### G & -C"
   ]
  },
  {
   "cell_type": "markdown",
   "metadata": {},
   "source": [
    "Generate inputs that does not contain parenthesis."
   ]
  },
  {
   "cell_type": "code",
   "execution_count": 210,
   "metadata": {},
   "outputs": [
    {
     "data": {
      "text/plain": [
       "('<factor>', '(<expr>)')"
      ]
     },
     "execution_count": 210,
     "metadata": {},
     "output_type": "execute_result"
    }
   ],
   "source": [
    "abs_faultC[0], tree_to_str_a(abs_faultC)"
   ]
  },
  {
   "cell_type": "code",
   "execution_count": 211,
   "metadata": {},
   "outputs": [],
   "source": [
    "G_and_negC_s, G_and_negC_g = neg_abstraction(my_grammar, my_start, abs_faultC);"
   ]
  },
  {
   "cell_type": "code",
   "execution_count": 212,
   "metadata": {},
   "outputs": [
    {
     "data": {
      "text/plain": [
       "{'<start>': [['<expr>']],\n",
       " '<expr>': [['<term>'],\n",
       "  ['<term>', ' + ', '<expr>'],\n",
       "  ['<term>', ' - ', '<expr>']],\n",
       " '<term>': [['<factor>'],\n",
       "  ['<factor>', ' * ', '<term>'],\n",
       "  ['<factor>', ' / ', '<term>']],\n",
       " '<factor>': [['<factor -L6_1>']],\n",
       " '<factor -L6_1>': [['+', '<factor>'],\n",
       "  ['-', '<factor>'],\n",
       "  ['<integer>'],\n",
       "  ['<integer>', '.', '<integer>']],\n",
       " '<integer>': [['<digit>'], ['<digit>', '<integer>']],\n",
       " '<digit>': [['0'],\n",
       "  ['1'],\n",
       "  ['2'],\n",
       "  ['3'],\n",
       "  ['4'],\n",
       "  ['5'],\n",
       "  ['6'],\n",
       "  ['7'],\n",
       "  ['8'],\n",
       "  ['9']]}"
      ]
     },
     "execution_count": 212,
     "metadata": {},
     "output_type": "execute_result"
    }
   ],
   "source": [
    "G_and_negC_g"
   ]
  },
  {
   "cell_type": "code",
   "execution_count": 213,
   "metadata": {},
   "outputs": [],
   "source": [
    "G_and_negC_f = LimitFuzzer(G_and_negC_g)\n",
    "G_and_negC_p = Parser(G_and_negC_g, canonical=True, start_symbol=G_and_negC_s)"
   ]
  },
  {
   "cell_type": "code",
   "execution_count": 214,
   "metadata": {},
   "outputs": [
    {
     "name": "stdout",
     "output_type": "stream",
     "text": [
      "-7.44 * -8 * 8.70807 - +++2.0 - 9 - 3\n",
      "Should not parse\n",
      "\n",
      "67.7 * ---2.6 * 9.6 / 2308\n",
      "Should not parse\n",
      "\n",
      "94 - +8 - -250 + +67 * +-0\n",
      "Should not parse\n",
      "\n",
      "+--6.5 / 6\n",
      "Should not parse\n",
      "\n",
      "57 * -++3 / 4533 * -+9 * +6.3 / -1 * -6 - 0533 + 6 - -7 * -+3.4 / -5 - ++6.9 / 05.54 + -0 * 3 / 4.9 / 4.4 / 8 + 8 - 2 / 2.1 + 8.8 / 3.0 - 1 - 3\n",
      "Should not parse\n",
      "\n",
      "593 * 8.50 * 8 + +6.6 * ++-6.5 * +14 / ++0 / 38 / 4 * 9.6 / 5 / 8 + 3.8 * -9.9 / +4.0 - +43.62 - 7 * 65 - +8.2 / 3.5\n",
      "Should not parse\n",
      "\n",
      "+4 + 7400.3 / +4.1 * 7722 - 5.0 / 8 * +-3 / 0.77 - --5.5\n",
      "Should not parse\n",
      "\n",
      "5 * -79.7371 / -+5.9 / 4.9 * +4.9 * -9 / -8.2 - +++8.2 / -+-5.1 / +34.56 - 5 + +88 * +2.4 * 96 / -6 / 4 + 5 / +1 * -6 / 9.1\n",
      "Should not parse\n",
      "\n",
      "+5.7 * 1.79\n",
      "Should not parse\n",
      "\n",
      "-+7 * 6.1 - 08\n",
      "Should not parse\n",
      "\n"
     ]
    }
   ],
   "source": [
    "for i in range(10):\n",
    "    s = G_and_negC_f.fuzz(key=G_and_negC_s)\n",
    "    for t in G_and_negC_p.parse(s):\n",
    "        print(tree_to_str(t))\n",
    "    try:\n",
    "        f = G_and_C_p.parse(s)\n",
    "        for t in f:\n",
    "            print(t)\n",
    "            parsed = True\n",
    "    except:\n",
    "        parsed = False\n",
    "        print('Should not parse')\n",
    "    assert not parsed\n",
    "    print()"
   ]
  },
  {
   "cell_type": "markdown",
   "metadata": {},
   "source": [
    "### G & A & C"
   ]
  },
  {
   "cell_type": "markdown",
   "metadata": {},
   "source": [
    "Generate inputs that contain doubled parenthesis. Note that the condition `C` is a single parenthesis that is overshadowed by `A`."
   ]
  },
  {
   "cell_type": "code",
   "execution_count": 215,
   "metadata": {},
   "outputs": [
    {
     "name": "stdout",
     "output_type": "stream",
     "text": [
      "Stripping: ['<factor L7_1>', '<start F1>', '<expr F1 F7>', '<term F1 F7>', '<expr F7>', '<term F7>', '<factor F1 F7>', '<factor F7>', '<factor L1_1 F7>', '<expr L1_1 F7>', '<term L1_1 F7>', '<factor L1_2 F7>']\n"
     ]
    }
   ],
   "source": [
    "G_and_A_and_C_s, G_and_A_and_C_g = and_abstraction(G_and_A_g, G_and_A_s, abs_faultC);"
   ]
  },
  {
   "cell_type": "code",
   "execution_count": 216,
   "metadata": {},
   "outputs": [
    {
     "data": {
      "text/plain": [
       "('<start F1 F7>',\n",
       " {'<start F1 F7>': [['<expr F1>']],\n",
       "  '<expr F1>': [['<term F1>'],\n",
       "   ['<term F1>', ' + ', '<expr>'],\n",
       "   ['<term F1>', ' - ', '<expr>'],\n",
       "   ['<term>', ' + ', '<expr F1>'],\n",
       "   ['<term>', ' - ', '<expr F1>']],\n",
       "  '<term F1>': [['<factor F1>'],\n",
       "   ['<factor F1>', ' * ', '<term>'],\n",
       "   ['<factor F1>', ' / ', '<term>'],\n",
       "   ['<factor>', ' * ', '<term F1>'],\n",
       "   ['<factor>', ' / ', '<term F1>']],\n",
       "  '<expr>': [['<term>'],\n",
       "   ['<term>', ' + ', '<expr>'],\n",
       "   ['<term>', ' - ', '<expr>']],\n",
       "  '<term>': [['<factor>'],\n",
       "   ['<factor>', ' * ', '<term>'],\n",
       "   ['<factor>', ' / ', '<term>']],\n",
       "  '<factor F1>': [['(', '<expr F1>', ')'],\n",
       "   ['+', '<factor F1>'],\n",
       "   ['-', '<factor F1>'],\n",
       "   ['<factor L1_1>']],\n",
       "  '<factor>': [['(', '<expr>', ')'],\n",
       "   ['+', '<factor>'],\n",
       "   ['-', '<factor>'],\n",
       "   ['<integer>'],\n",
       "   ['<integer>', '.', '<integer>']],\n",
       "  '<factor L1_1>': [['(', '<expr L1_1>', ')']],\n",
       "  '<expr L1_1>': [['<term L1_1>']],\n",
       "  '<term L1_1>': [['<factor L1_2>']],\n",
       "  '<factor L1_2>': [['(', '<expr>', ')']],\n",
       "  '<integer>': [['<digit>'], ['<digit>', '<integer>']],\n",
       "  '<digit>': [['0'],\n",
       "   ['1'],\n",
       "   ['2'],\n",
       "   ['3'],\n",
       "   ['4'],\n",
       "   ['5'],\n",
       "   ['6'],\n",
       "   ['7'],\n",
       "   ['8'],\n",
       "   ['9']]})"
      ]
     },
     "execution_count": 216,
     "metadata": {},
     "output_type": "execute_result"
    }
   ],
   "source": [
    "G_and_A_and_C_s, G_and_A_and_C_g"
   ]
  },
  {
   "cell_type": "code",
   "execution_count": 217,
   "metadata": {},
   "outputs": [],
   "source": [
    "G_and_A_and_C_f = LimitFuzzer(G_and_A_and_C_g)\n",
    "G_and_A_and_C_p = Parser(G_and_A_and_C_g, canonical=True, start_symbol=G_and_A_and_C_s)"
   ]
  },
  {
   "cell_type": "code",
   "execution_count": 218,
   "metadata": {},
   "outputs": [
    {
     "name": "stdout",
     "output_type": "stream",
     "text": [
      "(96 / +-3 * 84.9 - 5.41 * -(((4)) / 7 + 8) * 9.2 / 9 - 36 * 20 * 6 * 0.8 * 9 - 0 / 8.6 / 6.8 * 8 + 6.9 * 3 / 6) - ((-6 / 0.3 * 3.7 - 3.7 / 2 + 7 - 3.9) * 2.545 * --2 / (2) / 7 * 8.3) / ---5 - (-1.35 / +9.9 / 0 + 0 + 0 / 0 / 5.8 + 4 * 0 + 1 + 8.1) / 8513.984 + -8.9 / -6.6 * +(3 + 5) * 9\n",
      "\n",
      "-(++-((3.2)) * 7 * -1 + --(1) + 02) * 8581 / 342 / 2.7 / +77.72 * 172 * +-6.7 / -1.1 * 1 - (8.6 / 54.2) + +-+4 * -(-2 / 2.7 / 4.3 + 8.0 * 5) - 4 * 1 * (5.4 - 4) / (3 + 9.2) / +9.1 / 6.0 * 3.3\n",
      "\n",
      "(5 * (+0.5 - 3 - 0) * +89.72 + 0404.6) * +-(+-7.5 * 3.9 / 0 / ((7)) * 2.1 - (6.0) / 3.5 + 8.0) / 0.8 - 1 / (+9 * 99 * -2 + (0 + 1) - (8) + 7 / 2) * 6019 * 0274.3 * -+0.3 / -0.4 * 6.2 - -41 * 9654 / -1.92 * (8.4 / 2) + (-9 - (5) / 2.8 - 3.9 * 4.6 + 4.1 + 3) * (-8.8 * 9.6 / 5) - (-6.9 * 9) - --4 / -4.0\n",
      "\n",
      "(1.6 / 794.65) + ((-7) / 365 * 39 - (1.7 * 3) - +0 + (9)) / +95 * ((9.5 - 6.5) / 5 / 3 * 8.8) / 575.6563 / 098 * (9) + +79 * -733 + ((6.4)) * 29.4 * (9.0 / 0.6 + 9 - 6.9) / +-4 * 8 + (-3.7 + 2 * 5.9 - 5 - 3.0) * 084.3 + ---0 + 16\n",
      "\n",
      "+((9.4)) - (-614.388 / 829 / (6.8) / -1.9 - +4 / 2 + (8.9 + 6)) / +2575 / -2.81 / 7.4 / 298 * +-7.7 / (1.2) * 9.9 * 9 + +107.9023 * 8\n",
      "\n",
      "((-3))\n",
      "\n",
      "753 / ((3.6 + 4)) + 69.7\n",
      "\n",
      "--((2 + 3.2)) / 8 - 8.7 * -+((0) * 1 * 6.1) - 5 * --+95 * +(7.6 * 4.6) * (0 - 4) / ++0.3\n",
      "\n",
      "2.14 * ((0.8 * 3.3 - 6))\n",
      "\n",
      "+0.1045 * --(91 + (2) / 6.7 - 6 * 9 - 8.2 - 7.7) - 94.23 / 866570.0 * --+-4 * 23 - (+-((7)) / (6) * 3.0 * 9 - 4 + 3 - 8 / 6.8 - 2 + 2) * +(-8 / 0.0 / 5 - 4.8 - 8 + 1.4) * (0 - 2 / 3 + 1) / (8 - 1.8 - 0) * 6.76 / -8 * 6 / 8.9\n",
      "\n"
     ]
    }
   ],
   "source": [
    "for i in range(10):\n",
    "    s = G_and_A_and_C_f.fuzz(key=G_and_A_and_C_s)\n",
    "    for t in G_and_A_and_C_p.parse(s):\n",
    "        print(tree_to_str(t))\n",
    "    print()"
   ]
  },
  {
   "cell_type": "markdown",
   "metadata": {},
   "source": [
    "### G & C & -A"
   ]
  },
  {
   "cell_type": "markdown",
   "metadata": {},
   "source": [
    "Generate inputs that contain single parenthesis but not doubled parenthesis."
   ]
  },
  {
   "cell_type": "code",
   "execution_count": 219,
   "metadata": {},
   "outputs": [
    {
     "name": "stdout",
     "output_type": "stream",
     "text": [
      "Stripping: ['<start>']\n"
     ]
    }
   ],
   "source": [
    "G_and_C_s, G_and_C_g = and_abstraction(my_grammar, my_start, abs_faultC);"
   ]
  },
  {
   "cell_type": "code",
   "execution_count": 220,
   "metadata": {},
   "outputs": [
    {
     "name": "stdout",
     "output_type": "stream",
     "text": [
      "<expr F8-L9_1>\n",
      "<expr F8> <expr L9_1>\n",
      "<expr -L9_1>\n",
      "<expr> <expr L9_1>\n",
      "<expr -L9_1>\n",
      "<expr> <expr L9_1>\n",
      "<term F8-L9_1>\n",
      "<term F8> <term L9_1>\n",
      "<term -L9_1>\n",
      "<term> <term L9_1>\n",
      "<term -L9_1>\n",
      "<term> <term L9_1>\n"
     ]
    }
   ],
   "source": [
    "G_and_C_and_negA_s, G_and_C_and_negA_g = neg_abstraction(G_and_C_g, G_and_C_s, abs_faultA);"
   ]
  },
  {
   "cell_type": "code",
   "execution_count": 221,
   "metadata": {},
   "outputs": [
    {
     "data": {
      "text/plain": [
       "('<start F8>',\n",
       " {'<start F8>': [['<expr F8>']],\n",
       "  '<expr F8>': [['<term F8>'],\n",
       "   ['<term F8>', ' + ', '<expr>'],\n",
       "   ['<term F8>', ' - ', '<expr>'],\n",
       "   ['<term>', ' + ', '<expr F8>'],\n",
       "   ['<term>', ' - ', '<expr F8>']],\n",
       "  '<term F8>': [['<factor F8>'],\n",
       "   ['<factor F8>', ' * ', '<term>'],\n",
       "   ['<factor F8>', ' / ', '<term>'],\n",
       "   ['<factor>', ' * ', '<term F8>'],\n",
       "   ['<factor>', ' / ', '<term F8>']],\n",
       "  '<expr>': [['<term>'],\n",
       "   ['<term>', ' + ', '<expr>'],\n",
       "   ['<term>', ' - ', '<expr>']],\n",
       "  '<term>': [['<factor>'],\n",
       "   ['<factor>', ' * ', '<term>'],\n",
       "   ['<factor>', ' / ', '<term>']],\n",
       "  '<factor F8>': [['<factor F8-L9_1>']],\n",
       "  '<factor>': [['<factor -L9_1>']],\n",
       "  '<factor F8-L9_1>': [['(', '<expr F8-L9_1>', ')'],\n",
       "   ['+', '<factor F8>'],\n",
       "   ['-', '<factor F8>'],\n",
       "   ['<factor L8_1>']],\n",
       "  '<expr F8-L9_1>': [['<term F8-L9_1>'],\n",
       "   ['<term F8>', ' + ', '<expr>'],\n",
       "   ['<term F8>', ' - ', '<expr>'],\n",
       "   ['<term>', ' + ', '<expr F8>'],\n",
       "   ['<term>', ' - ', '<expr F8>']],\n",
       "  '<factor L8_1>': [['<factor L8_1-L9_1>']],\n",
       "  '<term F8-L9_1>': [['<factor F8>', ' * ', '<term>'],\n",
       "   ['<factor F8>', ' / ', '<term>'],\n",
       "   ['<factor>', ' * ', '<term F8>'],\n",
       "   ['<factor>', ' / ', '<term F8>']],\n",
       "  '<factor L8_1-L9_1>': [['(', '<expr -L9_1>', ')']],\n",
       "  '<expr -L9_1>': [['<term -L9_1>'],\n",
       "   ['<term>', ' + ', '<expr>'],\n",
       "   ['<term>', ' - ', '<expr>']],\n",
       "  '<term -L9_1>': [['<factor>', ' * ', '<term>'],\n",
       "   ['<factor>', ' / ', '<term>']],\n",
       "  '<factor -L9_1>': [['(', '<expr -L9_1>', ')'],\n",
       "   ['+', '<factor>'],\n",
       "   ['-', '<factor>'],\n",
       "   ['<integer>'],\n",
       "   ['<integer>', '.', '<integer>']],\n",
       "  '<integer>': [['<digit>'], ['<digit>', '<integer>']],\n",
       "  '<digit>': [['0'],\n",
       "   ['1'],\n",
       "   ['2'],\n",
       "   ['3'],\n",
       "   ['4'],\n",
       "   ['5'],\n",
       "   ['6'],\n",
       "   ['7'],\n",
       "   ['8'],\n",
       "   ['9']]})"
      ]
     },
     "execution_count": 221,
     "metadata": {},
     "output_type": "execute_result"
    }
   ],
   "source": [
    "G_and_C_and_negA_s, G_and_C_and_negA_g"
   ]
  },
  {
   "cell_type": "code",
   "execution_count": 222,
   "metadata": {},
   "outputs": [],
   "source": [
    "G_and_C_and_negA_f = LimitFuzzer(G_and_C_and_negA_g)\n",
    "G_and_C_and_negA_p = Parser(G_and_C_and_negA_g, canonical=True, start_symbol=G_and_C_and_negA_s)"
   ]
  },
  {
   "cell_type": "code",
   "execution_count": 223,
   "metadata": {},
   "outputs": [
    {
     "name": "stdout",
     "output_type": "stream",
     "text": [
      "-66.76323 / 8.7 + (+5 / +9.6 * 7 + +3 * 3.3 * 7.6 * 4.9 - 3 / 9 * 8.6 + 8 * +++-(3 * 7) * 8.7 + 5) / -237.532 * -5 * -(4.3 - 2)\n",
      "\n",
      "9 / (8.5 - 0 / 4 + 2.2) * 74085.8 / (9.3 * 8.5 + 2.8 / 3.7 - 4 + 7) * 6 / -0 * (2 * 9)\n",
      "9 / (8.5 - 0 / 4 + 2.2) * 74085.8 / (9.3 * 8.5 + 2.8 / 3.7 - 4 + 7) * 6 / -0 * (2 * 9)\n",
      "\n",
      "-(9 * 8) * --(6.4 * 0) / +-(9.7 - 3.5)\n",
      "-(9 * 8) * --(6.4 * 0) / +-(9.7 - 3.5)\n",
      "-(9 * 8) * --(6.4 * 0) / +-(9.7 - 3.5)\n",
      "\n",
      "3 / (+9.5 / (9 * 4) * 7 / 9.5 / 5.6 - -4 + 6 / 2.3 / 1.1 + 8.4 * 4.1) / ((9.0 + 5) * 7.2 * (0.6 + 9.9 / (+(0.1 - 3.6) / 3.9 + 7) * 9))\n",
      "3 / (+9.5 / (9 * 4) * 7 / 9.5 / 5.6 - -4 + 6 / 2.3 / 1.1 + 8.4 * 4.1) / ((9.0 + 5) * 7.2 * (0.6 + 9.9 / (+(0.1 - 3.6) / 3.9 + 7) * 9))\n",
      "\n",
      "-(+3 + 0.8 / 0) * +(7 - 8.6) / 9.83\n",
      "-(+3 + 0.8 / 0) * +(7 - 8.6) / 9.83\n",
      "\n",
      "22.8885 / 6.6 + +(5.4 * 9) - (+5.6 / 4 + 4 * 8 * 8 * 2.4 * 8 / +(2.7 / 1) / 2 - 6 / 5 - 2.3 - 2.1) / -+9.9 * (7 * 4 - 3)\n",
      "22.8885 / 6.6 + +(5.4 * 9) - (+5.6 / 4 + 4 * 8 * 8 * 2.4 * 8 / +(2.7 / 1) / 2 - 6 / 5 - 2.3 - 2.1) / -+9.9 * (7 * 4 - 3)\n",
      "\n",
      "+((9 - 0.8) * 5.1 + 7 / 8 / 3 - (8 + 9.6) * 4) * -8.411 * 7.8 + 54 / ++1.4 / +94 / 205 / -5.7 * -8.3 * 0 / 0\n",
      "\n",
      "(9 / 2 / 4 * 4.6) * +1.2 * 3.028 * 2.8580 + 0.810 - +447\n",
      "\n",
      "++--(+(3 / (9 - (6.4 * 5) * 5.8)) / 1.1) / -(3.4 / 7.9 * 3) + -7 * 4 / 42.6 * ++3.1 * 37.47 / 7 / 8.9 * 6 + 17.43 / (9 - 1 - 7.3) - -(2.3 * 4.4) - 4.37 * -5.1 * +2\n",
      "++--(+(3 / (9 - (6.4 * 5) * 5.8)) / 1.1) / -(3.4 / 7.9 * 3) + -7 * 4 / 42.6 * ++3.1 * 37.47 / 7 / 8.9 * 6 + 17.43 / (9 - 1 - 7.3) - -(2.3 * 4.4) - 4.37 * -5.1 * +2\n",
      "++--(+(3 / (9 - (6.4 * 5) * 5.8)) / 1.1) / -(3.4 / 7.9 * 3) + -7 * 4 / 42.6 * ++3.1 * 37.47 / 7 / 8.9 * 6 + 17.43 / (9 - 1 - 7.3) - -(2.3 * 4.4) - 4.37 * -5.1 * +2\n",
      "\n",
      "((5 - 8.3) - 3.9 / 9.4 * 7 - 7.1 - 6 + 6.9) * --3 * +(5.1 / 6.9 + 5) * -(2 - 9.2) / +(8.0 - 3.8) - -7 / 2 + +(6.6 / 5)\n",
      "((5 - 8.3) - 3.9 / 9.4 * 7 - 7.1 - 6 + 6.9) * --3 * +(5.1 / 6.9 + 5) * -(2 - 9.2) / +(8.0 - 3.8) - -7 / 2 + +(6.6 / 5)\n",
      "((5 - 8.3) - 3.9 / 9.4 * 7 - 7.1 - 6 + 6.9) * --3 * +(5.1 / 6.9 + 5) * -(2 - 9.2) / +(8.0 - 3.8) - -7 / 2 + +(6.6 / 5)\n",
      "\n"
     ]
    }
   ],
   "source": [
    "for i in range(10):\n",
    "    s = G_and_C_and_negA_f.fuzz(key=G_and_C_and_negA_s)\n",
    "    for t in G_and_C_and_negA_p.parse(s):\n",
    "        print(tree_to_str(t))\n",
    "    print()"
   ]
  },
  {
   "cell_type": "markdown",
   "metadata": {},
   "source": [
    "### G & A & B"
   ]
  },
  {
   "cell_type": "markdown",
   "metadata": {},
   "source": [
    "Generate inputs that contain division and doubled parenthesis."
   ]
  },
  {
   "cell_type": "code",
   "execution_count": 224,
   "metadata": {},
   "outputs": [
    {
     "name": "stdout",
     "output_type": "stream",
     "text": [
      "Stripping: ['<start F1>']\n"
     ]
    }
   ],
   "source": [
    "G_and_A_and_B_s, G_and_A_and_B_g = and_abstraction(G_and_A_g, G_and_A_s, abs_faultB);"
   ]
  },
  {
   "cell_type": "code",
   "execution_count": 225,
   "metadata": {},
   "outputs": [
    {
     "data": {
      "text/plain": [
       "('<start F1 F10>',\n",
       " {'<start F1 F10>': [['<expr F1 F10>']],\n",
       "  '<expr F1 F10>': [['<term F1 F10>'],\n",
       "   ['<term F1 F10>', ' + ', '<expr>'],\n",
       "   ['<term F1 F10>', ' - ', '<expr>'],\n",
       "   ['<term F10>', ' + ', '<expr F1>'],\n",
       "   ['<term F10>', ' - ', '<expr F1>'],\n",
       "   ['<term F1>', ' + ', '<expr F10>'],\n",
       "   ['<term F1>', ' - ', '<expr F10>'],\n",
       "   ['<term>', ' + ', '<expr F1 F10>'],\n",
       "   ['<term>', ' - ', '<expr F1 F10>']],\n",
       "  '<term F1 F10>': [['<factor F1 F10>'],\n",
       "   ['<factor F1 F10>', ' * ', '<term>'],\n",
       "   ['<factor F1 F10>', ' / ', '<term>'],\n",
       "   ['<factor F10>', ' * ', '<term F1>'],\n",
       "   ['<factor F10>', ' / ', '<term F1>'],\n",
       "   ['<factor F1>', ' * ', '<term F10>'],\n",
       "   ['<factor F1>', ' / ', '<term F10>'],\n",
       "   ['<factor>', ' * ', '<term F1 F10>'],\n",
       "   ['<factor>', ' / ', '<term F1 F10>']],\n",
       "  '<expr>': [['<term>'],\n",
       "   ['<term>', ' + ', '<expr>'],\n",
       "   ['<term>', ' - ', '<expr>']],\n",
       "  '<term F10>': [['<factor F10>'],\n",
       "   ['<factor F10>', ' * ', '<term>'],\n",
       "   ['<factor F10>', ' / ', '<term>'],\n",
       "   ['<factor>', ' * ', '<term F10>'],\n",
       "   ['<factor>', ' / ', '<term F10>'],\n",
       "   ['<term L10_1>']],\n",
       "  '<expr F1>': [['<term F1>'],\n",
       "   ['<term F1>', ' + ', '<expr>'],\n",
       "   ['<term F1>', ' - ', '<expr>'],\n",
       "   ['<term>', ' + ', '<expr F1>'],\n",
       "   ['<term>', ' - ', '<expr F1>']],\n",
       "  '<term F1>': [['<factor F1>'],\n",
       "   ['<factor F1>', ' * ', '<term>'],\n",
       "   ['<factor F1>', ' / ', '<term>'],\n",
       "   ['<factor>', ' * ', '<term F1>'],\n",
       "   ['<factor>', ' / ', '<term F1>']],\n",
       "  '<expr F10>': [['<term F10>'],\n",
       "   ['<term F10>', ' + ', '<expr>'],\n",
       "   ['<term F10>', ' - ', '<expr>'],\n",
       "   ['<term>', ' + ', '<expr F10>'],\n",
       "   ['<term>', ' - ', '<expr F10>']],\n",
       "  '<term>': [['<factor>'],\n",
       "   ['<factor>', ' * ', '<term>'],\n",
       "   ['<factor>', ' / ', '<term>']],\n",
       "  '<factor F1 F10>': [['(', '<expr F1 F10>', ')'],\n",
       "   ['+', '<factor F1 F10>'],\n",
       "   ['-', '<factor F1 F10>'],\n",
       "   ['<factor L1_1 F10>']],\n",
       "  '<factor F10>': [['(', '<expr F10>', ')'],\n",
       "   ['+', '<factor F10>'],\n",
       "   ['-', '<factor F10>']],\n",
       "  '<factor F1>': [['(', '<expr F1>', ')'],\n",
       "   ['+', '<factor F1>'],\n",
       "   ['-', '<factor F1>'],\n",
       "   ['<factor L1_1>']],\n",
       "  '<factor>': [['(', '<expr>', ')'],\n",
       "   ['+', '<factor>'],\n",
       "   ['-', '<factor>'],\n",
       "   ['<integer>'],\n",
       "   ['<integer>', '.', '<integer>']],\n",
       "  '<factor L1_1 F10>': [['(', '<expr L1_1 F10>', ')']],\n",
       "  '<expr L1_1 F10>': [['<term L1_1 F10>']],\n",
       "  '<term L1_1 F10>': [['<factor L1_2 F10>']],\n",
       "  '<factor L1_2 F10>': [['(', '<expr F10>', ')']],\n",
       "  '<factor L1_1>': [['(', '<expr L1_1>', ')']],\n",
       "  '<expr L1_1>': [['<term L1_1>']],\n",
       "  '<term L1_1>': [['<factor L1_2>']],\n",
       "  '<factor L1_2>': [['(', '<expr>', ')']],\n",
       "  '<integer>': [['<digit>'], ['<digit>', '<integer>']],\n",
       "  '<digit>': [['0'],\n",
       "   ['1'],\n",
       "   ['2'],\n",
       "   ['3'],\n",
       "   ['4'],\n",
       "   ['5'],\n",
       "   ['6'],\n",
       "   ['7'],\n",
       "   ['8'],\n",
       "   ['9']],\n",
       "  '<term L10_1>': [['<factor>', ' / ', '<term>']]})"
      ]
     },
     "execution_count": 225,
     "metadata": {},
     "output_type": "execute_result"
    }
   ],
   "source": [
    "G_and_A_and_B_s, G_and_A_and_B_g"
   ]
  },
  {
   "cell_type": "code",
   "execution_count": 226,
   "metadata": {},
   "outputs": [],
   "source": [
    "G_and_A_and_B_f = LimitFuzzer(G_and_A_and_B_g)\n",
    "G_and_A_and_B_p = Parser(G_and_A_and_B_g, canonical=True, start_symbol=G_and_A_and_B_s)"
   ]
  },
  {
   "cell_type": "code",
   "execution_count": 227,
   "metadata": {
    "scrolled": false
   },
   "outputs": [
    {
     "name": "stdout",
     "output_type": "stream",
     "text": [
      "-+--(9 / 3.6 + 4.5 + 9.1 + 0.0) - +(104 / +7 - -(0) + 1) - +++83.7 / ((5.5) - -0.7 / 0.0 * 7) / (9 - 2.4 - 1 - 0) / ++-((9)) - -+42 / 71 - -2.58 * 5.9 * 5.9 / (9.5) * 8.6\n",
      "-+--(9 / 3.6 + 4.5 + 9.1 + 0.0) - +(104 / +7 - -(0) + 1) - +++83.7 / ((5.5) - -0.7 / 0.0 * 7) / (9 - 2.4 - 1 - 0) / ++-((9)) - -+42 / 71 - -2.58 * 5.9 * 5.9 / (9.5) * 8.6\n",
      "-+--(9 / 3.6 + 4.5 + 9.1 + 0.0) - +(104 / +7 - -(0) + 1) - +++83.7 / ((5.5) - -0.7 / 0.0 * 7) / (9 - 2.4 - 1 - 0) / ++-((9)) - -+42 / 71 - -2.58 * 5.9 * 5.9 / (9.5) * 8.6\n",
      "-+--(9 / 3.6 + 4.5 + 9.1 + 0.0) - +(104 / +7 - -(0) + 1) - +++83.7 / ((5.5) - -0.7 / 0.0 * 7) / (9 - 2.4 - 1 - 0) / ++-((9)) - -+42 / 71 - -2.58 * 5.9 * 5.9 / (9.5) * 8.6\n",
      "-+--(9 / 3.6 + 4.5 + 9.1 + 0.0) - +(104 / +7 - -(0) + 1) - +++83.7 / ((5.5) - -0.7 / 0.0 * 7) / (9 - 2.4 - 1 - 0) / ++-((9)) - -+42 / 71 - -2.58 * 5.9 * 5.9 / (9.5) * 8.6\n",
      "-+--(9 / 3.6 + 4.5 + 9.1 + 0.0) - +(104 / +7 - -(0) + 1) - +++83.7 / ((5.5) - -0.7 / 0.0 * 7) / (9 - 2.4 - 1 - 0) / ++-((9)) - -+42 / 71 - -2.58 * 5.9 * 5.9 / (9.5) * 8.6\n",
      "-+--(9 / 3.6 + 4.5 + 9.1 + 0.0) - +(104 / +7 - -(0) + 1) - +++83.7 / ((5.5) - -0.7 / 0.0 * 7) / (9 - 2.4 - 1 - 0) / ++-((9)) - -+42 / 71 - -2.58 * 5.9 * 5.9 / (9.5) * 8.6\n",
      "\n",
      "3 / 5.114 * 6 + (7.6 * (5.1 / 8.2 - 3 + 1) + -(5.1 + 1) * (3.0 + 7.3) / +5 + +(3.5 - 7.2 + 2 - 0 - ((1)) * 6 + 0)) * 52.21910 * -++(7.0 - 7.8 / 6.8) / +360 / 1.9 / 31 - 24204.39\n",
      "3 / 5.114 * 6 + (7.6 * (5.1 / 8.2 - 3 + 1) + -(5.1 + 1) * (3.0 + 7.3) / +5 + +(3.5 - 7.2 + 2 - 0 - ((1)) * 6 + 0)) * 52.21910 * -++(7.0 - 7.8 / 6.8) / +360 / 1.9 / 31 - 24204.39\n",
      "3 / 5.114 * 6 + (7.6 * (5.1 / 8.2 - 3 + 1) + -(5.1 + 1) * (3.0 + 7.3) / +5 + +(3.5 - 7.2 + 2 - 0 - ((1)) * 6 + 0)) * 52.21910 * -++(7.0 - 7.8 / 6.8) / +360 / 1.9 / 31 - 24204.39\n",
      "3 / 5.114 * 6 + (7.6 * (5.1 / 8.2 - 3 + 1) + -(5.1 + 1) * (3.0 + 7.3) / +5 + +(3.5 - 7.2 + 2 - 0 - ((1)) * 6 + 0)) * 52.21910 * -++(7.0 - 7.8 / 6.8) / +360 / 1.9 / 31 - 24204.39\n",
      "3 / 5.114 * 6 + (7.6 * (5.1 / 8.2 - 3 + 1) + -(5.1 + 1) * (3.0 + 7.3) / +5 + +(3.5 - 7.2 + 2 - 0 - ((1)) * 6 + 0)) * 52.21910 * -++(7.0 - 7.8 / 6.8) / +360 / 1.9 / 31 - 24204.39\n",
      "\n",
      "-((4 * 3 - 5 + 8.7)) + (-5 * +-+2.0 / ++0.5) / 794.0 * -+(1.3 / 2.9 + 7.5 - 9) + 4.6 / +((8) / 5 / 1 / 9 - 2.4 - 6.4) * +-+4.0 / (9.4 - 0 - 3)\n",
      "-((4 * 3 - 5 + 8.7)) + (-5 * +-+2.0 / ++0.5) / 794.0 * -+(1.3 / 2.9 + 7.5 - 9) + 4.6 / +((8) / 5 / 1 / 9 - 2.4 - 6.4) * +-+4.0 / (9.4 - 0 - 3)\n",
      "-((4 * 3 - 5 + 8.7)) + (-5 * +-+2.0 / ++0.5) / 794.0 * -+(1.3 / 2.9 + 7.5 - 9) + 4.6 / +((8) / 5 / 1 / 9 - 2.4 - 6.4) * +-+4.0 / (9.4 - 0 - 3)\n",
      "-((4 * 3 - 5 + 8.7)) + (-5 * +-+2.0 / ++0.5) / 794.0 * -+(1.3 / 2.9 + 7.5 - 9) + 4.6 / +((8) / 5 / 1 / 9 - 2.4 - 6.4) * +-+4.0 / (9.4 - 0 - 3)\n",
      "-((4 * 3 - 5 + 8.7)) + (-5 * +-+2.0 / ++0.5) / 794.0 * -+(1.3 / 2.9 + 7.5 - 9) + 4.6 / +((8) / 5 / 1 / 9 - 2.4 - 6.4) * +-+4.0 / (9.4 - 0 - 3)\n",
      "\n",
      "+--1 / ((6)) * 0 / -(+4.6 / 2 * 4) + -(-++(6 / 1.9) * ++5 / (9) * 7.9 + 69 * -9 / 1.7 / 5) / 686 + ((4.8 / 9.3 + 2 + 8)) - 98044.9 * (6.3 - 8.8 * 7.6) * 35 * 9\n",
      "+--1 / ((6)) * 0 / -(+4.6 / 2 * 4) + -(-++(6 / 1.9) * ++5 / (9) * 7.9 + 69 * -9 / 1.7 / 5) / 686 + ((4.8 / 9.3 + 2 + 8)) - 98044.9 * (6.3 - 8.8 * 7.6) * 35 * 9\n",
      "+--1 / ((6)) * 0 / -(+4.6 / 2 * 4) + -(-++(6 / 1.9) * ++5 / (9) * 7.9 + 69 * -9 / 1.7 / 5) / 686 + ((4.8 / 9.3 + 2 + 8)) - 98044.9 * (6.3 - 8.8 * 7.6) * 35 * 9\n",
      "+--1 / ((6)) * 0 / -(+4.6 / 2 * 4) + -(-++(6 / 1.9) * ++5 / (9) * 7.9 + 69 * -9 / 1.7 / 5) / 686 + ((4.8 / 9.3 + 2 + 8)) - 98044.9 * (6.3 - 8.8 * 7.6) * 35 * 9\n",
      "+--1 / ((6)) * 0 / -(+4.6 / 2 * 4) + -(-++(6 / 1.9) * ++5 / (9) * 7.9 + 69 * -9 / 1.7 / 5) / 686 + ((4.8 / 9.3 + 2 + 8)) - 98044.9 * (6.3 - 8.8 * 7.6) * 35 * 9\n",
      "+--1 / ((6)) * 0 / -(+4.6 / 2 * 4) + -(-++(6 / 1.9) * ++5 / (9) * 7.9 + 69 * -9 / 1.7 / 5) / 686 + ((4.8 / 9.3 + 2 + 8)) - 98044.9 * (6.3 - 8.8 * 7.6) * 35 * 9\n",
      "+--1 / ((6)) * 0 / -(+4.6 / 2 * 4) + -(-++(6 / 1.9) * ++5 / (9) * 7.9 + 69 * -9 / 1.7 / 5) / 686 + ((4.8 / 9.3 + 2 + 8)) - 98044.9 * (6.3 - 8.8 * 7.6) * 35 * 9\n",
      "+--1 / ((6)) * 0 / -(+4.6 / 2 * 4) + -(-++(6 / 1.9) * ++5 / (9) * 7.9 + 69 * -9 / 1.7 / 5) / 686 + ((4.8 / 9.3 + 2 + 8)) - 98044.9 * (6.3 - 8.8 * 7.6) * 35 * 9\n",
      "+--1 / ((6)) * 0 / -(+4.6 / 2 * 4) + -(-++(6 / 1.9) * ++5 / (9) * 7.9 + 69 * -9 / 1.7 / 5) / 686 + ((4.8 / 9.3 + 2 + 8)) - 98044.9 * (6.3 - 8.8 * 7.6) * 35 * 9\n",
      "+--1 / ((6)) * 0 / -(+4.6 / 2 * 4) + -(-++(6 / 1.9) * ++5 / (9) * 7.9 + 69 * -9 / 1.7 / 5) / 686 + ((4.8 / 9.3 + 2 + 8)) - 98044.9 * (6.3 - 8.8 * 7.6) * 35 * 9\n",
      "+--1 / ((6)) * 0 / -(+4.6 / 2 * 4) + -(-++(6 / 1.9) * ++5 / (9) * 7.9 + 69 * -9 / 1.7 / 5) / 686 + ((4.8 / 9.3 + 2 + 8)) - 98044.9 * (6.3 - 8.8 * 7.6) * 35 * 9\n",
      "+--1 / ((6)) * 0 / -(+4.6 / 2 * 4) + -(-++(6 / 1.9) * ++5 / (9) * 7.9 + 69 * -9 / 1.7 / 5) / 686 + ((4.8 / 9.3 + 2 + 8)) - 98044.9 * (6.3 - 8.8 * 7.6) * 35 * 9\n",
      "+--1 / ((6)) * 0 / -(+4.6 / 2 * 4) + -(-++(6 / 1.9) * ++5 / (9) * 7.9 + 69 * -9 / 1.7 / 5) / 686 + ((4.8 / 9.3 + 2 + 8)) - 98044.9 * (6.3 - 8.8 * 7.6) * 35 * 9\n",
      "\n",
      "-((0 / 9.0 - 2)) / -((0 + 1 - 1.6) / 01.9 / 6.8 * 2 * 4) * (+4.92 * 7.4 / +4.8 - +-7 * +2 + -5 + 2 * 3 - 7.2 - 3) * 4 * 5 - --(64 / (9.2) - -7 / 5.6 / 1 + 2.2 * 2) - (---0 + -3 - 0 / 6.2 + 4.0 * 6.1) / -(3 + 7 / 9.2 - 4) * 6 / -3 * 75 - (-1.0 / -9 * 6 * 7 - -2.7 * 8.5 / 3 + 5.0 / 0.0 + 2) / +130 + 126 + (2.6) / 37 / (7.4) * 1.3 / 0 - 27.90 + 6.5\n",
      "-((0 / 9.0 - 2)) / -((0 + 1 - 1.6) / 01.9 / 6.8 * 2 * 4) * (+4.92 * 7.4 / +4.8 - +-7 * +2 + -5 + 2 * 3 - 7.2 - 3) * 4 * 5 - --(64 / (9.2) - -7 / 5.6 / 1 + 2.2 * 2) - (---0 + -3 - 0 / 6.2 + 4.0 * 6.1) / -(3 + 7 / 9.2 - 4) * 6 / -3 * 75 - (-1.0 / -9 * 6 * 7 - -2.7 * 8.5 / 3 + 5.0 / 0.0 + 2) / +130 + 126 + (2.6) / 37 / (7.4) * 1.3 / 0 - 27.90 + 6.5\n",
      "-((0 / 9.0 - 2)) / -((0 + 1 - 1.6) / 01.9 / 6.8 * 2 * 4) * (+4.92 * 7.4 / +4.8 - +-7 * +2 + -5 + 2 * 3 - 7.2 - 3) * 4 * 5 - --(64 / (9.2) - -7 / 5.6 / 1 + 2.2 * 2) - (---0 + -3 - 0 / 6.2 + 4.0 * 6.1) / -(3 + 7 / 9.2 - 4) * 6 / -3 * 75 - (-1.0 / -9 * 6 * 7 - -2.7 * 8.5 / 3 + 5.0 / 0.0 + 2) / +130 + 126 + (2.6) / 37 / (7.4) * 1.3 / 0 - 27.90 + 6.5\n",
      "-((0 / 9.0 - 2)) / -((0 + 1 - 1.6) / 01.9 / 6.8 * 2 * 4) * (+4.92 * 7.4 / +4.8 - +-7 * +2 + -5 + 2 * 3 - 7.2 - 3) * 4 * 5 - --(64 / (9.2) - -7 / 5.6 / 1 + 2.2 * 2) - (---0 + -3 - 0 / 6.2 + 4.0 * 6.1) / -(3 + 7 / 9.2 - 4) * 6 / -3 * 75 - (-1.0 / -9 * 6 * 7 - -2.7 * 8.5 / 3 + 5.0 / 0.0 + 2) / +130 + 126 + (2.6) / 37 / (7.4) * 1.3 / 0 - 27.90 + 6.5\n",
      "-((0 / 9.0 - 2)) / -((0 + 1 - 1.6) / 01.9 / 6.8 * 2 * 4) * (+4.92 * 7.4 / +4.8 - +-7 * +2 + -5 + 2 * 3 - 7.2 - 3) * 4 * 5 - --(64 / (9.2) - -7 / 5.6 / 1 + 2.2 * 2) - (---0 + -3 - 0 / 6.2 + 4.0 * 6.1) / -(3 + 7 / 9.2 - 4) * 6 / -3 * 75 - (-1.0 / -9 * 6 * 7 - -2.7 * 8.5 / 3 + 5.0 / 0.0 + 2) / +130 + 126 + (2.6) / 37 / (7.4) * 1.3 / 0 - 27.90 + 6.5\n",
      "-((0 / 9.0 - 2)) / -((0 + 1 - 1.6) / 01.9 / 6.8 * 2 * 4) * (+4.92 * 7.4 / +4.8 - +-7 * +2 + -5 + 2 * 3 - 7.2 - 3) * 4 * 5 - --(64 / (9.2) - -7 / 5.6 / 1 + 2.2 * 2) - (---0 + -3 - 0 / 6.2 + 4.0 * 6.1) / -(3 + 7 / 9.2 - 4) * 6 / -3 * 75 - (-1.0 / -9 * 6 * 7 - -2.7 * 8.5 / 3 + 5.0 / 0.0 + 2) / +130 + 126 + (2.6) / 37 / (7.4) * 1.3 / 0 - 27.90 + 6.5\n",
      "-((0 / 9.0 - 2)) / -((0 + 1 - 1.6) / 01.9 / 6.8 * 2 * 4) * (+4.92 * 7.4 / +4.8 - +-7 * +2 + -5 + 2 * 3 - 7.2 - 3) * 4 * 5 - --(64 / (9.2) - -7 / 5.6 / 1 + 2.2 * 2) - (---0 + -3 - 0 / 6.2 + 4.0 * 6.1) / -(3 + 7 / 9.2 - 4) * 6 / -3 * 75 - (-1.0 / -9 * 6 * 7 - -2.7 * 8.5 / 3 + 5.0 / 0.0 + 2) / +130 + 126 + (2.6) / 37 / (7.4) * 1.3 / 0 - 27.90 + 6.5\n",
      "-((0 / 9.0 - 2)) / -((0 + 1 - 1.6) / 01.9 / 6.8 * 2 * 4) * (+4.92 * 7.4 / +4.8 - +-7 * +2 + -5 + 2 * 3 - 7.2 - 3) * 4 * 5 - --(64 / (9.2) - -7 / 5.6 / 1 + 2.2 * 2) - (---0 + -3 - 0 / 6.2 + 4.0 * 6.1) / -(3 + 7 / 9.2 - 4) * 6 / -3 * 75 - (-1.0 / -9 * 6 * 7 - -2.7 * 8.5 / 3 + 5.0 / 0.0 + 2) / +130 + 126 + (2.6) / 37 / (7.4) * 1.3 / 0 - 27.90 + 6.5\n",
      "-((0 / 9.0 - 2)) / -((0 + 1 - 1.6) / 01.9 / 6.8 * 2 * 4) * (+4.92 * 7.4 / +4.8 - +-7 * +2 + -5 + 2 * 3 - 7.2 - 3) * 4 * 5 - --(64 / (9.2) - -7 / 5.6 / 1 + 2.2 * 2) - (---0 + -3 - 0 / 6.2 + 4.0 * 6.1) / -(3 + 7 / 9.2 - 4) * 6 / -3 * 75 - (-1.0 / -9 * 6 * 7 - -2.7 * 8.5 / 3 + 5.0 / 0.0 + 2) / +130 + 126 + (2.6) / 37 / (7.4) * 1.3 / 0 - 27.90 + 6.5\n",
      "-((0 / 9.0 - 2)) / -((0 + 1 - 1.6) / 01.9 / 6.8 * 2 * 4) * (+4.92 * 7.4 / +4.8 - +-7 * +2 + -5 + 2 * 3 - 7.2 - 3) * 4 * 5 - --(64 / (9.2) - -7 / 5.6 / 1 + 2.2 * 2) - (---0 + -3 - 0 / 6.2 + 4.0 * 6.1) / -(3 + 7 / 9.2 - 4) * 6 / -3 * 75 - (-1.0 / -9 * 6 * 7 - -2.7 * 8.5 / 3 + 5.0 / 0.0 + 2) / +130 + 126 + (2.6) / 37 / (7.4) * 1.3 / 0 - 27.90 + 6.5\n",
      "\n",
      "+-((3 + 0.0) / (7) * +4 + (8 - 1) / 7 / (2 / 3)) * +7 - +6 / -(0.35 + +5.1 * 2.3 - (+((0.0)) * 6 - 2)) / -+69.96 * -16.487 * 534.28 * -0 / -2 - +32.2 / ((5) / 3.9) * -(1 * 4) / 86 / (7.9 - 9) * -0\n",
      "+-((3 + 0.0) / (7) * +4 + (8 - 1) / 7 / (2 / 3)) * +7 - +6 / -(0.35 + +5.1 * 2.3 - (+((0.0)) * 6 - 2)) / -+69.96 * -16.487 * 534.28 * -0 / -2 - +32.2 / ((5) / 3.9) * -(1 * 4) / 86 / (7.9 - 9) * -0\n",
      "+-((3 + 0.0) / (7) * +4 + (8 - 1) / 7 / (2 / 3)) * +7 - +6 / -(0.35 + +5.1 * 2.3 - (+((0.0)) * 6 - 2)) / -+69.96 * -16.487 * 534.28 * -0 / -2 - +32.2 / ((5) / 3.9) * -(1 * 4) / 86 / (7.9 - 9) * -0\n"
     ]
    },
    {
     "name": "stdout",
     "output_type": "stream",
     "text": [
      "+-((3 + 0.0) / (7) * +4 + (8 - 1) / 7 / (2 / 3)) * +7 - +6 / -(0.35 + +5.1 * 2.3 - (+((0.0)) * 6 - 2)) / -+69.96 * -16.487 * 534.28 * -0 / -2 - +32.2 / ((5) / 3.9) * -(1 * 4) / 86 / (7.9 - 9) * -0\n",
      "+-((3 + 0.0) / (7) * +4 + (8 - 1) / 7 / (2 / 3)) * +7 - +6 / -(0.35 + +5.1 * 2.3 - (+((0.0)) * 6 - 2)) / -+69.96 * -16.487 * 534.28 * -0 / -2 - +32.2 / ((5) / 3.9) * -(1 * 4) / 86 / (7.9 - 9) * -0\n",
      "+-((3 + 0.0) / (7) * +4 + (8 - 1) / 7 / (2 / 3)) * +7 - +6 / -(0.35 + +5.1 * 2.3 - (+((0.0)) * 6 - 2)) / -+69.96 * -16.487 * 534.28 * -0 / -2 - +32.2 / ((5) / 3.9) * -(1 * 4) / 86 / (7.9 - 9) * -0\n",
      "+-((3 + 0.0) / (7) * +4 + (8 - 1) / 7 / (2 / 3)) * +7 - +6 / -(0.35 + +5.1 * 2.3 - (+((0.0)) * 6 - 2)) / -+69.96 * -16.487 * 534.28 * -0 / -2 - +32.2 / ((5) / 3.9) * -(1 * 4) / 86 / (7.9 - 9) * -0\n",
      "\n",
      "6 * ((+4 * 4 + 3.8 * 1 - 3) * (3.3 * 5.1) + 58.866 * +7.5 + 8.64 / 3) * 1 * 782.6 * -4 * -+(7.7) * --7.5 / 8.6 / 7.5 - 062 / +-5.4 * 75.86 * (-2 * 0.6 / 5) / +-(5) / +(9) / +7 * 4.6 - +9.4 * 6.3 * ((5)) * -(4.8 / 8 + 7) / ++4.0 / 3 * 8 * 5 - -11.1 / +(0.2 / 8 + 3.9 + 9.2) - 636 * (8.8 * 3 + 7 + 9.4) + ++-6\n",
      "6 * ((+4 * 4 + 3.8 * 1 - 3) * (3.3 * 5.1) + 58.866 * +7.5 + 8.64 / 3) * 1 * 782.6 * -4 * -+(7.7) * --7.5 / 8.6 / 7.5 - 062 / +-5.4 * 75.86 * (-2 * 0.6 / 5) / +-(5) / +(9) / +7 * 4.6 - +9.4 * 6.3 * ((5)) * -(4.8 / 8 + 7) / ++4.0 / 3 * 8 * 5 - -11.1 / +(0.2 / 8 + 3.9 + 9.2) - 636 * (8.8 * 3 + 7 + 9.4) + ++-6\n",
      "6 * ((+4 * 4 + 3.8 * 1 - 3) * (3.3 * 5.1) + 58.866 * +7.5 + 8.64 / 3) * 1 * 782.6 * -4 * -+(7.7) * --7.5 / 8.6 / 7.5 - 062 / +-5.4 * 75.86 * (-2 * 0.6 / 5) / +-(5) / +(9) / +7 * 4.6 - +9.4 * 6.3 * ((5)) * -(4.8 / 8 + 7) / ++4.0 / 3 * 8 * 5 - -11.1 / +(0.2 / 8 + 3.9 + 9.2) - 636 * (8.8 * 3 + 7 + 9.4) + ++-6\n",
      "6 * ((+4 * 4 + 3.8 * 1 - 3) * (3.3 * 5.1) + 58.866 * +7.5 + 8.64 / 3) * 1 * 782.6 * -4 * -+(7.7) * --7.5 / 8.6 / 7.5 - 062 / +-5.4 * 75.86 * (-2 * 0.6 / 5) / +-(5) / +(9) / +7 * 4.6 - +9.4 * 6.3 * ((5)) * -(4.8 / 8 + 7) / ++4.0 / 3 * 8 * 5 - -11.1 / +(0.2 / 8 + 3.9 + 9.2) - 636 * (8.8 * 3 + 7 + 9.4) + ++-6\n",
      "6 * ((+4 * 4 + 3.8 * 1 - 3) * (3.3 * 5.1) + 58.866 * +7.5 + 8.64 / 3) * 1 * 782.6 * -4 * -+(7.7) * --7.5 / 8.6 / 7.5 - 062 / +-5.4 * 75.86 * (-2 * 0.6 / 5) / +-(5) / +(9) / +7 * 4.6 - +9.4 * 6.3 * ((5)) * -(4.8 / 8 + 7) / ++4.0 / 3 * 8 * 5 - -11.1 / +(0.2 / 8 + 3.9 + 9.2) - 636 * (8.8 * 3 + 7 + 9.4) + ++-6\n",
      "6 * ((+4 * 4 + 3.8 * 1 - 3) * (3.3 * 5.1) + 58.866 * +7.5 + 8.64 / 3) * 1 * 782.6 * -4 * -+(7.7) * --7.5 / 8.6 / 7.5 - 062 / +-5.4 * 75.86 * (-2 * 0.6 / 5) / +-(5) / +(9) / +7 * 4.6 - +9.4 * 6.3 * ((5)) * -(4.8 / 8 + 7) / ++4.0 / 3 * 8 * 5 - -11.1 / +(0.2 / 8 + 3.9 + 9.2) - 636 * (8.8 * 3 + 7 + 9.4) + ++-6\n",
      "6 * ((+4 * 4 + 3.8 * 1 - 3) * (3.3 * 5.1) + 58.866 * +7.5 + 8.64 / 3) * 1 * 782.6 * -4 * -+(7.7) * --7.5 / 8.6 / 7.5 - 062 / +-5.4 * 75.86 * (-2 * 0.6 / 5) / +-(5) / +(9) / +7 * 4.6 - +9.4 * 6.3 * ((5)) * -(4.8 / 8 + 7) / ++4.0 / 3 * 8 * 5 - -11.1 / +(0.2 / 8 + 3.9 + 9.2) - 636 * (8.8 * 3 + 7 + 9.4) + ++-6\n",
      "\n",
      "4.2 * (77 + 0 / (0) / 2 * 6.1 * 0 + +-5 / 1 * 7 / 0.6) * +(0 / +7 * 7.6 / 7.9 + -8 * 0.1 - 9.2 * 4.8 + 6.6 + 9.8) - 4.50 * +((6 / 8.2)) + 12.59 / ((0) * -7.4 / 4.3 / 8 + +4 / 2 * 0.1) + -5 + +40.4 * 59.19 / -(0.9) * +9 * 0.9 * 4.7 - 5.116\n",
      "4.2 * (77 + 0 / (0) / 2 * 6.1 * 0 + +-5 / 1 * 7 / 0.6) * +(0 / +7 * 7.6 / 7.9 + -8 * 0.1 - 9.2 * 4.8 + 6.6 + 9.8) - 4.50 * +((6 / 8.2)) + 12.59 / ((0) * -7.4 / 4.3 / 8 + +4 / 2 * 0.1) + -5 + +40.4 * 59.19 / -(0.9) * +9 * 0.9 * 4.7 - 5.116\n",
      "4.2 * (77 + 0 / (0) / 2 * 6.1 * 0 + +-5 / 1 * 7 / 0.6) * +(0 / +7 * 7.6 / 7.9 + -8 * 0.1 - 9.2 * 4.8 + 6.6 + 9.8) - 4.50 * +((6 / 8.2)) + 12.59 / ((0) * -7.4 / 4.3 / 8 + +4 / 2 * 0.1) + -5 + +40.4 * 59.19 / -(0.9) * +9 * 0.9 * 4.7 - 5.116\n",
      "4.2 * (77 + 0 / (0) / 2 * 6.1 * 0 + +-5 / 1 * 7 / 0.6) * +(0 / +7 * 7.6 / 7.9 + -8 * 0.1 - 9.2 * 4.8 + 6.6 + 9.8) - 4.50 * +((6 / 8.2)) + 12.59 / ((0) * -7.4 / 4.3 / 8 + +4 / 2 * 0.1) + -5 + +40.4 * 59.19 / -(0.9) * +9 * 0.9 * 4.7 - 5.116\n",
      "4.2 * (77 + 0 / (0) / 2 * 6.1 * 0 + +-5 / 1 * 7 / 0.6) * +(0 / +7 * 7.6 / 7.9 + -8 * 0.1 - 9.2 * 4.8 + 6.6 + 9.8) - 4.50 * +((6 / 8.2)) + 12.59 / ((0) * -7.4 / 4.3 / 8 + +4 / 2 * 0.1) + -5 + +40.4 * 59.19 / -(0.9) * +9 * 0.9 * 4.7 - 5.116\n",
      "4.2 * (77 + 0 / (0) / 2 * 6.1 * 0 + +-5 / 1 * 7 / 0.6) * +(0 / +7 * 7.6 / 7.9 + -8 * 0.1 - 9.2 * 4.8 + 6.6 + 9.8) - 4.50 * +((6 / 8.2)) + 12.59 / ((0) * -7.4 / 4.3 / 8 + +4 / 2 * 0.1) + -5 + +40.4 * 59.19 / -(0.9) * +9 * 0.9 * 4.7 - 5.116\n",
      "4.2 * (77 + 0 / (0) / 2 * 6.1 * 0 + +-5 / 1 * 7 / 0.6) * +(0 / +7 * 7.6 / 7.9 + -8 * 0.1 - 9.2 * 4.8 + 6.6 + 9.8) - 4.50 * +((6 / 8.2)) + 12.59 / ((0) * -7.4 / 4.3 / 8 + +4 / 2 * 0.1) + -5 + +40.4 * 59.19 / -(0.9) * +9 * 0.9 * 4.7 - 5.116\n",
      "\n",
      "-(((4.6) + 8.9 * 2) * -12.4 * --0 + -++4 / (3 + 5) * +9 * 1.6 / --((4))) * (+-1.4) / 8.981650 - +67.1734 / 5 * 80 * 52 / +64 * 6.68 * +5 / 6.2 / 7 + (0 / +9.4 / 1.5 / 2) / -77.16 * 0 / (2 + 4) * (5) / 4.9 * 6 + 8.11 + 9.5\n",
      "-(((4.6) + 8.9 * 2) * -12.4 * --0 + -++4 / (3 + 5) * +9 * 1.6 / --((4))) * (+-1.4) / 8.981650 - +67.1734 / 5 * 80 * 52 / +64 * 6.68 * +5 / 6.2 / 7 + (0 / +9.4 / 1.5 / 2) / -77.16 * 0 / (2 + 4) * (5) / 4.9 * 6 + 8.11 + 9.5\n",
      "-(((4.6) + 8.9 * 2) * -12.4 * --0 + -++4 / (3 + 5) * +9 * 1.6 / --((4))) * (+-1.4) / 8.981650 - +67.1734 / 5 * 80 * 52 / +64 * 6.68 * +5 / 6.2 / 7 + (0 / +9.4 / 1.5 / 2) / -77.16 * 0 / (2 + 4) * (5) / 4.9 * 6 + 8.11 + 9.5\n",
      "-(((4.6) + 8.9 * 2) * -12.4 * --0 + -++4 / (3 + 5) * +9 * 1.6 / --((4))) * (+-1.4) / 8.981650 - +67.1734 / 5 * 80 * 52 / +64 * 6.68 * +5 / 6.2 / 7 + (0 / +9.4 / 1.5 / 2) / -77.16 * 0 / (2 + 4) * (5) / 4.9 * 6 + 8.11 + 9.5\n",
      "-(((4.6) + 8.9 * 2) * -12.4 * --0 + -++4 / (3 + 5) * +9 * 1.6 / --((4))) * (+-1.4) / 8.981650 - +67.1734 / 5 * 80 * 52 / +64 * 6.68 * +5 / 6.2 / 7 + (0 / +9.4 / 1.5 / 2) / -77.16 * 0 / (2 + 4) * (5) / 4.9 * 6 + 8.11 + 9.5\n",
      "-(((4.6) + 8.9 * 2) * -12.4 * --0 + -++4 / (3 + 5) * +9 * 1.6 / --((4))) * (+-1.4) / 8.981650 - +67.1734 / 5 * 80 * 52 / +64 * 6.68 * +5 / 6.2 / 7 + (0 / +9.4 / 1.5 / 2) / -77.16 * 0 / (2 + 4) * (5) / 4.9 * 6 + 8.11 + 9.5\n",
      "-(((4.6) + 8.9 * 2) * -12.4 * --0 + -++4 / (3 + 5) * +9 * 1.6 / --((4))) * (+-1.4) / 8.981650 - +67.1734 / 5 * 80 * 52 / +64 * 6.68 * +5 / 6.2 / 7 + (0 / +9.4 / 1.5 / 2) / -77.16 * 0 / (2 + 4) * (5) / 4.9 * 6 + 8.11 + 9.5\n",
      "-(((4.6) + 8.9 * 2) * -12.4 * --0 + -++4 / (3 + 5) * +9 * 1.6 / --((4))) * (+-1.4) / 8.981650 - +67.1734 / 5 * 80 * 52 / +64 * 6.68 * +5 / 6.2 / 7 + (0 / +9.4 / 1.5 / 2) / -77.16 * 0 / (2 + 4) * (5) / 4.9 * 6 + 8.11 + 9.5\n",
      "\n",
      "+(((7.1) + 9 * 3.2 - 0.4) - -+(1.6 / 3) * 28.1 * (4) / 5 * 6 + 7.3 / (7) * 9 / 2 + 1.4 / 3 * 8 + 7 * 2) * +-++-(7 + 2.0 - 4.6 - 7.9 + ((0.9)) - 4) / 23 + (-0.800) / 618 * (-(4.3) - (1.9) * 4.0 + 7 * 1.8 + 5.7 - 4.6) / 6.5\n",
      "+(((7.1) + 9 * 3.2 - 0.4) - -+(1.6 / 3) * 28.1 * (4) / 5 * 6 + 7.3 / (7) * 9 / 2 + 1.4 / 3 * 8 + 7 * 2) * +-++-(7 + 2.0 - 4.6 - 7.9 + ((0.9)) - 4) / 23 + (-0.800) / 618 * (-(4.3) - (1.9) * 4.0 + 7 * 1.8 + 5.7 - 4.6) / 6.5\n",
      "+(((7.1) + 9 * 3.2 - 0.4) - -+(1.6 / 3) * 28.1 * (4) / 5 * 6 + 7.3 / (7) * 9 / 2 + 1.4 / 3 * 8 + 7 * 2) * +-++-(7 + 2.0 - 4.6 - 7.9 + ((0.9)) - 4) / 23 + (-0.800) / 618 * (-(4.3) - (1.9) * 4.0 + 7 * 1.8 + 5.7 - 4.6) / 6.5\n",
      "+(((7.1) + 9 * 3.2 - 0.4) - -+(1.6 / 3) * 28.1 * (4) / 5 * 6 + 7.3 / (7) * 9 / 2 + 1.4 / 3 * 8 + 7 * 2) * +-++-(7 + 2.0 - 4.6 - 7.9 + ((0.9)) - 4) / 23 + (-0.800) / 618 * (-(4.3) - (1.9) * 4.0 + 7 * 1.8 + 5.7 - 4.6) / 6.5\n",
      "+(((7.1) + 9 * 3.2 - 0.4) - -+(1.6 / 3) * 28.1 * (4) / 5 * 6 + 7.3 / (7) * 9 / 2 + 1.4 / 3 * 8 + 7 * 2) * +-++-(7 + 2.0 - 4.6 - 7.9 + ((0.9)) - 4) / 23 + (-0.800) / 618 * (-(4.3) - (1.9) * 4.0 + 7 * 1.8 + 5.7 - 4.6) / 6.5\n",
      "+(((7.1) + 9 * 3.2 - 0.4) - -+(1.6 / 3) * 28.1 * (4) / 5 * 6 + 7.3 / (7) * 9 / 2 + 1.4 / 3 * 8 + 7 * 2) * +-++-(7 + 2.0 - 4.6 - 7.9 + ((0.9)) - 4) / 23 + (-0.800) / 618 * (-(4.3) - (1.9) * 4.0 + 7 * 1.8 + 5.7 - 4.6) / 6.5\n",
      "\n"
     ]
    }
   ],
   "source": [
    "for i in range(10):\n",
    "    s = G_and_A_and_B_f.fuzz(key=G_and_A_and_B_s)\n",
    "    for t in G_and_A_and_B_p.parse(s):\n",
    "        print(tree_to_str(t))\n",
    "    for t in G_and_A_p.parse(s):\n",
    "        print(tree_to_str(t))\n",
    "    for t in G_and_B_p.parse(s):\n",
    "        print(tree_to_str(t))\n",
    "    print()"
   ]
  },
  {
   "cell_type": "markdown",
   "metadata": {},
   "source": [
    "### G & A & B & C"
   ]
  },
  {
   "cell_type": "markdown",
   "metadata": {},
   "source": [
    "Generate inputs that contain division and doubled parenthesis (C is single parenthesis)."
   ]
  },
  {
   "cell_type": "code",
   "execution_count": 228,
   "metadata": {},
   "outputs": [
    {
     "name": "stdout",
     "output_type": "stream",
     "text": [
      "Stripping: ['<factor L11_1>', '<start F1 F10>', '<expr F1 F10 F11>', '<term F1 F10 F11>', '<expr F11>', '<term F10 F11>', '<expr F1 F11>', '<term F1 F11>', '<expr F10 F11>', '<term F11>', '<factor F1 F10 F11>', '<factor F10 F11>', '<factor F1 F11>', '<factor F11>', '<factor L1_1 F10 F11>', '<expr L1_1 F10 F11>', '<term L1_1 F10 F11>', '<factor L1_2 F10 F11>', '<factor L1_1 F11>', '<expr L1_1 F11>', '<term L1_1 F11>', '<factor L1_2 F11>', '<term L10_1 F11>']\n"
     ]
    }
   ],
   "source": [
    "G_and_A_and_B_and_C_s, G_and_A_and_B_and_C_g = and_abstraction(G_and_A_and_B_g, G_and_A_and_B_s, abs_faultC);"
   ]
  },
  {
   "cell_type": "code",
   "execution_count": 229,
   "metadata": {},
   "outputs": [
    {
     "data": {
      "text/plain": [
       "('<start F1 F10 F11>',\n",
       " {'<start F1 F10 F11>': [['<expr F1 F10>']],\n",
       "  '<expr F1 F10>': [['<term F1 F10>'],\n",
       "   ['<term F1 F10>', ' + ', '<expr>'],\n",
       "   ['<term F1 F10>', ' - ', '<expr>'],\n",
       "   ['<term F10>', ' + ', '<expr F1>'],\n",
       "   ['<term F10>', ' - ', '<expr F1>'],\n",
       "   ['<term F1>', ' + ', '<expr F10>'],\n",
       "   ['<term F1>', ' - ', '<expr F10>'],\n",
       "   ['<term>', ' + ', '<expr F1 F10>'],\n",
       "   ['<term>', ' - ', '<expr F1 F10>']],\n",
       "  '<term F1 F10>': [['<factor F1 F10>'],\n",
       "   ['<factor F1 F10>', ' * ', '<term>'],\n",
       "   ['<factor F1 F10>', ' / ', '<term>'],\n",
       "   ['<factor F10>', ' * ', '<term F1>'],\n",
       "   ['<factor F10>', ' / ', '<term F1>'],\n",
       "   ['<factor F1>', ' * ', '<term F10>'],\n",
       "   ['<factor F1>', ' / ', '<term F10>'],\n",
       "   ['<factor>', ' * ', '<term F1 F10>'],\n",
       "   ['<factor>', ' / ', '<term F1 F10>']],\n",
       "  '<expr>': [['<term>'],\n",
       "   ['<term>', ' + ', '<expr>'],\n",
       "   ['<term>', ' - ', '<expr>']],\n",
       "  '<term F10>': [['<factor F10>'],\n",
       "   ['<factor F10>', ' * ', '<term>'],\n",
       "   ['<factor F10>', ' / ', '<term>'],\n",
       "   ['<factor>', ' * ', '<term F10>'],\n",
       "   ['<factor>', ' / ', '<term F10>'],\n",
       "   ['<term L10_1>']],\n",
       "  '<expr F1>': [['<term F1>'],\n",
       "   ['<term F1>', ' + ', '<expr>'],\n",
       "   ['<term F1>', ' - ', '<expr>'],\n",
       "   ['<term>', ' + ', '<expr F1>'],\n",
       "   ['<term>', ' - ', '<expr F1>']],\n",
       "  '<term F1>': [['<factor F1>'],\n",
       "   ['<factor F1>', ' * ', '<term>'],\n",
       "   ['<factor F1>', ' / ', '<term>'],\n",
       "   ['<factor>', ' * ', '<term F1>'],\n",
       "   ['<factor>', ' / ', '<term F1>']],\n",
       "  '<expr F10>': [['<term F10>'],\n",
       "   ['<term F10>', ' + ', '<expr>'],\n",
       "   ['<term F10>', ' - ', '<expr>'],\n",
       "   ['<term>', ' + ', '<expr F10>'],\n",
       "   ['<term>', ' - ', '<expr F10>']],\n",
       "  '<term>': [['<factor>'],\n",
       "   ['<factor>', ' * ', '<term>'],\n",
       "   ['<factor>', ' / ', '<term>']],\n",
       "  '<factor F1 F10>': [['(', '<expr F1 F10>', ')'],\n",
       "   ['+', '<factor F1 F10>'],\n",
       "   ['-', '<factor F1 F10>'],\n",
       "   ['<factor L1_1 F10>']],\n",
       "  '<factor F10>': [['(', '<expr F10>', ')'],\n",
       "   ['+', '<factor F10>'],\n",
       "   ['-', '<factor F10>']],\n",
       "  '<factor F1>': [['(', '<expr F1>', ')'],\n",
       "   ['+', '<factor F1>'],\n",
       "   ['-', '<factor F1>'],\n",
       "   ['<factor L1_1>']],\n",
       "  '<factor>': [['(', '<expr>', ')'],\n",
       "   ['+', '<factor>'],\n",
       "   ['-', '<factor>'],\n",
       "   ['<integer>'],\n",
       "   ['<integer>', '.', '<integer>']],\n",
       "  '<factor L1_1 F10>': [['(', '<expr L1_1 F10>', ')']],\n",
       "  '<expr L1_1 F10>': [['<term L1_1 F10>']],\n",
       "  '<term L1_1 F10>': [['<factor L1_2 F10>']],\n",
       "  '<factor L1_2 F10>': [['(', '<expr F10>', ')']],\n",
       "  '<factor L1_1>': [['(', '<expr L1_1>', ')']],\n",
       "  '<expr L1_1>': [['<term L1_1>']],\n",
       "  '<term L1_1>': [['<factor L1_2>']],\n",
       "  '<factor L1_2>': [['(', '<expr>', ')']],\n",
       "  '<integer>': [['<digit>'], ['<digit>', '<integer>']],\n",
       "  '<digit>': [['0'],\n",
       "   ['1'],\n",
       "   ['2'],\n",
       "   ['3'],\n",
       "   ['4'],\n",
       "   ['5'],\n",
       "   ['6'],\n",
       "   ['7'],\n",
       "   ['8'],\n",
       "   ['9']],\n",
       "  '<term L10_1>': [['<factor>', ' / ', '<term>']]})"
      ]
     },
     "execution_count": 229,
     "metadata": {},
     "output_type": "execute_result"
    }
   ],
   "source": [
    "G_and_A_and_B_and_C_s, G_and_A_and_B_and_C_g"
   ]
  },
  {
   "cell_type": "code",
   "execution_count": 230,
   "metadata": {},
   "outputs": [],
   "source": [
    "G_and_A_and_B_and_C_f = LimitFuzzer(G_and_A_and_B_and_C_g)\n",
    "G_and_A_and_B_and_C_p = Parser(G_and_A_and_B_and_C_g, canonical=True, start_symbol=G_and_A_and_B_and_C_s)"
   ]
  },
  {
   "cell_type": "code",
   "execution_count": 231,
   "metadata": {
    "scrolled": false
   },
   "outputs": [
    {
     "name": "stdout",
     "output_type": "stream",
     "text": [
      "0.4 * 25.6 * 797 + (6 * (1) + +(9 + 7.4) / (0 + 0.2) + -9.9 / 5 * 9 * 1) / -(1 * (2.2) / 9.4 * 7.5 + -+(1 + ((9)) + 4) + 5.1 / 7 - 1.3 + 5.5) + 01326 - +++--(7.0 / 6.1) / 59 * (7 / 8.3 + 2.3 + 7) / 3.45 * (8) * 3\n",
      "0.4 * 25.6 * 797 + (6 * (1) + +(9 + 7.4) / (0 + 0.2) + -9.9 / 5 * 9 * 1) / -(1 * (2.2) / 9.4 * 7.5 + -+(1 + ((9)) + 4) + 5.1 / 7 - 1.3 + 5.5) + 01326 - +++--(7.0 / 6.1) / 59 * (7 / 8.3 + 2.3 + 7) / 3.45 * (8) * 3\n",
      "0.4 * 25.6 * 797 + (6 * (1) + +(9 + 7.4) / (0 + 0.2) + -9.9 / 5 * 9 * 1) / -(1 * (2.2) / 9.4 * 7.5 + -+(1 + ((9)) + 4) + 5.1 / 7 - 1.3 + 5.5) + 01326 - +++--(7.0 / 6.1) / 59 * (7 / 8.3 + 2.3 + 7) / 3.45 * (8) * 3\n",
      "0.4 * 25.6 * 797 + (6 * (1) + +(9 + 7.4) / (0 + 0.2) + -9.9 / 5 * 9 * 1) / -(1 * (2.2) / 9.4 * 7.5 + -+(1 + ((9)) + 4) + 5.1 / 7 - 1.3 + 5.5) + 01326 - +++--(7.0 / 6.1) / 59 * (7 / 8.3 + 2.3 + 7) / 3.45 * (8) * 3\n",
      "0.4 * 25.6 * 797 + (6 * (1) + +(9 + 7.4) / (0 + 0.2) + -9.9 / 5 * 9 * 1) / -(1 * (2.2) / 9.4 * 7.5 + -+(1 + ((9)) + 4) + 5.1 / 7 - 1.3 + 5.5) + 01326 - +++--(7.0 / 6.1) / 59 * (7 / 8.3 + 2.3 + 7) / 3.45 * (8) * 3\n",
      "0.4 * 25.6 * 797 + (6 * (1) + +(9 + 7.4) / (0 + 0.2) + -9.9 / 5 * 9 * 1) / -(1 * (2.2) / 9.4 * 7.5 + -+(1 + ((9)) + 4) + 5.1 / 7 - 1.3 + 5.5) + 01326 - +++--(7.0 / 6.1) / 59 * (7 / 8.3 + 2.3 + 7) / 3.45 * (8) * 3\n",
      "0.4 * 25.6 * 797 + (6 * (1) + +(9 + 7.4) / (0 + 0.2) + -9.9 / 5 * 9 * 1) / -(1 * (2.2) / 9.4 * 7.5 + -+(1 + ((9)) + 4) + 5.1 / 7 - 1.3 + 5.5) + 01326 - +++--(7.0 / 6.1) / 59 * (7 / 8.3 + 2.3 + 7) / 3.45 * (8) * 3\n",
      "0.4 * 25.6 * 797 + (6 * (1) + +(9 + 7.4) / (0 + 0.2) + -9.9 / 5 * 9 * 1) / -(1 * (2.2) / 9.4 * 7.5 + -+(1 + ((9)) + 4) + 5.1 / 7 - 1.3 + 5.5) + 01326 - +++--(7.0 / 6.1) / 59 * (7 / 8.3 + 2.3 + 7) / 3.45 * (8) * 3\n",
      "0.4 * 25.6 * 797 + (6 * (1) + +(9 + 7.4) / (0 + 0.2) + -9.9 / 5 * 9 * 1) / -(1 * (2.2) / 9.4 * 7.5 + -+(1 + ((9)) + 4) + 5.1 / 7 - 1.3 + 5.5) + 01326 - +++--(7.0 / 6.1) / 59 * (7 / 8.3 + 2.3 + 7) / 3.45 * (8) * 3\n",
      "\n",
      "17 / 4.1 / (---((8.9))) * -7701.5 - -++8.154 * 1.8 * 53305.4 / (-4.5 / 7 / 9) / (3.7) / (6) * 4.1 / 6 - (+4 * 04.58 - +9.7 / +3.4 * 6.8 + -6.2 / 2.1 / 3.7) / 33.28060 / +818 / (3.6 * 4 + 0.5 + 3) * 7.1 - (88.0 * 2.8 * 8) / 2.6 / -3.91 / 40.15\n",
      "17 / 4.1 / (---((8.9))) * -7701.5 - -++8.154 * 1.8 * 53305.4 / (-4.5 / 7 / 9) / (3.7) / (6) * 4.1 / 6 - (+4 * 04.58 - +9.7 / +3.4 * 6.8 + -6.2 / 2.1 / 3.7) / 33.28060 / +818 / (3.6 * 4 + 0.5 + 3) * 7.1 - (88.0 * 2.8 * 8) / 2.6 / -3.91 / 40.15\n",
      "17 / 4.1 / (---((8.9))) * -7701.5 - -++8.154 * 1.8 * 53305.4 / (-4.5 / 7 / 9) / (3.7) / (6) * 4.1 / 6 - (+4 * 04.58 - +9.7 / +3.4 * 6.8 + -6.2 / 2.1 / 3.7) / 33.28060 / +818 / (3.6 * 4 + 0.5 + 3) * 7.1 - (88.0 * 2.8 * 8) / 2.6 / -3.91 / 40.15\n",
      "17 / 4.1 / (---((8.9))) * -7701.5 - -++8.154 * 1.8 * 53305.4 / (-4.5 / 7 / 9) / (3.7) / (6) * 4.1 / 6 - (+4 * 04.58 - +9.7 / +3.4 * 6.8 + -6.2 / 2.1 / 3.7) / 33.28060 / +818 / (3.6 * 4 + 0.5 + 3) * 7.1 - (88.0 * 2.8 * 8) / 2.6 / -3.91 / 40.15\n",
      "17 / 4.1 / (---((8.9))) * -7701.5 - -++8.154 * 1.8 * 53305.4 / (-4.5 / 7 / 9) / (3.7) / (6) * 4.1 / 6 - (+4 * 04.58 - +9.7 / +3.4 * 6.8 + -6.2 / 2.1 / 3.7) / 33.28060 / +818 / (3.6 * 4 + 0.5 + 3) * 7.1 - (88.0 * 2.8 * 8) / 2.6 / -3.91 / 40.15\n",
      "17 / 4.1 / (---((8.9))) * -7701.5 - -++8.154 * 1.8 * 53305.4 / (-4.5 / 7 / 9) / (3.7) / (6) * 4.1 / 6 - (+4 * 04.58 - +9.7 / +3.4 * 6.8 + -6.2 / 2.1 / 3.7) / 33.28060 / +818 / (3.6 * 4 + 0.5 + 3) * 7.1 - (88.0 * 2.8 * 8) / 2.6 / -3.91 / 40.15\n",
      "17 / 4.1 / (---((8.9))) * -7701.5 - -++8.154 * 1.8 * 53305.4 / (-4.5 / 7 / 9) / (3.7) / (6) * 4.1 / 6 - (+4 * 04.58 - +9.7 / +3.4 * 6.8 + -6.2 / 2.1 / 3.7) / 33.28060 / +818 / (3.6 * 4 + 0.5 + 3) * 7.1 - (88.0 * 2.8 * 8) / 2.6 / -3.91 / 40.15\n",
      "17 / 4.1 / (---((8.9))) * -7701.5 - -++8.154 * 1.8 * 53305.4 / (-4.5 / 7 / 9) / (3.7) / (6) * 4.1 / 6 - (+4 * 04.58 - +9.7 / +3.4 * 6.8 + -6.2 / 2.1 / 3.7) / 33.28060 / +818 / (3.6 * 4 + 0.5 + 3) * 7.1 - (88.0 * 2.8 * 8) / 2.6 / -3.91 / 40.15\n",
      "17 / 4.1 / (---((8.9))) * -7701.5 - -++8.154 * 1.8 * 53305.4 / (-4.5 / 7 / 9) / (3.7) / (6) * 4.1 / 6 - (+4 * 04.58 - +9.7 / +3.4 * 6.8 + -6.2 / 2.1 / 3.7) / 33.28060 / +818 / (3.6 * 4 + 0.5 + 3) * 7.1 - (88.0 * 2.8 * 8) / 2.6 / -3.91 / 40.15\n",
      "17 / 4.1 / (---((8.9))) * -7701.5 - -++8.154 * 1.8 * 53305.4 / (-4.5 / 7 / 9) / (3.7) / (6) * 4.1 / 6 - (+4 * 04.58 - +9.7 / +3.4 * 6.8 + -6.2 / 2.1 / 3.7) / 33.28060 / +818 / (3.6 * 4 + 0.5 + 3) * 7.1 - (88.0 * 2.8 * 8) / 2.6 / -3.91 / 40.15\n",
      "17 / 4.1 / (---((8.9))) * -7701.5 - -++8.154 * 1.8 * 53305.4 / (-4.5 / 7 / 9) / (3.7) / (6) * 4.1 / 6 - (+4 * 04.58 - +9.7 / +3.4 * 6.8 + -6.2 / 2.1 / 3.7) / 33.28060 / +818 / (3.6 * 4 + 0.5 + 3) * 7.1 - (88.0 * 2.8 * 8) / 2.6 / -3.91 / 40.15\n",
      "17 / 4.1 / (---((8.9))) * -7701.5 - -++8.154 * 1.8 * 53305.4 / (-4.5 / 7 / 9) / (3.7) / (6) * 4.1 / 6 - (+4 * 04.58 - +9.7 / +3.4 * 6.8 + -6.2 / 2.1 / 3.7) / 33.28060 / +818 / (3.6 * 4 + 0.5 + 3) * 7.1 - (88.0 * 2.8 * 8) / 2.6 / -3.91 / 40.15\n",
      "\n",
      "-++---+(7.9 / 9) / -133.316 / +((5)) + -78.769 / 7 - 0613.6\n",
      "-++---+(7.9 / 9) / -133.316 / +((5)) + -78.769 / 7 - 0613.6\n",
      "-++---+(7.9 / 9) / -133.316 / +((5)) + -78.769 / 7 - 0613.6\n",
      "-++---+(7.9 / 9) / -133.316 / +((5)) + -78.769 / 7 - 0613.6\n",
      "-++---+(7.9 / 9) / -133.316 / +((5)) + -78.769 / 7 - 0613.6\n",
      "-++---+(7.9 / 9) / -133.316 / +((5)) + -78.769 / 7 - 0613.6\n",
      "-++---+(7.9 / 9) / -133.316 / +((5)) + -78.769 / 7 - 0613.6\n",
      "-++---+(7.9 / 9) / -133.316 / +((5)) + -78.769 / 7 - 0613.6\n",
      "-++---+(7.9 / 9) / -133.316 / +((5)) + -78.769 / 7 - 0613.6\n",
      "-++---+(7.9 / 9) / -133.316 / +((5)) + -78.769 / 7 - 0613.6\n",
      "-++---+(7.9 / 9) / -133.316 / +((5)) + -78.769 / 7 - 0613.6\n",
      "\n",
      "+4 / (+6 / (0.0) * 5 - (0.1) * 4 / 6.7 * 2) * -+(7 * 2.7) / (1.9 * 0 / 5.1 - 8.7 * 6 - 3.4 + 6) + --((5.8)) / ---(3 / 0 + 5 - 6.3) * -(-3.0 * 3.5 * 5.1 - 1 - 7.0 - 7) * +++-9 * 70.1\n",
      "+4 / (+6 / (0.0) * 5 - (0.1) * 4 / 6.7 * 2) * -+(7 * 2.7) / (1.9 * 0 / 5.1 - 8.7 * 6 - 3.4 + 6) + --((5.8)) / ---(3 / 0 + 5 - 6.3) * -(-3.0 * 3.5 * 5.1 - 1 - 7.0 - 7) * +++-9 * 70.1\n",
      "+4 / (+6 / (0.0) * 5 - (0.1) * 4 / 6.7 * 2) * -+(7 * 2.7) / (1.9 * 0 / 5.1 - 8.7 * 6 - 3.4 + 6) + --((5.8)) / ---(3 / 0 + 5 - 6.3) * -(-3.0 * 3.5 * 5.1 - 1 - 7.0 - 7) * +++-9 * 70.1\n",
      "+4 / (+6 / (0.0) * 5 - (0.1) * 4 / 6.7 * 2) * -+(7 * 2.7) / (1.9 * 0 / 5.1 - 8.7 * 6 - 3.4 + 6) + --((5.8)) / ---(3 / 0 + 5 - 6.3) * -(-3.0 * 3.5 * 5.1 - 1 - 7.0 - 7) * +++-9 * 70.1\n",
      "+4 / (+6 / (0.0) * 5 - (0.1) * 4 / 6.7 * 2) * -+(7 * 2.7) / (1.9 * 0 / 5.1 - 8.7 * 6 - 3.4 + 6) + --((5.8)) / ---(3 / 0 + 5 - 6.3) * -(-3.0 * 3.5 * 5.1 - 1 - 7.0 - 7) * +++-9 * 70.1\n",
      "+4 / (+6 / (0.0) * 5 - (0.1) * 4 / 6.7 * 2) * -+(7 * 2.7) / (1.9 * 0 / 5.1 - 8.7 * 6 - 3.4 + 6) + --((5.8)) / ---(3 / 0 + 5 - 6.3) * -(-3.0 * 3.5 * 5.1 - 1 - 7.0 - 7) * +++-9 * 70.1\n",
      "+4 / (+6 / (0.0) * 5 - (0.1) * 4 / 6.7 * 2) * -+(7 * 2.7) / (1.9 * 0 / 5.1 - 8.7 * 6 - 3.4 + 6) + --((5.8)) / ---(3 / 0 + 5 - 6.3) * -(-3.0 * 3.5 * 5.1 - 1 - 7.0 - 7) * +++-9 * 70.1\n",
      "+4 / (+6 / (0.0) * 5 - (0.1) * 4 / 6.7 * 2) * -+(7 * 2.7) / (1.9 * 0 / 5.1 - 8.7 * 6 - 3.4 + 6) + --((5.8)) / ---(3 / 0 + 5 - 6.3) * -(-3.0 * 3.5 * 5.1 - 1 - 7.0 - 7) * +++-9 * 70.1\n",
      "+4 / (+6 / (0.0) * 5 - (0.1) * 4 / 6.7 * 2) * -+(7 * 2.7) / (1.9 * 0 / 5.1 - 8.7 * 6 - 3.4 + 6) + --((5.8)) / ---(3 / 0 + 5 - 6.3) * -(-3.0 * 3.5 * 5.1 - 1 - 7.0 - 7) * +++-9 * 70.1\n",
      "+4 / (+6 / (0.0) * 5 - (0.1) * 4 / 6.7 * 2) * -+(7 * 2.7) / (1.9 * 0 / 5.1 - 8.7 * 6 - 3.4 + 6) + --((5.8)) / ---(3 / 0 + 5 - 6.3) * -(-3.0 * 3.5 * 5.1 - 1 - 7.0 - 7) * +++-9 * 70.1\n",
      "+4 / (+6 / (0.0) * 5 - (0.1) * 4 / 6.7 * 2) * -+(7 * 2.7) / (1.9 * 0 / 5.1 - 8.7 * 6 - 3.4 + 6) + --((5.8)) / ---(3 / 0 + 5 - 6.3) * -(-3.0 * 3.5 * 5.1 - 1 - 7.0 - 7) * +++-9 * 70.1\n",
      "+4 / (+6 / (0.0) * 5 - (0.1) * 4 / 6.7 * 2) * -+(7 * 2.7) / (1.9 * 0 / 5.1 - 8.7 * 6 - 3.4 + 6) + --((5.8)) / ---(3 / 0 + 5 - 6.3) * -(-3.0 * 3.5 * 5.1 - 1 - 7.0 - 7) * +++-9 * 70.1\n",
      "\n",
      "(-++(4 - 6 / 2.2) / (0.7) / 371 + (-3 + 0) / 441 / -1.1 / 8.9 / 6 * 2.9) / +-3 / (+89 / +0.9 * 0 / 7) - +1.3 * 4234.25 * ++---1.1 * 4854 * 408.7 * -(4) * -3.8 + 043370.3 * -(+5 * -+((8)) * 9 + 1 + 2.9) * (2 * 1.1 + 4 / 7.1 + 9 - 9) * +05 + -4 * 018.05 * 8 * (1.1 + 1) * 5 + ++1.52 * (2 / 3.6 + 3.0 - 2) / (8.6) * +1.6 * 7 / 7 - +5.23\n",
      "(-++(4 - 6 / 2.2) / (0.7) / 371 + (-3 + 0) / 441 / -1.1 / 8.9 / 6 * 2.9) / +-3 / (+89 / +0.9 * 0 / 7) - +1.3 * 4234.25 * ++---1.1 * 4854 * 408.7 * -(4) * -3.8 + 043370.3 * -(+5 * -+((8)) * 9 + 1 + 2.9) * (2 * 1.1 + 4 / 7.1 + 9 - 9) * +05 + -4 * 018.05 * 8 * (1.1 + 1) * 5 + ++1.52 * (2 / 3.6 + 3.0 - 2) / (8.6) * +1.6 * 7 / 7 - +5.23\n",
      "(-++(4 - 6 / 2.2) / (0.7) / 371 + (-3 + 0) / 441 / -1.1 / 8.9 / 6 * 2.9) / +-3 / (+89 / +0.9 * 0 / 7) - +1.3 * 4234.25 * ++---1.1 * 4854 * 408.7 * -(4) * -3.8 + 043370.3 * -(+5 * -+((8)) * 9 + 1 + 2.9) * (2 * 1.1 + 4 / 7.1 + 9 - 9) * +05 + -4 * 018.05 * 8 * (1.1 + 1) * 5 + ++1.52 * (2 / 3.6 + 3.0 - 2) / (8.6) * +1.6 * 7 / 7 - +5.23\n",
      "(-++(4 - 6 / 2.2) / (0.7) / 371 + (-3 + 0) / 441 / -1.1 / 8.9 / 6 * 2.9) / +-3 / (+89 / +0.9 * 0 / 7) - +1.3 * 4234.25 * ++---1.1 * 4854 * 408.7 * -(4) * -3.8 + 043370.3 * -(+5 * -+((8)) * 9 + 1 + 2.9) * (2 * 1.1 + 4 / 7.1 + 9 - 9) * +05 + -4 * 018.05 * 8 * (1.1 + 1) * 5 + ++1.52 * (2 / 3.6 + 3.0 - 2) / (8.6) * +1.6 * 7 / 7 - +5.23\n"
     ]
    },
    {
     "name": "stdout",
     "output_type": "stream",
     "text": [
      "(-++(4 - 6 / 2.2) / (0.7) / 371 + (-3 + 0) / 441 / -1.1 / 8.9 / 6 * 2.9) / +-3 / (+89 / +0.9 * 0 / 7) - +1.3 * 4234.25 * ++---1.1 * 4854 * 408.7 * -(4) * -3.8 + 043370.3 * -(+5 * -+((8)) * 9 + 1 + 2.9) * (2 * 1.1 + 4 / 7.1 + 9 - 9) * +05 + -4 * 018.05 * 8 * (1.1 + 1) * 5 + ++1.52 * (2 / 3.6 + 3.0 - 2) / (8.6) * +1.6 * 7 / 7 - +5.23\n",
      "(-++(4 - 6 / 2.2) / (0.7) / 371 + (-3 + 0) / 441 / -1.1 / 8.9 / 6 * 2.9) / +-3 / (+89 / +0.9 * 0 / 7) - +1.3 * 4234.25 * ++---1.1 * 4854 * 408.7 * -(4) * -3.8 + 043370.3 * -(+5 * -+((8)) * 9 + 1 + 2.9) * (2 * 1.1 + 4 / 7.1 + 9 - 9) * +05 + -4 * 018.05 * 8 * (1.1 + 1) * 5 + ++1.52 * (2 / 3.6 + 3.0 - 2) / (8.6) * +1.6 * 7 / 7 - +5.23\n",
      "(-++(4 - 6 / 2.2) / (0.7) / 371 + (-3 + 0) / 441 / -1.1 / 8.9 / 6 * 2.9) / +-3 / (+89 / +0.9 * 0 / 7) - +1.3 * 4234.25 * ++---1.1 * 4854 * 408.7 * -(4) * -3.8 + 043370.3 * -(+5 * -+((8)) * 9 + 1 + 2.9) * (2 * 1.1 + 4 / 7.1 + 9 - 9) * +05 + -4 * 018.05 * 8 * (1.1 + 1) * 5 + ++1.52 * (2 / 3.6 + 3.0 - 2) / (8.6) * +1.6 * 7 / 7 - +5.23\n",
      "(-++(4 - 6 / 2.2) / (0.7) / 371 + (-3 + 0) / 441 / -1.1 / 8.9 / 6 * 2.9) / +-3 / (+89 / +0.9 * 0 / 7) - +1.3 * 4234.25 * ++---1.1 * 4854 * 408.7 * -(4) * -3.8 + 043370.3 * -(+5 * -+((8)) * 9 + 1 + 2.9) * (2 * 1.1 + 4 / 7.1 + 9 - 9) * +05 + -4 * 018.05 * 8 * (1.1 + 1) * 5 + ++1.52 * (2 / 3.6 + 3.0 - 2) / (8.6) * +1.6 * 7 / 7 - +5.23\n",
      "(-++(4 - 6 / 2.2) / (0.7) / 371 + (-3 + 0) / 441 / -1.1 / 8.9 / 6 * 2.9) / +-3 / (+89 / +0.9 * 0 / 7) - +1.3 * 4234.25 * ++---1.1 * 4854 * 408.7 * -(4) * -3.8 + 043370.3 * -(+5 * -+((8)) * 9 + 1 + 2.9) * (2 * 1.1 + 4 / 7.1 + 9 - 9) * +05 + -4 * 018.05 * 8 * (1.1 + 1) * 5 + ++1.52 * (2 / 3.6 + 3.0 - 2) / (8.6) * +1.6 * 7 / 7 - +5.23\n",
      "(-++(4 - 6 / 2.2) / (0.7) / 371 + (-3 + 0) / 441 / -1.1 / 8.9 / 6 * 2.9) / +-3 / (+89 / +0.9 * 0 / 7) - +1.3 * 4234.25 * ++---1.1 * 4854 * 408.7 * -(4) * -3.8 + 043370.3 * -(+5 * -+((8)) * 9 + 1 + 2.9) * (2 * 1.1 + 4 / 7.1 + 9 - 9) * +05 + -4 * 018.05 * 8 * (1.1 + 1) * 5 + ++1.52 * (2 / 3.6 + 3.0 - 2) / (8.6) * +1.6 * 7 / 7 - +5.23\n",
      "(-++(4 - 6 / 2.2) / (0.7) / 371 + (-3 + 0) / 441 / -1.1 / 8.9 / 6 * 2.9) / +-3 / (+89 / +0.9 * 0 / 7) - +1.3 * 4234.25 * ++---1.1 * 4854 * 408.7 * -(4) * -3.8 + 043370.3 * -(+5 * -+((8)) * 9 + 1 + 2.9) * (2 * 1.1 + 4 / 7.1 + 9 - 9) * +05 + -4 * 018.05 * 8 * (1.1 + 1) * 5 + ++1.52 * (2 / 3.6 + 3.0 - 2) / (8.6) * +1.6 * 7 / 7 - +5.23\n",
      "(-++(4 - 6 / 2.2) / (0.7) / 371 + (-3 + 0) / 441 / -1.1 / 8.9 / 6 * 2.9) / +-3 / (+89 / +0.9 * 0 / 7) - +1.3 * 4234.25 * ++---1.1 * 4854 * 408.7 * -(4) * -3.8 + 043370.3 * -(+5 * -+((8)) * 9 + 1 + 2.9) * (2 * 1.1 + 4 / 7.1 + 9 - 9) * +05 + -4 * 018.05 * 8 * (1.1 + 1) * 5 + ++1.52 * (2 / 3.6 + 3.0 - 2) / (8.6) * +1.6 * 7 / 7 - +5.23\n",
      "(-++(4 - 6 / 2.2) / (0.7) / 371 + (-3 + 0) / 441 / -1.1 / 8.9 / 6 * 2.9) / +-3 / (+89 / +0.9 * 0 / 7) - +1.3 * 4234.25 * ++---1.1 * 4854 * 408.7 * -(4) * -3.8 + 043370.3 * -(+5 * -+((8)) * 9 + 1 + 2.9) * (2 * 1.1 + 4 / 7.1 + 9 - 9) * +05 + -4 * 018.05 * 8 * (1.1 + 1) * 5 + ++1.52 * (2 / 3.6 + 3.0 - 2) / (8.6) * +1.6 * 7 / 7 - +5.23\n",
      "(-++(4 - 6 / 2.2) / (0.7) / 371 + (-3 + 0) / 441 / -1.1 / 8.9 / 6 * 2.9) / +-3 / (+89 / +0.9 * 0 / 7) - +1.3 * 4234.25 * ++---1.1 * 4854 * 408.7 * -(4) * -3.8 + 043370.3 * -(+5 * -+((8)) * 9 + 1 + 2.9) * (2 * 1.1 + 4 / 7.1 + 9 - 9) * +05 + -4 * 018.05 * 8 * (1.1 + 1) * 5 + ++1.52 * (2 / 3.6 + 3.0 - 2) / (8.6) * +1.6 * 7 / 7 - +5.23\n",
      "(-++(4 - 6 / 2.2) / (0.7) / 371 + (-3 + 0) / 441 / -1.1 / 8.9 / 6 * 2.9) / +-3 / (+89 / +0.9 * 0 / 7) - +1.3 * 4234.25 * ++---1.1 * 4854 * 408.7 * -(4) * -3.8 + 043370.3 * -(+5 * -+((8)) * 9 + 1 + 2.9) * (2 * 1.1 + 4 / 7.1 + 9 - 9) * +05 + -4 * 018.05 * 8 * (1.1 + 1) * 5 + ++1.52 * (2 / 3.6 + 3.0 - 2) / (8.6) * +1.6 * 7 / 7 - +5.23\n",
      "(-++(4 - 6 / 2.2) / (0.7) / 371 + (-3 + 0) / 441 / -1.1 / 8.9 / 6 * 2.9) / +-3 / (+89 / +0.9 * 0 / 7) - +1.3 * 4234.25 * ++---1.1 * 4854 * 408.7 * -(4) * -3.8 + 043370.3 * -(+5 * -+((8)) * 9 + 1 + 2.9) * (2 * 1.1 + 4 / 7.1 + 9 - 9) * +05 + -4 * 018.05 * 8 * (1.1 + 1) * 5 + ++1.52 * (2 / 3.6 + 3.0 - 2) / (8.6) * +1.6 * 7 / 7 - +5.23\n",
      "(-++(4 - 6 / 2.2) / (0.7) / 371 + (-3 + 0) / 441 / -1.1 / 8.9 / 6 * 2.9) / +-3 / (+89 / +0.9 * 0 / 7) - +1.3 * 4234.25 * ++---1.1 * 4854 * 408.7 * -(4) * -3.8 + 043370.3 * -(+5 * -+((8)) * 9 + 1 + 2.9) * (2 * 1.1 + 4 / 7.1 + 9 - 9) * +05 + -4 * 018.05 * 8 * (1.1 + 1) * 5 + ++1.52 * (2 / 3.6 + 3.0 - 2) / (8.6) * +1.6 * 7 / 7 - +5.23\n",
      "\n",
      "(-7.9 / ---7.8 / -+(9.8) + +372 + -28.9 + +-0.9) * 7.34 / 053.71633 - +((7.6 / 1.8 + 6) * +(6.8 * -((8.3)) / 9.2 - 7) - +(3) * 6 * 2.4 / 3.4 + (7) / 6.1 / 0.7 + 1 * 6.6 - 3 - 1.9) + ((9 / 0.1 - 7 - 4.2) * 9 * 9.1) - 6.19 / -+(0 - 3) * +74 * +8 / (2.0) / 4.6\n",
      "(-7.9 / ---7.8 / -+(9.8) + +372 + -28.9 + +-0.9) * 7.34 / 053.71633 - +((7.6 / 1.8 + 6) * +(6.8 * -((8.3)) / 9.2 - 7) - +(3) * 6 * 2.4 / 3.4 + (7) / 6.1 / 0.7 + 1 * 6.6 - 3 - 1.9) + ((9 / 0.1 - 7 - 4.2) * 9 * 9.1) - 6.19 / -+(0 - 3) * +74 * +8 / (2.0) / 4.6\n",
      "(-7.9 / ---7.8 / -+(9.8) + +372 + -28.9 + +-0.9) * 7.34 / 053.71633 - +((7.6 / 1.8 + 6) * +(6.8 * -((8.3)) / 9.2 - 7) - +(3) * 6 * 2.4 / 3.4 + (7) / 6.1 / 0.7 + 1 * 6.6 - 3 - 1.9) + ((9 / 0.1 - 7 - 4.2) * 9 * 9.1) - 6.19 / -+(0 - 3) * +74 * +8 / (2.0) / 4.6\n",
      "(-7.9 / ---7.8 / -+(9.8) + +372 + -28.9 + +-0.9) * 7.34 / 053.71633 - +((7.6 / 1.8 + 6) * +(6.8 * -((8.3)) / 9.2 - 7) - +(3) * 6 * 2.4 / 3.4 + (7) / 6.1 / 0.7 + 1 * 6.6 - 3 - 1.9) + ((9 / 0.1 - 7 - 4.2) * 9 * 9.1) - 6.19 / -+(0 - 3) * +74 * +8 / (2.0) / 4.6\n",
      "(-7.9 / ---7.8 / -+(9.8) + +372 + -28.9 + +-0.9) * 7.34 / 053.71633 - +((7.6 / 1.8 + 6) * +(6.8 * -((8.3)) / 9.2 - 7) - +(3) * 6 * 2.4 / 3.4 + (7) / 6.1 / 0.7 + 1 * 6.6 - 3 - 1.9) + ((9 / 0.1 - 7 - 4.2) * 9 * 9.1) - 6.19 / -+(0 - 3) * +74 * +8 / (2.0) / 4.6\n",
      "(-7.9 / ---7.8 / -+(9.8) + +372 + -28.9 + +-0.9) * 7.34 / 053.71633 - +((7.6 / 1.8 + 6) * +(6.8 * -((8.3)) / 9.2 - 7) - +(3) * 6 * 2.4 / 3.4 + (7) / 6.1 / 0.7 + 1 * 6.6 - 3 - 1.9) + ((9 / 0.1 - 7 - 4.2) * 9 * 9.1) - 6.19 / -+(0 - 3) * +74 * +8 / (2.0) / 4.6\n",
      "(-7.9 / ---7.8 / -+(9.8) + +372 + -28.9 + +-0.9) * 7.34 / 053.71633 - +((7.6 / 1.8 + 6) * +(6.8 * -((8.3)) / 9.2 - 7) - +(3) * 6 * 2.4 / 3.4 + (7) / 6.1 / 0.7 + 1 * 6.6 - 3 - 1.9) + ((9 / 0.1 - 7 - 4.2) * 9 * 9.1) - 6.19 / -+(0 - 3) * +74 * +8 / (2.0) / 4.6\n",
      "(-7.9 / ---7.8 / -+(9.8) + +372 + -28.9 + +-0.9) * 7.34 / 053.71633 - +((7.6 / 1.8 + 6) * +(6.8 * -((8.3)) / 9.2 - 7) - +(3) * 6 * 2.4 / 3.4 + (7) / 6.1 / 0.7 + 1 * 6.6 - 3 - 1.9) + ((9 / 0.1 - 7 - 4.2) * 9 * 9.1) - 6.19 / -+(0 - 3) * +74 * +8 / (2.0) / 4.6\n",
      "(-7.9 / ---7.8 / -+(9.8) + +372 + -28.9 + +-0.9) * 7.34 / 053.71633 - +((7.6 / 1.8 + 6) * +(6.8 * -((8.3)) / 9.2 - 7) - +(3) * 6 * 2.4 / 3.4 + (7) / 6.1 / 0.7 + 1 * 6.6 - 3 - 1.9) + ((9 / 0.1 - 7 - 4.2) * 9 * 9.1) - 6.19 / -+(0 - 3) * +74 * +8 / (2.0) / 4.6\n",
      "(-7.9 / ---7.8 / -+(9.8) + +372 + -28.9 + +-0.9) * 7.34 / 053.71633 - +((7.6 / 1.8 + 6) * +(6.8 * -((8.3)) / 9.2 - 7) - +(3) * 6 * 2.4 / 3.4 + (7) / 6.1 / 0.7 + 1 * 6.6 - 3 - 1.9) + ((9 / 0.1 - 7 - 4.2) * 9 * 9.1) - 6.19 / -+(0 - 3) * +74 * +8 / (2.0) / 4.6\n",
      "(-7.9 / ---7.8 / -+(9.8) + +372 + -28.9 + +-0.9) * 7.34 / 053.71633 - +((7.6 / 1.8 + 6) * +(6.8 * -((8.3)) / 9.2 - 7) - +(3) * 6 * 2.4 / 3.4 + (7) / 6.1 / 0.7 + 1 * 6.6 - 3 - 1.9) + ((9 / 0.1 - 7 - 4.2) * 9 * 9.1) - 6.19 / -+(0 - 3) * +74 * +8 / (2.0) / 4.6\n",
      "(-7.9 / ---7.8 / -+(9.8) + +372 + -28.9 + +-0.9) * 7.34 / 053.71633 - +((7.6 / 1.8 + 6) * +(6.8 * -((8.3)) / 9.2 - 7) - +(3) * 6 * 2.4 / 3.4 + (7) / 6.1 / 0.7 + 1 * 6.6 - 3 - 1.9) + ((9 / 0.1 - 7 - 4.2) * 9 * 9.1) - 6.19 / -+(0 - 3) * +74 * +8 / (2.0) / 4.6\n",
      "(-7.9 / ---7.8 / -+(9.8) + +372 + -28.9 + +-0.9) * 7.34 / 053.71633 - +((7.6 / 1.8 + 6) * +(6.8 * -((8.3)) / 9.2 - 7) - +(3) * 6 * 2.4 / 3.4 + (7) / 6.1 / 0.7 + 1 * 6.6 - 3 - 1.9) + ((9 / 0.1 - 7 - 4.2) * 9 * 9.1) - 6.19 / -+(0 - 3) * +74 * +8 / (2.0) / 4.6\n",
      "(-7.9 / ---7.8 / -+(9.8) + +372 + -28.9 + +-0.9) * 7.34 / 053.71633 - +((7.6 / 1.8 + 6) * +(6.8 * -((8.3)) / 9.2 - 7) - +(3) * 6 * 2.4 / 3.4 + (7) / 6.1 / 0.7 + 1 * 6.6 - 3 - 1.9) + ((9 / 0.1 - 7 - 4.2) * 9 * 9.1) - 6.19 / -+(0 - 3) * +74 * +8 / (2.0) / 4.6\n",
      "(-7.9 / ---7.8 / -+(9.8) + +372 + -28.9 + +-0.9) * 7.34 / 053.71633 - +((7.6 / 1.8 + 6) * +(6.8 * -((8.3)) / 9.2 - 7) - +(3) * 6 * 2.4 / 3.4 + (7) / 6.1 / 0.7 + 1 * 6.6 - 3 - 1.9) + ((9 / 0.1 - 7 - 4.2) * 9 * 9.1) - 6.19 / -+(0 - 3) * +74 * +8 / (2.0) / 4.6\n",
      "(-7.9 / ---7.8 / -+(9.8) + +372 + -28.9 + +-0.9) * 7.34 / 053.71633 - +((7.6 / 1.8 + 6) * +(6.8 * -((8.3)) / 9.2 - 7) - +(3) * 6 * 2.4 / 3.4 + (7) / 6.1 / 0.7 + 1 * 6.6 - 3 - 1.9) + ((9 / 0.1 - 7 - 4.2) * 9 * 9.1) - 6.19 / -+(0 - 3) * +74 * +8 / (2.0) / 4.6\n",
      "\n",
      "5 * +(52.02) * ---(+((1.0 + 9.1 + 5.7 * --((((1)) / 6 - 8.8) * 6 + 0) / 2 + 1.5) / 5 + 7) / 8 + 4) * 360.7 / 4 / -78 / 4 * +1.1 / 9.9 + (+5.82 * 8.3 * 3 / 8.3 / 7.5) / -587 - (+7 / +(1.2) / (8.9) * 4.7 * 8.6 + +(8) - (8) / 7 * 6.9) * 3\n",
      "5 * +(52.02) * ---(+((1.0 + 9.1 + 5.7 * --((((1)) / 6 - 8.8) * 6 + 0) / 2 + 1.5) / 5 + 7) / 8 + 4) * 360.7 / 4 / -78 / 4 * +1.1 / 9.9 + (+5.82 * 8.3 * 3 / 8.3 / 7.5) / -587 - (+7 / +(1.2) / (8.9) * 4.7 * 8.6 + +(8) - (8) / 7 * 6.9) * 3\n",
      "5 * +(52.02) * ---(+((1.0 + 9.1 + 5.7 * --((((1)) / 6 - 8.8) * 6 + 0) / 2 + 1.5) / 5 + 7) / 8 + 4) * 360.7 / 4 / -78 / 4 * +1.1 / 9.9 + (+5.82 * 8.3 * 3 / 8.3 / 7.5) / -587 - (+7 / +(1.2) / (8.9) * 4.7 * 8.6 + +(8) - (8) / 7 * 6.9) * 3\n"
     ]
    },
    {
     "name": "stdout",
     "output_type": "stream",
     "text": [
      "5 * +(52.02) * ---(+((1.0 + 9.1 + 5.7 * --((((1)) / 6 - 8.8) * 6 + 0) / 2 + 1.5) / 5 + 7) / 8 + 4) * 360.7 / 4 / -78 / 4 * +1.1 / 9.9 + (+5.82 * 8.3 * 3 / 8.3 / 7.5) / -587 - (+7 / +(1.2) / (8.9) * 4.7 * 8.6 + +(8) - (8) / 7 * 6.9) * 3\n",
      "5 * +(52.02) * ---(+((1.0 + 9.1 + 5.7 * --((((1)) / 6 - 8.8) * 6 + 0) / 2 + 1.5) / 5 + 7) / 8 + 4) * 360.7 / 4 / -78 / 4 * +1.1 / 9.9 + (+5.82 * 8.3 * 3 / 8.3 / 7.5) / -587 - (+7 / +(1.2) / (8.9) * 4.7 * 8.6 + +(8) - (8) / 7 * 6.9) * 3\n",
      "5 * +(52.02) * ---(+((1.0 + 9.1 + 5.7 * --((((1)) / 6 - 8.8) * 6 + 0) / 2 + 1.5) / 5 + 7) / 8 + 4) * 360.7 / 4 / -78 / 4 * +1.1 / 9.9 + (+5.82 * 8.3 * 3 / 8.3 / 7.5) / -587 - (+7 / +(1.2) / (8.9) * 4.7 * 8.6 + +(8) - (8) / 7 * 6.9) * 3\n",
      "5 * +(52.02) * ---(+((1.0 + 9.1 + 5.7 * --((((1)) / 6 - 8.8) * 6 + 0) / 2 + 1.5) / 5 + 7) / 8 + 4) * 360.7 / 4 / -78 / 4 * +1.1 / 9.9 + (+5.82 * 8.3 * 3 / 8.3 / 7.5) / -587 - (+7 / +(1.2) / (8.9) * 4.7 * 8.6 + +(8) - (8) / 7 * 6.9) * 3\n",
      "5 * +(52.02) * ---(+((1.0 + 9.1 + 5.7 * --((((1)) / 6 - 8.8) * 6 + 0) / 2 + 1.5) / 5 + 7) / 8 + 4) * 360.7 / 4 / -78 / 4 * +1.1 / 9.9 + (+5.82 * 8.3 * 3 / 8.3 / 7.5) / -587 - (+7 / +(1.2) / (8.9) * 4.7 * 8.6 + +(8) - (8) / 7 * 6.9) * 3\n",
      "5 * +(52.02) * ---(+((1.0 + 9.1 + 5.7 * --((((1)) / 6 - 8.8) * 6 + 0) / 2 + 1.5) / 5 + 7) / 8 + 4) * 360.7 / 4 / -78 / 4 * +1.1 / 9.9 + (+5.82 * 8.3 * 3 / 8.3 / 7.5) / -587 - (+7 / +(1.2) / (8.9) * 4.7 * 8.6 + +(8) - (8) / 7 * 6.9) * 3\n",
      "5 * +(52.02) * ---(+((1.0 + 9.1 + 5.7 * --((((1)) / 6 - 8.8) * 6 + 0) / 2 + 1.5) / 5 + 7) / 8 + 4) * 360.7 / 4 / -78 / 4 * +1.1 / 9.9 + (+5.82 * 8.3 * 3 / 8.3 / 7.5) / -587 - (+7 / +(1.2) / (8.9) * 4.7 * 8.6 + +(8) - (8) / 7 * 6.9) * 3\n",
      "5 * +(52.02) * ---(+((1.0 + 9.1 + 5.7 * --((((1)) / 6 - 8.8) * 6 + 0) / 2 + 1.5) / 5 + 7) / 8 + 4) * 360.7 / 4 / -78 / 4 * +1.1 / 9.9 + (+5.82 * 8.3 * 3 / 8.3 / 7.5) / -587 - (+7 / +(1.2) / (8.9) * 4.7 * 8.6 + +(8) - (8) / 7 * 6.9) * 3\n",
      "5 * +(52.02) * ---(+((1.0 + 9.1 + 5.7 * --((((1)) / 6 - 8.8) * 6 + 0) / 2 + 1.5) / 5 + 7) / 8 + 4) * 360.7 / 4 / -78 / 4 * +1.1 / 9.9 + (+5.82 * 8.3 * 3 / 8.3 / 7.5) / -587 - (+7 / +(1.2) / (8.9) * 4.7 * 8.6 + +(8) - (8) / 7 * 6.9) * 3\n",
      "5 * +(52.02) * ---(+((1.0 + 9.1 + 5.7 * --((((1)) / 6 - 8.8) * 6 + 0) / 2 + 1.5) / 5 + 7) / 8 + 4) * 360.7 / 4 / -78 / 4 * +1.1 / 9.9 + (+5.82 * 8.3 * 3 / 8.3 / 7.5) / -587 - (+7 / +(1.2) / (8.9) * 4.7 * 8.6 + +(8) - (8) / 7 * 6.9) * 3\n",
      "\n",
      "(-+593 / (+((2)) * 5.5 / 2 - 8 / 3 + 8.5 + 6.9) / -+(0 / 5)) - (-1.860 - 21 / (4) * 3.2 / 2 / 8)\n",
      "(-+593 / (+((2)) * 5.5 / 2 - 8 / 3 + 8.5 + 6.9) / -+(0 / 5)) - (-1.860 - 21 / (4) * 3.2 / 2 / 8)\n",
      "(-+593 / (+((2)) * 5.5 / 2 - 8 / 3 + 8.5 + 6.9) / -+(0 / 5)) - (-1.860 - 21 / (4) * 3.2 / 2 / 8)\n",
      "(-+593 / (+((2)) * 5.5 / 2 - 8 / 3 + 8.5 + 6.9) / -+(0 / 5)) - (-1.860 - 21 / (4) * 3.2 / 2 / 8)\n",
      "(-+593 / (+((2)) * 5.5 / 2 - 8 / 3 + 8.5 + 6.9) / -+(0 / 5)) - (-1.860 - 21 / (4) * 3.2 / 2 / 8)\n",
      "(-+593 / (+((2)) * 5.5 / 2 - 8 / 3 + 8.5 + 6.9) / -+(0 / 5)) - (-1.860 - 21 / (4) * 3.2 / 2 / 8)\n",
      "(-+593 / (+((2)) * 5.5 / 2 - 8 / 3 + 8.5 + 6.9) / -+(0 / 5)) - (-1.860 - 21 / (4) * 3.2 / 2 / 8)\n",
      "(-+593 / (+((2)) * 5.5 / 2 - 8 / 3 + 8.5 + 6.9) / -+(0 / 5)) - (-1.860 - 21 / (4) * 3.2 / 2 / 8)\n",
      "(-+593 / (+((2)) * 5.5 / 2 - 8 / 3 + 8.5 + 6.9) / -+(0 / 5)) - (-1.860 - 21 / (4) * 3.2 / 2 / 8)\n",
      "\n",
      "((+(2 / 3) / 8.2))\n",
      "((+(2 / 3) / 8.2))\n",
      "((+(2 / 3) / 8.2))\n",
      "((+(2 / 3) / 8.2))\n",
      "((+(2 / 3) / 8.2))\n",
      "((+(2 / 3) / 8.2))\n",
      "\n",
      "---(((3)) - -8.1 / 8 - 8.1 / 0) + 1 / 8.53 / 763 - ((4 * 1 + 3 + 0) / --0 * 4 * 2.7 * 5 + 6 * 0.9 - 3 * 5.6) * +((5.0) / 2 * 3.7 + 1 * 7 - 4.6 + 2) * 27 * (2 - 8 + 8) * 5.5 / 4 + 4 / 0.7 + -(4.2 / 8.5 + 0.2 + 9) * 8 / 78 * (9) * 4 + +-1.4 / 50.07 - 69\n",
      "---(((3)) - -8.1 / 8 - 8.1 / 0) + 1 / 8.53 / 763 - ((4 * 1 + 3 + 0) / --0 * 4 * 2.7 * 5 + 6 * 0.9 - 3 * 5.6) * +((5.0) / 2 * 3.7 + 1 * 7 - 4.6 + 2) * 27 * (2 - 8 + 8) * 5.5 / 4 + 4 / 0.7 + -(4.2 / 8.5 + 0.2 + 9) * 8 / 78 * (9) * 4 + +-1.4 / 50.07 - 69\n",
      "---(((3)) - -8.1 / 8 - 8.1 / 0) + 1 / 8.53 / 763 - ((4 * 1 + 3 + 0) / --0 * 4 * 2.7 * 5 + 6 * 0.9 - 3 * 5.6) * +((5.0) / 2 * 3.7 + 1 * 7 - 4.6 + 2) * 27 * (2 - 8 + 8) * 5.5 / 4 + 4 / 0.7 + -(4.2 / 8.5 + 0.2 + 9) * 8 / 78 * (9) * 4 + +-1.4 / 50.07 - 69\n",
      "---(((3)) - -8.1 / 8 - 8.1 / 0) + 1 / 8.53 / 763 - ((4 * 1 + 3 + 0) / --0 * 4 * 2.7 * 5 + 6 * 0.9 - 3 * 5.6) * +((5.0) / 2 * 3.7 + 1 * 7 - 4.6 + 2) * 27 * (2 - 8 + 8) * 5.5 / 4 + 4 / 0.7 + -(4.2 / 8.5 + 0.2 + 9) * 8 / 78 * (9) * 4 + +-1.4 / 50.07 - 69\n",
      "---(((3)) - -8.1 / 8 - 8.1 / 0) + 1 / 8.53 / 763 - ((4 * 1 + 3 + 0) / --0 * 4 * 2.7 * 5 + 6 * 0.9 - 3 * 5.6) * +((5.0) / 2 * 3.7 + 1 * 7 - 4.6 + 2) * 27 * (2 - 8 + 8) * 5.5 / 4 + 4 / 0.7 + -(4.2 / 8.5 + 0.2 + 9) * 8 / 78 * (9) * 4 + +-1.4 / 50.07 - 69\n",
      "---(((3)) - -8.1 / 8 - 8.1 / 0) + 1 / 8.53 / 763 - ((4 * 1 + 3 + 0) / --0 * 4 * 2.7 * 5 + 6 * 0.9 - 3 * 5.6) * +((5.0) / 2 * 3.7 + 1 * 7 - 4.6 + 2) * 27 * (2 - 8 + 8) * 5.5 / 4 + 4 / 0.7 + -(4.2 / 8.5 + 0.2 + 9) * 8 / 78 * (9) * 4 + +-1.4 / 50.07 - 69\n",
      "---(((3)) - -8.1 / 8 - 8.1 / 0) + 1 / 8.53 / 763 - ((4 * 1 + 3 + 0) / --0 * 4 * 2.7 * 5 + 6 * 0.9 - 3 * 5.6) * +((5.0) / 2 * 3.7 + 1 * 7 - 4.6 + 2) * 27 * (2 - 8 + 8) * 5.5 / 4 + 4 / 0.7 + -(4.2 / 8.5 + 0.2 + 9) * 8 / 78 * (9) * 4 + +-1.4 / 50.07 - 69\n",
      "---(((3)) - -8.1 / 8 - 8.1 / 0) + 1 / 8.53 / 763 - ((4 * 1 + 3 + 0) / --0 * 4 * 2.7 * 5 + 6 * 0.9 - 3 * 5.6) * +((5.0) / 2 * 3.7 + 1 * 7 - 4.6 + 2) * 27 * (2 - 8 + 8) * 5.5 / 4 + 4 / 0.7 + -(4.2 / 8.5 + 0.2 + 9) * 8 / 78 * (9) * 4 + +-1.4 / 50.07 - 69\n",
      "---(((3)) - -8.1 / 8 - 8.1 / 0) + 1 / 8.53 / 763 - ((4 * 1 + 3 + 0) / --0 * 4 * 2.7 * 5 + 6 * 0.9 - 3 * 5.6) * +((5.0) / 2 * 3.7 + 1 * 7 - 4.6 + 2) * 27 * (2 - 8 + 8) * 5.5 / 4 + 4 / 0.7 + -(4.2 / 8.5 + 0.2 + 9) * 8 / 78 * (9) * 4 + +-1.4 / 50.07 - 69\n",
      "---(((3)) - -8.1 / 8 - 8.1 / 0) + 1 / 8.53 / 763 - ((4 * 1 + 3 + 0) / --0 * 4 * 2.7 * 5 + 6 * 0.9 - 3 * 5.6) * +((5.0) / 2 * 3.7 + 1 * 7 - 4.6 + 2) * 27 * (2 - 8 + 8) * 5.5 / 4 + 4 / 0.7 + -(4.2 / 8.5 + 0.2 + 9) * 8 / 78 * (9) * 4 + +-1.4 / 50.07 - 69\n",
      "---(((3)) - -8.1 / 8 - 8.1 / 0) + 1 / 8.53 / 763 - ((4 * 1 + 3 + 0) / --0 * 4 * 2.7 * 5 + 6 * 0.9 - 3 * 5.6) * +((5.0) / 2 * 3.7 + 1 * 7 - 4.6 + 2) * 27 * (2 - 8 + 8) * 5.5 / 4 + 4 / 0.7 + -(4.2 / 8.5 + 0.2 + 9) * 8 / 78 * (9) * 4 + +-1.4 / 50.07 - 69\n",
      "---(((3)) - -8.1 / 8 - 8.1 / 0) + 1 / 8.53 / 763 - ((4 * 1 + 3 + 0) / --0 * 4 * 2.7 * 5 + 6 * 0.9 - 3 * 5.6) * +((5.0) / 2 * 3.7 + 1 * 7 - 4.6 + 2) * 27 * (2 - 8 + 8) * 5.5 / 4 + 4 / 0.7 + -(4.2 / 8.5 + 0.2 + 9) * 8 / 78 * (9) * 4 + +-1.4 / 50.07 - 69\n",
      "\n"
     ]
    }
   ],
   "source": [
    "for i in range(10):\n",
    "    s = G_and_A_and_B_and_C_f.fuzz(key=G_and_A_and_B_and_C_s)\n",
    "    for t in G_and_A_and_B_and_C_p.parse(s):\n",
    "        print(tree_to_str(t))\n",
    "    for t in G_and_A_and_B_p.parse(s):\n",
    "        print(tree_to_str(t))\n",
    "    for t in G_and_A_p.parse(s):\n",
    "        print(tree_to_str(t))\n",
    "    for t in G_and_B_p.parse(s):\n",
    "        print(tree_to_str(t))\n",
    "    for t in G_and_C_p.parse(s):\n",
    "        print(tree_to_str(t))\n",
    "    print()"
   ]
  },
  {
   "cell_type": "markdown",
   "metadata": {},
   "source": [
    "### G & A & -A"
   ]
  },
  {
   "cell_type": "markdown",
   "metadata": {},
   "source": [
    "Should be empty"
   ]
  },
  {
   "cell_type": "code",
   "execution_count": 232,
   "metadata": {},
   "outputs": [
    {
     "name": "stdout",
     "output_type": "stream",
     "text": [
      "<expr F1-L12_1>\n",
      "<expr F1> <expr L12_1>\n",
      "<expr -L12_1>\n",
      "<expr> <expr L12_1>\n",
      "<expr L1_1-L12_1>\n",
      "<expr L1_1> <expr L12_1>\n",
      "<expr -L12_1>\n",
      "<expr> <expr L12_1>\n",
      "<term F1-L12_1>\n",
      "<term F1> <term L12_1>\n",
      "<term -L12_1>\n",
      "<term> <term L12_1>\n",
      "<term L1_1-L12_1>\n",
      "<term L1_1> <term L12_1>\n",
      "The key (<term L1_1-L12_1>) is empty; it should be removed\n",
      "<term -L12_1>\n",
      "<term> <term L12_1>\n"
     ]
    }
   ],
   "source": [
    "G_and_A_and_negA_s, G_and_A_and_negA_g = neg_abstraction(G_and_A_g, G_and_A_s, abs_faultA);"
   ]
  },
  {
   "cell_type": "code",
   "execution_count": 233,
   "metadata": {},
   "outputs": [
    {
     "data": {
      "text/plain": [
       "('<start F1>', {})"
      ]
     },
     "execution_count": 233,
     "metadata": {},
     "output_type": "execute_result"
    }
   ],
   "source": [
    "G_and_A_and_negA_s, G_and_A_and_negA_g"
   ]
  },
  {
   "cell_type": "markdown",
   "metadata": {},
   "source": [
    "## Exactly one fault"
   ]
  },
  {
   "cell_type": "markdown",
   "metadata": {},
   "source": [
    "Previously, we showed how one could guarantee _at least_ one fault in the input produced. This is a bit unsatisfying; Now we show how to modify the fault insertion so that _exactly_ one fault is introduced. The idea is that when we introduce a fault in a given token each applicable rule, ensure that the fault is negated in the other applicable tokens.\n",
    "\n",
    "The idea is as follows: First, run the `negate_fault_from_grammar()` which produces a negated grammar that does not contain a fault. (In particular, it produces a grammar where the keys that could have contained a fault is marked by the first `negated_names` that we get from the `negate_matched_keys_from_grammar`. These are the positions that one could insert faults.)\n",
    "\n",
    "We keep the negated grammar, and next, run the `insert_into_key`, with a change: Each pos in the rule that is not currently selected will be replaced with the negated key."
   ]
  },
  {
   "cell_type": "code",
   "execution_count": 234,
   "metadata": {},
   "outputs": [],
   "source": [
    "def to_neg_key(key, prefix):\n",
    "    pattern_name = mark_faulty_name(key, prefix, 1)\n",
    "    return negate_name(key, pattern_name)"
   ]
  },
  {
   "cell_type": "code",
   "execution_count": 235,
   "metadata": {},
   "outputs": [],
   "source": [
    "def insert_into_key(grammar, key, fsym, fsym_matches, prefix, reachable, negate_prefix):\n",
    "    def make_token(t, i, pos, positions):\n",
    "        if i == pos:\n",
    "            return to_faulty_key(t, prefix)\n",
    "        elif i in positions:\n",
    "            return to_neg_key(t, negate_prefix)\n",
    "        return t\n",
    "\n",
    "    rules = grammar[key]\n",
    "    my_rules = []\n",
    "    for rule in grammar[key]:\n",
    "        # if there are fsym_matches, then the fault is already inserted.\n",
    "        # Leave the rule alone.\n",
    "        positions = []\n",
    "        for fsym_m in fsym_matches:\n",
    "            m_positions = get_insertable_positions(rule, fsym_m, reachable)\n",
    "            positions.extend(m_positions)\n",
    "        # fsym_matches are those tokens that already embed the fault. Hence, no\n",
    "        # fault insertion necessary\n",
    "        if positions:\n",
    "            my_rules.append(rule)                  \n",
    "        else:\n",
    "            positions = get_insertable_positions(rule, fsym, reachable)\n",
    "            if not positions: # make it len(positions) >= n if necessary\n",
    "                # skip this rule because we can not embed the fault here.\n",
    "                continue\n",
    "            else:\n",
    "                # at each position, insert the fsym\n",
    "                for pos in positions:\n",
    "                    # fault is inserted at pos\n",
    "                    new_rule = [make_token(t, i,pos, positions) for i,t in enumerate(rule)]\n",
    "                    # we also need to change other positions in the rule\n",
    "                    my_rules.append(new_rule)\n",
    "    return (to_faulty_key(key, prefix), my_rules)"
   ]
  },
  {
   "cell_type": "code",
   "execution_count": 236,
   "metadata": {},
   "outputs": [],
   "source": [
    "def insert_into_grammar(grammar, new_grammar, fsym, fsym_matches, prefix_f, reachable, negated_grammar):\n",
    "    for key in grammar:\n",
    "        fk, rules = insert_into_key(grammar, key, fsym, fsym_matches, prefix_f, reachable, negated_grammar)\n",
    "        if not rules: continue # no applicable rules\n",
    "        if fk not in new_grammar:\n",
    "            new_grammar[fk] = []\n",
    "        new_grammar[fk].extend(rules)\n",
    "    return remove_duplicate_rules(new_grammar)"
   ]
  },
  {
   "cell_type": "code",
   "execution_count": 237,
   "metadata": {},
   "outputs": [],
   "source": [
    "def get_undefined_keys(grammar):\n",
    "    undefined = set()\n",
    "    for k in grammar:\n",
    "        for rule in grammar[k]:\n",
    "            for t in rule:\n",
    "                if is_nt(t) and t not in grammar:\n",
    "                    undefined.add(t)\n",
    "    return undefined\n",
    " "
   ]
  },
  {
   "cell_type": "code",
   "execution_count": 238,
   "metadata": {},
   "outputs": [],
   "source": [
    "def get_faulty_grammar(grammar, start_symbol, fault_node, f_idx):\n",
    "    def L_prefix(i): return '%d' % i\n",
    "    def F_prefix(i): return '%d' % i\n",
    "    prefix_l = L_prefix(f_idx)\n",
    "    prefix_f = F_prefix(f_idx)\n",
    "    key_f = fault_node[0]\n",
    "    # first, get the negated grammar\n",
    "    negate_prefix = 'NEG'\n",
    "    negated_grammar = negate_fault_from_grammar(grammar, fault_node, negate_prefix)\n",
    "    for k in negated_grammar:\n",
    "        print('>>', k)\n",
    "        \n",
    "    # First, get the linear grammar\n",
    "\n",
    "    g = faulty_node_to_linear_grammar(fault_node, prefix_l)\n",
    "    new_grammar = {**g, **grammar}\n",
    "    \n",
    "    reachable = reachable_dict(grammar)\n",
    "    similar_nodes = similar_nodes_to_cnode(grammar, fault_node)\n",
    "    # the new grammar contains the faulty keys and their definitions.\n",
    "    # next, want to insert the fault prefix_f into each insertable positions. \n",
    "    # the insertable locations are those that can reach fsym\n",
    "    insert_into_grammar(grammar, new_grammar, key_f, similar_nodes, prefix_f, reachable, negate_prefix)\n",
    "\n",
    "    # now, the faulty key is an alternative to the original\n",
    "    fkey = mark_faulty_name(key_f, prefix_l, 1) # the starting in make_faulty is 1\n",
    "    fsym = to_faulty_key(key_f, prefix_f)\n",
    "    new_grammar[fsym].append([fkey])\n",
    "    \n",
    "    new_start_symbol = to_faulty_key(start_symbol, F_prefix(f_idx))\n",
    "    \n",
    "    # now, fill in the blanks from the negated grammar.\n",
    "    negated = get_undefined_keys(new_grammar)\n",
    "    for k in negated:\n",
    "        new_grammar[k] = negated_grammar[k]\n",
    "    return new_start_symbol, grammar_gc(new_grammar, new_start_symbol)"
   ]
  },
  {
   "cell_type": "code",
   "execution_count": 239,
   "metadata": {},
   "outputs": [
    {
     "name": "stdout",
     "output_type": "stream",
     "text": [
      "<expr -LNEG_1>\n",
      "<expr> <expr LNEG_1>\n",
      "<term -LNEG_1>\n",
      "<term> <term LNEG_1>\n",
      ">> <start>\n",
      ">> <expr>\n",
      ">> <term>\n",
      ">> <factor -LNEG_1>\n",
      ">> <factor>\n",
      ">> <integer>\n",
      ">> <digit>\n",
      ">> <expr -LNEG_1>\n",
      ">> <term -LNEG_1>\n",
      "Stripping: ['<start>']\n"
     ]
    }
   ],
   "source": [
    "E_G_and_A_s, E_G_and_A_g =  and_abstraction(my_grammar, my_start, faulty_node1)"
   ]
  },
  {
   "cell_type": "code",
   "execution_count": 240,
   "metadata": {},
   "outputs": [],
   "source": [
    "E_G_and_A_f = LimitFuzzer(E_G_and_A_g)\n",
    "E_G_and_A_p = Parser(E_G_and_A_g, canonical=True, start_symbol=E_G_and_A_s)"
   ]
  },
  {
   "cell_type": "code",
   "execution_count": 241,
   "metadata": {},
   "outputs": [
    {
     "name": "stdout",
     "output_type": "stream",
     "text": [
      "--(+-(4 + 3 + 2) + +5 * +8.3 + 8 - 6.6 * 9.2 - 3.3 - 1 - 3.7 + 6.4 - 5.7 + 2.0) * 1990983 * 8.98 * -3 + (+(8.4 / 7.4) / 6.167 + 8.871 / 5 / (0) * 9.9) / ++-541.8 / --3 * ((8.4 - 1) * 6 / 0.8 - 5 / 3.0) / 1.433 * +-1 + (+7) / 29.838 * 71 / (2 * 0) * (3 + 3) / -3 / 3.5 + 3.80 / 191 * +(3 - 7) + (+1 * 3.4 + (5.8 * (2 / -(9 / 0 + +(0.5 * 3 * +(2 * +(7.1 / 4 + +((5.3 - 8)) / 0 / 3.4 - 6 - 5.6 + 9 + 8.8 + 9) - 5 * 4.2)) / 7 * 5) + 0 * 3.9) / 9.0 * 7.7) + 0.3 / 3) + (9 / 1.0 - 0 - 5) * (3.8 - 5) / 5\n",
      "\n",
      "+553.0 / (((1.9 - 3.7 - 1)) * 642.62 / 1 - +91 * ++0 / +6 * 4 - +9.4 / -3.6 * 1.6 / 5) * 8 / 227.6 - 4518481.7368224 / +((8 + 3.8)) + 5.0 / 2.62\n",
      "+553.0 / (((1.9 - 3.7 - 1)) * 642.62 / 1 - +91 * ++0 / +6 * 4 - +9.4 / -3.6 * 1.6 / 5) * 8 / 227.6 - 4518481.7368224 / +((8 + 3.8)) + 5.0 / 2.62\n",
      "\n",
      "++(+(3 / 4 / 3 * (++(0 / -(8.6 / 2.8 - -((7.9)) * 4 * 6 + 6.8 * 2.7) - 3.8 + 8.1 - 2.2 - 6.8) / 5 * 9) * 5.8 / 1.3) * 30.5 * (5 + 4 - 3.1 - 4 - 0 - 1.5) * 2.2 - +(1.6) / -6.4 / 3.9 / 3) * (-(6 + 9.3 + 0.1 - 9.8 - 3.8 + 7.7) / 3.8 / 0.66 / 9.2 - -7.9 / 4.41 * 7.1 / 1 / 2.6 + -+5.2 * -9.3 * 6.8 * 9 - (5.9 - 1.5)) * -87.73 + 30.5191 * 7.6 * 3 / 5.563 / 7.7 + +((9.5 + 5.1) * +4.9) / 6.5\n",
      "\n",
      "+5382 * --((7 - 5 + 9) + 1.1 * 7.7 - 0 / 3 + 3.2) * --+-48 * -4 * (-1.2 / 6 + 7.8 * 4.7) / 707 * 3.38 / (6) * 8 + +(-44.4 * -9 * +++((7.0)) + 2.80 * 2 * 5.2 / 9.5) * 59.82 * ((2.9 + 6.3) - 0.2 / 9 - 9 * 6.9 - 4.8 + 0 - 1.5 - 1) * -2.32 * 6 - 9.19 / 3.7\n",
      "\n",
      "-((8 * 0.4 - 0 + 7.3 + 1.9 + 9.8)) * 0.5 / 2.7 * 4.016 / 6.83 * 924.51 / 19 / -4.3 + 2.090 + 84.13306 + (78 / 2 * 8 * 1 + 6 / 7 / 8.7 - 1 * 2 + 1 - 9.9 - 5.5 + 5.4) * 4 * 478.8 - 1 / (2 * 7 - 5 + 4.4 - 2.0 - 9.8) + +6 + +-8 / -6 + -1 + 9.7 * 4 - 1\n",
      "\n",
      "9 * +((1.7)) / -+--6.08 / +8.3 + +2 + -(+(0) * 2 + 3.9 * 5 / 1.7) * +950.69 / ((5) + 1.2 / 9.9 - 2 - 5.6 + 8.5) / --6.6 / ++0 * (3.9 + 7.7 + 1 + 6 - 0) * 1\n",
      "\n",
      "++(--0 / 1.93 * -2 * 7.1 / 3 + +-2 / 7.1 * 7 * 0.4 - 3.5 / 2.6 * 7.1 - 5 / 8.3 + -((0 / 9 - ((6)) + 4 - 9) / 6.3 * 4 - 4.0 / 5.5) - 1 + 0 + 5.9) / 3 * 746 + (+09 + 49.0 / 64 / 7.7 * 9.3 * 6 + +-3.7 / 6.8 / 4 + +1.2 / 8 / 5 + 5 / 0.1) / +834 * (3 - (0 + 3 - 0) * 4 * 6) * (-5.6 * 4)\n",
      "\n",
      "3408 / +(+++5 * 15 / -9.5 + -((1 - 4 - 1 - 4.4 + 7 + 7 - 2.9)) * (1) / 8 + +8 / 1 / 7) * (-87.0 * (8.0) * 9.2 + -6.3 * +4 / 8 * 2.3) * 3863.4\n",
      "\n",
      "(4 + -(6 * 4.4 + 2) * -6.9 * (3 - 0)) / 3 / ++((0)) - -(-43 / -+8 * +6.1 / 7 * 0.3 + --5 * -0.7 - 7.5 * 4.9 / 4.8 - 7.2 * 7 + 8 - 4 - 4) / (8.2 / -9 / -5.1) / -+-+2\n",
      "\n",
      "158.104 / ((2.0 / 3.2 + 5 - 1 + 3)) * 442 * 34 * 7.8 / 3.4 / 4.9 * -5 / 8.3 / 3.0 + +++(-8 / 9.1 / 4.7 + 7 * 2) / +90\n",
      "\n"
     ]
    }
   ],
   "source": [
    "for i in range(10):\n",
    "    s = E_G_and_A_f.fuzz(key=E_G_and_A_s)\n",
    "    for t in E_G_and_A_p.parse(s):\n",
    "        print(tree_to_str(t))\n",
    "    print()"
   ]
  },
  {
   "cell_type": "markdown",
   "metadata": {},
   "source": [
    "## Disjunctions\n",
    "\n",
    "The idea here is to produce a merge of both grammars. Next, produce a partial order of related nonterminals. Then, look at the rules of each nonterminal, and remove the rules which are strictly more refined than another rule, where strictly more refined means that each token in the rule as either an equal or a laxer definition in the other rule."
   ]
  },
  {
   "cell_type": "code",
   "execution_count": 242,
   "metadata": {},
   "outputs": [],
   "source": [
    "def compare_rule(ruleA, ruleB, porder, grammar):\n",
    "    if len(ruleA) != len(ruleB):\n",
    "        return -1\n",
    "    for a, b in zip(ruleA, ruleB):\n",
    "        if stem(a) != stem(b): return -1\n",
    "        i = idx(a, porder)\n",
    "        j = idx(b, porder)\n",
    "        if i is None or j is None: return -1\n",
    "        if i>j: return -1\n",
    "    return 1"
   ]
  },
  {
   "cell_type": "code",
   "execution_count": 243,
   "metadata": {},
   "outputs": [],
   "source": [
    "def is_rule_included(ruleA, rules):\n",
    "    for r in rules:\n",
    "        res = compare_rule(ruleA, r, porder, grammar)\n",
    "        if res < 0: \n",
    "            return False\n",
    "    return True"
   ]
  },
  {
   "cell_type": "code",
   "execution_count": 244,
   "metadata": {},
   "outputs": [],
   "source": [
    "def compare_keys(cur_key, cmp_key, porder, grammar):\n",
    "    # essential idea of comparing two keys is this:\n",
    "    # One key is smaller than the other if for any given rule in the first, there exist another rule that is larger\n",
    "    # than that in the second key.\n",
    "    # a rule is smaller than another if all tokens in that rule is either equal (matching) or smaller than\n",
    "    # the corresponding token in the other.\n",
    "    \n",
    "    cur_rules = grammar[cur_key]\n",
    "    cmp_rules = grammar[cmp_key]\n",
    "   \n",
    "    val = 0\n",
    "    for cur_rule in cur_rules:\n",
    "        if is_rule_included(cur_rule, cmp_rules):\n",
    "            val = 1\n",
    "            continue\n",
    "        else:\n",
    "            return None\n",
    "        val = 0\n",
    "    if val: return val\n",
    "\n",
    "    for cmp_rule in cmp_rules:\n",
    "        if is_rule_included(cmp_rule, cur_rules):\n",
    "            val = -1\n",
    "            continue\n",
    "        else:\n",
    "            return None\n",
    "        val = 0\n",
    "    return val"
   ]
  },
  {
   "cell_type": "code",
   "execution_count": 245,
   "metadata": {},
   "outputs": [],
   "source": [
    "def insert_into_porder(my_key, porder, grammar):\n",
    "    new_order = []\n",
    "    old_order = porder[my_key]\n",
    "    while old_order:\n",
    "        k, *old_order = old_order\n",
    "        v = compare_keys(my_key, k, porder, grammar)\n",
    "        if v is None:\n",
    "            return None\n",
    "        elif v == -1: # smaller\n",
    "            new_order.append(k)\n",
    "        elif v == 1:\n",
    "            new_order.append(my_key)\n",
    "            new_order.extend(old_order)\n",
    "            return new_order\n",
    "    new_order.append(my_key)\n",
    "    return new_order"
   ]
  },
  {
   "cell_type": "code",
   "execution_count": 246,
   "metadata": {},
   "outputs": [],
   "source": [
    "def identify_partial_orders(grammar):\n",
    "    porder = {}\n",
    "    for k in grammar:\n",
    "        sk = stem(k)\n",
    "        if sk not in porder: porder[sk] = []\n",
    "\n",
    "    all_keys = [k for k in grammar]\n",
    "    while all_keys:\n",
    "        my_key, *all_keys = all_keys\n",
    "        olst = porder[stem(my_key)]\n",
    "        # base case\n",
    "        if not olst:\n",
    "            porder[stem(my_key)] = [my_key]\n",
    "        else:\n",
    "            v = insert_into_porder(my_key, porder, grammar)\n",
    "            if v is None: # cannot insert\n",
    "                all_keys.append(my_key)\n",
    "                continue\n",
    "            else:\n",
    "                porder[stem(my_key)] = v\n",
    "    return porder"
   ]
  },
  {
   "cell_type": "code",
   "execution_count": null,
   "metadata": {},
   "outputs": [],
   "source": []
  },
  {
   "cell_type": "markdown",
   "metadata": {},
   "source": [
    "## Arithmetic\n",
    "\n",
    "Essentially, how to say exactly `n` faults, and to remove exactly `n` faults."
   ]
  }
 ],
 "metadata": {
  "kernelspec": {
   "display_name": "Python 3",
   "language": "python",
   "name": "python3"
  },
  "language_info": {
   "codemirror_mode": {
    "name": "ipython",
    "version": 3
   },
   "file_extension": ".py",
   "mimetype": "text/x-python",
   "name": "python",
   "nbconvert_exporter": "python",
   "pygments_lexer": "ipython3",
   "version": "3.7.5"
  },
  "toc": {
   "base_numbering": 1,
   "nav_menu": {},
   "number_sections": true,
   "sideBar": true,
   "skip_h1_title": false,
   "title_cell": "Table of Contents",
   "title_sidebar": "Contents",
   "toc_cell": false,
   "toc_position": {},
   "toc_section_display": true,
   "toc_window_display": true
  }
 },
 "nbformat": 4,
 "nbformat_minor": 4
}
