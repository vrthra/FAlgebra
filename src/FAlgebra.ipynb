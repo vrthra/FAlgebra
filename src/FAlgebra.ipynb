{
 "cells": [
  {
   "cell_type": "markdown",
   "metadata": {},
   "source": [
    "# Algebra of Failure Inducing Input Patterns"
   ]
  },
  {
   "cell_type": "markdown",
   "metadata": {},
   "source": [
    "## What"
   ]
  },
  {
   "cell_type": "markdown",
   "metadata": {},
   "source": [
    "We are trying to generate grammars that produce inputs that contain or does not specific behaviors (or complex combinations thereof) so, one can say things of the sort: I want to generate inputs with parenthesis, but discard everything with doubled parenthesis.\n",
    "\n",
    "While boolean grammars are the formalism for such things (e.g A & B & !C), and one can trivially construct multi-level recognizers for it (parse A, parse B, not parse C), generation is much harder, and as far as I can see, no one has found a way to easily generate inputs from such expressions (other than the generate and filter approach, which is really inefficient). Further, the boolean grammars are already beyond context free grammars, and our current techniques such as annotation of probabilities, and feedback on grammar nodes will not work on them. What we do here, is to recognize that for fault pattern additions and removal, one can stick to a context-free subset, and one can guarantee the properties of the resulting grammar.\n",
    "\n",
    "Other things we can likely do: Generate grammars that produce a given prefix or a given suffix, and combinations of those."
   ]
  },
  {
   "cell_type": "markdown",
   "metadata": {},
   "source": [
    "## Why"
   ]
  },
  {
   "cell_type": "markdown",
   "metadata": {},
   "source": [
    "It is often necessary to include multiple patterns in an input to trigger a fault. For example, a certain fault may occur only if a particular element is seen in advance, or a fault induced early on may only be triggered by a later element. Similarly, one may want to specify that a particular code element is covered, as well as a particular input element be/not be present (e.g. on bugfixes). Finally, one may also want to avoid triggering bugs that are already known."
   ]
  },
  {
   "cell_type": "markdown",
   "metadata": {},
   "source": [
    "## How\n",
    "\n",
    "We first extract the abstract syntactical patterns that correspond to given behaviors, and then generate a refinement grammar from the original grammar that follows the algebraic specifications.\n",
    "\n",
    "The main question being asked is, how to combine and negate fault patterns.\n",
    "\n",
    "We use `~F` for a nonterminal that is guaranteed not to contain a given fault, and `+F` for a nonterminal that is guaranteed to contain at least one instance of the given fault."
   ]
  },
  {
   "cell_type": "markdown",
   "metadata": {},
   "source": [
    "## How is it done?"
   ]
  },
  {
   "cell_type": "markdown",
   "metadata": {},
   "source": [
    "We start with the concept of an _abstract pattern_ form `DDSet`.\n",
    "\n",
    "### Abstract Pattern\n",
    "\n",
    "An _abstract pattern_ is a parse tree of a fault inducing input such that all non-causal subtrees are marked abstract. From an _abstract pattern_ we derive its _charecteristic node_.\n",
    "\n",
    "In essence, an abstract pattern is a parse tree with typed holes.\n",
    "\n",
    "#### Charecteristic node\n",
    "\n",
    "A _charecteristic node_ of an _abstract pattern_ is the smallest subtree (and the corresponding node) that completely captures the concrete _terminal_ symbols in the _abstract pattern_.\n",
    "\n",
    "#### Linear grammar of a parse tree\n",
    "\n",
    "A _linear grammar_ of a parse tree is a grammar such that the grammar can produce only the given parse tree. It is constructed by marking each node in the parse tree with a unique suffix, and extracting the grammar of the suffixed tree. The _linear grammar_ of the _charecteristic node_ will produce the _exact_ string that produced the fault. The start symbol of the grammar is the nonterminal of the characteristic node. The linear grammar is converted to pattern grammar by marking abstract various nodes.\n",
    "\n",
    "#### Abstract pattern grammar\n",
    "\n",
    "This is derived from the _linear grammar_ of the _characteristic node_ where the nonterminals in the grammar that correspond to abstract nodes are replaced by the non-suffixed general nonterminals in the original grammar. The start symbol of the abstract pattern grammar remains the same as the linear grammar of the characteristic node. The important thing to note here is that if one wishes to reproduce the given fault, the parse tree __should contain__ the nonterminals of the linear grammar.\n",
    "\n",
    "#### Negated abstract pattern grammar\n",
    "\n",
    "The negated abstract pattern grammar for a fault is constructed from the abstract pattern grammar of that fault by replacing the definitions one token at a time with a nonterminal guaranteed not to match the particular expansion in the pattern grammar. To this set of rules is added the definitions from the original grammar that did not match the pattern grammar. The idea is to essentially form a _conjunction_ of possible negations.\n",
    "\n",
    "\n",
    "```\n",
    "<X> := <A> <B>\n",
    "<A> := <D>\n",
    "     | a <C>\n",
    "<B> := B\n",
    "     | b\n",
    "<C> := C\n",
    "     | C\n",
    "<D> := d\n",
    "```\n",
    "Say the pattern grammar is:\n",
    "```\n",
    "<X> := <A_1> <B_2>\n",
    "<A_1> := a <C_3>\n",
    "<B_2> := b\n",
    "<C_3> := c\n",
    "```\n",
    "\n",
    "Then, the negated pattern grammar is (we define it using the symbol `^F` to avoid confusing with `+F`) --- The difference is that `+F` guarantees the full fault, while `^F` represents a partial fault.\n",
    "```\n",
    "<^X> := <^A_1> <B_2>\n",
    "      | <A_1> <^B_2>\n",
    "<A_1> := a <C_3>\n",
    "       | <D*>\n",
    "<^A_1> := a <^C_3>\n",
    "        | A\n",
    "<B_2> := b\n",
    "<^B_2> := B\n",
    "<C_3> := c\n",
    "<^C_3> := C\n",
    "```\n",
    "\n",
    "The `<D*>` here is simply `<D>` if `<D>` cannot reach the faulty key `<X>`. If it can, then it is a negation `<D-X>`.\n",
    "\n",
    "If a particular nonterminal cannot be negated, then the rules that use that negated nonterminal is removed, and the nonterminals that have no rules are removed recursively."
   ]
  },
  {
   "cell_type": "markdown",
   "metadata": {},
   "source": [
    "#### Grammar with the guarantee that at least one instance of the fault will always be present (G+).\n",
    "\n",
    "We mark nonterminals that are guaranteed to contain at least a given single fault as `+F` and those nodes that are guaranteed to not contain that fault as `~F` where `<F>` is the original nonterminal.\n",
    "\n",
    "Given a grammar that starts with \n",
    "\n",
    "```\n",
    "<start> := <A> <B> <C>\n",
    "         ...\n",
    "```\n",
    "    \n",
    "The grammar will contain at least a single fault if that single rule is replaced by this set of rules\n",
    "\n",
    "```\n",
    "<1start> := <+A> <B> <C>\n",
    "         | <A> <+B> <C>\n",
    "         | <A> <B> <+C>\n",
    "...\n",
    "```\n",
    "Similarly, if one assumes that the nonterminal `<A>` can contain faults, and it has the following rules (nonterminals indicated by `<..>`)\n",
    "```\n",
    "<A> := x <P> <P> x\n",
    "     | x <P> x\n",
    "```\n",
    "then, the following definition is guaranteed to produce at least one instance of the fault in any expansion\n",
    "```\n",
    "<1A> := x <+P> <P> x\n",
    "     | x <P> <+P> x\n",
    "     | x <+P> x\n",
    "```"
   ]
  },
  {
   "cell_type": "markdown",
   "metadata": {},
   "source": [
    "#### Grammar with the guarantee that no instance of the fault will be present (G-)\n",
    "\n",
    "Negation is simply negation of all nonterminals\n",
    "```\n",
    "<~A> := x <~P> <~P>\n",
    "      | x <~P>\n",
    "```"
   ]
  },
  {
   "cell_type": "markdown",
   "metadata": {},
   "source": [
    "#### Grammar with the guarantee that at most one instance of the fault will be present (G*)\n",
    "\n",
    "```\n",
    "<1start> := <A> <~B> <~C>\n",
    "         | <~A> <B> <~C>\n",
    "         | <~A> <~B> <C>\n",
    "...\n",
    "```"
   ]
  },
  {
   "cell_type": "markdown",
   "metadata": {},
   "source": [
    "#### Grammar with the guarantee that exactly one instance of the fault will be present\n",
    "\n",
    "```\n",
    "G_1 = G+ & G*\n",
    "```"
   ]
  },
  {
   "cell_type": "markdown",
   "metadata": {},
   "source": [
    "#### Base cases\n",
    "\n",
    "There are two base cases for this recursion. The first is when the nonterminal is the charecteristic node of the fault being inserted. In this case, the definition `<+F>` is simply the start symbol of the abstract pattern grammar (and the abstract pattern grammar is merged into the grammar). Similarly with the negation terminal.\n",
    "\n",
    "The second base case is when the nonterminal cannot produce the fault (e.g `<digit>` for producing a parenthesis). Here, the solution is simple. The nonterminal `<+F>` is defined as empty, and the rules that use that nonterminal is removed, and the nonterminals with empty rules are removed recursively as before. The negation `<~F>` is simply `<F>` because it is guaranteed not to produce a fault."
   ]
  },
  {
   "cell_type": "markdown",
   "metadata": {},
   "source": [
    "### (|) two refined grammars.\n",
    "\n",
    "We generate grammars with the faults on boths sides. Next, we merge the grammars. Next, we remove any rule from the definition that is more refined than another rule in the same definition. A rule is more refined than another rule if 1) they both were derived from the same original rule from the original grammar (checked by looking at the stems and terminals) and 2) for any given token, the token at the same position of the other rule has a superset expansion. E.g a digit with expansion `[2, 4]` is a refinement of a digit with expansion `[1, 2, 3, 4, 5]`. (The fixpoint is computed). (This means that the disjunction of the original grammar with any fault inducing grammar will always be the original grammar.)"
   ]
  },
  {
   "cell_type": "markdown",
   "metadata": {},
   "source": [
    "### (&) two refined grammars.\n",
    "\n",
    "Conjunction of two refined grammars is simply the conjunction of both start symbols. The conjunction of two matching (same stem) nonterminals is a conjunction of their matching rules (match with the same terminals and stem of nonterminals). Conjunction of two rules is single rule with each nonterminal representing a conjunction of two corresponding nonterminals at the corresponding places from the two rules. When there are multiple matching rules, the rules produced are all pairs.\n",
    "\n",
    "Note that one can generate an `atleast one fault grammar` (by skipping negation in the exactly one fault grammar) and an `atmost one fault grammar` (by skipping fault insertion in the exactly one fault grammar), and generate the `exactly one fault grammar` by generating a conjunction of both."
   ]
  },
  {
   "cell_type": "markdown",
   "metadata": {},
   "source": [
    "### (-) a refined grammar"
   ]
  },
  {
   "cell_type": "markdown",
   "metadata": {},
   "source": [
    "Negation of arbitrary boolean expression is the most complex of all. For doing this, we use the property that when we want to negate a defintiion, say the definition has three rules from the same base rule:\n",
    "\n",
    "```\n",
    "<A> : <B 1> <C 1> <D 1>\n",
    "    | <B 2> <C 2> <D 2>\n",
    "    | <B3 > <C 3> <D3>\n",
    "```\n",
    "These are considered as `rule1 | rule2 | rule3`. So, we can transform `neg(rule1 | rule2 | rule3)` to `neg(rule1) & neg(rule2) & neg(rule3)`.\n",
    "\n",
    "Now, negating a single rule leads to a number of rules; that is\n",
    "```\n",
    "neg(<B 1> <C 1> <D1>)\n",
    "```\n",
    "Gives\n",
    "```\n",
    "neg(<B 1>) <c 1> <D 1>\n",
    "<B 1> neg(<c 1>) <D 1>\n",
    "<B 1> <c 1> neg(<D 1>)\n",
    "```\n",
    "Similarly\n",
    "```\n",
    "neg(<B 2>) <c 2> <D 2>\n",
    "<B 2> neg(<c 2>) <D 2>\n",
    "<B 2> <c 2> neg(<D 2>)\n",
    "```\n",
    "and\n",
    "```\n",
    "neg(<B 3>) <c 3> <D 3>\n",
    "<B 3> neg(<c 3>) <D 3>\n",
    "<B 3> <c 3> neg(<D 3>)\n",
    "```\n",
    "We combine this set of rules from a given rule with other sets using `product &`. to get the negated rule set.\n",
    "that is,\n",
    "```\n",
    "(neg(<B 1>) <c 1> <D 1>) & (neg(<B 2>) <c 2> <D 2>) & (neg(<B 3>) <c 3> <D 3>)\n",
    "```\n",
    "for the first rule,\n",
    "```\n",
    "(<B 1> neg(<c 1>) <D 1>) & (neg(<B 2>) <c 2> <D 2>) & (neg(<B 3>) <c 3> <D 3>)\n",
    "```\n",
    "for the second rule, \n",
    "```\n",
    "(<B 1> <c 1> neg(<D 1>)) & (neg(<B 2>) <c 2> <D 2>) & (neg(<B 3>) <c 3> <D 3>)\n",
    "```\n",
    "for the third rule and so on.\n",
    "\n",
    "The first rule will resolve to\n",
    "```\n",
    "<B neg(1) & neg(2) & neg(3)> <c 1&2&3> <D 1&2&3>\n",
    "```\n",
    "The second rule will resolve to\n",
    "```\n",
    "<B 1 & neg(2) & neg(3) > <c neg(1)&2&3> <D 1&2&3>\n",
    "```\n",
    "The third rule will resolve to\n",
    "```\n",
    "<B 1 & neg(2) & neg(3) > <c 1&2&3> <D neg(1)&2&3>\n",
    "```\n",
    "and so on.\n",
    "\n",
    "So, why does this work? Take any parse tree for an input that parsed using the non-negated grammar before. It can be parsed by the new negated grammar, if and only if there exist a rule in the new grammar that correspond to each node that will let it parse. Now, each rule in the new grammar is explicitly negated against _atleast_ one token in the non-negated expression. Hence, there does not exist a rule that will let the old expression parse using the negated grammar."
   ]
  },
  {
   "cell_type": "markdown",
   "metadata": {},
   "source": [
    "## Limitations"
   ]
  },
  {
   "cell_type": "markdown",
   "metadata": {},
   "source": [
    "The limitations are as follows:\n",
    "1. Only applicable to deterministic base grammars (at least deterministic parts of the grammar). The grammar is further restricted (without losing generality) to have the start symbol correspond to a single rule such that the rule contains only a single nonterminal (and any number of terminals).\n",
    "2. The fault patterns are neither sound nor complete w.r.t the failure (this is a limitation of the ddset fault pattern).\n",
    "   i.e:\n",
    "   The same failure may result from different patterns. Hence, negating one pattern does not mean negating that failure fully (not complete)\n",
    "   The same pattern in a different context may not result in a failure (not sound)\n",
    "4. Adding new fault patterns results in almost exponential increase (worst case) in the grammar rules of corresponding non terminals.\n",
    "5. We assume that rules for a nonterminal are non-redundant for the base grammar (if not, it becomes nondeterministic)."
   ]
  },
  {
   "cell_type": "markdown",
   "metadata": {},
   "source": [
    "The faults can from several different inputs. The idea is that the characterizing node, and abstraction removes the influences of the specific parse tree."
   ]
  },
  {
   "cell_type": "markdown",
   "metadata": {},
   "source": [
    "## Magick"
   ]
  },
  {
   "cell_type": "markdown",
   "metadata": {},
   "source": [
    "We start with a few Jupyter magics that let us specify examples inline, that can be turned off if needed for faster execution. Switch TOP to False if you do not want examples to complete."
   ]
  },
  {
   "cell_type": "code",
   "execution_count": 1,
   "metadata": {},
   "outputs": [],
   "source": [
    "TOP = True #__name__ == '__main__'"
   ]
  },
  {
   "cell_type": "code",
   "execution_count": 2,
   "metadata": {},
   "outputs": [],
   "source": [
    "from IPython.core.magic import  (Magics, magics_class, cell_magic, line_magic, line_cell_magic)\n",
    "class B(dict):\n",
    "    def __getattr__(self, name):\n",
    "        return self.__getitem__(name)\n",
    "@magics_class\n",
    "class MyMagics(Magics):\n",
    "    def __init__(self, shell=None,  **kwargs):\n",
    "        super().__init__(shell=shell, **kwargs)\n",
    "        self._vars = B()\n",
    "        shell.user_ns['VARS'] = self._vars\n",
    "\n",
    "    @cell_magic\n",
    "    def var(self, line, cell):\n",
    "        self._vars[line.strip()] = cell.strip()\n",
    " \n",
    "    @line_cell_magic\n",
    "    def top(self, line, cell=None):\n",
    "        if TOP:\n",
    "            if cell is None:\n",
    "                cell = line\n",
    "            ip = get_ipython()\n",
    "            res = ip.run_cell(cell)\n",
    "\n",
    "get_ipython().register_magics(MyMagics)"
   ]
  },
  {
   "cell_type": "code",
   "execution_count": 3,
   "metadata": {},
   "outputs": [],
   "source": [
    "EXCEPTION_HAPPENED = []"
   ]
  },
  {
   "cell_type": "code",
   "execution_count": 4,
   "metadata": {},
   "outputs": [],
   "source": [
    "%top IP = get_ipython()"
   ]
  },
  {
   "cell_type": "code",
   "execution_count": 5,
   "metadata": {},
   "outputs": [],
   "source": [
    "from IPython.core.ultratb import AutoFormattedTB\n",
    "itb = AutoFormattedTB(mode = 'Plain', tb_offset = 1)\n",
    "def custom_exc(shell, etype, evalue, tb, tb_offset=None):\n",
    "    global EXCEPTION_HAPPENED\n",
    "    EXCEPTION_HAPPENED.append(IP.last_execution_result.execution_count + 1)\n",
    "    # Show the error within the notebook, don't just swallow it\n",
    "    shell.showtraceback((etype, evalue, tb), tb_offset=tb_offset)\n",
    "    # grab the traceback and make it into a list of strings\n",
    "    #stb = itb.structured_traceback(etype, evalue, tb)\n",
    "    #sstb = itb.stb2text(stb)"
   ]
  },
  {
   "cell_type": "code",
   "execution_count": 6,
   "metadata": {},
   "outputs": [],
   "source": [
    "%top IP.set_custom_exc((Exception,), custom_exc)"
   ]
  },
  {
   "cell_type": "code",
   "execution_count": 7,
   "metadata": {},
   "outputs": [],
   "source": [
    "import sys"
   ]
  },
  {
   "cell_type": "code",
   "execution_count": 8,
   "metadata": {},
   "outputs": [],
   "source": [
    "%top assert sys.version_info[0:2] in ((3, 7), (3, 6))"
   ]
  },
  {
   "cell_type": "code",
   "execution_count": 9,
   "metadata": {},
   "outputs": [],
   "source": [
    "%%top\n",
    "import importlib.util\n",
    "if importlib.util.find_spec('sympy') is None:\n",
    "    !pip3 install sympy"
   ]
  },
  {
   "cell_type": "markdown",
   "metadata": {},
   "source": [
    "## Fault Patterns"
   ]
  },
  {
   "cell_type": "markdown",
   "metadata": {},
   "source": [
    "### Grammar"
   ]
  },
  {
   "cell_type": "markdown",
   "metadata": {},
   "source": [
    "A context-free grammar is represented as a Python dict, with each nonterminal symbol forming a key, and each nonterminal _defined_ by a list of expansion rules. For example, the expression grammar for parsing arithmetic expressions is given below."
   ]
  },
  {
   "cell_type": "markdown",
   "metadata": {},
   "source": [
    "#### Definitions\n",
    "\n",
    "##### String\n",
    "\n",
    "A string is composed of zero or more _alphabets_.\n",
    "\n",
    "E.g $a b c d$\n",
    "\n",
    "##### Alphabet\n",
    "\n",
    "An alphabet is a single unit in any derived string.\n",
    "\n",
    "E.g $a$\n",
    "\n",
    "##### Terminal symbol\n",
    "\n",
    "A terminal symbol is composed of _one or more_ alphabets.\n",
    "\n",
    "E.g. $a b$\n",
    "\n",
    "##### Nonterminal symbol\n",
    "\n",
    "A nonterminal symbol is an abstraction that is defined elsewhere in the grammar.\n",
    "E.g. $X_{nt}$\n",
    "\n",
    "##### Rule\n",
    "\n",
    "A rule is composed of a sequence of terminal or nonterminal symbols.\n",
    "\n",
    "E.g. $A^{rule} = X_{nt} \\cdot Y_{t} \\cdot Z_{nt}$\n",
    "\n",
    "\n",
    "##### Definition\n",
    "\n",
    "Each nonterminal symbol in the grammar corresponds to a _definition_ of that symbol. The definition consists of one or more alternative _rules_. (e.g $X_{nt} \\models A^{rule} \\lor B^{rule} \\lor C^{rule}$).\n",
    "\n",
    "##### Context Free Grammar\n",
    "\n",
    "A context free grammar is composed of a set of nonterminals and their corresponding definitions.\n",
    "\n",
    "E.g. $ G = \\{\\{ X_{nt} \\models A^{rule} \\lor B^{rule} \\lor C^{rule}\\} \\land \\{Y_{nt} \\models P^{rule} \\lor Q^{rule}\\} \\} $"
   ]
  },
  {
   "cell_type": "markdown",
   "metadata": {},
   "source": [
    "Here is a simple context free grammar for Boolean expressions"
   ]
  },
  {
   "cell_type": "code",
   "execution_count": 10,
   "metadata": {},
   "outputs": [],
   "source": [
    "import string"
   ]
  },
  {
   "cell_type": "code",
   "execution_count": 11,
   "metadata": {},
   "outputs": [],
   "source": [
    "BEXPR_GRAMMAR = {\n",
    "    '<start>': [['<bexpr>']],\n",
    "    '<bexpr>': [\n",
    "        ['<bop>', '(', '<bexprs>', ')'],\n",
    "        ['<fault>']],\n",
    "    '<bexprs>' : [['<bexpr>'],\n",
    "                  ['<bexpr>', ',', '<bexprs>']],\n",
    "    '<bop>' : [['and'], ['or'], ['neg']],\n",
    "    '<fault>': [['<letters>'], []],\n",
    "    '<letters>': [\n",
    "        ['<letter>'],\n",
    "        ['<letter>', '<letters>']],\n",
    "    '<letter>': [[i] for i in (string.ascii_lowercase + string.ascii_uppercase + string.digits) + '_+*.-']\n",
    "}"
   ]
  },
  {
   "cell_type": "code",
   "execution_count": 12,
   "metadata": {},
   "outputs": [],
   "source": [
    "BEXPR_START = '<start>'"
   ]
  },
  {
   "cell_type": "markdown",
   "metadata": {},
   "source": [
    "An example grammar for arithmetic expressions."
   ]
  },
  {
   "cell_type": "code",
   "execution_count": 13,
   "metadata": {},
   "outputs": [],
   "source": [
    "EXPR_GRAMMAR = {'<start>': [['<expr>']],\n",
    " '<expr>': [['<term>', ' + ', '<expr>'],\n",
    "  ['<term>', ' - ', '<expr>'],\n",
    "  ['<term>']],\n",
    " '<term>': [['<factor>', ' * ', '<term>'],\n",
    "  ['<factor>', ' / ', '<term>'],\n",
    "  ['<factor>']],\n",
    " '<factor>': [['+', '<factor>'],\n",
    "  ['-', '<factor>'],\n",
    "  ['(', '<expr>', ')'],\n",
    "  ['<integer>', '.', '<integer>'],\n",
    "  ['<integer>']],\n",
    " '<integer>': [['<digit>', '<integer>'], ['<digit>']],\n",
    " '<digit>': [['0'], ['1'], ['2'], ['3'], ['4'], ['5'], ['6'], ['7'], ['8'], ['9']]}"
   ]
  },
  {
   "cell_type": "code",
   "execution_count": 14,
   "metadata": {},
   "outputs": [],
   "source": [
    "EXPR_START = '<start>'"
   ]
  },
  {
   "cell_type": "markdown",
   "metadata": {},
   "source": [
    "We define an input from which we extract our patterns. Note that we do not use the predicate; rather we assume that we already have a few such predicates."
   ]
  },
  {
   "cell_type": "code",
   "execution_count": 15,
   "metadata": {},
   "outputs": [],
   "source": [
    "#%%top\n",
    "expr_input =  '1 + ((2 * 3 / 4))'\n",
    "bexpr_input = 'and(or(neg(A)),or(B))'"
   ]
  },
  {
   "cell_type": "markdown",
   "metadata": {},
   "source": [
    "Note the convetion we used: Each nonterminal is enclosed in angle brackets. E.g. `<expr>`. We now define a function that can distinguish terminal symbols from nonterminals."
   ]
  },
  {
   "cell_type": "markdown",
   "metadata": {},
   "source": [
    "The `is_nt()` function checks if the given node is a terminal or not."
   ]
  },
  {
   "cell_type": "code",
   "execution_count": 16,
   "metadata": {},
   "outputs": [],
   "source": [
    "def is_nt(symbol):\n",
    "     return symbol and (symbol[0], symbol[-1]) == ('<', '>')"
   ]
  },
  {
   "cell_type": "markdown",
   "metadata": {},
   "source": [
    "#### The Parser"
   ]
  },
  {
   "cell_type": "markdown",
   "metadata": {},
   "source": [
    "Given the grammar, and an input, we can parse it into a derivation tree.\n",
    "The `Parser` below is from [fuzzingbook.org](https://www.fuzzingbook.org/html/Parser.html), and provides a generic context-free parser. This is present in the `src` directory."
   ]
  },
  {
   "cell_type": "code",
   "execution_count": 17,
   "metadata": {},
   "outputs": [],
   "source": [
    "from Parser import EarleyParser as Parser"
   ]
  },
  {
   "cell_type": "markdown",
   "metadata": {},
   "source": [
    "How do we check that our parse succeeded? We can convert the derivation tree back to the original string and check for equality."
   ]
  },
  {
   "cell_type": "markdown",
   "metadata": {},
   "source": [
    "The `tree_to_str()` function converts a derivation tree to its original string. We use a non recursive definition."
   ]
  },
  {
   "cell_type": "code",
   "execution_count": 18,
   "metadata": {},
   "outputs": [],
   "source": [
    "def tree_to_str(tree):\n",
    "    expanded = []\n",
    "    to_expand = [tree]\n",
    "    while to_expand:\n",
    "        (key, children, *rest), *to_expand = to_expand\n",
    "        if is_nt(key):\n",
    "            #assert children # not necessary\n",
    "            to_expand = list(children) + list(to_expand)\n",
    "        else:\n",
    "            assert not children\n",
    "            expanded.append(key)\n",
    "    return ''.join(expanded)"
   ]
  },
  {
   "cell_type": "code",
   "execution_count": 19,
   "metadata": {},
   "outputs": [],
   "source": [
    "Ts = tree_to_str"
   ]
  },
  {
   "cell_type": "code",
   "execution_count": 20,
   "metadata": {},
   "outputs": [],
   "source": [
    "#%%top\n",
    "expr_parser = Parser(EXPR_GRAMMAR, start_symbol=EXPR_START, canonical=True)\n",
    "expr_tree = list(expr_parser.parse(expr_input))[0]"
   ]
  },
  {
   "cell_type": "code",
   "execution_count": 21,
   "metadata": {
    "scrolled": false
   },
   "outputs": [],
   "source": [
    "%top assert tree_to_str(expr_tree) == '1 + ((2 * 3 / 4))'"
   ]
  },
  {
   "cell_type": "markdown",
   "metadata": {},
   "source": [
    "We can also directly check for recognition."
   ]
  },
  {
   "cell_type": "code",
   "execution_count": 22,
   "metadata": {},
   "outputs": [],
   "source": [
    "#%%top\n",
    "expr_parser = Parser(EXPR_GRAMMAR, start_symbol=EXPR_START, canonical=True)"
   ]
  },
  {
   "cell_type": "code",
   "execution_count": 23,
   "metadata": {},
   "outputs": [],
   "source": [
    "%top assert expr_parser.can_parse(expr_input)"
   ]
  },
  {
   "cell_type": "code",
   "execution_count": 24,
   "metadata": {},
   "outputs": [],
   "source": [
    "#%%top\n",
    "bexpr_parser = Parser(BEXPR_GRAMMAR, canonical=True, start_symbol=BEXPR_START)"
   ]
  },
  {
   "cell_type": "code",
   "execution_count": 25,
   "metadata": {
    "scrolled": true
   },
   "outputs": [],
   "source": [
    "%top assert bexpr_parser.can_parse(bexpr_input)"
   ]
  },
  {
   "cell_type": "markdown",
   "metadata": {},
   "source": [
    "#### Display\n",
    "\n",
    "While converting to strings are easy, it is unsatisfying. We want to make our output look pretty, and inspect the tree structure of the parsed tree. So we define graphical tree display (code from fuzzingbook)"
   ]
  },
  {
   "cell_type": "code",
   "execution_count": 26,
   "metadata": {},
   "outputs": [],
   "source": [
    "from graphviz import Digraph"
   ]
  },
  {
   "cell_type": "code",
   "execution_count": 27,
   "metadata": {},
   "outputs": [],
   "source": [
    "from IPython.display import display, Image"
   ]
  },
  {
   "cell_type": "code",
   "execution_count": 28,
   "metadata": {},
   "outputs": [],
   "source": [
    "def zoom(v, zoom=True):\n",
    "    # return v directly if you do not want to zoom out.\n",
    "    if zoom:\n",
    "        return Image(v.render(format='png'))\n",
    "    return v"
   ]
  },
  {
   "cell_type": "code",
   "execution_count": 29,
   "metadata": {},
   "outputs": [],
   "source": [
    "class DisplayTree():\n",
    "    def __init__(self):\n",
    "        pass\n",
    "\n",
    "    def extract_node(self, node, id):\n",
    "        symbol, children, *annotation = node\n",
    "        return symbol, children, ''.join(str(a) for a in annotation)\n",
    "    \n",
    "    def node_attr(self, dot, nid, symbol, ann):\n",
    "        dot.node(repr(nid), symbol + ' ')\n",
    "        \n",
    "    def edge_attr(self, dot, start_node, stop_node):\n",
    "        dot.edge(repr(start_node), repr(stop_node), label=str(stop_node[1]))\n",
    "        \n",
    "    def graph_attr(self, dot):\n",
    "        dot.attr('node', shape='plain')\n",
    "        \n",
    "    def display(self, derivation_tree):\n",
    "        counter = 0\n",
    "        def traverse_tree(dot, tree, id=(0,0)):\n",
    "            (symbol, children, annotation) = self.extract_node(tree, id)\n",
    "            self.node_attr(dot, id, symbol, annotation)\n",
    "            if children:\n",
    "                for x,child in enumerate(children):\n",
    "                    nonlocal counter\n",
    "                    counter += 1\n",
    "                    child_id = (counter,x)\n",
    "                    self.edge_attr(dot, id, child_id)\n",
    "                    traverse_tree(dot, child, child_id)\n",
    "        dot = Digraph(comment=\"Derivation Tree\")\n",
    "        self.graph_attr(dot)\n",
    "        traverse_tree(dot, derivation_tree)\n",
    "        return dot\n",
    "    \n",
    "    def __call__(self, dt):\n",
    "        return self.display(dt)"
   ]
  },
  {
   "cell_type": "code",
   "execution_count": 30,
   "metadata": {},
   "outputs": [],
   "source": [
    "display_tree = DisplayTree()"
   ]
  },
  {
   "cell_type": "markdown",
   "metadata": {},
   "source": [
    "We are now ready to display the tree structure."
   ]
  },
  {
   "cell_type": "code",
   "execution_count": 31,
   "metadata": {
    "scrolled": false
   },
   "outputs": [
    {
     "data": {
      "image/png": "[encoded data removed]",
      "text/plain": [
       "<IPython.core.display.Image object>"
      ]
     },
     "execution_count": 31,
     "metadata": {},
     "output_type": "execute_result"
    }
   ],
   "source": [
    "%top zoom(display_tree(expr_tree))"
   ]
  },
  {
   "cell_type": "markdown",
   "metadata": {},
   "source": [
    "#### A Fuzzer"
   ]
  },
  {
   "cell_type": "markdown",
   "metadata": {},
   "source": [
    "In order to define abstraction, we need to be able to generate values based on a grammar. Our fuzzer is able to do that."
   ]
  },
  {
   "cell_type": "code",
   "execution_count": 32,
   "metadata": {},
   "outputs": [],
   "source": [
    "import random"
   ]
  },
  {
   "cell_type": "code",
   "execution_count": 33,
   "metadata": {},
   "outputs": [],
   "source": [
    "random.seed(0)"
   ]
  },
  {
   "cell_type": "markdown",
   "metadata": {},
   "source": [
    "##### The interface"
   ]
  },
  {
   "cell_type": "code",
   "execution_count": 34,
   "metadata": {},
   "outputs": [],
   "source": [
    "class Fuzzer:\n",
    "    def __init__(self, grammar):\n",
    "        self.grammar = grammar\n",
    "\n",
    "    def fuzz(self, key='<start>', max_num=None, max_depth=None):\n",
    "        raise NotImplemented()"
   ]
  },
  {
   "cell_type": "markdown",
   "metadata": {},
   "source": [
    "##### The implementation"
   ]
  },
  {
   "cell_type": "markdown",
   "metadata": {},
   "source": [
    "The fuzzer tries to randomly choose an expansion when more than one expansion is available. If however, it goes beyond max_depth, then it chooses the cheapest nodes. The cheapest nodes are those nodes with minimum further expansion (no recursion)."
   ]
  },
  {
   "cell_type": "code",
   "execution_count": 35,
   "metadata": {},
   "outputs": [],
   "source": [
    "class LimitFuzzer(Fuzzer):\n",
    "    def symbol_cost(self, grammar, symbol, seen):\n",
    "        if symbol in self.key_cost: return self.key_cost[symbol]\n",
    "        if symbol in seen:\n",
    "            self.key_cost[symbol] = float('inf')\n",
    "            return float('inf')\n",
    "        v = min((self.expansion_cost(grammar, rule, seen | {symbol})\n",
    "                    for rule in grammar.get(symbol, [])), default=0)\n",
    "        self.key_cost[symbol] = v\n",
    "        return v\n",
    "\n",
    "    def expansion_cost(self, grammar, tokens, seen):\n",
    "        return max((self.symbol_cost(grammar, token, seen)\n",
    "                    for token in tokens if token in grammar), default=0) + 1\n",
    "\n",
    "    def nonterminals(self, rule):\n",
    "        return [t for t in rule if self.is_nt(t)]\n",
    "\n",
    "    def iter_gen_key(self, key, max_depth):\n",
    "        def get_def(t):\n",
    "            if self.is_nt(t):\n",
    "                return [t, None]\n",
    "            else:\n",
    "                return [t, []]\n",
    "\n",
    "        cheap_grammar = {}\n",
    "        for k in self.cost:\n",
    "            # should we minimize it here? We simply avoid infinities\n",
    "            rules = self.grammar[k]\n",
    "            min_cost = min([self.cost[k][str(r)] for r in rules])\n",
    "            #grammar[k] = [r for r in grammar[k] if self.cost[k][str(r)] == float('inf')]\n",
    "            cheap_grammar[k] = [r for r in self.grammar[k] if self.cost[k][str(r)] == min_cost]\n",
    "\n",
    "        root = [key, None]\n",
    "        queue = [(0, root)]\n",
    "        while queue:\n",
    "            # get one item to expand from the queue\n",
    "            (depth, item), *queue = queue\n",
    "            key = item[0]\n",
    "            if item[1] is not None: continue\n",
    "            grammar = self.grammar if depth < max_depth else cheap_grammar\n",
    "            chosen_rule = random.choice(grammar[key])\n",
    "            expansion = [get_def(t) for t in chosen_rule]\n",
    "            item[1] = expansion\n",
    "            for t in expansion: queue.append((depth+1, t))\n",
    "            #print(\"Fuzz: %s\" % key, len(queue), file=sys.stderr)\n",
    "        #print(file=sys.stderr)\n",
    "        return root\n",
    "\n",
    "    def gen_key(self, key, depth, max_depth):\n",
    "        if key not in self.grammar:\n",
    "            return (key, [])\n",
    "        if depth > max_depth:\n",
    "            #return self.gen_key_cheap_iter(key)\n",
    "            clst = sorted([(self.cost[key][str(rule)], rule) for rule in self.grammar[key]])\n",
    "            rules = [r for c,r in clst if c == clst[0][0]]\n",
    "        else:\n",
    "            rules = self.grammar[key]\n",
    "        return (key, self.gen_rule(random.choice(rules), depth+1, max_depth))\n",
    "\n",
    "    def gen_rule(self, rule, depth, max_depth):\n",
    "        return [self.gen_key(token, depth, max_depth) for token in rule]\n",
    "\n",
    "    def fuzz(self, key='<start>', max_depth=10):\n",
    "        self._s = self.iter_gen_key(key=key, max_depth=max_depth)\n",
    "        return self.tree_to_str(self._s)\n",
    "   \n",
    "    def is_nt(self, name):\n",
    "        return (name[0], name[-1]) == ('<', '>')\n",
    " \n",
    "    def tree_to_str(self, tree):\n",
    "        name, children = tree\n",
    "        if not self.is_nt(name): return name\n",
    "        return ''.join([tree_to_str(c) for c in children])\n",
    "\n",
    "    def tree_to_str(self, tree):\n",
    "        expanded = []\n",
    "        to_expand = [tree]\n",
    "        while to_expand:\n",
    "            (key, children, *rest), *to_expand = to_expand\n",
    "            if is_nt(key):\n",
    "                #assert children # not necessary\n",
    "                to_expand = children + to_expand\n",
    "            else:\n",
    "                assert not children\n",
    "                expanded.append(key)\n",
    "        return ''.join(expanded)\n",
    "\n",
    "\n",
    "    def __init__(self, grammar):\n",
    "        super().__init__(grammar)\n",
    "        self.key_cost = {}\n",
    "        self.cost = self.compute_cost(grammar)\n",
    "\n",
    "    def compute_cost(self, grammar):\n",
    "        cost = {}\n",
    "        for k in grammar:\n",
    "            cost[k] = {}\n",
    "            for rule in grammar[k]:\n",
    "                cost[k][str(rule)] = self.expansion_cost(grammar, rule, set())\n",
    "            if len(grammar[k]):\n",
    "                assert len([v for v in cost[k] if v != float('inf')]) > 0\n",
    "        return cost"
   ]
  },
  {
   "cell_type": "code",
   "execution_count": 36,
   "metadata": {},
   "outputs": [],
   "source": [
    "#%%top\n",
    "expr_fuzzer = LimitFuzzer(EXPR_GRAMMAR)\n",
    "bexpr_fuzzer = LimitFuzzer(BEXPR_GRAMMAR)"
   ]
  },
  {
   "cell_type": "code",
   "execution_count": 37,
   "metadata": {},
   "outputs": [
    {
     "data": {
      "text/plain": [
       "'2 * (19.541 + 7 / -4 / 5.7 * 5.0 + -0.2 * 2 * 8) / 4 - -(+3 * (1) / 1.9 / 2.3 - +0.7) / 07133 - 6 * 42.1 * (6.9 * 7) / (5 + 0) * 0 - 3 / +2 - -3 * 08 + (5 + 9.3) * 9 / 8.0 / 6.6'"
      ]
     },
     "execution_count": 37,
     "metadata": {},
     "output_type": "execute_result"
    }
   ],
   "source": [
    "%top expr_fuzzer.fuzz(EXPR_START)"
   ]
  },
  {
   "cell_type": "code",
   "execution_count": 38,
   "metadata": {},
   "outputs": [
    {
     "data": {
      "text/plain": [
       "'and()'"
      ]
     },
     "execution_count": 38,
     "metadata": {},
     "output_type": "execute_result"
    }
   ],
   "source": [
    "%top bexpr_fuzzer.fuzz(BEXPR_START)"
   ]
  },
  {
   "cell_type": "markdown",
   "metadata": {},
   "source": [
    "### Library functions"
   ]
  },
  {
   "cell_type": "markdown",
   "metadata": {},
   "source": [
    "Copying a grammar"
   ]
  },
  {
   "cell_type": "code",
   "execution_count": 39,
   "metadata": {},
   "outputs": [],
   "source": [
    "def copy_grammar(g):\n",
    "    return {k:[[t for t in r] for r in g[k]] for k in g}"
   ]
  },
  {
   "cell_type": "markdown",
   "metadata": {},
   "source": [
    "Produce a sorted list of rules"
   ]
  },
  {
   "cell_type": "code",
   "execution_count": 40,
   "metadata": {},
   "outputs": [],
   "source": [
    "def sort_rules(rules):\n",
    "    return sorted([list(r) for r in rules])"
   ]
  },
  {
   "cell_type": "markdown",
   "metadata": {},
   "source": [
    "#### Nullability"
   ]
  },
  {
   "cell_type": "code",
   "execution_count": 41,
   "metadata": {},
   "outputs": [],
   "source": [
    "EPSILON=''\n",
    "def get_rules(g): return [(k, e) for k, a in g.items() for e in a]\n",
    "def get_terminals(g):\n",
    "    return set(t for k, expr in get_rules(g) for t in expr if t not in g)\n",
    "def fixpoint(f):\n",
    "    def helper(*args):\n",
    "        while True:\n",
    "            sargs = repr(args)\n",
    "            args_ = f(*args)\n",
    "            if repr(args_) == sargs:\n",
    "                return args\n",
    "            args = args_\n",
    "    return helper\n",
    "\n",
    "\n",
    "@fixpoint\n",
    "def nullable_(grules, e):\n",
    "    for A, expression in grules:\n",
    "        if all((token in e)  for token in expression): e |= {A}\n",
    "    return (grules, e)\n",
    "\n",
    "def nullable_nt(grammar):\n",
    "    return nullable_(get_rules(grammar), set())[1]\n",
    "\n",
    "def is_nullable(grammar, start):\n",
    "    return start in nullable_nt(grammar)"
   ]
  },
  {
   "cell_type": "code",
   "execution_count": 42,
   "metadata": {},
   "outputs": [
    {
     "data": {
      "text/plain": [
       "{'<a>', '<b>'}"
      ]
     },
     "execution_count": 42,
     "metadata": {},
     "output_type": "execute_result"
    }
   ],
   "source": [
    "%top nullable_nt({'<a>': [['a'], ['<b>']], '<b>': [[]], '<c>': [['c']]})"
   ]
  },
  {
   "cell_type": "markdown",
   "metadata": {},
   "source": [
    "#### Check for empty grammar\n",
    "\n",
    "One can check for empty grammar by first removing all terminals and check the resulting grammar for nullability."
   ]
  },
  {
   "cell_type": "code",
   "execution_count": 43,
   "metadata": {},
   "outputs": [],
   "source": [
    "def remove_all_terminals(grammar):\n",
    "    return {k:[[t for t in r if is_nt(t)] for r in grammar[k]] for k in grammar} "
   ]
  },
  {
   "cell_type": "code",
   "execution_count": 44,
   "metadata": {},
   "outputs": [],
   "source": [
    "%top _expr_grammar_tmp1 = remove_all_terminals(EXPR_GRAMMAR)"
   ]
  },
  {
   "cell_type": "code",
   "execution_count": 45,
   "metadata": {},
   "outputs": [
    {
     "data": {
      "text/plain": [
       "{'<digit>', '<expr>', '<factor>', '<integer>', '<start>', '<term>'}"
      ]
     },
     "execution_count": 45,
     "metadata": {},
     "output_type": "execute_result"
    }
   ],
   "source": [
    "%top nullable_nt(_expr_grammar_tmp1)"
   ]
  },
  {
   "cell_type": "code",
   "execution_count": 46,
   "metadata": {},
   "outputs": [
    {
     "data": {
      "text/plain": [
       "set()"
      ]
     },
     "execution_count": 46,
     "metadata": {},
     "output_type": "execute_result"
    }
   ],
   "source": [
    "%top nullable_nt(EXPR_GRAMMAR)"
   ]
  },
  {
   "cell_type": "code",
   "execution_count": 47,
   "metadata": {},
   "outputs": [],
   "source": [
    "empty_g, empty_s = {'<start>': [['<expr>']], '<expr>': [['<expr>']]}, '<start>'"
   ]
  },
  {
   "cell_type": "code",
   "execution_count": 48,
   "metadata": {},
   "outputs": [
    {
     "data": {
      "text/plain": [
       "set()"
      ]
     },
     "execution_count": 48,
     "metadata": {},
     "output_type": "execute_result"
    }
   ],
   "source": [
    "%top nullable_nt(empty_g)"
   ]
  },
  {
   "cell_type": "code",
   "execution_count": 49,
   "metadata": {},
   "outputs": [
    {
     "data": {
      "text/plain": [
       "False"
      ]
     },
     "execution_count": 49,
     "metadata": {},
     "output_type": "execute_result"
    }
   ],
   "source": [
    "%top is_nullable(empty_g, empty_s)"
   ]
  },
  {
   "cell_type": "code",
   "execution_count": 50,
   "metadata": {},
   "outputs": [
    {
     "data": {
      "text/plain": [
       "False"
      ]
     },
     "execution_count": 50,
     "metadata": {},
     "output_type": "execute_result"
    }
   ],
   "source": [
    "%top is_nullable(EXPR_GRAMMAR, EXPR_START)"
   ]
  },
  {
   "cell_type": "code",
   "execution_count": 51,
   "metadata": {},
   "outputs": [],
   "source": [
    "def is_cfg_empty(grammar, start):\n",
    "    # first remove all terminals\n",
    "    null_g = remove_all_terminals(grammar)\n",
    "    # then check if start is nullable.\n",
    "    return not is_nullable(null_g, start)"
   ]
  },
  {
   "cell_type": "code",
   "execution_count": 52,
   "metadata": {},
   "outputs": [
    {
     "data": {
      "text/plain": [
       "False"
      ]
     },
     "execution_count": 52,
     "metadata": {},
     "output_type": "execute_result"
    }
   ],
   "source": [
    "%top is_cfg_empty(EXPR_GRAMMAR, EXPR_START)"
   ]
  },
  {
   "cell_type": "code",
   "execution_count": 53,
   "metadata": {},
   "outputs": [
    {
     "data": {
      "text/plain": [
       "True"
      ]
     },
     "execution_count": 53,
     "metadata": {},
     "output_type": "execute_result"
    }
   ],
   "source": [
    "%top is_cfg_empty(empty_g, empty_s)"
   ]
  },
  {
   "cell_type": "markdown",
   "metadata": {},
   "source": [
    "#### Show"
   ]
  },
  {
   "cell_type": "code",
   "execution_count": 54,
   "metadata": {},
   "outputs": [],
   "source": [
    "def show_grammar(grammar, verbose=0):\n",
    "    r = 0\n",
    "    k = 0\n",
    "    for key in grammar:\n",
    "        k += 1\n",
    "        if verbose > -1: print(key,'::=')\n",
    "        for rule in grammar[key]:\n",
    "            r += 1\n",
    "            if verbose > 1:\n",
    "                pre = r\n",
    "            else:\n",
    "                pre = ''\n",
    "            if verbose > -1:\n",
    "                print('%s|   ' % pre, ' '.join([t if is_nt(t) else repr(t) for t in rule]))\n",
    "        if verbose > 0:\n",
    "            print(k, r)\n",
    "    print(k, r)"
   ]
  },
  {
   "cell_type": "code",
   "execution_count": 55,
   "metadata": {},
   "outputs": [],
   "source": [
    "Gs = show_grammar"
   ]
  },
  {
   "cell_type": "code",
   "execution_count": 56,
   "metadata": {},
   "outputs": [
    {
     "name": "stdout",
     "output_type": "stream",
     "text": [
      "<start> ::=\n",
      "|    <expr>\n",
      "<expr> ::=\n",
      "|    <term> ' + ' <expr>\n",
      "|    <term> ' - ' <expr>\n",
      "|    <term>\n",
      "<term> ::=\n",
      "|    <factor> ' * ' <term>\n",
      "|    <factor> ' / ' <term>\n",
      "|    <factor>\n",
      "<factor> ::=\n",
      "|    '+' <factor>\n",
      "|    '-' <factor>\n",
      "|    '(' <expr> ')'\n",
      "|    <integer> '.' <integer>\n",
      "|    <integer>\n",
      "<integer> ::=\n",
      "|    <digit> <integer>\n",
      "|    <digit>\n",
      "<digit> ::=\n",
      "|    '0'\n",
      "|    '1'\n",
      "|    '2'\n",
      "|    '3'\n",
      "|    '4'\n",
      "|    '5'\n",
      "|    '6'\n",
      "|    '7'\n",
      "|    '8'\n",
      "|    '9'\n",
      "6 24\n"
     ]
    }
   ],
   "source": [
    "%top Gs(EXPR_GRAMMAR)"
   ]
  },
  {
   "cell_type": "markdown",
   "metadata": {},
   "source": [
    "#### Split token"
   ]
  },
  {
   "cell_type": "code",
   "execution_count": 57,
   "metadata": {},
   "outputs": [],
   "source": [
    "def tsplit(token):\n",
    "    assert token[0], token[-1] == ('<', '>')\n",
    "    front, *back = token[1:-1].split(None, 1)\n",
    "    return front, ' '.join(back)"
   ]
  },
  {
   "cell_type": "markdown",
   "metadata": {},
   "source": [
    "#### The stem\n",
    "\n",
    "The stem of a token is the original nonterminal it corresponds to, before refinement."
   ]
  },
  {
   "cell_type": "code",
   "execution_count": 58,
   "metadata": {},
   "outputs": [],
   "source": [
    "def stem(token):\n",
    "    return tsplit(token)[0].strip()"
   ]
  },
  {
   "cell_type": "markdown",
   "metadata": {},
   "source": [
    "#### Normalization"
   ]
  },
  {
   "cell_type": "code",
   "execution_count": 59,
   "metadata": {},
   "outputs": [],
   "source": [
    "def normalize(key):\n",
    "    return '<%s>' % stem(key)"
   ]
  },
  {
   "cell_type": "code",
   "execution_count": 60,
   "metadata": {},
   "outputs": [],
   "source": [
    "def normalize_grammar(g):\n",
    "    return {normalize(k):list({tuple([normalize(t) if is_nt(t) else t for t in r]) for r in g[k]}) for k in g}"
   ]
  },
  {
   "cell_type": "markdown",
   "metadata": {},
   "source": [
    "#### The refinement\n",
    "\n",
    "The refinement of a token is the part after the initial space in a token which corresponds to how the refined token came to be (based on adding/negating other faults.)"
   ]
  },
  {
   "cell_type": "code",
   "execution_count": 61,
   "metadata": {},
   "outputs": [],
   "source": [
    "def refinement(token):\n",
    "    return tsplit(token)[1]"
   ]
  },
  {
   "cell_type": "code",
   "execution_count": 62,
   "metadata": {},
   "outputs": [],
   "source": [
    "def is_refined_key(key):\n",
    "    assert is_nt(key)\n",
    "    return (' ' in key)"
   ]
  },
  {
   "cell_type": "code",
   "execution_count": 63,
   "metadata": {},
   "outputs": [],
   "source": [
    "def is_base_key(key):\n",
    "    return not is_refined_key(key)"
   ]
  },
  {
   "cell_type": "code",
   "execution_count": 64,
   "metadata": {},
   "outputs": [],
   "source": [
    "%top assert refinement('<a b>') == 'b'"
   ]
  },
  {
   "cell_type": "code",
   "execution_count": 65,
   "metadata": {},
   "outputs": [],
   "source": [
    "%top assert is_refined_key('<a b>')"
   ]
  },
  {
   "cell_type": "code",
   "execution_count": 66,
   "metadata": {},
   "outputs": [],
   "source": [
    "%top assert is_base_key('<a>')"
   ]
  },
  {
   "cell_type": "code",
   "execution_count": 67,
   "metadata": {},
   "outputs": [],
   "source": [
    "%top assert not is_base_key('<a b>')"
   ]
  },
  {
   "cell_type": "code",
   "execution_count": 68,
   "metadata": {},
   "outputs": [],
   "source": [
    "def is_refined_rule(rule):\n",
    "    for k in rule:\n",
    "        if is_nt(k) and is_refined_key(k): return True\n",
    "    return False"
   ]
  },
  {
   "cell_type": "markdown",
   "metadata": {},
   "source": [
    "#### Find Node\n",
    "Finding nodes given the path"
   ]
  },
  {
   "cell_type": "code",
   "execution_count": 69,
   "metadata": {},
   "outputs": [],
   "source": [
    "def find_node(node, path):\n",
    "    name, children, *rest = node\n",
    "    if not path:\n",
    "        return node\n",
    "    p, *path = path\n",
    "    for i,c in enumerate(children):\n",
    "        if i == p:\n",
    "            return find_node(c, path)\n",
    "    return None"
   ]
  },
  {
   "cell_type": "code",
   "execution_count": 70,
   "metadata": {},
   "outputs": [],
   "source": [
    "%top assert find_node(expr_tree, [0,1]) == (' + ', [])"
   ]
  },
  {
   "cell_type": "code",
   "execution_count": 71,
   "metadata": {
    "scrolled": true
   },
   "outputs": [],
   "source": [
    "%top assert find_node(expr_tree, [0,2,0,0,2]) == (')', [])"
   ]
  },
  {
   "cell_type": "code",
   "execution_count": 72,
   "metadata": {},
   "outputs": [],
   "source": [
    "def Ns(expr, paths):\n",
    "    for path in paths:\n",
    "        n = find_node(expr, path)\n",
    "        print(n[0], tree_to_str(n))"
   ]
  },
  {
   "cell_type": "code",
   "execution_count": 73,
   "metadata": {},
   "outputs": [
    {
     "name": "stdout",
     "output_type": "stream",
     "text": [
      "<expr> ((2 * 3 / 4))\n",
      "<term> ((2 * 3 / 4))\n",
      "<factor> ((2 * 3 / 4))\n",
      "<expr> (2 * 3 / 4)\n"
     ]
    }
   ],
   "source": [
    "%%top\n",
    "Ns(expr_tree, [[0,2]])\n",
    "Ns(expr_tree, [[0,2,0]])\n",
    "Ns(expr_tree, [[0,2,0,0]])\n",
    "Ns(expr_tree, [[0,2,0,0,1]])"
   ]
  },
  {
   "cell_type": "markdown",
   "metadata": {},
   "source": [
    "#### Path to Key\n",
    "Get the path to where key is defined. This is not for parse trees where the same nonterminal may be found in multiple nodes, but for trees where the key at each node is unique."
   ]
  },
  {
   "cell_type": "code",
   "execution_count": 74,
   "metadata": {},
   "outputs": [],
   "source": [
    "def path_to_key(tree, key):\n",
    "    if tree is None: return None\n",
    "    name, children = tree\n",
    "    if key == name:\n",
    "        return []\n",
    "    for i,c in enumerate(children):\n",
    "        p = path_to_key(c, key)\n",
    "        if p is not None:\n",
    "            return [i] + p\n",
    "    return None"
   ]
  },
  {
   "cell_type": "markdown",
   "metadata": {},
   "source": [
    "#### Rule to normalized rule"
   ]
  },
  {
   "cell_type": "code",
   "execution_count": 75,
   "metadata": {},
   "outputs": [],
   "source": [
    "def rule_to_normalized_rule(rule):\n",
    "    return [normalize(t) if is_nt(t) else t for t in rule]"
   ]
  },
  {
   "cell_type": "code",
   "execution_count": 76,
   "metadata": {},
   "outputs": [],
   "source": [
    "def normalized_rules(rules):\n",
    "    return [list(rule) for rule in {tuple(rule_to_normalized_rule(r)) for r in rules}]"
   ]
  },
  {
   "cell_type": "code",
   "execution_count": 77,
   "metadata": {},
   "outputs": [],
   "source": [
    "def normalized_rule_match(r1, r2):\n",
    "    return rule_to_normalized_rule(r1) == rule_to_normalized_rule(r2)"
   ]
  },
  {
   "cell_type": "code",
   "execution_count": 78,
   "metadata": {},
   "outputs": [],
   "source": [
    "def rule_normalized_difference(rulesA, rulesB):\n",
    "    rem_rulesA = rulesA\n",
    "    for ruleB in rulesB:\n",
    "        rem_rulesA = [rA for rA in rem_rulesA if not normalized_rule_match(rA, ruleB)]\n",
    "    return rem_rulesA"
   ]
  },
  {
   "cell_type": "code",
   "execution_count": 79,
   "metadata": {},
   "outputs": [],
   "source": [
    "def rules_normalized_match_to_rule(rulesA, rB):\n",
    "    selA = [rA for rA in rulesA if normalized_rule_match(rA, rB)]\n",
    "    return selA"
   ]
  },
  {
   "cell_type": "code",
   "execution_count": 80,
   "metadata": {},
   "outputs": [
    {
     "data": {
      "text/plain": [
       "[['+', '<factor>'],\n",
       " ['-', '<factor>'],\n",
       " ['(', '<expr>', ')'],\n",
       " ['<integer>', '.', '<integer>'],\n",
       " ['<integer>']]"
      ]
     },
     "execution_count": 80,
     "metadata": {},
     "output_type": "execute_result"
    }
   ],
   "source": [
    "%top EXPR_GRAMMAR['<factor>']"
   ]
  },
  {
   "cell_type": "code",
   "execution_count": 81,
   "metadata": {},
   "outputs": [],
   "source": [
    "%%top\n",
    "assert rule_normalized_difference(EXPR_GRAMMAR['<factor>'], [['(', '<expr F1>', ')']]) == [\n",
    "    ['+', '<factor>'],\n",
    "    ['-', '<factor>'],\n",
    "    ['<integer>', '.', '<integer>'],\n",
    "    ['<integer>']]"
   ]
  },
  {
   "cell_type": "code",
   "execution_count": 82,
   "metadata": {},
   "outputs": [],
   "source": [
    "%%top\n",
    "assert rule_normalized_difference(EXPR_GRAMMAR['<factor>'], [['(', '<expr>', ')'], ['<integer>']]) == [\n",
    "    ['+', '<factor>'],\n",
    "    ['-', '<factor>'],\n",
    "    ['<integer>', '.', '<integer>']]"
   ]
  },
  {
   "cell_type": "markdown",
   "metadata": {},
   "source": [
    "#### Node to normalized rule"
   ]
  },
  {
   "cell_type": "code",
   "execution_count": 83,
   "metadata": {},
   "outputs": [],
   "source": [
    "def node_to_rule(node):\n",
    "    name, children, *rest = node\n",
    "    return [c[0] for c in children]"
   ]
  },
  {
   "cell_type": "code",
   "execution_count": 84,
   "metadata": {},
   "outputs": [
    {
     "data": {
      "text/plain": [
       "['<term>', ' + ', '<expr>']"
      ]
     },
     "execution_count": 84,
     "metadata": {},
     "output_type": "execute_result"
    }
   ],
   "source": [
    "%top node_to_rule(find_node(expr_tree, [0]))"
   ]
  },
  {
   "cell_type": "code",
   "execution_count": 85,
   "metadata": {},
   "outputs": [
    {
     "data": {
      "text/plain": [
       "('<factor>',\n",
       " [('(', []),\n",
       "  ('<expr>',\n",
       "   [('<term>',\n",
       "     [('<factor>',\n",
       "       [('(', []),\n",
       "        ('<expr>',\n",
       "         [('<term>',\n",
       "           [('<factor>', [('<integer>', [('<digit>', [('2', [])])])]),\n",
       "            (' * ', []),\n",
       "            ('<term>',\n",
       "             [('<factor>', [('<integer>', [('<digit>', [('3', [])])])]),\n",
       "              (' / ', []),\n",
       "              ('<term>',\n",
       "               [('<factor>',\n",
       "                 [('<integer>', [('<digit>', [('4', [])])])])])])])]),\n",
       "        (')', [])])])]),\n",
       "  (')', [])])"
      ]
     },
     "execution_count": 85,
     "metadata": {},
     "output_type": "execute_result"
    }
   ],
   "source": [
    "%top n = find_node(expr_tree, [0,2,0, 0]); n"
   ]
  },
  {
   "cell_type": "code",
   "execution_count": 86,
   "metadata": {},
   "outputs": [
    {
     "data": {
      "text/plain": [
       "['(', '<expr>', ')']"
      ]
     },
     "execution_count": 86,
     "metadata": {},
     "output_type": "execute_result"
    }
   ],
   "source": [
    "%top node_to_rule(n)"
   ]
  },
  {
   "cell_type": "code",
   "execution_count": 87,
   "metadata": {},
   "outputs": [],
   "source": [
    "def node_to_normalized_rule(node):\n",
    "    return rule_to_normalized_rule(node_to_rule(node))"
   ]
  },
  {
   "cell_type": "code",
   "execution_count": 88,
   "metadata": {},
   "outputs": [
    {
     "data": {
      "text/plain": [
       "['(', '<expr>', ')']"
      ]
     },
     "execution_count": 88,
     "metadata": {},
     "output_type": "execute_result"
    }
   ],
   "source": [
    "%top node_to_normalized_rule(n)"
   ]
  },
  {
   "cell_type": "code",
   "execution_count": 89,
   "metadata": {},
   "outputs": [],
   "source": [
    "def get_rulesets(rules):\n",
    "    rulesets = {}\n",
    "    for rule in rules:\n",
    "        nr = tuple(rule_to_normalized_rule(rule))\n",
    "        if nr not in rulesets: rulesets[nr] = []\n",
    "        rulesets[nr].append(rule)\n",
    "    return rulesets"
   ]
  },
  {
   "cell_type": "markdown",
   "metadata": {},
   "source": [
    "#### Replace Tree"
   ]
  },
  {
   "cell_type": "code",
   "execution_count": 90,
   "metadata": {},
   "outputs": [],
   "source": [
    "def replace_tree(node, path, newnode):\n",
    "    if not path:\n",
    "        return newnode\n",
    "    name, children = node\n",
    "    hd, *subpath = path\n",
    "    assert hd < len(children)\n",
    "    new_children = []\n",
    "    for i,c in enumerate(children):\n",
    "        if i == hd:\n",
    "            c_ = replace_tree(c, subpath, newnode)\n",
    "        else:\n",
    "            c_ = c\n",
    "        new_children.append(c_)\n",
    "    return (name, new_children)"
   ]
  },
  {
   "cell_type": "code",
   "execution_count": 91,
   "metadata": {},
   "outputs": [],
   "source": [
    "%top assert tree_to_str(find_node(expr_tree, [0,2,0,0])) == '((2 * 3 / 4))'"
   ]
  },
  {
   "cell_type": "code",
   "execution_count": 92,
   "metadata": {},
   "outputs": [],
   "source": [
    "%top assert tree_to_str(replace_tree(expr_tree, [0, 2, 0, 0], ('1', []))) == '1 + 1'"
   ]
  },
  {
   "cell_type": "markdown",
   "metadata": {},
   "source": [
    "#### Validate Tree\n",
    "\n",
    "Validating a parse tree"
   ]
  },
  {
   "cell_type": "code",
   "execution_count": 93,
   "metadata": {},
   "outputs": [],
   "source": [
    "def validate_tree(tree, grammar):\n",
    "    def keys(arr):\n",
    "        return [a[0] for a in arr]\n",
    "    name, children, *rest = tree\n",
    "    if not is_nt(name): return True\n",
    "    \n",
    "    seen = False\n",
    "    for rule in grammar[name]:\n",
    "        if keys(children) == rule:\n",
    "            seen = True\n",
    "    assert seen, name + ' needs ' + repr(grammar[name])\n",
    "    for c in children:\n",
    "        validate_tree(c, grammar)"
   ]
  },
  {
   "cell_type": "code",
   "execution_count": 94,
   "metadata": {},
   "outputs": [],
   "source": [
    "%top validate_tree(expr_tree, EXPR_GRAMMAR)"
   ]
  },
  {
   "cell_type": "code",
   "execution_count": 95,
   "metadata": {},
   "outputs": [
    {
     "name": "stdout",
     "output_type": "stream",
     "text": [
      "<term> needs [['<factor>', ' * ', '<term>'], ['<factor>', ' / ', '<term>'], ['<factor>']]\n"
     ]
    }
   ],
   "source": [
    "%%top\n",
    "try:\n",
    "    validate_tree(replace_tree(expr_tree, [0, 2, 0, 0], ('1', [])), EXPR_GRAMMAR)\n",
    "except AssertionError as e:\n",
    "    print(e)"
   ]
  },
  {
   "cell_type": "code",
   "execution_count": 96,
   "metadata": {},
   "outputs": [],
   "source": [
    "%%top\n",
    "rt = replace_tree(expr_tree, [0, 2, 0, 0], ('<factor>', [('<integer>', [('<digit>',[('1', [])])])]))\n",
    "validate_tree(rt, EXPR_GRAMMAR)"
   ]
  },
  {
   "cell_type": "code",
   "execution_count": 97,
   "metadata": {},
   "outputs": [],
   "source": [
    "%top assert tree_to_str(rt) == '1 + 1'"
   ]
  },
  {
   "cell_type": "markdown",
   "metadata": {},
   "source": [
    "#### Remove empty keys"
   ]
  },
  {
   "cell_type": "markdown",
   "metadata": {},
   "source": [
    "Remove keys that do not have a definition."
   ]
  },
  {
   "cell_type": "code",
   "execution_count": 98,
   "metadata": {},
   "outputs": [],
   "source": [
    "def find_empty_keys(g):\n",
    "    return [k for k in g if not g[k]]"
   ]
  },
  {
   "cell_type": "code",
   "execution_count": 99,
   "metadata": {},
   "outputs": [],
   "source": [
    "def remove_key(k, g):\n",
    "    new_g = {}\n",
    "    for k_ in g:\n",
    "        if k_ == k:\n",
    "            continue\n",
    "        else:\n",
    "            new_rules = []\n",
    "            for rule in g[k_]:\n",
    "                new_rule = []\n",
    "                for t in rule:\n",
    "                    if t == k:\n",
    "                        # skip this rule\n",
    "                        new_rule = None\n",
    "                        break\n",
    "                    else:\n",
    "                        new_rule.append(t)\n",
    "                if new_rule is not None:\n",
    "                    new_rules.append(new_rule)\n",
    "            new_g[k_] = new_rules\n",
    "    return new_g"
   ]
  },
  {
   "cell_type": "code",
   "execution_count": 100,
   "metadata": {},
   "outputs": [],
   "source": [
    "def remove_empty_keys(g):\n",
    "    new_g = copy_grammar(g)\n",
    "    removed_keys = []\n",
    "    empty_keys = find_empty_keys(new_g)\n",
    "    while empty_keys:\n",
    "        for k in empty_keys:\n",
    "            removed_keys.append(k)\n",
    "            new_g = remove_key(k, new_g)\n",
    "        empty_keys = find_empty_keys(new_g)\n",
    "    return new_g, removed_keys"
   ]
  },
  {
   "cell_type": "code",
   "execution_count": 101,
   "metadata": {},
   "outputs": [],
   "source": [
    "tmp_g_empty_ = {\n",
    "    '<start>': [['<v>']],\n",
    "    '<v>': [\n",
    "        ['<expr>'],\n",
    "        ['<digit>']\n",
    "    ],\n",
    "    '<expr>': [['<digit>'],\n",
    "              ['x', '<empty>']],\n",
    "    '<digit>': [['0']],\n",
    "    '<empty>': []\n",
    "}"
   ]
  },
  {
   "cell_type": "code",
   "execution_count": 102,
   "metadata": {},
   "outputs": [
    {
     "name": "stdout",
     "output_type": "stream",
     "text": [
      "<start> ::=\n",
      "|    <v>\n",
      "<v> ::=\n",
      "|    <expr>\n",
      "|    <digit>\n",
      "<expr> ::=\n",
      "|    <digit>\n",
      "<digit> ::=\n",
      "|    '0'\n",
      "4 5\n"
     ]
    },
    {
     "data": {
      "text/plain": [
       "['<empty>']"
      ]
     },
     "execution_count": 102,
     "metadata": {},
     "output_type": "execute_result"
    }
   ],
   "source": [
    "%%top\n",
    "tmp_g, removed_keys = remove_empty_keys(tmp_g_empty_)\n",
    "Gs(tmp_g)\n",
    "removed_keys"
   ]
  },
  {
   "cell_type": "markdown",
   "metadata": {},
   "source": [
    "#### Find all nonterminals"
   ]
  },
  {
   "cell_type": "code",
   "execution_count": 103,
   "metadata": {},
   "outputs": [],
   "source": [
    "def find_all_nonterminals(g):\n",
    "    lst = []\n",
    "    for k in g:\n",
    "        for r in g[k]:\n",
    "            for t in r:\n",
    "                if is_nt(t):\n",
    "                    lst.append(t)\n",
    "    return list(sorted(set(lst)))"
   ]
  },
  {
   "cell_type": "code",
   "execution_count": 104,
   "metadata": {},
   "outputs": [
    {
     "data": {
      "text/plain": [
       "['<digit>', '<expr>', '<v>']"
      ]
     },
     "execution_count": 104,
     "metadata": {},
     "output_type": "execute_result"
    }
   ],
   "source": [
    "%top find_all_nonterminals(tmp_g)"
   ]
  },
  {
   "cell_type": "markdown",
   "metadata": {},
   "source": [
    "#### Undefined keys"
   ]
  },
  {
   "cell_type": "code",
   "execution_count": 105,
   "metadata": {},
   "outputs": [],
   "source": [
    "def undefined_keys(grammar):\n",
    "    keys = find_all_nonterminals(grammar)\n",
    "    return [k for k in keys if k not in grammar]"
   ]
  },
  {
   "cell_type": "markdown",
   "metadata": {},
   "source": [
    "####  Remove unused keys"
   ]
  },
  {
   "cell_type": "markdown",
   "metadata": {},
   "source": [
    "Removes unused nonterminal keys"
   ]
  },
  {
   "cell_type": "code",
   "execution_count": 106,
   "metadata": {},
   "outputs": [],
   "source": [
    "def remove_unused_keys(grammar, start_symbol):\n",
    "    def strip_key(grammar, key, order):\n",
    "        rules = sort_rules(grammar[key])\n",
    "        old_len = len(order)\n",
    "        for rule in rules:\n",
    "            for token in rule:\n",
    "                if is_nt(token):\n",
    "                    if token not in order:\n",
    "                        order.append(token)\n",
    "        new = order[old_len:]\n",
    "        for ckey in new:\n",
    "            strip_key(grammar, ckey, order)\n",
    "    if start_symbol not in grammar:\n",
    "        return {}, []\n",
    "\n",
    "    order = [start_symbol]\n",
    "    strip_key(grammar, start_symbol, order)\n",
    "    if len(order) != len(grammar.keys()):\n",
    "        stripped = [k for k in grammar if k not in order]\n",
    "        #if stripped:\n",
    "        #    print(\"Stripping: %s\" % str(stripped))\n",
    "        faulty = [k for k in order if k not in grammar]\n",
    "        assert not faulty\n",
    "    new_g = {k: [list(r) for r in sort_rules(grammar[k])] for k in order}\n",
    "    return new_g, [k for k in grammar if k not in new_g]"
   ]
  },
  {
   "cell_type": "code",
   "execution_count": 107,
   "metadata": {},
   "outputs": [
    {
     "name": "stdout",
     "output_type": "stream",
     "text": [
      "7 25\n",
      "<start> ::=\n",
      "|    <expr>\n",
      "<expr> ::=\n",
      "|    <term>\n",
      "|    <term> ' + ' <expr>\n",
      "|    <term> ' - ' <expr>\n",
      "<term> ::=\n",
      "|    <factor>\n",
      "|    <factor> ' * ' <term>\n",
      "|    <factor> ' / ' <term>\n",
      "<factor> ::=\n",
      "|    '(' <expr> ')'\n",
      "|    '+' <factor>\n",
      "|    '-' <factor>\n",
      "|    <integer>\n",
      "|    <integer> '.' <integer>\n",
      "<integer> ::=\n",
      "|    <digit>\n",
      "|    <digit> <integer>\n",
      "<digit> ::=\n",
      "|    '0'\n",
      "|    '1'\n",
      "|    '2'\n",
      "|    '3'\n",
      "|    '4'\n",
      "|    '5'\n",
      "|    '6'\n",
      "|    '7'\n",
      "|    '8'\n",
      "|    '9'\n",
      "6 24\n"
     ]
    },
    {
     "data": {
      "text/plain": [
       "['<unused>']"
      ]
     },
     "execution_count": 107,
     "metadata": {},
     "output_type": "execute_result"
    }
   ],
   "source": [
    "%%top\n",
    "tmp_g_unused_ = copy_grammar(EXPR_GRAMMAR)\n",
    "tmp_g_unused_['<unused>'] = [['1']]\n",
    "Gs(tmp_g_unused_,-1)\n",
    "tmp_g, removed_keys = remove_unused_keys(tmp_g_unused_, EXPR_START)\n",
    "Gs(tmp_g)\n",
    "removed_keys"
   ]
  },
  {
   "cell_type": "markdown",
   "metadata": {},
   "source": [
    "#### Validate grammar"
   ]
  },
  {
   "cell_type": "code",
   "execution_count": 108,
   "metadata": {},
   "outputs": [],
   "source": [
    "def validate_grammar(grammar, start_symbol, log=False):\n",
    "    assert len(grammar[start_symbol]) == 1 # otherwise parser will not work\n",
    "    for r in grammar[start_symbol]:\n",
    "        assert len([t for t in r if is_nt(t)]) == 1 # otherwise disjunction will not work\n",
    "    def strip_key(grammar, key, order):\n",
    "        rules = sort_rules(grammar[key])\n",
    "        old_len = len(order)\n",
    "        for rule in rules:\n",
    "            for token in rule:\n",
    "                if is_nt(token):\n",
    "                    if token not in order:\n",
    "                        order.append(token)\n",
    "        new = order[old_len:]\n",
    "        for ckey in new:\n",
    "            strip_key(grammar, ckey, order)\n",
    "    if start_symbol not in grammar:\n",
    "        return {}, []\n",
    "\n",
    "    order = [start_symbol]\n",
    "    strip_key(grammar, start_symbol, order)\n",
    "    valid = True\n",
    "    if len(order) != len(grammar.keys()):\n",
    "        unused = [k for k in grammar if k not in order]\n",
    "        faulty = [k for k in order if k not in grammar]\n",
    "        if faulty or unused:\n",
    "            if log:\n",
    "                print('faulty:', faulty)\n",
    "                print('unused:', unused)\n",
    "            return False\n",
    "    for (k1,k2) in zip(sorted(order), sorted(grammar.keys())):\n",
    "        if k1 != k2:\n",
    "            valid = False\n",
    "            if log:\n",
    "                print('order:', k1, 'grammar:', k2)\n",
    "        else:\n",
    "            if log:\n",
    "                print(k1, k2)\n",
    "    for k in grammar:\n",
    "        if not grammar[k]:\n",
    "            return False\n",
    "    return valid"
   ]
  },
  {
   "cell_type": "code",
   "execution_count": 109,
   "metadata": {},
   "outputs": [
    {
     "name": "stdout",
     "output_type": "stream",
     "text": [
      "<digit> <digit>\n",
      "<expr> <expr>\n",
      "<factor> <factor>\n",
      "<integer> <integer>\n",
      "<start> <start>\n",
      "<term> <term>\n"
     ]
    }
   ],
   "source": [
    "%top assert validate_grammar(EXPR_GRAMMAR, EXPR_START, True)"
   ]
  },
  {
   "cell_type": "code",
   "execution_count": 110,
   "metadata": {},
   "outputs": [
    {
     "data": {
      "text/plain": [
       "{'<start>': [['<v>']],\n",
       " '<v>': [['<expr>'], ['<digit>']],\n",
       " '<expr>': [['<digit>'], ['x', '<empty>']],\n",
       " '<digit>': [['0']],\n",
       " '<empty>': []}"
      ]
     },
     "execution_count": 110,
     "metadata": {},
     "output_type": "execute_result"
    }
   ],
   "source": [
    "tmp_g_empty_"
   ]
  },
  {
   "cell_type": "code",
   "execution_count": 111,
   "metadata": {},
   "outputs": [
    {
     "name": "stdout",
     "output_type": "stream",
     "text": [
      "<digit> <digit>\n",
      "<empty> <empty>\n",
      "<expr> <expr>\n",
      "<start> <start>\n",
      "<v> <v>\n"
     ]
    }
   ],
   "source": [
    "%top assert not validate_grammar(tmp_g_empty_, '<start>', True)"
   ]
  },
  {
   "cell_type": "code",
   "execution_count": 112,
   "metadata": {},
   "outputs": [
    {
     "name": "stdout",
     "output_type": "stream",
     "text": [
      "faulty: []\n",
      "unused: ['<unused>']\n"
     ]
    }
   ],
   "source": [
    "%top assert not validate_grammar(tmp_g_unused_, '<start>', True)"
   ]
  },
  {
   "cell_type": "markdown",
   "metadata": {},
   "source": [
    "#### Finding reachable keys"
   ]
  },
  {
   "cell_type": "code",
   "execution_count": 113,
   "metadata": {},
   "outputs": [],
   "source": [
    "def find_reachable_keys(grammar, key, reachable_keys=None, found_so_far=None):\n",
    "    if reachable_keys is None: reachable_keys = {}\n",
    "    if found_so_far is None: found_so_far = set()\n",
    "\n",
    "    for rule in grammar[key]:\n",
    "        for token in rule:\n",
    "            if not is_nt(token): continue\n",
    "            if token in found_so_far: continue\n",
    "            found_so_far.add(token)\n",
    "            if token in reachable_keys:\n",
    "                for k in reachable_keys[token]:\n",
    "                    found_so_far.add(k)\n",
    "            else:\n",
    "                keys = find_reachable_keys(grammar, token, reachable_keys, found_so_far)\n",
    "                # reachable_keys[token] = keys <- found_so_far contains results from earlier\n",
    "    return found_so_far"
   ]
  },
  {
   "cell_type": "code",
   "execution_count": 114,
   "metadata": {
    "scrolled": true
   },
   "outputs": [
    {
     "name": "stdout",
     "output_type": "stream",
     "text": [
      "<start> {'<digit>', '<integer>', '<term>', '<expr>', '<factor>'}\n",
      "<expr> {'<digit>', '<integer>', '<term>', '<expr>', '<factor>'}\n",
      "<term> {'<digit>', '<integer>', '<term>', '<expr>', '<factor>'}\n",
      "<factor> {'<digit>', '<integer>', '<term>', '<expr>', '<factor>'}\n",
      "<integer> {'<integer>', '<digit>'}\n",
      "<digit> set()\n"
     ]
    }
   ],
   "source": [
    "%%top\n",
    "for key in EXPR_GRAMMAR:\n",
    "    keys = find_reachable_keys(EXPR_GRAMMAR, key, {})\n",
    "    print(key, keys)"
   ]
  },
  {
   "cell_type": "markdown",
   "metadata": {},
   "source": [
    "Finding recursive keys"
   ]
  },
  {
   "cell_type": "code",
   "execution_count": 115,
   "metadata": {},
   "outputs": [],
   "source": [
    "def reachable_dict(grammar):\n",
    "    reachable = {}\n",
    "    for key in grammar:\n",
    "        keys = find_reachable_keys(grammar, key, reachable)\n",
    "        reachable[key] = keys\n",
    "    return reachable"
   ]
  },
  {
   "cell_type": "code",
   "execution_count": 116,
   "metadata": {},
   "outputs": [
    {
     "data": {
      "text/plain": [
       "{'<start>': {'<digit>', '<expr>', '<factor>', '<integer>', '<term>'},\n",
       " '<expr>': {'<digit>', '<expr>', '<factor>', '<integer>', '<term>'},\n",
       " '<term>': {'<digit>', '<expr>', '<factor>', '<integer>', '<term>'},\n",
       " '<factor>': {'<digit>', '<expr>', '<factor>', '<integer>', '<term>'},\n",
       " '<integer>': {'<digit>', '<integer>'},\n",
       " '<digit>': set()}"
      ]
     },
     "execution_count": 116,
     "metadata": {},
     "output_type": "execute_result"
    }
   ],
   "source": [
    "%%top\n",
    "reachable_dict(EXPR_GRAMMAR)"
   ]
  },
  {
   "cell_type": "markdown",
   "metadata": {},
   "source": [
    "#### Simplify boolean expressions"
   ]
  },
  {
   "cell_type": "code",
   "execution_count": 117,
   "metadata": {},
   "outputs": [],
   "source": [
    "import sympy"
   ]
  },
  {
   "cell_type": "code",
   "execution_count": 118,
   "metadata": {},
   "outputs": [],
   "source": [
    "class LitB:\n",
    "    def __init__(self, a): self.a = a\n",
    "    def __str__(self): return self.a\n",
    "\n",
    "TrueB = LitB('')\n",
    "FalseB = LitB('_|_')\n",
    "\n",
    "class OrB:\n",
    "    def __init__(self, a): self.l = a\n",
    "    def __str__(self): return 'or(%s)' % ','.join(sorted([str(s) for s in self.l]))\n",
    "class AndB:\n",
    "    def __init__(self, a): self.l = a\n",
    "    def __str__(self): return 'and(%s)' % ','.join(sorted([str(s) for s in self.l]))\n",
    "class NegB:\n",
    "    def __init__(self, a): self.a = a\n",
    "    def __str__(self): return 'neg(%s)' % str(self.a)\n",
    "class B:\n",
    "    def __init__(self, a): self.a = a\n",
    "    def __str__(self): return str(self.a)"
   ]
  },
  {
   "cell_type": "code",
   "execution_count": null,
   "metadata": {},
   "outputs": [],
   "source": []
  },
  {
   "cell_type": "code",
   "execution_count": 119,
   "metadata": {},
   "outputs": [],
   "source": [
    "\n",
    "class BExpr:\n",
    "    def __init__(self, s):\n",
    "        if s is not None:\n",
    "            self._s = s\n",
    "            self._tree = self._parse(s)\n",
    "            self._simple, self._sympy = self._simplify()\n",
    "        else: # create\n",
    "            self._s = None\n",
    "            self._tree = None\n",
    "            self._simple = None\n",
    "            self._sympy = None\n",
    "            \n",
    "    def simple(self):\n",
    "        if self._simple is None:\n",
    "            self._simple = str(self._convert_sympy_to_bexpr(self._sympy))\n",
    "        return self._simple\n",
    "\n",
    "    def _parse(self, k):\n",
    "        bexpr_parser = Parser(BEXPR_GRAMMAR, canonical=True, start_symbol=BEXPR_START)\n",
    "        bparse_tree = list(bexpr_parser.parse(k))[0]\n",
    "        bexpr = bparse_tree[1][0]\n",
    "        return bexpr\n",
    "    \n",
    "    def with_key(self, k):\n",
    "        s = self.simple()\n",
    "        if s: return '<%s %s>' % (stem(k), s)\n",
    "        return normalize(k)\n",
    "\n",
    "    def _simplify(self):\n",
    "        e0, defs = self._convert_to_sympy(self._tree)\n",
    "        e1 = sympy.to_dnf(e0)\n",
    "        e2 = self._convert_sympy_to_bexpr(e1)\n",
    "        v = str(e2)\n",
    "        my_keys = [k for k in defs]\n",
    "        for k in my_keys:\n",
    "            del defs[k]\n",
    "        return v, e1\n",
    "    \n",
    "    def is_neg_sym(self):\n",
    "        op = self.get_operator()\n",
    "        if op != 'neg': return False\n",
    "        if not isinstance(self._sympy.args[0], sympy.Symbol): return False\n",
    "        return True\n",
    "    \n",
    "    def get_operator(self):\n",
    "        if isinstance(self._sympy, sympy.And): return 'and'\n",
    "        elif isinstance(self._sympy, sympy.Or): return 'or'\n",
    "        elif isinstance(self._sympy, sympy.Not): return 'neg'\n",
    "        else: return ''\n",
    "    \n",
    "    def op_fst(self):\n",
    "        op = self.get_operator()\n",
    "        assert op == 'neg'\n",
    "        bexpr = BExpr(None)\n",
    "        bexpr._sympy = self._sympy.args[0]\n",
    "        return bexpr\n",
    "    \n",
    "    def op_fst_snd(self):\n",
    "        bexpr = BExpr(None)\n",
    "        bexpr._sympy = self._sympy.args[0]\n",
    "        \n",
    "        bexpr_rest = BExpr(None)\n",
    "        op = self.get_operator()\n",
    "\n",
    "        if op == 'and':\n",
    "            bexpr_rest._sympy = sympy.And(*self._sympy.args[1:])\n",
    "        elif op == 'or':\n",
    "            bexpr_rest._sympy = sympy.Or(*self._sympy.args[1:])\n",
    "        else:\n",
    "            assert False\n",
    "        return bexpr, bexpr_rest\n",
    "\n",
    "    def negate(self):\n",
    "        bexpr = BExpr(None)\n",
    "        bexpr._sympy = sympy.Not(self._sympy).simplify()\n",
    "        return bexpr\n",
    "\n",
    "    def _flatten(self, bexprs):\n",
    "        assert bexprs[0] == '<bexprs>'\n",
    "        if len(bexprs[1]) == 1:\n",
    "            return [bexprs[1][0]]\n",
    "        else:\n",
    "            assert len(bexprs[1]) == 3\n",
    "            a = bexprs[1][0]\n",
    "            comma = bexprs[1][1]\n",
    "            rest = bexprs[1][2]\n",
    "            return [a] + self._flatten(rest)\n",
    "\n",
    "    def _convert_to_sympy(self, bexpr_tree, symargs=None):\n",
    "        def get_op(node):\n",
    "            assert node[0] == '<bop>', node[0]\n",
    "            return node[1][0][0]\n",
    "        if symargs is None:\n",
    "            symargs = {}\n",
    "        name, children = bexpr_tree\n",
    "        assert name == '<bexpr>', name\n",
    "        if len(children) == 1: # fault node\n",
    "            name = tree_to_str(children[0])\n",
    "            if not name: return None, symargs\n",
    "            if name not in symargs:\n",
    "                symargs[name] = sympy.symbols(name)\n",
    "            return symargs[name], symargs\n",
    "        else:\n",
    "            operator = get_op(children[0])\n",
    "            if children[2][0] == '<bexprs>':\n",
    "                res = self._flatten(children[2])\n",
    "            else:\n",
    "                res = [children[2]]\n",
    "            if operator == 'and':\n",
    "                sp = [self._convert_to_sympy(a, symargs) for a in res]\n",
    "                return sympy.And(*[a for a,_ in sp]), symargs\n",
    "\n",
    "            elif operator == 'or':\n",
    "                sp = [self._convert_to_sympy(a, symargs) for a in res]\n",
    "                return sympy.Or(*[a for a,_ in sp]), symargs\n",
    "\n",
    "            elif operator == 'neg':\n",
    "                assert len(res) == 1\n",
    "                a,_ = self._convert_to_sympy(res[0], symargs)\n",
    "                return sympy.Not(a), symargs\n",
    "            else:\n",
    "                assert False\n",
    "\n",
    "    def _convert_sympy_to_bexpr(self, sexpr, log=False):\n",
    "        if isinstance(sexpr, sympy.Symbol):\n",
    "            return B(str(sexpr))\n",
    "        elif isinstance(sexpr, sympy.Not):\n",
    "            return NegB(self._convert_sympy_to_bexpr(sexpr.args[0]))\n",
    "        elif isinstance(sexpr, sympy.And):\n",
    "            a = sexpr.args[0]\n",
    "            b = sexpr.args[1]\n",
    "            if isinstance(a, sympy.Not):\n",
    "                if str(a.args[0]) == str(b): return FalseB # F & ~F == _|_\n",
    "            elif isinstance(b, sympy.Not):\n",
    "                if str(b.args[0]) == str(a): return FalseB # F & ~F == _|_\n",
    "            sym_vars = sorted([self._convert_sympy_to_bexpr(a) for a in sexpr.args], key=str)\n",
    "            assert sym_vars\n",
    "            if FalseB in sym_vars: return FalseB # if bottom is present in and, that is the result\n",
    "            if TrueB in sym_vars:\n",
    "                sym_vars = [s for s in sym_vars if s != TrueB] # base def does not do anything in and.\n",
    "                if not sym_vars: return TrueB\n",
    "            return AndB(sym_vars)\n",
    "        elif isinstance(sexpr, sympy.Or):\n",
    "            a = sexpr.args[0]\n",
    "            b = sexpr.args[1]\n",
    "            if isinstance(a, sympy.Not):\n",
    "                if str(a.args[0]) == str(b): return TrueB # F | ~F = U self._convert_sympy_to_bexpr(b)\n",
    "            elif isinstance(b, sympy.Not):\n",
    "                if str(b.args[0]) == str(a): return TrueB # F | ~F = U self._convert_sympy_to_bexpr(a)\n",
    "\n",
    "            sym_vars = sorted([self._convert_sympy_to_bexpr(a) for a in sexpr.args], key=str)\n",
    "            assert sym_vars\n",
    "            if TrueB in sym_vars: return TrueB # if original def is present in or, that is the result\n",
    "            if FalseB in sym_vars:\n",
    "                sym_vars = [s for s in sym_vars if s != FalseB]\n",
    "                if not sym_vars: return FalseB\n",
    "            return OrB(sym_vars)\n",
    "        else:\n",
    "            if log: print(repr(sexpr))\n",
    "            assert False"
   ]
  },
  {
   "cell_type": "code",
   "execution_count": 120,
   "metadata": {},
   "outputs": [],
   "source": [
    "#%%top\n",
    "bexpr_input = 'and(and(and(and(and(neg(+F2),neg(L2_2)),neg(+F2)),and(neg(+F2),neg(L2_2))),and(and(neg(+F2),neg(L2_2)),neg(+F2))),and(and(and(neg(+F2),neg(L2_2)),neg(+F2)),and(neg(+F2),neg(L2_2))))'\n",
    "simplified_bexpr_input = BExpr(bexpr_input).simple()"
   ]
  },
  {
   "cell_type": "code",
   "execution_count": 121,
   "metadata": {},
   "outputs": [
    {
     "data": {
      "text/plain": [
       "'and(neg(+F2),neg(L2_2))'"
      ]
     },
     "execution_count": 121,
     "metadata": {},
     "output_type": "execute_result"
    }
   ],
   "source": [
    "%top simplified_bexpr_input"
   ]
  },
  {
   "cell_type": "code",
   "execution_count": 122,
   "metadata": {},
   "outputs": [
    {
     "data": {
      "text/plain": [
       "(~+F2, ~L2_2)"
      ]
     },
     "execution_count": 122,
     "metadata": {},
     "output_type": "execute_result"
    }
   ],
   "source": [
    "a, b = BExpr(bexpr_input).op_fst_snd()\n",
    "a._sympy, b._sympy"
   ]
  },
  {
   "cell_type": "code",
   "execution_count": 123,
   "metadata": {},
   "outputs": [],
   "source": [
    "def disj(k1, k2, simplify=False):\n",
    "    assert is_nt(k1)\n",
    "    if k1 == k2: return k1\n",
    "    rk1 = refinement(k1)\n",
    "    rk2 = refinement(k2)\n",
    "    if not rk1: return k1\n",
    "    if not rk2: return k2\n",
    "    if rk1 == '_|_': return rk1\n",
    "    if rk2 == '_|_': return rk2\n",
    "    b = BExpr('or(%s,%s)' % (rk1, rk2))\n",
    "    return b.with_key(k1)"
   ]
  },
  {
   "cell_type": "code",
   "execution_count": 124,
   "metadata": {},
   "outputs": [],
   "source": [
    "def conj(k1, k2, simplify=False):\n",
    "    assert is_nt(k1)\n",
    "    if k1 == k2: return k1\n",
    "    rk1 = refinement(k1)\n",
    "    rk2 = refinement(k2)\n",
    "    if not rk1: return k2\n",
    "    if not rk2: return k1\n",
    "    if rk1 == '_|_': return '_|_'\n",
    "    if rk2 == '_|_': return '_|_'\n",
    "    b = BExpr('and(%s,%s)' % (rk1, rk2))\n",
    "    return b.with_key(k1)"
   ]
  },
  {
   "cell_type": "markdown",
   "metadata": {},
   "source": [
    "#### Remove shadowed refined rules"
   ]
  },
  {
   "cell_type": "markdown",
   "metadata": {},
   "source": [
    "##### is_A_more_refined_than_B\n",
    "\n",
    "Compare the positions of `ruleA` and `ruleB` in `porder` of base `grammar`.\n",
    "In the porder, we assume the most general ones will come first."
   ]
  },
  {
   "cell_type": "code",
   "execution_count": 125,
   "metadata": {},
   "outputs": [],
   "source": [
    "def is_A_more_refined_than_B(ruleA, ruleB, porder):\n",
    "    if len(ruleA) != len(ruleB): return False\n",
    "    for a_, b_ in zip(ruleA, ruleB):\n",
    "        if not is_nt(a_) or not is_nt(b_):\n",
    "            if a_ != b_: return False\n",
    "            continue\n",
    "        a = normalize(a_) \n",
    "        b = normalize(b_)\n",
    "        if a != b: return False\n",
    "        if a not in porder or b not in porder: return None\n",
    "        pkA = path_to_key(porder[a], a_)\n",
    "        pkB = path_to_key(porder[b], b_)\n",
    "        if pkA is None or pkB is None: return None # we dont know.\n",
    "        pA = ' '.join([str(s) for s in pkA])\n",
    "        pB = ' '.join([str(s) for s in pkB])\n",
    "        # more general should be included in the more specific\n",
    "        if pB not in pA: return False\n",
    "    return True"
   ]
  },
  {
   "cell_type": "code",
   "execution_count": 126,
   "metadata": {},
   "outputs": [],
   "source": [
    "%%top\n",
    "my_porder = {'<a>' : ('<a>',[('<a 1>', [('<a 2>',[('<a 3>',[])])])]),\n",
    "             '<b>':  ('<b>',[('<b 1>', [('<b 2>',[('<b 3>',[])])])]),\n",
    "             '<c>':  ('<c>',[('<c 1>', [('<c 2>',[('<c 3>',[])])])])}"
   ]
  },
  {
   "cell_type": "code",
   "execution_count": 127,
   "metadata": {},
   "outputs": [],
   "source": [
    "%top assert not is_A_more_refined_than_B(['<a 1>', '<b 1>', '<c 1>'], ['<a 2>', '<b 2>', '<c 2>'], my_porder)"
   ]
  },
  {
   "cell_type": "code",
   "execution_count": 128,
   "metadata": {},
   "outputs": [],
   "source": [
    "%top assert is_A_more_refined_than_B(['<a 3>', '<b 3>', '<c 3>'], ['<a 2>', '<b 2>', '<c 2>'], my_porder)"
   ]
  },
  {
   "cell_type": "code",
   "execution_count": 129,
   "metadata": {},
   "outputs": [],
   "source": [
    "%top assert is_A_more_refined_than_B(['<a 2>', '<b 2>', '<c 3>'], ['<a 2>', '<b 2>', '<c 2>'], my_porder)"
   ]
  },
  {
   "cell_type": "code",
   "execution_count": 130,
   "metadata": {},
   "outputs": [],
   "source": [
    "%top assert not is_A_more_refined_than_B(['<a 3>', '<b 3>', '<c 1>'], ['<a 2>', '<b 2>', '<c 2>'], my_porder)"
   ]
  },
  {
   "cell_type": "markdown",
   "metadata": {},
   "source": [
    "##### Get general rule"
   ]
  },
  {
   "cell_type": "code",
   "execution_count": 131,
   "metadata": {},
   "outputs": [],
   "source": [
    "def get_general_rule(ruleA, rules, porder):\n",
    "    unknown = 0\n",
    "    for r in rules:\n",
    "        v = is_A_more_refined_than_B(ruleA, r, porder)\n",
    "        if v is None:\n",
    "            # we dont know about this.\n",
    "            unknown += 1\n",
    "            continue\n",
    "        elif v:\n",
    "            return r, unknown\n",
    "    return None, unknown"
   ]
  },
  {
   "cell_type": "code",
   "execution_count": 132,
   "metadata": {},
   "outputs": [
    {
     "data": {
      "text/plain": [
       "(['<a 1>', '<b 1>', '<c 1>'], 0)"
      ]
     },
     "execution_count": 132,
     "metadata": {},
     "output_type": "execute_result"
    }
   ],
   "source": [
    "%%top\n",
    "get_general_rule(['<a 1>', '<b 1>', '<c 1>'], [\n",
    "    ['<a 1>', '<b 1>', '<c 1>'],\n",
    "    ['<a 2>', '<b 2>', '<c 2>'],\n",
    "    ['<a 3>', '<b 3>', '<c 3>'],\n",
    "], my_porder)"
   ]
  },
  {
   "cell_type": "code",
   "execution_count": 133,
   "metadata": {},
   "outputs": [
    {
     "data": {
      "text/plain": [
       "(['<a 1>', '<b 1>', '<c 1>'], 0)"
      ]
     },
     "execution_count": 133,
     "metadata": {},
     "output_type": "execute_result"
    }
   ],
   "source": [
    "%%top\n",
    "get_general_rule(['<a 1>', '<b 1>', '<c 3>'], [\n",
    "    ['<a 1>', '<b 1>', '<c 1>'],\n",
    "    ['<a 2>', '<b 2>'],\n",
    "    ['<a 3>'],\n",
    "], my_porder)"
   ]
  },
  {
   "cell_type": "code",
   "execution_count": 134,
   "metadata": {},
   "outputs": [
    {
     "data": {
      "text/plain": [
       "(None, 0)"
      ]
     },
     "execution_count": 134,
     "metadata": {},
     "output_type": "execute_result"
    }
   ],
   "source": [
    "%%top\n",
    "get_general_rule(['<a 1>', '<b 2>'], [\n",
    "    ['<a 1>', '<b 1>', '<c 1>'],\n",
    "    ['<a 2>', '<b 2>'],\n",
    "    ['<a 3>'],\n",
    "], my_porder)"
   ]
  },
  {
   "cell_type": "markdown",
   "metadata": {},
   "source": [
    "##### Is keyA more refined than keyB"
   ]
  },
  {
   "cell_type": "code",
   "execution_count": 135,
   "metadata": {},
   "outputs": [],
   "source": [
    "def is_keyA_more_refined_than_keyB(keyA, keyB, porder, grammar):\n",
    "    # essential idea of comparing two keys is this:\n",
    "    # One key is smaller than the other if for any given rule in the first, there exist another rule that is larger\n",
    "    # than that in the second key.\n",
    "    # a rule is smaller than another if all tokens in that rule is either equal (matching) or smaller than\n",
    "    # the corresponding token in the other.\n",
    "    \n",
    "    # if normalize(keyB) == keyB: return True # normalized key is always the top (and may not exist in grammar)\n",
    "    \n",
    "    A_rules = grammar[keyA]\n",
    "    B_rules = grammar[keyB]\n",
    "   \n",
    "    for A_rule in A_rules:\n",
    "        v,unk = get_general_rule(A_rule, B_rules, porder)\n",
    "        if v is None:\n",
    "            if unk:\n",
    "                return None # dont know\n",
    "            return False\n",
    "        # There is a more general rule than A_rule in B_rules\n",
    "    return True"
   ]
  },
  {
   "cell_type": "markdown",
   "metadata": {},
   "source": [
    "##### Insert into partial order"
   ]
  },
  {
   "cell_type": "code",
   "execution_count": 136,
   "metadata": {},
   "outputs": [],
   "source": [
    "def insert_into_porder(my_key, porder, grammar):\n",
    "    def update_tree(my_key, tree, grammar):\n",
    "        if tree is None: return True, (my_key, [])\n",
    "        k, children = tree\n",
    "        if is_base_key(my_key):\n",
    "            if not is_base_key(k):\n",
    "                return True, (my_key, [tree])\n",
    "            else:\n",
    "                return False, tree\n",
    " \n",
    "        v = is_keyA_more_refined_than_keyB(my_key, k, porder, grammar)\n",
    "        if is_base_key(k): v = True\n",
    "        # if v is unknown...\n",
    "        if v: # we should go into the children\n",
    "            if not children:\n",
    "                #print('>', 0)\n",
    "                return True, (k, [(my_key, [])])\n",
    "            new_children = []\n",
    "            updated = False\n",
    "            for c in children:\n",
    "                u, c_ = update_tree(my_key, c, grammar)\n",
    "                if u: updated = True\n",
    "                new_children.append(c_)\n",
    "            #print('>', 1)\n",
    "            return updated, (k, new_children)\n",
    "        else:\n",
    "            #v = is_keyA_more_refined_than_keyB(k, my_key, porder, grammar)\n",
    "            if v:\n",
    "                #this should be the parent of tree\n",
    "                #print('>', 2)\n",
    "                return True, (my_key, [tree])\n",
    "            else:\n",
    "                # add as a sibling -- but only if we have evidence.\n",
    "                if v is not None:\n",
    "                    #print('>', 3)\n",
    "                    return True, (k, children + [(my_key, [])])\n",
    "                else:\n",
    "                    return False, tree\n",
    "    key = normalize(my_key)\n",
    "    updated, v = update_tree(my_key, porder.get(key, None), grammar)\n",
    "    if updated:\n",
    "        porder[key] = v\n",
    "    return updated"
   ]
  },
  {
   "cell_type": "markdown",
   "metadata": {},
   "source": [
    "##### Is key in partial order"
   ]
  },
  {
   "cell_type": "code",
   "execution_count": 137,
   "metadata": {},
   "outputs": [],
   "source": [
    "def is_key_in_porder(key, tree):\n",
    "    if tree is None: return False\n",
    "    name, children = tree\n",
    "    if name == key:\n",
    "        return True\n",
    "    for c in children:\n",
    "        if is_key_in_porder(key, c):\n",
    "            return True\n",
    "    return False"
   ]
  },
  {
   "cell_type": "markdown",
   "metadata": {},
   "source": [
    "##### Identify partial orders of nonterminals from a grammar"
   ]
  },
  {
   "cell_type": "markdown",
   "metadata": {},
   "source": [
    "In theory, identifying partial orders is simple once you have the machinary for `and` and `neg`. To find if a given nonterminal `A` is more refined than `B`, do `A - B` and `B - A` and check which of these are empty. Since we do not have the machinery yet, doing it here without that."
   ]
  },
  {
   "cell_type": "code",
   "execution_count": 138,
   "metadata": {},
   "outputs": [],
   "source": [
    "def identify_partial_orders(grammar):\n",
    "    porder = {}\n",
    "    cont = True\n",
    "    while cont:\n",
    "        cont = False\n",
    "        for k in grammar:\n",
    "            nkey = normalize(k)\n",
    "            if is_key_in_porder(k, porder.get(nkey, None)):\n",
    "                continue\n",
    "            updated = insert_into_porder(k, porder, grammar)\n",
    "            if not updated:\n",
    "                continue\n",
    "            cont = True\n",
    "    #for k in grammar:\n",
    "    #    assert k in porder\n",
    "    return porder"
   ]
  },
  {
   "cell_type": "code",
   "execution_count": 139,
   "metadata": {
    "scrolled": true
   },
   "outputs": [
    {
     "data": {
      "text/plain": [
       "{'<start>': ('<start>', []),\n",
       " '<expr>': ('<expr>', []),\n",
       " '<term>': ('<term>', []),\n",
       " '<factor>': ('<factor>', []),\n",
       " '<integer>': ('<integer>', []),\n",
       " '<digit>': ('<digit>', [])}"
      ]
     },
     "execution_count": 139,
     "metadata": {},
     "output_type": "execute_result"
    }
   ],
   "source": [
    "%%top\n",
    "po = identify_partial_orders(EXPR_GRAMMAR); po"
   ]
  },
  {
   "cell_type": "code",
   "execution_count": 140,
   "metadata": {},
   "outputs": [],
   "source": [
    "def rule_is_redundant(rule, rules, porder):\n",
    "    # a rule is redundant if there is another in the rules that is more general.\n",
    "    grule, unknown = get_general_rule(rule, [r for r in rules if r != rule], porder)\n",
    "    if grule:\n",
    "        return True\n",
    "    return False"
   ]
  },
  {
   "cell_type": "code",
   "execution_count": 141,
   "metadata": {},
   "outputs": [],
   "source": [
    "def remove_redundant_rules(grammar, porder=None):\n",
    "    if porder is None:\n",
    "        porder = identify_partial_orders(grammar)\n",
    "    else:\n",
    "        if porder == {}:\n",
    "            _porder = identify_partial_orders(grammar)\n",
    "            porder.update(_porder)\n",
    "        else:\n",
    "            pass\n",
    "        \n",
    "    new_g = {}\n",
    "    removed_rules = 0\n",
    "    for key in grammar:\n",
    "        ruleset = list({tuple(r) for r in grammar[key]})\n",
    "        cont = True\n",
    "        while cont:\n",
    "            cont = False\n",
    "            for rule in ruleset:\n",
    "                if rule_is_redundant(rule, ruleset, porder):\n",
    "                    ruleset = [r for r in ruleset if r != rule]\n",
    "                    removed_rules += 1\n",
    "                    cont = True\n",
    "                else:\n",
    "                    continue\n",
    "            new_g[key] = ruleset\n",
    "    return new_g, removed_rules"
   ]
  },
  {
   "cell_type": "code",
   "execution_count": 142,
   "metadata": {
    "scrolled": false
   },
   "outputs": [
    {
     "name": "stdout",
     "output_type": "stream",
     "text": [
      "<start> ::=\n",
      "|    <expr>\n",
      "<expr> ::=\n",
      "|    <term> ' + ' <expr>\n",
      "|    <term>\n",
      "|    <term> ' - ' <expr>\n",
      "<term> ::=\n",
      "|    <factor>\n",
      "|    <factor> ' * ' <term>\n",
      "|    <factor> ' / ' <term>\n",
      "<factor> ::=\n",
      "|    <integer> '.' <integer>\n",
      "|    <integer>\n",
      "|    '+' <factor>\n",
      "|    '(' <expr> ')'\n",
      "|    '-' <factor>\n",
      "<integer> ::=\n",
      "|    <digit> <integer>\n",
      "|    <digit>\n",
      "<digit> ::=\n",
      "|    '0'\n",
      "|    '5'\n",
      "|    '6'\n",
      "|    '4'\n",
      "|    '7'\n",
      "|    '1'\n",
      "|    '9'\n",
      "|    '8'\n",
      "|    '3'\n",
      "|    '2'\n",
      "6 24\n"
     ]
    }
   ],
   "source": [
    "%%top\n",
    "g, n = remove_redundant_rules(EXPR_GRAMMAR);\n",
    "Gs(g)"
   ]
  },
  {
   "cell_type": "code",
   "execution_count": 143,
   "metadata": {},
   "outputs": [],
   "source": [
    "def is_nulled_rule(rule):\n",
    "    for t in rule:\n",
    "        if not is_nt(t): continue\n",
    "        if refinement(t) == '_|_':\n",
    "            return "
   ]
  },
  {
   "cell_type": "code",
   "execution_count": 144,
   "metadata": {},
   "outputs": [],
   "source": [
    "def remove_nulled_rules(grammar):\n",
    "    g = {}\n",
    "    nulled_rules = []\n",
    "    for k in grammar:\n",
    "        g[k] = []\n",
    "        for rule in grammar[k]:\n",
    "            if is_nulled_rule(rule):\n",
    "                nulled_rules.append(rule)\n",
    "            else:\n",
    "                g[k].append(rule)\n",
    "    return g, nulled_rules"
   ]
  },
  {
   "cell_type": "markdown",
   "metadata": {},
   "source": [
    "#### Grammar GC"
   ]
  },
  {
   "cell_type": "markdown",
   "metadata": {},
   "source": [
    "We will redefine this later when the negation comes in."
   ]
  },
  {
   "cell_type": "code",
   "execution_count": 145,
   "metadata": {},
   "outputs": [],
   "source": [
    "def grammar_gc(grammar, start_symbol, options=(1,2, 3), log=False):\n",
    "    g = grammar\n",
    "    while True:\n",
    "        if 1 in options:\n",
    "            g0, empty_keys = remove_empty_keys(g) # keys with rules empty\n",
    "        else:\n",
    "            g0, empty_keys = g, []\n",
    "        for k in g0:\n",
    "            for rule in g0[k]:\n",
    "                for t in rule: assert type(t) is str\n",
    "\n",
    "        if 2 in options:\n",
    "            g1, unused_keys = remove_unused_keys(g0, start_symbol) #keys that are not reachable from start\n",
    "        else:\n",
    "            g1, unused_keys = g0, []\n",
    "        for k in g1:\n",
    "            for rule in g1[k]:\n",
    "                for t in rule: assert type(t) is str\n",
    "\n",
    "        if 3 in options:\n",
    "            g2, nulled_rules = remove_nulled_rules(g1) # rules with _|_ in them\n",
    "        else:\n",
    "            g2, nulled_rules = g1, []\n",
    "            \n",
    "        g = g2\n",
    "        if log:\n",
    "            print('GC: ', unused_keys, empty_keys, nulled_rules)\n",
    "        if not (len(unused_keys) + len(empty_keys) + len(nulled_rules)):\n",
    "            break\n",
    "    # removing redundant rules is slightly dangerous. It can remove things\n",
    "    # like finite limit of a recursion because the limit is more refined than\n",
    "    # other rules.\n",
    "    # E.g\n",
    "    #  <E f> = <E f>\n",
    "    #        | <E l>\n",
    "    #  <E l> = 1\n",
    "    # Here, <E f> is more general than <E l> precisely because <E l> exists\n",
    "    # but our partial orders are not intelligent enough (todo: check)\n",
    "    #if 3 in options:\n",
    "    #    g2, redundant_rules = remove_redundant_rules(g)\n",
    "    #else:\n",
    "    # g2, redundant_rules = g, 0\n",
    "        \n",
    "    #if 4 in options:\n",
    "    #  We need to incorporate simplify booleans\n",
    "    #else:\n",
    "    return g, start_symbol"
   ]
  },
  {
   "cell_type": "markdown",
   "metadata": {},
   "source": [
    "#### Complete"
   ]
  },
  {
   "cell_type": "code",
   "execution_count": 146,
   "metadata": {},
   "outputs": [],
   "source": [
    "def find_reachable_keys_unchecked(grammar, key, reachable_keys=None, found_so_far=None):\n",
    "    if reachable_keys is None: reachable_keys = {}\n",
    "    if found_so_far is None: found_so_far = set()\n",
    "\n",
    "    for rule in grammar.get(key, []):\n",
    "        for token in rule:\n",
    "            if not is_nt(token): continue\n",
    "            if token in found_so_far: continue\n",
    "            found_so_far.add(token)\n",
    "            if token in reachable_keys:\n",
    "                for k in reachable_keys[token]:\n",
    "                    found_so_far.add(k)\n",
    "            else:\n",
    "                keys = find_reachable_keys_unchecked(grammar, token, reachable_keys, found_so_far)\n",
    "                # reachable_keys[token] = keys <- found_so_far contains results from earlier\n",
    "    return found_so_far"
   ]
  },
  {
   "cell_type": "code",
   "execution_count": 147,
   "metadata": {},
   "outputs": [],
   "source": [
    "def reachable_dict_unchecked(grammar):\n",
    "    reachable = {}\n",
    "    for key in grammar:\n",
    "        keys = find_reachable_keys_unchecked(grammar, key, reachable)\n",
    "        reachable[key] = keys\n",
    "    return reachable"
   ]
  },
  {
   "cell_type": "code",
   "execution_count": 148,
   "metadata": {},
   "outputs": [],
   "source": [
    "def complete(grammar, start, log=False):\n",
    "    keys = undefined_keys(grammar)\n",
    "    reachable_keys = reachable_dict_unchecked(grammar)\n",
    "    for key in keys:\n",
    "        if key not in reachable_keys[start]: continue\n",
    "        grammar = reconstruct_key(key, grammar, log)\n",
    "    grammar, _ = grammar_gc(grammar, start)\n",
    "    return grammar"
   ]
  },
  {
   "cell_type": "markdown",
   "metadata": {},
   "source": [
    "## Inserting a fault"
   ]
  },
  {
   "cell_type": "code",
   "execution_count": 149,
   "metadata": {},
   "outputs": [
    {
     "data": {
      "text/plain": [
       "[]"
      ]
     },
     "execution_count": 149,
     "metadata": {},
     "output_type": "execute_result"
    }
   ],
   "source": [
    "EXCEPTION_HAPPENED"
   ]
  },
  {
   "cell_type": "markdown",
   "metadata": {},
   "source": [
    "The output that we get from `ddset` has nodes marked. So, we define a way to mark nodes as abstract."
   ]
  },
  {
   "cell_type": "markdown",
   "metadata": {},
   "source": [
    "### Mark the abstract nodes\n",
    "\n",
    "Given a path, we mark the node as abstract."
   ]
  },
  {
   "cell_type": "code",
   "execution_count": 150,
   "metadata": {},
   "outputs": [],
   "source": [
    "def mark_path_abstract(tree, path):\n",
    "    name, children = find_node(tree, path)\n",
    "    new_tree = replace_tree(tree, path, (name, children, {'abstract': True}))\n",
    "    return new_tree"
   ]
  },
  {
   "cell_type": "markdown",
   "metadata": {},
   "source": [
    "First, we locate a suitable node."
   ]
  },
  {
   "cell_type": "code",
   "execution_count": 151,
   "metadata": {},
   "outputs": [],
   "source": [
    "%%top\n",
    "abs_path_1 = [0,2,0,0,1,0,0,1]\n",
    "assert tree_to_str(find_node(expr_tree, abs_path_1)) == '2 * 3 / 4'"
   ]
  },
  {
   "cell_type": "code",
   "execution_count": 152,
   "metadata": {
    "scrolled": false
   },
   "outputs": [
    {
     "data": {
      "text/plain": [
       "('<start>',\n",
       " [('<expr>',\n",
       "   [('<term>', [('<factor>', [('<integer>', [('<digit>', [('1', [])])])])]),\n",
       "    (' + ', []),\n",
       "    ('<expr>',\n",
       "     [('<term>',\n",
       "       [('<factor>',\n",
       "         [('(', []),\n",
       "          ('<expr>',\n",
       "           [('<term>',\n",
       "             [('<factor>',\n",
       "               [('(', []),\n",
       "                ('<expr>',\n",
       "                 [('<term>',\n",
       "                   [('<factor>', [('<integer>', [('<digit>', [('2', [])])])]),\n",
       "                    (' * ', []),\n",
       "                    ('<term>',\n",
       "                     [('<factor>',\n",
       "                       [('<integer>', [('<digit>', [('3', [])])])]),\n",
       "                      (' / ', []),\n",
       "                      ('<term>',\n",
       "                       [('<factor>',\n",
       "                         [('<integer>', [('<digit>', [('4', [])])])])])])])],\n",
       "                 {'abstract': True}),\n",
       "                (')', [])])])]),\n",
       "          (')', [])])])])])])"
      ]
     },
     "execution_count": 152,
     "metadata": {},
     "output_type": "execute_result"
    }
   ],
   "source": [
    "%%top\n",
    "v = mark_path_abstract(expr_tree, abs_path_1); v"
   ]
  },
  {
   "cell_type": "markdown",
   "metadata": {},
   "source": [
    "Given a tree with some nodes marked abstract, go through the tree, and mark everything else as concrete. Default is to mark a node as concrete."
   ]
  },
  {
   "cell_type": "code",
   "execution_count": 153,
   "metadata": {},
   "outputs": [],
   "source": [
    "def mark_concrete_r(tree):\n",
    "    name, children, *abstract_a = tree\n",
    "    abstract = {'abstract': False} if not abstract_a else abstract_a[0]\n",
    "    return (name, [mark_concrete_r(c) for c in children], abstract)"
   ]
  },
  {
   "cell_type": "code",
   "execution_count": 154,
   "metadata": {},
   "outputs": [
    {
     "data": {
      "text/plain": [
       "('<start>',\n",
       " [('<expr>',\n",
       "   [('<term>',\n",
       "     [('<factor>',\n",
       "       [('<integer>',\n",
       "         [('<digit>', [('1', [], {'abstract': False})], {'abstract': False})],\n",
       "         {'abstract': False})],\n",
       "       {'abstract': False})],\n",
       "     {'abstract': False}),\n",
       "    (' + ', [], {'abstract': False}),\n",
       "    ('<expr>',\n",
       "     [('<term>',\n",
       "       [('<factor>',\n",
       "         [('(', [], {'abstract': False}),\n",
       "          ('<expr>',\n",
       "           [('<term>',\n",
       "             [('<factor>',\n",
       "               [('(', [], {'abstract': False}),\n",
       "                ('<expr>',\n",
       "                 [('<term>',\n",
       "                   [('<factor>',\n",
       "                     [('<integer>',\n",
       "                       [('<digit>',\n",
       "                         [('2', [], {'abstract': False})],\n",
       "                         {'abstract': False})],\n",
       "                       {'abstract': False})],\n",
       "                     {'abstract': False}),\n",
       "                    (' * ', [], {'abstract': False}),\n",
       "                    ('<term>',\n",
       "                     [('<factor>',\n",
       "                       [('<integer>',\n",
       "                         [('<digit>',\n",
       "                           [('3', [], {'abstract': False})],\n",
       "                           {'abstract': False})],\n",
       "                         {'abstract': False})],\n",
       "                       {'abstract': False}),\n",
       "                      (' / ', [], {'abstract': False}),\n",
       "                      ('<term>',\n",
       "                       [('<factor>',\n",
       "                         [('<integer>',\n",
       "                           [('<digit>',\n",
       "                             [('4', [], {'abstract': False})],\n",
       "                             {'abstract': False})],\n",
       "                           {'abstract': False})],\n",
       "                         {'abstract': False})],\n",
       "                       {'abstract': False})],\n",
       "                     {'abstract': False})],\n",
       "                   {'abstract': False})],\n",
       "                 {'abstract': True}),\n",
       "                (')', [], {'abstract': False})],\n",
       "               {'abstract': False})],\n",
       "             {'abstract': False})],\n",
       "           {'abstract': False}),\n",
       "          (')', [], {'abstract': False})],\n",
       "         {'abstract': False})],\n",
       "       {'abstract': False})],\n",
       "     {'abstract': False})],\n",
       "   {'abstract': False})],\n",
       " {'abstract': False})"
      ]
     },
     "execution_count": 154,
     "metadata": {},
     "output_type": "execute_result"
    }
   ],
   "source": [
    "%%top\n",
    "t = mark_concrete_r(v); t"
   ]
  },
  {
   "cell_type": "markdown",
   "metadata": {},
   "source": [
    "A way to display the abstracted tree"
   ]
  },
  {
   "cell_type": "code",
   "execution_count": 155,
   "metadata": {},
   "outputs": [],
   "source": [
    "def till_abstract(node):\n",
    "    name, children, *rest = node\n",
    "    if rest[-1]['abstract']:\n",
    "        return (name + '*', [])\n",
    "    return (name, [till_abstract(c) for c in children], *rest)"
   ]
  },
  {
   "cell_type": "code",
   "execution_count": 156,
   "metadata": {},
   "outputs": [
    {
     "data": {
      "image/png": "[encoded data removed]",
      "text/plain": [
       "<IPython.core.display.Image object>"
      ]
     },
     "execution_count": 156,
     "metadata": {},
     "output_type": "execute_result"
    }
   ],
   "source": [
    "%%top\n",
    "zoom(display_tree(till_abstract(t)))"
   ]
  },
  {
   "cell_type": "code",
   "execution_count": 157,
   "metadata": {},
   "outputs": [],
   "source": [
    "def Da(t):\n",
    "    return zoom(display_tree(till_abstract(t)))"
   ]
  },
  {
   "cell_type": "code",
   "execution_count": 158,
   "metadata": {},
   "outputs": [
    {
     "data": {
      "text/plain": [
       "('((2 * 3 / 4))', '<expr>')"
      ]
     },
     "execution_count": 158,
     "metadata": {},
     "output_type": "execute_result"
    }
   ],
   "source": [
    "#%%top\n",
    "abs_t1_ = find_node(expr_tree, [0, 2])\n",
    "tree_to_str(abs_t1_), abs_t1_[0]"
   ]
  },
  {
   "cell_type": "code",
   "execution_count": 159,
   "metadata": {},
   "outputs": [],
   "source": [
    "#%%top\n",
    "abs_t1 = ('<start>', [abs_t1_])"
   ]
  },
  {
   "cell_type": "code",
   "execution_count": 160,
   "metadata": {},
   "outputs": [],
   "source": [
    "%top validate_tree(abs_t1, EXPR_GRAMMAR)"
   ]
  },
  {
   "cell_type": "code",
   "execution_count": 161,
   "metadata": {},
   "outputs": [
    {
     "data": {
      "text/plain": [
       "'2 * 3 / 4'"
      ]
     },
     "execution_count": 161,
     "metadata": {},
     "output_type": "execute_result"
    }
   ],
   "source": [
    "#%%top\n",
    "t_abs_p1 = [0, 0, 0, 1, 0, 0, 1]\n",
    "Ts(find_node(abs_t1, t_abs_p1))"
   ]
  },
  {
   "cell_type": "markdown",
   "metadata": {},
   "source": [
    "We now define a function to check if a given node is abstract or not."
   ]
  },
  {
   "cell_type": "code",
   "execution_count": 162,
   "metadata": {},
   "outputs": [],
   "source": [
    "def is_node_abstract(node):\n",
    "    name, children, *abstract_a = node\n",
    "    if not abstract_a:\n",
    "        return True\n",
    "    else:\n",
    "        return abstract_a[0]['abstract']"
   ]
  },
  {
   "cell_type": "code",
   "execution_count": 163,
   "metadata": {},
   "outputs": [],
   "source": [
    "def tree_to_str_a(tree):\n",
    "    name, children, *general_ = tree\n",
    "    if not is_nt(name): return name\n",
    "    if is_node_abstract(tree):\n",
    "        return name\n",
    "    return ''.join([tree_to_str_a(c) for c in children])"
   ]
  },
  {
   "cell_type": "code",
   "execution_count": 164,
   "metadata": {},
   "outputs": [],
   "source": [
    "Ta = tree_to_str_a"
   ]
  },
  {
   "cell_type": "code",
   "execution_count": 165,
   "metadata": {},
   "outputs": [
    {
     "data": {
      "text/plain": [
       "'1 + ((<expr>))'"
      ]
     },
     "execution_count": 165,
     "metadata": {},
     "output_type": "execute_result"
    }
   ],
   "source": [
    "%top tree_to_str_a(t)"
   ]
  },
  {
   "cell_type": "code",
   "execution_count": 166,
   "metadata": {},
   "outputs": [
    {
     "data": {
      "text/plain": [
       "('<start>',\n",
       " [('<expr>',\n",
       "   [('<term>',\n",
       "     [('<factor>',\n",
       "       [('(', [], {'abstract': False}),\n",
       "        ('<expr>',\n",
       "         [('<term>',\n",
       "           [('<factor>',\n",
       "             [('(', [], {'abstract': False}),\n",
       "              ('<expr>',\n",
       "               [('<term>',\n",
       "                 [('<factor>',\n",
       "                   [('<integer>',\n",
       "                     [('<digit>',\n",
       "                       [('2', [], {'abstract': False})],\n",
       "                       {'abstract': False})],\n",
       "                     {'abstract': False})],\n",
       "                   {'abstract': False}),\n",
       "                  (' * ', [], {'abstract': False}),\n",
       "                  ('<term>',\n",
       "                   [('<factor>',\n",
       "                     [('<integer>',\n",
       "                       [('<digit>',\n",
       "                         [('3', [], {'abstract': False})],\n",
       "                         {'abstract': False})],\n",
       "                       {'abstract': False})],\n",
       "                     {'abstract': False}),\n",
       "                    (' / ', [], {'abstract': False}),\n",
       "                    ('<term>',\n",
       "                     [('<factor>',\n",
       "                       [('<integer>',\n",
       "                         [('<digit>',\n",
       "                           [('4', [], {'abstract': False})],\n",
       "                           {'abstract': False})],\n",
       "                         {'abstract': False})],\n",
       "                       {'abstract': False})],\n",
       "                     {'abstract': False})],\n",
       "                   {'abstract': False})],\n",
       "                 {'abstract': False})],\n",
       "               {'abstract': True}),\n",
       "              (')', [], {'abstract': False})],\n",
       "             {'abstract': False})],\n",
       "           {'abstract': False})],\n",
       "         {'abstract': False}),\n",
       "        (')', [], {'abstract': False})],\n",
       "       {'abstract': False})],\n",
       "     {'abstract': False})],\n",
       "   {'abstract': False})],\n",
       " {'abstract': False})"
      ]
     },
     "execution_count": 166,
     "metadata": {},
     "output_type": "execute_result"
    }
   ],
   "source": [
    "#%%top\n",
    "abs_tree1 = mark_concrete_r(mark_path_abstract(abs_t1, t_abs_p1)); abs_tree1"
   ]
  },
  {
   "cell_type": "code",
   "execution_count": 167,
   "metadata": {},
   "outputs": [
    {
     "data": {
      "text/plain": [
       "'((<expr>))'"
      ]
     },
     "execution_count": 167,
     "metadata": {},
     "output_type": "execute_result"
    }
   ],
   "source": [
    "%top Ta(abs_tree1)"
   ]
  },
  {
   "cell_type": "code",
   "execution_count": 168,
   "metadata": {},
   "outputs": [
    {
     "data": {
      "image/png": "[encoded data removed]",
      "text/plain": [
       "<IPython.core.display.Image object>"
      ]
     },
     "execution_count": 168,
     "metadata": {},
     "output_type": "execute_result"
    }
   ],
   "source": [
    "%top Da(abs_tree1)"
   ]
  },
  {
   "cell_type": "code",
   "execution_count": 169,
   "metadata": {},
   "outputs": [],
   "source": [
    "def mark_abstract_nodes(tree, paths):\n",
    "    for path in paths:\n",
    "        tree = mark_path_abstract(tree, path)\n",
    "    return mark_concrete_r(tree)"
   ]
  },
  {
   "cell_type": "code",
   "execution_count": 170,
   "metadata": {},
   "outputs": [
    {
     "data": {
      "text/plain": [
       "'((2 * 3 / 4))'"
      ]
     },
     "execution_count": 170,
     "metadata": {},
     "output_type": "execute_result"
    }
   ],
   "source": [
    "%top Ta(mark_abstract_nodes(abs_t1, []))"
   ]
  },
  {
   "cell_type": "markdown",
   "metadata": {},
   "source": [
    "### An abstract pattern from DDSET - F1"
   ]
  },
  {
   "cell_type": "code",
   "execution_count": 171,
   "metadata": {},
   "outputs": [
    {
     "data": {
      "text/plain": [
       "'((<expr>))'"
      ]
     },
     "execution_count": 171,
     "metadata": {},
     "output_type": "execute_result"
    }
   ],
   "source": [
    "%top Ta(mark_abstract_nodes(abs_t1, [t_abs_p1]))"
   ]
  },
  {
   "cell_type": "markdown",
   "metadata": {},
   "source": [
    "**IMPORTANT** This is what we expect our input to be. That is, a full parse tree of a minimized string with abstractions (typed holes) indicated."
   ]
  },
  {
   "cell_type": "markdown",
   "metadata": {},
   "source": [
    "### Finding characterizing node\n",
    "\n",
    "A characterizing node is the lowest node that completely contains the given pattern. To find a characterizing node, we use the miniaml AST, and identify the parent node that encloses all the concrete nodes."
   ]
  },
  {
   "cell_type": "code",
   "execution_count": 172,
   "metadata": {},
   "outputs": [],
   "source": [
    "SKIP_ABSTRACT_NODE = False"
   ]
  },
  {
   "cell_type": "code",
   "execution_count": 173,
   "metadata": {},
   "outputs": [],
   "source": [
    "def find_charecterizing_node(tree):\n",
    "    name, children, *gen = tree\n",
    "    if len(children) == 1:\n",
    "        return find_charecterizing_node(children[0])\n",
    "    # trim out children that are empty from the beginning\n",
    "    # and end\n",
    "    non_empty = []\n",
    "    for c in children:\n",
    "        if not is_nt(c[0]):\n",
    "            # have a terminal. So, the parent node is charecterizing.\n",
    "            return tree\n",
    "        elif is_node_abstract(c) and SKIP_ABSTRACT_NODE:\n",
    "            # outer abstract node. Hence, not part of charecterizing node.\n",
    "            continue\n",
    "        elif tree_to_str(c):\n",
    "            non_empty.append(c)\n",
    "    assert non_empty, 'fault node should have at least one non-empty child'\n",
    "    if len(non_empty) > 1:\n",
    "        return tree\n",
    "    else:\n",
    "        return find_charecterizing_node(non_empty[0])"
   ]
  },
  {
   "cell_type": "code",
   "execution_count": 174,
   "metadata": {},
   "outputs": [
    {
     "data": {
      "text/plain": [
       "('<factor>',\n",
       " [('(', [], {'abstract': False}),\n",
       "  ('<expr>',\n",
       "   [('<term>',\n",
       "     [('<factor>',\n",
       "       [('(', [], {'abstract': False}),\n",
       "        ('<expr>',\n",
       "         [('<term>',\n",
       "           [('<factor>',\n",
       "             [('<integer>',\n",
       "               [('<digit>',\n",
       "                 [('2', [], {'abstract': False})],\n",
       "                 {'abstract': False})],\n",
       "               {'abstract': False})],\n",
       "             {'abstract': False}),\n",
       "            (' * ', [], {'abstract': False}),\n",
       "            ('<term>',\n",
       "             [('<factor>',\n",
       "               [('<integer>',\n",
       "                 [('<digit>',\n",
       "                   [('3', [], {'abstract': False})],\n",
       "                   {'abstract': False})],\n",
       "                 {'abstract': False})],\n",
       "               {'abstract': False}),\n",
       "              (' / ', [], {'abstract': False}),\n",
       "              ('<term>',\n",
       "               [('<factor>',\n",
       "                 [('<integer>',\n",
       "                   [('<digit>',\n",
       "                     [('4', [], {'abstract': False})],\n",
       "                     {'abstract': False})],\n",
       "                   {'abstract': False})],\n",
       "                 {'abstract': False})],\n",
       "               {'abstract': False})],\n",
       "             {'abstract': False})],\n",
       "           {'abstract': False})],\n",
       "         {'abstract': True}),\n",
       "        (')', [], {'abstract': False})],\n",
       "       {'abstract': False})],\n",
       "     {'abstract': False})],\n",
       "   {'abstract': False}),\n",
       "  (')', [], {'abstract': False})],\n",
       " {'abstract': False})"
      ]
     },
     "execution_count": 174,
     "metadata": {},
     "output_type": "execute_result"
    }
   ],
   "source": [
    "#%%top\n",
    "abs_tree_cnode1 = find_charecterizing_node(abs_tree1); abs_tree_cnode1"
   ]
  },
  {
   "cell_type": "markdown",
   "metadata": {},
   "source": [
    "As can be seen, the `<factor>` node completely contains the fault pattern."
   ]
  },
  {
   "cell_type": "code",
   "execution_count": 175,
   "metadata": {},
   "outputs": [
    {
     "data": {
      "text/plain": [
       "('<start>', '((2 * 3 / 4))')"
      ]
     },
     "execution_count": 175,
     "metadata": {},
     "output_type": "execute_result"
    }
   ],
   "source": [
    "%top abs_tree1[0], Ts(abs_tree1)"
   ]
  },
  {
   "cell_type": "code",
   "execution_count": 176,
   "metadata": {},
   "outputs": [
    {
     "data": {
      "text/plain": [
       "('<factor>', '((2 * 3 / 4))')"
      ]
     },
     "execution_count": 176,
     "metadata": {},
     "output_type": "execute_result"
    }
   ],
   "source": [
    "%top abs_tree_cnode1[0], Ts(abs_tree_cnode1)"
   ]
  },
  {
   "cell_type": "markdown",
   "metadata": {},
   "source": [
    "Now, we want to add our grammar the keys that are required to cause a failure. For that, we first extract the local grammar that reproduces the fault pattern "
   ]
  },
  {
   "cell_type": "markdown",
   "metadata": {},
   "source": [
    "### Pattern Grammar"
   ]
  },
  {
   "cell_type": "code",
   "execution_count": 177,
   "metadata": {},
   "outputs": [
    {
     "data": {
      "text/plain": [
       "('<factor>',\n",
       " [('(', [], {'abstract': False}),\n",
       "  ('<expr>',\n",
       "   [('<term>',\n",
       "     [('<factor>',\n",
       "       [('(', [], {'abstract': False}),\n",
       "        ('<expr>',\n",
       "         [('<term>',\n",
       "           [('<factor>',\n",
       "             [('<integer>',\n",
       "               [('<digit>',\n",
       "                 [('2', [], {'abstract': False})],\n",
       "                 {'abstract': False})],\n",
       "               {'abstract': False})],\n",
       "             {'abstract': False}),\n",
       "            (' * ', [], {'abstract': False}),\n",
       "            ('<term>',\n",
       "             [('<factor>',\n",
       "               [('<integer>',\n",
       "                 [('<digit>',\n",
       "                   [('3', [], {'abstract': False})],\n",
       "                   {'abstract': False})],\n",
       "                 {'abstract': False})],\n",
       "               {'abstract': False}),\n",
       "              (' / ', [], {'abstract': False}),\n",
       "              ('<term>',\n",
       "               [('<factor>',\n",
       "                 [('<integer>',\n",
       "                   [('<digit>',\n",
       "                     [('4', [], {'abstract': False})],\n",
       "                     {'abstract': False})],\n",
       "                   {'abstract': False})],\n",
       "                 {'abstract': False})],\n",
       "               {'abstract': False})],\n",
       "             {'abstract': False})],\n",
       "           {'abstract': False})],\n",
       "         {'abstract': True}),\n",
       "        (')', [], {'abstract': False})],\n",
       "       {'abstract': False})],\n",
       "     {'abstract': False})],\n",
       "   {'abstract': False}),\n",
       "  (')', [], {'abstract': False})],\n",
       " {'abstract': False})"
      ]
     },
     "execution_count": 177,
     "metadata": {},
     "output_type": "execute_result"
    }
   ],
   "source": [
    "%top abs_tree_cnode1"
   ]
  },
  {
   "cell_type": "code",
   "execution_count": 178,
   "metadata": {},
   "outputs": [],
   "source": [
    " def mark_faulty_name(symbol, prefix, v):\n",
    "    return '<%s L%s_%s>'% (symbol[1:-1], prefix, v)"
   ]
  },
  {
   "cell_type": "code",
   "execution_count": 179,
   "metadata": {},
   "outputs": [],
   "source": [
    "def mark_faulty_nodes(node, prefix, counter=None):\n",
    "    if counter is None: counter = {}\n",
    "    symbol, children, *abstract = node\n",
    "    if is_node_abstract(node): # we dont markup further\n",
    "        return node\n",
    "    if symbol not in counter: counter[symbol] = 0\n",
    "    counter[symbol] += 1\n",
    "    v = str(counter[symbol])\n",
    "    if is_nt(symbol):\n",
    "        return (mark_faulty_name(symbol, prefix, v),\n",
    "                [mark_faulty_nodes(c, prefix, counter) for c in children],\n",
    "                *abstract)\n",
    "    else:\n",
    "        assert not children\n",
    "        return (symbol, children, *abstract)"
   ]
  },
  {
   "cell_type": "code",
   "execution_count": 180,
   "metadata": {},
   "outputs": [
    {
     "data": {
      "image/svg+xml": [
       "<?xml version=\"1.0\" encoding=\"UTF-8\" standalone=\"no\"?>\n",
       "<!DOCTYPE svg PUBLIC \"-//W3C//DTD SVG 1.1//EN\"\n",
       " \"http://www.w3.org/Graphics/SVG/1.1/DTD/svg11.dtd\">\n",
       "<!-- Generated by graphviz version 2.44.1 (20200629.0846)\n",
       " -->\n",
       "<!-- Pages: 1 -->\n",
       "<svg width=\"240pt\" height=\"749pt\"\n",
       " viewBox=\"0.00 0.00 240.00 749.00\" xmlns=\"http://www.w3.org/2000/svg\" xmlns:xlink=\"http://www.w3.org/1999/xlink\">\n",
       "<g id=\"graph0\" class=\"graph\" transform=\"scale(1 1) rotate(0) translate(4 745)\">\n",
       "<polygon fill=\"white\" stroke=\"transparent\" points=\"-4,4 -4,-745 236,-745 236,4 -4,4\"/>\n",
       "<!-- (0, 0) -->\n",
       "<g id=\"node1\" class=\"node\">\n",
       "<title>(0, 0)</title>\n",
       "<text text-anchor=\"middle\" x=\"100\" y=\"-729.8\" font-family=\"Times,serif\" font-size=\"14.00\">&lt;factor L1_1&gt; </text>\n",
       "</g>\n",
       "<!-- (1, 0) -->\n",
       "<g id=\"node2\" class=\"node\">\n",
       "<title>(1, 0)</title>\n",
       "<text text-anchor=\"middle\" x=\"39\" y=\"-663.8\" font-family=\"Times,serif\" font-size=\"14.00\">( </text>\n",
       "</g>\n",
       "<!-- (0, 0)&#45;&gt;(1, 0) -->\n",
       "<g id=\"edge1\" class=\"edge\">\n",
       "<title>(0, 0)&#45;&gt;(1, 0)</title>\n",
       "<path fill=\"none\" stroke=\"black\" d=\"M93.47,-725.65C83.29,-714.96 63.46,-694.17 50.75,-680.83\"/>\n",
       "<polygon fill=\"black\" stroke=\"black\" points=\"53.02,-678.14 43.59,-673.32 47.96,-682.97 53.02,-678.14\"/>\n",
       "<text text-anchor=\"middle\" x=\"78.5\" y=\"-696.8\" font-family=\"Times,serif\" font-size=\"14.00\">0</text>\n",
       "</g>\n",
       "<!-- (2, 1) -->\n",
       "<g id=\"node3\" class=\"node\">\n",
       "<title>(2, 1)</title>\n",
       "<text text-anchor=\"middle\" x=\"100\" y=\"-663.8\" font-family=\"Times,serif\" font-size=\"14.00\">&lt;expr L1_1&gt; </text>\n",
       "</g>\n",
       "<!-- (0, 0)&#45;&gt;(2, 1) -->\n",
       "<g id=\"edge2\" class=\"edge\">\n",
       "<title>(0, 0)&#45;&gt;(2, 1)</title>\n",
       "<path fill=\"none\" stroke=\"black\" d=\"M100,-725.65C100,-716.07 100,-698.38 100,-685.2\"/>\n",
       "<polygon fill=\"black\" stroke=\"black\" points=\"103.5,-685.11 100,-675.11 96.5,-685.11 103.5,-685.11\"/>\n",
       "<text text-anchor=\"middle\" x=\"103.5\" y=\"-696.8\" font-family=\"Times,serif\" font-size=\"14.00\">1</text>\n",
       "</g>\n",
       "<!-- (25, 2) -->\n",
       "<g id=\"node26\" class=\"node\">\n",
       "<title>(25, 2)</title>\n",
       "<text text-anchor=\"middle\" x=\"161\" y=\"-663.8\" font-family=\"Times,serif\" font-size=\"14.00\">) </text>\n",
       "</g>\n",
       "<!-- (0, 0)&#45;&gt;(25, 2) -->\n",
       "<g id=\"edge25\" class=\"edge\">\n",
       "<title>(0, 0)&#45;&gt;(25, 2)</title>\n",
       "<path fill=\"none\" stroke=\"black\" d=\"M106.53,-725.65C116.71,-714.96 136.54,-694.17 149.25,-680.83\"/>\n",
       "<polygon fill=\"black\" stroke=\"black\" points=\"152.04,-682.97 156.41,-673.32 146.98,-678.14 152.04,-682.97\"/>\n",
       "<text text-anchor=\"middle\" x=\"139.5\" y=\"-696.8\" font-family=\"Times,serif\" font-size=\"14.00\">2</text>\n",
       "</g>\n",
       "<!-- (3, 0) -->\n",
       "<g id=\"node4\" class=\"node\">\n",
       "<title>(3, 0)</title>\n",
       "<text text-anchor=\"middle\" x=\"100\" y=\"-597.8\" font-family=\"Times,serif\" font-size=\"14.00\">&lt;term L1_1&gt; </text>\n",
       "</g>\n",
       "<!-- (2, 1)&#45;&gt;(3, 0) -->\n",
       "<g id=\"edge3\" class=\"edge\">\n",
       "<title>(2, 1)&#45;&gt;(3, 0)</title>\n",
       "<path fill=\"none\" stroke=\"black\" d=\"M100,-659.65C100,-650.07 100,-632.38 100,-619.2\"/>\n",
       "<polygon fill=\"black\" stroke=\"black\" points=\"103.5,-619.11 100,-609.11 96.5,-619.11 103.5,-619.11\"/>\n",
       "<text text-anchor=\"middle\" x=\"103.5\" y=\"-630.8\" font-family=\"Times,serif\" font-size=\"14.00\">0</text>\n",
       "</g>\n",
       "<!-- (4, 0) -->\n",
       "<g id=\"node5\" class=\"node\">\n",
       "<title>(4, 0)</title>\n",
       "<text text-anchor=\"middle\" x=\"100\" y=\"-531.8\" font-family=\"Times,serif\" font-size=\"14.00\">&lt;factor L1_2&gt; </text>\n",
       "</g>\n",
       "<!-- (3, 0)&#45;&gt;(4, 0) -->\n",
       "<g id=\"edge4\" class=\"edge\">\n",
       "<title>(3, 0)&#45;&gt;(4, 0)</title>\n",
       "<path fill=\"none\" stroke=\"black\" d=\"M100,-593.65C100,-584.07 100,-566.38 100,-553.2\"/>\n",
       "<polygon fill=\"black\" stroke=\"black\" points=\"103.5,-553.11 100,-543.11 96.5,-553.11 103.5,-553.11\"/>\n",
       "<text text-anchor=\"middle\" x=\"103.5\" y=\"-564.8\" font-family=\"Times,serif\" font-size=\"14.00\">0</text>\n",
       "</g>\n",
       "<!-- (5, 0) -->\n",
       "<g id=\"node6\" class=\"node\">\n",
       "<title>(5, 0)</title>\n",
       "<text text-anchor=\"middle\" x=\"55\" y=\"-465.8\" font-family=\"Times,serif\" font-size=\"14.00\">( </text>\n",
       "</g>\n",
       "<!-- (4, 0)&#45;&gt;(5, 0) -->\n",
       "<g id=\"edge5\" class=\"edge\">\n",
       "<title>(4, 0)&#45;&gt;(5, 0)</title>\n",
       "<path fill=\"none\" stroke=\"black\" d=\"M95.18,-527.65C88.18,-517.69 74.99,-498.93 65.64,-485.63\"/>\n",
       "<polygon fill=\"black\" stroke=\"black\" points=\"68.26,-483.28 59.65,-477.11 62.53,-487.3 68.26,-483.28\"/>\n",
       "<text text-anchor=\"middle\" x=\"85.5\" y=\"-498.8\" font-family=\"Times,serif\" font-size=\"14.00\">0</text>\n",
       "</g>\n",
       "<!-- (6, 1) -->\n",
       "<g id=\"node7\" class=\"node\">\n",
       "<title>(6, 1)</title>\n",
       "<text text-anchor=\"middle\" x=\"100\" y=\"-465.8\" font-family=\"Times,serif\" font-size=\"14.00\">&lt;expr&gt; </text>\n",
       "</g>\n",
       "<!-- (4, 0)&#45;&gt;(6, 1) -->\n",
       "<g id=\"edge6\" class=\"edge\">\n",
       "<title>(4, 0)&#45;&gt;(6, 1)</title>\n",
       "<path fill=\"none\" stroke=\"black\" d=\"M100,-527.65C100,-518.07 100,-500.38 100,-487.2\"/>\n",
       "<polygon fill=\"black\" stroke=\"black\" points=\"103.5,-487.11 100,-477.11 96.5,-487.11 103.5,-487.11\"/>\n",
       "<text text-anchor=\"middle\" x=\"103.5\" y=\"-498.8\" font-family=\"Times,serif\" font-size=\"14.00\">1</text>\n",
       "</g>\n",
       "<!-- (24, 2) -->\n",
       "<g id=\"node25\" class=\"node\">\n",
       "<title>(24, 2)</title>\n",
       "<text text-anchor=\"middle\" x=\"145\" y=\"-465.8\" font-family=\"Times,serif\" font-size=\"14.00\">) </text>\n",
       "</g>\n",
       "<!-- (4, 0)&#45;&gt;(24, 2) -->\n",
       "<g id=\"edge24\" class=\"edge\">\n",
       "<title>(4, 0)&#45;&gt;(24, 2)</title>\n",
       "<path fill=\"none\" stroke=\"black\" d=\"M104.82,-527.65C111.82,-517.69 125.01,-498.93 134.36,-485.63\"/>\n",
       "<polygon fill=\"black\" stroke=\"black\" points=\"137.47,-487.3 140.35,-477.11 131.74,-483.28 137.47,-487.3\"/>\n",
       "<text text-anchor=\"middle\" x=\"130.5\" y=\"-498.8\" font-family=\"Times,serif\" font-size=\"14.00\">2</text>\n",
       "</g>\n",
       "<!-- (7, 0) -->\n",
       "<g id=\"node8\" class=\"node\">\n",
       "<title>(7, 0)</title>\n",
       "<text text-anchor=\"middle\" x=\"100\" y=\"-399.8\" font-family=\"Times,serif\" font-size=\"14.00\">&lt;term&gt; </text>\n",
       "</g>\n",
       "<!-- (6, 1)&#45;&gt;(7, 0) -->\n",
       "<g id=\"edge7\" class=\"edge\">\n",
       "<title>(6, 1)&#45;&gt;(7, 0)</title>\n",
       "<path fill=\"none\" stroke=\"black\" d=\"M100,-461.65C100,-452.07 100,-434.38 100,-421.2\"/>\n",
       "<polygon fill=\"black\" stroke=\"black\" points=\"103.5,-421.11 100,-411.11 96.5,-421.11 103.5,-421.11\"/>\n",
       "<text text-anchor=\"middle\" x=\"103.5\" y=\"-432.8\" font-family=\"Times,serif\" font-size=\"14.00\">0</text>\n",
       "</g>\n",
       "<!-- (8, 0) -->\n",
       "<g id=\"node9\" class=\"node\">\n",
       "<title>(8, 0)</title>\n",
       "<text text-anchor=\"middle\" x=\"41\" y=\"-333.8\" font-family=\"Times,serif\" font-size=\"14.00\">&lt;factor&gt; </text>\n",
       "</g>\n",
       "<!-- (7, 0)&#45;&gt;(8, 0) -->\n",
       "<g id=\"edge8\" class=\"edge\">\n",
       "<title>(7, 0)&#45;&gt;(8, 0)</title>\n",
       "<path fill=\"none\" stroke=\"black\" d=\"M93.69,-395.65C84.23,-385.4 66.2,-365.83 53.89,-352.48\"/>\n",
       "<polygon fill=\"black\" stroke=\"black\" points=\"56.44,-350.09 47.09,-345.11 51.3,-354.83 56.44,-350.09\"/>\n",
       "<text text-anchor=\"middle\" x=\"79.5\" y=\"-366.8\" font-family=\"Times,serif\" font-size=\"14.00\">0</text>\n",
       "</g>\n",
       "<!-- (12, 1) -->\n",
       "<g id=\"node13\" class=\"node\">\n",
       "<title>(12, 1)</title>\n",
       "<text text-anchor=\"middle\" x=\"100\" y=\"-333.8\" font-family=\"Times,serif\" font-size=\"14.00\"> * &#160;</text>\n",
       "</g>\n",
       "<!-- (7, 0)&#45;&gt;(12, 1) -->\n",
       "<g id=\"edge12\" class=\"edge\">\n",
       "<title>(7, 0)&#45;&gt;(12, 1)</title>\n",
       "<path fill=\"none\" stroke=\"black\" d=\"M100,-395.65C100,-386.07 100,-368.38 100,-355.2\"/>\n",
       "<polygon fill=\"black\" stroke=\"black\" points=\"103.5,-355.11 100,-345.11 96.5,-355.11 103.5,-355.11\"/>\n",
       "<text text-anchor=\"middle\" x=\"103.5\" y=\"-366.8\" font-family=\"Times,serif\" font-size=\"14.00\">1</text>\n",
       "</g>\n",
       "<!-- (13, 2) -->\n",
       "<g id=\"node14\" class=\"node\">\n",
       "<title>(13, 2)</title>\n",
       "<text text-anchor=\"middle\" x=\"153\" y=\"-333.8\" font-family=\"Times,serif\" font-size=\"14.00\">&lt;term&gt; </text>\n",
       "</g>\n",
       "<!-- (7, 0)&#45;&gt;(13, 2) -->\n",
       "<g id=\"edge13\" class=\"edge\">\n",
       "<title>(7, 0)&#45;&gt;(13, 2)</title>\n",
       "<path fill=\"none\" stroke=\"black\" d=\"M105.67,-395.65C114.08,-385.49 130.06,-366.2 141.11,-352.86\"/>\n",
       "<polygon fill=\"black\" stroke=\"black\" points=\"143.85,-355.04 147.53,-345.11 138.45,-350.58 143.85,-355.04\"/>\n",
       "<text text-anchor=\"middle\" x=\"135.5\" y=\"-366.8\" font-family=\"Times,serif\" font-size=\"14.00\">2</text>\n",
       "</g>\n",
       "<!-- (9, 0) -->\n",
       "<g id=\"node10\" class=\"node\">\n",
       "<title>(9, 0)</title>\n",
       "<text text-anchor=\"middle\" x=\"29\" y=\"-267.8\" font-family=\"Times,serif\" font-size=\"14.00\">&lt;integer&gt; </text>\n",
       "</g>\n",
       "<!-- (8, 0)&#45;&gt;(9, 0) -->\n",
       "<g id=\"edge9\" class=\"edge\">\n",
       "<title>(8, 0)&#45;&gt;(9, 0)</title>\n",
       "<path fill=\"none\" stroke=\"black\" d=\"M39.72,-329.65C37.92,-320.07 34.6,-302.38 32.13,-289.2\"/>\n",
       "<polygon fill=\"black\" stroke=\"black\" points=\"35.52,-288.29 30.24,-279.11 28.64,-289.58 35.52,-288.29\"/>\n",
       "<text text-anchor=\"middle\" x=\"40.5\" y=\"-300.8\" font-family=\"Times,serif\" font-size=\"14.00\">0</text>\n",
       "</g>\n",
       "<!-- (10, 0) -->\n",
       "<g id=\"node11\" class=\"node\">\n",
       "<title>(10, 0)</title>\n",
       "<text text-anchor=\"middle\" x=\"29\" y=\"-201.8\" font-family=\"Times,serif\" font-size=\"14.00\">&lt;digit&gt; </text>\n",
       "</g>\n",
       "<!-- (9, 0)&#45;&gt;(10, 0) -->\n",
       "<g id=\"edge10\" class=\"edge\">\n",
       "<title>(9, 0)&#45;&gt;(10, 0)</title>\n",
       "<path fill=\"none\" stroke=\"black\" d=\"M29,-263.65C29,-254.07 29,-236.38 29,-223.2\"/>\n",
       "<polygon fill=\"black\" stroke=\"black\" points=\"32.5,-223.11 29,-213.11 25.5,-223.11 32.5,-223.11\"/>\n",
       "<text text-anchor=\"middle\" x=\"32.5\" y=\"-234.8\" font-family=\"Times,serif\" font-size=\"14.00\">0</text>\n",
       "</g>\n",
       "<!-- (11, 0) -->\n",
       "<g id=\"node12\" class=\"node\">\n",
       "<title>(11, 0)</title>\n",
       "<text text-anchor=\"middle\" x=\"29\" y=\"-135.8\" font-family=\"Times,serif\" font-size=\"14.00\">2 </text>\n",
       "</g>\n",
       "<!-- (10, 0)&#45;&gt;(11, 0) -->\n",
       "<g id=\"edge11\" class=\"edge\">\n",
       "<title>(10, 0)&#45;&gt;(11, 0)</title>\n",
       "<path fill=\"none\" stroke=\"black\" d=\"M29,-197.65C29,-188.07 29,-170.38 29,-157.2\"/>\n",
       "<polygon fill=\"black\" stroke=\"black\" points=\"32.5,-157.11 29,-147.11 25.5,-157.11 32.5,-157.11\"/>\n",
       "<text text-anchor=\"middle\" x=\"32.5\" y=\"-168.8\" font-family=\"Times,serif\" font-size=\"14.00\">0</text>\n",
       "</g>\n",
       "<!-- (14, 0) -->\n",
       "<g id=\"node15\" class=\"node\">\n",
       "<title>(14, 0)</title>\n",
       "<text text-anchor=\"middle\" x=\"102\" y=\"-267.8\" font-family=\"Times,serif\" font-size=\"14.00\">&lt;factor&gt; </text>\n",
       "</g>\n",
       "<!-- (13, 2)&#45;&gt;(14, 0) -->\n",
       "<g id=\"edge14\" class=\"edge\">\n",
       "<title>(13, 2)&#45;&gt;(14, 0)</title>\n",
       "<path fill=\"none\" stroke=\"black\" d=\"M147.54,-329.65C139.52,-319.59 124.37,-300.57 113.75,-287.24\"/>\n",
       "<polygon fill=\"black\" stroke=\"black\" points=\"116.24,-284.75 107.27,-279.11 110.76,-289.11 116.24,-284.75\"/>\n",
       "<text text-anchor=\"middle\" x=\"136.5\" y=\"-300.8\" font-family=\"Times,serif\" font-size=\"14.00\">0</text>\n",
       "</g>\n",
       "<!-- (18, 1) -->\n",
       "<g id=\"node19\" class=\"node\">\n",
       "<title>(18, 1)</title>\n",
       "<text text-anchor=\"middle\" x=\"154\" y=\"-267.8\" font-family=\"Times,serif\" font-size=\"14.00\"> / &#160;</text>\n",
       "</g>\n",
       "<!-- (13, 2)&#45;&gt;(18, 1) -->\n",
       "<g id=\"edge18\" class=\"edge\">\n",
       "<title>(13, 2)&#45;&gt;(18, 1)</title>\n",
       "<path fill=\"none\" stroke=\"black\" d=\"M153.11,-329.65C153.26,-320.07 153.53,-302.38 153.74,-289.2\"/>\n",
       "<polygon fill=\"black\" stroke=\"black\" points=\"157.24,-289.16 153.9,-279.11 150.24,-289.05 157.24,-289.16\"/>\n",
       "<text text-anchor=\"middle\" x=\"157.5\" y=\"-300.8\" font-family=\"Times,serif\" font-size=\"14.00\">1</text>\n",
       "</g>\n",
       "<!-- (19, 2) -->\n",
       "<g id=\"node20\" class=\"node\">\n",
       "<title>(19, 2)</title>\n",
       "<text text-anchor=\"middle\" x=\"203\" y=\"-267.8\" font-family=\"Times,serif\" font-size=\"14.00\">&lt;term&gt; </text>\n",
       "</g>\n",
       "<!-- (13, 2)&#45;&gt;(19, 2) -->\n",
       "<g id=\"edge19\" class=\"edge\">\n",
       "<title>(13, 2)&#45;&gt;(19, 2)</title>\n",
       "<path fill=\"none\" stroke=\"black\" d=\"M158.35,-329.65C166.21,-319.59 181.07,-300.57 191.48,-287.24\"/>\n",
       "<polygon fill=\"black\" stroke=\"black\" points=\"194.44,-289.14 197.84,-279.11 188.92,-284.83 194.44,-289.14\"/>\n",
       "<text text-anchor=\"middle\" x=\"186.5\" y=\"-300.8\" font-family=\"Times,serif\" font-size=\"14.00\">2</text>\n",
       "</g>\n",
       "<!-- (15, 0) -->\n",
       "<g id=\"node16\" class=\"node\">\n",
       "<title>(15, 0)</title>\n",
       "<text text-anchor=\"middle\" x=\"102\" y=\"-201.8\" font-family=\"Times,serif\" font-size=\"14.00\">&lt;integer&gt; </text>\n",
       "</g>\n",
       "<!-- (14, 0)&#45;&gt;(15, 0) -->\n",
       "<g id=\"edge15\" class=\"edge\">\n",
       "<title>(14, 0)&#45;&gt;(15, 0)</title>\n",
       "<path fill=\"none\" stroke=\"black\" d=\"M102,-263.65C102,-254.07 102,-236.38 102,-223.2\"/>\n",
       "<polygon fill=\"black\" stroke=\"black\" points=\"105.5,-223.11 102,-213.11 98.5,-223.11 105.5,-223.11\"/>\n",
       "<text text-anchor=\"middle\" x=\"105.5\" y=\"-234.8\" font-family=\"Times,serif\" font-size=\"14.00\">0</text>\n",
       "</g>\n",
       "<!-- (16, 0) -->\n",
       "<g id=\"node17\" class=\"node\">\n",
       "<title>(16, 0)</title>\n",
       "<text text-anchor=\"middle\" x=\"102\" y=\"-135.8\" font-family=\"Times,serif\" font-size=\"14.00\">&lt;digit&gt; </text>\n",
       "</g>\n",
       "<!-- (15, 0)&#45;&gt;(16, 0) -->\n",
       "<g id=\"edge16\" class=\"edge\">\n",
       "<title>(15, 0)&#45;&gt;(16, 0)</title>\n",
       "<path fill=\"none\" stroke=\"black\" d=\"M102,-197.65C102,-188.07 102,-170.38 102,-157.2\"/>\n",
       "<polygon fill=\"black\" stroke=\"black\" points=\"105.5,-157.11 102,-147.11 98.5,-157.11 105.5,-157.11\"/>\n",
       "<text text-anchor=\"middle\" x=\"105.5\" y=\"-168.8\" font-family=\"Times,serif\" font-size=\"14.00\">0</text>\n",
       "</g>\n",
       "<!-- (17, 0) -->\n",
       "<g id=\"node18\" class=\"node\">\n",
       "<title>(17, 0)</title>\n",
       "<text text-anchor=\"middle\" x=\"102\" y=\"-69.8\" font-family=\"Times,serif\" font-size=\"14.00\">3 </text>\n",
       "</g>\n",
       "<!-- (16, 0)&#45;&gt;(17, 0) -->\n",
       "<g id=\"edge17\" class=\"edge\">\n",
       "<title>(16, 0)&#45;&gt;(17, 0)</title>\n",
       "<path fill=\"none\" stroke=\"black\" d=\"M102,-131.65C102,-122.07 102,-104.38 102,-91.2\"/>\n",
       "<polygon fill=\"black\" stroke=\"black\" points=\"105.5,-91.11 102,-81.11 98.5,-91.11 105.5,-91.11\"/>\n",
       "<text text-anchor=\"middle\" x=\"105.5\" y=\"-102.8\" font-family=\"Times,serif\" font-size=\"14.00\">0</text>\n",
       "</g>\n",
       "<!-- (20, 0) -->\n",
       "<g id=\"node21\" class=\"node\">\n",
       "<title>(20, 0)</title>\n",
       "<text text-anchor=\"middle\" x=\"203\" y=\"-201.8\" font-family=\"Times,serif\" font-size=\"14.00\">&lt;factor&gt; </text>\n",
       "</g>\n",
       "<!-- (19, 2)&#45;&gt;(20, 0) -->\n",
       "<g id=\"edge20\" class=\"edge\">\n",
       "<title>(19, 2)&#45;&gt;(20, 0)</title>\n",
       "<path fill=\"none\" stroke=\"black\" d=\"M203,-263.65C203,-254.07 203,-236.38 203,-223.2\"/>\n",
       "<polygon fill=\"black\" stroke=\"black\" points=\"206.5,-223.11 203,-213.11 199.5,-223.11 206.5,-223.11\"/>\n",
       "<text text-anchor=\"middle\" x=\"206.5\" y=\"-234.8\" font-family=\"Times,serif\" font-size=\"14.00\">0</text>\n",
       "</g>\n",
       "<!-- (21, 0) -->\n",
       "<g id=\"node22\" class=\"node\">\n",
       "<title>(21, 0)</title>\n",
       "<text text-anchor=\"middle\" x=\"203\" y=\"-135.8\" font-family=\"Times,serif\" font-size=\"14.00\">&lt;integer&gt; </text>\n",
       "</g>\n",
       "<!-- (20, 0)&#45;&gt;(21, 0) -->\n",
       "<g id=\"edge21\" class=\"edge\">\n",
       "<title>(20, 0)&#45;&gt;(21, 0)</title>\n",
       "<path fill=\"none\" stroke=\"black\" d=\"M203,-197.65C203,-188.07 203,-170.38 203,-157.2\"/>\n",
       "<polygon fill=\"black\" stroke=\"black\" points=\"206.5,-157.11 203,-147.11 199.5,-157.11 206.5,-157.11\"/>\n",
       "<text text-anchor=\"middle\" x=\"206.5\" y=\"-168.8\" font-family=\"Times,serif\" font-size=\"14.00\">0</text>\n",
       "</g>\n",
       "<!-- (22, 0) -->\n",
       "<g id=\"node23\" class=\"node\">\n",
       "<title>(22, 0)</title>\n",
       "<text text-anchor=\"middle\" x=\"203\" y=\"-69.8\" font-family=\"Times,serif\" font-size=\"14.00\">&lt;digit&gt; </text>\n",
       "</g>\n",
       "<!-- (21, 0)&#45;&gt;(22, 0) -->\n",
       "<g id=\"edge22\" class=\"edge\">\n",
       "<title>(21, 0)&#45;&gt;(22, 0)</title>\n",
       "<path fill=\"none\" stroke=\"black\" d=\"M203,-131.65C203,-122.07 203,-104.38 203,-91.2\"/>\n",
       "<polygon fill=\"black\" stroke=\"black\" points=\"206.5,-91.11 203,-81.11 199.5,-91.11 206.5,-91.11\"/>\n",
       "<text text-anchor=\"middle\" x=\"206.5\" y=\"-102.8\" font-family=\"Times,serif\" font-size=\"14.00\">0</text>\n",
       "</g>\n",
       "<!-- (23, 0) -->\n",
       "<g id=\"node24\" class=\"node\">\n",
       "<title>(23, 0)</title>\n",
       "<text text-anchor=\"middle\" x=\"203\" y=\"-3.8\" font-family=\"Times,serif\" font-size=\"14.00\">4 </text>\n",
       "</g>\n",
       "<!-- (22, 0)&#45;&gt;(23, 0) -->\n",
       "<g id=\"edge23\" class=\"edge\">\n",
       "<title>(22, 0)&#45;&gt;(23, 0)</title>\n",
       "<path fill=\"none\" stroke=\"black\" d=\"M203,-65.65C203,-56.07 203,-38.38 203,-25.2\"/>\n",
       "<polygon fill=\"black\" stroke=\"black\" points=\"206.5,-25.11 203,-15.11 199.5,-25.11 206.5,-25.11\"/>\n",
       "<text text-anchor=\"middle\" x=\"206.5\" y=\"-36.8\" font-family=\"Times,serif\" font-size=\"14.00\">0</text>\n",
       "</g>\n",
       "</g>\n",
       "</svg>\n"
      ],
      "text/plain": [
       "<graphviz.dot.Digraph at 0x113902438>"
      ]
     },
     "execution_count": 180,
     "metadata": {},
     "output_type": "execute_result"
    }
   ],
   "source": [
    "%top display_tree(mark_faulty_nodes(abs_tree_cnode1, '1'))"
   ]
  },
  {
   "cell_type": "code",
   "execution_count": 181,
   "metadata": {},
   "outputs": [],
   "source": [
    "%top c_node1 = mark_faulty_nodes(abs_tree_cnode1, '1')"
   ]
  },
  {
   "cell_type": "code",
   "execution_count": 182,
   "metadata": {},
   "outputs": [],
   "source": [
    "%top f_node1 = c_node1"
   ]
  },
  {
   "cell_type": "code",
   "execution_count": 183,
   "metadata": {},
   "outputs": [],
   "source": [
    "def faulty_node_to_grammar(tree, grammar=None):\n",
    "    if grammar is None: grammar = {}\n",
    "    if is_node_abstract(tree): return grammar\n",
    "    name, children, *rest = tree\n",
    "    tokens = []\n",
    "    if name not in grammar: grammar[name] = []\n",
    "    for c in children:\n",
    "        n, cs, *rest = c\n",
    "        tokens.append(n)\n",
    "        if is_nt(n):\n",
    "            faulty_node_to_grammar(c, grammar)\n",
    "    grammar[name].append(tuple(tokens))\n",
    "    return grammar, tree[0]"
   ]
  },
  {
   "cell_type": "code",
   "execution_count": 184,
   "metadata": {},
   "outputs": [
    {
     "name": "stdout",
     "output_type": "stream",
     "text": [
      "<factor> ::=\n",
      "|    '(' <expr> ')'\n",
      "|    '(' <expr> ')'\n",
      "<expr> ::=\n",
      "|    <term>\n",
      "<term> ::=\n",
      "|    <factor>\n",
      "3 4\n"
     ]
    },
    {
     "data": {
      "text/plain": [
       "'<factor>'"
      ]
     },
     "execution_count": 184,
     "metadata": {},
     "output_type": "execute_result"
    }
   ],
   "source": [
    "%%top\n",
    "g, s = faulty_node_to_grammar(abs_tree_cnode1)\n",
    "Gs(g)\n",
    "s"
   ]
  },
  {
   "cell_type": "code",
   "execution_count": 185,
   "metadata": {},
   "outputs": [],
   "source": [
    "def faulty_node_to_pattern_grammar(tree, prefix, grammar=None):\n",
    "    ltree = mark_faulty_nodes(tree, prefix)\n",
    "    return faulty_node_to_grammar(ltree)"
   ]
  },
  {
   "cell_type": "code",
   "execution_count": 186,
   "metadata": {},
   "outputs": [],
   "source": [
    "#%%top\n",
    "lg1, ls1 = faulty_node_to_pattern_grammar(abs_tree_cnode1, '1')"
   ]
  },
  {
   "cell_type": "code",
   "execution_count": 187,
   "metadata": {},
   "outputs": [
    {
     "name": "stdout",
     "output_type": "stream",
     "text": [
      "<factor L1_1> ::=\n",
      "|    '(' <expr L1_1> ')'\n",
      "<expr L1_1> ::=\n",
      "|    <term L1_1>\n",
      "<term L1_1> ::=\n",
      "|    <factor L1_2>\n",
      "<factor L1_2> ::=\n",
      "|    '(' <expr> ')'\n",
      "4 4\n"
     ]
    },
    {
     "data": {
      "text/plain": [
       "'<factor L1_1>'"
      ]
     },
     "execution_count": 187,
     "metadata": {},
     "output_type": "execute_result"
    }
   ],
   "source": [
    "%%top\n",
    "Gs(lg1)\n",
    "ls1"
   ]
  },
  {
   "cell_type": "code",
   "execution_count": 188,
   "metadata": {},
   "outputs": [],
   "source": [
    "%top dd_tree_abs1 = abs_tree1"
   ]
  },
  {
   "cell_type": "code",
   "execution_count": 189,
   "metadata": {},
   "outputs": [],
   "source": [
    "#%top\n",
    "node_faulty1 = abs_tree_cnode1"
   ]
  },
  {
   "cell_type": "markdown",
   "metadata": {},
   "source": [
    "### Finding insertable positions"
   ]
  },
  {
   "cell_type": "markdown",
   "metadata": {},
   "source": [
    "Given a rule, and the faulty symbol, the positions in the rule where the fault can be inserted are all the non-terminals that will eventually reach the symbol of the faulty symbol. That is, if we have `<digit> + <expr>` as the expansion and the faulty symbol is `<factor*>` then, since `<digit>` can never reach `<factor>`, `0` is out, and so is `1` since it is a terminal symbol. Hence, only `<expr>` remains, which when expanded, one of the expansion paths will include a `<factor>`. Hence, here `[2]` is the answer."
   ]
  },
  {
   "cell_type": "code",
   "execution_count": 190,
   "metadata": {},
   "outputs": [],
   "source": [
    "def get_reachable_positions(rule, fkey, reachable):\n",
    "    positions = []\n",
    "    for i, token in enumerate(rule):\n",
    "        if not is_nt(token): continue\n",
    "        if fkey == token or fkey in reachable[token]:\n",
    "            positions.append(i)\n",
    "    return positions"
   ]
  },
  {
   "cell_type": "code",
   "execution_count": 191,
   "metadata": {},
   "outputs": [],
   "source": [
    "reachable1 = reachable_dict(EXPR_GRAMMAR)"
   ]
  },
  {
   "cell_type": "code",
   "execution_count": 192,
   "metadata": {},
   "outputs": [
    {
     "name": "stdout",
     "output_type": "stream",
     "text": [
      "<start>\n",
      "\t ['<expr>'] [0]\n",
      "<expr>\n",
      "\t ['<term>', ' + ', '<expr>'] [0, 2]\n",
      "\t ['<term>', ' - ', '<expr>'] [0, 2]\n",
      "\t ['<term>'] [0]\n",
      "<term>\n",
      "\t ['<factor>', ' * ', '<term>'] [0, 2]\n",
      "\t ['<factor>', ' / ', '<term>'] [0, 2]\n",
      "\t ['<factor>'] [0]\n",
      "<factor>\n",
      "\t ['+', '<factor>'] [1]\n",
      "\t ['-', '<factor>'] [1]\n",
      "\t ['(', '<expr>', ')'] [1]\n",
      "\t ['<integer>', '.', '<integer>'] []\n",
      "\t ['<integer>'] []\n",
      "<integer>\n",
      "\t ['<digit>', '<integer>'] []\n",
      "\t ['<digit>'] []\n",
      "<digit>\n",
      "\t ['0'] []\n",
      "\t ['1'] []\n",
      "\t ['2'] []\n",
      "\t ['3'] []\n",
      "\t ['4'] []\n",
      "\t ['5'] []\n",
      "\t ['6'] []\n",
      "\t ['7'] []\n",
      "\t ['8'] []\n",
      "\t ['9'] []\n"
     ]
    }
   ],
   "source": [
    "%%top\n",
    "for k in EXPR_GRAMMAR:\n",
    "    print(k)\n",
    "    for rule in EXPR_GRAMMAR[k]:\n",
    "        v = get_reachable_positions(rule, '<factor>', reachable1)\n",
    "        print('\\t', rule, v)"
   ]
  },
  {
   "cell_type": "markdown",
   "metadata": {},
   "source": [
    "### Insert into key definition"
   ]
  },
  {
   "cell_type": "markdown",
   "metadata": {},
   "source": [
    "The essential idea is to make the rules in the grammar such that there is one fault position in each position.\n",
    "Take one rule at a time. For each token in the rule, get the reachable tokens. If the fsym is not in reachable tokens, then the falt cannot be inserted in that position. So get all positions for the rule that we can insert fsym in, and for each position, change the symbol for later insertion.\n",
    "\n",
    "#### Proof\n",
    "\n",
    "The proof that this works is as follows:\n",
    "\n",
    "Any key named $<\\overline{X}>$ is guaranteed to contain at least one fault. The definition of any key by construction is, $<\\overline{X}> \\models \\overline{R_1} \\lor \\overline{R_2} \\ldots $ where each $\\overline{R_i}$ is a rule that contains at least one $<\\overline{Y}>$ such as $\\overline{R_i} = \\{<\\overline{P}> \\cdot Q \\cdot R\\} \\lor \\{P \\cdot <\\overline{Q}> \\cdot R\\} \\lor \\{ P \\cdot Q \\cdot <\\overline{R}> \\}$."
   ]
  },
  {
   "cell_type": "code",
   "execution_count": 193,
   "metadata": {},
   "outputs": [],
   "source": [
    "from enum import Enum"
   ]
  },
  {
   "cell_type": "code",
   "execution_count": 194,
   "metadata": {},
   "outputs": [],
   "source": [
    "class FKey(str, Enum):\n",
    "    #negate = 'NEGATE'\n",
    "    #fault = 'FAULT' # not used\n",
    "    atmost = 'ATMOST'\n",
    "    atleast = 'ATLEAST'\n",
    "    exactly = 'EXACTLY'"
   ]
  },
  {
   "cell_type": "code",
   "execution_count": 195,
   "metadata": {},
   "outputs": [],
   "source": [
    "def to_fkey_prefix(name, prefix, kind):\n",
    "    #if kind == FKey.negative:\n",
    "    #    return \"<%s -%s>\" % (name[1:-1], prefix)\n",
    "    #if kind == FKey.fault: # not used\n",
    "    #    return \"<%s F%s>\" % (name[1:-1], prefix)\n",
    "    if kind == FKey.atmost:\n",
    "        return \"<%s *F%s>\" % (name[1:-1], prefix)\n",
    "    elif kind == FKey.atleast:\n",
    "        return \"<%s +F%s>\" % (name[1:-1], prefix)\n",
    "    elif kind == FKey.exactly:\n",
    "        return \"<%s .F%s>\" % (name[1:-1], prefix)\n",
    "    assert False"
   ]
  },
  {
   "cell_type": "code",
   "execution_count": 196,
   "metadata": {},
   "outputs": [],
   "source": [
    "def insert_atleast_one_fault_into_key(grammar, key, fsym, prefix, reachable):\n",
    "    rules = grammar[key]\n",
    "    my_rules = []\n",
    "    for rule in grammar[key]:\n",
    "        positions = get_reachable_positions(rule, fsym, reachable)\n",
    "        if not positions: # make it len(positions) >= n if necessary\n",
    "            # skip this rule because we can not embed the fault here.\n",
    "            continue\n",
    "        else:\n",
    "            # at each position, insert the fsym\n",
    "            for pos in positions:\n",
    "                new_rule = [to_fkey_prefix(t, prefix, FKey.atleast)\n",
    "                            if pos == p else t for p,t in enumerate(rule)]\n",
    "                my_rules.append(new_rule)\n",
    "    return (to_fkey_prefix(key, prefix, FKey.atleast), my_rules)"
   ]
  },
  {
   "cell_type": "code",
   "execution_count": 197,
   "metadata": {},
   "outputs": [
    {
     "name": "stdout",
     "output_type": "stream",
     "text": [
      "<start +F1>\n",
      "     ['<expr +F1>']\n",
      "\n",
      "<expr +F1>\n",
      "     ['<term +F1>', ' + ', '<expr>']\n",
      "     ['<term>', ' + ', '<expr +F1>']\n",
      "     ['<term +F1>', ' - ', '<expr>']\n",
      "     ['<term>', ' - ', '<expr +F1>']\n",
      "     ['<term +F1>']\n",
      "\n",
      "<term +F1>\n",
      "     ['<factor +F1>', ' * ', '<term>']\n",
      "     ['<factor>', ' * ', '<term +F1>']\n",
      "     ['<factor +F1>', ' / ', '<term>']\n",
      "     ['<factor>', ' / ', '<term +F1>']\n",
      "     ['<factor +F1>']\n",
      "\n",
      "<factor +F1>\n",
      "     ['+', '<factor +F1>']\n",
      "     ['-', '<factor +F1>']\n",
      "     ['(', '<expr +F1>', ')']\n",
      "\n",
      "<integer +F1>\n",
      "\n",
      "<digit +F1>\n",
      "\n"
     ]
    }
   ],
   "source": [
    "%%top\n",
    "for key in EXPR_GRAMMAR:\n",
    "    fk, rules = insert_atleast_one_fault_into_key(EXPR_GRAMMAR, key, '<factor>', '1', reachable1)\n",
    "    print(fk)\n",
    "    for r in rules:\n",
    "        print('    ', r)\n",
    "    print()"
   ]
  },
  {
   "cell_type": "code",
   "execution_count": 198,
   "metadata": {},
   "outputs": [],
   "source": [
    "def insert_atleast_one_fault_into_grammar(grammar, fsym, prefix_f, reachable):\n",
    "    new_grammar = {}\n",
    "    for key in grammar:\n",
    "        fk, rules = insert_atleast_one_fault_into_key(grammar, key, fsym, prefix_f, reachable)\n",
    "        if fk not in new_grammar:\n",
    "            new_grammar[fk] = []\n",
    "        #if not rules:\n",
    "        #    rules = grammar[key] # no applicable rules, so use the original\n",
    "        new_grammar[fk].extend(rules)\n",
    "    return new_grammar"
   ]
  },
  {
   "cell_type": "markdown",
   "metadata": {},
   "source": [
    "### Get the final grammar"
   ]
  },
  {
   "cell_type": "markdown",
   "metadata": {},
   "source": [
    "The final steps are as follows:\n",
    "1. Add the fault node, and the child nodes to the grammar.\n",
    "2. Generate the faulty key definitions. This is done per key in the original grammar.\n",
    "3. Finally, connect the faulty key and fault node."
   ]
  },
  {
   "cell_type": "code",
   "execution_count": 199,
   "metadata": {},
   "outputs": [],
   "source": [
    "def atleast_one_fault_grammar_(grammar, start_symbol, fault_node, f_idx, log=False):\n",
    "    def L_prefix(i): return str(i)\n",
    "    def F_prefix(i): return str(i)\n",
    "    prefix_l = L_prefix(f_idx)\n",
    "    prefix_f = F_prefix(f_idx)\n",
    "    key_f = fault_node[0]\n",
    "    assert key_f in grammar\n",
    "\n",
    "    # First, get the pattern grammar\n",
    "    pattern_g, pattern_s = faulty_node_to_pattern_grammar(fault_node, prefix_l)\n",
    "    # the pattern grammar contains the faulty keys and their definitions.\n",
    "\n",
    "    # Next, get the reaching grammar. This simply embeds at one guaranteed fault \n",
    "    # in each of the rules.\n",
    "    reachable_keys = reachable_dict(grammar)\n",
    "    # We want to insert the fault prefix_f into each insertable positions. \n",
    "    # the insertable locations are those that can reach reaching_fsym\n",
    "    reach_g = insert_atleast_one_fault_into_grammar(grammar, key_f, prefix_f, reachable_keys)\n",
    "\n",
    "    # now, the faulty key is an alternative to the original.\n",
    "    # We have to take care of one thing though. The `fkey` in the pattern grammar should\n",
    "    # be replaced with reaching_fsym, but the definitions kept. This is because we want to preserve\n",
    "    # the rule patterns. We do not want normal expansions to go through since it may mean\n",
    "    # no fault inserted. However, we want self recursion to happen.\n",
    "    reaching_fsym = to_fkey_prefix(key_f, prefix_f, FKey.atleast)\n",
    "\n",
    "    # How do we insert the fault into the grammar? Essentially, at some point we want\n",
    "    # to allow reach_g[reaching_fsym] to produce the fault. If this token is\n",
    "    # nonrecursive, then it simple. We replace the definition reach_g[reaching_fsym]\n",
    "    # with that of pattern_g[pattern_s] and we are done.\n",
    "    pattern_rule = pattern_g[pattern_s][0] # get the pattern rule\n",
    "    \n",
    "    # However, if the reach_g[reaching_fsym] rules contain any tokens that can\n",
    "    # reach `reaching_fsym` then it becomes more complex because we do not want\n",
    "    # to miss out on these patterns. On the other hand, we also need to make sure that we do\n",
    "    # not introduce the fault by matching the first expansion of the fault node.\n",
    "    \n",
    "    # print('WARNING: atleast_one_fault_grammar is incomplete.')\n",
    "    reaching_rules = [r for r in reach_g[reaching_fsym]] # copy\n",
    "    #for rule in reach_g[reaching_fsym]:\n",
    "    #    if normalized_rule_match(rule, pattern_rule):\n",
    "    #        # # TODO: If this was insert _only_ one fault then,\n",
    "    #        # # we do not want to inadvertantly introduce the fault again. So this requires special\n",
    "    #        # # handling. In effect, we want to make sure that the rule is actually a negation\n",
    "    #        # # of the pattern_rule, one token at a time. This can be done only once negation comes in.\n",
    "    #        \n",
    "    #        # However, given that we have no restriction on the number of faults inserted,\n",
    "    #        # we can merrily add this rule. The only restriction being that, the inserted rule\n",
    "    #        # should not allow a non-matching parse to go forward. However, this is done by\n",
    "    #        # construction since we are using reaching rules.\n",
    "    #        \n",
    "    #        # # note: this may not be correct. in Factor +F1, (expr L1_1) is finite, and will\n",
    "    #        # # get removed by gc as being more refined than (expr +F1).\n",
    "    #        reaching_rules.append(rule)\n",
    "    #        pass\n",
    "    #    else:\n",
    "    #        # we only want to keep a rule if at least one of the tokens is reaching fault_node[0].\n",
    "    #        for token in rule_to_normalized_rule(rule):\n",
    "    #            if is_nt(token) and key_f in reachable_keys[token]:\n",
    "    #                reaching_rules.append(rule)\n",
    "    #                break\n",
    " \n",
    "    combined_grammar = {**grammar, **pattern_g, **reach_g}\n",
    "    combined_grammar[reaching_fsym] = reaching_rules + [pattern_rule]\n",
    "   \n",
    "    return combined_grammar, to_fkey_prefix(start_symbol, F_prefix(f_idx), FKey.atleast)"
   ]
  },
  {
   "cell_type": "code",
   "execution_count": 200,
   "metadata": {},
   "outputs": [],
   "source": [
    "def atleast_one_fault_grammar(grammar, start_symbol, fault_node, f_idx, log=False):\n",
    "    cg_, cs = atleast_one_fault_grammar_(grammar, start_symbol, fault_node, f_idx, log)\n",
    "    cg = complete(cg_, cs) \n",
    "    return cg, cs"
   ]
  },
  {
   "cell_type": "code",
   "execution_count": 201,
   "metadata": {},
   "outputs": [
    {
     "data": {
      "text/plain": [
       "'<factor>'"
      ]
     },
     "execution_count": 201,
     "metadata": {},
     "output_type": "execute_result"
    }
   ],
   "source": [
    "%top node_faulty1[0]"
   ]
  },
  {
   "cell_type": "markdown",
   "metadata": {},
   "source": [
    "The guarantee is at least one fault per input."
   ]
  },
  {
   "cell_type": "code",
   "execution_count": 202,
   "metadata": {},
   "outputs": [],
   "source": [
    "#%%top\n",
    "faulty1_grammar, faulty1_start = atleast_one_fault_grammar(EXPR_GRAMMAR, EXPR_START, node_faulty1, 1)"
   ]
  },
  {
   "cell_type": "code",
   "execution_count": 203,
   "metadata": {
    "scrolled": false
   },
   "outputs": [
    {
     "name": "stdout",
     "output_type": "stream",
     "text": [
      "<start +F1> ::=\n",
      "|    <expr +F1>\n",
      "<expr +F1> ::=\n",
      "|    <term +F1>\n",
      "|    <term +F1> ' + ' <expr>\n",
      "|    <term +F1> ' - ' <expr>\n",
      "|    <term> ' + ' <expr +F1>\n",
      "|    <term> ' - ' <expr +F1>\n",
      "<term +F1> ::=\n",
      "|    <factor +F1>\n",
      "|    <factor +F1> ' * ' <term>\n",
      "|    <factor +F1> ' / ' <term>\n",
      "|    <factor> ' * ' <term +F1>\n",
      "|    <factor> ' / ' <term +F1>\n",
      "<expr> ::=\n",
      "|    <term>\n",
      "|    <term> ' + ' <expr>\n",
      "|    <term> ' - ' <expr>\n",
      "<term> ::=\n",
      "|    <factor>\n",
      "|    <factor> ' * ' <term>\n",
      "|    <factor> ' / ' <term>\n",
      "<factor +F1> ::=\n",
      "|    '(' <expr +F1> ')'\n",
      "|    '(' <expr L1_1> ')'\n",
      "|    '+' <factor +F1>\n",
      "|    '-' <factor +F1>\n",
      "<factor> ::=\n",
      "|    '(' <expr> ')'\n",
      "|    '+' <factor>\n",
      "|    '-' <factor>\n",
      "|    <integer>\n",
      "|    <integer> '.' <integer>\n",
      "<expr L1_1> ::=\n",
      "|    <term L1_1>\n",
      "<term L1_1> ::=\n",
      "|    <factor L1_2>\n",
      "<factor L1_2> ::=\n",
      "|    '(' <expr> ')'\n",
      "<integer> ::=\n",
      "|    <digit>\n",
      "|    <digit> <integer>\n",
      "<digit> ::=\n",
      "|    '0'\n",
      "|    '1'\n",
      "|    '2'\n",
      "|    '3'\n",
      "|    '4'\n",
      "|    '5'\n",
      "|    '6'\n",
      "|    '7'\n",
      "|    '8'\n",
      "|    '9'\n",
      "12 41\n"
     ]
    },
    {
     "data": {
      "text/plain": [
       "'<start +F1>'"
      ]
     },
     "execution_count": 203,
     "metadata": {},
     "output_type": "execute_result"
    }
   ],
   "source": [
    "%%top\n",
    "Gs(faulty1_grammar)\n",
    "faulty1_start"
   ]
  },
  {
   "cell_type": "code",
   "execution_count": 204,
   "metadata": {},
   "outputs": [],
   "source": [
    "#%%top\n",
    "faulty1_fuzzer = LimitFuzzer(faulty1_grammar)\n",
    "faulty1_parser = Parser(faulty1_grammar, canonical=True, start_symbol=faulty1_start)"
   ]
  },
  {
   "cell_type": "code",
   "execution_count": 205,
   "metadata": {},
   "outputs": [
    {
     "name": "stdout",
     "output_type": "stream",
     "text": [
      "4.2 * 87 * -((((7)) * 3 - 4.8) / 4 * 7 - 1 + 1 - 0.0)\n",
      "+--(+7.6 * 9) / (-65 + (0.1 - 8) + (3) + 4 - 0.0) * +((0)) * +(7 / 5.1 + 8.5) / --(6.7) / -1 - +((7) / (5) * 2 * 0 + 0.4 - 4.5 / 9.7 - 9 + 3.7) / --(2.7 * 9.4 + 2 + 5.1) * 69 / 388 / -(0) * -9.7 / 6.7\n",
      "6.8 * ((4.5 / 4 + 1) * --7 * -5.8 + (8.9 - 2.5) * (7)) / (-9.0 / +6) / 92 + 21.753 / ((2) - 1 + 7.3 - 6.6 + 1.7) / -(((9)) / 5.8)\n",
      "++((4.4 + 1)) * 70.810849\n",
      "+((8.5 * 1 + 2 + 4.5)) + 26.1365 * -86 / 1200.0614 * (4.4) * (7 + 5.6) * +7 / 5.3 / 8.6 + 4 / 0.458 * (8.1 - 0) / +9 / -7.7 - -+05.98 / (7.0 * 2.3 + 7 + 1.8) * ++1.1 * +1.3\n",
      "-8 / 8.6 * 8 / (4 * 5.4 - 2.5 - 2.3 - 2) - -+710 / ++((5)) / (5 - 4.8 / 8) / +8.5 / 1.4 + (-0 / -0.9 * 1 / 2 - 5.1 / 6 + 2 / 1.6 - 9 + 4) - --(9.7) / ++6.2\n",
      "-(((3.1)) / +8 * (7) / 9.2 * 0 - 61 - 9.5 * 5 * 2.9 - 5 + 0 - 4.9)\n",
      "((1 / 7.4 / 5.5 - 1 + 1.7 - 2)) * 53.60 - (-21.02 + (2.8 - 2) / +2.6 - 0.5) / -++89 / 154.6633 - 04 / -85.04 / +40.26 * -(3) * (9.5) - (+7 * 8 / 5) * 1 / 15 - 0.57 * +-7 * 6 * 1 + 57 - 5 * 0 / 2.8 - 0.8 - 2 - 0\n",
      "++0 + ((6.6 / 5.2)) / -667.9 * (+9.7 / 2 * 5.7) / (7 / 8 + 0 - 4.6) / +-8.1 + +2 + ++-(0.4) * 6\n",
      "-++((9) / 0.0 / 2) * -(2.52 / -5 + 9.9 - 7 / 8) * +-(((6)) / 8.2 + 0 - 7.6) * 25\n"
     ]
    }
   ],
   "source": [
    "%%top\n",
    "for i in range(10):\n",
    "    s = faulty1_fuzzer.fuzz(key=faulty1_start)\n",
    "    print(s)\n",
    "    assert faulty1_parser.can_parse(s)\n",
    "    assert '((' in s and '))' in s"
   ]
  },
  {
   "cell_type": "markdown",
   "metadata": {},
   "source": [
    "A few parses"
   ]
  },
  {
   "cell_type": "code",
   "execution_count": 206,
   "metadata": {},
   "outputs": [],
   "source": [
    "%top assert faulty1_parser.can_parse('((2))')"
   ]
  },
  {
   "cell_type": "code",
   "execution_count": 207,
   "metadata": {},
   "outputs": [],
   "source": [
    "%top assert faulty1_parser.can_parse('((1 + 1))')"
   ]
  },
  {
   "cell_type": "code",
   "execution_count": 208,
   "metadata": {},
   "outputs": [],
   "source": [
    "%top assert not faulty1_parser.can_parse('1 + 2')"
   ]
  },
  {
   "cell_type": "code",
   "execution_count": 209,
   "metadata": {},
   "outputs": [],
   "source": [
    "%top assert faulty1_parser.can_parse('1 + ((3))')"
   ]
  },
  {
   "cell_type": "markdown",
   "metadata": {},
   "source": [
    "## Removing a fault (only demonstration)"
   ]
  },
  {
   "cell_type": "markdown",
   "metadata": {},
   "source": [
    "**Note** This part is only for demonstration, and is not a performant solution. For actual negation, use the *self negation* described later."
   ]
  },
  {
   "cell_type": "code",
   "execution_count": 210,
   "metadata": {},
   "outputs": [
    {
     "data": {
      "text/plain": [
       "[]"
      ]
     },
     "execution_count": 210,
     "metadata": {},
     "output_type": "execute_result"
    }
   ],
   "source": [
    "EXCEPTION_HAPPENED"
   ]
  },
  {
   "cell_type": "markdown",
   "metadata": {},
   "source": [
    "### Negated pattern grammar "
   ]
  },
  {
   "cell_type": "markdown",
   "metadata": {},
   "source": [
    "Given a pattern grammar and the correspoinding grammar, we produce a negated pattern grammar for it."
   ]
  },
  {
   "cell_type": "code",
   "execution_count": 211,
   "metadata": {},
   "outputs": [],
   "source": [
    "def negate_prefix(prefix):\n",
    "    assert prefix\n",
    "    assert ' ' not in prefix\n",
    "    return BExpr(prefix).negate().simple()"
   ]
  },
  {
   "cell_type": "code",
   "execution_count": 212,
   "metadata": {},
   "outputs": [],
   "source": [
    "def refine_base_key(k, prefix):\n",
    "    assert is_nt(k)\n",
    "    assert is_base_key(k)\n",
    "    return '<%s %s>' % (stem(k), prefix)"
   ]
  },
  {
   "cell_type": "code",
   "execution_count": 213,
   "metadata": {},
   "outputs": [],
   "source": [
    "%top assert refine_base_key('<key>',negate_prefix('F1')) == '<key neg(F1)>'"
   ]
  },
  {
   "cell_type": "code",
   "execution_count": 214,
   "metadata": {},
   "outputs": [],
   "source": [
    "def negate_key(k):\n",
    "    assert is_nt(k)\n",
    "    assert refinement(k)\n",
    "    return '<%s %s>' % (stem(k), negate_prefix(refinement(k)))"
   ]
  },
  {
   "cell_type": "code",
   "execution_count": 215,
   "metadata": {},
   "outputs": [],
   "source": [
    "%top assert negate_key('<key F1>') == '<key neg(F1)>'"
   ]
  },
  {
   "cell_type": "code",
   "execution_count": 216,
   "metadata": {},
   "outputs": [],
   "source": [
    "%top assert negate_key('<key neg(F1)>')  == '<key F1>'"
   ]
  },
  {
   "cell_type": "code",
   "execution_count": 217,
   "metadata": {},
   "outputs": [],
   "source": [
    "def negate_key_at(rule, at):\n",
    "    new_rule = []\n",
    "    for i,key in enumerate(rule):\n",
    "        if i == at:\n",
    "            new_rule.append(negate_key(key))\n",
    "        else:\n",
    "            new_rule.append(key)\n",
    "    return new_rule"
   ]
  },
  {
   "cell_type": "code",
   "execution_count": 218,
   "metadata": {},
   "outputs": [],
   "source": [
    "def negate_a_base_rule_wrt_fault_in_pattern_grammar(base_rule, fault_key, reachable_keys, log=False):\n",
    "    assert reachable_keys is not None\n",
    "    assert not [k for k in base_rule if is_nt(k) and is_refined_key(k)]\n",
    "    # when we want to negate a base rule, we only produce a single negated rule with\n",
    "    # _all_ reachable points negated. This is because if any of these points allow reach\n",
    "    # of the fault, then fault can be present.\n",
    "    refinements = []\n",
    "    negated_rule = []\n",
    "    for i, token in enumerate(base_rule):\n",
    "        if not is_nt(token):\n",
    "            negated_rule.append(token)\n",
    "        elif normalize(fault_key) in reachable_keys[token]:\n",
    "            t = refine_base_key(token, negate_prefix(refinement(fault_key)))\n",
    "            refinements.append(t)\n",
    "            negated_rule.append(t)\n",
    "        else:\n",
    "            negated_rule.append(token)\n",
    "    return negated_rule, refinements"
   ]
  },
  {
   "cell_type": "code",
   "execution_count": 219,
   "metadata": {},
   "outputs": [],
   "source": [
    "%%top\n",
    "nrule, refs = negate_a_base_rule_wrt_fault_in_pattern_grammar(\n",
    "    ['(', '<expr>',')'], '<factor F1>', reachable_dict(EXPR_GRAMMAR))\n",
    "assert nrule == ['(', '<expr neg(F1)>', ')']\n",
    "assert refs == ['<expr neg(F1)>']"
   ]
  },
  {
   "cell_type": "code",
   "execution_count": 220,
   "metadata": {},
   "outputs": [],
   "source": [
    "%%top\n",
    "nrule, refs = negate_a_base_rule_wrt_fault_in_pattern_grammar(\n",
    "    ['<term>', '+', '<expr>'], '<factor F1>', reachable_dict(EXPR_GRAMMAR))\n",
    "assert nrule == ['<term neg(F1)>', '+', '<expr neg(F1)>']"
   ]
  },
  {
   "cell_type": "code",
   "execution_count": 221,
   "metadata": {},
   "outputs": [],
   "source": [
    "%%top\n",
    "nrule, refs = negate_a_base_rule_wrt_fault_in_pattern_grammar(\n",
    "    ['<integer>', '.', '<integer>'], '<factor F1>', reachable_dict(EXPR_GRAMMAR))\n",
    "assert nrule == ['<integer>', '.', '<integer>']"
   ]
  },
  {
   "cell_type": "markdown",
   "metadata": {},
   "source": [
    "How to negate a refined rule? The easiest part is terminals. They come as they are. Next, the refined keys. They get negated. Now, for unrefined keys. In a linear grammar, there should not be any. However, what we have are not strictly linear. There are abstractions involved.\n",
    "\n",
    "These can generate the _original_ charecteristic key. So, they need to be negated based on that."
   ]
  },
  {
   "cell_type": "markdown",
   "metadata": {},
   "source": [
    "The difference between `negate_a_refined_rule` and `negate_a_refined_rule_in_pattern_grammar` is that we know the fault_key (the charecteristic fault). So, we can check reachability."
   ]
  },
  {
   "cell_type": "code",
   "execution_count": 222,
   "metadata": {},
   "outputs": [],
   "source": [
    "def negate_a_refined_rule_in_pattern_grammar(refined_rule, fault_key, reachable_keys, log=False):\n",
    "    assert reachable_keys is not None\n",
    "    # TODO: check whether the rule is unrefined, and return early?\n",
    "    \n",
    "    # first, preprocess the rule\n",
    "    prefix = refinement(fault_key)\n",
    "    refinements = []\n",
    "    skip = []\n",
    "    # First, we refine our rule. Essentially, here, we negate any base keys that can reach the\n",
    "    # fault. These are essentially the holes in our patterns.\n",
    "    rerefined_rule = []\n",
    "    for i, t in enumerate(refined_rule):\n",
    "        if not is_nt(t):\n",
    "            t_ = t\n",
    "        elif not is_base_key(t):\n",
    "            t_ = t\n",
    "        # is faulty key reachable from the base key? If so, then we need to negate the\n",
    "        # base key.\n",
    "        elif normalize(fault_key) in reachable_keys[t]:\n",
    "            t_ = refine_base_key(t, negate_prefix(prefix))\n",
    "            # The idea is to explode the expression that we want to evaluate to DNF, and\n",
    "            # check whether any of the negated fault keys exist in their own negated reachability grammars.\n",
    "            refinements.append(t_)\n",
    "            # At this point, this is no longer a base key. So make sure to record the position.\n",
    "            skip.append(i)\n",
    "        else:\n",
    "            t_ = t\n",
    "        rerefined_rule.append(t_)\n",
    "\n",
    "    # Now, we come to any refinements that are part of the pattern grammar. We want to produce multiple\n",
    "    # rules -- as many as there are negatable tokens in the rule. Each rule will have a single position\n",
    "    # negated from the refined_rule (and all base keys already negated).\n",
    "    negated_rules = []\n",
    "    found = False\n",
    "    for i, t in enumerate(rerefined_rule):\n",
    "        if not is_nt(t): continue\n",
    "        if is_base_key(t): continue # note: the base key definition has changed.\n",
    "        if i in skip: continue # Holes. We already negatd these.\n",
    "        negated_rules.append(negate_key_at(rerefined_rule, i))\n",
    "        found = True\n",
    "\n",
    "    # if there are no refinements found, then there is nothing to negate it against.\n",
    "    # which means that the match will happen if we add the rule as is. We want to prevent the\n",
    "    # match. So, \n",
    "    # if not found: <- NO\n",
    "    #    negated_rules.append(rerefined_rule)\n",
    "    \n",
    "    # e.g. '<factor L1_2>': [('(', '<expr>', ')')\n",
    "    # the trouble with unrefined (i.e no refined key to negate) is that negating it is empty.\n",
    "    if not found: \n",
    "        assert not [k for k in refined_rule if is_nt(k) and is_refined_key(k)]\n",
    "    else:\n",
    "        assert [k for k in refined_rule if is_nt(k) and is_refined_key(k)]\n",
    "    return negated_rules, refinements"
   ]
  },
  {
   "cell_type": "code",
   "execution_count": 223,
   "metadata": {},
   "outputs": [],
   "source": [
    "%%top\n",
    "assert negate_a_refined_rule_in_pattern_grammar(\n",
    "    ['(', '<expr F1>', ')'], '<factor F1>', reachable_dict(EXPR_GRAMMAR)) == (\n",
    "    [['(', '<expr neg(F1)>', ')']], [])"
   ]
  },
  {
   "cell_type": "code",
   "execution_count": 224,
   "metadata": {},
   "outputs": [],
   "source": [
    "%%top\n",
    "assert negate_a_refined_rule_in_pattern_grammar(\n",
    "    ['(', '<expr>', '+', '<expr L1>', ')'], '<factor F1>', reachable_dict(EXPR_GRAMMAR)) == (\n",
    "    [['(', '<expr neg(F1)>', '+', '<expr neg(L1)>', ')']],\n",
    "    ['<expr neg(F1)>'])"
   ]
  },
  {
   "cell_type": "markdown",
   "metadata": {},
   "source": [
    "How do we negate a definition (a list of rules)? Essentially, any rule in the base grammar that is not part of the list should also be added (taking care to negate all the base keys).\n",
    "\n",
    "Next, for a refined rule, we generate multiple rules from such, with one position at a time being negated to produce a new rule."
   ]
  },
  {
   "cell_type": "code",
   "execution_count": 225,
   "metadata": {},
   "outputs": [],
   "source": [
    "def negate_definition_in_pattern_grammar(fault_key, refined_rules, base_rules, reachable_keys, log=False):\n",
    "    assert reachable_keys\n",
    "    refinements = []\n",
    "    # the harder part. First, we find the rules in base_rules which\n",
    "    # do not match the pattern in any of the refined_rules.\n",
    "    # each of these rules could in principle, induce the fault again\n",
    "    # except for terminals and nonreachables. So, we need to negate them.\n",
    "\n",
    "    negated_rules_base = []\n",
    "    non_matching_base_rules = rule_normalized_difference(base_rules, refined_rules)\n",
    "    if log: print('> for fkey', fault_key, len(non_matching_base_rules))\n",
    "    for rule in non_matching_base_rules:\n",
    "        negated_rule, refs = negate_a_base_rule_wrt_fault_in_pattern_grammar(rule, fault_key, reachable_keys, log)\n",
    "        negated_rules_base.append(negated_rule)\n",
    "        refinements.extend(refs)\n",
    "        if log: print('>  ', negated_rule)\n",
    "            \n",
    "    # the simple part. Given the set of fules, we take one rule at a time,\n",
    "    # and genrate the negated ruleset from that.\n",
    "    negated_rules_refined = []\n",
    "    if log: print('> for fkey refined:', fault_key, len(refined_rules))\n",
    "    for ruleR in refined_rules:\n",
    "        neg_rules, refs = negate_a_refined_rule_in_pattern_grammar(ruleR, fault_key, reachable_keys, log)\n",
    "        negated_rules_refined.extend(neg_rules)\n",
    "        refinements.extend(refs)\n",
    "        \n",
    "    return negated_rules_refined + negated_rules_base, refinements"
   ]
  },
  {
   "cell_type": "code",
   "execution_count": 226,
   "metadata": {},
   "outputs": [
    {
     "data": {
      "text/plain": [
       "[['<term +F1>'],\n",
       " ['<term +F1>', ' + ', '<expr>'],\n",
       " ['<term +F1>', ' - ', '<expr>'],\n",
       " ['<term>', ' + ', '<expr +F1>'],\n",
       " ['<term>', ' - ', '<expr +F1>']]"
      ]
     },
     "execution_count": 226,
     "metadata": {},
     "output_type": "execute_result"
    }
   ],
   "source": [
    "%top faulty1_grammar['<expr +F1>']"
   ]
  },
  {
   "cell_type": "code",
   "execution_count": 227,
   "metadata": {},
   "outputs": [
    {
     "data": {
      "text/plain": [
       "([['<term neg(+F1)>'],\n",
       "  ['<term neg(+F1)>', ' + ', '<expr neg(+F1)>'],\n",
       "  ['<term neg(+F1)>', ' - ', '<expr neg(+F1)>'],\n",
       "  ['<term neg(+F1)>', ' + ', '<expr neg(+F1)>'],\n",
       "  ['<term neg(+F1)>', ' - ', '<expr neg(+F1)>']],\n",
       " ['<expr neg(+F1)>', '<expr neg(+F1)>', '<term neg(+F1)>', '<term neg(+F1)>'])"
      ]
     },
     "execution_count": 227,
     "metadata": {},
     "output_type": "execute_result"
    }
   ],
   "source": [
    "%%top\n",
    "negate_definition_in_pattern_grammar('<factor +F1>', faulty1_grammar['<expr +F1>'],\n",
    "                                       EXPR_GRAMMAR['<expr>'], reachable_dict(EXPR_GRAMMAR))"
   ]
  },
  {
   "cell_type": "markdown",
   "metadata": {},
   "source": [
    "Negating a linear grammar is fairly simple. Take a definition at a time, and negate it."
   ]
  },
  {
   "cell_type": "code",
   "execution_count": 228,
   "metadata": {},
   "outputs": [],
   "source": [
    "def negated_pattern_grammar(pattern_grammar, pattern_start, fault_key, base_grammar, log=False):\n",
    "    assert normalize(fault_key) == normalize(pattern_start)\n",
    "    reachable_keys = reachable_dict(base_grammar)\n",
    "    negated_grammar = {}\n",
    "    refinements = []\n",
    "    for l_key in pattern_grammar:\n",
    "        l_rule = pattern_grammar[l_key][0]\n",
    "        nl_key = negate_key(l_key)\n",
    "        if log: print(l_key, '->', nl_key, ':', l_rule)\n",
    "        # find all rules that do not match, and add to negated_grammar,\n",
    "        # taking care to make sure reachabiity of keys.\n",
    "        normal_l_key = normalize(l_key)\n",
    "        base_rules = base_grammar[normal_l_key]\n",
    "        refined_rules = pattern_grammar[l_key]\n",
    "        \n",
    "        negated_rules, refs = negate_definition_in_pattern_grammar(fault_key, refined_rules, base_rules,\n",
    "                                                                reachable_keys, log)\n",
    "        # TODO does negated_rules require `and` of similar rules? (see self negation)\n",
    "        # The problem is that, for pattern grammar, there is only a single rule.\n",
    "\n",
    "        negated_grammar[nl_key] = negated_rules\n",
    "        refinements.extend(refs)\n",
    "    # these are all negations in the original grammar. They will come later.\n",
    "    return negated_grammar, negate_key(pattern_start), refinements"
   ]
  },
  {
   "cell_type": "code",
   "execution_count": 229,
   "metadata": {},
   "outputs": [
    {
     "name": "stdout",
     "output_type": "stream",
     "text": [
      "<factor>\n",
      "   ['+', '<factor>']\n",
      "   ['-', '<factor>']\n",
      "   ['(', '<expr>', ')']\n",
      "   ['<integer>', '.', '<integer>']\n",
      "   ['<integer>']\n",
      "<expr>\n",
      "   ['<term>', ' + ', '<expr>']\n",
      "   ['<term>', ' - ', '<expr>']\n",
      "   ['<term>']\n",
      "<term>\n",
      "   ['<factor>', ' * ', '<term>']\n",
      "   ['<factor>', ' / ', '<term>']\n",
      "   ['<factor>']\n",
      "<factor>\n",
      "   ['+', '<factor>']\n",
      "   ['-', '<factor>']\n",
      "   ['(', '<expr>', ')']\n",
      "   ['<integer>', '.', '<integer>']\n",
      "   ['<integer>']\n"
     ]
    }
   ],
   "source": [
    "%%top\n",
    "for k in lg1:\n",
    "    k1 = normalize(k)\n",
    "    print(k1)\n",
    "    for rule in EXPR_GRAMMAR[k1]:\n",
    "        print('  ', rule)"
   ]
  },
  {
   "cell_type": "code",
   "execution_count": 230,
   "metadata": {},
   "outputs": [
    {
     "name": "stdout",
     "output_type": "stream",
     "text": [
      "<factor L1_1> ::=\n",
      "|    '(' <expr L1_1> ')'\n",
      "<expr L1_1> ::=\n",
      "|    <term L1_1>\n",
      "<term L1_1> ::=\n",
      "|    <factor L1_2>\n",
      "<factor L1_2> ::=\n",
      "|    '(' <expr> ')'\n",
      "4 4\n"
     ]
    }
   ],
   "source": [
    "%top Gs(lg1)"
   ]
  },
  {
   "cell_type": "code",
   "execution_count": 231,
   "metadata": {},
   "outputs": [],
   "source": [
    "#%%top\n",
    "nlg1, nls1, refs = negated_pattern_grammar(lg1, ls1, '<factor F1>', EXPR_GRAMMAR)"
   ]
  },
  {
   "cell_type": "code",
   "execution_count": 232,
   "metadata": {},
   "outputs": [
    {
     "name": "stdout",
     "output_type": "stream",
     "text": [
      "<factor neg(L1_1)> ::=\n",
      "|    '(' <expr neg(L1_1)> ')'\n",
      "|    '+' <factor neg(F1)>\n",
      "|    '-' <factor neg(F1)>\n",
      "|    <integer> '.' <integer>\n",
      "|    <integer>\n",
      "<expr neg(L1_1)> ::=\n",
      "|    <term neg(L1_1)>\n",
      "|    <term neg(F1)> ' + ' <expr neg(F1)>\n",
      "|    <term neg(F1)> ' - ' <expr neg(F1)>\n",
      "<term neg(L1_1)> ::=\n",
      "|    <factor neg(L1_2)>\n",
      "|    <factor neg(F1)> ' * ' <term neg(F1)>\n",
      "|    <factor neg(F1)> ' / ' <term neg(F1)>\n",
      "<factor neg(L1_2)> ::=\n",
      "|    '+' <factor neg(F1)>\n",
      "|    '-' <factor neg(F1)>\n",
      "|    <integer> '.' <integer>\n",
      "|    <integer>\n",
      "4 15\n",
      "> <factor neg(F1)>\n",
      "> <factor neg(F1)>\n",
      "> <term neg(F1)>\n",
      "> <expr neg(F1)>\n",
      "> <term neg(F1)>\n",
      "> <expr neg(F1)>\n",
      "> <factor neg(F1)>\n",
      "> <term neg(F1)>\n",
      "> <factor neg(F1)>\n",
      "> <term neg(F1)>\n",
      "> <factor neg(F1)>\n",
      "> <factor neg(F1)>\n",
      "> <expr neg(F1)>\n"
     ]
    },
    {
     "data": {
      "text/plain": [
       "'<factor neg(L1_1)>'"
      ]
     },
     "execution_count": 232,
     "metadata": {},
     "output_type": "execute_result"
    }
   ],
   "source": [
    "%%top\n",
    "Gs(nlg1)\n",
    "for r in refs:\n",
    "    print('>', r)\n",
    "nls1"
   ]
  },
  {
   "cell_type": "markdown",
   "metadata": {},
   "source": [
    "### Remove from key\n",
    "\n",
    "We need to define the `remove_from_key` first. The idea is that the fault does not occur in any of the reachable nonterminals."
   ]
  },
  {
   "cell_type": "code",
   "execution_count": 233,
   "metadata": {},
   "outputs": [],
   "source": [
    "def remove_all_instances_of_fault_from_key(grammar, key, fsym, prefix, reachable):\n",
    "    ref = refinement(to_fkey_prefix(fsym, prefix, FKey.atleast))\n",
    "    nref = negate_prefix(ref)\n",
    "    rules = grammar[key]\n",
    "    my_rules = []\n",
    "    for rule in grammar[key]:\n",
    "        positions = get_reachable_positions(rule, fsym, reachable)\n",
    "        if not positions: # make it len(positions) >= n if necessary\n",
    "            # add this rule as is because we cannot embed the fault here.\n",
    "            my_rules.append(rule)\n",
    "        else:\n",
    "            # at each position, insert the fsym\n",
    "            new_rule = []\n",
    "            for pos, token in enumerate(rule):\n",
    "                if pos in positions:\n",
    "                    t = refine_base_key(rule[pos], nref)\n",
    "                else:\n",
    "                    t = token\n",
    "                new_rule.append(t)\n",
    "            my_rules.append(new_rule)\n",
    "    return (refine_base_key(key, nref), my_rules)"
   ]
  },
  {
   "cell_type": "code",
   "execution_count": 234,
   "metadata": {},
   "outputs": [
    {
     "name": "stdout",
     "output_type": "stream",
     "text": [
      "<start neg(+F1)>\n",
      "     ['<expr neg(+F1)>']\n",
      "\n",
      "<expr neg(+F1)>\n",
      "     ['<term neg(+F1)>', ' + ', '<expr neg(+F1)>']\n",
      "     ['<term neg(+F1)>', ' - ', '<expr neg(+F1)>']\n",
      "     ['<term neg(+F1)>']\n",
      "\n",
      "<term neg(+F1)>\n",
      "     ['<factor neg(+F1)>', ' * ', '<term neg(+F1)>']\n",
      "     ['<factor neg(+F1)>', ' / ', '<term neg(+F1)>']\n",
      "     ['<factor neg(+F1)>']\n",
      "\n",
      "<factor neg(+F1)>\n",
      "     ['+', '<factor neg(+F1)>']\n",
      "     ['-', '<factor neg(+F1)>']\n",
      "     ['(', '<expr neg(+F1)>', ')']\n",
      "     ['<integer>', '.', '<integer>']\n",
      "     ['<integer>']\n",
      "\n",
      "<integer neg(+F1)>\n",
      "     ['<digit>', '<integer>']\n",
      "     ['<digit>']\n",
      "\n",
      "<digit neg(+F1)>\n",
      "     ['0']\n",
      "     ['1']\n",
      "     ['2']\n",
      "     ['3']\n",
      "     ['4']\n",
      "     ['5']\n",
      "     ['6']\n",
      "     ['7']\n",
      "     ['8']\n",
      "     ['9']\n",
      "\n"
     ]
    }
   ],
   "source": [
    "%%top\n",
    "for key in EXPR_GRAMMAR:\n",
    "    fk, rules = remove_all_instances_of_fault_from_key(EXPR_GRAMMAR, key, '<factor>', '1', reachable1)\n",
    "    print(fk)\n",
    "    for r in rules:\n",
    "        print('    ', r)\n",
    "    print()"
   ]
  },
  {
   "cell_type": "markdown",
   "metadata": {},
   "source": [
    "### Remove from grammar"
   ]
  },
  {
   "cell_type": "code",
   "execution_count": 235,
   "metadata": {},
   "outputs": [],
   "source": [
    "def remove_all_instances_of_fault_from_grammar(grammar, fsym, prefix_f, reachable):\n",
    "    new_grammar = {}\n",
    "    for key in grammar:\n",
    "        fk, rules = remove_all_instances_of_fault_from_key(grammar, key, fsym, prefix_f, reachable)\n",
    "        #if not rules: continue # no applicable rules\n",
    "        assert rules # there will be rules here because negation will not remove any rule.\n",
    "        if fk not in new_grammar:\n",
    "            new_grammar[fk] = []\n",
    "        new_grammar[fk].extend(rules)\n",
    "    return new_grammar"
   ]
  },
  {
   "cell_type": "markdown",
   "metadata": {},
   "source": [
    "### Get the final grammar"
   ]
  },
  {
   "cell_type": "markdown",
   "metadata": {},
   "source": [
    "The final steps are as follows:\n",
    "\n",
    "* Add the fault node, and the child nodes to the grammar.\n",
    "* Generate the faulty key definitions. This is done per key in the original grammar.\n",
    "* Finally, connect the faulty key and fault node."
   ]
  },
  {
   "cell_type": "code",
   "execution_count": 236,
   "metadata": {},
   "outputs": [],
   "source": [
    "def no_fault_grammar_(grammar, start_symbol, fault_node, f_idx, log=False):\n",
    "    def L_prefix(i): return str(i)\n",
    "    def F_prefix(i): return str(i)\n",
    "    prefix_l = L_prefix(f_idx)\n",
    "    prefix_f = F_prefix(f_idx)\n",
    "    key_f = fault_node[0]\n",
    "    assert key_f in grammar\n",
    "    # First, get the pattern grammar\n",
    "\n",
    "    fsym = to_fkey_prefix(key_f, prefix_f, FKey.atleast)\n",
    "    noreaching_fsym = negate_key(fsym)\n",
    "\n",
    "    pattern_g, pattern_s = faulty_node_to_pattern_grammar(fault_node, prefix_l)\n",
    "    npattern_g, npattern_s, refs = negated_pattern_grammar(pattern_g, pattern_s, fsym, grammar, log)\n",
    "    reachable_keys = reachable_dict(grammar)\n",
    "    # the new grammar contains the faulty keys and their definitions.\n",
    "    # next, want to insert the fault prefix_f into each insertable positions. \n",
    "    # the insertable locations are those that can reach fsym\n",
    "    noreach_g = remove_all_instances_of_fault_from_grammar(grammar, key_f, prefix_f, reachable_keys)\n",
    "    for key in refs: assert key in noreach_g\n",
    "\n",
    "    # now, the faulty key is an alternative to the original.\n",
    "    # We have to take care of one thing though. The `fkey` in the pattern grammar should\n",
    "    # be replaced with fsym, but the definitions kept. This is because we want to preserve\n",
    "    # the rule patterns. We do not want normal expansions to go through since it may mean\n",
    "    # no fault inserted. However, we want self recursion to happen.\n",
    "    \n",
    "    combined_grammar = {**grammar, **npattern_g, **noreach_g}\n",
    "    new_rules = npattern_g[npattern_s] # get the negated pattern rule\n",
    "    \n",
    "    combined_grammar[noreaching_fsym] = new_rules\n",
    "    start_key =  refine_base_key(start_symbol, negate_prefix(refinement(fsym)))\n",
    "    return combined_grammar, start_key"
   ]
  },
  {
   "cell_type": "code",
   "execution_count": 237,
   "metadata": {},
   "outputs": [],
   "source": [
    "def no_fault_grammar(grammar, start_symbol, fault_node, f_idx, log=False):\n",
    "    cg_, cs = no_fault_grammar_(grammar, start_symbol, fault_node, f_idx, log)\n",
    "    cg = complete(cg_, cs)\n",
    "    return cg, cs"
   ]
  },
  {
   "cell_type": "code",
   "execution_count": 238,
   "metadata": {},
   "outputs": [],
   "source": [
    "#%%top\n",
    "nfaulty1_grammar, nfaulty1_start = no_fault_grammar(EXPR_GRAMMAR, EXPR_START, node_faulty1, 1)"
   ]
  },
  {
   "cell_type": "code",
   "execution_count": 239,
   "metadata": {},
   "outputs": [
    {
     "name": "stdout",
     "output_type": "stream",
     "text": [
      "<start neg(+F1)> ::=\n",
      "|    <expr neg(+F1)>\n",
      "<expr neg(+F1)> ::=\n",
      "|    <term neg(+F1)>\n",
      "|    <term neg(+F1)> ' + ' <expr neg(+F1)>\n",
      "|    <term neg(+F1)> ' - ' <expr neg(+F1)>\n",
      "<term neg(+F1)> ::=\n",
      "|    <factor neg(+F1)>\n",
      "|    <factor neg(+F1)> ' * ' <term neg(+F1)>\n",
      "|    <factor neg(+F1)> ' / ' <term neg(+F1)>\n",
      "<factor neg(+F1)> ::=\n",
      "|    '(' <expr neg(L1_1)> ')'\n",
      "|    '+' <factor neg(+F1)>\n",
      "|    '-' <factor neg(+F1)>\n",
      "|    <integer>\n",
      "|    <integer> '.' <integer>\n",
      "<expr neg(L1_1)> ::=\n",
      "|    <term neg(+F1)> ' + ' <expr neg(+F1)>\n",
      "|    <term neg(+F1)> ' - ' <expr neg(+F1)>\n",
      "|    <term neg(L1_1)>\n",
      "<integer> ::=\n",
      "|    <digit>\n",
      "|    <digit> <integer>\n",
      "<term neg(L1_1)> ::=\n",
      "|    <factor neg(+F1)> ' * ' <term neg(+F1)>\n",
      "|    <factor neg(+F1)> ' / ' <term neg(+F1)>\n",
      "|    <factor neg(L1_2)>\n",
      "<factor neg(L1_2)> ::=\n",
      "|    '+' <factor neg(+F1)>\n",
      "|    '-' <factor neg(+F1)>\n",
      "|    <integer>\n",
      "|    <integer> '.' <integer>\n",
      "<digit> ::=\n",
      "|    '0'\n",
      "|    '1'\n",
      "|    '2'\n",
      "|    '3'\n",
      "|    '4'\n",
      "|    '5'\n",
      "|    '6'\n",
      "|    '7'\n",
      "|    '8'\n",
      "|    '9'\n",
      "9 34\n"
     ]
    },
    {
     "data": {
      "text/plain": [
       "'<start neg(+F1)>'"
      ]
     },
     "execution_count": 239,
     "metadata": {},
     "output_type": "execute_result"
    }
   ],
   "source": [
    "%%top\n",
    "Gs(nfaulty1_grammar)\n",
    "nfaulty1_start"
   ]
  },
  {
   "cell_type": "code",
   "execution_count": 240,
   "metadata": {},
   "outputs": [],
   "source": [
    "#%%top\n",
    "nfaulty1_fuzzer = LimitFuzzer(nfaulty1_grammar)\n",
    "nfaulty1_parser = Parser(nfaulty1_grammar, canonical=True, start_symbol=nfaulty1_start)"
   ]
  },
  {
   "cell_type": "code",
   "execution_count": 241,
   "metadata": {},
   "outputs": [
    {
     "name": "stdout",
     "output_type": "stream",
     "text": [
      "+2 * 7 * 6 / -3 * 8 / 20.8 / 0 * 4 + ((8 * 5) * (7.4 - 5.5) + ++3.9 / 9) * +68.3 * ++52.4 - -2 * -+15.95 - --+(9.6)\n",
      "2.9 * 09 * --++1.7 - --6802 / 9 / (-4 / 1 / 6.9 - 0.0 + 3 + 8) * (1 - 3 + 4.6) - 0 - -(7 + 0.9) / 74.9 - +(6.2) - +1.6 * 4\n",
      "1 - +85.0 / 40 / (-3.8 / 0.6 + 5.5 * 8.8 + 1.0 + 2) * 5.726 / 8.5 - -(-5 + 6 * 0.5)\n",
      "70 * -545 + +-8.938 / 6.374 + 6989 / 9.2\n",
      "+64412.0 * +-((9) / 9) / 7 / +123 * -3 / -9.0 / 5 + (2 * (2.3)) * +1.8 / 099 * +42.14\n",
      "3 + 7.37391 / -+-4.78 * (+3.7 / 3 * 6.1) / 4.8 * 6 * +1.8\n",
      "(++2 * 06.338 * 73.2 / 9.7 + 415.652 + +-1.1 / (3.0) / 3 / 1) / (1.7 + 82 * 2.7 - 8.6 / 0.9 / 9.8 - 4.9 - 2.7) - 2.9\n",
      "2.1 / 9.715 / (-(4.1) / -6 / 9 / 3) / 6 * -8\n",
      "+(84 - 16 * (6)) / -(-+7 + (6.9) * 7 - 7 * 6.6 + 3.4 + 9) / --(7.2 * 6.8 - 0) - 1353 * 41 + 0.68572 * 24 / 8.283 * 07 / (4) + 6.114 / 1 * --1 - (6.0) - ++8 - -7.5 * 0.3 / 4 + 6.7 + 7.2 - 7\n",
      "+78 * 1 * 6 * 04.7 + (-+-4.4 * (0.2 - 7) * 0 / 9) - -+9 / +-75 + (0)\n"
     ]
    }
   ],
   "source": [
    "%%top\n",
    "for i in range(10):\n",
    "    s = nfaulty1_fuzzer.fuzz(key=nfaulty1_start)\n",
    "    print(s)\n",
    "    assert nfaulty1_parser.can_parse(s)\n",
    "    assert not faulty1_parser.can_parse(s)"
   ]
  },
  {
   "cell_type": "code",
   "execution_count": 242,
   "metadata": {},
   "outputs": [],
   "source": [
    "%top assert not nfaulty1_parser.can_parse('((2))')"
   ]
  },
  {
   "cell_type": "code",
   "execution_count": 243,
   "metadata": {},
   "outputs": [],
   "source": [
    "%top assert not nfaulty1_parser.can_parse('((1 + 1))')"
   ]
  },
  {
   "cell_type": "code",
   "execution_count": 244,
   "metadata": {},
   "outputs": [],
   "source": [
    "%top assert nfaulty1_parser.parse('1 + 2')"
   ]
  },
  {
   "cell_type": "code",
   "execution_count": 245,
   "metadata": {},
   "outputs": [],
   "source": [
    "%top assert not nfaulty1_parser.can_parse('1 + ((3))')"
   ]
  },
  {
   "cell_type": "markdown",
   "metadata": {},
   "source": [
    "## At most one fault"
   ]
  },
  {
   "cell_type": "markdown",
   "metadata": {},
   "source": [
    "### Get the final grammar"
   ]
  },
  {
   "cell_type": "code",
   "execution_count": 246,
   "metadata": {},
   "outputs": [
    {
     "data": {
      "text/plain": [
       "[]"
      ]
     },
     "execution_count": 246,
     "metadata": {},
     "output_type": "execute_result"
    }
   ],
   "source": [
    "EXCEPTION_HAPPENED"
   ]
  },
  {
   "cell_type": "markdown",
   "metadata": {},
   "source": [
    "The final steps are as follows:\n",
    "1. Add the fault node, and the child nodes to the grammar.\n",
    "2. Generate the faulty key definitions. This is done per key in the original grammar.\n",
    "3. Finally, connect the faulty key and fault node."
   ]
  },
  {
   "cell_type": "markdown",
   "metadata": {},
   "source": [
    "### Remove except one from key"
   ]
  },
  {
   "cell_type": "code",
   "execution_count": 247,
   "metadata": {},
   "outputs": [],
   "source": [
    "def remove_all_faults_except_one_from_key(grammar, key, fsym, prefix, reachable):\n",
    "    ref = refinement(to_fkey_prefix(fsym, prefix, FKey.atleast)) # negation should be atleast\n",
    "    rules = grammar[key]\n",
    "    my_rules = []\n",
    "    for rule in grammar[key]:\n",
    "        positions = get_reachable_positions(rule, fsym, reachable)\n",
    "        if not positions: # make it len(positions) >= n if necessary\n",
    "            # add this rule as is because we can not embed the fault here.\n",
    "            my_rules.append(rule)\n",
    "        else:\n",
    "            # skip pos for each rule\n",
    "            for pos in positions:\n",
    "                new_rule = [to_fkey_prefix(t, prefix, FKey.atmost)\n",
    "                            if pos == p else  # at p position, there _may be_ a fault, but not in other places\n",
    "                            (refine_base_key(t, negate_prefix(ref))\n",
    "                             if is_nt(t) else t)\n",
    "                            # change to FKey.exactly to make it exactly\n",
    "                            for p,t in enumerate(rule)]\n",
    "                my_rules.append(new_rule)\n",
    "    return (to_fkey_prefix(key, prefix, FKey.atmost), my_rules)"
   ]
  },
  {
   "cell_type": "code",
   "execution_count": 248,
   "metadata": {},
   "outputs": [
    {
     "data": {
      "text/plain": [
       "'<factor>'"
      ]
     },
     "execution_count": 248,
     "metadata": {},
     "output_type": "execute_result"
    }
   ],
   "source": [
    "%top node_faulty1[0]"
   ]
  },
  {
   "cell_type": "code",
   "execution_count": 249,
   "metadata": {},
   "outputs": [
    {
     "name": "stdout",
     "output_type": "stream",
     "text": [
      "<start *F1>\n",
      "     ['<expr *F1>']\n",
      "\n",
      "<expr *F1>\n",
      "     ['<term *F1>', ' + ', '<expr neg(+F1)>']\n",
      "     ['<term neg(+F1)>', ' + ', '<expr *F1>']\n",
      "     ['<term *F1>', ' - ', '<expr neg(+F1)>']\n",
      "     ['<term neg(+F1)>', ' - ', '<expr *F1>']\n",
      "     ['<term *F1>']\n",
      "\n",
      "<term *F1>\n",
      "     ['<factor *F1>', ' * ', '<term neg(+F1)>']\n",
      "     ['<factor neg(+F1)>', ' * ', '<term *F1>']\n",
      "     ['<factor *F1>', ' / ', '<term neg(+F1)>']\n",
      "     ['<factor neg(+F1)>', ' / ', '<term *F1>']\n",
      "     ['<factor *F1>']\n",
      "\n",
      "<factor *F1>\n",
      "     ['+', '<factor *F1>']\n",
      "     ['-', '<factor *F1>']\n",
      "     ['(', '<expr *F1>', ')']\n",
      "     ['<integer>', '.', '<integer>']\n",
      "     ['<integer>']\n",
      "\n",
      "<integer *F1>\n",
      "     ['<digit>', '<integer>']\n",
      "     ['<digit>']\n",
      "\n",
      "<digit *F1>\n",
      "     ['0']\n",
      "     ['1']\n",
      "     ['2']\n",
      "     ['3']\n",
      "     ['4']\n",
      "     ['5']\n",
      "     ['6']\n",
      "     ['7']\n",
      "     ['8']\n",
      "     ['9']\n",
      "\n"
     ]
    }
   ],
   "source": [
    "%%top\n",
    "for key in EXPR_GRAMMAR:\n",
    "    fk, rules = remove_all_faults_except_one_from_key(EXPR_GRAMMAR, key, '<factor>', '1', reachable1)\n",
    "    print(fk)\n",
    "    for r in rules:\n",
    "        print('    ', r)\n",
    "    print()"
   ]
  },
  {
   "cell_type": "code",
   "execution_count": 250,
   "metadata": {},
   "outputs": [],
   "source": [
    "#%%top\n",
    "nfaulty1_grammar, nfaulty1_start = no_fault_grammar(EXPR_GRAMMAR, EXPR_START, node_faulty1, 1)"
   ]
  },
  {
   "cell_type": "markdown",
   "metadata": {},
   "source": [
    "### Remove except one from grammar"
   ]
  },
  {
   "cell_type": "code",
   "execution_count": 251,
   "metadata": {
    "scrolled": false
   },
   "outputs": [
    {
     "name": "stdout",
     "output_type": "stream",
     "text": [
      "<start neg(+F1)> ::=\n",
      "|    <expr neg(+F1)>\n",
      "<expr neg(+F1)> ::=\n",
      "|    <term neg(+F1)>\n",
      "|    <term neg(+F1)> ' + ' <expr neg(+F1)>\n",
      "|    <term neg(+F1)> ' - ' <expr neg(+F1)>\n",
      "<term neg(+F1)> ::=\n",
      "|    <factor neg(+F1)>\n",
      "|    <factor neg(+F1)> ' * ' <term neg(+F1)>\n",
      "|    <factor neg(+F1)> ' / ' <term neg(+F1)>\n",
      "<factor neg(+F1)> ::=\n",
      "|    '(' <expr neg(L1_1)> ')'\n",
      "|    '+' <factor neg(+F1)>\n",
      "|    '-' <factor neg(+F1)>\n",
      "|    <integer>\n",
      "|    <integer> '.' <integer>\n",
      "<expr neg(L1_1)> ::=\n",
      "|    <term neg(+F1)> ' + ' <expr neg(+F1)>\n",
      "|    <term neg(+F1)> ' - ' <expr neg(+F1)>\n",
      "|    <term neg(L1_1)>\n",
      "<integer> ::=\n",
      "|    <digit>\n",
      "|    <digit> <integer>\n",
      "<term neg(L1_1)> ::=\n",
      "|    <factor neg(+F1)> ' * ' <term neg(+F1)>\n",
      "|    <factor neg(+F1)> ' / ' <term neg(+F1)>\n",
      "|    <factor neg(L1_2)>\n",
      "<factor neg(L1_2)> ::=\n",
      "|    '+' <factor neg(+F1)>\n",
      "|    '-' <factor neg(+F1)>\n",
      "|    <integer>\n",
      "|    <integer> '.' <integer>\n",
      "<digit> ::=\n",
      "|    '0'\n",
      "|    '1'\n",
      "|    '2'\n",
      "|    '3'\n",
      "|    '4'\n",
      "|    '5'\n",
      "|    '6'\n",
      "|    '7'\n",
      "|    '8'\n",
      "|    '9'\n",
      "9 34\n"
     ]
    },
    {
     "data": {
      "text/plain": [
       "'<start neg(+F1)>'"
      ]
     },
     "execution_count": 251,
     "metadata": {},
     "output_type": "execute_result"
    }
   ],
   "source": [
    "%%top\n",
    "Gs(nfaulty1_grammar)\n",
    "nfaulty1_start"
   ]
  },
  {
   "cell_type": "code",
   "execution_count": 252,
   "metadata": {},
   "outputs": [],
   "source": [
    "#%%top\n",
    "nfaulty1_fuzzer = LimitFuzzer(nfaulty1_grammar)\n",
    "nfaulty1_parser = Parser(nfaulty1_grammar, canonical=True, start_symbol=nfaulty1_start)"
   ]
  },
  {
   "cell_type": "code",
   "execution_count": 253,
   "metadata": {},
   "outputs": [
    {
     "name": "stdout",
     "output_type": "stream",
     "text": [
      "9.1 - (26 + 8 + -5 / 8 / 4.3)\n",
      "54 / -(++3) * (52 * -1 / 9) / ++8\n",
      "--44 * (+(1 + 8) + -4.2 * +0.6 - 8 + 8 / 1.2 - 9.7 - 3.0) * 82 / (7 * 6 / 5.7 + 8.7 / 2.7) / 534 * +-9 + --9 / +((5) / 9 - 5.3 * 7.5)\n",
      "0.7 / (-75.24 - (1.6 - 5.0) * +2 * 1.5) + -(-2 * -2 / 4.5 * 4) * 756.0 - 50.1\n",
      "+794 / +(-1.0 / 5 / 5.4 * 3) - ((7 * 6 + 2) + 3 / -5 * 6.4 - 6 - 0) / 1 / (+3 / 7 + 4.6) / -+7 + (60.9 * -6.2 * 2 + (2.9) / 3.2 * 8.0) / (-4) * 37 * (1.1) / 5.8 * 7 * 9.2\n",
      "(+(9 * 2.5 + 8) + +-2 / -(1) * +7 - (9 - 5) * -8 / 0 * 4.8) * -3.5497 - 490.259 * (+4 / 9) / -062.246 + 7 + ((4) / 0.9 * 9.4 - 7.3) - +7 * -(5.1) * 9 * 9.9 / 5 - -5 / 7.8\n",
      "((4 * 8 / 4 - 9.5 + 0 - 8) / 53.0) - 9.72 / 3.8 * (1 * 3 * 1 + 7.3 / 2.9) * (2.2) + -5\n",
      "(-(7.6 / 1)) * +----(8.0) * 4 / -++-9 - 7 + 55.36 / (+4.7 + 2.4 / 3.4 - 1.6 + 9) * 1 * 3.81\n",
      "4.5 / ((3.9 * 2.9) / (0.1) / -4.0 - (5.0 - 9.5) / (8.5) / 3 * 4) * 86.7 / (+7.0 / 2.0) + 59.1 + 78165.5\n",
      "++(+7.1 / 8.0 / 1.2 + 4 * 6 * 8.0 + 5.4 / 4.5 - 5.5 - 4.7) / +(--7 / (0) / 1 * 2) - (+05) / 998.87\n"
     ]
    }
   ],
   "source": [
    "%%top\n",
    "for i in range(10):\n",
    "    s = nfaulty1_fuzzer.fuzz(key=nfaulty1_start)\n",
    "    print(s)\n",
    "    assert nfaulty1_parser.can_parse(s)\n",
    "    assert not faulty1_parser.can_parse(s)"
   ]
  },
  {
   "cell_type": "markdown",
   "metadata": {},
   "source": [
    "A few parses"
   ]
  },
  {
   "cell_type": "code",
   "execution_count": 254,
   "metadata": {},
   "outputs": [],
   "source": [
    "%top assert not nfaulty1_parser.can_parse('((2))')"
   ]
  },
  {
   "cell_type": "code",
   "execution_count": 255,
   "metadata": {},
   "outputs": [],
   "source": [
    "%top assert not nfaulty1_parser.can_parse('((1 + 1))')"
   ]
  },
  {
   "cell_type": "code",
   "execution_count": 256,
   "metadata": {},
   "outputs": [],
   "source": [
    "%top assert nfaulty1_parser.parse('1 + 2')"
   ]
  },
  {
   "cell_type": "code",
   "execution_count": 257,
   "metadata": {},
   "outputs": [],
   "source": [
    "%top assert not nfaulty1_parser.can_parse('1 + ((3))')"
   ]
  },
  {
   "cell_type": "markdown",
   "metadata": {},
   "source": [
    "At this point, we can produce exactly one fault grammars and at most one fault grammars."
   ]
  },
  {
   "cell_type": "code",
   "execution_count": 258,
   "metadata": {},
   "outputs": [],
   "source": [
    "def remove_all_faults_except_one_from_grammar(grammar, fsym, prefix_f, reachable):\n",
    "    new_grammar = {}\n",
    "    for key in grammar:\n",
    "        fk, rules = remove_all_faults_except_one_from_key(grammar, key, fsym, prefix_f, reachable)\n",
    "        assert rules # there will be rules because negation is involved.\n",
    "        if fk not in new_grammar:\n",
    "            new_grammar[fk] = []\n",
    "        new_grammar[fk].extend(rules)\n",
    "    return new_grammar"
   ]
  },
  {
   "cell_type": "markdown",
   "metadata": {},
   "source": [
    "### Get the final grammar"
   ]
  },
  {
   "cell_type": "code",
   "execution_count": 259,
   "metadata": {},
   "outputs": [],
   "source": [
    "def atmost_one_fault_grammar_(grammar, start_symbol, fault_node, f_idx, log=False):\n",
    "    def L_prefix(i): return str(i)\n",
    "    def F_prefix(i): return str(i)\n",
    "    prefix_l = L_prefix(f_idx)\n",
    "    prefix_f = F_prefix(f_idx)\n",
    "    key_f = fault_node[0]\n",
    "    assert key_f in grammar\n",
    "    # First, get the pattern grammar\n",
    "\n",
    "    fsym = to_fkey_prefix(key_f, prefix_f, FKey.atmost)\n",
    "    atleast_fsym = to_fkey_prefix(key_f, prefix_f, FKey.atleast)\n",
    "    noreaching_fsym = negate_key(atleast_fsym)\n",
    "    \n",
    "    pattern_g, pattern_s  = faulty_node_to_pattern_grammar(fault_node, prefix_l)\n",
    "    npattern_g, npattern_s, refs = negated_pattern_grammar(pattern_g, pattern_s, atleast_fsym, grammar, log)\n",
    "    reachable_keys = reachable_dict(grammar)\n",
    "    # the new grammar contains the faulty keys and their definitions.\n",
    "    # next, want to insert the fault prefix_f into each insertable positions. \n",
    "    # the insertable locations are those that can reach fsym\n",
    "    atmost_g = remove_all_faults_except_one_from_grammar(grammar, key_f, prefix_f, reachable_keys)\n",
    "\n",
    "    noreach_g = remove_all_instances_of_fault_from_grammar(grammar, key_f, prefix_f, reachable_keys)\n",
    "    negation_connect = npattern_g[npattern_s] # get the negated pattern rule\n",
    "    noreach_g[noreaching_fsym] = negation_connect\n",
    "\n",
    "    for key in refs: assert key in noreach_g, key\n",
    "    \n",
    "    # now, the faulty key is an alternative to the original.\n",
    "    # We have to take care of one thing though. The `fkey` in the linear grammar should\n",
    "    # be replaced with fsym, but the definitions kept. This is because we want to preserve\n",
    "    # the rule patterns. We do not want normal expansions to go through since it may mean\n",
    "    # no fault inserted. However, we want self recursion to happen.\n",
    "    pattern_rule = pattern_g[pattern_s][0]\n",
    "    \n",
    "    combined_grammar = {**grammar, **pattern_g, **npattern_g, **atmost_g, **noreach_g}\n",
    "    new_rules = pattern_g[pattern_s] # get the pattern rule\n",
    "   \n",
    "    combined_grammar[fsym].extend(new_rules)\n",
    "    #combined_grammar[fsym] = new_rules\n",
    "    return combined_grammar, to_fkey_prefix(start_symbol, F_prefix(f_idx), FKey.atmost)"
   ]
  },
  {
   "cell_type": "code",
   "execution_count": 260,
   "metadata": {},
   "outputs": [],
   "source": [
    "def atmost_one_fault_grammar(grammar, start_symbol, fault_node, f_idx, log=False):\n",
    "    cg_, cs = atmost_one_fault_grammar_(grammar, start_symbol, fault_node, f_idx, log)\n",
    "    cg = complete(cg_, cs)\n",
    "    return cg, cs"
   ]
  },
  {
   "cell_type": "code",
   "execution_count": 261,
   "metadata": {},
   "outputs": [],
   "source": [
    "#%%top\n",
    "nfaultya1_grammar, nfaultya1_start = atmost_one_fault_grammar(EXPR_GRAMMAR, EXPR_START, node_faulty1, 1)"
   ]
  },
  {
   "cell_type": "code",
   "execution_count": 262,
   "metadata": {
    "scrolled": false
   },
   "outputs": [
    {
     "name": "stdout",
     "output_type": "stream",
     "text": [
      "<start *F1> ::=\n",
      "|    <expr *F1>\n",
      "<expr *F1> ::=\n",
      "|    <term *F1>\n",
      "|    <term *F1> ' + ' <expr neg(+F1)>\n",
      "|    <term *F1> ' - ' <expr neg(+F1)>\n",
      "|    <term neg(+F1)> ' + ' <expr *F1>\n",
      "|    <term neg(+F1)> ' - ' <expr *F1>\n",
      "<term *F1> ::=\n",
      "|    <factor *F1>\n",
      "|    <factor *F1> ' * ' <term neg(+F1)>\n",
      "|    <factor *F1> ' / ' <term neg(+F1)>\n",
      "|    <factor neg(+F1)> ' * ' <term *F1>\n",
      "|    <factor neg(+F1)> ' / ' <term *F1>\n",
      "<expr neg(+F1)> ::=\n",
      "|    <term neg(+F1)>\n",
      "|    <term neg(+F1)> ' + ' <expr neg(+F1)>\n",
      "|    <term neg(+F1)> ' - ' <expr neg(+F1)>\n",
      "<term neg(+F1)> ::=\n",
      "|    <factor neg(+F1)>\n",
      "|    <factor neg(+F1)> ' * ' <term neg(+F1)>\n",
      "|    <factor neg(+F1)> ' / ' <term neg(+F1)>\n",
      "<factor *F1> ::=\n",
      "|    '(' <expr *F1> ')'\n",
      "|    '(' <expr L1_1> ')'\n",
      "|    '+' <factor *F1>\n",
      "|    '-' <factor *F1>\n",
      "|    <integer>\n",
      "|    <integer> '.' <integer>\n",
      "<factor neg(+F1)> ::=\n",
      "|    '(' <expr neg(L1_1)> ')'\n",
      "|    '+' <factor neg(+F1)>\n",
      "|    '-' <factor neg(+F1)>\n",
      "|    <integer>\n",
      "|    <integer> '.' <integer>\n",
      "<expr L1_1> ::=\n",
      "|    <term L1_1>\n",
      "<integer> ::=\n",
      "|    <digit>\n",
      "|    <digit> <integer>\n",
      "<term L1_1> ::=\n",
      "|    <factor L1_2>\n",
      "<factor L1_2> ::=\n",
      "|    '(' <expr> ')'\n",
      "<expr> ::=\n",
      "|    <term>\n",
      "|    <term> ' + ' <expr>\n",
      "|    <term> ' - ' <expr>\n",
      "<term> ::=\n",
      "|    <factor>\n",
      "|    <factor> ' * ' <term>\n",
      "|    <factor> ' / ' <term>\n",
      "<factor> ::=\n",
      "|    '(' <expr> ')'\n",
      "|    '+' <factor>\n",
      "|    '-' <factor>\n",
      "|    <integer>\n",
      "|    <integer> '.' <integer>\n",
      "<digit> ::=\n",
      "|    '0'\n",
      "|    '1'\n",
      "|    '2'\n",
      "|    '3'\n",
      "|    '4'\n",
      "|    '5'\n",
      "|    '6'\n",
      "|    '7'\n",
      "|    '8'\n",
      "|    '9'\n",
      "<expr neg(L1_1)> ::=\n",
      "|    <term neg(+F1)> ' + ' <expr neg(+F1)>\n",
      "|    <term neg(+F1)> ' - ' <expr neg(+F1)>\n",
      "|    <term neg(L1_1)>\n",
      "<term neg(L1_1)> ::=\n",
      "|    <factor neg(+F1)> ' * ' <term neg(+F1)>\n",
      "|    <factor neg(+F1)> ' / ' <term neg(+F1)>\n",
      "|    <factor neg(L1_2)>\n",
      "<factor neg(L1_2)> ::=\n",
      "|    '+' <factor neg(+F1)>\n",
      "|    '-' <factor neg(+F1)>\n",
      "|    <integer>\n",
      "|    <integer> '.' <integer>\n",
      "18 64\n"
     ]
    },
    {
     "data": {
      "text/plain": [
       "'<start *F1>'"
      ]
     },
     "execution_count": 262,
     "metadata": {},
     "output_type": "execute_result"
    }
   ],
   "source": [
    "%%top\n",
    "Gs(nfaultya1_grammar)\n",
    "nfaultya1_start"
   ]
  },
  {
   "cell_type": "code",
   "execution_count": 263,
   "metadata": {},
   "outputs": [],
   "source": [
    "#%%top\n",
    "nfaultya1_fuzzer = LimitFuzzer(nfaultya1_grammar)\n",
    "nfaultya1_parser = Parser(nfaultya1_grammar, canonical=True, start_symbol=nfaultya1_start)"
   ]
  },
  {
   "cell_type": "code",
   "execution_count": 264,
   "metadata": {
    "scrolled": false
   },
   "outputs": [
    {
     "name": "stdout",
     "output_type": "stream",
     "text": [
      "4.76 / 72003.9 * +(2 * 5.9 / 9.6 + 5 / 9.3 - 0.5) - ---625 - +((9) * 6.6 / 0.7) / (+5.2 * 4 / 6.9 + 7 / 1 + 0.6) + 982 / (4.5 - 4.9 - 3) * -3.8 + (3 * 6 + 0)\n",
      "7.286 * ++-+4 * +5.7 - --(2.0) * (+0 * (1.4) - 6 / 1) + 4 / -860.65 * 495.21 + -+++1 * +--2 - --((5)) / -+3.2 / -3.6 * 6.3 - 9.3 / (1) - +0.8 * 4.6 * 9.0 - 9.5 / 9\n",
      "-+2.52 / +((4.6 - 7) + 7 / 9 / 2 + 9.6 / 9.8)\n",
      "00017.0 / --8 / (+(6.0) - +3 + 6.7 + 6.3) + -19.84 + 9.86 / (+8 + 5.6 * 0) + 8791 / -(9.2 - 4) * +3.1 + (2 + 6.6 - 7.9) / 5\n",
      "((-4 + 4.8 * 9 - 2.0))\n",
      "7 / +6.783 / 28.1\n",
      "92.100 / (66.879 + +-6 / -2.0 + -3 / 9.4 / 6.3 + 4.0 / 4 + 6.8) / 4 / -8 * 1.6 / +(1) * 4.0 * 2 / 9.2 - 84.08\n",
      "-((0 + 8 + 1)) + 00.3 * +3 / 93 * 7 * -1.2 * 0 / 7.2 / 1.5 + +(2 * 3 + 8.0) + +014.146 - -(5) / (8) + (3 - 4.6) / +2 / 1.0 + 6.7 / 9.0 / 8.3 + 6.4 * 2.2 + 5 + 6\n",
      "-((7.9 * 5.6 - 6.5 - 4) / 6 - (2 + 3.3) + 9.3) - +56.1 * (((3)) / -9.9 * 0.6 * 8)\n",
      "-(-(2 + 6.4) / -0 / (7.5) * 9.6) + 4591.5 / +1 / +(0 * 8) * +1 * 6.88 / -9.3 / 2.9 + 5 / 94 * +(7.7)\n"
     ]
    }
   ],
   "source": [
    "%%top\n",
    "for i in range(10):\n",
    "    s = nfaultya1_fuzzer.fuzz(key=nfaultya1_start)\n",
    "    print(s)\n",
    "    for t in nfaultya1_parser.parse(s):\n",
    "        assert tree_to_str(t) == s"
   ]
  },
  {
   "cell_type": "markdown",
   "metadata": {},
   "source": [
    "A few parses"
   ]
  },
  {
   "cell_type": "code",
   "execution_count": 265,
   "metadata": {},
   "outputs": [],
   "source": [
    "%top assert nfaultya1_parser.can_parse('((2))')"
   ]
  },
  {
   "cell_type": "code",
   "execution_count": 266,
   "metadata": {},
   "outputs": [],
   "source": [
    "%top assert nfaultya1_parser.can_parse('((1 + 1))')"
   ]
  },
  {
   "cell_type": "code",
   "execution_count": 267,
   "metadata": {},
   "outputs": [],
   "source": [
    "%top assert nfaultya1_parser.can_parse('1 + 2')"
   ]
  },
  {
   "cell_type": "code",
   "execution_count": 268,
   "metadata": {},
   "outputs": [],
   "source": [
    "%top assert nfaultya1_parser.can_parse('1 + ((3))')"
   ]
  },
  {
   "cell_type": "code",
   "execution_count": 269,
   "metadata": {},
   "outputs": [],
   "source": [
    "%top assert not nfaultya1_parser.can_parse('((1)) + ((3))')"
   ]
  },
  {
   "cell_type": "code",
   "execution_count": 270,
   "metadata": {},
   "outputs": [],
   "source": [
    "%top assert not nfaultya1_parser.can_parse('((1 + 3)) + (1) - ((2))')"
   ]
  },
  {
   "cell_type": "code",
   "execution_count": 271,
   "metadata": {},
   "outputs": [],
   "source": [
    "%top assert nfaultya1_parser.can_parse('((1 + 3)) + (1) - (2 + (2))')"
   ]
  },
  {
   "cell_type": "code",
   "execution_count": null,
   "metadata": {},
   "outputs": [],
   "source": []
  },
  {
   "cell_type": "markdown",
   "metadata": {},
   "source": [
    "## Exactly one fault grammar"
   ]
  },
  {
   "cell_type": "code",
   "execution_count": 272,
   "metadata": {},
   "outputs": [
    {
     "data": {
      "text/plain": [
       "[]"
      ]
     },
     "execution_count": 272,
     "metadata": {},
     "output_type": "execute_result"
    }
   ],
   "source": [
    "EXCEPTION_HAPPENED"
   ]
  },
  {
   "cell_type": "markdown",
   "metadata": {},
   "source": [
    "### Keep exactly one at key"
   ]
  },
  {
   "cell_type": "code",
   "execution_count": 273,
   "metadata": {},
   "outputs": [],
   "source": [
    "def keep_exactly_one_fault_at_key(grammar, key, fsym, prefix, reachable):\n",
    "    # negation should be atleast\n",
    "    ref = refinement(to_fkey_prefix(fsym, prefix, FKey.atleast))\n",
    "    my_rules = []\n",
    "    for rule in grammar[key]:\n",
    "        positions = get_reachable_positions(rule, fsym, reachable)\n",
    "        if not positions:\n",
    "            # add this rule as is because we can not embed the fault here.\n",
    "            # my_rules.append(rule)\n",
    "            continue\n",
    "        else:\n",
    "            # skip pos for each rule\n",
    "            for pos in positions:\n",
    "                new_rule = [to_fkey_prefix(t, prefix, FKey.exactly)\n",
    "                            if pos == p else\n",
    "                            # at p there _may be_ a fault, but not in other places\n",
    "                            (refine_base_key(t, negate_prefix(ref))\n",
    "                             if is_nt(t) else t)\n",
    "                            # change to FKey.exactly to make it exactly\n",
    "                            for p,t in enumerate(rule)]\n",
    "                my_rules.append(new_rule)\n",
    "    return (to_fkey_prefix(key, prefix, FKey.exactly), my_rules)"
   ]
  },
  {
   "cell_type": "code",
   "execution_count": 274,
   "metadata": {},
   "outputs": [
    {
     "name": "stdout",
     "output_type": "stream",
     "text": [
      "<start .F1>\n",
      "     ['<expr .F1>']\n",
      "\n",
      "<expr .F1>\n",
      "     ['<term .F1>', ' + ', '<expr neg(+F1)>']\n",
      "     ['<term neg(+F1)>', ' + ', '<expr .F1>']\n",
      "     ['<term .F1>', ' - ', '<expr neg(+F1)>']\n",
      "     ['<term neg(+F1)>', ' - ', '<expr .F1>']\n",
      "     ['<term .F1>']\n",
      "\n",
      "<term .F1>\n",
      "     ['<factor .F1>', ' * ', '<term neg(+F1)>']\n",
      "     ['<factor neg(+F1)>', ' * ', '<term .F1>']\n",
      "     ['<factor .F1>', ' / ', '<term neg(+F1)>']\n",
      "     ['<factor neg(+F1)>', ' / ', '<term .F1>']\n",
      "     ['<factor .F1>']\n",
      "\n",
      "<factor .F1>\n",
      "     ['+', '<factor .F1>']\n",
      "     ['-', '<factor .F1>']\n",
      "     ['(', '<expr .F1>', ')']\n",
      "\n",
      "<integer .F1>\n",
      "\n",
      "<digit .F1>\n",
      "\n"
     ]
    }
   ],
   "source": [
    "%%top\n",
    "for key in EXPR_GRAMMAR:\n",
    "    fk, rules = keep_exactly_one_fault_at_key(EXPR_GRAMMAR, key, '<factor>', '1', reachable1)\n",
    "    print(fk)\n",
    "    for r in rules:\n",
    "        print('    ', r)\n",
    "    print()"
   ]
  },
  {
   "cell_type": "markdown",
   "metadata": {},
   "source": [
    "### Keep exactly one at grammar"
   ]
  },
  {
   "cell_type": "code",
   "execution_count": 275,
   "metadata": {},
   "outputs": [],
   "source": [
    "def keep_exactly_one_fault_at_grammar(grammar, fsym, prefix_f, reachable):\n",
    "    new_grammar = {}\n",
    "    for key in grammar:\n",
    "        fk, rules = keep_exactly_one_fault_at_key(grammar, key, fsym, prefix_f, reachable)\n",
    "        if not rules: continue # no applicable rules\n",
    "        if fk not in new_grammar: new_grammar[fk] = []\n",
    "        new_grammar[fk].extend(rules)\n",
    "    return new_grammar"
   ]
  },
  {
   "cell_type": "markdown",
   "metadata": {},
   "source": [
    "### Get final grammar"
   ]
  },
  {
   "cell_type": "code",
   "execution_count": 276,
   "metadata": {},
   "outputs": [],
   "source": [
    "def exactly_one_fault_grammar_(grammar, start_symbol, fault_node, f_idx, log=False):\n",
    "    def L_prefix(i): return str(i)\n",
    "    def F_prefix(i): return str(i)\n",
    "    prefix_l = L_prefix(f_idx)\n",
    "    prefix_f = F_prefix(f_idx)\n",
    "    key_f = fault_node[0]\n",
    "    assert key_f in grammar\n",
    "    # First, get the pattern grammar\n",
    "\n",
    "    fsym = to_fkey_prefix(key_f, prefix_f, FKey.exactly)\n",
    "    atleast_fsym = to_fkey_prefix(key_f, prefix_f, FKey.atleast)\n",
    "    noreaching_fsym = negate_key(atleast_fsym)\n",
    "    \n",
    "    pattern_g, pattern_s  = faulty_node_to_pattern_grammar(fault_node, prefix_l)\n",
    "    npattern_g, npattern_s, refs  = negated_pattern_grammar(pattern_g, pattern_s, atleast_fsym, grammar, log)\n",
    "    reachable_keys = reachable_dict(grammar)\n",
    "    # the new grammar contains the faulty keys and their definitions.\n",
    "    # next, want to insert the fault prefix_f into each insertable positions. \n",
    "    # the insertable locations are those that can reach fsym\n",
    "    exactly_g = keep_exactly_one_fault_at_grammar(grammar, key_f, prefix_f, reachable_keys)\n",
    "    \n",
    "    noreach_g = remove_all_instances_of_fault_from_grammar(grammar, key_f, prefix_f, reachable_keys)\n",
    "    negation_connect = npattern_g[npattern_s] # get the negated pattern rule\n",
    "    noreach_g[noreaching_fsym] = negation_connect\n",
    "    \n",
    "    for key in refs: assert key in noreach_g, key\n",
    "    # now, the faulty key is an alternative to the original.\n",
    "    # We have to take care of one thing though. The `fkey` in the linear grammar should\n",
    "    # be replaced with fsym, but the definitions kept. This is because we want to preserve\n",
    "    # the rule patterns. We do not want normal expansions to go through since it may mean\n",
    "    # no fault inserted. However, we want self recursion to happen.\n",
    "    pattern_rule = pattern_g[pattern_s][0]\n",
    "\n",
    "    combined_grammar = {**grammar, **pattern_g, **npattern_g, **exactly_g, **noreach_g}\n",
    "    new_rules = pattern_g[pattern_s] # get the pattern rule\n",
    "\n",
    "    #combined_grammar[fsym].extend(new_rules)\n",
    "    combined_grammar[fsym] = new_rules\n",
    "    return combined_grammar, to_fkey_prefix(start_symbol, F_prefix(f_idx), FKey.exactly)"
   ]
  },
  {
   "cell_type": "code",
   "execution_count": 277,
   "metadata": {},
   "outputs": [],
   "source": [
    "def exactly_one_fault_grammar(grammar, start_symbol, fault_node, f_idx, log=False):\n",
    "    cg_, cs = exactly_one_fault_grammar_(grammar, start_symbol, fault_node, f_idx, log)\n",
    "    cg = complete(cg_, cs)\n",
    "    return cg, cs"
   ]
  },
  {
   "cell_type": "code",
   "execution_count": 278,
   "metadata": {},
   "outputs": [],
   "source": [
    "#%%top\n",
    "efaultya1_grammar, efaultya1_start = exactly_one_fault_grammar(EXPR_GRAMMAR, EXPR_START, node_faulty1, 1)"
   ]
  },
  {
   "cell_type": "code",
   "execution_count": 279,
   "metadata": {},
   "outputs": [
    {
     "name": "stdout",
     "output_type": "stream",
     "text": [
      "<start .F1> ::=\n",
      "|    <expr .F1>\n",
      "<expr .F1> ::=\n",
      "|    <term .F1>\n",
      "|    <term .F1> ' + ' <expr neg(+F1)>\n",
      "|    <term .F1> ' - ' <expr neg(+F1)>\n",
      "|    <term neg(+F1)> ' + ' <expr .F1>\n",
      "|    <term neg(+F1)> ' - ' <expr .F1>\n",
      "<term .F1> ::=\n",
      "|    <factor .F1>\n",
      "|    <factor .F1> ' * ' <term neg(+F1)>\n",
      "|    <factor .F1> ' / ' <term neg(+F1)>\n",
      "|    <factor neg(+F1)> ' * ' <term .F1>\n",
      "|    <factor neg(+F1)> ' / ' <term .F1>\n",
      "<expr neg(+F1)> ::=\n",
      "|    <term neg(+F1)>\n",
      "|    <term neg(+F1)> ' + ' <expr neg(+F1)>\n",
      "|    <term neg(+F1)> ' - ' <expr neg(+F1)>\n",
      "<term neg(+F1)> ::=\n",
      "|    <factor neg(+F1)>\n",
      "|    <factor neg(+F1)> ' * ' <term neg(+F1)>\n",
      "|    <factor neg(+F1)> ' / ' <term neg(+F1)>\n",
      "<factor .F1> ::=\n",
      "|    '(' <expr L1_1> ')'\n",
      "<factor neg(+F1)> ::=\n",
      "|    '(' <expr neg(L1_1)> ')'\n",
      "|    '+' <factor neg(+F1)>\n",
      "|    '-' <factor neg(+F1)>\n",
      "|    <integer>\n",
      "|    <integer> '.' <integer>\n",
      "<expr L1_1> ::=\n",
      "|    <term L1_1>\n",
      "<term L1_1> ::=\n",
      "|    <factor L1_2>\n",
      "<factor L1_2> ::=\n",
      "|    '(' <expr> ')'\n",
      "<expr> ::=\n",
      "|    <term>\n",
      "|    <term> ' + ' <expr>\n",
      "|    <term> ' - ' <expr>\n",
      "<term> ::=\n",
      "|    <factor>\n",
      "|    <factor> ' * ' <term>\n",
      "|    <factor> ' / ' <term>\n",
      "<factor> ::=\n",
      "|    '(' <expr> ')'\n",
      "|    '+' <factor>\n",
      "|    '-' <factor>\n",
      "|    <integer>\n",
      "|    <integer> '.' <integer>\n",
      "<integer> ::=\n",
      "|    <digit>\n",
      "|    <digit> <integer>\n",
      "<digit> ::=\n",
      "|    '0'\n",
      "|    '1'\n",
      "|    '2'\n",
      "|    '3'\n",
      "|    '4'\n",
      "|    '5'\n",
      "|    '6'\n",
      "|    '7'\n",
      "|    '8'\n",
      "|    '9'\n",
      "<expr neg(L1_1)> ::=\n",
      "|    <term neg(+F1)> ' + ' <expr neg(+F1)>\n",
      "|    <term neg(+F1)> ' - ' <expr neg(+F1)>\n",
      "|    <term neg(L1_1)>\n",
      "<term neg(L1_1)> ::=\n",
      "|    <factor neg(+F1)> ' * ' <term neg(+F1)>\n",
      "|    <factor neg(+F1)> ' / ' <term neg(+F1)>\n",
      "|    <factor neg(L1_2)>\n",
      "<factor neg(L1_2)> ::=\n",
      "|    '+' <factor neg(+F1)>\n",
      "|    '-' <factor neg(+F1)>\n",
      "|    <integer>\n",
      "|    <integer> '.' <integer>\n",
      "18 59\n"
     ]
    },
    {
     "data": {
      "text/plain": [
       "'<start .F1>'"
      ]
     },
     "execution_count": 279,
     "metadata": {},
     "output_type": "execute_result"
    }
   ],
   "source": [
    "%%top\n",
    "Gs(efaultya1_grammar)\n",
    "efaultya1_start"
   ]
  },
  {
   "cell_type": "code",
   "execution_count": 280,
   "metadata": {},
   "outputs": [],
   "source": [
    "#%%top\n",
    "efaultya1_fuzzer = LimitFuzzer(efaultya1_grammar)\n",
    "efaultya1_parser = Parser(efaultya1_grammar, canonical=True, start_symbol=efaultya1_start)"
   ]
  },
  {
   "cell_type": "code",
   "execution_count": 281,
   "metadata": {},
   "outputs": [],
   "source": [
    "%top assert efaultya1_parser.can_parse('((2))')"
   ]
  },
  {
   "cell_type": "code",
   "execution_count": 282,
   "metadata": {},
   "outputs": [],
   "source": [
    "%top assert efaultya1_parser.can_parse('((1 + 1))')"
   ]
  },
  {
   "cell_type": "code",
   "execution_count": 283,
   "metadata": {},
   "outputs": [],
   "source": [
    "%top assert not efaultya1_parser.can_parse('1 + 2')"
   ]
  },
  {
   "cell_type": "code",
   "execution_count": 284,
   "metadata": {},
   "outputs": [],
   "source": [
    "%top assert efaultya1_parser.can_parse('1 + ((3))')"
   ]
  },
  {
   "cell_type": "code",
   "execution_count": 285,
   "metadata": {},
   "outputs": [],
   "source": [
    "%top assert not efaultya1_parser.can_parse('((1)) + ((3))')"
   ]
  },
  {
   "cell_type": "code",
   "execution_count": 286,
   "metadata": {},
   "outputs": [],
   "source": [
    "%top assert not efaultya1_parser.can_parse('((1 + 3)) + (1) - ((2))')"
   ]
  },
  {
   "cell_type": "code",
   "execution_count": 287,
   "metadata": {},
   "outputs": [],
   "source": [
    "%top assert efaultya1_parser.can_parse('((1 + 3)) + (1) - (2 + (2))')"
   ]
  },
  {
   "cell_type": "code",
   "execution_count": 288,
   "metadata": {},
   "outputs": [
    {
     "name": "stdout",
     "output_type": "stream",
     "text": [
      "(-0 * 493.4 - 35 / --4.8 + (7.5 - 3) * +2.1) / 46 * ((0)) * 45.3686 / -(5 - 8) + (7.7) * (+9 / +8.5 / 6 / 7.2 - 4 / 8 + 9 * 8.4 + 0 + 2.7) - 05.7 / (0 * 0.6 * 2.7 - 1) / ++-1.5 / 56.04 + --2 - (6 * 4.8 + 2 + 0.1) * +-2.9 * 1 * 9.4 - 2.39 * -8.8\n",
      "+49 * ((8)) - 0.93 * 781.9 / -8.1 * -3 * +(2) * +1.5 / 9.2 * 7 + ((3.7 - 6.5) * 0.3 + 5.8 * 3.2 + 1 * 5.6) / 1 / +33 * -3.3 * 5.0 / 4.4 / 8 - 3.7 / (1.2 + 2 + 8.8) - 4 * (9.9 + 3) - +2 + +3.9 / 8.3 * 9\n",
      "((+6.4 + 1.0 * 4.3)) * (-3.45 / 8.4 + (5 - 0) / 7.2 / 8 / 7 - +9 * 9 * 2.6 - 2.9 + 6 - 0) / -+-7.94 / +-39.5 * (7 - 6.3) / (9) - -(4.93 / 8.4 / 1 + +3 / 3.2 / 0) - 77.2 + +(4) / (8 * 4 - 9.8 + 9.4) * -0 * 3.3 / 3.5 / 9.0 + -(6.9 + 2) * +4.3 / 8 * 8 + --3 - -6 * 6\n",
      "((9 - 8 * 5 - 7.0 + 2)) / 53\n",
      "((+5 * 7 / 1 + 5 - 4 + 7.9)) / 7.74 - +-4 * +5.18\n",
      "(((7) * 7.9 / 7.4 + 0.1 * 0.0 + 7) + (3 / 2)) * 4.5421 / 94 / (-9.0) * 32.734 - --(4.0 / 1 - 8 * 1.0 + 3.4 - 7.9) + ((8 + 9.6)) * -+1 * +-6.3 / +3 / (3) / 4 / 6.4\n",
      "((2.6 + 0)) * -11.0 / 5\n",
      "(((8.7))) * (4.3 / 7.40 / -6 - 90 * 6 - +4.4 + 6.9 * 2.0 - 5 - 6)\n",
      "14.46 + 99.76 * ((2.3)) / +--+3 / (4.2 * 7 + 6 + 6) - 05.9 / 52 - -(5.6 * 1 - 5.2) * 41 / -(7.8) * +5 / 9.4 * 2.5 - +--1 * +(0) * 9 * 3.6 / 1 + 3.50 * +1.9 * 7.0 * 4.4 + +6.8 - 5 - 4 + 4.6\n",
      "((+2 / 9 + 9.5 / 8.9 - 5 - 4.5)) / +(+-9.1 * 5.5 / 8 + -3 * 8.7 / 1 + 7 / 8.1 + 3 + 2) * (+3 * (4.4) + +7 / 8 * 3 - 6.3 / 1.6) * -3.391 * --+9.2 * -(6.5) / (3) - 47 * +50 - --+(7 + 3)\n"
     ]
    }
   ],
   "source": [
    "%%top\n",
    "for i in range(10):\n",
    "    s = efaultya1_fuzzer.fuzz(key=efaultya1_start)\n",
    "    print(s)\n",
    "    assert efaultya1_parser.can_parse(s)"
   ]
  },
  {
   "cell_type": "markdown",
   "metadata": {},
   "source": [
    "## Reconstruct"
   ]
  },
  {
   "cell_type": "code",
   "execution_count": 289,
   "metadata": {},
   "outputs": [
    {
     "data": {
      "text/plain": [
       "[]"
      ]
     },
     "execution_count": 289,
     "metadata": {},
     "output_type": "execute_result"
    }
   ],
   "source": [
    "EXCEPTION_HAPPENED"
   ]
  },
  {
   "cell_type": "markdown",
   "metadata": {},
   "source": [
    "What the reconstruction does is to take any left over keys, and try to produce them based on what is available within the grammar."
   ]
  },
  {
   "cell_type": "code",
   "execution_count": 290,
   "metadata": {},
   "outputs": [],
   "source": [
    "def remove_unused(grammar, start_symbol, log=False):\n",
    "    def strip_key(grammar, key, order):\n",
    "        rules = sort_rules(grammar.get(key, []))\n",
    "        old_len = len(order)\n",
    "        for rule in rules:\n",
    "            for token in rule:\n",
    "                if is_nt(token):\n",
    "                    if token not in order:\n",
    "                        order.append(token)\n",
    "        new = order[old_len:]\n",
    "        for ckey in new:\n",
    "            strip_key(grammar, ckey, order)\n",
    "    if start_symbol not in grammar:\n",
    "        return {}, []\n",
    "\n",
    "    order = [start_symbol]\n",
    "    strip_key(grammar, start_symbol, order)\n",
    "    if len(order) != len(grammar.keys()):\n",
    "        stripped = [k for k in grammar if k not in order]\n",
    "        faulty = [k for k in order if k not in grammar]\n",
    "        if log: print('undefined:', faulty)\n",
    "    new_g = {k: [list(r) for r in sort_rules(grammar[k])] for k in order if k in grammar}\n",
    "    return new_g, {k:grammar[k] for k in grammar if k not in new_g}, faulty"
   ]
  },
  {
   "cell_type": "code",
   "execution_count": 291,
   "metadata": {},
   "outputs": [],
   "source": [
    "def reconstruct_neg_fault(grammar, key, bexpr):\n",
    "    f_key = bexpr.with_key(key)\n",
    "    nf_key = negate_key(f_key)\n",
    "    assert nf_key in grammar, (nf_key, f_key in grammar)\n",
    "    base_grammar, base_start = normalize_grammar(grammar), normalize(key)\n",
    "    g1_, s1, r1 = reconstruct_rules_from_bexpr(key, bexpr.negate(), grammar)\n",
    "    g1, saved_keys, undef_keys  = remove_unused(g1_, s1)\n",
    "    g, s, r = negate_grammar_(g1, s1, base_grammar, base_start)\n",
    "    g[f_key] = g[s]\n",
    "    assert s in g, s\n",
    "    g = {**grammar, **g1, **g, **saved_keys}\n",
    "    return g, f_key, undefined_keys(g)"
   ]
  },
  {
   "cell_type": "code",
   "execution_count": 292,
   "metadata": {},
   "outputs": [],
   "source": [
    "def reconstruct_neg_neg_bexpr(grammar, key, bexpr):\n",
    "    g = copy_grammar(grammar)\n",
    "    nn_key = bexpr.with_key(key)\n",
    "    assert nn_key not in grammar\n",
    "    n_key = negate_key(nn_key)\n",
    "    assert n_key in grammar\n",
    "    base_grammar, base_start = normalize_grammar(grammar), normalize(key)\n",
    "    rules, refs = negate_definition(grammar[n_key], base_grammar[base_start], False)\n",
    "    g[nn_key] = rules\n",
    "    return g, nn_key, undefined_keys(g)"
   ]
  },
  {
   "cell_type": "code",
   "execution_count": 293,
   "metadata": {},
   "outputs": [],
   "source": [
    "def reconstruct_neg_bexpr(grammar, key, bexpr):\n",
    "    fst = bexpr.op_fst()\n",
    "    base_grammar, base_start = normalize_grammar(grammar), normalize(key)\n",
    "    g1_, s1, r1 = reconstruct_rules_from_bexpr(key, fst, grammar)\n",
    "    g1, saved_keys, undef_keys  = remove_unused(g1_, s1)\n",
    "    g, s, r = negate_grammar_(g1, s1, base_grammar, base_start)\n",
    "    assert s in g, s\n",
    "    g = {**grammar, **g1, **g, **saved_keys}\n",
    "    return g, s, undefined_keys(g)"
   ]
  },
  {
   "cell_type": "code",
   "execution_count": 294,
   "metadata": {},
   "outputs": [],
   "source": [
    "def reconstruct_and_bexpr(grammar, key, bexpr):\n",
    "    fst, snd = bexpr.op_fst_snd()\n",
    "    f_key = bexpr.with_key(key)\n",
    "    g1_, s1, r1 = reconstruct_rules_from_bexpr(key, fst, grammar)\n",
    "    if fst == snd: # or of same keys is same\n",
    "        print(f_key)\n",
    "        g = {**grammar, **g1_}\n",
    "        g[f_key] = g[s1]\n",
    "        return g, f_key, undefined_keys(g)\n",
    "    g1, saved_keys1, undef_keys1  = remove_unused(g1_, s1)\n",
    "    g2_, s2, r2 = reconstruct_rules_from_bexpr(key, snd, grammar)\n",
    "    g2, saved_keys2, undef_keys2  = remove_unused(g2_, s2)\n",
    "    g, s, r = and_grammars_(g1, s1, g2, s2)\n",
    "    assert s in g\n",
    "    g = {**grammar, **g1, **g2, **g, **saved_keys1, **saved_keys2}\n",
    "    assert f_key in g, f_key\n",
    "    return g, s, undefined_keys(g)"
   ]
  },
  {
   "cell_type": "code",
   "execution_count": 295,
   "metadata": {},
   "outputs": [],
   "source": [
    "def reconstruct_or_bexpr(grammar, key, bexpr):\n",
    "    fst, snd = bexpr.op_fst_snd()\n",
    "    f_key = bexpr.with_key(key)\n",
    "    g1_, s1, r1 = reconstruct_rules_from_bexpr(key, fst, grammar)\n",
    "    assert fst.with_key(key) in g1_\n",
    "    if fst == snd: # and of same keys is same\n",
    "        g = {**grammar, **g1_}\n",
    "        g[f_key] = g[s1]\n",
    "        return g, f_key, undefined_keys(g)\n",
    "    g1, saved_keys1, undef_keys1  = remove_unused(g1_, s1)\n",
    "    g2_, s2, r2 = reconstruct_rules_from_bexpr(key, snd, grammar)\n",
    "    assert snd.with_key(key) in g2_\n",
    "    g2, saved_keys2, undef_keys2  = remove_unused(g2_, s2)\n",
    "    g, s, r = or_grammars_(g1, s1, g2, s2)\n",
    "    assert s in g\n",
    "    g = {**grammar, **g1, **g2, **g, **saved_keys1, **saved_keys2}\n",
    "    assert f_key in g, (f_key, s)\n",
    "    return g, s, undefined_keys(g)"
   ]
  },
  {
   "cell_type": "code",
   "execution_count": 296,
   "metadata": {},
   "outputs": [],
   "source": [
    "def reconstruct_rules_from_bexpr(key, bexpr, grammar):\n",
    "    f_key = bexpr.with_key(key)\n",
    "    if f_key in grammar:\n",
    "        return grammar, f_key, []\n",
    "    else:\n",
    "        new_grammar = grammar\n",
    "        operator = bexpr.get_operator()\n",
    "        if operator == 'and':\n",
    "            return reconstruct_and_bexpr(grammar, key, bexpr)\n",
    "        elif operator == 'or':\n",
    "            return reconstruct_or_bexpr(grammar, key, bexpr)\n",
    "        elif operator == 'neg':\n",
    "            return reconstruct_neg_bexpr(grammar, key, bexpr)\n",
    "        elif operator == '':\n",
    "            return reconstruct_neg_fault(grammar, key, bexpr)\n",
    "        else:\n",
    "            assert False"
   ]
  },
  {
   "cell_type": "code",
   "execution_count": 297,
   "metadata": {},
   "outputs": [],
   "source": [
    "def reconstruct_key(refined_key, grammar, log=False):\n",
    "    keys = [refined_key]\n",
    "    defined = set()\n",
    "    while keys:\n",
    "        if log: print(len(keys))\n",
    "        key_to_reconstruct, *keys = keys\n",
    "        if log: print('reconstructing:', key_to_reconstruct)\n",
    "        if key_to_reconstruct in defined:\n",
    "            raise Exception('Key found:', key_to_reconstruct)\n",
    "        defined.add(key_to_reconstruct)\n",
    "        bexpr = BExpr(refinement(key_to_reconstruct))\n",
    "        nrek = normalize(key_to_reconstruct)\n",
    "        if bexpr.simple():\n",
    "            nkey = bexpr.with_key(key_to_reconstruct)\n",
    "            if log: print('simplified_to:', nkey)\n",
    "            grammar, s, refs = reconstruct_rules_from_bexpr(nrek, bexpr, grammar)\n",
    "        else:\n",
    "            nkey = nrek # base key\n",
    "        assert nkey in grammar\n",
    "        grammar[key_to_reconstruct] = grammar[nkey]\n",
    "        keys = undefined_keys(grammar)\n",
    "    return grammar"
   ]
  },
  {
   "cell_type": "markdown",
   "metadata": {},
   "source": [
    "## Conjunction "
   ]
  },
  {
   "cell_type": "code",
   "execution_count": 298,
   "metadata": {},
   "outputs": [
    {
     "data": {
      "text/plain": [
       "[]"
      ]
     },
     "execution_count": 298,
     "metadata": {},
     "output_type": "execute_result"
    }
   ],
   "source": [
    "EXCEPTION_HAPPENED"
   ]
  },
  {
   "cell_type": "markdown",
   "metadata": {},
   "source": [
    "For conjunction (F1 and F2 present in the input), the idea is to simply collect all the rules that obey both patterns.\n",
    "\n",
    "\n",
    "The idea is simply using the distributive law. A definition is simply R1 `or` R2 `or` R3. Now, when you want to `and` two defintions, you have `and(A1 or B1 or C1, A2 or B2 or C2)` where `A1` etc are rules, and you want the `or` out again.\n",
    "\n",
    "So, this becomes `(A1 AND A2) OR (A1 AND B2) OR (A1 AND C2) OR (A2 AND B1) OR (A2 AND C1) OR (B1 AND B2) OR (B1 AND C2) OR (B2 AND C1) OR (C1 AND C2)` which is essentially that many rules.\n",
    "\n",
    "To construct a new rule `A1 and A2`, you simply pair each symbol in the rule up, and do `and` between them."
   ]
  },
  {
   "cell_type": "code",
   "execution_count": 299,
   "metadata": {},
   "outputs": [],
   "source": [
    "import itertools as I"
   ]
  },
  {
   "cell_type": "code",
   "execution_count": 300,
   "metadata": {},
   "outputs": [],
   "source": [
    "def conjoin_ruleset(rulesetA, rulesetB):\n",
    "    rules = []\n",
    "    refinements = []\n",
    "    for ruleA,ruleB in I.product(rulesetA, rulesetB):\n",
    "        AandB_rule = []\n",
    "        for t1,t2 in zip(ruleA, ruleB):\n",
    "            if not is_nt(t1):\n",
    "                AandB_rule.append(t1)\n",
    "            elif is_base_key(t1) and is_base_key(t2):\n",
    "                AandB_rule.append(t1)\n",
    "            else:\n",
    "                k = conj(t1, t2, simplify=True)\n",
    "                refinements.append(k)\n",
    "                AandB_rule.append(k)\n",
    "        rules.append(AandB_rule)\n",
    "    return rules, refinements"
   ]
  },
  {
   "cell_type": "code",
   "execution_count": 301,
   "metadata": {},
   "outputs": [],
   "source": [
    "def and_rules(rulesA, rulesB):\n",
    "    AandB_rules = []\n",
    "    refinements = []\n",
    "    # key is the rule pattern\n",
    "    rulesetsA = get_rulesets(rulesA)\n",
    "    rulesetsB = get_rulesets(rulesB)\n",
    "    # drop any rules that are not there in both.\n",
    "    keys = set(rulesetsA.keys()) & set(rulesetsB.keys())\n",
    "    for k in keys:\n",
    "        new_rules, refs = conjoin_ruleset(rulesetsA[k], rulesetsB[k])\n",
    "        refinements.extend(refs)\n",
    "        AandB_rules.extend(new_rules)\n",
    "    return AandB_rules, refinements"
   ]
  },
  {
   "cell_type": "code",
   "execution_count": 302,
   "metadata": {},
   "outputs": [],
   "source": [
    "def and_grammars_(g1, s1, g2, s2):\n",
    "    g1_keys = g1.keys()\n",
    "    g2_keys = g2.keys()\n",
    "    g = {**g1, **g2}\n",
    "    refinements = []\n",
    "    # now get the matching keys for each pair.\n",
    "    for k1,k2 in I.product(g1_keys, g2_keys):\n",
    "        # define and(k1, k2)\n",
    "        if normalize(k1) != normalize(k2): continue\n",
    "        # find matching rules\n",
    "        and_key = conj(k1, k2)\n",
    "        g[and_key], refs = and_rules(g1[k1], g2[k2])\n",
    "        refinements.extend(refs)\n",
    "    #for k in refinements: assert k in g\n",
    "    return g, conj(s1, s2), refinements"
   ]
  },
  {
   "cell_type": "code",
   "execution_count": 303,
   "metadata": {},
   "outputs": [],
   "source": [
    "def and_grammars(g1, s1, g2, s2):\n",
    "    g_, s, ref = and_grammars_(g1, s1, g2, s2)\n",
    "    g = complete(g_, s)\n",
    "    assert conj(s1, s2) == s\n",
    "    assert s in g\n",
    "    return g, s"
   ]
  },
  {
   "cell_type": "code",
   "execution_count": null,
   "metadata": {},
   "outputs": [],
   "source": []
  },
  {
   "cell_type": "code",
   "execution_count": 304,
   "metadata": {},
   "outputs": [],
   "source": [
    "#%%top\n",
    "expr2_input = '0 + 0'\n",
    "expr2_tree = list(expr_parser.parse(expr2_input))[0]"
   ]
  },
  {
   "cell_type": "code",
   "execution_count": 305,
   "metadata": {},
   "outputs": [],
   "source": [
    "#%%top\n",
    "abs_path_2_a = [0,0]\n",
    "abs_path_2_b = [0,2,0]"
   ]
  },
  {
   "cell_type": "code",
   "execution_count": 306,
   "metadata": {},
   "outputs": [
    {
     "name": "stdout",
     "output_type": "stream",
     "text": [
      "<term> 0\n",
      "<term> 0\n"
     ]
    }
   ],
   "source": [
    "%top Ns(expr2_tree, [abs_path_2_a, abs_path_2_b])"
   ]
  },
  {
   "cell_type": "code",
   "execution_count": 307,
   "metadata": {},
   "outputs": [],
   "source": [
    "#%%top\n",
    "Ft2 = mark_abstract_nodes(expr2_tree, [abs_path_2_a, abs_path_2_b])"
   ]
  },
  {
   "cell_type": "code",
   "execution_count": 308,
   "metadata": {},
   "outputs": [
    {
     "data": {
      "text/plain": [
       "'<term> + <term>'"
      ]
     },
     "execution_count": 308,
     "metadata": {},
     "output_type": "execute_result"
    }
   ],
   "source": [
    "%top Ta(Ft2)"
   ]
  },
  {
   "cell_type": "code",
   "execution_count": 309,
   "metadata": {},
   "outputs": [
    {
     "data": {
      "image/png": "[encoded data removed]",
      "text/plain": [
       "<IPython.core.display.Image object>"
      ]
     },
     "execution_count": 309,
     "metadata": {},
     "output_type": "execute_result"
    }
   ],
   "source": [
    "%top Da(Ft2)"
   ]
  },
  {
   "cell_type": "code",
   "execution_count": 310,
   "metadata": {},
   "outputs": [],
   "source": [
    "# %%top\n",
    "Fp2 = find_charecterizing_node(Ft2)\n",
    "faulty2_grammar, faulty2_start  = atleast_one_fault_grammar(EXPR_GRAMMAR, EXPR_START, Fp2, '2')"
   ]
  },
  {
   "cell_type": "code",
   "execution_count": 311,
   "metadata": {
    "scrolled": true
   },
   "outputs": [
    {
     "name": "stdout",
     "output_type": "stream",
     "text": [
      "<start +F2> ::=\n",
      "|    <expr +F2>\n",
      "<expr +F2> ::=\n",
      "|    <term +F2>\n",
      "|    <term +F2> ' + ' <expr>\n",
      "|    <term +F2> ' - ' <expr>\n",
      "|    <term> ' + ' <expr +F2>\n",
      "|    <term> ' + ' <expr L2_2>\n",
      "|    <term> ' - ' <expr +F2>\n",
      "<term +F2> ::=\n",
      "|    <factor +F2>\n",
      "|    <factor +F2> ' * ' <term>\n",
      "|    <factor +F2> ' / ' <term>\n",
      "|    <factor> ' * ' <term +F2>\n",
      "|    <factor> ' / ' <term +F2>\n",
      "<expr> ::=\n",
      "|    <term>\n",
      "|    <term> ' + ' <expr>\n",
      "|    <term> ' - ' <expr>\n",
      "<term> ::=\n",
      "|    <factor>\n",
      "|    <factor> ' * ' <term>\n",
      "|    <factor> ' / ' <term>\n",
      "<expr L2_2> ::=\n",
      "|    <term>\n",
      "<factor +F2> ::=\n",
      "|    '(' <expr +F2> ')'\n",
      "|    '+' <factor +F2>\n",
      "|    '-' <factor +F2>\n",
      "<factor> ::=\n",
      "|    '(' <expr> ')'\n",
      "|    '+' <factor>\n",
      "|    '-' <factor>\n",
      "|    <integer>\n",
      "|    <integer> '.' <integer>\n",
      "<integer> ::=\n",
      "|    <digit>\n",
      "|    <digit> <integer>\n",
      "<digit> ::=\n",
      "|    '0'\n",
      "|    '1'\n",
      "|    '2'\n",
      "|    '3'\n",
      "|    '4'\n",
      "|    '5'\n",
      "|    '6'\n",
      "|    '7'\n",
      "|    '8'\n",
      "|    '9'\n",
      "10 39\n"
     ]
    }
   ],
   "source": [
    "%top Gs(faulty2_grammar)"
   ]
  },
  {
   "cell_type": "code",
   "execution_count": 312,
   "metadata": {},
   "outputs": [],
   "source": [
    "#%%top\n",
    "faulty2_fuzzer = LimitFuzzer(faulty2_grammar)\n",
    "faulty2_parser = Parser(faulty2_grammar, canonical=True, start_symbol=faulty2_start)"
   ]
  },
  {
   "cell_type": "code",
   "execution_count": 313,
   "metadata": {},
   "outputs": [],
   "source": [
    "#%%top\n",
    "and1_grammar, and1_start = and_grammars(faulty1_grammar, faulty1_start, faulty2_grammar, faulty2_start)"
   ]
  },
  {
   "cell_type": "code",
   "execution_count": 314,
   "metadata": {
    "scrolled": false
   },
   "outputs": [
    {
     "name": "stdout",
     "output_type": "stream",
     "text": [
      "<start and(+F1,+F2)> ::=\n",
      "|    <expr and(+F1,+F2)>\n",
      "<expr and(+F1,+F2)> ::=\n",
      "|    <term +F1> ' + ' <expr +F2>\n",
      "|    <term +F1> ' + ' <expr L2_2>\n",
      "|    <term +F1> ' - ' <expr +F2>\n",
      "|    <term +F2> ' + ' <expr +F1>\n",
      "|    <term +F2> ' - ' <expr +F1>\n",
      "|    <term and(+F1,+F2)>\n",
      "|    <term and(+F1,+F2)> ' + ' <expr>\n",
      "|    <term and(+F1,+F2)> ' - ' <expr>\n",
      "|    <term> ' + ' <expr and(+F1,+F2)>\n",
      "|    <term> ' + ' <expr and(+F1,L2_2)>\n",
      "|    <term> ' - ' <expr and(+F1,+F2)>\n",
      "<term +F1> ::=\n",
      "|    <factor +F1>\n",
      "|    <factor +F1> ' * ' <term>\n",
      "|    <factor +F1> ' / ' <term>\n",
      "|    <factor> ' * ' <term +F1>\n",
      "|    <factor> ' / ' <term +F1>\n",
      "<expr +F2> ::=\n",
      "|    <term +F2>\n",
      "|    <term +F2> ' + ' <expr>\n",
      "|    <term +F2> ' - ' <expr>\n",
      "|    <term> ' + ' <expr +F2>\n",
      "|    <term> ' + ' <expr L2_2>\n",
      "|    <term> ' - ' <expr +F2>\n",
      "<expr L2_2> ::=\n",
      "|    <term>\n",
      "<term +F2> ::=\n",
      "|    <factor +F2>\n",
      "|    <factor +F2> ' * ' <term>\n",
      "|    <factor +F2> ' / ' <term>\n",
      "|    <factor> ' * ' <term +F2>\n",
      "|    <factor> ' / ' <term +F2>\n",
      "<expr +F1> ::=\n",
      "|    <term +F1>\n",
      "|    <term +F1> ' + ' <expr>\n",
      "|    <term +F1> ' - ' <expr>\n",
      "|    <term> ' + ' <expr +F1>\n",
      "|    <term> ' - ' <expr +F1>\n",
      "<term and(+F1,+F2)> ::=\n",
      "|    <factor +F1> ' * ' <term +F2>\n",
      "|    <factor +F1> ' / ' <term +F2>\n",
      "|    <factor +F2> ' * ' <term +F1>\n",
      "|    <factor +F2> ' / ' <term +F1>\n",
      "|    <factor and(+F1,+F2)>\n",
      "|    <factor and(+F1,+F2)> ' * ' <term>\n",
      "|    <factor and(+F1,+F2)> ' / ' <term>\n",
      "|    <factor> ' * ' <term and(+F1,+F2)>\n",
      "|    <factor> ' / ' <term and(+F1,+F2)>\n",
      "<expr> ::=\n",
      "|    <term>\n",
      "|    <term> ' + ' <expr>\n",
      "|    <term> ' - ' <expr>\n",
      "<term> ::=\n",
      "|    <factor>\n",
      "|    <factor> ' * ' <term>\n",
      "|    <factor> ' / ' <term>\n",
      "<expr and(+F1,L2_2)> ::=\n",
      "|    <term +F1>\n",
      "<factor +F1> ::=\n",
      "|    '(' <expr +F1> ')'\n",
      "|    '(' <expr L1_1> ')'\n",
      "|    '+' <factor +F1>\n",
      "|    '-' <factor +F1>\n",
      "<factor> ::=\n",
      "|    '(' <expr> ')'\n",
      "|    '+' <factor>\n",
      "|    '-' <factor>\n",
      "|    <integer>\n",
      "|    <integer> '.' <integer>\n",
      "<expr L1_1> ::=\n",
      "|    <term L1_1>\n",
      "<term L1_1> ::=\n",
      "|    <factor L1_2>\n",
      "<factor L1_2> ::=\n",
      "|    '(' <expr> ')'\n",
      "<integer> ::=\n",
      "|    <digit>\n",
      "|    <digit> <integer>\n",
      "<digit> ::=\n",
      "|    '0'\n",
      "|    '1'\n",
      "|    '2'\n",
      "|    '3'\n",
      "|    '4'\n",
      "|    '5'\n",
      "|    '6'\n",
      "|    '7'\n",
      "|    '8'\n",
      "|    '9'\n",
      "<factor +F2> ::=\n",
      "|    '(' <expr +F2> ')'\n",
      "|    '+' <factor +F2>\n",
      "|    '-' <factor +F2>\n",
      "<factor and(+F1,+F2)> ::=\n",
      "|    '(' <expr and(+F1,+F2)> ')'\n",
      "|    '(' <expr and(+F2,L1_1)> ')'\n",
      "|    '+' <factor and(+F1,+F2)>\n",
      "|    '-' <factor and(+F1,+F2)>\n",
      "<expr and(+F2,L1_1)> ::=\n",
      "|    <term and(+F2,L1_1)>\n",
      "<term and(+F2,L1_1)> ::=\n",
      "|    <factor and(+F2,L1_2)>\n",
      "<factor and(+F2,L1_2)> ::=\n",
      "|    '(' <expr +F2> ')'\n",
      "23 84\n"
     ]
    },
    {
     "data": {
      "text/plain": [
       "'<start and(+F1,+F2)>'"
      ]
     },
     "execution_count": 314,
     "metadata": {},
     "output_type": "execute_result"
    }
   ],
   "source": [
    "%%top\n",
    "Gs(and1_grammar)\n",
    "and1_start"
   ]
  },
  {
   "cell_type": "code",
   "execution_count": 315,
   "metadata": {},
   "outputs": [],
   "source": [
    "#%%top\n",
    "and1_fuzzer = LimitFuzzer(and1_grammar)\n",
    "and1_parser = Parser(and1_grammar, canonical=True, start_symbol=and1_start)"
   ]
  },
  {
   "cell_type": "code",
   "execution_count": 316,
   "metadata": {},
   "outputs": [
    {
     "name": "stdout",
     "output_type": "stream",
     "text": [
      "8.3 * -34.43 / ---+-7.7 + ((4 * 3)) / +4 * 51 * 99.6 * ++6.0\n",
      "+((2.5 * 8 + 4)) / +((4 - 0) / -4 + +5.6 / 1) + (+3 * +3.0 / 5) * +(6.4 / 5 / 2.9)\n",
      "-86310 * ((3.0 * 9 + 3 + 5.1) / +9 / +0.0 / (8.9 + 6.6) * 6.6 + 7.9 * -8.5 / 5.5 - 9.2 * 1 / 7.1) * 2 * +-1.35 / +(8) + ((0.1 + 0.7 - 6.1)) / 76 / 4688 * 23.936 * 02 / 7.1 * 2.5\n",
      "((+8.9 / 9.1 * 0)) + --479 * (9.7 * +9.8 * 3.8 / 1 + -4 * 8.6 * 5.7) / -(9.0 - 6.6) * 984 - +(+5.4 / 8 * 7.5 - 5 * 5) * --1 * -((9.3 + 3) * 9 - 2.5) * (2 + 7.7) * -8 / 3.9 / 0 + 3.7441 - -93.0 / +5 - 51.32 / +5.1 / 1\n",
      "70 + (+(6.2 - 6.8) * +(4) * ((0.8)) * 6.1) * +++8.6\n",
      "6 * (644.4 + 84.30 - 3.7 / 3.3 * 2.8 - 0.1 + 8.8 - 0) * +-((6 + 2) + 2 + 5.8) / 3 * 1.6 * --7.0 - ++(8.1 / 4 * 0.5) * (-8 * -2.9 - 3.7 * 8.4 - 4.8) - +00.7 * 4 + (7 / 1 / 0.0 + 6) / -(((2))) - --+5.9 / 1 * -4 * 4 * 3 + 04 - 6.7 / 7 / 5 - 6.6 * 3.1 + 3\n",
      "(15 / 8.57 / 6 * +6 / 0.4 * ((3)) + 618.4 * (5.2 + 2.3) * 4.5 * 3.2) * --((7.7) / 1.8 * 0.3 + 8 + 8) / 4 / --(1) / 854 * 2 / +7.3\n",
      "((-3.0 / 6.5 / 5 - 1 / 3.0 - 5.8) - (5.2 / 1 - 5.4) * -+1 * +(5 + 1)) + +-(9 / 4 + 0.2 / 4 - 2) * ((7 - 9.0)) / (+9.6 * 7 - 2 * 1.8 - 1 - 2.8) / +-5\n",
      "+50.6 + -(-6.2 / (4.4) * 7.4 + -((6)) * 6 * 7.8 + 3.2 / 9.0) / ----(8) / -+++3.5\n",
      "+(+(0.6) / 9 * (5) / 1 + 23.0 * -1) + (+75) / (+(0) + +4.3 * 8.8 * 9) * (-5.8 / 1 / 1 + 3 - 9.1 - ((3.8)) * 4.0 - 4) / +(4.3) + (--9 * 0 + +1.8 * 8 / 0) - ++-+9.0 / -6.36 * 72.5 * +0 - (6.9 * 2 - 6 + 1) * 0 + -9.2 * -0.5\n"
     ]
    }
   ],
   "source": [
    "%%top\n",
    "for i in range(10):\n",
    "    s = and1_fuzzer.fuzz(key=and1_start)\n",
    "    print(s)\n",
    "    assert and1_parser.can_parse(s)\n",
    "    assert faulty1_parser.can_parse(s)\n",
    "    assert faulty2_parser.can_parse(s)"
   ]
  },
  {
   "cell_type": "markdown",
   "metadata": {},
   "source": [
    "## Disjunction\n",
    "\n",
    "The idea here is to produce a merge of both grammars. Unlike in `and` where we combined each rule pair, we will simply add both rulesets. Note that there could be a large number of duplicate keys. This can be fixed by grammar GC.\n",
    "\n",
    "The idea is simply using the distributive law. A definition is simply R1 `or` R2 `or` R3. Now, when you want to `or` two defintions, you have `or(A1 or B1 or C1, A2 or B2 or C2)` where `A1` etc are rules, then it simply becomes `A1 or B1 or C1 or A2 or B2 or C2`\n"
   ]
  },
  {
   "cell_type": "code",
   "execution_count": 317,
   "metadata": {},
   "outputs": [
    {
     "data": {
      "text/plain": [
       "[]"
      ]
     },
     "execution_count": 317,
     "metadata": {},
     "output_type": "execute_result"
    }
   ],
   "source": [
    "EXCEPTION_HAPPENED"
   ]
  },
  {
   "cell_type": "code",
   "execution_count": 318,
   "metadata": {},
   "outputs": [],
   "source": [
    "def merge_similar_rules(rule1, rule2):\n",
    "    assert normalized_rule_match(rule1, rule2), (rule1, rule2)\n",
    "    new_rule = []\n",
    "    refinements = []\n",
    "    \n",
    "    # note. This would not work with multi-nt-token rules.\n",
    "    # so we need to restrict ourselves to grammars that only\n",
    "    # allow a single token rule opposite start.\n",
    "    assert len([t for t in rule1 if is_nt(t)]) == 1\n",
    "    for t1,t2 in zip(rule1, rule2):\n",
    "        if not is_nt(t1):\n",
    "            new_rule.append(t1)\n",
    "        elif is_base_key(t1) and is_base_key(t2):\n",
    "            new_rule.append(t1)\n",
    "        else:\n",
    "            k = disj(t1, t2, simplify=True)\n",
    "            new_rule.append(k)\n",
    "            refinements.append((k,(t1, t2)))\n",
    "    return new_rule, refinements\n",
    "            "
   ]
  },
  {
   "cell_type": "code",
   "execution_count": 319,
   "metadata": {},
   "outputs": [],
   "source": [
    "def merge_similar_rules_positions(rules):\n",
    "    def rule_match(rule1, rule2):\n",
    "        assert normalized_rule_match(rule1, rule2)\n",
    "        return [i for i, (k1, k2) in enumerate(zip(rule1, rule2)) if k1 != k2]\n",
    "\n",
    "    def merge_rule_at_pos(rule1, rule2, pos):\n",
    "        merged_key = disj(rule1[pos], rule2[pos])\n",
    "        m_rule = [merged_key if i== pos else t for i,t in enumerate(rule1)]\n",
    "        return m_rule, merged_key\n",
    "        \n",
    "    # these rules are from same key and have similar pattern as well as similar refinement positions.\n",
    "    if len(rules) == 1: return rules, []\n",
    "    cur_rule, *rules = rules\n",
    "    new_rules, refs = merge_similar_rules_positions(rules)\n",
    "    # now check if cur_rule matches any of the new_rules. If it doesn't then add to new_rule\n",
    "    # if it does, merge to the newone.\n",
    "    merged_rules = []\n",
    "    found = False\n",
    "    for nrule in new_rules:\n",
    "        diffs = rule_match(cur_rule, nrule)\n",
    "        if len(diffs) == 1:\n",
    "            found = True\n",
    "            mrule, ref = merge_rule_at_pos(cur_rule, nrule, diffs[0])\n",
    "            refs.append(ref)\n",
    "            merged_rules.append(mrule)\n",
    "        else:\n",
    "            assert len(diffs) != 0, (\"no differences(%s)\" % len(diffs))\n",
    "            merged_rules.append(nrule)\n",
    "    \n",
    "    if not found:\n",
    "        merged_rules += [cur_rule]\n",
    "    return merged_rules, refs"
   ]
  },
  {
   "cell_type": "markdown",
   "metadata": {},
   "source": [
    "What can be merged?\n",
    "Only those rules that are\n",
    "\n",
    "1. Exactly the same normalized rule\n",
    "2. Has a single mergable (different) refinement.\n",
    "\n",
    "i.e:\n",
    "\n",
    "```\n",
    "| <A 1> <B> <C>\n",
    "| <A 2> <B> <C>\n",
    "```\n",
    "is mergable to \n",
    "```\n",
    "| <A 1|2> <B> <C>\n",
    "```\n",
    "Similarly\n",
    "\n",
    "```\n",
    "| <A 1> <B 2> <C>\n",
    "| <A 1> <B 3> <C>\n",
    "```\n",
    "is mergable to\n",
    "```\n",
    "| <A 1> <B 2|3> <C>\n",
    "```\n",
    "\n",
    "That is, it is ok to have multiple refinements in a rule so long as the other\n",
    "refinements except for the merger one is exactly the same."
   ]
  },
  {
   "cell_type": "code",
   "execution_count": 320,
   "metadata": {},
   "outputs": [],
   "source": [
    "%%top\n",
    "a1 = ['<A 1>', '<B>','<C>']\n",
    "a2 = ['<A 2>', '<B>','<C>']\n",
    "assert merge_similar_rules_positions([a1, a2])[0] == [['<A or(1,2)>', '<B>', '<C>']]"
   ]
  },
  {
   "cell_type": "code",
   "execution_count": 321,
   "metadata": {},
   "outputs": [],
   "source": [
    "%%top\n",
    "a3 = ['<A 1>', '<B 2>','<C>']\n",
    "a4 = ['<A 1>', '<B 3>','<C>']\n",
    "assert merge_similar_rules_positions([a3, a4])[0] == [['<A 1>', '<B or(2,3)>', '<C>']]"
   ]
  },
  {
   "cell_type": "code",
   "execution_count": 322,
   "metadata": {},
   "outputs": [],
   "source": [
    "%%top\n",
    "a5 = ['<A 1>', '<B 2>','<C 3>']\n",
    "a6 = ['<A 1>', '<B 3>','<C>']\n",
    "assert merge_similar_rules_positions([a5, a6])[0] == [['<A 1>', '<B 3>', '<C>'], ['<A 1>', '<B 2>', '<C 3>']]"
   ]
  },
  {
   "cell_type": "code",
   "execution_count": 323,
   "metadata": {},
   "outputs": [],
   "source": [
    "def get_rules_with_similar_refinement_positions(rules):\n",
    "    similar = {}\n",
    "    # First get the positions of refinements\n",
    "    for rule in rules:\n",
    "        ref_positions = tuple([i for i,k in enumerate(rule) if is_nt(k) and refinement(k)])\n",
    "        key = (tuple(rule_to_normalized_rule(rule)), ref_positions)\n",
    "        if key not in similar: similar[key] = set()\n",
    "        similar[key].add(tuple(rule))\n",
    "    return similar"
   ]
  },
  {
   "cell_type": "code",
   "execution_count": 324,
   "metadata": {},
   "outputs": [
    {
     "data": {
      "text/plain": [
       "{(('<A>', '<B>', '<C>'), (0,)): {('<A 1>', '<B>', '<C>'),\n",
       "  ('<A 2>', '<B>', '<C>')},\n",
       " (('<A>', '<B>', '<C>'), (0, 1)): {('<A 1>', '<B 2>', '<C>'),\n",
       "  ('<A 1>', '<B 3>', '<C>')}}"
      ]
     },
     "execution_count": 324,
     "metadata": {},
     "output_type": "execute_result"
    }
   ],
   "source": [
    "get_rules_with_similar_refinement_positions([a1, a2, a3, a4])"
   ]
  },
  {
   "cell_type": "code",
   "execution_count": 325,
   "metadata": {},
   "outputs": [],
   "source": [
    "def merge_disj_rules(g1):\n",
    "    similar = {}\n",
    "    # now we have similar rules that have a chance of merger.\n",
    "    refinements = []\n",
    "    new_grammar = {}\n",
    "    for g_k in g1:\n",
    "        similar = get_rules_with_similar_refinement_positions(g1[g_k])\n",
    "        new_grammar[g_k] = []\n",
    "        for rule_pos in similar:\n",
    "            srules, refs = merge_similar_rules_positions([list(r) for r in similar[rule_pos]])\n",
    "            # same key could come in multiple times.\n",
    "            new_grammar[g_k].extend(srules)\n",
    "            refinements.extend(refs)\n",
    "    return new_grammar, refinements"
   ]
  },
  {
   "cell_type": "code",
   "execution_count": 326,
   "metadata": {},
   "outputs": [],
   "source": [
    "def or_grammars_(g1, s1, g2, s2):\n",
    "    g = {}\n",
    "    # now get the matching keys for each pair.\n",
    "    for k in list(g1.keys()) + list(g2.keys()): \n",
    "         g[k] = [[t for t in r] for r in list(set([tuple(k) for k in (g1.get(k, []) + g2.get(k, []))]))]\n",
    "            \n",
    "    g[disj(s1, s2)] = g1[s1] + g2[s2]\n",
    "    g, refinements = merge_disj_rules(g)\n",
    "    return g, disj(s1, s2), refinements"
   ]
  },
  {
   "cell_type": "code",
   "execution_count": 327,
   "metadata": {},
   "outputs": [],
   "source": [
    "def or_grammars(g1, s1, g2, s2):\n",
    "    g_, s, ref = or_grammars_(g1, s1, g2, s2)\n",
    "    g = complete(g_, s)\n",
    "    assert disj(s1, s2) == s\n",
    "    assert s in g\n",
    "    return g, s"
   ]
  },
  {
   "cell_type": "code",
   "execution_count": 328,
   "metadata": {},
   "outputs": [],
   "source": [
    "#%top\n",
    "or1_grammar, or1_start =  or_grammars(faulty1_grammar, faulty1_start, faulty2_grammar, faulty2_start)"
   ]
  },
  {
   "cell_type": "code",
   "execution_count": 329,
   "metadata": {
    "scrolled": false
   },
   "outputs": [
    {
     "name": "stdout",
     "output_type": "stream",
     "text": [
      "<start or(+F1,+F2)> ::=\n",
      "|    <expr or(+F1,+F2)>\n",
      "<expr or(+F1,+F2)> ::=\n",
      "|    <term or(+F1,+F2)>\n",
      "|    <term or(+F1,+F2)> ' + ' <expr>\n",
      "|    <term or(+F1,+F2)> ' - ' <expr>\n",
      "|    <term> ' + ' <expr or(+F1,+F2,L2_2)>\n",
      "|    <term> ' - ' <expr or(+F1,+F2)>\n",
      "<term or(+F1,+F2)> ::=\n",
      "|    <factor or(+F1,+F2)>\n",
      "|    <factor or(+F1,+F2)> ' * ' <term>\n",
      "|    <factor or(+F1,+F2)> ' / ' <term>\n",
      "|    <factor> ' * ' <term or(+F1,+F2)>\n",
      "|    <factor> ' / ' <term or(+F1,+F2)>\n",
      "<expr> ::=\n",
      "|    <term>\n",
      "|    <term> ' + ' <expr>\n",
      "|    <term> ' - ' <expr>\n",
      "<term> ::=\n",
      "|    <factor>\n",
      "|    <factor> ' * ' <term>\n",
      "|    <factor> ' / ' <term>\n",
      "<expr or(+F1,+F2,L2_2)> ::=\n",
      "|    <term or(+F1,+F2)>\n",
      "|    <term or(+F1,+F2)> ' + ' <expr>\n",
      "|    <term or(+F1,+F2)> ' - ' <expr>\n",
      "|    <term>\n",
      "|    <term> ' + ' <expr or(+F1,+F2,L2_2)>\n",
      "|    <term> ' - ' <expr or(+F1,+F2)>\n",
      "<factor or(+F1,+F2)> ::=\n",
      "|    '(' <expr or(+F1,+F2,L1_1)> ')'\n",
      "|    '+' <factor or(+F1,+F2)>\n",
      "|    '-' <factor or(+F1,+F2)>\n",
      "<factor> ::=\n",
      "|    '(' <expr> ')'\n",
      "|    '+' <factor>\n",
      "|    '-' <factor>\n",
      "|    <integer>\n",
      "|    <integer> '.' <integer>\n",
      "<expr or(+F1,+F2,L1_1)> ::=\n",
      "|    <term or(+F1,+F2)> ' + ' <expr>\n",
      "|    <term or(+F1,+F2)> ' - ' <expr>\n",
      "|    <term or(+F1,+F2,L1_1)>\n",
      "|    <term> ' + ' <expr or(+F1,+F2,L2_2)>\n",
      "|    <term> ' - ' <expr or(+F1,+F2)>\n",
      "<term or(+F1,+F2,L1_1)> ::=\n",
      "|    <factor or(+F1,+F2)> ' * ' <term>\n",
      "|    <factor or(+F1,+F2)> ' / ' <term>\n",
      "|    <factor or(+F1,+F2,L1_2)>\n",
      "|    <factor> ' * ' <term or(+F1,+F2)>\n",
      "|    <factor> ' / ' <term or(+F1,+F2)>\n",
      "<factor or(+F1,+F2,L1_2)> ::=\n",
      "|    '(' <expr or(+F1,+F2,L1_1)> ')'\n",
      "|    '(' <expr> ')'\n",
      "|    '+' <factor or(+F1,+F2)>\n",
      "|    '-' <factor or(+F1,+F2)>\n",
      "<integer> ::=\n",
      "|    <digit>\n",
      "|    <digit> <integer>\n",
      "<digit> ::=\n",
      "|    '0'\n",
      "|    '1'\n",
      "|    '2'\n",
      "|    '3'\n",
      "|    '4'\n",
      "|    '5'\n",
      "|    '6'\n",
      "|    '7'\n",
      "|    '8'\n",
      "|    '9'\n",
      "13 57\n"
     ]
    },
    {
     "data": {
      "text/plain": [
       "'<start or(+F1,+F2)>'"
      ]
     },
     "execution_count": 329,
     "metadata": {},
     "output_type": "execute_result"
    }
   ],
   "source": [
    "%%top\n",
    "Gs(or1_grammar)\n",
    "or1_start"
   ]
  },
  {
   "cell_type": "code",
   "execution_count": 330,
   "metadata": {},
   "outputs": [],
   "source": [
    "#%%top\n",
    "or1_fuzzer = LimitFuzzer(or1_grammar)\n",
    "or1_parser = Parser(or1_grammar, canonical=True, start_symbol=or1_start)"
   ]
  },
  {
   "cell_type": "code",
   "execution_count": 331,
   "metadata": {
    "scrolled": true
   },
   "outputs": [
    {
     "name": "stdout",
     "output_type": "stream",
     "text": [
      "5 - (7 * (0.7) + 5) / 79 - -((2) + (1 + 3)) * -6\n",
      "(--22.54 * +3.4 - -++(2.9 + 6.6) / (6 - 2) + 94.7 / (8))\n",
      "630 - ++(-2 / (1.5 + 2.2) * 9.4) / 424 * -1 * (7.2 / 7 + 6.3 + 0) / +0 / -1\n",
      "(293 / ++(6) / +9 / (1) / 8 * 1 + 4 * ++(1.2 + 3) / -2 - +7.2 - 0.1) + 9.01 + 7.0786 * 9\n",
      "+++-+(5.1) / +-((6.8) / 9.8 / 9 - 3.4 * 4.9 - 3 - 1.8) * 68.389 * ++-+3 * 9.538 * +9 / -0.9 / 4 * 3.5 - +-(6 / 8.4 / 4.0 - 5.1 * (4.0 + 4.9) / 4) * 6.58158 * +(5.1 / 6 + 5.8 - 2.2) + 0 / 840.9 - 9.9 - 37.2 / (2.1 - 3.2) * -0 * 5.1 / 5.5 - -0 - -3.5 / 7.6 * 4 + 0 * 1\n",
      "+-(6 - +7.7 / 4.7 * (0 + 7) * 1)\n",
      "2193.54 / +41.4 / --+-(2.4 + 9.2) - 573114.048 / (58.03 * 0.2 / 9.5 * 8.7 - (6.3) / 8.6) / 3.9 / (7 - 0 - 7.0) / 9 - +-++5.6 * 10.9 * +8 / 23.91 * +5 + ((2.8) * 6.3 / 1.4 - 3 - 8.0 + 4.9)\n",
      "+(1 * ((5 + 9.5) / 2 - 4.2) / 8.3 * 5.1) + (-45.1 * +5 / (3.9) / 2 / 0) * 49.68 / +6.2 * (8 + 9.2 - 9) / -4.8 / (0) - 5 / 768 * -+8.2\n",
      "3 * -((2 - 1)) + -1 - 5 * 6.3 / (7 / 0 - 0 + 4.3) + -(5.2 / 7 + 2 + 2.8) / 9.6 + (4 / 5 - 6 + 7)\n",
      "--++(7 * 4.0 - 5.9 - 8) / (21.63 * 21 * +1.9 / 8.1 * 6 - 9.6 * 6.0 / 5.8 - 2.6 - 8 - 2) + -(+1.7 / 3 * 0.1 / 0 + +6 + 7) * +(-8.4 / 9.4 * 2 - 2 * 6 - 1 + 7)\n"
     ]
    }
   ],
   "source": [
    "%%top\n",
    "for i in range(10):\n",
    "    s = or1_fuzzer.fuzz(key=or1_start)\n",
    "    print(s)\n",
    "    assert or1_parser.can_parse(s)\n",
    "    if not faulty1_parser.can_parse(s):\n",
    "        assert faulty2_parser.can_parse(s)\n",
    "    elif not faulty2_parser.can_parse(s):\n",
    "        assert faulty1_parser.can_parse(s)\n",
    "    else:\n",
    "        assert and1_parser.can_parse(s)"
   ]
  },
  {
   "cell_type": "markdown",
   "metadata": {},
   "source": [
    "## Negation (self)"
   ]
  },
  {
   "cell_type": "code",
   "execution_count": 332,
   "metadata": {},
   "outputs": [
    {
     "data": {
      "text/plain": [
       "[]"
      ]
     },
     "execution_count": 332,
     "metadata": {},
     "output_type": "execute_result"
    }
   ],
   "source": [
    "EXCEPTION_HAPPENED"
   ]
  },
  {
   "cell_type": "markdown",
   "metadata": {},
   "source": [
    "Negation is approached in a fundamentally different way to inserting faults. First, we do not know what the key that when include, will cause the fault. So, there is no reachability check. On the other hand, we do know the prefix. It is the refinement of the _<start>_ symbol of the grammar to be negated.\n",
    "\n",
    "What we need to do for any key is to negate it (consider that we do not have strict non-redundancy requirement between rules so long as they have same base pattern), which means negating the individual rules, we need to move from `neg(rule1 or rule 2 or rule3)` to `neg(rule1) and neg(rule2) and neg(rule3)` where the base patterns of three rules are same.\n",
    "\n",
    "Now, how to negate a given rule: Take any given rule. All the base nonterminal symbols have to be negated in the sense that we have to somehow make them not reach the fault with the same prefix as `<start>`. This can be done using the reconstruct_key. Next, all refined symbols have to be negated against themselves."
   ]
  },
  {
   "cell_type": "code",
   "execution_count": 333,
   "metadata": {},
   "outputs": [],
   "source": [
    "%%top\n",
    "def_F = [\n",
    " ['<T +F1>', ' + ', '<S>', '<Q>'],\n",
    " ['<T>', ' + ', '<S +F1>', '<Q>']]"
   ]
  },
  {
   "cell_type": "code",
   "execution_count": 334,
   "metadata": {},
   "outputs": [],
   "source": [
    "%%top\n",
    "ndef_F = [['<T neg(+F1)>', ' + ', '<S neg(+F1)>', '<Q>']]"
   ]
  },
  {
   "cell_type": "code",
   "execution_count": 335,
   "metadata": {},
   "outputs": [],
   "source": [
    "%%top\n",
    "ndef = normalize_grammar({'<x>': def_F})['<x>']"
   ]
  },
  {
   "cell_type": "code",
   "execution_count": 336,
   "metadata": {},
   "outputs": [],
   "source": [
    "%top assert ndef == [('<T>', ' + ', '<S>', '<Q>')]"
   ]
  },
  {
   "cell_type": "code",
   "execution_count": 337,
   "metadata": {},
   "outputs": [],
   "source": [
    "def find_base_and_refined_positions(refined_rule):\n",
    "    refined_pos = []\n",
    "    base_pos = []\n",
    "    refinements = []\n",
    "    for i, t in enumerate(refined_rule):\n",
    "        if not is_nt(t):\n",
    "            t_ = t # terminal\n",
    "        elif is_base_key(t):\n",
    "            t_ = t\n",
    "            base_pos.append(i)\n",
    "        elif is_refined_key(t):\n",
    "            t_ = t\n",
    "            refined_pos.append(i)\n",
    "        else:\n",
    "            assert False\n",
    "    return base_pos, refined_pos"
   ]
  },
  {
   "cell_type": "code",
   "execution_count": 338,
   "metadata": {},
   "outputs": [],
   "source": [
    "def negate_a_rule(refined_rule, log=False):\n",
    "    _base_pos, refined_pos = find_base_and_refined_positions(refined_rule)\n",
    "    refinements = []\n",
    " \n",
    "    # now, take refined, one at a time, and negate them, while changing all other\n",
    "    # refined to base.\n",
    "    negated_rules = []\n",
    "    for pos in refined_pos:\n",
    "        new_rule = [negate_key(t) if pos == i else\n",
    "                    (normalize(t) if i in refined_pos else t)\n",
    "                    for i,t in enumerate(refined_rule)]\n",
    "        negated_rules.append(new_rule)\n",
    "        refinements.append(new_rule[pos])\n",
    "    return negated_rules, refinements"
   ]
  },
  {
   "cell_type": "markdown",
   "metadata": {},
   "source": [
    "Negation of `def_F[0]` should result in only the refined token being negated."
   ]
  },
  {
   "cell_type": "code",
   "execution_count": 339,
   "metadata": {},
   "outputs": [],
   "source": [
    "%%top\n",
    "neg_def_F_0, rfs = negate_a_rule(def_F[0], ndef[0]);\n",
    "assert neg_def_F_0 == [['<T neg(+F1)>', ' + ', '<S>', '<Q>']]"
   ]
  },
  {
   "cell_type": "code",
   "execution_count": 340,
   "metadata": {},
   "outputs": [],
   "source": [
    "%%top\n",
    "nndef_F_0, rfs = negate_a_rule(ndef_F[0], ndef[0])"
   ]
  },
  {
   "cell_type": "code",
   "execution_count": 341,
   "metadata": {},
   "outputs": [],
   "source": [
    "%%top\n",
    "assert nndef_F_0 == [['<T +F1>', ' + ', '<S>', '<Q>'],\n",
    "                     ['<T>', ' + ', '<S +F1>', '<Q>']]"
   ]
  },
  {
   "cell_type": "markdown",
   "metadata": {},
   "source": [
    "For negating a rule, we negate all base keys at the same time, but refined keys one at a time. This is because a rule could be like  `[<1,2,3,4,5>, <6,7,8,9,0>]` and a refinement could be `[<2,4>, <6,8,0>]`. The idea of negation of a rule is that a string that gets produced by the first should not be repeated in the second. Hence, the negation of this should be `[<1,2,3,4,5>, <7,9>] | [<1,3,5>, <6,7,8,9,0>]`. That is, refinement is removed in other refined keys."
   ]
  },
  {
   "cell_type": "code",
   "execution_count": 342,
   "metadata": {},
   "outputs": [],
   "source": [
    "def negate_ruleset(refined_rules, log=False):\n",
    "    refinements = []\n",
    "    # Given the set of fules, we take one rule at a time,\n",
    "    # and genrate the negated ruleset from that.\n",
    "    negated_rules = []\n",
    "    if log: print('> refined:', len(refined_rules))\n",
    "    for ruleR in refined_rules:\n",
    "        neg_rules, refs = negate_a_rule(ruleR, log)\n",
    "        negated_rules.append(neg_rules)\n",
    "        refinements.extend(refs)\n",
    "    return negated_rules, refinements"
   ]
  },
  {
   "cell_type": "markdown",
   "metadata": {},
   "source": [
    "Negation of rule set should only affect the refined keys."
   ]
  },
  {
   "cell_type": "code",
   "execution_count": 343,
   "metadata": {},
   "outputs": [],
   "source": [
    "%%top\n",
    "neg_def_F_rs, rfs = negate_ruleset(def_F)\n",
    "assert neg_def_F_rs == [\n",
    "    [['<T neg(+F1)>', ' + ', '<S>', '<Q>']],\n",
    "    [['<T>', ' + ', '<S neg(+F1)>', '<Q>']]]"
   ]
  },
  {
   "cell_type": "code",
   "execution_count": 344,
   "metadata": {},
   "outputs": [],
   "source": [
    "%%top\n",
    "nndef_F, rfs = negate_ruleset(ndef_F)"
   ]
  },
  {
   "cell_type": "code",
   "execution_count": 345,
   "metadata": {},
   "outputs": [],
   "source": [
    "%%top\n",
    "assert nndef_F == [[['<T +F1>', ' + ', '<S>', '<Q>'],\n",
    "                    ['<T>', ' + ', '<S +F1>', '<Q>']]]"
   ]
  },
  {
   "cell_type": "code",
   "execution_count": 346,
   "metadata": {},
   "outputs": [],
   "source": [
    "def multi_and_rules(rules):\n",
    "    r1 = [rules[0]]\n",
    "    refinements = []\n",
    "    if len(rules) == 1:\n",
    "        return r1[0], []\n",
    "    for r in rules[1:]:\n",
    "        r1, refs = and_rules(r1, [r])\n",
    "        assert len(r1) == 1\n",
    "        refinements.extend(refs)\n",
    "    assert len(r1) == 1\n",
    "    return r1[0], refinements"
   ]
  },
  {
   "cell_type": "markdown",
   "metadata": {},
   "source": [
    "Negate definition"
   ]
  },
  {
   "cell_type": "code",
   "execution_count": 347,
   "metadata": {},
   "outputs": [],
   "source": [
    "def negate_definition(refined_rules, base_rules, log):\n",
    "    new_rulesB = []\n",
    "    new_refs = []\n",
    "    refined_rulesets = get_rulesets(refined_rules)\n",
    "    for base_rule in base_rules:\n",
    "        # identify refined rules that match the base rule template\n",
    "        refined_rules_p = refined_rulesets.get(tuple(base_rule), [])\n",
    "        if not refined_rules_p:\n",
    "            # if there are no matching refined rules, that means this base rule\n",
    "            # was never used in the original grammar, hence it can be used in\n",
    "            # negated grammar.\n",
    "            new_rulesB.append(base_rule)\n",
    "            continue\n",
    "        \n",
    "        neg_rulesB, refs1 = negate_ruleset(refined_rules_p, log)\n",
    "        new_refs.extend(refs1)\n",
    "        if log: print('negate_ruleset:', len(neg_rulesB))\n",
    " \n",
    "        # Now, the idea is to do a `product` of each item in\n",
    "        # neg_rulesB with every other item. Each item has multiple\n",
    "        # rules in them, where one refinement is negated. So combining\n",
    "        # that with others of similar kind using `and` should produce\n",
    "        # a negated output.\n",
    "        \n",
    "        # Note that `refined_rules_p` are from the exact same pattern.\n",
    "        # now, we have negations of all rules. We need to compute `and` of similar\n",
    "        for m_rulesB in I.product(*neg_rulesB):\n",
    "            r, ref = multi_and_rules(m_rulesB)\n",
    "            new_rulesB.append(r)\n",
    "            new_refs.extend(ref)\n",
    "        \n",
    "    return new_rulesB, new_refs"
   ]
  },
  {
   "cell_type": "markdown",
   "metadata": {},
   "source": [
    "Negating the original rule should result in this."
   ]
  },
  {
   "cell_type": "code",
   "execution_count": 348,
   "metadata": {},
   "outputs": [],
   "source": [
    "%top neg_def_F, rfs = negate_definition(def_F, ndef, False)"
   ]
  },
  {
   "cell_type": "code",
   "execution_count": 349,
   "metadata": {},
   "outputs": [
    {
     "data": {
      "text/plain": [
       "[['<T neg(+F1)>', ' + ', '<S neg(+F1)>', '<Q>']]"
      ]
     },
     "execution_count": 349,
     "metadata": {},
     "output_type": "execute_result"
    }
   ],
   "source": [
    "%top neg_def_F"
   ]
  },
  {
   "cell_type": "code",
   "execution_count": 350,
   "metadata": {},
   "outputs": [],
   "source": [
    "#assert neg_def_F == [['<T neg(+F1)>', ' + ', '<S>', '<Q>'],\n",
    "#                     ['<T>', ' + ', '<S neg(+F1)>', '<Q>']]"
   ]
  },
  {
   "cell_type": "markdown",
   "metadata": {},
   "source": [
    "base:\n",
    "```\n",
    "[(1|2) (1|2)]\n",
    "```\n",
    "\n",
    "refined:\n",
    "```\n",
    "[(1)  (1|2)]   --> 1,2\n",
    "[(1|2) (1)     --> 1,1\n",
    "```\n",
    "\n",
    "negated:\n",
    "```\n",
    "[(2) (1|2)]\n",
    "[(1|2) (2)     --> 1,2\n",
    "```"
   ]
  },
  {
   "cell_type": "code",
   "execution_count": 351,
   "metadata": {},
   "outputs": [],
   "source": [
    "%top assert neg_def_F == [['<T neg(+F1)>', ' + ', '<S neg(+F1)>', '<Q>']]"
   ]
  },
  {
   "cell_type": "markdown",
   "metadata": {},
   "source": [
    "Now, negating the negation should result in the fault back"
   ]
  },
  {
   "cell_type": "code",
   "execution_count": 352,
   "metadata": {},
   "outputs": [
    {
     "name": "stdout",
     "output_type": "stream",
     "text": [
      "> refined: 1\n",
      "negate_ruleset: 1\n"
     ]
    }
   ],
   "source": [
    "%top neg_neg_def_F, rfs = negate_definition(neg_def_F, ndef, True)"
   ]
  },
  {
   "cell_type": "code",
   "execution_count": 353,
   "metadata": {},
   "outputs": [
    {
     "data": {
      "text/plain": [
       "[['<T +F1>', ' + ', '<S>', '<Q>'], ['<T>', ' + ', '<S +F1>', '<Q>']]"
      ]
     },
     "execution_count": 353,
     "metadata": {},
     "output_type": "execute_result"
    }
   ],
   "source": [
    "%top neg_neg_def_F"
   ]
  },
  {
   "cell_type": "markdown",
   "metadata": {},
   "source": [
    "IDEA: Do not and rules produced from exploding the same rule. Instead, pair them up."
   ]
  },
  {
   "cell_type": "code",
   "execution_count": 354,
   "metadata": {},
   "outputs": [
    {
     "data": {
      "text/plain": [
       "[['<T +F1>', ' + ', '<S>', '<Q>'], ['<T>', ' + ', '<S +F1>', '<Q>']]"
      ]
     },
     "execution_count": 354,
     "metadata": {},
     "output_type": "execute_result"
    }
   ],
   "source": [
    "%top def_F"
   ]
  },
  {
   "cell_type": "code",
   "execution_count": 355,
   "metadata": {},
   "outputs": [],
   "source": [
    "%%top\n",
    "assert neg_neg_def_F == def_F"
   ]
  },
  {
   "cell_type": "code",
   "execution_count": 356,
   "metadata": {},
   "outputs": [],
   "source": [
    "def negate_grammar_(refined_grammar, refined_start, base_grammar, base_start, log=False):\n",
    "    combined_g = {**base_grammar, **refined_grammar}\n",
    "    refinements = []\n",
    "    for r_key in refined_grammar:\n",
    "        if log: print('>>', r_key)\n",
    "        if is_base_key(r_key): continue # negation of base key is empty set.\n",
    "        dk = negate_key(r_key)\n",
    "        if dk in combined_g: continue\n",
    "        if log: print('gdefine[:', dk)\n",
    "        nk = normalize(r_key)\n",
    "        rules,refs = negate_definition(refined_grammar[r_key],\n",
    "                                       base_grammar[nk], log)\n",
    "        combined_g[dk] = rules\n",
    "        if not rules: # no refinement\n",
    "            if log: print('No rules for:', dk, 'O:', r_key, 'unreachable?')\n",
    "            continue\n",
    "        refinements.extend(refs)\n",
    "        if log: print('gdefined]:', dk, combined_g[dk])\n",
    "    return combined_g, negate_key(refined_start), refinements"
   ]
  },
  {
   "cell_type": "code",
   "execution_count": 357,
   "metadata": {},
   "outputs": [],
   "source": [
    "def negate_grammar(rg, rs, bg, bs, log=False):\n",
    "    g_, s, r = negate_grammar_(rg, rs, bg, bs, log)\n",
    "    g = complete(g_, s)\n",
    "    assert negate_key(rs) == s\n",
    "    assert s in g\n",
    "    return g, s"
   ]
  },
  {
   "cell_type": "code",
   "execution_count": 358,
   "metadata": {},
   "outputs": [
    {
     "name": "stdout",
     "output_type": "stream",
     "text": [
      "<start +F1> ::=\n",
      "|    <expr +F1>\n",
      "<expr +F1> ::=\n",
      "|    <term +F1>\n",
      "|    <term +F1> ' + ' <expr>\n",
      "|    <term +F1> ' - ' <expr>\n",
      "|    <term> ' + ' <expr +F1>\n",
      "|    <term> ' - ' <expr +F1>\n",
      "<term +F1> ::=\n",
      "|    <factor +F1>\n",
      "|    <factor +F1> ' * ' <term>\n",
      "|    <factor +F1> ' / ' <term>\n",
      "|    <factor> ' * ' <term +F1>\n",
      "|    <factor> ' / ' <term +F1>\n",
      "<expr> ::=\n",
      "|    <term>\n",
      "|    <term> ' + ' <expr>\n",
      "|    <term> ' - ' <expr>\n",
      "<term> ::=\n",
      "|    <factor>\n",
      "|    <factor> ' * ' <term>\n",
      "|    <factor> ' / ' <term>\n",
      "<factor +F1> ::=\n",
      "|    '(' <expr +F1> ')'\n",
      "|    '(' <expr L1_1> ')'\n",
      "|    '+' <factor +F1>\n",
      "|    '-' <factor +F1>\n",
      "<factor> ::=\n",
      "|    '(' <expr> ')'\n",
      "|    '+' <factor>\n",
      "|    '-' <factor>\n",
      "|    <integer>\n",
      "|    <integer> '.' <integer>\n",
      "<expr L1_1> ::=\n",
      "|    <term L1_1>\n",
      "<term L1_1> ::=\n",
      "|    <factor L1_2>\n",
      "<factor L1_2> ::=\n",
      "|    '(' <expr> ')'\n",
      "<integer> ::=\n",
      "|    <digit>\n",
      "|    <digit> <integer>\n",
      "<digit> ::=\n",
      "|    '0'\n",
      "|    '1'\n",
      "|    '2'\n",
      "|    '3'\n",
      "|    '4'\n",
      "|    '5'\n",
      "|    '6'\n",
      "|    '7'\n",
      "|    '8'\n",
      "|    '9'\n",
      "12 41\n"
     ]
    }
   ],
   "source": [
    "%%top\n",
    "Gs(faulty1_grammar)"
   ]
  },
  {
   "cell_type": "code",
   "execution_count": 359,
   "metadata": {},
   "outputs": [],
   "source": [
    "#%%top\n",
    "# faulty1_grammar is an atleast one fault grammar.\n",
    "negfaulty1_grammar, negfaulty1_start = negate_grammar(faulty1_grammar, faulty1_start, EXPR_GRAMMAR, EXPR_START)"
   ]
  },
  {
   "cell_type": "code",
   "execution_count": 360,
   "metadata": {
    "scrolled": false
   },
   "outputs": [
    {
     "name": "stdout",
     "output_type": "stream",
     "text": [
      "<start neg(+F1)> ::=\n",
      "|    <expr neg(+F1)>\n",
      "<expr neg(+F1)> ::=\n",
      "|    <term neg(+F1)>\n",
      "|    <term neg(+F1)> ' + ' <expr neg(+F1)>\n",
      "|    <term neg(+F1)> ' - ' <expr neg(+F1)>\n",
      "<term neg(+F1)> ::=\n",
      "|    <factor neg(+F1)>\n",
      "|    <factor neg(+F1)> ' * ' <term neg(+F1)>\n",
      "|    <factor neg(+F1)> ' / ' <term neg(+F1)>\n",
      "<factor neg(+F1)> ::=\n",
      "|    '(' <expr and(neg(+F1),neg(L1_1))> ')'\n",
      "|    '+' <factor neg(+F1)>\n",
      "|    '-' <factor neg(+F1)>\n",
      "|    <integer>\n",
      "|    <integer> '.' <integer>\n",
      "<expr and(neg(+F1),neg(L1_1))> ::=\n",
      "|    <term and(neg(+F1),neg(L1_1))>\n",
      "|    <term neg(+F1)> ' + ' <expr neg(+F1)>\n",
      "|    <term neg(+F1)> ' - ' <expr neg(+F1)>\n",
      "<integer> ::=\n",
      "|    <digit>\n",
      "|    <digit> <integer>\n",
      "<term and(neg(+F1),neg(L1_1))> ::=\n",
      "|    <factor and(neg(+F1),neg(L1_2))>\n",
      "|    <factor neg(+F1)> ' * ' <term neg(+F1)>\n",
      "|    <factor neg(+F1)> ' / ' <term neg(+F1)>\n",
      "<factor and(neg(+F1),neg(L1_2))> ::=\n",
      "|    '+' <factor neg(+F1)>\n",
      "|    '-' <factor neg(+F1)>\n",
      "|    <integer>\n",
      "|    <integer> '.' <integer>\n",
      "<digit> ::=\n",
      "|    '0'\n",
      "|    '1'\n",
      "|    '2'\n",
      "|    '3'\n",
      "|    '4'\n",
      "|    '5'\n",
      "|    '6'\n",
      "|    '7'\n",
      "|    '8'\n",
      "|    '9'\n",
      "9 34\n"
     ]
    },
    {
     "data": {
      "text/plain": [
       "'<start neg(+F1)>'"
      ]
     },
     "execution_count": 360,
     "metadata": {},
     "output_type": "execute_result"
    }
   ],
   "source": [
    "%%top\n",
    "Gs(negfaulty1_grammar)\n",
    "negfaulty1_start"
   ]
  },
  {
   "cell_type": "code",
   "execution_count": 361,
   "metadata": {},
   "outputs": [],
   "source": [
    "#%%top\n",
    "negfaulty1_fuzzer = LimitFuzzer(negfaulty1_grammar)\n",
    "negfaulty1_parser = Parser(negfaulty1_grammar, canonical=True, start_symbol=negfaulty1_start)"
   ]
  },
  {
   "cell_type": "code",
   "execution_count": 362,
   "metadata": {},
   "outputs": [
    {
     "name": "stdout",
     "output_type": "stream",
     "text": [
      "++-9.3 / ++-2.534 - ((3 + 4 + 5.0) / (9.1 + 6.0) * -4 * 2.0 * 7.6 + 3 - -3.1 + 3 * 5.3 - 8 + 6) * 6.9 / +28.1 / -+2 * +8 / +6\n",
      "+-+(+6 + 8.2 * 9 - 4.0 - 2.5)\n",
      "77.69 * -(-1 / -8.7 * 2.1 / 0 + 8 / 7.8 - 6.9 * 8.9) / 5 + ++9 * +(+4 + 8 * 2.3 - 3 - 3.9) / 167.8 / (8 + 4.0) + +154.6 / -(3.0 * 3) * -24 * (9 + 5.2)\n",
      "-(5.215 - 99 / +6) + 68.19 / 8 * 7051 + 215 + 8.9 * 011 - 8.78 * -(6) * +8 * 1.4 * 2\n",
      "13.2 + 7406 / (5 * -3.9 * 8 - +2.2 / 1.7 * 4.5 + 9.5 * 0 - 6.0 + 3.8) * 4\n",
      "90 * +2 / 009.528 + +46.01202 / 1.0\n",
      "--758\n",
      "+6 * (+17 * 1 / 3 - 1 + +4 + 9 / 3.4 + 8.2 - 6.3)\n",
      "2135 / (7.0 / 2.08) - ++(5.9 / 5.6 * 7.4 + 5.0 / 6 - 4 + 4.1) + -(+9 * 8.6 - 8 - 6.5 - 9) + (-4) * (3 * 8.0) / (4) + 89.196\n",
      "222.4 * ((8 / 8) - +1 / 0.8 / 2.9 * 7 - 4.0 - 5.5 - 0.8) / -((7.4) * 5.2 / 5.7 - 6 / 8.0 - 0 + 8.5) * (2.7 + 6.4 * 6.6 - 6 - 0.1) / -95.50 / +(3) / 4.8 / 9.7 / 3 - (4.54 / 6.9 * (7) * 0 * 7 + (5 - 6.7) / 8.9 * 4 * 6) / 3.1 * 8 + +-1 * (2.4 * 6.1 / 5.1) / -(3.0) / +(9.7) + +7.7 * +(3 + 0) * 2 * (6.1) * 9 / 2\n"
     ]
    }
   ],
   "source": [
    "%%top\n",
    "for i in range(10):\n",
    "    s = negfaulty1_fuzzer.fuzz(key=negfaulty1_start)\n",
    "    print(s)\n",
    "    assert negfaulty1_parser.can_parse(s)\n",
    "    assert not faulty1_parser.can_parse(s)"
   ]
  },
  {
   "cell_type": "code",
   "execution_count": 363,
   "metadata": {},
   "outputs": [],
   "source": [
    "%%top\n",
    "v = '((1))'\n",
    "assert not negfaulty1_parser.can_parse(v)"
   ]
  },
  {
   "cell_type": "code",
   "execution_count": 364,
   "metadata": {
    "scrolled": false
   },
   "outputs": [],
   "source": [
    "#%%top\n",
    "negnegfaulty1_grammar, negnegfaulty1_start = negate_grammar(negfaulty1_grammar, negfaulty1_start, EXPR_GRAMMAR, EXPR_START)"
   ]
  },
  {
   "cell_type": "code",
   "execution_count": 365,
   "metadata": {},
   "outputs": [
    {
     "name": "stdout",
     "output_type": "stream",
     "text": [
      "<start +F1> ::=\n",
      "|    <expr +F1>\n",
      "<expr +F1> ::=\n",
      "|    <term +F1>\n",
      "|    <term +F1> ' + ' <expr>\n",
      "|    <term +F1> ' - ' <expr>\n",
      "|    <term> ' + ' <expr +F1>\n",
      "|    <term> ' - ' <expr +F1>\n",
      "<term +F1> ::=\n",
      "|    <factor +F1>\n",
      "|    <factor +F1> ' * ' <term>\n",
      "|    <factor +F1> ' / ' <term>\n",
      "|    <factor> ' * ' <term +F1>\n",
      "|    <factor> ' / ' <term +F1>\n",
      "<expr> ::=\n",
      "|    <term>\n",
      "|    <term> ' + ' <expr>\n",
      "|    <term> ' - ' <expr>\n",
      "<term> ::=\n",
      "|    <factor>\n",
      "|    <factor> ' * ' <term>\n",
      "|    <factor> ' / ' <term>\n",
      "<factor +F1> ::=\n",
      "|    '(' <expr or(+F1,L1_1)> ')'\n",
      "|    '+' <factor +F1>\n",
      "|    '-' <factor +F1>\n",
      "<factor> ::=\n",
      "|    '(' <expr> ')'\n",
      "|    '+' <factor>\n",
      "|    '-' <factor>\n",
      "|    <integer>\n",
      "|    <integer> '.' <integer>\n",
      "<expr or(+F1,L1_1)> ::=\n",
      "|    <term +F1> ' + ' <expr>\n",
      "|    <term +F1> ' - ' <expr>\n",
      "|    <term or(+F1,L1_1)>\n",
      "|    <term> ' + ' <expr +F1>\n",
      "|    <term> ' - ' <expr +F1>\n",
      "<term or(+F1,L1_1)> ::=\n",
      "|    <factor +F1> ' * ' <term>\n",
      "|    <factor +F1> ' / ' <term>\n",
      "|    <factor or(+F1,L1_2)>\n",
      "|    <factor> ' * ' <term +F1>\n",
      "|    <factor> ' / ' <term +F1>\n",
      "<factor or(+F1,L1_2)> ::=\n",
      "|    '(' <expr> ')'\n",
      "|    '+' <factor +F1>\n",
      "|    '-' <factor +F1>\n",
      "<integer> ::=\n",
      "|    <digit>\n",
      "|    <digit> <integer>\n",
      "<digit> ::=\n",
      "|    '0'\n",
      "|    '1'\n",
      "|    '2'\n",
      "|    '3'\n",
      "|    '4'\n",
      "|    '5'\n",
      "|    '6'\n",
      "|    '7'\n",
      "|    '8'\n",
      "|    '9'\n",
      "12 50\n"
     ]
    },
    {
     "data": {
      "text/plain": [
       "'<start +F1>'"
      ]
     },
     "execution_count": 365,
     "metadata": {},
     "output_type": "execute_result"
    }
   ],
   "source": [
    "%%top\n",
    "Gs(negnegfaulty1_grammar)\n",
    "negnegfaulty1_start"
   ]
  },
  {
   "cell_type": "code",
   "execution_count": 366,
   "metadata": {},
   "outputs": [],
   "source": [
    "#%%top\n",
    "negnegfaulty1_fuzzer = LimitFuzzer(negnegfaulty1_grammar)\n",
    "negnegfaulty1_parser = Parser(negnegfaulty1_grammar, canonical=True, start_symbol=negnegfaulty1_start)"
   ]
  },
  {
   "cell_type": "code",
   "execution_count": 367,
   "metadata": {},
   "outputs": [],
   "source": [
    "%%top\n",
    "assert negnegfaulty1_parser.can_parse('((1))')"
   ]
  },
  {
   "cell_type": "code",
   "execution_count": 368,
   "metadata": {},
   "outputs": [],
   "source": [
    "%%top\n",
    "assert not negnegfaulty1_parser.can_parse('1')"
   ]
  },
  {
   "cell_type": "code",
   "execution_count": 369,
   "metadata": {
    "scrolled": false
   },
   "outputs": [],
   "source": [
    "#%%top\n",
    "negfaulty2_grammar, negfaulty2_start = negate_grammar(faulty2_grammar, faulty2_start, EXPR_GRAMMAR, EXPR_START)"
   ]
  },
  {
   "cell_type": "code",
   "execution_count": 370,
   "metadata": {},
   "outputs": [
    {
     "data": {
      "image/png": "[encoded data removed]",
      "text/plain": [
       "<IPython.core.display.Image object>"
      ]
     },
     "execution_count": 370,
     "metadata": {},
     "output_type": "execute_result"
    }
   ],
   "source": [
    "%top Da(Ft2)"
   ]
  },
  {
   "cell_type": "code",
   "execution_count": 371,
   "metadata": {},
   "outputs": [
    {
     "name": "stdout",
     "output_type": "stream",
     "text": [
      "<start +F2> ::=\n",
      "|    <expr +F2>\n",
      "<expr +F2> ::=\n",
      "|    <term +F2>\n",
      "|    <term +F2> ' + ' <expr>\n",
      "|    <term +F2> ' - ' <expr>\n",
      "|    <term> ' + ' <expr +F2>\n",
      "|    <term> ' + ' <expr L2_2>\n",
      "|    <term> ' - ' <expr +F2>\n",
      "<term +F2> ::=\n",
      "|    <factor +F2>\n",
      "|    <factor +F2> ' * ' <term>\n",
      "|    <factor +F2> ' / ' <term>\n",
      "|    <factor> ' * ' <term +F2>\n",
      "|    <factor> ' / ' <term +F2>\n",
      "<expr> ::=\n",
      "|    <term>\n",
      "|    <term> ' + ' <expr>\n",
      "|    <term> ' - ' <expr>\n",
      "<term> ::=\n",
      "|    <factor>\n",
      "|    <factor> ' * ' <term>\n",
      "|    <factor> ' / ' <term>\n",
      "<expr L2_2> ::=\n",
      "|    <term>\n",
      "<factor +F2> ::=\n",
      "|    '(' <expr +F2> ')'\n",
      "|    '+' <factor +F2>\n",
      "|    '-' <factor +F2>\n",
      "<factor> ::=\n",
      "|    '(' <expr> ')'\n",
      "|    '+' <factor>\n",
      "|    '-' <factor>\n",
      "|    <integer>\n",
      "|    <integer> '.' <integer>\n",
      "<integer> ::=\n",
      "|    <digit>\n",
      "|    <digit> <integer>\n",
      "<digit> ::=\n",
      "|    '0'\n",
      "|    '1'\n",
      "|    '2'\n",
      "|    '3'\n",
      "|    '4'\n",
      "|    '5'\n",
      "|    '6'\n",
      "|    '7'\n",
      "|    '8'\n",
      "|    '9'\n",
      "10 39\n"
     ]
    }
   ],
   "source": [
    "%top Gs(faulty2_grammar)"
   ]
  },
  {
   "cell_type": "code",
   "execution_count": 372,
   "metadata": {},
   "outputs": [],
   "source": [
    "%%top\n",
    "negfaulty2_fuzzer = LimitFuzzer(negfaulty2_grammar)\n",
    "negfaulty2_parser = Parser(negfaulty2_grammar, canonical=True, start_symbol=negfaulty2_start)"
   ]
  },
  {
   "cell_type": "code",
   "execution_count": 373,
   "metadata": {},
   "outputs": [
    {
     "name": "stdout",
     "output_type": "stream",
     "text": [
      "3 - +(-2.8) / 4 / ((8.0)) * +0.91 / (6.4 - 8) / 3.6 * 2.7 + 9669 * 5 + 9.46 / (8 - 8 - 6) - -+(1.6) * 31.09 / 6.9 * 3 / 8\n",
      "-4768.7 / 5 / +60 / 5 - 106632\n",
      "-+740.918 - (-90 / +6 / 6.0 * 5.4) / -+3.529 + +(9 * 0 * 7.8 - 6 * 2 + 0.7 - 9) / -(2.7 + 3.5 - 5) / 5 / 58 / 8.1 - ----0 * (4.6) * (7 - 8.8) * (1.1) / 2 - (1 / 9.7 + 5 - 8) * 5 / (2.9) / 5.8 - 74.7 / +5.9\n",
      "-+70 / -+0 - +6.02 + (+0.1) + +-+-1.3 / (9.1 / 8) / -+0 - 27.18 / (8 - 9.3) * 0 / 1 * 3.7 - 9.17 * +8.6 / 4 * 0.6 - +9\n",
      "(79.050 * 2.47 / 5.4 * 2.9 / 2 * 6.7 + --+2 * (3.8) / -4 * 6 / 2 + +8 / (3) / 1.7 - -5.3 - 6.6 * 6.6 - 4.9) * ++8.01 * 2.5 / 5 - 575.7 + 4.12 + 89.6 * -(5 + 1.5 - 4.3) - 572.8 + 06.2 - -3.7 * 1.3 / 5.5\n",
      "41.3 * 87.3 * 35\n",
      "+242.51 * -+9.3092 * 7 * (1 / 8) * +1.09 * (2.7 - 6.9) / -7.8 * 9.7\n",
      "++54234 / +9299.0 / -4.6 / 87 - 9.15\n",
      "1\n",
      "+87.4 * 5612 * +-++0.6 - ((9.9 / 9) - 68 / 9 / 8 / 6) / 52.52 * -+-(3) / 159.5 - ++(8 * 6 + 1.4 + 0 - 8) / 8.1472 * (5.7) - ++--3 * 5.5 * -8 / (0.8) * 7.8 - (0.9 + 2.7 - 0.5) / 1 / -2.8\n"
     ]
    }
   ],
   "source": [
    "%%top\n",
    "for i in range(10):\n",
    "    s = negfaulty2_fuzzer.fuzz(key=negfaulty2_start)\n",
    "    print(s)\n",
    "    assert negfaulty2_parser.can_parse(s)\n",
    "    assert not faulty2_parser.can_parse(s)"
   ]
  },
  {
   "cell_type": "code",
   "execution_count": 374,
   "metadata": {},
   "outputs": [],
   "source": [
    "%%top\n",
    "negfaulty3_grammar, negfaulty3_start = negate_grammar(and1_grammar, and1_start, EXPR_GRAMMAR, EXPR_START)"
   ]
  },
  {
   "cell_type": "code",
   "execution_count": 375,
   "metadata": {},
   "outputs": [
    {
     "name": "stdout",
     "output_type": "stream",
     "text": [
      "<start or(neg(+F1),neg(+F2))> ::=\n",
      "|    <expr or(neg(+F1),neg(+F2))>\n",
      "<expr or(neg(+F1),neg(+F2))> ::=\n",
      "|    <term and(neg(+F1),neg(+F2))> ' + ' <expr or(and(neg(+F1),neg(+F2)),and(neg(+F1),neg(+F2),neg(L2_2)),and(neg(+F2),neg(L2_2)))>\n",
      "|    <term and(neg(+F1),neg(+F2))> ' + ' <expr or(and(neg(+F1),neg(+F2)),and(neg(+F1),neg(L2_2)),and(neg(+F2),neg(L2_2)),neg(+F1))>\n",
      "|    <term and(neg(+F1),neg(+F2))> ' + ' <expr or(and(neg(+F1),neg(+F2),neg(L2_2)),and(neg(+F1),neg(L2_2)),and(neg(+F2),neg(L2_2)))>\n",
      "|    <term and(neg(+F1),neg(+F2))> ' - ' <expr or(neg(+F1),neg(+F2))>\n",
      "|    <term or(and(neg(+F1),neg(+F2)),neg(+F1))> ' + ' <expr or(and(neg(+F1),neg(+F2)),and(neg(+F1),neg(+F2),neg(L2_2)))>\n",
      "|    <term or(and(neg(+F1),neg(+F2)),neg(+F1))> ' + ' <expr or(and(neg(+F1),neg(+F2)),and(neg(+F1),neg(+F2),neg(L2_2)),and(neg(+F1),neg(L2_2)),neg(+F1))>\n",
      "|    <term or(and(neg(+F1),neg(+F2)),neg(+F1))> ' + ' <expr or(and(neg(+F1),neg(+F2),neg(L2_2)),and(neg(+F1),neg(L2_2)))>\n",
      "|    <term or(and(neg(+F1),neg(+F2)),neg(+F1))> ' - ' <expr or(and(neg(+F1),neg(+F2)),neg(+F1))>\n",
      "|    <term or(and(neg(+F1),neg(+F2)),neg(+F2))> ' + ' <expr or(and(neg(+F1),neg(+F2),neg(L2_2)),and(neg(+F2),neg(L2_2)))>\n",
      "|    <term or(and(neg(+F1),neg(+F2)),neg(+F2))> ' - ' <expr or(and(neg(+F1),neg(+F2)),neg(+F2))>\n",
      "|    <term or(neg(+F1),neg(+F2))>\n",
      "|    <term or(neg(+F1),neg(+F2))> ' + ' <expr and(neg(+F1),neg(+F2),neg(L2_2))>\n",
      "|    <term or(neg(+F1),neg(+F2))> ' - ' <expr and(neg(+F1),neg(+F2))>\n",
      "<term and(neg(+F1),neg(+F2))> ::=\n",
      "|    <factor and(neg(+F1),neg(+F2))>\n",
      "|    <factor and(neg(+F1),neg(+F2))> ' * ' <term and(neg(+F1),neg(+F2))>\n",
      "|    <factor and(neg(+F1),neg(+F2))> ' / ' <term and(neg(+F1),neg(+F2))>\n",
      "<expr or(and(neg(+F1),neg(+F2)),and(neg(+F1),neg(+F2),neg(L2_2)),and(neg(+F2),neg(L2_2)))> ::=\n",
      "|    <term and(neg(+F1),neg(+F2))>\n",
      "|    <term and(neg(+F1),neg(+F2))> ' + ' <expr and(neg(+F1),neg(+F2),neg(L2_2))>\n",
      "|    <term and(neg(+F1),neg(+F2))> ' - ' <expr and(neg(+F1),neg(+F2))>\n",
      "|    <term neg(+F2)> ' + ' <expr and(neg(+F2),neg(L2_2))>\n",
      "|    <term neg(+F2)> ' - ' <expr neg(+F2)>\n",
      "<expr or(and(neg(+F1),neg(+F2)),and(neg(+F1),neg(L2_2)),and(neg(+F2),neg(L2_2)),neg(+F1))> ::=\n",
      "|    <term and(neg(+F1),neg(+F2))> ' + ' <expr and(neg(+F1),neg(+F2),neg(L2_2))>\n",
      "|    <term and(neg(+F1),neg(+F2))> ' - ' <expr and(neg(+F1),neg(+F2))>\n",
      "|    <term neg(+F1)> ' + ' <expr neg(+F1)>\n",
      "|    <term neg(+F1)> ' - ' <expr neg(+F1)>\n",
      "|    <term neg(+F2)> ' + ' <expr and(neg(+F2),neg(L2_2))>\n",
      "|    <term neg(+F2)> ' - ' <expr neg(+F2)>\n",
      "|    <term or(and(neg(+F1),neg(+F2)),neg(+F1))>\n",
      "<expr or(and(neg(+F1),neg(+F2),neg(L2_2)),and(neg(+F1),neg(L2_2)),and(neg(+F2),neg(L2_2)))> ::=\n",
      "|    <term and(neg(+F1),neg(+F2))> ' + ' <expr and(neg(+F1),neg(+F2),neg(L2_2))>\n",
      "|    <term and(neg(+F1),neg(+F2))> ' - ' <expr and(neg(+F1),neg(+F2))>\n",
      "|    <term neg(+F1)> ' + ' <expr neg(+F1)>\n",
      "|    <term neg(+F1)> ' - ' <expr neg(+F1)>\n",
      "|    <term neg(+F2)> ' + ' <expr and(neg(+F2),neg(L2_2))>\n",
      "|    <term neg(+F2)> ' - ' <expr neg(+F2)>\n",
      "<term or(and(neg(+F1),neg(+F2)),neg(+F1))> ::=\n",
      "|    <factor and(neg(+F1),neg(+F2))> ' * ' <term and(neg(+F1),neg(+F2))>\n",
      "|    <factor and(neg(+F1),neg(+F2))> ' / ' <term and(neg(+F1),neg(+F2))>\n",
      "|    <factor neg(+F1)> ' * ' <term neg(+F1)>\n",
      "|    <factor neg(+F1)> ' / ' <term neg(+F1)>\n",
      "|    <factor or(and(neg(+F1),neg(+F2)),neg(+F1))>\n",
      "<expr or(and(neg(+F1),neg(+F2)),and(neg(+F1),neg(+F2),neg(L2_2)))> ::=\n",
      "|    <term and(neg(+F1),neg(+F2))>\n",
      "|    <term and(neg(+F1),neg(+F2))> ' + ' <expr and(neg(+F1),neg(+F2),neg(L2_2))>\n",
      "|    <term and(neg(+F1),neg(+F2))> ' - ' <expr and(neg(+F1),neg(+F2))>\n",
      "<expr or(and(neg(+F1),neg(+F2)),and(neg(+F1),neg(+F2),neg(L2_2)),and(neg(+F1),neg(L2_2)),neg(+F1))> ::=\n",
      "|    <term and(neg(+F1),neg(+F2))> ' + ' <expr and(neg(+F1),neg(+F2),neg(L2_2))>\n",
      "|    <term and(neg(+F1),neg(+F2))> ' - ' <expr and(neg(+F1),neg(+F2))>\n",
      "|    <term neg(+F1)> ' + ' <expr neg(+F1)>\n",
      "|    <term neg(+F1)> ' - ' <expr neg(+F1)>\n",
      "|    <term or(and(neg(+F1),neg(+F2)),neg(+F1))>\n",
      "<expr or(and(neg(+F1),neg(+F2),neg(L2_2)),and(neg(+F1),neg(L2_2)))> ::=\n",
      "|    <term and(neg(+F1),neg(+F2))> ' + ' <expr and(neg(+F1),neg(+F2),neg(L2_2))>\n",
      "|    <term and(neg(+F1),neg(+F2))> ' - ' <expr and(neg(+F1),neg(+F2))>\n",
      "|    <term neg(+F1)> ' + ' <expr neg(+F1)>\n",
      "|    <term neg(+F1)> ' - ' <expr neg(+F1)>\n",
      "<expr or(and(neg(+F1),neg(+F2)),neg(+F1))> ::=\n",
      "|    <term and(neg(+F1),neg(+F2))> ' + ' <expr and(neg(+F1),neg(+F2),neg(L2_2))>\n",
      "|    <term and(neg(+F1),neg(+F2))> ' - ' <expr and(neg(+F1),neg(+F2))>\n",
      "|    <term neg(+F1)> ' + ' <expr neg(+F1)>\n",
      "|    <term neg(+F1)> ' - ' <expr neg(+F1)>\n",
      "|    <term or(and(neg(+F1),neg(+F2)),neg(+F1))>\n",
      "<term or(and(neg(+F1),neg(+F2)),neg(+F2))> ::=\n",
      "|    <factor and(neg(+F1),neg(+F2))> ' * ' <term and(neg(+F1),neg(+F2))>\n",
      "|    <factor and(neg(+F1),neg(+F2))> ' / ' <term and(neg(+F1),neg(+F2))>\n",
      "|    <factor neg(+F2)> ' * ' <term neg(+F2)>\n",
      "|    <factor neg(+F2)> ' / ' <term neg(+F2)>\n",
      "|    <factor or(and(neg(+F1),neg(+F2)),neg(+F2))>\n",
      "<expr or(and(neg(+F1),neg(+F2),neg(L2_2)),and(neg(+F2),neg(L2_2)))> ::=\n",
      "|    <term and(neg(+F1),neg(+F2))> ' + ' <expr and(neg(+F1),neg(+F2),neg(L2_2))>\n",
      "|    <term and(neg(+F1),neg(+F2))> ' - ' <expr and(neg(+F1),neg(+F2))>\n",
      "|    <term neg(+F2)> ' + ' <expr and(neg(+F2),neg(L2_2))>\n",
      "|    <term neg(+F2)> ' - ' <expr neg(+F2)>\n",
      "<expr or(and(neg(+F1),neg(+F2)),neg(+F2))> ::=\n",
      "|    <term and(neg(+F1),neg(+F2))> ' + ' <expr and(neg(+F1),neg(+F2),neg(L2_2))>\n",
      "|    <term and(neg(+F1),neg(+F2))> ' - ' <expr and(neg(+F1),neg(+F2))>\n",
      "|    <term neg(+F2)> ' + ' <expr and(neg(+F2),neg(L2_2))>\n",
      "|    <term neg(+F2)> ' - ' <expr neg(+F2)>\n",
      "|    <term or(and(neg(+F1),neg(+F2)),neg(+F2))>\n",
      "<term or(neg(+F1),neg(+F2))> ::=\n",
      "|    <factor and(neg(+F1),neg(+F2))> ' * ' <term or(neg(+F1),neg(+F2))>\n",
      "|    <factor and(neg(+F1),neg(+F2))> ' / ' <term or(neg(+F1),neg(+F2))>\n",
      "|    <factor or(and(neg(+F1),neg(+F2)),neg(+F1))> ' * ' <term or(and(neg(+F1),neg(+F2)),neg(+F1))>\n",
      "|    <factor or(and(neg(+F1),neg(+F2)),neg(+F1))> ' / ' <term or(and(neg(+F1),neg(+F2)),neg(+F1))>\n",
      "|    <factor or(and(neg(+F1),neg(+F2)),neg(+F2))> ' * ' <term or(and(neg(+F1),neg(+F2)),neg(+F2))>\n",
      "|    <factor or(and(neg(+F1),neg(+F2)),neg(+F2))> ' / ' <term or(and(neg(+F1),neg(+F2)),neg(+F2))>\n",
      "|    <factor or(neg(+F1),neg(+F2))>\n",
      "|    <factor or(neg(+F1),neg(+F2))> ' * ' <term and(neg(+F1),neg(+F2))>\n",
      "|    <factor or(neg(+F1),neg(+F2))> ' / ' <term and(neg(+F1),neg(+F2))>\n",
      "<expr and(neg(+F1),neg(+F2),neg(L2_2))> ::=\n",
      "|    <term and(neg(+F1),neg(+F2))> ' + ' <expr and(neg(+F1),neg(+F2),neg(L2_2))>\n",
      "|    <term and(neg(+F1),neg(+F2))> ' - ' <expr and(neg(+F1),neg(+F2))>\n",
      "<expr and(neg(+F1),neg(+F2))> ::=\n",
      "|    <term and(neg(+F1),neg(+F2))>\n",
      "|    <term and(neg(+F1),neg(+F2))> ' + ' <expr and(neg(+F1),neg(+F2),neg(L2_2))>\n",
      "|    <term and(neg(+F1),neg(+F2))> ' - ' <expr and(neg(+F1),neg(+F2))>\n",
      "<factor and(neg(+F1),neg(+F2))> ::=\n",
      "|    '(' <expr and(neg(+F1),neg(+F2),neg(L1_1))> ')'\n",
      "|    '+' <factor and(neg(+F1),neg(+F2))>\n",
      "|    '-' <factor and(neg(+F1),neg(+F2))>\n",
      "|    <integer>\n",
      "|    <integer> '.' <integer>\n",
      "<expr and(neg(+F1),neg(+F2),neg(L1_1))> ::=\n",
      "|    <term and(neg(+F1),neg(+F2))> ' + ' <expr and(neg(+F1),neg(+F2),neg(L2_2))>\n",
      "|    <term and(neg(+F1),neg(+F2))> ' - ' <expr and(neg(+F1),neg(+F2))>\n",
      "|    <term and(neg(+F1),neg(+F2),neg(L1_1))>\n",
      "<integer> ::=\n",
      "|    <digit>\n",
      "|    <digit> <integer>\n",
      "<term and(neg(+F1),neg(+F2),neg(L1_1))> ::=\n",
      "|    <factor and(neg(+F1),neg(+F2))> ' * ' <term and(neg(+F1),neg(+F2))>\n",
      "|    <factor and(neg(+F1),neg(+F2))> ' / ' <term and(neg(+F1),neg(+F2))>\n",
      "|    <factor and(neg(+F1),neg(+F2),neg(L1_2))>\n",
      "<factor and(neg(+F1),neg(+F2),neg(L1_2))> ::=\n",
      "|    '+' <factor and(neg(+F1),neg(+F2))>\n",
      "|    '-' <factor and(neg(+F1),neg(+F2))>\n",
      "|    <integer>\n",
      "|    <integer> '.' <integer>\n",
      "<digit> ::=\n",
      "|    '0'\n",
      "|    '1'\n",
      "|    '2'\n",
      "|    '3'\n",
      "|    '4'\n",
      "|    '5'\n",
      "|    '6'\n",
      "|    '7'\n",
      "|    '8'\n",
      "|    '9'\n",
      "<term neg(+F2)> ::=\n",
      "|    <factor neg(+F2)>\n",
      "|    <factor neg(+F2)> ' * ' <term neg(+F2)>\n",
      "|    <factor neg(+F2)> ' / ' <term neg(+F2)>\n",
      "<expr and(neg(+F2),neg(L2_2))> ::=\n",
      "|    <term neg(+F2)> ' + ' <expr and(neg(+F2),neg(L2_2))>\n",
      "|    <term neg(+F2)> ' - ' <expr neg(+F2)>\n",
      "<expr neg(+F2)> ::=\n",
      "|    <term neg(+F2)>\n",
      "|    <term neg(+F2)> ' + ' <expr and(neg(+F2),neg(L2_2))>\n",
      "|    <term neg(+F2)> ' - ' <expr neg(+F2)>\n",
      "<factor neg(+F2)> ::=\n",
      "|    '(' <expr neg(+F2)> ')'\n",
      "|    '+' <factor neg(+F2)>\n",
      "|    '-' <factor neg(+F2)>\n",
      "|    <integer>\n",
      "|    <integer> '.' <integer>\n",
      "<term neg(+F1)> ::=\n",
      "|    <factor neg(+F1)>\n",
      "|    <factor neg(+F1)> ' * ' <term neg(+F1)>\n",
      "|    <factor neg(+F1)> ' / ' <term neg(+F1)>\n",
      "<expr neg(+F1)> ::=\n",
      "|    <term neg(+F1)>\n",
      "|    <term neg(+F1)> ' + ' <expr neg(+F1)>\n",
      "|    <term neg(+F1)> ' - ' <expr neg(+F1)>\n",
      "<factor neg(+F1)> ::=\n",
      "|    '(' <expr and(neg(+F1),neg(L1_1))> ')'\n",
      "|    '+' <factor neg(+F1)>\n",
      "|    '-' <factor neg(+F1)>\n",
      "|    <integer>\n",
      "|    <integer> '.' <integer>\n",
      "<expr and(neg(+F1),neg(L1_1))> ::=\n",
      "|    <term and(neg(+F1),neg(L1_1))>\n",
      "|    <term neg(+F1)> ' + ' <expr neg(+F1)>\n",
      "|    <term neg(+F1)> ' - ' <expr neg(+F1)>\n",
      "<term and(neg(+F1),neg(L1_1))> ::=\n",
      "|    <factor and(neg(+F1),neg(L1_2))>\n",
      "|    <factor neg(+F1)> ' * ' <term neg(+F1)>\n",
      "|    <factor neg(+F1)> ' / ' <term neg(+F1)>\n",
      "<factor and(neg(+F1),neg(L1_2))> ::=\n",
      "|    '+' <factor neg(+F1)>\n",
      "|    '-' <factor neg(+F1)>\n",
      "|    <integer>\n",
      "|    <integer> '.' <integer>\n",
      "<factor or(and(neg(+F1),neg(+F2)),neg(+F1))> ::=\n",
      "|    '(' <expr or(and(neg(+F1),neg(+F2),neg(L1_1)),and(neg(+F1),neg(L1_1)))> ')'\n",
      "|    '+' <factor or(and(neg(+F1),neg(+F2)),neg(+F1))>\n",
      "|    '-' <factor or(and(neg(+F1),neg(+F2)),neg(+F1))>\n",
      "|    <integer>\n",
      "|    <integer> '.' <integer>\n",
      "<expr or(and(neg(+F1),neg(+F2),neg(L1_1)),and(neg(+F1),neg(L1_1)))> ::=\n",
      "|    <term and(neg(+F1),neg(+F2))> ' + ' <expr and(neg(+F1),neg(+F2),neg(L2_2))>\n",
      "|    <term and(neg(+F1),neg(+F2))> ' - ' <expr and(neg(+F1),neg(+F2))>\n",
      "|    <term neg(+F1)> ' + ' <expr neg(+F1)>\n",
      "|    <term neg(+F1)> ' - ' <expr neg(+F1)>\n",
      "|    <term or(and(neg(+F1),neg(+F2),neg(L1_1)),and(neg(+F1),neg(L1_1)))>\n",
      "<term or(and(neg(+F1),neg(+F2),neg(L1_1)),and(neg(+F1),neg(L1_1)))> ::=\n",
      "|    <factor and(neg(+F1),neg(+F2))> ' * ' <term and(neg(+F1),neg(+F2))>\n",
      "|    <factor and(neg(+F1),neg(+F2))> ' / ' <term and(neg(+F1),neg(+F2))>\n",
      "|    <factor neg(+F1)> ' * ' <term neg(+F1)>\n",
      "|    <factor neg(+F1)> ' / ' <term neg(+F1)>\n",
      "|    <factor or(and(neg(+F1),neg(+F2),neg(L1_2)),and(neg(+F1),neg(L1_2)))>\n",
      "<factor or(and(neg(+F1),neg(+F2),neg(L1_2)),and(neg(+F1),neg(L1_2)))> ::=\n",
      "|    '+' <factor or(and(neg(+F1),neg(+F2)),neg(+F1))>\n",
      "|    '-' <factor or(and(neg(+F1),neg(+F2)),neg(+F1))>\n",
      "|    <integer>\n",
      "|    <integer> '.' <integer>\n",
      "<factor or(and(neg(+F1),neg(+F2)),neg(+F2))> ::=\n",
      "|    '(' <expr or(and(neg(+F1),neg(+F2),neg(L1_1)),neg(+F2))> ')'\n",
      "|    '+' <factor or(and(neg(+F1),neg(+F2)),neg(+F2))>\n",
      "|    '-' <factor or(and(neg(+F1),neg(+F2)),neg(+F2))>\n",
      "|    <integer>\n",
      "|    <integer> '.' <integer>\n",
      "<expr or(and(neg(+F1),neg(+F2),neg(L1_1)),neg(+F2))> ::=\n",
      "|    <term and(neg(+F1),neg(+F2))> ' + ' <expr and(neg(+F1),neg(+F2),neg(L2_2))>\n",
      "|    <term and(neg(+F1),neg(+F2))> ' - ' <expr and(neg(+F1),neg(+F2))>\n",
      "|    <term neg(+F2)> ' + ' <expr and(neg(+F2),neg(L2_2))>\n",
      "|    <term neg(+F2)> ' - ' <expr neg(+F2)>\n",
      "|    <term or(and(neg(+F1),neg(+F2),neg(L1_1)),neg(+F2))>\n",
      "<term or(and(neg(+F1),neg(+F2),neg(L1_1)),neg(+F2))> ::=\n",
      "|    <factor and(neg(+F1),neg(+F2))> ' * ' <term and(neg(+F1),neg(+F2))>\n",
      "|    <factor and(neg(+F1),neg(+F2))> ' / ' <term and(neg(+F1),neg(+F2))>\n",
      "|    <factor neg(+F2)> ' * ' <term neg(+F2)>\n",
      "|    <factor neg(+F2)> ' / ' <term neg(+F2)>\n",
      "|    <factor or(and(neg(+F1),neg(+F2),neg(L1_2)),neg(+F2))>\n",
      "<factor or(and(neg(+F1),neg(+F2),neg(L1_2)),neg(+F2))> ::=\n",
      "|    '(' <expr neg(+F2)> ')'\n",
      "|    '+' <factor or(and(neg(+F1),neg(+F2)),neg(+F2))>\n",
      "|    '-' <factor or(and(neg(+F1),neg(+F2)),neg(+F2))>\n",
      "|    <integer>\n",
      "|    <integer> '.' <integer>\n",
      "<factor or(neg(+F1),neg(+F2))> ::=\n",
      "|    '(' <expr or(and(neg(+F1),neg(+F2)),and(neg(+F1),neg(L1_1)),and(neg(+F2),neg(L1_1)),neg(+F2))> ')'\n",
      "|    '+' <factor or(neg(+F1),neg(+F2))>\n",
      "|    '-' <factor or(neg(+F1),neg(+F2))>\n",
      "|    <integer>\n",
      "|    <integer> '.' <integer>\n",
      "<expr or(and(neg(+F1),neg(+F2)),and(neg(+F1),neg(L1_1)),and(neg(+F2),neg(L1_1)),neg(+F2))> ::=\n",
      "|    <term and(neg(+F1),neg(+F2))> ' + ' <expr and(neg(+F1),neg(+F2),neg(L2_2))>\n",
      "|    <term and(neg(+F1),neg(+F2))> ' - ' <expr and(neg(+F1),neg(+F2))>\n",
      "|    <term neg(+F1)> ' + ' <expr neg(+F1)>\n",
      "|    <term neg(+F1)> ' - ' <expr neg(+F1)>\n",
      "|    <term neg(+F2)> ' + ' <expr and(neg(+F2),neg(L2_2))>\n",
      "|    <term neg(+F2)> ' - ' <expr neg(+F2)>\n",
      "|    <term or(and(neg(+F1),neg(+F2)),and(neg(+F1),neg(L1_1)),and(neg(+F2),neg(L1_1)),neg(+F2))>\n",
      "<term or(and(neg(+F1),neg(+F2)),and(neg(+F1),neg(L1_1)),and(neg(+F2),neg(L1_1)),neg(+F2))> ::=\n",
      "|    <factor and(neg(+F1),neg(+F2))> ' * ' <term and(neg(+F1),neg(+F2))>\n",
      "|    <factor and(neg(+F1),neg(+F2))> ' / ' <term and(neg(+F1),neg(+F2))>\n",
      "|    <factor neg(+F1)> ' * ' <term neg(+F1)>\n",
      "|    <factor neg(+F1)> ' / ' <term neg(+F1)>\n",
      "|    <factor neg(+F2)> ' * ' <term neg(+F2)>\n",
      "|    <factor neg(+F2)> ' / ' <term neg(+F2)>\n",
      "|    <factor or(and(neg(+F1),neg(+F2)),and(neg(+F1),neg(L1_2)),and(neg(+F2),neg(L1_2)),neg(+F2))>\n",
      "<factor or(and(neg(+F1),neg(+F2)),and(neg(+F1),neg(L1_2)),and(neg(+F2),neg(L1_2)),neg(+F2))> ::=\n",
      "|    '(' <expr or(and(neg(+F1),neg(+F2),neg(L1_1)),neg(+F2))> ')'\n",
      "|    '+' <factor or(and(neg(+F1),neg(+F2)),neg(+F1),neg(+F2))>\n",
      "|    '-' <factor or(and(neg(+F1),neg(+F2)),neg(+F1),neg(+F2))>\n",
      "|    <integer>\n",
      "|    <integer> '.' <integer>\n",
      "<factor or(and(neg(+F1),neg(+F2)),neg(+F1),neg(+F2))> ::=\n",
      "|    '(' <expr or(and(neg(+F1),neg(+F2),neg(L1_1)),and(neg(+F1),neg(L1_1)),neg(+F2))> ')'\n",
      "|    '+' <factor or(and(neg(+F1),neg(+F2)),neg(+F1),neg(+F2))>\n",
      "|    '-' <factor or(and(neg(+F1),neg(+F2)),neg(+F1),neg(+F2))>\n",
      "|    <integer>\n",
      "|    <integer> '.' <integer>\n",
      "<expr or(and(neg(+F1),neg(+F2),neg(L1_1)),and(neg(+F1),neg(L1_1)),neg(+F2))> ::=\n",
      "|    <term and(neg(+F1),neg(+F2))> ' + ' <expr and(neg(+F1),neg(+F2),neg(L2_2))>\n",
      "|    <term and(neg(+F1),neg(+F2))> ' - ' <expr and(neg(+F1),neg(+F2))>\n",
      "|    <term neg(+F1)> ' + ' <expr neg(+F1)>\n",
      "|    <term neg(+F1)> ' - ' <expr neg(+F1)>\n",
      "|    <term neg(+F2)> ' + ' <expr and(neg(+F2),neg(L2_2))>\n",
      "|    <term neg(+F2)> ' - ' <expr neg(+F2)>\n",
      "|    <term or(and(neg(+F1),neg(+F2),neg(L1_1)),and(neg(+F1),neg(L1_1)),neg(+F2))>\n",
      "<term or(and(neg(+F1),neg(+F2),neg(L1_1)),and(neg(+F1),neg(L1_1)),neg(+F2))> ::=\n",
      "|    <factor and(neg(+F1),neg(+F2))> ' * ' <term and(neg(+F1),neg(+F2))>\n",
      "|    <factor and(neg(+F1),neg(+F2))> ' / ' <term and(neg(+F1),neg(+F2))>\n",
      "|    <factor neg(+F1)> ' * ' <term neg(+F1)>\n",
      "|    <factor neg(+F1)> ' / ' <term neg(+F1)>\n",
      "|    <factor neg(+F2)> ' * ' <term neg(+F2)>\n",
      "|    <factor neg(+F2)> ' / ' <term neg(+F2)>\n",
      "|    <factor or(and(neg(+F1),neg(+F2),neg(L1_2)),and(neg(+F1),neg(L1_2)),neg(+F2))>\n",
      "<factor or(and(neg(+F1),neg(+F2),neg(L1_2)),and(neg(+F1),neg(L1_2)),neg(+F2))> ::=\n",
      "|    '(' <expr neg(+F2)> ')'\n",
      "|    '+' <factor or(and(neg(+F1),neg(+F2)),neg(+F1),neg(+F2))>\n",
      "|    '-' <factor or(and(neg(+F1),neg(+F2)),neg(+F1),neg(+F2))>\n",
      "|    <integer>\n",
      "|    <integer> '.' <integer>\n",
      "49 233\n"
     ]
    },
    {
     "data": {
      "text/plain": [
       "'<start or(neg(+F1),neg(+F2))>'"
      ]
     },
     "execution_count": 375,
     "metadata": {},
     "output_type": "execute_result"
    }
   ],
   "source": [
    "%%top\n",
    "Gs(negfaulty3_grammar)\n",
    "negfaulty3_start"
   ]
  },
  {
   "cell_type": "code",
   "execution_count": 376,
   "metadata": {},
   "outputs": [],
   "source": [
    "%%top\n",
    "negfaulty3_fuzzer = LimitFuzzer(negfaulty3_grammar)\n",
    "negfaulty3_parser = Parser(negfaulty3_grammar, canonical=True, start_symbol=negfaulty3_start)"
   ]
  },
  {
   "cell_type": "code",
   "execution_count": 377,
   "metadata": {},
   "outputs": [
    {
     "data": {
      "text/plain": [
       "False"
      ]
     },
     "execution_count": 377,
     "metadata": {},
     "output_type": "execute_result"
    }
   ],
   "source": [
    "%top is_cfg_empty(negfaulty3_grammar, negfaulty3_start)"
   ]
  },
  {
   "cell_type": "code",
   "execution_count": 378,
   "metadata": {},
   "outputs": [],
   "source": [
    "%top assert negfaulty3_parser.can_parse('1')"
   ]
  },
  {
   "cell_type": "code",
   "execution_count": 379,
   "metadata": {},
   "outputs": [
    {
     "name": "stdout",
     "output_type": "stream",
     "text": [
      "3.36 * -(-1.2 / (8.2) * 4.6 / 0.2 - 4.1 + 7 + 0.5 - 3)\n",
      "(+1 / -1.96) - +-1.140 / 3.55 + 78.255 * -(2 / 9.7 - 9.3 - 1)\n",
      "91 / 303 * +3 + --++01 - +4 / -16.148 / -+-3 / -(4.7) / (2.6)\n",
      "-882 / (-(4) * (2.9 - 2) * +6 - 4 * -0.2 - +0.2) + 7 + -6 * ((9.9) * 5) + (8 + 3.0 + 5.6 - 5.8) + (9 + 2 + 0.3 + 3.0 + 8 - 4) / +(1.3) * 0.2 + (7) / -9.1 - (0) / 7 * 1.2 + 1.3 / 9.0 + 2.4 - 0.5\n",
      "524 * 1 + -(04.51 / +0.7 / 8.8 / 9.0 + -0 * 1 - 8 - 5) - (2 + -9 * 6.0 * 2 + 0.0 + 5.8 + 3.9 - 6.9) * -++(0.8) * ++(8.8) * 70.5 / -9.6 - ((5.8) / 9.0 * 9.8) * (6 - 5 + 2.8 - 6.0) + +9.0 / 3.47 - 77 / 5 * 6 / 0.0 + -7 + 5.5 * 4.2 + 4 + 8 - 3.6\n",
      "+6 / (-+7.5) / --+10.38 / +-(9) / 4.6 / (9) / (9) * 5 / 5 - 948181.523 * -(7 * 3 + 4.9 * 5 + 7 - 0) / 015 * -++3 / 7 / (2) * 9 / 5.6\n",
      "--(+1 * 4 / 7.8 - 9.6 / 1.5 / 7.2 + 3 * 9 - 8.4) * (-+2.8) * -8.9 / (2 / 1.7) / 0.0 * 7.9 * +2 / 7 / 8.2\n",
      "(+6.5 * +(9 - 6) * +-5 + -13 + +-7 / -3 + 7 / 2 / 7.2 + 8.3 * 7.7 - 3) / 4438 * 5.9 + 5.8 * 23.1 + ++(5.5) * -++8.6 / (9 + 2.9 - 5) * 6 * +7.5 - +1.41 * -01 - 4 * -+8.7 * 2 * 3.5 / 9 + (2.6 + 9.7 + 1 - 1.0) - -8 * 9\n",
      "+0 + 3594.292 + -+00.8 / -+-8 / -5.73 * +7.1 + 097 / 436.59 / +(9.4) / +3 + ---4 - (4.1 + 6.2 - 2)\n",
      "(295.1 / (1 / 8 - 8.0) * -(8) / +0 * 0 + -8 / 0 * (9) - -0.7 * (0) + 5.1 - 1 / 6.8 - 2 + 6 + 0 + 8.1 - 8) * (+2.2 + 24.68 - 6 * 4) / +06 / 4306 + +14 * 60.7 / 50 / (6 / 3.6 - 5.4 - 2) / (8.0 - 5.9) / -2.3 / 7 * 5.1 - 57 - (7 - 7 / 3.9 - 8.2) / (9.6 / 5 - 1 + 8.5 + 2 - 7.7) * 05.09 - -++3.8 * +3.4 * +4 + -(0) + -1 - 0.4 * 4.1 + 2 + 2.7 - 3\n"
     ]
    }
   ],
   "source": [
    "%%top\n",
    "for i in range(10):\n",
    "    # this is negate and(faulty1, faulty2) == or(neg(faulty1), neg(faulty2))\n",
    "    s = negfaulty3_fuzzer.fuzz(key=negfaulty3_start)\n",
    "    print(s)\n",
    "    assert negfaulty3_parser.can_parse(s)\n",
    "    assert negfaulty1_parser.can_parse(s) or negfaulty2_parser.can_parse(s)\n",
    "    assert not (faulty1_parser.can_parse(s) and faulty2_parser.can_parse(s))"
   ]
  },
  {
   "cell_type": "markdown",
   "metadata": {},
   "source": [
    "Tricks if undefined refinements remain: The references will be `and(,neg(...))` format, which means they are actually `neg(...)`. So, find `...` in the refined, and then go for a second round with that as the start key."
   ]
  },
  {
   "cell_type": "markdown",
   "metadata": {},
   "source": [
    "## Difference\n",
    "\n",
    "Need to identify and remove duplicate keys. Note that our `partial orders` are still primitive. We now have the machinery to do it right."
   ]
  },
  {
   "cell_type": "code",
   "execution_count": 380,
   "metadata": {},
   "outputs": [
    {
     "data": {
      "text/plain": [
       "[]"
      ]
     },
     "execution_count": 380,
     "metadata": {},
     "output_type": "execute_result"
    }
   ],
   "source": [
    "EXCEPTION_HAPPENED"
   ]
  },
  {
   "cell_type": "code",
   "execution_count": 381,
   "metadata": {},
   "outputs": [],
   "source": [
    "def difference_grammars(grammarA, startA, grammarB, startB):\n",
    "    if is_base_key(startB):\n",
    "        return {'<start>': []}, '<start>' # empty\n",
    "    base_g = normalize_grammar(grammarA)\n",
    "    base_s = normalize(startA) \n",
    "    negB_g, negB_s, refs = negate_grammar_(grammarB, startB, base_g, base_s)\n",
    "    negB_g = complete(negB_g, negB_s)\n",
    "    AminusB_g, AminusB_s, refs = and_grammars_(grammarA, startA, negB_g, negB_s)\n",
    "    AminusB_g = complete(AminusB_g, AminusB_s)\n",
    "    return AminusB_g, AminusB_s"
   ]
  },
  {
   "cell_type": "code",
   "execution_count": 382,
   "metadata": {
    "scrolled": true
   },
   "outputs": [
    {
     "data": {
      "text/plain": [
       "{'<start>': ('<start or(+F1,+F2)>', []),\n",
       " '<expr>': ('<expr>',\n",
       "  [('<expr or(+F1,+F2)>', [('<expr or(+F1,+F2,L2_2)>', [])])]),\n",
       " '<term>': ('<term>', [('<term or(+F1,+F2)>', [])]),\n",
       " '<factor>': ('<factor>', [('<factor or(+F1,+F2)>', [])]),\n",
       " '<integer>': ('<integer>', []),\n",
       " '<digit>': ('<digit>', [])}"
      ]
     },
     "execution_count": 382,
     "metadata": {},
     "output_type": "execute_result"
    }
   ],
   "source": [
    "identify_partial_orders(or1_grammar)"
   ]
  },
  {
   "cell_type": "markdown",
   "metadata": {},
   "source": [
    "Identifying partial orders is simple once you have the machinary for `and` and `neg`. To find if a given nonterminal `A` is more refined than `B`, do `A-B`. This should be empty."
   ]
  },
  {
   "cell_type": "code",
   "execution_count": 383,
   "metadata": {},
   "outputs": [],
   "source": [
    "def is_keyA_more_refined_than_keyB(keyA, keyB, porder, grammar):\n",
    "    # essential idea of comparing two keys is this:\n",
    "    # One key is smaller than the other if for any given rule in the first,\n",
    "    # there exist another rule that is larger than that in the second key.\n",
    "    # a rule is smaller than another if all tokens in that rule is either equal\n",
    "    # (matching) or smaller than\n",
    "    # the corresponding token in the other.\n",
    "    \n",
    "    A_B_g, A_B_s = difference_grammars(grammar, keyA, grammar, keyB)\n",
    "    if is_cfg_empty(A_B_g, A_B_s): #A is smaller, so A-B should be empty.\n",
    "        return True\n",
    "    else:\n",
    "        return False"
   ]
  },
  {
   "cell_type": "code",
   "execution_count": 384,
   "metadata": {},
   "outputs": [],
   "source": [
    "def insert_into_porder(my_key, porder, grammar):\n",
    "    def update_tree(my_key, tree, grammar):\n",
    "        if tree is None: return True, (my_key, [])\n",
    "        k, children = tree\n",
    "        if is_base_key(my_key):\n",
    "            if not is_base_key(k):\n",
    "                return True, (my_key, [tree])\n",
    "            else:\n",
    "                return False, tree\n",
    " \n",
    "        v = is_keyA_more_refined_than_keyB(my_key, k, porder, grammar)\n",
    "        if is_base_key(k): v = True\n",
    "        # if v is unknown...\n",
    "        if v: # we should go into the children\n",
    "            if not children:\n",
    "                #print('>', 0)\n",
    "                return True, (k, [(my_key, [])])\n",
    "            new_children = []\n",
    "            updated = False\n",
    "            for c in children:\n",
    "                u, c_ = update_tree(my_key, c, grammar)\n",
    "                if u: updated = True\n",
    "                new_children.append(c_)\n",
    "            #print('>', 1)\n",
    "            return updated, (k, new_children)\n",
    "        else:\n",
    "            v = is_keyA_more_refined_than_keyB(k, my_key, porder, grammar)\n",
    "            if v:\n",
    "                #this should be the parent of tree\n",
    "                #print('>', 2)\n",
    "                return True, (my_key, [tree])\n",
    "            else:\n",
    "                # add as a sibling -- but only if we have evidence.\n",
    "                if v is not None:\n",
    "                    #print('>', 3)\n",
    "                    return True, (k, children + [(my_key, [])])\n",
    "                else:\n",
    "                    return False, tree\n",
    "    key = normalize(my_key)\n",
    "    updated, v = update_tree(my_key, porder.get(key, None), grammar)\n",
    "    if updated:\n",
    "        porder[key] = v\n",
    "    return updated"
   ]
  },
  {
   "cell_type": "code",
   "execution_count": 385,
   "metadata": {},
   "outputs": [],
   "source": [
    "#%%top\n",
    "#identify_partial_orders(or1_grammar)"
   ]
  },
  {
   "cell_type": "code",
   "execution_count": 386,
   "metadata": {},
   "outputs": [
    {
     "name": "stdout",
     "output_type": "stream",
     "text": [
      "<start or(+F1,+F2)> ::=\n",
      "|    <expr or(+F1,+F2)>\n",
      "<expr or(+F1,+F2)> ::=\n",
      "|    <term or(+F1,+F2)>\n",
      "|    <term or(+F1,+F2)> ' + ' <expr>\n",
      "|    <term or(+F1,+F2)> ' - ' <expr>\n",
      "|    <term> ' + ' <expr or(+F1,+F2,L2_2)>\n",
      "|    <term> ' - ' <expr or(+F1,+F2)>\n",
      "<term or(+F1,+F2)> ::=\n",
      "|    <factor or(+F1,+F2)>\n",
      "|    <factor or(+F1,+F2)> ' * ' <term>\n",
      "|    <factor or(+F1,+F2)> ' / ' <term>\n",
      "|    <factor> ' * ' <term or(+F1,+F2)>\n",
      "|    <factor> ' / ' <term or(+F1,+F2)>\n",
      "<expr> ::=\n",
      "|    <term>\n",
      "|    <term> ' + ' <expr>\n",
      "|    <term> ' - ' <expr>\n",
      "<term> ::=\n",
      "|    <factor>\n",
      "|    <factor> ' * ' <term>\n",
      "|    <factor> ' / ' <term>\n",
      "<expr or(+F1,+F2,L2_2)> ::=\n",
      "|    <term or(+F1,+F2)>\n",
      "|    <term or(+F1,+F2)> ' + ' <expr>\n",
      "|    <term or(+F1,+F2)> ' - ' <expr>\n",
      "|    <term>\n",
      "|    <term> ' + ' <expr or(+F1,+F2,L2_2)>\n",
      "|    <term> ' - ' <expr or(+F1,+F2)>\n",
      "<factor or(+F1,+F2)> ::=\n",
      "|    '(' <expr or(+F1,+F2,L1_1)> ')'\n",
      "|    '+' <factor or(+F1,+F2)>\n",
      "|    '-' <factor or(+F1,+F2)>\n",
      "<factor> ::=\n",
      "|    '(' <expr> ')'\n",
      "|    '+' <factor>\n",
      "|    '-' <factor>\n",
      "|    <integer>\n",
      "|    <integer> '.' <integer>\n",
      "<expr or(+F1,+F2,L1_1)> ::=\n",
      "|    <term or(+F1,+F2)> ' + ' <expr>\n",
      "|    <term or(+F1,+F2)> ' - ' <expr>\n",
      "|    <term or(+F1,+F2,L1_1)>\n",
      "|    <term> ' + ' <expr or(+F1,+F2,L2_2)>\n",
      "|    <term> ' - ' <expr or(+F1,+F2)>\n",
      "<term or(+F1,+F2,L1_1)> ::=\n",
      "|    <factor or(+F1,+F2)> ' * ' <term>\n",
      "|    <factor or(+F1,+F2)> ' / ' <term>\n",
      "|    <factor or(+F1,+F2,L1_2)>\n",
      "|    <factor> ' * ' <term or(+F1,+F2)>\n",
      "|    <factor> ' / ' <term or(+F1,+F2)>\n",
      "<factor or(+F1,+F2,L1_2)> ::=\n",
      "|    '(' <expr or(+F1,+F2,L1_1)> ')'\n",
      "|    '(' <expr> ')'\n",
      "|    '+' <factor or(+F1,+F2)>\n",
      "|    '-' <factor or(+F1,+F2)>\n",
      "<integer> ::=\n",
      "|    <digit>\n",
      "|    <digit> <integer>\n",
      "<digit> ::=\n",
      "|    '0'\n",
      "|    '1'\n",
      "|    '2'\n",
      "|    '3'\n",
      "|    '4'\n",
      "|    '5'\n",
      "|    '6'\n",
      "|    '7'\n",
      "|    '8'\n",
      "|    '9'\n",
      "13 57\n"
     ]
    },
    {
     "data": {
      "text/plain": [
       "'<start or(+F1,+F2)>'"
      ]
     },
     "execution_count": 386,
     "metadata": {},
     "output_type": "execute_result"
    }
   ],
   "source": [
    "%%top\n",
    "Gs(or1_grammar)\n",
    "or1_start"
   ]
  },
  {
   "cell_type": "code",
   "execution_count": 387,
   "metadata": {},
   "outputs": [
    {
     "name": "stdout",
     "output_type": "stream",
     "text": [
      "<start and(+F1,+F2)> ::=\n",
      "|    <expr and(+F1,+F2)>\n",
      "<expr and(+F1,+F2)> ::=\n",
      "|    <term +F1> ' + ' <expr +F2>\n",
      "|    <term +F1> ' + ' <expr L2_2>\n",
      "|    <term +F1> ' - ' <expr +F2>\n",
      "|    <term +F2> ' + ' <expr +F1>\n",
      "|    <term +F2> ' - ' <expr +F1>\n",
      "|    <term and(+F1,+F2)>\n",
      "|    <term and(+F1,+F2)> ' + ' <expr>\n",
      "|    <term and(+F1,+F2)> ' - ' <expr>\n",
      "|    <term> ' + ' <expr and(+F1,+F2)>\n",
      "|    <term> ' + ' <expr and(+F1,L2_2)>\n",
      "|    <term> ' - ' <expr and(+F1,+F2)>\n",
      "<term +F1> ::=\n",
      "|    <factor +F1>\n",
      "|    <factor +F1> ' * ' <term>\n",
      "|    <factor +F1> ' / ' <term>\n",
      "|    <factor> ' * ' <term +F1>\n",
      "|    <factor> ' / ' <term +F1>\n",
      "<expr +F2> ::=\n",
      "|    <term +F2>\n",
      "|    <term +F2> ' + ' <expr>\n",
      "|    <term +F2> ' - ' <expr>\n",
      "|    <term> ' + ' <expr +F2>\n",
      "|    <term> ' + ' <expr L2_2>\n",
      "|    <term> ' - ' <expr +F2>\n",
      "<expr L2_2> ::=\n",
      "|    <term>\n",
      "<term +F2> ::=\n",
      "|    <factor +F2>\n",
      "|    <factor +F2> ' * ' <term>\n",
      "|    <factor +F2> ' / ' <term>\n",
      "|    <factor> ' * ' <term +F2>\n",
      "|    <factor> ' / ' <term +F2>\n",
      "<expr +F1> ::=\n",
      "|    <term +F1>\n",
      "|    <term +F1> ' + ' <expr>\n",
      "|    <term +F1> ' - ' <expr>\n",
      "|    <term> ' + ' <expr +F1>\n",
      "|    <term> ' - ' <expr +F1>\n",
      "<term and(+F1,+F2)> ::=\n",
      "|    <factor +F1> ' * ' <term +F2>\n",
      "|    <factor +F1> ' / ' <term +F2>\n",
      "|    <factor +F2> ' * ' <term +F1>\n",
      "|    <factor +F2> ' / ' <term +F1>\n",
      "|    <factor and(+F1,+F2)>\n",
      "|    <factor and(+F1,+F2)> ' * ' <term>\n",
      "|    <factor and(+F1,+F2)> ' / ' <term>\n",
      "|    <factor> ' * ' <term and(+F1,+F2)>\n",
      "|    <factor> ' / ' <term and(+F1,+F2)>\n",
      "<expr> ::=\n",
      "|    <term>\n",
      "|    <term> ' + ' <expr>\n",
      "|    <term> ' - ' <expr>\n",
      "<term> ::=\n",
      "|    <factor>\n",
      "|    <factor> ' * ' <term>\n",
      "|    <factor> ' / ' <term>\n",
      "<expr and(+F1,L2_2)> ::=\n",
      "|    <term +F1>\n",
      "<factor +F1> ::=\n",
      "|    '(' <expr +F1> ')'\n",
      "|    '(' <expr L1_1> ')'\n",
      "|    '+' <factor +F1>\n",
      "|    '-' <factor +F1>\n",
      "<factor> ::=\n",
      "|    '(' <expr> ')'\n",
      "|    '+' <factor>\n",
      "|    '-' <factor>\n",
      "|    <integer>\n",
      "|    <integer> '.' <integer>\n",
      "<expr L1_1> ::=\n",
      "|    <term L1_1>\n",
      "<term L1_1> ::=\n",
      "|    <factor L1_2>\n",
      "<factor L1_2> ::=\n",
      "|    '(' <expr> ')'\n",
      "<integer> ::=\n",
      "|    <digit>\n",
      "|    <digit> <integer>\n",
      "<digit> ::=\n",
      "|    '0'\n",
      "|    '1'\n",
      "|    '2'\n",
      "|    '3'\n",
      "|    '4'\n",
      "|    '5'\n",
      "|    '6'\n",
      "|    '7'\n",
      "|    '8'\n",
      "|    '9'\n",
      "<factor +F2> ::=\n",
      "|    '(' <expr +F2> ')'\n",
      "|    '+' <factor +F2>\n",
      "|    '-' <factor +F2>\n",
      "<factor and(+F1,+F2)> ::=\n",
      "|    '(' <expr and(+F1,+F2)> ')'\n",
      "|    '(' <expr and(+F2,L1_1)> ')'\n",
      "|    '+' <factor and(+F1,+F2)>\n",
      "|    '-' <factor and(+F1,+F2)>\n",
      "<expr and(+F2,L1_1)> ::=\n",
      "|    <term and(+F2,L1_1)>\n",
      "<term and(+F2,L1_1)> ::=\n",
      "|    <factor and(+F2,L1_2)>\n",
      "<factor and(+F2,L1_2)> ::=\n",
      "|    '(' <expr +F2> ')'\n",
      "23 84\n"
     ]
    },
    {
     "data": {
      "text/plain": [
       "'<start and(+F1,+F2)>'"
      ]
     },
     "execution_count": 387,
     "metadata": {},
     "output_type": "execute_result"
    }
   ],
   "source": [
    "%%top\n",
    "Gs(and1_grammar)\n",
    "and1_start"
   ]
  },
  {
   "cell_type": "markdown",
   "metadata": {},
   "source": [
    "# Experiments"
   ]
  },
  {
   "cell_type": "code",
   "execution_count": 388,
   "metadata": {},
   "outputs": [
    {
     "data": {
      "text/plain": [
       "[]"
      ]
     },
     "execution_count": 388,
     "metadata": {},
     "output_type": "execute_result"
    }
   ],
   "source": [
    "EXCEPTION_HAPPENED"
   ]
  },
  {
   "cell_type": "markdown",
   "metadata": {},
   "source": [
    "## Fault A (exactly 1)"
   ]
  },
  {
   "cell_type": "code",
   "execution_count": 389,
   "metadata": {},
   "outputs": [],
   "source": [
    "#%%top\n",
    "exprA_input = '((1))'\n",
    "exprA_tree = list(expr_parser.parse(exprA_input))[0]"
   ]
  },
  {
   "cell_type": "code",
   "execution_count": 390,
   "metadata": {},
   "outputs": [
    {
     "data": {
      "text/plain": [
       "'((1))'"
      ]
     },
     "execution_count": 390,
     "metadata": {},
     "output_type": "execute_result"
    }
   ],
   "source": [
    "%top tree_to_str(exprA_tree)"
   ]
  },
  {
   "cell_type": "code",
   "execution_count": 391,
   "metadata": {},
   "outputs": [
    {
     "data": {
      "image/svg+xml": [
       "<?xml version=\"1.0\" encoding=\"UTF-8\" standalone=\"no\"?>\n",
       "<!DOCTYPE svg PUBLIC \"-//W3C//DTD SVG 1.1//EN\"\n",
       " \"http://www.w3.org/Graphics/SVG/1.1/DTD/svg11.dtd\">\n",
       "<!-- Generated by graphviz version 2.44.1 (20200629.0846)\n",
       " -->\n",
       "<!-- Pages: 1 -->\n",
       "<svg width=\"107pt\" height=\"815pt\"\n",
       " viewBox=\"0.00 0.00 107.00 815.00\" xmlns=\"http://www.w3.org/2000/svg\" xmlns:xlink=\"http://www.w3.org/1999/xlink\">\n",
       "<g id=\"graph0\" class=\"graph\" transform=\"scale(1 1) rotate(0) translate(4 811)\">\n",
       "<polygon fill=\"white\" stroke=\"transparent\" points=\"-4,4 -4,-811 103,-811 103,4 -4,4\"/>\n",
       "<!-- (0, 0) -->\n",
       "<g id=\"node1\" class=\"node\">\n",
       "<title>(0, 0)</title>\n",
       "<text text-anchor=\"middle\" x=\"49.5\" y=\"-795.8\" font-family=\"Times,serif\" font-size=\"14.00\">&lt;start&gt; </text>\n",
       "</g>\n",
       "<!-- (1, 0) -->\n",
       "<g id=\"node2\" class=\"node\">\n",
       "<title>(1, 0)</title>\n",
       "<text text-anchor=\"middle\" x=\"49.5\" y=\"-729.8\" font-family=\"Times,serif\" font-size=\"14.00\">&lt;expr&gt; </text>\n",
       "</g>\n",
       "<!-- (0, 0)&#45;&gt;(1, 0) -->\n",
       "<g id=\"edge1\" class=\"edge\">\n",
       "<title>(0, 0)&#45;&gt;(1, 0)</title>\n",
       "<path fill=\"none\" stroke=\"black\" d=\"M49.5,-791.65C49.5,-782.07 49.5,-764.38 49.5,-751.2\"/>\n",
       "<polygon fill=\"black\" stroke=\"black\" points=\"53,-751.11 49.5,-741.11 46,-751.11 53,-751.11\"/>\n",
       "<text text-anchor=\"middle\" x=\"53\" y=\"-762.8\" font-family=\"Times,serif\" font-size=\"14.00\">0</text>\n",
       "</g>\n",
       "<!-- (2, 0) -->\n",
       "<g id=\"node3\" class=\"node\">\n",
       "<title>(2, 0)</title>\n",
       "<text text-anchor=\"middle\" x=\"49.5\" y=\"-663.8\" font-family=\"Times,serif\" font-size=\"14.00\">&lt;term&gt; </text>\n",
       "</g>\n",
       "<!-- (1, 0)&#45;&gt;(2, 0) -->\n",
       "<g id=\"edge2\" class=\"edge\">\n",
       "<title>(1, 0)&#45;&gt;(2, 0)</title>\n",
       "<path fill=\"none\" stroke=\"black\" d=\"M49.5,-725.65C49.5,-716.07 49.5,-698.38 49.5,-685.2\"/>\n",
       "<polygon fill=\"black\" stroke=\"black\" points=\"53,-685.11 49.5,-675.11 46,-685.11 53,-685.11\"/>\n",
       "<text text-anchor=\"middle\" x=\"53\" y=\"-696.8\" font-family=\"Times,serif\" font-size=\"14.00\">0</text>\n",
       "</g>\n",
       "<!-- (3, 0) -->\n",
       "<g id=\"node4\" class=\"node\">\n",
       "<title>(3, 0)</title>\n",
       "<text text-anchor=\"middle\" x=\"49.5\" y=\"-597.8\" font-family=\"Times,serif\" font-size=\"14.00\">&lt;factor&gt; </text>\n",
       "</g>\n",
       "<!-- (2, 0)&#45;&gt;(3, 0) -->\n",
       "<g id=\"edge3\" class=\"edge\">\n",
       "<title>(2, 0)&#45;&gt;(3, 0)</title>\n",
       "<path fill=\"none\" stroke=\"black\" d=\"M49.5,-659.65C49.5,-650.07 49.5,-632.38 49.5,-619.2\"/>\n",
       "<polygon fill=\"black\" stroke=\"black\" points=\"53,-619.11 49.5,-609.11 46,-619.11 53,-619.11\"/>\n",
       "<text text-anchor=\"middle\" x=\"53\" y=\"-630.8\" font-family=\"Times,serif\" font-size=\"14.00\">0</text>\n",
       "</g>\n",
       "<!-- (4, 0) -->\n",
       "<g id=\"node5\" class=\"node\">\n",
       "<title>(4, 0)</title>\n",
       "<text text-anchor=\"middle\" x=\"4.5\" y=\"-531.8\" font-family=\"Times,serif\" font-size=\"14.00\">( </text>\n",
       "</g>\n",
       "<!-- (3, 0)&#45;&gt;(4, 0) -->\n",
       "<g id=\"edge4\" class=\"edge\">\n",
       "<title>(3, 0)&#45;&gt;(4, 0)</title>\n",
       "<path fill=\"none\" stroke=\"black\" d=\"M44.68,-593.65C37.68,-583.69 24.49,-564.93 15.14,-551.63\"/>\n",
       "<polygon fill=\"black\" stroke=\"black\" points=\"17.76,-549.28 9.15,-543.11 12.03,-553.3 17.76,-549.28\"/>\n",
       "<text text-anchor=\"middle\" x=\"35\" y=\"-564.8\" font-family=\"Times,serif\" font-size=\"14.00\">0</text>\n",
       "</g>\n",
       "<!-- (5, 1) -->\n",
       "<g id=\"node6\" class=\"node\">\n",
       "<title>(5, 1)</title>\n",
       "<text text-anchor=\"middle\" x=\"49.5\" y=\"-531.8\" font-family=\"Times,serif\" font-size=\"14.00\">&lt;expr&gt; </text>\n",
       "</g>\n",
       "<!-- (3, 0)&#45;&gt;(5, 1) -->\n",
       "<g id=\"edge5\" class=\"edge\">\n",
       "<title>(3, 0)&#45;&gt;(5, 1)</title>\n",
       "<path fill=\"none\" stroke=\"black\" d=\"M49.5,-593.65C49.5,-584.07 49.5,-566.38 49.5,-553.2\"/>\n",
       "<polygon fill=\"black\" stroke=\"black\" points=\"53,-553.11 49.5,-543.11 46,-553.11 53,-553.11\"/>\n",
       "<text text-anchor=\"middle\" x=\"53\" y=\"-564.8\" font-family=\"Times,serif\" font-size=\"14.00\">1</text>\n",
       "</g>\n",
       "<!-- (16, 2) -->\n",
       "<g id=\"node17\" class=\"node\">\n",
       "<title>(16, 2)</title>\n",
       "<text text-anchor=\"middle\" x=\"94.5\" y=\"-531.8\" font-family=\"Times,serif\" font-size=\"14.00\">) </text>\n",
       "</g>\n",
       "<!-- (3, 0)&#45;&gt;(16, 2) -->\n",
       "<g id=\"edge16\" class=\"edge\">\n",
       "<title>(3, 0)&#45;&gt;(16, 2)</title>\n",
       "<path fill=\"none\" stroke=\"black\" d=\"M54.32,-593.65C61.32,-583.69 74.51,-564.93 83.86,-551.63\"/>\n",
       "<polygon fill=\"black\" stroke=\"black\" points=\"86.97,-553.3 89.85,-543.11 81.24,-549.28 86.97,-553.3\"/>\n",
       "<text text-anchor=\"middle\" x=\"80\" y=\"-564.8\" font-family=\"Times,serif\" font-size=\"14.00\">2</text>\n",
       "</g>\n",
       "<!-- (6, 0) -->\n",
       "<g id=\"node7\" class=\"node\">\n",
       "<title>(6, 0)</title>\n",
       "<text text-anchor=\"middle\" x=\"49.5\" y=\"-465.8\" font-family=\"Times,serif\" font-size=\"14.00\">&lt;term&gt; </text>\n",
       "</g>\n",
       "<!-- (5, 1)&#45;&gt;(6, 0) -->\n",
       "<g id=\"edge6\" class=\"edge\">\n",
       "<title>(5, 1)&#45;&gt;(6, 0)</title>\n",
       "<path fill=\"none\" stroke=\"black\" d=\"M49.5,-527.65C49.5,-518.07 49.5,-500.38 49.5,-487.2\"/>\n",
       "<polygon fill=\"black\" stroke=\"black\" points=\"53,-487.11 49.5,-477.11 46,-487.11 53,-487.11\"/>\n",
       "<text text-anchor=\"middle\" x=\"53\" y=\"-498.8\" font-family=\"Times,serif\" font-size=\"14.00\">0</text>\n",
       "</g>\n",
       "<!-- (7, 0) -->\n",
       "<g id=\"node8\" class=\"node\">\n",
       "<title>(7, 0)</title>\n",
       "<text text-anchor=\"middle\" x=\"49.5\" y=\"-399.8\" font-family=\"Times,serif\" font-size=\"14.00\">&lt;factor&gt; </text>\n",
       "</g>\n",
       "<!-- (6, 0)&#45;&gt;(7, 0) -->\n",
       "<g id=\"edge7\" class=\"edge\">\n",
       "<title>(6, 0)&#45;&gt;(7, 0)</title>\n",
       "<path fill=\"none\" stroke=\"black\" d=\"M49.5,-461.65C49.5,-452.07 49.5,-434.38 49.5,-421.2\"/>\n",
       "<polygon fill=\"black\" stroke=\"black\" points=\"53,-421.11 49.5,-411.11 46,-421.11 53,-421.11\"/>\n",
       "<text text-anchor=\"middle\" x=\"53\" y=\"-432.8\" font-family=\"Times,serif\" font-size=\"14.00\">0</text>\n",
       "</g>\n",
       "<!-- (8, 0) -->\n",
       "<g id=\"node9\" class=\"node\">\n",
       "<title>(8, 0)</title>\n",
       "<text text-anchor=\"middle\" x=\"4.5\" y=\"-333.8\" font-family=\"Times,serif\" font-size=\"14.00\">( </text>\n",
       "</g>\n",
       "<!-- (7, 0)&#45;&gt;(8, 0) -->\n",
       "<g id=\"edge8\" class=\"edge\">\n",
       "<title>(7, 0)&#45;&gt;(8, 0)</title>\n",
       "<path fill=\"none\" stroke=\"black\" d=\"M44.68,-395.65C37.68,-385.69 24.49,-366.93 15.14,-353.63\"/>\n",
       "<polygon fill=\"black\" stroke=\"black\" points=\"17.76,-351.28 9.15,-345.11 12.03,-355.3 17.76,-351.28\"/>\n",
       "<text text-anchor=\"middle\" x=\"35\" y=\"-366.8\" font-family=\"Times,serif\" font-size=\"14.00\">0</text>\n",
       "</g>\n",
       "<!-- (9, 1) -->\n",
       "<g id=\"node10\" class=\"node\">\n",
       "<title>(9, 1)</title>\n",
       "<text text-anchor=\"middle\" x=\"49.5\" y=\"-333.8\" font-family=\"Times,serif\" font-size=\"14.00\">&lt;expr&gt; </text>\n",
       "</g>\n",
       "<!-- (7, 0)&#45;&gt;(9, 1) -->\n",
       "<g id=\"edge9\" class=\"edge\">\n",
       "<title>(7, 0)&#45;&gt;(9, 1)</title>\n",
       "<path fill=\"none\" stroke=\"black\" d=\"M49.5,-395.65C49.5,-386.07 49.5,-368.38 49.5,-355.2\"/>\n",
       "<polygon fill=\"black\" stroke=\"black\" points=\"53,-355.11 49.5,-345.11 46,-355.11 53,-355.11\"/>\n",
       "<text text-anchor=\"middle\" x=\"53\" y=\"-366.8\" font-family=\"Times,serif\" font-size=\"14.00\">1</text>\n",
       "</g>\n",
       "<!-- (15, 2) -->\n",
       "<g id=\"node16\" class=\"node\">\n",
       "<title>(15, 2)</title>\n",
       "<text text-anchor=\"middle\" x=\"94.5\" y=\"-333.8\" font-family=\"Times,serif\" font-size=\"14.00\">) </text>\n",
       "</g>\n",
       "<!-- (7, 0)&#45;&gt;(15, 2) -->\n",
       "<g id=\"edge15\" class=\"edge\">\n",
       "<title>(7, 0)&#45;&gt;(15, 2)</title>\n",
       "<path fill=\"none\" stroke=\"black\" d=\"M54.32,-395.65C61.32,-385.69 74.51,-366.93 83.86,-353.63\"/>\n",
       "<polygon fill=\"black\" stroke=\"black\" points=\"86.97,-355.3 89.85,-345.11 81.24,-351.28 86.97,-355.3\"/>\n",
       "<text text-anchor=\"middle\" x=\"80\" y=\"-366.8\" font-family=\"Times,serif\" font-size=\"14.00\">2</text>\n",
       "</g>\n",
       "<!-- (10, 0) -->\n",
       "<g id=\"node11\" class=\"node\">\n",
       "<title>(10, 0)</title>\n",
       "<text text-anchor=\"middle\" x=\"49.5\" y=\"-267.8\" font-family=\"Times,serif\" font-size=\"14.00\">&lt;term&gt; </text>\n",
       "</g>\n",
       "<!-- (9, 1)&#45;&gt;(10, 0) -->\n",
       "<g id=\"edge10\" class=\"edge\">\n",
       "<title>(9, 1)&#45;&gt;(10, 0)</title>\n",
       "<path fill=\"none\" stroke=\"black\" d=\"M49.5,-329.65C49.5,-320.07 49.5,-302.38 49.5,-289.2\"/>\n",
       "<polygon fill=\"black\" stroke=\"black\" points=\"53,-289.11 49.5,-279.11 46,-289.11 53,-289.11\"/>\n",
       "<text text-anchor=\"middle\" x=\"53\" y=\"-300.8\" font-family=\"Times,serif\" font-size=\"14.00\">0</text>\n",
       "</g>\n",
       "<!-- (11, 0) -->\n",
       "<g id=\"node12\" class=\"node\">\n",
       "<title>(11, 0)</title>\n",
       "<text text-anchor=\"middle\" x=\"49.5\" y=\"-201.8\" font-family=\"Times,serif\" font-size=\"14.00\">&lt;factor&gt; </text>\n",
       "</g>\n",
       "<!-- (10, 0)&#45;&gt;(11, 0) -->\n",
       "<g id=\"edge11\" class=\"edge\">\n",
       "<title>(10, 0)&#45;&gt;(11, 0)</title>\n",
       "<path fill=\"none\" stroke=\"black\" d=\"M49.5,-263.65C49.5,-254.07 49.5,-236.38 49.5,-223.2\"/>\n",
       "<polygon fill=\"black\" stroke=\"black\" points=\"53,-223.11 49.5,-213.11 46,-223.11 53,-223.11\"/>\n",
       "<text text-anchor=\"middle\" x=\"53\" y=\"-234.8\" font-family=\"Times,serif\" font-size=\"14.00\">0</text>\n",
       "</g>\n",
       "<!-- (12, 0) -->\n",
       "<g id=\"node13\" class=\"node\">\n",
       "<title>(12, 0)</title>\n",
       "<text text-anchor=\"middle\" x=\"49.5\" y=\"-135.8\" font-family=\"Times,serif\" font-size=\"14.00\">&lt;integer&gt; </text>\n",
       "</g>\n",
       "<!-- (11, 0)&#45;&gt;(12, 0) -->\n",
       "<g id=\"edge12\" class=\"edge\">\n",
       "<title>(11, 0)&#45;&gt;(12, 0)</title>\n",
       "<path fill=\"none\" stroke=\"black\" d=\"M49.5,-197.65C49.5,-188.07 49.5,-170.38 49.5,-157.2\"/>\n",
       "<polygon fill=\"black\" stroke=\"black\" points=\"53,-157.11 49.5,-147.11 46,-157.11 53,-157.11\"/>\n",
       "<text text-anchor=\"middle\" x=\"53\" y=\"-168.8\" font-family=\"Times,serif\" font-size=\"14.00\">0</text>\n",
       "</g>\n",
       "<!-- (13, 0) -->\n",
       "<g id=\"node14\" class=\"node\">\n",
       "<title>(13, 0)</title>\n",
       "<text text-anchor=\"middle\" x=\"49.5\" y=\"-69.8\" font-family=\"Times,serif\" font-size=\"14.00\">&lt;digit&gt; </text>\n",
       "</g>\n",
       "<!-- (12, 0)&#45;&gt;(13, 0) -->\n",
       "<g id=\"edge13\" class=\"edge\">\n",
       "<title>(12, 0)&#45;&gt;(13, 0)</title>\n",
       "<path fill=\"none\" stroke=\"black\" d=\"M49.5,-131.65C49.5,-122.07 49.5,-104.38 49.5,-91.2\"/>\n",
       "<polygon fill=\"black\" stroke=\"black\" points=\"53,-91.11 49.5,-81.11 46,-91.11 53,-91.11\"/>\n",
       "<text text-anchor=\"middle\" x=\"53\" y=\"-102.8\" font-family=\"Times,serif\" font-size=\"14.00\">0</text>\n",
       "</g>\n",
       "<!-- (14, 0) -->\n",
       "<g id=\"node15\" class=\"node\">\n",
       "<title>(14, 0)</title>\n",
       "<text text-anchor=\"middle\" x=\"49.5\" y=\"-3.8\" font-family=\"Times,serif\" font-size=\"14.00\">1 </text>\n",
       "</g>\n",
       "<!-- (13, 0)&#45;&gt;(14, 0) -->\n",
       "<g id=\"edge14\" class=\"edge\">\n",
       "<title>(13, 0)&#45;&gt;(14, 0)</title>\n",
       "<path fill=\"none\" stroke=\"black\" d=\"M49.5,-65.65C49.5,-56.07 49.5,-38.38 49.5,-25.2\"/>\n",
       "<polygon fill=\"black\" stroke=\"black\" points=\"53,-25.11 49.5,-15.11 46,-25.11 53,-25.11\"/>\n",
       "<text text-anchor=\"middle\" x=\"53\" y=\"-36.8\" font-family=\"Times,serif\" font-size=\"14.00\">0</text>\n",
       "</g>\n",
       "</g>\n",
       "</svg>\n"
      ],
      "text/plain": [
       "<graphviz.dot.Digraph at 0x1140b1780>"
      ]
     },
     "execution_count": 391,
     "metadata": {},
     "output_type": "execute_result"
    }
   ],
   "source": [
    "%top display_tree(exprA_tree)"
   ]
  },
  {
   "cell_type": "code",
   "execution_count": 392,
   "metadata": {},
   "outputs": [],
   "source": [
    "#%%top\n",
    "abs_path_A = [0,0,0,1,0,0,1]"
   ]
  },
  {
   "cell_type": "code",
   "execution_count": 393,
   "metadata": {},
   "outputs": [
    {
     "name": "stdout",
     "output_type": "stream",
     "text": [
      "<expr> 1\n"
     ]
    }
   ],
   "source": [
    "%top Ns(exprA_tree, [abs_path_A])"
   ]
  },
  {
   "cell_type": "code",
   "execution_count": 394,
   "metadata": {},
   "outputs": [],
   "source": [
    "#%%top\n",
    "FtA = mark_abstract_nodes(exprA_tree, [abs_path_A])"
   ]
  },
  {
   "cell_type": "code",
   "execution_count": 395,
   "metadata": {},
   "outputs": [
    {
     "data": {
      "text/plain": [
       "'((<expr>))'"
      ]
     },
     "execution_count": 395,
     "metadata": {},
     "output_type": "execute_result"
    }
   ],
   "source": [
    "%top Ta(FtA)"
   ]
  },
  {
   "cell_type": "code",
   "execution_count": 396,
   "metadata": {},
   "outputs": [
    {
     "data": {
      "image/png": "[encoded data removed]",
      "text/plain": [
       "<IPython.core.display.Image object>"
      ]
     },
     "execution_count": 396,
     "metadata": {},
     "output_type": "execute_result"
    }
   ],
   "source": [
    "%top Da(FtA)"
   ]
  },
  {
   "cell_type": "code",
   "execution_count": 397,
   "metadata": {},
   "outputs": [],
   "source": [
    "#%%top\n",
    "FpA = find_charecterizing_node(FtA)\n",
    "faultA_grammar, faultA_start = exactly_one_fault_grammar(EXPR_GRAMMAR, EXPR_START, FpA, 'A')"
   ]
  },
  {
   "cell_type": "code",
   "execution_count": 398,
   "metadata": {
    "scrolled": false
   },
   "outputs": [
    {
     "name": "stdout",
     "output_type": "stream",
     "text": [
      "<start .FA> ::=\n",
      "|    <expr .FA>\n",
      "<expr .FA> ::=\n",
      "|    <term .FA>\n",
      "|    <term .FA> ' + ' <expr neg(+FA)>\n",
      "|    <term .FA> ' - ' <expr neg(+FA)>\n",
      "|    <term neg(+FA)> ' + ' <expr .FA>\n",
      "|    <term neg(+FA)> ' - ' <expr .FA>\n",
      "<term .FA> ::=\n",
      "|    <factor .FA>\n",
      "|    <factor .FA> ' * ' <term neg(+FA)>\n",
      "|    <factor .FA> ' / ' <term neg(+FA)>\n",
      "|    <factor neg(+FA)> ' * ' <term .FA>\n",
      "|    <factor neg(+FA)> ' / ' <term .FA>\n",
      "<expr neg(+FA)> ::=\n",
      "|    <term neg(+FA)>\n",
      "|    <term neg(+FA)> ' + ' <expr neg(+FA)>\n",
      "|    <term neg(+FA)> ' - ' <expr neg(+FA)>\n",
      "<term neg(+FA)> ::=\n",
      "|    <factor neg(+FA)>\n",
      "|    <factor neg(+FA)> ' * ' <term neg(+FA)>\n",
      "|    <factor neg(+FA)> ' / ' <term neg(+FA)>\n",
      "<factor .FA> ::=\n",
      "|    '(' <expr LA_1> ')'\n",
      "<factor neg(+FA)> ::=\n",
      "|    '(' <expr neg(LA_1)> ')'\n",
      "|    '+' <factor neg(+FA)>\n",
      "|    '-' <factor neg(+FA)>\n",
      "|    <integer>\n",
      "|    <integer> '.' <integer>\n",
      "<expr LA_1> ::=\n",
      "|    <term LA_1>\n",
      "<term LA_1> ::=\n",
      "|    <factor LA_2>\n",
      "<factor LA_2> ::=\n",
      "|    '(' <expr> ')'\n",
      "<expr> ::=\n",
      "|    <term>\n",
      "|    <term> ' + ' <expr>\n",
      "|    <term> ' - ' <expr>\n",
      "<term> ::=\n",
      "|    <factor>\n",
      "|    <factor> ' * ' <term>\n",
      "|    <factor> ' / ' <term>\n",
      "<factor> ::=\n",
      "|    '(' <expr> ')'\n",
      "|    '+' <factor>\n",
      "|    '-' <factor>\n",
      "|    <integer>\n",
      "|    <integer> '.' <integer>\n",
      "<integer> ::=\n",
      "|    <digit>\n",
      "|    <digit> <integer>\n",
      "<digit> ::=\n",
      "|    '0'\n",
      "|    '1'\n",
      "|    '2'\n",
      "|    '3'\n",
      "|    '4'\n",
      "|    '5'\n",
      "|    '6'\n",
      "|    '7'\n",
      "|    '8'\n",
      "|    '9'\n",
      "<expr neg(LA_1)> ::=\n",
      "|    <term neg(+FA)> ' + ' <expr neg(+FA)>\n",
      "|    <term neg(+FA)> ' - ' <expr neg(+FA)>\n",
      "|    <term neg(LA_1)>\n",
      "<term neg(LA_1)> ::=\n",
      "|    <factor neg(+FA)> ' * ' <term neg(+FA)>\n",
      "|    <factor neg(+FA)> ' / ' <term neg(+FA)>\n",
      "|    <factor neg(LA_2)>\n",
      "<factor neg(LA_2)> ::=\n",
      "|    '+' <factor neg(+FA)>\n",
      "|    '-' <factor neg(+FA)>\n",
      "|    <integer>\n",
      "|    <integer> '.' <integer>\n",
      "18 59\n"
     ]
    },
    {
     "data": {
      "text/plain": [
       "'<start .FA>'"
      ]
     },
     "execution_count": 398,
     "metadata": {},
     "output_type": "execute_result"
    }
   ],
   "source": [
    "%%top\n",
    "Gs(faultA_grammar)\n",
    "faultA_start"
   ]
  },
  {
   "cell_type": "code",
   "execution_count": 399,
   "metadata": {},
   "outputs": [],
   "source": [
    "#%%top\n",
    "faultA_fuzzer = LimitFuzzer(faultA_grammar)\n",
    "faultA_parser = Parser(faultA_grammar, canonical=True, start_symbol=faultA_start)"
   ]
  },
  {
   "cell_type": "code",
   "execution_count": 400,
   "metadata": {},
   "outputs": [
    {
     "name": "stdout",
     "output_type": "stream",
     "text": [
      "8 / +-(+9.6) / ((2.6)) * 0529.080 - (-68 - (7 + 4) / -5.8) * 06 / -(3.8) - -46.3 / ++-(7.3)\n",
      "((5 / 1.0 * 4 - 9 - 4.2)) * --3950.5 - 0.85 / 501.9 / 29\n",
      "566 * 9.6 * +8.96 + 0 / -+(9 + 1.9) + --6.9 / ((7)) * (3.5 + 8 - 2) / -2.4 * 5.2 - (6 / 3 / 4) / 1.5 / 3.97 * 6.2 / 9.8 / 3.8 + (5.7 * 0 - 0.2 - 2.1)\n",
      "(489 * 36.87) / -++-3 / -+683.1 - ((5.0 * 0.4)) / 0.5 / +7\n",
      "--4 * ++1.156 * 5 * -(8.8 * 7 - 0 - 6) - -0 + ((3 - 1)) / +185 - --93.6 * (4.2 / 9.6 + 8.1 - 5) + 74 * +-2 + 7 + 4\n",
      "(5 * -(0 + 0)) / 12.4 * ((4.3 - 0)) * 5 * 9.10 * -(9.8) * -9 / 9.2 + (+1 / 6 - 90 / 1 - (3.3) / 7 - 4.9 / 5.3) / 4.2 - 79.3 / ((0) / 6 * 8) / 2.239 * +9.0 + 910 + 5.922 * -(8) + 8 / 1.5 / 1 / 8.8\n",
      "(2 * 07.822 + 061.859 * 92 * 1.0 / 0.9 / 3 + 14.96) / +(1) + (++2 / 54.64 / +7 / 1.1) * 95 / ((4)) / (0 * 9) - -(+7) / (-3 - 4.7 - 9 + 1) * +-3.4 / 5.32 - ((4) * 1.6 * 4 + 6 + 7) * 6 - 5.73 / +6 / +1 * 9.6 + 81.03 / 9 - 9.0 / 4.4 / 1.6\n",
      "41.1 - ((9.3 / 1)) - (96 / -1.9 - 0.3 / 9.9 * 0) * 8.25 * -85 + (5.9 * 7 / 2 + 7) * -02.10 * (5 - 8) / (3.5) * 3 / 2.5 - 203.80 * 5\n",
      "---+5 / +28 / ++091.0 / (-6.4 / 5.7 * 8) - -5 / ((4.4)) * +(7.8 + 5)\n",
      "(((2))) - +-(1 - 3 / 9 - 3 - 4) / +(-9 - 6 * 9.9 - 6 - 6.1) * +48.953 + (+8 - -6.2) / -(7.3 / 2 - 7 - 8) + (+6 / 9 * 8.2 - 1 * 8 + 3) * 1.8 + (8 / 1 - 8.2) + (0.6 + 4) - (6.7)\n"
     ]
    }
   ],
   "source": [
    "%%top\n",
    "for i in range(10):\n",
    "    s = faultA_fuzzer.fuzz(key=faultA_start)\n",
    "    print(s)\n",
    "    assert faultA_parser.can_parse(s)"
   ]
  },
  {
   "cell_type": "code",
   "execution_count": 401,
   "metadata": {},
   "outputs": [],
   "source": [
    "%top assert not faultA_parser.can_parse('1')"
   ]
  },
  {
   "cell_type": "markdown",
   "metadata": {},
   "source": [
    "### neg(A)"
   ]
  },
  {
   "cell_type": "code",
   "execution_count": 402,
   "metadata": {
    "scrolled": false
   },
   "outputs": [],
   "source": [
    "#%%top\n",
    "neg_A_grammar, neg_A_start = negate_grammar(faultA_grammar, faultA_start, EXPR_GRAMMAR, EXPR_START)"
   ]
  },
  {
   "cell_type": "code",
   "execution_count": 403,
   "metadata": {
    "scrolled": false
   },
   "outputs": [
    {
     "name": "stdout",
     "output_type": "stream",
     "text": [
      "<start neg(.FA)> ::=\n",
      "|    <expr neg(.FA)>\n",
      "<expr neg(.FA)> ::=\n",
      "|    <term +FA> ' + ' <expr +FA>\n",
      "|    <term +FA> ' - ' <expr +FA>\n",
      "|    <term and(+FA,neg(.FA))> ' + ' <expr>\n",
      "|    <term and(+FA,neg(.FA))> ' - ' <expr>\n",
      "|    <term neg(.FA)>\n",
      "|    <term neg(.FA)> ' + ' <expr neg(.FA)>\n",
      "|    <term neg(.FA)> ' - ' <expr neg(.FA)>\n",
      "|    <term> ' + ' <expr and(+FA,neg(.FA))>\n",
      "|    <term> ' - ' <expr and(+FA,neg(.FA))>\n",
      "<term +FA> ::=\n",
      "|    <factor +FA>\n",
      "|    <factor +FA> ' * ' <term>\n",
      "|    <factor +FA> ' / ' <term>\n",
      "|    <factor> ' * ' <term +FA>\n",
      "|    <factor> ' / ' <term +FA>\n",
      "<expr +FA> ::=\n",
      "|    <term +FA>\n",
      "|    <term +FA> ' + ' <expr>\n",
      "|    <term +FA> ' - ' <expr>\n",
      "|    <term> ' + ' <expr +FA>\n",
      "|    <term> ' - ' <expr +FA>\n",
      "<term and(+FA,neg(.FA))> ::=\n",
      "|    <factor +FA> ' * ' <term +FA>\n",
      "|    <factor +FA> ' * ' <term +FA>\n",
      "|    <factor +FA> ' * ' <term and(+FA,neg(.FA))>\n",
      "|    <factor +FA> ' / ' <term +FA>\n",
      "|    <factor +FA> ' / ' <term +FA>\n",
      "|    <factor +FA> ' / ' <term and(+FA,neg(.FA))>\n",
      "|    <factor and(+FA,neg(.FA))>\n",
      "|    <factor and(+FA,neg(.FA))> ' * ' <term +FA>\n",
      "|    <factor and(+FA,neg(.FA))> ' * ' <term neg(.FA)>\n",
      "|    <factor and(+FA,neg(.FA))> ' * ' <term>\n",
      "|    <factor and(+FA,neg(.FA))> ' / ' <term +FA>\n",
      "|    <factor and(+FA,neg(.FA))> ' / ' <term neg(.FA)>\n",
      "|    <factor and(+FA,neg(.FA))> ' / ' <term>\n",
      "|    <factor neg(.FA)> ' * ' <term and(+FA,neg(.FA))>\n",
      "|    <factor neg(.FA)> ' / ' <term and(+FA,neg(.FA))>\n",
      "|    <factor> ' * ' <term and(+FA,neg(.FA))>\n",
      "|    <factor> ' / ' <term and(+FA,neg(.FA))>\n",
      "<expr> ::=\n",
      "|    <term>\n",
      "|    <term> ' + ' <expr>\n",
      "|    <term> ' - ' <expr>\n",
      "<term neg(.FA)> ::=\n",
      "|    <factor +FA> ' * ' <term +FA>\n",
      "|    <factor +FA> ' / ' <term +FA>\n",
      "|    <factor and(+FA,neg(.FA))> ' * ' <term>\n",
      "|    <factor and(+FA,neg(.FA))> ' / ' <term>\n",
      "|    <factor neg(.FA)>\n",
      "|    <factor neg(.FA)> ' * ' <term neg(.FA)>\n",
      "|    <factor neg(.FA)> ' / ' <term neg(.FA)>\n",
      "|    <factor> ' * ' <term and(+FA,neg(.FA))>\n",
      "|    <factor> ' / ' <term and(+FA,neg(.FA))>\n",
      "<term> ::=\n",
      "|    <factor>\n",
      "|    <factor> ' * ' <term>\n",
      "|    <factor> ' / ' <term>\n",
      "<expr and(+FA,neg(.FA))> ::=\n",
      "|    <term +FA> ' + ' <expr +FA>\n",
      "|    <term +FA> ' + ' <expr +FA>\n",
      "|    <term +FA> ' + ' <expr and(+FA,neg(.FA))>\n",
      "|    <term +FA> ' - ' <expr +FA>\n",
      "|    <term +FA> ' - ' <expr +FA>\n",
      "|    <term +FA> ' - ' <expr and(+FA,neg(.FA))>\n",
      "|    <term and(+FA,neg(.FA))>\n",
      "|    <term and(+FA,neg(.FA))> ' + ' <expr +FA>\n",
      "|    <term and(+FA,neg(.FA))> ' + ' <expr neg(.FA)>\n",
      "|    <term and(+FA,neg(.FA))> ' + ' <expr>\n",
      "|    <term and(+FA,neg(.FA))> ' - ' <expr +FA>\n",
      "|    <term and(+FA,neg(.FA))> ' - ' <expr neg(.FA)>\n",
      "|    <term and(+FA,neg(.FA))> ' - ' <expr>\n",
      "|    <term neg(.FA)> ' + ' <expr and(+FA,neg(.FA))>\n",
      "|    <term neg(.FA)> ' - ' <expr and(+FA,neg(.FA))>\n",
      "|    <term> ' + ' <expr and(+FA,neg(.FA))>\n",
      "|    <term> ' - ' <expr and(+FA,neg(.FA))>\n",
      "<factor +FA> ::=\n",
      "|    '(' <expr LA_1> ')'\n",
      "|    '+' <factor +FA>\n",
      "|    '-' <factor +FA>\n",
      "<factor> ::=\n",
      "|    '(' <expr> ')'\n",
      "|    '+' <factor>\n",
      "|    '-' <factor>\n",
      "|    <integer>\n",
      "|    <integer> '.' <integer>\n",
      "<expr LA_1> ::=\n",
      "|    <term LA_1>\n",
      "<term LA_1> ::=\n",
      "|    <factor LA_2>\n",
      "<factor LA_2> ::=\n",
      "|    '(' <expr> ')'\n",
      "<integer> ::=\n",
      "|    <digit>\n",
      "|    <digit> <integer>\n",
      "<digit> ::=\n",
      "|    '0'\n",
      "|    '1'\n",
      "|    '2'\n",
      "|    '3'\n",
      "|    '4'\n",
      "|    '5'\n",
      "|    '6'\n",
      "|    '7'\n",
      "|    '8'\n",
      "|    '9'\n",
      "<factor and(+FA,neg(.FA))> ::=\n",
      "|    '+' <factor +FA>\n",
      "|    '-' <factor +FA>\n",
      "<factor neg(.FA)> ::=\n",
      "|    '(' <expr neg(LA_1)> ')'\n",
      "|    '+' <factor>\n",
      "|    '-' <factor>\n",
      "|    <integer>\n",
      "|    <integer> '.' <integer>\n",
      "<expr neg(LA_1)> ::=\n",
      "|    <term neg(+FA)> ' + ' <expr neg(+FA)>\n",
      "|    <term neg(+FA)> ' - ' <expr neg(+FA)>\n",
      "|    <term neg(LA_1)>\n",
      "<term neg(+FA)> ::=\n",
      "|    <factor neg(+FA)>\n",
      "|    <factor neg(+FA)> ' * ' <term neg(+FA)>\n",
      "|    <factor neg(+FA)> ' / ' <term neg(+FA)>\n",
      "<expr neg(+FA)> ::=\n",
      "|    <term neg(+FA)>\n",
      "|    <term neg(+FA)> ' + ' <expr neg(+FA)>\n",
      "|    <term neg(+FA)> ' - ' <expr neg(+FA)>\n",
      "<term neg(LA_1)> ::=\n",
      "|    <factor neg(+FA)> ' * ' <term neg(+FA)>\n",
      "|    <factor neg(+FA)> ' / ' <term neg(+FA)>\n",
      "|    <factor neg(LA_2)>\n",
      "<factor neg(+FA)> ::=\n",
      "|    '(' <expr neg(LA_1)> ')'\n",
      "|    '+' <factor neg(+FA)>\n",
      "|    '-' <factor neg(+FA)>\n",
      "|    <integer>\n",
      "|    <integer> '.' <integer>\n",
      "<factor neg(LA_2)> ::=\n",
      "|    '+' <factor neg(+FA)>\n",
      "|    '-' <factor neg(+FA)>\n",
      "|    <integer>\n",
      "|    <integer> '.' <integer>\n",
      "24 120\n"
     ]
    },
    {
     "data": {
      "text/plain": [
       "'<start neg(.FA)>'"
      ]
     },
     "execution_count": 403,
     "metadata": {},
     "output_type": "execute_result"
    }
   ],
   "source": [
    "%%top\n",
    "Gs(neg_A_grammar)\n",
    "neg_A_start"
   ]
  },
  {
   "cell_type": "code",
   "execution_count": 404,
   "metadata": {},
   "outputs": [],
   "source": [
    "neg_A_fuzzer = LimitFuzzer(neg_A_grammar)\n",
    "neg_A_parser = Parser(neg_A_grammar, canonical=True, start_symbol=neg_A_start)"
   ]
  },
  {
   "cell_type": "markdown",
   "metadata": {},
   "source": [
    "`neg(A)` is the exact opposite in refinement of `A` which is exactly one fault. So it should produce either no fault or more than one fault."
   ]
  },
  {
   "cell_type": "code",
   "execution_count": 405,
   "metadata": {},
   "outputs": [],
   "source": [
    "%%top\n",
    "assert neg_A_parser.can_parse('1')"
   ]
  },
  {
   "cell_type": "code",
   "execution_count": 406,
   "metadata": {},
   "outputs": [],
   "source": [
    "%%top\n",
    "assert not neg_A_parser.can_parse('((1))')"
   ]
  },
  {
   "cell_type": "code",
   "execution_count": 407,
   "metadata": {},
   "outputs": [],
   "source": [
    "%%top\n",
    "assert neg_A_parser.can_parse('((1)) + ((2))')"
   ]
  },
  {
   "cell_type": "code",
   "execution_count": 408,
   "metadata": {},
   "outputs": [],
   "source": [
    "%%top\n",
    "xp = {**neg_A_grammar, **{'<x>': [['<expr LA_1>']]}}"
   ]
  },
  {
   "cell_type": "code",
   "execution_count": 409,
   "metadata": {},
   "outputs": [],
   "source": [
    "%%top\n",
    "np = Parser(xp, canonical=True, start_symbol='<x>')"
   ]
  },
  {
   "cell_type": "code",
   "execution_count": 410,
   "metadata": {},
   "outputs": [],
   "source": [
    "%%top\n",
    "assert np.can_parse('(2)')"
   ]
  },
  {
   "cell_type": "code",
   "execution_count": 411,
   "metadata": {},
   "outputs": [
    {
     "name": "stdout",
     "output_type": "stream",
     "text": [
      "---((6)) * (+(8.5 - 8) * (7.7 + 0)) * ((1.0 - 0.6) / (2) / 3 / 6.6 - 8.3 / 4.5 / 3.7 + 0.9) - +((5 - 1)) * 2.9 * --+3.0 / (2 + 9.3) - +----8.6 * 72.9 + (4.4 / 9.9 + 6 * 9) / +-9.3 + 862.838 * 3 * (1) - (6.6 + 6) - +3 / 2 / 5.8 - 2 - 1\n",
      "+24 - +((0 + 6.2)) / ++-0 * --64.0 - +9.0 * -00 * 1.1 + +(4.9 * 6 - 9 - 0) * ((4.8)) * -+6.6 - --9.7 * 4 + 82 * +8 * 7.2 * 8.0\n",
      "-++((1)) / -44.8 * +((2.1)) / 7 / -+6.0 * -+5 + (+--2.2 * 98 / +6.2) * 02 * 6 + +((1)) / (+5 - 7.1 + 8 - 0.6) + -4 / 708 * (1 + 1.1) / 3.2 / 2 + 5 * --((8.5)) * +6.0 * 1 / 2 - +((4.9)) * +1 * 7 / 7.7 - (3.9) / 1\n",
      "+8.52 * -5 / (++2.5) * ++5.3 - 39 * --++-3 - -((1)) * -(6.6 * 6.3) / ++-4 * --((8.5)) * -3 * 1 / 3 - -1 + +8.3 / 9 - -(8) / +((2.9)) + -3.9 / 0 / 9.0 - 0 / ((7)) / 0 + 3.9 + 6.2\n",
      "+((3.1)) * 6 / -2 / +--((6.6)) + +(+(9) / 8 / 7.5 * 8 - -9.0 * 2 * 4.7 + 9) * ++(5 / 8 - 4 - 0.5) + -+((2)) * ((6)) - -0 * ++((0)) * 2 / +((3.2)) / 1.2 - 3.9 * 3 / ((0)) / 6 + (5 + 1.2) * (1) - 4 / 5 / 5\n",
      "58.0 + -+-((8.8)) - +(1 + 0.7 / 4.1 + 5.3 + 7.4) / -4 - 0211.50 / 95 / +(3.3) - (4 * 3) + -+9.5 / 9 * 9 / 9.1 + 6 * 3.6\n",
      "+((5 / 9 - 5 - 2.6) - (6) * 7 * 6 + 1 * 4 / 8 - 4 * 2.3 + 7.6 + 3) * 45 * +((0)) / 9.1 / ((9)) / 9\n",
      "+5 * -++-((3.6)) * ((4.9 + 8)) * (0 + 2.8) - -231.6 * ++-(4 + 0) * 8374.878 / +(9) / 45 / 4.7 / 3.4 * 2.5 + ((5 + 0) + 5.3 + 2.4 / 1.8 + 6.0) * --(1.9 - 6)\n",
      "+7.9 / (+-+1 * 52 / -2 / 5.3 + 3.08 / 8.5 - +7 / 9 * 7.1 - 3.7 / 1 + 3 + 3) / --((1.9)) * 3 / ++(5.2) / 4 + -((0)) / 85 / 0298 - -3.453\n",
      "+-+((7)) / +(-(2.7) * 1) / ---+4 * (4 - 9.5) * -02 * (2.5 + 3.7) * (0.2) / 9.0 * 7.7 - --((6.9)) / +7686 * (-2.8 * 8.0 - 2.5 / 6.4 - 3 - 2) * 0 / +5 + 8 * 4346 * 7.8 / +-1 * +5.0 / 8 / 5.1 - +-70 / -(4.7 + 8.5)\n"
     ]
    }
   ],
   "source": [
    "%%top\n",
    "for i in range(10):\n",
    "    s = neg_A_fuzzer.fuzz(key=neg_A_start)\n",
    "    print(s)\n",
    "    assert neg_A_parser.can_parse(s)\n",
    "    assert not faultA_parser.can_parse(s)"
   ]
  },
  {
   "cell_type": "markdown",
   "metadata": {},
   "source": [
    "## Fault B"
   ]
  },
  {
   "cell_type": "code",
   "execution_count": 412,
   "metadata": {},
   "outputs": [
    {
     "data": {
      "text/plain": [
       "[]"
      ]
     },
     "execution_count": 412,
     "metadata": {},
     "output_type": "execute_result"
    }
   ],
   "source": [
    "EXCEPTION_HAPPENED"
   ]
  },
  {
   "cell_type": "code",
   "execution_count": 413,
   "metadata": {},
   "outputs": [
    {
     "data": {
      "text/plain": [
       "'0 + 0'"
      ]
     },
     "execution_count": 413,
     "metadata": {},
     "output_type": "execute_result"
    }
   ],
   "source": [
    "exprB_input = '0 + 0'\n",
    "exprB_tree = list(expr_parser.parse(exprB_input))[0]\n",
    "tree_to_str(exprB_tree)"
   ]
  },
  {
   "cell_type": "code",
   "execution_count": 414,
   "metadata": {},
   "outputs": [],
   "source": [
    "abs_path_B_a = [0,0]\n",
    "abs_path_B_b = [0,2,0]"
   ]
  },
  {
   "cell_type": "code",
   "execution_count": 415,
   "metadata": {},
   "outputs": [
    {
     "name": "stdout",
     "output_type": "stream",
     "text": [
      "<term> 0\n",
      "<term> 0\n"
     ]
    }
   ],
   "source": [
    "%%top\n",
    "Ns(exprB_tree, [abs_path_B_a, abs_path_B_b])"
   ]
  },
  {
   "cell_type": "code",
   "execution_count": 416,
   "metadata": {},
   "outputs": [],
   "source": [
    "FtB = mark_abstract_nodes(exprB_tree, [abs_path_B_a, abs_path_B_b])"
   ]
  },
  {
   "cell_type": "code",
   "execution_count": 417,
   "metadata": {},
   "outputs": [
    {
     "data": {
      "text/plain": [
       "'<term> + <term>'"
      ]
     },
     "execution_count": 417,
     "metadata": {},
     "output_type": "execute_result"
    }
   ],
   "source": [
    "%%top\n",
    "Ta(FtB)"
   ]
  },
  {
   "cell_type": "code",
   "execution_count": 418,
   "metadata": {},
   "outputs": [
    {
     "data": {
      "image/png": "[encoded data removed]",
      "text/plain": [
       "<IPython.core.display.Image object>"
      ]
     },
     "execution_count": 418,
     "metadata": {},
     "output_type": "execute_result"
    }
   ],
   "source": [
    "Da(FtB)"
   ]
  },
  {
   "cell_type": "code",
   "execution_count": 419,
   "metadata": {},
   "outputs": [],
   "source": [
    "FpB = find_charecterizing_node(FtB)\n",
    "faultB_grammar, faultB_start  = exactly_one_fault_grammar(EXPR_GRAMMAR, EXPR_START, FpB, 'B')"
   ]
  },
  {
   "cell_type": "code",
   "execution_count": 420,
   "metadata": {
    "scrolled": false
   },
   "outputs": [
    {
     "name": "stdout",
     "output_type": "stream",
     "text": [
      "<start .FB> ::=\n",
      "|    <expr .FB>\n",
      "<expr .FB> ::=\n",
      "|    <term> ' + ' <expr LB_2>\n",
      "<term> ::=\n",
      "|    <factor>\n",
      "|    <factor> ' * ' <term>\n",
      "|    <factor> ' / ' <term>\n",
      "<expr LB_2> ::=\n",
      "|    <term>\n",
      "<factor> ::=\n",
      "|    '(' <expr> ')'\n",
      "|    '+' <factor>\n",
      "|    '-' <factor>\n",
      "|    <integer>\n",
      "|    <integer> '.' <integer>\n",
      "<expr> ::=\n",
      "|    <term>\n",
      "|    <term> ' + ' <expr>\n",
      "|    <term> ' - ' <expr>\n",
      "<integer> ::=\n",
      "|    <digit>\n",
      "|    <digit> <integer>\n",
      "<digit> ::=\n",
      "|    '0'\n",
      "|    '1'\n",
      "|    '2'\n",
      "|    '3'\n",
      "|    '4'\n",
      "|    '5'\n",
      "|    '6'\n",
      "|    '7'\n",
      "|    '8'\n",
      "|    '9'\n",
      "8 26\n"
     ]
    },
    {
     "data": {
      "text/plain": [
       "'<start .FB>'"
      ]
     },
     "execution_count": 420,
     "metadata": {},
     "output_type": "execute_result"
    }
   ],
   "source": [
    "%%top\n",
    "Gs(faultB_grammar)\n",
    "faultB_start"
   ]
  },
  {
   "cell_type": "code",
   "execution_count": 421,
   "metadata": {},
   "outputs": [],
   "source": [
    "faultB_fuzzer = LimitFuzzer(faultB_grammar)\n",
    "faultB_parser = Parser(faultB_grammar, canonical=True, start_symbol=faultB_start)"
   ]
  },
  {
   "cell_type": "code",
   "execution_count": 422,
   "metadata": {},
   "outputs": [
    {
     "name": "stdout",
     "output_type": "stream",
     "text": [
      "-0 * (---5 + -(7.8) / +6 * 8 * 8 + -7 / 9.7) * (+2 * 1 * 1 / 0.3) * 632.0 / (6.0 * 0.5 + 1.3 + 7) + 159828.464\n"
     ]
    }
   ],
   "source": [
    "%%top\n",
    "for i in range(1):\n",
    "    s = faultB_fuzzer.fuzz(key=faultB_start)\n",
    "    print(s)\n",
    "    assert faultB_parser.can_parse(s)"
   ]
  },
  {
   "cell_type": "code",
   "execution_count": 423,
   "metadata": {},
   "outputs": [],
   "source": [
    "%%top\n",
    "assert not faultB_parser.can_parse('1 - 2')"
   ]
  },
  {
   "cell_type": "code",
   "execution_count": null,
   "metadata": {},
   "outputs": [],
   "source": []
  },
  {
   "cell_type": "markdown",
   "metadata": {},
   "source": [
    "### neg(B)"
   ]
  },
  {
   "cell_type": "code",
   "execution_count": 424,
   "metadata": {
    "scrolled": false
   },
   "outputs": [],
   "source": [
    "#%%top\n",
    "neg_B_grammar, neg_B_start = negate_grammar(faultB_grammar, faultB_start, EXPR_GRAMMAR, EXPR_START)"
   ]
  },
  {
   "cell_type": "code",
   "execution_count": 425,
   "metadata": {
    "scrolled": false
   },
   "outputs": [
    {
     "name": "stdout",
     "output_type": "stream",
     "text": [
      "<start neg(.FB)> ::=\n",
      "|    <expr neg(.FB)>\n",
      "<expr neg(.FB)> ::=\n",
      "|    <term>\n",
      "|    <term> ' + ' <expr neg(LB_2)>\n",
      "|    <term> ' - ' <expr>\n",
      "<term> ::=\n",
      "|    <factor>\n",
      "|    <factor> ' * ' <term>\n",
      "|    <factor> ' / ' <term>\n",
      "<expr neg(LB_2)> ::=\n",
      "|    <term> ' + ' <expr>\n",
      "|    <term> ' - ' <expr>\n",
      "<expr> ::=\n",
      "|    <term>\n",
      "|    <term> ' + ' <expr>\n",
      "|    <term> ' - ' <expr>\n",
      "<factor> ::=\n",
      "|    '(' <expr> ')'\n",
      "|    '+' <factor>\n",
      "|    '-' <factor>\n",
      "|    <integer>\n",
      "|    <integer> '.' <integer>\n",
      "<integer> ::=\n",
      "|    <digit>\n",
      "|    <digit> <integer>\n",
      "<digit> ::=\n",
      "|    '0'\n",
      "|    '1'\n",
      "|    '2'\n",
      "|    '3'\n",
      "|    '4'\n",
      "|    '5'\n",
      "|    '6'\n",
      "|    '7'\n",
      "|    '8'\n",
      "|    '9'\n",
      "8 29\n"
     ]
    },
    {
     "data": {
      "text/plain": [
       "'<start neg(.FB)>'"
      ]
     },
     "execution_count": 425,
     "metadata": {},
     "output_type": "execute_result"
    }
   ],
   "source": [
    "%%top\n",
    "Gs(neg_B_grammar)\n",
    "neg_B_start"
   ]
  },
  {
   "cell_type": "code",
   "execution_count": 426,
   "metadata": {},
   "outputs": [],
   "source": [
    "neg_B_fuzzer = LimitFuzzer(neg_B_grammar)\n",
    "neg_B_parser = Parser(neg_B_grammar, canonical=True, start_symbol=neg_B_start)"
   ]
  },
  {
   "cell_type": "code",
   "execution_count": null,
   "metadata": {},
   "outputs": [],
   "source": []
  },
  {
   "cell_type": "markdown",
   "metadata": {},
   "source": [
    "`neg(A)` is the exact opposite in refinement of `A` which is exactly one fault. So it should produce either no fault or more than one fault."
   ]
  },
  {
   "cell_type": "code",
   "execution_count": 427,
   "metadata": {},
   "outputs": [],
   "source": [
    "%%top\n",
    "assert neg_B_parser.can_parse('1')"
   ]
  },
  {
   "cell_type": "code",
   "execution_count": 428,
   "metadata": {},
   "outputs": [],
   "source": [
    "%%top\n",
    "assert neg_B_parser.can_parse('((1))')"
   ]
  },
  {
   "cell_type": "code",
   "execution_count": 429,
   "metadata": {},
   "outputs": [],
   "source": [
    "%%top\n",
    "assert not neg_B_parser.can_parse('((1)) + ((2))')"
   ]
  },
  {
   "cell_type": "code",
   "execution_count": 430,
   "metadata": {},
   "outputs": [],
   "source": [
    "%%top\n",
    "assert neg_B_parser.can_parse('1 - 2')"
   ]
  },
  {
   "cell_type": "code",
   "execution_count": 431,
   "metadata": {},
   "outputs": [],
   "source": [
    "%%top\n",
    "assert not neg_B_parser.can_parse('1 + 2')"
   ]
  },
  {
   "cell_type": "code",
   "execution_count": 432,
   "metadata": {},
   "outputs": [
    {
     "name": "stdout",
     "output_type": "stream",
     "text": [
      "479 / -(++6) * -(1.0 * 5 * 8.2 - 9 / 0.7 + 3 - 2) / +4 / +9 / +5.5 / 7.3 * 2 + -5 / -(+8.5 * 5 * 1 - 1 - 6.9) / 4353.8726 * +75.4 / 2.5 * (5.9) * 4 + ((4.4) / +6.3 / 5 / 9.3 + -1 / 4.2 * 8.8) + 3.31 * 55 + 6\n",
      "+-673 / 978 / 199 * 1209 * ++6.7 * 83\n",
      "+++4.35 - 0 * 03876.9 / -851.881 / 235.03 * -+2 * 7\n",
      "((3.7 * 1.2 / 1.8 + 3) * -44.69) / 9.9 + 98 - (8.0 * -5.0) * (-0 / 2 / 3 - 0.9) / (9 * 6 - 3.8 + 3.5)\n",
      "+3305.5 + +(+0 / (9.9) / 4) + 65.4\n",
      "4 / 0013.0236 / 86.1 * -8 * -(5) / 1.06 / +3 - -5992 / ---6 / +-7 - (+-6 * (8.4) * 1.9 / 3 + (1.2) - 6.9 * 7.3 + 3) / -62 / -09.01\n",
      "-((9.5 * 1) * --2.5 - 1 - 4) / -(+(2.5) * +9 * 4.9 - (2.5) + 4.4) * ((3.2) * -9.0 + 3 / 9.2 * 4.6 + 9.4 * 9.9 + 4 + 9)\n",
      "(8.242 + 15 * (2 + 9.3) * (2.3) + 28 / +2 - 4 * 8 * 3.5 + 4 - 4) * +9.051 / 2374.6 + (18 * 4.20) - +21 / 792.51 / 7\n",
      "8 * 92.38 / +45.2 * ++-4\n",
      "9 * +((2 + 0) / +9 / 8.8 / 0) * (2 * 9.7 * 3.3 / 8.2 + -1 * 4 / 2.1 + 7 / 1.0 + 3) / ((2) / 6.9 / 3 - 1.2 * 7) + 61457 * +6 - +-598.6 - 6.76 * -(5.1 + 7) * 05 / (2.7) - (2 + 7.6 - 6.8) * 27 * 2.3 / 8.2 / 7.5 + -(1) - (7.7) / 9 * 6.9 - 3 / 2.2\n"
     ]
    }
   ],
   "source": [
    "%%top\n",
    "for i in range(10):\n",
    "    s = neg_B_fuzzer.fuzz(key=neg_B_start)\n",
    "    print(s)\n",
    "    assert neg_B_parser.can_parse(s)\n",
    "    assert not faultB_parser.can_parse(s)"
   ]
  },
  {
   "cell_type": "code",
   "execution_count": null,
   "metadata": {},
   "outputs": [],
   "source": []
  },
  {
   "cell_type": "markdown",
   "metadata": {},
   "source": [
    "## Fault C"
   ]
  },
  {
   "cell_type": "code",
   "execution_count": 433,
   "metadata": {},
   "outputs": [
    {
     "data": {
      "text/plain": [
       "[]"
      ]
     },
     "execution_count": 433,
     "metadata": {},
     "output_type": "execute_result"
    }
   ],
   "source": [
    "EXCEPTION_HAPPENED"
   ]
  },
  {
   "cell_type": "code",
   "execution_count": 434,
   "metadata": {},
   "outputs": [
    {
     "data": {
      "text/plain": [
       "'1 / 0'"
      ]
     },
     "execution_count": 434,
     "metadata": {},
     "output_type": "execute_result"
    }
   ],
   "source": [
    "exprC_input = '1 / 0'\n",
    "exprC_tree = list(expr_parser.parse(exprC_input))[0]\n",
    "tree_to_str(exprC_tree)"
   ]
  },
  {
   "cell_type": "code",
   "execution_count": 435,
   "metadata": {},
   "outputs": [],
   "source": [
    "abs_path_C = [0,0, 0]"
   ]
  },
  {
   "cell_type": "code",
   "execution_count": 436,
   "metadata": {},
   "outputs": [
    {
     "name": "stdout",
     "output_type": "stream",
     "text": [
      "<factor> 1\n"
     ]
    }
   ],
   "source": [
    "%%top\n",
    "Ns(exprC_tree, [abs_path_C])"
   ]
  },
  {
   "cell_type": "code",
   "execution_count": 437,
   "metadata": {},
   "outputs": [],
   "source": [
    "FtC = mark_abstract_nodes(exprC_tree, [abs_path_C])"
   ]
  },
  {
   "cell_type": "code",
   "execution_count": 438,
   "metadata": {},
   "outputs": [
    {
     "data": {
      "image/png": "[encoded data removed]",
      "text/plain": [
       "<IPython.core.display.Image object>"
      ]
     },
     "execution_count": 438,
     "metadata": {},
     "output_type": "execute_result"
    }
   ],
   "source": [
    "%%top\n",
    "Da(FtC)"
   ]
  },
  {
   "cell_type": "code",
   "execution_count": 439,
   "metadata": {},
   "outputs": [],
   "source": [
    "FpC = find_charecterizing_node(FtC)\n",
    "faultC_grammar, faultC_start = exactly_one_fault_grammar(EXPR_GRAMMAR, EXPR_START, FpC, 'C')"
   ]
  },
  {
   "cell_type": "code",
   "execution_count": 440,
   "metadata": {
    "scrolled": false
   },
   "outputs": [
    {
     "name": "stdout",
     "output_type": "stream",
     "text": [
      "<start .FC> ::=\n",
      "|    <expr .FC>\n",
      "<expr .FC> ::=\n",
      "|    <term .FC>\n",
      "|    <term .FC> ' + ' <expr neg(+FC)>\n",
      "|    <term .FC> ' - ' <expr neg(+FC)>\n",
      "|    <term neg(+FC)> ' + ' <expr .FC>\n",
      "|    <term neg(+FC)> ' - ' <expr .FC>\n",
      "<term .FC> ::=\n",
      "|    <factor> ' / ' <term LC_2>\n",
      "<expr neg(+FC)> ::=\n",
      "|    <term neg(+FC)>\n",
      "|    <term neg(+FC)> ' + ' <expr neg(+FC)>\n",
      "|    <term neg(+FC)> ' - ' <expr neg(+FC)>\n",
      "<term neg(+FC)> ::=\n",
      "|    <factor neg(+FC)>\n",
      "|    <factor neg(+FC)> ' * ' <term neg(+FC)>\n",
      "|    <factor neg(+FC)> ' / ' <term neg(LC_2)>\n",
      "<factor> ::=\n",
      "|    '(' <expr> ')'\n",
      "|    '+' <factor>\n",
      "|    '-' <factor>\n",
      "|    <integer>\n",
      "|    <integer> '.' <integer>\n",
      "<term LC_2> ::=\n",
      "|    <factor LC_1>\n",
      "<expr> ::=\n",
      "|    <term>\n",
      "|    <term> ' + ' <expr>\n",
      "|    <term> ' - ' <expr>\n",
      "<integer> ::=\n",
      "|    <digit>\n",
      "|    <digit> <integer>\n",
      "<term> ::=\n",
      "|    <factor>\n",
      "|    <factor> ' * ' <term>\n",
      "|    <factor> ' / ' <term>\n",
      "<digit> ::=\n",
      "|    '0'\n",
      "|    '1'\n",
      "|    '2'\n",
      "|    '3'\n",
      "|    '4'\n",
      "|    '5'\n",
      "|    '6'\n",
      "|    '7'\n",
      "|    '8'\n",
      "|    '9'\n",
      "<factor LC_1> ::=\n",
      "|    <integer LC_1>\n",
      "<integer LC_1> ::=\n",
      "|    <digit LC_1>\n",
      "<digit LC_1> ::=\n",
      "|    '0'\n",
      "<factor neg(+FC)> ::=\n",
      "|    '(' <expr neg(+FC)> ')'\n",
      "|    '+' <factor neg(+FC)>\n",
      "|    '-' <factor neg(+FC)>\n",
      "|    <integer>\n",
      "|    <integer> '.' <integer>\n",
      "<term neg(LC_2)> ::=\n",
      "|    <factor neg(+FC)> ' * ' <term neg(+FC)>\n",
      "|    <factor neg(+FC)> ' / ' <term neg(+FC)>\n",
      "|    <factor neg(LC_1)>\n",
      "<factor neg(LC_1)> ::=\n",
      "|    '(' <expr neg(+FC)> ')'\n",
      "|    '+' <factor neg(+FC)>\n",
      "|    '-' <factor neg(+FC)>\n",
      "|    <integer neg(LC_1)>\n",
      "|    <integer> '.' <integer>\n",
      "<integer neg(LC_1)> ::=\n",
      "|    <digit neg(LC_1)>\n",
      "|    <digit> <integer>\n",
      "<digit neg(LC_1)> ::=\n",
      "|    '1'\n",
      "|    '2'\n",
      "|    '3'\n",
      "|    '4'\n",
      "|    '5'\n",
      "|    '6'\n",
      "|    '7'\n",
      "|    '8'\n",
      "|    '9'\n",
      "19 64\n"
     ]
    },
    {
     "data": {
      "text/plain": [
       "'<start .FC>'"
      ]
     },
     "execution_count": 440,
     "metadata": {},
     "output_type": "execute_result"
    }
   ],
   "source": [
    "%%top\n",
    "Gs(faultC_grammar)\n",
    "faultC_start"
   ]
  },
  {
   "cell_type": "code",
   "execution_count": 441,
   "metadata": {},
   "outputs": [],
   "source": [
    "faultC_fuzzer = LimitFuzzer(faultC_grammar)\n",
    "faultC_parser = Parser(faultC_grammar, canonical=True, start_symbol=faultC_start)"
   ]
  },
  {
   "cell_type": "code",
   "execution_count": 442,
   "metadata": {},
   "outputs": [
    {
     "name": "stdout",
     "output_type": "stream",
     "text": [
      "6.5 - (+(6.5 + 5) / 2 / 2.4 * 0.4 / 0.6) * (94.48) * +652.058 * +0 / (5 + 7) * 1.8 / 3.1 * 3.7 - +7 / 0\n",
      "1 / 0 + -(+(8.1) / +1.8 * 6.3 * 4 - -1 * 2 / 2)\n",
      "(7004 / 35 / (3.2 + 7) + --(5 - 2 - 7 - 1.2 - 8 + 1) * -0 * -2.3 * 5.7 / 4 + 5) / 0\n",
      "62.3363 / 0\n",
      "5 * (6.6 + (9.3 - 0.4) / 7.1 * 1.7 / 1 - 2) * ((9.8) * -0.8 / 6 * 0.2 - -3 * 9.5 * 0 + 0.2 * 1 - 0.3 + 9.4) / 8 * +12 + -(55 + +2 / 8 * 5) / 0 + +-5.9 * -3 / 2.5 + 6.4 + 0 * +(2)\n",
      "86.2848 / 0 + -(+6.5 / (0.3) * 9 + 9.7 + 1.7 * 6 - 3.7) - 85 + +0.4 * 0 * -(7) * 4.5 + +-+8.1 * (0.3) * 8 * 0.6 / 5 + -+2 / 3\n",
      "+-(21.75 / 3.8 * 7.6 - -7.3 - 2.6 / 9 - 8.2) / 0\n",
      "7 / 0 - 890 / 3.33241 + ((7.1) * +4 * 6 / 2.8 + -2.9 * 3.4 / 4 - 4.1 / 4 - 1.8 + 3.9) + -+48.2 / 503 - (6.9 / 5.6 - 2.9 + 0.5) - -8.7 * 4 * 2.4 / 1 + 7 * 5.5 * 9\n",
      "(-184.639 / -00 * -1.7 + (8 * 2) / 42.5 - 0.1) / 0 - -6 - (--4 / +6 * 4) * --3.46 * 9.7 / -0.0 / +0.1 / 1 * 7 - ((8.5) / 8 / 9 - 3.9 * 9 - 4 - 1.1) / 44 + +8 - 17 / (8.3) / 9.0 / 9 + +7 + 0.3\n",
      "71.609 / 0 - +((6 + 8) * 9 * 6 * 9.9 + +3 * 9 + 0 * 5) * +-85 / (9.8 * 1.7 - 2 / 9.9) * 4 + 090 / +-8 / 3.334 / ++9.0 * +7 * 4\n"
     ]
    }
   ],
   "source": [
    "%%top\n",
    "for i in range(10):\n",
    "    s = faultC_fuzzer.fuzz(key=faultC_start)\n",
    "    print(s)\n",
    "    assert faultC_parser.can_parse(s)"
   ]
  },
  {
   "cell_type": "code",
   "execution_count": 443,
   "metadata": {},
   "outputs": [],
   "source": [
    "%%top\n",
    "assert not faultC_parser.can_parse('1 - 2')"
   ]
  },
  {
   "cell_type": "code",
   "execution_count": null,
   "metadata": {},
   "outputs": [],
   "source": []
  },
  {
   "cell_type": "markdown",
   "metadata": {},
   "source": [
    "### neg(C)"
   ]
  },
  {
   "cell_type": "code",
   "execution_count": 444,
   "metadata": {
    "scrolled": false
   },
   "outputs": [],
   "source": [
    "#%%top\n",
    "neg_C_grammar, neg_C_start = negate_grammar(faultC_grammar, faultC_start, EXPR_GRAMMAR, EXPR_START)"
   ]
  },
  {
   "cell_type": "code",
   "execution_count": 445,
   "metadata": {
    "scrolled": false
   },
   "outputs": [
    {
     "name": "stdout",
     "output_type": "stream",
     "text": [
      "<start neg(.FC)> ::=\n",
      "|    <expr neg(.FC)>\n",
      "<expr neg(.FC)> ::=\n",
      "|    <term +FC> ' + ' <expr +FC>\n",
      "|    <term +FC> ' - ' <expr +FC>\n",
      "|    <term and(+FC,neg(.FC))> ' + ' <expr>\n",
      "|    <term and(+FC,neg(.FC))> ' - ' <expr>\n",
      "|    <term neg(.FC)>\n",
      "|    <term neg(.FC)> ' + ' <expr neg(.FC)>\n",
      "|    <term neg(.FC)> ' - ' <expr neg(.FC)>\n",
      "|    <term> ' + ' <expr and(+FC,neg(.FC))>\n",
      "|    <term> ' - ' <expr and(+FC,neg(.FC))>\n",
      "<term +FC> ::=\n",
      "|    <factor +FC>\n",
      "|    <factor +FC> ' * ' <term>\n",
      "|    <factor +FC> ' / ' <term>\n",
      "|    <factor> ' * ' <term +FC>\n",
      "|    <factor> ' / ' <term LC_2>\n",
      "<expr +FC> ::=\n",
      "|    <term +FC>\n",
      "|    <term +FC> ' + ' <expr>\n",
      "|    <term +FC> ' - ' <expr>\n",
      "|    <term> ' + ' <expr +FC>\n",
      "|    <term> ' - ' <expr +FC>\n",
      "<term and(+FC,neg(.FC))> ::=\n",
      "|    <factor +FC>\n",
      "|    <factor +FC> ' * ' <term>\n",
      "|    <factor +FC> ' / ' <term neg(LC_2)>\n",
      "|    <factor> ' * ' <term +FC>\n",
      "<expr> ::=\n",
      "|    <term>\n",
      "|    <term> ' + ' <expr>\n",
      "|    <term> ' - ' <expr>\n",
      "<term neg(.FC)> ::=\n",
      "|    <factor>\n",
      "|    <factor> ' * ' <term>\n",
      "|    <factor> ' / ' <term neg(LC_2)>\n",
      "<term> ::=\n",
      "|    <factor>\n",
      "|    <factor> ' * ' <term>\n",
      "|    <factor> ' / ' <term>\n",
      "<expr and(+FC,neg(.FC))> ::=\n",
      "|    <term +FC> ' + ' <expr +FC>\n",
      "|    <term +FC> ' + ' <expr +FC>\n",
      "|    <term +FC> ' + ' <expr and(+FC,neg(.FC))>\n",
      "|    <term +FC> ' - ' <expr +FC>\n",
      "|    <term +FC> ' - ' <expr +FC>\n",
      "|    <term +FC> ' - ' <expr and(+FC,neg(.FC))>\n",
      "|    <term and(+FC,neg(.FC))>\n",
      "|    <term and(+FC,neg(.FC))> ' + ' <expr +FC>\n",
      "|    <term and(+FC,neg(.FC))> ' + ' <expr neg(.FC)>\n",
      "|    <term and(+FC,neg(.FC))> ' + ' <expr>\n",
      "|    <term and(+FC,neg(.FC))> ' - ' <expr +FC>\n",
      "|    <term and(+FC,neg(.FC))> ' - ' <expr neg(.FC)>\n",
      "|    <term and(+FC,neg(.FC))> ' - ' <expr>\n",
      "|    <term neg(.FC)> ' + ' <expr and(+FC,neg(.FC))>\n",
      "|    <term neg(.FC)> ' - ' <expr and(+FC,neg(.FC))>\n",
      "|    <term> ' + ' <expr and(+FC,neg(.FC))>\n",
      "|    <term> ' - ' <expr and(+FC,neg(.FC))>\n",
      "<factor +FC> ::=\n",
      "|    '(' <expr +FC> ')'\n",
      "|    '+' <factor +FC>\n",
      "|    '-' <factor +FC>\n",
      "<factor> ::=\n",
      "|    '(' <expr> ')'\n",
      "|    '+' <factor>\n",
      "|    '-' <factor>\n",
      "|    <integer>\n",
      "|    <integer> '.' <integer>\n",
      "<term LC_2> ::=\n",
      "|    <factor LC_1>\n",
      "<integer> ::=\n",
      "|    <digit>\n",
      "|    <digit> <integer>\n",
      "<digit> ::=\n",
      "|    '0'\n",
      "|    '1'\n",
      "|    '2'\n",
      "|    '3'\n",
      "|    '4'\n",
      "|    '5'\n",
      "|    '6'\n",
      "|    '7'\n",
      "|    '8'\n",
      "|    '9'\n",
      "<factor LC_1> ::=\n",
      "|    <integer LC_1>\n",
      "<integer LC_1> ::=\n",
      "|    <digit LC_1>\n",
      "<digit LC_1> ::=\n",
      "|    '0'\n",
      "<term neg(LC_2)> ::=\n",
      "|    <factor neg(+FC)> ' * ' <term neg(+FC)>\n",
      "|    <factor neg(+FC)> ' / ' <term neg(+FC)>\n",
      "|    <factor neg(LC_1)>\n",
      "<factor neg(+FC)> ::=\n",
      "|    '(' <expr neg(+FC)> ')'\n",
      "|    '+' <factor neg(+FC)>\n",
      "|    '-' <factor neg(+FC)>\n",
      "|    <integer>\n",
      "|    <integer> '.' <integer>\n",
      "<term neg(+FC)> ::=\n",
      "|    <factor neg(+FC)>\n",
      "|    <factor neg(+FC)> ' * ' <term neg(+FC)>\n",
      "|    <factor neg(+FC)> ' / ' <term neg(LC_2)>\n",
      "<factor neg(LC_1)> ::=\n",
      "|    '(' <expr neg(+FC)> ')'\n",
      "|    '+' <factor neg(+FC)>\n",
      "|    '-' <factor neg(+FC)>\n",
      "|    <integer neg(LC_1)>\n",
      "|    <integer> '.' <integer>\n",
      "<expr neg(+FC)> ::=\n",
      "|    <term neg(+FC)>\n",
      "|    <term neg(+FC)> ' + ' <expr neg(+FC)>\n",
      "|    <term neg(+FC)> ' - ' <expr neg(+FC)>\n",
      "<integer neg(LC_1)> ::=\n",
      "|    <digit neg(LC_1)>\n",
      "|    <digit> <integer>\n",
      "<digit neg(LC_1)> ::=\n",
      "|    '1'\n",
      "|    '2'\n",
      "|    '3'\n",
      "|    '4'\n",
      "|    '5'\n",
      "|    '6'\n",
      "|    '7'\n",
      "|    '8'\n",
      "|    '9'\n",
      "24 104\n"
     ]
    },
    {
     "data": {
      "text/plain": [
       "'<start neg(.FC)>'"
      ]
     },
     "execution_count": 445,
     "metadata": {},
     "output_type": "execute_result"
    }
   ],
   "source": [
    "%%top\n",
    "Gs(neg_C_grammar)\n",
    "neg_C_start"
   ]
  },
  {
   "cell_type": "code",
   "execution_count": 446,
   "metadata": {},
   "outputs": [],
   "source": [
    "neg_C_fuzzer = LimitFuzzer(neg_C_grammar)\n",
    "neg_C_parser = Parser(neg_C_grammar, canonical=True, start_symbol=neg_C_start)"
   ]
  },
  {
   "cell_type": "code",
   "execution_count": null,
   "metadata": {},
   "outputs": [],
   "source": []
  },
  {
   "cell_type": "markdown",
   "metadata": {},
   "source": [
    "`neg(A)` is the exact opposite in refinement of `A` which is exactly one fault. So it should produce either no fault or more than one fault."
   ]
  },
  {
   "cell_type": "code",
   "execution_count": 447,
   "metadata": {},
   "outputs": [],
   "source": [
    "%%top\n",
    "assert neg_C_parser.can_parse('1')"
   ]
  },
  {
   "cell_type": "code",
   "execution_count": 448,
   "metadata": {},
   "outputs": [],
   "source": [
    "%%top\n",
    "assert neg_C_parser.can_parse('((1))')"
   ]
  },
  {
   "cell_type": "code",
   "execution_count": 449,
   "metadata": {},
   "outputs": [],
   "source": [
    "%%top\n",
    "assert not neg_C_parser.can_parse('((1)) / 0')"
   ]
  },
  {
   "cell_type": "code",
   "execution_count": 450,
   "metadata": {},
   "outputs": [],
   "source": [
    "%%top\n",
    "assert neg_C_parser.can_parse('1 - 2')"
   ]
  },
  {
   "cell_type": "code",
   "execution_count": 451,
   "metadata": {},
   "outputs": [],
   "source": [
    "%%top\n",
    "assert not neg_C_parser.can_parse('1 / 0')"
   ]
  },
  {
   "cell_type": "markdown",
   "metadata": {},
   "source": [
    "## Conjunction"
   ]
  },
  {
   "cell_type": "code",
   "execution_count": 452,
   "metadata": {},
   "outputs": [
    {
     "data": {
      "text/plain": [
       "[]"
      ]
     },
     "execution_count": 452,
     "metadata": {},
     "output_type": "execute_result"
    }
   ],
   "source": [
    "EXCEPTION_HAPPENED"
   ]
  },
  {
   "cell_type": "markdown",
   "metadata": {},
   "source": [
    "### A & B"
   ]
  },
  {
   "cell_type": "code",
   "execution_count": 453,
   "metadata": {},
   "outputs": [],
   "source": [
    "AandB_grammar, AandB_start = and_grammars(faultA_grammar, faultA_start, faultB_grammar, faultB_start)"
   ]
  },
  {
   "cell_type": "code",
   "execution_count": 454,
   "metadata": {
    "scrolled": false
   },
   "outputs": [
    {
     "name": "stdout",
     "output_type": "stream",
     "text": [
      "<start and(.FA,.FB)> ::=\n",
      "|    <expr and(.FA,.FB)>\n",
      "<expr and(.FA,.FB)> ::=\n",
      "|    <term .FA> ' + ' <expr and(LB_2,neg(+FA))>\n",
      "|    <term neg(+FA)> ' + ' <expr and(.FA,LB_2)>\n",
      "<term .FA> ::=\n",
      "|    <factor .FA>\n",
      "|    <factor .FA> ' * ' <term neg(+FA)>\n",
      "|    <factor .FA> ' / ' <term neg(+FA)>\n",
      "|    <factor neg(+FA)> ' * ' <term .FA>\n",
      "|    <factor neg(+FA)> ' / ' <term .FA>\n",
      "<expr and(LB_2,neg(+FA))> ::=\n",
      "|    <term neg(+FA)>\n",
      "<term neg(+FA)> ::=\n",
      "|    <factor neg(+FA)>\n",
      "|    <factor neg(+FA)> ' * ' <term neg(+FA)>\n",
      "|    <factor neg(+FA)> ' / ' <term neg(+FA)>\n",
      "<expr and(.FA,LB_2)> ::=\n",
      "|    <term .FA>\n",
      "<factor .FA> ::=\n",
      "|    '(' <expr LA_1> ')'\n",
      "<factor neg(+FA)> ::=\n",
      "|    '(' <expr neg(LA_1)> ')'\n",
      "|    '+' <factor neg(+FA)>\n",
      "|    '-' <factor neg(+FA)>\n",
      "|    <integer>\n",
      "|    <integer> '.' <integer>\n",
      "<expr LA_1> ::=\n",
      "|    <term LA_1>\n",
      "<term LA_1> ::=\n",
      "|    <factor LA_2>\n",
      "<factor LA_2> ::=\n",
      "|    '(' <expr> ')'\n",
      "<expr> ::=\n",
      "|    <term>\n",
      "|    <term> ' + ' <expr>\n",
      "|    <term> ' - ' <expr>\n",
      "<term> ::=\n",
      "|    <factor>\n",
      "|    <factor> ' * ' <term>\n",
      "|    <factor> ' / ' <term>\n",
      "<factor> ::=\n",
      "|    '(' <expr> ')'\n",
      "|    '+' <factor>\n",
      "|    '-' <factor>\n",
      "|    <integer>\n",
      "|    <integer> '.' <integer>\n",
      "<integer> ::=\n",
      "|    <digit>\n",
      "|    <digit> <integer>\n",
      "<digit> ::=\n",
      "|    '0'\n",
      "|    '1'\n",
      "|    '2'\n",
      "|    '3'\n",
      "|    '4'\n",
      "|    '5'\n",
      "|    '6'\n",
      "|    '7'\n",
      "|    '8'\n",
      "|    '9'\n",
      "<expr neg(LA_1)> ::=\n",
      "|    <term neg(+FA)> ' + ' <expr neg(+FA)>\n",
      "|    <term neg(+FA)> ' - ' <expr neg(+FA)>\n",
      "|    <term neg(LA_1)>\n",
      "<expr neg(+FA)> ::=\n",
      "|    <term neg(+FA)>\n",
      "|    <term neg(+FA)> ' + ' <expr neg(+FA)>\n",
      "|    <term neg(+FA)> ' - ' <expr neg(+FA)>\n",
      "<term neg(LA_1)> ::=\n",
      "|    <factor neg(+FA)> ' * ' <term neg(+FA)>\n",
      "|    <factor neg(+FA)> ' / ' <term neg(+FA)>\n",
      "|    <factor neg(LA_2)>\n",
      "<factor neg(LA_2)> ::=\n",
      "|    '+' <factor neg(+FA)>\n",
      "|    '-' <factor neg(+FA)>\n",
      "|    <integer>\n",
      "|    <integer> '.' <integer>\n",
      "20 58\n"
     ]
    },
    {
     "data": {
      "text/plain": [
       "'<start and(.FA,.FB)>'"
      ]
     },
     "execution_count": 454,
     "metadata": {},
     "output_type": "execute_result"
    }
   ],
   "source": [
    "%%top\n",
    "Gs(AandB_grammar)\n",
    "AandB_start"
   ]
  },
  {
   "cell_type": "code",
   "execution_count": 455,
   "metadata": {},
   "outputs": [],
   "source": [
    "AandB_fuzzer = LimitFuzzer(AandB_grammar)\n",
    "AandB_parser = Parser(AandB_grammar, canonical=True, start_symbol=AandB_start)"
   ]
  },
  {
   "cell_type": "code",
   "execution_count": 456,
   "metadata": {},
   "outputs": [
    {
     "name": "stdout",
     "output_type": "stream",
     "text": [
      "+100 + ((9.6 / 7))\n",
      "A&B\n",
      "A\n",
      "B\n",
      "84 * 8 * 60 * 6362.455 * (5 * 5) * +-2.4 + ((9.5 / 4 - 8.2))\n",
      "A&B\n",
      "A\n",
      "B\n",
      "((7.0)) * +(2) / -010.4 * 4.3895 / (1.6 / 8) / 37 + 9964\n",
      "A&B\n",
      "A\n",
      "B\n",
      "-(+12.81 * (9.1 + 5.9) - (5.5) * 3 / 1 / 4.5 - +6.5) + ((1.5 + 7 + 1.6))\n",
      "A&B\n",
      "A\n",
      "B\n",
      "++7 * 16.8 / ---0.6 * +(2 - 7.4 + 9) * -4.57 / -9 / +7 / 7 + ++1 / ((7)) * 8.5\n",
      "A&B\n",
      "A\n",
      "B\n",
      "((-9.4 * 9 - 5.4 - 2)) * +4970 / (+(6.8)) / +4 / (3 / 5 + 4 + 7) * +(2) * +4 / 9.1 + ++16.5 * +2 * -(3.8) * 7.25 / -(1.9) / 9 * 9.1\n",
      "A&B\n",
      "A\n",
      "B\n",
      "((7 * 7 + 5 / 7.7 - 3 - 8)) / ++9.674 * (+4.0 / -7 - 2.2 / 3.1 + 8 * 8.4 + 8) + 2272\n",
      "A&B\n",
      "A\n",
      "B\n",
      "--+--+(9) / ((1)) / 73143.41 + ((9.4 / 2) / ++9 * (8.8) * 5 * 1.7 + 6 * 0.7 * 4 / 7 + 3.5 / 4.5 - 5.3 / 2 - 7.3 - 7.4)\n",
      "A&B\n",
      "A\n",
      "B\n",
      "2 / ++2742.9 / 1.71205 + ((8.2 + 3 + 4.2)) / +-0.754 * (+1.3 - 4.1 / 3.6) / +93\n",
      "A&B\n",
      "A\n",
      "B\n",
      "+-5 * ((6.6 - 8.5 + 5.7)) / 0.47464 / +88 + 582 * -971.43\n",
      "A&B\n",
      "A\n",
      "B\n"
     ]
    }
   ],
   "source": [
    "%%top\n",
    "for i in range(10):\n",
    "    s = AandB_fuzzer.fuzz(key=AandB_start)\n",
    "    print(s)\n",
    "    print('A&B')\n",
    "    assert AandB_parser.can_parse(s)\n",
    "    print('A')\n",
    "    assert faultA_parser.can_parse(s)\n",
    "    print('B')\n",
    "    assert faultB_parser.can_parse(s)"
   ]
  },
  {
   "cell_type": "markdown",
   "metadata": {},
   "source": [
    "### A & C"
   ]
  },
  {
   "cell_type": "code",
   "execution_count": 457,
   "metadata": {},
   "outputs": [],
   "source": [
    "AandC_grammar, AandC_start = and_grammars(faultA_grammar, faultA_start, faultC_grammar, faultC_start)"
   ]
  },
  {
   "cell_type": "code",
   "execution_count": 458,
   "metadata": {
    "scrolled": false
   },
   "outputs": [
    {
     "name": "stdout",
     "output_type": "stream",
     "text": [
      "<start and(.FA,.FC)> ::=\n",
      "|    <expr and(.FA,.FC)>\n",
      "<expr and(.FA,.FC)> ::=\n",
      "|    <term and(.FA,.FC)>\n",
      "|    <term and(.FA,.FC)> ' + ' <expr and(neg(+FA),neg(+FC))>\n",
      "|    <term and(.FA,.FC)> ' - ' <expr and(neg(+FA),neg(+FC))>\n",
      "|    <term and(.FA,neg(+FC))> ' + ' <expr and(.FC,neg(+FA))>\n",
      "|    <term and(.FA,neg(+FC))> ' - ' <expr and(.FC,neg(+FA))>\n",
      "|    <term and(.FC,neg(+FA))> ' + ' <expr and(.FA,neg(+FC))>\n",
      "|    <term and(.FC,neg(+FA))> ' - ' <expr and(.FA,neg(+FC))>\n",
      "|    <term and(neg(+FA),neg(+FC))> ' + ' <expr and(.FA,.FC)>\n",
      "|    <term and(neg(+FA),neg(+FC))> ' - ' <expr and(.FA,.FC)>\n",
      "<term and(.FA,.FC)> ::=\n",
      "|    <factor .FA> ' / ' <term and(LC_2,neg(+FA))>\n",
      "<expr and(neg(+FA),neg(+FC))> ::=\n",
      "|    <term and(neg(+FA),neg(+FC))>\n",
      "|    <term and(neg(+FA),neg(+FC))> ' + ' <expr and(neg(+FA),neg(+FC))>\n",
      "|    <term and(neg(+FA),neg(+FC))> ' - ' <expr and(neg(+FA),neg(+FC))>\n",
      "<term and(.FA,neg(+FC))> ::=\n",
      "|    <factor and(.FA,neg(+FC))>\n",
      "|    <factor and(.FA,neg(+FC))> ' * ' <term and(neg(+FA),neg(+FC))>\n",
      "|    <factor and(.FA,neg(+FC))> ' / ' <term and(neg(+FA),neg(LC_2))>\n",
      "|    <factor and(neg(+FA),neg(+FC))> ' * ' <term and(.FA,neg(+FC))>\n",
      "|    <factor and(neg(+FA),neg(+FC))> ' / ' <term and(.FA,neg(LC_2))>\n",
      "<expr and(.FC,neg(+FA))> ::=\n",
      "|    <term and(.FC,neg(+FA))>\n",
      "|    <term and(.FC,neg(+FA))> ' + ' <expr and(neg(+FA),neg(+FC))>\n",
      "|    <term and(.FC,neg(+FA))> ' - ' <expr and(neg(+FA),neg(+FC))>\n",
      "|    <term and(neg(+FA),neg(+FC))> ' + ' <expr and(.FC,neg(+FA))>\n",
      "|    <term and(neg(+FA),neg(+FC))> ' - ' <expr and(.FC,neg(+FA))>\n",
      "<term and(.FC,neg(+FA))> ::=\n",
      "|    <factor neg(+FA)> ' / ' <term and(LC_2,neg(+FA))>\n",
      "<expr and(.FA,neg(+FC))> ::=\n",
      "|    <term and(.FA,neg(+FC))>\n",
      "|    <term and(.FA,neg(+FC))> ' + ' <expr and(neg(+FA),neg(+FC))>\n",
      "|    <term and(.FA,neg(+FC))> ' - ' <expr and(neg(+FA),neg(+FC))>\n",
      "|    <term and(neg(+FA),neg(+FC))> ' + ' <expr and(.FA,neg(+FC))>\n",
      "|    <term and(neg(+FA),neg(+FC))> ' - ' <expr and(.FA,neg(+FC))>\n",
      "<term and(neg(+FA),neg(+FC))> ::=\n",
      "|    <factor and(neg(+FA),neg(+FC))>\n",
      "|    <factor and(neg(+FA),neg(+FC))> ' * ' <term and(neg(+FA),neg(+FC))>\n",
      "|    <factor and(neg(+FA),neg(+FC))> ' / ' <term and(neg(+FA),neg(LC_2))>\n",
      "<factor .FA> ::=\n",
      "|    '(' <expr LA_1> ')'\n",
      "<term and(LC_2,neg(+FA))> ::=\n",
      "|    <factor and(LC_1,neg(+FA))>\n",
      "<expr LA_1> ::=\n",
      "|    <term LA_1>\n",
      "<term LA_1> ::=\n",
      "|    <factor LA_2>\n",
      "<factor LA_2> ::=\n",
      "|    '(' <expr> ')'\n",
      "<expr> ::=\n",
      "|    <term>\n",
      "|    <term> ' + ' <expr>\n",
      "|    <term> ' - ' <expr>\n",
      "<term> ::=\n",
      "|    <factor>\n",
      "|    <factor> ' * ' <term>\n",
      "|    <factor> ' / ' <term>\n",
      "<factor> ::=\n",
      "|    '(' <expr> ')'\n",
      "|    '+' <factor>\n",
      "|    '-' <factor>\n",
      "|    <integer>\n",
      "|    <integer> '.' <integer>\n",
      "<integer> ::=\n",
      "|    <digit>\n",
      "|    <digit> <integer>\n",
      "<digit> ::=\n",
      "|    '0'\n",
      "|    '1'\n",
      "|    '2'\n",
      "|    '3'\n",
      "|    '4'\n",
      "|    '5'\n",
      "|    '6'\n",
      "|    '7'\n",
      "|    '8'\n",
      "|    '9'\n",
      "<factor and(LC_1,neg(+FA))> ::=\n",
      "|    <integer LC_1>\n",
      "<integer LC_1> ::=\n",
      "|    <digit LC_1>\n",
      "<digit LC_1> ::=\n",
      "|    '0'\n",
      "<factor and(.FA,neg(+FC))> ::=\n",
      "|    '(' <expr and(LA_1,neg(+FC))> ')'\n",
      "<term and(neg(+FA),neg(LC_2))> ::=\n",
      "|    <factor and(neg(+FA),neg(+FC))> ' * ' <term and(neg(+FA),neg(+FC))>\n",
      "|    <factor and(neg(+FA),neg(+FC))> ' / ' <term and(neg(+FA),neg(+FC))>\n",
      "|    <factor and(neg(+FA),neg(LC_1))>\n",
      "<factor and(neg(+FA),neg(+FC))> ::=\n",
      "|    '(' <expr and(neg(+FC),neg(LA_1))> ')'\n",
      "|    '+' <factor and(neg(+FA),neg(+FC))>\n",
      "|    '-' <factor and(neg(+FA),neg(+FC))>\n",
      "|    <integer>\n",
      "|    <integer> '.' <integer>\n",
      "<term and(.FA,neg(LC_2))> ::=\n",
      "|    <factor and(.FA,neg(+FC))> ' * ' <term and(neg(+FA),neg(+FC))>\n",
      "|    <factor and(.FA,neg(+FC))> ' / ' <term and(neg(+FA),neg(+FC))>\n",
      "|    <factor and(.FA,neg(LC_1))>\n",
      "|    <factor and(neg(+FA),neg(+FC))> ' * ' <term and(.FA,neg(+FC))>\n",
      "|    <factor and(neg(+FA),neg(+FC))> ' / ' <term and(.FA,neg(+FC))>\n",
      "<expr and(LA_1,neg(+FC))> ::=\n",
      "|    <term and(LA_1,neg(+FC))>\n",
      "<term and(LA_1,neg(+FC))> ::=\n",
      "|    <factor and(LA_2,neg(+FC))>\n",
      "<factor and(LA_2,neg(+FC))> ::=\n",
      "|    '(' <expr neg(+FC)> ')'\n",
      "<expr neg(+FC)> ::=\n",
      "|    <term neg(+FC)>\n",
      "|    <term neg(+FC)> ' + ' <expr neg(+FC)>\n",
      "|    <term neg(+FC)> ' - ' <expr neg(+FC)>\n",
      "<term neg(+FC)> ::=\n",
      "|    <factor neg(+FC)>\n",
      "|    <factor neg(+FC)> ' * ' <term neg(+FC)>\n",
      "|    <factor neg(+FC)> ' / ' <term neg(LC_2)>\n",
      "<factor neg(+FC)> ::=\n",
      "|    '(' <expr neg(+FC)> ')'\n",
      "|    '+' <factor neg(+FC)>\n",
      "|    '-' <factor neg(+FC)>\n",
      "|    <integer>\n",
      "|    <integer> '.' <integer>\n",
      "<term neg(LC_2)> ::=\n",
      "|    <factor neg(+FC)> ' * ' <term neg(+FC)>\n",
      "|    <factor neg(+FC)> ' / ' <term neg(+FC)>\n",
      "|    <factor neg(LC_1)>\n",
      "<factor neg(LC_1)> ::=\n",
      "|    '(' <expr neg(+FC)> ')'\n",
      "|    '+' <factor neg(+FC)>\n",
      "|    '-' <factor neg(+FC)>\n",
      "|    <integer neg(LC_1)>\n",
      "|    <integer> '.' <integer>\n",
      "<integer neg(LC_1)> ::=\n",
      "|    <digit neg(LC_1)>\n",
      "|    <digit> <integer>\n",
      "<digit neg(LC_1)> ::=\n",
      "|    '1'\n",
      "|    '2'\n",
      "|    '3'\n",
      "|    '4'\n",
      "|    '5'\n",
      "|    '6'\n",
      "|    '7'\n",
      "|    '8'\n",
      "|    '9'\n",
      "<factor and(neg(+FA),neg(LC_1))> ::=\n",
      "|    '(' <expr and(neg(+FC),neg(LA_1))> ')'\n",
      "|    '+' <factor and(neg(+FA),neg(+FC))>\n",
      "|    '-' <factor and(neg(+FA),neg(+FC))>\n",
      "|    <integer neg(LC_1)>\n",
      "|    <integer> '.' <integer>\n",
      "<expr and(neg(+FC),neg(LA_1))> ::=\n",
      "|    <term and(neg(+FA),neg(+FC))> ' + ' <expr and(neg(+FA),neg(+FC))>\n",
      "|    <term and(neg(+FA),neg(+FC))> ' - ' <expr and(neg(+FA),neg(+FC))>\n",
      "|    <term and(neg(+FC),neg(LA_1))>\n",
      "<term and(neg(+FC),neg(LA_1))> ::=\n",
      "|    <factor and(neg(+FA),neg(+FC))> ' * ' <term and(neg(+FA),neg(+FC))>\n",
      "|    <factor and(neg(+FA),neg(+FC))> ' / ' <term and(neg(+FA),neg(LC_2))>\n",
      "|    <factor and(neg(+FC),neg(LA_2))>\n",
      "<factor and(neg(+FC),neg(LA_2))> ::=\n",
      "|    '+' <factor and(neg(+FA),neg(+FC))>\n",
      "|    '-' <factor and(neg(+FA),neg(+FC))>\n",
      "|    <integer>\n",
      "|    <integer> '.' <integer>\n",
      "<factor and(.FA,neg(LC_1))> ::=\n",
      "|    '(' <expr and(LA_1,neg(+FC))> ')'\n",
      "<factor neg(+FA)> ::=\n",
      "|    '(' <expr neg(LA_1)> ')'\n",
      "|    '+' <factor neg(+FA)>\n",
      "|    '-' <factor neg(+FA)>\n",
      "|    <integer>\n",
      "|    <integer> '.' <integer>\n",
      "<expr neg(LA_1)> ::=\n",
      "|    <term neg(+FA)> ' + ' <expr neg(+FA)>\n",
      "|    <term neg(+FA)> ' - ' <expr neg(+FA)>\n",
      "|    <term neg(LA_1)>\n",
      "<term neg(+FA)> ::=\n",
      "|    <factor neg(+FA)>\n",
      "|    <factor neg(+FA)> ' * ' <term neg(+FA)>\n",
      "|    <factor neg(+FA)> ' / ' <term neg(+FA)>\n",
      "<expr neg(+FA)> ::=\n",
      "|    <term neg(+FA)>\n",
      "|    <term neg(+FA)> ' + ' <expr neg(+FA)>\n",
      "|    <term neg(+FA)> ' - ' <expr neg(+FA)>\n",
      "<term neg(LA_1)> ::=\n",
      "|    <factor neg(+FA)> ' * ' <term neg(+FA)>\n",
      "|    <factor neg(+FA)> ' / ' <term neg(+FA)>\n",
      "|    <factor neg(LA_2)>\n",
      "<factor neg(LA_2)> ::=\n",
      "|    '+' <factor neg(+FA)>\n",
      "|    '-' <factor neg(+FA)>\n",
      "|    <integer>\n",
      "|    <integer> '.' <integer>\n",
      "47 148\n"
     ]
    },
    {
     "data": {
      "text/plain": [
       "'<start and(.FA,.FC)>'"
      ]
     },
     "execution_count": 458,
     "metadata": {},
     "output_type": "execute_result"
    }
   ],
   "source": [
    "%%top\n",
    "Gs(AandC_grammar)\n",
    "AandC_start"
   ]
  },
  {
   "cell_type": "code",
   "execution_count": 459,
   "metadata": {},
   "outputs": [],
   "source": [
    "AandC_fuzzer = LimitFuzzer(AandC_grammar)\n",
    "AandC_parser = Parser(AandC_grammar, canonical=True, start_symbol=AandC_start)"
   ]
  },
  {
   "cell_type": "code",
   "execution_count": 460,
   "metadata": {},
   "outputs": [
    {
     "name": "stdout",
     "output_type": "stream",
     "text": [
      "(((8.7) + 3.5 / 8.5 - 3.2 + 9)) / 0 - +-+-6 * (-(5) - 7.2 / 1 - 9.0 / 6.6) / 45.0 * 4 - 3618.4 * +3 * 99 * 89.1 / -0 * 4.1 + (-6 + 2.8 * 3.3 - 2.3) * 93 * 4.47 + -(6 - 6) * -2.7 / +0.2\n",
      "A&C\n",
      "A\n",
      "C\n",
      "((+9 / 0 / 4 - 3.1 * 7.2 - 1)) / +-(9 / 8 / 0 - 6.7 / 1.3) * +-+0 - +(-4.9 / -5 / 3 / 8) * 5 - 1 - -8.19 / 0 - 7 * (2) * -5 - 79.0 + 3.4 * 4 / 0.8\n",
      "A&C\n",
      "A\n",
      "C\n",
      "((3.8 * 4.9)) / 0 - -22 / -+(0.6 * 7.1) / +++1 * (9.0 + 0 + 6.5) / (6) * 5.6 * 0 / 6 + (-+4.5 * (8.0) * 7.7 / 5.8 + +9.9 / 5 * 0.2 - 9.8 * 4.9 + 2.0 + 4) * 1 - 253 / +42\n",
      "A&C\n",
      "A\n",
      "C\n",
      "((+2.9 + 6.9 * 5 - 0 - 4)) / 0\n",
      "A&C\n",
      "A\n",
      "C\n",
      "-+(39 / 1.8) * +1.2 * (22 - 9 / 0.2 - 6 * 8.0 + 9.2 - 4.6) + 80 / 0 - ((4 + 3)) / 90 * (8.0 + 1) - +--8 + 5.9 / 9 + 45 * -7.8 + (8) * 3 * 2.2 - 8.3 * 7 + 2 + 2.3\n",
      "A&C\n",
      "A\n",
      "C\n",
      "3.30 / 0 - +(+-5.3 / 1 / 9 * 3.0 - -9.1 / 6 * 9) - 05 - 46 / (4 / 9.1 - 6 + 2) / -1 * ((6)) * 2.2 / 8\n",
      "A&C\n",
      "A\n",
      "C\n",
      "89.71 / 0 - ((3 + 0))\n",
      "A&C\n",
      "A\n",
      "C\n",
      "-+45.1311 / (2.522 + (0.2 - 5.7) - +6 * 0.0 * 9 + 8.3 * 9 + 5 - 2) * ((7.0)) * 1080.8 / 44.3 / (3 + 2.1) - 41.38 / 0 + 2.158 * +-59.6\n",
      "A&C\n",
      "A\n",
      "C\n",
      "5 - -9.0 / ((6 + 1)) * ((0) * 8.9 / 6) + +(6.2 + 2 - 5) * +946.5 * -(6.4) - ++--9 + -1 - ++4.9 / 0 + 5.6 / 8 / 5.8\n",
      "A&C\n",
      "A\n",
      "C\n",
      "((+5.1 / 4)) / 0 - 36 / +0 / --++5.3 / 59.69 * 85.9 * 8 * 2.4 - -+--(9) * +--6 / +-6.4 * -(3.8)\n",
      "A&C\n",
      "A\n",
      "C\n"
     ]
    }
   ],
   "source": [
    "%%top\n",
    "for i in range(10):\n",
    "    s = AandC_fuzzer.fuzz(key=AandC_start)\n",
    "    print(s)\n",
    "    print('A&C')\n",
    "    assert AandC_parser.can_parse(s)\n",
    "    print('A')\n",
    "    assert faultA_parser.can_parse(s)\n",
    "    print('C')\n",
    "    assert faultC_parser.can_parse(s)"
   ]
  },
  {
   "cell_type": "markdown",
   "metadata": {},
   "source": [
    "### B & C"
   ]
  },
  {
   "cell_type": "code",
   "execution_count": 461,
   "metadata": {},
   "outputs": [],
   "source": [
    "BandC_grammar, BandC_start = and_grammars(faultB_grammar, faultB_start, faultC_grammar, faultC_start)"
   ]
  },
  {
   "cell_type": "code",
   "execution_count": 462,
   "metadata": {},
   "outputs": [
    {
     "name": "stdout",
     "output_type": "stream",
     "text": [
      "<start and(.FB,.FC)> ::=\n",
      "|    <expr and(.FB,.FC)>\n",
      "<expr and(.FB,.FC)> ::=\n",
      "|    <term .FC> ' + ' <expr and(LB_2,neg(+FC))>\n",
      "|    <term neg(+FC)> ' + ' <expr and(.FC,LB_2)>\n",
      "<term .FC> ::=\n",
      "|    <factor> ' / ' <term LC_2>\n",
      "<expr and(LB_2,neg(+FC))> ::=\n",
      "|    <term neg(+FC)>\n",
      "<term neg(+FC)> ::=\n",
      "|    <factor neg(+FC)>\n",
      "|    <factor neg(+FC)> ' * ' <term neg(+FC)>\n",
      "|    <factor neg(+FC)> ' / ' <term neg(LC_2)>\n",
      "<expr and(.FC,LB_2)> ::=\n",
      "|    <term .FC>\n",
      "<factor> ::=\n",
      "|    '(' <expr> ')'\n",
      "|    '+' <factor>\n",
      "|    '-' <factor>\n",
      "|    <integer>\n",
      "|    <integer> '.' <integer>\n",
      "<term LC_2> ::=\n",
      "|    <factor LC_1>\n",
      "<expr> ::=\n",
      "|    <term>\n",
      "|    <term> ' + ' <expr>\n",
      "|    <term> ' - ' <expr>\n",
      "<integer> ::=\n",
      "|    <digit>\n",
      "|    <digit> <integer>\n",
      "<term> ::=\n",
      "|    <factor>\n",
      "|    <factor> ' * ' <term>\n",
      "|    <factor> ' / ' <term>\n",
      "<digit> ::=\n",
      "|    '0'\n",
      "|    '1'\n",
      "|    '2'\n",
      "|    '3'\n",
      "|    '4'\n",
      "|    '5'\n",
      "|    '6'\n",
      "|    '7'\n",
      "|    '8'\n",
      "|    '9'\n",
      "<factor LC_1> ::=\n",
      "|    <integer LC_1>\n",
      "<integer LC_1> ::=\n",
      "|    <digit LC_1>\n",
      "<digit LC_1> ::=\n",
      "|    '0'\n",
      "<factor neg(+FC)> ::=\n",
      "|    '(' <expr neg(+FC)> ')'\n",
      "|    '+' <factor neg(+FC)>\n",
      "|    '-' <factor neg(+FC)>\n",
      "|    <integer>\n",
      "|    <integer> '.' <integer>\n",
      "<term neg(LC_2)> ::=\n",
      "|    <factor neg(+FC)> ' * ' <term neg(+FC)>\n",
      "|    <factor neg(+FC)> ' / ' <term neg(+FC)>\n",
      "|    <factor neg(LC_1)>\n",
      "<expr neg(+FC)> ::=\n",
      "|    <term neg(+FC)>\n",
      "|    <term neg(+FC)> ' + ' <expr neg(+FC)>\n",
      "|    <term neg(+FC)> ' - ' <expr neg(+FC)>\n",
      "<factor neg(LC_1)> ::=\n",
      "|    '(' <expr neg(+FC)> ')'\n",
      "|    '+' <factor neg(+FC)>\n",
      "|    '-' <factor neg(+FC)>\n",
      "|    <integer neg(LC_1)>\n",
      "|    <integer> '.' <integer>\n",
      "<integer neg(LC_1)> ::=\n",
      "|    <digit neg(LC_1)>\n",
      "|    <digit> <integer>\n",
      "<digit neg(LC_1)> ::=\n",
      "|    '1'\n",
      "|    '2'\n",
      "|    '3'\n",
      "|    '4'\n",
      "|    '5'\n",
      "|    '6'\n",
      "|    '7'\n",
      "|    '8'\n",
      "|    '9'\n",
      "21 63\n"
     ]
    },
    {
     "data": {
      "text/plain": [
       "'<start and(.FB,.FC)>'"
      ]
     },
     "execution_count": 462,
     "metadata": {},
     "output_type": "execute_result"
    }
   ],
   "source": [
    "%%top\n",
    "Gs(BandC_grammar)\n",
    "BandC_start"
   ]
  },
  {
   "cell_type": "code",
   "execution_count": 463,
   "metadata": {},
   "outputs": [],
   "source": [
    "BandC_fuzzer = LimitFuzzer(BandC_grammar)\n",
    "BandC_parser = Parser(BandC_grammar, canonical=True, start_symbol=BandC_start)"
   ]
  },
  {
   "cell_type": "code",
   "execution_count": 464,
   "metadata": {},
   "outputs": [
    {
     "name": "stdout",
     "output_type": "stream",
     "text": [
      "3.2 * --(0.0 / 2 + 8 + 5) / ((8) * 9.4 * 3.0 / 8) * -++3 + 088754 / 0\n",
      "B&C\n",
      "B\n",
      "C\n",
      "-+83 / 0 + -90.2 / --+-2\n",
      "B&C\n",
      "B\n",
      "C\n",
      "3 / 0 + -73 / 99019.7\n",
      "B&C\n",
      "B\n",
      "C\n",
      "-((6 * 8 + 7.4 + 2.6) / (8 + 0.6 - 1.3 - 3) - 90.14 / +6.5 * 0) / 0 + --((1) * 7) * -(-6)\n",
      "B&C\n",
      "B\n",
      "C\n",
      "--+242.536 + 9 / 0\n",
      "B&C\n",
      "B\n",
      "C\n",
      "(7.8 * 3 / 7.7 / (0 - 9.8) - (2 - 4) * (6 - 2.0 + 5 + 1.0) * -9.2) / 0 + 11309.1 / 33.8\n",
      "B&C\n",
      "B\n",
      "C\n",
      "4 / 0 + 0.7\n",
      "B&C\n",
      "B\n",
      "C\n",
      "60.03 / 0 + 104.68 * -((2) * 1 * 7.3) / 4.840 * 758.4 / -9 / +1 * 4.8 / 5.6\n",
      "B&C\n",
      "B\n",
      "C\n",
      "(+91 - (1.3 * 5 + 4) / 6 + 6 / (4.4) / 6 / 7 + -2 / 1) + +-1.7 / 0\n",
      "B&C\n",
      "B\n",
      "C\n",
      "-+96.4 / 0 + 711.49\n",
      "B&C\n",
      "B\n",
      "C\n"
     ]
    }
   ],
   "source": [
    "%%top\n",
    "for i in range(10):\n",
    "    s = BandC_fuzzer.fuzz(key=BandC_start)\n",
    "    print(s)\n",
    "    print('B&C')\n",
    "    assert BandC_parser.can_parse(s)\n",
    "    print('B')\n",
    "    assert faultB_parser.can_parse(s)\n",
    "    print('C')\n",
    "    assert faultC_parser.can_parse(s)"
   ]
  },
  {
   "cell_type": "markdown",
   "metadata": {},
   "source": [
    "## Disjunction"
   ]
  },
  {
   "cell_type": "code",
   "execution_count": 465,
   "metadata": {},
   "outputs": [
    {
     "data": {
      "text/plain": [
       "[]"
      ]
     },
     "execution_count": 465,
     "metadata": {},
     "output_type": "execute_result"
    }
   ],
   "source": [
    "EXCEPTION_HAPPENED"
   ]
  },
  {
   "cell_type": "markdown",
   "metadata": {},
   "source": [
    "### A | B"
   ]
  },
  {
   "cell_type": "code",
   "execution_count": 466,
   "metadata": {},
   "outputs": [],
   "source": [
    "AorB_grammar, AorB_start = or_grammars(faultA_grammar, faultA_start, faultB_grammar, faultB_start)"
   ]
  },
  {
   "cell_type": "code",
   "execution_count": 467,
   "metadata": {},
   "outputs": [
    {
     "name": "stdout",
     "output_type": "stream",
     "text": [
      "<start or(.FA,.FB)> ::=\n",
      "|    <expr or(.FA,.FB)>\n",
      "<expr or(.FA,.FB)> ::=\n",
      "|    <term .FA>\n",
      "|    <term .FA> ' + ' <expr neg(+FA)>\n",
      "|    <term .FA> ' - ' <expr neg(+FA)>\n",
      "|    <term neg(+FA)> ' + ' <expr .FA>\n",
      "|    <term neg(+FA)> ' - ' <expr .FA>\n",
      "|    <term> ' + ' <expr LB_2>\n",
      "<term .FA> ::=\n",
      "|    <factor .FA>\n",
      "|    <factor .FA> ' * ' <term neg(+FA)>\n",
      "|    <factor .FA> ' / ' <term neg(+FA)>\n",
      "|    <factor neg(+FA)> ' * ' <term .FA>\n",
      "|    <factor neg(+FA)> ' / ' <term .FA>\n",
      "<expr neg(+FA)> ::=\n",
      "|    <term neg(+FA)>\n",
      "|    <term neg(+FA)> ' + ' <expr neg(+FA)>\n",
      "|    <term neg(+FA)> ' - ' <expr neg(+FA)>\n",
      "<term neg(+FA)> ::=\n",
      "|    <factor neg(+FA)>\n",
      "|    <factor neg(+FA)> ' * ' <term neg(+FA)>\n",
      "|    <factor neg(+FA)> ' / ' <term neg(+FA)>\n",
      "<expr .FA> ::=\n",
      "|    <term .FA>\n",
      "|    <term .FA> ' + ' <expr neg(+FA)>\n",
      "|    <term .FA> ' - ' <expr neg(+FA)>\n",
      "|    <term neg(+FA)> ' + ' <expr .FA>\n",
      "|    <term neg(+FA)> ' - ' <expr .FA>\n",
      "<term> ::=\n",
      "|    <factor>\n",
      "|    <factor> ' * ' <term>\n",
      "|    <factor> ' / ' <term>\n",
      "<expr LB_2> ::=\n",
      "|    <term>\n",
      "<factor .FA> ::=\n",
      "|    '(' <expr LA_1> ')'\n",
      "<factor neg(+FA)> ::=\n",
      "|    '(' <expr neg(LA_1)> ')'\n",
      "|    '+' <factor neg(+FA)>\n",
      "|    '-' <factor neg(+FA)>\n",
      "|    <integer>\n",
      "|    <integer> '.' <integer>\n",
      "<expr LA_1> ::=\n",
      "|    <term LA_1>\n",
      "<term LA_1> ::=\n",
      "|    <factor LA_2>\n",
      "<factor LA_2> ::=\n",
      "|    '(' <expr> ')'\n",
      "<expr> ::=\n",
      "|    <term>\n",
      "|    <term> ' + ' <expr>\n",
      "|    <term> ' - ' <expr>\n",
      "<expr neg(LA_1)> ::=\n",
      "|    <term neg(+FA)> ' + ' <expr neg(+FA)>\n",
      "|    <term neg(+FA)> ' - ' <expr neg(+FA)>\n",
      "|    <term neg(LA_1)>\n",
      "<integer> ::=\n",
      "|    <digit>\n",
      "|    <digit> <integer>\n",
      "<term neg(LA_1)> ::=\n",
      "|    <factor neg(+FA)> ' * ' <term neg(+FA)>\n",
      "|    <factor neg(+FA)> ' / ' <term neg(+FA)>\n",
      "|    <factor neg(LA_2)>\n",
      "<factor neg(LA_2)> ::=\n",
      "|    '+' <factor neg(+FA)>\n",
      "|    '-' <factor neg(+FA)>\n",
      "|    <integer>\n",
      "|    <integer> '.' <integer>\n",
      "<digit> ::=\n",
      "|    '0'\n",
      "|    '1'\n",
      "|    '2'\n",
      "|    '3'\n",
      "|    '4'\n",
      "|    '5'\n",
      "|    '6'\n",
      "|    '7'\n",
      "|    '8'\n",
      "|    '9'\n",
      "<factor> ::=\n",
      "|    '(' <expr> ')'\n",
      "|    '+' <factor>\n",
      "|    '-' <factor>\n",
      "|    <integer>\n",
      "|    <integer> '.' <integer>\n",
      "20 66\n"
     ]
    },
    {
     "data": {
      "text/plain": [
       "'<start or(.FA,.FB)>'"
      ]
     },
     "execution_count": 467,
     "metadata": {},
     "output_type": "execute_result"
    }
   ],
   "source": [
    "%%top\n",
    "Gs(AorB_grammar)\n",
    "AorB_start"
   ]
  },
  {
   "cell_type": "code",
   "execution_count": 468,
   "metadata": {},
   "outputs": [],
   "source": [
    "AorB_fuzzer = LimitFuzzer(AorB_grammar)\n",
    "AorB_parser = Parser(AorB_grammar, canonical=True, start_symbol=AorB_start)"
   ]
  },
  {
   "cell_type": "code",
   "execution_count": 469,
   "metadata": {},
   "outputs": [
    {
     "name": "stdout",
     "output_type": "stream",
     "text": [
      "((9 / 9 * 6.7 - 3.5 / 9.7 - 4)) - 319\n",
      "A|B\n",
      "4 / 8 - ((9.7 * 9 - 2.9 + 9.5)) * -37.737 / +(5.2 / 0) / +++9 * -5 / +9.4 * 4 - 7.6211 * 3.3\n",
      "A|B\n",
      "-0 * -21.6062 * (-9.3 - (2.9) / 8 - 9 / 5.2 - 0.1) / +(7 + 9.9 + 4) / (3.3) * 20 * -7.8 + ((5 - 7.2 - 2.4) * +-9 / -9 * 8.4 * 5 + +(1) / -2 * 1 - -6 * 3 * 5.6) - 42 + ((7.3)) * 5\n",
      "A|B\n",
      "975983.02 / (171 * 5 - 0.9 / -3.9 / 4.0 * 0 - +1 * 8 / 5 + 5 / 0.1) * (8) / -++6 * (9 - 8.5 - 2.4) * 36.2 / 8 + (4 / (2.1 + 5) / (1) / 3.9 / 9 + -+4.3) / +3518 / (1 * 5 + 3 * 1 + 5.2 - 0.4) + ((4)) / (-2.2) / (4.4 / 8) * 4 * 8 - (3.3 / 8 - 4.0 / 8 + 0) / 006 / -(3) / -8.8 / 2 * 1.7 + -8 * (7) - ++8 / 0 / 7 / 6.2 - 7.0 * 5.7 * 4 + 6.9 * 3 - 4 + 0.4\n",
      "A|B\n",
      "(7.0 * ++6 + (5.1 * 1 - 5 - 8.5) / --7 * +8.8) * +5 + -(++3 / (2)) / (+1.0 * +3 / 6.4 + -1.5 + 9.0 / 0 + 3) * -9 * +(7.5 + 4) / -(6) * 5.3 / 0 - +55 * +68.0 / ++-1.0 * (7 + 5) * (6.4) / 2.2 * 8 - ((2)) * 87 * 4.8 * 4 + +(9.7 + 1) * +-8.5 / (5) / 1 - 4 / (8) / 4 * 4 + 2 * 3 / 5.3\n",
      "A|B\n",
      "+3760 * (--2.6 * 5 / -9.5 * 2.1 / 6.1 + -+6 + 3.6 / 1.2 / 1 + 2 * 9 + 8.8) / -26 / 8 * 1 * --8.0 + (+-7 * -1.5 / -6 / 0.4 - -5 - -4 * 9.3 - 8.5 / 6.9 + 6.9 - 1.6) * -08\n",
      "A|B\n",
      "7.03801 * +(-8) * -2 * -772.6 * (5.1) + +4 * -(+1.5 / 0.4 / 8.1 - 9 / 4)\n",
      "A|B\n",
      "(+17 + 3.61 * (0.0 - 5.5) / 8 / 5.4 + +(1.6)) / ((0)) / -(+0) + (08 * +0.1 * (8.2) / 3.7 * 2.4) * 886 * 0 / -(9.2) * 2.6 / -5.7 / 0 / 2.1\n",
      "A|B\n",
      "((3 / 8.3 / 4 + 1 + 0 - 4.7)) - -(3 * 5 * 8.1 / 0 + (1.9) - 8 * 6.6 - 1 - 2.2) * 56 * +-59.84 * -6.0\n",
      "A|B\n",
      "9.84 * 67.6163 / ((9 + 1.5)) * +892.5 / -(6 + 9) * 51\n",
      "A|B\n"
     ]
    }
   ],
   "source": [
    "%%top\n",
    "for i in range(10):\n",
    "    s = AorB_fuzzer.fuzz(key=AorB_start)\n",
    "    print(s)\n",
    "    print('A|B')\n",
    "    assert AorB_parser.can_parse(s)\n",
    "    assert faultA_parser.can_parse(s) or faultB_parser.can_parse(s)"
   ]
  },
  {
   "cell_type": "markdown",
   "metadata": {},
   "source": [
    "### A | C"
   ]
  },
  {
   "cell_type": "code",
   "execution_count": 470,
   "metadata": {},
   "outputs": [],
   "source": [
    "AorC_grammar, AorC_start = or_grammars(faultA_grammar, faultA_start, faultC_grammar, faultC_start)"
   ]
  },
  {
   "cell_type": "code",
   "execution_count": 471,
   "metadata": {},
   "outputs": [
    {
     "name": "stdout",
     "output_type": "stream",
     "text": [
      "<start or(.FA,.FC)> ::=\n",
      "|    <expr or(.FA,.FC)>\n",
      "<expr or(.FA,.FC)> ::=\n",
      "|    <term .FA> ' + ' <expr neg(+FA)>\n",
      "|    <term .FA> ' - ' <expr neg(+FA)>\n",
      "|    <term .FC> ' + ' <expr neg(+FC)>\n",
      "|    <term .FC> ' - ' <expr neg(+FC)>\n",
      "|    <term neg(+FA)> ' + ' <expr .FA>\n",
      "|    <term neg(+FA)> ' - ' <expr .FA>\n",
      "|    <term neg(+FC)> ' + ' <expr .FC>\n",
      "|    <term neg(+FC)> ' - ' <expr .FC>\n",
      "|    <term or(.FA,.FC)>\n",
      "<term .FA> ::=\n",
      "|    <factor .FA>\n",
      "|    <factor .FA> ' * ' <term neg(+FA)>\n",
      "|    <factor .FA> ' / ' <term neg(+FA)>\n",
      "|    <factor neg(+FA)> ' * ' <term .FA>\n",
      "|    <factor neg(+FA)> ' / ' <term .FA>\n",
      "<expr neg(+FA)> ::=\n",
      "|    <term neg(+FA)>\n",
      "|    <term neg(+FA)> ' + ' <expr neg(+FA)>\n",
      "|    <term neg(+FA)> ' - ' <expr neg(+FA)>\n",
      "<term .FC> ::=\n",
      "|    <factor> ' / ' <term LC_2>\n",
      "<expr neg(+FC)> ::=\n",
      "|    <term neg(+FC)>\n",
      "|    <term neg(+FC)> ' + ' <expr neg(+FC)>\n",
      "|    <term neg(+FC)> ' - ' <expr neg(+FC)>\n",
      "<term neg(+FA)> ::=\n",
      "|    <factor neg(+FA)>\n",
      "|    <factor neg(+FA)> ' * ' <term neg(+FA)>\n",
      "|    <factor neg(+FA)> ' / ' <term neg(+FA)>\n",
      "<expr .FA> ::=\n",
      "|    <term .FA>\n",
      "|    <term .FA> ' + ' <expr neg(+FA)>\n",
      "|    <term .FA> ' - ' <expr neg(+FA)>\n",
      "|    <term neg(+FA)> ' + ' <expr .FA>\n",
      "|    <term neg(+FA)> ' - ' <expr .FA>\n",
      "<term neg(+FC)> ::=\n",
      "|    <factor neg(+FC)>\n",
      "|    <factor neg(+FC)> ' * ' <term neg(+FC)>\n",
      "|    <factor neg(+FC)> ' / ' <term neg(LC_2)>\n",
      "<expr .FC> ::=\n",
      "|    <term .FC>\n",
      "|    <term .FC> ' + ' <expr neg(+FC)>\n",
      "|    <term .FC> ' - ' <expr neg(+FC)>\n",
      "|    <term neg(+FC)> ' + ' <expr .FC>\n",
      "|    <term neg(+FC)> ' - ' <expr .FC>\n",
      "<term or(.FA,.FC)> ::=\n",
      "|    <factor .FA>\n",
      "|    <factor .FA> ' * ' <term neg(+FA)>\n",
      "|    <factor .FA> ' / ' <term neg(+FA)>\n",
      "|    <factor neg(+FA)> ' * ' <term .FA>\n",
      "|    <factor neg(+FA)> ' / ' <term .FA>\n",
      "|    <factor> ' / ' <term LC_2>\n",
      "<factor .FA> ::=\n",
      "|    '(' <expr LA_1> ')'\n",
      "<factor neg(+FA)> ::=\n",
      "|    '(' <expr neg(LA_1)> ')'\n",
      "|    '+' <factor neg(+FA)>\n",
      "|    '-' <factor neg(+FA)>\n",
      "|    <integer>\n",
      "|    <integer> '.' <integer>\n",
      "<expr LA_1> ::=\n",
      "|    <term LA_1>\n",
      "<term LA_1> ::=\n",
      "|    <factor LA_2>\n",
      "<factor LA_2> ::=\n",
      "|    '(' <expr> ')'\n",
      "<expr> ::=\n",
      "|    <term>\n",
      "|    <term> ' + ' <expr>\n",
      "|    <term> ' - ' <expr>\n",
      "<term> ::=\n",
      "|    <factor>\n",
      "|    <factor> ' * ' <term>\n",
      "|    <factor> ' / ' <term>\n",
      "<factor> ::=\n",
      "|    '(' <expr> ')'\n",
      "|    '+' <factor>\n",
      "|    '-' <factor>\n",
      "|    <integer>\n",
      "|    <integer> '.' <integer>\n",
      "<integer> ::=\n",
      "|    <digit>\n",
      "|    <digit> <integer>\n",
      "<digit> ::=\n",
      "|    '0'\n",
      "|    '1'\n",
      "|    '2'\n",
      "|    '3'\n",
      "|    '4'\n",
      "|    '5'\n",
      "|    '6'\n",
      "|    '7'\n",
      "|    '8'\n",
      "|    '9'\n",
      "<expr neg(LA_1)> ::=\n",
      "|    <term neg(+FA)> ' + ' <expr neg(+FA)>\n",
      "|    <term neg(+FA)> ' - ' <expr neg(+FA)>\n",
      "|    <term neg(LA_1)>\n",
      "<term neg(LA_1)> ::=\n",
      "|    <factor neg(+FA)> ' * ' <term neg(+FA)>\n",
      "|    <factor neg(+FA)> ' / ' <term neg(+FA)>\n",
      "|    <factor neg(LA_2)>\n",
      "<factor neg(LA_2)> ::=\n",
      "|    '+' <factor neg(+FA)>\n",
      "|    '-' <factor neg(+FA)>\n",
      "|    <integer>\n",
      "|    <integer> '.' <integer>\n",
      "<term LC_2> ::=\n",
      "|    <factor LC_1>\n",
      "<factor LC_1> ::=\n",
      "|    <integer LC_1>\n",
      "<integer LC_1> ::=\n",
      "|    <digit LC_1>\n",
      "<digit LC_1> ::=\n",
      "|    '0'\n",
      "<factor neg(+FC)> ::=\n",
      "|    '(' <expr neg(+FC)> ')'\n",
      "|    '+' <factor neg(+FC)>\n",
      "|    '-' <factor neg(+FC)>\n",
      "|    <integer>\n",
      "|    <integer> '.' <integer>\n",
      "<term neg(LC_2)> ::=\n",
      "|    <factor neg(+FC)> ' * ' <term neg(+FC)>\n",
      "|    <factor neg(+FC)> ' / ' <term neg(+FC)>\n",
      "|    <factor neg(LC_1)>\n",
      "<factor neg(LC_1)> ::=\n",
      "|    '(' <expr neg(+FC)> ')'\n",
      "|    '+' <factor neg(+FC)>\n",
      "|    '-' <factor neg(+FC)>\n",
      "|    <integer neg(LC_1)>\n",
      "|    <integer> '.' <integer>\n",
      "<integer neg(LC_1)> ::=\n",
      "|    <digit neg(LC_1)>\n",
      "|    <digit> <integer>\n",
      "<digit neg(LC_1)> ::=\n",
      "|    '1'\n",
      "|    '2'\n",
      "|    '3'\n",
      "|    '4'\n",
      "|    '5'\n",
      "|    '6'\n",
      "|    '7'\n",
      "|    '8'\n",
      "|    '9'\n",
      "33 114\n"
     ]
    },
    {
     "data": {
      "text/plain": [
       "'<start or(.FA,.FC)>'"
      ]
     },
     "execution_count": 471,
     "metadata": {},
     "output_type": "execute_result"
    }
   ],
   "source": [
    "%%top\n",
    "Gs(AorC_grammar)\n",
    "AorC_start"
   ]
  },
  {
   "cell_type": "code",
   "execution_count": 472,
   "metadata": {},
   "outputs": [],
   "source": [
    "AorC_fuzzer = LimitFuzzer(AorC_grammar)\n",
    "AorC_parser = Parser(AorC_grammar, canonical=True, start_symbol=AorC_start)"
   ]
  },
  {
   "cell_type": "code",
   "execution_count": 473,
   "metadata": {},
   "outputs": [
    {
     "name": "stdout",
     "output_type": "stream",
     "text": [
      "((1.0 / 7 - 2 - 7.3 + 0.6)) / -(14 * 1 / 4 * 6.2 - (7) * 6.8 / 7.6 + 6 / 5.7 + 1 - 5) / 46.4\n",
      "A|C\n",
      "(((5) * 3)) - +-3 * (+7 + (0) * 6.4 / 8.9 - 0.4) - ((9.5 - 8.0) + 6.4) / (-5.5 / 0.7 - 3 - 5.5 + 9) * --7 + (1.1 * 1.0) * -8 / --2 + 4 * +-9.3 - 49 * +9.1 + 1 / 9 - 1.9 - 6 - 2\n",
      "A|C\n",
      "2.7 * +-+5.5 / --7 / 7.5 * 715.0 * 66.60 + ((5 / 8.6 + 2.6 + 6)) / -+(4.0 * 6.4 - 4.4 + 6.3) * 45 / (5.1 * 3 - 0.6 - 1) + 1.8\n",
      "A|C\n",
      "((2 * 6 - 2.4 * 2 + 0.2 + 2.3)) / (004.8 * -(5.1) * 3.5 + (7.6 - 7.4) * -6 / 2.7 * 6.0) + 30.4 / +++69 / ++-(5) + -4 * (+0 * 9.6)\n",
      "A|C\n",
      "((3.4 * 9.8 * 5 + 7.4 + 5 - 0.2)) * ((4 * 0 - 3 - 6) / 18 / 3.8 - -+3 + (9) / 8 + 9.6 * 7 - 4.4) * (6.28 * +6 / 2 * 2 + 2 / 4.9) / ---+1\n",
      "A|C\n",
      "3 / 0 + +1.9 / 864.37 / +6.7 / 3.72 * -(1) * -8\n",
      "A|C\n",
      "-0.6 / 0 - (+85 * 2 + -(0) * -8 * 8 + -1 * 3 + 6.2 - 4.1 + 5) * +(-5 / 5.6 / 9 + 6) * ((6) * 6 / 9 + 2.2 + 4 + 6) + -38.93 * (-3.8 * 1 / 1 - 3.0 + 9 + 5.3) * -6 / -6 / +1.6 * 8.1 * 7.9\n",
      "A|C\n",
      "((-6 / 4)) * ((1 / 3 - 2) * (3.3 + 4.9) / (0.3)) / 87.5 / -(5.7 / 0.8 + 4) * -+-0.1 + +28 * 7 / 0 * (6 * 9) * 5 / 4 * 3.3 * 4 + 0 * (+7.1 * 7 * 6 + 6.8 / 2 - 7 + 1) * (9 - 1) * 12.1 / (3.8) + +22 * (9 / 3 - 4.1) / --5.7\n",
      "A|C\n",
      "((-7 / 2 - 9 / 2.0 + 9.6 + 9)) / 393.9580 - 6124.39 - 14 * +++(6) * (3 / 8 - 9.0 + 7) - (+6 - 2) * --6 / (9.9 + 6.0) * -8.9 * 0 / 2.9 - +3.44 / 41\n",
      "A|C\n",
      "(((4.3) * 6) + (3.1 + 3 - 7.5) / -3 + -+1 / (6) - -9.3 / 3.5 / 8.0) / 0\n",
      "A|C\n"
     ]
    }
   ],
   "source": [
    "%%top\n",
    "for i in range(10):\n",
    "    s = AorC_fuzzer.fuzz(key=AorC_start)\n",
    "    print(s)\n",
    "    print('A|C')\n",
    "    assert AorC_parser.can_parse(s)\n",
    "    assert faultA_parser.can_parse(s) or faultC_parser.can_parse(s)"
   ]
  },
  {
   "cell_type": "markdown",
   "metadata": {},
   "source": [
    "### B | C"
   ]
  },
  {
   "cell_type": "code",
   "execution_count": 474,
   "metadata": {},
   "outputs": [],
   "source": [
    "BorC_grammar, BorC_start = or_grammars(faultB_grammar, faultB_start, faultC_grammar, faultC_start)"
   ]
  },
  {
   "cell_type": "code",
   "execution_count": 475,
   "metadata": {},
   "outputs": [
    {
     "name": "stdout",
     "output_type": "stream",
     "text": [
      "<start or(.FB,.FC)> ::=\n",
      "|    <expr or(.FB,.FC)>\n",
      "<expr or(.FB,.FC)> ::=\n",
      "|    <term .FC>\n",
      "|    <term .FC> ' + ' <expr neg(+FC)>\n",
      "|    <term .FC> ' - ' <expr neg(+FC)>\n",
      "|    <term neg(+FC)> ' + ' <expr .FC>\n",
      "|    <term neg(+FC)> ' - ' <expr .FC>\n",
      "|    <term> ' + ' <expr LB_2>\n",
      "<term .FC> ::=\n",
      "|    <factor> ' / ' <term LC_2>\n",
      "<expr neg(+FC)> ::=\n",
      "|    <term neg(+FC)>\n",
      "|    <term neg(+FC)> ' + ' <expr neg(+FC)>\n",
      "|    <term neg(+FC)> ' - ' <expr neg(+FC)>\n",
      "<term neg(+FC)> ::=\n",
      "|    <factor neg(+FC)>\n",
      "|    <factor neg(+FC)> ' * ' <term neg(+FC)>\n",
      "|    <factor neg(+FC)> ' / ' <term neg(LC_2)>\n",
      "<expr .FC> ::=\n",
      "|    <term .FC>\n",
      "|    <term .FC> ' + ' <expr neg(+FC)>\n",
      "|    <term .FC> ' - ' <expr neg(+FC)>\n",
      "|    <term neg(+FC)> ' + ' <expr .FC>\n",
      "|    <term neg(+FC)> ' - ' <expr .FC>\n",
      "<term> ::=\n",
      "|    <factor>\n",
      "|    <factor> ' * ' <term>\n",
      "|    <factor> ' / ' <term>\n",
      "<expr LB_2> ::=\n",
      "|    <term>\n",
      "<factor> ::=\n",
      "|    '(' <expr> ')'\n",
      "|    '+' <factor>\n",
      "|    '-' <factor>\n",
      "|    <integer>\n",
      "|    <integer> '.' <integer>\n",
      "<term LC_2> ::=\n",
      "|    <factor LC_1>\n",
      "<expr> ::=\n",
      "|    <term>\n",
      "|    <term> ' + ' <expr>\n",
      "|    <term> ' - ' <expr>\n",
      "<integer> ::=\n",
      "|    <digit>\n",
      "|    <digit> <integer>\n",
      "<digit> ::=\n",
      "|    '0'\n",
      "|    '1'\n",
      "|    '2'\n",
      "|    '3'\n",
      "|    '4'\n",
      "|    '5'\n",
      "|    '6'\n",
      "|    '7'\n",
      "|    '8'\n",
      "|    '9'\n",
      "<factor LC_1> ::=\n",
      "|    <integer LC_1>\n",
      "<integer LC_1> ::=\n",
      "|    <digit LC_1>\n",
      "<digit LC_1> ::=\n",
      "|    '0'\n",
      "<factor neg(+FC)> ::=\n",
      "|    '(' <expr neg(+FC)> ')'\n",
      "|    '+' <factor neg(+FC)>\n",
      "|    '-' <factor neg(+FC)>\n",
      "|    <integer>\n",
      "|    <integer> '.' <integer>\n",
      "<term neg(LC_2)> ::=\n",
      "|    <factor neg(+FC)> ' * ' <term neg(+FC)>\n",
      "|    <factor neg(+FC)> ' / ' <term neg(+FC)>\n",
      "|    <factor neg(LC_1)>\n",
      "<factor neg(LC_1)> ::=\n",
      "|    '(' <expr neg(+FC)> ')'\n",
      "|    '+' <factor neg(+FC)>\n",
      "|    '-' <factor neg(+FC)>\n",
      "|    <integer neg(LC_1)>\n",
      "|    <integer> '.' <integer>\n",
      "<integer neg(LC_1)> ::=\n",
      "|    <digit neg(LC_1)>\n",
      "|    <digit> <integer>\n",
      "<digit neg(LC_1)> ::=\n",
      "|    '1'\n",
      "|    '2'\n",
      "|    '3'\n",
      "|    '4'\n",
      "|    '5'\n",
      "|    '6'\n",
      "|    '7'\n",
      "|    '8'\n",
      "|    '9'\n",
      "21 71\n"
     ]
    },
    {
     "data": {
      "text/plain": [
       "'<start or(.FB,.FC)>'"
      ]
     },
     "execution_count": 475,
     "metadata": {},
     "output_type": "execute_result"
    }
   ],
   "source": [
    "%%top\n",
    "Gs(BorC_grammar)\n",
    "BorC_start"
   ]
  },
  {
   "cell_type": "code",
   "execution_count": 476,
   "metadata": {},
   "outputs": [],
   "source": [
    "BorC_fuzzer = LimitFuzzer(BorC_grammar)\n",
    "BorC_parser = Parser(BorC_grammar, canonical=True, start_symbol=BorC_start)"
   ]
  },
  {
   "cell_type": "code",
   "execution_count": 477,
   "metadata": {},
   "outputs": [
    {
     "name": "stdout",
     "output_type": "stream",
     "text": [
      "-+76105.06 + 7 * --35.1\n",
      "B|C\n",
      "+6.5 / 0 - 88.9172\n",
      "B|C\n",
      "8.99 + (2.7 - -4.7 / +5 * 1.9 * 2 + 2.1 * 4) * 58 / ((2.4 - 9) / 5 + 6.2 * 3.8) * 8 / 0.4\n",
      "B|C\n",
      "+9138.6 / 0\n",
      "B|C\n",
      "5 / 13 - 88.03 / 0 - -1 * 2.9 * -(9 - 9) + 4 / (7 * 3.3 + 1.1 + 9.0) - 27 + -3 / -5.4 * 9 / 5\n",
      "B|C\n",
      "921 / 0\n",
      "B|C\n",
      "(++-4 - --+3.5 + --3.4) / 0 - (+3.04 - 3) / (5.4 / -9.1 * 8 / 2.6)\n",
      "B|C\n",
      "6 / +22.9 + (5.6 * ++2.7 * (9.8 + 2 + 8.8 - 1.5 + 9 + 1) - -5.5 * -9 * 7.5 - 9 + 3.3 / 7.8 - 2 + 4 - 4.4) / 5 / +-+(5 + 4)\n",
      "B|C\n",
      "+(--+5 - (3) * (0.9) * 3 / 4) - 8.173 / 0\n",
      "B|C\n",
      "2 / 0 + (++8 * (7.1 + 9) * (2) - 7 / 2 - (0) - 0 / 5.3 + 0 - 1) * +((4) / 7 / 7.9) / (6.1 + 2 * 9 + 7) * (1 / 3.7 - 7.2 - 0) / -+6.9 + 09.2 * ((5) - 6.7) / 46.48 + +(5 * 1.3 - 4) / -(9 + 3) * +8.7 * +7.8 * 6.6\n",
      "B|C\n"
     ]
    }
   ],
   "source": [
    "%%top\n",
    "for i in range(10):\n",
    "    s = BorC_fuzzer.fuzz(key=BorC_start)\n",
    "    print(s)\n",
    "    print('B|C')\n",
    "    assert BorC_parser.can_parse(s)\n",
    "    assert faultB_parser.can_parse(s) or faultC_parser.can_parse(s)"
   ]
  },
  {
   "cell_type": "markdown",
   "metadata": {},
   "source": [
    "## Negation"
   ]
  },
  {
   "cell_type": "code",
   "execution_count": 478,
   "metadata": {},
   "outputs": [
    {
     "data": {
      "text/plain": [
       "[]"
      ]
     },
     "execution_count": 478,
     "metadata": {},
     "output_type": "execute_result"
    }
   ],
   "source": [
    "EXCEPTION_HAPPENED"
   ]
  },
  {
   "cell_type": "markdown",
   "metadata": {},
   "source": [
    "### A - B"
   ]
  },
  {
   "cell_type": "code",
   "execution_count": 479,
   "metadata": {},
   "outputs": [],
   "source": [
    "AminusB_grammar, AminusB_start = and_grammars(faultA_grammar, faultA_start, neg_B_grammar, neg_B_start)"
   ]
  },
  {
   "cell_type": "code",
   "execution_count": 480,
   "metadata": {
    "scrolled": false
   },
   "outputs": [
    {
     "name": "stdout",
     "output_type": "stream",
     "text": [
      "<start and(.FA,neg(.FB))> ::=\n",
      "|    <expr and(.FA,neg(.FB))>\n",
      "<expr and(.FA,neg(.FB))> ::=\n",
      "|    <term .FA>\n",
      "|    <term .FA> ' + ' <expr and(neg(+FA),neg(LB_2))>\n",
      "|    <term .FA> ' - ' <expr neg(+FA)>\n",
      "|    <term neg(+FA)> ' + ' <expr and(.FA,neg(LB_2))>\n",
      "|    <term neg(+FA)> ' - ' <expr .FA>\n",
      "<term .FA> ::=\n",
      "|    <factor .FA>\n",
      "|    <factor .FA> ' * ' <term neg(+FA)>\n",
      "|    <factor .FA> ' / ' <term neg(+FA)>\n",
      "|    <factor neg(+FA)> ' * ' <term .FA>\n",
      "|    <factor neg(+FA)> ' / ' <term .FA>\n",
      "<expr and(neg(+FA),neg(LB_2))> ::=\n",
      "|    <term neg(+FA)> ' + ' <expr neg(+FA)>\n",
      "|    <term neg(+FA)> ' - ' <expr neg(+FA)>\n",
      "<expr neg(+FA)> ::=\n",
      "|    <term neg(+FA)>\n",
      "|    <term neg(+FA)> ' + ' <expr neg(+FA)>\n",
      "|    <term neg(+FA)> ' - ' <expr neg(+FA)>\n",
      "<term neg(+FA)> ::=\n",
      "|    <factor neg(+FA)>\n",
      "|    <factor neg(+FA)> ' * ' <term neg(+FA)>\n",
      "|    <factor neg(+FA)> ' / ' <term neg(+FA)>\n",
      "<expr and(.FA,neg(LB_2))> ::=\n",
      "|    <term .FA> ' + ' <expr neg(+FA)>\n",
      "|    <term .FA> ' - ' <expr neg(+FA)>\n",
      "|    <term neg(+FA)> ' + ' <expr .FA>\n",
      "|    <term neg(+FA)> ' - ' <expr .FA>\n",
      "<expr .FA> ::=\n",
      "|    <term .FA>\n",
      "|    <term .FA> ' + ' <expr neg(+FA)>\n",
      "|    <term .FA> ' - ' <expr neg(+FA)>\n",
      "|    <term neg(+FA)> ' + ' <expr .FA>\n",
      "|    <term neg(+FA)> ' - ' <expr .FA>\n",
      "<factor .FA> ::=\n",
      "|    '(' <expr LA_1> ')'\n",
      "<factor neg(+FA)> ::=\n",
      "|    '(' <expr neg(LA_1)> ')'\n",
      "|    '+' <factor neg(+FA)>\n",
      "|    '-' <factor neg(+FA)>\n",
      "|    <integer>\n",
      "|    <integer> '.' <integer>\n",
      "<expr LA_1> ::=\n",
      "|    <term LA_1>\n",
      "<term LA_1> ::=\n",
      "|    <factor LA_2>\n",
      "<factor LA_2> ::=\n",
      "|    '(' <expr> ')'\n",
      "<expr> ::=\n",
      "|    <term>\n",
      "|    <term> ' + ' <expr>\n",
      "|    <term> ' - ' <expr>\n",
      "<term> ::=\n",
      "|    <factor>\n",
      "|    <factor> ' * ' <term>\n",
      "|    <factor> ' / ' <term>\n",
      "<factor> ::=\n",
      "|    '(' <expr> ')'\n",
      "|    '+' <factor>\n",
      "|    '-' <factor>\n",
      "|    <integer>\n",
      "|    <integer> '.' <integer>\n",
      "<integer> ::=\n",
      "|    <digit>\n",
      "|    <digit> <integer>\n",
      "<digit> ::=\n",
      "|    '0'\n",
      "|    '1'\n",
      "|    '2'\n",
      "|    '3'\n",
      "|    '4'\n",
      "|    '5'\n",
      "|    '6'\n",
      "|    '7'\n",
      "|    '8'\n",
      "|    '9'\n",
      "<expr neg(LA_1)> ::=\n",
      "|    <term neg(+FA)> ' + ' <expr neg(+FA)>\n",
      "|    <term neg(+FA)> ' - ' <expr neg(+FA)>\n",
      "|    <term neg(LA_1)>\n",
      "<term neg(LA_1)> ::=\n",
      "|    <factor neg(+FA)> ' * ' <term neg(+FA)>\n",
      "|    <factor neg(+FA)> ' / ' <term neg(+FA)>\n",
      "|    <factor neg(LA_2)>\n",
      "<factor neg(LA_2)> ::=\n",
      "|    '+' <factor neg(+FA)>\n",
      "|    '-' <factor neg(+FA)>\n",
      "|    <integer>\n",
      "|    <integer> '.' <integer>\n",
      "21 70\n"
     ]
    },
    {
     "data": {
      "text/plain": [
       "'<start and(.FA,neg(.FB))>'"
      ]
     },
     "execution_count": 480,
     "metadata": {},
     "output_type": "execute_result"
    }
   ],
   "source": [
    "%%top\n",
    "Gs(AminusB_grammar)\n",
    "AminusB_start"
   ]
  },
  {
   "cell_type": "code",
   "execution_count": 481,
   "metadata": {},
   "outputs": [],
   "source": [
    "AminusB_fuzzer = LimitFuzzer(AminusB_grammar)\n",
    "AminusB_parser = Parser(AminusB_grammar, canonical=True, start_symbol=AminusB_start)"
   ]
  },
  {
   "cell_type": "code",
   "execution_count": 482,
   "metadata": {},
   "outputs": [
    {
     "name": "stdout",
     "output_type": "stream",
     "text": [
      "9.19 / -+--(7 + 1) / 98.78 + ++(-5 / 8 / 9 - 6 * 1) - 6 * 4.5 * (3 / 8 - 4.2 - 4.9) * ((4)) / 8 * 2.0 + 46 * 488 / -8.4\n",
      "A-B\n",
      "A\n",
      "B\n",
      "+3 * 8.71 - ((2 * 3 + 8.7)) - 1.16 * 6.76 * (0 / 7)\n",
      "A-B\n",
      "A\n",
      "B\n",
      "((+5.4 / 1.1)) * +8.7\n",
      "A-B\n",
      "A\n",
      "B\n",
      "(+(7.2 * 3 - 3.8 - 6.7) + 7 / -+5.5 * +6.0 / 4) * 5641.47 - 64 / ((0 - 4.8)) + +0 / 666 + --8.03\n",
      "A-B\n",
      "A\n",
      "B\n",
      "((8.2)) / +60111 + 29.5 / ((5.2) * (2.2)) - 0 * 5 / -9.1 / 05 * +3.7 * 8 * 2.8 + 8.5 / -+-7.2 + 5 / +-4.7 / -1.2 * 9 + 6 * 3 * 3.5 * 4.8\n",
      "A-B\n",
      "A\n",
      "B\n",
      "((+4 * 5 / 0.8)) / 089.792731 / +-+41.4 / (2.3 * 0 - 0 / 4 + 3 + 8) * (0 / 7.3 - 6 + 6) + -+-(6.6 + 4.6 - 7) * 6 - (9 * 9.4 + +1.4 * 2 / 6.2)\n",
      "A-B\n",
      "A\n",
      "B\n",
      "-3 * ((9.0 * 5.2))\n",
      "A-B\n",
      "A\n",
      "B\n",
      "((9.6 * 0.5 / 8.1 - 7.4 / 2.9 - 2 + 7.4))\n",
      "A-B\n",
      "A\n",
      "B\n",
      "-+-2612.0 * (1 / (9) * 5 * 5.6 / 4 - 9 * +7 * 8.9 * 3.8) - -(+(2) / +3) - ((2.5)) * -(7 - 8.0 + 7.9) * -++4.2\n",
      "A-B\n",
      "A\n",
      "B\n",
      "+62.04 * 12 * (-+4 / 3) + ((9.7 - 8.9)) + 47108 / 74 / 585.9 / -(1) / 4.5 - 8799.6 * +24.0 * +9.9 + 9.72 * -7.6 / +6 / 5 / 4.2 - 01.8 / -4.8 / 7.8 / 1.5\n",
      "A-B\n",
      "A\n",
      "B\n"
     ]
    }
   ],
   "source": [
    "%%top\n",
    "for i in range(10):\n",
    "    s = AminusB_fuzzer.fuzz(key=AminusB_start)\n",
    "    print(s)\n",
    "    print('A-B')\n",
    "    assert AminusB_parser.can_parse(s)\n",
    "    print('A')\n",
    "    assert faultA_parser.can_parse(s)\n",
    "    print('B')\n",
    "    assert not faultB_parser.can_parse(s)"
   ]
  },
  {
   "cell_type": "markdown",
   "metadata": {},
   "source": [
    "### A - C"
   ]
  },
  {
   "cell_type": "code",
   "execution_count": 483,
   "metadata": {},
   "outputs": [],
   "source": [
    "AminusC_grammar, AminusC_start = and_grammars(faultA_grammar, faultA_start, neg_C_grammar, neg_C_start)"
   ]
  },
  {
   "cell_type": "code",
   "execution_count": 484,
   "metadata": {
    "scrolled": false
   },
   "outputs": [
    {
     "name": "stdout",
     "output_type": "stream",
     "text": [
      "<start and(.FA,neg(.FC))> ::=\n",
      "|    <expr and(.FA,neg(.FC))>\n",
      "<expr and(.FA,neg(.FC))> ::=\n",
      "|    <term .FA> ' + ' <expr and(+FC,neg(+FA),neg(.FC))>\n",
      "|    <term .FA> ' - ' <expr and(+FC,neg(+FA),neg(.FC))>\n",
      "|    <term and(+FC,.FA)> ' + ' <expr and(+FC,neg(+FA))>\n",
      "|    <term and(+FC,.FA)> ' - ' <expr and(+FC,neg(+FA))>\n",
      "|    <term and(+FC,.FA,neg(.FC))> ' + ' <expr neg(+FA)>\n",
      "|    <term and(+FC,.FA,neg(.FC))> ' - ' <expr neg(+FA)>\n",
      "|    <term and(+FC,neg(+FA))> ' + ' <expr and(+FC,.FA)>\n",
      "|    <term and(+FC,neg(+FA))> ' - ' <expr and(+FC,.FA)>\n",
      "|    <term and(+FC,neg(+FA),neg(.FC))> ' + ' <expr .FA>\n",
      "|    <term and(+FC,neg(+FA),neg(.FC))> ' - ' <expr .FA>\n",
      "|    <term and(.FA,neg(.FC))>\n",
      "|    <term and(.FA,neg(.FC))> ' + ' <expr and(neg(+FA),neg(.FC))>\n",
      "|    <term and(.FA,neg(.FC))> ' - ' <expr and(neg(+FA),neg(.FC))>\n",
      "|    <term and(neg(+FA),neg(.FC))> ' + ' <expr and(.FA,neg(.FC))>\n",
      "|    <term and(neg(+FA),neg(.FC))> ' - ' <expr and(.FA,neg(.FC))>\n",
      "|    <term neg(+FA)> ' + ' <expr and(+FC,.FA,neg(.FC))>\n",
      "|    <term neg(+FA)> ' - ' <expr and(+FC,.FA,neg(.FC))>\n",
      "<term .FA> ::=\n",
      "|    <factor .FA>\n",
      "|    <factor .FA> ' * ' <term neg(+FA)>\n",
      "|    <factor .FA> ' / ' <term neg(+FA)>\n",
      "|    <factor neg(+FA)> ' * ' <term .FA>\n",
      "|    <factor neg(+FA)> ' / ' <term .FA>\n",
      "<expr and(+FC,neg(+FA),neg(.FC))> ::=\n",
      "|    <term and(+FC,neg(+FA))> ' + ' <expr and(+FC,neg(+FA))>\n",
      "|    <term and(+FC,neg(+FA))> ' + ' <expr and(+FC,neg(+FA))>\n",
      "|    <term and(+FC,neg(+FA))> ' + ' <expr and(+FC,neg(+FA),neg(.FC))>\n",
      "|    <term and(+FC,neg(+FA))> ' - ' <expr and(+FC,neg(+FA))>\n",
      "|    <term and(+FC,neg(+FA))> ' - ' <expr and(+FC,neg(+FA))>\n",
      "|    <term and(+FC,neg(+FA))> ' - ' <expr and(+FC,neg(+FA),neg(.FC))>\n",
      "|    <term and(+FC,neg(+FA),neg(.FC))>\n",
      "|    <term and(+FC,neg(+FA),neg(.FC))> ' + ' <expr and(+FC,neg(+FA))>\n",
      "|    <term and(+FC,neg(+FA),neg(.FC))> ' + ' <expr and(neg(+FA),neg(.FC))>\n",
      "|    <term and(+FC,neg(+FA),neg(.FC))> ' + ' <expr neg(+FA)>\n",
      "|    <term and(+FC,neg(+FA),neg(.FC))> ' - ' <expr and(+FC,neg(+FA))>\n",
      "|    <term and(+FC,neg(+FA),neg(.FC))> ' - ' <expr and(neg(+FA),neg(.FC))>\n",
      "|    <term and(+FC,neg(+FA),neg(.FC))> ' - ' <expr neg(+FA)>\n",
      "|    <term and(neg(+FA),neg(.FC))> ' + ' <expr and(+FC,neg(+FA),neg(.FC))>\n",
      "|    <term and(neg(+FA),neg(.FC))> ' - ' <expr and(+FC,neg(+FA),neg(.FC))>\n",
      "|    <term neg(+FA)> ' + ' <expr and(+FC,neg(+FA),neg(.FC))>\n",
      "|    <term neg(+FA)> ' - ' <expr and(+FC,neg(+FA),neg(.FC))>\n",
      "<term and(+FC,.FA)> ::=\n",
      "|    <factor .FA> ' * ' <term and(+FC,neg(+FA))>\n",
      "|    <factor .FA> ' / ' <term and(LC_2,neg(+FA))>\n",
      "|    <factor and(+FC,.FA)>\n",
      "|    <factor and(+FC,.FA)> ' * ' <term neg(+FA)>\n",
      "|    <factor and(+FC,.FA)> ' / ' <term neg(+FA)>\n",
      "|    <factor and(+FC,neg(+FA))> ' * ' <term .FA>\n",
      "|    <factor and(+FC,neg(+FA))> ' / ' <term .FA>\n",
      "|    <factor neg(+FA)> ' * ' <term and(+FC,.FA)>\n",
      "<expr and(+FC,neg(+FA))> ::=\n",
      "|    <term and(+FC,neg(+FA))>\n",
      "|    <term and(+FC,neg(+FA))> ' + ' <expr neg(+FA)>\n",
      "|    <term and(+FC,neg(+FA))> ' - ' <expr neg(+FA)>\n",
      "|    <term neg(+FA)> ' + ' <expr and(+FC,neg(+FA))>\n",
      "|    <term neg(+FA)> ' - ' <expr and(+FC,neg(+FA))>\n",
      "<term and(+FC,.FA,neg(.FC))> ::=\n",
      "|    <factor .FA> ' * ' <term and(+FC,neg(+FA))>\n",
      "|    <factor and(+FC,.FA)>\n",
      "|    <factor and(+FC,.FA)> ' * ' <term neg(+FA)>\n",
      "|    <factor and(+FC,.FA)> ' / ' <term and(neg(+FA),neg(LC_2))>\n",
      "|    <factor and(+FC,neg(+FA))> ' * ' <term .FA>\n",
      "|    <factor and(+FC,neg(+FA))> ' / ' <term and(.FA,neg(LC_2))>\n",
      "|    <factor neg(+FA)> ' * ' <term and(+FC,.FA)>\n",
      "<expr neg(+FA)> ::=\n",
      "|    <term neg(+FA)>\n",
      "|    <term neg(+FA)> ' + ' <expr neg(+FA)>\n",
      "|    <term neg(+FA)> ' - ' <expr neg(+FA)>\n",
      "<term and(+FC,neg(+FA))> ::=\n",
      "|    <factor and(+FC,neg(+FA))>\n",
      "|    <factor and(+FC,neg(+FA))> ' * ' <term neg(+FA)>\n",
      "|    <factor and(+FC,neg(+FA))> ' / ' <term neg(+FA)>\n",
      "|    <factor neg(+FA)> ' * ' <term and(+FC,neg(+FA))>\n",
      "|    <factor neg(+FA)> ' / ' <term and(LC_2,neg(+FA))>\n",
      "<expr and(+FC,.FA)> ::=\n",
      "|    <term .FA> ' + ' <expr and(+FC,neg(+FA))>\n",
      "|    <term .FA> ' - ' <expr and(+FC,neg(+FA))>\n",
      "|    <term and(+FC,.FA)>\n",
      "|    <term and(+FC,.FA)> ' + ' <expr neg(+FA)>\n",
      "|    <term and(+FC,.FA)> ' - ' <expr neg(+FA)>\n",
      "|    <term and(+FC,neg(+FA))> ' + ' <expr .FA>\n",
      "|    <term and(+FC,neg(+FA))> ' - ' <expr .FA>\n",
      "|    <term neg(+FA)> ' + ' <expr and(+FC,.FA)>\n",
      "|    <term neg(+FA)> ' - ' <expr and(+FC,.FA)>\n",
      "<term and(+FC,neg(+FA),neg(.FC))> ::=\n",
      "|    <factor and(+FC,neg(+FA))>\n",
      "|    <factor and(+FC,neg(+FA))> ' * ' <term neg(+FA)>\n",
      "|    <factor and(+FC,neg(+FA))> ' / ' <term and(neg(+FA),neg(LC_2))>\n",
      "|    <factor neg(+FA)> ' * ' <term and(+FC,neg(+FA))>\n",
      "<expr .FA> ::=\n",
      "|    <term .FA>\n",
      "|    <term .FA> ' + ' <expr neg(+FA)>\n",
      "|    <term .FA> ' - ' <expr neg(+FA)>\n",
      "|    <term neg(+FA)> ' + ' <expr .FA>\n",
      "|    <term neg(+FA)> ' - ' <expr .FA>\n",
      "<term and(.FA,neg(.FC))> ::=\n",
      "|    <factor .FA>\n",
      "|    <factor .FA> ' * ' <term neg(+FA)>\n",
      "|    <factor .FA> ' / ' <term and(neg(+FA),neg(LC_2))>\n",
      "|    <factor neg(+FA)> ' * ' <term .FA>\n",
      "|    <factor neg(+FA)> ' / ' <term and(.FA,neg(LC_2))>\n",
      "<expr and(neg(+FA),neg(.FC))> ::=\n",
      "|    <term and(+FC,neg(+FA))> ' + ' <expr and(+FC,neg(+FA))>\n",
      "|    <term and(+FC,neg(+FA))> ' - ' <expr and(+FC,neg(+FA))>\n",
      "|    <term and(+FC,neg(+FA),neg(.FC))> ' + ' <expr neg(+FA)>\n",
      "|    <term and(+FC,neg(+FA),neg(.FC))> ' - ' <expr neg(+FA)>\n",
      "|    <term and(neg(+FA),neg(.FC))>\n",
      "|    <term and(neg(+FA),neg(.FC))> ' + ' <expr and(neg(+FA),neg(.FC))>\n",
      "|    <term and(neg(+FA),neg(.FC))> ' - ' <expr and(neg(+FA),neg(.FC))>\n",
      "|    <term neg(+FA)> ' + ' <expr and(+FC,neg(+FA),neg(.FC))>\n",
      "|    <term neg(+FA)> ' - ' <expr and(+FC,neg(+FA),neg(.FC))>\n",
      "<term and(neg(+FA),neg(.FC))> ::=\n",
      "|    <factor neg(+FA)>\n",
      "|    <factor neg(+FA)> ' * ' <term neg(+FA)>\n",
      "|    <factor neg(+FA)> ' / ' <term and(neg(+FA),neg(LC_2))>\n",
      "<term neg(+FA)> ::=\n",
      "|    <factor neg(+FA)>\n",
      "|    <factor neg(+FA)> ' * ' <term neg(+FA)>\n",
      "|    <factor neg(+FA)> ' / ' <term neg(+FA)>\n",
      "<expr and(+FC,.FA,neg(.FC))> ::=\n",
      "|    <term .FA> ' + ' <expr and(+FC,neg(+FA),neg(.FC))>\n",
      "|    <term .FA> ' - ' <expr and(+FC,neg(+FA),neg(.FC))>\n",
      "|    <term and(+FC,.FA)> ' + ' <expr and(+FC,neg(+FA))>\n",
      "|    <term and(+FC,.FA)> ' + ' <expr and(+FC,neg(+FA))>\n",
      "|    <term and(+FC,.FA)> ' + ' <expr and(+FC,neg(+FA),neg(.FC))>\n",
      "|    <term and(+FC,.FA)> ' - ' <expr and(+FC,neg(+FA))>\n",
      "|    <term and(+FC,.FA)> ' - ' <expr and(+FC,neg(+FA))>\n",
      "|    <term and(+FC,.FA)> ' - ' <expr and(+FC,neg(+FA),neg(.FC))>\n",
      "|    <term and(+FC,.FA,neg(.FC))>\n",
      "|    <term and(+FC,.FA,neg(.FC))> ' + ' <expr and(+FC,neg(+FA))>\n",
      "|    <term and(+FC,.FA,neg(.FC))> ' + ' <expr and(neg(+FA),neg(.FC))>\n",
      "|    <term and(+FC,.FA,neg(.FC))> ' + ' <expr neg(+FA)>\n",
      "|    <term and(+FC,.FA,neg(.FC))> ' - ' <expr and(+FC,neg(+FA))>\n",
      "|    <term and(+FC,.FA,neg(.FC))> ' - ' <expr and(neg(+FA),neg(.FC))>\n",
      "|    <term and(+FC,.FA,neg(.FC))> ' - ' <expr neg(+FA)>\n",
      "|    <term and(+FC,neg(+FA))> ' + ' <expr and(+FC,.FA)>\n",
      "|    <term and(+FC,neg(+FA))> ' + ' <expr and(+FC,.FA)>\n",
      "|    <term and(+FC,neg(+FA))> ' + ' <expr and(+FC,.FA,neg(.FC))>\n",
      "|    <term and(+FC,neg(+FA))> ' - ' <expr and(+FC,.FA)>\n",
      "|    <term and(+FC,neg(+FA))> ' - ' <expr and(+FC,.FA)>\n",
      "|    <term and(+FC,neg(+FA))> ' - ' <expr and(+FC,.FA,neg(.FC))>\n",
      "|    <term and(+FC,neg(+FA),neg(.FC))> ' + ' <expr .FA>\n",
      "|    <term and(+FC,neg(+FA),neg(.FC))> ' + ' <expr and(+FC,.FA)>\n",
      "|    <term and(+FC,neg(+FA),neg(.FC))> ' + ' <expr and(.FA,neg(.FC))>\n",
      "|    <term and(+FC,neg(+FA),neg(.FC))> ' - ' <expr .FA>\n",
      "|    <term and(+FC,neg(+FA),neg(.FC))> ' - ' <expr and(+FC,.FA)>\n",
      "|    <term and(+FC,neg(+FA),neg(.FC))> ' - ' <expr and(.FA,neg(.FC))>\n",
      "|    <term and(.FA,neg(.FC))> ' + ' <expr and(+FC,neg(+FA),neg(.FC))>\n",
      "|    <term and(.FA,neg(.FC))> ' - ' <expr and(+FC,neg(+FA),neg(.FC))>\n",
      "|    <term and(neg(+FA),neg(.FC))> ' + ' <expr and(+FC,.FA,neg(.FC))>\n",
      "|    <term and(neg(+FA),neg(.FC))> ' - ' <expr and(+FC,.FA,neg(.FC))>\n",
      "|    <term neg(+FA)> ' + ' <expr and(+FC,.FA,neg(.FC))>\n",
      "|    <term neg(+FA)> ' - ' <expr and(+FC,.FA,neg(.FC))>\n",
      "<factor .FA> ::=\n",
      "|    '(' <expr LA_1> ')'\n",
      "<factor neg(+FA)> ::=\n",
      "|    '(' <expr neg(LA_1)> ')'\n",
      "|    '+' <factor neg(+FA)>\n",
      "|    '-' <factor neg(+FA)>\n",
      "|    <integer>\n",
      "|    <integer> '.' <integer>\n",
      "<expr LA_1> ::=\n",
      "|    <term LA_1>\n",
      "<term LA_1> ::=\n",
      "|    <factor LA_2>\n",
      "<factor LA_2> ::=\n",
      "|    '(' <expr> ')'\n",
      "<expr> ::=\n",
      "|    <term>\n",
      "|    <term> ' + ' <expr>\n",
      "|    <term> ' - ' <expr>\n",
      "<term> ::=\n",
      "|    <factor>\n",
      "|    <factor> ' * ' <term>\n",
      "|    <factor> ' / ' <term>\n",
      "<factor> ::=\n",
      "|    '(' <expr> ')'\n",
      "|    '+' <factor>\n",
      "|    '-' <factor>\n",
      "|    <integer>\n",
      "|    <integer> '.' <integer>\n",
      "<integer> ::=\n",
      "|    <digit>\n",
      "|    <digit> <integer>\n",
      "<digit> ::=\n",
      "|    '0'\n",
      "|    '1'\n",
      "|    '2'\n",
      "|    '3'\n",
      "|    '4'\n",
      "|    '5'\n",
      "|    '6'\n",
      "|    '7'\n",
      "|    '8'\n",
      "|    '9'\n",
      "<expr neg(LA_1)> ::=\n",
      "|    <term neg(+FA)> ' + ' <expr neg(+FA)>\n",
      "|    <term neg(+FA)> ' - ' <expr neg(+FA)>\n",
      "|    <term neg(LA_1)>\n",
      "<term neg(LA_1)> ::=\n",
      "|    <factor neg(+FA)> ' * ' <term neg(+FA)>\n",
      "|    <factor neg(+FA)> ' / ' <term neg(+FA)>\n",
      "|    <factor neg(LA_2)>\n",
      "<factor neg(LA_2)> ::=\n",
      "|    '+' <factor neg(+FA)>\n",
      "|    '-' <factor neg(+FA)>\n",
      "|    <integer>\n",
      "|    <integer> '.' <integer>\n",
      "<term and(LC_2,neg(+FA))> ::=\n",
      "|    <factor and(LC_1,neg(+FA))>\n",
      "<factor and(+FC,.FA)> ::=\n",
      "|    '(' <expr and(+FC,LA_1)> ')'\n",
      "<factor and(+FC,neg(+FA))> ::=\n",
      "|    '(' <expr and(+FC,neg(LA_1))> ')'\n",
      "|    '+' <factor and(+FC,neg(+FA))>\n",
      "|    '-' <factor and(+FC,neg(+FA))>\n",
      "<factor and(LC_1,neg(+FA))> ::=\n",
      "|    <integer LC_1>\n",
      "<integer LC_1> ::=\n",
      "|    <digit LC_1>\n",
      "<digit LC_1> ::=\n",
      "|    '0'\n",
      "<expr and(+FC,LA_1)> ::=\n",
      "|    <term and(+FC,LA_1)>\n",
      "<term and(+FC,LA_1)> ::=\n",
      "|    <factor and(+FC,LA_2)>\n",
      "<factor and(+FC,LA_2)> ::=\n",
      "|    '(' <expr +FC> ')'\n",
      "<expr +FC> ::=\n",
      "|    <term +FC>\n",
      "|    <term +FC> ' + ' <expr>\n",
      "|    <term +FC> ' - ' <expr>\n",
      "|    <term> ' + ' <expr +FC>\n",
      "|    <term> ' - ' <expr +FC>\n",
      "<term +FC> ::=\n",
      "|    <factor +FC>\n",
      "|    <factor +FC> ' * ' <term>\n",
      "|    <factor +FC> ' / ' <term>\n",
      "|    <factor> ' * ' <term +FC>\n",
      "|    <factor> ' / ' <term LC_2>\n",
      "<factor +FC> ::=\n",
      "|    '(' <expr +FC> ')'\n",
      "|    '+' <factor +FC>\n",
      "|    '-' <factor +FC>\n",
      "<term LC_2> ::=\n",
      "|    <factor LC_1>\n",
      "<factor LC_1> ::=\n",
      "|    <integer LC_1>\n",
      "<expr and(+FC,neg(LA_1))> ::=\n",
      "|    <term and(+FC,neg(+FA))> ' + ' <expr neg(+FA)>\n",
      "|    <term and(+FC,neg(+FA))> ' - ' <expr neg(+FA)>\n",
      "|    <term and(+FC,neg(LA_1))>\n",
      "|    <term neg(+FA)> ' + ' <expr and(+FC,neg(+FA))>\n",
      "|    <term neg(+FA)> ' - ' <expr and(+FC,neg(+FA))>\n",
      "<term and(+FC,neg(LA_1))> ::=\n",
      "|    <factor and(+FC,neg(+FA))> ' * ' <term neg(+FA)>\n",
      "|    <factor and(+FC,neg(+FA))> ' / ' <term neg(+FA)>\n",
      "|    <factor and(+FC,neg(LA_2))>\n",
      "|    <factor neg(+FA)> ' * ' <term and(+FC,neg(+FA))>\n",
      "|    <factor neg(+FA)> ' / ' <term and(LC_2,neg(+FA))>\n",
      "<factor and(+FC,neg(LA_2))> ::=\n",
      "|    '+' <factor and(+FC,neg(+FA))>\n",
      "|    '-' <factor and(+FC,neg(+FA))>\n",
      "<term and(neg(+FA),neg(LC_2))> ::=\n",
      "|    <factor and(neg(+FA),neg(+FC))> ' * ' <term and(neg(+FA),neg(+FC))>\n",
      "|    <factor and(neg(+FA),neg(+FC))> ' / ' <term and(neg(+FA),neg(+FC))>\n",
      "|    <factor and(neg(+FA),neg(LC_1))>\n",
      "<term and(.FA,neg(LC_2))> ::=\n",
      "|    <factor and(.FA,neg(+FC))> ' * ' <term and(neg(+FA),neg(+FC))>\n",
      "|    <factor and(.FA,neg(+FC))> ' / ' <term and(neg(+FA),neg(+FC))>\n",
      "|    <factor and(.FA,neg(LC_1))>\n",
      "|    <factor and(neg(+FA),neg(+FC))> ' * ' <term and(.FA,neg(+FC))>\n",
      "|    <factor and(neg(+FA),neg(+FC))> ' / ' <term and(.FA,neg(+FC))>\n",
      "<factor and(neg(+FA),neg(+FC))> ::=\n",
      "|    '(' <expr and(neg(+FC),neg(LA_1))> ')'\n",
      "|    '+' <factor and(neg(+FA),neg(+FC))>\n",
      "|    '-' <factor and(neg(+FA),neg(+FC))>\n",
      "|    <integer>\n",
      "|    <integer> '.' <integer>\n",
      "<term and(neg(+FA),neg(+FC))> ::=\n",
      "|    <factor and(neg(+FA),neg(+FC))>\n",
      "|    <factor and(neg(+FA),neg(+FC))> ' * ' <term and(neg(+FA),neg(+FC))>\n",
      "|    <factor and(neg(+FA),neg(+FC))> ' / ' <term and(neg(+FA),neg(LC_2))>\n",
      "<factor and(neg(+FA),neg(LC_1))> ::=\n",
      "|    '(' <expr and(neg(+FC),neg(LA_1))> ')'\n",
      "|    '+' <factor and(neg(+FA),neg(+FC))>\n",
      "|    '-' <factor and(neg(+FA),neg(+FC))>\n",
      "|    <integer neg(LC_1)>\n",
      "|    <integer> '.' <integer>\n",
      "<expr and(neg(+FC),neg(LA_1))> ::=\n",
      "|    <term and(neg(+FA),neg(+FC))> ' + ' <expr and(neg(+FA),neg(+FC))>\n",
      "|    <term and(neg(+FA),neg(+FC))> ' - ' <expr and(neg(+FA),neg(+FC))>\n",
      "|    <term and(neg(+FC),neg(LA_1))>\n",
      "<expr and(neg(+FA),neg(+FC))> ::=\n",
      "|    <term and(neg(+FA),neg(+FC))>\n",
      "|    <term and(neg(+FA),neg(+FC))> ' + ' <expr and(neg(+FA),neg(+FC))>\n",
      "|    <term and(neg(+FA),neg(+FC))> ' - ' <expr and(neg(+FA),neg(+FC))>\n",
      "<term and(neg(+FC),neg(LA_1))> ::=\n",
      "|    <factor and(neg(+FA),neg(+FC))> ' * ' <term and(neg(+FA),neg(+FC))>\n",
      "|    <factor and(neg(+FA),neg(+FC))> ' / ' <term and(neg(+FA),neg(LC_2))>\n",
      "|    <factor and(neg(+FC),neg(LA_2))>\n",
      "<factor and(neg(+FC),neg(LA_2))> ::=\n",
      "|    '+' <factor and(neg(+FA),neg(+FC))>\n",
      "|    '-' <factor and(neg(+FA),neg(+FC))>\n",
      "|    <integer>\n",
      "|    <integer> '.' <integer>\n",
      "<integer neg(LC_1)> ::=\n",
      "|    <digit neg(LC_1)>\n",
      "|    <digit> <integer>\n",
      "<digit neg(LC_1)> ::=\n",
      "|    '1'\n",
      "|    '2'\n",
      "|    '3'\n",
      "|    '4'\n",
      "|    '5'\n",
      "|    '6'\n",
      "|    '7'\n",
      "|    '8'\n",
      "|    '9'\n",
      "<factor and(.FA,neg(+FC))> ::=\n",
      "|    '(' <expr and(LA_1,neg(+FC))> ')'\n",
      "<factor and(.FA,neg(LC_1))> ::=\n",
      "|    '(' <expr and(LA_1,neg(+FC))> ')'\n",
      "<term and(.FA,neg(+FC))> ::=\n",
      "|    <factor and(.FA,neg(+FC))>\n",
      "|    <factor and(.FA,neg(+FC))> ' * ' <term and(neg(+FA),neg(+FC))>\n",
      "|    <factor and(.FA,neg(+FC))> ' / ' <term and(neg(+FA),neg(LC_2))>\n",
      "|    <factor and(neg(+FA),neg(+FC))> ' * ' <term and(.FA,neg(+FC))>\n",
      "|    <factor and(neg(+FA),neg(+FC))> ' / ' <term and(.FA,neg(LC_2))>\n",
      "<expr and(LA_1,neg(+FC))> ::=\n",
      "|    <term and(LA_1,neg(+FC))>\n",
      "<term and(LA_1,neg(+FC))> ::=\n",
      "|    <factor and(LA_2,neg(+FC))>\n",
      "<factor and(LA_2,neg(+FC))> ::=\n",
      "|    '(' <expr neg(+FC)> ')'\n",
      "<expr neg(+FC)> ::=\n",
      "|    <term neg(+FC)>\n",
      "|    <term neg(+FC)> ' + ' <expr neg(+FC)>\n",
      "|    <term neg(+FC)> ' - ' <expr neg(+FC)>\n",
      "<term neg(+FC)> ::=\n",
      "|    <factor neg(+FC)>\n",
      "|    <factor neg(+FC)> ' * ' <term neg(+FC)>\n",
      "|    <factor neg(+FC)> ' / ' <term neg(LC_2)>\n",
      "<factor neg(+FC)> ::=\n",
      "|    '(' <expr neg(+FC)> ')'\n",
      "|    '+' <factor neg(+FC)>\n",
      "|    '-' <factor neg(+FC)>\n",
      "|    <integer>\n",
      "|    <integer> '.' <integer>\n",
      "<term neg(LC_2)> ::=\n",
      "|    <factor neg(+FC)> ' * ' <term neg(+FC)>\n",
      "|    <factor neg(+FC)> ' / ' <term neg(+FC)>\n",
      "|    <factor neg(LC_1)>\n",
      "<factor neg(LC_1)> ::=\n",
      "|    '(' <expr neg(+FC)> ')'\n",
      "|    '+' <factor neg(+FC)>\n",
      "|    '-' <factor neg(+FC)>\n",
      "|    <integer neg(LC_1)>\n",
      "|    <integer> '.' <integer>\n",
      "69 293\n"
     ]
    },
    {
     "data": {
      "text/plain": [
       "'<start and(.FA,neg(.FC))>'"
      ]
     },
     "execution_count": 484,
     "metadata": {},
     "output_type": "execute_result"
    }
   ],
   "source": [
    "%%top\n",
    "Gs(AminusC_grammar)\n",
    "AminusC_start"
   ]
  },
  {
   "cell_type": "code",
   "execution_count": 485,
   "metadata": {},
   "outputs": [],
   "source": [
    "AminusC_fuzzer = LimitFuzzer(AminusC_grammar)\n",
    "AminusC_parser = Parser(AminusC_grammar, canonical=True, start_symbol=AminusC_start)"
   ]
  },
  {
   "cell_type": "code",
   "execution_count": 486,
   "metadata": {},
   "outputs": [
    {
     "name": "stdout",
     "output_type": "stream",
     "text": [
      "-----7.6 * 3 + ++-((5.1 / 0) * 9 - 4) / (5.89) / +278 * (2 * 8 + 6.2) * ((2)) - +(-(8 / 0) + 3 / 5.6 + 5.7) / +(2.9 / 4.7) / -+-9 - (+5 * 2.9 * 5.3 + 9 * 0.0) * 2.950 / 0 + 07.1\n",
      "A-C\n",
      "A\n",
      "C\n",
      "-(+++4.7 / 94.12 + 38 * +8.5 - +6 + 3 * 0) * ((5 * 9.5 - 2.0 + 6) - 3 * -3.1 - 2 * 3 * 5 + 1 + 2.3) / 60.1 - (9.9 / 5 * +3 * 4 / 0.0) / 17 + 5 * 5 / (9 / 4 + 6 + 0) * --1 / +1.4 / 4.6 / 6 + ++-(1 / 0) * 8.9 / 13.4 - ++(7 / 0) / ((9.2)) * +9 / 2 / 3.7 - --(4.6 / 0) * -4 / 9 / 2\n",
      "A-C\n",
      "A\n",
      "C\n",
      "-(+0 + 1.58 * 2 / 7.7 / 5.7 + -6) * +--((7 / 0) - 0.1) + ((8 - 6.5 + 9)) + 53.59 - (+2.7 / 2) * 496 / -1.5 * (6.6) * 4.6 * 7.9 - 89.8 + 7 * +5.4\n",
      "A-C\n",
      "A\n",
      "C\n",
      "-(-2.69 * 8 * 7 / 7.6 * 4.1) * -++201 * -54 * -(7.6 + 6 - 5.6 / 0) - ((2.9)) * 4 / (2.2 * 5 * 3.3 - 9 + 4.6 + 1.2) * +3 * (5.0 - 7) - 6 * (+(1.4 / 0) / 1 * 2) * -(7.3 - 9.9) - --73 / 620 - 8.54 / 4.8\n",
      "A-C\n",
      "A\n",
      "C\n",
      "((1 * 1.5 / 2)) * +144.3 / -((2) * 6.3 / 7.8) * ++-6.6 * 63.5 / 59.24 - ---+++(5 / 0) + 51411 / 0 + (7 + 9 * 9) + +24 / +1 - -4 / -4.5 / 1 / 1.3\n",
      "A-C\n",
      "A\n",
      "C\n",
      "+((6.1 / 5 + 0.6 + 9.6) / 0) / ((0 / 4 - 6.2 + 2)) + +-+2.574 / (+6 * -5 * 5 * 0.6)\n",
      "A-C\n",
      "A\n",
      "C\n",
      "((8 * 2.7 - 0.4 * 3.9 + 3 - 2.5)) / -5.11 / (+5 / -7 - 8 / 9 * 7.0 - 6 - 0.9 + 5.2 + 3.0 - 3 - 5.8 - 1.0 - 4.6 + 8) + 6 + +(9.1 - (6.6 / 0) / 1 + 2.4) - +-+5.1 / 5.8 + (3 * 3 - 8 + 4) + 7.97 / +0 / 3 / 6.0 + (2.8) - 6.0 * 7.5 + 5\n",
      "A-C\n",
      "A\n",
      "C\n",
      "+-(04.8 * +(5 / 0) / 7) / +(-7) / ((4 + 7.5 + 7) + +1.6 / 0 * 0.1 + 3 + 0.3 + 2 + 2.5 - 2.9 - 0) / ((3)) + 35908.93 * (4.93 * +2 * 3 + 4.9) / 1.753 / 520.9 * (8.6) / (6) * 6 * 4 - -(+4 + 4 * 9 + 6.3 + 0.3) * ++--7.9 - 67 * 263.8 / (7.3 + 6.8) - (8 / 1 + 9 - 3.9) * 83 / -9 * 1.6 * 5.3 + ++5 * -5\n",
      "A-C\n",
      "A\n",
      "C\n",
      "362 / 3 + -+-640.082 * ++(5 * 6.7 / 0) * 256.6 / (6.5 / 1.9 - 9.3 + 8.1) / 2.7 + (-+4.2 - -7.3 / 7 + 8 / 4 + 2.2) / 192.3 * +8.7 - 241 / ++2.9 / ((7)) * (8.1) + 401.0 / (7 - 2) * -8 / 7 * 2.9\n",
      "A-C\n",
      "A\n",
      "C\n",
      "((6 * 7.5 + 4 - 1.9 + 1)) - (05.73 * -1 / 8 / 7.1 - 4.15 / 0 + +5 * 8 / 6.8 - 1 + 8.3 - 9.6)\n",
      "A-C\n",
      "A\n",
      "C\n"
     ]
    }
   ],
   "source": [
    "%%top\n",
    "for i in range(10):\n",
    "    s = AminusC_fuzzer.fuzz(key=AminusC_start)\n",
    "    print(s)\n",
    "    print('A-C')\n",
    "    assert AminusC_parser.can_parse(s)\n",
    "    print('A')\n",
    "    assert faultA_parser.can_parse(s)\n",
    "    print('C')\n",
    "    assert not faultC_parser.can_parse(s)"
   ]
  },
  {
   "cell_type": "markdown",
   "metadata": {},
   "source": [
    "### B - C"
   ]
  },
  {
   "cell_type": "code",
   "execution_count": 487,
   "metadata": {},
   "outputs": [],
   "source": [
    "BminusC_grammar, BminusC_start = and_grammars(faultB_grammar, faultB_start, neg_C_grammar, neg_C_start)"
   ]
  },
  {
   "cell_type": "code",
   "execution_count": 488,
   "metadata": {},
   "outputs": [
    {
     "name": "stdout",
     "output_type": "stream",
     "text": [
      "<start and(.FB,neg(.FC))> ::=\n",
      "|    <expr and(.FB,neg(.FC))>\n",
      "<expr and(.FB,neg(.FC))> ::=\n",
      "|    <term +FC> ' + ' <expr and(+FC,LB_2)>\n",
      "|    <term and(+FC,neg(.FC))> ' + ' <expr LB_2>\n",
      "|    <term neg(.FC)> ' + ' <expr and(LB_2,neg(.FC))>\n",
      "|    <term> ' + ' <expr and(+FC,LB_2,neg(.FC))>\n",
      "<term +FC> ::=\n",
      "|    <factor +FC>\n",
      "|    <factor +FC> ' * ' <term>\n",
      "|    <factor +FC> ' / ' <term>\n",
      "|    <factor> ' * ' <term +FC>\n",
      "|    <factor> ' / ' <term LC_2>\n",
      "<expr and(+FC,LB_2)> ::=\n",
      "|    <term +FC>\n",
      "<term and(+FC,neg(.FC))> ::=\n",
      "|    <factor +FC>\n",
      "|    <factor +FC> ' * ' <term>\n",
      "|    <factor +FC> ' / ' <term neg(LC_2)>\n",
      "|    <factor> ' * ' <term +FC>\n",
      "<expr LB_2> ::=\n",
      "|    <term>\n",
      "<term neg(.FC)> ::=\n",
      "|    <factor>\n",
      "|    <factor> ' * ' <term>\n",
      "|    <factor> ' / ' <term neg(LC_2)>\n",
      "<expr and(LB_2,neg(.FC))> ::=\n",
      "|    <term neg(.FC)>\n",
      "<term> ::=\n",
      "|    <factor>\n",
      "|    <factor> ' * ' <term>\n",
      "|    <factor> ' / ' <term>\n",
      "<expr and(+FC,LB_2,neg(.FC))> ::=\n",
      "|    <term and(+FC,neg(.FC))>\n",
      "<factor +FC> ::=\n",
      "|    '(' <expr +FC> ')'\n",
      "|    '+' <factor +FC>\n",
      "|    '-' <factor +FC>\n",
      "<factor> ::=\n",
      "|    '(' <expr> ')'\n",
      "|    '+' <factor>\n",
      "|    '-' <factor>\n",
      "|    <integer>\n",
      "|    <integer> '.' <integer>\n",
      "<term LC_2> ::=\n",
      "|    <factor LC_1>\n",
      "<expr +FC> ::=\n",
      "|    <term +FC>\n",
      "|    <term +FC> ' + ' <expr>\n",
      "|    <term +FC> ' - ' <expr>\n",
      "|    <term> ' + ' <expr +FC>\n",
      "|    <term> ' - ' <expr +FC>\n",
      "<expr> ::=\n",
      "|    <term>\n",
      "|    <term> ' + ' <expr>\n",
      "|    <term> ' - ' <expr>\n",
      "<integer> ::=\n",
      "|    <digit>\n",
      "|    <digit> <integer>\n",
      "<digit> ::=\n",
      "|    '0'\n",
      "|    '1'\n",
      "|    '2'\n",
      "|    '3'\n",
      "|    '4'\n",
      "|    '5'\n",
      "|    '6'\n",
      "|    '7'\n",
      "|    '8'\n",
      "|    '9'\n",
      "<factor LC_1> ::=\n",
      "|    <integer LC_1>\n",
      "<integer LC_1> ::=\n",
      "|    <digit LC_1>\n",
      "<digit LC_1> ::=\n",
      "|    '0'\n",
      "<term neg(LC_2)> ::=\n",
      "|    <factor neg(+FC)> ' * ' <term neg(+FC)>\n",
      "|    <factor neg(+FC)> ' / ' <term neg(+FC)>\n",
      "|    <factor neg(LC_1)>\n",
      "<factor neg(+FC)> ::=\n",
      "|    '(' <expr neg(+FC)> ')'\n",
      "|    '+' <factor neg(+FC)>\n",
      "|    '-' <factor neg(+FC)>\n",
      "|    <integer>\n",
      "|    <integer> '.' <integer>\n",
      "<term neg(+FC)> ::=\n",
      "|    <factor neg(+FC)>\n",
      "|    <factor neg(+FC)> ' * ' <term neg(+FC)>\n",
      "|    <factor neg(+FC)> ' / ' <term neg(LC_2)>\n",
      "<factor neg(LC_1)> ::=\n",
      "|    '(' <expr neg(+FC)> ')'\n",
      "|    '+' <factor neg(+FC)>\n",
      "|    '-' <factor neg(+FC)>\n",
      "|    <integer neg(LC_1)>\n",
      "|    <integer> '.' <integer>\n",
      "<expr neg(+FC)> ::=\n",
      "|    <term neg(+FC)>\n",
      "|    <term neg(+FC)> ' + ' <expr neg(+FC)>\n",
      "|    <term neg(+FC)> ' - ' <expr neg(+FC)>\n",
      "<integer neg(LC_1)> ::=\n",
      "|    <digit neg(LC_1)>\n",
      "|    <digit> <integer>\n",
      "<digit neg(LC_1)> ::=\n",
      "|    '1'\n",
      "|    '2'\n",
      "|    '3'\n",
      "|    '4'\n",
      "|    '5'\n",
      "|    '6'\n",
      "|    '7'\n",
      "|    '8'\n",
      "|    '9'\n",
      "27 86\n"
     ]
    },
    {
     "data": {
      "text/plain": [
       "'<start and(.FB,neg(.FC))>'"
      ]
     },
     "execution_count": 488,
     "metadata": {},
     "output_type": "execute_result"
    }
   ],
   "source": [
    "%%top\n",
    "Gs(BminusC_grammar)\n",
    "BminusC_start"
   ]
  },
  {
   "cell_type": "code",
   "execution_count": 489,
   "metadata": {},
   "outputs": [],
   "source": [
    "BminusC_fuzzer = LimitFuzzer(BminusC_grammar)\n",
    "BminusC_parser = Parser(BminusC_grammar, canonical=True, start_symbol=BminusC_start)"
   ]
  },
  {
   "cell_type": "code",
   "execution_count": 490,
   "metadata": {},
   "outputs": [
    {
     "name": "stdout",
     "output_type": "stream",
     "text": [
      "39.7 * --(-4.2 / 8.6 - 8.0 - 1 + 9) * (+-6.2 / 8 / 1) * 0577 + (67.908 / 4.44 / 7 / 8.8 * 6.8 + 1 * -1.1 * 5 * 5 - -8 * 5.2 * 4.0 - 1.0 + 5.6) / 1257 * +(8 / 0.6 - 2.1 + 3 - 6.7 - 1 - 2.2 - 7.7 + 4 + 9.8 - 9 - 0.7 + 9 + 0 - 3.2 - 9.9 - 7.9) / 966 * 0.45 / 2 * 5.7 * 9\n",
      "B-C\n",
      "B\n",
      "C\n",
      "8.1 * 4 * -(+6 * 5.7 + 1.8 / 6.0 - 0 + 1 / 0 + 2.8) / -(1 / 9 + 3 - 6) * (8.3 - 6.3 + 3.8) * 2 + ((4.5 * 0.5) / -+2.8 / 8.3 * 7.8 / 4) / 1 / 0.1 / (6 / 5.3 + 3 + 9.9)\n",
      "B-C\n",
      "B\n",
      "C\n",
      "5.5 * -(-7.3 * +3.0 / 3 * 4 + 0 / 2.7 * 4.3) + (+8.07 + 31 + (1 / 0) * 1.9 + 3 * 1.2 - 5 - 8) * +((6) + 9.6 / 1.3 - 2 + 3.0)\n",
      "B-C\n",
      "B\n",
      "C\n",
      "(42.31 - -04.57) / (0 - -+6 - 8.9 + 2 + 1 - 3.6) / -+(0.0 * 0 - 2.8 - 7.4) / (-9 + 0 * 2 + 5) * 357.9 / ++0.6 + 863.3925 * +-(8 - 9.0 / 0 + 5.9)\n",
      "B-C\n",
      "B\n",
      "C\n",
      "-(+(8.7) / (5 + 7) * 4.0 + --9) * +((7.5 + 4) * (0 / 0 - 6.9) * 2.2 / 0 + +5 - 3.0 - 5.4 - 9) + -++-(5) * +-(6.5 * 9 - 7 - 4.9 / 0 + 7.2) / --3\n",
      "B-C\n",
      "B\n",
      "C\n",
      "---(-1.9 / 0 + 3.8 / 0 + 6 + 2.3) * -(9 / (0.5) + 7 * 9.9 * 4 - 6.6 / 9.0 + 3) / 16.9 + 1.2653 / 0\n",
      "B-C\n",
      "B\n",
      "C\n",
      "(+(1 * 7 / 0) / -08 / 6 / 9.3 + (0 / 6.7 - 3.9 + 7)) / -(+9.1 - -2 / 6 * 8 - 1.2) * 3.2 / 33.3 * +7.31 / (1.7) * (6.3 + 5.5 - 5.2) / 4 * 5.6 + -92.0\n",
      "B-C\n",
      "B\n",
      "C\n",
      "(92.9673 * 7 / (2 + 6) * 5 * 7.4 + +(6 - 3.3) / +2 * 7.8 / 9 / 2.6 + 79.9) * (7.75 - -(6.9) * (5.3) - -8 / 4.7 * 4 - 4 / 0.5 - 9.4 + 4) + +192.47 / 7\n",
      "B-C\n",
      "B\n",
      "C\n",
      "+(-74.2) + +-((3.5 / 0) / 4.7 * 2 + 5.1 / 6 + 0.0 - 4)\n",
      "B-C\n",
      "B\n",
      "C\n",
      "65.7 * +9.63 * +++49 * +2 / (3.0 + 4.7) * 18.4 / 3.0 * 2.5 * 5 + -++++-+(0.7 / 0 + 9)\n",
      "B-C\n",
      "B\n",
      "C\n"
     ]
    }
   ],
   "source": [
    "%%top\n",
    "for i in range(10):\n",
    "    s = BminusC_fuzzer.fuzz(key=BminusC_start)\n",
    "    print(s)\n",
    "    print('B-C')\n",
    "    assert BminusC_parser.can_parse(s)\n",
    "    print('B')\n",
    "    assert faultB_parser.can_parse(s)\n",
    "    print('C')\n",
    "    assert not faultC_parser.can_parse(s)"
   ]
  },
  {
   "cell_type": "markdown",
   "metadata": {},
   "source": [
    "## More"
   ]
  },
  {
   "cell_type": "code",
   "execution_count": 491,
   "metadata": {},
   "outputs": [
    {
     "data": {
      "text/plain": [
       "[]"
      ]
     },
     "execution_count": 491,
     "metadata": {},
     "output_type": "execute_result"
    }
   ],
   "source": [
    "EXCEPTION_HAPPENED"
   ]
  },
  {
   "cell_type": "markdown",
   "metadata": {},
   "source": [
    "### A & B & C"
   ]
  },
  {
   "cell_type": "code",
   "execution_count": 492,
   "metadata": {},
   "outputs": [],
   "source": [
    "AandBandC_grammar, AandBandC_start = and_grammars(AandB_grammar, AandB_start, faultC_grammar, faultC_start)"
   ]
  },
  {
   "cell_type": "code",
   "execution_count": 493,
   "metadata": {
    "scrolled": false
   },
   "outputs": [
    {
     "name": "stdout",
     "output_type": "stream",
     "text": [
      "<start and(.FA,.FB,.FC)> ::=\n",
      "|    <expr and(.FA,.FB,.FC)>\n",
      "<expr and(.FA,.FB,.FC)> ::=\n",
      "|    <term and(.FA,.FC)> ' + ' <expr and(LB_2,neg(+FA),neg(+FC))>\n",
      "|    <term and(.FA,neg(+FC))> ' + ' <expr and(.FC,LB_2,neg(+FA))>\n",
      "|    <term and(.FC,neg(+FA))> ' + ' <expr and(.FA,LB_2,neg(+FC))>\n",
      "|    <term and(neg(+FA),neg(+FC))> ' + ' <expr and(.FA,.FC,LB_2)>\n",
      "<term and(.FA,.FC)> ::=\n",
      "|    <factor .FA> ' / ' <term and(LC_2,neg(+FA))>\n",
      "<expr and(LB_2,neg(+FA),neg(+FC))> ::=\n",
      "|    <term and(neg(+FA),neg(+FC))>\n",
      "<term and(.FA,neg(+FC))> ::=\n",
      "|    <factor and(.FA,neg(+FC))>\n",
      "|    <factor and(.FA,neg(+FC))> ' * ' <term and(neg(+FA),neg(+FC))>\n",
      "|    <factor and(.FA,neg(+FC))> ' / ' <term and(neg(+FA),neg(LC_2))>\n",
      "|    <factor and(neg(+FA),neg(+FC))> ' * ' <term and(.FA,neg(+FC))>\n",
      "|    <factor and(neg(+FA),neg(+FC))> ' / ' <term and(.FA,neg(LC_2))>\n",
      "<expr and(.FC,LB_2,neg(+FA))> ::=\n",
      "|    <term and(.FC,neg(+FA))>\n",
      "<term and(.FC,neg(+FA))> ::=\n",
      "|    <factor neg(+FA)> ' / ' <term and(LC_2,neg(+FA))>\n",
      "<expr and(.FA,LB_2,neg(+FC))> ::=\n",
      "|    <term and(.FA,neg(+FC))>\n",
      "<term and(neg(+FA),neg(+FC))> ::=\n",
      "|    <factor and(neg(+FA),neg(+FC))>\n",
      "|    <factor and(neg(+FA),neg(+FC))> ' * ' <term and(neg(+FA),neg(+FC))>\n",
      "|    <factor and(neg(+FA),neg(+FC))> ' / ' <term and(neg(+FA),neg(LC_2))>\n",
      "<expr and(.FA,.FC,LB_2)> ::=\n",
      "|    <term and(.FA,.FC)>\n",
      "<factor .FA> ::=\n",
      "|    '(' <expr LA_1> ')'\n",
      "<term and(LC_2,neg(+FA))> ::=\n",
      "|    <factor and(LC_1,neg(+FA))>\n",
      "<expr LA_1> ::=\n",
      "|    <term LA_1>\n",
      "<term LA_1> ::=\n",
      "|    <factor LA_2>\n",
      "<factor LA_2> ::=\n",
      "|    '(' <expr> ')'\n",
      "<expr> ::=\n",
      "|    <term>\n",
      "|    <term> ' + ' <expr>\n",
      "|    <term> ' - ' <expr>\n",
      "<term> ::=\n",
      "|    <factor>\n",
      "|    <factor> ' * ' <term>\n",
      "|    <factor> ' / ' <term>\n",
      "<factor> ::=\n",
      "|    '(' <expr> ')'\n",
      "|    '+' <factor>\n",
      "|    '-' <factor>\n",
      "|    <integer>\n",
      "|    <integer> '.' <integer>\n",
      "<integer> ::=\n",
      "|    <digit>\n",
      "|    <digit> <integer>\n",
      "<digit> ::=\n",
      "|    '0'\n",
      "|    '1'\n",
      "|    '2'\n",
      "|    '3'\n",
      "|    '4'\n",
      "|    '5'\n",
      "|    '6'\n",
      "|    '7'\n",
      "|    '8'\n",
      "|    '9'\n",
      "<factor and(LC_1,neg(+FA))> ::=\n",
      "|    <integer LC_1>\n",
      "<integer LC_1> ::=\n",
      "|    <digit LC_1>\n",
      "<digit LC_1> ::=\n",
      "|    '0'\n",
      "<factor and(.FA,neg(+FC))> ::=\n",
      "|    '(' <expr and(LA_1,neg(+FC))> ')'\n",
      "<term and(neg(+FA),neg(LC_2))> ::=\n",
      "|    <factor and(neg(+FA),neg(+FC))> ' * ' <term and(neg(+FA),neg(+FC))>\n",
      "|    <factor and(neg(+FA),neg(+FC))> ' / ' <term and(neg(+FA),neg(+FC))>\n",
      "|    <factor and(neg(+FA),neg(LC_1))>\n",
      "<factor and(neg(+FA),neg(+FC))> ::=\n",
      "|    '(' <expr and(neg(+FC),neg(LA_1))> ')'\n",
      "|    '+' <factor and(neg(+FA),neg(+FC))>\n",
      "|    '-' <factor and(neg(+FA),neg(+FC))>\n",
      "|    <integer>\n",
      "|    <integer> '.' <integer>\n",
      "<term and(.FA,neg(LC_2))> ::=\n",
      "|    <factor and(.FA,neg(+FC))> ' * ' <term and(neg(+FA),neg(+FC))>\n",
      "|    <factor and(.FA,neg(+FC))> ' / ' <term and(neg(+FA),neg(+FC))>\n",
      "|    <factor and(.FA,neg(LC_1))>\n",
      "|    <factor and(neg(+FA),neg(+FC))> ' * ' <term and(.FA,neg(+FC))>\n",
      "|    <factor and(neg(+FA),neg(+FC))> ' / ' <term and(.FA,neg(+FC))>\n",
      "<expr and(LA_1,neg(+FC))> ::=\n",
      "|    <term and(LA_1,neg(+FC))>\n",
      "<term and(LA_1,neg(+FC))> ::=\n",
      "|    <factor and(LA_2,neg(+FC))>\n",
      "<factor and(LA_2,neg(+FC))> ::=\n",
      "|    '(' <expr neg(+FC)> ')'\n",
      "<expr neg(+FC)> ::=\n",
      "|    <term neg(+FC)>\n",
      "|    <term neg(+FC)> ' + ' <expr neg(+FC)>\n",
      "|    <term neg(+FC)> ' - ' <expr neg(+FC)>\n",
      "<term neg(+FC)> ::=\n",
      "|    <factor neg(+FC)>\n",
      "|    <factor neg(+FC)> ' * ' <term neg(+FC)>\n",
      "|    <factor neg(+FC)> ' / ' <term neg(LC_2)>\n",
      "<factor neg(+FC)> ::=\n",
      "|    '(' <expr neg(+FC)> ')'\n",
      "|    '+' <factor neg(+FC)>\n",
      "|    '-' <factor neg(+FC)>\n",
      "|    <integer>\n",
      "|    <integer> '.' <integer>\n",
      "<term neg(LC_2)> ::=\n",
      "|    <factor neg(+FC)> ' * ' <term neg(+FC)>\n",
      "|    <factor neg(+FC)> ' / ' <term neg(+FC)>\n",
      "|    <factor neg(LC_1)>\n",
      "<factor neg(LC_1)> ::=\n",
      "|    '(' <expr neg(+FC)> ')'\n",
      "|    '+' <factor neg(+FC)>\n",
      "|    '-' <factor neg(+FC)>\n",
      "|    <integer neg(LC_1)>\n",
      "|    <integer> '.' <integer>\n",
      "<integer neg(LC_1)> ::=\n",
      "|    <digit neg(LC_1)>\n",
      "|    <digit> <integer>\n",
      "<digit neg(LC_1)> ::=\n",
      "|    '1'\n",
      "|    '2'\n",
      "|    '3'\n",
      "|    '4'\n",
      "|    '5'\n",
      "|    '6'\n",
      "|    '7'\n",
      "|    '8'\n",
      "|    '9'\n",
      "<factor and(neg(+FA),neg(LC_1))> ::=\n",
      "|    '(' <expr and(neg(+FC),neg(LA_1))> ')'\n",
      "|    '+' <factor and(neg(+FA),neg(+FC))>\n",
      "|    '-' <factor and(neg(+FA),neg(+FC))>\n",
      "|    <integer neg(LC_1)>\n",
      "|    <integer> '.' <integer>\n",
      "<expr and(neg(+FC),neg(LA_1))> ::=\n",
      "|    <term and(neg(+FA),neg(+FC))> ' + ' <expr and(neg(+FA),neg(+FC))>\n",
      "|    <term and(neg(+FA),neg(+FC))> ' - ' <expr and(neg(+FA),neg(+FC))>\n",
      "|    <term and(neg(+FC),neg(LA_1))>\n",
      "<expr and(neg(+FA),neg(+FC))> ::=\n",
      "|    <term and(neg(+FA),neg(+FC))>\n",
      "|    <term and(neg(+FA),neg(+FC))> ' + ' <expr and(neg(+FA),neg(+FC))>\n",
      "|    <term and(neg(+FA),neg(+FC))> ' - ' <expr and(neg(+FA),neg(+FC))>\n",
      "<term and(neg(+FC),neg(LA_1))> ::=\n",
      "|    <factor and(neg(+FA),neg(+FC))> ' * ' <term and(neg(+FA),neg(+FC))>\n",
      "|    <factor and(neg(+FA),neg(+FC))> ' / ' <term and(neg(+FA),neg(LC_2))>\n",
      "|    <factor and(neg(+FC),neg(LA_2))>\n",
      "<factor and(neg(+FC),neg(LA_2))> ::=\n",
      "|    '+' <factor and(neg(+FA),neg(+FC))>\n",
      "|    '-' <factor and(neg(+FA),neg(+FC))>\n",
      "|    <integer>\n",
      "|    <integer> '.' <integer>\n",
      "<factor and(.FA,neg(LC_1))> ::=\n",
      "|    '(' <expr and(LA_1,neg(+FC))> ')'\n",
      "<factor neg(+FA)> ::=\n",
      "|    '(' <expr neg(LA_1)> ')'\n",
      "|    '+' <factor neg(+FA)>\n",
      "|    '-' <factor neg(+FA)>\n",
      "|    <integer>\n",
      "|    <integer> '.' <integer>\n",
      "<expr neg(LA_1)> ::=\n",
      "|    <term neg(+FA)> ' + ' <expr neg(+FA)>\n",
      "|    <term neg(+FA)> ' - ' <expr neg(+FA)>\n",
      "|    <term neg(LA_1)>\n",
      "<term neg(+FA)> ::=\n",
      "|    <factor neg(+FA)>\n",
      "|    <factor neg(+FA)> ' * ' <term neg(+FA)>\n",
      "|    <factor neg(+FA)> ' / ' <term neg(+FA)>\n",
      "<expr neg(+FA)> ::=\n",
      "|    <term neg(+FA)>\n",
      "|    <term neg(+FA)> ' + ' <expr neg(+FA)>\n",
      "|    <term neg(+FA)> ' - ' <expr neg(+FA)>\n",
      "<term neg(LA_1)> ::=\n",
      "|    <factor neg(+FA)> ' * ' <term neg(+FA)>\n",
      "|    <factor neg(+FA)> ' / ' <term neg(+FA)>\n",
      "|    <factor neg(LA_2)>\n",
      "<factor neg(LA_2)> ::=\n",
      "|    '+' <factor neg(+FA)>\n",
      "|    '-' <factor neg(+FA)>\n",
      "|    <integer>\n",
      "|    <integer> '.' <integer>\n",
      "49 137\n"
     ]
    },
    {
     "data": {
      "text/plain": [
       "'<start and(.FA,.FB,.FC)>'"
      ]
     },
     "execution_count": 493,
     "metadata": {},
     "output_type": "execute_result"
    }
   ],
   "source": [
    "%%top\n",
    "Gs(AandBandC_grammar)\n",
    "AandBandC_start"
   ]
  },
  {
   "cell_type": "code",
   "execution_count": 494,
   "metadata": {},
   "outputs": [],
   "source": [
    "AandBandC_fuzzer = LimitFuzzer(AandBandC_grammar)\n",
    "AandBandC_parser = Parser(AandBandC_grammar, canonical=True, start_symbol=AandBandC_start)"
   ]
  },
  {
   "cell_type": "code",
   "execution_count": 495,
   "metadata": {},
   "outputs": [
    {
     "name": "stdout",
     "output_type": "stream",
     "text": [
      "3 * (675) / ((2.8 + 0.5)) / +(2) / (0.5 / 4.7) + ---67 / 0\n",
      "A&B&C\n",
      "A&B\n",
      "A&C\n",
      "B&C\n",
      "A\n",
      "B\n",
      "C\n",
      "((1.3 / 1.6 / 9 - 0.4 / 5.7 + 5.9)) / 0 + +8\n",
      "A&B&C\n",
      "A&B\n",
      "A&C\n",
      "B&C\n",
      "A\n",
      "B\n",
      "C\n",
      "(29 / 955.8 * 93 + +14) / 0 + ((0 + 5.0 - 0)) * 85942.2372 * 396.40 * ++9 / (0.0 - 9.6)\n",
      "A&B&C\n",
      "A&B\n",
      "A&C\n",
      "B&C\n",
      "A\n",
      "B\n",
      "C\n",
      "((-5.4 - 3 / 3 - 0.9 - 9)) / 0 + 8 * +09.529 / (+3 * 0)\n",
      "A&B&C\n",
      "A&B\n",
      "A&C\n",
      "B&C\n",
      "A\n",
      "B\n",
      "C\n",
      "(-818.90 / 4 / 05.18 * -2 / 3) * +7.8 / 9278.10 + ((0 * 9)) / 0\n",
      "A&B&C\n",
      "A&B\n",
      "A&C\n",
      "B&C\n",
      "A\n",
      "B\n",
      "C\n",
      "4 / 0 + ((9 / 6 - 3)) * 64.5 / (7) / +29 * +3.6 / (6)\n",
      "A&B&C\n",
      "A&B\n",
      "A&C\n",
      "B&C\n",
      "A\n",
      "B\n",
      "C\n",
      "(((3.0) / 9.8 * 7 + 4 * 3.4 - 5)) * 2.578 + 1.8 / 0\n",
      "A&B&C\n",
      "A&B\n",
      "A&C\n",
      "B&C\n",
      "A\n",
      "B\n",
      "C\n",
      "++-(-6.8 + 8.9) * ((8 * 0 - 4.2)) * --392.449 + 1 / 0\n",
      "A&B&C\n",
      "A&B\n",
      "A&C\n",
      "B&C\n",
      "A\n",
      "B\n",
      "C\n",
      "(9) / 0 + ((1 * 9.3 + 8.4 - 7.4)) * 3\n",
      "A&B&C\n",
      "A&B\n",
      "A&C\n",
      "B&C\n",
      "A\n",
      "B\n",
      "C\n",
      "5.3 / 0 + ++-928.328 * -+(3 * 7 + 0 + 3.7) * 9.5 / ((3))\n",
      "A&B&C\n",
      "A&B\n",
      "A&C\n",
      "B&C\n",
      "A\n",
      "B\n",
      "C\n"
     ]
    }
   ],
   "source": [
    "%%top\n",
    "for i in range(10):\n",
    "    s = AandBandC_fuzzer.fuzz(key=AandBandC_start)\n",
    "    print(s)\n",
    "    print('A&B&C')\n",
    "    assert AandBandC_parser.can_parse(s)\n",
    "    print('A&B')\n",
    "    assert AandB_parser.can_parse(s)\n",
    "    print('A&C')\n",
    "    assert AandC_parser.can_parse(s)\n",
    "    print('B&C')\n",
    "    assert BandC_parser.can_parse(s)\n",
    "    print('A')\n",
    "    assert faultA_parser.can_parse(s)\n",
    "    print('B')\n",
    "    assert faultB_parser.can_parse(s)\n",
    "    print('C')\n",
    "    assert faultC_parser.can_parse(s)"
   ]
  },
  {
   "cell_type": "markdown",
   "metadata": {},
   "source": [
    "### A | B | C"
   ]
  },
  {
   "cell_type": "code",
   "execution_count": 496,
   "metadata": {},
   "outputs": [
    {
     "name": "stdout",
     "output_type": "stream",
     "text": [
      "<start .FA>\n",
      "    ['<expr .FA>']\n",
      "<expr .FA>\n",
      "    ['<term .FA>']\n",
      "    ['<term .FA>', ' + ', '<expr neg(+FA)>']\n",
      "    ['<term .FA>', ' - ', '<expr neg(+FA)>']\n",
      "    ['<term neg(+FA)>', ' + ', '<expr .FA>']\n",
      "    ['<term neg(+FA)>', ' - ', '<expr .FA>']\n",
      "<term .FA>\n",
      "    ['<factor .FA>']\n",
      "    ['<factor .FA>', ' * ', '<term neg(+FA)>']\n",
      "    ['<factor .FA>', ' / ', '<term neg(+FA)>']\n",
      "    ['<factor neg(+FA)>', ' * ', '<term .FA>']\n",
      "    ['<factor neg(+FA)>', ' / ', '<term .FA>']\n",
      "<expr neg(+FA)>\n",
      "    ['<term neg(+FA)>']\n",
      "    ['<term neg(+FA)>', ' + ', '<expr neg(+FA)>']\n",
      "    ['<term neg(+FA)>', ' - ', '<expr neg(+FA)>']\n",
      "<term neg(+FA)>\n",
      "    ['<factor neg(+FA)>']\n",
      "    ['<factor neg(+FA)>', ' * ', '<term neg(+FA)>']\n",
      "    ['<factor neg(+FA)>', ' / ', '<term neg(+FA)>']\n",
      "<factor .FA>\n",
      "    ['(', '<expr LA_1>', ')']\n",
      "<factor neg(+FA)>\n",
      "    ['(', '<expr neg(LA_1)>', ')']\n",
      "    ['+', '<factor neg(+FA)>']\n",
      "    ['-', '<factor neg(+FA)>']\n",
      "    ['<integer>']\n",
      "    ['<integer>', '.', '<integer>']\n",
      "<expr LA_1>\n",
      "    ['<term LA_1>']\n",
      "<term LA_1>\n",
      "    ['<factor LA_2>']\n",
      "<factor LA_2>\n",
      "    ['(', '<expr>', ')']\n",
      "<expr>\n",
      "    ['<term>']\n",
      "    ['<term>', ' + ', '<expr>']\n",
      "    ['<term>', ' - ', '<expr>']\n",
      "<term>\n",
      "    ['<factor>']\n",
      "    ['<factor>', ' * ', '<term>']\n",
      "    ['<factor>', ' / ', '<term>']\n",
      "<factor>\n",
      "    ['(', '<expr>', ')']\n",
      "    ['+', '<factor>']\n",
      "    ['-', '<factor>']\n",
      "    ['<integer>']\n",
      "    ['<integer>', '.', '<integer>']\n",
      "<integer>\n",
      "    ['<digit>']\n",
      "    ['<digit>', '<integer>']\n",
      "<digit>\n",
      "    ['0']\n",
      "    ['1']\n",
      "    ['2']\n",
      "    ['3']\n",
      "    ['4']\n",
      "    ['5']\n",
      "    ['6']\n",
      "    ['7']\n",
      "    ['8']\n",
      "    ['9']\n",
      "<expr neg(LA_1)>\n",
      "    ['<term neg(+FA)>', ' + ', '<expr neg(+FA)>']\n",
      "    ['<term neg(+FA)>', ' - ', '<expr neg(+FA)>']\n",
      "    ['<term neg(LA_1)>']\n",
      "<term neg(LA_1)>\n",
      "    ['<factor neg(+FA)>', ' * ', '<term neg(+FA)>']\n",
      "    ['<factor neg(+FA)>', ' / ', '<term neg(+FA)>']\n",
      "    ['<factor neg(LA_2)>']\n",
      "<factor neg(LA_2)>\n",
      "    ['+', '<factor neg(+FA)>']\n",
      "    ['-', '<factor neg(+FA)>']\n",
      "    ['<integer>']\n",
      "    ['<integer>', '.', '<integer>']\n"
     ]
    }
   ],
   "source": [
    "for k in faultA_grammar.keys():\n",
    "    print(k)\n",
    "    for r in faultA_grammar[k]:\n",
    "        print('   ',r)"
   ]
  },
  {
   "cell_type": "code",
   "execution_count": 497,
   "metadata": {},
   "outputs": [
    {
     "name": "stdout",
     "output_type": "stream",
     "text": [
      "<start .FB>\n",
      "    ['<expr .FB>']\n",
      "<expr .FB>\n",
      "    ['<term>', ' + ', '<expr LB_2>']\n",
      "<term>\n",
      "    ['<factor>']\n",
      "    ['<factor>', ' * ', '<term>']\n",
      "    ['<factor>', ' / ', '<term>']\n",
      "<expr LB_2>\n",
      "    ['<term>']\n",
      "<factor>\n",
      "    ['(', '<expr>', ')']\n",
      "    ['+', '<factor>']\n",
      "    ['-', '<factor>']\n",
      "    ['<integer>']\n",
      "    ['<integer>', '.', '<integer>']\n",
      "<expr>\n",
      "    ['<term>']\n",
      "    ['<term>', ' + ', '<expr>']\n",
      "    ['<term>', ' - ', '<expr>']\n",
      "<integer>\n",
      "    ['<digit>']\n",
      "    ['<digit>', '<integer>']\n",
      "<digit>\n",
      "    ['0']\n",
      "    ['1']\n",
      "    ['2']\n",
      "    ['3']\n",
      "    ['4']\n",
      "    ['5']\n",
      "    ['6']\n",
      "    ['7']\n",
      "    ['8']\n",
      "    ['9']\n"
     ]
    }
   ],
   "source": [
    "for k in faultB_grammar.keys():\n",
    "    print(k)\n",
    "    for r in faultB_grammar[k]:\n",
    "        print('   ',r)"
   ]
  },
  {
   "cell_type": "code",
   "execution_count": 498,
   "metadata": {},
   "outputs": [
    {
     "name": "stdout",
     "output_type": "stream",
     "text": [
      "<start or(.FA,.FB)>\n",
      "    ['<expr or(.FA,.FB)>']\n",
      "<expr or(.FA,.FB)>\n",
      "    ['<term .FA>']\n",
      "    ['<term .FA>', ' + ', '<expr neg(+FA)>']\n",
      "    ['<term .FA>', ' - ', '<expr neg(+FA)>']\n",
      "    ['<term neg(+FA)>', ' + ', '<expr .FA>']\n",
      "    ['<term neg(+FA)>', ' - ', '<expr .FA>']\n",
      "    ['<term>', ' + ', '<expr LB_2>']\n",
      "<term .FA>\n",
      "    ['<factor .FA>']\n",
      "    ['<factor .FA>', ' * ', '<term neg(+FA)>']\n",
      "    ['<factor .FA>', ' / ', '<term neg(+FA)>']\n",
      "    ['<factor neg(+FA)>', ' * ', '<term .FA>']\n",
      "    ['<factor neg(+FA)>', ' / ', '<term .FA>']\n",
      "<expr neg(+FA)>\n",
      "    ['<term neg(+FA)>']\n",
      "    ['<term neg(+FA)>', ' + ', '<expr neg(+FA)>']\n",
      "    ['<term neg(+FA)>', ' - ', '<expr neg(+FA)>']\n",
      "<term neg(+FA)>\n",
      "    ['<factor neg(+FA)>']\n",
      "    ['<factor neg(+FA)>', ' * ', '<term neg(+FA)>']\n",
      "    ['<factor neg(+FA)>', ' / ', '<term neg(+FA)>']\n",
      "<expr .FA>\n",
      "    ['<term .FA>']\n",
      "    ['<term .FA>', ' + ', '<expr neg(+FA)>']\n",
      "    ['<term .FA>', ' - ', '<expr neg(+FA)>']\n",
      "    ['<term neg(+FA)>', ' + ', '<expr .FA>']\n",
      "    ['<term neg(+FA)>', ' - ', '<expr .FA>']\n",
      "<term>\n",
      "    ['<factor>']\n",
      "    ['<factor>', ' * ', '<term>']\n",
      "    ['<factor>', ' / ', '<term>']\n",
      "<expr LB_2>\n",
      "    ['<term>']\n",
      "<factor .FA>\n",
      "    ['(', '<expr LA_1>', ')']\n",
      "<factor neg(+FA)>\n",
      "    ['(', '<expr neg(LA_1)>', ')']\n",
      "    ['+', '<factor neg(+FA)>']\n",
      "    ['-', '<factor neg(+FA)>']\n",
      "    ['<integer>']\n",
      "    ['<integer>', '.', '<integer>']\n",
      "<expr LA_1>\n",
      "    ['<term LA_1>']\n",
      "<term LA_1>\n",
      "    ['<factor LA_2>']\n",
      "<factor LA_2>\n",
      "    ['(', '<expr>', ')']\n",
      "<expr>\n",
      "    ['<term>']\n",
      "    ['<term>', ' + ', '<expr>']\n",
      "    ['<term>', ' - ', '<expr>']\n",
      "<expr neg(LA_1)>\n",
      "    ['<term neg(+FA)>', ' + ', '<expr neg(+FA)>']\n",
      "    ['<term neg(+FA)>', ' - ', '<expr neg(+FA)>']\n",
      "    ['<term neg(LA_1)>']\n",
      "<integer>\n",
      "    ['<digit>']\n",
      "    ['<digit>', '<integer>']\n",
      "<term neg(LA_1)>\n",
      "    ['<factor neg(+FA)>', ' * ', '<term neg(+FA)>']\n",
      "    ['<factor neg(+FA)>', ' / ', '<term neg(+FA)>']\n",
      "    ['<factor neg(LA_2)>']\n",
      "<factor neg(LA_2)>\n",
      "    ['+', '<factor neg(+FA)>']\n",
      "    ['-', '<factor neg(+FA)>']\n",
      "    ['<integer>']\n",
      "    ['<integer>', '.', '<integer>']\n",
      "<digit>\n",
      "    ['0']\n",
      "    ['1']\n",
      "    ['2']\n",
      "    ['3']\n",
      "    ['4']\n",
      "    ['5']\n",
      "    ['6']\n",
      "    ['7']\n",
      "    ['8']\n",
      "    ['9']\n",
      "<factor>\n",
      "    ['(', '<expr>', ')']\n",
      "    ['+', '<factor>']\n",
      "    ['-', '<factor>']\n",
      "    ['<integer>']\n",
      "    ['<integer>', '.', '<integer>']\n"
     ]
    }
   ],
   "source": [
    "for k in AorB_grammar.keys():\n",
    "    print(k)\n",
    "    for r in AorB_grammar[k]:\n",
    "        print('   ',r)"
   ]
  },
  {
   "cell_type": "code",
   "execution_count": 499,
   "metadata": {},
   "outputs": [
    {
     "data": {
      "text/plain": [
       "(False, False, True, True)"
      ]
     },
     "execution_count": 499,
     "metadata": {},
     "output_type": "execute_result"
    }
   ],
   "source": [
    "'<expr .FB>' in AorB_grammar, '<expr neg(.FB)>' in AorB_grammar, '<expr .FA>' in AorB_grammar,'<expr or(.FA,.FB)>' in AorB_grammar,"
   ]
  },
  {
   "cell_type": "markdown",
   "metadata": {},
   "source": [
    "Why do we require adding the faultB_grammar? the problem is that `AorB_grammar` no longer includes `<expr .FB>` because we folded it into `<expr or(.FA,.FB)>`. So, one would need to retrieve it from the same key be anding it with `<expr neg(.FB)>`. That is, one might actually have to solve the given boolean equation (1) to find how to retrieve the original value (and one may need to do it at a highr equation levels). As of now, we do not do deconstruction of larger keys. For now, we assume that we have access to original faults, as we always start with the original parse trees.\n",
    "\n",
    "_(1)_\n",
    "Abdl Gawad et al. 2010 _Solution of systems of Boolean equations via the integer domain_ shows how to solve a boolean equation system by transforming it into integer domain. Their translation is as follows:\n",
    "* `B1 | B2 == I1 * I2`\n",
    "* `B1 + B2 == I1 + I2 - I1 * I2`\n",
    "* `neg(B1) == 1 - I1`\n",
    "\n",
    "Once we have the conversion to the integer domain, we can use the `sympy` to solve for individual fault equivalents, and transform the result back."
   ]
  },
  {
   "cell_type": "code",
   "execution_count": 500,
   "metadata": {},
   "outputs": [],
   "source": [
    "AorBorC_grammar, AorBorC_start = or_grammars({**faultB_grammar, **AorB_grammar}, AorB_start, faultC_grammar, faultC_start)"
   ]
  },
  {
   "cell_type": "code",
   "execution_count": 501,
   "metadata": {},
   "outputs": [
    {
     "name": "stdout",
     "output_type": "stream",
     "text": [
      "<start or(.FA,.FB,.FC)> ::=\n",
      "|    <expr or(.FA,.FB,.FC)>\n",
      "<expr or(.FA,.FB,.FC)> ::=\n",
      "|    <term .FA> ' + ' <expr neg(+FA)>\n",
      "|    <term .FA> ' - ' <expr neg(+FA)>\n",
      "|    <term .FC> ' + ' <expr neg(+FC)>\n",
      "|    <term .FC> ' - ' <expr neg(+FC)>\n",
      "|    <term neg(+FA)> ' + ' <expr .FA>\n",
      "|    <term neg(+FA)> ' - ' <expr .FA>\n",
      "|    <term neg(+FC)> ' + ' <expr .FC>\n",
      "|    <term neg(+FC)> ' - ' <expr .FC>\n",
      "|    <term or(.FA,.FC)>\n",
      "|    <term> ' + ' <expr LB_2>\n",
      "<term .FA> ::=\n",
      "|    <factor .FA>\n",
      "|    <factor .FA> ' * ' <term neg(+FA)>\n",
      "|    <factor .FA> ' / ' <term neg(+FA)>\n",
      "|    <factor neg(+FA)> ' * ' <term .FA>\n",
      "|    <factor neg(+FA)> ' / ' <term .FA>\n",
      "<expr neg(+FA)> ::=\n",
      "|    <term neg(+FA)>\n",
      "|    <term neg(+FA)> ' + ' <expr neg(+FA)>\n",
      "|    <term neg(+FA)> ' - ' <expr neg(+FA)>\n",
      "<term .FC> ::=\n",
      "|    <factor> ' / ' <term LC_2>\n",
      "<expr neg(+FC)> ::=\n",
      "|    <term neg(+FC)>\n",
      "|    <term neg(+FC)> ' + ' <expr neg(+FC)>\n",
      "|    <term neg(+FC)> ' - ' <expr neg(+FC)>\n",
      "<term neg(+FA)> ::=\n",
      "|    <factor neg(+FA)>\n",
      "|    <factor neg(+FA)> ' * ' <term neg(+FA)>\n",
      "|    <factor neg(+FA)> ' / ' <term neg(+FA)>\n",
      "<expr .FA> ::=\n",
      "|    <term .FA>\n",
      "|    <term .FA> ' + ' <expr neg(+FA)>\n",
      "|    <term .FA> ' - ' <expr neg(+FA)>\n",
      "|    <term neg(+FA)> ' + ' <expr .FA>\n",
      "|    <term neg(+FA)> ' - ' <expr .FA>\n",
      "<term neg(+FC)> ::=\n",
      "|    <factor neg(+FC)>\n",
      "|    <factor neg(+FC)> ' * ' <term neg(+FC)>\n",
      "|    <factor neg(+FC)> ' / ' <term neg(LC_2)>\n",
      "<expr .FC> ::=\n",
      "|    <term .FC>\n",
      "|    <term .FC> ' + ' <expr neg(+FC)>\n",
      "|    <term .FC> ' - ' <expr neg(+FC)>\n",
      "|    <term neg(+FC)> ' + ' <expr .FC>\n",
      "|    <term neg(+FC)> ' - ' <expr .FC>\n",
      "<term or(.FA,.FC)> ::=\n",
      "|    <factor .FA>\n",
      "|    <factor .FA> ' * ' <term neg(+FA)>\n",
      "|    <factor .FA> ' / ' <term neg(+FA)>\n",
      "|    <factor neg(+FA)> ' * ' <term .FA>\n",
      "|    <factor neg(+FA)> ' / ' <term .FA>\n",
      "|    <factor> ' / ' <term LC_2>\n",
      "<term> ::=\n",
      "|    <factor>\n",
      "|    <factor> ' * ' <term>\n",
      "|    <factor> ' / ' <term>\n",
      "<expr LB_2> ::=\n",
      "|    <term>\n",
      "<factor .FA> ::=\n",
      "|    '(' <expr LA_1> ')'\n",
      "<factor neg(+FA)> ::=\n",
      "|    '(' <expr neg(LA_1)> ')'\n",
      "|    '+' <factor neg(+FA)>\n",
      "|    '-' <factor neg(+FA)>\n",
      "|    <integer>\n",
      "|    <integer> '.' <integer>\n",
      "<expr LA_1> ::=\n",
      "|    <term LA_1>\n",
      "<term LA_1> ::=\n",
      "|    <factor LA_2>\n",
      "<factor LA_2> ::=\n",
      "|    '(' <expr> ')'\n",
      "<expr> ::=\n",
      "|    <term>\n",
      "|    <term> ' + ' <expr>\n",
      "|    <term> ' - ' <expr>\n",
      "<expr neg(LA_1)> ::=\n",
      "|    <term neg(+FA)> ' + ' <expr neg(+FA)>\n",
      "|    <term neg(+FA)> ' - ' <expr neg(+FA)>\n",
      "|    <term neg(LA_1)>\n",
      "<integer> ::=\n",
      "|    <digit>\n",
      "|    <digit> <integer>\n",
      "<term neg(LA_1)> ::=\n",
      "|    <factor neg(+FA)> ' * ' <term neg(+FA)>\n",
      "|    <factor neg(+FA)> ' / ' <term neg(+FA)>\n",
      "|    <factor neg(LA_2)>\n",
      "<factor neg(LA_2)> ::=\n",
      "|    '+' <factor neg(+FA)>\n",
      "|    '-' <factor neg(+FA)>\n",
      "|    <integer>\n",
      "|    <integer> '.' <integer>\n",
      "<digit> ::=\n",
      "|    '0'\n",
      "|    '1'\n",
      "|    '2'\n",
      "|    '3'\n",
      "|    '4'\n",
      "|    '5'\n",
      "|    '6'\n",
      "|    '7'\n",
      "|    '8'\n",
      "|    '9'\n",
      "<factor> ::=\n",
      "|    '(' <expr> ')'\n",
      "|    '+' <factor>\n",
      "|    '-' <factor>\n",
      "|    <integer>\n",
      "|    <integer> '.' <integer>\n",
      "<term LC_2> ::=\n",
      "|    <factor LC_1>\n",
      "<factor LC_1> ::=\n",
      "|    <integer LC_1>\n",
      "<integer LC_1> ::=\n",
      "|    <digit LC_1>\n",
      "<digit LC_1> ::=\n",
      "|    '0'\n",
      "<factor neg(+FC)> ::=\n",
      "|    '(' <expr neg(+FC)> ')'\n",
      "|    '+' <factor neg(+FC)>\n",
      "|    '-' <factor neg(+FC)>\n",
      "|    <integer>\n",
      "|    <integer> '.' <integer>\n",
      "<term neg(LC_2)> ::=\n",
      "|    <factor neg(+FC)> ' * ' <term neg(+FC)>\n",
      "|    <factor neg(+FC)> ' / ' <term neg(+FC)>\n",
      "|    <factor neg(LC_1)>\n",
      "<factor neg(LC_1)> ::=\n",
      "|    '(' <expr neg(+FC)> ')'\n",
      "|    '+' <factor neg(+FC)>\n",
      "|    '-' <factor neg(+FC)>\n",
      "|    <integer neg(LC_1)>\n",
      "|    <integer> '.' <integer>\n",
      "<integer neg(LC_1)> ::=\n",
      "|    <digit neg(LC_1)>\n",
      "|    <digit> <integer>\n",
      "<digit neg(LC_1)> ::=\n",
      "|    '1'\n",
      "|    '2'\n",
      "|    '3'\n",
      "|    '4'\n",
      "|    '5'\n",
      "|    '6'\n",
      "|    '7'\n",
      "|    '8'\n",
      "|    '9'\n",
      "34 116\n"
     ]
    },
    {
     "data": {
      "text/plain": [
       "'<start or(.FA,.FB,.FC)>'"
      ]
     },
     "execution_count": 501,
     "metadata": {},
     "output_type": "execute_result"
    }
   ],
   "source": [
    "%%top\n",
    "Gs(AorBorC_grammar)\n",
    "AorBorC_start"
   ]
  },
  {
   "cell_type": "code",
   "execution_count": 502,
   "metadata": {},
   "outputs": [],
   "source": [
    "AorBorC_fuzzer = LimitFuzzer(AorBorC_grammar)\n",
    "AorBorC_parser = Parser(AorBorC_grammar, canonical=True, start_symbol=AorBorC_start)"
   ]
  },
  {
   "cell_type": "code",
   "execution_count": 503,
   "metadata": {},
   "outputs": [
    {
     "name": "stdout",
     "output_type": "stream",
     "text": [
      "-((3 - 6 - 0.3) * 3 / -4.5) / 0 - +(89.9 - 4 * 0.3 * 7.8 + 4 / 1) - 866 * 4.9\n",
      "A|B|C\n",
      "A|B\n",
      "A|C\n",
      "B|C\n",
      "*\n",
      "83 / 0 + -+((2) / 8.3 / 7.3 + 7 * 8) / 9\n",
      "A|B|C\n",
      "A|B\n",
      "A|C\n",
      "B|C\n",
      "*\n",
      "(-++9.0 + 27 / 21) * ((2 / 7.3 - 7.5 + 9)) + 5.0 * 6 - (-3 / -0 + +5) - 6914 / -(7 + 5) / -5 - (7 / 1.2) * +(1) * -3 * 0\n",
      "A|B|C\n",
      "A|B\n",
      "A|C\n",
      "B|C\n",
      "*\n",
      "2.35 + ((4.8 / 5.7 + 1 + 7) - -+9 * 0 / 9 * 3) / 0\n",
      "A|B|C\n",
      "A|B\n",
      "A|C\n",
      "B|C\n",
      "*\n",
      "((+2.4 / 0 * 3)) * 22.59 / 8 * 4.0 * +++0.8 / 35.0 / 8.7 * 4 - 0 * 8.8 - -+--7.6 / -++-7 + (4 / 9.4 + 5.2 / 5 + 2.0 + 6.6) * -++0.2 * -(8.0) * 0.1 / 3 * 7\n",
      "A|B|C\n",
      "A|B\n",
      "A|C\n",
      "B|C\n",
      "*\n",
      "+((9 / 9.5 + 5.0 - 8) * (4.7 + 6) / 0 / 9 - (8.6) / 9 - +1 * 6 / 5.3) * ++5 * ((5.2) + -8 * 9.1 / 7 - 7 - 2.0 - 4) - ((8.0 * 7.9 + 8)) - 7127.0 - 39 - -+8.3 * -+4.9 * -4.4 * 8 * 2.4 + (4.7 + 4) / (9) / 0\n",
      "A|B|C\n",
      "A|B\n",
      "A|C\n",
      "B|C\n",
      "*\n",
      "1 * +-(+5.1 + 5 * 0 - 3) * -(3 - 4) / 6 * +4.46 / 5.0 / -3 / 8.9 - 08.9 / 0\n",
      "A|B|C\n",
      "A|B\n",
      "A|C\n",
      "B|C\n",
      "*\n",
      "++--83 * 55.4 * ((9.9)) / (4.3 * 2.2 + 6 - 5 + 9.5) * 230.2 / ++8.7 * -2 - (4.5) / 583.85167 * 5\n",
      "A|B|C\n",
      "A|B\n",
      "A|C\n",
      "B|C\n",
      "*\n",
      "+((5.7 / 5) / -+3 / (5) + -5 * +4 * 8.6 + -0.2 * 2.9 * 9.5 - 7.3 + 0.9 + 1) - ((5 + 0.1 + 4))\n",
      "A|B|C\n",
      "A|B\n",
      "A|C\n",
      "B|C\n",
      "*\n",
      "0 * +(98 / -5 / 6.9 - 6) * +0 * 55 / 3.1 * ++2 + 6 / 0\n",
      "A|B|C\n",
      "A|B\n",
      "A|C\n",
      "B|C\n",
      "*\n"
     ]
    }
   ],
   "source": [
    "%%top\n",
    "for i in range(10):\n",
    "    s = AorBorC_fuzzer.fuzz(key=AorBorC_start)\n",
    "    print(s)\n",
    "    print('A|B|C')\n",
    "    assert AorBorC_parser.can_parse(s)\n",
    "    print('A|B')\n",
    "    assert AorB_parser.can_parse(s) or faultC_parser.can_parse(s)\n",
    "    print('A|C')\n",
    "    assert AorC_parser.can_parse(s) or faultB_parser.can_parse(s)\n",
    "    print('B|C')\n",
    "    assert BorC_parser.can_parse(s) or faultA_parser.can_parse(s)\n",
    "    print('*')\n",
    "    assert faultA_parser.can_parse(s) or  faultB_parser.can_parse(s) or  faultC_parser.can_parse(s)"
   ]
  },
  {
   "cell_type": "markdown",
   "metadata": {},
   "source": [
    "### A & B | C"
   ]
  },
  {
   "cell_type": "code",
   "execution_count": 504,
   "metadata": {},
   "outputs": [],
   "source": [
    "AandBorC_grammar, AandBorC_start = or_grammars(AandB_grammar, AandB_start, faultC_grammar, faultC_start)"
   ]
  },
  {
   "cell_type": "code",
   "execution_count": 505,
   "metadata": {},
   "outputs": [
    {
     "name": "stdout",
     "output_type": "stream",
     "text": [
      "<start or(.FC,and(.FA,.FB))> ::=\n",
      "|    <expr or(.FC,and(.FA,.FB))>\n",
      "<expr or(.FC,and(.FA,.FB))> ::=\n",
      "|    <term .FA> ' + ' <expr and(LB_2,neg(+FA))>\n",
      "|    <term .FC>\n",
      "|    <term .FC> ' + ' <expr neg(+FC)>\n",
      "|    <term .FC> ' - ' <expr neg(+FC)>\n",
      "|    <term neg(+FA)> ' + ' <expr and(.FA,LB_2)>\n",
      "|    <term neg(+FC)> ' + ' <expr .FC>\n",
      "|    <term neg(+FC)> ' - ' <expr .FC>\n",
      "<term .FA> ::=\n",
      "|    <factor .FA>\n",
      "|    <factor .FA> ' * ' <term neg(+FA)>\n",
      "|    <factor .FA> ' / ' <term neg(+FA)>\n",
      "|    <factor neg(+FA)> ' * ' <term .FA>\n",
      "|    <factor neg(+FA)> ' / ' <term .FA>\n",
      "<expr and(LB_2,neg(+FA))> ::=\n",
      "|    <term neg(+FA)>\n",
      "<term .FC> ::=\n",
      "|    <factor> ' / ' <term LC_2>\n",
      "<expr neg(+FC)> ::=\n",
      "|    <term neg(+FC)>\n",
      "|    <term neg(+FC)> ' + ' <expr neg(+FC)>\n",
      "|    <term neg(+FC)> ' - ' <expr neg(+FC)>\n",
      "<term neg(+FA)> ::=\n",
      "|    <factor neg(+FA)>\n",
      "|    <factor neg(+FA)> ' * ' <term neg(+FA)>\n",
      "|    <factor neg(+FA)> ' / ' <term neg(+FA)>\n",
      "<expr and(.FA,LB_2)> ::=\n",
      "|    <term .FA>\n",
      "<term neg(+FC)> ::=\n",
      "|    <factor neg(+FC)>\n",
      "|    <factor neg(+FC)> ' * ' <term neg(+FC)>\n",
      "|    <factor neg(+FC)> ' / ' <term neg(LC_2)>\n",
      "<expr .FC> ::=\n",
      "|    <term .FC>\n",
      "|    <term .FC> ' + ' <expr neg(+FC)>\n",
      "|    <term .FC> ' - ' <expr neg(+FC)>\n",
      "|    <term neg(+FC)> ' + ' <expr .FC>\n",
      "|    <term neg(+FC)> ' - ' <expr .FC>\n",
      "<factor .FA> ::=\n",
      "|    '(' <expr LA_1> ')'\n",
      "<factor neg(+FA)> ::=\n",
      "|    '(' <expr neg(LA_1)> ')'\n",
      "|    '+' <factor neg(+FA)>\n",
      "|    '-' <factor neg(+FA)>\n",
      "|    <integer>\n",
      "|    <integer> '.' <integer>\n",
      "<expr LA_1> ::=\n",
      "|    <term LA_1>\n",
      "<term LA_1> ::=\n",
      "|    <factor LA_2>\n",
      "<factor LA_2> ::=\n",
      "|    '(' <expr> ')'\n",
      "<expr> ::=\n",
      "|    <term>\n",
      "|    <term> ' + ' <expr>\n",
      "|    <term> ' - ' <expr>\n",
      "<term> ::=\n",
      "|    <factor>\n",
      "|    <factor> ' * ' <term>\n",
      "|    <factor> ' / ' <term>\n",
      "<factor> ::=\n",
      "|    '(' <expr> ')'\n",
      "|    '+' <factor>\n",
      "|    '-' <factor>\n",
      "|    <integer>\n",
      "|    <integer> '.' <integer>\n",
      "<integer> ::=\n",
      "|    <digit>\n",
      "|    <digit> <integer>\n",
      "<digit> ::=\n",
      "|    '0'\n",
      "|    '1'\n",
      "|    '2'\n",
      "|    '3'\n",
      "|    '4'\n",
      "|    '5'\n",
      "|    '6'\n",
      "|    '7'\n",
      "|    '8'\n",
      "|    '9'\n",
      "<expr neg(LA_1)> ::=\n",
      "|    <term neg(+FA)> ' + ' <expr neg(+FA)>\n",
      "|    <term neg(+FA)> ' - ' <expr neg(+FA)>\n",
      "|    <term neg(LA_1)>\n",
      "<expr neg(+FA)> ::=\n",
      "|    <term neg(+FA)>\n",
      "|    <term neg(+FA)> ' + ' <expr neg(+FA)>\n",
      "|    <term neg(+FA)> ' - ' <expr neg(+FA)>\n",
      "<term neg(LA_1)> ::=\n",
      "|    <factor neg(+FA)> ' * ' <term neg(+FA)>\n",
      "|    <factor neg(+FA)> ' / ' <term neg(+FA)>\n",
      "|    <factor neg(LA_2)>\n",
      "<factor neg(LA_2)> ::=\n",
      "|    '+' <factor neg(+FA)>\n",
      "|    '-' <factor neg(+FA)>\n",
      "|    <integer>\n",
      "|    <integer> '.' <integer>\n",
      "<term LC_2> ::=\n",
      "|    <factor LC_1>\n",
      "<factor LC_1> ::=\n",
      "|    <integer LC_1>\n",
      "<integer LC_1> ::=\n",
      "|    <digit LC_1>\n",
      "<digit LC_1> ::=\n",
      "|    '0'\n",
      "<factor neg(+FC)> ::=\n",
      "|    '(' <expr neg(+FC)> ')'\n",
      "|    '+' <factor neg(+FC)>\n",
      "|    '-' <factor neg(+FC)>\n",
      "|    <integer>\n",
      "|    <integer> '.' <integer>\n",
      "<term neg(LC_2)> ::=\n",
      "|    <factor neg(+FC)> ' * ' <term neg(+FC)>\n",
      "|    <factor neg(+FC)> ' / ' <term neg(+FC)>\n",
      "|    <factor neg(LC_1)>\n",
      "<factor neg(LC_1)> ::=\n",
      "|    '(' <expr neg(+FC)> ')'\n",
      "|    '+' <factor neg(+FC)>\n",
      "|    '-' <factor neg(+FC)>\n",
      "|    <integer neg(LC_1)>\n",
      "|    <integer> '.' <integer>\n",
      "<integer neg(LC_1)> ::=\n",
      "|    <digit neg(LC_1)>\n",
      "|    <digit> <integer>\n",
      "<digit neg(LC_1)> ::=\n",
      "|    '1'\n",
      "|    '2'\n",
      "|    '3'\n",
      "|    '4'\n",
      "|    '5'\n",
      "|    '6'\n",
      "|    '7'\n",
      "|    '8'\n",
      "|    '9'\n",
      "33 103\n"
     ]
    },
    {
     "data": {
      "text/plain": [
       "'<start or(.FC,and(.FA,.FB))>'"
      ]
     },
     "execution_count": 505,
     "metadata": {},
     "output_type": "execute_result"
    }
   ],
   "source": [
    "%%top\n",
    "Gs(AandBorC_grammar)\n",
    "AandBorC_start"
   ]
  },
  {
   "cell_type": "code",
   "execution_count": 506,
   "metadata": {},
   "outputs": [],
   "source": [
    "AandBorC_fuzzer = LimitFuzzer(AandBorC_grammar)\n",
    "AandBorC_parser = Parser(AandBorC_grammar, canonical=True, start_symbol=AandBorC_start)"
   ]
  },
  {
   "cell_type": "code",
   "execution_count": 507,
   "metadata": {},
   "outputs": [
    {
     "name": "stdout",
     "output_type": "stream",
     "text": [
      "++181 - +4 - (-+9 + -8.9 / 0.2 * 6.8 - 7.8 * 8) / 0\n",
      "A&B|C\n",
      "A&B\n",
      "+((7.0) / -+4.3 / 4 / 1 / 0.0 + 07.74 * (9) * 4 / 9.4 + +0 * 9.2 * 7.9) / --79 * 91 / 64.2890 - +5 / 0 - 4.8 - 71.8 * ++9 * (5) - 90.5 / -(2) / +0 / 2.2 - (7.9) / (8) - (7)\n",
      "A&B|C\n",
      "A&B\n",
      "7.5 / -(+-8.1 * +2.8 * 2.2) - (-70) / 0\n",
      "A&B|C\n",
      "A&B\n",
      "5.0 / 0 - 454 + (+(9) / (8) / 4.4 / 3) + ++38 / (4 / 7.2 + 4) - +94 / -3 * 3.3 + --3.5 / +6 / 7 - (6.0) / 4.8 * 3.5 + 8.4 / 4.4\n",
      "A&B|C\n",
      "A&B\n",
      "-61.5 / 0\n",
      "A&B|C\n",
      "A&B\n",
      "1.3 / 056.7 / 5 * (4.8 / 2.7 / 9.4 - 6 * 1.6 + 8.2 - 4) + 8.6 * (-4 * 7.5 / 7.0 * 5 + (2.0) / 9.3 * 2) / 11 * (6 - 3) * --3 * 0.1 + +0.175 / 0 + -(5 / 3.6) / +(0) / 06 - 611 / +1.2 * 1.6 - (9 - 3.8) * (1) - -9 - 6 * 8\n",
      "A&B|C\n",
      "A&B\n",
      "-4.265 / 0 - 6 * (+(7.9) * (2) / 1 * 1.0 - -3.6 / 6.6 * 9 + 7.0 * 0.1 + 9) / -(0 / 8) * -(3.2 + 7.9)\n",
      "A&B|C\n",
      "A&B\n",
      "((+3.9 / 3 - 2.8 * 4)) * 9 + 3\n",
      "A&B|C\n",
      "A&B\n",
      "9.9 * -++-72.5 / 9 * 4.67 * 84 / -1.1 + ((1.1 - 9.6 + 2))\n",
      "A&B|C\n",
      "A&B\n",
      "-((3.2 * 4 - 2.6)) / +(+6 / -0.0 - 8 * 1.6 * 2 - 3.8) + 10 / 0\n",
      "A&B|C\n",
      "A&B\n"
     ]
    }
   ],
   "source": [
    "%%top\n",
    "for i in range(10):\n",
    "    s = AandBorC_fuzzer.fuzz(key=AandBorC_start)\n",
    "    print(s)\n",
    "    print('A&B|C')\n",
    "    assert AandBorC_parser.can_parse(s)\n",
    "    print('A&B')\n",
    "    assert AandB_parser.can_parse(s) or faultC_parser.can_parse(s)"
   ]
  },
  {
   "cell_type": "code",
   "execution_count": 508,
   "metadata": {},
   "outputs": [
    {
     "data": {
      "text/plain": [
       "[]"
      ]
     },
     "execution_count": 508,
     "metadata": {},
     "output_type": "execute_result"
    }
   ],
   "source": [
    "EXCEPTION_HAPPENED"
   ]
  },
  {
   "cell_type": "markdown",
   "metadata": {},
   "source": [
    "## JSON"
   ]
  },
  {
   "cell_type": "code",
   "execution_count": 509,
   "metadata": {},
   "outputs": [],
   "source": [
    "json_grammar = {\n",
    "   '<json>': [['<element>']],\n",
    "   '<element>': [['<value>']],\n",
    "   '<value>': [\n",
    "    ['<object>'],\n",
    "    ['<array>'],\n",
    "    ['<string>'],\n",
    "    ['<number>'],\n",
    "    [\"true\"],\n",
    "    [\"false\"],\n",
    "    [\"null\"]\n",
    "    ],    \n",
    "    '<object>': [\n",
    "        ['{}'],\n",
    "        ['{', '<members>','}']\n",
    "    ],    \n",
    "    '<members>': [\n",
    "        ['<member>'],\n",
    "        ['<member>',',','<members>']\n",
    "    ],    \n",
    "    '<member>': [\n",
    "        ['<string>',':','<element>']\n",
    "    ],    \n",
    "    '<array>': [\n",
    "        ['[]'],\n",
    "        ['[', '<elements>',']']\n",
    "    ],    \n",
    "    '<elements>':[\n",
    "        ['<element>'],\n",
    "        ['<element>',',','<elements>']\n",
    "    ],    \n",
    "    '<string>': [['\"', '<characters>','\"']],\n",
    "    '<characters>':[\n",
    "        [],   \n",
    "        ['<character>','<characters>']],\n",
    "    '<character>': [[a] for a in string.ascii_letters],\n",
    "    '<number>': [['<integer>', '<fraction>', '<exponent>']],\n",
    "    '<integer>': [\n",
    "       ['<digit>'] ,\n",
    "       ['<onenine>','<digits>'] \n",
    "    ],    \n",
    "    '<digits>': [\n",
    "        ['<digit>'],\n",
    "        ['<digit>','<digits>']\n",
    "    ],    \n",
    "    '<digit>': [\n",
    "        ['0'],\n",
    "        ['<onenine>']\n",
    "    ],    \n",
    "    '<onenine>': [[str(i)] for i in string.digits],\n",
    "    '<fraction>':[\n",
    "        [],   \n",
    "        ['.', '<digits>']\n",
    "    ],    \n",
    "    '<exponent>':[\n",
    "        [],   \n",
    "        ['E','<sign>','<digits>'],\n",
    "        ['e','<sign>','<digits>']\n",
    "    ],    \n",
    "    '<sign>': [\n",
    "        [],   \n",
    "        ['+'],\n",
    "        ['-'] \n",
    "    ]\n",
    "}"
   ]
  },
  {
   "cell_type": "code",
   "execution_count": 510,
   "metadata": {},
   "outputs": [],
   "source": [
    "JSON_GRAMMAR = {\n",
    "   '<json>': [['<element>']],\n",
    "   '<element>': [\n",
    "    ['<object>'],\n",
    "    ['<array>'],\n",
    "    ['<string>'],\n",
    "    ['<number>'],\n",
    "    [\"true\"],\n",
    "    [\"false\"],\n",
    "    [\"null\"]\n",
    "    ],    \n",
    "    '<object>': [\n",
    "        ['{', '<members>','}'],\n",
    "        ['{}']\n",
    "    ],    \n",
    "    '<members>': [\n",
    "        ['<member>'],\n",
    "        ['<member>',',','<members>']\n",
    "    ],    \n",
    "    '<member>': [\n",
    "        ['<string>',':','<element>']\n",
    "    ],    \n",
    "    '<array>': [\n",
    "        ['[', '<elements>',']'],\n",
    "        ['[]']\n",
    "    ],    \n",
    "    '<elements>':[\n",
    "        ['<element>'],\n",
    "        ['<element>',',','<elements>']\n",
    "    ],    \n",
    "    '<string>': [['\"', '<characters>','\"']],\n",
    "    '<characters>':[\n",
    "        [],   \n",
    "        ['<character>','<characters>']],\n",
    "    '<character>': [[a] for a in string.ascii_letters[0:3]],\n",
    "    '<number>': [['<digits>']],\n",
    "    '<digits>': [\n",
    "        ['<digit>'],\n",
    "        ['<digit>','<digits>']\n",
    "    ],    \n",
    "    '<digit>': [[str(i)] for i in string.digits]\n",
    "}\n",
    "JSON_START = '<json>'"
   ]
  },
  {
   "cell_type": "code",
   "execution_count": 511,
   "metadata": {},
   "outputs": [],
   "source": [
    "json_fuzzer = LimitFuzzer(JSON_GRAMMAR)"
   ]
  },
  {
   "cell_type": "code",
   "execution_count": 512,
   "metadata": {},
   "outputs": [
    {
     "data": {
      "text/plain": [
       "'false'"
      ]
     },
     "execution_count": 512,
     "metadata": {},
     "output_type": "execute_result"
    }
   ],
   "source": [
    "json_fuzzer.fuzz(JSON_START)"
   ]
  },
  {
   "cell_type": "code",
   "execution_count": 513,
   "metadata": {},
   "outputs": [],
   "source": [
    "json_parser = Parser(JSON_GRAMMAR, start_symbol=JSON_START, canonical=True)"
   ]
  },
  {
   "cell_type": "code",
   "execution_count": null,
   "metadata": {},
   "outputs": [],
   "source": []
  },
  {
   "cell_type": "markdown",
   "metadata": {},
   "source": [
    "### Key value is null"
   ]
  },
  {
   "cell_type": "code",
   "execution_count": 514,
   "metadata": {},
   "outputs": [],
   "source": [
    "s_null = '{\"abc\":null}'\n",
    "v = list(json_parser.parse(s_null))[0]"
   ]
  },
  {
   "cell_type": "code",
   "execution_count": 515,
   "metadata": {},
   "outputs": [
    {
     "data": {
      "text/plain": [
       "('<json>',\n",
       " [('<element>',\n",
       "   [('<object>',\n",
       "     [('{', []),\n",
       "      ('<members>',\n",
       "       [('<member>',\n",
       "         [('<string>',\n",
       "           [('\"', []),\n",
       "            ('<characters>',\n",
       "             [('<character>', [('a', [])]),\n",
       "              ('<characters>',\n",
       "               [('<character>', [('b', [])]),\n",
       "                ('<characters>',\n",
       "                 [('<character>', [('c', [])]), ('<characters>', [])])])]),\n",
       "            ('\"', [])]),\n",
       "          (':', []),\n",
       "          ('<element>', [('null', [])])])]),\n",
       "      ('}', [])])])])"
      ]
     },
     "execution_count": 515,
     "metadata": {},
     "output_type": "execute_result"
    }
   ],
   "source": [
    "v"
   ]
  },
  {
   "cell_type": "code",
   "execution_count": 516,
   "metadata": {},
   "outputs": [
    {
     "data": {
      "image/svg+xml": [
       "<?xml version=\"1.0\" encoding=\"UTF-8\" standalone=\"no\"?>\n",
       "<!DOCTYPE svg PUBLIC \"-//W3C//DTD SVG 1.1//EN\"\n",
       " \"http://www.w3.org/Graphics/SVG/1.1/DTD/svg11.dtd\">\n",
       "<!-- Generated by graphviz version 2.44.1 (20200629.0846)\n",
       " -->\n",
       "<!-- Pages: 1 -->\n",
       "<svg width=\"306pt\" height=\"683pt\"\n",
       " viewBox=\"0.00 0.00 306.00 683.00\" xmlns=\"http://www.w3.org/2000/svg\" xmlns:xlink=\"http://www.w3.org/1999/xlink\">\n",
       "<g id=\"graph0\" class=\"graph\" transform=\"scale(1 1) rotate(0) translate(4 679)\">\n",
       "<polygon fill=\"white\" stroke=\"transparent\" points=\"-4,4 -4,-679 302,-679 302,4 -4,4\"/>\n",
       "<!-- (0, 0) -->\n",
       "<g id=\"node1\" class=\"node\">\n",
       "<title>(0, 0)</title>\n",
       "<text text-anchor=\"middle\" x=\"136\" y=\"-663.8\" font-family=\"Times,serif\" font-size=\"14.00\">&lt;json&gt; </text>\n",
       "</g>\n",
       "<!-- (1, 0) -->\n",
       "<g id=\"node2\" class=\"node\">\n",
       "<title>(1, 0)</title>\n",
       "<text text-anchor=\"middle\" x=\"136\" y=\"-597.8\" font-family=\"Times,serif\" font-size=\"14.00\">&lt;element&gt; </text>\n",
       "</g>\n",
       "<!-- (0, 0)&#45;&gt;(1, 0) -->\n",
       "<g id=\"edge1\" class=\"edge\">\n",
       "<title>(0, 0)&#45;&gt;(1, 0)</title>\n",
       "<path fill=\"none\" stroke=\"black\" d=\"M136,-659.65C136,-650.07 136,-632.38 136,-619.2\"/>\n",
       "<polygon fill=\"black\" stroke=\"black\" points=\"139.5,-619.11 136,-609.11 132.5,-619.11 139.5,-619.11\"/>\n",
       "<text text-anchor=\"middle\" x=\"139.5\" y=\"-630.8\" font-family=\"Times,serif\" font-size=\"14.00\">0</text>\n",
       "</g>\n",
       "<!-- (2, 0) -->\n",
       "<g id=\"node3\" class=\"node\">\n",
       "<title>(2, 0)</title>\n",
       "<text text-anchor=\"middle\" x=\"136\" y=\"-531.8\" font-family=\"Times,serif\" font-size=\"14.00\">&lt;object&gt; </text>\n",
       "</g>\n",
       "<!-- (1, 0)&#45;&gt;(2, 0) -->\n",
       "<g id=\"edge2\" class=\"edge\">\n",
       "<title>(1, 0)&#45;&gt;(2, 0)</title>\n",
       "<path fill=\"none\" stroke=\"black\" d=\"M136,-593.65C136,-584.07 136,-566.38 136,-553.2\"/>\n",
       "<polygon fill=\"black\" stroke=\"black\" points=\"139.5,-553.11 136,-543.11 132.5,-553.11 139.5,-553.11\"/>\n",
       "<text text-anchor=\"middle\" x=\"139.5\" y=\"-564.8\" font-family=\"Times,serif\" font-size=\"14.00\">0</text>\n",
       "</g>\n",
       "<!-- (3, 0) -->\n",
       "<g id=\"node4\" class=\"node\">\n",
       "<title>(3, 0)</title>\n",
       "<text text-anchor=\"middle\" x=\"76\" y=\"-465.8\" font-family=\"Times,serif\" font-size=\"14.00\">{ </text>\n",
       "</g>\n",
       "<!-- (2, 0)&#45;&gt;(3, 0) -->\n",
       "<g id=\"edge3\" class=\"edge\">\n",
       "<title>(2, 0)&#45;&gt;(3, 0)</title>\n",
       "<path fill=\"none\" stroke=\"black\" d=\"M129.58,-527.65C119.87,-517.29 101.24,-497.43 88.72,-484.07\"/>\n",
       "<polygon fill=\"black\" stroke=\"black\" points=\"91.23,-481.63 81.84,-476.73 86.13,-486.42 91.23,-481.63\"/>\n",
       "<text text-anchor=\"middle\" x=\"115.5\" y=\"-498.8\" font-family=\"Times,serif\" font-size=\"14.00\">0</text>\n",
       "</g>\n",
       "<!-- (4, 1) -->\n",
       "<g id=\"node5\" class=\"node\">\n",
       "<title>(4, 1)</title>\n",
       "<text text-anchor=\"middle\" x=\"136\" y=\"-465.8\" font-family=\"Times,serif\" font-size=\"14.00\">&lt;members&gt; </text>\n",
       "</g>\n",
       "<!-- (2, 0)&#45;&gt;(4, 1) -->\n",
       "<g id=\"edge4\" class=\"edge\">\n",
       "<title>(2, 0)&#45;&gt;(4, 1)</title>\n",
       "<path fill=\"none\" stroke=\"black\" d=\"M136,-527.65C136,-518.07 136,-500.38 136,-487.2\"/>\n",
       "<polygon fill=\"black\" stroke=\"black\" points=\"139.5,-487.11 136,-477.11 132.5,-487.11 139.5,-487.11\"/>\n",
       "<text text-anchor=\"middle\" x=\"139.5\" y=\"-498.8\" font-family=\"Times,serif\" font-size=\"14.00\">1</text>\n",
       "</g>\n",
       "<!-- (22, 2) -->\n",
       "<g id=\"node23\" class=\"node\">\n",
       "<title>(22, 2)</title>\n",
       "<text text-anchor=\"middle\" x=\"196\" y=\"-465.8\" font-family=\"Times,serif\" font-size=\"14.00\">} </text>\n",
       "</g>\n",
       "<!-- (2, 0)&#45;&gt;(22, 2) -->\n",
       "<g id=\"edge22\" class=\"edge\">\n",
       "<title>(2, 0)&#45;&gt;(22, 2)</title>\n",
       "<path fill=\"none\" stroke=\"black\" d=\"M142.42,-527.65C152.13,-517.29 170.76,-497.43 183.28,-484.07\"/>\n",
       "<polygon fill=\"black\" stroke=\"black\" points=\"185.87,-486.42 190.16,-476.73 180.77,-481.63 185.87,-486.42\"/>\n",
       "<text text-anchor=\"middle\" x=\"175.5\" y=\"-498.8\" font-family=\"Times,serif\" font-size=\"14.00\">2</text>\n",
       "</g>\n",
       "<!-- (5, 0) -->\n",
       "<g id=\"node6\" class=\"node\">\n",
       "<title>(5, 0)</title>\n",
       "<text text-anchor=\"middle\" x=\"136\" y=\"-399.8\" font-family=\"Times,serif\" font-size=\"14.00\">&lt;member&gt; </text>\n",
       "</g>\n",
       "<!-- (4, 1)&#45;&gt;(5, 0) -->\n",
       "<g id=\"edge5\" class=\"edge\">\n",
       "<title>(4, 1)&#45;&gt;(5, 0)</title>\n",
       "<path fill=\"none\" stroke=\"black\" d=\"M136,-461.65C136,-452.07 136,-434.38 136,-421.2\"/>\n",
       "<polygon fill=\"black\" stroke=\"black\" points=\"139.5,-421.11 136,-411.11 132.5,-421.11 139.5,-421.11\"/>\n",
       "<text text-anchor=\"middle\" x=\"139.5\" y=\"-432.8\" font-family=\"Times,serif\" font-size=\"14.00\">0</text>\n",
       "</g>\n",
       "<!-- (6, 0) -->\n",
       "<g id=\"node7\" class=\"node\">\n",
       "<title>(6, 0)</title>\n",
       "<text text-anchor=\"middle\" x=\"88\" y=\"-333.8\" font-family=\"Times,serif\" font-size=\"14.00\">&lt;string&gt; </text>\n",
       "</g>\n",
       "<!-- (5, 0)&#45;&gt;(6, 0) -->\n",
       "<g id=\"edge6\" class=\"edge\">\n",
       "<title>(5, 0)&#45;&gt;(6, 0)</title>\n",
       "<path fill=\"none\" stroke=\"black\" d=\"M130.86,-395.65C123.32,-385.59 109.05,-366.57 99.06,-353.24\"/>\n",
       "<polygon fill=\"black\" stroke=\"black\" points=\"101.76,-351.01 92.96,-345.11 96.16,-355.21 101.76,-351.01\"/>\n",
       "<text text-anchor=\"middle\" x=\"120.5\" y=\"-366.8\" font-family=\"Times,serif\" font-size=\"14.00\">0</text>\n",
       "</g>\n",
       "<!-- (19, 1) -->\n",
       "<g id=\"node20\" class=\"node\">\n",
       "<title>(19, 1)</title>\n",
       "<text text-anchor=\"middle\" x=\"136\" y=\"-333.8\" font-family=\"Times,serif\" font-size=\"14.00\">: </text>\n",
       "</g>\n",
       "<!-- (5, 0)&#45;&gt;(19, 1) -->\n",
       "<g id=\"edge19\" class=\"edge\">\n",
       "<title>(5, 0)&#45;&gt;(19, 1)</title>\n",
       "<path fill=\"none\" stroke=\"black\" d=\"M136,-395.65C136,-386.07 136,-368.38 136,-355.2\"/>\n",
       "<polygon fill=\"black\" stroke=\"black\" points=\"139.5,-355.11 136,-345.11 132.5,-355.11 139.5,-355.11\"/>\n",
       "<text text-anchor=\"middle\" x=\"139.5\" y=\"-366.8\" font-family=\"Times,serif\" font-size=\"14.00\">1</text>\n",
       "</g>\n",
       "<!-- (20, 2) -->\n",
       "<g id=\"node21\" class=\"node\">\n",
       "<title>(20, 2)</title>\n",
       "<text text-anchor=\"middle\" x=\"190\" y=\"-333.8\" font-family=\"Times,serif\" font-size=\"14.00\">&lt;element&gt; </text>\n",
       "</g>\n",
       "<!-- (5, 0)&#45;&gt;(20, 2) -->\n",
       "<g id=\"edge20\" class=\"edge\">\n",
       "<title>(5, 0)&#45;&gt;(20, 2)</title>\n",
       "<path fill=\"none\" stroke=\"black\" d=\"M141.78,-395.65C150.35,-385.49 166.63,-366.2 177.88,-352.86\"/>\n",
       "<polygon fill=\"black\" stroke=\"black\" points=\"180.65,-355.01 184.42,-345.11 175.3,-350.49 180.65,-355.01\"/>\n",
       "<text text-anchor=\"middle\" x=\"171.5\" y=\"-366.8\" font-family=\"Times,serif\" font-size=\"14.00\">2</text>\n",
       "</g>\n",
       "<!-- (7, 0) -->\n",
       "<g id=\"node8\" class=\"node\">\n",
       "<title>(7, 0)</title>\n",
       "<text text-anchor=\"middle\" x=\"27\" y=\"-267.8\" font-family=\"Times,serif\" font-size=\"14.00\">&quot; </text>\n",
       "</g>\n",
       "<!-- (6, 0)&#45;&gt;(7, 0) -->\n",
       "<g id=\"edge7\" class=\"edge\">\n",
       "<title>(6, 0)&#45;&gt;(7, 0)</title>\n",
       "<path fill=\"none\" stroke=\"black\" d=\"M81.47,-329.65C71.39,-319.08 51.88,-298.6 39.15,-285.25\"/>\n",
       "<polygon fill=\"black\" stroke=\"black\" points=\"41.68,-282.83 32.25,-278.01 36.61,-287.66 41.68,-282.83\"/>\n",
       "<text text-anchor=\"middle\" x=\"66.5\" y=\"-300.8\" font-family=\"Times,serif\" font-size=\"14.00\">0</text>\n",
       "</g>\n",
       "<!-- (8, 1) -->\n",
       "<g id=\"node9\" class=\"node\">\n",
       "<title>(8, 1)</title>\n",
       "<text text-anchor=\"middle\" x=\"88\" y=\"-267.8\" font-family=\"Times,serif\" font-size=\"14.00\">&lt;characters&gt; </text>\n",
       "</g>\n",
       "<!-- (6, 0)&#45;&gt;(8, 1) -->\n",
       "<g id=\"edge8\" class=\"edge\">\n",
       "<title>(6, 0)&#45;&gt;(8, 1)</title>\n",
       "<path fill=\"none\" stroke=\"black\" d=\"M88,-329.65C88,-320.07 88,-302.38 88,-289.2\"/>\n",
       "<polygon fill=\"black\" stroke=\"black\" points=\"91.5,-289.11 88,-279.11 84.5,-289.11 91.5,-289.11\"/>\n",
       "<text text-anchor=\"middle\" x=\"91.5\" y=\"-300.8\" font-family=\"Times,serif\" font-size=\"14.00\">1</text>\n",
       "</g>\n",
       "<!-- (18, 2) -->\n",
       "<g id=\"node19\" class=\"node\">\n",
       "<title>(18, 2)</title>\n",
       "<text text-anchor=\"middle\" x=\"149\" y=\"-267.8\" font-family=\"Times,serif\" font-size=\"14.00\">&quot; </text>\n",
       "</g>\n",
       "<!-- (6, 0)&#45;&gt;(18, 2) -->\n",
       "<g id=\"edge18\" class=\"edge\">\n",
       "<title>(6, 0)&#45;&gt;(18, 2)</title>\n",
       "<path fill=\"none\" stroke=\"black\" d=\"M94.53,-329.65C104.61,-319.08 124.12,-298.6 136.85,-285.25\"/>\n",
       "<polygon fill=\"black\" stroke=\"black\" points=\"139.39,-287.66 143.75,-278.01 134.32,-282.83 139.39,-287.66\"/>\n",
       "<text text-anchor=\"middle\" x=\"127.5\" y=\"-300.8\" font-family=\"Times,serif\" font-size=\"14.00\">2</text>\n",
       "</g>\n",
       "<!-- (9, 0) -->\n",
       "<g id=\"node10\" class=\"node\">\n",
       "<title>(9, 0)</title>\n",
       "<text text-anchor=\"middle\" x=\"35\" y=\"-201.8\" font-family=\"Times,serif\" font-size=\"14.00\">&lt;character&gt; </text>\n",
       "</g>\n",
       "<!-- (8, 1)&#45;&gt;(9, 0) -->\n",
       "<g id=\"edge9\" class=\"edge\">\n",
       "<title>(8, 1)&#45;&gt;(9, 0)</title>\n",
       "<path fill=\"none\" stroke=\"black\" d=\"M82.33,-263.65C73.92,-253.49 57.94,-234.2 46.89,-220.86\"/>\n",
       "<polygon fill=\"black\" stroke=\"black\" points=\"49.55,-218.58 40.47,-213.11 44.15,-223.04 49.55,-218.58\"/>\n",
       "<text text-anchor=\"middle\" x=\"70.5\" y=\"-234.8\" font-family=\"Times,serif\" font-size=\"14.00\">0</text>\n",
       "</g>\n",
       "<!-- (11, 1) -->\n",
       "<g id=\"node12\" class=\"node\">\n",
       "<title>(11, 1)</title>\n",
       "<text text-anchor=\"middle\" x=\"126\" y=\"-201.8\" font-family=\"Times,serif\" font-size=\"14.00\">&lt;characters&gt; </text>\n",
       "</g>\n",
       "<!-- (8, 1)&#45;&gt;(11, 1) -->\n",
       "<g id=\"edge11\" class=\"edge\">\n",
       "<title>(8, 1)&#45;&gt;(11, 1)</title>\n",
       "<path fill=\"none\" stroke=\"black\" d=\"M92.07,-263.65C97.93,-253.78 108.9,-235.3 116.79,-222.02\"/>\n",
       "<polygon fill=\"black\" stroke=\"black\" points=\"119.98,-223.49 122.08,-213.11 113.96,-219.92 119.98,-223.49\"/>\n",
       "<text text-anchor=\"middle\" x=\"114.5\" y=\"-234.8\" font-family=\"Times,serif\" font-size=\"14.00\">1</text>\n",
       "</g>\n",
       "<!-- (10, 0) -->\n",
       "<g id=\"node11\" class=\"node\">\n",
       "<title>(10, 0)</title>\n",
       "<text text-anchor=\"middle\" x=\"35\" y=\"-135.8\" font-family=\"Times,serif\" font-size=\"14.00\">a </text>\n",
       "</g>\n",
       "<!-- (9, 0)&#45;&gt;(10, 0) -->\n",
       "<g id=\"edge10\" class=\"edge\">\n",
       "<title>(9, 0)&#45;&gt;(10, 0)</title>\n",
       "<path fill=\"none\" stroke=\"black\" d=\"M35,-197.65C35,-188.07 35,-170.38 35,-157.2\"/>\n",
       "<polygon fill=\"black\" stroke=\"black\" points=\"38.5,-157.11 35,-147.11 31.5,-157.11 38.5,-157.11\"/>\n",
       "<text text-anchor=\"middle\" x=\"38.5\" y=\"-168.8\" font-family=\"Times,serif\" font-size=\"14.00\">0</text>\n",
       "</g>\n",
       "<!-- (12, 0) -->\n",
       "<g id=\"node13\" class=\"node\">\n",
       "<title>(12, 0)</title>\n",
       "<text text-anchor=\"middle\" x=\"94\" y=\"-135.8\" font-family=\"Times,serif\" font-size=\"14.00\">&lt;character&gt; </text>\n",
       "</g>\n",
       "<!-- (11, 1)&#45;&gt;(12, 0) -->\n",
       "<g id=\"edge12\" class=\"edge\">\n",
       "<title>(11, 1)&#45;&gt;(12, 0)</title>\n",
       "<path fill=\"none\" stroke=\"black\" d=\"M122.58,-197.65C117.69,-187.88 108.58,-169.66 101.96,-156.41\"/>\n",
       "<polygon fill=\"black\" stroke=\"black\" points=\"104.91,-154.49 97.3,-147.11 98.65,-157.62 104.91,-154.49\"/>\n",
       "<text text-anchor=\"middle\" x=\"116.5\" y=\"-168.8\" font-family=\"Times,serif\" font-size=\"14.00\">0</text>\n",
       "</g>\n",
       "<!-- (14, 1) -->\n",
       "<g id=\"node15\" class=\"node\">\n",
       "<title>(14, 1)</title>\n",
       "<text text-anchor=\"middle\" x=\"185\" y=\"-135.8\" font-family=\"Times,serif\" font-size=\"14.00\">&lt;characters&gt; </text>\n",
       "</g>\n",
       "<!-- (11, 1)&#45;&gt;(14, 1) -->\n",
       "<g id=\"edge14\" class=\"edge\">\n",
       "<title>(11, 1)&#45;&gt;(14, 1)</title>\n",
       "<path fill=\"none\" stroke=\"black\" d=\"M132.31,-197.65C141.77,-187.4 159.8,-167.83 172.11,-154.48\"/>\n",
       "<polygon fill=\"black\" stroke=\"black\" points=\"174.7,-156.83 178.91,-147.11 169.56,-152.09 174.7,-156.83\"/>\n",
       "<text text-anchor=\"middle\" x=\"164.5\" y=\"-168.8\" font-family=\"Times,serif\" font-size=\"14.00\">1</text>\n",
       "</g>\n",
       "<!-- (13, 0) -->\n",
       "<g id=\"node14\" class=\"node\">\n",
       "<title>(13, 0)</title>\n",
       "<text text-anchor=\"middle\" x=\"94\" y=\"-69.8\" font-family=\"Times,serif\" font-size=\"14.00\">b </text>\n",
       "</g>\n",
       "<!-- (12, 0)&#45;&gt;(13, 0) -->\n",
       "<g id=\"edge13\" class=\"edge\">\n",
       "<title>(12, 0)&#45;&gt;(13, 0)</title>\n",
       "<path fill=\"none\" stroke=\"black\" d=\"M94,-131.65C94,-122.07 94,-104.38 94,-91.2\"/>\n",
       "<polygon fill=\"black\" stroke=\"black\" points=\"97.5,-91.11 94,-81.11 90.5,-91.11 97.5,-91.11\"/>\n",
       "<text text-anchor=\"middle\" x=\"97.5\" y=\"-102.8\" font-family=\"Times,serif\" font-size=\"14.00\">0</text>\n",
       "</g>\n",
       "<!-- (15, 0) -->\n",
       "<g id=\"node16\" class=\"node\">\n",
       "<title>(15, 0)</title>\n",
       "<text text-anchor=\"middle\" x=\"169\" y=\"-69.8\" font-family=\"Times,serif\" font-size=\"14.00\">&lt;character&gt; </text>\n",
       "</g>\n",
       "<!-- (14, 1)&#45;&gt;(15, 0) -->\n",
       "<g id=\"edge15\" class=\"edge\">\n",
       "<title>(14, 1)&#45;&gt;(15, 0)</title>\n",
       "<path fill=\"none\" stroke=\"black\" d=\"M183.29,-131.65C180.89,-122.07 176.47,-104.38 173.18,-91.2\"/>\n",
       "<polygon fill=\"black\" stroke=\"black\" points=\"176.47,-89.96 170.65,-81.11 169.68,-91.66 176.47,-89.96\"/>\n",
       "<text text-anchor=\"middle\" x=\"182.5\" y=\"-102.8\" font-family=\"Times,serif\" font-size=\"14.00\">0</text>\n",
       "</g>\n",
       "<!-- (17, 1) -->\n",
       "<g id=\"node18\" class=\"node\">\n",
       "<title>(17, 1)</title>\n",
       "<text text-anchor=\"middle\" x=\"260\" y=\"-69.8\" font-family=\"Times,serif\" font-size=\"14.00\">&lt;characters&gt; </text>\n",
       "</g>\n",
       "<!-- (14, 1)&#45;&gt;(17, 1) -->\n",
       "<g id=\"edge17\" class=\"edge\">\n",
       "<title>(14, 1)&#45;&gt;(17, 1)</title>\n",
       "<path fill=\"none\" stroke=\"black\" d=\"M192.74,-131.89C204.87,-121.54 228.58,-101.31 244.36,-87.85\"/>\n",
       "<polygon fill=\"black\" stroke=\"black\" points=\"246.85,-90.32 252.19,-81.17 242.31,-85 246.85,-90.32\"/>\n",
       "<text text-anchor=\"middle\" x=\"233.5\" y=\"-102.8\" font-family=\"Times,serif\" font-size=\"14.00\">1</text>\n",
       "</g>\n",
       "<!-- (16, 0) -->\n",
       "<g id=\"node17\" class=\"node\">\n",
       "<title>(16, 0)</title>\n",
       "<text text-anchor=\"middle\" x=\"169\" y=\"-3.8\" font-family=\"Times,serif\" font-size=\"14.00\">c </text>\n",
       "</g>\n",
       "<!-- (15, 0)&#45;&gt;(16, 0) -->\n",
       "<g id=\"edge16\" class=\"edge\">\n",
       "<title>(15, 0)&#45;&gt;(16, 0)</title>\n",
       "<path fill=\"none\" stroke=\"black\" d=\"M169,-65.65C169,-56.07 169,-38.38 169,-25.2\"/>\n",
       "<polygon fill=\"black\" stroke=\"black\" points=\"172.5,-25.11 169,-15.11 165.5,-25.11 172.5,-25.11\"/>\n",
       "<text text-anchor=\"middle\" x=\"172.5\" y=\"-36.8\" font-family=\"Times,serif\" font-size=\"14.00\">0</text>\n",
       "</g>\n",
       "<!-- (21, 0) -->\n",
       "<g id=\"node22\" class=\"node\">\n",
       "<title>(21, 0)</title>\n",
       "<text text-anchor=\"middle\" x=\"190\" y=\"-267.8\" font-family=\"Times,serif\" font-size=\"14.00\">null </text>\n",
       "</g>\n",
       "<!-- (20, 2)&#45;&gt;(21, 0) -->\n",
       "<g id=\"edge21\" class=\"edge\">\n",
       "<title>(20, 2)&#45;&gt;(21, 0)</title>\n",
       "<path fill=\"none\" stroke=\"black\" d=\"M190,-329.65C190,-320.07 190,-302.38 190,-289.2\"/>\n",
       "<polygon fill=\"black\" stroke=\"black\" points=\"193.5,-289.11 190,-279.11 186.5,-289.11 193.5,-289.11\"/>\n",
       "<text text-anchor=\"middle\" x=\"193.5\" y=\"-300.8\" font-family=\"Times,serif\" font-size=\"14.00\">0</text>\n",
       "</g>\n",
       "</g>\n",
       "</svg>\n"
      ],
      "text/plain": [
       "<graphviz.dot.Digraph at 0x1154937b8>"
      ]
     },
     "execution_count": 516,
     "metadata": {},
     "output_type": "execute_result"
    }
   ],
   "source": [
    "display_tree(v)"
   ]
  },
  {
   "cell_type": "code",
   "execution_count": 517,
   "metadata": {},
   "outputs": [
    {
     "data": {
      "image/svg+xml": [
       "<?xml version=\"1.0\" encoding=\"UTF-8\" standalone=\"no\"?>\n",
       "<!DOCTYPE svg PUBLIC \"-//W3C//DTD SVG 1.1//EN\"\n",
       " \"http://www.w3.org/Graphics/SVG/1.1/DTD/svg11.dtd\">\n",
       "<!-- Generated by graphviz version 2.44.1 (20200629.0846)\n",
       " -->\n",
       "<!-- Pages: 1 -->\n",
       "<svg width=\"306pt\" height=\"353pt\"\n",
       " viewBox=\"0.00 0.00 306.00 353.00\" xmlns=\"http://www.w3.org/2000/svg\" xmlns:xlink=\"http://www.w3.org/1999/xlink\">\n",
       "<g id=\"graph0\" class=\"graph\" transform=\"scale(1 1) rotate(0) translate(4 349)\">\n",
       "<polygon fill=\"white\" stroke=\"transparent\" points=\"-4,4 -4,-349 302,-349 302,4 -4,4\"/>\n",
       "<!-- (0, 0) -->\n",
       "<g id=\"node1\" class=\"node\">\n",
       "<title>(0, 0)</title>\n",
       "<text text-anchor=\"middle\" x=\"87\" y=\"-333.8\" font-family=\"Times,serif\" font-size=\"14.00\">&lt;string&gt; </text>\n",
       "</g>\n",
       "<!-- (1, 0) -->\n",
       "<g id=\"node2\" class=\"node\">\n",
       "<title>(1, 0)</title>\n",
       "<text text-anchor=\"middle\" x=\"26\" y=\"-267.8\" font-family=\"Times,serif\" font-size=\"14.00\">&quot; </text>\n",
       "</g>\n",
       "<!-- (0, 0)&#45;&gt;(1, 0) -->\n",
       "<g id=\"edge1\" class=\"edge\">\n",
       "<title>(0, 0)&#45;&gt;(1, 0)</title>\n",
       "<path fill=\"none\" stroke=\"black\" d=\"M80.47,-329.65C70.39,-319.08 50.88,-298.6 38.15,-285.25\"/>\n",
       "<polygon fill=\"black\" stroke=\"black\" points=\"40.68,-282.83 31.25,-278.01 35.61,-287.66 40.68,-282.83\"/>\n",
       "<text text-anchor=\"middle\" x=\"65.5\" y=\"-300.8\" font-family=\"Times,serif\" font-size=\"14.00\">0</text>\n",
       "</g>\n",
       "<!-- (2, 1) -->\n",
       "<g id=\"node3\" class=\"node\">\n",
       "<title>(2, 1)</title>\n",
       "<text text-anchor=\"middle\" x=\"87\" y=\"-267.8\" font-family=\"Times,serif\" font-size=\"14.00\">&lt;characters&gt; </text>\n",
       "</g>\n",
       "<!-- (0, 0)&#45;&gt;(2, 1) -->\n",
       "<g id=\"edge2\" class=\"edge\">\n",
       "<title>(0, 0)&#45;&gt;(2, 1)</title>\n",
       "<path fill=\"none\" stroke=\"black\" d=\"M87,-329.65C87,-320.07 87,-302.38 87,-289.2\"/>\n",
       "<polygon fill=\"black\" stroke=\"black\" points=\"90.5,-289.11 87,-279.11 83.5,-289.11 90.5,-289.11\"/>\n",
       "<text text-anchor=\"middle\" x=\"90.5\" y=\"-300.8\" font-family=\"Times,serif\" font-size=\"14.00\">1</text>\n",
       "</g>\n",
       "<!-- (12, 2) -->\n",
       "<g id=\"node13\" class=\"node\">\n",
       "<title>(12, 2)</title>\n",
       "<text text-anchor=\"middle\" x=\"148\" y=\"-267.8\" font-family=\"Times,serif\" font-size=\"14.00\">&quot; </text>\n",
       "</g>\n",
       "<!-- (0, 0)&#45;&gt;(12, 2) -->\n",
       "<g id=\"edge12\" class=\"edge\">\n",
       "<title>(0, 0)&#45;&gt;(12, 2)</title>\n",
       "<path fill=\"none\" stroke=\"black\" d=\"M93.53,-329.65C103.61,-319.08 123.12,-298.6 135.85,-285.25\"/>\n",
       "<polygon fill=\"black\" stroke=\"black\" points=\"138.39,-287.66 142.75,-278.01 133.32,-282.83 138.39,-287.66\"/>\n",
       "<text text-anchor=\"middle\" x=\"126.5\" y=\"-300.8\" font-family=\"Times,serif\" font-size=\"14.00\">2</text>\n",
       "</g>\n",
       "<!-- (3, 0) -->\n",
       "<g id=\"node4\" class=\"node\">\n",
       "<title>(3, 0)</title>\n",
       "<text text-anchor=\"middle\" x=\"35\" y=\"-201.8\" font-family=\"Times,serif\" font-size=\"14.00\">&lt;character&gt; </text>\n",
       "</g>\n",
       "<!-- (2, 1)&#45;&gt;(3, 0) -->\n",
       "<g id=\"edge3\" class=\"edge\">\n",
       "<title>(2, 1)&#45;&gt;(3, 0)</title>\n",
       "<path fill=\"none\" stroke=\"black\" d=\"M81.44,-263.65C73.26,-253.59 57.81,-234.57 46.98,-221.24\"/>\n",
       "<polygon fill=\"black\" stroke=\"black\" points=\"49.39,-218.66 40.37,-213.11 43.96,-223.08 49.39,-218.66\"/>\n",
       "<text text-anchor=\"middle\" x=\"69.5\" y=\"-234.8\" font-family=\"Times,serif\" font-size=\"14.00\">0</text>\n",
       "</g>\n",
       "<!-- (5, 1) -->\n",
       "<g id=\"node6\" class=\"node\">\n",
       "<title>(5, 1)</title>\n",
       "<text text-anchor=\"middle\" x=\"126\" y=\"-201.8\" font-family=\"Times,serif\" font-size=\"14.00\">&lt;characters&gt; </text>\n",
       "</g>\n",
       "<!-- (2, 1)&#45;&gt;(5, 1) -->\n",
       "<g id=\"edge5\" class=\"edge\">\n",
       "<title>(2, 1)&#45;&gt;(5, 1)</title>\n",
       "<path fill=\"none\" stroke=\"black\" d=\"M91.17,-263.65C97.19,-253.78 108.45,-235.3 116.54,-222.02\"/>\n",
       "<polygon fill=\"black\" stroke=\"black\" points=\"119.76,-223.47 121.97,-213.11 113.78,-219.83 119.76,-223.47\"/>\n",
       "<text text-anchor=\"middle\" x=\"113.5\" y=\"-234.8\" font-family=\"Times,serif\" font-size=\"14.00\">1</text>\n",
       "</g>\n",
       "<!-- (4, 0) -->\n",
       "<g id=\"node5\" class=\"node\">\n",
       "<title>(4, 0)</title>\n",
       "<text text-anchor=\"middle\" x=\"35\" y=\"-135.8\" font-family=\"Times,serif\" font-size=\"14.00\">a </text>\n",
       "</g>\n",
       "<!-- (3, 0)&#45;&gt;(4, 0) -->\n",
       "<g id=\"edge4\" class=\"edge\">\n",
       "<title>(3, 0)&#45;&gt;(4, 0)</title>\n",
       "<path fill=\"none\" stroke=\"black\" d=\"M35,-197.65C35,-188.07 35,-170.38 35,-157.2\"/>\n",
       "<polygon fill=\"black\" stroke=\"black\" points=\"38.5,-157.11 35,-147.11 31.5,-157.11 38.5,-157.11\"/>\n",
       "<text text-anchor=\"middle\" x=\"38.5\" y=\"-168.8\" font-family=\"Times,serif\" font-size=\"14.00\">0</text>\n",
       "</g>\n",
       "<!-- (6, 0) -->\n",
       "<g id=\"node7\" class=\"node\">\n",
       "<title>(6, 0)</title>\n",
       "<text text-anchor=\"middle\" x=\"94\" y=\"-135.8\" font-family=\"Times,serif\" font-size=\"14.00\">&lt;character&gt; </text>\n",
       "</g>\n",
       "<!-- (5, 1)&#45;&gt;(6, 0) -->\n",
       "<g id=\"edge6\" class=\"edge\">\n",
       "<title>(5, 1)&#45;&gt;(6, 0)</title>\n",
       "<path fill=\"none\" stroke=\"black\" d=\"M122.58,-197.65C117.69,-187.88 108.58,-169.66 101.96,-156.41\"/>\n",
       "<polygon fill=\"black\" stroke=\"black\" points=\"104.91,-154.49 97.3,-147.11 98.65,-157.62 104.91,-154.49\"/>\n",
       "<text text-anchor=\"middle\" x=\"116.5\" y=\"-168.8\" font-family=\"Times,serif\" font-size=\"14.00\">0</text>\n",
       "</g>\n",
       "<!-- (8, 1) -->\n",
       "<g id=\"node9\" class=\"node\">\n",
       "<title>(8, 1)</title>\n",
       "<text text-anchor=\"middle\" x=\"185\" y=\"-135.8\" font-family=\"Times,serif\" font-size=\"14.00\">&lt;characters&gt; </text>\n",
       "</g>\n",
       "<!-- (5, 1)&#45;&gt;(8, 1) -->\n",
       "<g id=\"edge8\" class=\"edge\">\n",
       "<title>(5, 1)&#45;&gt;(8, 1)</title>\n",
       "<path fill=\"none\" stroke=\"black\" d=\"M132.31,-197.65C141.77,-187.4 159.8,-167.83 172.11,-154.48\"/>\n",
       "<polygon fill=\"black\" stroke=\"black\" points=\"174.7,-156.83 178.91,-147.11 169.56,-152.09 174.7,-156.83\"/>\n",
       "<text text-anchor=\"middle\" x=\"164.5\" y=\"-168.8\" font-family=\"Times,serif\" font-size=\"14.00\">1</text>\n",
       "</g>\n",
       "<!-- (7, 0) -->\n",
       "<g id=\"node8\" class=\"node\">\n",
       "<title>(7, 0)</title>\n",
       "<text text-anchor=\"middle\" x=\"94\" y=\"-69.8\" font-family=\"Times,serif\" font-size=\"14.00\">b </text>\n",
       "</g>\n",
       "<!-- (6, 0)&#45;&gt;(7, 0) -->\n",
       "<g id=\"edge7\" class=\"edge\">\n",
       "<title>(6, 0)&#45;&gt;(7, 0)</title>\n",
       "<path fill=\"none\" stroke=\"black\" d=\"M94,-131.65C94,-122.07 94,-104.38 94,-91.2\"/>\n",
       "<polygon fill=\"black\" stroke=\"black\" points=\"97.5,-91.11 94,-81.11 90.5,-91.11 97.5,-91.11\"/>\n",
       "<text text-anchor=\"middle\" x=\"97.5\" y=\"-102.8\" font-family=\"Times,serif\" font-size=\"14.00\">0</text>\n",
       "</g>\n",
       "<!-- (9, 0) -->\n",
       "<g id=\"node10\" class=\"node\">\n",
       "<title>(9, 0)</title>\n",
       "<text text-anchor=\"middle\" x=\"169\" y=\"-69.8\" font-family=\"Times,serif\" font-size=\"14.00\">&lt;character&gt; </text>\n",
       "</g>\n",
       "<!-- (8, 1)&#45;&gt;(9, 0) -->\n",
       "<g id=\"edge9\" class=\"edge\">\n",
       "<title>(8, 1)&#45;&gt;(9, 0)</title>\n",
       "<path fill=\"none\" stroke=\"black\" d=\"M183.29,-131.65C180.89,-122.07 176.47,-104.38 173.18,-91.2\"/>\n",
       "<polygon fill=\"black\" stroke=\"black\" points=\"176.47,-89.96 170.65,-81.11 169.68,-91.66 176.47,-89.96\"/>\n",
       "<text text-anchor=\"middle\" x=\"182.5\" y=\"-102.8\" font-family=\"Times,serif\" font-size=\"14.00\">0</text>\n",
       "</g>\n",
       "<!-- (11, 1) -->\n",
       "<g id=\"node12\" class=\"node\">\n",
       "<title>(11, 1)</title>\n",
       "<text text-anchor=\"middle\" x=\"260\" y=\"-69.8\" font-family=\"Times,serif\" font-size=\"14.00\">&lt;characters&gt; </text>\n",
       "</g>\n",
       "<!-- (8, 1)&#45;&gt;(11, 1) -->\n",
       "<g id=\"edge11\" class=\"edge\">\n",
       "<title>(8, 1)&#45;&gt;(11, 1)</title>\n",
       "<path fill=\"none\" stroke=\"black\" d=\"M192.74,-131.89C204.87,-121.54 228.58,-101.31 244.36,-87.85\"/>\n",
       "<polygon fill=\"black\" stroke=\"black\" points=\"246.85,-90.32 252.19,-81.17 242.31,-85 246.85,-90.32\"/>\n",
       "<text text-anchor=\"middle\" x=\"233.5\" y=\"-102.8\" font-family=\"Times,serif\" font-size=\"14.00\">1</text>\n",
       "</g>\n",
       "<!-- (10, 0) -->\n",
       "<g id=\"node11\" class=\"node\">\n",
       "<title>(10, 0)</title>\n",
       "<text text-anchor=\"middle\" x=\"169\" y=\"-3.8\" font-family=\"Times,serif\" font-size=\"14.00\">c </text>\n",
       "</g>\n",
       "<!-- (9, 0)&#45;&gt;(10, 0) -->\n",
       "<g id=\"edge10\" class=\"edge\">\n",
       "<title>(9, 0)&#45;&gt;(10, 0)</title>\n",
       "<path fill=\"none\" stroke=\"black\" d=\"M169,-65.65C169,-56.07 169,-38.38 169,-25.2\"/>\n",
       "<polygon fill=\"black\" stroke=\"black\" points=\"172.5,-25.11 169,-15.11 165.5,-25.11 172.5,-25.11\"/>\n",
       "<text text-anchor=\"middle\" x=\"172.5\" y=\"-36.8\" font-family=\"Times,serif\" font-size=\"14.00\">0</text>\n",
       "</g>\n",
       "</g>\n",
       "</svg>\n"
      ],
      "text/plain": [
       "<graphviz.dot.Digraph at 0x114f46cc0>"
      ]
     },
     "execution_count": 517,
     "metadata": {},
     "output_type": "execute_result"
    }
   ],
   "source": [
    "string_node_path = [0,0,1,0,0]\n",
    "display_tree(find_node(v, string_node_path))"
   ]
  },
  {
   "cell_type": "code",
   "execution_count": 518,
   "metadata": {},
   "outputs": [
    {
     "data": {
      "image/svg+xml": [
       "<?xml version=\"1.0\" encoding=\"UTF-8\" standalone=\"no\"?>\n",
       "<!DOCTYPE svg PUBLIC \"-//W3C//DTD SVG 1.1//EN\"\n",
       " \"http://www.w3.org/Graphics/SVG/1.1/DTD/svg11.dtd\">\n",
       "<!-- Generated by graphviz version 2.44.1 (20200629.0846)\n",
       " -->\n",
       "<!-- Pages: 1 -->\n",
       "<svg width=\"306pt\" height=\"419pt\"\n",
       " viewBox=\"0.00 0.00 306.00 419.00\" xmlns=\"http://www.w3.org/2000/svg\" xmlns:xlink=\"http://www.w3.org/1999/xlink\">\n",
       "<g id=\"graph0\" class=\"graph\" transform=\"scale(1 1) rotate(0) translate(4 415)\">\n",
       "<polygon fill=\"white\" stroke=\"transparent\" points=\"-4,4 -4,-415 302,-415 302,4 -4,4\"/>\n",
       "<!-- (0, 0) -->\n",
       "<g id=\"node1\" class=\"node\">\n",
       "<title>(0, 0)</title>\n",
       "<text text-anchor=\"middle\" x=\"136\" y=\"-399.8\" font-family=\"Times,serif\" font-size=\"14.00\">&lt;member&gt; </text>\n",
       "</g>\n",
       "<!-- (1, 0) -->\n",
       "<g id=\"node2\" class=\"node\">\n",
       "<title>(1, 0)</title>\n",
       "<text text-anchor=\"middle\" x=\"88\" y=\"-333.8\" font-family=\"Times,serif\" font-size=\"14.00\">&lt;string&gt; </text>\n",
       "</g>\n",
       "<!-- (0, 0)&#45;&gt;(1, 0) -->\n",
       "<g id=\"edge1\" class=\"edge\">\n",
       "<title>(0, 0)&#45;&gt;(1, 0)</title>\n",
       "<path fill=\"none\" stroke=\"black\" d=\"M130.86,-395.65C123.32,-385.59 109.05,-366.57 99.06,-353.24\"/>\n",
       "<polygon fill=\"black\" stroke=\"black\" points=\"101.76,-351.01 92.96,-345.11 96.16,-355.21 101.76,-351.01\"/>\n",
       "<text text-anchor=\"middle\" x=\"120.5\" y=\"-366.8\" font-family=\"Times,serif\" font-size=\"14.00\">0</text>\n",
       "</g>\n",
       "<!-- (14, 1) -->\n",
       "<g id=\"node15\" class=\"node\">\n",
       "<title>(14, 1)</title>\n",
       "<text text-anchor=\"middle\" x=\"136\" y=\"-333.8\" font-family=\"Times,serif\" font-size=\"14.00\">: </text>\n",
       "</g>\n",
       "<!-- (0, 0)&#45;&gt;(14, 1) -->\n",
       "<g id=\"edge14\" class=\"edge\">\n",
       "<title>(0, 0)&#45;&gt;(14, 1)</title>\n",
       "<path fill=\"none\" stroke=\"black\" d=\"M136,-395.65C136,-386.07 136,-368.38 136,-355.2\"/>\n",
       "<polygon fill=\"black\" stroke=\"black\" points=\"139.5,-355.11 136,-345.11 132.5,-355.11 139.5,-355.11\"/>\n",
       "<text text-anchor=\"middle\" x=\"139.5\" y=\"-366.8\" font-family=\"Times,serif\" font-size=\"14.00\">1</text>\n",
       "</g>\n",
       "<!-- (15, 2) -->\n",
       "<g id=\"node16\" class=\"node\">\n",
       "<title>(15, 2)</title>\n",
       "<text text-anchor=\"middle\" x=\"190\" y=\"-333.8\" font-family=\"Times,serif\" font-size=\"14.00\">&lt;element&gt; </text>\n",
       "</g>\n",
       "<!-- (0, 0)&#45;&gt;(15, 2) -->\n",
       "<g id=\"edge15\" class=\"edge\">\n",
       "<title>(0, 0)&#45;&gt;(15, 2)</title>\n",
       "<path fill=\"none\" stroke=\"black\" d=\"M141.78,-395.65C150.35,-385.49 166.63,-366.2 177.88,-352.86\"/>\n",
       "<polygon fill=\"black\" stroke=\"black\" points=\"180.65,-355.01 184.42,-345.11 175.3,-350.49 180.65,-355.01\"/>\n",
       "<text text-anchor=\"middle\" x=\"171.5\" y=\"-366.8\" font-family=\"Times,serif\" font-size=\"14.00\">2</text>\n",
       "</g>\n",
       "<!-- (2, 0) -->\n",
       "<g id=\"node3\" class=\"node\">\n",
       "<title>(2, 0)</title>\n",
       "<text text-anchor=\"middle\" x=\"27\" y=\"-267.8\" font-family=\"Times,serif\" font-size=\"14.00\">&quot; </text>\n",
       "</g>\n",
       "<!-- (1, 0)&#45;&gt;(2, 0) -->\n",
       "<g id=\"edge2\" class=\"edge\">\n",
       "<title>(1, 0)&#45;&gt;(2, 0)</title>\n",
       "<path fill=\"none\" stroke=\"black\" d=\"M81.47,-329.65C71.39,-319.08 51.88,-298.6 39.15,-285.25\"/>\n",
       "<polygon fill=\"black\" stroke=\"black\" points=\"41.68,-282.83 32.25,-278.01 36.61,-287.66 41.68,-282.83\"/>\n",
       "<text text-anchor=\"middle\" x=\"66.5\" y=\"-300.8\" font-family=\"Times,serif\" font-size=\"14.00\">0</text>\n",
       "</g>\n",
       "<!-- (3, 1) -->\n",
       "<g id=\"node4\" class=\"node\">\n",
       "<title>(3, 1)</title>\n",
       "<text text-anchor=\"middle\" x=\"88\" y=\"-267.8\" font-family=\"Times,serif\" font-size=\"14.00\">&lt;characters&gt; </text>\n",
       "</g>\n",
       "<!-- (1, 0)&#45;&gt;(3, 1) -->\n",
       "<g id=\"edge3\" class=\"edge\">\n",
       "<title>(1, 0)&#45;&gt;(3, 1)</title>\n",
       "<path fill=\"none\" stroke=\"black\" d=\"M88,-329.65C88,-320.07 88,-302.38 88,-289.2\"/>\n",
       "<polygon fill=\"black\" stroke=\"black\" points=\"91.5,-289.11 88,-279.11 84.5,-289.11 91.5,-289.11\"/>\n",
       "<text text-anchor=\"middle\" x=\"91.5\" y=\"-300.8\" font-family=\"Times,serif\" font-size=\"14.00\">1</text>\n",
       "</g>\n",
       "<!-- (13, 2) -->\n",
       "<g id=\"node14\" class=\"node\">\n",
       "<title>(13, 2)</title>\n",
       "<text text-anchor=\"middle\" x=\"149\" y=\"-267.8\" font-family=\"Times,serif\" font-size=\"14.00\">&quot; </text>\n",
       "</g>\n",
       "<!-- (1, 0)&#45;&gt;(13, 2) -->\n",
       "<g id=\"edge13\" class=\"edge\">\n",
       "<title>(1, 0)&#45;&gt;(13, 2)</title>\n",
       "<path fill=\"none\" stroke=\"black\" d=\"M94.53,-329.65C104.61,-319.08 124.12,-298.6 136.85,-285.25\"/>\n",
       "<polygon fill=\"black\" stroke=\"black\" points=\"139.39,-287.66 143.75,-278.01 134.32,-282.83 139.39,-287.66\"/>\n",
       "<text text-anchor=\"middle\" x=\"127.5\" y=\"-300.8\" font-family=\"Times,serif\" font-size=\"14.00\">2</text>\n",
       "</g>\n",
       "<!-- (4, 0) -->\n",
       "<g id=\"node5\" class=\"node\">\n",
       "<title>(4, 0)</title>\n",
       "<text text-anchor=\"middle\" x=\"35\" y=\"-201.8\" font-family=\"Times,serif\" font-size=\"14.00\">&lt;character&gt; </text>\n",
       "</g>\n",
       "<!-- (3, 1)&#45;&gt;(4, 0) -->\n",
       "<g id=\"edge4\" class=\"edge\">\n",
       "<title>(3, 1)&#45;&gt;(4, 0)</title>\n",
       "<path fill=\"none\" stroke=\"black\" d=\"M82.33,-263.65C73.92,-253.49 57.94,-234.2 46.89,-220.86\"/>\n",
       "<polygon fill=\"black\" stroke=\"black\" points=\"49.55,-218.58 40.47,-213.11 44.15,-223.04 49.55,-218.58\"/>\n",
       "<text text-anchor=\"middle\" x=\"70.5\" y=\"-234.8\" font-family=\"Times,serif\" font-size=\"14.00\">0</text>\n",
       "</g>\n",
       "<!-- (6, 1) -->\n",
       "<g id=\"node7\" class=\"node\">\n",
       "<title>(6, 1)</title>\n",
       "<text text-anchor=\"middle\" x=\"126\" y=\"-201.8\" font-family=\"Times,serif\" font-size=\"14.00\">&lt;characters&gt; </text>\n",
       "</g>\n",
       "<!-- (3, 1)&#45;&gt;(6, 1) -->\n",
       "<g id=\"edge6\" class=\"edge\">\n",
       "<title>(3, 1)&#45;&gt;(6, 1)</title>\n",
       "<path fill=\"none\" stroke=\"black\" d=\"M92.07,-263.65C97.93,-253.78 108.9,-235.3 116.79,-222.02\"/>\n",
       "<polygon fill=\"black\" stroke=\"black\" points=\"119.98,-223.49 122.08,-213.11 113.96,-219.92 119.98,-223.49\"/>\n",
       "<text text-anchor=\"middle\" x=\"114.5\" y=\"-234.8\" font-family=\"Times,serif\" font-size=\"14.00\">1</text>\n",
       "</g>\n",
       "<!-- (5, 0) -->\n",
       "<g id=\"node6\" class=\"node\">\n",
       "<title>(5, 0)</title>\n",
       "<text text-anchor=\"middle\" x=\"35\" y=\"-135.8\" font-family=\"Times,serif\" font-size=\"14.00\">a </text>\n",
       "</g>\n",
       "<!-- (4, 0)&#45;&gt;(5, 0) -->\n",
       "<g id=\"edge5\" class=\"edge\">\n",
       "<title>(4, 0)&#45;&gt;(5, 0)</title>\n",
       "<path fill=\"none\" stroke=\"black\" d=\"M35,-197.65C35,-188.07 35,-170.38 35,-157.2\"/>\n",
       "<polygon fill=\"black\" stroke=\"black\" points=\"38.5,-157.11 35,-147.11 31.5,-157.11 38.5,-157.11\"/>\n",
       "<text text-anchor=\"middle\" x=\"38.5\" y=\"-168.8\" font-family=\"Times,serif\" font-size=\"14.00\">0</text>\n",
       "</g>\n",
       "<!-- (7, 0) -->\n",
       "<g id=\"node8\" class=\"node\">\n",
       "<title>(7, 0)</title>\n",
       "<text text-anchor=\"middle\" x=\"94\" y=\"-135.8\" font-family=\"Times,serif\" font-size=\"14.00\">&lt;character&gt; </text>\n",
       "</g>\n",
       "<!-- (6, 1)&#45;&gt;(7, 0) -->\n",
       "<g id=\"edge7\" class=\"edge\">\n",
       "<title>(6, 1)&#45;&gt;(7, 0)</title>\n",
       "<path fill=\"none\" stroke=\"black\" d=\"M122.58,-197.65C117.69,-187.88 108.58,-169.66 101.96,-156.41\"/>\n",
       "<polygon fill=\"black\" stroke=\"black\" points=\"104.91,-154.49 97.3,-147.11 98.65,-157.62 104.91,-154.49\"/>\n",
       "<text text-anchor=\"middle\" x=\"116.5\" y=\"-168.8\" font-family=\"Times,serif\" font-size=\"14.00\">0</text>\n",
       "</g>\n",
       "<!-- (9, 1) -->\n",
       "<g id=\"node10\" class=\"node\">\n",
       "<title>(9, 1)</title>\n",
       "<text text-anchor=\"middle\" x=\"185\" y=\"-135.8\" font-family=\"Times,serif\" font-size=\"14.00\">&lt;characters&gt; </text>\n",
       "</g>\n",
       "<!-- (6, 1)&#45;&gt;(9, 1) -->\n",
       "<g id=\"edge9\" class=\"edge\">\n",
       "<title>(6, 1)&#45;&gt;(9, 1)</title>\n",
       "<path fill=\"none\" stroke=\"black\" d=\"M132.31,-197.65C141.77,-187.4 159.8,-167.83 172.11,-154.48\"/>\n",
       "<polygon fill=\"black\" stroke=\"black\" points=\"174.7,-156.83 178.91,-147.11 169.56,-152.09 174.7,-156.83\"/>\n",
       "<text text-anchor=\"middle\" x=\"164.5\" y=\"-168.8\" font-family=\"Times,serif\" font-size=\"14.00\">1</text>\n",
       "</g>\n",
       "<!-- (8, 0) -->\n",
       "<g id=\"node9\" class=\"node\">\n",
       "<title>(8, 0)</title>\n",
       "<text text-anchor=\"middle\" x=\"94\" y=\"-69.8\" font-family=\"Times,serif\" font-size=\"14.00\">b </text>\n",
       "</g>\n",
       "<!-- (7, 0)&#45;&gt;(8, 0) -->\n",
       "<g id=\"edge8\" class=\"edge\">\n",
       "<title>(7, 0)&#45;&gt;(8, 0)</title>\n",
       "<path fill=\"none\" stroke=\"black\" d=\"M94,-131.65C94,-122.07 94,-104.38 94,-91.2\"/>\n",
       "<polygon fill=\"black\" stroke=\"black\" points=\"97.5,-91.11 94,-81.11 90.5,-91.11 97.5,-91.11\"/>\n",
       "<text text-anchor=\"middle\" x=\"97.5\" y=\"-102.8\" font-family=\"Times,serif\" font-size=\"14.00\">0</text>\n",
       "</g>\n",
       "<!-- (10, 0) -->\n",
       "<g id=\"node11\" class=\"node\">\n",
       "<title>(10, 0)</title>\n",
       "<text text-anchor=\"middle\" x=\"169\" y=\"-69.8\" font-family=\"Times,serif\" font-size=\"14.00\">&lt;character&gt; </text>\n",
       "</g>\n",
       "<!-- (9, 1)&#45;&gt;(10, 0) -->\n",
       "<g id=\"edge10\" class=\"edge\">\n",
       "<title>(9, 1)&#45;&gt;(10, 0)</title>\n",
       "<path fill=\"none\" stroke=\"black\" d=\"M183.29,-131.65C180.89,-122.07 176.47,-104.38 173.18,-91.2\"/>\n",
       "<polygon fill=\"black\" stroke=\"black\" points=\"176.47,-89.96 170.65,-81.11 169.68,-91.66 176.47,-89.96\"/>\n",
       "<text text-anchor=\"middle\" x=\"182.5\" y=\"-102.8\" font-family=\"Times,serif\" font-size=\"14.00\">0</text>\n",
       "</g>\n",
       "<!-- (12, 1) -->\n",
       "<g id=\"node13\" class=\"node\">\n",
       "<title>(12, 1)</title>\n",
       "<text text-anchor=\"middle\" x=\"260\" y=\"-69.8\" font-family=\"Times,serif\" font-size=\"14.00\">&lt;characters&gt; </text>\n",
       "</g>\n",
       "<!-- (9, 1)&#45;&gt;(12, 1) -->\n",
       "<g id=\"edge12\" class=\"edge\">\n",
       "<title>(9, 1)&#45;&gt;(12, 1)</title>\n",
       "<path fill=\"none\" stroke=\"black\" d=\"M192.74,-131.89C204.87,-121.54 228.58,-101.31 244.36,-87.85\"/>\n",
       "<polygon fill=\"black\" stroke=\"black\" points=\"246.85,-90.32 252.19,-81.17 242.31,-85 246.85,-90.32\"/>\n",
       "<text text-anchor=\"middle\" x=\"232.5\" y=\"-102.8\" font-family=\"Times,serif\" font-size=\"14.00\">1</text>\n",
       "</g>\n",
       "<!-- (11, 0) -->\n",
       "<g id=\"node12\" class=\"node\">\n",
       "<title>(11, 0)</title>\n",
       "<text text-anchor=\"middle\" x=\"169\" y=\"-3.8\" font-family=\"Times,serif\" font-size=\"14.00\">c </text>\n",
       "</g>\n",
       "<!-- (10, 0)&#45;&gt;(11, 0) -->\n",
       "<g id=\"edge11\" class=\"edge\">\n",
       "<title>(10, 0)&#45;&gt;(11, 0)</title>\n",
       "<path fill=\"none\" stroke=\"black\" d=\"M169,-65.65C169,-56.07 169,-38.38 169,-25.2\"/>\n",
       "<polygon fill=\"black\" stroke=\"black\" points=\"172.5,-25.11 169,-15.11 165.5,-25.11 172.5,-25.11\"/>\n",
       "<text text-anchor=\"middle\" x=\"172.5\" y=\"-36.8\" font-family=\"Times,serif\" font-size=\"14.00\">0</text>\n",
       "</g>\n",
       "<!-- (16, 0) -->\n",
       "<g id=\"node17\" class=\"node\">\n",
       "<title>(16, 0)</title>\n",
       "<text text-anchor=\"middle\" x=\"190\" y=\"-267.8\" font-family=\"Times,serif\" font-size=\"14.00\">null </text>\n",
       "</g>\n",
       "<!-- (15, 2)&#45;&gt;(16, 0) -->\n",
       "<g id=\"edge16\" class=\"edge\">\n",
       "<title>(15, 2)&#45;&gt;(16, 0)</title>\n",
       "<path fill=\"none\" stroke=\"black\" d=\"M190,-329.65C190,-320.07 190,-302.38 190,-289.2\"/>\n",
       "<polygon fill=\"black\" stroke=\"black\" points=\"193.5,-289.11 190,-279.11 186.5,-289.11 193.5,-289.11\"/>\n",
       "<text text-anchor=\"middle\" x=\"193.5\" y=\"-300.8\" font-family=\"Times,serif\" font-size=\"14.00\">0</text>\n",
       "</g>\n",
       "</g>\n",
       "</svg>\n"
      ],
      "text/plain": [
       "<graphviz.dot.Digraph at 0x114f46780>"
      ]
     },
     "execution_count": 518,
     "metadata": {},
     "output_type": "execute_result"
    }
   ],
   "source": [
    "display_tree(find_node(v, [0,0,1, 0]))"
   ]
  },
  {
   "cell_type": "code",
   "execution_count": 519,
   "metadata": {},
   "outputs": [
    {
     "data": {
      "text/plain": [
       "'{<string>:null}'"
      ]
     },
     "execution_count": 519,
     "metadata": {},
     "output_type": "execute_result"
    }
   ],
   "source": [
    "F_kv_null = mark_abstract_nodes(v, [string_node_path])\n",
    "Ta(F_kv_null)"
   ]
  },
  {
   "cell_type": "code",
   "execution_count": 520,
   "metadata": {},
   "outputs": [],
   "source": [
    "nn = find_node(F_kv_null, [0,0,1,0])"
   ]
  },
  {
   "cell_type": "code",
   "execution_count": 521,
   "metadata": {},
   "outputs": [
    {
     "data": {
      "text/plain": [
       "'<string>:null'"
      ]
     },
     "execution_count": 521,
     "metadata": {},
     "output_type": "execute_result"
    }
   ],
   "source": [
    "Ta(nn)"
   ]
  },
  {
   "cell_type": "code",
   "execution_count": 522,
   "metadata": {},
   "outputs": [],
   "source": [
    "Fkvn = nn # find_charecterizing_node(F_kv_null)"
   ]
  },
  {
   "cell_type": "code",
   "execution_count": 523,
   "metadata": {},
   "outputs": [
    {
     "data": {
      "text/plain": [
       "('<member>',\n",
       " [('<string>',\n",
       "   [('\"', [], {'abstract': False}),\n",
       "    ('<characters>',\n",
       "     [('<character>', [('a', [], {'abstract': False})], {'abstract': False}),\n",
       "      ('<characters>',\n",
       "       [('<character>', [('b', [], {'abstract': False})], {'abstract': False}),\n",
       "        ('<characters>',\n",
       "         [('<character>',\n",
       "           [('c', [], {'abstract': False})],\n",
       "           {'abstract': False}),\n",
       "          ('<characters>', [], {'abstract': False})],\n",
       "         {'abstract': False})],\n",
       "       {'abstract': False})],\n",
       "     {'abstract': False}),\n",
       "    ('\"', [], {'abstract': False})],\n",
       "   {'abstract': True}),\n",
       "  (':', [], {'abstract': False}),\n",
       "  ('<element>', [('null', [], {'abstract': False})], {'abstract': False})],\n",
       " {'abstract': False})"
      ]
     },
     "execution_count": 523,
     "metadata": {},
     "output_type": "execute_result"
    }
   ],
   "source": [
    "Fkvn"
   ]
  },
  {
   "cell_type": "code",
   "execution_count": 524,
   "metadata": {
    "scrolled": true
   },
   "outputs": [
    {
     "name": "stdout",
     "output_type": "stream",
     "text": [
      "<member LKVN_1> ::=\n",
      "|    <string> ':' <element LKVN_1>\n",
      "<element LKVN_1> ::=\n",
      "|    'null'\n",
      "2 2\n"
     ]
    }
   ],
   "source": [
    "Gs(faulty_node_to_pattern_grammar(Fkvn, 'KVN')[0])"
   ]
  },
  {
   "cell_type": "code",
   "execution_count": 525,
   "metadata": {},
   "outputs": [
    {
     "name": "stdout",
     "output_type": "stream",
     "text": [
      "<json>\n",
      "<element>\n",
      "<object>\n",
      "<members>\n",
      "<member>\n",
      "<array>\n",
      "<elements>\n"
     ]
    }
   ],
   "source": [
    "reachable_json = reachable_dict(JSON_GRAMMAR);\n",
    "\n",
    "for k in reachable_json:\n",
    "    if '<member>' in reachable_json[k]:\n",
    "        print(k)"
   ]
  },
  {
   "cell_type": "code",
   "execution_count": 526,
   "metadata": {},
   "outputs": [
    {
     "name": "stdout",
     "output_type": "stream",
     "text": [
      "<json>\n",
      "\t ['<element>'] [0]\n",
      "<element>\n",
      "\t ['<object>'] [0]\n",
      "\t ['<array>'] [0]\n",
      "\t ['<string>'] []\n",
      "\t ['<number>'] []\n",
      "\t ['true'] []\n",
      "\t ['false'] []\n",
      "\t ['null'] []\n",
      "<object>\n",
      "\t ['{', '<members>', '}'] [1]\n",
      "\t ['{}'] []\n",
      "<members>\n",
      "\t ['<member>'] [0]\n",
      "\t ['<member>', ',', '<members>'] [0, 2]\n",
      "<member>\n",
      "\t ['<string>', ':', '<element>'] [2]\n",
      "<array>\n",
      "\t ['[', '<elements>', ']'] [1]\n",
      "\t ['[]'] []\n",
      "<elements>\n",
      "\t ['<element>'] [0]\n",
      "\t ['<element>', ',', '<elements>'] [0, 2]\n",
      "<string>\n",
      "\t ['\"', '<characters>', '\"'] []\n",
      "<characters>\n",
      "\t [] []\n",
      "\t ['<character>', '<characters>'] []\n",
      "<character>\n",
      "\t ['a'] []\n",
      "\t ['b'] []\n",
      "\t ['c'] []\n",
      "<number>\n",
      "\t ['<digits>'] []\n",
      "<digits>\n",
      "\t ['<digit>'] []\n",
      "\t ['<digit>', '<digits>'] []\n",
      "<digit>\n",
      "\t ['0'] []\n",
      "\t ['1'] []\n",
      "\t ['2'] []\n",
      "\t ['3'] []\n",
      "\t ['4'] []\n",
      "\t ['5'] []\n",
      "\t ['6'] []\n",
      "\t ['7'] []\n",
      "\t ['8'] []\n",
      "\t ['9'] []\n"
     ]
    }
   ],
   "source": [
    "%%top\n",
    "for k in JSON_GRAMMAR:\n",
    "    print(k)\n",
    "    for rule in JSON_GRAMMAR[k]:\n",
    "        v = get_reachable_positions(rule, '<member>', reachable_json)\n",
    "        print('\\t', rule, v)"
   ]
  },
  {
   "cell_type": "code",
   "execution_count": 527,
   "metadata": {},
   "outputs": [
    {
     "name": "stdout",
     "output_type": "stream",
     "text": [
      "<json +FKVN>\n",
      "     ['<element +FKVN>']\n",
      "\n",
      "<element +FKVN>\n",
      "     ['<object +FKVN>']\n",
      "     ['<array +FKVN>']\n",
      "\n",
      "<object +FKVN>\n",
      "     ['{', '<members +FKVN>', '}']\n",
      "\n",
      "<members +FKVN>\n",
      "     ['<member +FKVN>']\n",
      "     ['<member +FKVN>', ',', '<members>']\n",
      "     ['<member>', ',', '<members +FKVN>']\n",
      "\n",
      "<member +FKVN>\n",
      "     ['<string>', ':', '<element +FKVN>']\n",
      "\n",
      "<array +FKVN>\n",
      "     ['[', '<elements +FKVN>', ']']\n",
      "\n",
      "<elements +FKVN>\n",
      "     ['<element +FKVN>']\n",
      "     ['<element +FKVN>', ',', '<elements>']\n",
      "     ['<element>', ',', '<elements +FKVN>']\n",
      "\n",
      "<string +FKVN>\n",
      "\n",
      "<characters +FKVN>\n",
      "\n",
      "<character +FKVN>\n",
      "\n",
      "<number +FKVN>\n",
      "\n",
      "<digits +FKVN>\n",
      "\n",
      "<digit +FKVN>\n",
      "\n"
     ]
    }
   ],
   "source": [
    "%%top\n",
    "for key in JSON_GRAMMAR:\n",
    "    fk, rules = insert_atleast_one_fault_into_key(JSON_GRAMMAR, key, '<members>', 'KVN', reachable_json)\n",
    "    print(fk)\n",
    "    for r in rules:\n",
    "        print('    ', r)\n",
    "    print()"
   ]
  },
  {
   "cell_type": "code",
   "execution_count": 528,
   "metadata": {},
   "outputs": [],
   "source": [
    "Fkvn_grammar_, Fkvn_start = atleast_one_fault_grammar(JSON_GRAMMAR, JSON_START, Fkvn, 'KVN')"
   ]
  },
  {
   "cell_type": "code",
   "execution_count": 529,
   "metadata": {},
   "outputs": [
    {
     "name": "stdout",
     "output_type": "stream",
     "text": [
      "<json +FKVN> ::=\n",
      "|    <element +FKVN>\n",
      "<element +FKVN> ::=\n",
      "|    <array +FKVN>\n",
      "|    <object +FKVN>\n",
      "<array +FKVN> ::=\n",
      "|    '[' <elements +FKVN> ']'\n",
      "<object +FKVN> ::=\n",
      "|    '{' <members +FKVN> '}'\n",
      "<elements +FKVN> ::=\n",
      "|    <element +FKVN>\n",
      "|    <element +FKVN> ',' <elements>\n",
      "|    <element> ',' <elements +FKVN>\n",
      "<elements> ::=\n",
      "|    <element>\n",
      "|    <element> ',' <elements>\n",
      "<element> ::=\n",
      "|    <array>\n",
      "|    <number>\n",
      "|    <object>\n",
      "|    <string>\n",
      "|    'false'\n",
      "|    'null'\n",
      "|    'true'\n",
      "<array> ::=\n",
      "|    '[' <elements> ']'\n",
      "|    '[]'\n",
      "<number> ::=\n",
      "|    <digits>\n",
      "<object> ::=\n",
      "|    '{' <members> '}'\n",
      "|    '{}'\n",
      "<string> ::=\n",
      "|    '\"' <characters> '\"'\n",
      "<digits> ::=\n",
      "|    <digit>\n",
      "|    <digit> <digits>\n",
      "<digit> ::=\n",
      "|    '0'\n",
      "|    '1'\n",
      "|    '2'\n",
      "|    '3'\n",
      "|    '4'\n",
      "|    '5'\n",
      "|    '6'\n",
      "|    '7'\n",
      "|    '8'\n",
      "|    '9'\n",
      "<members> ::=\n",
      "|    <member>\n",
      "|    <member> ',' <members>\n",
      "<member> ::=\n",
      "|    <string> ':' <element>\n",
      "<characters> ::=\n",
      "|    \n",
      "|    <character> <characters>\n",
      "<character> ::=\n",
      "|    'a'\n",
      "|    'b'\n",
      "|    'c'\n",
      "<members +FKVN> ::=\n",
      "|    <member +FKVN>\n",
      "|    <member +FKVN> ',' <members>\n",
      "|    <member> ',' <members +FKVN>\n",
      "<member +FKVN> ::=\n",
      "|    <string> ':' <element +FKVN>\n",
      "|    <string> ':' <element LKVN_1>\n",
      "<element LKVN_1> ::=\n",
      "|    'null'\n",
      "20 49\n"
     ]
    },
    {
     "data": {
      "text/plain": [
       "'<json +FKVN>'"
      ]
     },
     "execution_count": 529,
     "metadata": {},
     "output_type": "execute_result"
    }
   ],
   "source": [
    "Gs(Fkvn_grammar_)\n",
    "Fkvn_start"
   ]
  },
  {
   "cell_type": "code",
   "execution_count": 530,
   "metadata": {},
   "outputs": [],
   "source": [
    "Fkvn_parser = Parser(Fkvn_grammar_, canonical=True, start_symbol=Fkvn_start)"
   ]
  },
  {
   "cell_type": "code",
   "execution_count": 531,
   "metadata": {},
   "outputs": [],
   "source": [
    "assert Fkvn_parser.can_parse('{\"\":1,\"\":null}')"
   ]
  },
  {
   "cell_type": "code",
   "execution_count": 532,
   "metadata": {},
   "outputs": [],
   "source": [
    "assert Fkvn_parser.can_parse('{\"\":null,\"a\":[]}')"
   ]
  },
  {
   "cell_type": "code",
   "execution_count": 533,
   "metadata": {},
   "outputs": [],
   "source": [
    "FNkvn_grammar, FNkvn_start = negate_grammar(Fkvn_grammar_, Fkvn_start, JSON_GRAMMAR, JSON_START)"
   ]
  },
  {
   "cell_type": "code",
   "execution_count": 534,
   "metadata": {},
   "outputs": [
    {
     "name": "stdout",
     "output_type": "stream",
     "text": [
      "<json neg(+FKVN)> ::=\n",
      "|    <element neg(+FKVN)>\n",
      "<element neg(+FKVN)> ::=\n",
      "|    <array neg(+FKVN)>\n",
      "|    <number>\n",
      "|    <object neg(+FKVN)>\n",
      "|    <string>\n",
      "|    'false'\n",
      "|    'null'\n",
      "|    'true'\n",
      "<array neg(+FKVN)> ::=\n",
      "|    '[' <elements neg(+FKVN)> ']'\n",
      "|    '[]'\n",
      "<number> ::=\n",
      "|    <digits>\n",
      "<object neg(+FKVN)> ::=\n",
      "|    '{' <members neg(+FKVN)> '}'\n",
      "|    '{}'\n",
      "<string> ::=\n",
      "|    '\"' <characters> '\"'\n",
      "<elements neg(+FKVN)> ::=\n",
      "|    <element neg(+FKVN)>\n",
      "|    <element neg(+FKVN)> ',' <elements neg(+FKVN)>\n",
      "<digits> ::=\n",
      "|    <digit>\n",
      "|    <digit> <digits>\n",
      "<digit> ::=\n",
      "|    '0'\n",
      "|    '1'\n",
      "|    '2'\n",
      "|    '3'\n",
      "|    '4'\n",
      "|    '5'\n",
      "|    '6'\n",
      "|    '7'\n",
      "|    '8'\n",
      "|    '9'\n",
      "<members neg(+FKVN)> ::=\n",
      "|    <member neg(+FKVN)>\n",
      "|    <member neg(+FKVN)> ',' <members neg(+FKVN)>\n",
      "<member neg(+FKVN)> ::=\n",
      "|    <string> ':' <element and(neg(+FKVN),neg(LKVN_1))>\n",
      "<element and(neg(+FKVN),neg(LKVN_1))> ::=\n",
      "|    <array neg(+FKVN)>\n",
      "|    <number>\n",
      "|    <object neg(+FKVN)>\n",
      "|    <string>\n",
      "|    'false'\n",
      "|    'true'\n",
      "<characters> ::=\n",
      "|    \n",
      "|    <character> <characters>\n",
      "<character> ::=\n",
      "|    'a'\n",
      "|    'b'\n",
      "|    'c'\n",
      "14 42\n"
     ]
    },
    {
     "data": {
      "text/plain": [
       "'<json neg(+FKVN)>'"
      ]
     },
     "execution_count": 534,
     "metadata": {},
     "output_type": "execute_result"
    }
   ],
   "source": [
    "Gs(FNkvn_grammar)\n",
    "FNkvn_start"
   ]
  },
  {
   "cell_type": "code",
   "execution_count": 535,
   "metadata": {},
   "outputs": [],
   "source": [
    "FNkvn_parser = Parser(FNkvn_grammar, start_symbol=FNkvn_start, canonical=True)"
   ]
  },
  {
   "cell_type": "code",
   "execution_count": 536,
   "metadata": {},
   "outputs": [],
   "source": [
    "assert not FNkvn_parser.can_parse(s_null)"
   ]
  },
  {
   "cell_type": "code",
   "execution_count": 537,
   "metadata": {},
   "outputs": [],
   "source": [
    "FNkvn_fuzzer = LimitFuzzer(FNkvn_grammar)"
   ]
  },
  {
   "cell_type": "code",
   "execution_count": 538,
   "metadata": {
    "scrolled": false
   },
   "outputs": [
    {
     "name": "stdout",
     "output_type": "stream",
     "text": [
      "null\n",
      "{}\n",
      "\"a\"\n",
      "8\n",
      "true\n",
      "{}\n",
      "null\n",
      "[]\n",
      "false\n",
      "null\n"
     ]
    }
   ],
   "source": [
    "for i in range(10):\n",
    "    v = FNkvn_fuzzer.fuzz(FNkvn_start)\n",
    "    print(v)"
   ]
  },
  {
   "cell_type": "code",
   "execution_count": 539,
   "metadata": {},
   "outputs": [],
   "source": [
    "assert not FNkvn_parser.can_parse('{\"\":1,\"\":null}')"
   ]
  },
  {
   "cell_type": "markdown",
   "metadata": {},
   "source": [
    "### The key of an object is empty"
   ]
  },
  {
   "cell_type": "code",
   "execution_count": 540,
   "metadata": {},
   "outputs": [],
   "source": [
    "k_empty = '{\"\":1}'\n",
    "v = list(json_parser.parse(k_empty))[0]"
   ]
  },
  {
   "cell_type": "code",
   "execution_count": 541,
   "metadata": {},
   "outputs": [
    {
     "data": {
      "image/svg+xml": [
       "<?xml version=\"1.0\" encoding=\"UTF-8\" standalone=\"no\"?>\n",
       "<!DOCTYPE svg PUBLIC \"-//W3C//DTD SVG 1.1//EN\"\n",
       " \"http://www.w3.org/Graphics/SVG/1.1/DTD/svg11.dtd\">\n",
       "<!-- Generated by graphviz version 2.44.1 (20200629.0846)\n",
       " -->\n",
       "<!-- Pages: 1 -->\n",
       "<svg width=\"222pt\" height=\"617pt\"\n",
       " viewBox=\"0.00 0.00 221.50 617.00\" xmlns=\"http://www.w3.org/2000/svg\" xmlns:xlink=\"http://www.w3.org/1999/xlink\">\n",
       "<g id=\"graph0\" class=\"graph\" transform=\"scale(1 1) rotate(0) translate(4 613)\">\n",
       "<polygon fill=\"white\" stroke=\"transparent\" points=\"-4,4 -4,-613 217.5,-613 217.5,4 -4,4\"/>\n",
       "<!-- (0, 0) -->\n",
       "<g id=\"node1\" class=\"node\">\n",
       "<title>(0, 0)</title>\n",
       "<text text-anchor=\"middle\" x=\"124\" y=\"-597.8\" font-family=\"Times,serif\" font-size=\"14.00\">&lt;json&gt; </text>\n",
       "</g>\n",
       "<!-- (1, 0) -->\n",
       "<g id=\"node2\" class=\"node\">\n",
       "<title>(1, 0)</title>\n",
       "<text text-anchor=\"middle\" x=\"124\" y=\"-531.8\" font-family=\"Times,serif\" font-size=\"14.00\">&lt;element&gt; </text>\n",
       "</g>\n",
       "<!-- (0, 0)&#45;&gt;(1, 0) -->\n",
       "<g id=\"edge1\" class=\"edge\">\n",
       "<title>(0, 0)&#45;&gt;(1, 0)</title>\n",
       "<path fill=\"none\" stroke=\"black\" d=\"M124,-593.65C124,-584.07 124,-566.38 124,-553.2\"/>\n",
       "<polygon fill=\"black\" stroke=\"black\" points=\"127.5,-553.11 124,-543.11 120.5,-553.11 127.5,-553.11\"/>\n",
       "<text text-anchor=\"middle\" x=\"127.5\" y=\"-564.8\" font-family=\"Times,serif\" font-size=\"14.00\">0</text>\n",
       "</g>\n",
       "<!-- (2, 0) -->\n",
       "<g id=\"node3\" class=\"node\">\n",
       "<title>(2, 0)</title>\n",
       "<text text-anchor=\"middle\" x=\"124\" y=\"-465.8\" font-family=\"Times,serif\" font-size=\"14.00\">&lt;object&gt; </text>\n",
       "</g>\n",
       "<!-- (1, 0)&#45;&gt;(2, 0) -->\n",
       "<g id=\"edge2\" class=\"edge\">\n",
       "<title>(1, 0)&#45;&gt;(2, 0)</title>\n",
       "<path fill=\"none\" stroke=\"black\" d=\"M124,-527.65C124,-518.07 124,-500.38 124,-487.2\"/>\n",
       "<polygon fill=\"black\" stroke=\"black\" points=\"127.5,-487.11 124,-477.11 120.5,-487.11 127.5,-487.11\"/>\n",
       "<text text-anchor=\"middle\" x=\"127.5\" y=\"-498.8\" font-family=\"Times,serif\" font-size=\"14.00\">0</text>\n",
       "</g>\n",
       "<!-- (3, 0) -->\n",
       "<g id=\"node4\" class=\"node\">\n",
       "<title>(3, 0)</title>\n",
       "<text text-anchor=\"middle\" x=\"64\" y=\"-399.8\" font-family=\"Times,serif\" font-size=\"14.00\">{ </text>\n",
       "</g>\n",
       "<!-- (2, 0)&#45;&gt;(3, 0) -->\n",
       "<g id=\"edge3\" class=\"edge\">\n",
       "<title>(2, 0)&#45;&gt;(3, 0)</title>\n",
       "<path fill=\"none\" stroke=\"black\" d=\"M117.58,-461.65C107.87,-451.29 89.24,-431.43 76.72,-418.07\"/>\n",
       "<polygon fill=\"black\" stroke=\"black\" points=\"79.23,-415.63 69.84,-410.73 74.13,-420.42 79.23,-415.63\"/>\n",
       "<text text-anchor=\"middle\" x=\"103.5\" y=\"-432.8\" font-family=\"Times,serif\" font-size=\"14.00\">0</text>\n",
       "</g>\n",
       "<!-- (4, 1) -->\n",
       "<g id=\"node5\" class=\"node\">\n",
       "<title>(4, 1)</title>\n",
       "<text text-anchor=\"middle\" x=\"124\" y=\"-399.8\" font-family=\"Times,serif\" font-size=\"14.00\">&lt;members&gt; </text>\n",
       "</g>\n",
       "<!-- (2, 0)&#45;&gt;(4, 1) -->\n",
       "<g id=\"edge4\" class=\"edge\">\n",
       "<title>(2, 0)&#45;&gt;(4, 1)</title>\n",
       "<path fill=\"none\" stroke=\"black\" d=\"M124,-461.65C124,-452.07 124,-434.38 124,-421.2\"/>\n",
       "<polygon fill=\"black\" stroke=\"black\" points=\"127.5,-421.11 124,-411.11 120.5,-421.11 127.5,-421.11\"/>\n",
       "<text text-anchor=\"middle\" x=\"127.5\" y=\"-432.8\" font-family=\"Times,serif\" font-size=\"14.00\">1</text>\n",
       "</g>\n",
       "<!-- (16, 2) -->\n",
       "<g id=\"node17\" class=\"node\">\n",
       "<title>(16, 2)</title>\n",
       "<text text-anchor=\"middle\" x=\"184\" y=\"-399.8\" font-family=\"Times,serif\" font-size=\"14.00\">} </text>\n",
       "</g>\n",
       "<!-- (2, 0)&#45;&gt;(16, 2) -->\n",
       "<g id=\"edge16\" class=\"edge\">\n",
       "<title>(2, 0)&#45;&gt;(16, 2)</title>\n",
       "<path fill=\"none\" stroke=\"black\" d=\"M130.42,-461.65C140.13,-451.29 158.76,-431.43 171.28,-418.07\"/>\n",
       "<polygon fill=\"black\" stroke=\"black\" points=\"173.87,-420.42 178.16,-410.73 168.77,-415.63 173.87,-420.42\"/>\n",
       "<text text-anchor=\"middle\" x=\"163.5\" y=\"-432.8\" font-family=\"Times,serif\" font-size=\"14.00\">2</text>\n",
       "</g>\n",
       "<!-- (5, 0) -->\n",
       "<g id=\"node6\" class=\"node\">\n",
       "<title>(5, 0)</title>\n",
       "<text text-anchor=\"middle\" x=\"124\" y=\"-333.8\" font-family=\"Times,serif\" font-size=\"14.00\">&lt;member&gt; </text>\n",
       "</g>\n",
       "<!-- (4, 1)&#45;&gt;(5, 0) -->\n",
       "<g id=\"edge5\" class=\"edge\">\n",
       "<title>(4, 1)&#45;&gt;(5, 0)</title>\n",
       "<path fill=\"none\" stroke=\"black\" d=\"M124,-395.65C124,-386.07 124,-368.38 124,-355.2\"/>\n",
       "<polygon fill=\"black\" stroke=\"black\" points=\"127.5,-355.11 124,-345.11 120.5,-355.11 127.5,-355.11\"/>\n",
       "<text text-anchor=\"middle\" x=\"127.5\" y=\"-366.8\" font-family=\"Times,serif\" font-size=\"14.00\">0</text>\n",
       "</g>\n",
       "<!-- (6, 0) -->\n",
       "<g id=\"node7\" class=\"node\">\n",
       "<title>(6, 0)</title>\n",
       "<text text-anchor=\"middle\" x=\"73\" y=\"-267.8\" font-family=\"Times,serif\" font-size=\"14.00\">&lt;string&gt; </text>\n",
       "</g>\n",
       "<!-- (5, 0)&#45;&gt;(6, 0) -->\n",
       "<g id=\"edge6\" class=\"edge\">\n",
       "<title>(5, 0)&#45;&gt;(6, 0)</title>\n",
       "<path fill=\"none\" stroke=\"black\" d=\"M118.54,-329.65C110.52,-319.59 95.37,-300.57 84.75,-287.24\"/>\n",
       "<polygon fill=\"black\" stroke=\"black\" points=\"87.24,-284.75 78.27,-279.11 81.76,-289.11 87.24,-284.75\"/>\n",
       "<text text-anchor=\"middle\" x=\"107.5\" y=\"-300.8\" font-family=\"Times,serif\" font-size=\"14.00\">0</text>\n",
       "</g>\n",
       "<!-- (10, 1) -->\n",
       "<g id=\"node11\" class=\"node\">\n",
       "<title>(10, 1)</title>\n",
       "<text text-anchor=\"middle\" x=\"124\" y=\"-267.8\" font-family=\"Times,serif\" font-size=\"14.00\">: </text>\n",
       "</g>\n",
       "<!-- (5, 0)&#45;&gt;(10, 1) -->\n",
       "<g id=\"edge10\" class=\"edge\">\n",
       "<title>(5, 0)&#45;&gt;(10, 1)</title>\n",
       "<path fill=\"none\" stroke=\"black\" d=\"M124,-329.65C124,-320.07 124,-302.38 124,-289.2\"/>\n",
       "<polygon fill=\"black\" stroke=\"black\" points=\"127.5,-289.11 124,-279.11 120.5,-289.11 127.5,-289.11\"/>\n",
       "<text text-anchor=\"middle\" x=\"127.5\" y=\"-300.8\" font-family=\"Times,serif\" font-size=\"14.00\">1</text>\n",
       "</g>\n",
       "<!-- (11, 2) -->\n",
       "<g id=\"node12\" class=\"node\">\n",
       "<title>(11, 2)</title>\n",
       "<text text-anchor=\"middle\" x=\"180\" y=\"-267.8\" font-family=\"Times,serif\" font-size=\"14.00\">&lt;element&gt; </text>\n",
       "</g>\n",
       "<!-- (5, 0)&#45;&gt;(11, 2) -->\n",
       "<g id=\"edge11\" class=\"edge\">\n",
       "<title>(5, 0)&#45;&gt;(11, 2)</title>\n",
       "<path fill=\"none\" stroke=\"black\" d=\"M129.99,-329.65C138.88,-319.49 155.76,-300.2 167.43,-286.86\"/>\n",
       "<polygon fill=\"black\" stroke=\"black\" points=\"170.27,-288.94 174.22,-279.11 165,-284.33 170.27,-288.94\"/>\n",
       "<text text-anchor=\"middle\" x=\"161.5\" y=\"-300.8\" font-family=\"Times,serif\" font-size=\"14.00\">2</text>\n",
       "</g>\n",
       "<!-- (7, 0) -->\n",
       "<g id=\"node8\" class=\"node\">\n",
       "<title>(7, 0)</title>\n",
       "<text text-anchor=\"middle\" x=\"5\" y=\"-201.8\" font-family=\"Times,serif\" font-size=\"14.00\">&quot; </text>\n",
       "</g>\n",
       "<!-- (6, 0)&#45;&gt;(7, 0) -->\n",
       "<g id=\"edge7\" class=\"edge\">\n",
       "<title>(6, 0)&#45;&gt;(7, 0)</title>\n",
       "<path fill=\"none\" stroke=\"black\" d=\"M65.98,-263.89C54.63,-253.21 32.07,-231.98 17.8,-218.55\"/>\n",
       "<polygon fill=\"black\" stroke=\"black\" points=\"19.85,-215.67 10.17,-211.36 15.05,-220.76 19.85,-215.67\"/>\n",
       "<text text-anchor=\"middle\" x=\"49.5\" y=\"-234.8\" font-family=\"Times,serif\" font-size=\"14.00\">0</text>\n",
       "</g>\n",
       "<!-- (8, 1) -->\n",
       "<g id=\"node9\" class=\"node\">\n",
       "<title>(8, 1)</title>\n",
       "<text text-anchor=\"middle\" x=\"66\" y=\"-201.8\" font-family=\"Times,serif\" font-size=\"14.00\">&lt;characters&gt; </text>\n",
       "</g>\n",
       "<!-- (6, 0)&#45;&gt;(8, 1) -->\n",
       "<g id=\"edge8\" class=\"edge\">\n",
       "<title>(6, 0)&#45;&gt;(8, 1)</title>\n",
       "<path fill=\"none\" stroke=\"black\" d=\"M72.25,-263.65C71.2,-254.07 69.27,-236.38 67.83,-223.2\"/>\n",
       "<polygon fill=\"black\" stroke=\"black\" points=\"71.29,-222.67 66.72,-213.11 64.33,-223.43 71.29,-222.67\"/>\n",
       "<text text-anchor=\"middle\" x=\"74.5\" y=\"-234.8\" font-family=\"Times,serif\" font-size=\"14.00\">1</text>\n",
       "</g>\n",
       "<!-- (9, 2) -->\n",
       "<g id=\"node10\" class=\"node\">\n",
       "<title>(9, 2)</title>\n",
       "<text text-anchor=\"middle\" x=\"127\" y=\"-201.8\" font-family=\"Times,serif\" font-size=\"14.00\">&quot; </text>\n",
       "</g>\n",
       "<!-- (6, 0)&#45;&gt;(9, 2) -->\n",
       "<g id=\"edge9\" class=\"edge\">\n",
       "<title>(6, 0)&#45;&gt;(9, 2)</title>\n",
       "<path fill=\"none\" stroke=\"black\" d=\"M78.78,-263.65C87.44,-253.39 103.97,-233.8 115.23,-220.45\"/>\n",
       "<polygon fill=\"black\" stroke=\"black\" points=\"117.97,-222.63 121.74,-212.73 112.62,-218.12 117.97,-222.63\"/>\n",
       "<text text-anchor=\"middle\" x=\"108.5\" y=\"-234.8\" font-family=\"Times,serif\" font-size=\"14.00\">2</text>\n",
       "</g>\n",
       "<!-- (12, 0) -->\n",
       "<g id=\"node13\" class=\"node\">\n",
       "<title>(12, 0)</title>\n",
       "<text text-anchor=\"middle\" x=\"182\" y=\"-201.8\" font-family=\"Times,serif\" font-size=\"14.00\">&lt;number&gt; </text>\n",
       "</g>\n",
       "<!-- (11, 2)&#45;&gt;(12, 0) -->\n",
       "<g id=\"edge12\" class=\"edge\">\n",
       "<title>(11, 2)&#45;&gt;(12, 0)</title>\n",
       "<path fill=\"none\" stroke=\"black\" d=\"M180.21,-263.65C180.51,-254.07 181.07,-236.38 181.48,-223.2\"/>\n",
       "<polygon fill=\"black\" stroke=\"black\" points=\"184.98,-223.21 181.79,-213.11 177.98,-222.99 184.98,-223.21\"/>\n",
       "<text text-anchor=\"middle\" x=\"185.5\" y=\"-234.8\" font-family=\"Times,serif\" font-size=\"14.00\">0</text>\n",
       "</g>\n",
       "<!-- (13, 0) -->\n",
       "<g id=\"node14\" class=\"node\">\n",
       "<title>(13, 0)</title>\n",
       "<text text-anchor=\"middle\" x=\"182\" y=\"-135.8\" font-family=\"Times,serif\" font-size=\"14.00\">&lt;digits&gt; </text>\n",
       "</g>\n",
       "<!-- (12, 0)&#45;&gt;(13, 0) -->\n",
       "<g id=\"edge13\" class=\"edge\">\n",
       "<title>(12, 0)&#45;&gt;(13, 0)</title>\n",
       "<path fill=\"none\" stroke=\"black\" d=\"M182,-197.65C182,-188.07 182,-170.38 182,-157.2\"/>\n",
       "<polygon fill=\"black\" stroke=\"black\" points=\"185.5,-157.11 182,-147.11 178.5,-157.11 185.5,-157.11\"/>\n",
       "<text text-anchor=\"middle\" x=\"185.5\" y=\"-168.8\" font-family=\"Times,serif\" font-size=\"14.00\">0</text>\n",
       "</g>\n",
       "<!-- (14, 0) -->\n",
       "<g id=\"node15\" class=\"node\">\n",
       "<title>(14, 0)</title>\n",
       "<text text-anchor=\"middle\" x=\"182\" y=\"-69.8\" font-family=\"Times,serif\" font-size=\"14.00\">&lt;digit&gt; </text>\n",
       "</g>\n",
       "<!-- (13, 0)&#45;&gt;(14, 0) -->\n",
       "<g id=\"edge14\" class=\"edge\">\n",
       "<title>(13, 0)&#45;&gt;(14, 0)</title>\n",
       "<path fill=\"none\" stroke=\"black\" d=\"M182,-131.65C182,-122.07 182,-104.38 182,-91.2\"/>\n",
       "<polygon fill=\"black\" stroke=\"black\" points=\"185.5,-91.11 182,-81.11 178.5,-91.11 185.5,-91.11\"/>\n",
       "<text text-anchor=\"middle\" x=\"185.5\" y=\"-102.8\" font-family=\"Times,serif\" font-size=\"14.00\">0</text>\n",
       "</g>\n",
       "<!-- (15, 0) -->\n",
       "<g id=\"node16\" class=\"node\">\n",
       "<title>(15, 0)</title>\n",
       "<text text-anchor=\"middle\" x=\"182\" y=\"-3.8\" font-family=\"Times,serif\" font-size=\"14.00\">1 </text>\n",
       "</g>\n",
       "<!-- (14, 0)&#45;&gt;(15, 0) -->\n",
       "<g id=\"edge15\" class=\"edge\">\n",
       "<title>(14, 0)&#45;&gt;(15, 0)</title>\n",
       "<path fill=\"none\" stroke=\"black\" d=\"M182,-65.65C182,-56.07 182,-38.38 182,-25.2\"/>\n",
       "<polygon fill=\"black\" stroke=\"black\" points=\"185.5,-25.11 182,-15.11 178.5,-25.11 185.5,-25.11\"/>\n",
       "<text text-anchor=\"middle\" x=\"185.5\" y=\"-36.8\" font-family=\"Times,serif\" font-size=\"14.00\">0</text>\n",
       "</g>\n",
       "</g>\n",
       "</svg>\n"
      ],
      "text/plain": [
       "<graphviz.dot.Digraph at 0x115d67fd0>"
      ]
     },
     "execution_count": 541,
     "metadata": {},
     "output_type": "execute_result"
    }
   ],
   "source": [
    "display_tree(v)"
   ]
  },
  {
   "cell_type": "code",
   "execution_count": 542,
   "metadata": {},
   "outputs": [
    {
     "data": {
      "image/svg+xml": [
       "<?xml version=\"1.0\" encoding=\"UTF-8\" standalone=\"no\"?>\n",
       "<!DOCTYPE svg PUBLIC \"-//W3C//DTD SVG 1.1//EN\"\n",
       " \"http://www.w3.org/Graphics/SVG/1.1/DTD/svg11.dtd\">\n",
       "<!-- Generated by graphviz version 2.44.1 (20200629.0846)\n",
       " -->\n",
       "<!-- Pages: 1 -->\n",
       "<svg width=\"72pt\" height=\"287pt\"\n",
       " viewBox=\"0.00 0.00 72.00 287.00\" xmlns=\"http://www.w3.org/2000/svg\" xmlns:xlink=\"http://www.w3.org/1999/xlink\">\n",
       "<g id=\"graph0\" class=\"graph\" transform=\"scale(1 1) rotate(0) translate(4 283)\">\n",
       "<polygon fill=\"white\" stroke=\"transparent\" points=\"-4,4 -4,-283 68,-283 68,4 -4,4\"/>\n",
       "<!-- (0, 0) -->\n",
       "<g id=\"node1\" class=\"node\">\n",
       "<title>(0, 0)</title>\n",
       "<text text-anchor=\"middle\" x=\"32\" y=\"-267.8\" font-family=\"Times,serif\" font-size=\"14.00\">&lt;element&gt; </text>\n",
       "</g>\n",
       "<!-- (1, 0) -->\n",
       "<g id=\"node2\" class=\"node\">\n",
       "<title>(1, 0)</title>\n",
       "<text text-anchor=\"middle\" x=\"32\" y=\"-201.8\" font-family=\"Times,serif\" font-size=\"14.00\">&lt;number&gt; </text>\n",
       "</g>\n",
       "<!-- (0, 0)&#45;&gt;(1, 0) -->\n",
       "<g id=\"edge1\" class=\"edge\">\n",
       "<title>(0, 0)&#45;&gt;(1, 0)</title>\n",
       "<path fill=\"none\" stroke=\"black\" d=\"M32,-263.65C32,-254.07 32,-236.38 32,-223.2\"/>\n",
       "<polygon fill=\"black\" stroke=\"black\" points=\"35.5,-223.11 32,-213.11 28.5,-223.11 35.5,-223.11\"/>\n",
       "<text text-anchor=\"middle\" x=\"35.5\" y=\"-234.8\" font-family=\"Times,serif\" font-size=\"14.00\">0</text>\n",
       "</g>\n",
       "<!-- (2, 0) -->\n",
       "<g id=\"node3\" class=\"node\">\n",
       "<title>(2, 0)</title>\n",
       "<text text-anchor=\"middle\" x=\"32\" y=\"-135.8\" font-family=\"Times,serif\" font-size=\"14.00\">&lt;digits&gt; </text>\n",
       "</g>\n",
       "<!-- (1, 0)&#45;&gt;(2, 0) -->\n",
       "<g id=\"edge2\" class=\"edge\">\n",
       "<title>(1, 0)&#45;&gt;(2, 0)</title>\n",
       "<path fill=\"none\" stroke=\"black\" d=\"M32,-197.65C32,-188.07 32,-170.38 32,-157.2\"/>\n",
       "<polygon fill=\"black\" stroke=\"black\" points=\"35.5,-157.11 32,-147.11 28.5,-157.11 35.5,-157.11\"/>\n",
       "<text text-anchor=\"middle\" x=\"35.5\" y=\"-168.8\" font-family=\"Times,serif\" font-size=\"14.00\">0</text>\n",
       "</g>\n",
       "<!-- (3, 0) -->\n",
       "<g id=\"node4\" class=\"node\">\n",
       "<title>(3, 0)</title>\n",
       "<text text-anchor=\"middle\" x=\"32\" y=\"-69.8\" font-family=\"Times,serif\" font-size=\"14.00\">&lt;digit&gt; </text>\n",
       "</g>\n",
       "<!-- (2, 0)&#45;&gt;(3, 0) -->\n",
       "<g id=\"edge3\" class=\"edge\">\n",
       "<title>(2, 0)&#45;&gt;(3, 0)</title>\n",
       "<path fill=\"none\" stroke=\"black\" d=\"M32,-131.65C32,-122.07 32,-104.38 32,-91.2\"/>\n",
       "<polygon fill=\"black\" stroke=\"black\" points=\"35.5,-91.11 32,-81.11 28.5,-91.11 35.5,-91.11\"/>\n",
       "<text text-anchor=\"middle\" x=\"35.5\" y=\"-102.8\" font-family=\"Times,serif\" font-size=\"14.00\">0</text>\n",
       "</g>\n",
       "<!-- (4, 0) -->\n",
       "<g id=\"node5\" class=\"node\">\n",
       "<title>(4, 0)</title>\n",
       "<text text-anchor=\"middle\" x=\"32\" y=\"-3.8\" font-family=\"Times,serif\" font-size=\"14.00\">1 </text>\n",
       "</g>\n",
       "<!-- (3, 0)&#45;&gt;(4, 0) -->\n",
       "<g id=\"edge4\" class=\"edge\">\n",
       "<title>(3, 0)&#45;&gt;(4, 0)</title>\n",
       "<path fill=\"none\" stroke=\"black\" d=\"M32,-65.65C32,-56.07 32,-38.38 32,-25.2\"/>\n",
       "<polygon fill=\"black\" stroke=\"black\" points=\"35.5,-25.11 32,-15.11 28.5,-25.11 35.5,-25.11\"/>\n",
       "<text text-anchor=\"middle\" x=\"35.5\" y=\"-36.8\" font-family=\"Times,serif\" font-size=\"14.00\">0</text>\n",
       "</g>\n",
       "</g>\n",
       "</svg>\n"
      ],
      "text/plain": [
       "<graphviz.dot.Digraph at 0x115c3b668>"
      ]
     },
     "execution_count": 542,
     "metadata": {},
     "output_type": "execute_result"
    }
   ],
   "source": [
    "string_node_path2 = [0,0,1,0,2]\n",
    "display_tree(find_node(v, string_node_path2))"
   ]
  },
  {
   "cell_type": "code",
   "execution_count": 543,
   "metadata": {},
   "outputs": [
    {
     "data": {
      "text/plain": [
       "'{\"\":<element>}'"
      ]
     },
     "execution_count": 543,
     "metadata": {},
     "output_type": "execute_result"
    }
   ],
   "source": [
    "F_k_empty = mark_abstract_nodes(v, [string_node_path2])\n",
    "Ta(F_k_empty)"
   ]
  },
  {
   "cell_type": "code",
   "execution_count": 544,
   "metadata": {},
   "outputs": [
    {
     "data": {
      "image/svg+xml": [
       "<?xml version=\"1.0\" encoding=\"UTF-8\" standalone=\"no\"?>\n",
       "<!DOCTYPE svg PUBLIC \"-//W3C//DTD SVG 1.1//EN\"\n",
       " \"http://www.w3.org/Graphics/SVG/1.1/DTD/svg11.dtd\">\n",
       "<!-- Generated by graphviz version 2.44.1 (20200629.0846)\n",
       " -->\n",
       "<!-- Pages: 1 -->\n",
       "<svg width=\"222pt\" height=\"353pt\"\n",
       " viewBox=\"0.00 0.00 221.50 353.00\" xmlns=\"http://www.w3.org/2000/svg\" xmlns:xlink=\"http://www.w3.org/1999/xlink\">\n",
       "<g id=\"graph0\" class=\"graph\" transform=\"scale(1 1) rotate(0) translate(4 349)\">\n",
       "<polygon fill=\"white\" stroke=\"transparent\" points=\"-4,4 -4,-349 217.5,-349 217.5,4 -4,4\"/>\n",
       "<!-- (0, 0) -->\n",
       "<g id=\"node1\" class=\"node\">\n",
       "<title>(0, 0)</title>\n",
       "<text text-anchor=\"middle\" x=\"124\" y=\"-333.8\" font-family=\"Times,serif\" font-size=\"14.00\">&lt;member&gt; </text>\n",
       "</g>\n",
       "<!-- (1, 0) -->\n",
       "<g id=\"node2\" class=\"node\">\n",
       "<title>(1, 0)</title>\n",
       "<text text-anchor=\"middle\" x=\"73\" y=\"-267.8\" font-family=\"Times,serif\" font-size=\"14.00\">&lt;string&gt; </text>\n",
       "</g>\n",
       "<!-- (0, 0)&#45;&gt;(1, 0) -->\n",
       "<g id=\"edge1\" class=\"edge\">\n",
       "<title>(0, 0)&#45;&gt;(1, 0)</title>\n",
       "<path fill=\"none\" stroke=\"black\" d=\"M118.54,-329.65C110.52,-319.59 95.37,-300.57 84.75,-287.24\"/>\n",
       "<polygon fill=\"black\" stroke=\"black\" points=\"87.24,-284.75 78.27,-279.11 81.76,-289.11 87.24,-284.75\"/>\n",
       "<text text-anchor=\"middle\" x=\"106.5\" y=\"-300.8\" font-family=\"Times,serif\" font-size=\"14.00\">0</text>\n",
       "</g>\n",
       "<!-- (5, 1) -->\n",
       "<g id=\"node6\" class=\"node\">\n",
       "<title>(5, 1)</title>\n",
       "<text text-anchor=\"middle\" x=\"124\" y=\"-267.8\" font-family=\"Times,serif\" font-size=\"14.00\">: </text>\n",
       "</g>\n",
       "<!-- (0, 0)&#45;&gt;(5, 1) -->\n",
       "<g id=\"edge5\" class=\"edge\">\n",
       "<title>(0, 0)&#45;&gt;(5, 1)</title>\n",
       "<path fill=\"none\" stroke=\"black\" d=\"M124,-329.65C124,-320.07 124,-302.38 124,-289.2\"/>\n",
       "<polygon fill=\"black\" stroke=\"black\" points=\"127.5,-289.11 124,-279.11 120.5,-289.11 127.5,-289.11\"/>\n",
       "<text text-anchor=\"middle\" x=\"127.5\" y=\"-300.8\" font-family=\"Times,serif\" font-size=\"14.00\">1</text>\n",
       "</g>\n",
       "<!-- (6, 2) -->\n",
       "<g id=\"node7\" class=\"node\">\n",
       "<title>(6, 2)</title>\n",
       "<text text-anchor=\"middle\" x=\"180\" y=\"-267.8\" font-family=\"Times,serif\" font-size=\"14.00\">&lt;element&gt; </text>\n",
       "</g>\n",
       "<!-- (0, 0)&#45;&gt;(6, 2) -->\n",
       "<g id=\"edge6\" class=\"edge\">\n",
       "<title>(0, 0)&#45;&gt;(6, 2)</title>\n",
       "<path fill=\"none\" stroke=\"black\" d=\"M129.99,-329.65C138.88,-319.49 155.76,-300.2 167.43,-286.86\"/>\n",
       "<polygon fill=\"black\" stroke=\"black\" points=\"170.27,-288.94 174.22,-279.11 165,-284.33 170.27,-288.94\"/>\n",
       "<text text-anchor=\"middle\" x=\"160.5\" y=\"-300.8\" font-family=\"Times,serif\" font-size=\"14.00\">2</text>\n",
       "</g>\n",
       "<!-- (2, 0) -->\n",
       "<g id=\"node3\" class=\"node\">\n",
       "<title>(2, 0)</title>\n",
       "<text text-anchor=\"middle\" x=\"5\" y=\"-201.8\" font-family=\"Times,serif\" font-size=\"14.00\">&quot; </text>\n",
       "</g>\n",
       "<!-- (1, 0)&#45;&gt;(2, 0) -->\n",
       "<g id=\"edge2\" class=\"edge\">\n",
       "<title>(1, 0)&#45;&gt;(2, 0)</title>\n",
       "<path fill=\"none\" stroke=\"black\" d=\"M65.98,-263.89C54.63,-253.21 32.07,-231.98 17.8,-218.55\"/>\n",
       "<polygon fill=\"black\" stroke=\"black\" points=\"19.85,-215.67 10.17,-211.36 15.05,-220.76 19.85,-215.67\"/>\n",
       "<text text-anchor=\"middle\" x=\"49.5\" y=\"-234.8\" font-family=\"Times,serif\" font-size=\"14.00\">0</text>\n",
       "</g>\n",
       "<!-- (3, 1) -->\n",
       "<g id=\"node4\" class=\"node\">\n",
       "<title>(3, 1)</title>\n",
       "<text text-anchor=\"middle\" x=\"66\" y=\"-201.8\" font-family=\"Times,serif\" font-size=\"14.00\">&lt;characters&gt; </text>\n",
       "</g>\n",
       "<!-- (1, 0)&#45;&gt;(3, 1) -->\n",
       "<g id=\"edge3\" class=\"edge\">\n",
       "<title>(1, 0)&#45;&gt;(3, 1)</title>\n",
       "<path fill=\"none\" stroke=\"black\" d=\"M72.25,-263.65C71.2,-254.07 69.27,-236.38 67.83,-223.2\"/>\n",
       "<polygon fill=\"black\" stroke=\"black\" points=\"71.29,-222.67 66.72,-213.11 64.33,-223.43 71.29,-222.67\"/>\n",
       "<text text-anchor=\"middle\" x=\"74.5\" y=\"-234.8\" font-family=\"Times,serif\" font-size=\"14.00\">1</text>\n",
       "</g>\n",
       "<!-- (4, 2) -->\n",
       "<g id=\"node5\" class=\"node\">\n",
       "<title>(4, 2)</title>\n",
       "<text text-anchor=\"middle\" x=\"127\" y=\"-201.8\" font-family=\"Times,serif\" font-size=\"14.00\">&quot; </text>\n",
       "</g>\n",
       "<!-- (1, 0)&#45;&gt;(4, 2) -->\n",
       "<g id=\"edge4\" class=\"edge\">\n",
       "<title>(1, 0)&#45;&gt;(4, 2)</title>\n",
       "<path fill=\"none\" stroke=\"black\" d=\"M78.78,-263.65C87.44,-253.39 103.97,-233.8 115.23,-220.45\"/>\n",
       "<polygon fill=\"black\" stroke=\"black\" points=\"117.97,-222.63 121.74,-212.73 112.62,-218.12 117.97,-222.63\"/>\n",
       "<text text-anchor=\"middle\" x=\"107.5\" y=\"-234.8\" font-family=\"Times,serif\" font-size=\"14.00\">2</text>\n",
       "</g>\n",
       "<!-- (7, 0) -->\n",
       "<g id=\"node8\" class=\"node\">\n",
       "<title>(7, 0)</title>\n",
       "<text text-anchor=\"middle\" x=\"182\" y=\"-201.8\" font-family=\"Times,serif\" font-size=\"14.00\">&lt;number&gt; </text>\n",
       "</g>\n",
       "<!-- (6, 2)&#45;&gt;(7, 0) -->\n",
       "<g id=\"edge7\" class=\"edge\">\n",
       "<title>(6, 2)&#45;&gt;(7, 0)</title>\n",
       "<path fill=\"none\" stroke=\"black\" d=\"M180.21,-263.65C180.51,-254.07 181.07,-236.38 181.48,-223.2\"/>\n",
       "<polygon fill=\"black\" stroke=\"black\" points=\"184.98,-223.21 181.79,-213.11 177.98,-222.99 184.98,-223.21\"/>\n",
       "<text text-anchor=\"middle\" x=\"184.5\" y=\"-234.8\" font-family=\"Times,serif\" font-size=\"14.00\">0</text>\n",
       "</g>\n",
       "<!-- (8, 0) -->\n",
       "<g id=\"node9\" class=\"node\">\n",
       "<title>(8, 0)</title>\n",
       "<text text-anchor=\"middle\" x=\"182\" y=\"-135.8\" font-family=\"Times,serif\" font-size=\"14.00\">&lt;digits&gt; </text>\n",
       "</g>\n",
       "<!-- (7, 0)&#45;&gt;(8, 0) -->\n",
       "<g id=\"edge8\" class=\"edge\">\n",
       "<title>(7, 0)&#45;&gt;(8, 0)</title>\n",
       "<path fill=\"none\" stroke=\"black\" d=\"M182,-197.65C182,-188.07 182,-170.38 182,-157.2\"/>\n",
       "<polygon fill=\"black\" stroke=\"black\" points=\"185.5,-157.11 182,-147.11 178.5,-157.11 185.5,-157.11\"/>\n",
       "<text text-anchor=\"middle\" x=\"185.5\" y=\"-168.8\" font-family=\"Times,serif\" font-size=\"14.00\">0</text>\n",
       "</g>\n",
       "<!-- (9, 0) -->\n",
       "<g id=\"node10\" class=\"node\">\n",
       "<title>(9, 0)</title>\n",
       "<text text-anchor=\"middle\" x=\"182\" y=\"-69.8\" font-family=\"Times,serif\" font-size=\"14.00\">&lt;digit&gt; </text>\n",
       "</g>\n",
       "<!-- (8, 0)&#45;&gt;(9, 0) -->\n",
       "<g id=\"edge9\" class=\"edge\">\n",
       "<title>(8, 0)&#45;&gt;(9, 0)</title>\n",
       "<path fill=\"none\" stroke=\"black\" d=\"M182,-131.65C182,-122.07 182,-104.38 182,-91.2\"/>\n",
       "<polygon fill=\"black\" stroke=\"black\" points=\"185.5,-91.11 182,-81.11 178.5,-91.11 185.5,-91.11\"/>\n",
       "<text text-anchor=\"middle\" x=\"185.5\" y=\"-102.8\" font-family=\"Times,serif\" font-size=\"14.00\">0</text>\n",
       "</g>\n",
       "<!-- (10, 0) -->\n",
       "<g id=\"node11\" class=\"node\">\n",
       "<title>(10, 0)</title>\n",
       "<text text-anchor=\"middle\" x=\"182\" y=\"-3.8\" font-family=\"Times,serif\" font-size=\"14.00\">1 </text>\n",
       "</g>\n",
       "<!-- (9, 0)&#45;&gt;(10, 0) -->\n",
       "<g id=\"edge10\" class=\"edge\">\n",
       "<title>(9, 0)&#45;&gt;(10, 0)</title>\n",
       "<path fill=\"none\" stroke=\"black\" d=\"M182,-65.65C182,-56.07 182,-38.38 182,-25.2\"/>\n",
       "<polygon fill=\"black\" stroke=\"black\" points=\"185.5,-25.11 182,-15.11 178.5,-25.11 185.5,-25.11\"/>\n",
       "<text text-anchor=\"middle\" x=\"185.5\" y=\"-36.8\" font-family=\"Times,serif\" font-size=\"14.00\">0</text>\n",
       "</g>\n",
       "</g>\n",
       "</svg>\n"
      ],
      "text/plain": [
       "<graphviz.dot.Digraph at 0x114fcfb70>"
      ]
     },
     "execution_count": 544,
     "metadata": {},
     "output_type": "execute_result"
    }
   ],
   "source": [
    "mm = find_node(F_k_empty, [0,0,1,0]);display_tree(mm)"
   ]
  },
  {
   "cell_type": "code",
   "execution_count": 545,
   "metadata": {},
   "outputs": [],
   "source": [
    "Fke = mm # find_charecterizing_node(F_k_empty)\n",
    "Fke_grammar, Fke_start = exactly_one_fault_grammar(JSON_GRAMMAR, JSON_START, Fke, 'EK')"
   ]
  },
  {
   "cell_type": "code",
   "execution_count": 546,
   "metadata": {
    "scrolled": false
   },
   "outputs": [
    {
     "name": "stdout",
     "output_type": "stream",
     "text": [
      "<json .FEK> ::=\n",
      "|    <element .FEK>\n",
      "<element .FEK> ::=\n",
      "|    <array .FEK>\n",
      "|    <object .FEK>\n",
      "<array .FEK> ::=\n",
      "|    '[' <elements .FEK> ']'\n",
      "<object .FEK> ::=\n",
      "|    '{' <members .FEK> '}'\n",
      "<elements .FEK> ::=\n",
      "|    <element .FEK>\n",
      "|    <element .FEK> ',' <elements neg(+FEK)>\n",
      "|    <element neg(+FEK)> ',' <elements .FEK>\n",
      "<elements neg(+FEK)> ::=\n",
      "|    <element neg(+FEK)>\n",
      "|    <element neg(+FEK)> ',' <elements neg(+FEK)>\n",
      "<element neg(+FEK)> ::=\n",
      "|    <array neg(+FEK)>\n",
      "|    <number>\n",
      "|    <object neg(+FEK)>\n",
      "|    <string>\n",
      "|    'false'\n",
      "|    'null'\n",
      "|    'true'\n",
      "<array neg(+FEK)> ::=\n",
      "|    '[' <elements neg(+FEK)> ']'\n",
      "|    '[]'\n",
      "<number> ::=\n",
      "|    <digits>\n",
      "<object neg(+FEK)> ::=\n",
      "|    '{' <members neg(+FEK)> '}'\n",
      "|    '{}'\n",
      "<string> ::=\n",
      "|    '\"' <characters> '\"'\n",
      "<digits> ::=\n",
      "|    <digit>\n",
      "|    <digit> <digits>\n",
      "<digit> ::=\n",
      "|    '0'\n",
      "|    '1'\n",
      "|    '2'\n",
      "|    '3'\n",
      "|    '4'\n",
      "|    '5'\n",
      "|    '6'\n",
      "|    '7'\n",
      "|    '8'\n",
      "|    '9'\n",
      "<members neg(+FEK)> ::=\n",
      "|    <member neg(+FEK)>\n",
      "|    <member neg(+FEK)> ',' <members neg(+FEK)>\n",
      "<member neg(+FEK)> ::=\n",
      "|    <string neg(LEK_1)> ':' <element neg(+FEK)>\n",
      "<string neg(LEK_1)> ::=\n",
      "|    '\"' <characters neg(LEK_1)> '\"'\n",
      "<characters neg(LEK_1)> ::=\n",
      "|    <character> <characters>\n",
      "<character> ::=\n",
      "|    'a'\n",
      "|    'b'\n",
      "|    'c'\n",
      "<characters> ::=\n",
      "|    \n",
      "|    <character> <characters>\n",
      "<members .FEK> ::=\n",
      "|    <member .FEK>\n",
      "|    <member .FEK> ',' <members neg(+FEK)>\n",
      "|    <member neg(+FEK)> ',' <members .FEK>\n",
      "<member .FEK> ::=\n",
      "|    <string LEK_1> ':' <element>\n",
      "<string LEK_1> ::=\n",
      "|    '\"' <characters LEK_1> '\"'\n",
      "<element> ::=\n",
      "|    <array>\n",
      "|    <number>\n",
      "|    <object>\n",
      "|    <string>\n",
      "|    'false'\n",
      "|    'null'\n",
      "|    'true'\n",
      "<characters LEK_1> ::=\n",
      "|    \n",
      "<array> ::=\n",
      "|    '[' <elements> ']'\n",
      "|    '[]'\n",
      "<object> ::=\n",
      "|    '{' <members> '}'\n",
      "|    '{}'\n",
      "<elements> ::=\n",
      "|    <element>\n",
      "|    <element> ',' <elements>\n",
      "<members> ::=\n",
      "|    <member>\n",
      "|    <member> ',' <members>\n",
      "<member> ::=\n",
      "|    <string> ':' <element>\n",
      "29 67\n"
     ]
    },
    {
     "data": {
      "text/plain": [
       "'<json .FEK>'"
      ]
     },
     "execution_count": 546,
     "metadata": {},
     "output_type": "execute_result"
    }
   ],
   "source": [
    "Gs(Fke_grammar)\n",
    "Fke_start"
   ]
  },
  {
   "cell_type": "markdown",
   "metadata": {},
   "source": [
    "Now combining both"
   ]
  },
  {
   "cell_type": "code",
   "execution_count": 547,
   "metadata": {},
   "outputs": [],
   "source": [
    "g,s = and_grammars(Fke_grammar, Fke_start, FNkvn_grammar, FNkvn_start)"
   ]
  },
  {
   "cell_type": "code",
   "execution_count": 548,
   "metadata": {
    "scrolled": false
   },
   "outputs": [
    {
     "name": "stdout",
     "output_type": "stream",
     "text": [
      "<json and(.FEK,neg(+FKVN))> ::=\n",
      "|    <element and(.FEK,neg(+FKVN))>\n",
      "<element and(.FEK,neg(+FKVN))> ::=\n",
      "|    <array and(.FEK,neg(+FKVN))>\n",
      "|    <object and(.FEK,neg(+FKVN))>\n",
      "<array and(.FEK,neg(+FKVN))> ::=\n",
      "|    '[' <elements and(.FEK,neg(+FKVN))> ']'\n",
      "<object and(.FEK,neg(+FKVN))> ::=\n",
      "|    '{' <members and(.FEK,neg(+FKVN))> '}'\n",
      "<elements and(.FEK,neg(+FKVN))> ::=\n",
      "|    <element and(.FEK,neg(+FKVN))>\n",
      "|    <element and(.FEK,neg(+FKVN))> ',' <elements and(neg(+FEK),neg(+FKVN))>\n",
      "|    <element and(neg(+FEK),neg(+FKVN))> ',' <elements and(.FEK,neg(+FKVN))>\n",
      "<elements and(neg(+FEK),neg(+FKVN))> ::=\n",
      "|    <element and(neg(+FEK),neg(+FKVN))>\n",
      "|    <element and(neg(+FEK),neg(+FKVN))> ',' <elements and(neg(+FEK),neg(+FKVN))>\n",
      "<element and(neg(+FEK),neg(+FKVN))> ::=\n",
      "|    <array and(neg(+FEK),neg(+FKVN))>\n",
      "|    <number>\n",
      "|    <object and(neg(+FEK),neg(+FKVN))>\n",
      "|    <string>\n",
      "|    'false'\n",
      "|    'null'\n",
      "|    'true'\n",
      "<array and(neg(+FEK),neg(+FKVN))> ::=\n",
      "|    '[' <elements and(neg(+FEK),neg(+FKVN))> ']'\n",
      "|    '[]'\n",
      "<number> ::=\n",
      "|    <digits>\n",
      "<object and(neg(+FEK),neg(+FKVN))> ::=\n",
      "|    '{' <members and(neg(+FEK),neg(+FKVN))> '}'\n",
      "|    '{}'\n",
      "<string> ::=\n",
      "|    '\"' <characters> '\"'\n",
      "<digits> ::=\n",
      "|    <digit>\n",
      "|    <digit> <digits>\n",
      "<digit> ::=\n",
      "|    '0'\n",
      "|    '1'\n",
      "|    '2'\n",
      "|    '3'\n",
      "|    '4'\n",
      "|    '5'\n",
      "|    '6'\n",
      "|    '7'\n",
      "|    '8'\n",
      "|    '9'\n",
      "<members and(neg(+FEK),neg(+FKVN))> ::=\n",
      "|    <member and(neg(+FEK),neg(+FKVN))>\n",
      "|    <member and(neg(+FEK),neg(+FKVN))> ',' <members and(neg(+FEK),neg(+FKVN))>\n",
      "<member and(neg(+FEK),neg(+FKVN))> ::=\n",
      "|    <string neg(LEK_1)> ':' <element and(neg(+FEK),neg(+FKVN),neg(LKVN_1))>\n",
      "<string neg(LEK_1)> ::=\n",
      "|    '\"' <characters neg(LEK_1)> '\"'\n",
      "<element and(neg(+FEK),neg(+FKVN),neg(LKVN_1))> ::=\n",
      "|    <array and(neg(+FEK),neg(+FKVN))>\n",
      "|    <number>\n",
      "|    <object and(neg(+FEK),neg(+FKVN))>\n",
      "|    <string>\n",
      "|    'false'\n",
      "|    'true'\n",
      "<characters neg(LEK_1)> ::=\n",
      "|    <character> <characters>\n",
      "<character> ::=\n",
      "|    'a'\n",
      "|    'b'\n",
      "|    'c'\n",
      "<characters> ::=\n",
      "|    \n",
      "|    <character> <characters>\n",
      "<members and(.FEK,neg(+FKVN))> ::=\n",
      "|    <member and(.FEK,neg(+FKVN))>\n",
      "|    <member and(.FEK,neg(+FKVN))> ',' <members and(neg(+FEK),neg(+FKVN))>\n",
      "|    <member and(neg(+FEK),neg(+FKVN))> ',' <members and(.FEK,neg(+FKVN))>\n",
      "<member and(.FEK,neg(+FKVN))> ::=\n",
      "|    <string LEK_1> ':' <element and(neg(+FKVN),neg(LKVN_1))>\n",
      "<string LEK_1> ::=\n",
      "|    '\"' <characters LEK_1> '\"'\n",
      "<element and(neg(+FKVN),neg(LKVN_1))> ::=\n",
      "|    <array neg(+FKVN)>\n",
      "|    <number>\n",
      "|    <object neg(+FKVN)>\n",
      "|    <string>\n",
      "|    'false'\n",
      "|    'true'\n",
      "<characters LEK_1> ::=\n",
      "|    \n",
      "<array neg(+FKVN)> ::=\n",
      "|    '[' <elements neg(+FKVN)> ']'\n",
      "|    '[]'\n",
      "<object neg(+FKVN)> ::=\n",
      "|    '{' <members neg(+FKVN)> '}'\n",
      "|    '{}'\n",
      "<elements neg(+FKVN)> ::=\n",
      "|    <element neg(+FKVN)>\n",
      "|    <element neg(+FKVN)> ',' <elements neg(+FKVN)>\n",
      "<element neg(+FKVN)> ::=\n",
      "|    <array neg(+FKVN)>\n",
      "|    <number>\n",
      "|    <object neg(+FKVN)>\n",
      "|    <string>\n",
      "|    'false'\n",
      "|    'null'\n",
      "|    'true'\n",
      "<members neg(+FKVN)> ::=\n",
      "|    <member neg(+FKVN)>\n",
      "|    <member neg(+FKVN)> ',' <members neg(+FKVN)>\n",
      "<member neg(+FKVN)> ::=\n",
      "|    <string> ':' <element and(neg(+FKVN),neg(LKVN_1))>\n",
      "31 79\n"
     ]
    }
   ],
   "source": [
    "Gs(g)"
   ]
  },
  {
   "cell_type": "code",
   "execution_count": 549,
   "metadata": {},
   "outputs": [],
   "source": [
    "g_fuzzer = LimitFuzzer(g)"
   ]
  },
  {
   "cell_type": "markdown",
   "metadata": {},
   "source": [
    "At least one empty key, and no `null` as the value of a key (but `null` can exist anywhere else.)"
   ]
  },
  {
   "cell_type": "code",
   "execution_count": 550,
   "metadata": {
    "scrolled": true
   },
   "outputs": [
    {
     "name": "stdout",
     "output_type": "stream",
     "text": [
      "[[{\"\":true},2],\"c\"]\n",
      "{\"\":[{}],\"b\":{\"b\":false},\"c\":[]}\n",
      "{\"\":{},\"bcb\":false}\n",
      "[[{\"a\":false,\"\":true},3,[],true,null]]\n",
      "{\"\":2}\n",
      "[[{\"\":true},false]]\n",
      "[{\"\":3,\"a\":3,\"a\":false},[null],false,true,false]\n",
      "[{\"b\":false,\"b\":{},\"\":true}]\n",
      "[[{},1,false,{\"\":true}],false,{}]\n",
      "{\"bb\":{\"b\":\"\",\"a\":true,\"b\":false,\"a\":false},\"\":false}\n",
      "{\"\":false,\"b\":753,\"aa\":true}\n",
      "[{\"\":\"\"},{\"b\":true,\"b\":false,\"b\":false,\"c\":false}]\n",
      "[[true,{\"\":false},true],true,\"\",\"\",true,[]]\n",
      "[[{\"\":true},false],4,[9,null]]\n",
      "[[[],false,[{\"\":false},null],true]]\n",
      "[null,null,[{},{\"\":true},true]]\n",
      "[{\"\":false,\"b\":false}]\n",
      "[null,[{\"\":true}]]\n",
      "[{\"\":[null]},[null,{}]]\n",
      "{\"\":false}\n",
      "{\"\":{\"\":\"\"}}\n",
      "[[true,[{\"\":false}]]]\n",
      "{\"\":9}\n",
      "[[null,{\"\":false}]]\n",
      "{\"cb\":false,\"\":true}\n",
      "[null,[[{\"\":false}]]]\n",
      "{\"bccb\":false,\"\":24}\n",
      "{\"ac\":\"\",\"\":{\"\":false},\"aa\":\"a\",\"c\":true}\n",
      "{\"\":{},\"b\":{\"a\":true},\"a\":\"\",\"c\":[]}\n",
      "[{\"\":{},\"c\":[],\"a\":false,\"b\":true}]\n",
      "{\"\":[[]]}\n",
      "{\"\":0,\"cc\":{}}\n",
      "[[null,[false],{\"\":false}]]\n",
      "[3971,{\"\":{}},{},[]]\n",
      "{\"b\":[null,false],\"\":{},\"c\":true}\n",
      "[[null,true,null,{\"\":true},false]]\n",
      "{\"a\":false,\"\":true,\"a\":\"\"}\n",
      "{\"\":52,\"aa\":{},\"aa\":[null]}\n",
      "[[[false,{\"\":false},null]]]\n",
      "[false,[true],{\"\":false,\"c\":false},3,null]\n",
      "[null,[[{\"\":true},false]]]\n",
      "[true,[true,[{\"\":true}],false,null]]\n",
      "[7,null,{},{\"\":true}]\n",
      "[false,[{\"c\":true},{},{\"\":false},false]]\n",
      "[[[false,{\"\":false}]]]\n",
      "[{\"\":\"\"}]\n",
      "{\"\":5}\n",
      "{\"\":{\"\":{}}}\n",
      "[{\"b\":\"\",\"b\":\"\",\"a\":false,\"\":false,\"c\":true}]\n",
      "[[[{\"\":false},true]],\"cc\",94,17,true]\n",
      "{\"\":69,\"abc\":false,\"a\":77}\n",
      "[{\"\":{},\"a\":5},false,{}]\n",
      "[[],null,{\"\":true}]\n",
      "[{\"\":2,\"c\":1}]\n",
      "{\"a\":[],\"\":{},\"ba\":{\"a\":false},\"a\":9,\"b\":{}}\n",
      "[{\"\":false,\"a\":{},\"a\":true},\"\"]\n",
      "[[{\"b\":false,\"\":true}],null]\n",
      "[\"\",[{\"\":true},[]]]\n",
      "{\"\":[true],\"a\":{\"c\":false,\"b\":false}}\n",
      "{\"\":\"\",\"b\":true,\"ba\":{},\"c\":[true],\"a\":\"\"}\n",
      "[[[],[{\"\":true},false],6,false]]\n",
      "[{\"\":3,\"a\":{}}]\n",
      "[{\"b\":{},\"\":{}},null,true,75,\"\",0]\n",
      "[[[false,null],{\"\":false}]]\n",
      "{\"ca\":false,\"ba\":\"\",\"\":false}\n",
      "{\"\":false,\"cca\":631,\"ac\":[null],\"c\":[false],\"a\":\"\"}\n",
      "[{\"\":true}]\n",
      "[{},\"\",{\"\":false},{\"c\":false}]\n",
      "[{\"b\":false},[[{\"\":false}]]]\n",
      "{\"cbc\":\"\",\"\":\"\"}\n",
      "{\"aa\":{\"a\":{}},\"\":1}\n",
      "[[false,[{\"\":true}],true,false]]\n",
      "[[{\"b\":true,\"\":true}],false]\n",
      "[{\"c\":2,\"\":8,\"a\":true,\"b\":false},false,{},false,true]\n",
      "[[8,[{\"\":true},false],true,true,true]]\n",
      "{\"ba\":\"\",\"\":5}\n",
      "[{\"\":7,\"a\":true,\"c\":false,\"a\":true}]\n",
      "[{\"c\":false,\"\":[]},true,\"\"]\n",
      "[[],[{\"\":true},{},true,false]]\n",
      "{\"a\":{\"c\":5},\"\":false,\"ba\":{},\"c\":7}\n",
      "{\"\":{},\"bb\":true}\n",
      "{\"aa\":{},\"b\":false,\"\":1}\n",
      "[[],{\"\":\"\",\"b\":true}]\n",
      "[9,{\"a\":5,\"\":false}]\n",
      "{\"\":\"\",\"aa\":\"\"}\n",
      "{\"\":false,\"b\":{\"b\":false,\"b\":true}}\n",
      "{\"\":{},\"ca\":false}\n",
      "[{\"\":true,\"a\":[]}]\n",
      "{\"\":\"\"}\n",
      "[{\"b\":1,\"b\":[]},[{\"c\":false},{\"\":false},false,null]]\n",
      "[true,[{\"\":false}]]\n",
      "{\"a\":[],\"\":true,\"ac\":\"b\",\"b\":\"\",\"a\":\"\"}\n",
      "[false,71,{\"b\":true,\"a\":false,\"\":false},[false]]\n",
      "[{\"a\":{\"c\":true},\"\":0}]\n",
      "{\"\":{\"\":6}}\n",
      "{\"bcc\":\"a\",\"\":false}\n",
      "[[\"\",{\"\":true}],[[],[]],true]\n",
      "{\"\":{}}\n",
      "{\"\":\"ab\"}\n",
      "{\"c\":\"\",\"\":false,\"bc\":true}\n",
      "{\"bbaa\":1,\"\":[]}\n",
      "[{\"\":\"\",\"b\":\"\"}]\n",
      "{\"\":true,\"cb\":\"aa\",\"c\":false,\"b\":true}\n",
      "[{\"\":false,\"b\":true,\"a\":true,\"b\":false},\"c\"]\n",
      "{\"bc\":false,\"a\":{},\"\":\"b\",\"c\":[null]}\n",
      "{\"\":\"abb\"}\n",
      "{\"ca\":{\"b\":{},\"b\":false},\"\":6}\n",
      "[true,\"\",[[{\"\":true},false],null],{}]\n",
      "{\"\":\"cbb\"}\n",
      "{\"c\":{\"c\":true,\"c\":false,\"c\":true,\"a\":false},\"a\":true,\"a\":false,\"\":\"\",\"a\":[],\"a\":false,\"a\":false,\"a\":true}\n",
      "{\"\":false,\"a\":\"\",\"cc\":6}\n",
      "{\"\":3}\n",
      "[[[{\"\":true},null],[],[]]]\n",
      "[{\"b\":\"\",\"a\":false},[[{\"\":true},null],false]]\n",
      "{\"\":\"\",\"ab\":false,\"c\":1,\"c\":true,\"a\":true}\n",
      "[{\"a\":[],\"a\":[]},[[{\"\":false},null],false,true],[]]\n",
      "[{\"\":2,\"b\":{},\"c\":true}]\n",
      "[\"\",{\"\":\"\"},0]\n",
      "{\"\":true}\n",
      "[[{\"\":true,\"a\":true},[],false,false,true]]\n",
      "{\"\":false,\"b\":true}\n",
      "{\"\":[\"\",{}]}\n",
      "{\"b\":02,\"\":094}\n",
      "[[null,false,{\"\":false}]]\n",
      "{\"\":[],\"aa\":true}\n",
      "{\"b\":[],\"\":\"a\"}\n",
      "[5614,true,[{\"\":true}]]\n",
      "[{\"\":\"\"},true,true]\n",
      "[null,[null,false,false,true],{\"\":false}]\n",
      "{\"\":5,\"a\":0}\n",
      "{\"\":[[false]]}\n",
      "{\"\":\"cab\",\"b\":false,\"aa\":false}\n",
      "[[{\"\":true}]]\n",
      "[[null,[{\"\":false}]],8]\n",
      "[[false,[{\"\":true},null]],{\"c\":false,\"b\":false,\"b\":false,\"a\":true}]\n",
      "{\"\":9,\"aac\":{\"b\":true},\"ca\":false,\"b\":\"\"}\n",
      "{\"\":7,\"c\":{\"b\":true,\"a\":false}}\n",
      "[\"\",8,[{\"\":true}],null]\n",
      "{\"\":{},\"a\":\"b\"}\n",
      "{\"a\":5,\"a\":false,\"\":2,\"b\":true}\n",
      "[[{\"\":false,\"a\":true}]]\n",
      "[[[{\"\":true},null]],[]]\n",
      "{\"\":{},\"a\":{\"a\":false},\"b\":[true,false]}\n",
      "[false,[\"\"],{\"\":true}]\n",
      "{\"\":6}\n",
      "[[{\"\":true},true,\"\"],9]\n",
      "[[[{\"\":true},true],true]]\n",
      "[null,null,false,94,{},[{\"\":false},true],true]\n",
      "[[[{\"\":false}]]]\n",
      "{\"\":[],\"bb\":\"ca\",\"ab\":0}\n",
      "{\"\":{},\"cca\":1,\"b\":true}\n",
      "[false,{\"\":{},\"b\":true,\"b\":true,\"b\":false},[]]\n",
      "{\"aab\":1,\"a\":[[]],\"\":true}\n",
      "{\"\":true,\"a\":false}\n",
      "[{\"c\":{},\"\":true,\"a\":true,\"b\":true},\"cb\"]\n",
      "{\"ca\":{},\"\":true,\"ca\":35,\"c\":\"\",\"c\":false,\"a\":true}\n",
      "[[[{\"\":true}]]]\n",
      "[[\"\",true,[{\"\":true},true],false]]\n",
      "[{\"\":3,\"a\":6,\"b\":false,\"a\":false,\"b\":true},true]\n",
      "[[0,{\"\":false},null],{}]\n",
      "{\"\":8,\"ac\":true,\"c\":false}\n",
      "[{\"c\":false,\"\":[]}]\n",
      "[{\"\":\"\"},null]\n",
      "{\"\":true,\"c\":2,\"aa\":[]}\n",
      "{\"\":[]}\n",
      "{\"\":true,\"c\":9,\"ac\":true}\n",
      "[{\"\":6}]\n",
      "[{\"a\":true,\"a\":[],\"\":true,\"b\":true}]\n",
      "[{\"b\":[null],\"\":true,\"c\":true},false]\n",
      "[{\"\":true,\"c\":5,\"b\":false}]\n",
      "{\"\":{\"\":\"\",\"\":true,\"\":false}}\n",
      "[9,false,[{\"\":true}]]\n",
      "{\"cb\":8,\"\":[null],\"a\":false,\"c\":4,\"b\":{}}\n",
      "[{\"\":true,\"b\":6}]\n",
      "[false,{\"\":false,\"c\":false}]\n",
      "{\"\":{\"\":false,\"\":false},\"cab\":{},\"b\":59,\"c\":{\"a\":true}}\n",
      "[[{\"c\":true,\"\":true},true],null,true]\n",
      "{\"\":[],\"c\":[]}\n",
      "[{\"b\":false,\"\":\"\",\"c\":true}]\n",
      "[{\"\":false},476,[],false,{}]\n",
      "[{\"\":\"\",\"b\":true,\"c\":true}]\n",
      "{\"\":{},\"b\":[]}\n",
      "{\"\":35}\n",
      "[null,[true,{\"\":false}],8,false,false,true]\n",
      "{\"cb\":true,\"\":{\"\":true,\"\":false},\"ca\":[false],\"a\":false,\"a\":false}\n",
      "{\"cb\":[{},null,false,true],\"cbb\":{\"c\":true},\"\":[null,false]}\n",
      "[true,{\"c\":false},{},{\"\":true}]\n",
      "{\"\":15}\n",
      "[true,[null,[{\"\":false}],null,true]]\n",
      "{\"\":{\"\":true},\"cb\":{\"c\":true},\"bc\":\"a\",\"b\":\"\",\"b\":false,\"a\":true}\n",
      "[[23,{\"b\":true}],{\"a\":0,\"\":true,\"b\":false},\"ba\"]\n",
      "[[[],9,null,{\"\":false},false],null,\"\",{\"c\":false}]\n",
      "{\"\":7,\"c\":false}\n",
      "[[{\"\":false,\"b\":true}]]\n",
      "{\"bbbb\":{\"a\":[]},\"\":[]}\n",
      "[true,[[{\"\":false},null]]]\n",
      "[{},[4,{\"\":false},true,true],3,false,{}]\n",
      "{\"b\":{\"a\":8},\"\":\"cc\",\"cb\":{}}\n",
      "{\"\":5790,\"ca\":true,\"ac\":2}\n",
      "[\"ba\",\"\",[[{\"\":true}],false,null],{\"b\":false},[]]\n",
      "[[[{\"\":true}]],\"aac\",true,false]\n",
      "{\"\":4,\"b\":false,\"bb\":false,\"b\":[]}\n",
      "[7,{\"b\":[],\"c\":true},\"\",{},{\"\":false},9]\n",
      "[{\"b\":\"\",\"\":\"\",\"a\":true,\"b\":false}]\n",
      "[[\"c\",{\"\":false},{}]]\n",
      "{\"\":{\"\":3}}\n",
      "[0,[],null,{\"c\":false,\"\":false}]\n",
      "[[\"c\"],[{\"\":true}]]\n",
      "[[false],[{},[{\"\":false}]],false,\"c\",{\"b\":false}]\n",
      "[\"\",null,2,{\"b\":false,\"\":false},8,7]\n",
      "{\"\":\"\",\"b\":{\"a\":false,\"a\":false,\"a\":false}}\n",
      "[false,[[{\"\":false}]],266,{\"a\":true,\"a\":false}]\n",
      "[[[{\"\":true},true]]]\n",
      "{\"\":\"bca\",\"cc\":{\"a\":true},\"b\":[false,null]}\n",
      "[53,{},[{\"\":false}],[null,true],\"\",9,false,null]\n",
      "{\"a\":\"c\",\"\":6,\"c\":{\"c\":false}}\n",
      "[\"\",{\"\":true,\"c\":true,\"b\":true},[{}],true,\"\"]\n",
      "[[{\"\":true,\"c\":true},[]],\"\",{\"a\":false,\"c\":true,\"a\":false},false]\n",
      "{\"a\":true,\"\":{}}\n",
      "[{\"\":true,\"b\":{}},false]\n",
      "[false,{\"\":{}},[],7,{},1]\n",
      "[[{\"\":false,\"c\":true},null],\"a\",null,null,null]\n",
      "{\"\":403,\"aaa\":0,\"cc\":\"\"}\n",
      "{\"a\":[],\"bca\":[{}],\"\":false}\n",
      "[[{\"\":true,\"b\":false},false]]\n",
      "{\"\":false,\"ca\":{}}\n",
      "[{\"\":3,\"c\":0,\"c\":true},false]\n",
      "{\"bba\":9,\"\":{},\"aa\":4,\"c\":true}\n",
      "{\"\":6,\"c\":false,\"b\":\"c\"}\n",
      "[[10,[{\"\":false}]]]\n",
      "[[{}],[[{\"\":true}],true]]\n",
      "{\"\":true,\"c\":true,\"ba\":[]}\n",
      "[{\"a\":true,\"\":{}},7,\"c\"]\n",
      "{\"aa\":true,\"\":false,\"cc\":3,\"a\":false}\n",
      "{\"cbaa\":[\"\"],\"cca\":{},\"aa\":{},\"\":false,\"b\":{},\"a\":true,\"b\":true}\n",
      "[{\"\":{\"\":false,\"\":false,\"\":false}}]\n",
      "[{\"\":3},6]\n",
      "{\"\":8,\"cb\":[[],null,false],\"c\":true,\"b\":{\"a\":true},\"b\":[],\"b\":true}\n",
      "[[[{\"\":false}],{\"a\":false}],[1],false,[]]\n",
      "{\"\":8,\"aaa\":false}\n",
      "[{\"\":{}},false,false]\n",
      "[6,{\"b\":0,\"\":false}]\n",
      "[{\"\":false,\"a\":false}]\n",
      "{\"\":[true],\"ab\":false}\n",
      "{\"cbbb\":{},\"\":323}\n",
      "[{\"\":false}]\n",
      "[{\"a\":false,\"\":{}}]\n",
      "{\"a\":[],\"a\":{},\"aa\":\"b\",\"\":true,\"a\":false}\n",
      "{\"\":[null,{},true]}\n",
      "[{\"b\":true,\"\":true,\"a\":true,\"b\":false}]\n",
      "[false,[[{\"\":true},null],0,false,true]]\n",
      "{\"\":4,\"ac\":\"\",\"b\":false,\"b\":false}\n",
      "[true,{\"a\":\"\",\"\":false,\"b\":true}]\n",
      "{\"\":[],\"c\":{\"c\":false},\"cb\":false,\"b\":\"\"}\n",
      "[[null,\"\",{\"\":false},false,null],true]\n",
      "[{\"\":3},[false]]\n",
      "{\"c\":false,\"c\":[[]],\"\":[],\"a\":{}}\n",
      "{\"\":false,\"a\":9}\n",
      "{\"accb\":{\"c\":[],\"c\":true,\"a\":false,\"b\":true},\"\":45,\"ac\":false,\"c\":[],\"c\":[],\"c\":false}\n",
      "{\"\":\"\",\"bb\":false,\"b\":true,\"b\":{\"b\":true},\"a\":false}\n",
      "{\"\":true,\"c\":\"\",\"b\":[],\"c\":true,\"b\":false}\n",
      "[[[{\"\":false}],false],null,[]]\n",
      "[[{\"c\":true,\"\":true},false,true,true,false],[]]\n",
      "{\"a\":[\"\"],\"aac\":\"\",\"b\":\"a\",\"\":4,\"c\":true,\"b\":true}\n",
      "{\"cba\":false,\"ba\":\"\",\"\":true}\n",
      "{\"\":\"cba\",\"aa\":true,\"b\":[],\"c\":true,\"c\":false,\"a\":true}\n",
      "[[[{\"\":false},null]],null,[],false]\n",
      "{\"cb\":1,\"b\":false,\"\":{},\"c\":[false],\"a\":[],\"c\":true}\n",
      "[[\"b\",false,false,true,false],\"\",{\"\":false}]\n",
      "{\"\":6,\"c\":true}\n",
      "[[[null,{\"\":false},null],\"\"]]\n",
      "{\"\":[\"\"],\"a\":false}\n",
      "[false,{\"c\":\"\",\"\":false,\"b\":false},\"\"]\n",
      "{\"\":\"\",\"c\":false}\n",
      "{\"\":true,\"bcb\":false,\"cc\":{}}\n",
      "{\"\":\"bbc\"}\n",
      "{\"\":[null],\"b\":[],\"ba\":[true]}\n",
      "{\"\":7,\"a\":5,\"b\":[true,true],\"c\":[],\"b\":\"\"}\n",
      "{\"b\":false,\"\":{\"\":false,\"\":false},\"aa\":[]}\n",
      "[0,null,{\"\":false,\"a\":false},[]]\n",
      "[\"\",2,[{\"\":true},false]]\n",
      "{\"bb\":942,\"a\":true,\"\":\"\"}\n",
      "{\"\":{},\"bba\":\"\",\"bb\":7,\"a\":[]}\n",
      "{\"a\":false,\"\":false}\n",
      "[[null,true,{},false,{\"\":false},true],[]]\n",
      "{\"\":\"c\",\"aab\":77,\"c\":[true,null],\"b\":true,\"b\":8}\n",
      "{\"b\":false,\"\":[],\"ba\":{}}\n",
      "{\"b\":\"\",\"\":\"a\",\"cb\":[false,true]}\n",
      "[{\"\":\"\",\"b\":false},3]\n",
      "{\"\":[[]],\"ca\":false}\n",
      "{\"b\":[],\"\":true}\n",
      "[{\"a\":\"\",\"\":false,\"a\":false,\"a\":false,\"a\":false}]\n",
      "{\"\":\"\",\"ca\":true,\"ba\":[true,true]}\n",
      "{\"bac\":[true],\"\":[false],\"c\":{},\"a\":true,\"a\":false}\n",
      "[[{\"\":false,\"b\":true}],\"\"]\n",
      "{\"\":90,\"ca\":[]}\n",
      "{\"ac\":true,\"a\":true,\"\":true,\"b\":{}}\n",
      "[43,{\"\":false},[]]\n",
      "[true,[null],{\"\":true,\"a\":false,\"a\":true},true]\n",
      "{\"\":{\"\":[],\"\":true}}\n",
      "[[{\"\":false,\"b\":false}],{\"b\":true,\"a\":true,\"a\":true},{\"a\":true},null]\n",
      "[\"\",8,{},{\"b\":true,\"\":false}]\n",
      "[null,true,1,{\"\":true},7,{},true,true]\n",
      "[[false,{\"\":false},true],{\"b\":[]}]\n",
      "{\"\":0,\"c\":[[]]}\n",
      "[{\"\":{}},null,\"ba\"]\n",
      "[{\"\":[],\"b\":6,\"b\":true}]\n",
      "[{\"c\":4,\"a\":{},\"a\":false,\"\":false,\"a\":false}]\n",
      "[\"aa\",[true,{\"\":true}]]\n",
      "[[{\"a\":true,\"\":true},{\"a\":true}]]\n",
      "[{\"\":false},899,false,false]\n",
      "{\"\":false,\"cba\":{},\"ab\":true}\n",
      "{\"\":true,\"cb\":true}\n",
      "[[false,true],\"\",[[{\"\":false},true]],[]]\n",
      "[{\"\":\"\"},{}]\n",
      "[null,[null,{\"\":false}],{},true,9,null,null,null]\n",
      "[8,{\"b\":[],\"\":false,\"c\":false}]\n",
      "[48,{\"a\":false,\"\":true}]\n",
      "[false,{\"\":[],\"a\":true},{\"b\":true,\"a\":false},null]\n",
      "{\"\":true,\"b\":{\"c\":false,\"c\":true}}\n",
      "[\"b\",9,false,9,[{\"\":false},null],null,false,null]\n",
      "[true,{\"\":true,\"a\":false},true,true,\"\",1]\n",
      "[[false,8,[{\"\":false}],true,false]]\n",
      "[{\"b\":{},\"a\":\"\",\"b\":false,\"\":true,\"b\":true},true,null,true]\n",
      "{\"bbba\":{\"a\":{}},\"\":970}\n",
      "[[null,[{\"\":true}],true,false]]\n",
      "[[],[[{\"\":false},true],true,false]]\n",
      "[[\"\"],55,[7,true,{\"\":false}],true,[false]]\n",
      "[{\"\":{\"\":true,\"\":false,\"\":false},\"b\":true,\"a\":true},{\"c\":\"\",\"b\":false,\"b\":true}]\n",
      "[[[true,{\"\":true},true],null,false],{\"a\":\"\",\"b\":true,\"c\":false},\"c\"]\n",
      "{\"\":false,\"c\":false}\n",
      "[{\"\":false,\"b\":[],\"c\":false},null,{\"a\":false},false]\n",
      "{\"ca\":false,\"\":\"\",\"bc\":\"b\"}\n",
      "[true,{\"c\":8,\"a\":false},{\"\":true,\"a\":false}]\n",
      "[[],[[{\"\":false},null],[],null,false]]\n",
      "[[[false,true],[{\"\":false},false]],\"c\",false]\n",
      "{\"\":\"\",\"ab\":7}\n",
      "{\"\":\"abb\",\"bc\":21,\"bb\":false}\n",
      "[{\"b\":\"\"},{},{\"\":true},\"\",false]\n",
      "[false,{\"\":{}},true,98]\n",
      "[6,[[{\"\":false},false],9,null],{\"c\":true}]\n",
      "{\"\":false,\"c\":[null],\"b\":true}\n",
      "[[\"c\",[{\"\":true}],null],{\"c\":false}]\n",
      "{\"baac\":false,\"c\":8,\"\":0,\"b\":\"\",\"c\":false}\n",
      "[[\"b\",\"\",{\"\":false},false],0,{\"a\":true,\"a\":true}]\n",
      "[[[{\"\":true},false]],null,[]]\n",
      "[{\"a\":{},\"b\":[],\"b\":true,\"\":false,\"a\":false},[[false]],true]\n",
      "[true,{\"b\":8,\"\":false}]\n",
      "{\"\":4,\"bca\":01}\n",
      "[[0,[{\"\":false}],{}],{},false]\n",
      "[05613,[false,[{\"\":false},null]]]\n",
      "[null,[true,null,true,{\"\":false},null]]\n",
      "{\"\":[],\"a\":[false,null],\"c\":\"\",\"a\":\"\"}\n",
      "[\"bab\",{\"\":{}},[{}]]\n",
      "{\"a\":\"aca\",\"ccc\":\"ab\",\"ba\":\"\",\"b\":{},\"\":[],\"a\":false}\n",
      "[{\"\":1,\"a\":7,\"a\":false,\"c\":true}]\n",
      "[[{\"\":true,\"b\":false},true],true,null]\n",
      "{\"\":\"cab\"}\n",
      "{\"\":true,\"cb\":6}\n",
      "{\"\":\"c\",\"a\":{\"b\":true,\"b\":true},\"bb\":\"b\",\"b\":[null]}\n",
      "{\"\":\"cb\"}\n",
      "[[{\"a\":false},[{\"\":false},null],null,false],\"a\",true,[]]\n",
      "{\"\":[],\"aa\":[\"\"]}\n",
      "{\"\":[7,false,false,false]}\n",
      "[{\"b\":\"\",\"\":4,\"b\":true,\"a\":true,\"a\":true},[6,true]]\n",
      "[[[null,{\"\":true}],false]]\n",
      "{\"\":true,\"a\":813,\"b\":true}\n",
      "[[[{\"\":false},null],false,null,true],45]\n",
      "[[[{\"\":false},false],null,null]]\n",
      "[{\"c\":7,\"c\":{},\"b\":true,\"a\":true,\"\":true},null]\n",
      "[{\"a\":\"\",\"b\":true,\"c\":false,\"\":true},false,\"\"]\n",
      "{\"\":{},\"abc\":true,\"ac\":[]}\n",
      "{\"ab\":\"b\",\"\":true,\"bb\":\"\"}\n",
      "{\"b\":8,\"\":{\"\":false},\"ab\":false}\n",
      "[true,{\"\":{},\"b\":false}]\n",
      "[\"\",[true,[{\"\":true}],true],[]]\n",
      "[[{\"\":true,\"c\":true},9]]\n",
      "[{\"c\":false,\"c\":0,\"a\":true,\"\":true,\"b\":false},\"\"]\n",
      "{\"\":false,\"cbb\":0}\n",
      "{\"\":{\"\":[],\"\":true},\"bab\":false,\"ca\":false}\n",
      "[1,null,{\"\":true}]\n",
      "{\"\":{\"\":true}}\n",
      "{\"c\":6,\"\":953}\n",
      "[[[{\"\":true}]],7]\n",
      "[false,[],[{\"\":false},null,true]]\n",
      "{\"bbcc\":true,\"\":140}\n",
      "{\"\":\"baa\"}\n",
      "{\"\":true,\"b\":[],\"ab\":56}\n",
      "[[[false,{\"\":true},true]]]\n",
      "[{\"b\":true,\"\":[]},true,9]\n",
      "{\"\":[4,{},false,null],\"a\":\"c\",\"b\":\"c\"}\n",
      "[[[{\"\":false},true]]]\n",
      "[[{\"\":true},9],true,[]]\n",
      "{\"\":[true]}\n",
      "{\"\":false,\"bab\":{}}\n",
      "{\"cc\":525,\"\":{\"\":true}}\n",
      "[[[true,{\"\":true},false],true,false,false]]\n",
      "[[[{\"\":true},false],{\"b\":true}],true]\n",
      "{\"ca\":true,\"c\":true,\"\":18,\"c\":true}\n",
      "{\"\":\"\",\"baa\":false}\n",
      "[false,{},[{\"\":false}],[],[false]]\n",
      "[[\"\",[],{\"\":false}]]\n",
      "[null,[{\"\":false}],51]\n",
      "[[],{\"c\":true,\"\":false}]\n",
      "[{\"\":[true]}]\n",
      "[7,{\"\":{}}]\n",
      "{\"b\":true,\"\":{\"\":true,\"\":false}}\n",
      "{\"aaba\":\"\",\"a\":20,\"aa\":\"b\",\"b\":[null],\"\":false}\n",
      "[{\"c\":{},\"\":true,\"c\":true}]\n",
      "[{\"\":\"\",\"b\":false,\"b\":false}]\n",
      "{\"\":false,\"aa\":false,\"b\":false,\"a\":false}\n",
      "[[{\"b\":false,\"\":true}],53]\n",
      "[{\"\":{\"\":false}},\"\",true,0]\n",
      "[{\"\":{\"\":false,\"\":false}}]\n",
      "{\"bca\":[{},true,false,false],\"cba\":[2,true,false],\"a\":\"a\",\"\":{}}\n",
      "[[{\"\":false},false,[],true,null],null]\n",
      "{\"\":{},\"b\":7}\n",
      "{\"caa\":341,\"\":false,\"c\":{\"a\":false,\"a\":false}}\n",
      "[[[null,{\"\":false},null],4,{},false,true]]\n",
      "[[[{\"\":true},false]],[false],false,null,{}]\n",
      "{\"\":true,\"a\":[9,true]}\n",
      "[true,null,[],{},[{\"\":true}],[],null,true]\n",
      "[{\"\":\"\"},true,\"c\"]\n"
     ]
    },
    {
     "name": "stdout",
     "output_type": "stream",
     "text": [
      "{\"\":{\"\":3,\"\":false,\"\":true}}\n",
      "{\"\":{\"\":{}},\"ba\":false,\"bc\":false,\"b\":false}\n",
      "[\"\",\"\",[{},null,{\"\":true}],[]]\n",
      "[[[],{},\"\",{\"\":false}],true,false]\n",
      "[75,{\"\":{}},\"ba\",\"\"]\n",
      "{\"aaaa\":{},\"b\":{},\"cc\":\"\",\"\":\"\"}\n",
      "[[[false,{\"\":true}],true]]\n",
      "[{\"c\":false,\"\":true}]\n",
      "[false,[{},{}],[{\"\":false},true,true],false]\n",
      "[false,[[{\"\":false}],true,null]]\n",
      "{\"cbb\":{},\"c\":3,\"\":false}\n",
      "{\"\":14,\"bbc\":\"\",\"a\":false,\"c\":\"\"}\n",
      "{\"\":[true,true,false],\"ca\":[\"\",true,true]}\n",
      "[false,[],{\"\":true,\"b\":true,\"b\":true}]\n",
      "[[],{\"a\":{},\"b\":false,\"\":true}]\n",
      "{\"\":[null,{},true,false]}\n",
      "[\"c\",[[{\"\":true}],true,null,true]]\n",
      "[[false,[false]],[true,[{\"\":false}],true]]\n",
      "[{\"\":true},[],\"ba\"]\n",
      "{\"ac\":false,\"\":[],\"a\":false,\"b\":\"\"}\n",
      "{\"\":\"c\"}\n",
      "[[41,\"\",[],{\"\":true}]]\n",
      "[{\"\":[false]}]\n",
      "{\"c\":false,\"b\":false,\"bc\":\"a\",\"c\":{\"c\":false},\"\":[]}\n",
      "{\"b\":{},\"\":[]}\n",
      "[true,{\"\":false,\"b\":false}]\n",
      "{\"aac\":{},\"bb\":false,\"aa\":true,\"\":{},\"c\":false,\"c\":true}\n",
      "{\"cccc\":516,\"c\":[true,null,false],\"\":\"b\"}\n",
      "{\"aac\":[{\"c\":true}],\"a\":{\"c\":false,\"c\":false},\"\":\"c\"}\n",
      "{\"\":\"b\",\"a\":551}\n",
      "{\"\":1,\"c\":[true,false],\"ab\":false}\n",
      "[{\"c\":true,\"\":7},false]\n",
      "[true,{\"b\":{},\"\":true}]\n",
      "[{\"a\":{},\"c\":4},{\"b\":true,\"c\":true,\"b\":true,\"\":false},true]\n",
      "[[[true,{\"\":true},null],false],{},null,{},{},[]]\n",
      "{\"\":[9]}\n",
      "[true,{\"c\":{},\"\":true}]\n",
      "[true,[3,{},{\"\":false},null]]\n",
      "{\"\":{},\"b\":false,\"b\":true}\n",
      "{\"b\":false,\"\":true,\"c\":{\"b\":false},\"b\":false,\"a\":true,\"a\":false}\n",
      "{\"ca\":\"a\",\"\":35}\n",
      "{\"aa\":5,\"\":59}\n",
      "[{\"\":[]},\"aac\",null]\n",
      "{\"\":true,\"ba\":\"\"}\n",
      "[{\"b\":\"\",\"a\":false,\"c\":true,\"c\":true,\"\":true},\"\",[]]\n",
      "[{\"\":9,\"b\":[]},{\"a\":\"\",\"b\":true,\"b\":false},true,false]\n",
      "[[false],{\"c\":false,\"a\":true,\"a\":false,\"\":true}]\n",
      "[\"\",[{\"\":false}],\"a\",2]\n",
      "[5,{\"\":4,\"b\":false}]\n",
      "[null,{\"a\":{},\"\":true,\"b\":false},[]]\n",
      "[false,null,[{\"\":true},true,false],true,true,null]\n",
      "{\"ccb\":5,\"\":\"ab\",\"ac\":47}\n",
      "{\"\":false,\"a\":[]}\n",
      "{\"b\":false,\"\":\"ac\",\"c\":true,\"a\":0,\"a\":{}}\n",
      "[[{\"a\":false,\"\":true}],9,[]]\n",
      "[{\"\":{\"\":true,\"\":false,\"\":true},\"c\":{}},{\"c\":{},\"a\":true},null,true,false,\"\"]\n",
      "{\"\":\"ac\"}\n",
      "[[null,{},8,true,{\"\":false},null]]\n",
      "[\"\",true,{\"\":false}]\n",
      "[[[{\"\":false}],true],null]\n",
      "[{\"c\":true,\"\":[]},\"\"]\n",
      "{\"\":27,\"a\":\"ba\",\"b\":true}\n",
      "[{\"b\":5,\"\":false,\"a\":false,\"b\":true},null]\n",
      "{\"\":\"cb\",\"b\":\"bb\"}\n",
      "[{\"\":false,\"c\":\"\"}]\n",
      "[7,{\"\":9,\"c\":true},\"b\",4,false]\n",
      "[[[{\"\":false},false],[]],false,6,true,\"\"]\n",
      "[[{\"\":false},{}]]\n",
      "[5,false,[\"\",true,{\"\":false}],{},true,4]\n",
      "[false,[{},{\"\":true},null],110]\n",
      "{\"c\":true,\"a\":false,\"ba\":false,\"\":8,\"c\":false}\n",
      "{\"\":{\"\":\"\",\"\":true,\"\":true,\"\":true}}\n",
      "[[{\"\":false,\"c\":false}]]\n",
      "{\"\":\"bc\",\"bca\":{\"b\":false,\"c\":false,\"b\":false},\"cb\":{\"a\":true},\"b\":[false],\"a\":false,\"a\":true,\"a\":false}\n",
      "[[null,[{\"\":false},false]]]\n",
      "{\"\":false,\"cba\":[]}\n",
      "{\"a\":false,\"aba\":\"a\",\"\":[false,null],\"a\":true,\"a\":[],\"c\":true}\n",
      "[{\"b\":{},\"\":false},\"a\",\"\",true]\n",
      "{\"bb\":3,\"aa\":\"a\",\"\":83,\"b\":false}\n",
      "[[[{\"\":true},false]],false]\n",
      "{\"\":false,\"bbb\":true}\n",
      "[[[true,{\"\":false},true]],[],null,45,true]\n",
      "[[[{\"\":true},null],true]]\n",
      "[[{\"\":false,\"a\":true},{\"a\":true},\"\"]]\n",
      "[{\"\":1},\"cc\",true,{}]\n",
      "[[[false,true],[{\"\":false}]]]\n",
      "[{\"\":[]}]\n",
      "{\"\":\"bbc\",\"cca\":true}\n",
      "{\"cb\":true,\"\":[true,true,false]}\n",
      "{\"\":false,\"ac\":true}\n",
      "[{},{\"\":false}]\n",
      "[true,[[{\"\":false}],null,null]]\n",
      "{\"\":[true],\"bc\":\"\",\"c\":\"\"}\n",
      "{\"cab\":{},\"\":\"\",\"b\":false,\"c\":{}}\n",
      "[{\"\":{\"\":true,\"\":false},\"c\":\"\"},1]\n",
      "{\"cbaa\":\"\",\"c\":[],\"\":\"b\"}\n",
      "{\"\":[],\"c\":false}\n",
      "[null,{\"\":true}]\n",
      "{\"a\":\"\",\"bc\":true,\"\":true}\n",
      "{\"a\":9,\"\":\"aa\"}\n",
      "[[{\"\":false,\"c\":true}]]\n",
      "[[{\"\":false}]]\n",
      "{\"\":34,\"a\":\"c\"}\n",
      "[[[{\"\":true},true],9,false],false]\n",
      "{\"b\":true,\"bc\":[false,true,null],\"\":1}\n",
      "[[{\"\":true},null,[],null],[]]\n",
      "[[true,[null],[{\"\":false}]],\"a\"]\n",
      "{\"\":[true,{}],\"cc\":{\"c\":false}}\n",
      "{\"\":2,\"b\":\"\",\"bb\":01}\n",
      "{\"\":\"\",\"acb\":false,\"a\":true,\"a\":true,\"b\":1}\n",
      "{\"\":false,\"b\":532}\n",
      "[60,{\"c\":[],\"b\":false,\"c\":false,\"\":false},{}]\n",
      "[{},{},true,{\"b\":false,\"\":true},{\"b\":false}]\n",
      "{\"aa\":0,\"ab\":false,\"\":true,\"c\":true,\"b\":true,\"c\":false}\n",
      "[[[null,{\"\":true},false]],false]\n",
      "[false,7900,{\"\":true,\"b\":false}]\n",
      "[{\"a\":false,\"\":0,\"b\":false}]\n",
      "{\"cba\":false,\"\":\"\",\"c\":false}\n",
      "{\"ac\":\"b\",\"\":\"ab\"}\n",
      "[true,{\"\":false}]\n",
      "[[{\"a\":true,\"\":true}]]\n",
      "[{\"b\":true,\"\":2},null,1,{\"c\":false}]\n",
      "{\"b\":true,\"\":\"c\",\"b\":\"\"}\n",
      "[[[false],[{\"\":false}]],{},3]\n",
      "{\"\":[\"\",true,true],\"c\":[null]}\n",
      "[[{\"\":true,\"b\":false},null]]\n",
      "{\"cccc\":[],\"\":\"a\"}\n",
      "{\"\":\"bba\"}\n",
      "{\"bacc\":{},\"ba\":2,\"\":\"\"}\n",
      "[{\"\":\"\",\"c\":{}}]\n",
      "[[{\"\":true},false,1]]\n",
      "[{\"\":[null],\"c\":true},false,null]\n",
      "[[[{\"\":false},null]],8]\n",
      "{\"b\":true,\"a\":[false,null,true],\"a\":false,\"\":1,\"a\":false}\n",
      "{\"b\":false,\"bc\":[],\"\":[]}\n",
      "[{\"b\":true,\"c\":\"\",\"\":true,\"c\":true,\"c\":true}]\n",
      "{\"ac\":[null],\"c\":true,\"\":[true,null],\"c\":false,\"a\":8,\"b\":true,\"b\":true,\"a\":false}\n",
      "{\"\":[],\"c\":\"ac\"}\n",
      "[false,[[{\"\":true},false]]]\n",
      "[false,{\"b\":\"\",\"\":false}]\n",
      "{\"\":24,\"cba\":3}\n",
      "[{\"\":{}},47,{\"c\":false,\"b\":false},[],\"\"]\n",
      "{\"\":97,\"c\":true}\n",
      "[[{\"c\":false},{\"\":false},{}]]\n",
      "{\"aa\":{},\"\":[null,null]}\n",
      "[false,{\"b\":false,\"\":true,\"c\":true}]\n",
      "{\"c\":\"\",\"acb\":true,\"\":\"\",\"c\":false,\"b\":false}\n",
      "{\"\":\"\",\"a\":129,\"ba\":true}\n",
      "{\"\":{},\"cb\":true}\n",
      "[[\"\",[{\"\":false},false]]]\n",
      "[{\"\":4}]\n",
      "[null,[true,{\"\":true}]]\n",
      "{\"a\":643,\"\":[{},false,true],\"a\":\"\",\"a\":2}\n",
      "{\"\":{\"\":true},\"c\":[{}],\"bc\":true}\n",
      "{\"a\":{\"b\":true},\"\":8,\"b\":60}\n",
      "{\"\":true,\"a\":170}\n",
      "{\"\":{},\"bcc\":\"\"}\n",
      "[{\"\":5,\"c\":[],\"b\":true,\"c\":false,\"b\":false}]\n",
      "{\"\":false,\"bcb\":true,\"bc\":[]}\n",
      "[{\"\":\"\"},[null,[],true,true]]\n",
      "{\"abab\":{\"b\":5},\"\":false}\n",
      "{\"bca\":[{},null],\"\":\"\"}\n",
      "{\"\":850}\n",
      "[[false,[{\"\":false},false]]]\n",
      "{\"\":[[]],\"b\":\"\",\"bc\":[],\"b\":3}\n",
      "{\"bcaa\":{\"c\":6},\"\":[\"\",false,false]}\n",
      "[{\"\":{},\"c\":{},\"a\":true,\"c\":true},{}]\n",
      "[{\"a\":[false],\"b\":\"\",\"b\":false,\"c\":false,\"\":true},\"ca\"]\n",
      "[[{\"\":true,\"a\":false},false,false],null]\n",
      "{\"\":116,\"ccc\":[null],\"cb\":{\"a\":true,\"c\":true},\"c\":true}\n",
      "[[{\"\":false,\"c\":true}],{\"c\":false},{\"b\":true,\"b\":true,\"c\":true}]\n",
      "{\"b\":false,\"\":false,\"a\":{\"a\":false}}\n",
      "[{\"\":false,\"c\":[],\"c\":true}]\n",
      "{\"a\":\"bba\",\"\":true,\"b\":[],\"a\":false,\"a\":5}\n",
      "{\"a\":false,\"\":true}\n",
      "[[null,9,[{\"\":true},null],true],[],{\"a\":false,\"b\":true}]\n",
      "{\"\":true,\"c\":5}\n",
      "[[true,[{\"\":false},null]]]\n",
      "{\"a\":false,\"b\":968,\"aa\":[false],\"\":true}\n",
      "{\"\":\"\",\"bb\":[\"\"],\"a\":9}\n",
      "{\"\":577,\"b\":[],\"a\":42,\"b\":false,\"a\":{},\"c\":false,\"c\":false}\n",
      "[{\"\":{\"\":false}}]\n",
      "[[{\"\":true,\"a\":true},\"\"]]\n",
      "{\"\":8,\"ab\":\"ab\",\"b\":true,\"c\":false}\n",
      "[{\"a\":{\"c\":false},\"a\":true,\"a\":false,\"\":true}]\n",
      "[{\"b\":7,\"\":5}]\n",
      "{\"b\":\"\",\"b\":true,\"\":false,\"c\":true}\n",
      "{\"aa\":true,\"\":true}\n",
      "{\"\":{},\"b\":{\"a\":false,\"a\":true},\"a\":true}\n",
      "[[{\"b\":true,\"\":false}],{},false,[]]\n",
      "{\"c\":32,\"b\":1,\"a\":[null,null],\"a\":2,\"b\":false,\"c\":false,\"a\":true,\"\":true}\n",
      "{\"\":[2,{}]}\n",
      "{\"\":false,\"baa\":5}\n",
      "{\"\":77,\"ccb\":false,\"ab\":70,\"b\":1,\"b\":true,\"c\":false}\n",
      "[\"\",null,[[{\"\":false}]],false]\n",
      "{\"cb\":[],\"\":false}\n",
      "{\"a\":false,\"ab\":{},\"\":61,\"b\":true}\n",
      "[true,[[{\"\":true}]]]\n",
      "[846,{},{\"\":false}]\n",
      "[[true,null,false],{\"b\":false,\"\":true}]\n",
      "{\"ca\":9,\"\":true,\"bb\":true}\n",
      "[[[{\"\":true},null],false]]\n",
      "{\"\":406}\n",
      "[null,{\"\":5}]\n",
      "[{\"\":0,\"c\":true}]\n",
      "[{\"\":\"\"},\"\",false]\n",
      "{\"\":{},\"caa\":{\"b\":true}}\n",
      "[{\"b\":{\"c\":false},\"b\":true},{\"\":true,\"a\":true}]\n",
      "[{\"\":false,\"a\":true,\"b\":false,\"c\":true}]\n",
      "{\"ac\":true,\"\":false}\n",
      "{\"\":1}\n",
      "{\"c\":{\"b\":true,\"a\":false},\"\":{\"\":false},\"ba\":2}\n",
      "[\"b\",null,{\"\":true},{\"a\":false,\"c\":true}]\n",
      "{\"\":23,\"ca\":false}\n",
      "{\"bccc\":\"c\",\"\":false,\"aa\":[],\"b\":{},\"c\":true,\"b\":false,\"a\":true}\n",
      "[{\"b\":6,\"\":true},\"a\"]\n",
      "{\"\":false,\"cc\":\"\"}\n",
      "[[[{\"\":false}]],false]\n",
      "{\"a\":{\"c\":false,\"c\":true},\"\":592,\"bc\":false}\n",
      "[true,null,{\"\":false},null]\n",
      "[[[false,{\"\":true},true],null]]\n",
      "[{\"a\":[]},true,[{\"\":false},null,true],[]]\n",
      "[[],\"c\",false,{\"\":false,\"b\":true},{\"c\":true}]\n",
      "[{\"\":true,\"c\":false,\"c\":true},\"\",\"ac\",null,4]\n",
      "{\"\":\"\",\"bbb\":\"\"}\n",
      "{\"c\":\"ab\",\"c\":false,\"\":false,\"b\":\"\",\"a\":\"\"}\n",
      "{\"ca\":true,\"\":[]}\n",
      "[[[{\"\":true},true],null,null],false,true]\n",
      "{\"\":\"ccc\"}\n",
      "[[{\"\":true},[]]]\n",
      "[[[{\"\":false},null],0],{\"b\":false},\"\",59,true]\n",
      "[{\"\":false,\"c\":true,\"a\":false}]\n",
      "[[[{\"\":true},false],true,false],false]\n",
      "{\"\":true,\"c\":3,\"ab\":[]}\n",
      "{\"\":{\"\":\"\",\"\":true,\"\":true}}\n",
      "[{\"\":\"\"},false]\n",
      "[6,true,{\"\":true,\"b\":false},\"a\"]\n",
      "{\"a\":\"c\",\"\":false,\"bb\":\"\"}\n",
      "{\"\":false,\"ab\":29,\"b\":{},\"c\":\"\"}\n",
      "[{\"a\":3,\"\":8,\"a\":true,\"b\":false,\"a\":true},null]\n",
      "{\"\":\"\",\"b\":true,\"bc\":{},\"b\":5}\n",
      "{\"\":[],\"bc\":{},\"cb\":false}\n",
      "{\"\":\"a\"}\n",
      "{\"\":{\"\":[]}}\n",
      "[[[{\"\":false}]],true,\"\"]\n",
      "[{\"a\":\"\",\"b\":{},\"b\":false},8,\"cc\",[true,{\"\":false}],false]\n",
      "[{\"\":{},\"c\":0,\"b\":false},[]]\n",
      "{\"\":{},\"b\":\"\"}\n",
      "[true,{\"\":7,\"a\":false,\"c\":true,\"a\":false},null,null]\n",
      "{\"aaa\":false,\"\":true,\"b\":\"b\"}\n",
      "[63,[false],\"c\",[{\"\":false},true]]\n",
      "{\"b\":{\"b\":{},\"a\":false},\"\":false}\n",
      "[[{\"c\":false,\"\":true}],true]\n",
      "[[{\"\":false},[false],[],false]]\n",
      "[{\"b\":{},\"c\":{},\"a\":false,\"c\":true,\"c\":true},{\"\":\"\"},false]\n",
      "[[{},[{\"\":true},null],true],[{\"b\":true},\"\",null],\"\"]\n",
      "[{\"\":9},8385]\n",
      "[{},[[{\"\":true}],true,null],\"\",2]\n",
      "{\"a\":7112,\"\":[],\"aa\":\"\"}\n",
      "[false,\"\",[[{\"\":false},null]],false,true,true,true]\n",
      "[[1,[{\"\":true}],true,null]]\n",
      "{\"bb\":[],\"a\":\"c\",\"\":\"c\",\"c\":true}\n",
      "[{},{\"\":false},\"c\",70,{\"a\":true}]\n",
      "[{\"b\":true,\"\":{},\"c\":false}]\n",
      "{\"\":4,\"c\":true}\n",
      "[[\"c\",0,\"\",{\"\":false}]]\n",
      "{\"bc\":false,\"\":261,\"c\":false,\"a\":true}\n",
      "{\"\":\"\",\"ccc\":false}\n",
      "{\"\":6176}\n",
      "[{\"b\":{}},{\"\":{}}]\n",
      "[[true,{\"\":true}],true]\n",
      "{\"b\":\"\",\"c\":true,\"b\":false,\"\":9,\"a\":4}\n",
      "[{\"b\":true,\"\":\"\",\"c\":true}]\n",
      "[{\"\":false,\"b\":{},\"c\":false,\"b\":false,\"b\":false}]\n",
      "[true,false,[true,{\"\":false}]]\n",
      "{\"a\":\"\",\"\":true}\n",
      "{\"\":true,\"bbb\":\"b\",\"b\":false,\"a\":false,\"b\":false,\"b\":false}\n",
      "{\"\":true,\"b\":false}\n",
      "[{},true,[{\"\":false}],\"b\"]\n",
      "{\"cab\":1,\"\":[]}\n",
      "[{\"\":[],\"a\":[],\"c\":true},\"\",{\"a\":false,\"c\":false},true]\n",
      "{\"ac\":[{\"c\":false}],\"\":true}\n",
      "[\"\",null,null,[null,{\"\":true},false]]\n",
      "[[null,[{\"\":false}]]]\n",
      "{\"c\":true,\"\":{}}\n",
      "{\"\":\"aba\",\"c\":[\"\"],\"a\":54,\"b\":5,\"a\":true}\n",
      "{\"\":[[],[]]}\n",
      "[{\"a\":5,\"b\":[],\"c\":false,\"\":false,\"c\":false}]\n",
      "{\"\":{},\"bcc\":\"bb\"}\n",
      "[true,{\"c\":true,\"b\":true},[],[],[{\"\":false},true],{},null]\n",
      "{\"\":true,\"c\":\"\",\"a\":{\"b\":true}}\n",
      "{\"\":[],\"bb\":\"ac\"}\n",
      "[{\"b\":9,\"\":true,\"b\":false,\"a\":true},{}]\n",
      "{\"\":true,\"a\":72}\n",
      "[[{\"c\":false,\"\":true}]]\n",
      "[{\"b\":[false],\"c\":6,\"b\":false,\"\":true,\"a\":false}]\n",
      "{\"b\":false,\"\":\"b\"}\n",
      "{\"aaaa\":\"\",\"\":[]}\n",
      "[6,[[],{\"\":false},null],\"cc\"]\n",
      "[[[{\"\":false}],{}],null,[{}],null,\"\",true]\n",
      "[false,[false,3,null,{\"\":true}],5,[true],true]\n",
      "{\"\":\"\",\"abb\":[],\"bc\":[null,false]}\n",
      "{\"bb\":true,\"\":348}\n",
      "{\"a\":true,\"cba\":false,\"\":[null,null]}\n",
      "{\"bb\":37,\"\":\"\"}\n",
      "[{\"\":7}]\n",
      "{\"ac\":[],\"\":\"\",\"c\":\"b\",\"a\":false,\"a\":{},\"c\":true}\n",
      "{\"c\":true,\"bc\":false,\"b\":81,\"b\":6,\"\":\"\"}\n",
      "{\"bccb\":true,\"a\":[{},true,null],\"\":80}\n",
      "[{\"\":{\"\":true,\"\":true},\"b\":false,\"b\":false,\"c\":true}]\n",
      "{\"\":[8],\"acb\":{},\"a\":7}\n",
      "[{\"a\":{},\"\":\"\"},true,\"a\"]\n",
      "{\"\":[false,true]}\n",
      "[true,[[{\"\":false}],\"\",null]]\n",
      "{\"\":\"c\",\"a\":[true]}\n",
      "{\"\":false,\"cc\":0}\n",
      "[[{\"c\":false,\"b\":true},7,null,{\"\":false},true]]\n",
      "[{\"\":false},6,[false,null]]\n",
      "[{\"\":false,\"b\":\"\",\"a\":false,\"b\":true},\"c\",true]\n",
      "{\"\":false,\"a\":false}\n",
      "[{},{\"\":\"\",\"c\":true}]\n",
      "[8,4760,[{\"\":false},null,null]]\n",
      "[{},false,\"cc\",null,{\"\":true},6]\n",
      "[[true,{\"\":false},true],\"a\",[null,null],\"\"]\n",
      "{\"\":5,\"a\":\"b\",\"b\":false}\n",
      "[{\"\":[true],\"c\":[]},5]\n",
      "[[{\"a\":false,\"\":false}]]\n",
      "{\"\":[[],[],null,false]}\n",
      "{\"\":false,\"aba\":[\"\",true],\"a\":false}\n",
      "[[{\"\":false,\"c\":false}],\"\"]\n",
      "{\"\":\"\",\"bcb\":\"\"}\n"
     ]
    },
    {
     "name": "stdout",
     "output_type": "stream",
     "text": [
      "{\"c\":{},\"\":false,\"c\":true}\n",
      "{\"\":false,\"c\":\"cc\"}\n",
      "{\"aa\":\"a\",\"\":{}}\n",
      "[[[false,{\"\":false},false],false,9,false,null],false,[\"\",false,null]]\n",
      "[{\"\":[],\"a\":false}]\n",
      "{\"b\":true,\"ca\":\"ca\",\"\":{\"\":true,\"\":true},\"c\":3}\n",
      "[{\"\":true,\"b\":\"\",\"b\":false,\"b\":true},[false,{}]]\n",
      "[{\"c\":true},true,{\"\":false}]\n",
      "{\"c\":true,\"c\":true,\"\":false}\n",
      "[[{\"\":true,\"c\":false},[]],9,[9]]\n",
      "[{\"b\":{}},[\"\",[],{\"\":true}],{\"b\":false}]\n",
      "[[[{\"\":true},null]]]\n",
      "[1,[],[[{\"\":true},false]]]\n",
      "{\"a\":4581,\"\":00,\"bb\":{\"c\":false,\"a\":true}}\n",
      "{\"\":0}\n",
      "{\"abba\":false,\"\":[]}\n",
      "[476,\"b\",{\"\":false,\"b\":true,\"c\":false}]\n",
      "[{\"c\":false,\"\":\"\"},false,null,null]\n",
      "{\"aba\":true,\"\":true,\"c\":true}\n",
      "[null,{},null,\"a\",{\"\":true},\"\"]\n",
      "{\"b\":\"\",\"\":[{},null],\"bc\":false,\"b\":\"\"}\n",
      "[\"\",[[{\"\":false}]],{\"a\":true}]\n",
      "{\"bcab\":7936,\"\":[],\"c\":true,\"a\":2,\"b\":\"\",\"a\":true}\n",
      "{\"a\":17,\"c\":true,\"ac\":\"b\",\"\":true,\"a\":\"\"}\n",
      "{\"aac\":\"\",\"\":false,\"a\":{\"b\":true,\"a\":false}}\n",
      "{\"cb\":\"b\",\"c\":true,\"ca\":[],\"\":false}\n",
      "[[],[{\"\":true}]]\n",
      "{\"cab\":\"\",\"\":972}\n",
      "[{\"b\":\"\",\"\":false,\"c\":false},null]\n",
      "[\"ac\",{\"\":true,\"a\":false}]\n",
      "{\"\":[false]}\n",
      "[[{\"c\":false},{\"\":false}],[]]\n",
      "{\"\":485}\n",
      "[{\"\":true,\"c\":[],\"b\":false},null]\n",
      "[{\"\":{},\"b\":false,\"c\":false,\"c\":false,\"c\":false},\"\",null,null,false,{}]\n",
      "[null,[[{\"\":true},false]],null,null]\n",
      "{\"c\":\"b\",\"\":true,\"bc\":\"\"}\n",
      "[[[false,{\"\":true},false],false],\"ca\",\"\"]\n",
      "{\"ac\":2740,\"\":true}\n",
      "{\"\":\"b\"}\n",
      "[[{\"\":true,\"c\":false}]]\n",
      "{\"c\":false,\"\":false}\n",
      "[false,{\"\":3,\"c\":true},[{}],{}]\n",
      "{\"bc\":[],\"\":true}\n",
      "[[],{\"a\":[],\"\":true,\"b\":false,\"c\":false}]\n",
      "[true,{\"b\":false,\"\":false,\"c\":true}]\n",
      "[{\"\":false,\"c\":true}]\n",
      "{\"\":{\"\":false,\"\":false},\"ccb\":\"ca\",\"a\":false,\"a\":{\"a\":true},\"b\":true}\n",
      "[{\"\":[],\"b\":true,\"a\":false},false]\n",
      "[null,[true,\"\",{\"\":true}],true]\n",
      "[false,false,true,[{\"\":false}],7,[],false]\n",
      "[{\"\":[false]},{\"a\":[]},true,[false,null]]\n",
      "[{\"c\":{\"b\":false},\"a\":true},true,[{\"\":true}],5,false,\"\"]\n",
      "[false,[{\"\":true}]]\n",
      "[[{\"a\":true,\"\":false}]]\n",
      "{\"c\":[],\"c\":true,\"c\":true,\"\":[],\"c\":\"\"}\n",
      "[45640,null,\"\",{\"\":false,\"c\":false}]\n",
      "{\"\":{\"\":{},\"\":true}}\n",
      "[\"a\",[false,true,false,{\"\":true}],true,\"a\"]\n",
      "[{\"b\":[],\"\":\"\",\"a\":true},\"\"]\n",
      "{\"\":84}\n",
      "{\"baca\":{\"b\":{},\"c\":false},\"b\":\"\",\"ac\":{},\"\":false,\"b\":[]}\n",
      "[true,[{\"\":false},true],[],\"b\"]\n",
      "{\"\":{},\"bc\":[9]}\n",
      "[[{\"b\":true,\"\":true},false],\"b\",\"bb\"]\n",
      "[[],[[{\"\":false},true]],false,true,true]\n",
      "[{\"a\":4,\"\":{},\"c\":false},false,true]\n",
      "[{\"\":false,\"c\":true,\"a\":true,\"b\":false,\"c\":true}]\n",
      "{\"c\":true,\"\":{},\"ba\":9}\n",
      "{\"ccb\":[\"\",\"\"],\"b\":{\"c\":false,\"b\":true},\"\":true}\n",
      "[[\"a\"],[{\"\":false}],false,52,\"\"]\n",
      "[null,false,{\"b\":false,\"a\":false,\"c\":true},false,{\"a\":false},true,{\"\":true},true]\n",
      "{\"\":789,\"c\":[6]}\n",
      "[[false,false],\"cbc\",[[],{\"\":false},false],false,[false],2]\n",
      "{\"\":\"\",\"c\":1}\n",
      "{\"a\":\"bb\",\"\":27,\"c\":true}\n",
      "[false,[[{\"\":false}]]]\n",
      "{\"\":{\"\":false},\"bc\":false,\"b\":false,\"a\":7}\n",
      "{\"bcca\":4,\"\":\"\"}\n",
      "[6,{\"c\":\"\",\"a\":true,\"b\":false,\"\":true}]\n",
      "[[[{\"\":false}],{\"a\":false}]]\n",
      "[{\"c\":false,\"\":true},true,9]\n",
      "{\"bab\":{},\"a\":{},\"\":{\"\":false,\"\":true}}\n",
      "[{\"\":[],\"a\":false,\"b\":false,\"a\":true}]\n",
      "{\"abbb\":\"ccc\",\"\":true,\"bc\":false,\"b\":{}}\n",
      "[{\"\":[false],\"b\":7}]\n",
      "[[],{\"a\":true,\"\":true,\"a\":true,\"a\":true},\"b\"]\n",
      "[[[{\"\":false}],true]]\n",
      "[false,{\"\":true,\"c\":true,\"b\":false},true]\n",
      "{\"aac\":{},\"\":false}\n",
      "[[{\"a\":true,\"a\":false},{\"\":true},\"\",true]]\n",
      "{\"\":true,\"a\":{\"a\":true},\"bc\":26}\n",
      "[{\"\":{}},7,null]\n",
      "[439,null,[[{\"\":true}]]]\n",
      "[null,[[{\"\":false}]],true]\n",
      "{\"\":[[null]]}\n",
      "{\"ab\":5,\"aa\":{},\"c\":\"\",\"\":true,\"c\":false}\n",
      "[{\"b\":true,\"a\":{},\"\":true,\"c\":false,\"b\":true}]\n",
      "{\"\":false,\"bc\":false,\"aa\":true,\"c\":true,\"a\":[]}\n",
      "{\"\":\"bca\",\"aca\":{},\"b\":{}}\n",
      "{\"\":false,\"c\":true}\n",
      "[{\"\":false,\"a\":\"\"},7,true]\n",
      "{\"\":{\"\":[],\"\":true,\"\":true},\"c\":\"ab\",\"b\":{},\"b\":true,\"c\":true,\"b\":false,\"c\":true}\n",
      "[[null,true,[{\"\":false},false],null,true]]\n",
      "[[false,[{\"\":false}],{}],true]\n",
      "{\"\":60}\n",
      "[false,{\"a\":{},\"a\":false,\"a\":true,\"\":false},{\"a\":true}]\n",
      "[4767,[[{\"\":false},null]],{}]\n",
      "{\"c\":465,\"\":4}\n",
      "[[[{\"\":true}],false],null]\n",
      "[080,{\"a\":[],\"c\":false,\"\":false},{\"c\":true}]\n",
      "{\"\":{},\"aab\":[]}\n",
      "{\"\":832,\"bba\":1}\n",
      "[{\"\":6,\"b\":{}},true,\"\"]\n",
      "{\"\":0,\"b\":9}\n",
      "[[{\"\":true},null],null,true]\n"
     ]
    }
   ],
   "source": [
    "collect = set()\n",
    "for i in range(1000):\n",
    "    v = g_fuzzer.fuzz(s)\n",
    "    if v not in collect:\n",
    "        collect.add(v)\n",
    "        print(v)"
   ]
  },
  {
   "cell_type": "code",
   "execution_count": 551,
   "metadata": {},
   "outputs": [],
   "source": [
    "g_parser = Parser(g, canonical=True, start_symbol=s)"
   ]
  },
  {
   "cell_type": "code",
   "execution_count": 552,
   "metadata": {},
   "outputs": [],
   "source": [
    "assert g_parser.can_parse('{\"\":[1]}')"
   ]
  },
  {
   "cell_type": "code",
   "execution_count": 553,
   "metadata": {},
   "outputs": [],
   "source": [
    "assert not g_parser.can_parse('{null:[1]}')"
   ]
  },
  {
   "cell_type": "code",
   "execution_count": 554,
   "metadata": {},
   "outputs": [],
   "source": [
    "assert g_parser.can_parse('{\"\":[]}')"
   ]
  },
  {
   "cell_type": "code",
   "execution_count": 555,
   "metadata": {},
   "outputs": [],
   "source": [
    "assert g_parser.can_parse('{\"\":[],\"a\":[[]]}')"
   ]
  },
  {
   "cell_type": "code",
   "execution_count": 556,
   "metadata": {},
   "outputs": [
    {
     "data": {
      "text/plain": [
       "[]"
      ]
     },
     "execution_count": 556,
     "metadata": {},
     "output_type": "execute_result"
    }
   ],
   "source": [
    "EXCEPTION_HAPPENED"
   ]
  }
 ],
 "metadata": {
  "kernelspec": {
   "display_name": "Python 3",
   "language": "python",
   "name": "python3"
  },
  "language_info": {
   "codemirror_mode": {
    "name": "ipython",
    "version": 3
   },
   "file_extension": ".py",
   "mimetype": "text/x-python",
   "name": "python",
   "nbconvert_exporter": "python",
   "pygments_lexer": "ipython3",
   "version": "3.6.8"
  },
  "toc": {
   "base_numbering": 1,
   "nav_menu": {},
   "number_sections": true,
   "sideBar": true,
   "skip_h1_title": false,
   "title_cell": "Table of Contents",
   "title_sidebar": "Contents",
   "toc_cell": false,
   "toc_position": {},
   "toc_section_display": true,
   "toc_window_display": true
  }
 },
 "nbformat": 4,
 "nbformat_minor": 4
}
