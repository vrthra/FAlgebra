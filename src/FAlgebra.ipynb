{
 "cells": [
  {
   "cell_type": "markdown",
   "metadata": {},
   "source": [
    "# Algebra of Failure Inducing Input Patterns"
   ]
  },
  {
   "cell_type": "markdown",
   "metadata": {},
   "source": [
    "## What"
   ]
  },
  {
   "cell_type": "markdown",
   "metadata": {},
   "source": [
    "We are trying to generate grammars that produce inputs that contain or does not specific behaviors (or complex combinations thereof) so, one can say things of the sort: I want to generate inputs with parenthesis, but discard everything with doubled parenthesis.\n",
    "\n",
    "While boolean grammars are the formalism for such things (e.g A & B & !C), and one can trivially construct multi-level recognizers for it (parse A, parse B, not parse C), generation is much harder, and as far as I can see, no one has found a way to easily generate inputs from such expressions (other than the generate and filter approach, which is really inefficient). Further, the boolean grammars are already beyond context free grammars, and our current techniques such as annotation of probabilities, and feedback on grammar nodes will not work on them. What we do here, is to recognize that for fault pattern additions and removal, one can stick to a context-free subset, and one can guarantee the properties of the resulting grammar.\n",
    "\n",
    "Other things we can likely do: Generate grammars that produce a given prefix or a given suffix, and combinations of those."
   ]
  },
  {
   "cell_type": "markdown",
   "metadata": {},
   "source": [
    "## Why"
   ]
  },
  {
   "cell_type": "markdown",
   "metadata": {},
   "source": [
    "It is often necessary to include multiple patterns in an input to trigger a fault. For example, a certain fault may occur only if a particular element is seen in advance, or a fault induced early on may only be triggered by a later element. Similarly, one may want to specify that a particular code element is covered, as well as a particular input element be/not be present (e.g. on bugfixes). Finally, one may also want to avoid triggering bugs that are already known."
   ]
  },
  {
   "cell_type": "markdown",
   "metadata": {},
   "source": [
    "## How\n",
    "\n",
    "We first extract the abstract syntactical patterns that correspond to given behaviors, and then generate a refinement grammar from the original grammar that follows the algebraic specifications.\n",
    "\n",
    "The main question being asked is, how to combine and negate fault patterns.\n",
    "\n",
    "We use `~F` for a nonterminal that is guaranteed not to contain a given fault, and `+F` for a nonterminal that is guaranteed to contain at least one instance of the given fault."
   ]
  },
  {
   "cell_type": "markdown",
   "metadata": {},
   "source": [
    "## How is it done?"
   ]
  },
  {
   "cell_type": "markdown",
   "metadata": {},
   "source": [
    "We start with the concept of an _abstract pattern_ form `DDSet`.\n",
    "\n",
    "### Abstract Pattern\n",
    "\n",
    "An _abstract pattern_ is a parse tree of a fault inducing input such that all non-causal subtrees are marked abstract. From an _abstract pattern_ we derive its _charecteristic node_.\n",
    "\n",
    "In essence, an abstract pattern is a parse tree with typed holes.\n",
    "\n",
    "#### Charecteristic node\n",
    "\n",
    "A _charecteristic node_ of an _abstract pattern_ is the smallest subtree (and the corresponding node) that completely captures the concrete _terminal_ symbols in the _abstract pattern_.\n",
    "\n",
    "#### Linear grammar of a parse tree\n",
    "\n",
    "A _linear grammar_ of a parse tree is a grammar such that the grammar can produce only the given parse tree. It is constructed by marking each node in the parse tree with a unique suffix, and extracting the grammar of the suffixed tree. The _linear grammar_ of the _charecteristic node_ will produce the _exact_ string that produced the fault. The start symbol of the grammar is the nonterminal of the characteristic node. The linear grammar is converted to pattern grammar by marking abstract various nodes.\n",
    "\n",
    "#### Abstract pattern grammar\n",
    "\n",
    "This is derived from the _linear grammar_ of the _characteristic node_ where the nonterminals in the grammar that correspond to abstract nodes are replaced by the non-suffixed general nonterminals in the original grammar. The start symbol of the abstract pattern grammar remains the same as the linear grammar of the characteristic node. The important thing to note here is that if one wishes to reproduce the given fault, the parse tree __should contain__ the nonterminals of the linear grammar.\n",
    "\n",
    "#### Negated abstract pattern grammar\n",
    "\n",
    "The negated abstract pattern grammar for a fault is constructed from the abstract pattern grammar of that fault by replacing the definitions one token at a time with a nonterminal guaranteed not to match the particular expansion in the pattern grammar. To this set of rules is added the definitions from the original grammar that did not match the pattern grammar. The idea is to essentially form a _conjunction_ of possible negations.\n",
    "\n",
    "\n",
    "```\n",
    "<X> := <A> <B>\n",
    "<A> := <D>\n",
    "     | a <C>\n",
    "<B> := B\n",
    "     | b\n",
    "<C> := C\n",
    "     | C\n",
    "<D> := d\n",
    "```\n",
    "Say the pattern grammar is:\n",
    "```\n",
    "<X> := <A_1> <B_2>\n",
    "<A_1> := a <C_3>\n",
    "<B_2> := b\n",
    "<C_3> := c\n",
    "```\n",
    "\n",
    "Then, the negated pattern grammar is (we define it using the symbol `^F` to avoid confusing with `+F`) --- The difference is that `+F` guarantees the full fault, while `^F` represents a partial fault.\n",
    "```\n",
    "<^X> := <^A_1> <B_2>\n",
    "      | <A_1> <^B_2>\n",
    "<A_1> := a <C_3>\n",
    "       | <D*>\n",
    "<^A_1> := a <^C_3>\n",
    "        | A\n",
    "<B_2> := b\n",
    "<^B_2> := B\n",
    "<C_3> := c\n",
    "<^C_3> := C\n",
    "```\n",
    "\n",
    "The `<D*>` here is simply `<D>` if `<D>` cannot reach the faulty key `<X>`. If it can, then it is a negation `<D-X>`.\n",
    "\n",
    "If a particular nonterminal cannot be negated, then the rules that use that negated nonterminal is removed, and the nonterminals that have no rules are removed recursively."
   ]
  },
  {
   "cell_type": "markdown",
   "metadata": {},
   "source": [
    "#### Grammar with the guarantee that at least one instance of the fault will always be present (G+).\n",
    "\n",
    "We mark nonterminals that are guaranteed to contain at least a given single fault as `+F` and those nodes that are guaranteed to not contain that fault as `~F` where `<F>` is the original nonterminal.\n",
    "\n",
    "Given a grammar that starts with \n",
    "\n",
    "```\n",
    "<start> := <A> <B> <C>\n",
    "         ...\n",
    "```\n",
    "    \n",
    "The grammar will contain at least a single fault if that single rule is replaced by this set of rules\n",
    "\n",
    "```\n",
    "<1start> := <+A> <B> <C>\n",
    "         | <A> <+B> <C>\n",
    "         | <A> <B> <+C>\n",
    "...\n",
    "```\n",
    "Similarly, if one assumes that the nonterminal `<A>` can contain faults, and it has the following rules (nonterminals indicated by `<..>`)\n",
    "```\n",
    "<A> := x <P> <P> x\n",
    "     | x <P> x\n",
    "```\n",
    "then, the following definition is guaranteed to produce at least one instance of the fault in any expansion\n",
    "```\n",
    "<1A> := x <+P> <P> x\n",
    "     | x <P> <+P> x\n",
    "     | x <+P> x\n",
    "```"
   ]
  },
  {
   "cell_type": "markdown",
   "metadata": {},
   "source": [
    "#### Grammar with the guarantee that no instance of the fault will be present (G-)\n",
    "\n",
    "Negation is simply negation of all nonterminals\n",
    "```\n",
    "<~A> := x <~P> <~P>\n",
    "      | x <~P>\n",
    "```"
   ]
  },
  {
   "cell_type": "markdown",
   "metadata": {},
   "source": [
    "#### Grammar with the guarantee that at most one instance of the fault will be present (G*)\n",
    "\n",
    "```\n",
    "<1start> := <A> <~B> <~C>\n",
    "         | <~A> <B> <~C>\n",
    "         | <~A> <~B> <C>\n",
    "...\n",
    "```"
   ]
  },
  {
   "cell_type": "markdown",
   "metadata": {},
   "source": [
    "#### Grammar with the guarantee that exactly one instance of the fault will be present\n",
    "\n",
    "```\n",
    "G_1 = G+ & G*\n",
    "```"
   ]
  },
  {
   "cell_type": "markdown",
   "metadata": {},
   "source": [
    "#### Base cases\n",
    "\n",
    "There are two base cases for this recursion. The first is when the nonterminal is the charecteristic node of the fault being inserted. In this case, the definition `<+F>` is simply the start symbol of the abstract pattern grammar (and the abstract pattern grammar is merged into the grammar). Similarly with the negation terminal.\n",
    "\n",
    "The second base case is when the nonterminal cannot produce the fault (e.g `<digit>` for producing a parenthesis). Here, the solution is simple. The nonterminal `<+F>` is defined as empty, and the rules that use that nonterminal is removed, and the nonterminals with empty rules are removed recursively as before. The negation `<~F>` is simply `<F>` because it is guaranteed not to produce a fault."
   ]
  },
  {
   "cell_type": "markdown",
   "metadata": {},
   "source": [
    "### (|) two refined grammars.\n",
    "\n",
    "We generate grammars with the faults on boths sides. Next, we merge the grammars. Next, we remove any rule from the definition that is more refined than another rule in the same definition. A rule is more refined than another rule if 1) they both were derived from the same original rule from the original grammar (checked by looking at the stems and terminals) and 2) for any given token, the token at the same position of the other rule has a superset expansion. E.g a digit with expansion `[2, 4]` is a refinement of a digit with expansion `[1, 2, 3, 4, 5]`. (The fixpoint is computed). (This means that the disjunction of the original grammar with any fault inducing grammar will always be the original grammar.)"
   ]
  },
  {
   "cell_type": "markdown",
   "metadata": {},
   "source": [
    "### (&) two refined grammars.\n",
    "\n",
    "Conjunction of two refined grammars is simply the conjunction of both start symbols. The conjunction of two matching (same stem) nonterminals is a conjunction of their matching rules (match with the same terminals and stem of nonterminals). Conjunction of two rules is single rule with each nonterminal representing a conjunction of two corresponding nonterminals at the corresponding places from the two rules. When there are multiple matching rules, the rules produced are all pairs.\n",
    "\n",
    "Note that one can generate an `atleast one fault grammar` (by skipping negation in the exactly one fault grammar) and an `atmost one fault grammar` (by skipping fault insertion in the exactly one fault grammar), and generate the `exactly one fault grammar` by generating a conjunction of both."
   ]
  },
  {
   "cell_type": "markdown",
   "metadata": {},
   "source": [
    "### (-) a refined grammar"
   ]
  },
  {
   "cell_type": "markdown",
   "metadata": {},
   "source": [
    "Negation of arbitrary boolean expression is the most complex of all. For doing this, we use the property that when we want to negate a defintiion, say the definition has three rules from the same base rule:\n",
    "\n",
    "```\n",
    "<A> : <B 1> <C 1> <D 1>\n",
    "    | <B 2> <C 2> <D 2>\n",
    "    | <B3 > <C 3> <D3>\n",
    "```\n",
    "These are considered as `rule1 | rule2 | rule3`. So, we can transform `neg(rule1 | rule2 | rule3)` to `neg(rule1) & neg(rule2) & neg(rule3)`.\n",
    "\n",
    "Now, negating a single rule leads to a number of rules; that is\n",
    "```\n",
    "neg(<B 1> <C 1> <D1>)\n",
    "```\n",
    "Gives\n",
    "```\n",
    "neg(<B 1>) <c 1> <D 1>\n",
    "<B 1> neg(<c 1>) <D 1>\n",
    "<B 1> <c 1> neg(<D 1>)\n",
    "```\n",
    "Similarly\n",
    "```\n",
    "neg(<B 2>) <c 2> <D 2>\n",
    "<B 2> neg(<c 2>) <D 2>\n",
    "<B 2> <c 2> neg(<D 2>)\n",
    "```\n",
    "and\n",
    "```\n",
    "neg(<B 3>) <c 3> <D 3>\n",
    "<B 3> neg(<c 3>) <D 3>\n",
    "<B 3> <c 3> neg(<D 3>)\n",
    "```\n",
    "We combine this set of rules from a given rule with other sets using `product &`. to get the negated rule set.\n",
    "that is,\n",
    "```\n",
    "(neg(<B 1>) <c 1> <D 1>) & (neg(<B 2>) <c 2> <D 2>) & (neg(<B 3>) <c 3> <D 3>)\n",
    "```\n",
    "for the first rule,\n",
    "```\n",
    "(<B 1> neg(<c 1>) <D 1>) & (neg(<B 2>) <c 2> <D 2>) & (neg(<B 3>) <c 3> <D 3>)\n",
    "```\n",
    "for the second rule, \n",
    "```\n",
    "(<B 1> <c 1> neg(<D 1>)) & (neg(<B 2>) <c 2> <D 2>) & (neg(<B 3>) <c 3> <D 3>)\n",
    "```\n",
    "for the third rule and so on.\n",
    "\n",
    "The first rule will resolve to\n",
    "```\n",
    "<B neg(1) & neg(2) & neg(3)> <c 1&2&3> <D 1&2&3>\n",
    "```\n",
    "The second rule will resolve to\n",
    "```\n",
    "<B 1 & neg(2) & neg(3) > <c neg(1)&2&3> <D 1&2&3>\n",
    "```\n",
    "The third rule will resolve to\n",
    "```\n",
    "<B 1 & neg(2) & neg(3) > <c 1&2&3> <D neg(1)&2&3>\n",
    "```\n",
    "and so on.\n",
    "\n",
    "So, why does this work? Take any parse tree for an input that parsed using the non-negated grammar before. It can be parsed by the new negated grammar, if and only if there exist a rule in the new grammar that correspond to each node that will let it parse. Now, each rule in the new grammar is explicitly negated against _atleast_ one token in the non-negated expression. Hence, there does not exist a rule that will let the old expression parse using the negated grammar."
   ]
  },
  {
   "cell_type": "markdown",
   "metadata": {},
   "source": [
    "## Limitations"
   ]
  },
  {
   "cell_type": "markdown",
   "metadata": {},
   "source": [
    "The limitations are as follows:\n",
    "1. Only applicable to deterministic base grammars (at least deterministic parts of the grammar). The grammar is further restricted (without losing generality) to have the start symbol correspond to a single rule such that the rule contains only a single nonterminal (and any number of terminals).\n",
    "2. The fault patterns are neither sound nor complete w.r.t the failure (this is a limitation of the ddset fault pattern).\n",
    "   i.e:\n",
    "   The same failure may result from different patterns. Hence, negating one pattern does not mean negating that failure fully (not complete)\n",
    "   The same pattern in a different context may not result in a failure (not sound)\n",
    "4. Adding new fault patterns results in almost exponential increase (worst case) in the grammar rules of corresponding non terminals.\n",
    "5. We assume that rules for a nonterminal are non-redundant for the base grammar (if not, it becomes nondeterministic)."
   ]
  },
  {
   "cell_type": "markdown",
   "metadata": {},
   "source": [
    "The faults can from several different inputs. The idea is that the characterizing node, and abstraction removes the influences of the specific parse tree."
   ]
  },
  {
   "cell_type": "markdown",
   "metadata": {},
   "source": [
    "## Magick"
   ]
  },
  {
   "cell_type": "markdown",
   "metadata": {},
   "source": [
    "We start with a few Jupyter magics that let us specify examples inline, that can be turned off if needed for faster execution. Switch TOP to False if you do not want examples to complete."
   ]
  },
  {
   "cell_type": "code",
   "execution_count": 1,
   "metadata": {},
   "outputs": [],
   "source": [
    "TOP = True #__name__ == '__main__'"
   ]
  },
  {
   "cell_type": "code",
   "execution_count": 2,
   "metadata": {},
   "outputs": [],
   "source": [
    "from IPython.core.magic import  (Magics, magics_class, cell_magic, line_magic, line_cell_magic)\n",
    "class B(dict):\n",
    "    def __getattr__(self, name):\n",
    "        return self.__getitem__(name)\n",
    "@magics_class\n",
    "class MyMagics(Magics):\n",
    "    def __init__(self, shell=None,  **kwargs):\n",
    "        super().__init__(shell=shell, **kwargs)\n",
    "        self._vars = B()\n",
    "        shell.user_ns['VARS'] = self._vars\n",
    "\n",
    "    @cell_magic\n",
    "    def var(self, line, cell):\n",
    "        self._vars[line.strip()] = cell.strip()\n",
    " \n",
    "    @line_cell_magic\n",
    "    def top(self, line, cell=None):\n",
    "        if TOP:\n",
    "            if cell is None:\n",
    "                cell = line\n",
    "            ip = get_ipython()\n",
    "            res = ip.run_cell(cell)\n",
    "\n",
    "get_ipython().register_magics(MyMagics)"
   ]
  },
  {
   "cell_type": "code",
   "execution_count": 3,
   "metadata": {},
   "outputs": [],
   "source": [
    "EXCEPTION_HAPPENED = []"
   ]
  },
  {
   "cell_type": "code",
   "execution_count": 4,
   "metadata": {},
   "outputs": [],
   "source": [
    "%top IP = get_ipython()"
   ]
  },
  {
   "cell_type": "code",
   "execution_count": 5,
   "metadata": {},
   "outputs": [],
   "source": [
    "from IPython.core.ultratb import AutoFormattedTB\n",
    "itb = AutoFormattedTB(mode = 'Plain', tb_offset = 1)\n",
    "def custom_exc(shell, etype, evalue, tb, tb_offset=None):\n",
    "    global EXCEPTION_HAPPENED\n",
    "    EXCEPTION_HAPPENED.append(IP.last_execution_result.execution_count + 1)\n",
    "    # Show the error within the notebook, don't just swallow it\n",
    "    shell.showtraceback((etype, evalue, tb), tb_offset=tb_offset)\n",
    "    # grab the traceback and make it into a list of strings\n",
    "    #stb = itb.structured_traceback(etype, evalue, tb)\n",
    "    #sstb = itb.stb2text(stb)"
   ]
  },
  {
   "cell_type": "code",
   "execution_count": 6,
   "metadata": {},
   "outputs": [],
   "source": [
    "%top IP.set_custom_exc((Exception,), custom_exc)"
   ]
  },
  {
   "cell_type": "code",
   "execution_count": 7,
   "metadata": {},
   "outputs": [],
   "source": [
    "import sys"
   ]
  },
  {
   "cell_type": "code",
   "execution_count": 8,
   "metadata": {},
   "outputs": [],
   "source": [
    "%top assert sys.version_info[0:2] in ((3, 7), (3, 6))"
   ]
  },
  {
   "cell_type": "code",
   "execution_count": 9,
   "metadata": {},
   "outputs": [],
   "source": [
    "%%top\n",
    "import importlib.util\n",
    "if importlib.util.find_spec('sympy') is None:\n",
    "    !pip3 install sympy"
   ]
  },
  {
   "cell_type": "markdown",
   "metadata": {},
   "source": [
    "## Fault Patterns"
   ]
  },
  {
   "cell_type": "markdown",
   "metadata": {},
   "source": [
    "### Grammar"
   ]
  },
  {
   "cell_type": "markdown",
   "metadata": {},
   "source": [
    "A context-free grammar is represented as a Python dict, with each nonterminal symbol forming a key, and each nonterminal _defined_ by a list of expansion rules. For example, the expression grammar for parsing arithmetic expressions is given below."
   ]
  },
  {
   "cell_type": "markdown",
   "metadata": {},
   "source": [
    "#### Definitions\n",
    "\n",
    "##### String\n",
    "\n",
    "A string is composed of zero or more _alphabets_.\n",
    "\n",
    "E.g $a b c d$\n",
    "\n",
    "##### Alphabet\n",
    "\n",
    "An alphabet is a single unit in any derived string.\n",
    "\n",
    "E.g $a$\n",
    "\n",
    "##### Terminal symbol\n",
    "\n",
    "A terminal symbol is composed of _one or more_ alphabets.\n",
    "\n",
    "E.g. $a b$\n",
    "\n",
    "##### Nonterminal symbol\n",
    "\n",
    "A nonterminal symbol is an abstraction that is defined elsewhere in the grammar.\n",
    "E.g. $X_{nt}$\n",
    "\n",
    "##### Rule\n",
    "\n",
    "A rule is composed of a sequence of terminal or nonterminal symbols.\n",
    "\n",
    "E.g. $A^{rule} = X_{nt} \\cdot Y_{t} \\cdot Z_{nt}$\n",
    "\n",
    "\n",
    "##### Definition\n",
    "\n",
    "Each nonterminal symbol in the grammar corresponds to a _definition_ of that symbol. The definition consists of one or more alternative _rules_. (e.g $X_{nt} \\models A^{rule} \\lor B^{rule} \\lor C^{rule}$).\n",
    "\n",
    "##### Context Free Grammar\n",
    "\n",
    "A context free grammar is composed of a set of nonterminals and their corresponding definitions.\n",
    "\n",
    "E.g. $ G = \\{\\{ X_{nt} \\models A^{rule} \\lor B^{rule} \\lor C^{rule}\\} \\land \\{Y_{nt} \\models P^{rule} \\lor Q^{rule}\\} \\} $"
   ]
  },
  {
   "cell_type": "markdown",
   "metadata": {},
   "source": [
    "Here is a simple context free grammar for Boolean expressions"
   ]
  },
  {
   "cell_type": "code",
   "execution_count": 10,
   "metadata": {},
   "outputs": [],
   "source": [
    "import string"
   ]
  },
  {
   "cell_type": "code",
   "execution_count": 11,
   "metadata": {},
   "outputs": [],
   "source": [
    "BEXPR_GRAMMAR = {\n",
    "    '<start>': [['<bexpr>']],\n",
    "    '<bexpr>': [\n",
    "        ['<bop>', '(', '<bexprs>', ')'],\n",
    "        ['<fault>']],\n",
    "    '<bexprs>' : [['<bexpr>'],\n",
    "                  ['<bexpr>', ',', '<bexprs>']],\n",
    "    '<bop>' : [['and'], ['or'], ['neg']],\n",
    "    '<fault>': [['<letters>'], []],\n",
    "    '<letters>': [\n",
    "        ['<letter>'],\n",
    "        ['<letter>', '<letters>']],\n",
    "    '<letter>': [[i] for i in (string.ascii_lowercase + string.ascii_uppercase + string.digits) + '_+*.-']\n",
    "}"
   ]
  },
  {
   "cell_type": "code",
   "execution_count": 12,
   "metadata": {},
   "outputs": [],
   "source": [
    "BEXPR_START = '<start>'"
   ]
  },
  {
   "cell_type": "markdown",
   "metadata": {},
   "source": [
    "An example grammar for arithmetic expressions."
   ]
  },
  {
   "cell_type": "code",
   "execution_count": 13,
   "metadata": {},
   "outputs": [],
   "source": [
    "EXPR_GRAMMAR = {'<start>': [['<expr>']],\n",
    " '<expr>': [['<term>', ' + ', '<expr>'],\n",
    "  ['<term>', ' - ', '<expr>'],\n",
    "  ['<term>']],\n",
    " '<term>': [['<factor>', ' * ', '<term>'],\n",
    "  ['<factor>', ' / ', '<term>'],\n",
    "  ['<factor>']],\n",
    " '<factor>': [['+', '<factor>'],\n",
    "  ['-', '<factor>'],\n",
    "  ['(', '<expr>', ')'],\n",
    "  ['<integer>', '.', '<integer>'],\n",
    "  ['<integer>']],\n",
    " '<integer>': [['<digit>', '<integer>'], ['<digit>']],\n",
    " '<digit>': [['0'], ['1'], ['2'], ['3'], ['4'], ['5'], ['6'], ['7'], ['8'], ['9']]}"
   ]
  },
  {
   "cell_type": "code",
   "execution_count": 14,
   "metadata": {},
   "outputs": [],
   "source": [
    "EXPR_START = '<start>'"
   ]
  },
  {
   "cell_type": "markdown",
   "metadata": {},
   "source": [
    "We define an input from which we extract our patterns. Note that we do not use the predicate; rather we assume that we already have a few such predicates."
   ]
  },
  {
   "cell_type": "code",
   "execution_count": 15,
   "metadata": {},
   "outputs": [],
   "source": [
    "#%%top\n",
    "expr_input =  '1 + ((2 * 3 / 4))'\n",
    "bexpr_input = 'and(or(neg(A)),or(B))'"
   ]
  },
  {
   "cell_type": "markdown",
   "metadata": {},
   "source": [
    "Note the convetion we used: Each nonterminal is enclosed in angle brackets. E.g. `<expr>`. We now define a function that can distinguish terminal symbols from nonterminals."
   ]
  },
  {
   "cell_type": "markdown",
   "metadata": {},
   "source": [
    "The `is_nt()` function checks if the given node is a terminal or not."
   ]
  },
  {
   "cell_type": "code",
   "execution_count": 16,
   "metadata": {},
   "outputs": [],
   "source": [
    "def is_nt(symbol):\n",
    "     return symbol and (symbol[0], symbol[-1]) == ('<', '>')"
   ]
  },
  {
   "cell_type": "markdown",
   "metadata": {},
   "source": [
    "#### The Parser"
   ]
  },
  {
   "cell_type": "markdown",
   "metadata": {},
   "source": [
    "Given the grammar, and an input, we can parse it into a derivation tree.\n",
    "The `Parser` below is from [fuzzingbook.org](https://www.fuzzingbook.org/html/Parser.html), and provides a generic context-free parser. This is present in the `src` directory."
   ]
  },
  {
   "cell_type": "code",
   "execution_count": 17,
   "metadata": {},
   "outputs": [],
   "source": [
    "from Parser import EarleyParser as Parser"
   ]
  },
  {
   "cell_type": "markdown",
   "metadata": {},
   "source": [
    "How do we check that our parse succeeded? We can convert the derivation tree back to the original string and check for equality."
   ]
  },
  {
   "cell_type": "markdown",
   "metadata": {},
   "source": [
    "The `tree_to_str()` function converts a derivation tree to its original string. We use a non recursive definition."
   ]
  },
  {
   "cell_type": "code",
   "execution_count": 18,
   "metadata": {},
   "outputs": [],
   "source": [
    "def tree_to_str(tree):\n",
    "    expanded = []\n",
    "    to_expand = [tree]\n",
    "    while to_expand:\n",
    "        (key, children, *rest), *to_expand = to_expand\n",
    "        if is_nt(key):\n",
    "            #assert children # not necessary\n",
    "            to_expand = list(children) + list(to_expand)\n",
    "        else:\n",
    "            assert not children\n",
    "            expanded.append(key)\n",
    "    return ''.join(expanded)"
   ]
  },
  {
   "cell_type": "code",
   "execution_count": 19,
   "metadata": {},
   "outputs": [],
   "source": [
    "Ts = tree_to_str"
   ]
  },
  {
   "cell_type": "code",
   "execution_count": 20,
   "metadata": {},
   "outputs": [],
   "source": [
    "#%%top\n",
    "expr_parser = Parser(EXPR_GRAMMAR, start_symbol=EXPR_START, canonical=True)\n",
    "expr_tree = list(expr_parser.parse(expr_input))[0]"
   ]
  },
  {
   "cell_type": "code",
   "execution_count": 21,
   "metadata": {
    "scrolled": false
   },
   "outputs": [],
   "source": [
    "%top assert tree_to_str(expr_tree) == '1 + ((2 * 3 / 4))'"
   ]
  },
  {
   "cell_type": "markdown",
   "metadata": {},
   "source": [
    "We can also directly check for recognition."
   ]
  },
  {
   "cell_type": "code",
   "execution_count": 22,
   "metadata": {},
   "outputs": [],
   "source": [
    "#%%top\n",
    "expr_parser = Parser(EXPR_GRAMMAR, start_symbol=EXPR_START, canonical=True)"
   ]
  },
  {
   "cell_type": "code",
   "execution_count": 23,
   "metadata": {},
   "outputs": [],
   "source": [
    "%top assert expr_parser.can_parse(expr_input)"
   ]
  },
  {
   "cell_type": "code",
   "execution_count": 24,
   "metadata": {},
   "outputs": [],
   "source": [
    "#%%top\n",
    "bexpr_parser = Parser(BEXPR_GRAMMAR, canonical=True, start_symbol=BEXPR_START)"
   ]
  },
  {
   "cell_type": "code",
   "execution_count": 25,
   "metadata": {
    "scrolled": true
   },
   "outputs": [],
   "source": [
    "%top assert bexpr_parser.can_parse(bexpr_input)"
   ]
  },
  {
   "cell_type": "markdown",
   "metadata": {},
   "source": [
    "#### Display\n",
    "\n",
    "While converting to strings are easy, it is unsatisfying. We want to make our output look pretty, and inspect the tree structure of the parsed tree. So we define graphical tree display (code from fuzzingbook)"
   ]
  },
  {
   "cell_type": "code",
   "execution_count": 26,
   "metadata": {},
   "outputs": [],
   "source": [
    "from graphviz import Digraph"
   ]
  },
  {
   "cell_type": "code",
   "execution_count": 27,
   "metadata": {},
   "outputs": [],
   "source": [
    "from IPython.display import display, Image"
   ]
  },
  {
   "cell_type": "code",
   "execution_count": 28,
   "metadata": {},
   "outputs": [],
   "source": [
    "def zoom(v, zoom=True):\n",
    "    # return v directly if you do not want to zoom out.\n",
    "    if zoom:\n",
    "        return Image(v.render(format='png'))\n",
    "    return v"
   ]
  },
  {
   "cell_type": "code",
   "execution_count": 29,
   "metadata": {},
   "outputs": [],
   "source": [
    "class DisplayTree():\n",
    "    def __init__(self):\n",
    "        pass\n",
    "\n",
    "    def extract_node(self, node, id):\n",
    "        symbol, children, *annotation = node\n",
    "        return symbol, children, ''.join(str(a) for a in annotation)\n",
    "    \n",
    "    def node_attr(self, dot, nid, symbol, ann):\n",
    "        dot.node(repr(nid), symbol + ' ')\n",
    "        \n",
    "    def edge_attr(self, dot, start_node, stop_node):\n",
    "        dot.edge(repr(start_node), repr(stop_node), label=str(stop_node[1]))\n",
    "        \n",
    "    def graph_attr(self, dot):\n",
    "        dot.attr('node', shape='plain')\n",
    "        \n",
    "    def display(self, derivation_tree):\n",
    "        counter = 0\n",
    "        def traverse_tree(dot, tree, id=(0,0)):\n",
    "            (symbol, children, annotation) = self.extract_node(tree, id)\n",
    "            self.node_attr(dot, id, symbol, annotation)\n",
    "            if children:\n",
    "                for x,child in enumerate(children):\n",
    "                    nonlocal counter\n",
    "                    counter += 1\n",
    "                    child_id = (counter,x)\n",
    "                    self.edge_attr(dot, id, child_id)\n",
    "                    traverse_tree(dot, child, child_id)\n",
    "        dot = Digraph(comment=\"Derivation Tree\")\n",
    "        self.graph_attr(dot)\n",
    "        traverse_tree(dot, derivation_tree)\n",
    "        return dot\n",
    "    \n",
    "    def __call__(self, dt):\n",
    "        return self.display(dt)"
   ]
  },
  {
   "cell_type": "code",
   "execution_count": 30,
   "metadata": {},
   "outputs": [],
   "source": [
    "display_tree = DisplayTree()"
   ]
  },
  {
   "cell_type": "markdown",
   "metadata": {},
   "source": [
    "We are now ready to display the tree structure."
   ]
  },
  {
   "cell_type": "code",
   "execution_count": 31,
   "metadata": {
    "scrolled": false
   },
   "outputs": [
    {
     "data": {
      "image/png": "[encoded data removed]",
      "text/plain": [
       "<IPython.core.display.Image object>"
      ]
     },
     "execution_count": 31,
     "metadata": {},
     "output_type": "execute_result"
    }
   ],
   "source": [
    "%top zoom(display_tree(expr_tree))"
   ]
  },
  {
   "cell_type": "markdown",
   "metadata": {},
   "source": [
    "#### Latex"
   ]
  },
  {
   "cell_type": "code",
   "execution_count": 32,
   "metadata": {},
   "outputs": [],
   "source": [
    "def r_to_latex(rule):\n",
    "    if not rule: return '$\\\\epsilon$'\n",
    "    return ' '.join(['%s' % t if is_nt(t) else \"`%s'\" % t for t in rule])"
   ]
  },
  {
   "cell_type": "code",
   "execution_count": 33,
   "metadata": {},
   "outputs": [],
   "source": [
    "def d_to_latex(k, rules):\n",
    "    return ('%s ::= %s' % (k, '\\n\\\\alt '.join([r_to_latex(r) for r in rules])))"
   ]
  },
  {
   "cell_type": "code",
   "execution_count": 34,
   "metadata": {},
   "outputs": [],
   "source": [
    "def g_to_latex(g):\n",
    "    for k in g:\n",
    "        print(d_to_latex(k, g[k]))\n",
    "        print()"
   ]
  },
  {
   "cell_type": "markdown",
   "metadata": {},
   "source": [
    "#### A Fuzzer"
   ]
  },
  {
   "cell_type": "markdown",
   "metadata": {},
   "source": [
    "In order to define abstraction, we need to be able to generate values based on a grammar. Our fuzzer is able to do that."
   ]
  },
  {
   "cell_type": "code",
   "execution_count": 35,
   "metadata": {},
   "outputs": [],
   "source": [
    "import random"
   ]
  },
  {
   "cell_type": "code",
   "execution_count": 36,
   "metadata": {},
   "outputs": [],
   "source": [
    "random.seed(0)"
   ]
  },
  {
   "cell_type": "markdown",
   "metadata": {},
   "source": [
    "##### The interface"
   ]
  },
  {
   "cell_type": "code",
   "execution_count": 37,
   "metadata": {},
   "outputs": [],
   "source": [
    "class Fuzzer:\n",
    "    def __init__(self, grammar):\n",
    "        self.grammar = grammar\n",
    "\n",
    "    def fuzz(self, key='<start>', max_num=None, max_depth=None):\n",
    "        raise NotImplemented()"
   ]
  },
  {
   "cell_type": "markdown",
   "metadata": {},
   "source": [
    "##### The implementation"
   ]
  },
  {
   "cell_type": "markdown",
   "metadata": {},
   "source": [
    "The fuzzer tries to randomly choose an expansion when more than one expansion is available. If however, it goes beyond max_depth, then it chooses the cheapest nodes. The cheapest nodes are those nodes with minimum further expansion (no recursion)."
   ]
  },
  {
   "cell_type": "code",
   "execution_count": 38,
   "metadata": {},
   "outputs": [],
   "source": [
    "class LimitFuzzer(Fuzzer):\n",
    "    def symbol_cost(self, grammar, symbol, seen):\n",
    "        if symbol in self.key_cost: return self.key_cost[symbol]\n",
    "        if symbol in seen:\n",
    "            self.key_cost[symbol] = float('inf')\n",
    "            return float('inf')\n",
    "        v = min((self.expansion_cost(grammar, rule, seen | {symbol})\n",
    "                    for rule in grammar.get(symbol, [])), default=0)\n",
    "        self.key_cost[symbol] = v\n",
    "        return v\n",
    "\n",
    "    def expansion_cost(self, grammar, tokens, seen):\n",
    "        return max((self.symbol_cost(grammar, token, seen)\n",
    "                    for token in tokens if token in grammar), default=0) + 1\n",
    "\n",
    "    def nonterminals(self, rule):\n",
    "        return [t for t in rule if self.is_nt(t)]\n",
    "\n",
    "    def iter_gen_key(self, key, max_depth):\n",
    "        def get_def(t):\n",
    "            if self.is_nt(t):\n",
    "                return [t, None]\n",
    "            else:\n",
    "                return [t, []]\n",
    "\n",
    "        cheap_grammar = {}\n",
    "        for k in self.cost:\n",
    "            # should we minimize it here? We simply avoid infinities\n",
    "            rules = self.grammar[k]\n",
    "            min_cost = min([self.cost[k][str(r)] for r in rules])\n",
    "            #grammar[k] = [r for r in grammar[k] if self.cost[k][str(r)] == float('inf')]\n",
    "            cheap_grammar[k] = [r for r in self.grammar[k] if self.cost[k][str(r)] == min_cost]\n",
    "\n",
    "        root = [key, None]\n",
    "        queue = [(0, root)]\n",
    "        while queue:\n",
    "            # get one item to expand from the queue\n",
    "            (depth, item), *queue = queue\n",
    "            key = item[0]\n",
    "            if item[1] is not None: continue\n",
    "            grammar = self.grammar if depth < max_depth else cheap_grammar\n",
    "            chosen_rule = random.choice(grammar[key])\n",
    "            expansion = [get_def(t) for t in chosen_rule]\n",
    "            item[1] = expansion\n",
    "            for t in expansion: queue.append((depth+1, t))\n",
    "            #print(\"Fuzz: %s\" % key, len(queue), file=sys.stderr)\n",
    "        #print(file=sys.stderr)\n",
    "        return root\n",
    "\n",
    "    def gen_key(self, key, depth, max_depth):\n",
    "        if key not in self.grammar:\n",
    "            return (key, [])\n",
    "        if depth > max_depth:\n",
    "            #return self.gen_key_cheap_iter(key)\n",
    "            clst = sorted([(self.cost[key][str(rule)], rule) for rule in self.grammar[key]])\n",
    "            rules = [r for c,r in clst if c == clst[0][0]]\n",
    "        else:\n",
    "            rules = self.grammar[key]\n",
    "        return (key, self.gen_rule(random.choice(rules), depth+1, max_depth))\n",
    "\n",
    "    def gen_rule(self, rule, depth, max_depth):\n",
    "        return [self.gen_key(token, depth, max_depth) for token in rule]\n",
    "\n",
    "    def fuzz(self, key='<start>', max_depth=10):\n",
    "        self._s = self.iter_gen_key(key=key, max_depth=max_depth)\n",
    "        return self.tree_to_str(self._s)\n",
    "   \n",
    "    def is_nt(self, name):\n",
    "        return (name[0], name[-1]) == ('<', '>')\n",
    " \n",
    "    def tree_to_str(self, tree):\n",
    "        name, children = tree\n",
    "        if not self.is_nt(name): return name\n",
    "        return ''.join([tree_to_str(c) for c in children])\n",
    "\n",
    "    def tree_to_str(self, tree):\n",
    "        expanded = []\n",
    "        to_expand = [tree]\n",
    "        while to_expand:\n",
    "            (key, children, *rest), *to_expand = to_expand\n",
    "            if is_nt(key):\n",
    "                #assert children # not necessary\n",
    "                to_expand = children + to_expand\n",
    "            else:\n",
    "                assert not children\n",
    "                expanded.append(key)\n",
    "        return ''.join(expanded)\n",
    "\n",
    "\n",
    "    def __init__(self, grammar):\n",
    "        super().__init__(grammar)\n",
    "        self.key_cost = {}\n",
    "        self.cost = self.compute_cost(grammar)\n",
    "\n",
    "    def compute_cost(self, grammar):\n",
    "        cost = {}\n",
    "        for k in grammar:\n",
    "            cost[k] = {}\n",
    "            for rule in grammar[k]:\n",
    "                cost[k][str(rule)] = self.expansion_cost(grammar, rule, set())\n",
    "            if len(grammar[k]):\n",
    "                assert len([v for v in cost[k] if v != float('inf')]) > 0\n",
    "        return cost"
   ]
  },
  {
   "cell_type": "code",
   "execution_count": 39,
   "metadata": {},
   "outputs": [],
   "source": [
    "#%%top\n",
    "expr_fuzzer = LimitFuzzer(EXPR_GRAMMAR)\n",
    "bexpr_fuzzer = LimitFuzzer(BEXPR_GRAMMAR)"
   ]
  },
  {
   "cell_type": "code",
   "execution_count": 40,
   "metadata": {},
   "outputs": [
    {
     "data": {
      "text/plain": [
       "'2 * (19.541 + 7 / -4 / 5.7 * 5.0 + -0.2 * 2 * 8) / 4 - -(+3 * (1) / 1.9 / 2.3 - +0.7) / 07133 - 6 * 42.1 * (6.9 * 7) / (5 + 0) * 0 - 3 / +2 - -3 * 08 + (5 + 9.3) * 9 / 8.0 / 6.6'"
      ]
     },
     "execution_count": 40,
     "metadata": {},
     "output_type": "execute_result"
    }
   ],
   "source": [
    "%top expr_fuzzer.fuzz(EXPR_START)"
   ]
  },
  {
   "cell_type": "code",
   "execution_count": 41,
   "metadata": {},
   "outputs": [
    {
     "data": {
      "text/plain": [
       "'and()'"
      ]
     },
     "execution_count": 41,
     "metadata": {},
     "output_type": "execute_result"
    }
   ],
   "source": [
    "%top bexpr_fuzzer.fuzz(BEXPR_START)"
   ]
  },
  {
   "cell_type": "markdown",
   "metadata": {},
   "source": [
    "### Library functions"
   ]
  },
  {
   "cell_type": "markdown",
   "metadata": {},
   "source": [
    "Copying a grammar"
   ]
  },
  {
   "cell_type": "code",
   "execution_count": 42,
   "metadata": {},
   "outputs": [],
   "source": [
    "def copy_grammar(g):\n",
    "    return {k:[[t for t in r] for r in g[k]] for k in g}"
   ]
  },
  {
   "cell_type": "markdown",
   "metadata": {},
   "source": [
    "Produce a sorted list of rules"
   ]
  },
  {
   "cell_type": "code",
   "execution_count": 43,
   "metadata": {},
   "outputs": [],
   "source": [
    "def sort_rules(rules):\n",
    "    return sorted([list(r) for r in rules])"
   ]
  },
  {
   "cell_type": "markdown",
   "metadata": {},
   "source": [
    "#### Nullability"
   ]
  },
  {
   "cell_type": "code",
   "execution_count": 44,
   "metadata": {},
   "outputs": [],
   "source": [
    "EPSILON=''\n",
    "def get_rules(g): return [(k, e) for k, a in g.items() for e in a]\n",
    "def get_terminals(g):\n",
    "    return set(t for k, expr in get_rules(g) for t in expr if t not in g)\n",
    "def fixpoint(f):\n",
    "    def helper(*args):\n",
    "        while True:\n",
    "            sargs = repr(args)\n",
    "            args_ = f(*args)\n",
    "            if repr(args_) == sargs:\n",
    "                return args\n",
    "            args = args_\n",
    "    return helper\n",
    "\n",
    "\n",
    "@fixpoint\n",
    "def nullable_(grules, e):\n",
    "    for A, expression in grules:\n",
    "        if all((token in e)  for token in expression): e |= {A}\n",
    "    return (grules, e)\n",
    "\n",
    "def nullable_nt(grammar):\n",
    "    return nullable_(get_rules(grammar), set())[1]\n",
    "\n",
    "def is_nullable(grammar, start):\n",
    "    return start in nullable_nt(grammar)"
   ]
  },
  {
   "cell_type": "code",
   "execution_count": 45,
   "metadata": {},
   "outputs": [
    {
     "data": {
      "text/plain": [
       "{'<a>', '<b>'}"
      ]
     },
     "execution_count": 45,
     "metadata": {},
     "output_type": "execute_result"
    }
   ],
   "source": [
    "%top nullable_nt({'<a>': [['a'], ['<b>']], '<b>': [[]], '<c>': [['c']]})"
   ]
  },
  {
   "cell_type": "markdown",
   "metadata": {},
   "source": [
    "#### Check for empty grammar\n",
    "\n",
    "One can check for empty grammar by first removing all terminals and check the resulting grammar for nullability."
   ]
  },
  {
   "cell_type": "code",
   "execution_count": 46,
   "metadata": {},
   "outputs": [],
   "source": [
    "def remove_all_terminals(grammar):\n",
    "    return {k:[[t for t in r if is_nt(t)] for r in grammar[k]] for k in grammar} "
   ]
  },
  {
   "cell_type": "code",
   "execution_count": 47,
   "metadata": {},
   "outputs": [],
   "source": [
    "%top _expr_grammar_tmp1 = remove_all_terminals(EXPR_GRAMMAR)"
   ]
  },
  {
   "cell_type": "code",
   "execution_count": 48,
   "metadata": {},
   "outputs": [
    {
     "data": {
      "text/plain": [
       "{'<digit>', '<expr>', '<factor>', '<integer>', '<start>', '<term>'}"
      ]
     },
     "execution_count": 48,
     "metadata": {},
     "output_type": "execute_result"
    }
   ],
   "source": [
    "%top nullable_nt(_expr_grammar_tmp1)"
   ]
  },
  {
   "cell_type": "code",
   "execution_count": 49,
   "metadata": {},
   "outputs": [
    {
     "data": {
      "text/plain": [
       "set()"
      ]
     },
     "execution_count": 49,
     "metadata": {},
     "output_type": "execute_result"
    }
   ],
   "source": [
    "%top nullable_nt(EXPR_GRAMMAR)"
   ]
  },
  {
   "cell_type": "code",
   "execution_count": 50,
   "metadata": {},
   "outputs": [],
   "source": [
    "empty_g, empty_s = {'<start>': [['<expr>']], '<expr>': [['<expr>']]}, '<start>'"
   ]
  },
  {
   "cell_type": "code",
   "execution_count": 51,
   "metadata": {},
   "outputs": [
    {
     "data": {
      "text/plain": [
       "set()"
      ]
     },
     "execution_count": 51,
     "metadata": {},
     "output_type": "execute_result"
    }
   ],
   "source": [
    "%top nullable_nt(empty_g)"
   ]
  },
  {
   "cell_type": "code",
   "execution_count": 52,
   "metadata": {},
   "outputs": [
    {
     "data": {
      "text/plain": [
       "False"
      ]
     },
     "execution_count": 52,
     "metadata": {},
     "output_type": "execute_result"
    }
   ],
   "source": [
    "%top is_nullable(empty_g, empty_s)"
   ]
  },
  {
   "cell_type": "code",
   "execution_count": 53,
   "metadata": {},
   "outputs": [
    {
     "data": {
      "text/plain": [
       "False"
      ]
     },
     "execution_count": 53,
     "metadata": {},
     "output_type": "execute_result"
    }
   ],
   "source": [
    "%top is_nullable(EXPR_GRAMMAR, EXPR_START)"
   ]
  },
  {
   "cell_type": "code",
   "execution_count": 54,
   "metadata": {},
   "outputs": [],
   "source": [
    "def is_cfg_empty(grammar, start):\n",
    "    # first remove all terminals\n",
    "    null_g = remove_all_terminals(grammar)\n",
    "    # then check if start is nullable.\n",
    "    return not is_nullable(null_g, start)"
   ]
  },
  {
   "cell_type": "code",
   "execution_count": 55,
   "metadata": {},
   "outputs": [
    {
     "data": {
      "text/plain": [
       "False"
      ]
     },
     "execution_count": 55,
     "metadata": {},
     "output_type": "execute_result"
    }
   ],
   "source": [
    "%top is_cfg_empty(EXPR_GRAMMAR, EXPR_START)"
   ]
  },
  {
   "cell_type": "code",
   "execution_count": 56,
   "metadata": {},
   "outputs": [
    {
     "data": {
      "text/plain": [
       "True"
      ]
     },
     "execution_count": 56,
     "metadata": {},
     "output_type": "execute_result"
    }
   ],
   "source": [
    "%top is_cfg_empty(empty_g, empty_s)"
   ]
  },
  {
   "cell_type": "markdown",
   "metadata": {},
   "source": [
    "#### Show"
   ]
  },
  {
   "cell_type": "code",
   "execution_count": 57,
   "metadata": {},
   "outputs": [],
   "source": [
    "def show_grammar(grammar, verbose=0):\n",
    "    r = 0\n",
    "    k = 0\n",
    "    for key in grammar:\n",
    "        k += 1\n",
    "        if verbose > -1: print(key,'::=')\n",
    "        for rule in grammar[key]:\n",
    "            r += 1\n",
    "            if verbose > 1:\n",
    "                pre = r\n",
    "            else:\n",
    "                pre = ''\n",
    "            if verbose > -1:\n",
    "                print('%s|   ' % pre, ' '.join([t if is_nt(t) else repr(t) for t in rule]))\n",
    "        if verbose > 0:\n",
    "            print(k, r)\n",
    "    print(k, r)"
   ]
  },
  {
   "cell_type": "code",
   "execution_count": 58,
   "metadata": {},
   "outputs": [],
   "source": [
    "Gs = show_grammar"
   ]
  },
  {
   "cell_type": "code",
   "execution_count": 59,
   "metadata": {},
   "outputs": [
    {
     "name": "stdout",
     "output_type": "stream",
     "text": [
      "<start> ::=\n",
      "|    <expr>\n",
      "<expr> ::=\n",
      "|    <term> ' + ' <expr>\n",
      "|    <term> ' - ' <expr>\n",
      "|    <term>\n",
      "<term> ::=\n",
      "|    <factor> ' * ' <term>\n",
      "|    <factor> ' / ' <term>\n",
      "|    <factor>\n",
      "<factor> ::=\n",
      "|    '+' <factor>\n",
      "|    '-' <factor>\n",
      "|    '(' <expr> ')'\n",
      "|    <integer> '.' <integer>\n",
      "|    <integer>\n",
      "<integer> ::=\n",
      "|    <digit> <integer>\n",
      "|    <digit>\n",
      "<digit> ::=\n",
      "|    '0'\n",
      "|    '1'\n",
      "|    '2'\n",
      "|    '3'\n",
      "|    '4'\n",
      "|    '5'\n",
      "|    '6'\n",
      "|    '7'\n",
      "|    '8'\n",
      "|    '9'\n",
      "6 24\n"
     ]
    }
   ],
   "source": [
    "%top Gs(EXPR_GRAMMAR)"
   ]
  },
  {
   "cell_type": "markdown",
   "metadata": {},
   "source": [
    "#### Split token"
   ]
  },
  {
   "cell_type": "code",
   "execution_count": 60,
   "metadata": {},
   "outputs": [],
   "source": [
    "def tsplit(token):\n",
    "    assert token[0], token[-1] == ('<', '>')\n",
    "    front, *back = token[1:-1].split(None, 1)\n",
    "    return front, ' '.join(back)"
   ]
  },
  {
   "cell_type": "markdown",
   "metadata": {},
   "source": [
    "#### The stem\n",
    "\n",
    "The stem of a token is the original nonterminal it corresponds to, before refinement."
   ]
  },
  {
   "cell_type": "code",
   "execution_count": 61,
   "metadata": {},
   "outputs": [],
   "source": [
    "def stem(token):\n",
    "    return tsplit(token)[0].strip()"
   ]
  },
  {
   "cell_type": "markdown",
   "metadata": {},
   "source": [
    "#### Normalization"
   ]
  },
  {
   "cell_type": "code",
   "execution_count": 62,
   "metadata": {},
   "outputs": [],
   "source": [
    "def normalize(key):\n",
    "    return '<%s>' % stem(key)"
   ]
  },
  {
   "cell_type": "code",
   "execution_count": 63,
   "metadata": {},
   "outputs": [],
   "source": [
    "def normalize_grammar(g):\n",
    "    return {normalize(k):list({tuple([normalize(t) if is_nt(t) else t for t in r]) for r in g[k]}) for k in g}"
   ]
  },
  {
   "cell_type": "markdown",
   "metadata": {},
   "source": [
    "#### The refinement\n",
    "\n",
    "The refinement of a token is the part after the initial space in a token which corresponds to how the refined token came to be (based on adding/negating other faults.)"
   ]
  },
  {
   "cell_type": "code",
   "execution_count": 64,
   "metadata": {},
   "outputs": [],
   "source": [
    "def refinement(token):\n",
    "    return tsplit(token)[1]"
   ]
  },
  {
   "cell_type": "code",
   "execution_count": 65,
   "metadata": {},
   "outputs": [],
   "source": [
    "def is_refined_key(key):\n",
    "    assert is_nt(key)\n",
    "    return (' ' in key)"
   ]
  },
  {
   "cell_type": "code",
   "execution_count": 66,
   "metadata": {},
   "outputs": [],
   "source": [
    "def is_base_key(key):\n",
    "    return not is_refined_key(key)"
   ]
  },
  {
   "cell_type": "code",
   "execution_count": 67,
   "metadata": {},
   "outputs": [],
   "source": [
    "%top assert refinement('<a b>') == 'b'"
   ]
  },
  {
   "cell_type": "code",
   "execution_count": 68,
   "metadata": {},
   "outputs": [],
   "source": [
    "%top assert is_refined_key('<a b>')"
   ]
  },
  {
   "cell_type": "code",
   "execution_count": 69,
   "metadata": {},
   "outputs": [],
   "source": [
    "%top assert is_base_key('<a>')"
   ]
  },
  {
   "cell_type": "code",
   "execution_count": 70,
   "metadata": {},
   "outputs": [],
   "source": [
    "%top assert not is_base_key('<a b>')"
   ]
  },
  {
   "cell_type": "code",
   "execution_count": 71,
   "metadata": {},
   "outputs": [],
   "source": [
    "def is_refined_rule(rule):\n",
    "    for k in rule:\n",
    "        if is_nt(k) and is_refined_key(k): return True\n",
    "    return False"
   ]
  },
  {
   "cell_type": "markdown",
   "metadata": {},
   "source": [
    "#### Find Node\n",
    "Finding nodes given the path"
   ]
  },
  {
   "cell_type": "code",
   "execution_count": 72,
   "metadata": {},
   "outputs": [],
   "source": [
    "def find_node(node, path):\n",
    "    name, children, *rest = node\n",
    "    if not path:\n",
    "        return node\n",
    "    p, *path = path\n",
    "    for i,c in enumerate(children):\n",
    "        if i == p:\n",
    "            return find_node(c, path)\n",
    "    return None"
   ]
  },
  {
   "cell_type": "code",
   "execution_count": 73,
   "metadata": {},
   "outputs": [],
   "source": [
    "%top assert find_node(expr_tree, [0,1]) == (' + ', [])"
   ]
  },
  {
   "cell_type": "code",
   "execution_count": 74,
   "metadata": {
    "scrolled": true
   },
   "outputs": [],
   "source": [
    "%top assert find_node(expr_tree, [0,2,0,0,2]) == (')', [])"
   ]
  },
  {
   "cell_type": "code",
   "execution_count": 75,
   "metadata": {},
   "outputs": [],
   "source": [
    "def Ns(expr, paths):\n",
    "    for path in paths:\n",
    "        n = find_node(expr, path)\n",
    "        print(n[0], tree_to_str(n))"
   ]
  },
  {
   "cell_type": "code",
   "execution_count": 76,
   "metadata": {},
   "outputs": [
    {
     "name": "stdout",
     "output_type": "stream",
     "text": [
      "<expr> ((2 * 3 / 4))\n",
      "<term> ((2 * 3 / 4))\n",
      "<factor> ((2 * 3 / 4))\n",
      "<expr> (2 * 3 / 4)\n"
     ]
    }
   ],
   "source": [
    "%%top\n",
    "Ns(expr_tree, [[0,2]])\n",
    "Ns(expr_tree, [[0,2,0]])\n",
    "Ns(expr_tree, [[0,2,0,0]])\n",
    "Ns(expr_tree, [[0,2,0,0,1]])"
   ]
  },
  {
   "cell_type": "markdown",
   "metadata": {},
   "source": [
    "#### Path to Key\n",
    "Get the path to where key is defined. This is not for parse trees where the same nonterminal may be found in multiple nodes, but for trees where the key at each node is unique."
   ]
  },
  {
   "cell_type": "code",
   "execution_count": 77,
   "metadata": {},
   "outputs": [],
   "source": [
    "def path_to_key(tree, key):\n",
    "    if tree is None: return None\n",
    "    name, children = tree\n",
    "    if key == name:\n",
    "        return []\n",
    "    for i,c in enumerate(children):\n",
    "        p = path_to_key(c, key)\n",
    "        if p is not None:\n",
    "            return [i] + p\n",
    "    return None"
   ]
  },
  {
   "cell_type": "markdown",
   "metadata": {},
   "source": [
    "#### Rule to normalized rule"
   ]
  },
  {
   "cell_type": "code",
   "execution_count": 78,
   "metadata": {},
   "outputs": [],
   "source": [
    "def rule_to_normalized_rule(rule):\n",
    "    return [normalize(t) if is_nt(t) else t for t in rule]"
   ]
  },
  {
   "cell_type": "code",
   "execution_count": 79,
   "metadata": {},
   "outputs": [],
   "source": [
    "def normalized_rules(rules):\n",
    "    return [list(rule) for rule in {tuple(rule_to_normalized_rule(r)) for r in rules}]"
   ]
  },
  {
   "cell_type": "code",
   "execution_count": 80,
   "metadata": {},
   "outputs": [],
   "source": [
    "def normalized_rule_match(r1, r2):\n",
    "    return rule_to_normalized_rule(r1) == rule_to_normalized_rule(r2)"
   ]
  },
  {
   "cell_type": "code",
   "execution_count": 81,
   "metadata": {},
   "outputs": [],
   "source": [
    "def rule_normalized_difference(rulesA, rulesB):\n",
    "    rem_rulesA = rulesA\n",
    "    for ruleB in rulesB:\n",
    "        rem_rulesA = [rA for rA in rem_rulesA if not normalized_rule_match(rA, ruleB)]\n",
    "    return rem_rulesA"
   ]
  },
  {
   "cell_type": "code",
   "execution_count": 82,
   "metadata": {},
   "outputs": [],
   "source": [
    "def rules_normalized_match_to_rule(rulesA, rB):\n",
    "    selA = [rA for rA in rulesA if normalized_rule_match(rA, rB)]\n",
    "    return selA"
   ]
  },
  {
   "cell_type": "code",
   "execution_count": 83,
   "metadata": {},
   "outputs": [
    {
     "data": {
      "text/plain": [
       "[['+', '<factor>'],\n",
       " ['-', '<factor>'],\n",
       " ['(', '<expr>', ')'],\n",
       " ['<integer>', '.', '<integer>'],\n",
       " ['<integer>']]"
      ]
     },
     "execution_count": 83,
     "metadata": {},
     "output_type": "execute_result"
    }
   ],
   "source": [
    "%top EXPR_GRAMMAR['<factor>']"
   ]
  },
  {
   "cell_type": "code",
   "execution_count": 84,
   "metadata": {},
   "outputs": [],
   "source": [
    "%%top\n",
    "assert rule_normalized_difference(EXPR_GRAMMAR['<factor>'], [['(', '<expr F1>', ')']]) == [\n",
    "    ['+', '<factor>'],\n",
    "    ['-', '<factor>'],\n",
    "    ['<integer>', '.', '<integer>'],\n",
    "    ['<integer>']]"
   ]
  },
  {
   "cell_type": "code",
   "execution_count": 85,
   "metadata": {},
   "outputs": [],
   "source": [
    "%%top\n",
    "assert rule_normalized_difference(EXPR_GRAMMAR['<factor>'], [['(', '<expr>', ')'], ['<integer>']]) == [\n",
    "    ['+', '<factor>'],\n",
    "    ['-', '<factor>'],\n",
    "    ['<integer>', '.', '<integer>']]"
   ]
  },
  {
   "cell_type": "markdown",
   "metadata": {},
   "source": [
    "#### Node to normalized rule"
   ]
  },
  {
   "cell_type": "code",
   "execution_count": 86,
   "metadata": {},
   "outputs": [],
   "source": [
    "def node_to_rule(node):\n",
    "    name, children, *rest = node\n",
    "    return [c[0] for c in children]"
   ]
  },
  {
   "cell_type": "code",
   "execution_count": 87,
   "metadata": {},
   "outputs": [
    {
     "data": {
      "text/plain": [
       "['<term>', ' + ', '<expr>']"
      ]
     },
     "execution_count": 87,
     "metadata": {},
     "output_type": "execute_result"
    }
   ],
   "source": [
    "%top node_to_rule(find_node(expr_tree, [0]))"
   ]
  },
  {
   "cell_type": "code",
   "execution_count": 88,
   "metadata": {},
   "outputs": [
    {
     "data": {
      "text/plain": [
       "('<factor>',\n",
       " [('(', []),\n",
       "  ('<expr>',\n",
       "   [('<term>',\n",
       "     [('<factor>',\n",
       "       [('(', []),\n",
       "        ('<expr>',\n",
       "         [('<term>',\n",
       "           [('<factor>', [('<integer>', [('<digit>', [('2', [])])])]),\n",
       "            (' * ', []),\n",
       "            ('<term>',\n",
       "             [('<factor>', [('<integer>', [('<digit>', [('3', [])])])]),\n",
       "              (' / ', []),\n",
       "              ('<term>',\n",
       "               [('<factor>',\n",
       "                 [('<integer>', [('<digit>', [('4', [])])])])])])])]),\n",
       "        (')', [])])])]),\n",
       "  (')', [])])"
      ]
     },
     "execution_count": 88,
     "metadata": {},
     "output_type": "execute_result"
    }
   ],
   "source": [
    "%top n = find_node(expr_tree, [0,2,0, 0]); n"
   ]
  },
  {
   "cell_type": "code",
   "execution_count": 89,
   "metadata": {},
   "outputs": [
    {
     "data": {
      "text/plain": [
       "['(', '<expr>', ')']"
      ]
     },
     "execution_count": 89,
     "metadata": {},
     "output_type": "execute_result"
    }
   ],
   "source": [
    "%top node_to_rule(n)"
   ]
  },
  {
   "cell_type": "code",
   "execution_count": 90,
   "metadata": {},
   "outputs": [],
   "source": [
    "def node_to_normalized_rule(node):\n",
    "    return rule_to_normalized_rule(node_to_rule(node))"
   ]
  },
  {
   "cell_type": "code",
   "execution_count": 91,
   "metadata": {},
   "outputs": [
    {
     "data": {
      "text/plain": [
       "['(', '<expr>', ')']"
      ]
     },
     "execution_count": 91,
     "metadata": {},
     "output_type": "execute_result"
    }
   ],
   "source": [
    "%top node_to_normalized_rule(n)"
   ]
  },
  {
   "cell_type": "code",
   "execution_count": 92,
   "metadata": {},
   "outputs": [],
   "source": [
    "def get_rulesets(rules):\n",
    "    rulesets = {}\n",
    "    for rule in rules:\n",
    "        nr = tuple(rule_to_normalized_rule(rule))\n",
    "        if nr not in rulesets: rulesets[nr] = []\n",
    "        rulesets[nr].append(rule)\n",
    "    return rulesets"
   ]
  },
  {
   "cell_type": "markdown",
   "metadata": {},
   "source": [
    "#### Replace Tree"
   ]
  },
  {
   "cell_type": "code",
   "execution_count": 93,
   "metadata": {},
   "outputs": [],
   "source": [
    "def replace_tree(node, path, newnode):\n",
    "    if not path:\n",
    "        return newnode\n",
    "    name, children = node\n",
    "    hd, *subpath = path\n",
    "    assert hd < len(children)\n",
    "    new_children = []\n",
    "    for i,c in enumerate(children):\n",
    "        if i == hd:\n",
    "            c_ = replace_tree(c, subpath, newnode)\n",
    "        else:\n",
    "            c_ = c\n",
    "        new_children.append(c_)\n",
    "    return (name, new_children)"
   ]
  },
  {
   "cell_type": "code",
   "execution_count": 94,
   "metadata": {},
   "outputs": [],
   "source": [
    "%top assert tree_to_str(find_node(expr_tree, [0,2,0,0])) == '((2 * 3 / 4))'"
   ]
  },
  {
   "cell_type": "code",
   "execution_count": 95,
   "metadata": {},
   "outputs": [],
   "source": [
    "%top assert tree_to_str(replace_tree(expr_tree, [0, 2, 0, 0], ('1', []))) == '1 + 1'"
   ]
  },
  {
   "cell_type": "markdown",
   "metadata": {},
   "source": [
    "#### Validate Tree\n",
    "\n",
    "Validating a parse tree"
   ]
  },
  {
   "cell_type": "code",
   "execution_count": 96,
   "metadata": {},
   "outputs": [],
   "source": [
    "def validate_tree(tree, grammar):\n",
    "    def keys(arr):\n",
    "        return [a[0] for a in arr]\n",
    "    name, children, *rest = tree\n",
    "    if not is_nt(name): return True\n",
    "    \n",
    "    seen = False\n",
    "    for rule in grammar[name]:\n",
    "        if keys(children) == rule:\n",
    "            seen = True\n",
    "    assert seen, name + ' needs ' + repr(grammar[name])\n",
    "    for c in children:\n",
    "        validate_tree(c, grammar)"
   ]
  },
  {
   "cell_type": "code",
   "execution_count": 97,
   "metadata": {},
   "outputs": [],
   "source": [
    "%top validate_tree(expr_tree, EXPR_GRAMMAR)"
   ]
  },
  {
   "cell_type": "code",
   "execution_count": 98,
   "metadata": {},
   "outputs": [
    {
     "name": "stdout",
     "output_type": "stream",
     "text": [
      "<term> needs [['<factor>', ' * ', '<term>'], ['<factor>', ' / ', '<term>'], ['<factor>']]\n"
     ]
    }
   ],
   "source": [
    "%%top\n",
    "try:\n",
    "    validate_tree(replace_tree(expr_tree, [0, 2, 0, 0], ('1', [])), EXPR_GRAMMAR)\n",
    "except AssertionError as e:\n",
    "    print(e)"
   ]
  },
  {
   "cell_type": "code",
   "execution_count": 99,
   "metadata": {},
   "outputs": [],
   "source": [
    "%%top\n",
    "rt = replace_tree(expr_tree, [0, 2, 0, 0], ('<factor>', [('<integer>', [('<digit>',[('1', [])])])]))\n",
    "validate_tree(rt, EXPR_GRAMMAR)"
   ]
  },
  {
   "cell_type": "code",
   "execution_count": 100,
   "metadata": {},
   "outputs": [],
   "source": [
    "%top assert tree_to_str(rt) == '1 + 1'"
   ]
  },
  {
   "cell_type": "markdown",
   "metadata": {},
   "source": [
    "#### Remove empty keys"
   ]
  },
  {
   "cell_type": "markdown",
   "metadata": {},
   "source": [
    "Remove keys that do not have a definition."
   ]
  },
  {
   "cell_type": "code",
   "execution_count": 101,
   "metadata": {},
   "outputs": [],
   "source": [
    "def find_empty_keys(g):\n",
    "    return [k for k in g if not g[k]]"
   ]
  },
  {
   "cell_type": "code",
   "execution_count": 102,
   "metadata": {},
   "outputs": [],
   "source": [
    "def remove_key(k, g):\n",
    "    new_g = {}\n",
    "    for k_ in g:\n",
    "        if k_ == k:\n",
    "            continue\n",
    "        else:\n",
    "            new_rules = []\n",
    "            for rule in g[k_]:\n",
    "                new_rule = []\n",
    "                for t in rule:\n",
    "                    if t == k:\n",
    "                        # skip this rule\n",
    "                        new_rule = None\n",
    "                        break\n",
    "                    else:\n",
    "                        new_rule.append(t)\n",
    "                if new_rule is not None:\n",
    "                    new_rules.append(new_rule)\n",
    "            new_g[k_] = new_rules\n",
    "    return new_g"
   ]
  },
  {
   "cell_type": "code",
   "execution_count": 103,
   "metadata": {},
   "outputs": [],
   "source": [
    "def remove_empty_keys(g):\n",
    "    new_g = copy_grammar(g)\n",
    "    removed_keys = []\n",
    "    empty_keys = find_empty_keys(new_g)\n",
    "    while empty_keys:\n",
    "        for k in empty_keys:\n",
    "            removed_keys.append(k)\n",
    "            new_g = remove_key(k, new_g)\n",
    "        empty_keys = find_empty_keys(new_g)\n",
    "    return new_g, removed_keys"
   ]
  },
  {
   "cell_type": "code",
   "execution_count": 104,
   "metadata": {},
   "outputs": [],
   "source": [
    "tmp_g_empty_ = {\n",
    "    '<start>': [['<v>']],\n",
    "    '<v>': [\n",
    "        ['<expr>'],\n",
    "        ['<digit>']\n",
    "    ],\n",
    "    '<expr>': [['<digit>'],\n",
    "              ['x', '<empty>']],\n",
    "    '<digit>': [['0']],\n",
    "    '<empty>': []\n",
    "}"
   ]
  },
  {
   "cell_type": "code",
   "execution_count": 105,
   "metadata": {},
   "outputs": [
    {
     "name": "stdout",
     "output_type": "stream",
     "text": [
      "<start> ::=\n",
      "|    <v>\n",
      "<v> ::=\n",
      "|    <expr>\n",
      "|    <digit>\n",
      "<expr> ::=\n",
      "|    <digit>\n",
      "<digit> ::=\n",
      "|    '0'\n",
      "4 5\n"
     ]
    },
    {
     "data": {
      "text/plain": [
       "['<empty>']"
      ]
     },
     "execution_count": 105,
     "metadata": {},
     "output_type": "execute_result"
    }
   ],
   "source": [
    "%%top\n",
    "tmp_g, removed_keys = remove_empty_keys(tmp_g_empty_)\n",
    "Gs(tmp_g)\n",
    "removed_keys"
   ]
  },
  {
   "cell_type": "markdown",
   "metadata": {},
   "source": [
    "#### Find all nonterminals"
   ]
  },
  {
   "cell_type": "code",
   "execution_count": 106,
   "metadata": {},
   "outputs": [],
   "source": [
    "def find_all_nonterminals(g):\n",
    "    lst = []\n",
    "    for k in g:\n",
    "        for r in g[k]:\n",
    "            for t in r:\n",
    "                if is_nt(t):\n",
    "                    lst.append(t)\n",
    "    return list(sorted(set(lst)))"
   ]
  },
  {
   "cell_type": "code",
   "execution_count": 107,
   "metadata": {},
   "outputs": [
    {
     "data": {
      "text/plain": [
       "['<digit>', '<expr>', '<v>']"
      ]
     },
     "execution_count": 107,
     "metadata": {},
     "output_type": "execute_result"
    }
   ],
   "source": [
    "%top find_all_nonterminals(tmp_g)"
   ]
  },
  {
   "cell_type": "markdown",
   "metadata": {},
   "source": [
    "#### Undefined keys"
   ]
  },
  {
   "cell_type": "code",
   "execution_count": 108,
   "metadata": {},
   "outputs": [],
   "source": [
    "def undefined_keys(grammar):\n",
    "    keys = find_all_nonterminals(grammar)\n",
    "    return [k for k in keys if k not in grammar]"
   ]
  },
  {
   "cell_type": "markdown",
   "metadata": {},
   "source": [
    "####  Remove unused keys"
   ]
  },
  {
   "cell_type": "markdown",
   "metadata": {},
   "source": [
    "Removes unused nonterminal keys"
   ]
  },
  {
   "cell_type": "code",
   "execution_count": 109,
   "metadata": {},
   "outputs": [],
   "source": [
    "def remove_unused_keys(grammar, start_symbol):\n",
    "    def strip_key(grammar, key, order):\n",
    "        rules = sort_rules(grammar[key])\n",
    "        old_len = len(order)\n",
    "        for rule in rules:\n",
    "            for token in rule:\n",
    "                if is_nt(token):\n",
    "                    if token not in order:\n",
    "                        order.append(token)\n",
    "        new = order[old_len:]\n",
    "        for ckey in new:\n",
    "            strip_key(grammar, ckey, order)\n",
    "    if start_symbol not in grammar:\n",
    "        return {}, []\n",
    "\n",
    "    order = [start_symbol]\n",
    "    strip_key(grammar, start_symbol, order)\n",
    "    if len(order) != len(grammar.keys()):\n",
    "        stripped = [k for k in grammar if k not in order]\n",
    "        #if stripped:\n",
    "        #    print(\"Stripping: %s\" % str(stripped))\n",
    "        faulty = [k for k in order if k not in grammar]\n",
    "        assert not faulty\n",
    "    new_g = {k: [list(r) for r in sort_rules(grammar[k])] for k in order}\n",
    "    return new_g, [k for k in grammar if k not in new_g]"
   ]
  },
  {
   "cell_type": "code",
   "execution_count": 110,
   "metadata": {},
   "outputs": [
    {
     "name": "stdout",
     "output_type": "stream",
     "text": [
      "7 25\n",
      "<start> ::=\n",
      "|    <expr>\n",
      "<expr> ::=\n",
      "|    <term>\n",
      "|    <term> ' + ' <expr>\n",
      "|    <term> ' - ' <expr>\n",
      "<term> ::=\n",
      "|    <factor>\n",
      "|    <factor> ' * ' <term>\n",
      "|    <factor> ' / ' <term>\n",
      "<factor> ::=\n",
      "|    '(' <expr> ')'\n",
      "|    '+' <factor>\n",
      "|    '-' <factor>\n",
      "|    <integer>\n",
      "|    <integer> '.' <integer>\n",
      "<integer> ::=\n",
      "|    <digit>\n",
      "|    <digit> <integer>\n",
      "<digit> ::=\n",
      "|    '0'\n",
      "|    '1'\n",
      "|    '2'\n",
      "|    '3'\n",
      "|    '4'\n",
      "|    '5'\n",
      "|    '6'\n",
      "|    '7'\n",
      "|    '8'\n",
      "|    '9'\n",
      "6 24\n"
     ]
    },
    {
     "data": {
      "text/plain": [
       "['<unused>']"
      ]
     },
     "execution_count": 110,
     "metadata": {},
     "output_type": "execute_result"
    }
   ],
   "source": [
    "%%top\n",
    "tmp_g_unused_ = copy_grammar(EXPR_GRAMMAR)\n",
    "tmp_g_unused_['<unused>'] = [['1']]\n",
    "Gs(tmp_g_unused_,-1)\n",
    "tmp_g, removed_keys = remove_unused_keys(tmp_g_unused_, EXPR_START)\n",
    "Gs(tmp_g)\n",
    "removed_keys"
   ]
  },
  {
   "cell_type": "markdown",
   "metadata": {},
   "source": [
    "#### Validate grammar"
   ]
  },
  {
   "cell_type": "code",
   "execution_count": 111,
   "metadata": {},
   "outputs": [],
   "source": [
    "def validate_grammar(grammar, start_symbol, log=False):\n",
    "    assert len(grammar[start_symbol]) == 1 # otherwise parser will not work\n",
    "    for r in grammar[start_symbol]:\n",
    "        assert len([t for t in r if is_nt(t)]) == 1 # otherwise disjunction will not work\n",
    "    def strip_key(grammar, key, order):\n",
    "        rules = sort_rules(grammar[key])\n",
    "        old_len = len(order)\n",
    "        for rule in rules:\n",
    "            for token in rule:\n",
    "                if is_nt(token):\n",
    "                    if token not in order:\n",
    "                        order.append(token)\n",
    "        new = order[old_len:]\n",
    "        for ckey in new:\n",
    "            strip_key(grammar, ckey, order)\n",
    "    if start_symbol not in grammar:\n",
    "        return {}, []\n",
    "\n",
    "    order = [start_symbol]\n",
    "    strip_key(grammar, start_symbol, order)\n",
    "    valid = True\n",
    "    if len(order) != len(grammar.keys()):\n",
    "        unused = [k for k in grammar if k not in order]\n",
    "        faulty = [k for k in order if k not in grammar]\n",
    "        if faulty or unused:\n",
    "            if log:\n",
    "                print('faulty:', faulty)\n",
    "                print('unused:', unused)\n",
    "            return False\n",
    "    for (k1,k2) in zip(sorted(order), sorted(grammar.keys())):\n",
    "        if k1 != k2:\n",
    "            valid = False\n",
    "            if log:\n",
    "                print('order:', k1, 'grammar:', k2)\n",
    "        else:\n",
    "            if log:\n",
    "                print(k1, k2)\n",
    "    for k in grammar:\n",
    "        if not grammar[k]:\n",
    "            return False\n",
    "    return valid"
   ]
  },
  {
   "cell_type": "code",
   "execution_count": 112,
   "metadata": {},
   "outputs": [
    {
     "name": "stdout",
     "output_type": "stream",
     "text": [
      "<digit> <digit>\n",
      "<expr> <expr>\n",
      "<factor> <factor>\n",
      "<integer> <integer>\n",
      "<start> <start>\n",
      "<term> <term>\n"
     ]
    }
   ],
   "source": [
    "%top assert validate_grammar(EXPR_GRAMMAR, EXPR_START, True)"
   ]
  },
  {
   "cell_type": "code",
   "execution_count": 113,
   "metadata": {},
   "outputs": [
    {
     "data": {
      "text/plain": [
       "{'<start>': [['<v>']],\n",
       " '<v>': [['<expr>'], ['<digit>']],\n",
       " '<expr>': [['<digit>'], ['x', '<empty>']],\n",
       " '<digit>': [['0']],\n",
       " '<empty>': []}"
      ]
     },
     "execution_count": 113,
     "metadata": {},
     "output_type": "execute_result"
    }
   ],
   "source": [
    "tmp_g_empty_"
   ]
  },
  {
   "cell_type": "code",
   "execution_count": 114,
   "metadata": {},
   "outputs": [
    {
     "name": "stdout",
     "output_type": "stream",
     "text": [
      "<digit> <digit>\n",
      "<empty> <empty>\n",
      "<expr> <expr>\n",
      "<start> <start>\n",
      "<v> <v>\n"
     ]
    }
   ],
   "source": [
    "%top assert not validate_grammar(tmp_g_empty_, '<start>', True)"
   ]
  },
  {
   "cell_type": "code",
   "execution_count": 115,
   "metadata": {},
   "outputs": [
    {
     "name": "stdout",
     "output_type": "stream",
     "text": [
      "faulty: []\n",
      "unused: ['<unused>']\n"
     ]
    }
   ],
   "source": [
    "%top assert not validate_grammar(tmp_g_unused_, '<start>', True)"
   ]
  },
  {
   "cell_type": "markdown",
   "metadata": {},
   "source": [
    "#### Finding reachable keys"
   ]
  },
  {
   "cell_type": "code",
   "execution_count": 116,
   "metadata": {},
   "outputs": [],
   "source": [
    "def find_reachable_keys(grammar, key, reachable_keys=None, found_so_far=None):\n",
    "    if reachable_keys is None: reachable_keys = {}\n",
    "    if found_so_far is None: found_so_far = set()\n",
    "\n",
    "    for rule in grammar[key]:\n",
    "        for token in rule:\n",
    "            if not is_nt(token): continue\n",
    "            if token in found_so_far: continue\n",
    "            found_so_far.add(token)\n",
    "            if token in reachable_keys:\n",
    "                for k in reachable_keys[token]:\n",
    "                    found_so_far.add(k)\n",
    "            else:\n",
    "                keys = find_reachable_keys(grammar, token, reachable_keys, found_so_far)\n",
    "                # reachable_keys[token] = keys <- found_so_far contains results from earlier\n",
    "    return found_so_far"
   ]
  },
  {
   "cell_type": "code",
   "execution_count": 117,
   "metadata": {
    "scrolled": true
   },
   "outputs": [
    {
     "name": "stdout",
     "output_type": "stream",
     "text": [
      "<start> {'<term>', '<expr>', '<factor>', '<digit>', '<integer>'}\n",
      "<expr> {'<term>', '<expr>', '<factor>', '<digit>', '<integer>'}\n",
      "<term> {'<term>', '<expr>', '<factor>', '<digit>', '<integer>'}\n",
      "<factor> {'<term>', '<expr>', '<factor>', '<digit>', '<integer>'}\n",
      "<integer> {'<digit>', '<integer>'}\n",
      "<digit> set()\n"
     ]
    }
   ],
   "source": [
    "%%top\n",
    "for key in EXPR_GRAMMAR:\n",
    "    keys = find_reachable_keys(EXPR_GRAMMAR, key, {})\n",
    "    print(key, keys)"
   ]
  },
  {
   "cell_type": "markdown",
   "metadata": {},
   "source": [
    "Finding recursive keys"
   ]
  },
  {
   "cell_type": "code",
   "execution_count": 118,
   "metadata": {},
   "outputs": [],
   "source": [
    "def reachable_dict(grammar):\n",
    "    reachable = {}\n",
    "    for key in grammar:\n",
    "        keys = find_reachable_keys(grammar, key, reachable)\n",
    "        reachable[key] = keys\n",
    "    return reachable"
   ]
  },
  {
   "cell_type": "code",
   "execution_count": 119,
   "metadata": {},
   "outputs": [
    {
     "data": {
      "text/plain": [
       "{'<start>': {'<digit>', '<expr>', '<factor>', '<integer>', '<term>'},\n",
       " '<expr>': {'<digit>', '<expr>', '<factor>', '<integer>', '<term>'},\n",
       " '<term>': {'<digit>', '<expr>', '<factor>', '<integer>', '<term>'},\n",
       " '<factor>': {'<digit>', '<expr>', '<factor>', '<integer>', '<term>'},\n",
       " '<integer>': {'<digit>', '<integer>'},\n",
       " '<digit>': set()}"
      ]
     },
     "execution_count": 119,
     "metadata": {},
     "output_type": "execute_result"
    }
   ],
   "source": [
    "%%top\n",
    "reachable_dict(EXPR_GRAMMAR)"
   ]
  },
  {
   "cell_type": "markdown",
   "metadata": {},
   "source": [
    "#### Simplify boolean expressions"
   ]
  },
  {
   "cell_type": "code",
   "execution_count": 120,
   "metadata": {},
   "outputs": [],
   "source": [
    "import sympy"
   ]
  },
  {
   "cell_type": "code",
   "execution_count": 121,
   "metadata": {},
   "outputs": [],
   "source": [
    "class LitB:\n",
    "    def __init__(self, a): self.a = a\n",
    "    def __str__(self): return self.a\n",
    "\n",
    "TrueB = LitB('')\n",
    "FalseB = LitB('_|_')\n",
    "\n",
    "class OrB:\n",
    "    def __init__(self, a): self.l = a\n",
    "    def __str__(self): return 'or(%s)' % ','.join(sorted([str(s) for s in self.l]))\n",
    "class AndB:\n",
    "    def __init__(self, a): self.l = a\n",
    "    def __str__(self): return 'and(%s)' % ','.join(sorted([str(s) for s in self.l]))\n",
    "class NegB:\n",
    "    def __init__(self, a): self.a = a\n",
    "    def __str__(self): return 'neg(%s)' % str(self.a)\n",
    "class B:\n",
    "    def __init__(self, a): self.a = a\n",
    "    def __str__(self): return str(self.a)"
   ]
  },
  {
   "cell_type": "code",
   "execution_count": null,
   "metadata": {},
   "outputs": [],
   "source": []
  },
  {
   "cell_type": "code",
   "execution_count": 122,
   "metadata": {},
   "outputs": [],
   "source": [
    "\n",
    "class BExpr:\n",
    "    def __init__(self, s):\n",
    "        if s is not None:\n",
    "            self._s = s\n",
    "            self._tree = self._parse(s)\n",
    "            self._simple, self._sympy = self._simplify()\n",
    "        else: # create\n",
    "            self._s = None\n",
    "            self._tree = None\n",
    "            self._simple = None\n",
    "            self._sympy = None\n",
    "            \n",
    "    def simple(self):\n",
    "        if self._simple is None:\n",
    "            self._simple = str(self._convert_sympy_to_bexpr(self._sympy))\n",
    "        return self._simple\n",
    "\n",
    "    def _parse(self, k):\n",
    "        bexpr_parser = Parser(BEXPR_GRAMMAR, canonical=True, start_symbol=BEXPR_START)\n",
    "        bparse_tree = list(bexpr_parser.parse(k))[0]\n",
    "        bexpr = bparse_tree[1][0]\n",
    "        return bexpr\n",
    "    \n",
    "    def with_key(self, k):\n",
    "        s = self.simple()\n",
    "        if s: return '<%s %s>' % (stem(k), s)\n",
    "        return normalize(k)\n",
    "\n",
    "    def _simplify(self):\n",
    "        e0, defs = self._convert_to_sympy(self._tree)\n",
    "        e1 = sympy.to_dnf(e0)\n",
    "        e2 = self._convert_sympy_to_bexpr(e1)\n",
    "        v = str(e2)\n",
    "        my_keys = [k for k in defs]\n",
    "        for k in my_keys:\n",
    "            del defs[k]\n",
    "        return v, e1\n",
    "    \n",
    "    def is_neg_sym(self):\n",
    "        op = self.get_operator()\n",
    "        if op != 'neg': return False\n",
    "        if not isinstance(self._sympy.args[0], sympy.Symbol): return False\n",
    "        return True\n",
    "    \n",
    "    def get_operator(self):\n",
    "        if isinstance(self._sympy, sympy.And): return 'and'\n",
    "        elif isinstance(self._sympy, sympy.Or): return 'or'\n",
    "        elif isinstance(self._sympy, sympy.Not): return 'neg'\n",
    "        else: return ''\n",
    "    \n",
    "    def op_fst(self):\n",
    "        op = self.get_operator()\n",
    "        assert op == 'neg'\n",
    "        bexpr = BExpr(None)\n",
    "        bexpr._sympy = self._sympy.args[0]\n",
    "        return bexpr\n",
    "    \n",
    "    def op_fst_snd(self):\n",
    "        bexpr = BExpr(None)\n",
    "        bexpr._sympy = self._sympy.args[0]\n",
    "        \n",
    "        bexpr_rest = BExpr(None)\n",
    "        op = self.get_operator()\n",
    "\n",
    "        if op == 'and':\n",
    "            bexpr_rest._sympy = sympy.And(*self._sympy.args[1:])\n",
    "        elif op == 'or':\n",
    "            bexpr_rest._sympy = sympy.Or(*self._sympy.args[1:])\n",
    "        else:\n",
    "            assert False\n",
    "        return bexpr, bexpr_rest\n",
    "\n",
    "    def negate(self):\n",
    "        bexpr = BExpr(None)\n",
    "        bexpr._sympy = sympy.Not(self._sympy).simplify()\n",
    "        return bexpr\n",
    "\n",
    "    def _flatten(self, bexprs):\n",
    "        assert bexprs[0] == '<bexprs>'\n",
    "        if len(bexprs[1]) == 1:\n",
    "            return [bexprs[1][0]]\n",
    "        else:\n",
    "            assert len(bexprs[1]) == 3\n",
    "            a = bexprs[1][0]\n",
    "            comma = bexprs[1][1]\n",
    "            rest = bexprs[1][2]\n",
    "            return [a] + self._flatten(rest)\n",
    "\n",
    "    def _convert_to_sympy(self, bexpr_tree, symargs=None):\n",
    "        def get_op(node):\n",
    "            assert node[0] == '<bop>', node[0]\n",
    "            return node[1][0][0]\n",
    "        if symargs is None:\n",
    "            symargs = {}\n",
    "        name, children = bexpr_tree\n",
    "        assert name == '<bexpr>', name\n",
    "        if len(children) == 1: # fault node\n",
    "            name = tree_to_str(children[0])\n",
    "            if not name: return None, symargs\n",
    "            if name not in symargs:\n",
    "                symargs[name] = sympy.symbols(name)\n",
    "            return symargs[name], symargs\n",
    "        else:\n",
    "            operator = get_op(children[0])\n",
    "            if children[2][0] == '<bexprs>':\n",
    "                res = self._flatten(children[2])\n",
    "            else:\n",
    "                res = [children[2]]\n",
    "            if operator == 'and':\n",
    "                sp = [self._convert_to_sympy(a, symargs) for a in res]\n",
    "                return sympy.And(*[a for a,_ in sp]), symargs\n",
    "\n",
    "            elif operator == 'or':\n",
    "                sp = [self._convert_to_sympy(a, symargs) for a in res]\n",
    "                return sympy.Or(*[a for a,_ in sp]), symargs\n",
    "\n",
    "            elif operator == 'neg':\n",
    "                assert len(res) == 1\n",
    "                a,_ = self._convert_to_sympy(res[0], symargs)\n",
    "                return sympy.Not(a), symargs\n",
    "            else:\n",
    "                assert False\n",
    "\n",
    "    def _convert_sympy_to_bexpr(self, sexpr, log=False):\n",
    "        if isinstance(sexpr, sympy.Symbol):\n",
    "            return B(str(sexpr))\n",
    "        elif isinstance(sexpr, sympy.Not):\n",
    "            return NegB(self._convert_sympy_to_bexpr(sexpr.args[0]))\n",
    "        elif isinstance(sexpr, sympy.And):\n",
    "            a = sexpr.args[0]\n",
    "            b = sexpr.args[1]\n",
    "            if isinstance(a, sympy.Not):\n",
    "                if str(a.args[0]) == str(b): return FalseB # F & ~F == _|_\n",
    "            elif isinstance(b, sympy.Not):\n",
    "                if str(b.args[0]) == str(a): return FalseB # F & ~F == _|_\n",
    "            sym_vars = sorted([self._convert_sympy_to_bexpr(a) for a in sexpr.args], key=str)\n",
    "            assert sym_vars\n",
    "            if FalseB in sym_vars: return FalseB # if bottom is present in and, that is the result\n",
    "            if TrueB in sym_vars:\n",
    "                sym_vars = [s for s in sym_vars if s != TrueB] # base def does not do anything in and.\n",
    "                if not sym_vars: return TrueB\n",
    "            return AndB(sym_vars)\n",
    "        elif isinstance(sexpr, sympy.Or):\n",
    "            a = sexpr.args[0]\n",
    "            b = sexpr.args[1]\n",
    "            if isinstance(a, sympy.Not):\n",
    "                if str(a.args[0]) == str(b): return TrueB # F | ~F = U self._convert_sympy_to_bexpr(b)\n",
    "            elif isinstance(b, sympy.Not):\n",
    "                if str(b.args[0]) == str(a): return TrueB # F | ~F = U self._convert_sympy_to_bexpr(a)\n",
    "\n",
    "            sym_vars = sorted([self._convert_sympy_to_bexpr(a) for a in sexpr.args], key=str)\n",
    "            assert sym_vars\n",
    "            if TrueB in sym_vars: return TrueB # if original def is present in or, that is the result\n",
    "            if FalseB in sym_vars:\n",
    "                sym_vars = [s for s in sym_vars if s != FalseB]\n",
    "                if not sym_vars: return FalseB\n",
    "            return OrB(sym_vars)\n",
    "        else:\n",
    "            if log: print(repr(sexpr))\n",
    "            assert False"
   ]
  },
  {
   "cell_type": "code",
   "execution_count": 123,
   "metadata": {},
   "outputs": [],
   "source": [
    "#%%top\n",
    "bexpr_input = 'and(and(and(and(and(neg(+F2),neg(L2_2)),neg(+F2)),and(neg(+F2),neg(L2_2))),and(and(neg(+F2),neg(L2_2)),neg(+F2))),and(and(and(neg(+F2),neg(L2_2)),neg(+F2)),and(neg(+F2),neg(L2_2))))'\n",
    "simplified_bexpr_input = BExpr(bexpr_input).simple()"
   ]
  },
  {
   "cell_type": "code",
   "execution_count": 124,
   "metadata": {},
   "outputs": [
    {
     "data": {
      "text/plain": [
       "'and(neg(+F2),neg(L2_2))'"
      ]
     },
     "execution_count": 124,
     "metadata": {},
     "output_type": "execute_result"
    }
   ],
   "source": [
    "%top simplified_bexpr_input"
   ]
  },
  {
   "cell_type": "code",
   "execution_count": 125,
   "metadata": {},
   "outputs": [
    {
     "data": {
      "text/plain": [
       "(~+F2, ~L2_2)"
      ]
     },
     "execution_count": 125,
     "metadata": {},
     "output_type": "execute_result"
    }
   ],
   "source": [
    "a, b = BExpr(bexpr_input).op_fst_snd()\n",
    "a._sympy, b._sympy"
   ]
  },
  {
   "cell_type": "code",
   "execution_count": 126,
   "metadata": {},
   "outputs": [],
   "source": [
    "def disj(k1, k2, simplify=False):\n",
    "    assert is_nt(k1)\n",
    "    if k1 == k2: return k1\n",
    "    rk1 = refinement(k1)\n",
    "    rk2 = refinement(k2)\n",
    "    if not rk1: return k1\n",
    "    if not rk2: return k2\n",
    "    k = stem(k1)\n",
    "    if rk1 == '_|_': return k2\n",
    "    if rk2 == '_|_': return k1\n",
    "    b = BExpr('or(%s,%s)' % (rk1, rk2))\n",
    "    return b.with_key(k1)"
   ]
  },
  {
   "cell_type": "code",
   "execution_count": 127,
   "metadata": {},
   "outputs": [],
   "source": [
    "def conj(k1, k2, simplify=False):\n",
    "    assert is_nt(k1)\n",
    "    if k1 == k2: return k1\n",
    "    rk1 = refinement(k1)\n",
    "    rk2 = refinement(k2)\n",
    "    if not rk1: return k2\n",
    "    if not rk2: return k1\n",
    "    k = stem(k1)\n",
    "    if rk1 == '_|_': return k1\n",
    "    if rk2 == '_|_': return k2\n",
    "    b = BExpr('and(%s,%s)' % (rk1, rk2))\n",
    "    return b.with_key(k1)"
   ]
  },
  {
   "cell_type": "markdown",
   "metadata": {},
   "source": [
    "#### Remove shadowed refined rules"
   ]
  },
  {
   "cell_type": "markdown",
   "metadata": {},
   "source": [
    "##### is_A_more_refined_than_B\n",
    "\n",
    "Compare the positions of `ruleA` and `ruleB` in `porder` of base `grammar`.\n",
    "In the porder, we assume the most general ones will come first."
   ]
  },
  {
   "cell_type": "code",
   "execution_count": 128,
   "metadata": {},
   "outputs": [],
   "source": [
    "def is_A_more_refined_than_B(ruleA, ruleB, porder):\n",
    "    if len(ruleA) != len(ruleB): return False\n",
    "    for a_, b_ in zip(ruleA, ruleB):\n",
    "        if not is_nt(a_) or not is_nt(b_):\n",
    "            if a_ != b_: return False\n",
    "            continue\n",
    "        a = normalize(a_) \n",
    "        b = normalize(b_)\n",
    "        if a != b: return False\n",
    "        if a not in porder or b not in porder: return None\n",
    "        pkA = path_to_key(porder[a], a_)\n",
    "        pkB = path_to_key(porder[b], b_)\n",
    "        if pkA is None or pkB is None: return None # we dont know.\n",
    "        pA = ' '.join([str(s) for s in pkA])\n",
    "        pB = ' '.join([str(s) for s in pkB])\n",
    "        # more general should be included in the more specific\n",
    "        if pB not in pA: return False\n",
    "    return True"
   ]
  },
  {
   "cell_type": "code",
   "execution_count": 129,
   "metadata": {},
   "outputs": [],
   "source": [
    "%%top\n",
    "my_porder = {'<a>' : ('<a>',[('<a 1>', [('<a 2>',[('<a 3>',[])])])]),\n",
    "             '<b>':  ('<b>',[('<b 1>', [('<b 2>',[('<b 3>',[])])])]),\n",
    "             '<c>':  ('<c>',[('<c 1>', [('<c 2>',[('<c 3>',[])])])])}"
   ]
  },
  {
   "cell_type": "code",
   "execution_count": 130,
   "metadata": {},
   "outputs": [],
   "source": [
    "%top assert not is_A_more_refined_than_B(['<a 1>', '<b 1>', '<c 1>'], ['<a 2>', '<b 2>', '<c 2>'], my_porder)"
   ]
  },
  {
   "cell_type": "code",
   "execution_count": 131,
   "metadata": {},
   "outputs": [],
   "source": [
    "%top assert is_A_more_refined_than_B(['<a 3>', '<b 3>', '<c 3>'], ['<a 2>', '<b 2>', '<c 2>'], my_porder)"
   ]
  },
  {
   "cell_type": "code",
   "execution_count": 132,
   "metadata": {},
   "outputs": [],
   "source": [
    "%top assert is_A_more_refined_than_B(['<a 2>', '<b 2>', '<c 3>'], ['<a 2>', '<b 2>', '<c 2>'], my_porder)"
   ]
  },
  {
   "cell_type": "code",
   "execution_count": 133,
   "metadata": {},
   "outputs": [],
   "source": [
    "%top assert not is_A_more_refined_than_B(['<a 3>', '<b 3>', '<c 1>'], ['<a 2>', '<b 2>', '<c 2>'], my_porder)"
   ]
  },
  {
   "cell_type": "markdown",
   "metadata": {},
   "source": [
    "##### Get general rule"
   ]
  },
  {
   "cell_type": "code",
   "execution_count": 134,
   "metadata": {},
   "outputs": [],
   "source": [
    "def get_general_rule(ruleA, rules, porder):\n",
    "    unknown = 0\n",
    "    for r in rules:\n",
    "        v = is_A_more_refined_than_B(ruleA, r, porder)\n",
    "        if v is None:\n",
    "            # we dont know about this.\n",
    "            unknown += 1\n",
    "            continue\n",
    "        elif v:\n",
    "            return r, unknown\n",
    "    return None, unknown"
   ]
  },
  {
   "cell_type": "code",
   "execution_count": 135,
   "metadata": {},
   "outputs": [
    {
     "data": {
      "text/plain": [
       "(['<a 1>', '<b 1>', '<c 1>'], 0)"
      ]
     },
     "execution_count": 135,
     "metadata": {},
     "output_type": "execute_result"
    }
   ],
   "source": [
    "%%top\n",
    "get_general_rule(['<a 1>', '<b 1>', '<c 1>'], [\n",
    "    ['<a 1>', '<b 1>', '<c 1>'],\n",
    "    ['<a 2>', '<b 2>', '<c 2>'],\n",
    "    ['<a 3>', '<b 3>', '<c 3>'],\n",
    "], my_porder)"
   ]
  },
  {
   "cell_type": "code",
   "execution_count": 136,
   "metadata": {},
   "outputs": [
    {
     "data": {
      "text/plain": [
       "(['<a 1>', '<b 1>', '<c 1>'], 0)"
      ]
     },
     "execution_count": 136,
     "metadata": {},
     "output_type": "execute_result"
    }
   ],
   "source": [
    "%%top\n",
    "get_general_rule(['<a 1>', '<b 1>', '<c 3>'], [\n",
    "    ['<a 1>', '<b 1>', '<c 1>'],\n",
    "    ['<a 2>', '<b 2>'],\n",
    "    ['<a 3>'],\n",
    "], my_porder)"
   ]
  },
  {
   "cell_type": "code",
   "execution_count": 137,
   "metadata": {},
   "outputs": [
    {
     "data": {
      "text/plain": [
       "(None, 0)"
      ]
     },
     "execution_count": 137,
     "metadata": {},
     "output_type": "execute_result"
    }
   ],
   "source": [
    "%%top\n",
    "get_general_rule(['<a 1>', '<b 2>'], [\n",
    "    ['<a 1>', '<b 1>', '<c 1>'],\n",
    "    ['<a 2>', '<b 2>'],\n",
    "    ['<a 3>'],\n",
    "], my_porder)"
   ]
  },
  {
   "cell_type": "markdown",
   "metadata": {},
   "source": [
    "##### Is keyA more refined than keyB"
   ]
  },
  {
   "cell_type": "code",
   "execution_count": 138,
   "metadata": {},
   "outputs": [],
   "source": [
    "def is_keyA_more_refined_than_keyB(keyA, keyB, porder, grammar):\n",
    "    # essential idea of comparing two keys is this:\n",
    "    # One key is smaller than the other if for any given rule in the first, there exist another rule that is larger\n",
    "    # than that in the second key.\n",
    "    # a rule is smaller than another if all tokens in that rule is either equal (matching) or smaller than\n",
    "    # the corresponding token in the other.\n",
    "    \n",
    "    # if normalize(keyB) == keyB: return True # normalized key is always the top (and may not exist in grammar)\n",
    "    \n",
    "    A_rules = grammar[keyA]\n",
    "    B_rules = grammar[keyB]\n",
    "   \n",
    "    for A_rule in A_rules:\n",
    "        v,unk = get_general_rule(A_rule, B_rules, porder)\n",
    "        if v is None:\n",
    "            if unk:\n",
    "                return None # dont know\n",
    "            return False\n",
    "        # There is a more general rule than A_rule in B_rules\n",
    "    return True"
   ]
  },
  {
   "cell_type": "markdown",
   "metadata": {},
   "source": [
    "##### Insert into partial order"
   ]
  },
  {
   "cell_type": "code",
   "execution_count": 139,
   "metadata": {},
   "outputs": [],
   "source": [
    "def insert_into_porder(my_key, porder, grammar):\n",
    "    def update_tree(my_key, tree, grammar):\n",
    "        if tree is None: return True, (my_key, [])\n",
    "        k, children = tree\n",
    "        if is_base_key(my_key):\n",
    "            if not is_base_key(k):\n",
    "                return True, (my_key, [tree])\n",
    "            else:\n",
    "                return False, tree\n",
    " \n",
    "        v = is_keyA_more_refined_than_keyB(my_key, k, porder, grammar)\n",
    "        if is_base_key(k): v = True\n",
    "        # if v is unknown...\n",
    "        if v: # we should go into the children\n",
    "            if not children:\n",
    "                #print('>', 0)\n",
    "                return True, (k, [(my_key, [])])\n",
    "            new_children = []\n",
    "            updated = False\n",
    "            for c in children:\n",
    "                u, c_ = update_tree(my_key, c, grammar)\n",
    "                if u: updated = True\n",
    "                new_children.append(c_)\n",
    "            #print('>', 1)\n",
    "            return updated, (k, new_children)\n",
    "        else:\n",
    "            #v = is_keyA_more_refined_than_keyB(k, my_key, porder, grammar)\n",
    "            if v:\n",
    "                #this should be the parent of tree\n",
    "                #print('>', 2)\n",
    "                return True, (my_key, [tree])\n",
    "            else:\n",
    "                # add as a sibling -- but only if we have evidence.\n",
    "                if v is not None:\n",
    "                    #print('>', 3)\n",
    "                    return True, (k, children + [(my_key, [])])\n",
    "                else:\n",
    "                    return False, tree\n",
    "    key = normalize(my_key)\n",
    "    updated, v = update_tree(my_key, porder.get(key, None), grammar)\n",
    "    if updated:\n",
    "        porder[key] = v\n",
    "    return updated"
   ]
  },
  {
   "cell_type": "markdown",
   "metadata": {},
   "source": [
    "##### Is key in partial order"
   ]
  },
  {
   "cell_type": "code",
   "execution_count": 140,
   "metadata": {},
   "outputs": [],
   "source": [
    "def is_key_in_porder(key, tree):\n",
    "    if tree is None: return False\n",
    "    name, children = tree\n",
    "    if name == key:\n",
    "        return True\n",
    "    for c in children:\n",
    "        if is_key_in_porder(key, c):\n",
    "            return True\n",
    "    return False"
   ]
  },
  {
   "cell_type": "markdown",
   "metadata": {},
   "source": [
    "##### Identify partial orders of nonterminals from a grammar"
   ]
  },
  {
   "cell_type": "markdown",
   "metadata": {},
   "source": [
    "In theory, identifying partial orders is simple once you have the machinary for `and` and `neg`. To find if a given nonterminal `A` is more refined than `B`, do `A - B` and `B - A` and check which of these are empty. Since we do not have the machinery yet, doing it here without that."
   ]
  },
  {
   "cell_type": "code",
   "execution_count": 141,
   "metadata": {},
   "outputs": [],
   "source": [
    "def identify_partial_orders(grammar):\n",
    "    porder = {}\n",
    "    cont = True\n",
    "    while cont:\n",
    "        cont = False\n",
    "        for k in grammar:\n",
    "            nkey = normalize(k)\n",
    "            if is_key_in_porder(k, porder.get(nkey, None)):\n",
    "                continue\n",
    "            updated = insert_into_porder(k, porder, grammar)\n",
    "            if not updated:\n",
    "                continue\n",
    "            cont = True\n",
    "    #for k in grammar:\n",
    "    #    assert k in porder\n",
    "    return porder"
   ]
  },
  {
   "cell_type": "code",
   "execution_count": 142,
   "metadata": {
    "scrolled": true
   },
   "outputs": [
    {
     "data": {
      "text/plain": [
       "{'<start>': ('<start>', []),\n",
       " '<expr>': ('<expr>', []),\n",
       " '<term>': ('<term>', []),\n",
       " '<factor>': ('<factor>', []),\n",
       " '<integer>': ('<integer>', []),\n",
       " '<digit>': ('<digit>', [])}"
      ]
     },
     "execution_count": 142,
     "metadata": {},
     "output_type": "execute_result"
    }
   ],
   "source": [
    "%%top\n",
    "po = identify_partial_orders(EXPR_GRAMMAR); po"
   ]
  },
  {
   "cell_type": "code",
   "execution_count": 143,
   "metadata": {},
   "outputs": [],
   "source": [
    "def rule_is_redundant(rule, rules, porder):\n",
    "    # a rule is redundant if there is another in the rules that is more general.\n",
    "    grule, unknown = get_general_rule(rule, [r for r in rules if r != rule], porder)\n",
    "    if grule:\n",
    "        return True\n",
    "    return False"
   ]
  },
  {
   "cell_type": "code",
   "execution_count": 144,
   "metadata": {},
   "outputs": [],
   "source": [
    "def remove_redundant_rules(grammar, porder=None):\n",
    "    if porder is None:\n",
    "        porder = identify_partial_orders(grammar)\n",
    "    else:\n",
    "        if porder == {}:\n",
    "            _porder = identify_partial_orders(grammar)\n",
    "            porder.update(_porder)\n",
    "        else:\n",
    "            pass\n",
    "        \n",
    "    new_g = {}\n",
    "    removed_rules = 0\n",
    "    for key in grammar:\n",
    "        ruleset = list({tuple(r) for r in grammar[key]})\n",
    "        cont = True\n",
    "        while cont:\n",
    "            cont = False\n",
    "            for rule in ruleset:\n",
    "                if rule_is_redundant(rule, ruleset, porder):\n",
    "                    ruleset = [r for r in ruleset if r != rule]\n",
    "                    removed_rules += 1\n",
    "                    cont = True\n",
    "                else:\n",
    "                    continue\n",
    "            new_g[key] = ruleset\n",
    "    return new_g, removed_rules"
   ]
  },
  {
   "cell_type": "code",
   "execution_count": 145,
   "metadata": {
    "scrolled": false
   },
   "outputs": [
    {
     "name": "stdout",
     "output_type": "stream",
     "text": [
      "<start> ::=\n",
      "|    <expr>\n",
      "<expr> ::=\n",
      "|    <term>\n",
      "|    <term> ' - ' <expr>\n",
      "|    <term> ' + ' <expr>\n",
      "<term> ::=\n",
      "|    <factor>\n",
      "|    <factor> ' * ' <term>\n",
      "|    <factor> ' / ' <term>\n",
      "<factor> ::=\n",
      "|    <integer> '.' <integer>\n",
      "|    <integer>\n",
      "|    '+' <factor>\n",
      "|    '-' <factor>\n",
      "|    '(' <expr> ')'\n",
      "<integer> ::=\n",
      "|    <digit>\n",
      "|    <digit> <integer>\n",
      "<digit> ::=\n",
      "|    '3'\n",
      "|    '0'\n",
      "|    '2'\n",
      "|    '1'\n",
      "|    '4'\n",
      "|    '6'\n",
      "|    '9'\n",
      "|    '8'\n",
      "|    '7'\n",
      "|    '5'\n",
      "6 24\n"
     ]
    }
   ],
   "source": [
    "%%top\n",
    "g, n = remove_redundant_rules(EXPR_GRAMMAR);\n",
    "Gs(g)"
   ]
  },
  {
   "cell_type": "code",
   "execution_count": 146,
   "metadata": {},
   "outputs": [],
   "source": [
    "def is_nulled_rule(rule):\n",
    "    for t in rule:\n",
    "        if not is_nt(t): continue\n",
    "        if refinement(t) == '_|_':\n",
    "            return True\n",
    "    return False"
   ]
  },
  {
   "cell_type": "code",
   "execution_count": 147,
   "metadata": {},
   "outputs": [],
   "source": [
    "def remove_nulled_rules(grammar):\n",
    "    g = {}\n",
    "    nulled_rules = []\n",
    "    for k in grammar:\n",
    "        g[k] = []\n",
    "        for rule in grammar[k]:\n",
    "            if is_nulled_rule(rule):\n",
    "                nulled_rules.append(rule)\n",
    "            else:\n",
    "                g[k].append(rule)\n",
    "    return g, nulled_rules"
   ]
  },
  {
   "cell_type": "markdown",
   "metadata": {},
   "source": [
    "#### Grammar GC"
   ]
  },
  {
   "cell_type": "markdown",
   "metadata": {},
   "source": [
    "We will redefine this later when the negation comes in."
   ]
  },
  {
   "cell_type": "code",
   "execution_count": 148,
   "metadata": {},
   "outputs": [],
   "source": [
    "def grammar_gc(grammar, start_symbol, options=(1,2, 3), log=False):\n",
    "    g = grammar\n",
    "    while True:\n",
    "        if 1 in options:\n",
    "            g0, empty_keys = remove_empty_keys(g) # keys with rules empty\n",
    "        else:\n",
    "            g0, empty_keys = g, []\n",
    "        for k in g0:\n",
    "            for rule in g0[k]:\n",
    "                for t in rule: assert type(t) is str\n",
    "\n",
    "        if 2 in options:\n",
    "            g1, unused_keys = remove_unused_keys(g0, start_symbol) #keys that are not reachable from start\n",
    "        else:\n",
    "            g1, unused_keys = g0, []\n",
    "        for k in g1:\n",
    "            for rule in g1[k]:\n",
    "                for t in rule: assert type(t) is str\n",
    "\n",
    "        if 3 in options:\n",
    "            g2, nulled_rules = remove_nulled_rules(g1) # rules with _|_ in them\n",
    "        else:\n",
    "            g2, nulled_rules = g1, []\n",
    "            \n",
    "        g = g2\n",
    "        if log:\n",
    "            print('GC: ', unused_keys, empty_keys, nulled_rules)\n",
    "        if not (len(unused_keys) + len(empty_keys) + len(nulled_rules)):\n",
    "            break\n",
    "    # removing redundant rules is slightly dangerous. It can remove things\n",
    "    # like finite limit of a recursion because the limit is more refined than\n",
    "    # other rules.\n",
    "    # E.g\n",
    "    #  <E f> = <E f>\n",
    "    #        | <E l>\n",
    "    #  <E l> = 1\n",
    "    # Here, <E f> is more general than <E l> precisely because <E l> exists\n",
    "    # but our partial orders are not intelligent enough (todo: check)\n",
    "    #if 3 in options:\n",
    "    #    g2, redundant_rules = remove_redundant_rules(g)\n",
    "    #else:\n",
    "    # g2, redundant_rules = g, 0\n",
    "        \n",
    "    #if 4 in options:\n",
    "    #  We need to incorporate simplify booleans\n",
    "    #else:\n",
    "    return g, start_symbol"
   ]
  },
  {
   "cell_type": "markdown",
   "metadata": {},
   "source": [
    "#### Complete"
   ]
  },
  {
   "cell_type": "code",
   "execution_count": 149,
   "metadata": {},
   "outputs": [],
   "source": [
    "def find_reachable_keys_unchecked(grammar, key, reachable_keys=None, found_so_far=None):\n",
    "    if reachable_keys is None: reachable_keys = {}\n",
    "    if found_so_far is None: found_so_far = set()\n",
    "\n",
    "    for rule in grammar.get(key, []):\n",
    "        for token in rule:\n",
    "            if not is_nt(token): continue\n",
    "            if token in found_so_far: continue\n",
    "            found_so_far.add(token)\n",
    "            if token in reachable_keys:\n",
    "                for k in reachable_keys[token]:\n",
    "                    found_so_far.add(k)\n",
    "            else:\n",
    "                keys = find_reachable_keys_unchecked(grammar, token, reachable_keys, found_so_far)\n",
    "                # reachable_keys[token] = keys <- found_so_far contains results from earlier\n",
    "    return found_so_far"
   ]
  },
  {
   "cell_type": "code",
   "execution_count": 150,
   "metadata": {},
   "outputs": [],
   "source": [
    "def reachable_dict_unchecked(grammar):\n",
    "    reachable = {}\n",
    "    for key in grammar:\n",
    "        keys = find_reachable_keys_unchecked(grammar, key, reachable)\n",
    "        reachable[key] = keys\n",
    "    return reachable"
   ]
  },
  {
   "cell_type": "code",
   "execution_count": 151,
   "metadata": {},
   "outputs": [],
   "source": [
    "def complete(grammar, start, log=False):\n",
    "    keys = undefined_keys(grammar)\n",
    "    reachable_keys = reachable_dict_unchecked(grammar)\n",
    "    for key in keys:\n",
    "        if key not in reachable_keys[start]: continue\n",
    "        grammar = reconstruct_key(key, grammar, log)\n",
    "    grammar, _ = grammar_gc(grammar, start)\n",
    "    return grammar"
   ]
  },
  {
   "cell_type": "markdown",
   "metadata": {},
   "source": [
    "## Inserting a fault"
   ]
  },
  {
   "cell_type": "code",
   "execution_count": 152,
   "metadata": {},
   "outputs": [
    {
     "data": {
      "text/plain": [
       "[]"
      ]
     },
     "execution_count": 152,
     "metadata": {},
     "output_type": "execute_result"
    }
   ],
   "source": [
    "EXCEPTION_HAPPENED"
   ]
  },
  {
   "cell_type": "markdown",
   "metadata": {},
   "source": [
    "The output that we get from `ddset` has nodes marked. So, we define a way to mark nodes as abstract."
   ]
  },
  {
   "cell_type": "markdown",
   "metadata": {},
   "source": [
    "### Mark the abstract nodes\n",
    "\n",
    "Given a path, we mark the node as abstract."
   ]
  },
  {
   "cell_type": "code",
   "execution_count": 153,
   "metadata": {},
   "outputs": [],
   "source": [
    "def mark_path_abstract(tree, path):\n",
    "    name, children = find_node(tree, path)\n",
    "    new_tree = replace_tree(tree, path, (name, children, {'abstract': True}))\n",
    "    return new_tree"
   ]
  },
  {
   "cell_type": "markdown",
   "metadata": {},
   "source": [
    "First, we locate a suitable node."
   ]
  },
  {
   "cell_type": "code",
   "execution_count": 154,
   "metadata": {},
   "outputs": [],
   "source": [
    "%%top\n",
    "abs_path_1 = [0,2,0,0,1,0,0,1]\n",
    "assert tree_to_str(find_node(expr_tree, abs_path_1)) == '2 * 3 / 4'"
   ]
  },
  {
   "cell_type": "code",
   "execution_count": 155,
   "metadata": {
    "scrolled": false
   },
   "outputs": [
    {
     "data": {
      "text/plain": [
       "('<start>',\n",
       " [('<expr>',\n",
       "   [('<term>', [('<factor>', [('<integer>', [('<digit>', [('1', [])])])])]),\n",
       "    (' + ', []),\n",
       "    ('<expr>',\n",
       "     [('<term>',\n",
       "       [('<factor>',\n",
       "         [('(', []),\n",
       "          ('<expr>',\n",
       "           [('<term>',\n",
       "             [('<factor>',\n",
       "               [('(', []),\n",
       "                ('<expr>',\n",
       "                 [('<term>',\n",
       "                   [('<factor>', [('<integer>', [('<digit>', [('2', [])])])]),\n",
       "                    (' * ', []),\n",
       "                    ('<term>',\n",
       "                     [('<factor>',\n",
       "                       [('<integer>', [('<digit>', [('3', [])])])]),\n",
       "                      (' / ', []),\n",
       "                      ('<term>',\n",
       "                       [('<factor>',\n",
       "                         [('<integer>', [('<digit>', [('4', [])])])])])])])],\n",
       "                 {'abstract': True}),\n",
       "                (')', [])])])]),\n",
       "          (')', [])])])])])])"
      ]
     },
     "execution_count": 155,
     "metadata": {},
     "output_type": "execute_result"
    }
   ],
   "source": [
    "%%top\n",
    "v = mark_path_abstract(expr_tree, abs_path_1); v"
   ]
  },
  {
   "cell_type": "markdown",
   "metadata": {},
   "source": [
    "Given a tree with some nodes marked abstract, go through the tree, and mark everything else as concrete. Default is to mark a node as concrete."
   ]
  },
  {
   "cell_type": "code",
   "execution_count": 156,
   "metadata": {},
   "outputs": [],
   "source": [
    "def mark_concrete_r(tree):\n",
    "    name, children, *abstract_a = tree\n",
    "    abstract = {'abstract': False} if not abstract_a else abstract_a[0]\n",
    "    return (name, [mark_concrete_r(c) for c in children], abstract)"
   ]
  },
  {
   "cell_type": "code",
   "execution_count": 157,
   "metadata": {},
   "outputs": [
    {
     "data": {
      "text/plain": [
       "('<start>',\n",
       " [('<expr>',\n",
       "   [('<term>',\n",
       "     [('<factor>',\n",
       "       [('<integer>',\n",
       "         [('<digit>', [('1', [], {'abstract': False})], {'abstract': False})],\n",
       "         {'abstract': False})],\n",
       "       {'abstract': False})],\n",
       "     {'abstract': False}),\n",
       "    (' + ', [], {'abstract': False}),\n",
       "    ('<expr>',\n",
       "     [('<term>',\n",
       "       [('<factor>',\n",
       "         [('(', [], {'abstract': False}),\n",
       "          ('<expr>',\n",
       "           [('<term>',\n",
       "             [('<factor>',\n",
       "               [('(', [], {'abstract': False}),\n",
       "                ('<expr>',\n",
       "                 [('<term>',\n",
       "                   [('<factor>',\n",
       "                     [('<integer>',\n",
       "                       [('<digit>',\n",
       "                         [('2', [], {'abstract': False})],\n",
       "                         {'abstract': False})],\n",
       "                       {'abstract': False})],\n",
       "                     {'abstract': False}),\n",
       "                    (' * ', [], {'abstract': False}),\n",
       "                    ('<term>',\n",
       "                     [('<factor>',\n",
       "                       [('<integer>',\n",
       "                         [('<digit>',\n",
       "                           [('3', [], {'abstract': False})],\n",
       "                           {'abstract': False})],\n",
       "                         {'abstract': False})],\n",
       "                       {'abstract': False}),\n",
       "                      (' / ', [], {'abstract': False}),\n",
       "                      ('<term>',\n",
       "                       [('<factor>',\n",
       "                         [('<integer>',\n",
       "                           [('<digit>',\n",
       "                             [('4', [], {'abstract': False})],\n",
       "                             {'abstract': False})],\n",
       "                           {'abstract': False})],\n",
       "                         {'abstract': False})],\n",
       "                       {'abstract': False})],\n",
       "                     {'abstract': False})],\n",
       "                   {'abstract': False})],\n",
       "                 {'abstract': True}),\n",
       "                (')', [], {'abstract': False})],\n",
       "               {'abstract': False})],\n",
       "             {'abstract': False})],\n",
       "           {'abstract': False}),\n",
       "          (')', [], {'abstract': False})],\n",
       "         {'abstract': False})],\n",
       "       {'abstract': False})],\n",
       "     {'abstract': False})],\n",
       "   {'abstract': False})],\n",
       " {'abstract': False})"
      ]
     },
     "execution_count": 157,
     "metadata": {},
     "output_type": "execute_result"
    }
   ],
   "source": [
    "%%top\n",
    "t = mark_concrete_r(v); t"
   ]
  },
  {
   "cell_type": "markdown",
   "metadata": {},
   "source": [
    "A way to display the abstracted tree"
   ]
  },
  {
   "cell_type": "code",
   "execution_count": 158,
   "metadata": {},
   "outputs": [],
   "source": [
    "def till_abstract(node):\n",
    "    name, children, *rest = node\n",
    "    if rest[-1]['abstract']:\n",
    "        return (name + '*', [])\n",
    "    return (name, [till_abstract(c) for c in children], *rest)"
   ]
  },
  {
   "cell_type": "code",
   "execution_count": 159,
   "metadata": {},
   "outputs": [
    {
     "data": {
      "image/png": "[encoded data removed]",
      "text/plain": [
       "<IPython.core.display.Image object>"
      ]
     },
     "execution_count": 159,
     "metadata": {},
     "output_type": "execute_result"
    }
   ],
   "source": [
    "%%top\n",
    "zoom(display_tree(till_abstract(t)))"
   ]
  },
  {
   "cell_type": "code",
   "execution_count": 160,
   "metadata": {},
   "outputs": [],
   "source": [
    "def Da(t):\n",
    "    return zoom(display_tree(till_abstract(t)))"
   ]
  },
  {
   "cell_type": "code",
   "execution_count": 161,
   "metadata": {},
   "outputs": [
    {
     "data": {
      "text/plain": [
       "('((2 * 3 / 4))', '<expr>')"
      ]
     },
     "execution_count": 161,
     "metadata": {},
     "output_type": "execute_result"
    }
   ],
   "source": [
    "#%%top\n",
    "abs_t1_ = find_node(expr_tree, [0, 2])\n",
    "tree_to_str(abs_t1_), abs_t1_[0]"
   ]
  },
  {
   "cell_type": "code",
   "execution_count": 162,
   "metadata": {},
   "outputs": [],
   "source": [
    "#%%top\n",
    "abs_t1 = ('<start>', [abs_t1_])"
   ]
  },
  {
   "cell_type": "code",
   "execution_count": 163,
   "metadata": {},
   "outputs": [],
   "source": [
    "%top validate_tree(abs_t1, EXPR_GRAMMAR)"
   ]
  },
  {
   "cell_type": "code",
   "execution_count": 164,
   "metadata": {},
   "outputs": [
    {
     "data": {
      "text/plain": [
       "'2 * 3 / 4'"
      ]
     },
     "execution_count": 164,
     "metadata": {},
     "output_type": "execute_result"
    }
   ],
   "source": [
    "#%%top\n",
    "t_abs_p1 = [0, 0, 0, 1, 0, 0, 1]\n",
    "Ts(find_node(abs_t1, t_abs_p1))"
   ]
  },
  {
   "cell_type": "markdown",
   "metadata": {},
   "source": [
    "We now define a function to check if a given node is abstract or not."
   ]
  },
  {
   "cell_type": "code",
   "execution_count": 165,
   "metadata": {},
   "outputs": [],
   "source": [
    "def is_node_abstract(node):\n",
    "    name, children, *abstract_a = node\n",
    "    if not abstract_a:\n",
    "        return True\n",
    "    else:\n",
    "        return abstract_a[0]['abstract']"
   ]
  },
  {
   "cell_type": "code",
   "execution_count": 166,
   "metadata": {},
   "outputs": [],
   "source": [
    "def tree_to_str_a(tree):\n",
    "    name, children, *general_ = tree\n",
    "    if not is_nt(name): return name\n",
    "    if is_node_abstract(tree):\n",
    "        return name\n",
    "    return ''.join([tree_to_str_a(c) for c in children])"
   ]
  },
  {
   "cell_type": "code",
   "execution_count": 167,
   "metadata": {},
   "outputs": [],
   "source": [
    "Ta = tree_to_str_a"
   ]
  },
  {
   "cell_type": "code",
   "execution_count": 168,
   "metadata": {},
   "outputs": [
    {
     "data": {
      "text/plain": [
       "'1 + ((<expr>))'"
      ]
     },
     "execution_count": 168,
     "metadata": {},
     "output_type": "execute_result"
    }
   ],
   "source": [
    "%top tree_to_str_a(t)"
   ]
  },
  {
   "cell_type": "code",
   "execution_count": 169,
   "metadata": {},
   "outputs": [
    {
     "data": {
      "text/plain": [
       "('<start>',\n",
       " [('<expr>',\n",
       "   [('<term>',\n",
       "     [('<factor>',\n",
       "       [('(', [], {'abstract': False}),\n",
       "        ('<expr>',\n",
       "         [('<term>',\n",
       "           [('<factor>',\n",
       "             [('(', [], {'abstract': False}),\n",
       "              ('<expr>',\n",
       "               [('<term>',\n",
       "                 [('<factor>',\n",
       "                   [('<integer>',\n",
       "                     [('<digit>',\n",
       "                       [('2', [], {'abstract': False})],\n",
       "                       {'abstract': False})],\n",
       "                     {'abstract': False})],\n",
       "                   {'abstract': False}),\n",
       "                  (' * ', [], {'abstract': False}),\n",
       "                  ('<term>',\n",
       "                   [('<factor>',\n",
       "                     [('<integer>',\n",
       "                       [('<digit>',\n",
       "                         [('3', [], {'abstract': False})],\n",
       "                         {'abstract': False})],\n",
       "                       {'abstract': False})],\n",
       "                     {'abstract': False}),\n",
       "                    (' / ', [], {'abstract': False}),\n",
       "                    ('<term>',\n",
       "                     [('<factor>',\n",
       "                       [('<integer>',\n",
       "                         [('<digit>',\n",
       "                           [('4', [], {'abstract': False})],\n",
       "                           {'abstract': False})],\n",
       "                         {'abstract': False})],\n",
       "                       {'abstract': False})],\n",
       "                     {'abstract': False})],\n",
       "                   {'abstract': False})],\n",
       "                 {'abstract': False})],\n",
       "               {'abstract': True}),\n",
       "              (')', [], {'abstract': False})],\n",
       "             {'abstract': False})],\n",
       "           {'abstract': False})],\n",
       "         {'abstract': False}),\n",
       "        (')', [], {'abstract': False})],\n",
       "       {'abstract': False})],\n",
       "     {'abstract': False})],\n",
       "   {'abstract': False})],\n",
       " {'abstract': False})"
      ]
     },
     "execution_count": 169,
     "metadata": {},
     "output_type": "execute_result"
    }
   ],
   "source": [
    "#%%top\n",
    "abs_tree1 = mark_concrete_r(mark_path_abstract(abs_t1, t_abs_p1)); abs_tree1"
   ]
  },
  {
   "cell_type": "code",
   "execution_count": 170,
   "metadata": {},
   "outputs": [
    {
     "data": {
      "text/plain": [
       "'((<expr>))'"
      ]
     },
     "execution_count": 170,
     "metadata": {},
     "output_type": "execute_result"
    }
   ],
   "source": [
    "%top Ta(abs_tree1)"
   ]
  },
  {
   "cell_type": "code",
   "execution_count": 171,
   "metadata": {},
   "outputs": [
    {
     "data": {
      "image/png": "[encoded data removed]",
      "text/plain": [
       "<IPython.core.display.Image object>"
      ]
     },
     "execution_count": 171,
     "metadata": {},
     "output_type": "execute_result"
    }
   ],
   "source": [
    "%top Da(abs_tree1)"
   ]
  },
  {
   "cell_type": "code",
   "execution_count": 172,
   "metadata": {},
   "outputs": [],
   "source": [
    "def mark_abstract_nodes(tree, paths):\n",
    "    for path in paths:\n",
    "        tree = mark_path_abstract(tree, path)\n",
    "    return mark_concrete_r(tree)"
   ]
  },
  {
   "cell_type": "code",
   "execution_count": 173,
   "metadata": {},
   "outputs": [
    {
     "data": {
      "text/plain": [
       "'((2 * 3 / 4))'"
      ]
     },
     "execution_count": 173,
     "metadata": {},
     "output_type": "execute_result"
    }
   ],
   "source": [
    "%top Ta(mark_abstract_nodes(abs_t1, []))"
   ]
  },
  {
   "cell_type": "markdown",
   "metadata": {},
   "source": [
    "### An abstract pattern from DDSET - F1"
   ]
  },
  {
   "cell_type": "code",
   "execution_count": 174,
   "metadata": {},
   "outputs": [
    {
     "data": {
      "text/plain": [
       "'((<expr>))'"
      ]
     },
     "execution_count": 174,
     "metadata": {},
     "output_type": "execute_result"
    }
   ],
   "source": [
    "%top Ta(mark_abstract_nodes(abs_t1, [t_abs_p1]))"
   ]
  },
  {
   "cell_type": "markdown",
   "metadata": {},
   "source": [
    "**IMPORTANT** This is what we expect our input to be. That is, a full parse tree of a minimized string with abstractions (typed holes) indicated."
   ]
  },
  {
   "cell_type": "markdown",
   "metadata": {},
   "source": [
    "### Finding characterizing node\n",
    "\n",
    "A characterizing node is the lowest node that completely contains the given pattern. To find a characterizing node, we use the miniaml AST, and identify the parent node that encloses all the concrete nodes."
   ]
  },
  {
   "cell_type": "code",
   "execution_count": 175,
   "metadata": {},
   "outputs": [],
   "source": [
    "SKIP_ABSTRACT_NODE = False"
   ]
  },
  {
   "cell_type": "code",
   "execution_count": 176,
   "metadata": {},
   "outputs": [],
   "source": [
    "def find_charecterizing_node(tree):\n",
    "    name, children, *gen = tree\n",
    "    if len(children) == 1:\n",
    "        return find_charecterizing_node(children[0])\n",
    "    # trim out children that are empty from the beginning\n",
    "    # and end\n",
    "    non_empty = []\n",
    "    for c in children:\n",
    "        if not is_nt(c[0]):\n",
    "            # have a terminal. So, the parent node is charecterizing.\n",
    "            return tree\n",
    "        elif is_node_abstract(c) and SKIP_ABSTRACT_NODE:\n",
    "            # outer abstract node. Hence, not part of charecterizing node.\n",
    "            continue\n",
    "        elif tree_to_str(c):\n",
    "            non_empty.append(c)\n",
    "    assert non_empty, 'fault node should have at least one non-empty child'\n",
    "    if len(non_empty) > 1:\n",
    "        return tree\n",
    "    else:\n",
    "        return find_charecterizing_node(non_empty[0])"
   ]
  },
  {
   "cell_type": "code",
   "execution_count": 177,
   "metadata": {},
   "outputs": [
    {
     "data": {
      "text/plain": [
       "('<factor>',\n",
       " [('(', [], {'abstract': False}),\n",
       "  ('<expr>',\n",
       "   [('<term>',\n",
       "     [('<factor>',\n",
       "       [('(', [], {'abstract': False}),\n",
       "        ('<expr>',\n",
       "         [('<term>',\n",
       "           [('<factor>',\n",
       "             [('<integer>',\n",
       "               [('<digit>',\n",
       "                 [('2', [], {'abstract': False})],\n",
       "                 {'abstract': False})],\n",
       "               {'abstract': False})],\n",
       "             {'abstract': False}),\n",
       "            (' * ', [], {'abstract': False}),\n",
       "            ('<term>',\n",
       "             [('<factor>',\n",
       "               [('<integer>',\n",
       "                 [('<digit>',\n",
       "                   [('3', [], {'abstract': False})],\n",
       "                   {'abstract': False})],\n",
       "                 {'abstract': False})],\n",
       "               {'abstract': False}),\n",
       "              (' / ', [], {'abstract': False}),\n",
       "              ('<term>',\n",
       "               [('<factor>',\n",
       "                 [('<integer>',\n",
       "                   [('<digit>',\n",
       "                     [('4', [], {'abstract': False})],\n",
       "                     {'abstract': False})],\n",
       "                   {'abstract': False})],\n",
       "                 {'abstract': False})],\n",
       "               {'abstract': False})],\n",
       "             {'abstract': False})],\n",
       "           {'abstract': False})],\n",
       "         {'abstract': True}),\n",
       "        (')', [], {'abstract': False})],\n",
       "       {'abstract': False})],\n",
       "     {'abstract': False})],\n",
       "   {'abstract': False}),\n",
       "  (')', [], {'abstract': False})],\n",
       " {'abstract': False})"
      ]
     },
     "execution_count": 177,
     "metadata": {},
     "output_type": "execute_result"
    }
   ],
   "source": [
    "#%%top\n",
    "abs_tree_cnode1 = find_charecterizing_node(abs_tree1); abs_tree_cnode1"
   ]
  },
  {
   "cell_type": "markdown",
   "metadata": {},
   "source": [
    "As can be seen, the `<factor>` node completely contains the fault pattern."
   ]
  },
  {
   "cell_type": "code",
   "execution_count": 178,
   "metadata": {},
   "outputs": [
    {
     "data": {
      "text/plain": [
       "('<start>', '((2 * 3 / 4))')"
      ]
     },
     "execution_count": 178,
     "metadata": {},
     "output_type": "execute_result"
    }
   ],
   "source": [
    "%top abs_tree1[0], Ts(abs_tree1)"
   ]
  },
  {
   "cell_type": "code",
   "execution_count": 179,
   "metadata": {},
   "outputs": [
    {
     "data": {
      "text/plain": [
       "('<factor>', '((2 * 3 / 4))')"
      ]
     },
     "execution_count": 179,
     "metadata": {},
     "output_type": "execute_result"
    }
   ],
   "source": [
    "%top abs_tree_cnode1[0], Ts(abs_tree_cnode1)"
   ]
  },
  {
   "cell_type": "markdown",
   "metadata": {},
   "source": [
    "Now, we want to add our grammar the keys that are required to cause a failure. For that, we first extract the local grammar that reproduces the fault pattern "
   ]
  },
  {
   "cell_type": "markdown",
   "metadata": {},
   "source": [
    "### Pattern Grammar"
   ]
  },
  {
   "cell_type": "code",
   "execution_count": 180,
   "metadata": {},
   "outputs": [
    {
     "data": {
      "text/plain": [
       "('<factor>',\n",
       " [('(', [], {'abstract': False}),\n",
       "  ('<expr>',\n",
       "   [('<term>',\n",
       "     [('<factor>',\n",
       "       [('(', [], {'abstract': False}),\n",
       "        ('<expr>',\n",
       "         [('<term>',\n",
       "           [('<factor>',\n",
       "             [('<integer>',\n",
       "               [('<digit>',\n",
       "                 [('2', [], {'abstract': False})],\n",
       "                 {'abstract': False})],\n",
       "               {'abstract': False})],\n",
       "             {'abstract': False}),\n",
       "            (' * ', [], {'abstract': False}),\n",
       "            ('<term>',\n",
       "             [('<factor>',\n",
       "               [('<integer>',\n",
       "                 [('<digit>',\n",
       "                   [('3', [], {'abstract': False})],\n",
       "                   {'abstract': False})],\n",
       "                 {'abstract': False})],\n",
       "               {'abstract': False}),\n",
       "              (' / ', [], {'abstract': False}),\n",
       "              ('<term>',\n",
       "               [('<factor>',\n",
       "                 [('<integer>',\n",
       "                   [('<digit>',\n",
       "                     [('4', [], {'abstract': False})],\n",
       "                     {'abstract': False})],\n",
       "                   {'abstract': False})],\n",
       "                 {'abstract': False})],\n",
       "               {'abstract': False})],\n",
       "             {'abstract': False})],\n",
       "           {'abstract': False})],\n",
       "         {'abstract': True}),\n",
       "        (')', [], {'abstract': False})],\n",
       "       {'abstract': False})],\n",
       "     {'abstract': False})],\n",
       "   {'abstract': False}),\n",
       "  (')', [], {'abstract': False})],\n",
       " {'abstract': False})"
      ]
     },
     "execution_count": 180,
     "metadata": {},
     "output_type": "execute_result"
    }
   ],
   "source": [
    "%top abs_tree_cnode1"
   ]
  },
  {
   "cell_type": "code",
   "execution_count": 181,
   "metadata": {},
   "outputs": [],
   "source": [
    " def mark_faulty_name(symbol, prefix, v):\n",
    "    return '<%s L%s_%s>'% (symbol[1:-1], prefix, v)"
   ]
  },
  {
   "cell_type": "code",
   "execution_count": 182,
   "metadata": {},
   "outputs": [],
   "source": [
    "def mark_faulty_nodes(node, prefix, counter=None):\n",
    "    if counter is None: counter = {}\n",
    "    symbol, children, *abstract = node\n",
    "    if is_node_abstract(node): # we dont markup further\n",
    "        return node\n",
    "    if symbol not in counter: counter[symbol] = 0\n",
    "    counter[symbol] += 1\n",
    "    v = str(counter[symbol])\n",
    "    if is_nt(symbol):\n",
    "        return (mark_faulty_name(symbol, prefix, v),\n",
    "                [mark_faulty_nodes(c, prefix, counter) for c in children],\n",
    "                *abstract)\n",
    "    else:\n",
    "        assert not children\n",
    "        return (symbol, children, *abstract)"
   ]
  },
  {
   "cell_type": "code",
   "execution_count": 183,
   "metadata": {},
   "outputs": [
    {
     "data": {
      "image/svg+xml": [
       "<?xml version=\"1.0\" encoding=\"UTF-8\" standalone=\"no\"?>\n",
       "<!DOCTYPE svg PUBLIC \"-//W3C//DTD SVG 1.1//EN\"\n",
       " \"http://www.w3.org/Graphics/SVG/1.1/DTD/svg11.dtd\">\n",
       "<!-- Generated by graphviz version 2.40.1 (20161225.0304)\n",
       " -->\n",
       "<!-- Title: %3 Pages: 1 -->\n",
       "<svg width=\"238pt\" height=\"726pt\"\n",
       " viewBox=\"0.00 0.00 238.16 726.00\" xmlns=\"http://www.w3.org/2000/svg\" xmlns:xlink=\"http://www.w3.org/1999/xlink\">\n",
       "<g id=\"graph0\" class=\"graph\" transform=\"scale(1 1) rotate(0) translate(4 722)\">\n",
       "<title>%3</title>\n",
       "<polygon fill=\"#ffffff\" stroke=\"transparent\" points=\"-4,4 -4,-722 234.1602,-722 234.1602,4 -4,4\"/>\n",
       "<!-- (0, 0) -->\n",
       "<g id=\"node1\" class=\"node\">\n",
       "<title>(0, 0)</title>\n",
       "<text text-anchor=\"middle\" x=\"100.0801\" y=\"-706.8\" font-family=\"Times,serif\" font-size=\"14.00\" fill=\"#000000\">&lt;factor L1_1&gt; </text>\n",
       "</g>\n",
       "<!-- (1, 0) -->\n",
       "<g id=\"node2\" class=\"node\">\n",
       "<title>(1, 0)</title>\n",
       "<text text-anchor=\"middle\" x=\"39.0801\" y=\"-642.8\" font-family=\"Times,serif\" font-size=\"14.00\" fill=\"#000000\">( </text>\n",
       "</g>\n",
       "<!-- (0, 0)&#45;&gt;(1, 0) -->\n",
       "<g id=\"edge1\" class=\"edge\">\n",
       "<title>(0, 0)&#45;&gt;(1, 0)</title>\n",
       "<path fill=\"none\" stroke=\"#000000\" d=\"M93.0826,-703.6584C82.6088,-692.6694 62.7525,-671.8367 50.2557,-658.7253\"/>\n",
       "<polygon fill=\"#000000\" stroke=\"#000000\" points=\"52.7118,-656.2292 43.2789,-651.4053 47.6447,-661.0588 52.7118,-656.2292\"/>\n",
       "<text text-anchor=\"middle\" x=\"78.5801\" y=\"-674.8\" font-family=\"Times,serif\" font-size=\"14.00\" fill=\"#000000\">0</text>\n",
       "</g>\n",
       "<!-- (2, 1) -->\n",
       "<g id=\"node3\" class=\"node\">\n",
       "<title>(2, 1)</title>\n",
       "<text text-anchor=\"middle\" x=\"100.0801\" y=\"-642.8\" font-family=\"Times,serif\" font-size=\"14.00\" fill=\"#000000\">&lt;expr L1_1&gt; </text>\n",
       "</g>\n",
       "<!-- (0, 0)&#45;&gt;(2, 1) -->\n",
       "<g id=\"edge2\" class=\"edge\">\n",
       "<title>(0, 0)&#45;&gt;(2, 1)</title>\n",
       "<path fill=\"none\" stroke=\"#000000\" d=\"M100.0801,-703.6584C100.0801,-694.2065 100.0801,-677.4718 100.0801,-664.632\"/>\n",
       "<polygon fill=\"#000000\" stroke=\"#000000\" points=\"103.5802,-664.256 100.0801,-654.256 96.5802,-664.256 103.5802,-664.256\"/>\n",
       "<text text-anchor=\"middle\" x=\"103.5801\" y=\"-674.8\" font-family=\"Times,serif\" font-size=\"14.00\" fill=\"#000000\">1</text>\n",
       "</g>\n",
       "<!-- (25, 2) -->\n",
       "<g id=\"node26\" class=\"node\">\n",
       "<title>(25, 2)</title>\n",
       "<text text-anchor=\"middle\" x=\"161.0801\" y=\"-642.8\" font-family=\"Times,serif\" font-size=\"14.00\" fill=\"#000000\">) </text>\n",
       "</g>\n",
       "<!-- (0, 0)&#45;&gt;(25, 2) -->\n",
       "<g id=\"edge25\" class=\"edge\">\n",
       "<title>(0, 0)&#45;&gt;(25, 2)</title>\n",
       "<path fill=\"none\" stroke=\"#000000\" d=\"M107.0776,-703.6584C117.5514,-692.6694 137.4076,-671.8367 149.9044,-658.7253\"/>\n",
       "<polygon fill=\"#000000\" stroke=\"#000000\" points=\"152.5154,-661.0588 156.8813,-651.4053 147.4483,-656.2292 152.5154,-661.0588\"/>\n",
       "<text text-anchor=\"middle\" x=\"139.5801\" y=\"-674.8\" font-family=\"Times,serif\" font-size=\"14.00\" fill=\"#000000\">2</text>\n",
       "</g>\n",
       "<!-- (3, 0) -->\n",
       "<g id=\"node4\" class=\"node\">\n",
       "<title>(3, 0)</title>\n",
       "<text text-anchor=\"middle\" x=\"100.0801\" y=\"-578.8\" font-family=\"Times,serif\" font-size=\"14.00\" fill=\"#000000\">&lt;term L1_1&gt; </text>\n",
       "</g>\n",
       "<!-- (2, 1)&#45;&gt;(3, 0) -->\n",
       "<g id=\"edge3\" class=\"edge\">\n",
       "<title>(2, 1)&#45;&gt;(3, 0)</title>\n",
       "<path fill=\"none\" stroke=\"#000000\" d=\"M100.0801,-639.6584C100.0801,-630.2065 100.0801,-613.4718 100.0801,-600.632\"/>\n",
       "<polygon fill=\"#000000\" stroke=\"#000000\" points=\"103.5802,-600.256 100.0801,-590.256 96.5802,-600.256 103.5802,-600.256\"/>\n",
       "<text text-anchor=\"middle\" x=\"103.5801\" y=\"-610.8\" font-family=\"Times,serif\" font-size=\"14.00\" fill=\"#000000\">0</text>\n",
       "</g>\n",
       "<!-- (4, 0) -->\n",
       "<g id=\"node5\" class=\"node\">\n",
       "<title>(4, 0)</title>\n",
       "<text text-anchor=\"middle\" x=\"100.0801\" y=\"-514.8\" font-family=\"Times,serif\" font-size=\"14.00\" fill=\"#000000\">&lt;factor L1_2&gt; </text>\n",
       "</g>\n",
       "<!-- (3, 0)&#45;&gt;(4, 0) -->\n",
       "<g id=\"edge4\" class=\"edge\">\n",
       "<title>(3, 0)&#45;&gt;(4, 0)</title>\n",
       "<path fill=\"none\" stroke=\"#000000\" d=\"M100.0801,-575.6584C100.0801,-566.2065 100.0801,-549.4718 100.0801,-536.632\"/>\n",
       "<polygon fill=\"#000000\" stroke=\"#000000\" points=\"103.5802,-536.256 100.0801,-526.256 96.5802,-536.256 103.5802,-536.256\"/>\n",
       "<text text-anchor=\"middle\" x=\"103.5801\" y=\"-546.8\" font-family=\"Times,serif\" font-size=\"14.00\" fill=\"#000000\">0</text>\n",
       "</g>\n",
       "<!-- (5, 0) -->\n",
       "<g id=\"node6\" class=\"node\">\n",
       "<title>(5, 0)</title>\n",
       "<text text-anchor=\"middle\" x=\"56.0801\" y=\"-450.8\" font-family=\"Times,serif\" font-size=\"14.00\" fill=\"#000000\">( </text>\n",
       "</g>\n",
       "<!-- (4, 0)&#45;&gt;(5, 0) -->\n",
       "<g id=\"edge5\" class=\"edge\">\n",
       "<title>(4, 0)&#45;&gt;(5, 0)</title>\n",
       "<path fill=\"none\" stroke=\"#000000\" d=\"M95.0327,-511.6584C87.985,-501.4072 75.0478,-482.5895 66.0248,-469.465\"/>\n",
       "<polygon fill=\"#000000\" stroke=\"#000000\" points=\"68.836,-467.376 60.2865,-461.1185 63.0677,-471.3418 68.836,-467.376\"/>\n",
       "<text text-anchor=\"middle\" x=\"85.5801\" y=\"-482.8\" font-family=\"Times,serif\" font-size=\"14.00\" fill=\"#000000\">0</text>\n",
       "</g>\n",
       "<!-- (6, 1) -->\n",
       "<g id=\"node7\" class=\"node\">\n",
       "<title>(6, 1)</title>\n",
       "<text text-anchor=\"middle\" x=\"100.0801\" y=\"-450.8\" font-family=\"Times,serif\" font-size=\"14.00\" fill=\"#000000\">&lt;expr&gt; </text>\n",
       "</g>\n",
       "<!-- (4, 0)&#45;&gt;(6, 1) -->\n",
       "<g id=\"edge6\" class=\"edge\">\n",
       "<title>(4, 0)&#45;&gt;(6, 1)</title>\n",
       "<path fill=\"none\" stroke=\"#000000\" d=\"M100.0801,-511.6584C100.0801,-502.2065 100.0801,-485.4718 100.0801,-472.632\"/>\n",
       "<polygon fill=\"#000000\" stroke=\"#000000\" points=\"103.5802,-472.256 100.0801,-462.256 96.5802,-472.256 103.5802,-472.256\"/>\n",
       "<text text-anchor=\"middle\" x=\"103.5801\" y=\"-482.8\" font-family=\"Times,serif\" font-size=\"14.00\" fill=\"#000000\">1</text>\n",
       "</g>\n",
       "<!-- (24, 2) -->\n",
       "<g id=\"node25\" class=\"node\">\n",
       "<title>(24, 2)</title>\n",
       "<text text-anchor=\"middle\" x=\"144.0801\" y=\"-450.8\" font-family=\"Times,serif\" font-size=\"14.00\" fill=\"#000000\">) </text>\n",
       "</g>\n",
       "<!-- (4, 0)&#45;&gt;(24, 2) -->\n",
       "<g id=\"edge24\" class=\"edge\">\n",
       "<title>(4, 0)&#45;&gt;(24, 2)</title>\n",
       "<path fill=\"none\" stroke=\"#000000\" d=\"M105.1274,-511.6584C112.1752,-501.4072 125.1123,-482.5895 134.1354,-469.465\"/>\n",
       "<polygon fill=\"#000000\" stroke=\"#000000\" points=\"137.0925,-471.3418 139.8736,-461.1185 131.3242,-467.376 137.0925,-471.3418\"/>\n",
       "<text text-anchor=\"middle\" x=\"129.5801\" y=\"-482.8\" font-family=\"Times,serif\" font-size=\"14.00\" fill=\"#000000\">2</text>\n",
       "</g>\n",
       "<!-- (7, 0) -->\n",
       "<g id=\"node8\" class=\"node\">\n",
       "<title>(7, 0)</title>\n",
       "<text text-anchor=\"middle\" x=\"100.0801\" y=\"-386.8\" font-family=\"Times,serif\" font-size=\"14.00\" fill=\"#000000\">&lt;term&gt; </text>\n",
       "</g>\n",
       "<!-- (6, 1)&#45;&gt;(7, 0) -->\n",
       "<g id=\"edge7\" class=\"edge\">\n",
       "<title>(6, 1)&#45;&gt;(7, 0)</title>\n",
       "<path fill=\"none\" stroke=\"#000000\" d=\"M100.0801,-447.6584C100.0801,-438.2065 100.0801,-421.4718 100.0801,-408.632\"/>\n",
       "<polygon fill=\"#000000\" stroke=\"#000000\" points=\"103.5802,-408.256 100.0801,-398.256 96.5802,-408.256 103.5802,-408.256\"/>\n",
       "<text text-anchor=\"middle\" x=\"103.5801\" y=\"-418.8\" font-family=\"Times,serif\" font-size=\"14.00\" fill=\"#000000\">0</text>\n",
       "</g>\n",
       "<!-- (8, 0) -->\n",
       "<g id=\"node9\" class=\"node\">\n",
       "<title>(8, 0)</title>\n",
       "<text text-anchor=\"middle\" x=\"42.0801\" y=\"-322.8\" font-family=\"Times,serif\" font-size=\"14.00\" fill=\"#000000\">&lt;factor&gt; </text>\n",
       "</g>\n",
       "<!-- (7, 0)&#45;&gt;(8, 0) -->\n",
       "<g id=\"edge8\" class=\"edge\">\n",
       "<title>(7, 0)&#45;&gt;(8, 0)</title>\n",
       "<path fill=\"none\" stroke=\"#000000\" d=\"M93.4267,-383.6584C84.2491,-373.5313 67.495,-355.044 55.6234,-341.9443\"/>\n",
       "<polygon fill=\"#000000\" stroke=\"#000000\" points=\"57.9645,-339.3156 48.6558,-334.256 52.7776,-344.0162 57.9645,-339.3156\"/>\n",
       "<text text-anchor=\"middle\" x=\"80.5801\" y=\"-354.8\" font-family=\"Times,serif\" font-size=\"14.00\" fill=\"#000000\">0</text>\n",
       "</g>\n",
       "<!-- (12, 1) -->\n",
       "<g id=\"node13\" class=\"node\">\n",
       "<title>(12, 1)</title>\n",
       "<text text-anchor=\"middle\" x=\"100.0801\" y=\"-322.8\" font-family=\"Times,serif\" font-size=\"14.00\" fill=\"#000000\"> * &#160;</text>\n",
       "</g>\n",
       "<!-- (7, 0)&#45;&gt;(12, 1) -->\n",
       "<g id=\"edge12\" class=\"edge\">\n",
       "<title>(7, 0)&#45;&gt;(12, 1)</title>\n",
       "<path fill=\"none\" stroke=\"#000000\" d=\"M100.0801,-383.6584C100.0801,-374.2065 100.0801,-357.4718 100.0801,-344.632\"/>\n",
       "<polygon fill=\"#000000\" stroke=\"#000000\" points=\"103.5802,-344.256 100.0801,-334.256 96.5802,-344.256 103.5802,-344.256\"/>\n",
       "<text text-anchor=\"middle\" x=\"103.5801\" y=\"-354.8\" font-family=\"Times,serif\" font-size=\"14.00\" fill=\"#000000\">1</text>\n",
       "</g>\n",
       "<!-- (13, 2) -->\n",
       "<g id=\"node14\" class=\"node\">\n",
       "<title>(13, 2)</title>\n",
       "<text text-anchor=\"middle\" x=\"152.0801\" y=\"-322.8\" font-family=\"Times,serif\" font-size=\"14.00\" fill=\"#000000\">&lt;term&gt; </text>\n",
       "</g>\n",
       "<!-- (7, 0)&#45;&gt;(13, 2) -->\n",
       "<g id=\"edge13\" class=\"edge\">\n",
       "<title>(7, 0)&#45;&gt;(13, 2)</title>\n",
       "<path fill=\"none\" stroke=\"#000000\" d=\"M106.0451,-383.6584C114.195,-373.6278 129.0088,-355.3954 139.6325,-342.3201\"/>\n",
       "<polygon fill=\"#000000\" stroke=\"#000000\" points=\"142.595,-344.2242 146.1846,-334.256 137.1622,-339.8101 142.595,-344.2242\"/>\n",
       "<text text-anchor=\"middle\" x=\"134.5801\" y=\"-354.8\" font-family=\"Times,serif\" font-size=\"14.00\" fill=\"#000000\">2</text>\n",
       "</g>\n",
       "<!-- (9, 0) -->\n",
       "<g id=\"node10\" class=\"node\">\n",
       "<title>(9, 0)</title>\n",
       "<text text-anchor=\"middle\" x=\"29.0801\" y=\"-258.8\" font-family=\"Times,serif\" font-size=\"14.00\" fill=\"#000000\">&lt;integer&gt; </text>\n",
       "</g>\n",
       "<!-- (8, 0)&#45;&gt;(9, 0) -->\n",
       "<g id=\"edge9\" class=\"edge\">\n",
       "<title>(8, 0)&#45;&gt;(9, 0)</title>\n",
       "<path fill=\"none\" stroke=\"#000000\" d=\"M40.5888,-319.6584C38.6493,-310.11 35.2001,-293.1295 32.582,-280.2402\"/>\n",
       "<polygon fill=\"#000000\" stroke=\"#000000\" points=\"35.9746,-279.3591 30.554,-270.256 29.1147,-280.7526 35.9746,-279.3591\"/>\n",
       "<text text-anchor=\"middle\" x=\"40.5801\" y=\"-290.8\" font-family=\"Times,serif\" font-size=\"14.00\" fill=\"#000000\">0</text>\n",
       "</g>\n",
       "<!-- (10, 0) -->\n",
       "<g id=\"node11\" class=\"node\">\n",
       "<title>(10, 0)</title>\n",
       "<text text-anchor=\"middle\" x=\"29.0801\" y=\"-194.8\" font-family=\"Times,serif\" font-size=\"14.00\" fill=\"#000000\">&lt;digit&gt; </text>\n",
       "</g>\n",
       "<!-- (9, 0)&#45;&gt;(10, 0) -->\n",
       "<g id=\"edge10\" class=\"edge\">\n",
       "<title>(9, 0)&#45;&gt;(10, 0)</title>\n",
       "<path fill=\"none\" stroke=\"#000000\" d=\"M29.0801,-255.6584C29.0801,-246.2065 29.0801,-229.4718 29.0801,-216.632\"/>\n",
       "<polygon fill=\"#000000\" stroke=\"#000000\" points=\"32.5802,-216.256 29.0801,-206.256 25.5802,-216.256 32.5802,-216.256\"/>\n",
       "<text text-anchor=\"middle\" x=\"32.5801\" y=\"-226.8\" font-family=\"Times,serif\" font-size=\"14.00\" fill=\"#000000\">0</text>\n",
       "</g>\n",
       "<!-- (11, 0) -->\n",
       "<g id=\"node12\" class=\"node\">\n",
       "<title>(11, 0)</title>\n",
       "<text text-anchor=\"middle\" x=\"29.0801\" y=\"-130.8\" font-family=\"Times,serif\" font-size=\"14.00\" fill=\"#000000\">2 </text>\n",
       "</g>\n",
       "<!-- (10, 0)&#45;&gt;(11, 0) -->\n",
       "<g id=\"edge11\" class=\"edge\">\n",
       "<title>(10, 0)&#45;&gt;(11, 0)</title>\n",
       "<path fill=\"none\" stroke=\"#000000\" d=\"M29.0801,-191.6584C29.0801,-182.2065 29.0801,-165.4718 29.0801,-152.632\"/>\n",
       "<polygon fill=\"#000000\" stroke=\"#000000\" points=\"32.5802,-152.256 29.0801,-142.256 25.5802,-152.256 32.5802,-152.256\"/>\n",
       "<text text-anchor=\"middle\" x=\"32.5801\" y=\"-162.8\" font-family=\"Times,serif\" font-size=\"14.00\" fill=\"#000000\">0</text>\n",
       "</g>\n",
       "<!-- (14, 0) -->\n",
       "<g id=\"node15\" class=\"node\">\n",
       "<title>(14, 0)</title>\n",
       "<text text-anchor=\"middle\" x=\"102.0801\" y=\"-258.8\" font-family=\"Times,serif\" font-size=\"14.00\" fill=\"#000000\">&lt;factor&gt; </text>\n",
       "</g>\n",
       "<!-- (13, 2)&#45;&gt;(14, 0) -->\n",
       "<g id=\"edge14\" class=\"edge\">\n",
       "<title>(13, 2)&#45;&gt;(14, 0)</title>\n",
       "<path fill=\"none\" stroke=\"#000000\" d=\"M146.3444,-319.6584C138.508,-309.6278 124.264,-291.3954 114.0489,-278.3201\"/>\n",
       "<polygon fill=\"#000000\" stroke=\"#000000\" points=\"116.6634,-275.9815 107.7488,-270.256 111.1472,-280.291 116.6634,-275.9815\"/>\n",
       "<text text-anchor=\"middle\" x=\"135.5801\" y=\"-290.8\" font-family=\"Times,serif\" font-size=\"14.00\" fill=\"#000000\">0</text>\n",
       "</g>\n",
       "<!-- (18, 1) -->\n",
       "<g id=\"node19\" class=\"node\">\n",
       "<title>(18, 1)</title>\n",
       "<text text-anchor=\"middle\" x=\"153.0801\" y=\"-258.8\" font-family=\"Times,serif\" font-size=\"14.00\" fill=\"#000000\"> / &#160;</text>\n",
       "</g>\n",
       "<!-- (13, 2)&#45;&gt;(18, 1) -->\n",
       "<g id=\"edge18\" class=\"edge\">\n",
       "<title>(13, 2)&#45;&gt;(18, 1)</title>\n",
       "<path fill=\"none\" stroke=\"#000000\" d=\"M152.1948,-319.6584C152.3425,-310.2065 152.604,-293.4718 152.8046,-280.632\"/>\n",
       "<polygon fill=\"#000000\" stroke=\"#000000\" points=\"156.31,-280.3095 152.9667,-270.256 149.3108,-280.2001 156.31,-280.3095\"/>\n",
       "<text text-anchor=\"middle\" x=\"156.5801\" y=\"-290.8\" font-family=\"Times,serif\" font-size=\"14.00\" fill=\"#000000\">1</text>\n",
       "</g>\n",
       "<!-- (19, 2) -->\n",
       "<g id=\"node20\" class=\"node\">\n",
       "<title>(19, 2)</title>\n",
       "<text text-anchor=\"middle\" x=\"201.0801\" y=\"-258.8\" font-family=\"Times,serif\" font-size=\"14.00\" fill=\"#000000\">&lt;term&gt; </text>\n",
       "</g>\n",
       "<!-- (13, 2)&#45;&gt;(19, 2) -->\n",
       "<g id=\"edge19\" class=\"edge\">\n",
       "<title>(13, 2)&#45;&gt;(19, 2)</title>\n",
       "<path fill=\"none\" stroke=\"#000000\" d=\"M157.701,-319.6584C165.3807,-309.6278 179.3399,-291.3954 189.3507,-278.3201\"/>\n",
       "<polygon fill=\"#000000\" stroke=\"#000000\" points=\"192.2246,-280.3238 195.5247,-270.256 186.6665,-276.0684 192.2246,-280.3238\"/>\n",
       "<text text-anchor=\"middle\" x=\"184.5801\" y=\"-290.8\" font-family=\"Times,serif\" font-size=\"14.00\" fill=\"#000000\">2</text>\n",
       "</g>\n",
       "<!-- (15, 0) -->\n",
       "<g id=\"node16\" class=\"node\">\n",
       "<title>(15, 0)</title>\n",
       "<text text-anchor=\"middle\" x=\"102.0801\" y=\"-194.8\" font-family=\"Times,serif\" font-size=\"14.00\" fill=\"#000000\">&lt;integer&gt; </text>\n",
       "</g>\n",
       "<!-- (14, 0)&#45;&gt;(15, 0) -->\n",
       "<g id=\"edge15\" class=\"edge\">\n",
       "<title>(14, 0)&#45;&gt;(15, 0)</title>\n",
       "<path fill=\"none\" stroke=\"#000000\" d=\"M102.0801,-255.6584C102.0801,-246.2065 102.0801,-229.4718 102.0801,-216.632\"/>\n",
       "<polygon fill=\"#000000\" stroke=\"#000000\" points=\"105.5802,-216.256 102.0801,-206.256 98.5802,-216.256 105.5802,-216.256\"/>\n",
       "<text text-anchor=\"middle\" x=\"105.5801\" y=\"-226.8\" font-family=\"Times,serif\" font-size=\"14.00\" fill=\"#000000\">0</text>\n",
       "</g>\n",
       "<!-- (16, 0) -->\n",
       "<g id=\"node17\" class=\"node\">\n",
       "<title>(16, 0)</title>\n",
       "<text text-anchor=\"middle\" x=\"102.0801\" y=\"-130.8\" font-family=\"Times,serif\" font-size=\"14.00\" fill=\"#000000\">&lt;digit&gt; </text>\n",
       "</g>\n",
       "<!-- (15, 0)&#45;&gt;(16, 0) -->\n",
       "<g id=\"edge16\" class=\"edge\">\n",
       "<title>(15, 0)&#45;&gt;(16, 0)</title>\n",
       "<path fill=\"none\" stroke=\"#000000\" d=\"M102.0801,-191.6584C102.0801,-182.2065 102.0801,-165.4718 102.0801,-152.632\"/>\n",
       "<polygon fill=\"#000000\" stroke=\"#000000\" points=\"105.5802,-152.256 102.0801,-142.256 98.5802,-152.256 105.5802,-152.256\"/>\n",
       "<text text-anchor=\"middle\" x=\"105.5801\" y=\"-162.8\" font-family=\"Times,serif\" font-size=\"14.00\" fill=\"#000000\">0</text>\n",
       "</g>\n",
       "<!-- (17, 0) -->\n",
       "<g id=\"node18\" class=\"node\">\n",
       "<title>(17, 0)</title>\n",
       "<text text-anchor=\"middle\" x=\"102.0801\" y=\"-66.8\" font-family=\"Times,serif\" font-size=\"14.00\" fill=\"#000000\">3 </text>\n",
       "</g>\n",
       "<!-- (16, 0)&#45;&gt;(17, 0) -->\n",
       "<g id=\"edge17\" class=\"edge\">\n",
       "<title>(16, 0)&#45;&gt;(17, 0)</title>\n",
       "<path fill=\"none\" stroke=\"#000000\" d=\"M102.0801,-127.6584C102.0801,-118.2065 102.0801,-101.4718 102.0801,-88.632\"/>\n",
       "<polygon fill=\"#000000\" stroke=\"#000000\" points=\"105.5802,-88.256 102.0801,-78.256 98.5802,-88.256 105.5802,-88.256\"/>\n",
       "<text text-anchor=\"middle\" x=\"105.5801\" y=\"-98.8\" font-family=\"Times,serif\" font-size=\"14.00\" fill=\"#000000\">0</text>\n",
       "</g>\n",
       "<!-- (20, 0) -->\n",
       "<g id=\"node21\" class=\"node\">\n",
       "<title>(20, 0)</title>\n",
       "<text text-anchor=\"middle\" x=\"201.0801\" y=\"-194.8\" font-family=\"Times,serif\" font-size=\"14.00\" fill=\"#000000\">&lt;factor&gt; </text>\n",
       "</g>\n",
       "<!-- (19, 2)&#45;&gt;(20, 0) -->\n",
       "<g id=\"edge20\" class=\"edge\">\n",
       "<title>(19, 2)&#45;&gt;(20, 0)</title>\n",
       "<path fill=\"none\" stroke=\"#000000\" d=\"M201.0801,-255.6584C201.0801,-246.2065 201.0801,-229.4718 201.0801,-216.632\"/>\n",
       "<polygon fill=\"#000000\" stroke=\"#000000\" points=\"204.5802,-216.256 201.0801,-206.256 197.5802,-216.256 204.5802,-216.256\"/>\n",
       "<text text-anchor=\"middle\" x=\"204.5801\" y=\"-226.8\" font-family=\"Times,serif\" font-size=\"14.00\" fill=\"#000000\">0</text>\n",
       "</g>\n",
       "<!-- (21, 0) -->\n",
       "<g id=\"node22\" class=\"node\">\n",
       "<title>(21, 0)</title>\n",
       "<text text-anchor=\"middle\" x=\"201.0801\" y=\"-130.8\" font-family=\"Times,serif\" font-size=\"14.00\" fill=\"#000000\">&lt;integer&gt; </text>\n",
       "</g>\n",
       "<!-- (20, 0)&#45;&gt;(21, 0) -->\n",
       "<g id=\"edge21\" class=\"edge\">\n",
       "<title>(20, 0)&#45;&gt;(21, 0)</title>\n",
       "<path fill=\"none\" stroke=\"#000000\" d=\"M201.0801,-191.6584C201.0801,-182.2065 201.0801,-165.4718 201.0801,-152.632\"/>\n",
       "<polygon fill=\"#000000\" stroke=\"#000000\" points=\"204.5802,-152.256 201.0801,-142.256 197.5802,-152.256 204.5802,-152.256\"/>\n",
       "<text text-anchor=\"middle\" x=\"204.5801\" y=\"-162.8\" font-family=\"Times,serif\" font-size=\"14.00\" fill=\"#000000\">0</text>\n",
       "</g>\n",
       "<!-- (22, 0) -->\n",
       "<g id=\"node23\" class=\"node\">\n",
       "<title>(22, 0)</title>\n",
       "<text text-anchor=\"middle\" x=\"201.0801\" y=\"-66.8\" font-family=\"Times,serif\" font-size=\"14.00\" fill=\"#000000\">&lt;digit&gt; </text>\n",
       "</g>\n",
       "<!-- (21, 0)&#45;&gt;(22, 0) -->\n",
       "<g id=\"edge22\" class=\"edge\">\n",
       "<title>(21, 0)&#45;&gt;(22, 0)</title>\n",
       "<path fill=\"none\" stroke=\"#000000\" d=\"M201.0801,-127.6584C201.0801,-118.2065 201.0801,-101.4718 201.0801,-88.632\"/>\n",
       "<polygon fill=\"#000000\" stroke=\"#000000\" points=\"204.5802,-88.256 201.0801,-78.256 197.5802,-88.256 204.5802,-88.256\"/>\n",
       "<text text-anchor=\"middle\" x=\"204.5801\" y=\"-98.8\" font-family=\"Times,serif\" font-size=\"14.00\" fill=\"#000000\">0</text>\n",
       "</g>\n",
       "<!-- (23, 0) -->\n",
       "<g id=\"node24\" class=\"node\">\n",
       "<title>(23, 0)</title>\n",
       "<text text-anchor=\"middle\" x=\"201.0801\" y=\"-2.8\" font-family=\"Times,serif\" font-size=\"14.00\" fill=\"#000000\">4 </text>\n",
       "</g>\n",
       "<!-- (22, 0)&#45;&gt;(23, 0) -->\n",
       "<g id=\"edge23\" class=\"edge\">\n",
       "<title>(22, 0)&#45;&gt;(23, 0)</title>\n",
       "<path fill=\"none\" stroke=\"#000000\" d=\"M201.0801,-63.6584C201.0801,-54.2065 201.0801,-37.4718 201.0801,-24.632\"/>\n",
       "<polygon fill=\"#000000\" stroke=\"#000000\" points=\"204.5802,-24.256 201.0801,-14.256 197.5802,-24.256 204.5802,-24.256\"/>\n",
       "<text text-anchor=\"middle\" x=\"204.5801\" y=\"-34.8\" font-family=\"Times,serif\" font-size=\"14.00\" fill=\"#000000\">0</text>\n",
       "</g>\n",
       "</g>\n",
       "</svg>\n"
      ],
      "text/plain": [
       "<graphviz.dot.Digraph at 0x11183f550>"
      ]
     },
     "execution_count": 183,
     "metadata": {},
     "output_type": "execute_result"
    }
   ],
   "source": [
    "%top display_tree(mark_faulty_nodes(abs_tree_cnode1, '1'))"
   ]
  },
  {
   "cell_type": "code",
   "execution_count": 184,
   "metadata": {},
   "outputs": [],
   "source": [
    "%top c_node1 = mark_faulty_nodes(abs_tree_cnode1, '1')"
   ]
  },
  {
   "cell_type": "code",
   "execution_count": 185,
   "metadata": {},
   "outputs": [],
   "source": [
    "%top f_node1 = c_node1"
   ]
  },
  {
   "cell_type": "code",
   "execution_count": 186,
   "metadata": {},
   "outputs": [],
   "source": [
    "def faulty_node_to_grammar(tree, grammar=None):\n",
    "    if grammar is None: grammar = {}\n",
    "    if is_node_abstract(tree): return grammar\n",
    "    name, children, *rest = tree\n",
    "    tokens = []\n",
    "    if name not in grammar: grammar[name] = []\n",
    "    for c in children:\n",
    "        n, cs, *rest = c\n",
    "        tokens.append(n)\n",
    "        if is_nt(n):\n",
    "            faulty_node_to_grammar(c, grammar)\n",
    "    grammar[name].append(tuple(tokens))\n",
    "    return grammar, tree[0]"
   ]
  },
  {
   "cell_type": "code",
   "execution_count": 187,
   "metadata": {},
   "outputs": [
    {
     "name": "stdout",
     "output_type": "stream",
     "text": [
      "<factor> ::=\n",
      "|    '(' <expr> ')'\n",
      "|    '(' <expr> ')'\n",
      "<expr> ::=\n",
      "|    <term>\n",
      "<term> ::=\n",
      "|    <factor>\n",
      "3 4\n"
     ]
    },
    {
     "data": {
      "text/plain": [
       "'<factor>'"
      ]
     },
     "execution_count": 187,
     "metadata": {},
     "output_type": "execute_result"
    }
   ],
   "source": [
    "%%top\n",
    "g, s = faulty_node_to_grammar(abs_tree_cnode1)\n",
    "Gs(g)\n",
    "s"
   ]
  },
  {
   "cell_type": "code",
   "execution_count": 188,
   "metadata": {},
   "outputs": [],
   "source": [
    "def faulty_node_to_pattern_grammar(tree, prefix, grammar=None):\n",
    "    ltree = mark_faulty_nodes(tree, prefix)\n",
    "    return faulty_node_to_grammar(ltree)"
   ]
  },
  {
   "cell_type": "code",
   "execution_count": 189,
   "metadata": {},
   "outputs": [],
   "source": [
    "#%%top\n",
    "lg1, ls1 = faulty_node_to_pattern_grammar(abs_tree_cnode1, '1')"
   ]
  },
  {
   "cell_type": "code",
   "execution_count": 190,
   "metadata": {},
   "outputs": [
    {
     "name": "stdout",
     "output_type": "stream",
     "text": [
      "<factor L1_1> ::=\n",
      "|    '(' <expr L1_1> ')'\n",
      "<expr L1_1> ::=\n",
      "|    <term L1_1>\n",
      "<term L1_1> ::=\n",
      "|    <factor L1_2>\n",
      "<factor L1_2> ::=\n",
      "|    '(' <expr> ')'\n",
      "4 4\n"
     ]
    },
    {
     "data": {
      "text/plain": [
       "'<factor L1_1>'"
      ]
     },
     "execution_count": 190,
     "metadata": {},
     "output_type": "execute_result"
    }
   ],
   "source": [
    "%%top\n",
    "Gs(lg1)\n",
    "ls1"
   ]
  },
  {
   "cell_type": "code",
   "execution_count": 191,
   "metadata": {},
   "outputs": [],
   "source": [
    "%top dd_tree_abs1 = abs_tree1"
   ]
  },
  {
   "cell_type": "code",
   "execution_count": 192,
   "metadata": {},
   "outputs": [],
   "source": [
    "#%top\n",
    "node_faulty1 = abs_tree_cnode1"
   ]
  },
  {
   "cell_type": "markdown",
   "metadata": {},
   "source": [
    "### Finding insertable positions"
   ]
  },
  {
   "cell_type": "markdown",
   "metadata": {},
   "source": [
    "Given a rule, and the faulty symbol, the positions in the rule where the fault can be inserted are all the non-terminals that will eventually reach the symbol of the faulty symbol. That is, if we have `<digit> + <expr>` as the expansion and the faulty symbol is `<factor*>` then, since `<digit>` can never reach `<factor>`, `0` is out, and so is `1` since it is a terminal symbol. Hence, only `<expr>` remains, which when expanded, one of the expansion paths will include a `<factor>`. Hence, here `[2]` is the answer."
   ]
  },
  {
   "cell_type": "code",
   "execution_count": 193,
   "metadata": {},
   "outputs": [],
   "source": [
    "def get_reachable_positions(rule, fkey, reachable):\n",
    "    positions = []\n",
    "    for i, token in enumerate(rule):\n",
    "        if not is_nt(token): continue\n",
    "        if fkey == token or fkey in reachable[token]:\n",
    "            positions.append(i)\n",
    "    return positions"
   ]
  },
  {
   "cell_type": "code",
   "execution_count": 194,
   "metadata": {},
   "outputs": [],
   "source": [
    "reachable1 = reachable_dict(EXPR_GRAMMAR)"
   ]
  },
  {
   "cell_type": "code",
   "execution_count": 195,
   "metadata": {},
   "outputs": [
    {
     "name": "stdout",
     "output_type": "stream",
     "text": [
      "<start>\n",
      "\t ['<expr>'] [0]\n",
      "<expr>\n",
      "\t ['<term>', ' + ', '<expr>'] [0, 2]\n",
      "\t ['<term>', ' - ', '<expr>'] [0, 2]\n",
      "\t ['<term>'] [0]\n",
      "<term>\n",
      "\t ['<factor>', ' * ', '<term>'] [0, 2]\n",
      "\t ['<factor>', ' / ', '<term>'] [0, 2]\n",
      "\t ['<factor>'] [0]\n",
      "<factor>\n",
      "\t ['+', '<factor>'] [1]\n",
      "\t ['-', '<factor>'] [1]\n",
      "\t ['(', '<expr>', ')'] [1]\n",
      "\t ['<integer>', '.', '<integer>'] []\n",
      "\t ['<integer>'] []\n",
      "<integer>\n",
      "\t ['<digit>', '<integer>'] []\n",
      "\t ['<digit>'] []\n",
      "<digit>\n",
      "\t ['0'] []\n",
      "\t ['1'] []\n",
      "\t ['2'] []\n",
      "\t ['3'] []\n",
      "\t ['4'] []\n",
      "\t ['5'] []\n",
      "\t ['6'] []\n",
      "\t ['7'] []\n",
      "\t ['8'] []\n",
      "\t ['9'] []\n"
     ]
    }
   ],
   "source": [
    "%%top\n",
    "for k in EXPR_GRAMMAR:\n",
    "    print(k)\n",
    "    for rule in EXPR_GRAMMAR[k]:\n",
    "        v = get_reachable_positions(rule, '<factor>', reachable1)\n",
    "        print('\\t', rule, v)"
   ]
  },
  {
   "cell_type": "markdown",
   "metadata": {},
   "source": [
    "### Insert into key definition"
   ]
  },
  {
   "cell_type": "markdown",
   "metadata": {},
   "source": [
    "The essential idea is to make the rules in the grammar such that there is one fault position in each position.\n",
    "Take one rule at a time. For each token in the rule, get the reachable tokens. If the fsym is not in reachable tokens, then the falt cannot be inserted in that position. So get all positions for the rule that we can insert fsym in, and for each position, change the symbol for later insertion.\n",
    "\n",
    "#### Proof\n",
    "\n",
    "The proof that this works is as follows:\n",
    "\n",
    "Any key named $<\\overline{X}>$ is guaranteed to contain at least one fault. The definition of any key by construction is, $<\\overline{X}> \\models \\overline{R_1} \\lor \\overline{R_2} \\ldots $ where each $\\overline{R_i}$ is a rule that contains at least one $<\\overline{Y}>$ such as $\\overline{R_i} = \\{<\\overline{P}> \\cdot Q \\cdot R\\} \\lor \\{P \\cdot <\\overline{Q}> \\cdot R\\} \\lor \\{ P \\cdot Q \\cdot <\\overline{R}> \\}$."
   ]
  },
  {
   "cell_type": "code",
   "execution_count": 196,
   "metadata": {},
   "outputs": [],
   "source": [
    "from enum import Enum"
   ]
  },
  {
   "cell_type": "code",
   "execution_count": 197,
   "metadata": {},
   "outputs": [],
   "source": [
    "class FKey(str, Enum):\n",
    "    #negate = 'NEGATE'\n",
    "    #fault = 'FAULT' # not used\n",
    "    atmost = 'ATMOST'\n",
    "    atleast = 'ATLEAST'\n",
    "    exactly = 'EXACTLY'"
   ]
  },
  {
   "cell_type": "code",
   "execution_count": 198,
   "metadata": {},
   "outputs": [],
   "source": [
    "def to_fkey_prefix(name, prefix, kind):\n",
    "    #if kind == FKey.negative:\n",
    "    #    return \"<%s -%s>\" % (name[1:-1], prefix)\n",
    "    #if kind == FKey.fault: # not used\n",
    "    #    return \"<%s F%s>\" % (name[1:-1], prefix)\n",
    "    if kind == FKey.atmost:\n",
    "        return \"<%s *F%s>\" % (name[1:-1], prefix)\n",
    "    elif kind == FKey.atleast:\n",
    "        return \"<%s +F%s>\" % (name[1:-1], prefix)\n",
    "    elif kind == FKey.exactly:\n",
    "        return \"<%s .F%s>\" % (name[1:-1], prefix)\n",
    "    assert False"
   ]
  },
  {
   "cell_type": "code",
   "execution_count": 199,
   "metadata": {},
   "outputs": [],
   "source": [
    "def insert_atleast_one_fault_into_key(grammar, key, fsym, prefix, reachable):\n",
    "    rules = grammar[key]\n",
    "    my_rules = []\n",
    "    for rule in grammar[key]:\n",
    "        positions = get_reachable_positions(rule, fsym, reachable)\n",
    "        if not positions: # make it len(positions) >= n if necessary\n",
    "            # skip this rule because we can not embed the fault here.\n",
    "            continue\n",
    "        else:\n",
    "            # at each position, insert the fsym\n",
    "            for pos in positions:\n",
    "                new_rule = [to_fkey_prefix(t, prefix, FKey.atleast)\n",
    "                            if pos == p else t for p,t in enumerate(rule)]\n",
    "                my_rules.append(new_rule)\n",
    "    return (to_fkey_prefix(key, prefix, FKey.atleast), my_rules)"
   ]
  },
  {
   "cell_type": "code",
   "execution_count": 200,
   "metadata": {},
   "outputs": [
    {
     "name": "stdout",
     "output_type": "stream",
     "text": [
      "<start +F1>\n",
      "     ['<expr +F1>']\n",
      "\n",
      "<expr +F1>\n",
      "     ['<term +F1>', ' + ', '<expr>']\n",
      "     ['<term>', ' + ', '<expr +F1>']\n",
      "     ['<term +F1>', ' - ', '<expr>']\n",
      "     ['<term>', ' - ', '<expr +F1>']\n",
      "     ['<term +F1>']\n",
      "\n",
      "<term +F1>\n",
      "     ['<factor +F1>', ' * ', '<term>']\n",
      "     ['<factor>', ' * ', '<term +F1>']\n",
      "     ['<factor +F1>', ' / ', '<term>']\n",
      "     ['<factor>', ' / ', '<term +F1>']\n",
      "     ['<factor +F1>']\n",
      "\n",
      "<factor +F1>\n",
      "     ['+', '<factor +F1>']\n",
      "     ['-', '<factor +F1>']\n",
      "     ['(', '<expr +F1>', ')']\n",
      "\n",
      "<integer +F1>\n",
      "\n",
      "<digit +F1>\n",
      "\n"
     ]
    }
   ],
   "source": [
    "%%top\n",
    "for key in EXPR_GRAMMAR:\n",
    "    fk, rules = insert_atleast_one_fault_into_key(EXPR_GRAMMAR, key, '<factor>', '1', reachable1)\n",
    "    print(fk)\n",
    "    for r in rules:\n",
    "        print('    ', r)\n",
    "    print()"
   ]
  },
  {
   "cell_type": "code",
   "execution_count": 201,
   "metadata": {},
   "outputs": [],
   "source": [
    "def insert_atleast_one_fault_into_grammar(grammar, fsym, prefix_f, reachable):\n",
    "    new_grammar = {}\n",
    "    for key in grammar:\n",
    "        fk, rules = insert_atleast_one_fault_into_key(grammar, key, fsym, prefix_f, reachable)\n",
    "        if fk not in new_grammar:\n",
    "            new_grammar[fk] = []\n",
    "        #if not rules:\n",
    "        #    rules = grammar[key] # no applicable rules, so use the original\n",
    "        new_grammar[fk].extend(rules)\n",
    "    return new_grammar"
   ]
  },
  {
   "cell_type": "markdown",
   "metadata": {},
   "source": [
    "### Get the final grammar"
   ]
  },
  {
   "cell_type": "markdown",
   "metadata": {},
   "source": [
    "The final steps are as follows:\n",
    "1. Add the fault node, and the child nodes to the grammar.\n",
    "2. Generate the faulty key definitions. This is done per key in the original grammar.\n",
    "3. Finally, connect the faulty key and fault node."
   ]
  },
  {
   "cell_type": "code",
   "execution_count": 202,
   "metadata": {},
   "outputs": [],
   "source": [
    "def atleast_one_fault_grammar_(grammar, start_symbol, fault_node, f_idx, log=False):\n",
    "    def L_prefix(i): return str(i)\n",
    "    def F_prefix(i): return str(i)\n",
    "    prefix_l = L_prefix(f_idx)\n",
    "    prefix_f = F_prefix(f_idx)\n",
    "    key_f = fault_node[0]\n",
    "    assert key_f in grammar\n",
    "\n",
    "    # First, get the pattern grammar\n",
    "    pattern_g, pattern_s = faulty_node_to_pattern_grammar(fault_node, prefix_l)\n",
    "    # the pattern grammar contains the faulty keys and their definitions.\n",
    "\n",
    "    # Next, get the reaching grammar. This simply embeds at one guaranteed fault \n",
    "    # in each of the rules.\n",
    "    reachable_keys = reachable_dict(grammar)\n",
    "    # We want to insert the fault prefix_f into each insertable positions. \n",
    "    # the insertable locations are those that can reach reaching_fsym\n",
    "    reach_g = insert_atleast_one_fault_into_grammar(grammar, key_f, prefix_f, reachable_keys)\n",
    "\n",
    "    # now, the faulty key is an alternative to the original.\n",
    "    # We have to take care of one thing though. The `fkey` in the pattern grammar should\n",
    "    # be replaced with reaching_fsym, but the definitions kept. This is because we want to preserve\n",
    "    # the rule patterns. We do not want normal expansions to go through since it may mean\n",
    "    # no fault inserted. However, we want self recursion to happen.\n",
    "    reaching_fsym = to_fkey_prefix(key_f, prefix_f, FKey.atleast)\n",
    "\n",
    "    # How do we insert the fault into the grammar? Essentially, at some point we want\n",
    "    # to allow reach_g[reaching_fsym] to produce the fault. If this token is\n",
    "    # nonrecursive, then it simple. We replace the definition reach_g[reaching_fsym]\n",
    "    # with that of pattern_g[pattern_s] and we are done.\n",
    "    pattern_rule = pattern_g[pattern_s][0] # get the pattern rule\n",
    "    \n",
    "    # However, if the reach_g[reaching_fsym] rules contain any tokens that can\n",
    "    # reach `reaching_fsym` then it becomes more complex because we do not want\n",
    "    # to miss out on these patterns. On the other hand, we also need to make sure that we do\n",
    "    # not introduce the fault by matching the first expansion of the fault node.\n",
    "    \n",
    "    # print('WARNING: atleast_one_fault_grammar is incomplete.')\n",
    "    reaching_rules = [r for r in reach_g[reaching_fsym]] # copy\n",
    "    #for rule in reach_g[reaching_fsym]:\n",
    "    #    if normalized_rule_match(rule, pattern_rule):\n",
    "    #        # # TODO: If this was insert _only_ one fault then,\n",
    "    #        # # we do not want to inadvertantly introduce the fault again. So this requires special\n",
    "    #        # # handling. In effect, we want to make sure that the rule is actually a negation\n",
    "    #        # # of the pattern_rule, one token at a time. This can be done only once negation comes in.\n",
    "    #        \n",
    "    #        # However, given that we have no restriction on the number of faults inserted,\n",
    "    #        # we can merrily add this rule. The only restriction being that, the inserted rule\n",
    "    #        # should not allow a non-matching parse to go forward. However, this is done by\n",
    "    #        # construction since we are using reaching rules.\n",
    "    #        \n",
    "    #        # # note: this may not be correct. in Factor +F1, (expr L1_1) is finite, and will\n",
    "    #        # # get removed by gc as being more refined than (expr +F1).\n",
    "    #        reaching_rules.append(rule)\n",
    "    #        pass\n",
    "    #    else:\n",
    "    #        # we only want to keep a rule if at least one of the tokens is reaching fault_node[0].\n",
    "    #        for token in rule_to_normalized_rule(rule):\n",
    "    #            if is_nt(token) and key_f in reachable_keys[token]:\n",
    "    #                reaching_rules.append(rule)\n",
    "    #                break\n",
    " \n",
    "    combined_grammar = {**grammar, **pattern_g, **reach_g}\n",
    "    combined_grammar[reaching_fsym] = reaching_rules + [pattern_rule]\n",
    "   \n",
    "    return combined_grammar, to_fkey_prefix(start_symbol, F_prefix(f_idx), FKey.atleast)"
   ]
  },
  {
   "cell_type": "code",
   "execution_count": 203,
   "metadata": {},
   "outputs": [],
   "source": [
    "def atleast_one_fault_grammar(grammar, start_symbol, fault_node, f_idx, log=False):\n",
    "    cg_, cs = atleast_one_fault_grammar_(grammar, start_symbol, fault_node, f_idx, log)\n",
    "    cg = complete(cg_, cs) \n",
    "    return cg, cs"
   ]
  },
  {
   "cell_type": "code",
   "execution_count": 204,
   "metadata": {},
   "outputs": [
    {
     "data": {
      "text/plain": [
       "'<factor>'"
      ]
     },
     "execution_count": 204,
     "metadata": {},
     "output_type": "execute_result"
    }
   ],
   "source": [
    "%top node_faulty1[0]"
   ]
  },
  {
   "cell_type": "markdown",
   "metadata": {},
   "source": [
    "The guarantee is at least one fault per input."
   ]
  },
  {
   "cell_type": "code",
   "execution_count": 205,
   "metadata": {},
   "outputs": [],
   "source": [
    "#%%top\n",
    "faulty1_grammar, faulty1_start = atleast_one_fault_grammar(EXPR_GRAMMAR, EXPR_START, node_faulty1, 1)"
   ]
  },
  {
   "cell_type": "code",
   "execution_count": 206,
   "metadata": {
    "scrolled": false
   },
   "outputs": [
    {
     "name": "stdout",
     "output_type": "stream",
     "text": [
      "<start +F1> ::=\n",
      "|    <expr +F1>\n",
      "<expr +F1> ::=\n",
      "|    <term +F1>\n",
      "|    <term +F1> ' + ' <expr>\n",
      "|    <term +F1> ' - ' <expr>\n",
      "|    <term> ' + ' <expr +F1>\n",
      "|    <term> ' - ' <expr +F1>\n",
      "<term +F1> ::=\n",
      "|    <factor +F1>\n",
      "|    <factor +F1> ' * ' <term>\n",
      "|    <factor +F1> ' / ' <term>\n",
      "|    <factor> ' * ' <term +F1>\n",
      "|    <factor> ' / ' <term +F1>\n",
      "<expr> ::=\n",
      "|    <term>\n",
      "|    <term> ' + ' <expr>\n",
      "|    <term> ' - ' <expr>\n",
      "<term> ::=\n",
      "|    <factor>\n",
      "|    <factor> ' * ' <term>\n",
      "|    <factor> ' / ' <term>\n",
      "<factor +F1> ::=\n",
      "|    '(' <expr +F1> ')'\n",
      "|    '(' <expr L1_1> ')'\n",
      "|    '+' <factor +F1>\n",
      "|    '-' <factor +F1>\n",
      "<factor> ::=\n",
      "|    '(' <expr> ')'\n",
      "|    '+' <factor>\n",
      "|    '-' <factor>\n",
      "|    <integer>\n",
      "|    <integer> '.' <integer>\n",
      "<expr L1_1> ::=\n",
      "|    <term L1_1>\n",
      "<term L1_1> ::=\n",
      "|    <factor L1_2>\n",
      "<factor L1_2> ::=\n",
      "|    '(' <expr> ')'\n",
      "<integer> ::=\n",
      "|    <digit>\n",
      "|    <digit> <integer>\n",
      "<digit> ::=\n",
      "|    '0'\n",
      "|    '1'\n",
      "|    '2'\n",
      "|    '3'\n",
      "|    '4'\n",
      "|    '5'\n",
      "|    '6'\n",
      "|    '7'\n",
      "|    '8'\n",
      "|    '9'\n",
      "12 41\n"
     ]
    },
    {
     "data": {
      "text/plain": [
       "'<start +F1>'"
      ]
     },
     "execution_count": 206,
     "metadata": {},
     "output_type": "execute_result"
    }
   ],
   "source": [
    "%%top\n",
    "Gs(faulty1_grammar)\n",
    "faulty1_start"
   ]
  },
  {
   "cell_type": "code",
   "execution_count": 207,
   "metadata": {},
   "outputs": [],
   "source": [
    "#%%top\n",
    "faulty1_fuzzer = LimitFuzzer(faulty1_grammar)\n",
    "faulty1_parser = Parser(faulty1_grammar, canonical=True, start_symbol=faulty1_start)"
   ]
  },
  {
   "cell_type": "code",
   "execution_count": 208,
   "metadata": {},
   "outputs": [
    {
     "name": "stdout",
     "output_type": "stream",
     "text": [
      "4.2 * 87 * -((((7)) * 3 - 4.8) / 4 * 7 - 1 + 1 - 0.0)\n",
      "+--(+7.6 * 9) / (-65 + (0.1 - 8) + (3) + 4 - 0.0) * +((0)) * +(7 / 5.1 + 8.5) / --(6.7) / -1 - +((7) / (5) * 2 * 0 + 0.4 - 4.5 / 9.7 - 9 + 3.7) / --(2.7 * 9.4 + 2 + 5.1) * 69 / 388 / -(0) * -9.7 / 6.7\n",
      "6.8 * ((4.5 / 4 + 1) * --7 * -5.8 + (8.9 - 2.5) * (7)) / (-9.0 / +6) / 92 + 21.753 / ((2) - 1 + 7.3 - 6.6 + 1.7) / -(((9)) / 5.8)\n",
      "++((4.4 + 1)) * 70.810849\n",
      "+((8.5 * 1 + 2 + 4.5)) + 26.1365 * -86 / 1200.0614 * (4.4) * (7 + 5.6) * +7 / 5.3 / 8.6 + 4 / 0.458 * (8.1 - 0) / +9 / -7.7 - -+05.98 / (7.0 * 2.3 + 7 + 1.8) * ++1.1 * +1.3\n",
      "-8 / 8.6 * 8 / (4 * 5.4 - 2.5 - 2.3 - 2) - -+710 / ++((5)) / (5 - 4.8 / 8) / +8.5 / 1.4 + (-0 / -0.9 * 1 / 2 - 5.1 / 6 + 2 / 1.6 - 9 + 4) - --(9.7) / ++6.2\n",
      "-(((3.1)) / +8 * (7) / 9.2 * 0 - 61 - 9.5 * 5 * 2.9 - 5 + 0 - 4.9)\n",
      "((1 / 7.4 / 5.5 - 1 + 1.7 - 2)) * 53.60 - (-21.02 + (2.8 - 2) / +2.6 - 0.5) / -++89 / 154.6633 - 04 / -85.04 / +40.26 * -(3) * (9.5) - (+7 * 8 / 5) * 1 / 15 - 0.57 * +-7 * 6 * 1 + 57 - 5 * 0 / 2.8 - 0.8 - 2 - 0\n",
      "++0 + ((6.6 / 5.2)) / -667.9 * (+9.7 / 2 * 5.7) / (7 / 8 + 0 - 4.6) / +-8.1 + +2 + ++-(0.4) * 6\n",
      "-++((9) / 0.0 / 2) * -(2.52 / -5 + 9.9 - 7 / 8) * +-(((6)) / 8.2 + 0 - 7.6) * 25\n"
     ]
    }
   ],
   "source": [
    "%%top\n",
    "for i in range(10):\n",
    "    s = faulty1_fuzzer.fuzz(key=faulty1_start)\n",
    "    print(s)\n",
    "    assert faulty1_parser.can_parse(s)\n",
    "    assert '((' in s and '))' in s"
   ]
  },
  {
   "cell_type": "markdown",
   "metadata": {},
   "source": [
    "A few parses"
   ]
  },
  {
   "cell_type": "code",
   "execution_count": 209,
   "metadata": {},
   "outputs": [],
   "source": [
    "%top assert faulty1_parser.can_parse('((2))')"
   ]
  },
  {
   "cell_type": "code",
   "execution_count": 210,
   "metadata": {},
   "outputs": [],
   "source": [
    "%top assert faulty1_parser.can_parse('((1 + 1))')"
   ]
  },
  {
   "cell_type": "code",
   "execution_count": 211,
   "metadata": {},
   "outputs": [],
   "source": [
    "%top assert not faulty1_parser.can_parse('1 + 2')"
   ]
  },
  {
   "cell_type": "code",
   "execution_count": 212,
   "metadata": {},
   "outputs": [],
   "source": [
    "%top assert faulty1_parser.can_parse('1 + ((3))')"
   ]
  },
  {
   "cell_type": "markdown",
   "metadata": {},
   "source": [
    "## Removing a fault (only demonstration)"
   ]
  },
  {
   "cell_type": "markdown",
   "metadata": {},
   "source": [
    "**Note** This part is only for demonstration, and is not a performant solution. For actual negation, use the *self negation* described later."
   ]
  },
  {
   "cell_type": "code",
   "execution_count": 213,
   "metadata": {},
   "outputs": [
    {
     "data": {
      "text/plain": [
       "[]"
      ]
     },
     "execution_count": 213,
     "metadata": {},
     "output_type": "execute_result"
    }
   ],
   "source": [
    "EXCEPTION_HAPPENED"
   ]
  },
  {
   "cell_type": "markdown",
   "metadata": {},
   "source": [
    "### Negated pattern grammar "
   ]
  },
  {
   "cell_type": "markdown",
   "metadata": {},
   "source": [
    "Given a pattern grammar and the correspoinding grammar, we produce a negated pattern grammar for it."
   ]
  },
  {
   "cell_type": "code",
   "execution_count": 214,
   "metadata": {},
   "outputs": [],
   "source": [
    "def negate_prefix(prefix):\n",
    "    assert prefix\n",
    "    assert ' ' not in prefix\n",
    "    return BExpr(prefix).negate().simple()"
   ]
  },
  {
   "cell_type": "code",
   "execution_count": 215,
   "metadata": {},
   "outputs": [],
   "source": [
    "def refine_base_key(k, prefix):\n",
    "    assert is_nt(k)\n",
    "    assert is_base_key(k)\n",
    "    return '<%s %s>' % (stem(k), prefix)"
   ]
  },
  {
   "cell_type": "code",
   "execution_count": 216,
   "metadata": {},
   "outputs": [],
   "source": [
    "%top assert refine_base_key('<key>',negate_prefix('F1')) == '<key neg(F1)>'"
   ]
  },
  {
   "cell_type": "code",
   "execution_count": 217,
   "metadata": {},
   "outputs": [],
   "source": [
    "def negate_key(k):\n",
    "    assert is_nt(k)\n",
    "    assert refinement(k)\n",
    "    return '<%s %s>' % (stem(k), negate_prefix(refinement(k)))"
   ]
  },
  {
   "cell_type": "code",
   "execution_count": 218,
   "metadata": {},
   "outputs": [],
   "source": [
    "%top assert negate_key('<key F1>') == '<key neg(F1)>'"
   ]
  },
  {
   "cell_type": "code",
   "execution_count": 219,
   "metadata": {},
   "outputs": [],
   "source": [
    "%top assert negate_key('<key neg(F1)>')  == '<key F1>'"
   ]
  },
  {
   "cell_type": "code",
   "execution_count": 220,
   "metadata": {},
   "outputs": [],
   "source": [
    "def negate_key_at(rule, at):\n",
    "    new_rule = []\n",
    "    for i,key in enumerate(rule):\n",
    "        if i == at:\n",
    "            new_rule.append(negate_key(key))\n",
    "        else:\n",
    "            new_rule.append(key)\n",
    "    return new_rule"
   ]
  },
  {
   "cell_type": "code",
   "execution_count": 221,
   "metadata": {},
   "outputs": [],
   "source": [
    "def negate_a_base_rule_wrt_fault_in_pattern_grammar(base_rule, fault_key, reachable_keys, log=False):\n",
    "    assert reachable_keys is not None\n",
    "    assert not [k for k in base_rule if is_nt(k) and is_refined_key(k)]\n",
    "    # when we want to negate a base rule, we only produce a single negated rule with\n",
    "    # _all_ reachable points negated. This is because if any of these points allow reach\n",
    "    # of the fault, then fault can be present.\n",
    "    refinements = []\n",
    "    negated_rule = []\n",
    "    for i, token in enumerate(base_rule):\n",
    "        if not is_nt(token):\n",
    "            negated_rule.append(token)\n",
    "        elif normalize(fault_key) in reachable_keys[token]:\n",
    "            t = refine_base_key(token, negate_prefix(refinement(fault_key)))\n",
    "            refinements.append(t)\n",
    "            negated_rule.append(t)\n",
    "        else:\n",
    "            negated_rule.append(token)\n",
    "    return negated_rule, refinements"
   ]
  },
  {
   "cell_type": "code",
   "execution_count": 222,
   "metadata": {},
   "outputs": [],
   "source": [
    "%%top\n",
    "nrule, refs = negate_a_base_rule_wrt_fault_in_pattern_grammar(\n",
    "    ['(', '<expr>',')'], '<factor F1>', reachable_dict(EXPR_GRAMMAR))\n",
    "assert nrule == ['(', '<expr neg(F1)>', ')']\n",
    "assert refs == ['<expr neg(F1)>']"
   ]
  },
  {
   "cell_type": "code",
   "execution_count": 223,
   "metadata": {},
   "outputs": [],
   "source": [
    "%%top\n",
    "nrule, refs = negate_a_base_rule_wrt_fault_in_pattern_grammar(\n",
    "    ['<term>', '+', '<expr>'], '<factor F1>', reachable_dict(EXPR_GRAMMAR))\n",
    "assert nrule == ['<term neg(F1)>', '+', '<expr neg(F1)>']"
   ]
  },
  {
   "cell_type": "code",
   "execution_count": 224,
   "metadata": {},
   "outputs": [],
   "source": [
    "%%top\n",
    "nrule, refs = negate_a_base_rule_wrt_fault_in_pattern_grammar(\n",
    "    ['<integer>', '.', '<integer>'], '<factor F1>', reachable_dict(EXPR_GRAMMAR))\n",
    "assert nrule == ['<integer>', '.', '<integer>']"
   ]
  },
  {
   "cell_type": "markdown",
   "metadata": {},
   "source": [
    "How to negate a refined rule? The easiest part is terminals. They come as they are. Next, the refined keys. They get negated. Now, for unrefined keys. In a linear grammar, there should not be any. However, what we have are not strictly linear. There are abstractions involved.\n",
    "\n",
    "These can generate the _original_ charecteristic key. So, they need to be negated based on that."
   ]
  },
  {
   "cell_type": "markdown",
   "metadata": {},
   "source": [
    "The difference between `negate_a_refined_rule` and `negate_a_refined_rule_in_pattern_grammar` is that we know the fault_key (the charecteristic fault). So, we can check reachability."
   ]
  },
  {
   "cell_type": "code",
   "execution_count": 225,
   "metadata": {},
   "outputs": [],
   "source": [
    "def negate_a_refined_rule_in_pattern_grammar(refined_rule, fault_key, reachable_keys, log=False):\n",
    "    assert reachable_keys is not None\n",
    "    # TODO: check whether the rule is unrefined, and return early?\n",
    "    \n",
    "    # first, preprocess the rule\n",
    "    prefix = refinement(fault_key)\n",
    "    refinements = []\n",
    "    skip = []\n",
    "    # First, we refine our rule. Essentially, here, we negate any base keys that can reach the\n",
    "    # fault. These are essentially the holes in our patterns.\n",
    "    rerefined_rule = []\n",
    "    for i, t in enumerate(refined_rule):\n",
    "        if not is_nt(t):\n",
    "            t_ = t\n",
    "        elif not is_base_key(t):\n",
    "            t_ = t\n",
    "        # is faulty key reachable from the base key? If so, then we need to negate the\n",
    "        # base key.\n",
    "        elif normalize(fault_key) in reachable_keys[t]:\n",
    "            t_ = refine_base_key(t, negate_prefix(prefix))\n",
    "            # The idea is to explode the expression that we want to evaluate to DNF, and\n",
    "            # check whether any of the negated fault keys exist in their own negated reachability grammars.\n",
    "            refinements.append(t_)\n",
    "            # At this point, this is no longer a base key. So make sure to record the position.\n",
    "            skip.append(i)\n",
    "        else:\n",
    "            t_ = t\n",
    "        rerefined_rule.append(t_)\n",
    "\n",
    "    # Now, we come to any refinements that are part of the pattern grammar. We want to produce multiple\n",
    "    # rules -- as many as there are negatable tokens in the rule. Each rule will have a single position\n",
    "    # negated from the refined_rule (and all base keys already negated).\n",
    "    negated_rules = []\n",
    "    found = False\n",
    "    for i, t in enumerate(rerefined_rule):\n",
    "        if not is_nt(t): continue\n",
    "        if is_base_key(t): continue # note: the base key definition has changed.\n",
    "        if i in skip: continue # Holes. We already negatd these.\n",
    "        negated_rules.append(negate_key_at(rerefined_rule, i))\n",
    "        found = True\n",
    "\n",
    "    # if there are no refinements found, then there is nothing to negate it against.\n",
    "    # which means that the match will happen if we add the rule as is. We want to prevent the\n",
    "    # match. So, \n",
    "    # if not found: <- NO\n",
    "    #    negated_rules.append(rerefined_rule)\n",
    "    \n",
    "    # e.g. '<factor L1_2>': [('(', '<expr>', ')')\n",
    "    # the trouble with unrefined (i.e no refined key to negate) is that negating it is empty.\n",
    "    if not found: \n",
    "        assert not [k for k in refined_rule if is_nt(k) and is_refined_key(k)]\n",
    "    else:\n",
    "        assert [k for k in refined_rule if is_nt(k) and is_refined_key(k)]\n",
    "    return negated_rules, refinements"
   ]
  },
  {
   "cell_type": "code",
   "execution_count": 226,
   "metadata": {},
   "outputs": [],
   "source": [
    "%%top\n",
    "assert negate_a_refined_rule_in_pattern_grammar(\n",
    "    ['(', '<expr F1>', ')'], '<factor F1>', reachable_dict(EXPR_GRAMMAR)) == (\n",
    "    [['(', '<expr neg(F1)>', ')']], [])"
   ]
  },
  {
   "cell_type": "code",
   "execution_count": 227,
   "metadata": {},
   "outputs": [],
   "source": [
    "%%top\n",
    "assert negate_a_refined_rule_in_pattern_grammar(\n",
    "    ['(', '<expr>', '+', '<expr L1>', ')'], '<factor F1>', reachable_dict(EXPR_GRAMMAR)) == (\n",
    "    [['(', '<expr neg(F1)>', '+', '<expr neg(L1)>', ')']],\n",
    "    ['<expr neg(F1)>'])"
   ]
  },
  {
   "cell_type": "markdown",
   "metadata": {},
   "source": [
    "How do we negate a definition (a list of rules)? Essentially, any rule in the base grammar that is not part of the list should also be added (taking care to negate all the base keys).\n",
    "\n",
    "Next, for a refined rule, we generate multiple rules from such, with one position at a time being negated to produce a new rule."
   ]
  },
  {
   "cell_type": "code",
   "execution_count": 228,
   "metadata": {},
   "outputs": [],
   "source": [
    "def negate_definition_in_pattern_grammar(fault_key, refined_rules, base_rules, reachable_keys, log=False):\n",
    "    assert reachable_keys\n",
    "    refinements = []\n",
    "    # the harder part. First, we find the rules in base_rules which\n",
    "    # do not match the pattern in any of the refined_rules.\n",
    "    # each of these rules could in principle, induce the fault again\n",
    "    # except for terminals and nonreachables. So, we need to negate them.\n",
    "\n",
    "    negated_rules_base = []\n",
    "    non_matching_base_rules = rule_normalized_difference(base_rules, refined_rules)\n",
    "    if log: print('> for fkey', fault_key, len(non_matching_base_rules))\n",
    "    for rule in non_matching_base_rules:\n",
    "        negated_rule, refs = negate_a_base_rule_wrt_fault_in_pattern_grammar(rule, fault_key, reachable_keys, log)\n",
    "        negated_rules_base.append(negated_rule)\n",
    "        refinements.extend(refs)\n",
    "        if log: print('>  ', negated_rule)\n",
    "            \n",
    "    # the simple part. Given the set of fules, we take one rule at a time,\n",
    "    # and genrate the negated ruleset from that.\n",
    "    negated_rules_refined = []\n",
    "    if log: print('> for fkey refined:', fault_key, len(refined_rules))\n",
    "    for ruleR in refined_rules:\n",
    "        neg_rules, refs = negate_a_refined_rule_in_pattern_grammar(ruleR, fault_key, reachable_keys, log)\n",
    "        negated_rules_refined.extend(neg_rules)\n",
    "        refinements.extend(refs)\n",
    "        \n",
    "    return negated_rules_refined + negated_rules_base, refinements"
   ]
  },
  {
   "cell_type": "code",
   "execution_count": 229,
   "metadata": {},
   "outputs": [
    {
     "data": {
      "text/plain": [
       "[['<term +F1>'],\n",
       " ['<term +F1>', ' + ', '<expr>'],\n",
       " ['<term +F1>', ' - ', '<expr>'],\n",
       " ['<term>', ' + ', '<expr +F1>'],\n",
       " ['<term>', ' - ', '<expr +F1>']]"
      ]
     },
     "execution_count": 229,
     "metadata": {},
     "output_type": "execute_result"
    }
   ],
   "source": [
    "%top faulty1_grammar['<expr +F1>']"
   ]
  },
  {
   "cell_type": "code",
   "execution_count": 230,
   "metadata": {},
   "outputs": [
    {
     "data": {
      "text/plain": [
       "([['<term neg(+F1)>'],\n",
       "  ['<term neg(+F1)>', ' + ', '<expr neg(+F1)>'],\n",
       "  ['<term neg(+F1)>', ' - ', '<expr neg(+F1)>'],\n",
       "  ['<term neg(+F1)>', ' + ', '<expr neg(+F1)>'],\n",
       "  ['<term neg(+F1)>', ' - ', '<expr neg(+F1)>']],\n",
       " ['<expr neg(+F1)>', '<expr neg(+F1)>', '<term neg(+F1)>', '<term neg(+F1)>'])"
      ]
     },
     "execution_count": 230,
     "metadata": {},
     "output_type": "execute_result"
    }
   ],
   "source": [
    "%%top\n",
    "negate_definition_in_pattern_grammar('<factor +F1>', faulty1_grammar['<expr +F1>'],\n",
    "                                       EXPR_GRAMMAR['<expr>'], reachable_dict(EXPR_GRAMMAR))"
   ]
  },
  {
   "cell_type": "markdown",
   "metadata": {},
   "source": [
    "Negating a linear grammar is fairly simple. Take a definition at a time, and negate it."
   ]
  },
  {
   "cell_type": "code",
   "execution_count": 231,
   "metadata": {},
   "outputs": [],
   "source": [
    "def negated_pattern_grammar(pattern_grammar, pattern_start, fault_key, base_grammar, log=False):\n",
    "    assert normalize(fault_key) == normalize(pattern_start)\n",
    "    reachable_keys = reachable_dict(base_grammar)\n",
    "    negated_grammar = {}\n",
    "    refinements = []\n",
    "    for l_key in pattern_grammar:\n",
    "        l_rule = pattern_grammar[l_key][0]\n",
    "        nl_key = negate_key(l_key)\n",
    "        if log: print(l_key, '->', nl_key, ':', l_rule)\n",
    "        # find all rules that do not match, and add to negated_grammar,\n",
    "        # taking care to make sure reachabiity of keys.\n",
    "        normal_l_key = normalize(l_key)\n",
    "        base_rules = base_grammar[normal_l_key]\n",
    "        refined_rules = pattern_grammar[l_key]\n",
    "        \n",
    "        negated_rules, refs = negate_definition_in_pattern_grammar(fault_key, refined_rules, base_rules,\n",
    "                                                                reachable_keys, log)\n",
    "        # TODO does negated_rules require `and` of similar rules? (see self negation)\n",
    "        # The problem is that, for pattern grammar, there is only a single rule.\n",
    "\n",
    "        negated_grammar[nl_key] = negated_rules\n",
    "        refinements.extend(refs)\n",
    "    # these are all negations in the original grammar. They will come later.\n",
    "    return negated_grammar, negate_key(pattern_start), refinements"
   ]
  },
  {
   "cell_type": "code",
   "execution_count": 232,
   "metadata": {},
   "outputs": [
    {
     "name": "stdout",
     "output_type": "stream",
     "text": [
      "<factor>\n",
      "   ['+', '<factor>']\n",
      "   ['-', '<factor>']\n",
      "   ['(', '<expr>', ')']\n",
      "   ['<integer>', '.', '<integer>']\n",
      "   ['<integer>']\n",
      "<expr>\n",
      "   ['<term>', ' + ', '<expr>']\n",
      "   ['<term>', ' - ', '<expr>']\n",
      "   ['<term>']\n",
      "<term>\n",
      "   ['<factor>', ' * ', '<term>']\n",
      "   ['<factor>', ' / ', '<term>']\n",
      "   ['<factor>']\n",
      "<factor>\n",
      "   ['+', '<factor>']\n",
      "   ['-', '<factor>']\n",
      "   ['(', '<expr>', ')']\n",
      "   ['<integer>', '.', '<integer>']\n",
      "   ['<integer>']\n"
     ]
    }
   ],
   "source": [
    "%%top\n",
    "for k in lg1:\n",
    "    k1 = normalize(k)\n",
    "    print(k1)\n",
    "    for rule in EXPR_GRAMMAR[k1]:\n",
    "        print('  ', rule)"
   ]
  },
  {
   "cell_type": "code",
   "execution_count": 233,
   "metadata": {},
   "outputs": [
    {
     "name": "stdout",
     "output_type": "stream",
     "text": [
      "<factor L1_1> ::=\n",
      "|    '(' <expr L1_1> ')'\n",
      "<expr L1_1> ::=\n",
      "|    <term L1_1>\n",
      "<term L1_1> ::=\n",
      "|    <factor L1_2>\n",
      "<factor L1_2> ::=\n",
      "|    '(' <expr> ')'\n",
      "4 4\n"
     ]
    }
   ],
   "source": [
    "%top Gs(lg1)"
   ]
  },
  {
   "cell_type": "code",
   "execution_count": 234,
   "metadata": {},
   "outputs": [],
   "source": [
    "#%%top\n",
    "nlg1, nls1, refs = negated_pattern_grammar(lg1, ls1, '<factor F1>', EXPR_GRAMMAR)"
   ]
  },
  {
   "cell_type": "code",
   "execution_count": 235,
   "metadata": {},
   "outputs": [
    {
     "name": "stdout",
     "output_type": "stream",
     "text": [
      "<factor neg(L1_1)> ::=\n",
      "|    '(' <expr neg(L1_1)> ')'\n",
      "|    '+' <factor neg(F1)>\n",
      "|    '-' <factor neg(F1)>\n",
      "|    <integer> '.' <integer>\n",
      "|    <integer>\n",
      "<expr neg(L1_1)> ::=\n",
      "|    <term neg(L1_1)>\n",
      "|    <term neg(F1)> ' + ' <expr neg(F1)>\n",
      "|    <term neg(F1)> ' - ' <expr neg(F1)>\n",
      "<term neg(L1_1)> ::=\n",
      "|    <factor neg(L1_2)>\n",
      "|    <factor neg(F1)> ' * ' <term neg(F1)>\n",
      "|    <factor neg(F1)> ' / ' <term neg(F1)>\n",
      "<factor neg(L1_2)> ::=\n",
      "|    '+' <factor neg(F1)>\n",
      "|    '-' <factor neg(F1)>\n",
      "|    <integer> '.' <integer>\n",
      "|    <integer>\n",
      "4 15\n",
      "> <factor neg(F1)>\n",
      "> <factor neg(F1)>\n",
      "> <term neg(F1)>\n",
      "> <expr neg(F1)>\n",
      "> <term neg(F1)>\n",
      "> <expr neg(F1)>\n",
      "> <factor neg(F1)>\n",
      "> <term neg(F1)>\n",
      "> <factor neg(F1)>\n",
      "> <term neg(F1)>\n",
      "> <factor neg(F1)>\n",
      "> <factor neg(F1)>\n",
      "> <expr neg(F1)>\n"
     ]
    },
    {
     "data": {
      "text/plain": [
       "'<factor neg(L1_1)>'"
      ]
     },
     "execution_count": 235,
     "metadata": {},
     "output_type": "execute_result"
    }
   ],
   "source": [
    "%%top\n",
    "Gs(nlg1)\n",
    "for r in refs:\n",
    "    print('>', r)\n",
    "nls1"
   ]
  },
  {
   "cell_type": "markdown",
   "metadata": {},
   "source": [
    "### Remove from key\n",
    "\n",
    "We need to define the `remove_from_key` first. The idea is that the fault does not occur in any of the reachable nonterminals."
   ]
  },
  {
   "cell_type": "code",
   "execution_count": 236,
   "metadata": {},
   "outputs": [],
   "source": [
    "def remove_all_instances_of_fault_from_key(grammar, key, fsym, prefix, reachable):\n",
    "    ref = refinement(to_fkey_prefix(fsym, prefix, FKey.atleast))\n",
    "    nref = negate_prefix(ref)\n",
    "    rules = grammar[key]\n",
    "    my_rules = []\n",
    "    for rule in grammar[key]:\n",
    "        positions = get_reachable_positions(rule, fsym, reachable)\n",
    "        if not positions: # make it len(positions) >= n if necessary\n",
    "            # add this rule as is because we cannot embed the fault here.\n",
    "            my_rules.append(rule)\n",
    "        else:\n",
    "            # at each position, insert the fsym\n",
    "            new_rule = []\n",
    "            for pos, token in enumerate(rule):\n",
    "                if pos in positions:\n",
    "                    t = refine_base_key(rule[pos], nref)\n",
    "                else:\n",
    "                    t = token\n",
    "                new_rule.append(t)\n",
    "            my_rules.append(new_rule)\n",
    "    return (refine_base_key(key, nref), my_rules)"
   ]
  },
  {
   "cell_type": "code",
   "execution_count": 237,
   "metadata": {},
   "outputs": [
    {
     "name": "stdout",
     "output_type": "stream",
     "text": [
      "<start neg(+F1)>\n",
      "     ['<expr neg(+F1)>']\n",
      "\n",
      "<expr neg(+F1)>\n",
      "     ['<term neg(+F1)>', ' + ', '<expr neg(+F1)>']\n",
      "     ['<term neg(+F1)>', ' - ', '<expr neg(+F1)>']\n",
      "     ['<term neg(+F1)>']\n",
      "\n",
      "<term neg(+F1)>\n",
      "     ['<factor neg(+F1)>', ' * ', '<term neg(+F1)>']\n",
      "     ['<factor neg(+F1)>', ' / ', '<term neg(+F1)>']\n",
      "     ['<factor neg(+F1)>']\n",
      "\n",
      "<factor neg(+F1)>\n",
      "     ['+', '<factor neg(+F1)>']\n",
      "     ['-', '<factor neg(+F1)>']\n",
      "     ['(', '<expr neg(+F1)>', ')']\n",
      "     ['<integer>', '.', '<integer>']\n",
      "     ['<integer>']\n",
      "\n",
      "<integer neg(+F1)>\n",
      "     ['<digit>', '<integer>']\n",
      "     ['<digit>']\n",
      "\n",
      "<digit neg(+F1)>\n",
      "     ['0']\n",
      "     ['1']\n",
      "     ['2']\n",
      "     ['3']\n",
      "     ['4']\n",
      "     ['5']\n",
      "     ['6']\n",
      "     ['7']\n",
      "     ['8']\n",
      "     ['9']\n",
      "\n"
     ]
    }
   ],
   "source": [
    "%%top\n",
    "for key in EXPR_GRAMMAR:\n",
    "    fk, rules = remove_all_instances_of_fault_from_key(EXPR_GRAMMAR, key, '<factor>', '1', reachable1)\n",
    "    print(fk)\n",
    "    for r in rules:\n",
    "        print('    ', r)\n",
    "    print()"
   ]
  },
  {
   "cell_type": "markdown",
   "metadata": {},
   "source": [
    "### Remove from grammar"
   ]
  },
  {
   "cell_type": "code",
   "execution_count": 238,
   "metadata": {},
   "outputs": [],
   "source": [
    "def remove_all_instances_of_fault_from_grammar(grammar, fsym, prefix_f, reachable):\n",
    "    new_grammar = {}\n",
    "    for key in grammar:\n",
    "        fk, rules = remove_all_instances_of_fault_from_key(grammar, key, fsym, prefix_f, reachable)\n",
    "        #if not rules: continue # no applicable rules\n",
    "        assert rules # there will be rules here because negation will not remove any rule.\n",
    "        if fk not in new_grammar:\n",
    "            new_grammar[fk] = []\n",
    "        new_grammar[fk].extend(rules)\n",
    "    return new_grammar"
   ]
  },
  {
   "cell_type": "markdown",
   "metadata": {},
   "source": [
    "### Get the final grammar"
   ]
  },
  {
   "cell_type": "markdown",
   "metadata": {},
   "source": [
    "The final steps are as follows:\n",
    "\n",
    "* Add the fault node, and the child nodes to the grammar.\n",
    "* Generate the faulty key definitions. This is done per key in the original grammar.\n",
    "* Finally, connect the faulty key and fault node."
   ]
  },
  {
   "cell_type": "code",
   "execution_count": 239,
   "metadata": {},
   "outputs": [],
   "source": [
    "def no_fault_grammar_(grammar, start_symbol, fault_node, f_idx, log=False):\n",
    "    def L_prefix(i): return str(i)\n",
    "    def F_prefix(i): return str(i)\n",
    "    prefix_l = L_prefix(f_idx)\n",
    "    prefix_f = F_prefix(f_idx)\n",
    "    key_f = fault_node[0]\n",
    "    assert key_f in grammar\n",
    "    # First, get the pattern grammar\n",
    "\n",
    "    fsym = to_fkey_prefix(key_f, prefix_f, FKey.atleast)\n",
    "    noreaching_fsym = negate_key(fsym)\n",
    "\n",
    "    pattern_g, pattern_s = faulty_node_to_pattern_grammar(fault_node, prefix_l)\n",
    "    npattern_g, npattern_s, refs = negated_pattern_grammar(pattern_g, pattern_s, fsym, grammar, log)\n",
    "    reachable_keys = reachable_dict(grammar)\n",
    "    # the new grammar contains the faulty keys and their definitions.\n",
    "    # next, want to insert the fault prefix_f into each insertable positions. \n",
    "    # the insertable locations are those that can reach fsym\n",
    "    noreach_g = remove_all_instances_of_fault_from_grammar(grammar, key_f, prefix_f, reachable_keys)\n",
    "    for key in refs: assert key in noreach_g\n",
    "\n",
    "    # now, the faulty key is an alternative to the original.\n",
    "    # We have to take care of one thing though. The `fkey` in the pattern grammar should\n",
    "    # be replaced with fsym, but the definitions kept. This is because we want to preserve\n",
    "    # the rule patterns. We do not want normal expansions to go through since it may mean\n",
    "    # no fault inserted. However, we want self recursion to happen.\n",
    "    \n",
    "    combined_grammar = {**grammar, **npattern_g, **noreach_g}\n",
    "    new_rules = npattern_g[npattern_s] # get the negated pattern rule\n",
    "    \n",
    "    combined_grammar[noreaching_fsym] = new_rules\n",
    "    start_key =  refine_base_key(start_symbol, negate_prefix(refinement(fsym)))\n",
    "    return combined_grammar, start_key"
   ]
  },
  {
   "cell_type": "code",
   "execution_count": 240,
   "metadata": {},
   "outputs": [],
   "source": [
    "def no_fault_grammar(grammar, start_symbol, fault_node, f_idx, log=False):\n",
    "    cg_, cs = no_fault_grammar_(grammar, start_symbol, fault_node, f_idx, log)\n",
    "    cg = complete(cg_, cs)\n",
    "    return cg, cs"
   ]
  },
  {
   "cell_type": "code",
   "execution_count": 241,
   "metadata": {},
   "outputs": [],
   "source": [
    "#%%top\n",
    "nfaulty1_grammar, nfaulty1_start = no_fault_grammar(EXPR_GRAMMAR, EXPR_START, node_faulty1, 1)"
   ]
  },
  {
   "cell_type": "code",
   "execution_count": 242,
   "metadata": {},
   "outputs": [
    {
     "name": "stdout",
     "output_type": "stream",
     "text": [
      "<start neg(+F1)> ::=\n",
      "|    <expr neg(+F1)>\n",
      "<expr neg(+F1)> ::=\n",
      "|    <term neg(+F1)>\n",
      "|    <term neg(+F1)> ' + ' <expr neg(+F1)>\n",
      "|    <term neg(+F1)> ' - ' <expr neg(+F1)>\n",
      "<term neg(+F1)> ::=\n",
      "|    <factor neg(+F1)>\n",
      "|    <factor neg(+F1)> ' * ' <term neg(+F1)>\n",
      "|    <factor neg(+F1)> ' / ' <term neg(+F1)>\n",
      "<factor neg(+F1)> ::=\n",
      "|    '(' <expr neg(L1_1)> ')'\n",
      "|    '+' <factor neg(+F1)>\n",
      "|    '-' <factor neg(+F1)>\n",
      "|    <integer>\n",
      "|    <integer> '.' <integer>\n",
      "<expr neg(L1_1)> ::=\n",
      "|    <term neg(+F1)> ' + ' <expr neg(+F1)>\n",
      "|    <term neg(+F1)> ' - ' <expr neg(+F1)>\n",
      "|    <term neg(L1_1)>\n",
      "<integer> ::=\n",
      "|    <digit>\n",
      "|    <digit> <integer>\n",
      "<term neg(L1_1)> ::=\n",
      "|    <factor neg(+F1)> ' * ' <term neg(+F1)>\n",
      "|    <factor neg(+F1)> ' / ' <term neg(+F1)>\n",
      "|    <factor neg(L1_2)>\n",
      "<factor neg(L1_2)> ::=\n",
      "|    '+' <factor neg(+F1)>\n",
      "|    '-' <factor neg(+F1)>\n",
      "|    <integer>\n",
      "|    <integer> '.' <integer>\n",
      "<digit> ::=\n",
      "|    '0'\n",
      "|    '1'\n",
      "|    '2'\n",
      "|    '3'\n",
      "|    '4'\n",
      "|    '5'\n",
      "|    '6'\n",
      "|    '7'\n",
      "|    '8'\n",
      "|    '9'\n",
      "9 34\n"
     ]
    },
    {
     "data": {
      "text/plain": [
       "'<start neg(+F1)>'"
      ]
     },
     "execution_count": 242,
     "metadata": {},
     "output_type": "execute_result"
    }
   ],
   "source": [
    "%%top\n",
    "Gs(nfaulty1_grammar)\n",
    "nfaulty1_start"
   ]
  },
  {
   "cell_type": "code",
   "execution_count": 243,
   "metadata": {},
   "outputs": [],
   "source": [
    "#%%top\n",
    "nfaulty1_fuzzer = LimitFuzzer(nfaulty1_grammar)\n",
    "nfaulty1_parser = Parser(nfaulty1_grammar, canonical=True, start_symbol=nfaulty1_start)"
   ]
  },
  {
   "cell_type": "code",
   "execution_count": 244,
   "metadata": {},
   "outputs": [
    {
     "name": "stdout",
     "output_type": "stream",
     "text": [
      "+5\n",
      "+-382 / -2 * (++1 + 6.8 - 2.1 - 3.6 - 4) * +-6\n",
      "-8.4 / +8 / +4865.2 / +(1.9 / 3 - 6 - 2) * 37 * -4 / +2 * 0 * 5.2 + ++-+4.0 + 96935.59595\n",
      "2.8 - (-2 / +(3.8) * (0.8) / 2.1 / 5 + 7 / +2) / 1 * -1 * +83.34 - --(0 * 8.0 + 3.9) / -5.24 / --7 * (1) / 1.5 / 5 / 7.1 + 630 / 346.0 / -(8.1) * 8.6 / 9.7 * 9\n",
      "--(-7) * 2 - 049393 * -5.9 * +652 / 32.4 * 4.89 / 5 * 8.7\n",
      "865.1 * (+(8.9 + 6) - --6 / 3) + +19.1 * --49.9 + 094 / -33.201 * (4 + 0.4) / +4.5 / (1) / 4.7 * 8.9 + 3 * (8.0 / 6.3 + 7 - 1) * +8\n",
      "3 / ((5 / 9 - 7.5 - 2.7) / (9) / 3.2 + (6.4 - 8) + 0.7 / 7 * 1 - 4.2 / 2) / (98.45 - 5.1)\n",
      "-5\n",
      "+(2.10 / +-4.1 * (4.8)) * (-+-2.7) / (+5.9 * 8 / 0.6 / 1.6) / -(4 / 4.3) * 9.6 / 9.2 / +9 / 9 * 7.7\n",
      "5 / (--9 / 2 * -7 - (1.0 - 8.4) / 8) * (-1 / -9.7 / 4 / 3 - (1.1) * 6.0)\n"
     ]
    }
   ],
   "source": [
    "%%top\n",
    "for i in range(10):\n",
    "    s = nfaulty1_fuzzer.fuzz(key=nfaulty1_start)\n",
    "    print(s)\n",
    "    assert nfaulty1_parser.can_parse(s)\n",
    "    assert not faulty1_parser.can_parse(s)"
   ]
  },
  {
   "cell_type": "code",
   "execution_count": 245,
   "metadata": {},
   "outputs": [],
   "source": [
    "%top assert not nfaulty1_parser.can_parse('((2))')"
   ]
  },
  {
   "cell_type": "code",
   "execution_count": 246,
   "metadata": {},
   "outputs": [],
   "source": [
    "%top assert not nfaulty1_parser.can_parse('((1 + 1))')"
   ]
  },
  {
   "cell_type": "code",
   "execution_count": 247,
   "metadata": {},
   "outputs": [],
   "source": [
    "%top assert nfaulty1_parser.parse('1 + 2')"
   ]
  },
  {
   "cell_type": "code",
   "execution_count": 248,
   "metadata": {},
   "outputs": [],
   "source": [
    "%top assert not nfaulty1_parser.can_parse('1 + ((3))')"
   ]
  },
  {
   "cell_type": "markdown",
   "metadata": {},
   "source": [
    "## At most one fault"
   ]
  },
  {
   "cell_type": "markdown",
   "metadata": {},
   "source": [
    "### Get the final grammar"
   ]
  },
  {
   "cell_type": "code",
   "execution_count": 249,
   "metadata": {},
   "outputs": [
    {
     "data": {
      "text/plain": [
       "[]"
      ]
     },
     "execution_count": 249,
     "metadata": {},
     "output_type": "execute_result"
    }
   ],
   "source": [
    "EXCEPTION_HAPPENED"
   ]
  },
  {
   "cell_type": "markdown",
   "metadata": {},
   "source": [
    "The final steps are as follows:\n",
    "1. Add the fault node, and the child nodes to the grammar.\n",
    "2. Generate the faulty key definitions. This is done per key in the original grammar.\n",
    "3. Finally, connect the faulty key and fault node."
   ]
  },
  {
   "cell_type": "markdown",
   "metadata": {},
   "source": [
    "### Remove except one from key"
   ]
  },
  {
   "cell_type": "code",
   "execution_count": 250,
   "metadata": {},
   "outputs": [],
   "source": [
    "def remove_all_faults_except_one_from_key(grammar, key, fsym, prefix, reachable):\n",
    "    ref = refinement(to_fkey_prefix(fsym, prefix, FKey.atleast)) # negation should be atleast\n",
    "    rules = grammar[key]\n",
    "    my_rules = []\n",
    "    for rule in grammar[key]:\n",
    "        positions = get_reachable_positions(rule, fsym, reachable)\n",
    "        if not positions: # make it len(positions) >= n if necessary\n",
    "            # add this rule as is because we can not embed the fault here.\n",
    "            my_rules.append(rule)\n",
    "        else:\n",
    "            # skip pos for each rule\n",
    "            for pos in positions:\n",
    "                new_rule = [to_fkey_prefix(t, prefix, FKey.atmost)\n",
    "                            if pos == p else  # at p position, there _may be_ a fault, but not in other places\n",
    "                            (refine_base_key(t, negate_prefix(ref))\n",
    "                             if is_nt(t) else t)\n",
    "                            # change to FKey.exactly to make it exactly\n",
    "                            for p,t in enumerate(rule)]\n",
    "                my_rules.append(new_rule)\n",
    "    return (to_fkey_prefix(key, prefix, FKey.atmost), my_rules)"
   ]
  },
  {
   "cell_type": "code",
   "execution_count": 251,
   "metadata": {},
   "outputs": [
    {
     "data": {
      "text/plain": [
       "'<factor>'"
      ]
     },
     "execution_count": 251,
     "metadata": {},
     "output_type": "execute_result"
    }
   ],
   "source": [
    "%top node_faulty1[0]"
   ]
  },
  {
   "cell_type": "code",
   "execution_count": 252,
   "metadata": {},
   "outputs": [
    {
     "name": "stdout",
     "output_type": "stream",
     "text": [
      "<start *F1>\n",
      "     ['<expr *F1>']\n",
      "\n",
      "<expr *F1>\n",
      "     ['<term *F1>', ' + ', '<expr neg(+F1)>']\n",
      "     ['<term neg(+F1)>', ' + ', '<expr *F1>']\n",
      "     ['<term *F1>', ' - ', '<expr neg(+F1)>']\n",
      "     ['<term neg(+F1)>', ' - ', '<expr *F1>']\n",
      "     ['<term *F1>']\n",
      "\n",
      "<term *F1>\n",
      "     ['<factor *F1>', ' * ', '<term neg(+F1)>']\n",
      "     ['<factor neg(+F1)>', ' * ', '<term *F1>']\n",
      "     ['<factor *F1>', ' / ', '<term neg(+F1)>']\n",
      "     ['<factor neg(+F1)>', ' / ', '<term *F1>']\n",
      "     ['<factor *F1>']\n",
      "\n",
      "<factor *F1>\n",
      "     ['+', '<factor *F1>']\n",
      "     ['-', '<factor *F1>']\n",
      "     ['(', '<expr *F1>', ')']\n",
      "     ['<integer>', '.', '<integer>']\n",
      "     ['<integer>']\n",
      "\n",
      "<integer *F1>\n",
      "     ['<digit>', '<integer>']\n",
      "     ['<digit>']\n",
      "\n",
      "<digit *F1>\n",
      "     ['0']\n",
      "     ['1']\n",
      "     ['2']\n",
      "     ['3']\n",
      "     ['4']\n",
      "     ['5']\n",
      "     ['6']\n",
      "     ['7']\n",
      "     ['8']\n",
      "     ['9']\n",
      "\n"
     ]
    }
   ],
   "source": [
    "%%top\n",
    "for key in EXPR_GRAMMAR:\n",
    "    fk, rules = remove_all_faults_except_one_from_key(EXPR_GRAMMAR, key, '<factor>', '1', reachable1)\n",
    "    print(fk)\n",
    "    for r in rules:\n",
    "        print('    ', r)\n",
    "    print()"
   ]
  },
  {
   "cell_type": "code",
   "execution_count": 253,
   "metadata": {},
   "outputs": [],
   "source": [
    "#%%top\n",
    "nfaulty1_grammar, nfaulty1_start = no_fault_grammar(EXPR_GRAMMAR, EXPR_START, node_faulty1, 1)"
   ]
  },
  {
   "cell_type": "markdown",
   "metadata": {},
   "source": [
    "### Remove except one from grammar"
   ]
  },
  {
   "cell_type": "code",
   "execution_count": 254,
   "metadata": {
    "scrolled": false
   },
   "outputs": [
    {
     "name": "stdout",
     "output_type": "stream",
     "text": [
      "<start neg(+F1)> ::=\n",
      "|    <expr neg(+F1)>\n",
      "<expr neg(+F1)> ::=\n",
      "|    <term neg(+F1)>\n",
      "|    <term neg(+F1)> ' + ' <expr neg(+F1)>\n",
      "|    <term neg(+F1)> ' - ' <expr neg(+F1)>\n",
      "<term neg(+F1)> ::=\n",
      "|    <factor neg(+F1)>\n",
      "|    <factor neg(+F1)> ' * ' <term neg(+F1)>\n",
      "|    <factor neg(+F1)> ' / ' <term neg(+F1)>\n",
      "<factor neg(+F1)> ::=\n",
      "|    '(' <expr neg(L1_1)> ')'\n",
      "|    '+' <factor neg(+F1)>\n",
      "|    '-' <factor neg(+F1)>\n",
      "|    <integer>\n",
      "|    <integer> '.' <integer>\n",
      "<expr neg(L1_1)> ::=\n",
      "|    <term neg(+F1)> ' + ' <expr neg(+F1)>\n",
      "|    <term neg(+F1)> ' - ' <expr neg(+F1)>\n",
      "|    <term neg(L1_1)>\n",
      "<integer> ::=\n",
      "|    <digit>\n",
      "|    <digit> <integer>\n",
      "<term neg(L1_1)> ::=\n",
      "|    <factor neg(+F1)> ' * ' <term neg(+F1)>\n",
      "|    <factor neg(+F1)> ' / ' <term neg(+F1)>\n",
      "|    <factor neg(L1_2)>\n",
      "<factor neg(L1_2)> ::=\n",
      "|    '+' <factor neg(+F1)>\n",
      "|    '-' <factor neg(+F1)>\n",
      "|    <integer>\n",
      "|    <integer> '.' <integer>\n",
      "<digit> ::=\n",
      "|    '0'\n",
      "|    '1'\n",
      "|    '2'\n",
      "|    '3'\n",
      "|    '4'\n",
      "|    '5'\n",
      "|    '6'\n",
      "|    '7'\n",
      "|    '8'\n",
      "|    '9'\n",
      "9 34\n"
     ]
    },
    {
     "data": {
      "text/plain": [
       "'<start neg(+F1)>'"
      ]
     },
     "execution_count": 254,
     "metadata": {},
     "output_type": "execute_result"
    }
   ],
   "source": [
    "%%top\n",
    "Gs(nfaulty1_grammar)\n",
    "nfaulty1_start"
   ]
  },
  {
   "cell_type": "code",
   "execution_count": 255,
   "metadata": {},
   "outputs": [],
   "source": [
    "#%%top\n",
    "nfaulty1_fuzzer = LimitFuzzer(nfaulty1_grammar)\n",
    "nfaulty1_parser = Parser(nfaulty1_grammar, canonical=True, start_symbol=nfaulty1_start)"
   ]
  },
  {
   "cell_type": "code",
   "execution_count": 256,
   "metadata": {},
   "outputs": [
    {
     "name": "stdout",
     "output_type": "stream",
     "text": [
      "(6 + (7.8 / 2 + 6) / 29 * 3.1 / 0.1 + 01.78 - 8.6 / 5 * 6 - 6 * 6.9 - 9 - 5.0) - 065 / +(5 - 6 / 8 + 5.4 - 6.7)\n",
      "+9 + (460 + 6.02 / -1) * 6 / (7 + 9 + 6) - (+-3.1 / +7) * 1701.489\n",
      "2 * 26.85 / 8.5\n",
      "(-6 * 837 / +(8) / -9.0 / 4 - +-1 / -(1) * 6 - (7.8) * -4.2 / 6.4 - -8 / 6.5) + --+(8) - (+-6 * (4.0) * 7.1 * 4.6) / +-67 - +-(0 + 0.7) + +--4\n",
      "3597 * 249.4 / +2 - 5.8 * 2.1 - 59 / 4.1 / 161 * --5.3 * 5.5 - 7 + 56.0 / -4 / 7 + (7.5 - 1) - +8 / 9.9\n",
      "-(1.66 - (9 - 0)) * (12 / 1 - 33 - 3 / 3 - 9.8 / 4.3) / --7.4 * +-(8 - 7.8) * (8 / 7 + 2.1)\n",
      "-+(+7 + 9 * 1.6 / 5 + 8 / 6 + 2.4 - 9) * 1.0 + ((8.5 - 9.2) + 97 / +1.3 * 1.3 - 7.1 / 7.3 - 0 + 6.0 + 0.7) * (2 + 6.0 * 5.9 - 4 / 6.6 + 1.1 + 4.3) / -(3 * 3.5) - -470 * 8.560 * +-(8.0) / 5 + -(5.3 / 2 - 2.9) / 1.1 * 6 / +2 * 4.3 / 9\n",
      "(++0.91 * 4.8 * -+6.3 * 5.0 / 6.9 * 4)\n",
      "2.6 / ((0.6 * 8 + 7 - 3) - 75 - 5.4 + 6.3 - 0.9 - 8) * 6.4\n",
      "(0834.1212 * 68 + (3.5 / 2 + 7 - 7.6) / -(7)) + ++38 / 336.1 * --4 / 4 - 5.4\n"
     ]
    }
   ],
   "source": [
    "%%top\n",
    "for i in range(10):\n",
    "    s = nfaulty1_fuzzer.fuzz(key=nfaulty1_start)\n",
    "    print(s)\n",
    "    assert nfaulty1_parser.can_parse(s)\n",
    "    assert not faulty1_parser.can_parse(s)"
   ]
  },
  {
   "cell_type": "markdown",
   "metadata": {},
   "source": [
    "A few parses"
   ]
  },
  {
   "cell_type": "code",
   "execution_count": 257,
   "metadata": {},
   "outputs": [],
   "source": [
    "%top assert not nfaulty1_parser.can_parse('((2))')"
   ]
  },
  {
   "cell_type": "code",
   "execution_count": 258,
   "metadata": {},
   "outputs": [],
   "source": [
    "%top assert not nfaulty1_parser.can_parse('((1 + 1))')"
   ]
  },
  {
   "cell_type": "code",
   "execution_count": 259,
   "metadata": {},
   "outputs": [],
   "source": [
    "%top assert nfaulty1_parser.parse('1 + 2')"
   ]
  },
  {
   "cell_type": "code",
   "execution_count": 260,
   "metadata": {},
   "outputs": [],
   "source": [
    "%top assert not nfaulty1_parser.can_parse('1 + ((3))')"
   ]
  },
  {
   "cell_type": "markdown",
   "metadata": {},
   "source": [
    "At this point, we can produce exactly one fault grammars and at most one fault grammars."
   ]
  },
  {
   "cell_type": "code",
   "execution_count": 261,
   "metadata": {},
   "outputs": [],
   "source": [
    "def remove_all_faults_except_one_from_grammar(grammar, fsym, prefix_f, reachable):\n",
    "    new_grammar = {}\n",
    "    for key in grammar:\n",
    "        fk, rules = remove_all_faults_except_one_from_key(grammar, key, fsym, prefix_f, reachable)\n",
    "        assert rules # there will be rules because negation is involved.\n",
    "        if fk not in new_grammar:\n",
    "            new_grammar[fk] = []\n",
    "        new_grammar[fk].extend(rules)\n",
    "    return new_grammar"
   ]
  },
  {
   "cell_type": "code",
   "execution_count": null,
   "metadata": {},
   "outputs": [],
   "source": []
  },
  {
   "cell_type": "code",
   "execution_count": 262,
   "metadata": {},
   "outputs": [],
   "source": [
    "def negate_abstracts(pattern_g, reachable_keys, fsym):\n",
    "    # The idea is to negate any reachable abstract keys in the rules.\n",
    "    nk = normalize(fsym)\n",
    "    new_g = {}\n",
    "    for k in pattern_g:\n",
    "        new_rules = []\n",
    "        for rule in pattern_g[k]:\n",
    "            new_rule = []\n",
    "            for t in rule:\n",
    "                if not is_nt(t):\n",
    "                    new_rule.append(t)\n",
    "                else:\n",
    "                    if is_refined_key(t):\n",
    "                        new_rule.append(t)\n",
    "                    else:\n",
    "                        if nk in reachable_keys[t]:\n",
    "                            new_rule.append(refine_base_key(t, negate_prefix(refinement(fsym))))\n",
    "                        else:\n",
    "                            new_rule.append(t)\n",
    "            new_rules.append(new_rule)\n",
    "        new_g[k] = new_rules\n",
    "    return new_g"
   ]
  },
  {
   "cell_type": "markdown",
   "metadata": {},
   "source": [
    "### Get the final grammar"
   ]
  },
  {
   "cell_type": "code",
   "execution_count": 263,
   "metadata": {},
   "outputs": [],
   "source": [
    "def atmost_one_fault_grammar_(grammar, start_symbol, fault_node, f_idx, log=False):\n",
    "    def L_prefix(i): return str(i)\n",
    "    def F_prefix(i): return str(i)\n",
    "    prefix_l = L_prefix(f_idx)\n",
    "    prefix_f = F_prefix(f_idx)\n",
    "    key_f = fault_node[0]\n",
    "    assert key_f in grammar\n",
    "    # First, get the pattern grammar\n",
    "    reachable_keys = reachable_dict(grammar)\n",
    "\n",
    "    fsym = to_fkey_prefix(key_f, prefix_f, FKey.atmost)\n",
    "    atleast_fsym = to_fkey_prefix(key_f, prefix_f, FKey.atleast)\n",
    "    noreaching_fsym = negate_key(atleast_fsym)\n",
    "    \n",
    "    pattern_g, pattern_s  = faulty_node_to_pattern_grammar(fault_node, prefix_l)\n",
    "    npattern_g, npattern_s, refs = negated_pattern_grammar(pattern_g, pattern_s, atleast_fsym, grammar, log)\n",
    "    pattern_g = negate_abstracts(pattern_g, reachable_keys, fsym)\n",
    "    # the new grammar contains the faulty keys and their definitions.\n",
    "    # next, want to insert the fault prefix_f into each insertable positions. \n",
    "    # the insertable locations are those that can reach fsym\n",
    "    atmost_g = remove_all_faults_except_one_from_grammar(grammar, key_f, prefix_f, reachable_keys)\n",
    "\n",
    "    noreach_g = remove_all_instances_of_fault_from_grammar(grammar, key_f, prefix_f, reachable_keys)\n",
    "    negation_connect = npattern_g[npattern_s] # get the negated pattern rule\n",
    "    noreach_g[noreaching_fsym] = negation_connect\n",
    "\n",
    "    for key in refs: assert key in noreach_g, key\n",
    "    \n",
    "    # now, the faulty key is an alternative to the original.\n",
    "    # We have to take care of one thing though. The `fkey` in the linear grammar should\n",
    "    # be replaced with fsym, but the definitions kept. This is because we want to preserve\n",
    "    # the rule patterns. We do not want normal expansions to go through since it may mean\n",
    "    # no fault inserted. However, we want self recursion to happen.\n",
    "    pattern_rule = pattern_g[pattern_s][0]\n",
    "    \n",
    "    combined_grammar = {**grammar, **pattern_g, **npattern_g, **atmost_g, **noreach_g}\n",
    "    # new_rules = pattern_g[pattern_s] # get the pattern rule\n",
    "    new_rules = [r for r in combined_grammar[fsym]\n",
    "                 if not normalized_rule_match(r, pattern_rule)] + pattern_g[pattern_s]\n",
    "   \n",
    "    # combined_grammar[fsym].extend(new_rules)\n",
    "    #combined_grammar[fsym] = new_rules\n",
    "    return combined_grammar, to_fkey_prefix(start_symbol, F_prefix(f_idx), FKey.atmost)"
   ]
  },
  {
   "cell_type": "code",
   "execution_count": 264,
   "metadata": {},
   "outputs": [],
   "source": [
    "def atmost_one_fault_grammar(grammar, start_symbol, fault_node, f_idx, log=False):\n",
    "    cg_, cs = atmost_one_fault_grammar_(grammar, start_symbol, fault_node, f_idx, log)\n",
    "    cg = complete(cg_, cs)\n",
    "    return cg, cs"
   ]
  },
  {
   "cell_type": "code",
   "execution_count": 265,
   "metadata": {},
   "outputs": [],
   "source": [
    "#%%top\n",
    "nfaultya1_grammar, nfaultya1_start = atmost_one_fault_grammar(EXPR_GRAMMAR, EXPR_START, node_faulty1, 1)"
   ]
  },
  {
   "cell_type": "code",
   "execution_count": 266,
   "metadata": {
    "scrolled": false
   },
   "outputs": [
    {
     "name": "stdout",
     "output_type": "stream",
     "text": [
      "<start *F1> ::=\n",
      "|    <expr *F1>\n",
      "<expr *F1> ::=\n",
      "|    <term *F1>\n",
      "|    <term *F1> ' + ' <expr neg(+F1)>\n",
      "|    <term *F1> ' - ' <expr neg(+F1)>\n",
      "|    <term neg(+F1)> ' + ' <expr *F1>\n",
      "|    <term neg(+F1)> ' - ' <expr *F1>\n",
      "<term *F1> ::=\n",
      "|    <factor *F1>\n",
      "|    <factor *F1> ' * ' <term neg(+F1)>\n",
      "|    <factor *F1> ' / ' <term neg(+F1)>\n",
      "|    <factor neg(+F1)> ' * ' <term *F1>\n",
      "|    <factor neg(+F1)> ' / ' <term *F1>\n",
      "<expr neg(+F1)> ::=\n",
      "|    <term neg(+F1)>\n",
      "|    <term neg(+F1)> ' + ' <expr neg(+F1)>\n",
      "|    <term neg(+F1)> ' - ' <expr neg(+F1)>\n",
      "<term neg(+F1)> ::=\n",
      "|    <factor neg(+F1)>\n",
      "|    <factor neg(+F1)> ' * ' <term neg(+F1)>\n",
      "|    <factor neg(+F1)> ' / ' <term neg(+F1)>\n",
      "<factor *F1> ::=\n",
      "|    '(' <expr *F1> ')'\n",
      "|    '+' <factor *F1>\n",
      "|    '-' <factor *F1>\n",
      "|    <integer>\n",
      "|    <integer> '.' <integer>\n",
      "<factor neg(+F1)> ::=\n",
      "|    '(' <expr neg(L1_1)> ')'\n",
      "|    '+' <factor neg(+F1)>\n",
      "|    '-' <factor neg(+F1)>\n",
      "|    <integer>\n",
      "|    <integer> '.' <integer>\n",
      "<integer> ::=\n",
      "|    <digit>\n",
      "|    <digit> <integer>\n",
      "<digit> ::=\n",
      "|    '0'\n",
      "|    '1'\n",
      "|    '2'\n",
      "|    '3'\n",
      "|    '4'\n",
      "|    '5'\n",
      "|    '6'\n",
      "|    '7'\n",
      "|    '8'\n",
      "|    '9'\n",
      "<expr neg(L1_1)> ::=\n",
      "|    <term neg(+F1)> ' + ' <expr neg(+F1)>\n",
      "|    <term neg(+F1)> ' - ' <expr neg(+F1)>\n",
      "|    <term neg(L1_1)>\n",
      "<term neg(L1_1)> ::=\n",
      "|    <factor neg(+F1)> ' * ' <term neg(+F1)>\n",
      "|    <factor neg(+F1)> ' / ' <term neg(+F1)>\n",
      "|    <factor neg(L1_2)>\n",
      "<factor neg(L1_2)> ::=\n",
      "|    '+' <factor neg(+F1)>\n",
      "|    '-' <factor neg(+F1)>\n",
      "|    <integer>\n",
      "|    <integer> '.' <integer>\n",
      "12 49\n"
     ]
    },
    {
     "data": {
      "text/plain": [
       "'<start *F1>'"
      ]
     },
     "execution_count": 266,
     "metadata": {},
     "output_type": "execute_result"
    }
   ],
   "source": [
    "%%top\n",
    "Gs(nfaultya1_grammar)\n",
    "nfaultya1_start"
   ]
  },
  {
   "cell_type": "code",
   "execution_count": 267,
   "metadata": {},
   "outputs": [],
   "source": [
    "#%%top\n",
    "nfaultya1_fuzzer = LimitFuzzer(nfaultya1_grammar)\n",
    "nfaultya1_parser = Parser(nfaultya1_grammar, canonical=True, start_symbol=nfaultya1_start)"
   ]
  },
  {
   "cell_type": "code",
   "execution_count": 268,
   "metadata": {
    "scrolled": false
   },
   "outputs": [
    {
     "name": "stdout",
     "output_type": "stream",
     "text": [
      "+(-+9 * 38.35 / 8.3 / 8 * 5.1 + (6.5) * 6.9 - -8.4 * 7.7 / 0.1) - 6207.4 + 0.2 * 3\n",
      "+(-01.78 / +-2 + +0.8 / -2 / 8.2 + -6 * 6.0 - 5 * 2.9 + 2.8 - 4) - (240.985 / (5.9) * -5.1) / (+3 + (7.4) / 5.1 * 5 + 3) * 4 * +-+5 / --9 * +4.2 * 3 - +0069 * 57 / --2 * 8 * -8\n",
      "---+6.9 * +-++61 + --+(4.0 * 8.3 - 4 - 2.4) * -96.6 * 0 + 796\n",
      "4.9 - +672.46 * +309 / 62.4481 + 6 * (-8 * 9) / 0.4 / -2.0 - 25.5 / ++(1.0) * 92.56 * -8 / 1.1 / 2.0\n",
      "(-3.7 / +02 * 06 / +1 + (3 * 2 - 5 - 0.2) / ++3.6 / 7.6) * ((7 + 8 - 0.8) + +8 * -8.5 - 7 / 6.1 * 3.1 + 1 * 4.2 - 9.3) * 1 * 0.7 * -9 * 09.9 * +0 / 6 / 3 + -+-(3.0 * 2 + 0.0 - 6.5) - +-913.0 + 34.5 - ++8 - -+5 * 4 + +6.6 * 0.4 * 4 - 9 / 8.0 + 6.7 + 1\n",
      "719.28 * ((1 * 3 - 7 - 4.0) * -+2.6 / -8.0 * 5.6 / 8) * 46.92 * +(4.2 / 8 + 0.3 - 8) / 0 / +(5)\n",
      "+--8 + +(-6 / -8.6 / 8 * 4.8) / (++2.0 / 9.9 / 8 / 4) * (+1.6 + 5.2 / 6.9 + 0 - 7) * -+1.9 * (1.7 + 8) * 7 * 2.4\n",
      "-91 / --6.5 + 2 * -411.06 * --(2 - 3.8) / ++0.4 / 9\n",
      "9 * (-(0 - 4) * 1.1) / (+6.8 * 0.9 - -5 * 1 / 6 + 4.4 - 3)\n",
      "+-(+5.6 - 1.1 / 8.5) / -((7 - 5) * 5.7 * 0.2 + 4 / 5.5 + 3 * 1 - 3.1 - 5) / 8 * 6 * +(3.9 - 0) * --0 - --+9.90\n"
     ]
    }
   ],
   "source": [
    "%%top\n",
    "for i in range(10):\n",
    "    s = nfaultya1_fuzzer.fuzz(key=nfaultya1_start)\n",
    "    print(s)\n",
    "    for t in nfaultya1_parser.parse(s):\n",
    "        assert tree_to_str(t) == s"
   ]
  },
  {
   "cell_type": "markdown",
   "metadata": {},
   "source": [
    "A few parses"
   ]
  },
  {
   "cell_type": "code",
   "execution_count": 269,
   "metadata": {},
   "outputs": [],
   "source": [
    "%top assert nfaultya1_parser.can_parse('((2))')"
   ]
  },
  {
   "cell_type": "code",
   "execution_count": 270,
   "metadata": {},
   "outputs": [],
   "source": [
    "%top assert nfaultya1_parser.can_parse('((1 + 1))')"
   ]
  },
  {
   "cell_type": "code",
   "execution_count": 271,
   "metadata": {},
   "outputs": [],
   "source": [
    "%top assert nfaultya1_parser.can_parse('1 + 2')"
   ]
  },
  {
   "cell_type": "code",
   "execution_count": 272,
   "metadata": {},
   "outputs": [],
   "source": [
    "%top assert nfaultya1_parser.can_parse('1 + ((3))')"
   ]
  },
  {
   "cell_type": "code",
   "execution_count": 273,
   "metadata": {},
   "outputs": [],
   "source": [
    "%top assert not nfaultya1_parser.can_parse('((1)) + ((3))')"
   ]
  },
  {
   "cell_type": "code",
   "execution_count": 274,
   "metadata": {},
   "outputs": [],
   "source": [
    "%top assert not nfaultya1_parser.can_parse('((1 + 3)) + (1) - ((2))')"
   ]
  },
  {
   "cell_type": "code",
   "execution_count": 275,
   "metadata": {},
   "outputs": [],
   "source": [
    "%top assert nfaultya1_parser.can_parse('((1 + 3)) + (1) - (2 + (2))')"
   ]
  },
  {
   "cell_type": "code",
   "execution_count": null,
   "metadata": {},
   "outputs": [],
   "source": []
  },
  {
   "cell_type": "markdown",
   "metadata": {},
   "source": [
    "## Exactly one fault grammar (provisional)"
   ]
  },
  {
   "cell_type": "code",
   "execution_count": 276,
   "metadata": {},
   "outputs": [
    {
     "data": {
      "text/plain": [
       "[]"
      ]
     },
     "execution_count": 276,
     "metadata": {},
     "output_type": "execute_result"
    }
   ],
   "source": [
    "EXCEPTION_HAPPENED"
   ]
  },
  {
   "cell_type": "markdown",
   "metadata": {},
   "source": [
    "### Keep exactly one at key"
   ]
  },
  {
   "cell_type": "code",
   "execution_count": 277,
   "metadata": {},
   "outputs": [],
   "source": [
    "def keep_exactly_one_fault_at_key(grammar, key, fsym, prefix, reachable):\n",
    "    # negation should be atleast\n",
    "    ref = refinement(to_fkey_prefix(fsym, prefix, FKey.atleast))\n",
    "    my_rules = []\n",
    "    for rule in grammar[key]:\n",
    "        positions = get_reachable_positions(rule, fsym, reachable)\n",
    "        if not positions:\n",
    "            # add this rule as is because we can not embed the fault here.\n",
    "            # my_rules.append(rule)\n",
    "            continue\n",
    "        else:\n",
    "            # skip pos for each rule\n",
    "            for pos in positions:\n",
    "                new_rule = [to_fkey_prefix(t, prefix, FKey.exactly)\n",
    "                            if pos == p else\n",
    "                            # at p there _may be_ a fault, but not in other places\n",
    "                            (refine_base_key(t, negate_prefix(ref))\n",
    "                             if is_nt(t) else t)\n",
    "                            # change to FKey.exactly to make it exactly\n",
    "                            for p,t in enumerate(rule)]\n",
    "                my_rules.append(new_rule)\n",
    "    return (to_fkey_prefix(key, prefix, FKey.exactly), my_rules)"
   ]
  },
  {
   "cell_type": "code",
   "execution_count": 278,
   "metadata": {},
   "outputs": [
    {
     "name": "stdout",
     "output_type": "stream",
     "text": [
      "<start .F1>\n",
      "     ['<expr .F1>']\n",
      "\n",
      "<expr .F1>\n",
      "     ['<term .F1>', ' + ', '<expr neg(+F1)>']\n",
      "     ['<term neg(+F1)>', ' + ', '<expr .F1>']\n",
      "     ['<term .F1>', ' - ', '<expr neg(+F1)>']\n",
      "     ['<term neg(+F1)>', ' - ', '<expr .F1>']\n",
      "     ['<term .F1>']\n",
      "\n",
      "<term .F1>\n",
      "     ['<factor .F1>', ' * ', '<term neg(+F1)>']\n",
      "     ['<factor neg(+F1)>', ' * ', '<term .F1>']\n",
      "     ['<factor .F1>', ' / ', '<term neg(+F1)>']\n",
      "     ['<factor neg(+F1)>', ' / ', '<term .F1>']\n",
      "     ['<factor .F1>']\n",
      "\n",
      "<factor .F1>\n",
      "     ['+', '<factor .F1>']\n",
      "     ['-', '<factor .F1>']\n",
      "     ['(', '<expr .F1>', ')']\n",
      "\n",
      "<integer .F1>\n",
      "\n",
      "<digit .F1>\n",
      "\n"
     ]
    }
   ],
   "source": [
    "%%top\n",
    "for key in EXPR_GRAMMAR:\n",
    "    fk, rules = keep_exactly_one_fault_at_key(EXPR_GRAMMAR, key, '<factor>', '1', reachable1)\n",
    "    print(fk)\n",
    "    for r in rules:\n",
    "        print('    ', r)\n",
    "    print()"
   ]
  },
  {
   "cell_type": "markdown",
   "metadata": {},
   "source": [
    "### Keep exactly one at grammar"
   ]
  },
  {
   "cell_type": "code",
   "execution_count": 279,
   "metadata": {},
   "outputs": [],
   "source": [
    "def keep_exactly_one_fault_at_grammar(grammar, fsym, prefix_f, reachable):\n",
    "    new_grammar = {}\n",
    "    for key in grammar:\n",
    "        fk, rules = keep_exactly_one_fault_at_key(grammar, key, fsym, prefix_f, reachable)\n",
    "        if not rules: continue # no applicable rules\n",
    "        if fk not in new_grammar: new_grammar[fk] = []\n",
    "        new_grammar[fk].extend(rules)\n",
    "    return new_grammar"
   ]
  },
  {
   "cell_type": "markdown",
   "metadata": {},
   "source": [
    "### Get final grammar"
   ]
  },
  {
   "cell_type": "code",
   "execution_count": 280,
   "metadata": {},
   "outputs": [],
   "source": [
    "def exactly_one_fault_grammar_(grammar, start_symbol, fault_node, f_idx, log=False):\n",
    "    def L_prefix(i): return str(i)\n",
    "    def F_prefix(i): return str(i)\n",
    "    prefix_l = L_prefix(f_idx)\n",
    "    prefix_f = F_prefix(f_idx)\n",
    "    key_f = fault_node[0]\n",
    "    assert key_f in grammar\n",
    "    # First, get the pattern grammar\n",
    "\n",
    "    fsym = to_fkey_prefix(key_f, prefix_f, FKey.exactly)\n",
    "    atleast_fsym = to_fkey_prefix(key_f, prefix_f, FKey.atleast)\n",
    "    noreaching_fsym = negate_key(atleast_fsym)\n",
    "    \n",
    "    pattern_g, pattern_s  = faulty_node_to_pattern_grammar(fault_node, prefix_l)\n",
    "    npattern_g, npattern_s, refs  = negated_pattern_grammar(pattern_g, pattern_s, atleast_fsym, grammar, log)\n",
    "    reachable_keys = reachable_dict(grammar)\n",
    "    pattern_g = negate_abstracts(pattern_g, reachable_keys, atleast_fsym)\n",
    "\n",
    "    # the new grammar contains the faulty keys and their definitions.\n",
    "    # next, want to insert the fault prefix_f into each insertable positions. \n",
    "    # the insertable locations are those that can reach fsym\n",
    "    exactly_g = keep_exactly_one_fault_at_grammar(grammar, key_f, prefix_f, reachable_keys)\n",
    "    \n",
    "    noreach_g = remove_all_instances_of_fault_from_grammar(grammar, key_f, prefix_f, reachable_keys)\n",
    "    negation_connect = npattern_g[npattern_s] # get the negated pattern rule\n",
    "    noreach_g[noreaching_fsym] = negation_connect\n",
    "    \n",
    "    for key in refs: assert key in noreach_g, key\n",
    "    # now, the faulty key is an alternative to the original.\n",
    "    # We have to take care of one thing though. The `fkey` in the linear grammar should\n",
    "    # be replaced with fsym, but the definitions kept. This is because we want to preserve\n",
    "    # the rule patterns. We do not want normal expansions to go through since it may mean\n",
    "    # no fault inserted. However, we want self recursion to happen.\n",
    "    pattern_rule = pattern_g[pattern_s][0]\n",
    "\n",
    "    combined_grammar = {**grammar, **pattern_g, **npattern_g, **exactly_g, **noreach_g}\n",
    "    new_rules = [r for r in combined_grammar[fsym]\n",
    "                 if not normalized_rule_match(r, pattern_rule)] + pattern_g[pattern_s]\n",
    "    # note that htis is provisional. We are ignoring the negated pattern rules\n",
    "    combined_grammar[fsym] = new_rules\n",
    "    return combined_grammar, to_fkey_prefix(start_symbol, F_prefix(f_idx), FKey.exactly)"
   ]
  },
  {
   "cell_type": "code",
   "execution_count": 281,
   "metadata": {},
   "outputs": [],
   "source": [
    "def exactly_one_fault_grammar(grammar, start_symbol, fault_node, f_idx, log=False):\n",
    "    cg_, cs = exactly_one_fault_grammar_(grammar, start_symbol, fault_node, f_idx, log)\n",
    "    cg = complete(cg_, cs)\n",
    "    return cg, cs"
   ]
  },
  {
   "cell_type": "code",
   "execution_count": 282,
   "metadata": {},
   "outputs": [],
   "source": [
    "#%%top\n",
    "efaultya1_grammar, efaultya1_start = exactly_one_fault_grammar(EXPR_GRAMMAR, EXPR_START, node_faulty1, 1)"
   ]
  },
  {
   "cell_type": "code",
   "execution_count": 283,
   "metadata": {},
   "outputs": [
    {
     "name": "stdout",
     "output_type": "stream",
     "text": [
      "<start .F1> ::=\n",
      "|    <expr .F1>\n",
      "<expr .F1> ::=\n",
      "|    <term .F1>\n",
      "|    <term .F1> ' + ' <expr neg(+F1)>\n",
      "|    <term .F1> ' - ' <expr neg(+F1)>\n",
      "|    <term neg(+F1)> ' + ' <expr .F1>\n",
      "|    <term neg(+F1)> ' - ' <expr .F1>\n",
      "<term .F1> ::=\n",
      "|    <factor .F1>\n",
      "|    <factor .F1> ' * ' <term neg(+F1)>\n",
      "|    <factor .F1> ' / ' <term neg(+F1)>\n",
      "|    <factor neg(+F1)> ' * ' <term .F1>\n",
      "|    <factor neg(+F1)> ' / ' <term .F1>\n",
      "<expr neg(+F1)> ::=\n",
      "|    <term neg(+F1)>\n",
      "|    <term neg(+F1)> ' + ' <expr neg(+F1)>\n",
      "|    <term neg(+F1)> ' - ' <expr neg(+F1)>\n",
      "<term neg(+F1)> ::=\n",
      "|    <factor neg(+F1)>\n",
      "|    <factor neg(+F1)> ' * ' <term neg(+F1)>\n",
      "|    <factor neg(+F1)> ' / ' <term neg(+F1)>\n",
      "<factor .F1> ::=\n",
      "|    '(' <expr L1_1> ')'\n",
      "|    '+' <factor .F1>\n",
      "|    '-' <factor .F1>\n",
      "<factor neg(+F1)> ::=\n",
      "|    '(' <expr neg(L1_1)> ')'\n",
      "|    '+' <factor neg(+F1)>\n",
      "|    '-' <factor neg(+F1)>\n",
      "|    <integer>\n",
      "|    <integer> '.' <integer>\n",
      "<expr L1_1> ::=\n",
      "|    <term L1_1>\n",
      "<term L1_1> ::=\n",
      "|    <factor L1_2>\n",
      "<factor L1_2> ::=\n",
      "|    '(' <expr neg(+F1)> ')'\n",
      "<expr neg(L1_1)> ::=\n",
      "|    <term neg(+F1)> ' + ' <expr neg(+F1)>\n",
      "|    <term neg(+F1)> ' - ' <expr neg(+F1)>\n",
      "|    <term neg(L1_1)>\n",
      "<integer> ::=\n",
      "|    <digit>\n",
      "|    <digit> <integer>\n",
      "<term neg(L1_1)> ::=\n",
      "|    <factor neg(+F1)> ' * ' <term neg(+F1)>\n",
      "|    <factor neg(+F1)> ' / ' <term neg(+F1)>\n",
      "|    <factor neg(L1_2)>\n",
      "<factor neg(L1_2)> ::=\n",
      "|    '+' <factor neg(+F1)>\n",
      "|    '-' <factor neg(+F1)>\n",
      "|    <integer>\n",
      "|    <integer> '.' <integer>\n",
      "<digit> ::=\n",
      "|    '0'\n",
      "|    '1'\n",
      "|    '2'\n",
      "|    '3'\n",
      "|    '4'\n",
      "|    '5'\n",
      "|    '6'\n",
      "|    '7'\n",
      "|    '8'\n",
      "|    '9'\n",
      "15 50\n"
     ]
    },
    {
     "data": {
      "text/plain": [
       "'<start .F1>'"
      ]
     },
     "execution_count": 283,
     "metadata": {},
     "output_type": "execute_result"
    }
   ],
   "source": [
    "%%top\n",
    "Gs(efaultya1_grammar)\n",
    "efaultya1_start"
   ]
  },
  {
   "cell_type": "code",
   "execution_count": 284,
   "metadata": {},
   "outputs": [],
   "source": [
    "#%%top\n",
    "efaultya1_fuzzer = LimitFuzzer(efaultya1_grammar)\n",
    "efaultya1_parser = Parser(efaultya1_grammar, canonical=True, start_symbol=efaultya1_start)"
   ]
  },
  {
   "cell_type": "code",
   "execution_count": 285,
   "metadata": {},
   "outputs": [],
   "source": [
    "%top assert efaultya1_parser.can_parse('((2))')"
   ]
  },
  {
   "cell_type": "code",
   "execution_count": 286,
   "metadata": {},
   "outputs": [],
   "source": [
    "%top assert efaultya1_parser.can_parse('((1 + 1))')"
   ]
  },
  {
   "cell_type": "code",
   "execution_count": 287,
   "metadata": {},
   "outputs": [],
   "source": [
    "%top assert not efaultya1_parser.can_parse('1 + 2')"
   ]
  },
  {
   "cell_type": "code",
   "execution_count": 288,
   "metadata": {},
   "outputs": [],
   "source": [
    "%top assert efaultya1_parser.can_parse('1 + ((3))')"
   ]
  },
  {
   "cell_type": "code",
   "execution_count": 289,
   "metadata": {},
   "outputs": [],
   "source": [
    "%top assert not efaultya1_parser.can_parse('((1)) + ((3))')"
   ]
  },
  {
   "cell_type": "code",
   "execution_count": 290,
   "metadata": {},
   "outputs": [],
   "source": [
    "%top assert not efaultya1_parser.can_parse('((1 + 3)) + (1) - ((2))')"
   ]
  },
  {
   "cell_type": "code",
   "execution_count": 291,
   "metadata": {},
   "outputs": [],
   "source": [
    "%top assert efaultya1_parser.can_parse('((1 + 3)) + (1) - (2 + (2))')"
   ]
  },
  {
   "cell_type": "code",
   "execution_count": 292,
   "metadata": {},
   "outputs": [
    {
     "name": "stdout",
     "output_type": "stream",
     "text": [
      "-((9.5 + 6)) - 0 + 39 + (-2) * (6 * 4 - 0.3) - 77 * (7 + 5.0) - 6.39 * 1 + 4 / 5.6 * 1\n",
      "42 + (-2.91 + (8 - 1.8) - +0.9) - -4265 + -((4)) + ++-8.9 * 77.06 * 8 / 6.3 * 8.6\n",
      "----((5.1)) - 83.44 / 5 + -+++-4 / 39 / +0 / +(5.6)\n",
      "374.6 * +3.778 * -(-9.2 / 9 * 8.4 + 1.0 * 0.6 + 5.3 + 4.6) - +((5.0 + 4) / (3.2) - 1 * 6.6 / 3 - 3.4 * 5) / 9797.8 - -((1.3)) / (-7.6 - 5.9 - 4.3 + 3) / (9 / 7.7 + 7 + 4.4) * +(0) / 5.3 / 4 / 1 - 2 / -19 / (5.9 + 1.2) * 6.0\n",
      "(((0) - 7 / 9 - 5 + 9.0)) * +27 - +6.5 / 80 * 6.9381\n",
      "((2 / 6 - 8.1 / 3 + 4 - 1.1)) * -(-9.2 / 7 / 4 / 4 + 9 / 5 * 6.7)\n",
      "----+((7.8)) * 17.0 + 10 * -006.1848 / 546 - +-147.1 * 9804.7 / 5.297 + (4.3 + 3) * (9.0 + 1.6) * -+7 * -9.0 * 6 / 6.5 - 294.5 * -+0 + --9.4 - +2 / 1 / 3.3 - 5 / 2.9\n",
      "8 - --(-4.5 + 9 + 0 + 6.4) / 257 / 37 / ((0)) - -(0 / 4.6 / 0 + 7 * 1.8 + 1.4 - 7)\n",
      "+((4.9 + 3 - 9)) / --3.0210 - 36.2 + 5247.417\n",
      "++(7 * -1 - 1.2 / 6) / ((6.3 * 8.6) / +1.3 + (7) * -0.8 + +1.0 * 6.5 * 9 + 3.5 * 9) / (32 / (9) / 0 / 9.4 + 2 / 4.4 / 9.9) / -+0 - ((6.9 / 1.2 - 4.2 + 0)) + +--27.13 - 29 - -(4.2 - 7.3) + (6.4 - 8) - -6 * 0 + 5\n"
     ]
    }
   ],
   "source": [
    "%%top\n",
    "for i in range(10):\n",
    "    s = efaultya1_fuzzer.fuzz(key=efaultya1_start)\n",
    "    print(s)\n",
    "    assert efaultya1_parser.can_parse(s)"
   ]
  },
  {
   "cell_type": "markdown",
   "metadata": {},
   "source": [
    "## Reconstruct"
   ]
  },
  {
   "cell_type": "code",
   "execution_count": 293,
   "metadata": {},
   "outputs": [
    {
     "data": {
      "text/plain": [
       "[]"
      ]
     },
     "execution_count": 293,
     "metadata": {},
     "output_type": "execute_result"
    }
   ],
   "source": [
    "EXCEPTION_HAPPENED"
   ]
  },
  {
   "cell_type": "markdown",
   "metadata": {},
   "source": [
    "What the reconstruction does is to take any left over keys, and try to produce them based on what is available within the grammar."
   ]
  },
  {
   "cell_type": "code",
   "execution_count": 294,
   "metadata": {},
   "outputs": [],
   "source": [
    "def remove_unused(grammar, start_symbol, log=False):\n",
    "    def strip_key(grammar, key, order):\n",
    "        rules = sort_rules(grammar.get(key, []))\n",
    "        old_len = len(order)\n",
    "        for rule in rules:\n",
    "            for token in rule:\n",
    "                if is_nt(token):\n",
    "                    if token not in order:\n",
    "                        order.append(token)\n",
    "        new = order[old_len:]\n",
    "        for ckey in new:\n",
    "            strip_key(grammar, ckey, order)\n",
    "    if start_symbol not in grammar:\n",
    "        return {}, []\n",
    "\n",
    "    order = [start_symbol]\n",
    "    strip_key(grammar, start_symbol, order)\n",
    "    if len(order) != len(grammar.keys()):\n",
    "        stripped = [k for k in grammar if k not in order]\n",
    "        faulty = [k for k in order if k not in grammar]\n",
    "        if log: print('undefined:', faulty)\n",
    "    new_g = {k: [list(r) for r in sort_rules(grammar[k])] for k in order if k in grammar}\n",
    "    return new_g, {k:grammar[k] for k in grammar if k not in new_g}, faulty"
   ]
  },
  {
   "cell_type": "code",
   "execution_count": 295,
   "metadata": {},
   "outputs": [],
   "source": [
    "def reconstruct_neg_fault(grammar, key, bexpr):\n",
    "    f_key = bexpr.with_key(key)\n",
    "    nf_key = negate_key(f_key)\n",
    "    assert nf_key in grammar, (nf_key, f_key in grammar, nf_key in grammar)\n",
    "    base_grammar, base_start = normalize_grammar(grammar), normalize(key)\n",
    "    g1_, s1, r1 = reconstruct_rules_from_bexpr(key, bexpr.negate(), grammar)\n",
    "    g1, saved_keys, undef_keys  = remove_unused(g1_, s1)\n",
    "    g, s, r = negate_grammar_(g1, s1, base_grammar, base_start)\n",
    "    g[f_key] = g[s]\n",
    "    assert s in g, s\n",
    "    g = {**grammar, **g1, **g, **saved_keys}\n",
    "    return g, f_key, undefined_keys(g)"
   ]
  },
  {
   "cell_type": "code",
   "execution_count": 296,
   "metadata": {},
   "outputs": [],
   "source": [
    "def reconstruct_neg_neg_bexpr(grammar, key, bexpr):\n",
    "    g = copy_grammar(grammar)\n",
    "    nn_key = bexpr.with_key(key)\n",
    "    assert nn_key not in grammar\n",
    "    n_key = negate_key(nn_key)\n",
    "    assert n_key in grammar\n",
    "    base_grammar, base_start = normalize_grammar(grammar), normalize(key)\n",
    "    rules, refs = negate_definition(grammar[n_key], base_grammar[base_start], False)\n",
    "    g[nn_key] = rules\n",
    "    return g, nn_key, undefined_keys(g)"
   ]
  },
  {
   "cell_type": "code",
   "execution_count": 297,
   "metadata": {},
   "outputs": [],
   "source": [
    "def reconstruct_neg_bexpr(grammar, key, bexpr):\n",
    "    fst = bexpr.op_fst()\n",
    "    base_grammar, base_start = normalize_grammar(grammar), normalize(key)\n",
    "    g1_, s1, r1 = reconstruct_rules_from_bexpr(key, fst, grammar)\n",
    "    g1, saved_keys, undef_keys  = remove_unused(g1_, s1)\n",
    "    g, s, r = negate_grammar_(g1, s1, base_grammar, base_start)\n",
    "    assert s in g, s\n",
    "    g = {**grammar, **g1, **g, **saved_keys}\n",
    "    return g, s, undefined_keys(g)"
   ]
  },
  {
   "cell_type": "code",
   "execution_count": 298,
   "metadata": {},
   "outputs": [],
   "source": [
    "def reconstruct_and_bexpr(grammar, key, bexpr):\n",
    "    fst, snd = bexpr.op_fst_snd()\n",
    "    f_key = bexpr.with_key(key)\n",
    "    g1_, s1, r1 = reconstruct_rules_from_bexpr(key, fst, grammar)\n",
    "    if fst == snd: # or of same keys is same\n",
    "        print(f_key)\n",
    "        g = {**grammar, **g1_}\n",
    "        g[f_key] = g[s1]\n",
    "        return g, f_key, undefined_keys(g)\n",
    "    g1, saved_keys1, undef_keys1  = remove_unused(g1_, s1)\n",
    "    g2_, s2, r2 = reconstruct_rules_from_bexpr(key, snd, grammar)\n",
    "    g2, saved_keys2, undef_keys2  = remove_unused(g2_, s2)\n",
    "    g, s, r = and_grammars_(g1, s1, g2, s2)\n",
    "    assert s in g\n",
    "    g = {**grammar, **g1, **g2, **g, **saved_keys1, **saved_keys2}\n",
    "    if s != f_key:\n",
    "        g[f_key] = g[s]\n",
    "    assert f_key in g, f_key\n",
    "    return g, s, undefined_keys(g)"
   ]
  },
  {
   "cell_type": "code",
   "execution_count": 299,
   "metadata": {},
   "outputs": [],
   "source": [
    "def reconstruct_or_bexpr(grammar, key, bexpr):\n",
    "    fst, snd = bexpr.op_fst_snd()\n",
    "    f_key = bexpr.with_key(key)\n",
    "    g1_, s1, r1 = reconstruct_rules_from_bexpr(key, fst, grammar)\n",
    "    assert fst.with_key(key) in g1_\n",
    "    if fst == snd: # and of same keys is same\n",
    "        g = {**grammar, **g1_}\n",
    "        g[f_key] = g[s1]\n",
    "        return g, f_key, undefined_keys(g)\n",
    "    g1, saved_keys1, undef_keys1  = remove_unused(g1_, s1)\n",
    "    g2_, s2, r2 = reconstruct_rules_from_bexpr(key, snd, grammar)\n",
    "    assert snd.with_key(key) in g2_\n",
    "    g2, saved_keys2, undef_keys2  = remove_unused(g2_, s2)\n",
    "    g, s, r = or_grammars_(g1, s1, g2, s2)\n",
    "    assert s in g\n",
    "    g = {**grammar, **g1, **g2, **g, **saved_keys1, **saved_keys2}\n",
    "    assert f_key in g, (f_key, s)\n",
    "    return g, s, undefined_keys(g)"
   ]
  },
  {
   "cell_type": "code",
   "execution_count": 300,
   "metadata": {},
   "outputs": [],
   "source": [
    "def reconstruct_rules_from_bexpr(key, bexpr, grammar):\n",
    "    f_key = bexpr.with_key(key)\n",
    "    if f_key in grammar:\n",
    "        return grammar, f_key, []\n",
    "    else:\n",
    "        new_grammar = grammar\n",
    "        operator = bexpr.get_operator()\n",
    "        if operator == 'and':\n",
    "            return reconstruct_and_bexpr(grammar, key, bexpr)\n",
    "        elif operator == 'or':\n",
    "            return reconstruct_or_bexpr(grammar, key, bexpr)\n",
    "        elif operator == 'neg':\n",
    "            return reconstruct_neg_bexpr(grammar, key, bexpr)\n",
    "        elif operator == '':\n",
    "            return reconstruct_neg_fault(grammar, key, bexpr)\n",
    "        else:\n",
    "            assert False"
   ]
  },
  {
   "cell_type": "code",
   "execution_count": 301,
   "metadata": {},
   "outputs": [],
   "source": [
    "def reconstruct_key(refined_key, grammar, log=False):\n",
    "    keys = [refined_key]\n",
    "    defined = set()\n",
    "    while keys:\n",
    "        if log: print(len(keys))\n",
    "        key_to_reconstruct, *keys = keys\n",
    "        if log: print('reconstructing:', key_to_reconstruct)\n",
    "        if key_to_reconstruct in defined:\n",
    "            raise Exception('Key found:', key_to_reconstruct)\n",
    "        defined.add(key_to_reconstruct)\n",
    "        bexpr = BExpr(refinement(key_to_reconstruct))\n",
    "        nrek = normalize(key_to_reconstruct)\n",
    "        if bexpr.simple():\n",
    "            nkey = bexpr.with_key(key_to_reconstruct)\n",
    "            if log: print('simplified_to:', nkey)\n",
    "            grammar, s, refs = reconstruct_rules_from_bexpr(nrek, bexpr, grammar)\n",
    "        else:\n",
    "            nkey = nrek # base key\n",
    "        assert nkey in grammar\n",
    "        grammar[key_to_reconstruct] = grammar[nkey]\n",
    "        keys = undefined_keys(grammar)\n",
    "    return grammar"
   ]
  },
  {
   "cell_type": "markdown",
   "metadata": {},
   "source": [
    "## Conjunction "
   ]
  },
  {
   "cell_type": "code",
   "execution_count": 302,
   "metadata": {},
   "outputs": [
    {
     "data": {
      "text/plain": [
       "[]"
      ]
     },
     "execution_count": 302,
     "metadata": {},
     "output_type": "execute_result"
    }
   ],
   "source": [
    "EXCEPTION_HAPPENED"
   ]
  },
  {
   "cell_type": "markdown",
   "metadata": {},
   "source": [
    "For conjunction (F1 and F2 present in the input), the idea is to simply collect all the rules that obey both patterns.\n",
    "\n",
    "\n",
    "The idea is simply using the distributive law. A definition is simply R1 `or` R2 `or` R3. Now, when you want to `and` two defintions, you have `and(A1 or B1 or C1, A2 or B2 or C2)` where `A1` etc are rules, and you want the `or` out again.\n",
    "\n",
    "So, this becomes `(A1 AND A2) OR (A1 AND B2) OR (A1 AND C2) OR (A2 AND B1) OR (A2 AND C1) OR (B1 AND B2) OR (B1 AND C2) OR (B2 AND C1) OR (C1 AND C2)` which is essentially that many rules.\n",
    "\n",
    "To construct a new rule `A1 and A2`, you simply pair each symbol in the rule up, and do `and` between them."
   ]
  },
  {
   "cell_type": "code",
   "execution_count": 303,
   "metadata": {},
   "outputs": [],
   "source": [
    "import itertools as I"
   ]
  },
  {
   "cell_type": "code",
   "execution_count": 304,
   "metadata": {},
   "outputs": [],
   "source": [
    "def conjoin_ruleset(rulesetA, rulesetB):\n",
    "    rules = []\n",
    "    refinements = []\n",
    "    for ruleA,ruleB in I.product(rulesetA, rulesetB):\n",
    "        AandB_rule = []\n",
    "        for t1,t2 in zip(ruleA, ruleB):\n",
    "            if not is_nt(t1):\n",
    "                AandB_rule.append(t1)\n",
    "            elif is_base_key(t1) and is_base_key(t2):\n",
    "                AandB_rule.append(t1)\n",
    "            else:\n",
    "                k = conj(t1, t2, simplify=True)\n",
    "                refinements.append(k)\n",
    "                AandB_rule.append(k)\n",
    "        rules.append(AandB_rule)\n",
    "    return rules, refinements"
   ]
  },
  {
   "cell_type": "code",
   "execution_count": 305,
   "metadata": {},
   "outputs": [],
   "source": [
    "def and_rules(rulesA, rulesB):\n",
    "    AandB_rules = []\n",
    "    refinements = []\n",
    "    # key is the rule pattern\n",
    "    rulesetsA = get_rulesets(rulesA)\n",
    "    rulesetsB = get_rulesets(rulesB)\n",
    "    # drop any rules that are not there in both.\n",
    "    keys = set(rulesetsA.keys()) & set(rulesetsB.keys())\n",
    "    for k in keys:\n",
    "        new_rules, refs = conjoin_ruleset(rulesetsA[k], rulesetsB[k])\n",
    "        refinements.extend(refs)\n",
    "        AandB_rules.extend(new_rules)\n",
    "    return AandB_rules, refinements"
   ]
  },
  {
   "cell_type": "code",
   "execution_count": 306,
   "metadata": {},
   "outputs": [],
   "source": [
    "def and_grammars_(g1, s1, g2, s2):\n",
    "    g1_keys = g1.keys()\n",
    "    g2_keys = g2.keys()\n",
    "    g = {**g1, **g2}\n",
    "    refinements = []\n",
    "    # now get the matching keys for each pair.\n",
    "    for k1,k2 in I.product(g1_keys, g2_keys):\n",
    "        # define and(k1, k2)\n",
    "        if normalize(k1) != normalize(k2): continue\n",
    "        # find matching rules\n",
    "        and_key = conj(k1, k2)\n",
    "        g[and_key], refs = and_rules(g1[k1], g2[k2])\n",
    "        refinements.extend(refs)\n",
    "    #for k in refinements: assert k in g\n",
    "    return g, conj(s1, s2), refinements"
   ]
  },
  {
   "cell_type": "code",
   "execution_count": 307,
   "metadata": {},
   "outputs": [],
   "source": [
    "def and_grammars(g1, s1, g2, s2):\n",
    "    g_, s, ref = and_grammars_(g1, s1, g2, s2)\n",
    "    g = complete(g_, s)\n",
    "    assert conj(s1, s2) == s\n",
    "    assert s in g\n",
    "    return g, s"
   ]
  },
  {
   "cell_type": "code",
   "execution_count": null,
   "metadata": {},
   "outputs": [],
   "source": []
  },
  {
   "cell_type": "code",
   "execution_count": 308,
   "metadata": {},
   "outputs": [],
   "source": [
    "#%%top\n",
    "expr2_input = '0 + 0'\n",
    "expr2_tree = list(expr_parser.parse(expr2_input))[0]"
   ]
  },
  {
   "cell_type": "code",
   "execution_count": 309,
   "metadata": {},
   "outputs": [],
   "source": [
    "#%%top\n",
    "abs_path_2_a = [0,0]\n",
    "abs_path_2_b = [0,2,0]"
   ]
  },
  {
   "cell_type": "code",
   "execution_count": 310,
   "metadata": {},
   "outputs": [
    {
     "name": "stdout",
     "output_type": "stream",
     "text": [
      "<term> 0\n",
      "<term> 0\n"
     ]
    }
   ],
   "source": [
    "%top Ns(expr2_tree, [abs_path_2_a, abs_path_2_b])"
   ]
  },
  {
   "cell_type": "code",
   "execution_count": 311,
   "metadata": {},
   "outputs": [],
   "source": [
    "#%%top\n",
    "Ft2 = mark_abstract_nodes(expr2_tree, [abs_path_2_a, abs_path_2_b])"
   ]
  },
  {
   "cell_type": "code",
   "execution_count": 312,
   "metadata": {},
   "outputs": [
    {
     "data": {
      "text/plain": [
       "'<term> + <term>'"
      ]
     },
     "execution_count": 312,
     "metadata": {},
     "output_type": "execute_result"
    }
   ],
   "source": [
    "%top Ta(Ft2)"
   ]
  },
  {
   "cell_type": "code",
   "execution_count": 313,
   "metadata": {},
   "outputs": [
    {
     "data": {
      "image/png": "[encoded data removed]",
      "text/plain": [
       "<IPython.core.display.Image object>"
      ]
     },
     "execution_count": 313,
     "metadata": {},
     "output_type": "execute_result"
    }
   ],
   "source": [
    "%top Da(Ft2)"
   ]
  },
  {
   "cell_type": "code",
   "execution_count": 314,
   "metadata": {},
   "outputs": [],
   "source": [
    "# %%top\n",
    "Fp2 = find_charecterizing_node(Ft2)\n",
    "faulty2_grammar, faulty2_start  = atleast_one_fault_grammar(EXPR_GRAMMAR, EXPR_START, Fp2, '2')"
   ]
  },
  {
   "cell_type": "code",
   "execution_count": 315,
   "metadata": {
    "scrolled": true
   },
   "outputs": [
    {
     "name": "stdout",
     "output_type": "stream",
     "text": [
      "<start +F2> ::=\n",
      "|    <expr +F2>\n",
      "<expr +F2> ::=\n",
      "|    <term +F2>\n",
      "|    <term +F2> ' + ' <expr>\n",
      "|    <term +F2> ' - ' <expr>\n",
      "|    <term> ' + ' <expr +F2>\n",
      "|    <term> ' + ' <expr L2_2>\n",
      "|    <term> ' - ' <expr +F2>\n",
      "<term +F2> ::=\n",
      "|    <factor +F2>\n",
      "|    <factor +F2> ' * ' <term>\n",
      "|    <factor +F2> ' / ' <term>\n",
      "|    <factor> ' * ' <term +F2>\n",
      "|    <factor> ' / ' <term +F2>\n",
      "<expr> ::=\n",
      "|    <term>\n",
      "|    <term> ' + ' <expr>\n",
      "|    <term> ' - ' <expr>\n",
      "<term> ::=\n",
      "|    <factor>\n",
      "|    <factor> ' * ' <term>\n",
      "|    <factor> ' / ' <term>\n",
      "<expr L2_2> ::=\n",
      "|    <term>\n",
      "<factor +F2> ::=\n",
      "|    '(' <expr +F2> ')'\n",
      "|    '+' <factor +F2>\n",
      "|    '-' <factor +F2>\n",
      "<factor> ::=\n",
      "|    '(' <expr> ')'\n",
      "|    '+' <factor>\n",
      "|    '-' <factor>\n",
      "|    <integer>\n",
      "|    <integer> '.' <integer>\n",
      "<integer> ::=\n",
      "|    <digit>\n",
      "|    <digit> <integer>\n",
      "<digit> ::=\n",
      "|    '0'\n",
      "|    '1'\n",
      "|    '2'\n",
      "|    '3'\n",
      "|    '4'\n",
      "|    '5'\n",
      "|    '6'\n",
      "|    '7'\n",
      "|    '8'\n",
      "|    '9'\n",
      "10 39\n"
     ]
    }
   ],
   "source": [
    "%top Gs(faulty2_grammar)"
   ]
  },
  {
   "cell_type": "code",
   "execution_count": 316,
   "metadata": {},
   "outputs": [],
   "source": [
    "#%%top\n",
    "faulty2_fuzzer = LimitFuzzer(faulty2_grammar)\n",
    "faulty2_parser = Parser(faulty2_grammar, canonical=True, start_symbol=faulty2_start)"
   ]
  },
  {
   "cell_type": "code",
   "execution_count": 317,
   "metadata": {},
   "outputs": [],
   "source": [
    "#%%top\n",
    "and1_grammar, and1_start = and_grammars(faulty1_grammar, faulty1_start, faulty2_grammar, faulty2_start)"
   ]
  },
  {
   "cell_type": "code",
   "execution_count": 318,
   "metadata": {
    "scrolled": false
   },
   "outputs": [
    {
     "name": "stdout",
     "output_type": "stream",
     "text": [
      "<start and(+F1,+F2)> ::=\n",
      "|    <expr and(+F1,+F2)>\n",
      "<expr and(+F1,+F2)> ::=\n",
      "|    <term +F1> ' + ' <expr +F2>\n",
      "|    <term +F1> ' + ' <expr L2_2>\n",
      "|    <term +F1> ' - ' <expr +F2>\n",
      "|    <term +F2> ' + ' <expr +F1>\n",
      "|    <term +F2> ' - ' <expr +F1>\n",
      "|    <term and(+F1,+F2)>\n",
      "|    <term and(+F1,+F2)> ' + ' <expr>\n",
      "|    <term and(+F1,+F2)> ' - ' <expr>\n",
      "|    <term> ' + ' <expr and(+F1,+F2)>\n",
      "|    <term> ' + ' <expr and(+F1,L2_2)>\n",
      "|    <term> ' - ' <expr and(+F1,+F2)>\n",
      "<term +F1> ::=\n",
      "|    <factor +F1>\n",
      "|    <factor +F1> ' * ' <term>\n",
      "|    <factor +F1> ' / ' <term>\n",
      "|    <factor> ' * ' <term +F1>\n",
      "|    <factor> ' / ' <term +F1>\n",
      "<expr +F2> ::=\n",
      "|    <term +F2>\n",
      "|    <term +F2> ' + ' <expr>\n",
      "|    <term +F2> ' - ' <expr>\n",
      "|    <term> ' + ' <expr +F2>\n",
      "|    <term> ' + ' <expr L2_2>\n",
      "|    <term> ' - ' <expr +F2>\n",
      "<expr L2_2> ::=\n",
      "|    <term>\n",
      "<term +F2> ::=\n",
      "|    <factor +F2>\n",
      "|    <factor +F2> ' * ' <term>\n",
      "|    <factor +F2> ' / ' <term>\n",
      "|    <factor> ' * ' <term +F2>\n",
      "|    <factor> ' / ' <term +F2>\n",
      "<expr +F1> ::=\n",
      "|    <term +F1>\n",
      "|    <term +F1> ' + ' <expr>\n",
      "|    <term +F1> ' - ' <expr>\n",
      "|    <term> ' + ' <expr +F1>\n",
      "|    <term> ' - ' <expr +F1>\n",
      "<term and(+F1,+F2)> ::=\n",
      "|    <factor +F1> ' * ' <term +F2>\n",
      "|    <factor +F1> ' / ' <term +F2>\n",
      "|    <factor +F2> ' * ' <term +F1>\n",
      "|    <factor +F2> ' / ' <term +F1>\n",
      "|    <factor and(+F1,+F2)>\n",
      "|    <factor and(+F1,+F2)> ' * ' <term>\n",
      "|    <factor and(+F1,+F2)> ' / ' <term>\n",
      "|    <factor> ' * ' <term and(+F1,+F2)>\n",
      "|    <factor> ' / ' <term and(+F1,+F2)>\n",
      "<expr> ::=\n",
      "|    <term>\n",
      "|    <term> ' + ' <expr>\n",
      "|    <term> ' - ' <expr>\n",
      "<term> ::=\n",
      "|    <factor>\n",
      "|    <factor> ' * ' <term>\n",
      "|    <factor> ' / ' <term>\n",
      "<expr and(+F1,L2_2)> ::=\n",
      "|    <term +F1>\n",
      "<factor +F1> ::=\n",
      "|    '(' <expr +F1> ')'\n",
      "|    '(' <expr L1_1> ')'\n",
      "|    '+' <factor +F1>\n",
      "|    '-' <factor +F1>\n",
      "<factor> ::=\n",
      "|    '(' <expr> ')'\n",
      "|    '+' <factor>\n",
      "|    '-' <factor>\n",
      "|    <integer>\n",
      "|    <integer> '.' <integer>\n",
      "<expr L1_1> ::=\n",
      "|    <term L1_1>\n",
      "<term L1_1> ::=\n",
      "|    <factor L1_2>\n",
      "<factor L1_2> ::=\n",
      "|    '(' <expr> ')'\n",
      "<integer> ::=\n",
      "|    <digit>\n",
      "|    <digit> <integer>\n",
      "<digit> ::=\n",
      "|    '0'\n",
      "|    '1'\n",
      "|    '2'\n",
      "|    '3'\n",
      "|    '4'\n",
      "|    '5'\n",
      "|    '6'\n",
      "|    '7'\n",
      "|    '8'\n",
      "|    '9'\n",
      "<factor +F2> ::=\n",
      "|    '(' <expr +F2> ')'\n",
      "|    '+' <factor +F2>\n",
      "|    '-' <factor +F2>\n",
      "<factor and(+F1,+F2)> ::=\n",
      "|    '(' <expr and(+F1,+F2)> ')'\n",
      "|    '(' <expr and(+F2,L1_1)> ')'\n",
      "|    '+' <factor and(+F1,+F2)>\n",
      "|    '-' <factor and(+F1,+F2)>\n",
      "<expr and(+F2,L1_1)> ::=\n",
      "|    <term and(+F2,L1_1)>\n",
      "<term and(+F2,L1_1)> ::=\n",
      "|    <factor and(+F2,L1_2)>\n",
      "<factor and(+F2,L1_2)> ::=\n",
      "|    '(' <expr +F2> ')'\n",
      "23 84\n"
     ]
    },
    {
     "data": {
      "text/plain": [
       "'<start and(+F1,+F2)>'"
      ]
     },
     "execution_count": 318,
     "metadata": {},
     "output_type": "execute_result"
    }
   ],
   "source": [
    "%%top\n",
    "Gs(and1_grammar)\n",
    "and1_start"
   ]
  },
  {
   "cell_type": "code",
   "execution_count": 319,
   "metadata": {},
   "outputs": [],
   "source": [
    "#%%top\n",
    "and1_fuzzer = LimitFuzzer(and1_grammar)\n",
    "and1_parser = Parser(and1_grammar, canonical=True, start_symbol=and1_start)"
   ]
  },
  {
   "cell_type": "code",
   "execution_count": 320,
   "metadata": {},
   "outputs": [
    {
     "name": "stdout",
     "output_type": "stream",
     "text": [
      "-(-((6 + 8.9) * 4) + -+4.3 / -1.1 * 9 / 8 + +0 * 4.6 + 4.1 / 3) / 7 * (--0 / +2.3 + (7) + 6) / +0 - +-9 * 253 * ---(8) - --+9.87 * -(9 + ((1.8)) / 6 - 3) - 6\n",
      "+(-+5 * -4.0 + 8 - -7 * 7 * 0 * (5 + 5) / 0.8) * +-30 + +---+-3 + ++77.7 * +(5.3 - 5 - 9) / -(9.9) / 05.30 + +5 / +9 * +(5) / +7 - (4.5 / ((5.6)) / 8.5 + 0.2 - 9.3) * 2.0 / 7 * 5 * 6 - ++5.5 + (8) * 8 * 9 - 7.3\n",
      "-+-++((8 + 9.7) - 4) * 8 - +-(+6 / 2 * 9) * +-03.389 / 5.01 - (1.84 / (0) * 7 * 4) * ((1)) / -19 * 9\n",
      "+-(+-(6 + 5.9) / -4) + +++((7)) / (++0 / +8.7 / 7 - -9.8 / 5.7 * 0) - -+(8.4 * 5.0 - 2 + 4) * 7 * 9 / 49 + --+(2) * +94 * 6 * +3.4 / 5 * 7.0\n",
      "--+---+(3 + 0) / 8 + -351 / (+(((7)) + 2.6) / 4 + -6.9 * 6.8 / 9.0 + 7.4 - 8.9 + 2.8) / -(4.9 - 3.4 + 1.5) / 5.8 - -(8 * 5.5 * 0.5 - 4.9 - 5 - 8) / ---2.4 * (8 + 3) / 30 + (9 / 4 * 1) - (7.2 + 8)\n",
      "+((5 * 9.9 + 1.0 + 2) / 30.82 / (0) / 8 / 0.2 + +(3)) / +(16.0 / -9 / 2.6 * 7.2) - 3.57 / -((2.8))\n",
      "-+-+-(3.3 - 9 + 3) + -(+-((7.8)) * -6.9 * 4.2 - 2 + 3.4 / 9.5 - 3.4 + 4.8) + 3 / 6 / ++9.8 / 5 * 7 / 3 / 8\n",
      "++(((8 + 1.7))) + (09 / (6.4 + 5.3) / 7.1 / 7 / 8.8 + 29 / 7 * 4 / 8) / -+-+(1) / (+2.9 * 8.4) / -0 * (0 + 3) + 8 + ((0) * 6) * +(6) + 87.0 - 83 * (3) + -5 / 9.4 + 4 - 0.5 + 9.9\n",
      "((-8.5 - 5)) * (6 / 93.4 - 66.06 / +9 * 0.6 / 1 + 4 - 6.9 / 6.9) / +-(5 * 8 + (4.2 + 4)) / -046 / 0.39 * (0.2 - 3.0) / -6 + +021 * 71.56911 / 6.2 * +-0 + +((5) * 7.4 * 8 + 6) / (6.8 / 5 * 5.9 + 6 - 6 - 8) + -5 * --+1 * -+3 * 3 / 5.6 - 8.6 / 3 + 9.2 - 1 / 5 + 5.2 + 2.5 - 1.5\n",
      "8.5 / ((3.4 + 3.2 + 2.4)) * (6 / 2.2 * 1.9) / -173.5 + ((8.3 / 3.7 - 2.2) / ++6.1 * -7.1 * 0 - +(1.7) + -2 * 5.7 + 3.3 + 0) / +-++-5\n"
     ]
    }
   ],
   "source": [
    "%%top\n",
    "for i in range(10):\n",
    "    s = and1_fuzzer.fuzz(key=and1_start)\n",
    "    print(s)\n",
    "    assert and1_parser.can_parse(s)\n",
    "    assert faulty1_parser.can_parse(s)\n",
    "    assert faulty2_parser.can_parse(s)"
   ]
  },
  {
   "cell_type": "markdown",
   "metadata": {},
   "source": [
    "## Disjunction\n",
    "\n",
    "The idea here is to produce a merge of both grammars. Unlike in `and` where we combined each rule pair, we will simply add both rulesets. Note that there could be a large number of duplicate keys. This can be fixed by grammar GC.\n",
    "\n",
    "The idea is simply using the distributive law. A definition is simply R1 `or` R2 `or` R3. Now, when you want to `or` two defintions, you have `or(A1 or B1 or C1, A2 or B2 or C2)` where `A1` etc are rules, then it simply becomes `A1 or B1 or C1 or A2 or B2 or C2`\n"
   ]
  },
  {
   "cell_type": "code",
   "execution_count": 321,
   "metadata": {},
   "outputs": [
    {
     "data": {
      "text/plain": [
       "[]"
      ]
     },
     "execution_count": 321,
     "metadata": {},
     "output_type": "execute_result"
    }
   ],
   "source": [
    "EXCEPTION_HAPPENED"
   ]
  },
  {
   "cell_type": "code",
   "execution_count": 322,
   "metadata": {},
   "outputs": [],
   "source": [
    "def merge_similar_rules(rule1, rule2):\n",
    "    assert normalized_rule_match(rule1, rule2), (rule1, rule2)\n",
    "    new_rule = []\n",
    "    refinements = []\n",
    "    \n",
    "    # note. This would not work with multi-nt-token rules.\n",
    "    # so we need to restrict ourselves to grammars that only\n",
    "    # allow a single token rule opposite start.\n",
    "    assert len([t for t in rule1 if is_nt(t)]) == 1\n",
    "    for t1,t2 in zip(rule1, rule2):\n",
    "        if not is_nt(t1):\n",
    "            new_rule.append(t1)\n",
    "        elif is_base_key(t1) and is_base_key(t2):\n",
    "            new_rule.append(t1)\n",
    "        else:\n",
    "            k = disj(t1, t2, simplify=True)\n",
    "            new_rule.append(k)\n",
    "            refinements.append((k,(t1, t2)))\n",
    "    return new_rule, refinements\n",
    "            "
   ]
  },
  {
   "cell_type": "code",
   "execution_count": 323,
   "metadata": {},
   "outputs": [],
   "source": [
    "def merge_similar_rules_positions(rules):\n",
    "    def rule_match(rule1, rule2):\n",
    "        assert normalized_rule_match(rule1, rule2), (rule1, rule2)\n",
    "        return [i for i, (k1, k2) in enumerate(zip(rule1, rule2)) if k1 != k2]\n",
    "\n",
    "    def merge_rule_at_pos(rule1, rule2, pos):\n",
    "        merged_key = disj(rule1[pos], rule2[pos])\n",
    "        m_rule = [merged_key if i== pos else t for i,t in enumerate(rule1)]\n",
    "        return m_rule, merged_key\n",
    "        \n",
    "    # these rules are from same key and have similar pattern as well as similar refinement positions.\n",
    "    if len(rules) == 1: return rules, []\n",
    "    cur_rule, *rules = rules\n",
    "    new_rules, refs = merge_similar_rules_positions(rules)\n",
    "    # now check if cur_rule matches any of the new_rules. If it doesn't then add to new_rule\n",
    "    # if it does, merge to the newone.\n",
    "    merged_rules = []\n",
    "    found = False\n",
    "    for nrule in new_rules:\n",
    "        diffs = rule_match(cur_rule, nrule)\n",
    "        if len(diffs) == 1:\n",
    "            found = True\n",
    "            mrule, ref = merge_rule_at_pos(cur_rule, nrule, diffs[0])\n",
    "            refs.append(ref)\n",
    "            merged_rules.append(mrule)\n",
    "        else:\n",
    "            assert len(diffs) != 0, (\"no differences(%s)\" % len(diffs))\n",
    "            merged_rules.append(nrule)\n",
    "    \n",
    "    if not found:\n",
    "        merged_rules += [cur_rule]\n",
    "    return merged_rules, refs"
   ]
  },
  {
   "cell_type": "markdown",
   "metadata": {},
   "source": [
    "What can be merged?\n",
    "Only those rules that are\n",
    "\n",
    "1. Exactly the same normalized rule\n",
    "2. Has a single mergable (different) refinement.\n",
    "\n",
    "i.e:\n",
    "\n",
    "```\n",
    "| <A 1> <B> <C>\n",
    "| <A 2> <B> <C>\n",
    "```\n",
    "is mergable to \n",
    "```\n",
    "| <A 1|2> <B> <C>\n",
    "```\n",
    "Similarly\n",
    "\n",
    "```\n",
    "| <A 1> <B 2> <C>\n",
    "| <A 1> <B 3> <C>\n",
    "```\n",
    "is mergable to\n",
    "```\n",
    "| <A 1> <B 2|3> <C>\n",
    "```\n",
    "\n",
    "That is, it is ok to have multiple refinements in a rule so long as the other\n",
    "refinements except for the merger one is exactly the same."
   ]
  },
  {
   "cell_type": "code",
   "execution_count": 324,
   "metadata": {},
   "outputs": [],
   "source": [
    "%%top\n",
    "a1 = ['<A 1>', '<B>','<C>']\n",
    "a2 = ['<A 2>', '<B>','<C>']\n",
    "assert merge_similar_rules_positions([a1, a2])[0] == [['<A or(1,2)>', '<B>', '<C>']]"
   ]
  },
  {
   "cell_type": "code",
   "execution_count": 325,
   "metadata": {},
   "outputs": [],
   "source": [
    "%%top\n",
    "a3 = ['<A 1>', '<B 2>','<C>']\n",
    "a4 = ['<A 1>', '<B 3>','<C>']\n",
    "assert merge_similar_rules_positions([a3, a4])[0] == [['<A 1>', '<B or(2,3)>', '<C>']]"
   ]
  },
  {
   "cell_type": "code",
   "execution_count": 326,
   "metadata": {},
   "outputs": [],
   "source": [
    "%%top\n",
    "a5 = ['<A 1>', '<B 2>','<C 3>']\n",
    "a6 = ['<A 1>', '<B 3>','<C>']\n",
    "assert merge_similar_rules_positions([a5, a6])[0] == [['<A 1>', '<B 3>', '<C>'], ['<A 1>', '<B 2>', '<C 3>']]"
   ]
  },
  {
   "cell_type": "code",
   "execution_count": 327,
   "metadata": {},
   "outputs": [],
   "source": [
    "def get_rules_with_similar_refinement_positions(rules):\n",
    "    similar = {}\n",
    "    # First get the positions of refinements\n",
    "    for rule in rules:\n",
    "        ref_positions = tuple([i for i,k in enumerate(rule) if is_nt(k) and refinement(k)])\n",
    "        key = (tuple(rule_to_normalized_rule(rule)), ref_positions)\n",
    "        if key not in similar: similar[key] = set()\n",
    "        similar[key].add(tuple(rule))\n",
    "    return similar"
   ]
  },
  {
   "cell_type": "code",
   "execution_count": 328,
   "metadata": {},
   "outputs": [
    {
     "data": {
      "text/plain": [
       "{(('<A>', '<B>', '<C>'), (0,)): {('<A 1>', '<B>', '<C>'),\n",
       "  ('<A 2>', '<B>', '<C>')},\n",
       " (('<A>', '<B>', '<C>'), (0, 1)): {('<A 1>', '<B 2>', '<C>'),\n",
       "  ('<A 1>', '<B 3>', '<C>')}}"
      ]
     },
     "execution_count": 328,
     "metadata": {},
     "output_type": "execute_result"
    }
   ],
   "source": [
    "%top get_rules_with_similar_refinement_positions([a1, a2, a3, a4])"
   ]
  },
  {
   "cell_type": "code",
   "execution_count": 329,
   "metadata": {},
   "outputs": [],
   "source": [
    "def merge_disj_rules(g1):\n",
    "    similar = {}\n",
    "    # now we have similar rules that have a chance of merger.\n",
    "    refinements = []\n",
    "    new_grammar = {}\n",
    "    for g_k in g1:\n",
    "        similar = get_rules_with_similar_refinement_positions(g1[g_k])\n",
    "        new_grammar[g_k] = []\n",
    "        for rule_pos in similar:\n",
    "            srules, refs = merge_similar_rules_positions([list(r) for r in similar[rule_pos]])\n",
    "            # same key could come in multiple times.\n",
    "            new_grammar[g_k].extend(srules)\n",
    "            refinements.extend(refs)\n",
    "    return new_grammar, refinements"
   ]
  },
  {
   "cell_type": "code",
   "execution_count": 330,
   "metadata": {},
   "outputs": [],
   "source": [
    "def or_grammars_(g1, s1, g2, s2):\n",
    "    g = {}\n",
    "    # now get the matching keys for each pair.\n",
    "    for k in list(g1.keys()) + list(g2.keys()): \n",
    "         g[k] = [[t for t in r] for r in list(set([tuple(k) for k in (g1.get(k, []) + g2.get(k, []))]))]\n",
    "            \n",
    "    g[disj(s1, s2)] = g1[s1] + g2[s2]\n",
    "    g, refinements = merge_disj_rules(g)\n",
    "    return g, disj(s1, s2), refinements"
   ]
  },
  {
   "cell_type": "code",
   "execution_count": 331,
   "metadata": {},
   "outputs": [],
   "source": [
    "def or_grammars(g1, s1, g2, s2):\n",
    "    g_, s, ref = or_grammars_(g1, s1, g2, s2)\n",
    "    g = complete(g_, s)\n",
    "    assert disj(s1, s2) == s\n",
    "    assert s in g\n",
    "    return g, s"
   ]
  },
  {
   "cell_type": "code",
   "execution_count": 332,
   "metadata": {},
   "outputs": [],
   "source": [
    "#%top\n",
    "or1_grammar, or1_start =  or_grammars(faulty1_grammar, faulty1_start, faulty2_grammar, faulty2_start)"
   ]
  },
  {
   "cell_type": "code",
   "execution_count": 333,
   "metadata": {
    "scrolled": false
   },
   "outputs": [
    {
     "name": "stdout",
     "output_type": "stream",
     "text": [
      "<start or(+F1,+F2)> ::=\n",
      "|    <expr or(+F1,+F2)>\n",
      "<expr or(+F1,+F2)> ::=\n",
      "|    <term or(+F1,+F2)>\n",
      "|    <term or(+F1,+F2)> ' + ' <expr>\n",
      "|    <term or(+F1,+F2)> ' - ' <expr>\n",
      "|    <term> ' + ' <expr or(+F1,+F2,L2_2)>\n",
      "|    <term> ' - ' <expr or(+F1,+F2)>\n",
      "<term or(+F1,+F2)> ::=\n",
      "|    <factor or(+F1,+F2)>\n",
      "|    <factor or(+F1,+F2)> ' * ' <term>\n",
      "|    <factor or(+F1,+F2)> ' / ' <term>\n",
      "|    <factor> ' * ' <term or(+F1,+F2)>\n",
      "|    <factor> ' / ' <term or(+F1,+F2)>\n",
      "<expr> ::=\n",
      "|    <term>\n",
      "|    <term> ' + ' <expr>\n",
      "|    <term> ' - ' <expr>\n",
      "<term> ::=\n",
      "|    <factor>\n",
      "|    <factor> ' * ' <term>\n",
      "|    <factor> ' / ' <term>\n",
      "<expr or(+F1,+F2,L2_2)> ::=\n",
      "|    <term or(+F1,+F2)>\n",
      "|    <term or(+F1,+F2)> ' + ' <expr>\n",
      "|    <term or(+F1,+F2)> ' - ' <expr>\n",
      "|    <term>\n",
      "|    <term> ' + ' <expr or(+F1,+F2,L2_2)>\n",
      "|    <term> ' - ' <expr or(+F1,+F2)>\n",
      "<factor or(+F1,+F2)> ::=\n",
      "|    '(' <expr or(+F1,+F2,L1_1)> ')'\n",
      "|    '+' <factor or(+F1,+F2)>\n",
      "|    '-' <factor or(+F1,+F2)>\n",
      "<factor> ::=\n",
      "|    '(' <expr> ')'\n",
      "|    '+' <factor>\n",
      "|    '-' <factor>\n",
      "|    <integer>\n",
      "|    <integer> '.' <integer>\n",
      "<expr or(+F1,+F2,L1_1)> ::=\n",
      "|    <term or(+F1,+F2)> ' + ' <expr>\n",
      "|    <term or(+F1,+F2)> ' - ' <expr>\n",
      "|    <term or(+F1,+F2,L1_1)>\n",
      "|    <term> ' + ' <expr or(+F1,+F2,L2_2)>\n",
      "|    <term> ' - ' <expr or(+F1,+F2)>\n",
      "<term or(+F1,+F2,L1_1)> ::=\n",
      "|    <factor or(+F1,+F2)> ' * ' <term>\n",
      "|    <factor or(+F1,+F2)> ' / ' <term>\n",
      "|    <factor or(+F1,+F2,L1_2)>\n",
      "|    <factor> ' * ' <term or(+F1,+F2)>\n",
      "|    <factor> ' / ' <term or(+F1,+F2)>\n",
      "<factor or(+F1,+F2,L1_2)> ::=\n",
      "|    '(' <expr or(+F1,+F2,L1_1)> ')'\n",
      "|    '(' <expr> ')'\n",
      "|    '+' <factor or(+F1,+F2)>\n",
      "|    '-' <factor or(+F1,+F2)>\n",
      "<integer> ::=\n",
      "|    <digit>\n",
      "|    <digit> <integer>\n",
      "<digit> ::=\n",
      "|    '0'\n",
      "|    '1'\n",
      "|    '2'\n",
      "|    '3'\n",
      "|    '4'\n",
      "|    '5'\n",
      "|    '6'\n",
      "|    '7'\n",
      "|    '8'\n",
      "|    '9'\n",
      "13 57\n"
     ]
    },
    {
     "data": {
      "text/plain": [
       "'<start or(+F1,+F2)>'"
      ]
     },
     "execution_count": 333,
     "metadata": {},
     "output_type": "execute_result"
    }
   ],
   "source": [
    "%%top\n",
    "Gs(or1_grammar)\n",
    "or1_start"
   ]
  },
  {
   "cell_type": "code",
   "execution_count": 334,
   "metadata": {},
   "outputs": [],
   "source": [
    "#%%top\n",
    "or1_fuzzer = LimitFuzzer(or1_grammar)\n",
    "or1_parser = Parser(or1_grammar, canonical=True, start_symbol=or1_start)"
   ]
  },
  {
   "cell_type": "code",
   "execution_count": 335,
   "metadata": {
    "scrolled": true
   },
   "outputs": [
    {
     "name": "stdout",
     "output_type": "stream",
     "text": [
      "+----(5 - 5.7 + 5) + 037.0 / 779 - 13.8 * ++(2.9 - 0.0) * +-5 / +0 - -+81.72 * 6 + 16.70 / -+8 / -4.7 / 3.6 * 7 + 9.79 / -0.7 * 6 / 5.4\n",
      "+((2) / (3) * (6.1) * 5 + (4 - 2) / -2.4 - 9 * 5 * 0) / 107.556 * 49 + -+(1.0 * 3.4) + -4.96 / +2 * 855.2 * 51.75 + +2.102 / --(4.1 + 8) * (9 + 2) * 1 / 7.4 / 6.3\n",
      "6 / (-(3 + 4) + (6 - 1.9) + 0 + 3.9 / 7.3 + 8.8) * 116 * -34 * -+1 * -(8.8) - -0 * +6.6113 * 7.2 + (07.22 / +8.8 / 3) * (8.2 / 4.9 - (2.9 + 8) * 0) / 1.42 / ++3.0 * +5.1 / 7 * 7.3 + (1.8) * +-8 * 46.5 + +(1.3 + 4) - 5.11 * 2 * 7 / 2\n",
      "35.1 / (-46.0 * +9.2 / +9.8 * 7.3 - (7.8) + 5 / 3) / 22 * --++3 / 8 * -+8 / 4 * 5.3 / 4 + -525.4 / +1502 / 9.5891 / -63.2 / -(5.1) * -4.9\n",
      "-++-(0.3 * 8 + (4.2 + 3) / 4.1 - 6.8) / 5 + 1571.4\n",
      "+(+28 + 09) * 16.0617 * (-9.7 / -7 - 4.3 + 5.2 + 1 + 2.1)\n",
      "49.9 * -(5.52 * 2.9 / 1.8 + (3) / 5 * (6 + 1)) / --++3.3 * (2 / 3 * 5.8 + 8.7 / 6 - 7 + 3.3) / +5 * +(3.4) - 1.28 / 3 / (+4.8 / 0 / 6 + 6) * 8.08\n",
      "-((5.5 / 6 - 0.8 - 4) / ((3.9)) * 8.4 * 2.9 / 8 + ++6.2 * -7.0 * 6.2) / +-((1) + 9.8 / 4)\n",
      "--(++4 / -(2.6 + 2.4) * 9.9 * 6) * 53753 / -4.878 / --82.5 / 3 * (8)\n",
      "+(383 - (4) - 3.2 - 3 - 5.5 - 2.3) * +((2) * +3.2 - +3 * (3 + 2.0) * 9.8) - +-(+3.4 / 5.9) * +(+7 / 2 - 9.3 * 3 + 6.0) / (1.7 / 0.4 * 1 - 0.0 * 3) + -45.12 / (+6.6 / 3.6 - 9 * 2.6) + 34.79 * ++-6\n"
     ]
    }
   ],
   "source": [
    "%%top\n",
    "for i in range(10):\n",
    "    s = or1_fuzzer.fuzz(key=or1_start)\n",
    "    print(s)\n",
    "    assert or1_parser.can_parse(s)\n",
    "    if not faulty1_parser.can_parse(s):\n",
    "        assert faulty2_parser.can_parse(s)\n",
    "    elif not faulty2_parser.can_parse(s):\n",
    "        assert faulty1_parser.can_parse(s)\n",
    "    else:\n",
    "        assert and1_parser.can_parse(s)"
   ]
  },
  {
   "cell_type": "markdown",
   "metadata": {},
   "source": [
    "## Negation (self)"
   ]
  },
  {
   "cell_type": "code",
   "execution_count": 336,
   "metadata": {},
   "outputs": [
    {
     "data": {
      "text/plain": [
       "[]"
      ]
     },
     "execution_count": 336,
     "metadata": {},
     "output_type": "execute_result"
    }
   ],
   "source": [
    "EXCEPTION_HAPPENED"
   ]
  },
  {
   "cell_type": "markdown",
   "metadata": {},
   "source": [
    "Negation is approached in a fundamentally different way to inserting faults. First, we do not know what the key that when include, will cause the fault. So, there is no reachability check. On the other hand, we do know the prefix. It is the refinement of the _<start>_ symbol of the grammar to be negated.\n",
    "\n",
    "What we need to do for any key is to negate it (consider that we do not have strict non-redundancy requirement between rules so long as they have same base pattern), which means negating the individual rules, we need to move from `neg(rule1 or rule 2 or rule3)` to `neg(rule1) and neg(rule2) and neg(rule3)` where the base patterns of three rules are same.\n",
    "\n",
    "Now, how to negate a given rule: Take any given rule. All the base nonterminal symbols have to be negated in the sense that we have to somehow make them not reach the fault with the same prefix as `<start>`. This can be done using the reconstruct_key. Next, all refined symbols have to be negated against themselves."
   ]
  },
  {
   "cell_type": "code",
   "execution_count": 337,
   "metadata": {},
   "outputs": [],
   "source": [
    "%%top\n",
    "def_F = [\n",
    " ['<T +F1>', ' + ', '<S>', '<Q>'],\n",
    " ['<T>', ' + ', '<S +F1>', '<Q>']]"
   ]
  },
  {
   "cell_type": "code",
   "execution_count": 338,
   "metadata": {},
   "outputs": [],
   "source": [
    "%%top\n",
    "ndef_F = [['<T neg(+F1)>', ' + ', '<S neg(+F1)>', '<Q>']]"
   ]
  },
  {
   "cell_type": "code",
   "execution_count": 339,
   "metadata": {},
   "outputs": [],
   "source": [
    "%%top\n",
    "ndef = normalize_grammar({'<x>': def_F})['<x>']"
   ]
  },
  {
   "cell_type": "code",
   "execution_count": 340,
   "metadata": {},
   "outputs": [],
   "source": [
    "%top assert ndef == [('<T>', ' + ', '<S>', '<Q>')]"
   ]
  },
  {
   "cell_type": "code",
   "execution_count": 341,
   "metadata": {},
   "outputs": [],
   "source": [
    "def find_base_and_refined_positions(refined_rule):\n",
    "    refined_pos = []\n",
    "    base_pos = []\n",
    "    refinements = []\n",
    "    for i, t in enumerate(refined_rule):\n",
    "        if not is_nt(t):\n",
    "            t_ = t # terminal\n",
    "        elif is_base_key(t):\n",
    "            t_ = t\n",
    "            base_pos.append(i)\n",
    "        elif is_refined_key(t):\n",
    "            t_ = t\n",
    "            refined_pos.append(i)\n",
    "        else:\n",
    "            assert False\n",
    "    return base_pos, refined_pos"
   ]
  },
  {
   "cell_type": "code",
   "execution_count": 342,
   "metadata": {},
   "outputs": [],
   "source": [
    "def negate_a_rule(refined_rule, log=False):\n",
    "    _base_pos, refined_pos = find_base_and_refined_positions(refined_rule)\n",
    "    refinements = []\n",
    " \n",
    "    # now, take refined, one at a time, and negate them, while changing all other\n",
    "    # refined to base.\n",
    "    negated_rules = []\n",
    "    for pos in refined_pos:\n",
    "        new_rule = [negate_key(t) if pos == i else\n",
    "                    (normalize(t) if i in refined_pos else t)\n",
    "                    for i,t in enumerate(refined_rule)]\n",
    "        negated_rules.append(new_rule)\n",
    "        refinements.append(new_rule[pos])\n",
    "    return negated_rules, refinements"
   ]
  },
  {
   "cell_type": "markdown",
   "metadata": {},
   "source": [
    "Negation of `def_F[0]` should result in only the refined token being negated."
   ]
  },
  {
   "cell_type": "code",
   "execution_count": 343,
   "metadata": {},
   "outputs": [],
   "source": [
    "%%top\n",
    "neg_def_F_0, rfs = negate_a_rule(def_F[0], ndef[0]);\n",
    "assert neg_def_F_0 == [['<T neg(+F1)>', ' + ', '<S>', '<Q>']]"
   ]
  },
  {
   "cell_type": "code",
   "execution_count": 344,
   "metadata": {},
   "outputs": [],
   "source": [
    "%%top\n",
    "nndef_F_0, rfs = negate_a_rule(ndef_F[0], ndef[0])"
   ]
  },
  {
   "cell_type": "code",
   "execution_count": 345,
   "metadata": {},
   "outputs": [],
   "source": [
    "%%top\n",
    "assert nndef_F_0 == [['<T +F1>', ' + ', '<S>', '<Q>'],\n",
    "                     ['<T>', ' + ', '<S +F1>', '<Q>']]"
   ]
  },
  {
   "cell_type": "markdown",
   "metadata": {},
   "source": [
    "For negating a rule, we negate all base keys at the same time, but refined keys one at a time. This is because a rule could be like  `[<1,2,3,4,5>, <6,7,8,9,0>]` and a refinement could be `[<2,4>, <6,8,0>]`. The idea of negation of a rule is that a string that gets produced by the first should not be repeated in the second. Hence, the negation of this should be `[<1,2,3,4,5>, <7,9>] | [<1,3,5>, <6,7,8,9,0>]`. That is, refinement is removed in other refined keys."
   ]
  },
  {
   "cell_type": "code",
   "execution_count": 346,
   "metadata": {},
   "outputs": [],
   "source": [
    "def negate_ruleset(refined_rules, log=False):\n",
    "    refinements = []\n",
    "    # Given the set of fules, we take one rule at a time,\n",
    "    # and genrate the negated ruleset from that.\n",
    "    negated_rules = []\n",
    "    if log: print('> refined:', len(refined_rules))\n",
    "    for ruleR in refined_rules:\n",
    "        neg_rules, refs = negate_a_rule(ruleR, log)\n",
    "        negated_rules.append(neg_rules)\n",
    "        refinements.extend(refs)\n",
    "    return negated_rules, refinements"
   ]
  },
  {
   "cell_type": "markdown",
   "metadata": {},
   "source": [
    "Negation of rule set should only affect the refined keys."
   ]
  },
  {
   "cell_type": "code",
   "execution_count": 347,
   "metadata": {},
   "outputs": [],
   "source": [
    "%%top\n",
    "neg_def_F_rs, rfs = negate_ruleset(def_F)\n",
    "assert neg_def_F_rs == [\n",
    "    [['<T neg(+F1)>', ' + ', '<S>', '<Q>']],\n",
    "    [['<T>', ' + ', '<S neg(+F1)>', '<Q>']]]"
   ]
  },
  {
   "cell_type": "code",
   "execution_count": 348,
   "metadata": {},
   "outputs": [],
   "source": [
    "%%top\n",
    "nndef_F, rfs = negate_ruleset(ndef_F)"
   ]
  },
  {
   "cell_type": "code",
   "execution_count": 349,
   "metadata": {},
   "outputs": [],
   "source": [
    "%%top\n",
    "assert nndef_F == [[['<T +F1>', ' + ', '<S>', '<Q>'],\n",
    "                    ['<T>', ' + ', '<S +F1>', '<Q>']]]"
   ]
  },
  {
   "cell_type": "code",
   "execution_count": 350,
   "metadata": {},
   "outputs": [],
   "source": [
    "def multi_and_rules(rules):\n",
    "    r1 = [rules[0]]\n",
    "    refinements = []\n",
    "    if len(rules) == 1:\n",
    "        return r1[0], []\n",
    "    for r in rules[1:]:\n",
    "        r1, refs = and_rules(r1, [r])\n",
    "        assert len(r1) == 1\n",
    "        refinements.extend(refs)\n",
    "    assert len(r1) == 1\n",
    "    return r1[0], refinements"
   ]
  },
  {
   "cell_type": "markdown",
   "metadata": {},
   "source": [
    "Negate definition"
   ]
  },
  {
   "cell_type": "code",
   "execution_count": 351,
   "metadata": {},
   "outputs": [],
   "source": [
    "def negate_definition(refined_rules, base_rules, log):\n",
    "    new_rulesB = []\n",
    "    new_refs = []\n",
    "    refined_rulesets = get_rulesets(refined_rules)\n",
    "    for base_rule in base_rules:\n",
    "        # identify refined rules that match the base rule template\n",
    "        refined_rules_p = refined_rulesets.get(tuple(base_rule), [])\n",
    "        if not refined_rules_p:\n",
    "            # if there are no matching refined rules, that means this base rule\n",
    "            # was never used in the original grammar, hence it can be used in\n",
    "            # negated grammar.\n",
    "            new_rulesB.append(base_rule)\n",
    "            continue\n",
    "        \n",
    "        neg_rulesB, refs1 = negate_ruleset(refined_rules_p, log)\n",
    "        new_refs.extend(refs1)\n",
    "        if log: print('negate_ruleset:', len(neg_rulesB))\n",
    " \n",
    "        # Now, the idea is to do a `product` of each item in\n",
    "        # neg_rulesB with every other item. Each item has multiple\n",
    "        # rules in them, where one refinement is negated. So combining\n",
    "        # that with others of similar kind using `and` should produce\n",
    "        # a negated output.\n",
    "        \n",
    "        # Note that `refined_rules_p` are from the exact same pattern.\n",
    "        # now, we have negations of all rules. We need to compute `and` of similar\n",
    "        for m_rulesB in I.product(*neg_rulesB):\n",
    "            r, ref = multi_and_rules(m_rulesB)\n",
    "            new_rulesB.append(r)\n",
    "            new_refs.extend(ref)\n",
    "        \n",
    "    return new_rulesB, new_refs"
   ]
  },
  {
   "cell_type": "markdown",
   "metadata": {},
   "source": [
    "Negating the original rule should result in this."
   ]
  },
  {
   "cell_type": "code",
   "execution_count": 352,
   "metadata": {},
   "outputs": [],
   "source": [
    "%top neg_def_F, rfs = negate_definition(def_F, ndef, False)"
   ]
  },
  {
   "cell_type": "code",
   "execution_count": 353,
   "metadata": {},
   "outputs": [
    {
     "data": {
      "text/plain": [
       "[['<T neg(+F1)>', ' + ', '<S neg(+F1)>', '<Q>']]"
      ]
     },
     "execution_count": 353,
     "metadata": {},
     "output_type": "execute_result"
    }
   ],
   "source": [
    "%top neg_def_F"
   ]
  },
  {
   "cell_type": "code",
   "execution_count": 354,
   "metadata": {},
   "outputs": [],
   "source": [
    "#assert neg_def_F == [['<T neg(+F1)>', ' + ', '<S>', '<Q>'],\n",
    "#                     ['<T>', ' + ', '<S neg(+F1)>', '<Q>']]"
   ]
  },
  {
   "cell_type": "markdown",
   "metadata": {},
   "source": [
    "base:\n",
    "```\n",
    "[(1|2) (1|2)]\n",
    "```\n",
    "\n",
    "refined:\n",
    "```\n",
    "[(1)  (1|2)]   --> 1,2\n",
    "[(1|2) (1)     --> 1,1\n",
    "```\n",
    "\n",
    "negated:\n",
    "```\n",
    "[(2) (1|2)]\n",
    "[(1|2) (2)     --> 1,2\n",
    "```"
   ]
  },
  {
   "cell_type": "code",
   "execution_count": 355,
   "metadata": {},
   "outputs": [],
   "source": [
    "%top assert neg_def_F == [['<T neg(+F1)>', ' + ', '<S neg(+F1)>', '<Q>']]"
   ]
  },
  {
   "cell_type": "markdown",
   "metadata": {},
   "source": [
    "Now, negating the negation should result in the fault back"
   ]
  },
  {
   "cell_type": "code",
   "execution_count": 356,
   "metadata": {},
   "outputs": [
    {
     "name": "stdout",
     "output_type": "stream",
     "text": [
      "> refined: 1\n",
      "negate_ruleset: 1\n"
     ]
    }
   ],
   "source": [
    "%top neg_neg_def_F, rfs = negate_definition(neg_def_F, ndef, True)"
   ]
  },
  {
   "cell_type": "code",
   "execution_count": 357,
   "metadata": {},
   "outputs": [
    {
     "data": {
      "text/plain": [
       "[['<T +F1>', ' + ', '<S>', '<Q>'], ['<T>', ' + ', '<S +F1>', '<Q>']]"
      ]
     },
     "execution_count": 357,
     "metadata": {},
     "output_type": "execute_result"
    }
   ],
   "source": [
    "%top neg_neg_def_F"
   ]
  },
  {
   "cell_type": "markdown",
   "metadata": {},
   "source": [
    "IDEA: Do not and rules produced from exploding the same rule. Instead, pair them up."
   ]
  },
  {
   "cell_type": "code",
   "execution_count": 358,
   "metadata": {},
   "outputs": [
    {
     "data": {
      "text/plain": [
       "[['<T +F1>', ' + ', '<S>', '<Q>'], ['<T>', ' + ', '<S +F1>', '<Q>']]"
      ]
     },
     "execution_count": 358,
     "metadata": {},
     "output_type": "execute_result"
    }
   ],
   "source": [
    "%top def_F"
   ]
  },
  {
   "cell_type": "code",
   "execution_count": 359,
   "metadata": {},
   "outputs": [],
   "source": [
    "%%top\n",
    "assert neg_neg_def_F == def_F"
   ]
  },
  {
   "cell_type": "code",
   "execution_count": 360,
   "metadata": {},
   "outputs": [],
   "source": [
    "def negate_grammar_(refined_grammar, refined_start, base_grammar, base_start, log=False):\n",
    "    combined_g = {**base_grammar, **refined_grammar}\n",
    "    refinements = []\n",
    "    for r_key in refined_grammar:\n",
    "        if log: print('>>', r_key)\n",
    "        if is_base_key(r_key): continue # negation of base key is empty set.\n",
    "        dk = negate_key(r_key)\n",
    "        if dk in combined_g: continue\n",
    "        if log: print('gdefine[:', dk)\n",
    "        nk = normalize(r_key)\n",
    "        rules,refs = negate_definition(refined_grammar[r_key],\n",
    "                                       base_grammar[nk], log)\n",
    "        combined_g[dk] = rules\n",
    "        if not rules: # no refinement\n",
    "            if log: print('No rules for:', dk, 'O:', r_key, 'unreachable?')\n",
    "            continue\n",
    "        refinements.extend(refs)\n",
    "        if log: print('gdefined]:', dk, combined_g[dk])\n",
    "    return combined_g, negate_key(refined_start), refinements"
   ]
  },
  {
   "cell_type": "code",
   "execution_count": 361,
   "metadata": {},
   "outputs": [],
   "source": [
    "def negate_grammar(rg, rs, bg, bs, log=False):\n",
    "    g_, s, r = negate_grammar_(rg, rs, bg, bs, log)\n",
    "    g = complete(g_, s)\n",
    "    assert negate_key(rs) == s\n",
    "    assert s in g\n",
    "    return g, s"
   ]
  },
  {
   "cell_type": "code",
   "execution_count": 362,
   "metadata": {},
   "outputs": [
    {
     "name": "stdout",
     "output_type": "stream",
     "text": [
      "<start +F1> ::=\n",
      "|    <expr +F1>\n",
      "<expr +F1> ::=\n",
      "|    <term +F1>\n",
      "|    <term +F1> ' + ' <expr>\n",
      "|    <term +F1> ' - ' <expr>\n",
      "|    <term> ' + ' <expr +F1>\n",
      "|    <term> ' - ' <expr +F1>\n",
      "<term +F1> ::=\n",
      "|    <factor +F1>\n",
      "|    <factor +F1> ' * ' <term>\n",
      "|    <factor +F1> ' / ' <term>\n",
      "|    <factor> ' * ' <term +F1>\n",
      "|    <factor> ' / ' <term +F1>\n",
      "<expr> ::=\n",
      "|    <term>\n",
      "|    <term> ' + ' <expr>\n",
      "|    <term> ' - ' <expr>\n",
      "<term> ::=\n",
      "|    <factor>\n",
      "|    <factor> ' * ' <term>\n",
      "|    <factor> ' / ' <term>\n",
      "<factor +F1> ::=\n",
      "|    '(' <expr +F1> ')'\n",
      "|    '(' <expr L1_1> ')'\n",
      "|    '+' <factor +F1>\n",
      "|    '-' <factor +F1>\n",
      "<factor> ::=\n",
      "|    '(' <expr> ')'\n",
      "|    '+' <factor>\n",
      "|    '-' <factor>\n",
      "|    <integer>\n",
      "|    <integer> '.' <integer>\n",
      "<expr L1_1> ::=\n",
      "|    <term L1_1>\n",
      "<term L1_1> ::=\n",
      "|    <factor L1_2>\n",
      "<factor L1_2> ::=\n",
      "|    '(' <expr> ')'\n",
      "<integer> ::=\n",
      "|    <digit>\n",
      "|    <digit> <integer>\n",
      "<digit> ::=\n",
      "|    '0'\n",
      "|    '1'\n",
      "|    '2'\n",
      "|    '3'\n",
      "|    '4'\n",
      "|    '5'\n",
      "|    '6'\n",
      "|    '7'\n",
      "|    '8'\n",
      "|    '9'\n",
      "12 41\n"
     ]
    }
   ],
   "source": [
    "%%top\n",
    "Gs(faulty1_grammar)"
   ]
  },
  {
   "cell_type": "code",
   "execution_count": 363,
   "metadata": {},
   "outputs": [],
   "source": [
    "#%%top\n",
    "# faulty1_grammar is an atleast one fault grammar.\n",
    "negfaulty1_grammar, negfaulty1_start = negate_grammar(faulty1_grammar, faulty1_start, EXPR_GRAMMAR, EXPR_START)"
   ]
  },
  {
   "cell_type": "code",
   "execution_count": 364,
   "metadata": {
    "scrolled": false
   },
   "outputs": [
    {
     "name": "stdout",
     "output_type": "stream",
     "text": [
      "<start neg(+F1)> ::=\n",
      "|    <expr neg(+F1)>\n",
      "<expr neg(+F1)> ::=\n",
      "|    <term neg(+F1)>\n",
      "|    <term neg(+F1)> ' + ' <expr neg(+F1)>\n",
      "|    <term neg(+F1)> ' - ' <expr neg(+F1)>\n",
      "<term neg(+F1)> ::=\n",
      "|    <factor neg(+F1)>\n",
      "|    <factor neg(+F1)> ' * ' <term neg(+F1)>\n",
      "|    <factor neg(+F1)> ' / ' <term neg(+F1)>\n",
      "<factor neg(+F1)> ::=\n",
      "|    '(' <expr and(neg(+F1),neg(L1_1))> ')'\n",
      "|    '+' <factor neg(+F1)>\n",
      "|    '-' <factor neg(+F1)>\n",
      "|    <integer>\n",
      "|    <integer> '.' <integer>\n",
      "<expr and(neg(+F1),neg(L1_1))> ::=\n",
      "|    <term and(neg(+F1),neg(L1_1))>\n",
      "|    <term neg(+F1)> ' + ' <expr neg(+F1)>\n",
      "|    <term neg(+F1)> ' - ' <expr neg(+F1)>\n",
      "<integer> ::=\n",
      "|    <digit>\n",
      "|    <digit> <integer>\n",
      "<term and(neg(+F1),neg(L1_1))> ::=\n",
      "|    <factor and(neg(+F1),neg(L1_2))>\n",
      "|    <factor neg(+F1)> ' * ' <term neg(+F1)>\n",
      "|    <factor neg(+F1)> ' / ' <term neg(+F1)>\n",
      "<factor and(neg(+F1),neg(L1_2))> ::=\n",
      "|    '+' <factor neg(+F1)>\n",
      "|    '-' <factor neg(+F1)>\n",
      "|    <integer>\n",
      "|    <integer> '.' <integer>\n",
      "<digit> ::=\n",
      "|    '0'\n",
      "|    '1'\n",
      "|    '2'\n",
      "|    '3'\n",
      "|    '4'\n",
      "|    '5'\n",
      "|    '6'\n",
      "|    '7'\n",
      "|    '8'\n",
      "|    '9'\n",
      "9 34\n"
     ]
    },
    {
     "data": {
      "text/plain": [
       "'<start neg(+F1)>'"
      ]
     },
     "execution_count": 364,
     "metadata": {},
     "output_type": "execute_result"
    }
   ],
   "source": [
    "%%top\n",
    "Gs(negfaulty1_grammar)\n",
    "negfaulty1_start"
   ]
  },
  {
   "cell_type": "code",
   "execution_count": 365,
   "metadata": {},
   "outputs": [],
   "source": [
    "#%%top\n",
    "negfaulty1_fuzzer = LimitFuzzer(negfaulty1_grammar)\n",
    "negfaulty1_parser = Parser(negfaulty1_grammar, canonical=True, start_symbol=negfaulty1_start)"
   ]
  },
  {
   "cell_type": "code",
   "execution_count": 366,
   "metadata": {},
   "outputs": [
    {
     "name": "stdout",
     "output_type": "stream",
     "text": [
      "(-5.3 / (0 * 0 - 4.5 - 0) / +8.6 * 1.1 * 0.0 * 5 - -(5 - 7) / -3.0 / +0 / 4 + 6 / -1.3 * 6) - +(++9 + 0.1) - +2.60 / 942 * 756 / 53.6 / (2) / 4 / 7.8 + (-6 / 9.5 * 6.2 + 1.9 + 7 + 3.8) * 6.0 - -(2.3 - 3.7) / 07 / (7.9) - ++6.4 - +9.4\n",
      "5 / 211069.50\n",
      "1 / 3722 / -20.62 * 73 / 1 - +2 * ++126 * --76 * -+2\n",
      "+64\n",
      "49 / 893 + 33.73 - (0.96 / 2 * 5.0 - (6) + 8.8 + 1.2 + 1) * 52.417 * (8.6 - 9.5 + 8.1) / -5 - -8.029 / 9.853 - -5 / 20\n",
      "863.9 / -7.5 * (-5.4 / -6.9 * 5.5 * 8.8 + 1.0 + 7.4) - (-(2 - 6) + 59 * +6.0 * 0.8 / 6.2)\n",
      "++9.81\n",
      "-((0 * 7) - +-5.8 * 9.5 * 9) * --(4.9 - 4.1 / 8) + -(-1.6 / +0 * 4) - (18.1) * +252 * (2 - 0.0) * 86 / -3.5 / 4 * 1.8\n",
      "2.09\n",
      "+72.0 / 6.8 / --(2.1 + 8.7) / 2 * 9.2 / 3\n"
     ]
    }
   ],
   "source": [
    "%%top\n",
    "for i in range(10):\n",
    "    s = negfaulty1_fuzzer.fuzz(key=negfaulty1_start)\n",
    "    print(s)\n",
    "    assert negfaulty1_parser.can_parse(s)\n",
    "    assert not faulty1_parser.can_parse(s)"
   ]
  },
  {
   "cell_type": "code",
   "execution_count": 367,
   "metadata": {},
   "outputs": [],
   "source": [
    "%%top\n",
    "v = '((1))'\n",
    "assert not negfaulty1_parser.can_parse(v)"
   ]
  },
  {
   "cell_type": "code",
   "execution_count": 368,
   "metadata": {
    "scrolled": false
   },
   "outputs": [],
   "source": [
    "#%%top\n",
    "negnegfaulty1_grammar, negnegfaulty1_start = negate_grammar(negfaulty1_grammar, negfaulty1_start, EXPR_GRAMMAR, EXPR_START)"
   ]
  },
  {
   "cell_type": "code",
   "execution_count": 369,
   "metadata": {},
   "outputs": [
    {
     "name": "stdout",
     "output_type": "stream",
     "text": [
      "<start +F1> ::=\n",
      "|    <expr +F1>\n",
      "<expr +F1> ::=\n",
      "|    <term +F1>\n",
      "|    <term +F1> ' + ' <expr>\n",
      "|    <term +F1> ' - ' <expr>\n",
      "|    <term> ' + ' <expr +F1>\n",
      "|    <term> ' - ' <expr +F1>\n",
      "<term +F1> ::=\n",
      "|    <factor +F1>\n",
      "|    <factor +F1> ' * ' <term>\n",
      "|    <factor +F1> ' / ' <term>\n",
      "|    <factor> ' * ' <term +F1>\n",
      "|    <factor> ' / ' <term +F1>\n",
      "<expr> ::=\n",
      "|    <term>\n",
      "|    <term> ' + ' <expr>\n",
      "|    <term> ' - ' <expr>\n",
      "<term> ::=\n",
      "|    <factor>\n",
      "|    <factor> ' * ' <term>\n",
      "|    <factor> ' / ' <term>\n",
      "<factor +F1> ::=\n",
      "|    '(' <expr or(+F1,L1_1)> ')'\n",
      "|    '+' <factor +F1>\n",
      "|    '-' <factor +F1>\n",
      "<factor> ::=\n",
      "|    '(' <expr> ')'\n",
      "|    '+' <factor>\n",
      "|    '-' <factor>\n",
      "|    <integer>\n",
      "|    <integer> '.' <integer>\n",
      "<expr or(+F1,L1_1)> ::=\n",
      "|    <term +F1> ' + ' <expr>\n",
      "|    <term +F1> ' - ' <expr>\n",
      "|    <term or(+F1,L1_1)>\n",
      "|    <term> ' + ' <expr +F1>\n",
      "|    <term> ' - ' <expr +F1>\n",
      "<term or(+F1,L1_1)> ::=\n",
      "|    <factor +F1> ' * ' <term>\n",
      "|    <factor +F1> ' / ' <term>\n",
      "|    <factor or(+F1,L1_2)>\n",
      "|    <factor> ' * ' <term +F1>\n",
      "|    <factor> ' / ' <term +F1>\n",
      "<factor or(+F1,L1_2)> ::=\n",
      "|    '(' <expr> ')'\n",
      "|    '+' <factor +F1>\n",
      "|    '-' <factor +F1>\n",
      "<integer> ::=\n",
      "|    <digit>\n",
      "|    <digit> <integer>\n",
      "<digit> ::=\n",
      "|    '0'\n",
      "|    '1'\n",
      "|    '2'\n",
      "|    '3'\n",
      "|    '4'\n",
      "|    '5'\n",
      "|    '6'\n",
      "|    '7'\n",
      "|    '8'\n",
      "|    '9'\n",
      "12 50\n"
     ]
    },
    {
     "data": {
      "text/plain": [
       "'<start +F1>'"
      ]
     },
     "execution_count": 369,
     "metadata": {},
     "output_type": "execute_result"
    }
   ],
   "source": [
    "%%top\n",
    "Gs(negnegfaulty1_grammar)\n",
    "negnegfaulty1_start"
   ]
  },
  {
   "cell_type": "code",
   "execution_count": 370,
   "metadata": {},
   "outputs": [],
   "source": [
    "#%%top\n",
    "negnegfaulty1_fuzzer = LimitFuzzer(negnegfaulty1_grammar)\n",
    "negnegfaulty1_parser = Parser(negnegfaulty1_grammar, canonical=True, start_symbol=negnegfaulty1_start)"
   ]
  },
  {
   "cell_type": "code",
   "execution_count": 371,
   "metadata": {},
   "outputs": [],
   "source": [
    "%%top\n",
    "assert negnegfaulty1_parser.can_parse('((1))')"
   ]
  },
  {
   "cell_type": "code",
   "execution_count": 372,
   "metadata": {},
   "outputs": [],
   "source": [
    "%%top\n",
    "assert not negnegfaulty1_parser.can_parse('1')"
   ]
  },
  {
   "cell_type": "code",
   "execution_count": 373,
   "metadata": {
    "scrolled": false
   },
   "outputs": [],
   "source": [
    "#%%top\n",
    "negfaulty2_grammar, negfaulty2_start = negate_grammar(faulty2_grammar, faulty2_start, EXPR_GRAMMAR, EXPR_START)"
   ]
  },
  {
   "cell_type": "code",
   "execution_count": 374,
   "metadata": {},
   "outputs": [
    {
     "data": {
      "image/png": "[encoded data removed]",
      "text/plain": [
       "<IPython.core.display.Image object>"
      ]
     },
     "execution_count": 374,
     "metadata": {},
     "output_type": "execute_result"
    }
   ],
   "source": [
    "%top Da(Ft2)"
   ]
  },
  {
   "cell_type": "code",
   "execution_count": 375,
   "metadata": {},
   "outputs": [
    {
     "name": "stdout",
     "output_type": "stream",
     "text": [
      "<start +F2> ::=\n",
      "|    <expr +F2>\n",
      "<expr +F2> ::=\n",
      "|    <term +F2>\n",
      "|    <term +F2> ' + ' <expr>\n",
      "|    <term +F2> ' - ' <expr>\n",
      "|    <term> ' + ' <expr +F2>\n",
      "|    <term> ' + ' <expr L2_2>\n",
      "|    <term> ' - ' <expr +F2>\n",
      "<term +F2> ::=\n",
      "|    <factor +F2>\n",
      "|    <factor +F2> ' * ' <term>\n",
      "|    <factor +F2> ' / ' <term>\n",
      "|    <factor> ' * ' <term +F2>\n",
      "|    <factor> ' / ' <term +F2>\n",
      "<expr> ::=\n",
      "|    <term>\n",
      "|    <term> ' + ' <expr>\n",
      "|    <term> ' - ' <expr>\n",
      "<term> ::=\n",
      "|    <factor>\n",
      "|    <factor> ' * ' <term>\n",
      "|    <factor> ' / ' <term>\n",
      "<expr L2_2> ::=\n",
      "|    <term>\n",
      "<factor +F2> ::=\n",
      "|    '(' <expr +F2> ')'\n",
      "|    '+' <factor +F2>\n",
      "|    '-' <factor +F2>\n",
      "<factor> ::=\n",
      "|    '(' <expr> ')'\n",
      "|    '+' <factor>\n",
      "|    '-' <factor>\n",
      "|    <integer>\n",
      "|    <integer> '.' <integer>\n",
      "<integer> ::=\n",
      "|    <digit>\n",
      "|    <digit> <integer>\n",
      "<digit> ::=\n",
      "|    '0'\n",
      "|    '1'\n",
      "|    '2'\n",
      "|    '3'\n",
      "|    '4'\n",
      "|    '5'\n",
      "|    '6'\n",
      "|    '7'\n",
      "|    '8'\n",
      "|    '9'\n",
      "10 39\n"
     ]
    }
   ],
   "source": [
    "%top Gs(faulty2_grammar)"
   ]
  },
  {
   "cell_type": "code",
   "execution_count": 376,
   "metadata": {},
   "outputs": [],
   "source": [
    "%%top\n",
    "negfaulty2_fuzzer = LimitFuzzer(negfaulty2_grammar)\n",
    "negfaulty2_parser = Parser(negfaulty2_grammar, canonical=True, start_symbol=negfaulty2_start)"
   ]
  },
  {
   "cell_type": "code",
   "execution_count": 377,
   "metadata": {},
   "outputs": [
    {
     "name": "stdout",
     "output_type": "stream",
     "text": [
      "9\n",
      "8.7 * (+-(6) * (5) + 6.0 / +3 * 7 * 9.5 - -0 / 6.8 / 5 + 1.4 - 2.9 - 9.5) * -5 - -+-(4 - 6 + 4 - 5.1) * +-29.977 * -(3.7 * 9 - 3 - 1.8) / 9 - +(8 + 8 / 4.6 - 3 - 6.5) / (+7.0 / 7 + 6 / 0.9 + 7 + 0 - 8) / 67 * 31 * +9 + 284.465 * 33 / 50.1 * 8.4 + (8.8 / 0.7) * 6.7 / 0.9 * 2 * 8 + +4.2 + 4 - 5.5\n",
      "4.633 / 71092 * 21.7 / 75 / 095.29 * +0.9 * -8.5 + ((1 / 8) - -(6)) + +(+0.9 * 4 * 3.0) + 30.6497 * 15 + 6.6 / +3.6 / 7 + (3.0 + 7 - 9.4) / 2.9 / 1.8 / 8.6 - -1.6 * 7 / 7.5 + 0.8 - 6 - 3.0\n",
      "683 - 7 - ((3 - 6) / -6.6 * 0.2 + -7 / 9 + 9.3 / 6.9 - 3.7 - 3.1) / 445.1 / 14.73 / 77.4 * -5.9 / 7 * 0.4 + 6400 + -2.01 + 6.98 / +8 / 8.1 + 7.5 + 8 * 6.6 - 5.4 + 5.0 - 5.0\n",
      "-9487 / 5 * ((8 + 8 - 7.0) / 9.4 * 5.2 * 3) / 40.55\n",
      "324.0\n",
      "-(1.160) / (5 / +(2.0) * -4 / 0.0 / 4) * +-(0.1)\n",
      "816 / -5 / 886.4 * +9.3 * -4 * (8.3 - 4) - +9\n",
      "+92.075 / 539857 / -52\n",
      "+-7 * 6.8 * -3.5 - (045.1 * 89.37 / (6) - 3)\n"
     ]
    }
   ],
   "source": [
    "%%top\n",
    "for i in range(10):\n",
    "    s = negfaulty2_fuzzer.fuzz(key=negfaulty2_start)\n",
    "    print(s)\n",
    "    assert negfaulty2_parser.can_parse(s)\n",
    "    assert not faulty2_parser.can_parse(s)"
   ]
  },
  {
   "cell_type": "code",
   "execution_count": 378,
   "metadata": {},
   "outputs": [],
   "source": [
    "%%top\n",
    "negfaulty3_grammar, negfaulty3_start = negate_grammar(and1_grammar, and1_start, EXPR_GRAMMAR, EXPR_START)"
   ]
  },
  {
   "cell_type": "code",
   "execution_count": 379,
   "metadata": {},
   "outputs": [
    {
     "name": "stdout",
     "output_type": "stream",
     "text": [
      "<start or(neg(+F1),neg(+F2))> ::=\n",
      "|    <expr or(neg(+F1),neg(+F2))>\n",
      "<expr or(neg(+F1),neg(+F2))> ::=\n",
      "|    <term and(neg(+F1),neg(+F2))> ' + ' <expr or(and(neg(+F1),neg(+F2)),and(neg(+F1),neg(+F2),neg(L2_2)),and(neg(+F2),neg(L2_2)))>\n",
      "|    <term and(neg(+F1),neg(+F2))> ' + ' <expr or(and(neg(+F1),neg(+F2)),and(neg(+F1),neg(L2_2)),and(neg(+F2),neg(L2_2)),neg(+F1))>\n",
      "|    <term and(neg(+F1),neg(+F2))> ' + ' <expr or(and(neg(+F1),neg(+F2),neg(L2_2)),and(neg(+F1),neg(L2_2)),and(neg(+F2),neg(L2_2)))>\n",
      "|    <term and(neg(+F1),neg(+F2))> ' - ' <expr or(neg(+F1),neg(+F2))>\n",
      "|    <term or(and(neg(+F1),neg(+F2)),neg(+F1))> ' + ' <expr or(and(neg(+F1),neg(+F2)),and(neg(+F1),neg(+F2),neg(L2_2)))>\n",
      "|    <term or(and(neg(+F1),neg(+F2)),neg(+F1))> ' + ' <expr or(and(neg(+F1),neg(+F2)),and(neg(+F1),neg(+F2),neg(L2_2)),and(neg(+F1),neg(L2_2)),neg(+F1))>\n",
      "|    <term or(and(neg(+F1),neg(+F2)),neg(+F1))> ' + ' <expr or(and(neg(+F1),neg(+F2),neg(L2_2)),and(neg(+F1),neg(L2_2)))>\n",
      "|    <term or(and(neg(+F1),neg(+F2)),neg(+F1))> ' - ' <expr or(and(neg(+F1),neg(+F2)),neg(+F1))>\n",
      "|    <term or(and(neg(+F1),neg(+F2)),neg(+F2))> ' + ' <expr or(and(neg(+F1),neg(+F2),neg(L2_2)),and(neg(+F2),neg(L2_2)))>\n",
      "|    <term or(and(neg(+F1),neg(+F2)),neg(+F2))> ' - ' <expr or(and(neg(+F1),neg(+F2)),neg(+F2))>\n",
      "|    <term or(neg(+F1),neg(+F2))>\n",
      "|    <term or(neg(+F1),neg(+F2))> ' + ' <expr and(neg(+F1),neg(+F2),neg(L2_2))>\n",
      "|    <term or(neg(+F1),neg(+F2))> ' - ' <expr and(neg(+F1),neg(+F2))>\n",
      "<term and(neg(+F1),neg(+F2))> ::=\n",
      "|    <factor and(neg(+F1),neg(+F2))>\n",
      "|    <factor and(neg(+F1),neg(+F2))> ' * ' <term and(neg(+F1),neg(+F2))>\n",
      "|    <factor and(neg(+F1),neg(+F2))> ' / ' <term and(neg(+F1),neg(+F2))>\n",
      "<expr or(and(neg(+F1),neg(+F2)),and(neg(+F1),neg(+F2),neg(L2_2)),and(neg(+F2),neg(L2_2)))> ::=\n",
      "|    <term and(neg(+F1),neg(+F2))>\n",
      "|    <term and(neg(+F1),neg(+F2))> ' + ' <expr and(neg(+F1),neg(+F2),neg(L2_2))>\n",
      "|    <term and(neg(+F1),neg(+F2))> ' - ' <expr and(neg(+F1),neg(+F2))>\n",
      "|    <term neg(+F2)> ' + ' <expr and(neg(+F2),neg(L2_2))>\n",
      "|    <term neg(+F2)> ' - ' <expr neg(+F2)>\n",
      "<expr or(and(neg(+F1),neg(+F2)),and(neg(+F1),neg(L2_2)),and(neg(+F2),neg(L2_2)),neg(+F1))> ::=\n",
      "|    <term and(neg(+F1),neg(+F2))> ' + ' <expr and(neg(+F1),neg(+F2),neg(L2_2))>\n",
      "|    <term and(neg(+F1),neg(+F2))> ' - ' <expr and(neg(+F1),neg(+F2))>\n",
      "|    <term neg(+F1)> ' + ' <expr neg(+F1)>\n",
      "|    <term neg(+F1)> ' - ' <expr neg(+F1)>\n",
      "|    <term neg(+F2)> ' + ' <expr and(neg(+F2),neg(L2_2))>\n",
      "|    <term neg(+F2)> ' - ' <expr neg(+F2)>\n",
      "|    <term or(and(neg(+F1),neg(+F2)),neg(+F1))>\n",
      "<expr or(and(neg(+F1),neg(+F2),neg(L2_2)),and(neg(+F1),neg(L2_2)),and(neg(+F2),neg(L2_2)))> ::=\n",
      "|    <term and(neg(+F1),neg(+F2))> ' + ' <expr and(neg(+F1),neg(+F2),neg(L2_2))>\n",
      "|    <term and(neg(+F1),neg(+F2))> ' - ' <expr and(neg(+F1),neg(+F2))>\n",
      "|    <term neg(+F1)> ' + ' <expr neg(+F1)>\n",
      "|    <term neg(+F1)> ' - ' <expr neg(+F1)>\n",
      "|    <term neg(+F2)> ' + ' <expr and(neg(+F2),neg(L2_2))>\n",
      "|    <term neg(+F2)> ' - ' <expr neg(+F2)>\n",
      "<term or(and(neg(+F1),neg(+F2)),neg(+F1))> ::=\n",
      "|    <factor and(neg(+F1),neg(+F2))> ' * ' <term and(neg(+F1),neg(+F2))>\n",
      "|    <factor and(neg(+F1),neg(+F2))> ' / ' <term and(neg(+F1),neg(+F2))>\n",
      "|    <factor neg(+F1)> ' * ' <term neg(+F1)>\n",
      "|    <factor neg(+F1)> ' / ' <term neg(+F1)>\n",
      "|    <factor or(and(neg(+F1),neg(+F2)),neg(+F1))>\n",
      "<expr or(and(neg(+F1),neg(+F2)),and(neg(+F1),neg(+F2),neg(L2_2)))> ::=\n",
      "|    <term and(neg(+F1),neg(+F2))>\n",
      "|    <term and(neg(+F1),neg(+F2))> ' + ' <expr and(neg(+F1),neg(+F2),neg(L2_2))>\n",
      "|    <term and(neg(+F1),neg(+F2))> ' - ' <expr and(neg(+F1),neg(+F2))>\n",
      "<expr or(and(neg(+F1),neg(+F2)),and(neg(+F1),neg(+F2),neg(L2_2)),and(neg(+F1),neg(L2_2)),neg(+F1))> ::=\n",
      "|    <term and(neg(+F1),neg(+F2))> ' + ' <expr and(neg(+F1),neg(+F2),neg(L2_2))>\n",
      "|    <term and(neg(+F1),neg(+F2))> ' - ' <expr and(neg(+F1),neg(+F2))>\n",
      "|    <term neg(+F1)> ' + ' <expr neg(+F1)>\n",
      "|    <term neg(+F1)> ' - ' <expr neg(+F1)>\n",
      "|    <term or(and(neg(+F1),neg(+F2)),neg(+F1))>\n",
      "<expr or(and(neg(+F1),neg(+F2),neg(L2_2)),and(neg(+F1),neg(L2_2)))> ::=\n",
      "|    <term and(neg(+F1),neg(+F2))> ' + ' <expr and(neg(+F1),neg(+F2),neg(L2_2))>\n",
      "|    <term and(neg(+F1),neg(+F2))> ' - ' <expr and(neg(+F1),neg(+F2))>\n",
      "|    <term neg(+F1)> ' + ' <expr neg(+F1)>\n",
      "|    <term neg(+F1)> ' - ' <expr neg(+F1)>\n",
      "<expr or(and(neg(+F1),neg(+F2)),neg(+F1))> ::=\n",
      "|    <term and(neg(+F1),neg(+F2))> ' + ' <expr and(neg(+F1),neg(+F2),neg(L2_2))>\n",
      "|    <term and(neg(+F1),neg(+F2))> ' - ' <expr and(neg(+F1),neg(+F2))>\n",
      "|    <term neg(+F1)> ' + ' <expr neg(+F1)>\n",
      "|    <term neg(+F1)> ' - ' <expr neg(+F1)>\n",
      "|    <term or(and(neg(+F1),neg(+F2)),neg(+F1))>\n",
      "<term or(and(neg(+F1),neg(+F2)),neg(+F2))> ::=\n",
      "|    <factor and(neg(+F1),neg(+F2))> ' * ' <term and(neg(+F1),neg(+F2))>\n",
      "|    <factor and(neg(+F1),neg(+F2))> ' / ' <term and(neg(+F1),neg(+F2))>\n",
      "|    <factor neg(+F2)> ' * ' <term neg(+F2)>\n",
      "|    <factor neg(+F2)> ' / ' <term neg(+F2)>\n",
      "|    <factor or(and(neg(+F1),neg(+F2)),neg(+F2))>\n",
      "<expr or(and(neg(+F1),neg(+F2),neg(L2_2)),and(neg(+F2),neg(L2_2)))> ::=\n",
      "|    <term and(neg(+F1),neg(+F2))> ' + ' <expr and(neg(+F1),neg(+F2),neg(L2_2))>\n",
      "|    <term and(neg(+F1),neg(+F2))> ' - ' <expr and(neg(+F1),neg(+F2))>\n",
      "|    <term neg(+F2)> ' + ' <expr and(neg(+F2),neg(L2_2))>\n",
      "|    <term neg(+F2)> ' - ' <expr neg(+F2)>\n",
      "<expr or(and(neg(+F1),neg(+F2)),neg(+F2))> ::=\n",
      "|    <term and(neg(+F1),neg(+F2))> ' + ' <expr and(neg(+F1),neg(+F2),neg(L2_2))>\n",
      "|    <term and(neg(+F1),neg(+F2))> ' - ' <expr and(neg(+F1),neg(+F2))>\n",
      "|    <term neg(+F2)> ' + ' <expr and(neg(+F2),neg(L2_2))>\n",
      "|    <term neg(+F2)> ' - ' <expr neg(+F2)>\n",
      "|    <term or(and(neg(+F1),neg(+F2)),neg(+F2))>\n",
      "<term or(neg(+F1),neg(+F2))> ::=\n",
      "|    <factor and(neg(+F1),neg(+F2))> ' * ' <term or(neg(+F1),neg(+F2))>\n",
      "|    <factor and(neg(+F1),neg(+F2))> ' / ' <term or(neg(+F1),neg(+F2))>\n",
      "|    <factor or(and(neg(+F1),neg(+F2)),neg(+F1))> ' * ' <term or(and(neg(+F1),neg(+F2)),neg(+F1))>\n",
      "|    <factor or(and(neg(+F1),neg(+F2)),neg(+F1))> ' / ' <term or(and(neg(+F1),neg(+F2)),neg(+F1))>\n",
      "|    <factor or(and(neg(+F1),neg(+F2)),neg(+F2))> ' * ' <term or(and(neg(+F1),neg(+F2)),neg(+F2))>\n",
      "|    <factor or(and(neg(+F1),neg(+F2)),neg(+F2))> ' / ' <term or(and(neg(+F1),neg(+F2)),neg(+F2))>\n",
      "|    <factor or(neg(+F1),neg(+F2))>\n",
      "|    <factor or(neg(+F1),neg(+F2))> ' * ' <term and(neg(+F1),neg(+F2))>\n",
      "|    <factor or(neg(+F1),neg(+F2))> ' / ' <term and(neg(+F1),neg(+F2))>\n",
      "<expr and(neg(+F1),neg(+F2),neg(L2_2))> ::=\n",
      "|    <term and(neg(+F1),neg(+F2))> ' + ' <expr and(neg(+F1),neg(+F2),neg(L2_2))>\n",
      "|    <term and(neg(+F1),neg(+F2))> ' - ' <expr and(neg(+F1),neg(+F2))>\n",
      "<expr and(neg(+F1),neg(+F2))> ::=\n",
      "|    <term and(neg(+F1),neg(+F2))>\n",
      "|    <term and(neg(+F1),neg(+F2))> ' + ' <expr and(neg(+F1),neg(+F2),neg(L2_2))>\n",
      "|    <term and(neg(+F1),neg(+F2))> ' - ' <expr and(neg(+F1),neg(+F2))>\n",
      "<factor and(neg(+F1),neg(+F2))> ::=\n",
      "|    '(' <expr and(neg(+F1),neg(+F2),neg(L1_1))> ')'\n",
      "|    '+' <factor and(neg(+F1),neg(+F2))>\n",
      "|    '-' <factor and(neg(+F1),neg(+F2))>\n",
      "|    <integer>\n",
      "|    <integer> '.' <integer>\n",
      "<expr and(neg(+F1),neg(+F2),neg(L1_1))> ::=\n",
      "|    <term and(neg(+F1),neg(+F2))> ' + ' <expr and(neg(+F1),neg(+F2),neg(L2_2))>\n",
      "|    <term and(neg(+F1),neg(+F2))> ' - ' <expr and(neg(+F1),neg(+F2))>\n",
      "|    <term and(neg(+F1),neg(+F2),neg(L1_1))>\n",
      "<integer> ::=\n",
      "|    <digit>\n",
      "|    <digit> <integer>\n",
      "<term and(neg(+F1),neg(+F2),neg(L1_1))> ::=\n",
      "|    <factor and(neg(+F1),neg(+F2))> ' * ' <term and(neg(+F1),neg(+F2))>\n",
      "|    <factor and(neg(+F1),neg(+F2))> ' / ' <term and(neg(+F1),neg(+F2))>\n",
      "|    <factor and(neg(+F1),neg(+F2),neg(L1_2))>\n",
      "<factor and(neg(+F1),neg(+F2),neg(L1_2))> ::=\n",
      "|    '+' <factor and(neg(+F1),neg(+F2))>\n",
      "|    '-' <factor and(neg(+F1),neg(+F2))>\n",
      "|    <integer>\n",
      "|    <integer> '.' <integer>\n",
      "<digit> ::=\n",
      "|    '0'\n",
      "|    '1'\n",
      "|    '2'\n",
      "|    '3'\n",
      "|    '4'\n",
      "|    '5'\n",
      "|    '6'\n",
      "|    '7'\n",
      "|    '8'\n",
      "|    '9'\n",
      "<term neg(+F2)> ::=\n",
      "|    <factor neg(+F2)>\n",
      "|    <factor neg(+F2)> ' * ' <term neg(+F2)>\n",
      "|    <factor neg(+F2)> ' / ' <term neg(+F2)>\n",
      "<expr and(neg(+F2),neg(L2_2))> ::=\n",
      "|    <term neg(+F2)> ' + ' <expr and(neg(+F2),neg(L2_2))>\n",
      "|    <term neg(+F2)> ' - ' <expr neg(+F2)>\n",
      "<expr neg(+F2)> ::=\n",
      "|    <term neg(+F2)>\n",
      "|    <term neg(+F2)> ' + ' <expr and(neg(+F2),neg(L2_2))>\n",
      "|    <term neg(+F2)> ' - ' <expr neg(+F2)>\n",
      "<factor neg(+F2)> ::=\n",
      "|    '(' <expr neg(+F2)> ')'\n",
      "|    '+' <factor neg(+F2)>\n",
      "|    '-' <factor neg(+F2)>\n",
      "|    <integer>\n",
      "|    <integer> '.' <integer>\n",
      "<term neg(+F1)> ::=\n",
      "|    <factor neg(+F1)>\n",
      "|    <factor neg(+F1)> ' * ' <term neg(+F1)>\n",
      "|    <factor neg(+F1)> ' / ' <term neg(+F1)>\n",
      "<expr neg(+F1)> ::=\n",
      "|    <term neg(+F1)>\n",
      "|    <term neg(+F1)> ' + ' <expr neg(+F1)>\n",
      "|    <term neg(+F1)> ' - ' <expr neg(+F1)>\n",
      "<factor neg(+F1)> ::=\n",
      "|    '(' <expr and(neg(+F1),neg(L1_1))> ')'\n",
      "|    '+' <factor neg(+F1)>\n",
      "|    '-' <factor neg(+F1)>\n",
      "|    <integer>\n",
      "|    <integer> '.' <integer>\n",
      "<expr and(neg(+F1),neg(L1_1))> ::=\n",
      "|    <term and(neg(+F1),neg(L1_1))>\n",
      "|    <term neg(+F1)> ' + ' <expr neg(+F1)>\n",
      "|    <term neg(+F1)> ' - ' <expr neg(+F1)>\n",
      "<term and(neg(+F1),neg(L1_1))> ::=\n",
      "|    <factor and(neg(+F1),neg(L1_2))>\n",
      "|    <factor neg(+F1)> ' * ' <term neg(+F1)>\n",
      "|    <factor neg(+F1)> ' / ' <term neg(+F1)>\n",
      "<factor and(neg(+F1),neg(L1_2))> ::=\n",
      "|    '+' <factor neg(+F1)>\n",
      "|    '-' <factor neg(+F1)>\n",
      "|    <integer>\n",
      "|    <integer> '.' <integer>\n",
      "<factor or(and(neg(+F1),neg(+F2)),neg(+F1))> ::=\n",
      "|    '(' <expr or(and(neg(+F1),neg(+F2),neg(L1_1)),and(neg(+F1),neg(L1_1)))> ')'\n",
      "|    '+' <factor or(and(neg(+F1),neg(+F2)),neg(+F1))>\n",
      "|    '-' <factor or(and(neg(+F1),neg(+F2)),neg(+F1))>\n",
      "|    <integer>\n",
      "|    <integer> '.' <integer>\n",
      "<expr or(and(neg(+F1),neg(+F2),neg(L1_1)),and(neg(+F1),neg(L1_1)))> ::=\n",
      "|    <term and(neg(+F1),neg(+F2))> ' + ' <expr and(neg(+F1),neg(+F2),neg(L2_2))>\n",
      "|    <term and(neg(+F1),neg(+F2))> ' - ' <expr and(neg(+F1),neg(+F2))>\n",
      "|    <term neg(+F1)> ' + ' <expr neg(+F1)>\n",
      "|    <term neg(+F1)> ' - ' <expr neg(+F1)>\n",
      "|    <term or(and(neg(+F1),neg(+F2),neg(L1_1)),and(neg(+F1),neg(L1_1)))>\n",
      "<term or(and(neg(+F1),neg(+F2),neg(L1_1)),and(neg(+F1),neg(L1_1)))> ::=\n",
      "|    <factor and(neg(+F1),neg(+F2))> ' * ' <term and(neg(+F1),neg(+F2))>\n",
      "|    <factor and(neg(+F1),neg(+F2))> ' / ' <term and(neg(+F1),neg(+F2))>\n",
      "|    <factor neg(+F1)> ' * ' <term neg(+F1)>\n",
      "|    <factor neg(+F1)> ' / ' <term neg(+F1)>\n",
      "|    <factor or(and(neg(+F1),neg(+F2),neg(L1_2)),and(neg(+F1),neg(L1_2)))>\n",
      "<factor or(and(neg(+F1),neg(+F2),neg(L1_2)),and(neg(+F1),neg(L1_2)))> ::=\n",
      "|    '+' <factor or(and(neg(+F1),neg(+F2)),neg(+F1))>\n",
      "|    '-' <factor or(and(neg(+F1),neg(+F2)),neg(+F1))>\n",
      "|    <integer>\n",
      "|    <integer> '.' <integer>\n",
      "<factor or(and(neg(+F1),neg(+F2)),neg(+F2))> ::=\n",
      "|    '(' <expr or(and(neg(+F1),neg(+F2),neg(L1_1)),neg(+F2))> ')'\n",
      "|    '+' <factor or(and(neg(+F1),neg(+F2)),neg(+F2))>\n",
      "|    '-' <factor or(and(neg(+F1),neg(+F2)),neg(+F2))>\n",
      "|    <integer>\n",
      "|    <integer> '.' <integer>\n",
      "<expr or(and(neg(+F1),neg(+F2),neg(L1_1)),neg(+F2))> ::=\n",
      "|    <term and(neg(+F1),neg(+F2))> ' + ' <expr and(neg(+F1),neg(+F2),neg(L2_2))>\n",
      "|    <term and(neg(+F1),neg(+F2))> ' - ' <expr and(neg(+F1),neg(+F2))>\n",
      "|    <term neg(+F2)> ' + ' <expr and(neg(+F2),neg(L2_2))>\n",
      "|    <term neg(+F2)> ' - ' <expr neg(+F2)>\n",
      "|    <term or(and(neg(+F1),neg(+F2),neg(L1_1)),neg(+F2))>\n",
      "<term or(and(neg(+F1),neg(+F2),neg(L1_1)),neg(+F2))> ::=\n",
      "|    <factor and(neg(+F1),neg(+F2))> ' * ' <term and(neg(+F1),neg(+F2))>\n",
      "|    <factor and(neg(+F1),neg(+F2))> ' / ' <term and(neg(+F1),neg(+F2))>\n",
      "|    <factor neg(+F2)> ' * ' <term neg(+F2)>\n",
      "|    <factor neg(+F2)> ' / ' <term neg(+F2)>\n",
      "|    <factor or(and(neg(+F1),neg(+F2),neg(L1_2)),neg(+F2))>\n",
      "<factor or(and(neg(+F1),neg(+F2),neg(L1_2)),neg(+F2))> ::=\n",
      "|    '(' <expr neg(+F2)> ')'\n",
      "|    '+' <factor or(and(neg(+F1),neg(+F2)),neg(+F2))>\n",
      "|    '-' <factor or(and(neg(+F1),neg(+F2)),neg(+F2))>\n",
      "|    <integer>\n",
      "|    <integer> '.' <integer>\n",
      "<factor or(neg(+F1),neg(+F2))> ::=\n",
      "|    '(' <expr or(and(neg(+F1),neg(+F2)),and(neg(+F1),neg(L1_1)),and(neg(+F2),neg(L1_1)),neg(+F2))> ')'\n",
      "|    '+' <factor or(neg(+F1),neg(+F2))>\n",
      "|    '-' <factor or(neg(+F1),neg(+F2))>\n",
      "|    <integer>\n",
      "|    <integer> '.' <integer>\n",
      "<expr or(and(neg(+F1),neg(+F2)),and(neg(+F1),neg(L1_1)),and(neg(+F2),neg(L1_1)),neg(+F2))> ::=\n",
      "|    <term and(neg(+F1),neg(+F2))> ' + ' <expr and(neg(+F1),neg(+F2),neg(L2_2))>\n",
      "|    <term and(neg(+F1),neg(+F2))> ' - ' <expr and(neg(+F1),neg(+F2))>\n",
      "|    <term neg(+F1)> ' + ' <expr neg(+F1)>\n",
      "|    <term neg(+F1)> ' - ' <expr neg(+F1)>\n",
      "|    <term neg(+F2)> ' + ' <expr and(neg(+F2),neg(L2_2))>\n",
      "|    <term neg(+F2)> ' - ' <expr neg(+F2)>\n",
      "|    <term or(and(neg(+F1),neg(+F2)),and(neg(+F1),neg(L1_1)),and(neg(+F2),neg(L1_1)),neg(+F2))>\n",
      "<term or(and(neg(+F1),neg(+F2)),and(neg(+F1),neg(L1_1)),and(neg(+F2),neg(L1_1)),neg(+F2))> ::=\n",
      "|    <factor and(neg(+F1),neg(+F2))> ' * ' <term and(neg(+F1),neg(+F2))>\n",
      "|    <factor and(neg(+F1),neg(+F2))> ' / ' <term and(neg(+F1),neg(+F2))>\n",
      "|    <factor neg(+F1)> ' * ' <term neg(+F1)>\n",
      "|    <factor neg(+F1)> ' / ' <term neg(+F1)>\n",
      "|    <factor neg(+F2)> ' * ' <term neg(+F2)>\n",
      "|    <factor neg(+F2)> ' / ' <term neg(+F2)>\n",
      "|    <factor or(and(neg(+F1),neg(+F2)),and(neg(+F1),neg(L1_2)),and(neg(+F2),neg(L1_2)),neg(+F2))>\n",
      "<factor or(and(neg(+F1),neg(+F2)),and(neg(+F1),neg(L1_2)),and(neg(+F2),neg(L1_2)),neg(+F2))> ::=\n",
      "|    '(' <expr or(and(neg(+F1),neg(+F2),neg(L1_1)),neg(+F2))> ')'\n",
      "|    '+' <factor or(and(neg(+F1),neg(+F2)),neg(+F1),neg(+F2))>\n",
      "|    '-' <factor or(and(neg(+F1),neg(+F2)),neg(+F1),neg(+F2))>\n",
      "|    <integer>\n",
      "|    <integer> '.' <integer>\n",
      "<factor or(and(neg(+F1),neg(+F2)),neg(+F1),neg(+F2))> ::=\n",
      "|    '(' <expr or(and(neg(+F1),neg(+F2),neg(L1_1)),and(neg(+F1),neg(L1_1)),neg(+F2))> ')'\n",
      "|    '+' <factor or(and(neg(+F1),neg(+F2)),neg(+F1),neg(+F2))>\n",
      "|    '-' <factor or(and(neg(+F1),neg(+F2)),neg(+F1),neg(+F2))>\n",
      "|    <integer>\n",
      "|    <integer> '.' <integer>\n",
      "<expr or(and(neg(+F1),neg(+F2),neg(L1_1)),and(neg(+F1),neg(L1_1)),neg(+F2))> ::=\n",
      "|    <term and(neg(+F1),neg(+F2))> ' + ' <expr and(neg(+F1),neg(+F2),neg(L2_2))>\n",
      "|    <term and(neg(+F1),neg(+F2))> ' - ' <expr and(neg(+F1),neg(+F2))>\n",
      "|    <term neg(+F1)> ' + ' <expr neg(+F1)>\n",
      "|    <term neg(+F1)> ' - ' <expr neg(+F1)>\n",
      "|    <term neg(+F2)> ' + ' <expr and(neg(+F2),neg(L2_2))>\n",
      "|    <term neg(+F2)> ' - ' <expr neg(+F2)>\n",
      "|    <term or(and(neg(+F1),neg(+F2),neg(L1_1)),and(neg(+F1),neg(L1_1)),neg(+F2))>\n",
      "<term or(and(neg(+F1),neg(+F2),neg(L1_1)),and(neg(+F1),neg(L1_1)),neg(+F2))> ::=\n",
      "|    <factor and(neg(+F1),neg(+F2))> ' * ' <term and(neg(+F1),neg(+F2))>\n",
      "|    <factor and(neg(+F1),neg(+F2))> ' / ' <term and(neg(+F1),neg(+F2))>\n",
      "|    <factor neg(+F1)> ' * ' <term neg(+F1)>\n",
      "|    <factor neg(+F1)> ' / ' <term neg(+F1)>\n",
      "|    <factor neg(+F2)> ' * ' <term neg(+F2)>\n",
      "|    <factor neg(+F2)> ' / ' <term neg(+F2)>\n",
      "|    <factor or(and(neg(+F1),neg(+F2),neg(L1_2)),and(neg(+F1),neg(L1_2)),neg(+F2))>\n",
      "<factor or(and(neg(+F1),neg(+F2),neg(L1_2)),and(neg(+F1),neg(L1_2)),neg(+F2))> ::=\n",
      "|    '(' <expr neg(+F2)> ')'\n",
      "|    '+' <factor or(and(neg(+F1),neg(+F2)),neg(+F1),neg(+F2))>\n",
      "|    '-' <factor or(and(neg(+F1),neg(+F2)),neg(+F1),neg(+F2))>\n",
      "|    <integer>\n",
      "|    <integer> '.' <integer>\n",
      "49 233\n"
     ]
    },
    {
     "data": {
      "text/plain": [
       "'<start or(neg(+F1),neg(+F2))>'"
      ]
     },
     "execution_count": 379,
     "metadata": {},
     "output_type": "execute_result"
    }
   ],
   "source": [
    "%%top\n",
    "Gs(negfaulty3_grammar)\n",
    "negfaulty3_start"
   ]
  },
  {
   "cell_type": "code",
   "execution_count": 380,
   "metadata": {},
   "outputs": [],
   "source": [
    "%%top\n",
    "negfaulty3_fuzzer = LimitFuzzer(negfaulty3_grammar)\n",
    "negfaulty3_parser = Parser(negfaulty3_grammar, canonical=True, start_symbol=negfaulty3_start)"
   ]
  },
  {
   "cell_type": "code",
   "execution_count": 381,
   "metadata": {},
   "outputs": [
    {
     "data": {
      "text/plain": [
       "False"
      ]
     },
     "execution_count": 381,
     "metadata": {},
     "output_type": "execute_result"
    }
   ],
   "source": [
    "%top is_cfg_empty(negfaulty3_grammar, negfaulty3_start)"
   ]
  },
  {
   "cell_type": "code",
   "execution_count": 382,
   "metadata": {},
   "outputs": [],
   "source": [
    "%top assert negfaulty3_parser.can_parse('1')"
   ]
  },
  {
   "cell_type": "code",
   "execution_count": 383,
   "metadata": {},
   "outputs": [
    {
     "name": "stdout",
     "output_type": "stream",
     "text": [
      "9513.189 / 4.122\n",
      "-(+6 / (7 + 4 + 3 - 5.3)) / +7.016 / --+1 * ---(8.8) / 1 - 40 + -4787.2 - -+8\n",
      "(++7 * -+9.7 / 0 + +--9 * +7.6 * (3) / 3.5 * 2 - (6 + 1 - 4.3)) + (8 * 93 / 8 * 0 + +(1.6) / -5.4 + 9.6 - 5.2 * 9 - 4.2) * 5.5 * 798 - -3 / +8\n",
      "+4232.5 + 5.17 - 62055 * -+(9.5 - 5) + -(5.3) / -4.79 + (5 * 6 - 7.1) + (2 + 1 + 8 - 5) * 3.6 / 0.6 + 2.7 + 4.8 * 8.3 + 8 + 7 - 2.8\n",
      "(3 / 23 - +9.9 / +9 * -7.9 / 7.2 * 1.3 - (6.7 - 2) / (1) * 5.8 * 4.0 - -9.7 * 3 * 0) - +(++9 + +3 + 7 * 3 + 2 + 6.5 - 6) - 0.41 * ((0.0) * 5 / 4.7 - 9 + 8 - 2.6) + -(2 * 4 - 3.6 - 4) - -69 - -6 / -5 * 3\n",
      "((-5.2 + 9.1 - 2)) / -((9) - 8 * 0) / 87 + 2.28 / 529 / (9.6 * 5.1 * 0.2) / 3 * 4 * (8) + +-(9 / 7.3 + 2.9 + 3 + 5 + 0 - 5.7) * 6.64 * 1.500 + 2 / -(8 + 4.3 - 5) * (1 + 0.0 - 4) * -2.8 - 9 / 1.75 + --8 / -2 + 7 / 6 + 3.3 / 5.3 + 0.7 - 7\n",
      "(+88.31 * 5.8 / 77 * 0 * 0.7 / 3 - 4.47 / (0 + 3 + 9 - 3) * 7 - (2 - 0) * (8.8)) / (+--0.0) + (-81) - -(0 + 3.0 + 7.7 + 8.5 + 0 + 3.5 - 1) / +2.5 + (+4.9 * 0 / 9.8 + 6.8 / 5 + 4.5 + 8.8 - 8) / 51 / (4 - 2.6) * 9.9 * 5.5 / 7.5 - 0.61\n",
      "52 * +7 * +(+2.9 + 8.5 + 1 - 7.2) / 89.23 + 94.060 * 137 / +5 - +1 * 21.3715 + (-2 / 4 - 5.5 / 8 - 2.0) * (1 - 1.3) - (8 / 3.8 + 8 - 7) * 5.5 / 9 + 3.5 / (4.1) / 1.4 + (7.2) * 9 * 5.3 + 8.5 + 7 + 9.8 - 8\n",
      "(-60.6 / +(1.0 + 0) - (0 * 0) + +-7.5 * -8 + 1 - 7.3 * 2.7 + 3.1 + 5.6) / ++-(1 * 9.9 + 8 - 9) * 4 * +1 / -5 * +6.2 / 2.2 + 8.6 * 2.9 / -++9 + 12 - ++(2) * (7 - 6.5) + 1 * (5.9 - 0.9) / (3) / 9.2 * 4.2 + --6 * +5 * 9 * 4.2 - 7.8 + 8 - 4.4 + 5 - 5\n",
      "+--(0 * 1) / 5.9 * -68.70 + ((5.0 - 7 + 4 - 2.8) + 9 / 4 - (3) + 3 - 7.3 + 8 - 3) / -290 * -06 + (-7.2) / 42.9 / +(4.4) / -3.2 * 9.8 * 0.8 * 0 + ++(5.1 + 3.9 + 6 - 8) / -++3 - 045.8 / 13 + 67 + 1.7 + 7 * 3.8 - 0 - 2.2\n"
     ]
    }
   ],
   "source": [
    "%%top\n",
    "for i in range(10):\n",
    "    # this is negate and(faulty1, faulty2) == or(neg(faulty1), neg(faulty2))\n",
    "    s = negfaulty3_fuzzer.fuzz(key=negfaulty3_start)\n",
    "    print(s)\n",
    "    assert negfaulty3_parser.can_parse(s)\n",
    "    assert negfaulty1_parser.can_parse(s) or negfaulty2_parser.can_parse(s)\n",
    "    assert not (faulty1_parser.can_parse(s) and faulty2_parser.can_parse(s))"
   ]
  },
  {
   "cell_type": "markdown",
   "metadata": {},
   "source": [
    "Tricks if undefined refinements remain: The references will be `and(,neg(...))` format, which means they are actually `neg(...)`. So, find `...` in the refined, and then go for a second round with that as the start key."
   ]
  },
  {
   "cell_type": "markdown",
   "metadata": {},
   "source": [
    "## Difference\n",
    "\n",
    "Need to identify and remove duplicate keys. Note that our `partial orders` are still primitive. We now have the machinery to do it right."
   ]
  },
  {
   "cell_type": "code",
   "execution_count": 384,
   "metadata": {},
   "outputs": [
    {
     "data": {
      "text/plain": [
       "[]"
      ]
     },
     "execution_count": 384,
     "metadata": {},
     "output_type": "execute_result"
    }
   ],
   "source": [
    "EXCEPTION_HAPPENED"
   ]
  },
  {
   "cell_type": "code",
   "execution_count": 385,
   "metadata": {},
   "outputs": [],
   "source": [
    "def difference_grammars(grammarA, startA, grammarB, startB):\n",
    "    if is_base_key(startB):\n",
    "        return {'<start>': []}, '<start>' # empty\n",
    "    base_g = normalize_grammar(grammarA)\n",
    "    base_s = normalize(startA) \n",
    "    negB_g, negB_s, refs = negate_grammar_(grammarB, startB, base_g, base_s)\n",
    "    negB_g = complete(negB_g, negB_s)\n",
    "    AminusB_g, AminusB_s, refs = and_grammars_(grammarA, startA, negB_g, negB_s)\n",
    "    AminusB_g = complete(AminusB_g, AminusB_s)\n",
    "    return AminusB_g, AminusB_s"
   ]
  },
  {
   "cell_type": "code",
   "execution_count": 386,
   "metadata": {
    "scrolled": true
   },
   "outputs": [
    {
     "data": {
      "text/plain": [
       "{'<start>': ('<start or(+F1,+F2)>', []),\n",
       " '<expr>': ('<expr>',\n",
       "  [('<expr or(+F1,+F2)>', [('<expr or(+F1,+F2,L2_2)>', [])])]),\n",
       " '<term>': ('<term>', [('<term or(+F1,+F2)>', [])]),\n",
       " '<factor>': ('<factor>', [('<factor or(+F1,+F2)>', [])]),\n",
       " '<integer>': ('<integer>', []),\n",
       " '<digit>': ('<digit>', [])}"
      ]
     },
     "execution_count": 386,
     "metadata": {},
     "output_type": "execute_result"
    }
   ],
   "source": [
    "identify_partial_orders(or1_grammar)"
   ]
  },
  {
   "cell_type": "markdown",
   "metadata": {},
   "source": [
    "Identifying partial orders is simple once you have the machinary for `and` and `neg`. To find if a given nonterminal `A` is more refined than `B`, do `A-B`. This should be empty."
   ]
  },
  {
   "cell_type": "code",
   "execution_count": 387,
   "metadata": {},
   "outputs": [],
   "source": [
    "def is_keyA_more_refined_than_keyB(keyA, keyB, porder, grammar):\n",
    "    # essential idea of comparing two keys is this:\n",
    "    # One key is smaller than the other if for any given rule in the first,\n",
    "    # there exist another rule that is larger than that in the second key.\n",
    "    # a rule is smaller than another if all tokens in that rule is either equal\n",
    "    # (matching) or smaller than\n",
    "    # the corresponding token in the other.\n",
    "    \n",
    "    A_B_g, A_B_s = difference_grammars(grammar, keyA, grammar, keyB)\n",
    "    if is_cfg_empty(A_B_g, A_B_s): #A is smaller, so A-B should be empty.\n",
    "        return True\n",
    "    else:\n",
    "        return False"
   ]
  },
  {
   "cell_type": "code",
   "execution_count": 388,
   "metadata": {},
   "outputs": [],
   "source": [
    "def insert_into_porder(my_key, porder, grammar):\n",
    "    def update_tree(my_key, tree, grammar):\n",
    "        if tree is None: return True, (my_key, [])\n",
    "        k, children = tree\n",
    "        if is_base_key(my_key):\n",
    "            if not is_base_key(k):\n",
    "                return True, (my_key, [tree])\n",
    "            else:\n",
    "                return False, tree\n",
    " \n",
    "        v = is_keyA_more_refined_than_keyB(my_key, k, porder, grammar)\n",
    "        if is_base_key(k): v = True\n",
    "        # if v is unknown...\n",
    "        if v: # we should go into the children\n",
    "            if not children:\n",
    "                #print('>', 0)\n",
    "                return True, (k, [(my_key, [])])\n",
    "            new_children = []\n",
    "            updated = False\n",
    "            for c in children:\n",
    "                u, c_ = update_tree(my_key, c, grammar)\n",
    "                if u: updated = True\n",
    "                new_children.append(c_)\n",
    "            #print('>', 1)\n",
    "            return updated, (k, new_children)\n",
    "        else:\n",
    "            v = is_keyA_more_refined_than_keyB(k, my_key, porder, grammar)\n",
    "            if v:\n",
    "                #this should be the parent of tree\n",
    "                #print('>', 2)\n",
    "                return True, (my_key, [tree])\n",
    "            else:\n",
    "                # add as a sibling -- but only if we have evidence.\n",
    "                if v is not None:\n",
    "                    #print('>', 3)\n",
    "                    return True, (k, children + [(my_key, [])])\n",
    "                else:\n",
    "                    return False, tree\n",
    "    key = normalize(my_key)\n",
    "    updated, v = update_tree(my_key, porder.get(key, None), grammar)\n",
    "    if updated:\n",
    "        porder[key] = v\n",
    "    return updated"
   ]
  },
  {
   "cell_type": "code",
   "execution_count": 389,
   "metadata": {},
   "outputs": [],
   "source": [
    "#%%top\n",
    "#identify_partial_orders(or1_grammar)"
   ]
  },
  {
   "cell_type": "code",
   "execution_count": 390,
   "metadata": {},
   "outputs": [
    {
     "name": "stdout",
     "output_type": "stream",
     "text": [
      "<start or(+F1,+F2)> ::=\n",
      "|    <expr or(+F1,+F2)>\n",
      "<expr or(+F1,+F2)> ::=\n",
      "|    <term or(+F1,+F2)>\n",
      "|    <term or(+F1,+F2)> ' + ' <expr>\n",
      "|    <term or(+F1,+F2)> ' - ' <expr>\n",
      "|    <term> ' + ' <expr or(+F1,+F2,L2_2)>\n",
      "|    <term> ' - ' <expr or(+F1,+F2)>\n",
      "<term or(+F1,+F2)> ::=\n",
      "|    <factor or(+F1,+F2)>\n",
      "|    <factor or(+F1,+F2)> ' * ' <term>\n",
      "|    <factor or(+F1,+F2)> ' / ' <term>\n",
      "|    <factor> ' * ' <term or(+F1,+F2)>\n",
      "|    <factor> ' / ' <term or(+F1,+F2)>\n",
      "<expr> ::=\n",
      "|    <term>\n",
      "|    <term> ' + ' <expr>\n",
      "|    <term> ' - ' <expr>\n",
      "<term> ::=\n",
      "|    <factor>\n",
      "|    <factor> ' * ' <term>\n",
      "|    <factor> ' / ' <term>\n",
      "<expr or(+F1,+F2,L2_2)> ::=\n",
      "|    <term or(+F1,+F2)>\n",
      "|    <term or(+F1,+F2)> ' + ' <expr>\n",
      "|    <term or(+F1,+F2)> ' - ' <expr>\n",
      "|    <term>\n",
      "|    <term> ' + ' <expr or(+F1,+F2,L2_2)>\n",
      "|    <term> ' - ' <expr or(+F1,+F2)>\n",
      "<factor or(+F1,+F2)> ::=\n",
      "|    '(' <expr or(+F1,+F2,L1_1)> ')'\n",
      "|    '+' <factor or(+F1,+F2)>\n",
      "|    '-' <factor or(+F1,+F2)>\n",
      "<factor> ::=\n",
      "|    '(' <expr> ')'\n",
      "|    '+' <factor>\n",
      "|    '-' <factor>\n",
      "|    <integer>\n",
      "|    <integer> '.' <integer>\n",
      "<expr or(+F1,+F2,L1_1)> ::=\n",
      "|    <term or(+F1,+F2)> ' + ' <expr>\n",
      "|    <term or(+F1,+F2)> ' - ' <expr>\n",
      "|    <term or(+F1,+F2,L1_1)>\n",
      "|    <term> ' + ' <expr or(+F1,+F2,L2_2)>\n",
      "|    <term> ' - ' <expr or(+F1,+F2)>\n",
      "<term or(+F1,+F2,L1_1)> ::=\n",
      "|    <factor or(+F1,+F2)> ' * ' <term>\n",
      "|    <factor or(+F1,+F2)> ' / ' <term>\n",
      "|    <factor or(+F1,+F2,L1_2)>\n",
      "|    <factor> ' * ' <term or(+F1,+F2)>\n",
      "|    <factor> ' / ' <term or(+F1,+F2)>\n",
      "<factor or(+F1,+F2,L1_2)> ::=\n",
      "|    '(' <expr or(+F1,+F2,L1_1)> ')'\n",
      "|    '(' <expr> ')'\n",
      "|    '+' <factor or(+F1,+F2)>\n",
      "|    '-' <factor or(+F1,+F2)>\n",
      "<integer> ::=\n",
      "|    <digit>\n",
      "|    <digit> <integer>\n",
      "<digit> ::=\n",
      "|    '0'\n",
      "|    '1'\n",
      "|    '2'\n",
      "|    '3'\n",
      "|    '4'\n",
      "|    '5'\n",
      "|    '6'\n",
      "|    '7'\n",
      "|    '8'\n",
      "|    '9'\n",
      "13 57\n"
     ]
    },
    {
     "data": {
      "text/plain": [
       "'<start or(+F1,+F2)>'"
      ]
     },
     "execution_count": 390,
     "metadata": {},
     "output_type": "execute_result"
    }
   ],
   "source": [
    "%%top\n",
    "Gs(or1_grammar)\n",
    "or1_start"
   ]
  },
  {
   "cell_type": "code",
   "execution_count": 391,
   "metadata": {},
   "outputs": [
    {
     "name": "stdout",
     "output_type": "stream",
     "text": [
      "<start and(+F1,+F2)> ::=\n",
      "|    <expr and(+F1,+F2)>\n",
      "<expr and(+F1,+F2)> ::=\n",
      "|    <term +F1> ' + ' <expr +F2>\n",
      "|    <term +F1> ' + ' <expr L2_2>\n",
      "|    <term +F1> ' - ' <expr +F2>\n",
      "|    <term +F2> ' + ' <expr +F1>\n",
      "|    <term +F2> ' - ' <expr +F1>\n",
      "|    <term and(+F1,+F2)>\n",
      "|    <term and(+F1,+F2)> ' + ' <expr>\n",
      "|    <term and(+F1,+F2)> ' - ' <expr>\n",
      "|    <term> ' + ' <expr and(+F1,+F2)>\n",
      "|    <term> ' + ' <expr and(+F1,L2_2)>\n",
      "|    <term> ' - ' <expr and(+F1,+F2)>\n",
      "<term +F1> ::=\n",
      "|    <factor +F1>\n",
      "|    <factor +F1> ' * ' <term>\n",
      "|    <factor +F1> ' / ' <term>\n",
      "|    <factor> ' * ' <term +F1>\n",
      "|    <factor> ' / ' <term +F1>\n",
      "<expr +F2> ::=\n",
      "|    <term +F2>\n",
      "|    <term +F2> ' + ' <expr>\n",
      "|    <term +F2> ' - ' <expr>\n",
      "|    <term> ' + ' <expr +F2>\n",
      "|    <term> ' + ' <expr L2_2>\n",
      "|    <term> ' - ' <expr +F2>\n",
      "<expr L2_2> ::=\n",
      "|    <term>\n",
      "<term +F2> ::=\n",
      "|    <factor +F2>\n",
      "|    <factor +F2> ' * ' <term>\n",
      "|    <factor +F2> ' / ' <term>\n",
      "|    <factor> ' * ' <term +F2>\n",
      "|    <factor> ' / ' <term +F2>\n",
      "<expr +F1> ::=\n",
      "|    <term +F1>\n",
      "|    <term +F1> ' + ' <expr>\n",
      "|    <term +F1> ' - ' <expr>\n",
      "|    <term> ' + ' <expr +F1>\n",
      "|    <term> ' - ' <expr +F1>\n",
      "<term and(+F1,+F2)> ::=\n",
      "|    <factor +F1> ' * ' <term +F2>\n",
      "|    <factor +F1> ' / ' <term +F2>\n",
      "|    <factor +F2> ' * ' <term +F1>\n",
      "|    <factor +F2> ' / ' <term +F1>\n",
      "|    <factor and(+F1,+F2)>\n",
      "|    <factor and(+F1,+F2)> ' * ' <term>\n",
      "|    <factor and(+F1,+F2)> ' / ' <term>\n",
      "|    <factor> ' * ' <term and(+F1,+F2)>\n",
      "|    <factor> ' / ' <term and(+F1,+F2)>\n",
      "<expr> ::=\n",
      "|    <term>\n",
      "|    <term> ' + ' <expr>\n",
      "|    <term> ' - ' <expr>\n",
      "<term> ::=\n",
      "|    <factor>\n",
      "|    <factor> ' * ' <term>\n",
      "|    <factor> ' / ' <term>\n",
      "<expr and(+F1,L2_2)> ::=\n",
      "|    <term +F1>\n",
      "<factor +F1> ::=\n",
      "|    '(' <expr +F1> ')'\n",
      "|    '(' <expr L1_1> ')'\n",
      "|    '+' <factor +F1>\n",
      "|    '-' <factor +F1>\n",
      "<factor> ::=\n",
      "|    '(' <expr> ')'\n",
      "|    '+' <factor>\n",
      "|    '-' <factor>\n",
      "|    <integer>\n",
      "|    <integer> '.' <integer>\n",
      "<expr L1_1> ::=\n",
      "|    <term L1_1>\n",
      "<term L1_1> ::=\n",
      "|    <factor L1_2>\n",
      "<factor L1_2> ::=\n",
      "|    '(' <expr> ')'\n",
      "<integer> ::=\n",
      "|    <digit>\n",
      "|    <digit> <integer>\n",
      "<digit> ::=\n",
      "|    '0'\n",
      "|    '1'\n",
      "|    '2'\n",
      "|    '3'\n",
      "|    '4'\n",
      "|    '5'\n",
      "|    '6'\n",
      "|    '7'\n",
      "|    '8'\n",
      "|    '9'\n",
      "<factor +F2> ::=\n",
      "|    '(' <expr +F2> ')'\n",
      "|    '+' <factor +F2>\n",
      "|    '-' <factor +F2>\n",
      "<factor and(+F1,+F2)> ::=\n",
      "|    '(' <expr and(+F1,+F2)> ')'\n",
      "|    '(' <expr and(+F2,L1_1)> ')'\n",
      "|    '+' <factor and(+F1,+F2)>\n",
      "|    '-' <factor and(+F1,+F2)>\n",
      "<expr and(+F2,L1_1)> ::=\n",
      "|    <term and(+F2,L1_1)>\n",
      "<term and(+F2,L1_1)> ::=\n",
      "|    <factor and(+F2,L1_2)>\n",
      "<factor and(+F2,L1_2)> ::=\n",
      "|    '(' <expr +F2> ')'\n",
      "23 84\n"
     ]
    },
    {
     "data": {
      "text/plain": [
       "'<start and(+F1,+F2)>'"
      ]
     },
     "execution_count": 391,
     "metadata": {},
     "output_type": "execute_result"
    }
   ],
   "source": [
    "%%top\n",
    "Gs(and1_grammar)\n",
    "and1_start"
   ]
  },
  {
   "cell_type": "code",
   "execution_count": 392,
   "metadata": {},
   "outputs": [
    {
     "data": {
      "text/plain": [
       "[]"
      ]
     },
     "execution_count": 392,
     "metadata": {},
     "output_type": "execute_result"
    }
   ],
   "source": [
    "EXCEPTION_HAPPENED"
   ]
  },
  {
   "cell_type": "markdown",
   "metadata": {},
   "source": [
    "## Exactly one fault grammar (complete)"
   ]
  },
  {
   "cell_type": "code",
   "execution_count": 393,
   "metadata": {},
   "outputs": [],
   "source": [
    "def exactly_one_fault_grammar_(grammar, start_symbol, fault_node, f_idx, log=False):\n",
    "    def L_prefix(i): return str(i)\n",
    "    def F_prefix(i): return str(i)\n",
    "    prefix_l = L_prefix(f_idx)\n",
    "    prefix_f = F_prefix(f_idx)\n",
    "    key_f = fault_node[0]\n",
    "    assert key_f in grammar\n",
    "    # First, get the pattern grammar\n",
    "\n",
    "    fsym = to_fkey_prefix(key_f, prefix_f, FKey.exactly)\n",
    "    atleast_fsym = to_fkey_prefix(key_f, prefix_f, FKey.atleast)\n",
    "    noreaching_fsym = negate_key(atleast_fsym)\n",
    "    \n",
    "    pattern_g, pattern_s  = faulty_node_to_pattern_grammar(fault_node, prefix_l)\n",
    "    npattern_g, npattern_s, refs  = negated_pattern_grammar(pattern_g, pattern_s, atleast_fsym, grammar, log)\n",
    "    reachable_keys = reachable_dict(grammar)\n",
    "    # the new grammar contains the faulty keys and their definitions.\n",
    "    # next, want to insert the fault prefix_f into each insertable positions. \n",
    "    # the insertable locations are those that can reach fsym\n",
    "    exactly_g = keep_exactly_one_fault_at_grammar(grammar, key_f, prefix_f, reachable_keys)\n",
    "    \n",
    "    noreach_g = remove_all_instances_of_fault_from_grammar(grammar, key_f, prefix_f, reachable_keys)\n",
    "    negation_connect = npattern_g[npattern_s] # get the negated pattern rule\n",
    "    noreach_g[noreaching_fsym] = negation_connect\n",
    "    \n",
    "    for key in refs: assert key in noreach_g, key\n",
    "    # now, the faulty key is an alternative to the original.\n",
    "    # We have to take care of one thing though. The `fkey` in the linear grammar should\n",
    "    # be replaced with fsym, but the definitions kept. This is because we want to preserve\n",
    "    # the rule patterns. We do not want normal expansions to go through since it may mean\n",
    "    # no fault inserted. However, we want self recursion to happen.\n",
    "    pattern_rule = pattern_g[pattern_s][0]\n",
    "    \n",
    "    neg_pattern_rules, nrefs_ = negate_a_rule(pattern_rule)\n",
    "    combined_grammar = {**grammar, **pattern_g, **npattern_g, **exactly_g, **noreach_g}\n",
    "\n",
    "    reachable_pattern_rules = [r for r in combined_grammar[fsym] if normalized_rule_match(r, pattern_rule)]\n",
    "    conjoined, crefs_ = conjoin_ruleset(reachable_pattern_rules, neg_pattern_rules)\n",
    "    \n",
    "    new_rules = ([r for r in combined_grammar[fsym]\n",
    "                 if not normalized_rule_match(r, pattern_rule)]\n",
    "                 + conjoined\n",
    "                 + pattern_g[pattern_s])\n",
    "\n",
    "    #combined_grammar[fsym].extend(new_rules)\n",
    "    combined_grammar[fsym] = new_rules\n",
    "    return combined_grammar, to_fkey_prefix(start_symbol, F_prefix(f_idx), FKey.exactly)"
   ]
  },
  {
   "cell_type": "markdown",
   "metadata": {},
   "source": [
    "# Experiments"
   ]
  },
  {
   "cell_type": "code",
   "execution_count": 394,
   "metadata": {},
   "outputs": [
    {
     "data": {
      "text/plain": [
       "[]"
      ]
     },
     "execution_count": 394,
     "metadata": {},
     "output_type": "execute_result"
    }
   ],
   "source": [
    "EXCEPTION_HAPPENED"
   ]
  },
  {
   "cell_type": "markdown",
   "metadata": {},
   "source": [
    "## Fault A (exactly 1)"
   ]
  },
  {
   "cell_type": "code",
   "execution_count": 395,
   "metadata": {},
   "outputs": [],
   "source": [
    "#%%top\n",
    "exprA_input = '((1))'\n",
    "exprA_tree = list(expr_parser.parse(exprA_input))[0]"
   ]
  },
  {
   "cell_type": "code",
   "execution_count": 396,
   "metadata": {},
   "outputs": [
    {
     "data": {
      "text/plain": [
       "'((1))'"
      ]
     },
     "execution_count": 396,
     "metadata": {},
     "output_type": "execute_result"
    }
   ],
   "source": [
    "%top tree_to_str(exprA_tree)"
   ]
  },
  {
   "cell_type": "code",
   "execution_count": 397,
   "metadata": {},
   "outputs": [
    {
     "data": {
      "image/svg+xml": [
       "<?xml version=\"1.0\" encoding=\"UTF-8\" standalone=\"no\"?>\n",
       "<!DOCTYPE svg PUBLIC \"-//W3C//DTD SVG 1.1//EN\"\n",
       " \"http://www.w3.org/Graphics/SVG/1.1/DTD/svg11.dtd\">\n",
       "<!-- Generated by graphviz version 2.40.1 (20161225.0304)\n",
       " -->\n",
       "<!-- Title: %3 Pages: 1 -->\n",
       "<svg width=\"104pt\" height=\"790pt\"\n",
       " viewBox=\"0.00 0.00 104.16 790.00\" xmlns=\"http://www.w3.org/2000/svg\" xmlns:xlink=\"http://www.w3.org/1999/xlink\">\n",
       "<g id=\"graph0\" class=\"graph\" transform=\"scale(1 1) rotate(0) translate(4 786)\">\n",
       "<title>%3</title>\n",
       "<polygon fill=\"#ffffff\" stroke=\"transparent\" points=\"-4,4 -4,-786 100.1621,-786 100.1621,4 -4,4\"/>\n",
       "<!-- (0, 0) -->\n",
       "<g id=\"node1\" class=\"node\">\n",
       "<title>(0, 0)</title>\n",
       "<text text-anchor=\"middle\" x=\"48.0811\" y=\"-770.8\" font-family=\"Times,serif\" font-size=\"14.00\" fill=\"#000000\">&lt;start&gt; </text>\n",
       "</g>\n",
       "<!-- (1, 0) -->\n",
       "<g id=\"node2\" class=\"node\">\n",
       "<title>(1, 0)</title>\n",
       "<text text-anchor=\"middle\" x=\"48.0811\" y=\"-706.8\" font-family=\"Times,serif\" font-size=\"14.00\" fill=\"#000000\">&lt;expr&gt; </text>\n",
       "</g>\n",
       "<!-- (0, 0)&#45;&gt;(1, 0) -->\n",
       "<g id=\"edge1\" class=\"edge\">\n",
       "<title>(0, 0)&#45;&gt;(1, 0)</title>\n",
       "<path fill=\"none\" stroke=\"#000000\" d=\"M48.0811,-767.6584C48.0811,-758.2065 48.0811,-741.4718 48.0811,-728.632\"/>\n",
       "<polygon fill=\"#000000\" stroke=\"#000000\" points=\"51.5812,-728.256 48.0811,-718.256 44.5812,-728.256 51.5812,-728.256\"/>\n",
       "<text text-anchor=\"middle\" x=\"51.5811\" y=\"-738.8\" font-family=\"Times,serif\" font-size=\"14.00\" fill=\"#000000\">0</text>\n",
       "</g>\n",
       "<!-- (2, 0) -->\n",
       "<g id=\"node3\" class=\"node\">\n",
       "<title>(2, 0)</title>\n",
       "<text text-anchor=\"middle\" x=\"48.0811\" y=\"-642.8\" font-family=\"Times,serif\" font-size=\"14.00\" fill=\"#000000\">&lt;term&gt; </text>\n",
       "</g>\n",
       "<!-- (1, 0)&#45;&gt;(2, 0) -->\n",
       "<g id=\"edge2\" class=\"edge\">\n",
       "<title>(1, 0)&#45;&gt;(2, 0)</title>\n",
       "<path fill=\"none\" stroke=\"#000000\" d=\"M48.0811,-703.6584C48.0811,-694.2065 48.0811,-677.4718 48.0811,-664.632\"/>\n",
       "<polygon fill=\"#000000\" stroke=\"#000000\" points=\"51.5812,-664.256 48.0811,-654.256 44.5812,-664.256 51.5812,-664.256\"/>\n",
       "<text text-anchor=\"middle\" x=\"51.5811\" y=\"-674.8\" font-family=\"Times,serif\" font-size=\"14.00\" fill=\"#000000\">0</text>\n",
       "</g>\n",
       "<!-- (3, 0) -->\n",
       "<g id=\"node4\" class=\"node\">\n",
       "<title>(3, 0)</title>\n",
       "<text text-anchor=\"middle\" x=\"48.0811\" y=\"-578.8\" font-family=\"Times,serif\" font-size=\"14.00\" fill=\"#000000\">&lt;factor&gt; </text>\n",
       "</g>\n",
       "<!-- (2, 0)&#45;&gt;(3, 0) -->\n",
       "<g id=\"edge3\" class=\"edge\">\n",
       "<title>(2, 0)&#45;&gt;(3, 0)</title>\n",
       "<path fill=\"none\" stroke=\"#000000\" d=\"M48.0811,-639.6584C48.0811,-630.2065 48.0811,-613.4718 48.0811,-600.632\"/>\n",
       "<polygon fill=\"#000000\" stroke=\"#000000\" points=\"51.5812,-600.256 48.0811,-590.256 44.5812,-600.256 51.5812,-600.256\"/>\n",
       "<text text-anchor=\"middle\" x=\"51.5811\" y=\"-610.8\" font-family=\"Times,serif\" font-size=\"14.00\" fill=\"#000000\">0</text>\n",
       "</g>\n",
       "<!-- (4, 0) -->\n",
       "<g id=\"node5\" class=\"node\">\n",
       "<title>(4, 0)</title>\n",
       "<text text-anchor=\"middle\" x=\"4.0811\" y=\"-514.8\" font-family=\"Times,serif\" font-size=\"14.00\" fill=\"#000000\">( </text>\n",
       "</g>\n",
       "<!-- (3, 0)&#45;&gt;(4, 0) -->\n",
       "<g id=\"edge4\" class=\"edge\">\n",
       "<title>(3, 0)&#45;&gt;(4, 0)</title>\n",
       "<path fill=\"none\" stroke=\"#000000\" d=\"M43.0337,-575.6584C35.986,-565.4072 23.0488,-546.5895 14.0257,-533.465\"/>\n",
       "<polygon fill=\"#000000\" stroke=\"#000000\" points=\"16.837,-531.376 8.2875,-525.1185 11.0687,-535.3418 16.837,-531.376\"/>\n",
       "<text text-anchor=\"middle\" x=\"33.5811\" y=\"-546.8\" font-family=\"Times,serif\" font-size=\"14.00\" fill=\"#000000\">0</text>\n",
       "</g>\n",
       "<!-- (5, 1) -->\n",
       "<g id=\"node6\" class=\"node\">\n",
       "<title>(5, 1)</title>\n",
       "<text text-anchor=\"middle\" x=\"48.0811\" y=\"-514.8\" font-family=\"Times,serif\" font-size=\"14.00\" fill=\"#000000\">&lt;expr&gt; </text>\n",
       "</g>\n",
       "<!-- (3, 0)&#45;&gt;(5, 1) -->\n",
       "<g id=\"edge5\" class=\"edge\">\n",
       "<title>(3, 0)&#45;&gt;(5, 1)</title>\n",
       "<path fill=\"none\" stroke=\"#000000\" d=\"M48.0811,-575.6584C48.0811,-566.2065 48.0811,-549.4718 48.0811,-536.632\"/>\n",
       "<polygon fill=\"#000000\" stroke=\"#000000\" points=\"51.5812,-536.256 48.0811,-526.256 44.5812,-536.256 51.5812,-536.256\"/>\n",
       "<text text-anchor=\"middle\" x=\"51.5811\" y=\"-546.8\" font-family=\"Times,serif\" font-size=\"14.00\" fill=\"#000000\">1</text>\n",
       "</g>\n",
       "<!-- (16, 2) -->\n",
       "<g id=\"node17\" class=\"node\">\n",
       "<title>(16, 2)</title>\n",
       "<text text-anchor=\"middle\" x=\"92.0811\" y=\"-514.8\" font-family=\"Times,serif\" font-size=\"14.00\" fill=\"#000000\">) </text>\n",
       "</g>\n",
       "<!-- (3, 0)&#45;&gt;(16, 2) -->\n",
       "<g id=\"edge16\" class=\"edge\">\n",
       "<title>(3, 0)&#45;&gt;(16, 2)</title>\n",
       "<path fill=\"none\" stroke=\"#000000\" d=\"M53.1284,-575.6584C60.1761,-565.4072 73.1133,-546.5895 82.1364,-533.465\"/>\n",
       "<polygon fill=\"#000000\" stroke=\"#000000\" points=\"85.0934,-535.3418 87.8746,-525.1185 79.3251,-531.376 85.0934,-535.3418\"/>\n",
       "<text text-anchor=\"middle\" x=\"77.5811\" y=\"-546.8\" font-family=\"Times,serif\" font-size=\"14.00\" fill=\"#000000\">2</text>\n",
       "</g>\n",
       "<!-- (6, 0) -->\n",
       "<g id=\"node7\" class=\"node\">\n",
       "<title>(6, 0)</title>\n",
       "<text text-anchor=\"middle\" x=\"48.0811\" y=\"-450.8\" font-family=\"Times,serif\" font-size=\"14.00\" fill=\"#000000\">&lt;term&gt; </text>\n",
       "</g>\n",
       "<!-- (5, 1)&#45;&gt;(6, 0) -->\n",
       "<g id=\"edge6\" class=\"edge\">\n",
       "<title>(5, 1)&#45;&gt;(6, 0)</title>\n",
       "<path fill=\"none\" stroke=\"#000000\" d=\"M48.0811,-511.6584C48.0811,-502.2065 48.0811,-485.4718 48.0811,-472.632\"/>\n",
       "<polygon fill=\"#000000\" stroke=\"#000000\" points=\"51.5812,-472.256 48.0811,-462.256 44.5812,-472.256 51.5812,-472.256\"/>\n",
       "<text text-anchor=\"middle\" x=\"51.5811\" y=\"-482.8\" font-family=\"Times,serif\" font-size=\"14.00\" fill=\"#000000\">0</text>\n",
       "</g>\n",
       "<!-- (7, 0) -->\n",
       "<g id=\"node8\" class=\"node\">\n",
       "<title>(7, 0)</title>\n",
       "<text text-anchor=\"middle\" x=\"48.0811\" y=\"-386.8\" font-family=\"Times,serif\" font-size=\"14.00\" fill=\"#000000\">&lt;factor&gt; </text>\n",
       "</g>\n",
       "<!-- (6, 0)&#45;&gt;(7, 0) -->\n",
       "<g id=\"edge7\" class=\"edge\">\n",
       "<title>(6, 0)&#45;&gt;(7, 0)</title>\n",
       "<path fill=\"none\" stroke=\"#000000\" d=\"M48.0811,-447.6584C48.0811,-438.2065 48.0811,-421.4718 48.0811,-408.632\"/>\n",
       "<polygon fill=\"#000000\" stroke=\"#000000\" points=\"51.5812,-408.256 48.0811,-398.256 44.5812,-408.256 51.5812,-408.256\"/>\n",
       "<text text-anchor=\"middle\" x=\"51.5811\" y=\"-418.8\" font-family=\"Times,serif\" font-size=\"14.00\" fill=\"#000000\">0</text>\n",
       "</g>\n",
       "<!-- (8, 0) -->\n",
       "<g id=\"node9\" class=\"node\">\n",
       "<title>(8, 0)</title>\n",
       "<text text-anchor=\"middle\" x=\"4.0811\" y=\"-322.8\" font-family=\"Times,serif\" font-size=\"14.00\" fill=\"#000000\">( </text>\n",
       "</g>\n",
       "<!-- (7, 0)&#45;&gt;(8, 0) -->\n",
       "<g id=\"edge8\" class=\"edge\">\n",
       "<title>(7, 0)&#45;&gt;(8, 0)</title>\n",
       "<path fill=\"none\" stroke=\"#000000\" d=\"M43.0337,-383.6584C35.986,-373.4072 23.0488,-354.5895 14.0257,-341.465\"/>\n",
       "<polygon fill=\"#000000\" stroke=\"#000000\" points=\"16.837,-339.376 8.2875,-333.1185 11.0687,-343.3418 16.837,-339.376\"/>\n",
       "<text text-anchor=\"middle\" x=\"33.5811\" y=\"-354.8\" font-family=\"Times,serif\" font-size=\"14.00\" fill=\"#000000\">0</text>\n",
       "</g>\n",
       "<!-- (9, 1) -->\n",
       "<g id=\"node10\" class=\"node\">\n",
       "<title>(9, 1)</title>\n",
       "<text text-anchor=\"middle\" x=\"48.0811\" y=\"-322.8\" font-family=\"Times,serif\" font-size=\"14.00\" fill=\"#000000\">&lt;expr&gt; </text>\n",
       "</g>\n",
       "<!-- (7, 0)&#45;&gt;(9, 1) -->\n",
       "<g id=\"edge9\" class=\"edge\">\n",
       "<title>(7, 0)&#45;&gt;(9, 1)</title>\n",
       "<path fill=\"none\" stroke=\"#000000\" d=\"M48.0811,-383.6584C48.0811,-374.2065 48.0811,-357.4718 48.0811,-344.632\"/>\n",
       "<polygon fill=\"#000000\" stroke=\"#000000\" points=\"51.5812,-344.256 48.0811,-334.256 44.5812,-344.256 51.5812,-344.256\"/>\n",
       "<text text-anchor=\"middle\" x=\"51.5811\" y=\"-354.8\" font-family=\"Times,serif\" font-size=\"14.00\" fill=\"#000000\">1</text>\n",
       "</g>\n",
       "<!-- (15, 2) -->\n",
       "<g id=\"node16\" class=\"node\">\n",
       "<title>(15, 2)</title>\n",
       "<text text-anchor=\"middle\" x=\"92.0811\" y=\"-322.8\" font-family=\"Times,serif\" font-size=\"14.00\" fill=\"#000000\">) </text>\n",
       "</g>\n",
       "<!-- (7, 0)&#45;&gt;(15, 2) -->\n",
       "<g id=\"edge15\" class=\"edge\">\n",
       "<title>(7, 0)&#45;&gt;(15, 2)</title>\n",
       "<path fill=\"none\" stroke=\"#000000\" d=\"M53.1284,-383.6584C60.1761,-373.4072 73.1133,-354.5895 82.1364,-341.465\"/>\n",
       "<polygon fill=\"#000000\" stroke=\"#000000\" points=\"85.0934,-343.3418 87.8746,-333.1185 79.3251,-339.376 85.0934,-343.3418\"/>\n",
       "<text text-anchor=\"middle\" x=\"77.5811\" y=\"-354.8\" font-family=\"Times,serif\" font-size=\"14.00\" fill=\"#000000\">2</text>\n",
       "</g>\n",
       "<!-- (10, 0) -->\n",
       "<g id=\"node11\" class=\"node\">\n",
       "<title>(10, 0)</title>\n",
       "<text text-anchor=\"middle\" x=\"48.0811\" y=\"-258.8\" font-family=\"Times,serif\" font-size=\"14.00\" fill=\"#000000\">&lt;term&gt; </text>\n",
       "</g>\n",
       "<!-- (9, 1)&#45;&gt;(10, 0) -->\n",
       "<g id=\"edge10\" class=\"edge\">\n",
       "<title>(9, 1)&#45;&gt;(10, 0)</title>\n",
       "<path fill=\"none\" stroke=\"#000000\" d=\"M48.0811,-319.6584C48.0811,-310.2065 48.0811,-293.4718 48.0811,-280.632\"/>\n",
       "<polygon fill=\"#000000\" stroke=\"#000000\" points=\"51.5812,-280.256 48.0811,-270.256 44.5812,-280.256 51.5812,-280.256\"/>\n",
       "<text text-anchor=\"middle\" x=\"51.5811\" y=\"-290.8\" font-family=\"Times,serif\" font-size=\"14.00\" fill=\"#000000\">0</text>\n",
       "</g>\n",
       "<!-- (11, 0) -->\n",
       "<g id=\"node12\" class=\"node\">\n",
       "<title>(11, 0)</title>\n",
       "<text text-anchor=\"middle\" x=\"48.0811\" y=\"-194.8\" font-family=\"Times,serif\" font-size=\"14.00\" fill=\"#000000\">&lt;factor&gt; </text>\n",
       "</g>\n",
       "<!-- (10, 0)&#45;&gt;(11, 0) -->\n",
       "<g id=\"edge11\" class=\"edge\">\n",
       "<title>(10, 0)&#45;&gt;(11, 0)</title>\n",
       "<path fill=\"none\" stroke=\"#000000\" d=\"M48.0811,-255.6584C48.0811,-246.2065 48.0811,-229.4718 48.0811,-216.632\"/>\n",
       "<polygon fill=\"#000000\" stroke=\"#000000\" points=\"51.5812,-216.256 48.0811,-206.256 44.5812,-216.256 51.5812,-216.256\"/>\n",
       "<text text-anchor=\"middle\" x=\"51.5811\" y=\"-226.8\" font-family=\"Times,serif\" font-size=\"14.00\" fill=\"#000000\">0</text>\n",
       "</g>\n",
       "<!-- (12, 0) -->\n",
       "<g id=\"node13\" class=\"node\">\n",
       "<title>(12, 0)</title>\n",
       "<text text-anchor=\"middle\" x=\"48.0811\" y=\"-130.8\" font-family=\"Times,serif\" font-size=\"14.00\" fill=\"#000000\">&lt;integer&gt; </text>\n",
       "</g>\n",
       "<!-- (11, 0)&#45;&gt;(12, 0) -->\n",
       "<g id=\"edge12\" class=\"edge\">\n",
       "<title>(11, 0)&#45;&gt;(12, 0)</title>\n",
       "<path fill=\"none\" stroke=\"#000000\" d=\"M48.0811,-191.6584C48.0811,-182.2065 48.0811,-165.4718 48.0811,-152.632\"/>\n",
       "<polygon fill=\"#000000\" stroke=\"#000000\" points=\"51.5812,-152.256 48.0811,-142.256 44.5812,-152.256 51.5812,-152.256\"/>\n",
       "<text text-anchor=\"middle\" x=\"51.5811\" y=\"-162.8\" font-family=\"Times,serif\" font-size=\"14.00\" fill=\"#000000\">0</text>\n",
       "</g>\n",
       "<!-- (13, 0) -->\n",
       "<g id=\"node14\" class=\"node\">\n",
       "<title>(13, 0)</title>\n",
       "<text text-anchor=\"middle\" x=\"48.0811\" y=\"-66.8\" font-family=\"Times,serif\" font-size=\"14.00\" fill=\"#000000\">&lt;digit&gt; </text>\n",
       "</g>\n",
       "<!-- (12, 0)&#45;&gt;(13, 0) -->\n",
       "<g id=\"edge13\" class=\"edge\">\n",
       "<title>(12, 0)&#45;&gt;(13, 0)</title>\n",
       "<path fill=\"none\" stroke=\"#000000\" d=\"M48.0811,-127.6584C48.0811,-118.2065 48.0811,-101.4718 48.0811,-88.632\"/>\n",
       "<polygon fill=\"#000000\" stroke=\"#000000\" points=\"51.5812,-88.256 48.0811,-78.256 44.5812,-88.256 51.5812,-88.256\"/>\n",
       "<text text-anchor=\"middle\" x=\"51.5811\" y=\"-98.8\" font-family=\"Times,serif\" font-size=\"14.00\" fill=\"#000000\">0</text>\n",
       "</g>\n",
       "<!-- (14, 0) -->\n",
       "<g id=\"node15\" class=\"node\">\n",
       "<title>(14, 0)</title>\n",
       "<text text-anchor=\"middle\" x=\"48.0811\" y=\"-2.8\" font-family=\"Times,serif\" font-size=\"14.00\" fill=\"#000000\">1 </text>\n",
       "</g>\n",
       "<!-- (13, 0)&#45;&gt;(14, 0) -->\n",
       "<g id=\"edge14\" class=\"edge\">\n",
       "<title>(13, 0)&#45;&gt;(14, 0)</title>\n",
       "<path fill=\"none\" stroke=\"#000000\" d=\"M48.0811,-63.6584C48.0811,-54.2065 48.0811,-37.4718 48.0811,-24.632\"/>\n",
       "<polygon fill=\"#000000\" stroke=\"#000000\" points=\"51.5812,-24.256 48.0811,-14.256 44.5812,-24.256 51.5812,-24.256\"/>\n",
       "<text text-anchor=\"middle\" x=\"51.5811\" y=\"-34.8\" font-family=\"Times,serif\" font-size=\"14.00\" fill=\"#000000\">0</text>\n",
       "</g>\n",
       "</g>\n",
       "</svg>\n"
      ],
      "text/plain": [
       "<graphviz.dot.Digraph at 0x111529bd0>"
      ]
     },
     "execution_count": 397,
     "metadata": {},
     "output_type": "execute_result"
    }
   ],
   "source": [
    "%top display_tree(exprA_tree)"
   ]
  },
  {
   "cell_type": "code",
   "execution_count": 398,
   "metadata": {},
   "outputs": [],
   "source": [
    "#%%top\n",
    "abs_path_A = [0,0,0,1,0,0,1]"
   ]
  },
  {
   "cell_type": "code",
   "execution_count": 399,
   "metadata": {},
   "outputs": [
    {
     "name": "stdout",
     "output_type": "stream",
     "text": [
      "<expr> 1\n"
     ]
    }
   ],
   "source": [
    "%top Ns(exprA_tree, [abs_path_A])"
   ]
  },
  {
   "cell_type": "code",
   "execution_count": 400,
   "metadata": {},
   "outputs": [],
   "source": [
    "#%%top\n",
    "FtA = mark_abstract_nodes(exprA_tree, [abs_path_A])"
   ]
  },
  {
   "cell_type": "code",
   "execution_count": 401,
   "metadata": {},
   "outputs": [
    {
     "data": {
      "text/plain": [
       "'((<expr>))'"
      ]
     },
     "execution_count": 401,
     "metadata": {},
     "output_type": "execute_result"
    }
   ],
   "source": [
    "%top Ta(FtA)"
   ]
  },
  {
   "cell_type": "code",
   "execution_count": 402,
   "metadata": {},
   "outputs": [
    {
     "data": {
      "image/png": "[encoded data removed]",
      "text/plain": [
       "<IPython.core.display.Image object>"
      ]
     },
     "execution_count": 402,
     "metadata": {},
     "output_type": "execute_result"
    }
   ],
   "source": [
    "%top Da(FtA)"
   ]
  },
  {
   "cell_type": "code",
   "execution_count": 403,
   "metadata": {},
   "outputs": [],
   "source": [
    "#%%top\n",
    "FpA = find_charecterizing_node(FtA)\n",
    "faultA_grammar, faultA_start = atleast_one_fault_grammar(EXPR_GRAMMAR, EXPR_START, FpA, 'A')"
   ]
  },
  {
   "cell_type": "code",
   "execution_count": 404,
   "metadata": {
    "scrolled": false
   },
   "outputs": [
    {
     "name": "stdout",
     "output_type": "stream",
     "text": [
      "<start +FA> ::=\n",
      "|    <expr +FA>\n",
      "<expr +FA> ::=\n",
      "|    <term +FA>\n",
      "|    <term +FA> ' + ' <expr>\n",
      "|    <term +FA> ' - ' <expr>\n",
      "|    <term> ' + ' <expr +FA>\n",
      "|    <term> ' - ' <expr +FA>\n",
      "<term +FA> ::=\n",
      "|    <factor +FA>\n",
      "|    <factor +FA> ' * ' <term>\n",
      "|    <factor +FA> ' / ' <term>\n",
      "|    <factor> ' * ' <term +FA>\n",
      "|    <factor> ' / ' <term +FA>\n",
      "<expr> ::=\n",
      "|    <term>\n",
      "|    <term> ' + ' <expr>\n",
      "|    <term> ' - ' <expr>\n",
      "<term> ::=\n",
      "|    <factor>\n",
      "|    <factor> ' * ' <term>\n",
      "|    <factor> ' / ' <term>\n",
      "<factor +FA> ::=\n",
      "|    '(' <expr +FA> ')'\n",
      "|    '(' <expr LA_1> ')'\n",
      "|    '+' <factor +FA>\n",
      "|    '-' <factor +FA>\n",
      "<factor> ::=\n",
      "|    '(' <expr> ')'\n",
      "|    '+' <factor>\n",
      "|    '-' <factor>\n",
      "|    <integer>\n",
      "|    <integer> '.' <integer>\n",
      "<expr LA_1> ::=\n",
      "|    <term LA_1>\n",
      "<term LA_1> ::=\n",
      "|    <factor LA_2>\n",
      "<factor LA_2> ::=\n",
      "|    '(' <expr> ')'\n",
      "<integer> ::=\n",
      "|    <digit>\n",
      "|    <digit> <integer>\n",
      "<digit> ::=\n",
      "|    '0'\n",
      "|    '1'\n",
      "|    '2'\n",
      "|    '3'\n",
      "|    '4'\n",
      "|    '5'\n",
      "|    '6'\n",
      "|    '7'\n",
      "|    '8'\n",
      "|    '9'\n",
      "12 41\n"
     ]
    },
    {
     "data": {
      "text/plain": [
       "'<start +FA>'"
      ]
     },
     "execution_count": 404,
     "metadata": {},
     "output_type": "execute_result"
    }
   ],
   "source": [
    "%%top\n",
    "Gs(faultA_grammar)\n",
    "faultA_start"
   ]
  },
  {
   "cell_type": "code",
   "execution_count": 405,
   "metadata": {},
   "outputs": [],
   "source": [
    "#%%top\n",
    "faultA_fuzzer = LimitFuzzer(faultA_grammar)\n",
    "faultA_parser = Parser(faultA_grammar, canonical=True, start_symbol=faultA_start)"
   ]
  },
  {
   "cell_type": "code",
   "execution_count": 406,
   "metadata": {},
   "outputs": [
    {
     "name": "stdout",
     "output_type": "stream",
     "text": [
      "((-0.2 + 0.1 + 2.3 + 6.3)) + 0585 * +1024 + 10.3 / ((5) / 0.4 * 7.1 + 0.2 / 6.2) - (1 / 1 * 5 + 1 * 9) / 1.8 - 880.5\n",
      "+-(80 + -1.3 - 8.0 / 7 + 2 - 3) * (0.7 / (6) + (6 + 1.0) + (0) / 1 / 8 - 0 - 4.4 - 1.0) / (9 / -2.5 + (3.0) * 8.9 * 7.0 - 3 * ((2)) * 1 - 1.9)\n",
      "(--68 * 814 * -(0) / (0) / 5 / 4 - 86.3 / (1.6 + 4) * 3 * 2 - +(8) / 5 / 9 + 9.6 * 0.3 / 6.9 - 6.7 + 9 - 5) * -((6.4)) / (--7 - 3.2 + 7.9 * 9 - 2 - 2) / 37 - 3\n",
      "810.36 / ((6.5 / 6 + 1.8 - 2.0) * (7 - 1) * -1.0 + -(6) - -9 * 1 * 3.1) / 4 - +(40.3 - (8.0) + 2.4 * 2.9 + 3.6 - 5.1) * -3 / -82 + (90 * -9.5 - (9.9) * ((8.9))) * 9 * 80 * +2 / 1.7 - 069.8 / ++5\n",
      "+++(9.0 + 7 / 1 + 3.9 - ((9.2)) / 7.0 - 8) + ++97.0\n",
      "--+((2)) / 5 * 380 - 939.1\n",
      "-((7 + 4.4 - 2) - 4.45) / -(-(6.4) / +3.0) / (6.1 / +4 + +8 / ((4.2)) * 7.7) * +(5 * 3.7) / 8.51\n",
      "-+(-(((3.6)) / 3.9 + 1) / 3.0) / (--9 / 3.76 - 4.58 * 1 / 0.8 * 5 + (3) / 1.6 * 8 - 6 / 4.5 - 3 + 5) * (72.48 / 7.3) * (4.0 * 1.3 / 4.6) / -(6) + -3 / -(5.7 * 9 - 4 * 7 + 1.0 + 4)\n",
      "(+(((8.4))) * (7 * 7) / 0.54 * (2) / 4 * 1 - 9.8 / 7 * 5)\n",
      "+-+9508 / +(++3 * (4.3) - -8 - 6.6 * 9.3 - 9.2) * -90.0804 / ++-6.7 - +((6 - 1))\n"
     ]
    }
   ],
   "source": [
    "%%top\n",
    "for i in range(10):\n",
    "    s = faultA_fuzzer.fuzz(key=faultA_start)\n",
    "    print(s)\n",
    "    assert faultA_parser.can_parse(s)"
   ]
  },
  {
   "cell_type": "code",
   "execution_count": 407,
   "metadata": {},
   "outputs": [],
   "source": [
    "%top assert not faultA_parser.can_parse('1')"
   ]
  },
  {
   "cell_type": "markdown",
   "metadata": {},
   "source": [
    "### neg(A)"
   ]
  },
  {
   "cell_type": "code",
   "execution_count": null,
   "metadata": {},
   "outputs": [],
   "source": []
  },
  {
   "cell_type": "code",
   "execution_count": 408,
   "metadata": {
    "scrolled": false
   },
   "outputs": [],
   "source": [
    "#%%top\n",
    "neg_A_grammar, neg_A_start = negate_grammar(faultA_grammar, faultA_start, EXPR_GRAMMAR, EXPR_START)"
   ]
  },
  {
   "cell_type": "code",
   "execution_count": 409,
   "metadata": {
    "scrolled": false
   },
   "outputs": [
    {
     "name": "stdout",
     "output_type": "stream",
     "text": [
      "<start neg(+FA)> ::=\n",
      "|    <expr neg(+FA)>\n",
      "<expr neg(+FA)> ::=\n",
      "|    <term neg(+FA)>\n",
      "|    <term neg(+FA)> ' + ' <expr neg(+FA)>\n",
      "|    <term neg(+FA)> ' - ' <expr neg(+FA)>\n",
      "<term neg(+FA)> ::=\n",
      "|    <factor neg(+FA)>\n",
      "|    <factor neg(+FA)> ' * ' <term neg(+FA)>\n",
      "|    <factor neg(+FA)> ' / ' <term neg(+FA)>\n",
      "<factor neg(+FA)> ::=\n",
      "|    '(' <expr and(neg(+FA),neg(LA_1))> ')'\n",
      "|    '+' <factor neg(+FA)>\n",
      "|    '-' <factor neg(+FA)>\n",
      "|    <integer>\n",
      "|    <integer> '.' <integer>\n",
      "<expr and(neg(+FA),neg(LA_1))> ::=\n",
      "|    <term and(neg(+FA),neg(LA_1))>\n",
      "|    <term neg(+FA)> ' + ' <expr neg(+FA)>\n",
      "|    <term neg(+FA)> ' - ' <expr neg(+FA)>\n",
      "<integer> ::=\n",
      "|    <digit>\n",
      "|    <digit> <integer>\n",
      "<term and(neg(+FA),neg(LA_1))> ::=\n",
      "|    <factor and(neg(+FA),neg(LA_2))>\n",
      "|    <factor neg(+FA)> ' * ' <term neg(+FA)>\n",
      "|    <factor neg(+FA)> ' / ' <term neg(+FA)>\n",
      "<factor and(neg(+FA),neg(LA_2))> ::=\n",
      "|    '+' <factor neg(+FA)>\n",
      "|    '-' <factor neg(+FA)>\n",
      "|    <integer>\n",
      "|    <integer> '.' <integer>\n",
      "<digit> ::=\n",
      "|    '0'\n",
      "|    '1'\n",
      "|    '2'\n",
      "|    '3'\n",
      "|    '4'\n",
      "|    '5'\n",
      "|    '6'\n",
      "|    '7'\n",
      "|    '8'\n",
      "|    '9'\n",
      "9 34\n"
     ]
    },
    {
     "data": {
      "text/plain": [
       "'<start neg(+FA)>'"
      ]
     },
     "execution_count": 409,
     "metadata": {},
     "output_type": "execute_result"
    }
   ],
   "source": [
    "%%top\n",
    "Gs(neg_A_grammar)\n",
    "neg_A_start"
   ]
  },
  {
   "cell_type": "code",
   "execution_count": 410,
   "metadata": {},
   "outputs": [],
   "source": [
    "neg_A_fuzzer = LimitFuzzer(neg_A_grammar)\n",
    "neg_A_parser = Parser(neg_A_grammar, canonical=True, start_symbol=neg_A_start)"
   ]
  },
  {
   "cell_type": "markdown",
   "metadata": {},
   "source": [
    "`neg(A)` is the exact opposite in refinement of `A` which is exactly one fault. So it should produce either no fault or more than one fault."
   ]
  },
  {
   "cell_type": "code",
   "execution_count": 411,
   "metadata": {},
   "outputs": [],
   "source": [
    "%%top\n",
    "assert neg_A_parser.can_parse('1')"
   ]
  },
  {
   "cell_type": "code",
   "execution_count": 412,
   "metadata": {},
   "outputs": [],
   "source": [
    "%%top\n",
    "assert not neg_A_parser.can_parse('((1))')"
   ]
  },
  {
   "cell_type": "code",
   "execution_count": 413,
   "metadata": {},
   "outputs": [],
   "source": [
    "#%%top\n",
    "#assert neg_A_parser.can_parse('((1)) + ((2))')"
   ]
  },
  {
   "cell_type": "code",
   "execution_count": 414,
   "metadata": {},
   "outputs": [],
   "source": [
    "%%top\n",
    "xp = {**neg_A_grammar, **{'<x>': [['<expr LA_1>']]}}"
   ]
  },
  {
   "cell_type": "code",
   "execution_count": 415,
   "metadata": {},
   "outputs": [],
   "source": [
    "%%top\n",
    "np = Parser(xp, canonical=True, start_symbol='<x>')"
   ]
  },
  {
   "cell_type": "code",
   "execution_count": 416,
   "metadata": {},
   "outputs": [],
   "source": [
    "#%%top\n",
    "#assert np.can_parse('(2)')"
   ]
  },
  {
   "cell_type": "code",
   "execution_count": 417,
   "metadata": {},
   "outputs": [
    {
     "name": "stdout",
     "output_type": "stream",
     "text": [
      "((0 * 3 * 1.9 - 7.7) / +32 / ++5.8 / (0) + 3 + 0 + (3) * 5.8) / 1 * +5.45 + 40.46 / 8.0 / (7.8 / 7 / 6.8 + 3) * +7 * (3 + 1) - 0.3 / (+3.7 / 6.6 * 0) / (1 / 5.8 - 0.1) / 78.3 - --5.05 * --8.4 * 44 / +2\n",
      "neg_faultA\n",
      "not faultA\n",
      "+-(-2 + 7 * 9 * 7 - 8.2) * (376.17 - 5 / +8 * 3 - 1.7 * 1.8 * 1) - 9.900 * 10.80 + -+-(1.0 - 0.0) * 1 * 4.5 * +(9.3) - (3.6 - 3.2 / 6 - 9.8 + 0.6) / +++6 / 92.67\n",
      "neg_faultA\n",
      "not faultA\n",
      "(-(1 - 9) * (7.8) / 2.4 / -7.1 * 1 * 5.0 - (4.8 * 5.7 - 3 - 7) / 3.75 * (2) * 3.7 / 8) - (1.5 + 2.01 / 0.9 * 2)\n",
      "neg_faultA\n",
      "not faultA\n",
      "((2 / 6 + 0) / 84 - +-3 * 9 / 2.0 / 6.0 / 8)\n",
      "neg_faultA\n",
      "not faultA\n",
      "((-2.2 + 5.6 / 6.6 + 3.7) / -(5 + 9) / (9 - 6.5) + +9 + 64 - -8.5 * 6.7 + 7.3 + 6) / 7 * (0 / (8) / 5.7) * 5 / 56.6 / --2 + 5.90\n",
      "neg_faultA\n",
      "not faultA\n",
      "(+-(0.0 + 4) / 9.1 * -+1.9 / +7.2 / 4.2 * 2) / (--(8.4) / (4.8 + 5.1) - +-9 / 8 + 9.8 * 4 / 2) * +0 * 4 / 086 * -+0.9 * (7) * 6.6 / 8 + (1 * (2 + 8))\n",
      "neg_faultA\n",
      "not faultA\n",
      "--+767 * 489 * +6.2 * --++6.4 + 60.1 + +-++8 * 4 * (6 * 5.8 + 6) * (9 + 8.1) / +1 * 3 / 2.5 + -(3.3 * 5.0) - 17 * -4.5 * -6 / 0 * 1.8\n",
      "neg_faultA\n",
      "not faultA\n",
      "(+591 - +-+8.4 / 6.49 - 4 / +6.1 / 2 * 5 + 4 + 5.2)\n",
      "neg_faultA\n",
      "not faultA\n",
      "(---+8.2 / --+7 - 38.57 / 53 / 8 + (7 + 5) * 0.5 / 6.1 / 2.7 + +3.5 * 2.5 / 6 - 6 / 0 - 1.2) * (5.21 * 1 / +4.7) + ((9.0) * -+7.0 / +3.9 * 6 * 8.5) - (6.5 * 3 / 1 / 2.9 + 6.1 / 0 - 6 / 3.7 + 1) / +881.2 / +++5\n",
      "neg_faultA\n",
      "not faultA\n",
      "53 * 9.860 / (43.0 / (5) / 5.7 + +3 * 1 / 1 + 3 * 1.8) / 2 + ++-3 * (7 / 4.2 * 4.1 / 4.6 - 4 / 0 + 2 * 2 - 1 + 8) - 8\n",
      "neg_faultA\n",
      "not faultA\n"
     ]
    }
   ],
   "source": [
    "%%top\n",
    "for i in range(10): # takes too long to generate\n",
    "    s = neg_A_fuzzer.fuzz(key=neg_A_start)\n",
    "    print(s)\n",
    "    print('neg_faultA')\n",
    "    assert neg_A_parser.can_parse(s)\n",
    "    print('not faultA')\n",
    "    assert not faultA_parser.can_parse(s)"
   ]
  },
  {
   "cell_type": "markdown",
   "metadata": {},
   "source": [
    "## Fault B"
   ]
  },
  {
   "cell_type": "code",
   "execution_count": 418,
   "metadata": {},
   "outputs": [
    {
     "data": {
      "text/plain": [
       "[]"
      ]
     },
     "execution_count": 418,
     "metadata": {},
     "output_type": "execute_result"
    }
   ],
   "source": [
    "EXCEPTION_HAPPENED"
   ]
  },
  {
   "cell_type": "code",
   "execution_count": 419,
   "metadata": {},
   "outputs": [
    {
     "data": {
      "text/plain": [
       "'0 + 0'"
      ]
     },
     "execution_count": 419,
     "metadata": {},
     "output_type": "execute_result"
    }
   ],
   "source": [
    "exprB_input = '0 + 0'\n",
    "exprB_tree = list(expr_parser.parse(exprB_input))[0]\n",
    "tree_to_str(exprB_tree)"
   ]
  },
  {
   "cell_type": "code",
   "execution_count": 420,
   "metadata": {},
   "outputs": [],
   "source": [
    "abs_path_B_a = [0,0]\n",
    "abs_path_B_b = [0,2,0]"
   ]
  },
  {
   "cell_type": "code",
   "execution_count": 421,
   "metadata": {},
   "outputs": [
    {
     "name": "stdout",
     "output_type": "stream",
     "text": [
      "<term> 0\n",
      "<term> 0\n"
     ]
    }
   ],
   "source": [
    "%%top\n",
    "Ns(exprB_tree, [abs_path_B_a, abs_path_B_b])"
   ]
  },
  {
   "cell_type": "code",
   "execution_count": 422,
   "metadata": {},
   "outputs": [],
   "source": [
    "FtB = mark_abstract_nodes(exprB_tree, [abs_path_B_a, abs_path_B_b])"
   ]
  },
  {
   "cell_type": "code",
   "execution_count": 423,
   "metadata": {},
   "outputs": [
    {
     "data": {
      "text/plain": [
       "'<term> + <term>'"
      ]
     },
     "execution_count": 423,
     "metadata": {},
     "output_type": "execute_result"
    }
   ],
   "source": [
    "%%top\n",
    "Ta(FtB)"
   ]
  },
  {
   "cell_type": "code",
   "execution_count": 424,
   "metadata": {},
   "outputs": [
    {
     "data": {
      "image/png": "[encoded data removed]",
      "text/plain": [
       "<IPython.core.display.Image object>"
      ]
     },
     "execution_count": 424,
     "metadata": {},
     "output_type": "execute_result"
    }
   ],
   "source": [
    "Da(FtB)"
   ]
  },
  {
   "cell_type": "code",
   "execution_count": 425,
   "metadata": {},
   "outputs": [],
   "source": [
    "FpB = find_charecterizing_node(FtB)\n",
    "faultB_grammar, faultB_start  = atleast_one_fault_grammar(EXPR_GRAMMAR, EXPR_START, FpB, 'B')"
   ]
  },
  {
   "cell_type": "code",
   "execution_count": 426,
   "metadata": {
    "scrolled": false
   },
   "outputs": [
    {
     "name": "stdout",
     "output_type": "stream",
     "text": [
      "<start +FB> ::=\n",
      "|    <expr +FB>\n",
      "<expr +FB> ::=\n",
      "|    <term +FB>\n",
      "|    <term +FB> ' + ' <expr>\n",
      "|    <term +FB> ' - ' <expr>\n",
      "|    <term> ' + ' <expr +FB>\n",
      "|    <term> ' + ' <expr LB_2>\n",
      "|    <term> ' - ' <expr +FB>\n",
      "<term +FB> ::=\n",
      "|    <factor +FB>\n",
      "|    <factor +FB> ' * ' <term>\n",
      "|    <factor +FB> ' / ' <term>\n",
      "|    <factor> ' * ' <term +FB>\n",
      "|    <factor> ' / ' <term +FB>\n",
      "<expr> ::=\n",
      "|    <term>\n",
      "|    <term> ' + ' <expr>\n",
      "|    <term> ' - ' <expr>\n",
      "<term> ::=\n",
      "|    <factor>\n",
      "|    <factor> ' * ' <term>\n",
      "|    <factor> ' / ' <term>\n",
      "<expr LB_2> ::=\n",
      "|    <term>\n",
      "<factor +FB> ::=\n",
      "|    '(' <expr +FB> ')'\n",
      "|    '+' <factor +FB>\n",
      "|    '-' <factor +FB>\n",
      "<factor> ::=\n",
      "|    '(' <expr> ')'\n",
      "|    '+' <factor>\n",
      "|    '-' <factor>\n",
      "|    <integer>\n",
      "|    <integer> '.' <integer>\n",
      "<integer> ::=\n",
      "|    <digit>\n",
      "|    <digit> <integer>\n",
      "<digit> ::=\n",
      "|    '0'\n",
      "|    '1'\n",
      "|    '2'\n",
      "|    '3'\n",
      "|    '4'\n",
      "|    '5'\n",
      "|    '6'\n",
      "|    '7'\n",
      "|    '8'\n",
      "|    '9'\n",
      "10 39\n"
     ]
    },
    {
     "data": {
      "text/plain": [
       "'<start +FB>'"
      ]
     },
     "execution_count": 426,
     "metadata": {},
     "output_type": "execute_result"
    }
   ],
   "source": [
    "%%top\n",
    "Gs(faultB_grammar)\n",
    "faultB_start"
   ]
  },
  {
   "cell_type": "code",
   "execution_count": 427,
   "metadata": {},
   "outputs": [],
   "source": [
    "faultB_fuzzer = LimitFuzzer(faultB_grammar)\n",
    "faultB_parser = Parser(faultB_grammar, canonical=True, start_symbol=faultB_start)"
   ]
  },
  {
   "cell_type": "code",
   "execution_count": 428,
   "metadata": {},
   "outputs": [
    {
     "name": "stdout",
     "output_type": "stream",
     "text": [
      "73 / (+++8 / 98.8 + (8.1) * (6) - 8 * 6.8 / 9 - 8) + ++-53.5 + (-+6 / (2) / 4 * 4 - 6.6 * 2.0 * 0.7) * -770 * -(7 + 0.3)\n"
     ]
    }
   ],
   "source": [
    "%%top\n",
    "for i in range(1):\n",
    "    s = faultB_fuzzer.fuzz(key=faultB_start)\n",
    "    print(s)\n",
    "    assert faultB_parser.can_parse(s)"
   ]
  },
  {
   "cell_type": "code",
   "execution_count": 429,
   "metadata": {},
   "outputs": [],
   "source": [
    "%%top\n",
    "assert not faultB_parser.can_parse('1 - 2')"
   ]
  },
  {
   "cell_type": "code",
   "execution_count": null,
   "metadata": {},
   "outputs": [],
   "source": []
  },
  {
   "cell_type": "markdown",
   "metadata": {},
   "source": [
    "### neg(B)"
   ]
  },
  {
   "cell_type": "code",
   "execution_count": 430,
   "metadata": {
    "scrolled": false
   },
   "outputs": [],
   "source": [
    "#%%top\n",
    "neg_B_grammar, neg_B_start = negate_grammar(faultB_grammar, faultB_start, EXPR_GRAMMAR, EXPR_START)"
   ]
  },
  {
   "cell_type": "code",
   "execution_count": 431,
   "metadata": {
    "scrolled": true
   },
   "outputs": [
    {
     "name": "stdout",
     "output_type": "stream",
     "text": [
      "<start neg(+FB)> ::=\n",
      "|    <expr neg(+FB)>\n",
      "<expr neg(+FB)> ::=\n",
      "|    <term neg(+FB)>\n",
      "|    <term neg(+FB)> ' + ' <expr and(neg(+FB),neg(LB_2))>\n",
      "|    <term neg(+FB)> ' - ' <expr neg(+FB)>\n",
      "<term neg(+FB)> ::=\n",
      "|    <factor neg(+FB)>\n",
      "|    <factor neg(+FB)> ' * ' <term neg(+FB)>\n",
      "|    <factor neg(+FB)> ' / ' <term neg(+FB)>\n",
      "<expr and(neg(+FB),neg(LB_2))> ::=\n",
      "|    <term neg(+FB)> ' + ' <expr and(neg(+FB),neg(LB_2))>\n",
      "|    <term neg(+FB)> ' - ' <expr neg(+FB)>\n",
      "<factor neg(+FB)> ::=\n",
      "|    '(' <expr neg(+FB)> ')'\n",
      "|    '+' <factor neg(+FB)>\n",
      "|    '-' <factor neg(+FB)>\n",
      "|    <integer>\n",
      "|    <integer> '.' <integer>\n",
      "<integer> ::=\n",
      "|    <digit>\n",
      "|    <digit> <integer>\n",
      "<digit> ::=\n",
      "|    '0'\n",
      "|    '1'\n",
      "|    '2'\n",
      "|    '3'\n",
      "|    '4'\n",
      "|    '5'\n",
      "|    '6'\n",
      "|    '7'\n",
      "|    '8'\n",
      "|    '9'\n",
      "7 26\n"
     ]
    },
    {
     "data": {
      "text/plain": [
       "'<start neg(+FB)>'"
      ]
     },
     "execution_count": 431,
     "metadata": {},
     "output_type": "execute_result"
    }
   ],
   "source": [
    "%%top\n",
    "Gs(neg_B_grammar)\n",
    "neg_B_start"
   ]
  },
  {
   "cell_type": "code",
   "execution_count": 432,
   "metadata": {},
   "outputs": [],
   "source": [
    "neg_B_fuzzer = LimitFuzzer(neg_B_grammar)\n",
    "neg_B_parser = Parser(neg_B_grammar, canonical=True, start_symbol=neg_B_start)"
   ]
  },
  {
   "cell_type": "code",
   "execution_count": null,
   "metadata": {},
   "outputs": [],
   "source": []
  },
  {
   "cell_type": "markdown",
   "metadata": {},
   "source": [
    "`neg(A)` is the exact opposite in refinement of `A` which is exactly one fault. So it should produce either no fault or more than one fault."
   ]
  },
  {
   "cell_type": "code",
   "execution_count": 433,
   "metadata": {},
   "outputs": [],
   "source": [
    "%%top\n",
    "assert neg_B_parser.can_parse('1')"
   ]
  },
  {
   "cell_type": "code",
   "execution_count": 434,
   "metadata": {},
   "outputs": [],
   "source": [
    "%%top\n",
    "assert neg_B_parser.can_parse('((1))')"
   ]
  },
  {
   "cell_type": "code",
   "execution_count": 435,
   "metadata": {},
   "outputs": [],
   "source": [
    "%%top\n",
    "assert not neg_B_parser.can_parse('((1)) + ((2))')"
   ]
  },
  {
   "cell_type": "code",
   "execution_count": 436,
   "metadata": {},
   "outputs": [],
   "source": [
    "%%top\n",
    "assert neg_B_parser.can_parse('1 - 2')"
   ]
  },
  {
   "cell_type": "code",
   "execution_count": 437,
   "metadata": {},
   "outputs": [],
   "source": [
    "%%top\n",
    "assert not neg_B_parser.can_parse('1 + 2')"
   ]
  },
  {
   "cell_type": "code",
   "execution_count": 438,
   "metadata": {},
   "outputs": [
    {
     "name": "stdout",
     "output_type": "stream",
     "text": [
      "-1 * 543.7 / -17 / -69.352 / (2 * 8 + 3.5 - 2.4)\n",
      "+(1.1 + -5 / (6.9) * 2.8 * 4 + 0 + 2 * 6 + 9.2 + 8 - 0.8) / +-31.3 / ((5.1 + 3 - 5) * +2.4 / 9.9 / 1.9 - 5 + 3 * 6 - 7 - 3) * 810 * 8 * 05 * 6.8 / 3 * 0\n",
      "-+(2 / 3.9 / 9 * 7.8 - 3.8 / 3.2 / 2.6 - 2) / 638.5 - (+-7 / 99 + +(8) / (2.2) - (3) * 5) / (-+2 / 1 * 5.9 * 5.1 + (6.4) + 4.6 / 6 - 1) - -356.7 / +0 * -77 / -+0 / (8.4)\n",
      "+-+62 * -+(-2.1 / 6 / 8.4 + 4.7 + 2.9 + 7.0 - 9.7) / (-3 - (4) / 5.1 / 5.9 + 0.3 / 0.8 + 9.2 + 6.9 - 9.7) * +987.992 + 4109.3 * 8.4 / 62.2 / (5 / 4 - 8.9) * 00 * -7.8 / 1.2 / 4.3 - -(8 - 1 / 8.2) * -+2.8 / -(2 - 4) - 7954 * 178.9 * 20 * +5.8 + +01 * -(0) / 5 / 4.8 / 6.1 - 9 * (3) / 9.3 * 1.5\n",
      "30.8 / 80.60\n",
      "3 * --0.0 * (+-1.1 / +5 / 4 / 3) / ((7) * 4.4 - 6 / 7.8) - 9.4 / -(8 / 6.8 * 6.9) * (1 * 5.9 * 0.3 - 4 * 2.8 - 2) / -(0.8 + 0.8 - 6) - 64 / 81.04 / 65.4 - +(3.0 / 2) + (4 * 1.9 - 5) / --9 * 4.1 + (2 - 9) - 7 / 1 - 1.9 * 1 - 1.9 - 8\n",
      "-11 / 3.06386 * +(3 * 9.2 * 5) * +7.44 * 4 * 88.3 - (--9.0 * 6.0 / -8.9 * 8.3 * 5 - 76 / (2) - -1 * 3.6 * 9 + 5 / 4 + 9 + 9 - 7) / +9 / +604 + 7.4 * (6 - 7 - 0.2) / +-1 / 36.9 / +2.4 / 5.5 / 8 - +973.414 / (3.0 / 5 - 5.2 - 6) + 84.120 / +(8.2) * (0.7) + 53 / +3.6 * 5.6 + (3) * 4 * 9.4 - 4 / 6.3 + 5.0 + 3.1 - 4.4\n",
      "-81804 / (6.200 / ++9.5 * (0) / 3 / 4.8 + +5.4 - (8) / 9.6 * 9) / 70 / 9 * (7.3 - 1.5 - 9) * 51 * -9.1 * 1.9 / 8.8 - +-3 / 65 / 9 * -(3.9)\n",
      "1.5 / -4.42 * -(+4 + 4.6 / 1.9 - 1.4 - 4) * (+6.2) / -(6 - 4) - 6.2 / -+++-9 - 203 * --35.8 * (4.6 * 6.5 - 0.1) + 180 / 32 * -+4.6 / 5.5 - (9 - 0) * 04.4 + +(6.4) - 8.7 * 8.1 - 0 * 2.6 - 7.8 + 1 - 0.8\n",
      "++(84) / 983419 / +(-5 * 3 * 1 + 6.1 + 1.9 + 5 - 1.3) / 9 / 10.70 / 1\n"
     ]
    }
   ],
   "source": [
    "%%top\n",
    "for i in range(10):\n",
    "    s = neg_B_fuzzer.fuzz(key=neg_B_start)\n",
    "    print(s)\n",
    "    assert neg_B_parser.can_parse(s)\n",
    "    assert not faultB_parser.can_parse(s)"
   ]
  },
  {
   "cell_type": "code",
   "execution_count": null,
   "metadata": {},
   "outputs": [],
   "source": []
  },
  {
   "cell_type": "markdown",
   "metadata": {},
   "source": [
    "## Fault C"
   ]
  },
  {
   "cell_type": "code",
   "execution_count": 439,
   "metadata": {},
   "outputs": [
    {
     "data": {
      "text/plain": [
       "[]"
      ]
     },
     "execution_count": 439,
     "metadata": {},
     "output_type": "execute_result"
    }
   ],
   "source": [
    "EXCEPTION_HAPPENED"
   ]
  },
  {
   "cell_type": "code",
   "execution_count": 440,
   "metadata": {},
   "outputs": [
    {
     "data": {
      "text/plain": [
       "'1 / 0'"
      ]
     },
     "execution_count": 440,
     "metadata": {},
     "output_type": "execute_result"
    }
   ],
   "source": [
    "exprC_input = '1 / 0'\n",
    "exprC_tree = list(expr_parser.parse(exprC_input))[0]\n",
    "tree_to_str(exprC_tree)"
   ]
  },
  {
   "cell_type": "code",
   "execution_count": 441,
   "metadata": {},
   "outputs": [],
   "source": [
    "abs_path_C = [0,0, 0]"
   ]
  },
  {
   "cell_type": "code",
   "execution_count": 442,
   "metadata": {},
   "outputs": [
    {
     "name": "stdout",
     "output_type": "stream",
     "text": [
      "<factor> 1\n"
     ]
    }
   ],
   "source": [
    "%%top\n",
    "Ns(exprC_tree, [abs_path_C])"
   ]
  },
  {
   "cell_type": "code",
   "execution_count": 443,
   "metadata": {},
   "outputs": [],
   "source": [
    "FtC = mark_abstract_nodes(exprC_tree, [abs_path_C])"
   ]
  },
  {
   "cell_type": "code",
   "execution_count": 444,
   "metadata": {},
   "outputs": [
    {
     "data": {
      "image/png": "[encoded data removed]",
      "text/plain": [
       "<IPython.core.display.Image object>"
      ]
     },
     "execution_count": 444,
     "metadata": {},
     "output_type": "execute_result"
    }
   ],
   "source": [
    "%%top\n",
    "Da(FtC)"
   ]
  },
  {
   "cell_type": "code",
   "execution_count": 445,
   "metadata": {},
   "outputs": [],
   "source": [
    "FpC = find_charecterizing_node(FtC)\n",
    "faultC_grammar, faultC_start = atleast_one_fault_grammar(EXPR_GRAMMAR, EXPR_START, FpC, 'C')"
   ]
  },
  {
   "cell_type": "code",
   "execution_count": 446,
   "metadata": {
    "scrolled": true
   },
   "outputs": [
    {
     "name": "stdout",
     "output_type": "stream",
     "text": [
      "<start +FC> ::=\n",
      "|    <expr +FC>\n",
      "<expr +FC> ::=\n",
      "|    <term +FC>\n",
      "|    <term +FC> ' + ' <expr>\n",
      "|    <term +FC> ' - ' <expr>\n",
      "|    <term> ' + ' <expr +FC>\n",
      "|    <term> ' - ' <expr +FC>\n",
      "<term +FC> ::=\n",
      "|    <factor +FC>\n",
      "|    <factor +FC> ' * ' <term>\n",
      "|    <factor +FC> ' / ' <term>\n",
      "|    <factor> ' * ' <term +FC>\n",
      "|    <factor> ' / ' <term +FC>\n",
      "|    <factor> ' / ' <term LC_2>\n",
      "<expr> ::=\n",
      "|    <term>\n",
      "|    <term> ' + ' <expr>\n",
      "|    <term> ' - ' <expr>\n",
      "<term> ::=\n",
      "|    <factor>\n",
      "|    <factor> ' * ' <term>\n",
      "|    <factor> ' / ' <term>\n",
      "<factor +FC> ::=\n",
      "|    '(' <expr +FC> ')'\n",
      "|    '+' <factor +FC>\n",
      "|    '-' <factor +FC>\n",
      "<factor> ::=\n",
      "|    '(' <expr> ')'\n",
      "|    '+' <factor>\n",
      "|    '-' <factor>\n",
      "|    <integer>\n",
      "|    <integer> '.' <integer>\n",
      "<term LC_2> ::=\n",
      "|    <factor LC_1>\n",
      "<integer> ::=\n",
      "|    <digit>\n",
      "|    <digit> <integer>\n",
      "<digit> ::=\n",
      "|    '0'\n",
      "|    '1'\n",
      "|    '2'\n",
      "|    '3'\n",
      "|    '4'\n",
      "|    '5'\n",
      "|    '6'\n",
      "|    '7'\n",
      "|    '8'\n",
      "|    '9'\n",
      "<factor LC_1> ::=\n",
      "|    <integer LC_1>\n",
      "<integer LC_1> ::=\n",
      "|    <digit LC_1>\n",
      "<digit LC_1> ::=\n",
      "|    '0'\n",
      "13 42\n"
     ]
    },
    {
     "data": {
      "text/plain": [
       "'<start +FC>'"
      ]
     },
     "execution_count": 446,
     "metadata": {},
     "output_type": "execute_result"
    }
   ],
   "source": [
    "%%top\n",
    "Gs(faultC_grammar)\n",
    "faultC_start"
   ]
  },
  {
   "cell_type": "code",
   "execution_count": 447,
   "metadata": {},
   "outputs": [],
   "source": [
    "faultC_fuzzer = LimitFuzzer(faultC_grammar)\n",
    "faultC_parser = Parser(faultC_grammar, canonical=True, start_symbol=faultC_start)"
   ]
  },
  {
   "cell_type": "code",
   "execution_count": 448,
   "metadata": {},
   "outputs": [
    {
     "name": "stdout",
     "output_type": "stream",
     "text": [
      "((+9 - 5.2 - 7 + 2.1) * (7.2 / 2 + 9) + 467 / 9.2 * 9.9 - 33 * -5 + (1.7 / 0) * 5 * 1.3 + 3.6 * 5.1 - 9.4 - 1) * 353922 * 76926 * 0 * (7 * 7.6) / +-8.0\n",
      "33.2 * --(+8.0 * 3.5) - +(-(3.2 / 0) + (2) / 3.7 - 3 + 2 - 8.5)\n",
      "+684 / 0 - -0 * 0.63 / ++-6 * -(9.3 + 4)\n",
      "90.4665 + 87 / 0\n",
      "(2812 / -(3) * (6.9) - 49.6 + 7.4 / 2 * 2.9) + 857.9 / -5.84 - -(-8.8 * 1 + 3.3 / 9 - 1) / 0 - --(1) * +6 / (2.9) / +0.7 * 4 / 4.0\n",
      "+(-3.41 * +4.6 + +7.8 / +4 / 2.7 * 0.8) / 0 + 02.27 / +(2.9 + 7) + +((9) * 5 * 4.4) * +(6.8 / 5.3) / 503 - +-02 / 0 * 0 - 96 * 79 * +9.2 * 3.6 / 8.6 + 8.27 / 4 * 2.3 * 8\n",
      "(-+++0.0 + 5 - 05 * 5 * 1.6 / 8.0 - 9 * 7.7 * 4) * (0 / -(6.4) / +7 * 6.9 / 3 - 76.8 + 5.1 / 8.6 / 9) / (0 / 4) / 90.2 + +3.74060 * +1.4 * --+(8.8 / 0) + -945 + 56 + 769.1 - 4.4 / 6.4 / 0 + -4.9 * 1 * 9\n",
      "+(-89 * --1.3 - 67.3 / +(6 / 0) * 4.9 - (8) / 6 * 1 - 9.4 - 0.8) - (8.5 + (0) * +5.7 / 6)\n",
      "1 / 8.6 / 0 + +50527 + 1.4 / 47 * -(1 - 0) * +(8.6) * 2.2 * 4.7 / 5 + ((8) * 0.8 / 9 - 5 / 0.5) / (5.4 - 4 + 6) * -5.7 * (8) / 7.3 * 2 - +-6.8 * 80 + 1 * +0.1 / 6\n",
      "+(+++9 / -+3 - +-7.3 / (6) * 9 + 8 * 8.0 + 2 * 5.1 + 6) * (-77 * -(8) / -5 / 2 * 2 + -8 - (7.2) / 0 + 4.9 / 1.7 - 5) + (6 / 8 * -3 / 2 * 4 - -+0.7 / 6.2 / 5.6) / 9.6\n"
     ]
    }
   ],
   "source": [
    "%%top\n",
    "for i in range(10):\n",
    "    s = faultC_fuzzer.fuzz(key=faultC_start)\n",
    "    print(s)\n",
    "    assert faultC_parser.can_parse(s)"
   ]
  },
  {
   "cell_type": "code",
   "execution_count": 449,
   "metadata": {},
   "outputs": [],
   "source": [
    "%%top\n",
    "assert not faultC_parser.can_parse('1 - 2')"
   ]
  },
  {
   "cell_type": "code",
   "execution_count": null,
   "metadata": {},
   "outputs": [],
   "source": []
  },
  {
   "cell_type": "markdown",
   "metadata": {},
   "source": [
    "### neg(C)"
   ]
  },
  {
   "cell_type": "code",
   "execution_count": 450,
   "metadata": {
    "scrolled": false
   },
   "outputs": [],
   "source": [
    "#%%top\n",
    "neg_C_grammar, neg_C_start = negate_grammar(faultC_grammar, faultC_start, EXPR_GRAMMAR, EXPR_START)"
   ]
  },
  {
   "cell_type": "code",
   "execution_count": 451,
   "metadata": {
    "scrolled": false
   },
   "outputs": [
    {
     "name": "stdout",
     "output_type": "stream",
     "text": [
      "<start neg(+FC)> ::=\n",
      "|    <expr neg(+FC)>\n",
      "<expr neg(+FC)> ::=\n",
      "|    <term neg(+FC)>\n",
      "|    <term neg(+FC)> ' + ' <expr neg(+FC)>\n",
      "|    <term neg(+FC)> ' - ' <expr neg(+FC)>\n",
      "<term neg(+FC)> ::=\n",
      "|    <factor neg(+FC)>\n",
      "|    <factor neg(+FC)> ' * ' <term neg(+FC)>\n",
      "|    <factor neg(+FC)> ' / ' <term and(neg(+FC),neg(LC_2))>\n",
      "<factor neg(+FC)> ::=\n",
      "|    '(' <expr neg(+FC)> ')'\n",
      "|    '+' <factor neg(+FC)>\n",
      "|    '-' <factor neg(+FC)>\n",
      "|    <integer>\n",
      "|    <integer> '.' <integer>\n",
      "<term and(neg(+FC),neg(LC_2))> ::=\n",
      "|    <factor and(neg(+FC),neg(LC_1))>\n",
      "|    <factor neg(+FC)> ' * ' <term neg(+FC)>\n",
      "|    <factor neg(+FC)> ' / ' <term and(neg(+FC),neg(LC_2))>\n",
      "<integer> ::=\n",
      "|    <digit>\n",
      "|    <digit> <integer>\n",
      "<digit> ::=\n",
      "|    '0'\n",
      "|    '1'\n",
      "|    '2'\n",
      "|    '3'\n",
      "|    '4'\n",
      "|    '5'\n",
      "|    '6'\n",
      "|    '7'\n",
      "|    '8'\n",
      "|    '9'\n",
      "<factor and(neg(+FC),neg(LC_1))> ::=\n",
      "|    '(' <expr neg(+FC)> ')'\n",
      "|    '+' <factor neg(+FC)>\n",
      "|    '-' <factor neg(+FC)>\n",
      "|    <integer neg(LC_1)>\n",
      "|    <integer> '.' <integer>\n",
      "<integer neg(LC_1)> ::=\n",
      "|    <digit neg(LC_1)>\n",
      "|    <digit> <integer>\n",
      "<digit neg(LC_1)> ::=\n",
      "|    '1'\n",
      "|    '2'\n",
      "|    '3'\n",
      "|    '4'\n",
      "|    '5'\n",
      "|    '6'\n",
      "|    '7'\n",
      "|    '8'\n",
      "|    '9'\n",
      "10 43\n"
     ]
    },
    {
     "data": {
      "text/plain": [
       "'<start neg(+FC)>'"
      ]
     },
     "execution_count": 451,
     "metadata": {},
     "output_type": "execute_result"
    }
   ],
   "source": [
    "%%top\n",
    "Gs(neg_C_grammar)\n",
    "neg_C_start"
   ]
  },
  {
   "cell_type": "code",
   "execution_count": 452,
   "metadata": {},
   "outputs": [],
   "source": [
    "neg_C_fuzzer = LimitFuzzer(neg_C_grammar)\n",
    "neg_C_parser = Parser(neg_C_grammar, canonical=True, start_symbol=neg_C_start)"
   ]
  },
  {
   "cell_type": "code",
   "execution_count": null,
   "metadata": {},
   "outputs": [],
   "source": []
  },
  {
   "cell_type": "markdown",
   "metadata": {},
   "source": [
    "`neg(A)` is the exact opposite in refinement of `A` which is exactly one fault. So it should produce either no fault or more than one fault."
   ]
  },
  {
   "cell_type": "code",
   "execution_count": 453,
   "metadata": {},
   "outputs": [],
   "source": [
    "%%top\n",
    "assert neg_C_parser.can_parse('1')"
   ]
  },
  {
   "cell_type": "code",
   "execution_count": 454,
   "metadata": {},
   "outputs": [],
   "source": [
    "%%top\n",
    "assert neg_C_parser.can_parse('((1))')"
   ]
  },
  {
   "cell_type": "code",
   "execution_count": 455,
   "metadata": {},
   "outputs": [],
   "source": [
    "%%top\n",
    "assert not neg_C_parser.can_parse('((1)) / 0')"
   ]
  },
  {
   "cell_type": "code",
   "execution_count": 456,
   "metadata": {},
   "outputs": [],
   "source": [
    "%%top\n",
    "assert neg_C_parser.can_parse('1 - 2')"
   ]
  },
  {
   "cell_type": "code",
   "execution_count": 457,
   "metadata": {},
   "outputs": [],
   "source": [
    "%%top\n",
    "assert not neg_C_parser.can_parse('1 / 0')"
   ]
  },
  {
   "cell_type": "markdown",
   "metadata": {},
   "source": [
    "## Conjunction"
   ]
  },
  {
   "cell_type": "code",
   "execution_count": 458,
   "metadata": {},
   "outputs": [
    {
     "data": {
      "text/plain": [
       "[]"
      ]
     },
     "execution_count": 458,
     "metadata": {},
     "output_type": "execute_result"
    }
   ],
   "source": [
    "EXCEPTION_HAPPENED"
   ]
  },
  {
   "cell_type": "markdown",
   "metadata": {},
   "source": [
    "### A & B"
   ]
  },
  {
   "cell_type": "code",
   "execution_count": 459,
   "metadata": {},
   "outputs": [],
   "source": [
    "AandB_grammar, AandB_start = and_grammars(faultA_grammar, faultA_start, faultB_grammar, faultB_start)"
   ]
  },
  {
   "cell_type": "code",
   "execution_count": 460,
   "metadata": {
    "scrolled": true
   },
   "outputs": [
    {
     "name": "stdout",
     "output_type": "stream",
     "text": [
      "<start and(+FA,+FB)> ::=\n",
      "|    <expr and(+FA,+FB)>\n",
      "<expr and(+FA,+FB)> ::=\n",
      "|    <term +FA> ' + ' <expr +FB>\n",
      "|    <term +FA> ' + ' <expr LB_2>\n",
      "|    <term +FA> ' - ' <expr +FB>\n",
      "|    <term +FB> ' + ' <expr +FA>\n",
      "|    <term +FB> ' - ' <expr +FA>\n",
      "|    <term and(+FA,+FB)>\n",
      "|    <term and(+FA,+FB)> ' + ' <expr>\n",
      "|    <term and(+FA,+FB)> ' - ' <expr>\n",
      "|    <term> ' + ' <expr and(+FA,+FB)>\n",
      "|    <term> ' + ' <expr and(+FA,LB_2)>\n",
      "|    <term> ' - ' <expr and(+FA,+FB)>\n",
      "<term +FA> ::=\n",
      "|    <factor +FA>\n",
      "|    <factor +FA> ' * ' <term>\n",
      "|    <factor +FA> ' / ' <term>\n",
      "|    <factor> ' * ' <term +FA>\n",
      "|    <factor> ' / ' <term +FA>\n",
      "<expr +FB> ::=\n",
      "|    <term +FB>\n",
      "|    <term +FB> ' + ' <expr>\n",
      "|    <term +FB> ' - ' <expr>\n",
      "|    <term> ' + ' <expr +FB>\n",
      "|    <term> ' + ' <expr LB_2>\n",
      "|    <term> ' - ' <expr +FB>\n",
      "<expr LB_2> ::=\n",
      "|    <term>\n",
      "<term +FB> ::=\n",
      "|    <factor +FB>\n",
      "|    <factor +FB> ' * ' <term>\n",
      "|    <factor +FB> ' / ' <term>\n",
      "|    <factor> ' * ' <term +FB>\n",
      "|    <factor> ' / ' <term +FB>\n",
      "<expr +FA> ::=\n",
      "|    <term +FA>\n",
      "|    <term +FA> ' + ' <expr>\n",
      "|    <term +FA> ' - ' <expr>\n",
      "|    <term> ' + ' <expr +FA>\n",
      "|    <term> ' - ' <expr +FA>\n",
      "<term and(+FA,+FB)> ::=\n",
      "|    <factor +FA> ' * ' <term +FB>\n",
      "|    <factor +FA> ' / ' <term +FB>\n",
      "|    <factor +FB> ' * ' <term +FA>\n",
      "|    <factor +FB> ' / ' <term +FA>\n",
      "|    <factor and(+FA,+FB)>\n",
      "|    <factor and(+FA,+FB)> ' * ' <term>\n",
      "|    <factor and(+FA,+FB)> ' / ' <term>\n",
      "|    <factor> ' * ' <term and(+FA,+FB)>\n",
      "|    <factor> ' / ' <term and(+FA,+FB)>\n",
      "<expr> ::=\n",
      "|    <term>\n",
      "|    <term> ' + ' <expr>\n",
      "|    <term> ' - ' <expr>\n",
      "<term> ::=\n",
      "|    <factor>\n",
      "|    <factor> ' * ' <term>\n",
      "|    <factor> ' / ' <term>\n",
      "<expr and(+FA,LB_2)> ::=\n",
      "|    <term +FA>\n",
      "<factor +FA> ::=\n",
      "|    '(' <expr +FA> ')'\n",
      "|    '(' <expr LA_1> ')'\n",
      "|    '+' <factor +FA>\n",
      "|    '-' <factor +FA>\n",
      "<factor> ::=\n",
      "|    '(' <expr> ')'\n",
      "|    '+' <factor>\n",
      "|    '-' <factor>\n",
      "|    <integer>\n",
      "|    <integer> '.' <integer>\n",
      "<expr LA_1> ::=\n",
      "|    <term LA_1>\n",
      "<term LA_1> ::=\n",
      "|    <factor LA_2>\n",
      "<factor LA_2> ::=\n",
      "|    '(' <expr> ')'\n",
      "<integer> ::=\n",
      "|    <digit>\n",
      "|    <digit> <integer>\n",
      "<digit> ::=\n",
      "|    '0'\n",
      "|    '1'\n",
      "|    '2'\n",
      "|    '3'\n",
      "|    '4'\n",
      "|    '5'\n",
      "|    '6'\n",
      "|    '7'\n",
      "|    '8'\n",
      "|    '9'\n",
      "<factor +FB> ::=\n",
      "|    '(' <expr +FB> ')'\n",
      "|    '+' <factor +FB>\n",
      "|    '-' <factor +FB>\n",
      "<factor and(+FA,+FB)> ::=\n",
      "|    '(' <expr and(+FA,+FB)> ')'\n",
      "|    '(' <expr and(+FB,LA_1)> ')'\n",
      "|    '+' <factor and(+FA,+FB)>\n",
      "|    '-' <factor and(+FA,+FB)>\n",
      "<expr and(+FB,LA_1)> ::=\n",
      "|    <term and(+FB,LA_1)>\n",
      "<term and(+FB,LA_1)> ::=\n",
      "|    <factor and(+FB,LA_2)>\n",
      "<factor and(+FB,LA_2)> ::=\n",
      "|    '(' <expr +FB> ')'\n",
      "23 84\n"
     ]
    },
    {
     "data": {
      "text/plain": [
       "'<start and(+FA,+FB)>'"
      ]
     },
     "execution_count": 460,
     "metadata": {},
     "output_type": "execute_result"
    }
   ],
   "source": [
    "%%top\n",
    "Gs(AandB_grammar)\n",
    "AandB_start"
   ]
  },
  {
   "cell_type": "code",
   "execution_count": 461,
   "metadata": {},
   "outputs": [],
   "source": [
    "AandB_fuzzer = LimitFuzzer(AandB_grammar)\n",
    "AandB_parser = Parser(AandB_grammar, canonical=True, start_symbol=AandB_start)"
   ]
  },
  {
   "cell_type": "code",
   "execution_count": 462,
   "metadata": {},
   "outputs": [
    {
     "name": "stdout",
     "output_type": "stream",
     "text": [
      "((7.9 / 6 / 0.9 + 0 * 8 - 5.0 - 4.0) / 463.9 + (6.9 / 8) * 01 / (5.0) * 0.9 + 4 * 5.8 + 5.6 / 8 * 8.1 - 4) * +-24.48 / 7.0 / 42 + 7 * (--2.2 - -0.6 / 9.7 / 0 - ((4)) * 1.8 - 5.3 + 1)\n",
      "A&B\n",
      "A\n",
      "B\n",
      "7060.44 * +-7.6 * +(-7 * 1.3 - 2.6) / ((3.4) / 1.0 + 0.5 / 0.4 - 7.0 - 6.7) / ++7 * (3.0 - 4.3) / +7.9 / 6.0 - +229.0 / +((2.7)) / 4 + 06.1\n",
      "A&B\n",
      "A\n",
      "B\n",
      "-++-(6 / 4.6 - 0.1 - 6) + +++(5.6) - (26 * -4 / 5.4 / 2.5 - +0.5 + 8 / 0) - 8 * +--(0.9 + 1) / ((5.5)) * +2.4 * 3.4 / 1.5 - (5 * 4.0 - 5.3 + 9) + 16.12 / 7.9 - (3) * 5.2\n",
      "A&B\n",
      "A\n",
      "B\n",
      "+53693 / 4 / -0.4096 / 7512 * -0.7 / (9.1) * +0.2 - 627 * ((5) * (7) + 7.6 - 8 + 5.5 / (5 + 8.1) * 3.8 - 2) / 83.9 / (9 * 4 - 0 + 2.2) - (+(0) * (1) / 2.1 * 8.5 + 0.8 / 5 * 7 - 4.1 / ((8)) - 2) - 5 + 978 / +(8.5) / 9.6 * 5 * 3.2 + 1.6 / 3 * 7.6\n",
      "A&B\n",
      "A\n",
      "B\n",
      "8.6 - ++((1 + 9.1) - 2) / +527 + (+2) / -(4 + 9 - ((9)) * 2.3 - 9.1) * +1.26\n",
      "A&B\n",
      "A\n",
      "B\n",
      "(((2 + 3.6) / 7 - 2 * 6.5 + 3 - 9.0)) / ((2.6 + 4) / 69) - +(+(((2)) * 9) * 8.0 / 3 + +1 * 8.0 / 5 - 1.7 * 7.9 + 2 - 0.4) - 2 / 8 / (8 / 8 - 7 + 1) + -477.43 / -1 + +(8.2 + 5) / +0.1 / (1.2) + (1.1) * -0 + 6.3 / 2 - 2.9 + 1.9 - 5.9\n",
      "A&B\n",
      "A\n",
      "B\n",
      "---((5.1 + 4.8)) + ++2 / (37 * -4 * 1 / 1 - (1) - 7.6 * 4) * (-6.4 / 8 / 0.9 + 6 * 2 + 4.2) * 90 * 69.61 - -(8.6 * 5 / 6 - 8.7 / 3 + 8.2 - 9)\n",
      "A&B\n",
      "A\n",
      "B\n",
      "(-493 / ++4 * -0.4 / (2.7) * 4.4 * 3 * 0 / (2.7 + 4.2) * 7.7 - +86.78 * -5.8 * -9.4 / 4.5 * 5) + +49 * +-+-((9)) / ++(4 - 5)\n",
      "A&B\n",
      "A\n",
      "B\n",
      "++(0.78 + +4 - 5.4 / 1.8 + 7) * ((7 / 7 - 5) / (1.2 + 6) / 8 / 1 * 7.5 - 06) * -671.14 / +960.0 / ((6.2)) * +4.8 + 9 / (++7.9 * +4.3 / 5) / -++0 / --(3.8) + 84.6 + -1 * 553.78 * 5.3 / 3\n",
      "A&B\n",
      "A\n",
      "B\n",
      "-+((3 - 6)) * 93.531 / 72 / +((5 + 5) / 3.1 + 4 - 5) * 83 / 3.7 / +8.2 * 2.0 / 5 + (3 / 40.7 - 28 - 7.8 / 4 - 7.5 * 0) + 6.2 / 1 / 3.103 - (-2 * 7 - 7.8 / 6 - 6 - 8.1)\n",
      "A&B\n",
      "A\n",
      "B\n"
     ]
    }
   ],
   "source": [
    "%%top\n",
    "for i in range(10):\n",
    "    s = AandB_fuzzer.fuzz(key=AandB_start)\n",
    "    print(s)\n",
    "    print('A&B')\n",
    "    assert AandB_parser.can_parse(s)\n",
    "    print('A')\n",
    "    assert faultA_parser.can_parse(s)\n",
    "    print('B')\n",
    "    assert faultB_parser.can_parse(s)"
   ]
  },
  {
   "cell_type": "markdown",
   "metadata": {},
   "source": [
    "### A & C"
   ]
  },
  {
   "cell_type": "code",
   "execution_count": 463,
   "metadata": {},
   "outputs": [],
   "source": [
    "AandC_grammar, AandC_start = and_grammars(faultA_grammar, faultA_start, faultC_grammar, faultC_start)"
   ]
  },
  {
   "cell_type": "code",
   "execution_count": 464,
   "metadata": {
    "scrolled": true
   },
   "outputs": [
    {
     "name": "stdout",
     "output_type": "stream",
     "text": [
      "<start and(+FA,+FC)> ::=\n",
      "|    <expr and(+FA,+FC)>\n",
      "<expr and(+FA,+FC)> ::=\n",
      "|    <term +FA> ' + ' <expr +FC>\n",
      "|    <term +FA> ' - ' <expr +FC>\n",
      "|    <term +FC> ' + ' <expr +FA>\n",
      "|    <term +FC> ' - ' <expr +FA>\n",
      "|    <term and(+FA,+FC)>\n",
      "|    <term and(+FA,+FC)> ' + ' <expr>\n",
      "|    <term and(+FA,+FC)> ' - ' <expr>\n",
      "|    <term> ' + ' <expr and(+FA,+FC)>\n",
      "|    <term> ' - ' <expr and(+FA,+FC)>\n",
      "<term +FA> ::=\n",
      "|    <factor +FA>\n",
      "|    <factor +FA> ' * ' <term>\n",
      "|    <factor +FA> ' / ' <term>\n",
      "|    <factor> ' * ' <term +FA>\n",
      "|    <factor> ' / ' <term +FA>\n",
      "<expr +FC> ::=\n",
      "|    <term +FC>\n",
      "|    <term +FC> ' + ' <expr>\n",
      "|    <term +FC> ' - ' <expr>\n",
      "|    <term> ' + ' <expr +FC>\n",
      "|    <term> ' - ' <expr +FC>\n",
      "<term +FC> ::=\n",
      "|    <factor +FC>\n",
      "|    <factor +FC> ' * ' <term>\n",
      "|    <factor +FC> ' / ' <term>\n",
      "|    <factor> ' * ' <term +FC>\n",
      "|    <factor> ' / ' <term +FC>\n",
      "|    <factor> ' / ' <term LC_2>\n",
      "<expr +FA> ::=\n",
      "|    <term +FA>\n",
      "|    <term +FA> ' + ' <expr>\n",
      "|    <term +FA> ' - ' <expr>\n",
      "|    <term> ' + ' <expr +FA>\n",
      "|    <term> ' - ' <expr +FA>\n",
      "<term and(+FA,+FC)> ::=\n",
      "|    <factor +FA> ' * ' <term +FC>\n",
      "|    <factor +FA> ' / ' <term +FC>\n",
      "|    <factor +FA> ' / ' <term LC_2>\n",
      "|    <factor +FC> ' * ' <term +FA>\n",
      "|    <factor +FC> ' / ' <term +FA>\n",
      "|    <factor and(+FA,+FC)>\n",
      "|    <factor and(+FA,+FC)> ' * ' <term>\n",
      "|    <factor and(+FA,+FC)> ' / ' <term>\n",
      "|    <factor> ' * ' <term and(+FA,+FC)>\n",
      "|    <factor> ' / ' <term and(+FA,+FC)>\n",
      "<expr> ::=\n",
      "|    <term>\n",
      "|    <term> ' + ' <expr>\n",
      "|    <term> ' - ' <expr>\n",
      "<term> ::=\n",
      "|    <factor>\n",
      "|    <factor> ' * ' <term>\n",
      "|    <factor> ' / ' <term>\n",
      "<factor +FA> ::=\n",
      "|    '(' <expr +FA> ')'\n",
      "|    '(' <expr LA_1> ')'\n",
      "|    '+' <factor +FA>\n",
      "|    '-' <factor +FA>\n",
      "<factor> ::=\n",
      "|    '(' <expr> ')'\n",
      "|    '+' <factor>\n",
      "|    '-' <factor>\n",
      "|    <integer>\n",
      "|    <integer> '.' <integer>\n",
      "<expr LA_1> ::=\n",
      "|    <term LA_1>\n",
      "<term LA_1> ::=\n",
      "|    <factor LA_2>\n",
      "<factor LA_2> ::=\n",
      "|    '(' <expr> ')'\n",
      "<integer> ::=\n",
      "|    <digit>\n",
      "|    <digit> <integer>\n",
      "<digit> ::=\n",
      "|    '0'\n",
      "|    '1'\n",
      "|    '2'\n",
      "|    '3'\n",
      "|    '4'\n",
      "|    '5'\n",
      "|    '6'\n",
      "|    '7'\n",
      "|    '8'\n",
      "|    '9'\n",
      "<factor +FC> ::=\n",
      "|    '(' <expr +FC> ')'\n",
      "|    '+' <factor +FC>\n",
      "|    '-' <factor +FC>\n",
      "<term LC_2> ::=\n",
      "|    <factor LC_1>\n",
      "<factor LC_1> ::=\n",
      "|    <integer LC_1>\n",
      "<integer LC_1> ::=\n",
      "|    <digit LC_1>\n",
      "<digit LC_1> ::=\n",
      "|    '0'\n",
      "<factor and(+FA,+FC)> ::=\n",
      "|    '(' <expr and(+FA,+FC)> ')'\n",
      "|    '(' <expr and(+FC,LA_1)> ')'\n",
      "|    '+' <factor and(+FA,+FC)>\n",
      "|    '-' <factor and(+FA,+FC)>\n",
      "<expr and(+FC,LA_1)> ::=\n",
      "|    <term and(+FC,LA_1)>\n",
      "<term and(+FC,LA_1)> ::=\n",
      "|    <factor and(+FC,LA_2)>\n",
      "<factor and(+FC,LA_2)> ::=\n",
      "|    '(' <expr +FC> ')'\n",
      "25 85\n"
     ]
    },
    {
     "data": {
      "text/plain": [
       "'<start and(+FA,+FC)>'"
      ]
     },
     "execution_count": 464,
     "metadata": {},
     "output_type": "execute_result"
    }
   ],
   "source": [
    "%%top\n",
    "Gs(AandC_grammar)\n",
    "AandC_start"
   ]
  },
  {
   "cell_type": "code",
   "execution_count": 465,
   "metadata": {},
   "outputs": [],
   "source": [
    "AandC_fuzzer = LimitFuzzer(AandC_grammar)\n",
    "AandC_parser = Parser(AandC_grammar, canonical=True, start_symbol=AandC_start)"
   ]
  },
  {
   "cell_type": "code",
   "execution_count": 466,
   "metadata": {},
   "outputs": [
    {
     "name": "stdout",
     "output_type": "stream",
     "text": [
      "++++(6.8 * 9.1 + 8 / 0 + 6) * (-(1 - 9) / +5.6 * (2.6) * 5 / 1) / -(7.9 * 5 / 9 + 0 * 2 + 9.0) + -+-((3)) / +-99.35 * (7 / 6 - 2 / 3.2) / (1 * 8 + 5 - 3) * 0.1 / +6 - +66.06 + ++(6 + 8.0) / 03.5 / (4.1 - 9.3) / 4.8 - --(7.8) - -+0 / -9.8 * 4.7 / 0 + +0.9 / 1.8 + 3.6 + 2.6 + 1\n",
      "A&C\n",
      "A\n",
      "C\n",
      "(7 * (0 / 8 + 1.2) * 29 / 1.7 / 3 / 2.5) / ((1 * 7 - 7)) / (+(5.0) / -5 + (6.5) - 0.8 + 0.6) - -((4 - 9) / +1 * (5 / 0 - 8.7) / 0 + 4.7 + 3 * 1 + 2 - 6.8) / +8.5 * ++-2 / (1.4 * 3) / -3.9 + 3 * 5 / -+9.4 * --3 - +940 - 968.62 / +(3) / -8 * 6 * 6 - -+2.1 - 4.9 * 5 * 5\n",
      "A&C\n",
      "A\n",
      "C\n",
      "-(+29.1 / -(1.6 / 0 + 4) * (5) * 0.8 * 9.3) * +50.67 * ((7 - 5) * +7.3 / 6 + 3 - 2 / 9.1) - -+(7.2 / 4 / ((2)) - 3 / 0 - 6 - 5.6) / 0.2 / 7.5\n",
      "A&C\n",
      "A\n",
      "C\n",
      "++-(-7.7 / ((5))) / 37784 / -++-5 * 5 / -+-(2.7 / 0) / +8.6 - (+(3) * +1) / (-+9.1 / +8 / 7 / 7.1 + -0 + 3.5 + 5) / (-0) * --7.6 * (8.1) / (6) / 4.4 / 2 - ++210 * 26.64 * +-0 * +-6 + 5.9 / -4.82 + 5 + 5.5 / -4 * 8.6\n",
      "A&C\n",
      "A\n",
      "C\n",
      "--(+6.2 + -6 - 0 / 0 + 1 - 2.3 / 0 - 2) / 11069 + -07 * +(-7.2 + 9.9 / 3.7 + 7 + 1.0) * ((9) * 5 + 2.9 + 4 - 2) / 00.076 / ((2.3)) + -21 - -(0.4 / 0.2) / (3.3 + 3.9 - 4) * +(4) + (0 * 6 + 1.4 - 6) * --8 / (5)\n",
      "A&C\n",
      "A\n",
      "C\n",
      "+((4.2 * 6 - 6.8 - 3.5)) * ((6.6 / 7.8 + 1.1 + 3.8)) / 7554 + (537.1 * (8 + 3.3) * -1 + +(6) * 0 - 1.9 * 3.0 / 5.4 + 6.8 * 9.7 + 9.9 + 7.9) / +07.9 - -(+4.3 / 9 / 6 - 4 / 0) - +2.8 / 0 * -3.0 - (3 - 2.6) - --7.5 / 1.1 * 0.2 * 9.1 + (7.4) * 6\n",
      "A&C\n",
      "A\n",
      "C\n",
      "(31.679 / 82 / +-9.6 / (1) - +00 * ++6 / +9.1 / 9.1 * 6.6 + 50 / (5) - 4) * +((8 + 7.2) / 6.1) - -((8 + 3)) * +(+4 * (1 / 0 - 9.9)) - 753.9 / -+20 / ---0.5 / (5.2) * 3.5 / 5.0 * 2.6 - 1 / 9.992 + 4\n",
      "A&C\n",
      "A\n",
      "C\n",
      "-----+-(7 / 0) - +18974.9 / 20 * 8 * +++((8.3)) - -+-7 * 72 - 81.3 / 6.356 / 5.68 * +6 * 9 + 5.2 / 9.4 / 4.8 * 7 / 5\n",
      "A&C\n",
      "A\n",
      "C\n",
      "3040996 * +((7.1)) - -(--1 / +3.8 * 5 * 0.9) / 0\n",
      "A&C\n",
      "A\n",
      "C\n",
      "-(-(8.1 / 0) * +5.0 - 44 * 8 / 4.6 + +8 / 6.1 / 8.3 - 0 + 3.9 - 1.5) / 5 / --(((0.4)) - 3) + 237.9 / (+8 * 2.7 * 8.1 * 3) / +(6 - 6) / -1.1 * +(5) * +8.7 * 8.8 / 9.5\n",
      "A&C\n",
      "A\n",
      "C\n"
     ]
    }
   ],
   "source": [
    "%%top\n",
    "for i in range(10):\n",
    "    s = AandC_fuzzer.fuzz(key=AandC_start)\n",
    "    print(s)\n",
    "    print('A&C')\n",
    "    assert AandC_parser.can_parse(s)\n",
    "    print('A')\n",
    "    assert faultA_parser.can_parse(s)\n",
    "    print('C')\n",
    "    assert faultC_parser.can_parse(s)"
   ]
  },
  {
   "cell_type": "markdown",
   "metadata": {},
   "source": [
    "### B & C"
   ]
  },
  {
   "cell_type": "code",
   "execution_count": 467,
   "metadata": {},
   "outputs": [],
   "source": [
    "BandC_grammar, BandC_start = and_grammars(faultB_grammar, faultB_start, faultC_grammar, faultC_start)"
   ]
  },
  {
   "cell_type": "code",
   "execution_count": 468,
   "metadata": {
    "scrolled": true
   },
   "outputs": [
    {
     "name": "stdout",
     "output_type": "stream",
     "text": [
      "<start and(+FB,+FC)> ::=\n",
      "|    <expr and(+FB,+FC)>\n",
      "<expr and(+FB,+FC)> ::=\n",
      "|    <term +FB> ' + ' <expr +FC>\n",
      "|    <term +FB> ' - ' <expr +FC>\n",
      "|    <term +FC> ' + ' <expr +FB>\n",
      "|    <term +FC> ' + ' <expr LB_2>\n",
      "|    <term +FC> ' - ' <expr +FB>\n",
      "|    <term and(+FB,+FC)>\n",
      "|    <term and(+FB,+FC)> ' + ' <expr>\n",
      "|    <term and(+FB,+FC)> ' - ' <expr>\n",
      "|    <term> ' + ' <expr and(+FB,+FC)>\n",
      "|    <term> ' + ' <expr and(+FC,LB_2)>\n",
      "|    <term> ' - ' <expr and(+FB,+FC)>\n",
      "<term +FB> ::=\n",
      "|    <factor +FB>\n",
      "|    <factor +FB> ' * ' <term>\n",
      "|    <factor +FB> ' / ' <term>\n",
      "|    <factor> ' * ' <term +FB>\n",
      "|    <factor> ' / ' <term +FB>\n",
      "<expr +FC> ::=\n",
      "|    <term +FC>\n",
      "|    <term +FC> ' + ' <expr>\n",
      "|    <term +FC> ' - ' <expr>\n",
      "|    <term> ' + ' <expr +FC>\n",
      "|    <term> ' - ' <expr +FC>\n",
      "<term +FC> ::=\n",
      "|    <factor +FC>\n",
      "|    <factor +FC> ' * ' <term>\n",
      "|    <factor +FC> ' / ' <term>\n",
      "|    <factor> ' * ' <term +FC>\n",
      "|    <factor> ' / ' <term +FC>\n",
      "|    <factor> ' / ' <term LC_2>\n",
      "<expr +FB> ::=\n",
      "|    <term +FB>\n",
      "|    <term +FB> ' + ' <expr>\n",
      "|    <term +FB> ' - ' <expr>\n",
      "|    <term> ' + ' <expr +FB>\n",
      "|    <term> ' + ' <expr LB_2>\n",
      "|    <term> ' - ' <expr +FB>\n",
      "<expr LB_2> ::=\n",
      "|    <term>\n",
      "<term and(+FB,+FC)> ::=\n",
      "|    <factor +FB> ' * ' <term +FC>\n",
      "|    <factor +FB> ' / ' <term +FC>\n",
      "|    <factor +FB> ' / ' <term LC_2>\n",
      "|    <factor +FC> ' * ' <term +FB>\n",
      "|    <factor +FC> ' / ' <term +FB>\n",
      "|    <factor and(+FB,+FC)>\n",
      "|    <factor and(+FB,+FC)> ' * ' <term>\n",
      "|    <factor and(+FB,+FC)> ' / ' <term>\n",
      "|    <factor> ' * ' <term and(+FB,+FC)>\n",
      "|    <factor> ' / ' <term and(+FB,+FC)>\n",
      "<expr> ::=\n",
      "|    <term>\n",
      "|    <term> ' + ' <expr>\n",
      "|    <term> ' - ' <expr>\n",
      "<term> ::=\n",
      "|    <factor>\n",
      "|    <factor> ' * ' <term>\n",
      "|    <factor> ' / ' <term>\n",
      "<expr and(+FC,LB_2)> ::=\n",
      "|    <term +FC>\n",
      "<factor +FB> ::=\n",
      "|    '(' <expr +FB> ')'\n",
      "|    '+' <factor +FB>\n",
      "|    '-' <factor +FB>\n",
      "<factor> ::=\n",
      "|    '(' <expr> ')'\n",
      "|    '+' <factor>\n",
      "|    '-' <factor>\n",
      "|    <integer>\n",
      "|    <integer> '.' <integer>\n",
      "<integer> ::=\n",
      "|    <digit>\n",
      "|    <digit> <integer>\n",
      "<digit> ::=\n",
      "|    '0'\n",
      "|    '1'\n",
      "|    '2'\n",
      "|    '3'\n",
      "|    '4'\n",
      "|    '5'\n",
      "|    '6'\n",
      "|    '7'\n",
      "|    '8'\n",
      "|    '9'\n",
      "<factor +FC> ::=\n",
      "|    '(' <expr +FC> ')'\n",
      "|    '+' <factor +FC>\n",
      "|    '-' <factor +FC>\n",
      "<term LC_2> ::=\n",
      "|    <factor LC_1>\n",
      "<factor LC_1> ::=\n",
      "|    <integer LC_1>\n",
      "<integer LC_1> ::=\n",
      "|    <digit LC_1>\n",
      "<digit LC_1> ::=\n",
      "|    '0'\n",
      "<factor and(+FB,+FC)> ::=\n",
      "|    '(' <expr and(+FB,+FC)> ')'\n",
      "|    '+' <factor and(+FB,+FC)>\n",
      "|    '-' <factor and(+FB,+FC)>\n",
      "21 82\n"
     ]
    },
    {
     "data": {
      "text/plain": [
       "'<start and(+FB,+FC)>'"
      ]
     },
     "execution_count": 468,
     "metadata": {},
     "output_type": "execute_result"
    }
   ],
   "source": [
    "%%top\n",
    "Gs(BandC_grammar)\n",
    "BandC_start"
   ]
  },
  {
   "cell_type": "code",
   "execution_count": 469,
   "metadata": {},
   "outputs": [],
   "source": [
    "BandC_fuzzer = LimitFuzzer(BandC_grammar)\n",
    "BandC_parser = Parser(BandC_grammar, canonical=True, start_symbol=BandC_start)"
   ]
  },
  {
   "cell_type": "code",
   "execution_count": 470,
   "metadata": {},
   "outputs": [
    {
     "name": "stdout",
     "output_type": "stream",
     "text": [
      "+(-(6.0) * -2 * -6.2 / 7 / 6.4) - (+-9.7 * +2.4 - ++7 / 0 + -3.9 * 2) * (+-8.2 / 0 / 8 - 7 * 3.9 / 4 - 5 * 1.9) / -+77 + 42.53 * 8.8\n",
      "B&C\n",
      "B\n",
      "C\n",
      "+++(-3.1 / 0 + 5) + 8 * 8 / 9 * 07 / 5 + -(-9 / 7 / (5 + 5) / 6.4) * +-(3) / -(5.6 - 8.1) * +(5.2) / (5.0) / 9 / 1.4 - -(3 + 4 + 0.5) * -89 + +7 + 4\n",
      "B&C\n",
      "B\n",
      "C\n",
      "09773.5 - 7.6 + 1.7 * -+-+(0.4 / 0 + 2) + +4\n",
      "B&C\n",
      "B\n",
      "C\n",
      "-(+-3 / +9 / -2.1) / (+++(9.0 + 2) * 45.40 * -6 * 1 * 2.6 + -1.7 / +2 / 6.3 * 2 + 1 * 8 / 5.2 + 0.4) + 54978.8 / -62 + ((1 - 1) + +8.5 - 3.6 / 0 + 6.1 - 8.8 / 0 - 0.5) / 4417 - -+-+9.8 * ---8.6 * +6 * 5 * 9 * 3.7 + --3.5 / --2 * +1 / 6.3 / 2.7\n",
      "B&C\n",
      "B\n",
      "C\n",
      "(-50.425 + (6.6 * (7.4 + 5.7) - 4 - 3.1) / 5.6 * -8 / 7.1 * 0 + 2 * 0.0 / 5.2 + (4.5) + 8.7 * 3.0 + 1.1 + 4) + 88 * 8 * --(3 / 0 + 0.0) * (2.6 / 7)\n",
      "B&C\n",
      "B\n",
      "C\n",
      "-(((8 / 0 + 4) * 3) / -6 * -3.9 * 2.5 / 9 - (4.8) / +0 * 3 * 3 + -6.8 / 0.4 * 9) * +++(1.5 * 8 - 8 + 2 + 7)\n",
      "B&C\n",
      "B\n",
      "C\n",
      "7.19 / 9 * 8 - (71 / (7 + 7 + 1) / 4.2 / 5) + -+--+(3 / 0 - 7.3) * 46.65 * ++-4 - 68.1087 / -++2.1 / 9 + -78.0 - 6 * -6 * 4 / 0.9 + -4.6\n",
      "B&C\n",
      "B\n",
      "C\n",
      "+(+11.36 * 14.4) / -781 * -++-+(8.3 / 0) / +6 / (3 / 4.4) * 2.62 / (4.5) + +-+13 + -5 * -1 * 0 * +0.6 * 0 / 9 * 2.2\n",
      "B&C\n",
      "B\n",
      "C\n",
      "++-(1.0 + 9) / 0 + 5.291 / -(-2 * 1.4 * 5.4 - 9 / 9.8 + 3.5 + 8) + 47 + (4.4 / 9.2 * 3) * 65 * 0 - 4 / (3.7 + 0.9) * (2.4) * 4 / 3\n",
      "B&C\n",
      "B\n",
      "C\n",
      "(--40.16) * 7489 / 43 * ((0) * 2 * 8.6 - 9.8 * 4) * ++-6 / -4.7 * 3 * 0.3 + -(++3.2 / +8.5 / (8.9 + 0.2) * 1.2 - 0 / 1.0 / 1.4 + 4.0 / 0.5) + 65 * --+-(6.6 / 0) / +4 * (9 + 9) * -4\n",
      "B&C\n",
      "B\n",
      "C\n"
     ]
    }
   ],
   "source": [
    "%%top\n",
    "for i in range(10):\n",
    "    s = BandC_fuzzer.fuzz(key=BandC_start)\n",
    "    print(s)\n",
    "    print('B&C')\n",
    "    assert BandC_parser.can_parse(s)\n",
    "    print('B')\n",
    "    assert faultB_parser.can_parse(s)\n",
    "    print('C')\n",
    "    assert faultC_parser.can_parse(s)"
   ]
  },
  {
   "cell_type": "markdown",
   "metadata": {},
   "source": [
    "## Disjunction"
   ]
  },
  {
   "cell_type": "code",
   "execution_count": 471,
   "metadata": {},
   "outputs": [
    {
     "data": {
      "text/plain": [
       "[]"
      ]
     },
     "execution_count": 471,
     "metadata": {},
     "output_type": "execute_result"
    }
   ],
   "source": [
    "EXCEPTION_HAPPENED"
   ]
  },
  {
   "cell_type": "markdown",
   "metadata": {},
   "source": [
    "### A | B"
   ]
  },
  {
   "cell_type": "code",
   "execution_count": 472,
   "metadata": {},
   "outputs": [],
   "source": [
    "AorB_grammar, AorB_start = or_grammars(faultA_grammar, faultA_start, faultB_grammar, faultB_start)"
   ]
  },
  {
   "cell_type": "code",
   "execution_count": 473,
   "metadata": {
    "scrolled": true
   },
   "outputs": [
    {
     "name": "stdout",
     "output_type": "stream",
     "text": [
      "<start or(+FA,+FB)> ::=\n",
      "|    <expr or(+FA,+FB)>\n",
      "<expr or(+FA,+FB)> ::=\n",
      "|    <term or(+FA,+FB)>\n",
      "|    <term or(+FA,+FB)> ' + ' <expr>\n",
      "|    <term or(+FA,+FB)> ' - ' <expr>\n",
      "|    <term> ' + ' <expr or(+FA,+FB,LB_2)>\n",
      "|    <term> ' - ' <expr or(+FA,+FB)>\n",
      "<term or(+FA,+FB)> ::=\n",
      "|    <factor or(+FA,+FB)>\n",
      "|    <factor or(+FA,+FB)> ' * ' <term>\n",
      "|    <factor or(+FA,+FB)> ' / ' <term>\n",
      "|    <factor> ' * ' <term or(+FA,+FB)>\n",
      "|    <factor> ' / ' <term or(+FA,+FB)>\n",
      "<expr> ::=\n",
      "|    <term>\n",
      "|    <term> ' + ' <expr>\n",
      "|    <term> ' - ' <expr>\n",
      "<term> ::=\n",
      "|    <factor>\n",
      "|    <factor> ' * ' <term>\n",
      "|    <factor> ' / ' <term>\n",
      "<expr or(+FA,+FB,LB_2)> ::=\n",
      "|    <term or(+FA,+FB)>\n",
      "|    <term or(+FA,+FB)> ' + ' <expr>\n",
      "|    <term or(+FA,+FB)> ' - ' <expr>\n",
      "|    <term>\n",
      "|    <term> ' + ' <expr or(+FA,+FB,LB_2)>\n",
      "|    <term> ' - ' <expr or(+FA,+FB)>\n",
      "<factor or(+FA,+FB)> ::=\n",
      "|    '(' <expr or(+FA,+FB,LA_1)> ')'\n",
      "|    '+' <factor or(+FA,+FB)>\n",
      "|    '-' <factor or(+FA,+FB)>\n",
      "<factor> ::=\n",
      "|    '(' <expr> ')'\n",
      "|    '+' <factor>\n",
      "|    '-' <factor>\n",
      "|    <integer>\n",
      "|    <integer> '.' <integer>\n",
      "<expr or(+FA,+FB,LA_1)> ::=\n",
      "|    <term or(+FA,+FB)> ' + ' <expr>\n",
      "|    <term or(+FA,+FB)> ' - ' <expr>\n",
      "|    <term or(+FA,+FB,LA_1)>\n",
      "|    <term> ' + ' <expr or(+FA,+FB,LB_2)>\n",
      "|    <term> ' - ' <expr or(+FA,+FB)>\n",
      "<term or(+FA,+FB,LA_1)> ::=\n",
      "|    <factor or(+FA,+FB)> ' * ' <term>\n",
      "|    <factor or(+FA,+FB)> ' / ' <term>\n",
      "|    <factor or(+FA,+FB,LA_2)>\n",
      "|    <factor> ' * ' <term or(+FA,+FB)>\n",
      "|    <factor> ' / ' <term or(+FA,+FB)>\n",
      "<factor or(+FA,+FB,LA_2)> ::=\n",
      "|    '(' <expr or(+FA,+FB,LA_1)> ')'\n",
      "|    '(' <expr> ')'\n",
      "|    '+' <factor or(+FA,+FB)>\n",
      "|    '-' <factor or(+FA,+FB)>\n",
      "<integer> ::=\n",
      "|    <digit>\n",
      "|    <digit> <integer>\n",
      "<digit> ::=\n",
      "|    '0'\n",
      "|    '1'\n",
      "|    '2'\n",
      "|    '3'\n",
      "|    '4'\n",
      "|    '5'\n",
      "|    '6'\n",
      "|    '7'\n",
      "|    '8'\n",
      "|    '9'\n",
      "13 57\n"
     ]
    },
    {
     "data": {
      "text/plain": [
       "'<start or(+FA,+FB)>'"
      ]
     },
     "execution_count": 473,
     "metadata": {},
     "output_type": "execute_result"
    }
   ],
   "source": [
    "%%top\n",
    "Gs(AorB_grammar)\n",
    "AorB_start"
   ]
  },
  {
   "cell_type": "code",
   "execution_count": 474,
   "metadata": {},
   "outputs": [],
   "source": [
    "AorB_fuzzer = LimitFuzzer(AorB_grammar)\n",
    "AorB_parser = Parser(AorB_grammar, canonical=True, start_symbol=AorB_start)"
   ]
  },
  {
   "cell_type": "code",
   "execution_count": 475,
   "metadata": {},
   "outputs": [
    {
     "name": "stdout",
     "output_type": "stream",
     "text": [
      "(((4.3) + 3 / 8 - 6 - 9.8) * +0 + (5.5 / 2) * (6.3) - ++2.1 * -9.4 / 3 / 7.8 - (5) / 4.3 * 9.0 + 3.6 * 1) + +3 * -++((4.0)) * +0 / 8 / 5 - 76 * 0078 / (9.9 / 8 + 8 - 4)\n",
      "A|B\n",
      "(-(0.5 / 2.3 - 2.1 - 2.0) - ++-5 + -5 * (7.5)) - 0 / (95.6 / -(6 + 3) / 8 - +0 / 4.8 * 7 - 5 * 4.1 - 9) * +460.7 * 3 * -9 + 37.633 - -(6.2) - +77.6 + 2.7 / 6.5 * 7 - +8 - 2\n",
      "A|B\n",
      "2 * -78.2 - ---6 * +((1 + 4.9) * 2 * 9.0 - 8.9 / 5 + 7.5) / ++++4 - 8.6 / (+2.0 / 7.1 / 5.2 + 3 / 8.0 - 3.1) * -+(5.3) * ++0.1 * 8.1 / 7.0 + +9 / +--2.8 + --+0.7 * 3 + 0 / 9 / 5\n",
      "A|B\n",
      "--+-++(8 + 0) * (9.9 * (9.9 - 2) * +3 * 1.3 - (5.8 + 1.4) * +8.7 * 2.3 * 5 - (3.6) + 9.2 * 2.1) / +2.0 + (-(5) * --9 * 3 / 6.7 * 5 - -(0.0) * (4) * 4.3 * 8.7 - -6.4) / (1 * +3 - 1) / -(3.7 + 3) + --8\n",
      "A|B\n",
      "(+78 * 964 + (3 * 0.7 + 0.8 + 1.8) / 0) * (--0 + (3 - 3.5) * +9 - 2.0 / 6.6 * 6 - 1.4 - 6.0) / 90.8806 / -+++1 / +++9 * --3 - 9 * +-+--(7.5 + 9.6) * +-46 / -24.6 / -4 * +7 / 5 * 4 - ---(3 - 5)\n",
      "A|B\n",
      "--((2.3 - 8) / 0 / 7 / 4 + +9.8 * 7 / 0.9 + 1 * 7 - 0) / +9.11 + +4.4 / 6 / 786.88 * 7 * --5 / 0.0 / 7.5 + -(7 - 6.2 * 1.3 + 4 - 6.9 + 6)\n",
      "A|B\n",
      "-(03 / 3 / 4 * 4 / 1.4 + 5 * 5 / 0 / 2.6 + (6 + 1.6) / 5 - 4) / 8508.74\n",
      "A|B\n",
      "3149.639 * (+++(5 + 4) * -1) * 1.6 / 21.30 / -(4 + 8)\n",
      "A|B\n",
      "++-+(4 * 2 + 5.7) - 0 * 4 + 4.28 + --63.8 * (4.2 * 1 + 9 + 5) / 3 / 9.9\n",
      "A|B\n",
      "+-(+-(8 + 2) - +8.8 / 3.8 * 6 - 4 * 5 + 7.6) + 761293 - 627 / 28.727 + 3635 * 84 / +7.7 * 9.9 - 6.8 / -2.8 - (2 + 6.1) / (1) * 9.3 * 0 - -3 / 2 / 2 + 0 / 4.3\n",
      "A|B\n"
     ]
    }
   ],
   "source": [
    "%%top\n",
    "for i in range(10):\n",
    "    s = AorB_fuzzer.fuzz(key=AorB_start)\n",
    "    print(s)\n",
    "    print('A|B')\n",
    "    assert AorB_parser.can_parse(s)\n",
    "    assert faultA_parser.can_parse(s) or faultB_parser.can_parse(s)"
   ]
  },
  {
   "cell_type": "markdown",
   "metadata": {},
   "source": [
    "### A | C"
   ]
  },
  {
   "cell_type": "code",
   "execution_count": 476,
   "metadata": {},
   "outputs": [],
   "source": [
    "AorC_grammar, AorC_start = or_grammars(faultA_grammar, faultA_start, faultC_grammar, faultC_start)"
   ]
  },
  {
   "cell_type": "code",
   "execution_count": 477,
   "metadata": {
    "scrolled": true
   },
   "outputs": [
    {
     "name": "stdout",
     "output_type": "stream",
     "text": [
      "<start or(+FA,+FC)> ::=\n",
      "|    <expr or(+FA,+FC)>\n",
      "<expr or(+FA,+FC)> ::=\n",
      "|    <term or(+FA,+FC)>\n",
      "|    <term or(+FA,+FC)> ' + ' <expr>\n",
      "|    <term or(+FA,+FC)> ' - ' <expr>\n",
      "|    <term> ' + ' <expr or(+FA,+FC)>\n",
      "|    <term> ' - ' <expr or(+FA,+FC)>\n",
      "<term or(+FA,+FC)> ::=\n",
      "|    <factor or(+FA,+FC)>\n",
      "|    <factor or(+FA,+FC)> ' * ' <term>\n",
      "|    <factor or(+FA,+FC)> ' / ' <term>\n",
      "|    <factor> ' * ' <term or(+FA,+FC)>\n",
      "|    <factor> ' / ' <term or(+FA,+FC,LC_2)>\n",
      "<expr> ::=\n",
      "|    <term>\n",
      "|    <term> ' + ' <expr>\n",
      "|    <term> ' - ' <expr>\n",
      "<term> ::=\n",
      "|    <factor>\n",
      "|    <factor> ' * ' <term>\n",
      "|    <factor> ' / ' <term>\n",
      "<factor or(+FA,+FC)> ::=\n",
      "|    '(' <expr or(+FA,+FC,LA_1)> ')'\n",
      "|    '+' <factor or(+FA,+FC)>\n",
      "|    '-' <factor or(+FA,+FC)>\n",
      "<factor> ::=\n",
      "|    '(' <expr> ')'\n",
      "|    '+' <factor>\n",
      "|    '-' <factor>\n",
      "|    <integer>\n",
      "|    <integer> '.' <integer>\n",
      "<term or(+FA,+FC,LC_2)> ::=\n",
      "|    <factor or(+FA,+FC)> ' * ' <term>\n",
      "|    <factor or(+FA,+FC)> ' / ' <term>\n",
      "|    <factor or(+FA,+FC,LC_1)>\n",
      "|    <factor> ' * ' <term or(+FA,+FC)>\n",
      "|    <factor> ' / ' <term or(+FA,+FC,LC_2)>\n",
      "<expr or(+FA,+FC,LA_1)> ::=\n",
      "|    <term or(+FA,+FC)> ' + ' <expr>\n",
      "|    <term or(+FA,+FC)> ' - ' <expr>\n",
      "|    <term or(+FA,+FC,LA_1)>\n",
      "|    <term> ' + ' <expr or(+FA,+FC)>\n",
      "|    <term> ' - ' <expr or(+FA,+FC)>\n",
      "<term or(+FA,+FC,LA_1)> ::=\n",
      "|    <factor or(+FA,+FC)> ' * ' <term>\n",
      "|    <factor or(+FA,+FC)> ' / ' <term>\n",
      "|    <factor or(+FA,+FC,LA_2)>\n",
      "|    <factor> ' * ' <term or(+FA,+FC)>\n",
      "|    <factor> ' / ' <term or(+FA,+FC,LC_2)>\n",
      "<factor or(+FA,+FC,LA_2)> ::=\n",
      "|    '(' <expr or(+FA,+FC,LA_1)> ')'\n",
      "|    '(' <expr> ')'\n",
      "|    '+' <factor or(+FA,+FC)>\n",
      "|    '-' <factor or(+FA,+FC)>\n",
      "<integer> ::=\n",
      "|    <digit>\n",
      "|    <digit> <integer>\n",
      "<digit> ::=\n",
      "|    '0'\n",
      "|    '1'\n",
      "|    '2'\n",
      "|    '3'\n",
      "|    '4'\n",
      "|    '5'\n",
      "|    '6'\n",
      "|    '7'\n",
      "|    '8'\n",
      "|    '9'\n",
      "<factor or(+FA,+FC,LC_1)> ::=\n",
      "|    '(' <expr or(+FA,+FC,LA_1)> ')'\n",
      "|    '+' <factor or(+FA,+FC)>\n",
      "|    '-' <factor or(+FA,+FC)>\n",
      "|    <integer LC_1>\n",
      "<integer LC_1> ::=\n",
      "|    <digit LC_1>\n",
      "<digit LC_1> ::=\n",
      "|    '0'\n",
      "16 62\n"
     ]
    },
    {
     "data": {
      "text/plain": [
       "'<start or(+FA,+FC)>'"
      ]
     },
     "execution_count": 477,
     "metadata": {},
     "output_type": "execute_result"
    }
   ],
   "source": [
    "%%top\n",
    "Gs(AorC_grammar)\n",
    "AorC_start"
   ]
  },
  {
   "cell_type": "code",
   "execution_count": 478,
   "metadata": {},
   "outputs": [],
   "source": [
    "AorC_fuzzer = LimitFuzzer(AorC_grammar)\n",
    "AorC_parser = Parser(AorC_grammar, canonical=True, start_symbol=AorC_start)"
   ]
  },
  {
   "cell_type": "code",
   "execution_count": 479,
   "metadata": {},
   "outputs": [
    {
     "name": "stdout",
     "output_type": "stream",
     "text": [
      "+88.2 - ---((8 / 0 - 3.1) * 2.4 - 5 + 8.8) / ((8 - 7.8) * +5.2 - 4 * 8.9 / 6 + 0 / 8 - 9 + 3)\n",
      "A|C\n",
      "1.3 * (93.677 * 26.9 * (6.4) / 0 / 1.0 - +7 / 1 / 9 / 2.4 + (2) + 6.4 * 9.2 + 8 - 0) / 89.7 / 3 - --+(0.4 * 1 / 0 + 0.9 + 8) / (+6 / (5.9) / 4.9 / 6.0 - (1) * 3 / 0 - 3 - 2.8) * 85.133 * ++(8) + 1.21 * +1.7 * -96\n",
      "A|C\n",
      "5 * (--9.5 / (8.4 + 9.6 / 0 + 7) * 3 * 4 / 1 - -2.9 / 5) + -+51.2 * (1) * -(0 - 6.1) + 16 / 1.6 / --9 * 3.1 - +9 * 9 / (2 + 8) / (0.7) + 8 * (8.2) * (1.1) * 0 / 6.2 + +1\n",
      "A|C\n",
      "(-396.40 / 0 - 696 * ++(3 / 0) * 1 / 9 + -(6) + -0.4 - 8.7 / 1.5 - 6.3 - 7.5) + (354 * -5.3) - 02 - (2.6 / 2.6) - 2 * -+8 * 1 * 1 * 3.6\n",
      "A|C\n",
      "(-++-6.9 - +00 * (9.2 + 6) * -9.1 + (4) - 7 * 5 + 2.7 * 7.4 + 5.9) / (--7 * -9 + (6 + 5.7) / -(8 / 0 - 7) * 1 + 4.5 * 6.4 + 9.6 / 0.4) + ((0 * 3.4) * (7.0 - 4.2) * -1 / 9) - ++8.20 * +-+6.2 / (3.5 / 9 + 9) / (3.8 - 4.0) + --(2) - 04 / -+7.4 * -8.9 + 4 - -4 / 5.0 / 4 + 8.1 / 2\n",
      "A|C\n",
      "++(-+(2 / 0 - 5.5) * (1) * 9.4 / 7.9 - 6 / 2.5) * (55) + 76 * (4.22 / 6 * 8) / (2.1)\n",
      "A|C\n",
      "(+077 + 824 * 38.3 / 7) / 4.478 * 67 * 4988.3 / 20.0 / 43.9 * +7.7 + +68.8 * 0 + 7 / 71.5 - -+-+(3 / 0 - 5) * (5.3 - 6.0) / (0 - 0) + (1 / 7.2 + 5 - 2) * -1.6 * 1 / 8.7 + (1.8 + 2) * 3.5 / 0.5 / 2\n",
      "A|C\n",
      "(2 * +(2.9) / (7) * -0 / 3 / 4.9 + 4.10) / +7.7 * -++-+(5 / 0 + 5) / 4 * (4.3 * 2 - 9.4 - 5.6) * +-9.5\n",
      "A|C\n",
      "+-++((3.8 / 0) / 0.2 + 1.4 - 2.1)\n",
      "A|C\n",
      "+(+1 / ++(1 / 0) / 5) * +--42.5 * 7 - -0.08 / 6.6 * 0.8651 + (-+9.0 * +2.5 / 8 / 6 + 3.3 / 0 - 3.3 / 4 - 2.1) / 3.7 / (2 / 4 + 2 - 5) + -544 / -++0.9\n",
      "A|C\n"
     ]
    }
   ],
   "source": [
    "%%top\n",
    "for i in range(10):\n",
    "    s = AorC_fuzzer.fuzz(key=AorC_start)\n",
    "    print(s)\n",
    "    print('A|C')\n",
    "    assert AorC_parser.can_parse(s)\n",
    "    assert faultA_parser.can_parse(s) or faultC_parser.can_parse(s)"
   ]
  },
  {
   "cell_type": "markdown",
   "metadata": {},
   "source": [
    "### B | C"
   ]
  },
  {
   "cell_type": "code",
   "execution_count": 480,
   "metadata": {},
   "outputs": [],
   "source": [
    "BorC_grammar, BorC_start = or_grammars(faultB_grammar, faultB_start, faultC_grammar, faultC_start)"
   ]
  },
  {
   "cell_type": "code",
   "execution_count": 481,
   "metadata": {},
   "outputs": [
    {
     "name": "stdout",
     "output_type": "stream",
     "text": [
      "<start or(+FB,+FC)> ::=\n",
      "|    <expr or(+FB,+FC)>\n",
      "<expr or(+FB,+FC)> ::=\n",
      "|    <term or(+FB,+FC)>\n",
      "|    <term or(+FB,+FC)> ' + ' <expr>\n",
      "|    <term or(+FB,+FC)> ' - ' <expr>\n",
      "|    <term> ' + ' <expr or(+FB,+FC,LB_2)>\n",
      "|    <term> ' - ' <expr or(+FB,+FC)>\n",
      "<term or(+FB,+FC)> ::=\n",
      "|    <factor or(+FB,+FC)>\n",
      "|    <factor or(+FB,+FC)> ' * ' <term>\n",
      "|    <factor or(+FB,+FC)> ' / ' <term>\n",
      "|    <factor> ' * ' <term or(+FB,+FC)>\n",
      "|    <factor> ' / ' <term or(+FB,+FC,LC_2)>\n",
      "<expr> ::=\n",
      "|    <term>\n",
      "|    <term> ' + ' <expr>\n",
      "|    <term> ' - ' <expr>\n",
      "<term> ::=\n",
      "|    <factor>\n",
      "|    <factor> ' * ' <term>\n",
      "|    <factor> ' / ' <term>\n",
      "<expr or(+FB,+FC,LB_2)> ::=\n",
      "|    <term or(+FB,+FC)>\n",
      "|    <term or(+FB,+FC)> ' + ' <expr>\n",
      "|    <term or(+FB,+FC)> ' - ' <expr>\n",
      "|    <term>\n",
      "|    <term> ' + ' <expr or(+FB,+FC,LB_2)>\n",
      "|    <term> ' - ' <expr or(+FB,+FC)>\n",
      "<factor or(+FB,+FC)> ::=\n",
      "|    '(' <expr or(+FB,+FC)> ')'\n",
      "|    '+' <factor or(+FB,+FC)>\n",
      "|    '-' <factor or(+FB,+FC)>\n",
      "<factor> ::=\n",
      "|    '(' <expr> ')'\n",
      "|    '+' <factor>\n",
      "|    '-' <factor>\n",
      "|    <integer>\n",
      "|    <integer> '.' <integer>\n",
      "<term or(+FB,+FC,LC_2)> ::=\n",
      "|    <factor or(+FB,+FC)> ' * ' <term>\n",
      "|    <factor or(+FB,+FC)> ' / ' <term>\n",
      "|    <factor or(+FB,+FC,LC_1)>\n",
      "|    <factor> ' * ' <term or(+FB,+FC)>\n",
      "|    <factor> ' / ' <term or(+FB,+FC,LC_2)>\n",
      "<integer> ::=\n",
      "|    <digit>\n",
      "|    <digit> <integer>\n",
      "<digit> ::=\n",
      "|    '0'\n",
      "|    '1'\n",
      "|    '2'\n",
      "|    '3'\n",
      "|    '4'\n",
      "|    '5'\n",
      "|    '6'\n",
      "|    '7'\n",
      "|    '8'\n",
      "|    '9'\n",
      "<factor or(+FB,+FC,LC_1)> ::=\n",
      "|    '(' <expr or(+FB,+FC)> ')'\n",
      "|    '+' <factor or(+FB,+FC)>\n",
      "|    '-' <factor or(+FB,+FC)>\n",
      "|    <integer LC_1>\n",
      "<integer LC_1> ::=\n",
      "|    <digit LC_1>\n",
      "<digit LC_1> ::=\n",
      "|    '0'\n",
      "14 54\n"
     ]
    },
    {
     "data": {
      "text/plain": [
       "'<start or(+FB,+FC)>'"
      ]
     },
     "execution_count": 481,
     "metadata": {},
     "output_type": "execute_result"
    }
   ],
   "source": [
    "%%top\n",
    "Gs(BorC_grammar)\n",
    "BorC_start"
   ]
  },
  {
   "cell_type": "code",
   "execution_count": 482,
   "metadata": {},
   "outputs": [],
   "source": [
    "BorC_fuzzer = LimitFuzzer(BorC_grammar)\n",
    "BorC_parser = Parser(BorC_grammar, canonical=True, start_symbol=BorC_start)"
   ]
  },
  {
   "cell_type": "code",
   "execution_count": 483,
   "metadata": {},
   "outputs": [
    {
     "name": "stdout",
     "output_type": "stream",
     "text": [
      "+(-0.4 / -(8) * +5.3) / (+6.59 * -2.7 * +3 * 5 * 1.2) / -307 / (-5.1 * 8 / 0 + 5) / 0.9 / (5.2 + 0) * +2.3 / 9 + --+8 - +(+7.5 / 5.4 * 4.6) / -(6 / 9.1) - 4 * (3.5 + 5) / 4\n",
      "B|C\n",
      "--+(0 * 3.7 * 4 - 3.1 + 4.4 / 0 - 0) + (-75.5 / +(3.1) + 54 / -2 - +8 / 5 / 5 - 7.6 * 2.7 + 1.5 + 6) - (4) / --7.96 / -6 * 93 / +0.6 + 48 - 67.0\n",
      "B|C\n",
      "+7 * +-+((4.4 + 8) / 0.9 + 1 + 0) / (+5.0 / 2.6 + 4 * 2.5) / -6 / 58 * 63.39 / +9.8 / 4 * 1.9 + +637 - (-(4.4) - +9) * -(6.3 - 9 - 2.1) * 2 - 85.1800 + 719.669 / (5.5) * 1.4 + 6.4 / 0.6 * 1 / 5\n",
      "B|C\n",
      "-(621 / 69.64 / 3 - --4.0 * 1 * 6.6 * 1.7) * +-+((5 / 0) / 4 - 1 - 1)\n",
      "B|C\n",
      "+936 - 7.8 + (-(0 + 8.0) * 4) - ++++5 + -++8.9 / --9 / 6.5 * 2 - 34.2\n",
      "B|C\n",
      "+(05 * 52 * -4.5 - ++3 * -7 + -2 * 3.9) * +57.8\n",
      "B|C\n",
      "(-+9.3 - 7.177 * 08 / +(8.3 / 0) * 2 * 3.5) - --6971 * 9.0 / +84.96 * -+8.4 + +387 / 9.5 / 6.27 * 9.8 - (0 * 4.0 / 6.7) - +-6.4 / 0.8 - 54.0 - 0 + 5.7 + 2.8\n",
      "B|C\n",
      "(3.09 / 45 * 30.96 * 5.6 * 4 * 9.8 - --2.1 + +-(9 / 0) / -0.8 * 2 - -6.4 * 5.2 / 1 - 1.4 * 8) * 6 / 2085.55 / (1.1 * 2.8 / 5 + 9 / 8) + 2 / (+-9 / (2) / 9.3 - (2.5) * 0 * 7.0) - 38 * +8.799 - 5.6 + 0 * (3 - 4) * -6.2 / 7 - +5 + -1.0 / 6.1 * 1.7 - 6 / 7.9 - 0\n",
      "B|C\n",
      "(-+(6 / 0 - 3.2)) * -(61.4 * 0 * 2.6 + 8.6 * 3.3 / 2.2 - 3 * 3.8 + 5.1) * +9389.0 + (++(5.6) + ++2.5 / +3 * 5.3 / 0) / (-(9) / +9.6 / 0.2 - 3.4 / 9.6 * 9.0)\n",
      "B|C\n",
      "7.58 - (6 * 90.9 * 8.2 * 7.8 / 7.2) / 83590.8259 + ++(1 / 0 + 7.5 + 3.2) * +8 + 8\n",
      "B|C\n"
     ]
    }
   ],
   "source": [
    "%%top\n",
    "for i in range(10):\n",
    "    s = BorC_fuzzer.fuzz(key=BorC_start)\n",
    "    print(s)\n",
    "    print('B|C')\n",
    "    assert BorC_parser.can_parse(s)\n",
    "    assert faultB_parser.can_parse(s) or faultC_parser.can_parse(s)"
   ]
  },
  {
   "cell_type": "markdown",
   "metadata": {},
   "source": [
    "## Negation"
   ]
  },
  {
   "cell_type": "code",
   "execution_count": 484,
   "metadata": {},
   "outputs": [
    {
     "data": {
      "text/plain": [
       "[]"
      ]
     },
     "execution_count": 484,
     "metadata": {},
     "output_type": "execute_result"
    }
   ],
   "source": [
    "EXCEPTION_HAPPENED"
   ]
  },
  {
   "cell_type": "markdown",
   "metadata": {},
   "source": [
    "### A - B"
   ]
  },
  {
   "cell_type": "code",
   "execution_count": 485,
   "metadata": {},
   "outputs": [],
   "source": [
    "AminusB_grammar, AminusB_start = and_grammars(faultA_grammar, faultA_start, neg_B_grammar, neg_B_start)"
   ]
  },
  {
   "cell_type": "code",
   "execution_count": 486,
   "metadata": {
    "scrolled": true
   },
   "outputs": [
    {
     "name": "stdout",
     "output_type": "stream",
     "text": [
      "<start and(+FA,neg(+FB))> ::=\n",
      "|    <expr and(+FA,neg(+FB))>\n",
      "<expr and(+FA,neg(+FB))> ::=\n",
      "|    <term and(+FA,neg(+FB))>\n",
      "|    <term and(+FA,neg(+FB))> ' + ' <expr and(neg(+FB),neg(LB_2))>\n",
      "|    <term and(+FA,neg(+FB))> ' - ' <expr neg(+FB)>\n",
      "|    <term neg(+FB)> ' + ' <expr and(+FA,neg(+FB),neg(LB_2))>\n",
      "|    <term neg(+FB)> ' - ' <expr and(+FA,neg(+FB))>\n",
      "<term and(+FA,neg(+FB))> ::=\n",
      "|    <factor and(+FA,neg(+FB))>\n",
      "|    <factor and(+FA,neg(+FB))> ' * ' <term neg(+FB)>\n",
      "|    <factor and(+FA,neg(+FB))> ' / ' <term neg(+FB)>\n",
      "|    <factor neg(+FB)> ' * ' <term and(+FA,neg(+FB))>\n",
      "|    <factor neg(+FB)> ' / ' <term and(+FA,neg(+FB))>\n",
      "<expr and(neg(+FB),neg(LB_2))> ::=\n",
      "|    <term neg(+FB)> ' + ' <expr and(neg(+FB),neg(LB_2))>\n",
      "|    <term neg(+FB)> ' - ' <expr neg(+FB)>\n",
      "<expr neg(+FB)> ::=\n",
      "|    <term neg(+FB)>\n",
      "|    <term neg(+FB)> ' + ' <expr and(neg(+FB),neg(LB_2))>\n",
      "|    <term neg(+FB)> ' - ' <expr neg(+FB)>\n",
      "<term neg(+FB)> ::=\n",
      "|    <factor neg(+FB)>\n",
      "|    <factor neg(+FB)> ' * ' <term neg(+FB)>\n",
      "|    <factor neg(+FB)> ' / ' <term neg(+FB)>\n",
      "<expr and(+FA,neg(+FB),neg(LB_2))> ::=\n",
      "|    <term and(+FA,neg(+FB))> ' + ' <expr and(neg(+FB),neg(LB_2))>\n",
      "|    <term and(+FA,neg(+FB))> ' - ' <expr neg(+FB)>\n",
      "|    <term neg(+FB)> ' + ' <expr and(+FA,neg(+FB),neg(LB_2))>\n",
      "|    <term neg(+FB)> ' - ' <expr and(+FA,neg(+FB))>\n",
      "<factor and(+FA,neg(+FB))> ::=\n",
      "|    '(' <expr and(+FA,neg(+FB))> ')'\n",
      "|    '(' <expr and(LA_1,neg(+FB))> ')'\n",
      "|    '+' <factor and(+FA,neg(+FB))>\n",
      "|    '-' <factor and(+FA,neg(+FB))>\n",
      "<factor neg(+FB)> ::=\n",
      "|    '(' <expr neg(+FB)> ')'\n",
      "|    '+' <factor neg(+FB)>\n",
      "|    '-' <factor neg(+FB)>\n",
      "|    <integer>\n",
      "|    <integer> '.' <integer>\n",
      "<expr and(LA_1,neg(+FB))> ::=\n",
      "|    <term and(LA_1,neg(+FB))>\n",
      "<term and(LA_1,neg(+FB))> ::=\n",
      "|    <factor and(LA_2,neg(+FB))>\n",
      "<factor and(LA_2,neg(+FB))> ::=\n",
      "|    '(' <expr neg(+FB)> ')'\n",
      "<integer> ::=\n",
      "|    <digit>\n",
      "|    <digit> <integer>\n",
      "<digit> ::=\n",
      "|    '0'\n",
      "|    '1'\n",
      "|    '2'\n",
      "|    '3'\n",
      "|    '4'\n",
      "|    '5'\n",
      "|    '6'\n",
      "|    '7'\n",
      "|    '8'\n",
      "|    '9'\n",
      "14 47\n"
     ]
    },
    {
     "data": {
      "text/plain": [
       "'<start and(+FA,neg(+FB))>'"
      ]
     },
     "execution_count": 486,
     "metadata": {},
     "output_type": "execute_result"
    }
   ],
   "source": [
    "%%top\n",
    "Gs(AminusB_grammar)\n",
    "AminusB_start"
   ]
  },
  {
   "cell_type": "code",
   "execution_count": 487,
   "metadata": {},
   "outputs": [],
   "source": [
    "AminusB_fuzzer = LimitFuzzer(AminusB_grammar)\n",
    "AminusB_parser = Parser(AminusB_grammar, canonical=True, start_symbol=AminusB_start)"
   ]
  },
  {
   "cell_type": "code",
   "execution_count": 488,
   "metadata": {},
   "outputs": [
    {
     "name": "stdout",
     "output_type": "stream",
     "text": [
      "(-90 - +48 * 56 * -5.5 - ++1.1 + +3.2 * 7.5 * 0 + 1.6 * 4 - 4) / (7.62 - +5.8 / 5.5 * 0 + 7.5 / 6 - 8) * 12 / --+8.9 / -(6) - 82.5 / +729 + (((4.8)) / (9) / 8.9 / 4 - (5.0) / 9.1 / 9.4 - 6 + 0 + 5 - 6.7) - 18.648 - (6.5 * 5 + 3 + 4.4 - 0.3) * (5.1 + 2.7 - 4) * 8.6 / 4 / 8\n",
      "A-B\n",
      "A\n",
      "B\n",
      "(955 / (0.2 / 8.2 - 4 + 0 - 5.6) - ((0.1)) - (0) * 4.8 + 1.6 / 6 - 9.9 + 5 + 7 - 7) / +-4129 * 7 / 51 / 888 / -+9 - 0627 + +5.9 / -3.16 - -++6.3 - +09.68 - 0 * -2.9 / 3.7 * 9 + 7 / 8.6 + 2 / 0 + 6.1 + 6 - 2\n",
      "A-B\n",
      "A\n",
      "B\n",
      "42 / (++6.3 * (4.9) + +(4.1) / 8 / 7 * 5.2 + 6 + 8.5 / 9 + 7 + 4 - 3.1) + --+(8.0 / ((3)) - 1.7 + 9.7 - 0.5) / 3.3 * 06.250 + -4 * 3.8 * -++7.5 + (2 / 7 - 8.1 - 3 - 6) / 6.34 - 0.153 / 33.35 / -3 * 2 / 0\n",
      "A-B\n",
      "A\n",
      "B\n",
      "-((0.6)) / -(36.34 + 1.4 * 8 * 5.4 + 8.4 * 3 + 2 - 4.0) / 68.1 + 1.98 * ((2.2) * 4 - (2)) + 0 * ++--8 / -3 * 45 / +6.2 * 2 / 9 + (-9 * 0.1 + 5.3 * 5.3 + 4.1 + 1.0 - 6) - 3.3 * (5 - 0) / +6.2 / 5.1 * 0 - 6.15 * +0 * 6 * 0\n",
      "A-B\n",
      "A\n",
      "B\n",
      "((9 - 6.7 / 9 + 9.2 + 3.3 - 8.7)) - --(+4 + 6.4 / 9.3 + 3 - 4.5) - (5.9 / +8.5 * 1 * 2.3 - 9.4 / 2.4) / +-42.5 / +(3.7 - 4) * -+1.0 * (1) / 7.1 / 3.2 - 074.32 / 2 * (3.0 + 0.8 - 2) * -1.9 * 1 / 4.1 - 39 / 93 + +4 * +2.5 / 6 - 0\n",
      "A-B\n",
      "A\n",
      "B\n",
      "21.2 / +-2 / (07 + +0.9 / 1 + 2.8 - 1 - 6) * ++(4) - 8.3 / (29.9 / (2.1) / 1 - (2.4) * ((0.8)) / 1.2)\n",
      "A-B\n",
      "A\n",
      "B\n",
      "438 / 5.5839 * 04 + 075 - 3067 / +920 / 99.161 * +(7.5) * +7.8 * 8 / 8 - -8.89 * 9.667 * -(9.5) / ((7))\n",
      "A-B\n",
      "A\n",
      "B\n",
      "9 - ((3 / 8 - 3 - 4.7)) / +095 - 17.14291 * +-51 * +(0.1 - 1) - 41 + 3.2 - (5 + 5 - 9.0) / +3 / 7.5 * 8.5\n",
      "A-B\n",
      "A\n",
      "B\n",
      "((-9 / 8.4) * --7 / 3.55) - 4 / -1 / --58.41 * 58.1 / ++8 * 6.5 * 3.6 * 5.3 + -5 - 9209.0 / 9.403 * (((1)) / 3 - 5) / +2 / 5.8\n",
      "A-B\n",
      "A\n",
      "B\n",
      "(---0.2 * ++5.0 + (3.0 - 9) / -+0 * ((2)) / 9 - 9 * -0.6 + 6 - 4.4 / 4 - 5) / 003 / 342.3 * -(3.9 * 5.4 + 7 - 9) / ++8 - 068.0 / --+-5 * ++5 / 7.404 / -1.8 / 0.2 - 5 * (-2.5 / 5.1 / 6 - 5 / 1 + 1 - 5.8) * 8.2 * 6 / +9.7 + 9 * 833.204 / -9 * -6 / 7.8 + -1.0 - (2.1 + 5 - 5) / +3 * 6.6 * 1 - 5 / 8.2 * 8 - 0.1 * 8\n",
      "A-B\n",
      "A\n",
      "B\n"
     ]
    }
   ],
   "source": [
    "%%top\n",
    "for i in range(10):\n",
    "    s = AminusB_fuzzer.fuzz(key=AminusB_start)\n",
    "    print(s)\n",
    "    print('A-B')\n",
    "    assert AminusB_parser.can_parse(s)\n",
    "    print('A')\n",
    "    assert faultA_parser.can_parse(s)\n",
    "    print('B')\n",
    "    assert not faultB_parser.can_parse(s)"
   ]
  },
  {
   "cell_type": "markdown",
   "metadata": {},
   "source": [
    "### A - C"
   ]
  },
  {
   "cell_type": "code",
   "execution_count": 489,
   "metadata": {},
   "outputs": [],
   "source": [
    "AminusC_grammar, AminusC_start = and_grammars(faultA_grammar, faultA_start, neg_C_grammar, neg_C_start)"
   ]
  },
  {
   "cell_type": "code",
   "execution_count": 490,
   "metadata": {
    "scrolled": true
   },
   "outputs": [
    {
     "name": "stdout",
     "output_type": "stream",
     "text": [
      "<start and(+FA,neg(+FC))> ::=\n",
      "|    <expr and(+FA,neg(+FC))>\n",
      "<expr and(+FA,neg(+FC))> ::=\n",
      "|    <term and(+FA,neg(+FC))>\n",
      "|    <term and(+FA,neg(+FC))> ' + ' <expr neg(+FC)>\n",
      "|    <term and(+FA,neg(+FC))> ' - ' <expr neg(+FC)>\n",
      "|    <term neg(+FC)> ' + ' <expr and(+FA,neg(+FC))>\n",
      "|    <term neg(+FC)> ' - ' <expr and(+FA,neg(+FC))>\n",
      "<term and(+FA,neg(+FC))> ::=\n",
      "|    <factor and(+FA,neg(+FC))>\n",
      "|    <factor and(+FA,neg(+FC))> ' * ' <term neg(+FC)>\n",
      "|    <factor and(+FA,neg(+FC))> ' / ' <term and(neg(+FC),neg(LC_2))>\n",
      "|    <factor neg(+FC)> ' * ' <term and(+FA,neg(+FC))>\n",
      "|    <factor neg(+FC)> ' / ' <term and(+FA,neg(+FC),neg(LC_2))>\n",
      "<expr neg(+FC)> ::=\n",
      "|    <term neg(+FC)>\n",
      "|    <term neg(+FC)> ' + ' <expr neg(+FC)>\n",
      "|    <term neg(+FC)> ' - ' <expr neg(+FC)>\n",
      "<term neg(+FC)> ::=\n",
      "|    <factor neg(+FC)>\n",
      "|    <factor neg(+FC)> ' * ' <term neg(+FC)>\n",
      "|    <factor neg(+FC)> ' / ' <term and(neg(+FC),neg(LC_2))>\n",
      "<factor and(+FA,neg(+FC))> ::=\n",
      "|    '(' <expr and(+FA,neg(+FC))> ')'\n",
      "|    '(' <expr and(LA_1,neg(+FC))> ')'\n",
      "|    '+' <factor and(+FA,neg(+FC))>\n",
      "|    '-' <factor and(+FA,neg(+FC))>\n",
      "<term and(neg(+FC),neg(LC_2))> ::=\n",
      "|    <factor and(neg(+FC),neg(LC_1))>\n",
      "|    <factor neg(+FC)> ' * ' <term neg(+FC)>\n",
      "|    <factor neg(+FC)> ' / ' <term and(neg(+FC),neg(LC_2))>\n",
      "<factor neg(+FC)> ::=\n",
      "|    '(' <expr neg(+FC)> ')'\n",
      "|    '+' <factor neg(+FC)>\n",
      "|    '-' <factor neg(+FC)>\n",
      "|    <integer>\n",
      "|    <integer> '.' <integer>\n",
      "<term and(+FA,neg(+FC),neg(LC_2))> ::=\n",
      "|    <factor and(+FA,neg(+FC))> ' * ' <term neg(+FC)>\n",
      "|    <factor and(+FA,neg(+FC))> ' / ' <term and(neg(+FC),neg(LC_2))>\n",
      "|    <factor and(+FA,neg(+FC),neg(LC_1))>\n",
      "|    <factor neg(+FC)> ' * ' <term and(+FA,neg(+FC))>\n",
      "|    <factor neg(+FC)> ' / ' <term and(+FA,neg(+FC),neg(LC_2))>\n",
      "<expr and(LA_1,neg(+FC))> ::=\n",
      "|    <term and(LA_1,neg(+FC))>\n",
      "<term and(LA_1,neg(+FC))> ::=\n",
      "|    <factor and(LA_2,neg(+FC))>\n",
      "<factor and(LA_2,neg(+FC))> ::=\n",
      "|    '(' <expr neg(+FC)> ')'\n",
      "<factor and(neg(+FC),neg(LC_1))> ::=\n",
      "|    '(' <expr neg(+FC)> ')'\n",
      "|    '+' <factor neg(+FC)>\n",
      "|    '-' <factor neg(+FC)>\n",
      "|    <integer neg(LC_1)>\n",
      "|    <integer> '.' <integer>\n",
      "<integer neg(LC_1)> ::=\n",
      "|    <digit neg(LC_1)>\n",
      "|    <digit> <integer>\n",
      "<integer> ::=\n",
      "|    <digit>\n",
      "|    <digit> <integer>\n",
      "<digit neg(LC_1)> ::=\n",
      "|    '1'\n",
      "|    '2'\n",
      "|    '3'\n",
      "|    '4'\n",
      "|    '5'\n",
      "|    '6'\n",
      "|    '7'\n",
      "|    '8'\n",
      "|    '9'\n",
      "<digit> ::=\n",
      "|    '0'\n",
      "|    '1'\n",
      "|    '2'\n",
      "|    '3'\n",
      "|    '4'\n",
      "|    '5'\n",
      "|    '6'\n",
      "|    '7'\n",
      "|    '8'\n",
      "|    '9'\n",
      "<factor and(+FA,neg(+FC),neg(LC_1))> ::=\n",
      "|    '(' <expr and(+FA,neg(+FC))> ')'\n",
      "|    '(' <expr and(LA_1,neg(+FC))> ')'\n",
      "|    '+' <factor and(+FA,neg(+FC))>\n",
      "|    '-' <factor and(+FA,neg(+FC))>\n",
      "18 69\n"
     ]
    },
    {
     "data": {
      "text/plain": [
       "'<start and(+FA,neg(+FC))>'"
      ]
     },
     "execution_count": 490,
     "metadata": {},
     "output_type": "execute_result"
    }
   ],
   "source": [
    "%%top\n",
    "Gs(AminusC_grammar)\n",
    "AminusC_start"
   ]
  },
  {
   "cell_type": "code",
   "execution_count": 491,
   "metadata": {},
   "outputs": [],
   "source": [
    "AminusC_fuzzer = LimitFuzzer(AminusC_grammar)\n",
    "AminusC_parser = Parser(AminusC_grammar, canonical=True, start_symbol=AminusC_start)"
   ]
  },
  {
   "cell_type": "code",
   "execution_count": 492,
   "metadata": {},
   "outputs": [
    {
     "name": "stdout",
     "output_type": "stream",
     "text": [
      "((+6.1 / 0 * 0.6)) / (93.9 / (1 + 3.1) * 6.8 * 8.7 * 6) * +-+(8) * (3.3 * 5 / 3 + 0 - 0 + 5)\n",
      "A-C\n",
      "A\n",
      "C\n",
      "74 * 34 / -1 * +-+-1.2 + +((3.9) / 3) / ((((5.9)) / 8.6 + 8) * +7.4 + 4 + 8.3 * 7.9 - 4 - 4) / 9 + 06790\n",
      "A-C\n",
      "A\n",
      "C\n",
      "--8.108 * -+-+1.97 * 8 - +(-((8)) / 1.5 / 2.0 * 6.5 - 6 * 3 * 9 - 2 * 7.9) / (7.39) / -+-+6\n",
      "A-C\n",
      "A\n",
      "C\n",
      "-(7 * +2.7 - ((7.3)) / (3)) * 0 + +--387.213 / -+058 * 0 - 43 / 987.6862 * -(7 + 5) + -(1.7 * 3 + 6.1 - 4) / -2 / 85.8 / 9 * 5.0\n",
      "A-C\n",
      "A\n",
      "C\n",
      "+1 / (+(4.4 - 8) / 3.02) + --4 * +-+(((4.7)) + 3.6) * (-7.7 / 5.3 * 3 + 2.6 / 8 - 2.4 + 3.6) * -(3 + 0) * 31.3 / 4.8 - -((1)) * 0.8 - +(0.2 / 4 - 8.5) / +25.17 / -1 - 32 * 2 * -6 + +-0 + (7) / 9.8 * 0 - 8.1 / 9.7 - 2.0 + 3.2\n",
      "A-C\n",
      "A\n",
      "C\n",
      "(65 / -++8 / --1) * ++0 + ((8) * (1 - ((2)) + 3.7) / 2 / 7.5 * 1 - 6.8 * 7 * 7.5 + 1 * 5.9 + 1.0 / 9.4 - 3 + 8.2) + 19.04\n",
      "A-C\n",
      "A\n",
      "C\n",
      "287.9 / (45 + (7)) / 5.68 - ((3.5 / 5.0 + 6.7 - ((4)) / 1) / 62 / +9 / 8 * 3.9 + (3) / 1 / 8) * ++(9.5 / 2 + 5) * +284 / 8 / (5.1 + 0.6) + +7 / +458.616 + 945\n",
      "A-C\n",
      "A\n",
      "C\n",
      "-((1.6)) * 0198 / +((9) * 3 / 6 + 2.8 / 6) + 9 / -8.801\n",
      "A-C\n",
      "A\n",
      "C\n",
      "((+6.2 * 2)) / -85 * 534 + 055.323 * +5.59 / 4 / 2 + 2 * (1 * 6 * 8.7) * -+3\n",
      "A-C\n",
      "A\n",
      "C\n",
      "78.9733 / -5.56 * ---30.4 - (+82.0 * ++((8.4)) / +9 / 2 * 6.5 - 7.31 * 6.7 * 8.3 + (8) * 0 * 8 + 2.1 * 9 + 7) * (+-1 / -4.5 + 1 / 2 / 6.7 - 1.8 / 8.8) - 27.9 - (5.3 / 0.7 / 1 - 4 + 5.1 - 7) * +91.0 * (3.9 + 6.8) / 6 / 7.2 * 0.0\n",
      "A-C\n",
      "A\n",
      "C\n"
     ]
    }
   ],
   "source": [
    "%%top\n",
    "for i in range(10):\n",
    "    s = AminusC_fuzzer.fuzz(key=AminusC_start)\n",
    "    print(s)\n",
    "    print('A-C')\n",
    "    assert AminusC_parser.can_parse(s)\n",
    "    print('A')\n",
    "    assert faultA_parser.can_parse(s)\n",
    "    print('C')\n",
    "    assert not faultC_parser.can_parse(s)"
   ]
  },
  {
   "cell_type": "markdown",
   "metadata": {},
   "source": [
    "### B - C"
   ]
  },
  {
   "cell_type": "code",
   "execution_count": 493,
   "metadata": {},
   "outputs": [],
   "source": [
    "BminusC_grammar, BminusC_start = and_grammars(faultB_grammar, faultB_start, neg_C_grammar, neg_C_start)"
   ]
  },
  {
   "cell_type": "code",
   "execution_count": 494,
   "metadata": {},
   "outputs": [
    {
     "name": "stdout",
     "output_type": "stream",
     "text": [
      "<start and(+FB,neg(+FC))> ::=\n",
      "|    <expr and(+FB,neg(+FC))>\n",
      "<expr and(+FB,neg(+FC))> ::=\n",
      "|    <term and(+FB,neg(+FC))>\n",
      "|    <term and(+FB,neg(+FC))> ' + ' <expr neg(+FC)>\n",
      "|    <term and(+FB,neg(+FC))> ' - ' <expr neg(+FC)>\n",
      "|    <term neg(+FC)> ' + ' <expr and(+FB,neg(+FC))>\n",
      "|    <term neg(+FC)> ' + ' <expr and(LB_2,neg(+FC))>\n",
      "|    <term neg(+FC)> ' - ' <expr and(+FB,neg(+FC))>\n",
      "<term and(+FB,neg(+FC))> ::=\n",
      "|    <factor and(+FB,neg(+FC))>\n",
      "|    <factor and(+FB,neg(+FC))> ' * ' <term neg(+FC)>\n",
      "|    <factor and(+FB,neg(+FC))> ' / ' <term and(neg(+FC),neg(LC_2))>\n",
      "|    <factor neg(+FC)> ' * ' <term and(+FB,neg(+FC))>\n",
      "|    <factor neg(+FC)> ' / ' <term and(+FB,neg(+FC),neg(LC_2))>\n",
      "<expr neg(+FC)> ::=\n",
      "|    <term neg(+FC)>\n",
      "|    <term neg(+FC)> ' + ' <expr neg(+FC)>\n",
      "|    <term neg(+FC)> ' - ' <expr neg(+FC)>\n",
      "<term neg(+FC)> ::=\n",
      "|    <factor neg(+FC)>\n",
      "|    <factor neg(+FC)> ' * ' <term neg(+FC)>\n",
      "|    <factor neg(+FC)> ' / ' <term and(neg(+FC),neg(LC_2))>\n",
      "<expr and(LB_2,neg(+FC))> ::=\n",
      "|    <term neg(+FC)>\n",
      "<factor and(+FB,neg(+FC))> ::=\n",
      "|    '(' <expr and(+FB,neg(+FC))> ')'\n",
      "|    '+' <factor and(+FB,neg(+FC))>\n",
      "|    '-' <factor and(+FB,neg(+FC))>\n",
      "<term and(neg(+FC),neg(LC_2))> ::=\n",
      "|    <factor and(neg(+FC),neg(LC_1))>\n",
      "|    <factor neg(+FC)> ' * ' <term neg(+FC)>\n",
      "|    <factor neg(+FC)> ' / ' <term and(neg(+FC),neg(LC_2))>\n",
      "<factor neg(+FC)> ::=\n",
      "|    '(' <expr neg(+FC)> ')'\n",
      "|    '+' <factor neg(+FC)>\n",
      "|    '-' <factor neg(+FC)>\n",
      "|    <integer>\n",
      "|    <integer> '.' <integer>\n",
      "<term and(+FB,neg(+FC),neg(LC_2))> ::=\n",
      "|    <factor and(+FB,neg(+FC))> ' * ' <term neg(+FC)>\n",
      "|    <factor and(+FB,neg(+FC))> ' / ' <term and(neg(+FC),neg(LC_2))>\n",
      "|    <factor and(+FB,neg(+FC),neg(LC_1))>\n",
      "|    <factor neg(+FC)> ' * ' <term and(+FB,neg(+FC))>\n",
      "|    <factor neg(+FC)> ' / ' <term and(+FB,neg(+FC),neg(LC_2))>\n",
      "<factor and(neg(+FC),neg(LC_1))> ::=\n",
      "|    '(' <expr neg(+FC)> ')'\n",
      "|    '+' <factor neg(+FC)>\n",
      "|    '-' <factor neg(+FC)>\n",
      "|    <integer neg(LC_1)>\n",
      "|    <integer> '.' <integer>\n",
      "<integer neg(LC_1)> ::=\n",
      "|    <digit neg(LC_1)>\n",
      "|    <digit> <integer>\n",
      "<integer> ::=\n",
      "|    <digit>\n",
      "|    <digit> <integer>\n",
      "<digit neg(LC_1)> ::=\n",
      "|    '1'\n",
      "|    '2'\n",
      "|    '3'\n",
      "|    '4'\n",
      "|    '5'\n",
      "|    '6'\n",
      "|    '7'\n",
      "|    '8'\n",
      "|    '9'\n",
      "<digit> ::=\n",
      "|    '0'\n",
      "|    '1'\n",
      "|    '2'\n",
      "|    '3'\n",
      "|    '4'\n",
      "|    '5'\n",
      "|    '6'\n",
      "|    '7'\n",
      "|    '8'\n",
      "|    '9'\n",
      "<factor and(+FB,neg(+FC),neg(LC_1))> ::=\n",
      "|    '(' <expr and(+FB,neg(+FC))> ')'\n",
      "|    '+' <factor and(+FB,neg(+FC))>\n",
      "|    '-' <factor and(+FB,neg(+FC))>\n",
      "16 66\n"
     ]
    },
    {
     "data": {
      "text/plain": [
       "'<start and(+FB,neg(+FC))>'"
      ]
     },
     "execution_count": 494,
     "metadata": {},
     "output_type": "execute_result"
    }
   ],
   "source": [
    "%%top\n",
    "Gs(BminusC_grammar)\n",
    "BminusC_start"
   ]
  },
  {
   "cell_type": "code",
   "execution_count": 495,
   "metadata": {},
   "outputs": [],
   "source": [
    "BminusC_fuzzer = LimitFuzzer(BminusC_grammar)\n",
    "BminusC_parser = Parser(BminusC_grammar, canonical=True, start_symbol=BminusC_start)"
   ]
  },
  {
   "cell_type": "code",
   "execution_count": 496,
   "metadata": {},
   "outputs": [
    {
     "name": "stdout",
     "output_type": "stream",
     "text": [
      "---+++(4 + 0) * -5 / -((7) / 5.9 * 1.5) / ((6.1) * 9 + 9.4 * 3 - 5 + 4) / 0.8 - --0.826 - --7.3 * 453.489 * (8 - 4.0)\n",
      "B-C\n",
      "B\n",
      "C\n",
      "-+-(1 / 8 / 2.9 * (4 + 7.6) / 3) * 0.9 / (+-9.7) - 7 + +-+(1 + 9) + 0.0 * 97.831 * 00 / (5) / 4.0 / 8 + +-(9.3) / 6.4 / -6\n",
      "B-C\n",
      "B\n",
      "C\n",
      "+(+6.7 + -(3.4) / -5.2 / 6 + -4.0 / 5.1 / 1 + 9 / 6) * 437 / ++169.47 / 1.08 - +(+6.8 / -6 / 4 + (6) / 3.3 * 6.9 + 5.6 * 3 - 0 + 6) + ((1 + 9.8) * (0) * 0.1 * 8) * 3.4 / (3.3 * 7.1) / ++5.2 / -3.1\n",
      "B-C\n",
      "B\n",
      "C\n",
      "(4 / (2) + 29 * 22 - -+6 * -0) / +(5.3 - (9.0) / 3.3 / 6.6) / -6 / 1 / -5 * (6) / 6 + 0 * 8 / +-(3 + 1.9) + -((9) / 3.4 * 8 + 8 * 9) / 88.37 - (+1.8 - 0.6 / 5 - 9.3 + 7.3) * -(0 - 2) - 99.7 + 2 / +2 + -1.4 / 0.2 / 7 - 6 / 5 - 0.2 - 0 + 7\n",
      "B-C\n",
      "B\n",
      "C\n",
      "((1 + 2.3 * 8) + 5 * ++5 + 5.8 * -0.0 * 1 / 2 - +3 * 3 * 4.4 + 6 * 0.0 + 3.9) / (493.61 + 15.82 - 6.2 / 6.7 / 0.6 - 7 / 6.3) + +-3.2 * (--9.8 / +3.1 * 5 * 6) / +8 / (6.1 + 5) / 32.82 / 0.3\n",
      "B-C\n",
      "B\n",
      "C\n",
      "+3811.9329 * 1.92 / 6 / (6 * 6 / 4.8 - 2.0 / 6 + 5 + 0) * (7.4 / 7 + 7.1) / 5.9 / 3 * 9.7 * 1 + (+18.21) / --549.0\n",
      "B-C\n",
      "B\n",
      "C\n",
      "42 * +9 / 6 + 8.515 + (97 * 7.4 * 0.0 / 4 + 9.0 / 3) * 24 / (4.4 * 8.1 - 5.7) * 94 / +1 + (2.2 / 6.1 - 8.9 / 6) * 03 / (5.5) * (8.0) / 2.9 * 0.9\n",
      "B-C\n",
      "B\n",
      "C\n",
      "((5 * 9 * 9 + 5.5) * -4.81 / --5.3 / -4 / 1 + 845.96 * ++5.1 * -5 / 4.3 * 7.7 + -+(3 + 2) - (6.4) - 9 / 0.8 + 1.7 - 3.3) / ((2.6 / 5 - 3.3) - (5 - 2) / +2.5 + 8.0 / 0 / 0.6) * +-++-9.3 / 53 * 479.1 / -7.5 / -8 * 4.7 / 2 - ++9862 - 099.7\n",
      "B-C\n",
      "B\n",
      "C\n",
      "238 + ((2 / 3.6 - 0.9 - 6) - 5 * +5 - (0) / 7 + 8 * 1.0 - 3 - 1.6) * 5 / -(4.4 + 7 - 5) / (0 / 8 + 2.6 + 2.2) * 59.93 + ((8) * 4.4 / 0.2 + 1 * (1.6 + 6) * 5.5 - 0 * 3.3 - 3.3) * +-3.6 - 0064\n",
      "B-C\n",
      "B\n",
      "C\n",
      "+-+(2 * 6 * 1.2 / 1.0 * (9 + 9.5) / 3 - 3.2 + 8 + 5) * -((8 - 1.1) * (6.6) * 3 + (0) * 9.8 * 0 - 3.9 / 8 + 4.7 + 7) / 920.4 * 6 / 6.3 * 2.2 - +(++1 * 4.8 + -0 / 8.8 * 5 - 1.3 + 9.4) - -(+6.1 / 9 - 8 + 0 + 6.7) / (-8 / 3.8 * 1.5) * 8 / 6.2 * 4.4 - +-(1.1 - 7.9) / 75.7 * +(2) * +6 / 5.3 / 2.1\n",
      "B-C\n",
      "B\n",
      "C\n"
     ]
    }
   ],
   "source": [
    "%%top\n",
    "for i in range(10):\n",
    "    s = BminusC_fuzzer.fuzz(key=BminusC_start)\n",
    "    print(s)\n",
    "    print('B-C')\n",
    "    assert BminusC_parser.can_parse(s)\n",
    "    print('B')\n",
    "    assert faultB_parser.can_parse(s)\n",
    "    print('C')\n",
    "    assert not faultC_parser.can_parse(s)"
   ]
  },
  {
   "cell_type": "markdown",
   "metadata": {},
   "source": [
    "## More"
   ]
  },
  {
   "cell_type": "code",
   "execution_count": 497,
   "metadata": {},
   "outputs": [
    {
     "data": {
      "text/plain": [
       "[]"
      ]
     },
     "execution_count": 497,
     "metadata": {},
     "output_type": "execute_result"
    }
   ],
   "source": [
    "EXCEPTION_HAPPENED"
   ]
  },
  {
   "cell_type": "markdown",
   "metadata": {},
   "source": [
    "### A & B & C"
   ]
  },
  {
   "cell_type": "code",
   "execution_count": 498,
   "metadata": {},
   "outputs": [],
   "source": [
    "AandBandC_grammar, AandBandC_start = and_grammars(AandB_grammar, AandB_start, faultC_grammar, faultC_start)"
   ]
  },
  {
   "cell_type": "code",
   "execution_count": 499,
   "metadata": {
    "scrolled": true
   },
   "outputs": [
    {
     "name": "stdout",
     "output_type": "stream",
     "text": [
      "<start and(+FA,+FB,+FC)> ::=\n",
      "|    <expr and(+FA,+FB,+FC)>\n",
      "<expr and(+FA,+FB,+FC)> ::=\n",
      "|    <term +FA> ' + ' <expr and(+FB,+FC)>\n",
      "|    <term +FA> ' + ' <expr and(+FC,LB_2)>\n",
      "|    <term +FA> ' - ' <expr and(+FB,+FC)>\n",
      "|    <term +FB> ' + ' <expr and(+FA,+FC)>\n",
      "|    <term +FB> ' - ' <expr and(+FA,+FC)>\n",
      "|    <term +FC> ' + ' <expr and(+FA,+FB)>\n",
      "|    <term +FC> ' + ' <expr and(+FA,LB_2)>\n",
      "|    <term +FC> ' - ' <expr and(+FA,+FB)>\n",
      "|    <term and(+FA,+FB)> ' + ' <expr +FC>\n",
      "|    <term and(+FA,+FB)> ' - ' <expr +FC>\n",
      "|    <term and(+FA,+FB,+FC)>\n",
      "|    <term and(+FA,+FB,+FC)> ' + ' <expr>\n",
      "|    <term and(+FA,+FB,+FC)> ' - ' <expr>\n",
      "|    <term and(+FA,+FC)> ' + ' <expr +FB>\n",
      "|    <term and(+FA,+FC)> ' + ' <expr LB_2>\n",
      "|    <term and(+FA,+FC)> ' - ' <expr +FB>\n",
      "|    <term and(+FB,+FC)> ' + ' <expr +FA>\n",
      "|    <term and(+FB,+FC)> ' - ' <expr +FA>\n",
      "|    <term> ' + ' <expr and(+FA,+FB,+FC)>\n",
      "|    <term> ' + ' <expr and(+FA,+FC,LB_2)>\n",
      "|    <term> ' - ' <expr and(+FA,+FB,+FC)>\n",
      "<term +FA> ::=\n",
      "|    <factor +FA>\n",
      "|    <factor +FA> ' * ' <term>\n",
      "|    <factor +FA> ' / ' <term>\n",
      "|    <factor> ' * ' <term +FA>\n",
      "|    <factor> ' / ' <term +FA>\n",
      "<expr and(+FB,+FC)> ::=\n",
      "|    <term +FB> ' + ' <expr +FC>\n",
      "|    <term +FB> ' - ' <expr +FC>\n",
      "|    <term +FC> ' + ' <expr +FB>\n",
      "|    <term +FC> ' + ' <expr LB_2>\n",
      "|    <term +FC> ' - ' <expr +FB>\n",
      "|    <term and(+FB,+FC)>\n",
      "|    <term and(+FB,+FC)> ' + ' <expr>\n",
      "|    <term and(+FB,+FC)> ' - ' <expr>\n",
      "|    <term> ' + ' <expr and(+FB,+FC)>\n",
      "|    <term> ' + ' <expr and(+FC,LB_2)>\n",
      "|    <term> ' - ' <expr and(+FB,+FC)>\n",
      "<expr and(+FC,LB_2)> ::=\n",
      "|    <term +FC>\n",
      "<term +FB> ::=\n",
      "|    <factor +FB>\n",
      "|    <factor +FB> ' * ' <term>\n",
      "|    <factor +FB> ' / ' <term>\n",
      "|    <factor> ' * ' <term +FB>\n",
      "|    <factor> ' / ' <term +FB>\n",
      "<expr and(+FA,+FC)> ::=\n",
      "|    <term +FA> ' + ' <expr +FC>\n",
      "|    <term +FA> ' - ' <expr +FC>\n",
      "|    <term +FC> ' + ' <expr +FA>\n",
      "|    <term +FC> ' - ' <expr +FA>\n",
      "|    <term and(+FA,+FC)>\n",
      "|    <term and(+FA,+FC)> ' + ' <expr>\n",
      "|    <term and(+FA,+FC)> ' - ' <expr>\n",
      "|    <term> ' + ' <expr and(+FA,+FC)>\n",
      "|    <term> ' - ' <expr and(+FA,+FC)>\n",
      "<term +FC> ::=\n",
      "|    <factor +FC>\n",
      "|    <factor +FC> ' * ' <term>\n",
      "|    <factor +FC> ' / ' <term>\n",
      "|    <factor> ' * ' <term +FC>\n",
      "|    <factor> ' / ' <term +FC>\n",
      "|    <factor> ' / ' <term LC_2>\n",
      "<expr and(+FA,+FB)> ::=\n",
      "|    <term +FA> ' + ' <expr +FB>\n",
      "|    <term +FA> ' + ' <expr LB_2>\n",
      "|    <term +FA> ' - ' <expr +FB>\n",
      "|    <term +FB> ' + ' <expr +FA>\n",
      "|    <term +FB> ' - ' <expr +FA>\n",
      "|    <term and(+FA,+FB)>\n",
      "|    <term and(+FA,+FB)> ' + ' <expr>\n",
      "|    <term and(+FA,+FB)> ' - ' <expr>\n",
      "|    <term> ' + ' <expr and(+FA,+FB)>\n",
      "|    <term> ' + ' <expr and(+FA,LB_2)>\n",
      "|    <term> ' - ' <expr and(+FA,+FB)>\n",
      "<expr and(+FA,LB_2)> ::=\n",
      "|    <term +FA>\n",
      "<term and(+FA,+FB)> ::=\n",
      "|    <factor +FA> ' * ' <term +FB>\n",
      "|    <factor +FA> ' / ' <term +FB>\n",
      "|    <factor +FB> ' * ' <term +FA>\n",
      "|    <factor +FB> ' / ' <term +FA>\n",
      "|    <factor and(+FA,+FB)>\n",
      "|    <factor and(+FA,+FB)> ' * ' <term>\n",
      "|    <factor and(+FA,+FB)> ' / ' <term>\n",
      "|    <factor> ' * ' <term and(+FA,+FB)>\n",
      "|    <factor> ' / ' <term and(+FA,+FB)>\n",
      "<expr +FC> ::=\n",
      "|    <term +FC>\n",
      "|    <term +FC> ' + ' <expr>\n",
      "|    <term +FC> ' - ' <expr>\n",
      "|    <term> ' + ' <expr +FC>\n",
      "|    <term> ' - ' <expr +FC>\n",
      "<term and(+FA,+FB,+FC)> ::=\n",
      "|    <factor +FA> ' * ' <term and(+FB,+FC)>\n",
      "|    <factor +FA> ' / ' <term and(+FB,+FC)>\n",
      "|    <factor +FB> ' * ' <term and(+FA,+FC)>\n",
      "|    <factor +FB> ' / ' <term and(+FA,+FC)>\n",
      "|    <factor +FC> ' * ' <term and(+FA,+FB)>\n",
      "|    <factor +FC> ' / ' <term and(+FA,+FB)>\n",
      "|    <factor and(+FA,+FB)> ' * ' <term +FC>\n",
      "|    <factor and(+FA,+FB)> ' / ' <term +FC>\n",
      "|    <factor and(+FA,+FB)> ' / ' <term LC_2>\n",
      "|    <factor and(+FA,+FB,+FC)>\n",
      "|    <factor and(+FA,+FB,+FC)> ' * ' <term>\n",
      "|    <factor and(+FA,+FB,+FC)> ' / ' <term>\n",
      "|    <factor and(+FA,+FC)> ' * ' <term +FB>\n",
      "|    <factor and(+FA,+FC)> ' / ' <term +FB>\n",
      "|    <factor and(+FB,+FC)> ' * ' <term +FA>\n",
      "|    <factor and(+FB,+FC)> ' / ' <term +FA>\n",
      "|    <factor> ' * ' <term and(+FA,+FB,+FC)>\n",
      "|    <factor> ' / ' <term and(+FA,+FB,+FC)>\n",
      "<expr> ::=\n",
      "|    <term>\n",
      "|    <term> ' + ' <expr>\n",
      "|    <term> ' - ' <expr>\n",
      "<term and(+FA,+FC)> ::=\n",
      "|    <factor +FA> ' * ' <term +FC>\n",
      "|    <factor +FA> ' / ' <term +FC>\n",
      "|    <factor +FA> ' / ' <term LC_2>\n",
      "|    <factor +FC> ' * ' <term +FA>\n",
      "|    <factor +FC> ' / ' <term +FA>\n",
      "|    <factor and(+FA,+FC)>\n",
      "|    <factor and(+FA,+FC)> ' * ' <term>\n",
      "|    <factor and(+FA,+FC)> ' / ' <term>\n",
      "|    <factor> ' * ' <term and(+FA,+FC)>\n",
      "|    <factor> ' / ' <term and(+FA,+FC)>\n",
      "<expr +FB> ::=\n",
      "|    <term +FB>\n",
      "|    <term +FB> ' + ' <expr>\n",
      "|    <term +FB> ' - ' <expr>\n",
      "|    <term> ' + ' <expr +FB>\n",
      "|    <term> ' + ' <expr LB_2>\n",
      "|    <term> ' - ' <expr +FB>\n",
      "<expr LB_2> ::=\n",
      "|    <term>\n",
      "<term and(+FB,+FC)> ::=\n",
      "|    <factor +FB> ' * ' <term +FC>\n",
      "|    <factor +FB> ' / ' <term +FC>\n",
      "|    <factor +FB> ' / ' <term LC_2>\n",
      "|    <factor +FC> ' * ' <term +FB>\n",
      "|    <factor +FC> ' / ' <term +FB>\n",
      "|    <factor and(+FB,+FC)>\n",
      "|    <factor and(+FB,+FC)> ' * ' <term>\n",
      "|    <factor and(+FB,+FC)> ' / ' <term>\n",
      "|    <factor> ' * ' <term and(+FB,+FC)>\n",
      "|    <factor> ' / ' <term and(+FB,+FC)>\n",
      "<expr +FA> ::=\n",
      "|    <term +FA>\n",
      "|    <term +FA> ' + ' <expr>\n",
      "|    <term +FA> ' - ' <expr>\n",
      "|    <term> ' + ' <expr +FA>\n",
      "|    <term> ' - ' <expr +FA>\n",
      "<term> ::=\n",
      "|    <factor>\n",
      "|    <factor> ' * ' <term>\n",
      "|    <factor> ' / ' <term>\n",
      "<expr and(+FA,+FC,LB_2)> ::=\n",
      "|    <term and(+FA,+FC)>\n",
      "<factor +FA> ::=\n",
      "|    '(' <expr +FA> ')'\n",
      "|    '(' <expr LA_1> ')'\n",
      "|    '+' <factor +FA>\n",
      "|    '-' <factor +FA>\n",
      "<factor> ::=\n",
      "|    '(' <expr> ')'\n",
      "|    '+' <factor>\n",
      "|    '-' <factor>\n",
      "|    <integer>\n",
      "|    <integer> '.' <integer>\n",
      "<expr LA_1> ::=\n",
      "|    <term LA_1>\n",
      "<term LA_1> ::=\n",
      "|    <factor LA_2>\n",
      "<factor LA_2> ::=\n",
      "|    '(' <expr> ')'\n",
      "<integer> ::=\n",
      "|    <digit>\n",
      "|    <digit> <integer>\n",
      "<digit> ::=\n",
      "|    '0'\n",
      "|    '1'\n",
      "|    '2'\n",
      "|    '3'\n",
      "|    '4'\n",
      "|    '5'\n",
      "|    '6'\n",
      "|    '7'\n",
      "|    '8'\n",
      "|    '9'\n",
      "<factor +FB> ::=\n",
      "|    '(' <expr +FB> ')'\n",
      "|    '+' <factor +FB>\n",
      "|    '-' <factor +FB>\n",
      "<factor +FC> ::=\n",
      "|    '(' <expr +FC> ')'\n",
      "|    '+' <factor +FC>\n",
      "|    '-' <factor +FC>\n",
      "<term LC_2> ::=\n",
      "|    <factor LC_1>\n",
      "<factor LC_1> ::=\n",
      "|    <integer LC_1>\n",
      "<integer LC_1> ::=\n",
      "|    <digit LC_1>\n",
      "<digit LC_1> ::=\n",
      "|    '0'\n",
      "<factor and(+FA,+FB)> ::=\n",
      "|    '(' <expr and(+FA,+FB)> ')'\n",
      "|    '(' <expr and(+FB,LA_1)> ')'\n",
      "|    '+' <factor and(+FA,+FB)>\n",
      "|    '-' <factor and(+FA,+FB)>\n",
      "<expr and(+FB,LA_1)> ::=\n",
      "|    <term and(+FB,LA_1)>\n",
      "<term and(+FB,LA_1)> ::=\n",
      "|    <factor and(+FB,LA_2)>\n",
      "<factor and(+FB,LA_2)> ::=\n",
      "|    '(' <expr +FB> ')'\n",
      "<factor and(+FA,+FB,+FC)> ::=\n",
      "|    '(' <expr and(+FA,+FB,+FC)> ')'\n",
      "|    '(' <expr and(+FB,+FC,LA_1)> ')'\n",
      "|    '+' <factor and(+FA,+FB,+FC)>\n",
      "|    '-' <factor and(+FA,+FB,+FC)>\n",
      "<factor and(+FA,+FC)> ::=\n",
      "|    '(' <expr and(+FA,+FC)> ')'\n",
      "|    '(' <expr and(+FC,LA_1)> ')'\n",
      "|    '+' <factor and(+FA,+FC)>\n",
      "|    '-' <factor and(+FA,+FC)>\n",
      "<factor and(+FB,+FC)> ::=\n",
      "|    '(' <expr and(+FB,+FC)> ')'\n",
      "|    '+' <factor and(+FB,+FC)>\n",
      "|    '-' <factor and(+FB,+FC)>\n",
      "<expr and(+FB,+FC,LA_1)> ::=\n",
      "|    <term and(+FB,+FC,LA_1)>\n",
      "<term and(+FB,+FC,LA_1)> ::=\n",
      "|    <factor and(+FB,+FC,LA_2)>\n",
      "<factor and(+FB,+FC,LA_2)> ::=\n",
      "|    '(' <expr and(+FB,+FC)> ')'\n",
      "<expr and(+FC,LA_1)> ::=\n",
      "|    <term and(+FC,LA_1)>\n",
      "<term and(+FC,LA_1)> ::=\n",
      "|    <factor and(+FC,LA_2)>\n",
      "<factor and(+FC,LA_2)> ::=\n",
      "|    '(' <expr +FC> ')'\n",
      "47 200\n"
     ]
    },
    {
     "data": {
      "text/plain": [
       "'<start and(+FA,+FB,+FC)>'"
      ]
     },
     "execution_count": 499,
     "metadata": {},
     "output_type": "execute_result"
    }
   ],
   "source": [
    "%%top\n",
    "Gs(AandBandC_grammar)\n",
    "AandBandC_start"
   ]
  },
  {
   "cell_type": "code",
   "execution_count": 500,
   "metadata": {},
   "outputs": [],
   "source": [
    "AandBandC_fuzzer = LimitFuzzer(AandBandC_grammar)\n",
    "AandBandC_parser = Parser(AandBandC_grammar, canonical=True, start_symbol=AandBandC_start)"
   ]
  },
  {
   "cell_type": "code",
   "execution_count": 501,
   "metadata": {},
   "outputs": [
    {
     "name": "stdout",
     "output_type": "stream",
     "text": [
      "76.75 * 06.317 + ((5 / 2) + 4.8 * 4.1 * 2.1 + (3.4) / 7.8 - 2.7 / 0 - 4) / +(((1.0)) * 0.4 * 4) / +50\n",
      "A&B&C\n",
      "A&B\n",
      "A&C\n",
      "B&C\n",
      "A\n",
      "B\n",
      "C\n",
      "(++80.93 * -+(9) / (9 - 6)) + (((3.5)) - (6) + 1.3 / 1.8 / 9.8) * 16 / 0\n",
      "A&B&C\n",
      "A&B\n",
      "A&C\n",
      "B&C\n",
      "A\n",
      "B\n",
      "C\n",
      "07025 * (642.87 * +2.2 / -(3 / 0) * 8) - 0 / 1.555 * 738.80 * ((2.9)) + 7 / +6.339 / (0.9 * 1 - 1 + 0) * 7 - +-+(9.7 + 3) / +1.52 / 00.8\n",
      "A&B&C\n",
      "A&B\n",
      "A&C\n",
      "B&C\n",
      "A\n",
      "B\n",
      "C\n",
      "((5.3)) * --+-++(9.1 / 0 - 2) - +-(4.7 - (9.5 + 2.5) / 8 + 2.2) + +-+8 / 0.8 / +++2 / 6 / 0.6\n",
      "A&B&C\n",
      "A&B\n",
      "A&C\n",
      "B&C\n",
      "A\n",
      "B\n",
      "C\n",
      "92 * -(3 / 0 + -2.1) * (+(3 + 6.9) * -5 / 7.9 / 1) * 1636 + 8 - ((3 + 2)) / +3.4 * -((7.1)) * --0 * -7.6 * 1.4 - 0.2 + ++(4.1)\n",
      "A&B&C\n",
      "A&B\n",
      "A&C\n",
      "B&C\n",
      "A\n",
      "B\n",
      "C\n",
      "((-6 - 1.7 * 2.7 - 2.6 - 6)) / 31.22 * -+192 / +(4.3 * 3 + 2.5) / +86 / +0 / 9 + 86.6 * +(9 * (4 / 0) * 7)\n",
      "A&B&C\n",
      "A&B\n",
      "A&C\n",
      "B&C\n",
      "A\n",
      "B\n",
      "C\n",
      "(2.2 * 21.0 - -(6.6 - 1.9) - (1.0 + 9) * 5 * 6 * 9 + +(3 / 0) * 5 / 7 - 4.8 - 5 - 1.5) / +((((2)) + 6.4) * 4 * 4 / 4 + 0.7 * 1 + 7.9 / 0 - 4) / (-2 * (2) + -5.8) + ((0.0 - 5.3)) / (+7 * -8.1 + 0.1 * 0 * 9.5 + 8 - 6.1 - 5) * +8.8 + (+(3.4 + 8.0)) / ((7.3) * 2 * 8.1) + ((2.3) / 7 * 8 + 1) * 4 * +8 * 0 / 0 / 0 + (4.0 / 9) / --8.8 * (0) * 9 * 9 + 75 / (8) * 7.8\n",
      "A&B&C\n",
      "A&B\n",
      "A&C\n",
      "B&C\n",
      "A\n",
      "B\n",
      "C\n",
      "+(4.81 * ++5.1 / +2 / 7.1 / 8) / 2 / +(8.9 / 1.8 / 6 + 3.7 * 9.6 - 3.3 + 7) - (((2.5)) + 1.4 / (3) / 6 * 2.6 + 8 / 1) * -(+(1 / 0 - 5.5) * 1.1 / (9 + 4) / 0.3 - 8 + 9 + 7.2) * (4.8 * 0 * 6.2 - 3.7 + 6.1 - 8) * (1) / +(8.5) * -3.6 - 30 * +09.040 * ---2 / +5 + ((7) / 6) * +-3 - +9\n",
      "A&B&C\n",
      "A&B\n",
      "A&C\n",
      "B&C\n",
      "A\n",
      "B\n",
      "C\n",
      "+0.5185 * 753003.1 * 796 * ---(1) - (-(1.8) + +-1 * (3.5) / 4 * 0.3) / 6.36 * (-6.3 * 6.2 + 5.5 * 9) - (+-2.6 + 3 / 4 / 9 / 0) * -((0)) / 3.751\n",
      "A&B&C\n",
      "A&B\n",
      "A&C\n",
      "B&C\n",
      "A\n",
      "B\n",
      "C\n",
      "---(-6 / ((8.3)) * 6 + 0 + 4) * -+925 * 1 * 0509 - +(57 * (9 + 5) * 9.4 + 0 * 1 * 5.7) - 1 - (6 - 7 / 0 - 0.7 + 1)\n",
      "A&B&C\n",
      "A&B\n",
      "A&C\n",
      "B&C\n",
      "A\n",
      "B\n",
      "C\n"
     ]
    }
   ],
   "source": [
    "%%top\n",
    "for i in range(10):\n",
    "    s = AandBandC_fuzzer.fuzz(key=AandBandC_start)\n",
    "    print(s)\n",
    "    print('A&B&C')\n",
    "    assert AandBandC_parser.can_parse(s)\n",
    "    print('A&B')\n",
    "    assert AandB_parser.can_parse(s)\n",
    "    print('A&C')\n",
    "    assert AandC_parser.can_parse(s)\n",
    "    print('B&C')\n",
    "    assert BandC_parser.can_parse(s)\n",
    "    print('A')\n",
    "    assert faultA_parser.can_parse(s)\n",
    "    print('B')\n",
    "    assert faultB_parser.can_parse(s)\n",
    "    print('C')\n",
    "    assert faultC_parser.can_parse(s)"
   ]
  },
  {
   "cell_type": "markdown",
   "metadata": {},
   "source": [
    "### A | B | C"
   ]
  },
  {
   "cell_type": "code",
   "execution_count": 502,
   "metadata": {},
   "outputs": [
    {
     "name": "stdout",
     "output_type": "stream",
     "text": [
      "<start +FA>\n",
      "    ['<expr +FA>']\n",
      "<expr +FA>\n",
      "    ['<term +FA>']\n",
      "    ['<term +FA>', ' + ', '<expr>']\n",
      "    ['<term +FA>', ' - ', '<expr>']\n",
      "    ['<term>', ' + ', '<expr +FA>']\n",
      "    ['<term>', ' - ', '<expr +FA>']\n",
      "<term +FA>\n",
      "    ['<factor +FA>']\n",
      "    ['<factor +FA>', ' * ', '<term>']\n",
      "    ['<factor +FA>', ' / ', '<term>']\n",
      "    ['<factor>', ' * ', '<term +FA>']\n",
      "    ['<factor>', ' / ', '<term +FA>']\n",
      "<expr>\n",
      "    ['<term>']\n",
      "    ['<term>', ' + ', '<expr>']\n",
      "    ['<term>', ' - ', '<expr>']\n",
      "<term>\n",
      "    ['<factor>']\n",
      "    ['<factor>', ' * ', '<term>']\n",
      "    ['<factor>', ' / ', '<term>']\n",
      "<factor +FA>\n",
      "    ['(', '<expr +FA>', ')']\n",
      "    ['(', '<expr LA_1>', ')']\n",
      "    ['+', '<factor +FA>']\n",
      "    ['-', '<factor +FA>']\n",
      "<factor>\n",
      "    ['(', '<expr>', ')']\n",
      "    ['+', '<factor>']\n",
      "    ['-', '<factor>']\n",
      "    ['<integer>']\n",
      "    ['<integer>', '.', '<integer>']\n",
      "<expr LA_1>\n",
      "    ['<term LA_1>']\n",
      "<term LA_1>\n",
      "    ['<factor LA_2>']\n",
      "<factor LA_2>\n",
      "    ['(', '<expr>', ')']\n",
      "<integer>\n",
      "    ['<digit>']\n",
      "    ['<digit>', '<integer>']\n",
      "<digit>\n",
      "    ['0']\n",
      "    ['1']\n",
      "    ['2']\n",
      "    ['3']\n",
      "    ['4']\n",
      "    ['5']\n",
      "    ['6']\n",
      "    ['7']\n",
      "    ['8']\n",
      "    ['9']\n"
     ]
    }
   ],
   "source": [
    "for k in faultA_grammar.keys():\n",
    "    print(k)\n",
    "    for r in faultA_grammar[k]:\n",
    "        print('   ',r)"
   ]
  },
  {
   "cell_type": "code",
   "execution_count": 503,
   "metadata": {},
   "outputs": [
    {
     "name": "stdout",
     "output_type": "stream",
     "text": [
      "<start +FB>\n",
      "    ['<expr +FB>']\n",
      "<expr +FB>\n",
      "    ['<term +FB>']\n",
      "    ['<term +FB>', ' + ', '<expr>']\n",
      "    ['<term +FB>', ' - ', '<expr>']\n",
      "    ['<term>', ' + ', '<expr +FB>']\n",
      "    ['<term>', ' + ', '<expr LB_2>']\n",
      "    ['<term>', ' - ', '<expr +FB>']\n",
      "<term +FB>\n",
      "    ['<factor +FB>']\n",
      "    ['<factor +FB>', ' * ', '<term>']\n",
      "    ['<factor +FB>', ' / ', '<term>']\n",
      "    ['<factor>', ' * ', '<term +FB>']\n",
      "    ['<factor>', ' / ', '<term +FB>']\n",
      "<expr>\n",
      "    ['<term>']\n",
      "    ['<term>', ' + ', '<expr>']\n",
      "    ['<term>', ' - ', '<expr>']\n",
      "<term>\n",
      "    ['<factor>']\n",
      "    ['<factor>', ' * ', '<term>']\n",
      "    ['<factor>', ' / ', '<term>']\n",
      "<expr LB_2>\n",
      "    ['<term>']\n",
      "<factor +FB>\n",
      "    ['(', '<expr +FB>', ')']\n",
      "    ['+', '<factor +FB>']\n",
      "    ['-', '<factor +FB>']\n",
      "<factor>\n",
      "    ['(', '<expr>', ')']\n",
      "    ['+', '<factor>']\n",
      "    ['-', '<factor>']\n",
      "    ['<integer>']\n",
      "    ['<integer>', '.', '<integer>']\n",
      "<integer>\n",
      "    ['<digit>']\n",
      "    ['<digit>', '<integer>']\n",
      "<digit>\n",
      "    ['0']\n",
      "    ['1']\n",
      "    ['2']\n",
      "    ['3']\n",
      "    ['4']\n",
      "    ['5']\n",
      "    ['6']\n",
      "    ['7']\n",
      "    ['8']\n",
      "    ['9']\n"
     ]
    }
   ],
   "source": [
    "for k in faultB_grammar.keys():\n",
    "    print(k)\n",
    "    for r in faultB_grammar[k]:\n",
    "        print('   ',r)"
   ]
  },
  {
   "cell_type": "code",
   "execution_count": 504,
   "metadata": {},
   "outputs": [
    {
     "name": "stdout",
     "output_type": "stream",
     "text": [
      "<start or(+FA,+FB)>\n",
      "    ['<expr or(+FA,+FB)>']\n",
      "<expr or(+FA,+FB)>\n",
      "    ['<term or(+FA,+FB)>']\n",
      "    ['<term or(+FA,+FB)>', ' + ', '<expr>']\n",
      "    ['<term or(+FA,+FB)>', ' - ', '<expr>']\n",
      "    ['<term>', ' + ', '<expr or(+FA,+FB,LB_2)>']\n",
      "    ['<term>', ' - ', '<expr or(+FA,+FB)>']\n",
      "<term or(+FA,+FB)>\n",
      "    ['<factor or(+FA,+FB)>']\n",
      "    ['<factor or(+FA,+FB)>', ' * ', '<term>']\n",
      "    ['<factor or(+FA,+FB)>', ' / ', '<term>']\n",
      "    ['<factor>', ' * ', '<term or(+FA,+FB)>']\n",
      "    ['<factor>', ' / ', '<term or(+FA,+FB)>']\n",
      "<expr>\n",
      "    ['<term>']\n",
      "    ['<term>', ' + ', '<expr>']\n",
      "    ['<term>', ' - ', '<expr>']\n",
      "<term>\n",
      "    ['<factor>']\n",
      "    ['<factor>', ' * ', '<term>']\n",
      "    ['<factor>', ' / ', '<term>']\n",
      "<expr or(+FA,+FB,LB_2)>\n",
      "    ['<term or(+FA,+FB)>']\n",
      "    ['<term or(+FA,+FB)>', ' + ', '<expr>']\n",
      "    ['<term or(+FA,+FB)>', ' - ', '<expr>']\n",
      "    ['<term>']\n",
      "    ['<term>', ' + ', '<expr or(+FA,+FB,LB_2)>']\n",
      "    ['<term>', ' - ', '<expr or(+FA,+FB)>']\n",
      "<factor or(+FA,+FB)>\n",
      "    ['(', '<expr or(+FA,+FB,LA_1)>', ')']\n",
      "    ['+', '<factor or(+FA,+FB)>']\n",
      "    ['-', '<factor or(+FA,+FB)>']\n",
      "<factor>\n",
      "    ['(', '<expr>', ')']\n",
      "    ['+', '<factor>']\n",
      "    ['-', '<factor>']\n",
      "    ['<integer>']\n",
      "    ['<integer>', '.', '<integer>']\n",
      "<expr or(+FA,+FB,LA_1)>\n",
      "    ['<term or(+FA,+FB)>', ' + ', '<expr>']\n",
      "    ['<term or(+FA,+FB)>', ' - ', '<expr>']\n",
      "    ['<term or(+FA,+FB,LA_1)>']\n",
      "    ['<term>', ' + ', '<expr or(+FA,+FB,LB_2)>']\n",
      "    ['<term>', ' - ', '<expr or(+FA,+FB)>']\n",
      "<term or(+FA,+FB,LA_1)>\n",
      "    ['<factor or(+FA,+FB)>', ' * ', '<term>']\n",
      "    ['<factor or(+FA,+FB)>', ' / ', '<term>']\n",
      "    ['<factor or(+FA,+FB,LA_2)>']\n",
      "    ['<factor>', ' * ', '<term or(+FA,+FB)>']\n",
      "    ['<factor>', ' / ', '<term or(+FA,+FB)>']\n",
      "<factor or(+FA,+FB,LA_2)>\n",
      "    ['(', '<expr or(+FA,+FB,LA_1)>', ')']\n",
      "    ['(', '<expr>', ')']\n",
      "    ['+', '<factor or(+FA,+FB)>']\n",
      "    ['-', '<factor or(+FA,+FB)>']\n",
      "<integer>\n",
      "    ['<digit>']\n",
      "    ['<digit>', '<integer>']\n",
      "<digit>\n",
      "    ['0']\n",
      "    ['1']\n",
      "    ['2']\n",
      "    ['3']\n",
      "    ['4']\n",
      "    ['5']\n",
      "    ['6']\n",
      "    ['7']\n",
      "    ['8']\n",
      "    ['9']\n"
     ]
    }
   ],
   "source": [
    "for k in AorB_grammar.keys():\n",
    "    print(k)\n",
    "    for r in AorB_grammar[k]:\n",
    "        print('   ',r)"
   ]
  },
  {
   "cell_type": "code",
   "execution_count": 505,
   "metadata": {},
   "outputs": [
    {
     "data": {
      "text/plain": [
       "(False, False, False, False)"
      ]
     },
     "execution_count": 505,
     "metadata": {},
     "output_type": "execute_result"
    }
   ],
   "source": [
    "'<expr .FB>' in AorB_grammar, '<expr neg(.FB)>' in AorB_grammar, '<expr .FA>' in AorB_grammar,'<expr or(.FA,.FB)>' in AorB_grammar,"
   ]
  },
  {
   "cell_type": "markdown",
   "metadata": {},
   "source": [
    "Why do we require adding the faultB_grammar? the problem is that `AorB_grammar` no longer includes `<expr .FB>` because we folded it into `<expr or(.FA,.FB)>`. So, one would need to retrieve it from the same key be anding it with `<expr neg(.FB)>`. That is, one might actually have to solve the given boolean equation (1) to find how to retrieve the original value (and one may need to do it at a highr equation levels). As of now, we do not do deconstruction of larger keys. For now, we assume that we have access to original faults, as we always start with the original parse trees.\n",
    "\n",
    "_(1)_\n",
    "Abdl Gawad et al. 2010 _Solution of systems of Boolean equations via the integer domain_ shows how to solve a boolean equation system by transforming it into integer domain. Their translation is as follows:\n",
    "* `B1 | B2 == I1 * I2`\n",
    "* `B1 + B2 == I1 + I2 - I1 * I2`\n",
    "* `neg(B1) == 1 - I1`\n",
    "\n",
    "Once we have the conversion to the integer domain, we can use the `sympy` to solve for individual fault equivalents, and transform the result back."
   ]
  },
  {
   "cell_type": "code",
   "execution_count": 506,
   "metadata": {},
   "outputs": [],
   "source": [
    "AorBorC_grammar, AorBorC_start = or_grammars({**faultA_grammar, **faultB_grammar, **AorB_grammar}, AorB_start, faultC_grammar, faultC_start)"
   ]
  },
  {
   "cell_type": "code",
   "execution_count": 507,
   "metadata": {},
   "outputs": [
    {
     "name": "stdout",
     "output_type": "stream",
     "text": [
      "<start or(+FA,+FB,+FC)> ::=\n",
      "|    <expr or(+FA,+FB,+FC)>\n",
      "<expr or(+FA,+FB,+FC)> ::=\n",
      "|    <term or(+FA,+FB,+FC)>\n",
      "|    <term or(+FA,+FB,+FC)> ' + ' <expr>\n",
      "|    <term or(+FA,+FB,+FC)> ' - ' <expr>\n",
      "|    <term> ' + ' <expr or(+FA,+FB,+FC,LB_2)>\n",
      "|    <term> ' - ' <expr or(+FA,+FB,+FC)>\n",
      "<term or(+FA,+FB,+FC)> ::=\n",
      "|    <factor or(+FA,+FB,+FC)>\n",
      "|    <factor or(+FA,+FB,+FC)> ' * ' <term>\n",
      "|    <factor or(+FA,+FB,+FC)> ' / ' <term>\n",
      "|    <factor> ' * ' <term or(+FA,+FB,+FC)>\n",
      "|    <factor> ' / ' <term or(+FA,+FB,+FC,LC_2)>\n",
      "<expr> ::=\n",
      "|    <term>\n",
      "|    <term> ' + ' <expr>\n",
      "|    <term> ' - ' <expr>\n",
      "<term> ::=\n",
      "|    <factor>\n",
      "|    <factor> ' * ' <term>\n",
      "|    <factor> ' / ' <term>\n",
      "<expr or(+FA,+FB,+FC,LB_2)> ::=\n",
      "|    <term or(+FA,+FB,+FC)>\n",
      "|    <term or(+FA,+FB,+FC)> ' + ' <expr>\n",
      "|    <term or(+FA,+FB,+FC)> ' - ' <expr>\n",
      "|    <term>\n",
      "|    <term> ' + ' <expr or(+FA,+FB,+FC,LB_2)>\n",
      "|    <term> ' - ' <expr or(+FA,+FB,+FC)>\n",
      "<factor or(+FA,+FB,+FC)> ::=\n",
      "|    '(' <expr or(+FA,+FB,+FC,LA_1)> ')'\n",
      "|    '+' <factor or(+FA,+FB,+FC)>\n",
      "|    '-' <factor or(+FA,+FB,+FC)>\n",
      "<factor> ::=\n",
      "|    '(' <expr> ')'\n",
      "|    '+' <factor>\n",
      "|    '-' <factor>\n",
      "|    <integer>\n",
      "|    <integer> '.' <integer>\n",
      "<term or(+FA,+FB,+FC,LC_2)> ::=\n",
      "|    <factor or(+FA,+FB,+FC)> ' * ' <term>\n",
      "|    <factor or(+FA,+FB,+FC)> ' / ' <term>\n",
      "|    <factor or(+FA,+FB,+FC,LC_1)>\n",
      "|    <factor> ' * ' <term or(+FA,+FB,+FC)>\n",
      "|    <factor> ' / ' <term or(+FA,+FB,+FC,LC_2)>\n",
      "<expr or(+FA,+FB,+FC,LA_1)> ::=\n",
      "|    <term or(+FA,+FB,+FC)> ' + ' <expr>\n",
      "|    <term or(+FA,+FB,+FC)> ' - ' <expr>\n",
      "|    <term or(+FA,+FB,+FC,LA_1)>\n",
      "|    <term> ' + ' <expr or(+FA,+FB,+FC,LB_2)>\n",
      "|    <term> ' - ' <expr or(+FA,+FB,+FC)>\n",
      "<term or(+FA,+FB,+FC,LA_1)> ::=\n",
      "|    <factor or(+FA,+FB,+FC)> ' * ' <term>\n",
      "|    <factor or(+FA,+FB,+FC)> ' / ' <term>\n",
      "|    <factor or(+FA,+FB,+FC,LA_2)>\n",
      "|    <factor> ' * ' <term or(+FA,+FB,+FC)>\n",
      "|    <factor> ' / ' <term or(+FA,+FB,+FC,LC_2)>\n",
      "<factor or(+FA,+FB,+FC,LA_2)> ::=\n",
      "|    '(' <expr or(+FA,+FB,+FC,LA_1)> ')'\n",
      "|    '(' <expr> ')'\n",
      "|    '+' <factor or(+FA,+FB,+FC)>\n",
      "|    '-' <factor or(+FA,+FB,+FC)>\n",
      "<integer> ::=\n",
      "|    <digit>\n",
      "|    <digit> <integer>\n",
      "<digit> ::=\n",
      "|    '0'\n",
      "|    '1'\n",
      "|    '2'\n",
      "|    '3'\n",
      "|    '4'\n",
      "|    '5'\n",
      "|    '6'\n",
      "|    '7'\n",
      "|    '8'\n",
      "|    '9'\n",
      "<factor or(+FA,+FB,+FC,LC_1)> ::=\n",
      "|    '(' <expr or(+FA,+FB,+FC,LA_1)> ')'\n",
      "|    '+' <factor or(+FA,+FB,+FC)>\n",
      "|    '-' <factor or(+FA,+FB,+FC)>\n",
      "|    <integer LC_1>\n",
      "<integer LC_1> ::=\n",
      "|    <digit LC_1>\n",
      "<digit LC_1> ::=\n",
      "|    '0'\n",
      "17 68\n"
     ]
    },
    {
     "data": {
      "text/plain": [
       "'<start or(+FA,+FB,+FC)>'"
      ]
     },
     "execution_count": 507,
     "metadata": {},
     "output_type": "execute_result"
    }
   ],
   "source": [
    "%%top\n",
    "Gs(AorBorC_grammar)\n",
    "AorBorC_start"
   ]
  },
  {
   "cell_type": "code",
   "execution_count": 508,
   "metadata": {},
   "outputs": [],
   "source": [
    "AorBorC_fuzzer = LimitFuzzer(AorBorC_grammar)\n",
    "AorBorC_parser = Parser(AorBorC_grammar, canonical=True, start_symbol=AorBorC_start)"
   ]
  },
  {
   "cell_type": "code",
   "execution_count": 509,
   "metadata": {},
   "outputs": [
    {
     "name": "stdout",
     "output_type": "stream",
     "text": [
      "+((8.4 * 4.7 - 8.5 - 1) / 85.6 / +(6.5 / 0 + 2.2) / 1.5 - ++0.4) - +2.30871 - 9 + 3654.5 - --9.9 - (0 + 7.1) / 9.4 - +8.6 * 9 * 5 + 0 * 4\n",
      "A|B|C\n",
      "A|B\n",
      "A|C\n",
      "B|C\n",
      "*\n",
      "-5 * (-44.25 * +2.5 / -6 / 8.7 * 0) * (72.36 * (1.2) - +8.5 * 6.5 * 3) * -(5) * (4 * 6.8 + 1 - 9) / +(0 / 0) / -6.8 * 5.9 / 5 - -305 * (+-5 * +9 - +2 * 9.8) / 1325 / 31 / 24.1\n",
      "A|B|C\n",
      "A|B\n",
      "A|C\n",
      "B|C\n",
      "*\n",
      "+(92 * ++(7.9 / 0)) * 48.8 * 2.978\n",
      "A|B|C\n",
      "A|B\n",
      "A|C\n",
      "B|C\n",
      "*\n",
      "3.6885555 / 85.0 * 05.08 / (4 * 1 * 3 - 9 * 7.0) / -4 * 44.9 * 5.5 / 7 - 6 * +5039.35 / -(0 - 5.7 + 6.7) + 9 / 6055 / 2.4 / 34 / -2.7\n",
      "A|B|C\n",
      "A|B\n",
      "A|C\n",
      "B|C\n",
      "*\n",
      "(0680.736 - 0 / (7) + ++0 * 1.0) - 6.1 / -((4 / 0 + 5) * 0 / 9 + 3.1 / 9.3 - 9.5) / 686.81 - 2 / 6 / (5 / 3) * 4.9 - --32 - (3.0 / 2) + -3 / +1.7 / 9 * 0\n",
      "A|B|C\n",
      "A|B\n",
      "A|C\n",
      "B|C\n",
      "*\n",
      "+(-78.0 / --3.2 / +4) * 8.4 + 5451.6 * ++-(8.6 - 1.1 / 0 - 8) * (7 * 1.9 / 0 + 0 * 6) / -81.8 * (1) / (4) * 3.2 * 4 + +8.6 / 6 - -0.0 * (6 * 6.3) / (2.3) * 2 / 1.1 / 5.8 + 4.6 + 7.1 - +6.6 + 0 * 4 - 7.6\n",
      "A|B|C\n",
      "A|B\n",
      "A|C\n",
      "B|C\n",
      "*\n",
      "-(+-+3.6 * (4) / (4) * 3 / 6.1 - (5.4 / 0 + 7.7) / -8.8 + +7.6 * 6.2 / 3.8) * +-2.0 / -4.9 / ++1 - 5.9 * 3.3 / 40 * +0.07 * -0.7 / 0.5 * 8\n",
      "A|B|C\n",
      "A|B\n",
      "A|C\n",
      "B|C\n",
      "*\n",
      "+(+(6) - 38.48 / -7.4 * 8.4 * 6 / 0 - 6 / 3 * 4) * +3.878 * ((7.3) * (4.6) / 6.6) / +(7) + 3.30 / 3.018 + --0 + +-20.1 / (8.9 * 1.0) * +8.0 / 9 + +(5 + 0.6) * (3 - 7) / (8.5) - +(0) - (3) / 3 * 9.2 - 5 + 8 + 6.2\n",
      "A|B|C\n",
      "A|B\n",
      "A|C\n",
      "B|C\n",
      "*\n",
      "+-+----(3 / 0 + 4.6) / +2 * -1 * -8.0 * 29\n",
      "A|B|C\n",
      "A|B\n",
      "A|C\n",
      "B|C\n",
      "*\n",
      "(410 / +-+0 / 4.3 - -3.9 / 7.17 * 9.7 + 73.7 / (5.7)) / (-+-5 * 4.2 / 3.2 - 4 / (7) / 1 * 8 - -(7.5 / 0 + 9.9) / 8.6 * 8 - 4.1 * 5.2) / (+6.1 * +9 / 1.7 * 5.5 - -9 + 8.7 / 9.3 - 3.7) - (8 / +0 * +2.0 + (9 + 6)) * -9 + +8.0923 / 344 / (5 + 9.9 + 4)\n",
      "A|B|C\n",
      "A|B\n",
      "A|C\n",
      "B|C\n",
      "*\n"
     ]
    }
   ],
   "source": [
    "%%top\n",
    "for i in range(10):\n",
    "    s = AorBorC_fuzzer.fuzz(key=AorBorC_start)\n",
    "    print(s)\n",
    "    print('A|B|C')\n",
    "    assert AorBorC_parser.can_parse(s)\n",
    "    print('A|B')\n",
    "    assert AorB_parser.can_parse(s) or faultC_parser.can_parse(s)\n",
    "    print('A|C')\n",
    "    assert AorC_parser.can_parse(s) or faultB_parser.can_parse(s)\n",
    "    print('B|C')\n",
    "    assert BorC_parser.can_parse(s) or faultA_parser.can_parse(s)\n",
    "    print('*')\n",
    "    assert faultA_parser.can_parse(s) or  faultB_parser.can_parse(s) or  faultC_parser.can_parse(s)"
   ]
  },
  {
   "cell_type": "markdown",
   "metadata": {},
   "source": [
    "### A & B | C"
   ]
  },
  {
   "cell_type": "code",
   "execution_count": 510,
   "metadata": {},
   "outputs": [],
   "source": [
    "AandBorC_grammar, AandBorC_start = or_grammars(AandB_grammar, AandB_start, faultC_grammar, faultC_start)"
   ]
  },
  {
   "cell_type": "code",
   "execution_count": 511,
   "metadata": {},
   "outputs": [
    {
     "name": "stdout",
     "output_type": "stream",
     "text": [
      "<start or(+FC,and(+FA,+FB))> ::=\n",
      "|    <expr or(+FC,and(+FA,+FB))>\n",
      "<expr or(+FC,and(+FA,+FB))> ::=\n",
      "|    <term +FA> ' + ' <expr or(+FB,LB_2)>\n",
      "|    <term +FA> ' - ' <expr +FB>\n",
      "|    <term +FB> ' + ' <expr +FA>\n",
      "|    <term +FB> ' - ' <expr +FA>\n",
      "|    <term or(+FC,and(+FA,+FB))>\n",
      "|    <term or(+FC,and(+FA,+FB))> ' + ' <expr>\n",
      "|    <term or(+FC,and(+FA,+FB))> ' - ' <expr>\n",
      "|    <term> ' + ' <expr or(+FC,and(+FA,+FB),and(+FA,LB_2))>\n",
      "|    <term> ' - ' <expr or(+FC,and(+FA,+FB))>\n",
      "<term +FA> ::=\n",
      "|    <factor +FA>\n",
      "|    <factor +FA> ' * ' <term>\n",
      "|    <factor +FA> ' / ' <term>\n",
      "|    <factor> ' * ' <term +FA>\n",
      "|    <factor> ' / ' <term +FA>\n",
      "<expr or(+FB,LB_2)> ::=\n",
      "|    <term +FB>\n",
      "|    <term +FB> ' + ' <expr>\n",
      "|    <term +FB> ' - ' <expr>\n",
      "|    <term>\n",
      "|    <term> ' + ' <expr or(+FB,LB_2)>\n",
      "|    <term> ' - ' <expr +FB>\n",
      "<expr +FB> ::=\n",
      "|    <term +FB>\n",
      "|    <term +FB> ' + ' <expr>\n",
      "|    <term +FB> ' - ' <expr>\n",
      "|    <term> ' + ' <expr or(+FB,LB_2)>\n",
      "|    <term> ' - ' <expr +FB>\n",
      "<term +FB> ::=\n",
      "|    <factor +FB>\n",
      "|    <factor +FB> ' * ' <term>\n",
      "|    <factor +FB> ' / ' <term>\n",
      "|    <factor> ' * ' <term +FB>\n",
      "|    <factor> ' / ' <term +FB>\n",
      "<expr +FA> ::=\n",
      "|    <term +FA>\n",
      "|    <term +FA> ' + ' <expr>\n",
      "|    <term +FA> ' - ' <expr>\n",
      "|    <term> ' + ' <expr +FA>\n",
      "|    <term> ' - ' <expr +FA>\n",
      "<term or(+FC,and(+FA,+FB))> ::=\n",
      "|    <factor +FA> ' * ' <term +FB>\n",
      "|    <factor +FA> ' / ' <term +FB>\n",
      "|    <factor +FB> ' * ' <term +FA>\n",
      "|    <factor +FB> ' / ' <term +FA>\n",
      "|    <factor or(+FC,and(+FA,+FB))>\n",
      "|    <factor or(+FC,and(+FA,+FB))> ' * ' <term>\n",
      "|    <factor or(+FC,and(+FA,+FB))> ' / ' <term>\n",
      "|    <factor> ' * ' <term or(+FC,and(+FA,+FB))>\n",
      "|    <factor> ' / ' <term or(+FC,LC_2,and(+FA,+FB))>\n",
      "<expr> ::=\n",
      "|    <term>\n",
      "|    <term> ' + ' <expr>\n",
      "|    <term> ' - ' <expr>\n",
      "<term> ::=\n",
      "|    <factor>\n",
      "|    <factor> ' * ' <term>\n",
      "|    <factor> ' / ' <term>\n",
      "<expr or(+FC,and(+FA,+FB),and(+FA,LB_2))> ::=\n",
      "|    <term +FA> ' + ' <expr or(+FB,LB_2)>\n",
      "|    <term +FA> ' - ' <expr +FB>\n",
      "|    <term +FB> ' + ' <expr +FA>\n",
      "|    <term +FB> ' - ' <expr +FA>\n",
      "|    <term or(+FA,+FC,and(+FA,+FB))>\n",
      "|    <term or(+FC,and(+FA,+FB))> ' + ' <expr>\n",
      "|    <term or(+FC,and(+FA,+FB))> ' - ' <expr>\n",
      "|    <term> ' + ' <expr or(+FC,and(+FA,+FB),and(+FA,LB_2))>\n",
      "|    <term> ' - ' <expr or(+FC,and(+FA,+FB))>\n",
      "<factor +FA> ::=\n",
      "|    '(' <expr or(+FA,LA_1)> ')'\n",
      "|    '+' <factor +FA>\n",
      "|    '-' <factor +FA>\n",
      "<factor> ::=\n",
      "|    '(' <expr> ')'\n",
      "|    '+' <factor>\n",
      "|    '-' <factor>\n",
      "|    <integer>\n",
      "|    <integer> '.' <integer>\n",
      "<expr or(+FA,LA_1)> ::=\n",
      "|    <term +FA> ' + ' <expr>\n",
      "|    <term +FA> ' - ' <expr>\n",
      "|    <term or(+FA,LA_1)>\n",
      "|    <term> ' + ' <expr +FA>\n",
      "|    <term> ' - ' <expr +FA>\n",
      "<term or(+FA,LA_1)> ::=\n",
      "|    <factor +FA> ' * ' <term>\n",
      "|    <factor +FA> ' / ' <term>\n",
      "|    <factor or(+FA,LA_2)>\n",
      "|    <factor> ' * ' <term +FA>\n",
      "|    <factor> ' / ' <term +FA>\n",
      "<factor or(+FA,LA_2)> ::=\n",
      "|    '(' <expr or(+FA,LA_1)> ')'\n",
      "|    '(' <expr> ')'\n",
      "|    '+' <factor +FA>\n",
      "|    '-' <factor +FA>\n",
      "<integer> ::=\n",
      "|    <digit>\n",
      "|    <digit> <integer>\n",
      "<digit> ::=\n",
      "|    '0'\n",
      "|    '1'\n",
      "|    '2'\n",
      "|    '3'\n",
      "|    '4'\n",
      "|    '5'\n",
      "|    '6'\n",
      "|    '7'\n",
      "|    '8'\n",
      "|    '9'\n",
      "<factor +FB> ::=\n",
      "|    '(' <expr +FB> ')'\n",
      "|    '+' <factor +FB>\n",
      "|    '-' <factor +FB>\n",
      "<factor or(+FC,and(+FA,+FB))> ::=\n",
      "|    '(' <expr or(+FC,and(+FA,+FB),and(+FB,LA_1))> ')'\n",
      "|    '+' <factor or(+FC,and(+FA,+FB))>\n",
      "|    '-' <factor or(+FC,and(+FA,+FB))>\n",
      "<term or(+FC,LC_2,and(+FA,+FB))> ::=\n",
      "|    <factor +FA> ' * ' <term +FB>\n",
      "|    <factor +FA> ' / ' <term +FB>\n",
      "|    <factor +FB> ' * ' <term +FA>\n",
      "|    <factor +FB> ' / ' <term +FA>\n",
      "|    <factor or(+FC,LC_1,and(+FA,+FB))>\n",
      "|    <factor or(+FC,and(+FA,+FB))> ' * ' <term>\n",
      "|    <factor or(+FC,and(+FA,+FB))> ' / ' <term>\n",
      "|    <factor> ' * ' <term or(+FC,and(+FA,+FB))>\n",
      "|    <factor> ' / ' <term or(+FC,LC_2,and(+FA,+FB))>\n",
      "<expr or(+FC,and(+FA,+FB),and(+FB,LA_1))> ::=\n",
      "|    <term +FA> ' + ' <expr or(+FB,LB_2)>\n",
      "|    <term +FA> ' - ' <expr +FB>\n",
      "|    <term +FB> ' + ' <expr +FA>\n",
      "|    <term +FB> ' - ' <expr +FA>\n",
      "|    <term or(+FC,and(+FA,+FB))> ' + ' <expr>\n",
      "|    <term or(+FC,and(+FA,+FB))> ' - ' <expr>\n",
      "|    <term or(+FC,and(+FA,+FB),and(+FB,LA_1))>\n",
      "|    <term> ' + ' <expr or(+FC,and(+FA,+FB),and(+FA,LB_2))>\n",
      "|    <term> ' - ' <expr or(+FC,and(+FA,+FB))>\n",
      "<term or(+FC,and(+FA,+FB),and(+FB,LA_1))> ::=\n",
      "|    <factor +FA> ' * ' <term +FB>\n",
      "|    <factor +FA> ' / ' <term +FB>\n",
      "|    <factor +FB> ' * ' <term +FA>\n",
      "|    <factor +FB> ' / ' <term +FA>\n",
      "|    <factor or(+FC,and(+FA,+FB))> ' * ' <term>\n",
      "|    <factor or(+FC,and(+FA,+FB))> ' / ' <term>\n",
      "|    <factor or(+FC,and(+FA,+FB),and(+FB,LA_2))>\n",
      "|    <factor> ' * ' <term or(+FC,and(+FA,+FB))>\n",
      "|    <factor> ' / ' <term or(+FC,LC_2,and(+FA,+FB))>\n",
      "<factor or(+FC,and(+FA,+FB),and(+FB,LA_2))> ::=\n",
      "|    '(' <expr or(+FB,+FC,and(+FA,+FB),and(+FB,LA_1))> ')'\n",
      "|    '+' <factor or(+FC,and(+FA,+FB))>\n",
      "|    '-' <factor or(+FC,and(+FA,+FB))>\n",
      "<expr or(+FB,+FC,and(+FA,+FB),and(+FB,LA_1))> ::=\n",
      "|    <term +FA> ' + ' <expr or(+FB,LB_2)>\n",
      "|    <term +FA> ' - ' <expr +FB>\n",
      "|    <term +FB> ' + ' <expr +FA>\n",
      "|    <term +FB> ' - ' <expr +FA>\n",
      "|    <term or(+FB,+FC,and(+FA,+FB))> ' + ' <expr>\n",
      "|    <term or(+FB,+FC,and(+FA,+FB))> ' - ' <expr>\n",
      "|    <term or(+FB,+FC,and(+FA,+FB),and(+FB,LA_1))>\n",
      "|    <term> ' + ' <expr or(+FB,+FC,LB_2,and(+FA,+FB),and(+FA,LB_2))>\n",
      "|    <term> ' - ' <expr or(+FB,+FC,and(+FA,+FB))>\n",
      "<term or(+FB,+FC,and(+FA,+FB))> ::=\n",
      "|    <factor +FA> ' * ' <term +FB>\n",
      "|    <factor +FA> ' / ' <term +FB>\n",
      "|    <factor +FB> ' * ' <term +FA>\n",
      "|    <factor +FB> ' / ' <term +FA>\n",
      "|    <factor or(+FB,+FC,and(+FA,+FB))>\n",
      "|    <factor or(+FB,+FC,and(+FA,+FB))> ' * ' <term>\n",
      "|    <factor or(+FB,+FC,and(+FA,+FB))> ' / ' <term>\n",
      "|    <factor> ' * ' <term or(+FB,+FC,and(+FA,+FB))>\n",
      "|    <factor> ' / ' <term or(+FB,+FC,LC_2,and(+FA,+FB))>\n",
      "<term or(+FB,+FC,and(+FA,+FB),and(+FB,LA_1))> ::=\n",
      "|    <factor +FA> ' * ' <term +FB>\n",
      "|    <factor +FA> ' / ' <term +FB>\n",
      "|    <factor +FB> ' * ' <term +FA>\n",
      "|    <factor +FB> ' / ' <term +FA>\n",
      "|    <factor or(+FB,+FC,and(+FA,+FB))> ' * ' <term>\n",
      "|    <factor or(+FB,+FC,and(+FA,+FB))> ' / ' <term>\n",
      "|    <factor or(+FB,+FC,and(+FA,+FB),and(+FB,LA_2))>\n",
      "|    <factor> ' * ' <term or(+FB,+FC,and(+FA,+FB))>\n",
      "|    <factor> ' / ' <term or(+FB,+FC,LC_2,and(+FA,+FB))>\n",
      "<expr or(+FB,+FC,LB_2,and(+FA,+FB),and(+FA,LB_2))> ::=\n",
      "|    <term +FA> ' + ' <expr or(+FB,LB_2)>\n",
      "|    <term +FA> ' - ' <expr +FB>\n",
      "|    <term +FB> ' + ' <expr +FA>\n",
      "|    <term +FB> ' - ' <expr +FA>\n",
      "|    <term or(+FA,+FB,+FC,and(+FA,+FB))>\n",
      "|    <term or(+FB,+FC,and(+FA,+FB))> ' + ' <expr>\n",
      "|    <term or(+FB,+FC,and(+FA,+FB))> ' - ' <expr>\n",
      "|    <term>\n",
      "|    <term> ' + ' <expr or(+FB,+FC,LB_2,and(+FA,+FB),and(+FA,LB_2))>\n",
      "|    <term> ' - ' <expr or(+FB,+FC,and(+FA,+FB))>\n",
      "<expr or(+FB,+FC,and(+FA,+FB))> ::=\n",
      "|    <term +FA> ' + ' <expr or(+FB,LB_2)>\n",
      "|    <term +FA> ' - ' <expr +FB>\n",
      "|    <term +FB> ' + ' <expr +FA>\n",
      "|    <term +FB> ' - ' <expr +FA>\n",
      "|    <term or(+FB,+FC,and(+FA,+FB))>\n",
      "|    <term or(+FB,+FC,and(+FA,+FB))> ' + ' <expr>\n",
      "|    <term or(+FB,+FC,and(+FA,+FB))> ' - ' <expr>\n",
      "|    <term> ' + ' <expr or(+FB,+FC,LB_2,and(+FA,+FB),and(+FA,LB_2))>\n",
      "|    <term> ' - ' <expr or(+FB,+FC,and(+FA,+FB))>\n",
      "<factor or(+FB,+FC,and(+FA,+FB))> ::=\n",
      "|    '(' <expr or(+FB,+FC,and(+FA,+FB),and(+FB,LA_1))> ')'\n",
      "|    '+' <factor or(+FB,+FC,and(+FA,+FB))>\n",
      "|    '-' <factor or(+FB,+FC,and(+FA,+FB))>\n",
      "<term or(+FB,+FC,LC_2,and(+FA,+FB))> ::=\n",
      "|    <factor +FA> ' * ' <term +FB>\n",
      "|    <factor +FA> ' / ' <term +FB>\n",
      "|    <factor +FB> ' * ' <term +FA>\n",
      "|    <factor +FB> ' / ' <term +FA>\n",
      "|    <factor or(+FB,+FC,LC_1,and(+FA,+FB))>\n",
      "|    <factor or(+FB,+FC,and(+FA,+FB))> ' * ' <term>\n",
      "|    <factor or(+FB,+FC,and(+FA,+FB))> ' / ' <term>\n",
      "|    <factor> ' * ' <term or(+FB,+FC,and(+FA,+FB))>\n",
      "|    <factor> ' / ' <term or(+FB,+FC,LC_2,and(+FA,+FB))>\n",
      "<factor or(+FB,+FC,LC_1,and(+FA,+FB))> ::=\n",
      "|    '(' <expr or(+FB,+FC,and(+FA,+FB),and(+FB,LA_1))> ')'\n",
      "|    '+' <factor or(+FB,+FC,and(+FA,+FB))>\n",
      "|    '-' <factor or(+FB,+FC,and(+FA,+FB))>\n",
      "|    <integer LC_1>\n",
      "<integer LC_1> ::=\n",
      "|    <digit LC_1>\n",
      "<digit LC_1> ::=\n",
      "|    '0'\n",
      "<factor or(+FB,+FC,and(+FA,+FB),and(+FB,LA_2))> ::=\n",
      "|    '(' <expr or(+FB,+FC,and(+FA,+FB),and(+FB,LA_1))> ')'\n",
      "|    '+' <factor or(+FB,+FC,and(+FA,+FB))>\n",
      "|    '-' <factor or(+FB,+FC,and(+FA,+FB))>\n",
      "<term or(+FA,+FB,+FC,and(+FA,+FB))> ::=\n",
      "|    <factor +FA> ' * ' <term +FB>\n",
      "|    <factor +FA> ' / ' <term +FB>\n",
      "|    <factor +FB> ' * ' <term +FA>\n",
      "|    <factor +FB> ' / ' <term +FA>\n",
      "|    <factor or(+FA,+FB,+FC,and(+FA,+FB))>\n",
      "|    <factor or(+FA,+FB,+FC,and(+FA,+FB))> ' * ' <term>\n",
      "|    <factor or(+FA,+FB,+FC,and(+FA,+FB))> ' / ' <term>\n",
      "|    <factor> ' * ' <term or(+FA,+FB,+FC,and(+FA,+FB))>\n",
      "|    <factor> ' / ' <term or(+FA,+FB,+FC,LC_2,and(+FA,+FB))>\n",
      "<factor or(+FA,+FB,+FC,and(+FA,+FB))> ::=\n",
      "|    '(' <expr or(+FA,+FB,+FC,LA_1,and(+FA,+FB),and(+FB,LA_1))> ')'\n",
      "|    '+' <factor or(+FA,+FB,+FC,and(+FA,+FB))>\n",
      "|    '-' <factor or(+FA,+FB,+FC,and(+FA,+FB))>\n",
      "<term or(+FA,+FB,+FC,LC_2,and(+FA,+FB))> ::=\n",
      "|    <factor +FA> ' * ' <term +FB>\n",
      "|    <factor +FA> ' / ' <term +FB>\n",
      "|    <factor +FB> ' * ' <term +FA>\n",
      "|    <factor +FB> ' / ' <term +FA>\n",
      "|    <factor or(+FA,+FB,+FC,LC_1,and(+FA,+FB))>\n",
      "|    <factor or(+FA,+FB,+FC,and(+FA,+FB))> ' * ' <term>\n",
      "|    <factor or(+FA,+FB,+FC,and(+FA,+FB))> ' / ' <term>\n",
      "|    <factor> ' * ' <term or(+FA,+FB,+FC,and(+FA,+FB))>\n",
      "|    <factor> ' / ' <term or(+FA,+FB,+FC,LC_2,and(+FA,+FB))>\n",
      "<expr or(+FA,+FB,+FC,LA_1,and(+FA,+FB),and(+FB,LA_1))> ::=\n",
      "|    <term +FA> ' + ' <expr or(+FB,LB_2)>\n",
      "|    <term +FA> ' - ' <expr +FB>\n",
      "|    <term +FB> ' + ' <expr +FA>\n",
      "|    <term +FB> ' - ' <expr +FA>\n",
      "|    <term or(+FA,+FB,+FC,LA_1,and(+FA,+FB),and(+FB,LA_1))>\n",
      "|    <term or(+FA,+FB,+FC,and(+FA,+FB))> ' + ' <expr>\n",
      "|    <term or(+FA,+FB,+FC,and(+FA,+FB))> ' - ' <expr>\n",
      "|    <term> ' + ' <expr or(+FA,+FB,+FC,LB_2,and(+FA,+FB),and(+FA,LB_2))>\n",
      "|    <term> ' - ' <expr or(+FA,+FB,+FC,and(+FA,+FB))>\n",
      "<term or(+FA,+FB,+FC,LA_1,and(+FA,+FB),and(+FB,LA_1))> ::=\n",
      "|    <factor +FA> ' * ' <term +FB>\n",
      "|    <factor +FA> ' / ' <term +FB>\n",
      "|    <factor +FB> ' * ' <term +FA>\n",
      "|    <factor +FB> ' / ' <term +FA>\n",
      "|    <factor or(+FA,+FB,+FC,LA_2,and(+FA,+FB),and(+FB,LA_2))>\n",
      "|    <factor or(+FA,+FB,+FC,and(+FA,+FB))> ' * ' <term>\n",
      "|    <factor or(+FA,+FB,+FC,and(+FA,+FB))> ' / ' <term>\n",
      "|    <factor> ' * ' <term or(+FA,+FB,+FC,and(+FA,+FB))>\n",
      "|    <factor> ' / ' <term or(+FA,+FB,+FC,LC_2,and(+FA,+FB))>\n",
      "<expr or(+FA,+FB,+FC,LB_2,and(+FA,+FB),and(+FA,LB_2))> ::=\n",
      "|    <term +FA> ' + ' <expr or(+FB,LB_2)>\n",
      "|    <term +FA> ' - ' <expr +FB>\n",
      "|    <term +FB> ' + ' <expr +FA>\n",
      "|    <term +FB> ' - ' <expr +FA>\n",
      "|    <term or(+FA,+FB,+FC,and(+FA,+FB))>\n",
      "|    <term or(+FA,+FB,+FC,and(+FA,+FB))> ' + ' <expr>\n",
      "|    <term or(+FA,+FB,+FC,and(+FA,+FB))> ' - ' <expr>\n",
      "|    <term>\n",
      "|    <term> ' + ' <expr or(+FA,+FB,+FC,LB_2,and(+FA,+FB),and(+FA,LB_2))>\n",
      "|    <term> ' - ' <expr or(+FA,+FB,+FC,and(+FA,+FB))>\n",
      "<expr or(+FA,+FB,+FC,and(+FA,+FB))> ::=\n",
      "|    <term +FA> ' + ' <expr or(+FB,LB_2)>\n",
      "|    <term +FA> ' - ' <expr +FB>\n",
      "|    <term +FB> ' + ' <expr +FA>\n",
      "|    <term +FB> ' - ' <expr +FA>\n",
      "|    <term or(+FA,+FB,+FC,and(+FA,+FB))>\n",
      "|    <term or(+FA,+FB,+FC,and(+FA,+FB))> ' + ' <expr>\n",
      "|    <term or(+FA,+FB,+FC,and(+FA,+FB))> ' - ' <expr>\n",
      "|    <term> ' + ' <expr or(+FA,+FB,+FC,LB_2,and(+FA,+FB),and(+FA,LB_2))>\n",
      "|    <term> ' - ' <expr or(+FA,+FB,+FC,and(+FA,+FB))>\n",
      "<factor or(+FA,+FB,+FC,LA_2,and(+FA,+FB),and(+FB,LA_2))> ::=\n",
      "|    '(' <expr or(+FA,+FB,+FC,LA_1,and(+FA,+FB),and(+FB,LA_1))> ')'\n",
      "|    '(' <expr> ')'\n",
      "|    '+' <factor or(+FA,+FB,+FC,and(+FA,+FB))>\n",
      "|    '-' <factor or(+FA,+FB,+FC,and(+FA,+FB))>\n",
      "<factor or(+FA,+FB,+FC,LC_1,and(+FA,+FB))> ::=\n",
      "|    '(' <expr or(+FA,+FB,+FC,LA_1,and(+FA,+FB),and(+FB,LA_1))> ')'\n",
      "|    '+' <factor or(+FA,+FB,+FC,and(+FA,+FB))>\n",
      "|    '-' <factor or(+FA,+FB,+FC,and(+FA,+FB))>\n",
      "|    <integer LC_1>\n",
      "<factor or(+FC,LC_1,and(+FA,+FB))> ::=\n",
      "|    '(' <expr or(+FC,and(+FA,+FB),and(+FB,LA_1))> ')'\n",
      "|    '+' <factor or(+FC,and(+FA,+FB))>\n",
      "|    '-' <factor or(+FC,and(+FA,+FB))>\n",
      "|    <integer LC_1>\n",
      "<term or(+FA,+FC,and(+FA,+FB))> ::=\n",
      "|    <factor +FA> ' * ' <term +FB>\n",
      "|    <factor +FA> ' / ' <term +FB>\n",
      "|    <factor +FB> ' * ' <term +FA>\n",
      "|    <factor +FB> ' / ' <term +FA>\n",
      "|    <factor or(+FA,+FC,and(+FA,+FB))>\n",
      "|    <factor or(+FA,+FC,and(+FA,+FB))> ' * ' <term>\n",
      "|    <factor or(+FA,+FC,and(+FA,+FB))> ' / ' <term>\n",
      "|    <factor> ' * ' <term or(+FA,+FC,and(+FA,+FB))>\n",
      "|    <factor> ' / ' <term or(+FA,+FC,LC_2,and(+FA,+FB))>\n",
      "<factor or(+FA,+FC,and(+FA,+FB))> ::=\n",
      "|    '(' <expr or(+FA,+FC,LA_1,and(+FA,+FB),and(+FB,LA_1))> ')'\n",
      "|    '+' <factor or(+FA,+FC,and(+FA,+FB))>\n",
      "|    '-' <factor or(+FA,+FC,and(+FA,+FB))>\n",
      "<term or(+FA,+FC,LC_2,and(+FA,+FB))> ::=\n",
      "|    <factor +FA> ' * ' <term +FB>\n",
      "|    <factor +FA> ' / ' <term +FB>\n",
      "|    <factor +FB> ' * ' <term +FA>\n",
      "|    <factor +FB> ' / ' <term +FA>\n",
      "|    <factor or(+FA,+FC,LC_1,and(+FA,+FB))>\n",
      "|    <factor or(+FA,+FC,and(+FA,+FB))> ' * ' <term>\n",
      "|    <factor or(+FA,+FC,and(+FA,+FB))> ' / ' <term>\n",
      "|    <factor> ' * ' <term or(+FA,+FC,and(+FA,+FB))>\n",
      "|    <factor> ' / ' <term or(+FA,+FC,LC_2,and(+FA,+FB))>\n",
      "<expr or(+FA,+FC,LA_1,and(+FA,+FB),and(+FB,LA_1))> ::=\n",
      "|    <term +FA> ' + ' <expr or(+FB,LB_2)>\n",
      "|    <term +FA> ' - ' <expr +FB>\n",
      "|    <term +FB> ' + ' <expr +FA>\n",
      "|    <term +FB> ' - ' <expr +FA>\n",
      "|    <term or(+FA,+FC,LA_1,and(+FA,+FB),and(+FB,LA_1))>\n",
      "|    <term or(+FA,+FC,and(+FA,+FB))> ' + ' <expr>\n",
      "|    <term or(+FA,+FC,and(+FA,+FB))> ' - ' <expr>\n",
      "|    <term> ' + ' <expr or(+FA,+FC,and(+FA,+FB),and(+FA,LB_2))>\n",
      "|    <term> ' - ' <expr or(+FA,+FC,and(+FA,+FB))>\n",
      "<term or(+FA,+FC,LA_1,and(+FA,+FB),and(+FB,LA_1))> ::=\n",
      "|    <factor +FA> ' * ' <term +FB>\n",
      "|    <factor +FA> ' / ' <term +FB>\n",
      "|    <factor +FB> ' * ' <term +FA>\n",
      "|    <factor +FB> ' / ' <term +FA>\n",
      "|    <factor or(+FA,+FC,LA_2,and(+FA,+FB),and(+FB,LA_2))>\n",
      "|    <factor or(+FA,+FC,and(+FA,+FB))> ' * ' <term>\n",
      "|    <factor or(+FA,+FC,and(+FA,+FB))> ' / ' <term>\n",
      "|    <factor> ' * ' <term or(+FA,+FC,and(+FA,+FB))>\n",
      "|    <factor> ' / ' <term or(+FA,+FC,LC_2,and(+FA,+FB))>\n",
      "<expr or(+FA,+FC,and(+FA,+FB),and(+FA,LB_2))> ::=\n",
      "|    <term +FA> ' + ' <expr or(+FB,LB_2)>\n",
      "|    <term +FA> ' - ' <expr +FB>\n",
      "|    <term +FB> ' + ' <expr +FA>\n",
      "|    <term +FB> ' - ' <expr +FA>\n",
      "|    <term or(+FA,+FC,and(+FA,+FB))>\n",
      "|    <term or(+FA,+FC,and(+FA,+FB))> ' + ' <expr>\n",
      "|    <term or(+FA,+FC,and(+FA,+FB))> ' - ' <expr>\n",
      "|    <term> ' + ' <expr or(+FA,+FC,and(+FA,+FB),and(+FA,LB_2))>\n",
      "|    <term> ' - ' <expr or(+FA,+FC,and(+FA,+FB))>\n",
      "<expr or(+FA,+FC,and(+FA,+FB))> ::=\n",
      "|    <term +FA> ' + ' <expr or(+FB,LB_2)>\n",
      "|    <term +FA> ' - ' <expr +FB>\n",
      "|    <term +FB> ' + ' <expr +FA>\n",
      "|    <term +FB> ' - ' <expr +FA>\n",
      "|    <term or(+FA,+FC,and(+FA,+FB))>\n",
      "|    <term or(+FA,+FC,and(+FA,+FB))> ' + ' <expr>\n",
      "|    <term or(+FA,+FC,and(+FA,+FB))> ' - ' <expr>\n",
      "|    <term> ' + ' <expr or(+FA,+FC,and(+FA,+FB),and(+FA,LB_2))>\n",
      "|    <term> ' - ' <expr or(+FA,+FC,and(+FA,+FB))>\n",
      "<factor or(+FA,+FC,LA_2,and(+FA,+FB),and(+FB,LA_2))> ::=\n",
      "|    '(' <expr or(+FA,+FB,+FC,LA_1,and(+FA,+FB),and(+FB,LA_1))> ')'\n",
      "|    '(' <expr> ')'\n",
      "|    '+' <factor or(+FA,+FC,and(+FA,+FB))>\n",
      "|    '-' <factor or(+FA,+FC,and(+FA,+FB))>\n",
      "<factor or(+FA,+FC,LC_1,and(+FA,+FB))> ::=\n",
      "|    '(' <expr or(+FA,+FC,LA_1,and(+FA,+FB),and(+FB,LA_1))> ')'\n",
      "|    '+' <factor or(+FA,+FC,and(+FA,+FB))>\n",
      "|    '-' <factor or(+FA,+FC,and(+FA,+FB))>\n",
      "|    <integer LC_1>\n",
      "54 332\n"
     ]
    },
    {
     "data": {
      "text/plain": [
       "'<start or(+FC,and(+FA,+FB))>'"
      ]
     },
     "execution_count": 511,
     "metadata": {},
     "output_type": "execute_result"
    }
   ],
   "source": [
    "%%top\n",
    "Gs(AandBorC_grammar)\n",
    "AandBorC_start"
   ]
  },
  {
   "cell_type": "code",
   "execution_count": 512,
   "metadata": {},
   "outputs": [],
   "source": [
    "AandBorC_fuzzer = LimitFuzzer(AandBorC_grammar)\n",
    "AandBorC_parser = Parser(AandBorC_grammar, canonical=True, start_symbol=AandBorC_start)"
   ]
  },
  {
   "cell_type": "code",
   "execution_count": 513,
   "metadata": {},
   "outputs": [
    {
     "name": "stdout",
     "output_type": "stream",
     "text": [
      "((0.9 * 5.5 * 0 + ((3)) * 8 - 3 + 8.1) - (8.8 + 0 - 4)) / 0.5067 / (++6 + 2 * 2) + +(3 / 0.5 * 7 + -6 / 5.5) * 2\n",
      "A&B|C\n",
      "A&B\n",
      "+((7.6 - -(3.2 + 5) / 7 - 7.1) * 3 + +4.1 - (8) / 8.8 / 2) + +-(-4.7 / 5 + 5.5 / ((9)) * 9.6 - 2) + +349.3 / 0\n",
      "A&B|C\n",
      "A&B\n",
      "(+(0.7 * 3.3 + ((2.0)) / 2.2 - 0) + (9.8 / 1.7) * ++4.9) / +-(-2.0 / 4.2 / 6.4 + +(5 + 8) + 7.8 - 2) + (+6.41 / 39 + ++4.8 * +1.3 / 1 * 2 - -9.6 * 1.0 * 5.3 - 4.7 / 3) + +(-0 + 1.0) - 17\n",
      "A&B|C\n",
      "A&B\n",
      "((4 - 3.7 / 3) * 9.345 / -5 - -(3.1 + ((4.4)) * 4 + 8) * -+0.3 * (8.5)) * -+(-6.3) * +-((4.0 + 8.4) * 4.1 - 4) * +-+1.4 - 9 - +(+8.2 * 7 / 4.2 - 6.0 + 4.8 - 9.3) - -(4) * 4.680 / +(1) + 29.495 * 1.22\n",
      "A&B|C\n",
      "A&B\n",
      "(-++--+(1 + 2) * 73 * -+7.9 * 7.2 / 3.8 * 2.7) * 724 * -(2 - 4.0 / 4 + 8) * (1 - 5.6 * 2.4 + 7.8) * (7 / 0 + 0.0 + 8) / -(6.3) * 5 - 39859.3 / ++-22 - +-6 * 3.5 - 5 / +(4.6) * 64 / 7.2 * 3.4 / 3.0 - (4 / 5 + 1) / ++6.6 / -6.6 + 07.08 / (2) / 2.0 / 5 + -7 / 2 / ((1.6)) / 8.2\n",
      "A&B|C\n",
      "A&B\n",
      "-+-((1.8) * 0.1 + 8.6 / 5.1 / 6 * 3.9 * 7 / +-(6.4 + 8)) * 82.38 * (-(1) - 8 + 1 / 0.7 + 2.2 + 5) / 3 + 7.26906 / 807.806 - -++(((4.4)) / 6.2 - 5) * 054 * 8.9 / -(3) / 1 / 8 + 1969.01 * -(1.8) + +(5)\n",
      "A&B|C\n",
      "A&B\n",
      "((-3.3 - ((5.8)) / 1) * +(5) / --9.9 * -6) * -96.08 / 4 * 2 * 20.487 * 6 * +0.0 + 9.4399 * 608.4488 * (+3 * 3.1 * 5.3 - 5 + 9 - 4) / 25 / 8.62 / +1 / 4.7 + +(5 + 4.0 + 6.6 + 0.4) / -(3 * 7) / -55.7 / 71 * 3\n",
      "A&B|C\n",
      "A&B\n",
      "-(((4)) + --7.4 * -4 + -9.1 * 0 / 3.6 - 8.5) - -+(5.4 * 3.3 - 5 * 0.4 - 5.8 * (1.0 + 8) + 5) * 6 + 25060 * 6185.1 + -+(4) + -+(3.9) * --1.6 + 9 * +6 + -1.1 / 1 / 0.8\n",
      "A&B|C\n",
      "A&B\n",
      "+-+-(5.2 / 4) * -((((7)) + 3.2) * +1 / 3 * 2 + 9.1 / 0.4 / 7.3 - 6.4) / --8 + 3 / +++-+++-+-(1.0 + 6)\n",
      "A&B|C\n",
      "A&B\n",
      "--+-(7.3 * ((2.2)) / 2 - 5.0 - 6 + 3.1)\n",
      "A&B|C\n",
      "A&B\n"
     ]
    }
   ],
   "source": [
    "%%top\n",
    "for i in range(10):\n",
    "    s = AandBorC_fuzzer.fuzz(key=AandBorC_start)\n",
    "    print(s)\n",
    "    print('A&B|C')\n",
    "    assert AandBorC_parser.can_parse(s)\n",
    "    print('A&B')\n",
    "    assert AandB_parser.can_parse(s) or faultC_parser.can_parse(s)"
   ]
  },
  {
   "cell_type": "code",
   "execution_count": 514,
   "metadata": {},
   "outputs": [
    {
     "data": {
      "text/plain": [
       "[]"
      ]
     },
     "execution_count": 514,
     "metadata": {},
     "output_type": "execute_result"
    }
   ],
   "source": [
    "EXCEPTION_HAPPENED"
   ]
  },
  {
   "cell_type": "markdown",
   "metadata": {},
   "source": [
    "## JSON"
   ]
  },
  {
   "cell_type": "code",
   "execution_count": 515,
   "metadata": {},
   "outputs": [],
   "source": [
    "json_grammar = {\n",
    "   '<json>': [['<element>']],\n",
    "   '<element>': [['<value>']],\n",
    "   '<value>': [\n",
    "    ['<object>'],\n",
    "    ['<array>'],\n",
    "    ['<string>'],\n",
    "    ['<number>'],\n",
    "    [\"true\"],\n",
    "    [\"false\"],\n",
    "    [\"null\"]\n",
    "    ],    \n",
    "    '<object>': [\n",
    "        ['{}'],\n",
    "        ['{', '<members>','}']\n",
    "    ],    \n",
    "    '<members>': [\n",
    "        ['<member>'],\n",
    "        ['<member>',',','<members>']\n",
    "    ],    \n",
    "    '<member>': [\n",
    "        ['<string>',':','<element>']\n",
    "    ],    \n",
    "    '<array>': [\n",
    "        ['[]'],\n",
    "        ['[', '<elements>',']']\n",
    "    ],    \n",
    "    '<elements>':[\n",
    "        ['<element>'],\n",
    "        ['<element>',',','<elements>']\n",
    "    ],    \n",
    "    '<string>': [['\"', '<characters>','\"']],\n",
    "    '<characters>':[\n",
    "        [],   \n",
    "        ['<character>','<characters>']],\n",
    "    '<character>': [[a] for a in string.ascii_letters],\n",
    "    '<number>': [['<integer>', '<fraction>', '<exponent>']],\n",
    "    '<integer>': [\n",
    "       ['<digit>'] ,\n",
    "       ['<onenine>','<digits>'] \n",
    "    ],    \n",
    "    '<digits>': [\n",
    "        ['<digit>'],\n",
    "        ['<digit>','<digits>']\n",
    "    ],    \n",
    "    '<digit>': [\n",
    "        ['0'],\n",
    "        ['<onenine>']\n",
    "    ],    \n",
    "    '<onenine>': [[str(i)] for i in string.digits],\n",
    "    '<fraction>':[\n",
    "        [],   \n",
    "        ['.', '<digits>']\n",
    "    ],    \n",
    "    '<exponent>':[\n",
    "        [],   \n",
    "        ['E','<sign>','<digits>'],\n",
    "        ['e','<sign>','<digits>']\n",
    "    ],    \n",
    "    '<sign>': [\n",
    "        [],   \n",
    "        ['+'],\n",
    "        ['-'] \n",
    "    ]\n",
    "}"
   ]
  },
  {
   "cell_type": "code",
   "execution_count": 516,
   "metadata": {},
   "outputs": [],
   "source": [
    "JSON_GRAMMAR = {\n",
    "   '<json>': [['<element>']],\n",
    "   '<element>': [\n",
    "    ['<object>'],\n",
    "    ['<array>'],\n",
    "    ['<string>'],\n",
    "    ['<number>'],\n",
    "    [\"true\"],\n",
    "    [\"false\"],\n",
    "    [\"null\"]\n",
    "    ],    \n",
    "    '<object>': [\n",
    "        ['{', '<members>','}'],\n",
    "        ['{}']\n",
    "    ],    \n",
    "    '<members>': [\n",
    "        ['<member>'],\n",
    "        ['<member>',',','<members>']\n",
    "    ],    \n",
    "    '<member>': [\n",
    "        ['<string>',':','<element>']\n",
    "    ],    \n",
    "    '<array>': [\n",
    "        ['[', '<elements>',']'],\n",
    "        ['[]']\n",
    "    ],    \n",
    "    '<elements>':[\n",
    "        ['<element>'],\n",
    "        ['<element>',',','<elements>']\n",
    "    ],    \n",
    "    '<string>': [['\"', '<characters>','\"']],\n",
    "    '<characters>':[\n",
    "        [],   \n",
    "        ['<character>','<characters>']],\n",
    "    '<character>': [[a] for a in string.ascii_letters[0:3]],\n",
    "    '<number>': [['<digits>']],\n",
    "    '<digits>': [\n",
    "        ['<digit>'],\n",
    "        ['<digit>','<digits>']\n",
    "    ],    \n",
    "    '<digit>': [[str(i)] for i in string.digits]\n",
    "}\n",
    "JSON_START = '<json>'"
   ]
  },
  {
   "cell_type": "code",
   "execution_count": 517,
   "metadata": {},
   "outputs": [],
   "source": [
    "json_fuzzer = LimitFuzzer(JSON_GRAMMAR)"
   ]
  },
  {
   "cell_type": "code",
   "execution_count": 518,
   "metadata": {},
   "outputs": [
    {
     "data": {
      "text/plain": [
       "'null'"
      ]
     },
     "execution_count": 518,
     "metadata": {},
     "output_type": "execute_result"
    }
   ],
   "source": [
    "json_fuzzer.fuzz(JSON_START)"
   ]
  },
  {
   "cell_type": "code",
   "execution_count": 519,
   "metadata": {},
   "outputs": [],
   "source": [
    "json_parser = Parser(JSON_GRAMMAR, start_symbol=JSON_START, canonical=True)"
   ]
  },
  {
   "cell_type": "code",
   "execution_count": null,
   "metadata": {},
   "outputs": [],
   "source": []
  },
  {
   "cell_type": "code",
   "execution_count": 520,
   "metadata": {},
   "outputs": [
    {
     "data": {
      "text/plain": [
       "{'<json>': [['<element>']],\n",
       " '<element>': [['<object>'],\n",
       "  ['<array>'],\n",
       "  ['<string>'],\n",
       "  ['<number>'],\n",
       "  ['true'],\n",
       "  ['false'],\n",
       "  ['null']],\n",
       " '<object>': [['{', '<members>', '}'], ['{}']],\n",
       " '<members>': [['<member>'], ['<member>', ',', '<members>']],\n",
       " '<member>': [['<string>', ':', '<element>']],\n",
       " '<array>': [['[', '<elements>', ']'], ['[]']],\n",
       " '<elements>': [['<element>'], ['<element>', ',', '<elements>']],\n",
       " '<string>': [['\"', '<characters>', '\"']],\n",
       " '<characters>': [[], ['<character>', '<characters>']],\n",
       " '<character>': [['a'], ['b'], ['c']],\n",
       " '<number>': [['<digits>']],\n",
       " '<digits>': [['<digit>'], ['<digit>', '<digits>']],\n",
       " '<digit>': [['0'],\n",
       "  ['1'],\n",
       "  ['2'],\n",
       "  ['3'],\n",
       "  ['4'],\n",
       "  ['5'],\n",
       "  ['6'],\n",
       "  ['7'],\n",
       "  ['8'],\n",
       "  ['9']]}"
      ]
     },
     "execution_count": 520,
     "metadata": {},
     "output_type": "execute_result"
    }
   ],
   "source": [
    "JSON_GRAMMAR"
   ]
  },
  {
   "cell_type": "code",
   "execution_count": 521,
   "metadata": {},
   "outputs": [
    {
     "name": "stdout",
     "output_type": "stream",
     "text": [
      "<json> ::= <element>\n",
      "\n",
      "<element> ::= <object>\n",
      "\\alt <array>\n",
      "\\alt <string>\n",
      "\\alt <number>\n",
      "\\alt `true'\n",
      "\\alt `false'\n",
      "\\alt `null'\n",
      "\n",
      "<object> ::= `{' <members> `}'\n",
      "\\alt `{}'\n",
      "\n",
      "<members> ::= <member>\n",
      "\\alt <member> `,' <members>\n",
      "\n",
      "<member> ::= <string> `:' <element>\n",
      "\n",
      "<array> ::= `[' <elements> `]'\n",
      "\\alt `[]'\n",
      "\n",
      "<elements> ::= <element>\n",
      "\\alt <element> `,' <elements>\n",
      "\n",
      "<string> ::= `\"' <characters> `\"'\n",
      "\n",
      "<characters> ::= $\\epsilon$\n",
      "\\alt <character> <characters>\n",
      "\n",
      "<character> ::= `a'\n",
      "\\alt `b'\n",
      "\\alt `c'\n",
      "\n",
      "<number> ::= <digits>\n",
      "\n",
      "<digits> ::= <digit>\n",
      "\\alt <digit> <digits>\n",
      "\n",
      "<digit> ::= `0'\n",
      "\\alt `1'\n",
      "\\alt `2'\n",
      "\\alt `3'\n",
      "\\alt `4'\n",
      "\\alt `5'\n",
      "\\alt `6'\n",
      "\\alt `7'\n",
      "\\alt `8'\n",
      "\\alt `9'\n",
      "\n"
     ]
    }
   ],
   "source": [
    "g_to_latex(JSON_GRAMMAR)"
   ]
  },
  {
   "cell_type": "code",
   "execution_count": 522,
   "metadata": {},
   "outputs": [],
   "source": [
    "def latex_abs_node(node):\n",
    "    name, children,*rest = node\n",
    "    if not is_nt(name):\n",
    "        return '\\\\textit{%s}' % name\n",
    "    if is_node_abstract(node):\n",
    "        return '\\\\absnonterm{%s}' % name[1:-1]\n",
    "    if not children:\n",
    "        return '[.\\\\nonterm{%s} %s ]' % (name[1:-1], '$\\\\epsilon$')\n",
    "    else:\n",
    "        return '[.\\\\nonterm{%s} %s ]' % (name[1:-1], ' '.join(latex_abs_node(t) for t in children))"
   ]
  },
  {
   "cell_type": "code",
   "execution_count": 523,
   "metadata": {},
   "outputs": [],
   "source": [
    "def latex_abs_tree(tree):\n",
    "    print(\"\"\"\n",
    "%%\\\\resizebox{.99\\\\columnwidth}{.050\\\\totalheight}{\n",
    "\\\\Tree%s\n",
    "%%}\n",
    "    \"\"\" % latex_abs_node(tree))"
   ]
  },
  {
   "cell_type": "markdown",
   "metadata": {},
   "source": [
    "### Key value is null"
   ]
  },
  {
   "cell_type": "code",
   "execution_count": 524,
   "metadata": {},
   "outputs": [],
   "source": [
    "s_null = '{\"abc\":null}'\n",
    "v = list(json_parser.parse(s_null))[0]"
   ]
  },
  {
   "cell_type": "code",
   "execution_count": 525,
   "metadata": {},
   "outputs": [
    {
     "data": {
      "text/plain": [
       "('<json>',\n",
       " [('<element>',\n",
       "   [('<object>',\n",
       "     [('{', []),\n",
       "      ('<members>',\n",
       "       [('<member>',\n",
       "         [('<string>',\n",
       "           [('\"', []),\n",
       "            ('<characters>',\n",
       "             [('<character>', [('a', [])]),\n",
       "              ('<characters>',\n",
       "               [('<character>', [('b', [])]),\n",
       "                ('<characters>',\n",
       "                 [('<character>', [('c', [])]), ('<characters>', [])])])]),\n",
       "            ('\"', [])]),\n",
       "          (':', []),\n",
       "          ('<element>', [('null', [])])])]),\n",
       "      ('}', [])])])])"
      ]
     },
     "execution_count": 525,
     "metadata": {},
     "output_type": "execute_result"
    }
   ],
   "source": [
    "v"
   ]
  },
  {
   "cell_type": "code",
   "execution_count": 526,
   "metadata": {},
   "outputs": [
    {
     "data": {
      "image/svg+xml": [
       "<?xml version=\"1.0\" encoding=\"UTF-8\" standalone=\"no\"?>\n",
       "<!DOCTYPE svg PUBLIC \"-//W3C//DTD SVG 1.1//EN\"\n",
       " \"http://www.w3.org/Graphics/SVG/1.1/DTD/svg11.dtd\">\n",
       "<!-- Generated by graphviz version 2.40.1 (20161225.0304)\n",
       " -->\n",
       "<!-- Title: %3 Pages: 1 -->\n",
       "<svg width=\"306pt\" height=\"662pt\"\n",
       " viewBox=\"0.00 0.00 306.30 662.00\" xmlns=\"http://www.w3.org/2000/svg\" xmlns:xlink=\"http://www.w3.org/1999/xlink\">\n",
       "<g id=\"graph0\" class=\"graph\" transform=\"scale(1 1) rotate(0) translate(4 658)\">\n",
       "<title>%3</title>\n",
       "<polygon fill=\"#ffffff\" stroke=\"transparent\" points=\"-4,4 -4,-658 302.2983,-658 302.2983,4 -4,4\"/>\n",
       "<!-- (0, 0) -->\n",
       "<g id=\"node1\" class=\"node\">\n",
       "<title>(0, 0)</title>\n",
       "<text text-anchor=\"middle\" x=\"135.2871\" y=\"-642.8\" font-family=\"Times,serif\" font-size=\"14.00\" fill=\"#000000\">&lt;json&gt; </text>\n",
       "</g>\n",
       "<!-- (1, 0) -->\n",
       "<g id=\"node2\" class=\"node\">\n",
       "<title>(1, 0)</title>\n",
       "<text text-anchor=\"middle\" x=\"135.2871\" y=\"-578.8\" font-family=\"Times,serif\" font-size=\"14.00\" fill=\"#000000\">&lt;element&gt; </text>\n",
       "</g>\n",
       "<!-- (0, 0)&#45;&gt;(1, 0) -->\n",
       "<g id=\"edge1\" class=\"edge\">\n",
       "<title>(0, 0)&#45;&gt;(1, 0)</title>\n",
       "<path fill=\"none\" stroke=\"#000000\" d=\"M135.2871,-639.6584C135.2871,-630.2065 135.2871,-613.4718 135.2871,-600.632\"/>\n",
       "<polygon fill=\"#000000\" stroke=\"#000000\" points=\"138.7872,-600.256 135.2871,-590.256 131.7872,-600.256 138.7872,-600.256\"/>\n",
       "<text text-anchor=\"middle\" x=\"138.7871\" y=\"-610.8\" font-family=\"Times,serif\" font-size=\"14.00\" fill=\"#000000\">0</text>\n",
       "</g>\n",
       "<!-- (2, 0) -->\n",
       "<g id=\"node3\" class=\"node\">\n",
       "<title>(2, 0)</title>\n",
       "<text text-anchor=\"middle\" x=\"135.2871\" y=\"-514.8\" font-family=\"Times,serif\" font-size=\"14.00\" fill=\"#000000\">&lt;object&gt; </text>\n",
       "</g>\n",
       "<!-- (1, 0)&#45;&gt;(2, 0) -->\n",
       "<g id=\"edge2\" class=\"edge\">\n",
       "<title>(1, 0)&#45;&gt;(2, 0)</title>\n",
       "<path fill=\"none\" stroke=\"#000000\" d=\"M135.2871,-575.6584C135.2871,-566.2065 135.2871,-549.4718 135.2871,-536.632\"/>\n",
       "<polygon fill=\"#000000\" stroke=\"#000000\" points=\"138.7872,-536.256 135.2871,-526.256 131.7872,-536.256 138.7872,-536.256\"/>\n",
       "<text text-anchor=\"middle\" x=\"138.7871\" y=\"-546.8\" font-family=\"Times,serif\" font-size=\"14.00\" fill=\"#000000\">0</text>\n",
       "</g>\n",
       "<!-- (3, 0) -->\n",
       "<g id=\"node4\" class=\"node\">\n",
       "<title>(3, 0)</title>\n",
       "<text text-anchor=\"middle\" x=\"77.2871\" y=\"-450.8\" font-family=\"Times,serif\" font-size=\"14.00\" fill=\"#000000\">{ </text>\n",
       "</g>\n",
       "<!-- (2, 0)&#45;&gt;(3, 0) -->\n",
       "<g id=\"edge3\" class=\"edge\">\n",
       "<title>(2, 0)&#45;&gt;(3, 0)</title>\n",
       "<path fill=\"none\" stroke=\"#000000\" d=\"M128.6338,-511.6584C119.0656,-501.1004 101.2624,-481.4555 89.3424,-468.3024\"/>\n",
       "<polygon fill=\"#000000\" stroke=\"#000000\" points=\"91.8132,-465.8166 82.5045,-460.7571 86.6262,-470.5173 91.8132,-465.8166\"/>\n",
       "<text text-anchor=\"middle\" x=\"115.7871\" y=\"-482.8\" font-family=\"Times,serif\" font-size=\"14.00\" fill=\"#000000\">0</text>\n",
       "</g>\n",
       "<!-- (4, 1) -->\n",
       "<g id=\"node5\" class=\"node\">\n",
       "<title>(4, 1)</title>\n",
       "<text text-anchor=\"middle\" x=\"135.2871\" y=\"-450.8\" font-family=\"Times,serif\" font-size=\"14.00\" fill=\"#000000\">&lt;members&gt; </text>\n",
       "</g>\n",
       "<!-- (2, 0)&#45;&gt;(4, 1) -->\n",
       "<g id=\"edge4\" class=\"edge\">\n",
       "<title>(2, 0)&#45;&gt;(4, 1)</title>\n",
       "<path fill=\"none\" stroke=\"#000000\" d=\"M135.2871,-511.6584C135.2871,-502.2065 135.2871,-485.4718 135.2871,-472.632\"/>\n",
       "<polygon fill=\"#000000\" stroke=\"#000000\" points=\"138.7872,-472.256 135.2871,-462.256 131.7872,-472.256 138.7872,-472.256\"/>\n",
       "<text text-anchor=\"middle\" x=\"138.7871\" y=\"-482.8\" font-family=\"Times,serif\" font-size=\"14.00\" fill=\"#000000\">1</text>\n",
       "</g>\n",
       "<!-- (22, 2) -->\n",
       "<g id=\"node23\" class=\"node\">\n",
       "<title>(22, 2)</title>\n",
       "<text text-anchor=\"middle\" x=\"193.2871\" y=\"-450.8\" font-family=\"Times,serif\" font-size=\"14.00\" fill=\"#000000\">} </text>\n",
       "</g>\n",
       "<!-- (2, 0)&#45;&gt;(22, 2) -->\n",
       "<g id=\"edge22\" class=\"edge\">\n",
       "<title>(2, 0)&#45;&gt;(22, 2)</title>\n",
       "<path fill=\"none\" stroke=\"#000000\" d=\"M141.9404,-511.6584C151.5086,-501.1004 169.3118,-481.4555 181.2318,-468.3024\"/>\n",
       "<polygon fill=\"#000000\" stroke=\"#000000\" points=\"183.948,-470.5173 188.0698,-460.7571 178.7611,-465.8166 183.948,-470.5173\"/>\n",
       "<text text-anchor=\"middle\" x=\"173.7871\" y=\"-482.8\" font-family=\"Times,serif\" font-size=\"14.00\" fill=\"#000000\">2</text>\n",
       "</g>\n",
       "<!-- (5, 0) -->\n",
       "<g id=\"node6\" class=\"node\">\n",
       "<title>(5, 0)</title>\n",
       "<text text-anchor=\"middle\" x=\"135.2871\" y=\"-386.8\" font-family=\"Times,serif\" font-size=\"14.00\" fill=\"#000000\">&lt;member&gt; </text>\n",
       "</g>\n",
       "<!-- (4, 1)&#45;&gt;(5, 0) -->\n",
       "<g id=\"edge5\" class=\"edge\">\n",
       "<title>(4, 1)&#45;&gt;(5, 0)</title>\n",
       "<path fill=\"none\" stroke=\"#000000\" d=\"M135.2871,-447.6584C135.2871,-438.2065 135.2871,-421.4718 135.2871,-408.632\"/>\n",
       "<polygon fill=\"#000000\" stroke=\"#000000\" points=\"138.7872,-408.256 135.2871,-398.256 131.7872,-408.256 138.7872,-408.256\"/>\n",
       "<text text-anchor=\"middle\" x=\"138.7871\" y=\"-418.8\" font-family=\"Times,serif\" font-size=\"14.00\" fill=\"#000000\">0</text>\n",
       "</g>\n",
       "<!-- (6, 0) -->\n",
       "<g id=\"node7\" class=\"node\">\n",
       "<title>(6, 0)</title>\n",
       "<text text-anchor=\"middle\" x=\"88.2871\" y=\"-322.8\" font-family=\"Times,serif\" font-size=\"14.00\" fill=\"#000000\">&lt;string&gt; </text>\n",
       "</g>\n",
       "<!-- (5, 0)&#45;&gt;(6, 0) -->\n",
       "<g id=\"edge6\" class=\"edge\">\n",
       "<title>(5, 0)&#45;&gt;(6, 0)</title>\n",
       "<path fill=\"none\" stroke=\"#000000\" d=\"M129.8956,-383.6584C122.5294,-373.6278 109.14,-355.3954 99.5378,-342.3201\"/>\n",
       "<polygon fill=\"#000000\" stroke=\"#000000\" points=\"102.3559,-340.2444 93.6157,-334.256 96.7138,-344.3878 102.3559,-340.2444\"/>\n",
       "<text text-anchor=\"middle\" x=\"119.7871\" y=\"-354.8\" font-family=\"Times,serif\" font-size=\"14.00\" fill=\"#000000\">0</text>\n",
       "</g>\n",
       "<!-- (19, 1) -->\n",
       "<g id=\"node20\" class=\"node\">\n",
       "<title>(19, 1)</title>\n",
       "<text text-anchor=\"middle\" x=\"135.2871\" y=\"-322.8\" font-family=\"Times,serif\" font-size=\"14.00\" fill=\"#000000\">: </text>\n",
       "</g>\n",
       "<!-- (5, 0)&#45;&gt;(19, 1) -->\n",
       "<g id=\"edge19\" class=\"edge\">\n",
       "<title>(5, 0)&#45;&gt;(19, 1)</title>\n",
       "<path fill=\"none\" stroke=\"#000000\" d=\"M135.2871,-383.6584C135.2871,-374.2065 135.2871,-357.4718 135.2871,-344.632\"/>\n",
       "<polygon fill=\"#000000\" stroke=\"#000000\" points=\"138.7872,-344.256 135.2871,-334.256 131.7872,-344.256 138.7872,-344.256\"/>\n",
       "<text text-anchor=\"middle\" x=\"138.7871\" y=\"-354.8\" font-family=\"Times,serif\" font-size=\"14.00\" fill=\"#000000\">1</text>\n",
       "</g>\n",
       "<!-- (20, 2) -->\n",
       "<g id=\"node21\" class=\"node\">\n",
       "<title>(20, 2)</title>\n",
       "<text text-anchor=\"middle\" x=\"188.2871\" y=\"-322.8\" font-family=\"Times,serif\" font-size=\"14.00\" fill=\"#000000\">&lt;element&gt; </text>\n",
       "</g>\n",
       "<!-- (5, 0)&#45;&gt;(20, 2) -->\n",
       "<g id=\"edge20\" class=\"edge\">\n",
       "<title>(5, 0)&#45;&gt;(20, 2)</title>\n",
       "<path fill=\"none\" stroke=\"#000000\" d=\"M141.3669,-383.6584C149.6735,-373.6278 164.7722,-355.3954 175.6002,-342.3201\"/>\n",
       "<polygon fill=\"#000000\" stroke=\"#000000\" points=\"178.5957,-344.1903 182.2782,-334.256 173.2044,-339.7256 178.5957,-344.1903\"/>\n",
       "<text text-anchor=\"middle\" x=\"170.7871\" y=\"-354.8\" font-family=\"Times,serif\" font-size=\"14.00\" fill=\"#000000\">2</text>\n",
       "</g>\n",
       "<!-- (7, 0) -->\n",
       "<g id=\"node8\" class=\"node\">\n",
       "<title>(7, 0)</title>\n",
       "<text text-anchor=\"middle\" x=\"27.2871\" y=\"-258.8\" font-family=\"Times,serif\" font-size=\"14.00\" fill=\"#000000\">&quot; </text>\n",
       "</g>\n",
       "<!-- (6, 0)&#45;&gt;(7, 0) -->\n",
       "<g id=\"edge7\" class=\"edge\">\n",
       "<title>(6, 0)&#45;&gt;(7, 0)</title>\n",
       "<path fill=\"none\" stroke=\"#000000\" d=\"M81.2896,-319.6584C71.0212,-308.8849 51.7346,-288.6499 39.2062,-275.5053\"/>\n",
       "<polygon fill=\"#000000\" stroke=\"#000000\" points=\"41.5449,-272.886 32.1119,-268.0621 36.4778,-277.7156 41.5449,-272.886\"/>\n",
       "<text text-anchor=\"middle\" x=\"66.7871\" y=\"-290.8\" font-family=\"Times,serif\" font-size=\"14.00\" fill=\"#000000\">0</text>\n",
       "</g>\n",
       "<!-- (8, 1) -->\n",
       "<g id=\"node9\" class=\"node\">\n",
       "<title>(8, 1)</title>\n",
       "<text text-anchor=\"middle\" x=\"88.2871\" y=\"-258.8\" font-family=\"Times,serif\" font-size=\"14.00\" fill=\"#000000\">&lt;characters&gt; </text>\n",
       "</g>\n",
       "<!-- (6, 0)&#45;&gt;(8, 1) -->\n",
       "<g id=\"edge8\" class=\"edge\">\n",
       "<title>(6, 0)&#45;&gt;(8, 1)</title>\n",
       "<path fill=\"none\" stroke=\"#000000\" d=\"M88.2871,-319.6584C88.2871,-310.2065 88.2871,-293.4718 88.2871,-280.632\"/>\n",
       "<polygon fill=\"#000000\" stroke=\"#000000\" points=\"91.7872,-280.256 88.2871,-270.256 84.7872,-280.256 91.7872,-280.256\"/>\n",
       "<text text-anchor=\"middle\" x=\"91.7871\" y=\"-290.8\" font-family=\"Times,serif\" font-size=\"14.00\" fill=\"#000000\">1</text>\n",
       "</g>\n",
       "<!-- (18, 2) -->\n",
       "<g id=\"node19\" class=\"node\">\n",
       "<title>(18, 2)</title>\n",
       "<text text-anchor=\"middle\" x=\"149.2871\" y=\"-258.8\" font-family=\"Times,serif\" font-size=\"14.00\" fill=\"#000000\">&quot; </text>\n",
       "</g>\n",
       "<!-- (6, 0)&#45;&gt;(18, 2) -->\n",
       "<g id=\"edge18\" class=\"edge\">\n",
       "<title>(6, 0)&#45;&gt;(18, 2)</title>\n",
       "<path fill=\"none\" stroke=\"#000000\" d=\"M95.2846,-319.6584C105.5531,-308.8849 124.8396,-288.6499 137.368,-275.5053\"/>\n",
       "<polygon fill=\"#000000\" stroke=\"#000000\" points=\"140.0965,-277.7156 144.4623,-268.0621 135.0294,-272.886 140.0965,-277.7156\"/>\n",
       "<text text-anchor=\"middle\" x=\"127.7871\" y=\"-290.8\" font-family=\"Times,serif\" font-size=\"14.00\" fill=\"#000000\">2</text>\n",
       "</g>\n",
       "<!-- (9, 0) -->\n",
       "<g id=\"node10\" class=\"node\">\n",
       "<title>(9, 0)</title>\n",
       "<text text-anchor=\"middle\" x=\"35.2871\" y=\"-194.8\" font-family=\"Times,serif\" font-size=\"14.00\" fill=\"#000000\">&lt;character&gt; </text>\n",
       "</g>\n",
       "<!-- (8, 1)&#45;&gt;(9, 0) -->\n",
       "<g id=\"edge9\" class=\"edge\">\n",
       "<title>(8, 1)&#45;&gt;(9, 0)</title>\n",
       "<path fill=\"none\" stroke=\"#000000\" d=\"M82.2073,-255.6584C73.9007,-245.6278 58.802,-227.3954 47.974,-214.3201\"/>\n",
       "<polygon fill=\"#000000\" stroke=\"#000000\" points=\"50.3698,-211.7256 41.296,-206.256 44.9785,-216.1903 50.3698,-211.7256\"/>\n",
       "<text text-anchor=\"middle\" x=\"70.7871\" y=\"-226.8\" font-family=\"Times,serif\" font-size=\"14.00\" fill=\"#000000\">0</text>\n",
       "</g>\n",
       "<!-- (11, 1) -->\n",
       "<g id=\"node12\" class=\"node\">\n",
       "<title>(11, 1)</title>\n",
       "<text text-anchor=\"middle\" x=\"126.2871\" y=\"-194.8\" font-family=\"Times,serif\" font-size=\"14.00\" fill=\"#000000\">&lt;characters&gt; </text>\n",
       "</g>\n",
       "<!-- (8, 1)&#45;&gt;(11, 1) -->\n",
       "<g id=\"edge11\" class=\"edge\">\n",
       "<title>(8, 1)&#45;&gt;(11, 1)</title>\n",
       "<path fill=\"none\" stroke=\"#000000\" d=\"M92.6462,-255.6584C98.4873,-245.8207 109.0128,-228.0936 116.7396,-215.08\"/>\n",
       "<polygon fill=\"#000000\" stroke=\"#000000\" points=\"119.8829,-216.6415 121.9789,-206.256 113.8639,-213.0677 119.8829,-216.6415\"/>\n",
       "<text text-anchor=\"middle\" x=\"114.7871\" y=\"-226.8\" font-family=\"Times,serif\" font-size=\"14.00\" fill=\"#000000\">1</text>\n",
       "</g>\n",
       "<!-- (10, 0) -->\n",
       "<g id=\"node11\" class=\"node\">\n",
       "<title>(10, 0)</title>\n",
       "<text text-anchor=\"middle\" x=\"35.2871\" y=\"-130.8\" font-family=\"Times,serif\" font-size=\"14.00\" fill=\"#000000\">a </text>\n",
       "</g>\n",
       "<!-- (9, 0)&#45;&gt;(10, 0) -->\n",
       "<g id=\"edge10\" class=\"edge\">\n",
       "<title>(9, 0)&#45;&gt;(10, 0)</title>\n",
       "<path fill=\"none\" stroke=\"#000000\" d=\"M35.2871,-191.6584C35.2871,-182.2065 35.2871,-165.4718 35.2871,-152.632\"/>\n",
       "<polygon fill=\"#000000\" stroke=\"#000000\" points=\"38.7872,-152.256 35.2871,-142.256 31.7872,-152.256 38.7872,-152.256\"/>\n",
       "<text text-anchor=\"middle\" x=\"38.7871\" y=\"-162.8\" font-family=\"Times,serif\" font-size=\"14.00\" fill=\"#000000\">0</text>\n",
       "</g>\n",
       "<!-- (12, 0) -->\n",
       "<g id=\"node13\" class=\"node\">\n",
       "<title>(12, 0)</title>\n",
       "<text text-anchor=\"middle\" x=\"94.2871\" y=\"-130.8\" font-family=\"Times,serif\" font-size=\"14.00\" fill=\"#000000\">&lt;character&gt; </text>\n",
       "</g>\n",
       "<!-- (11, 1)&#45;&gt;(12, 0) -->\n",
       "<g id=\"edge12\" class=\"edge\">\n",
       "<title>(11, 1)&#45;&gt;(12, 0)</title>\n",
       "<path fill=\"none\" stroke=\"#000000\" d=\"M122.6163,-191.6584C117.7457,-181.9171 109.0073,-164.4404 102.5192,-151.4641\"/>\n",
       "<polygon fill=\"#000000\" stroke=\"#000000\" points=\"105.5178,-149.635 97.9151,-142.256 99.2568,-152.7655 105.5178,-149.635\"/>\n",
       "<text text-anchor=\"middle\" x=\"116.7871\" y=\"-162.8\" font-family=\"Times,serif\" font-size=\"14.00\" fill=\"#000000\">0</text>\n",
       "</g>\n",
       "<!-- (14, 1) -->\n",
       "<g id=\"node15\" class=\"node\">\n",
       "<title>(14, 1)</title>\n",
       "<text text-anchor=\"middle\" x=\"185.2871\" y=\"-130.8\" font-family=\"Times,serif\" font-size=\"14.00\" fill=\"#000000\">&lt;characters&gt; </text>\n",
       "</g>\n",
       "<!-- (11, 1)&#45;&gt;(14, 1) -->\n",
       "<g id=\"edge14\" class=\"edge\">\n",
       "<title>(11, 1)&#45;&gt;(14, 1)</title>\n",
       "<path fill=\"none\" stroke=\"#000000\" d=\"M133.0552,-191.6584C142.3911,-181.5313 159.434,-163.044 171.5103,-149.9443\"/>\n",
       "<polygon fill=\"#000000\" stroke=\"#000000\" points=\"174.3933,-151.9808 178.598,-142.256 169.2466,-147.2361 174.3933,-151.9808\"/>\n",
       "<text text-anchor=\"middle\" x=\"164.7871\" y=\"-162.8\" font-family=\"Times,serif\" font-size=\"14.00\" fill=\"#000000\">1</text>\n",
       "</g>\n",
       "<!-- (13, 0) -->\n",
       "<g id=\"node14\" class=\"node\">\n",
       "<title>(13, 0)</title>\n",
       "<text text-anchor=\"middle\" x=\"94.2871\" y=\"-66.8\" font-family=\"Times,serif\" font-size=\"14.00\" fill=\"#000000\">b </text>\n",
       "</g>\n",
       "<!-- (12, 0)&#45;&gt;(13, 0) -->\n",
       "<g id=\"edge13\" class=\"edge\">\n",
       "<title>(12, 0)&#45;&gt;(13, 0)</title>\n",
       "<path fill=\"none\" stroke=\"#000000\" d=\"M94.2871,-127.6584C94.2871,-118.2065 94.2871,-101.4718 94.2871,-88.632\"/>\n",
       "<polygon fill=\"#000000\" stroke=\"#000000\" points=\"97.7872,-88.256 94.2871,-78.256 90.7872,-88.256 97.7872,-88.256\"/>\n",
       "<text text-anchor=\"middle\" x=\"97.7871\" y=\"-98.8\" font-family=\"Times,serif\" font-size=\"14.00\" fill=\"#000000\">0</text>\n",
       "</g>\n",
       "<!-- (15, 0) -->\n",
       "<g id=\"node16\" class=\"node\">\n",
       "<title>(15, 0)</title>\n",
       "<text text-anchor=\"middle\" x=\"169.2871\" y=\"-66.8\" font-family=\"Times,serif\" font-size=\"14.00\" fill=\"#000000\">&lt;character&gt; </text>\n",
       "</g>\n",
       "<!-- (14, 1)&#45;&gt;(15, 0) -->\n",
       "<g id=\"edge15\" class=\"edge\">\n",
       "<title>(14, 1)&#45;&gt;(15, 0)</title>\n",
       "<path fill=\"none\" stroke=\"#000000\" d=\"M183.4517,-127.6584C181.0646,-118.11 176.8195,-101.1295 173.5972,-88.2402\"/>\n",
       "<polygon fill=\"#000000\" stroke=\"#000000\" points=\"176.922,-87.1085 171.1011,-78.256 170.131,-88.8063 176.922,-87.1085\"/>\n",
       "<text text-anchor=\"middle\" x=\"182.7871\" y=\"-98.8\" font-family=\"Times,serif\" font-size=\"14.00\" fill=\"#000000\">0</text>\n",
       "</g>\n",
       "<!-- (17, 1) -->\n",
       "<g id=\"node18\" class=\"node\">\n",
       "<title>(17, 1)</title>\n",
       "<text text-anchor=\"middle\" x=\"260.2871\" y=\"-66.8\" font-family=\"Times,serif\" font-size=\"14.00\" fill=\"#000000\">&lt;characters&gt; </text>\n",
       "</g>\n",
       "<!-- (14, 1)&#45;&gt;(17, 1) -->\n",
       "<g id=\"edge17\" class=\"edge\">\n",
       "<title>(14, 1)&#45;&gt;(17, 1)</title>\n",
       "<path fill=\"none\" stroke=\"#000000\" d=\"M193.6,-127.9063C205.6996,-117.5814 228.4085,-98.2031 243.9336,-84.955\"/>\n",
       "<polygon fill=\"#000000\" stroke=\"#000000\" points=\"246.3715,-87.4758 251.7065,-78.3221 241.8277,-82.1509 246.3715,-87.4758\"/>\n",
       "<text text-anchor=\"middle\" x=\"233.7871\" y=\"-98.8\" font-family=\"Times,serif\" font-size=\"14.00\" fill=\"#000000\">1</text>\n",
       "</g>\n",
       "<!-- (16, 0) -->\n",
       "<g id=\"node17\" class=\"node\">\n",
       "<title>(16, 0)</title>\n",
       "<text text-anchor=\"middle\" x=\"169.2871\" y=\"-2.8\" font-family=\"Times,serif\" font-size=\"14.00\" fill=\"#000000\">c </text>\n",
       "</g>\n",
       "<!-- (15, 0)&#45;&gt;(16, 0) -->\n",
       "<g id=\"edge16\" class=\"edge\">\n",
       "<title>(15, 0)&#45;&gt;(16, 0)</title>\n",
       "<path fill=\"none\" stroke=\"#000000\" d=\"M169.2871,-63.6584C169.2871,-54.2065 169.2871,-37.4718 169.2871,-24.632\"/>\n",
       "<polygon fill=\"#000000\" stroke=\"#000000\" points=\"172.7872,-24.256 169.2871,-14.256 165.7872,-24.256 172.7872,-24.256\"/>\n",
       "<text text-anchor=\"middle\" x=\"172.7871\" y=\"-34.8\" font-family=\"Times,serif\" font-size=\"14.00\" fill=\"#000000\">0</text>\n",
       "</g>\n",
       "<!-- (21, 0) -->\n",
       "<g id=\"node22\" class=\"node\">\n",
       "<title>(21, 0)</title>\n",
       "<text text-anchor=\"middle\" x=\"188.2871\" y=\"-258.8\" font-family=\"Times,serif\" font-size=\"14.00\" fill=\"#000000\">null </text>\n",
       "</g>\n",
       "<!-- (20, 2)&#45;&gt;(21, 0) -->\n",
       "<g id=\"edge21\" class=\"edge\">\n",
       "<title>(20, 2)&#45;&gt;(21, 0)</title>\n",
       "<path fill=\"none\" stroke=\"#000000\" d=\"M188.2871,-319.6584C188.2871,-310.2065 188.2871,-293.4718 188.2871,-280.632\"/>\n",
       "<polygon fill=\"#000000\" stroke=\"#000000\" points=\"191.7872,-280.256 188.2871,-270.256 184.7872,-280.256 191.7872,-280.256\"/>\n",
       "<text text-anchor=\"middle\" x=\"191.7871\" y=\"-290.8\" font-family=\"Times,serif\" font-size=\"14.00\" fill=\"#000000\">0</text>\n",
       "</g>\n",
       "</g>\n",
       "</svg>\n"
      ],
      "text/plain": [
       "<graphviz.dot.Digraph at 0x1152b8410>"
      ]
     },
     "execution_count": 526,
     "metadata": {},
     "output_type": "execute_result"
    }
   ],
   "source": [
    "display_tree(v)"
   ]
  },
  {
   "cell_type": "code",
   "execution_count": 527,
   "metadata": {},
   "outputs": [
    {
     "data": {
      "image/svg+xml": [
       "<?xml version=\"1.0\" encoding=\"UTF-8\" standalone=\"no\"?>\n",
       "<!DOCTYPE svg PUBLIC \"-//W3C//DTD SVG 1.1//EN\"\n",
       " \"http://www.w3.org/Graphics/SVG/1.1/DTD/svg11.dtd\">\n",
       "<!-- Generated by graphviz version 2.40.1 (20161225.0304)\n",
       " -->\n",
       "<!-- Title: %3 Pages: 1 -->\n",
       "<svg width=\"306pt\" height=\"342pt\"\n",
       " viewBox=\"0.00 0.00 306.30 342.00\" xmlns=\"http://www.w3.org/2000/svg\" xmlns:xlink=\"http://www.w3.org/1999/xlink\">\n",
       "<g id=\"graph0\" class=\"graph\" transform=\"scale(1 1) rotate(0) translate(4 338)\">\n",
       "<title>%3</title>\n",
       "<polygon fill=\"#ffffff\" stroke=\"transparent\" points=\"-4,4 -4,-338 302.2983,-338 302.2983,4 -4,4\"/>\n",
       "<!-- (0, 0) -->\n",
       "<g id=\"node1\" class=\"node\">\n",
       "<title>(0, 0)</title>\n",
       "<text text-anchor=\"middle\" x=\"87.2871\" y=\"-322.8\" font-family=\"Times,serif\" font-size=\"14.00\" fill=\"#000000\">&lt;string&gt; </text>\n",
       "</g>\n",
       "<!-- (1, 0) -->\n",
       "<g id=\"node2\" class=\"node\">\n",
       "<title>(1, 0)</title>\n",
       "<text text-anchor=\"middle\" x=\"26.2871\" y=\"-258.8\" font-family=\"Times,serif\" font-size=\"14.00\" fill=\"#000000\">&quot; </text>\n",
       "</g>\n",
       "<!-- (0, 0)&#45;&gt;(1, 0) -->\n",
       "<g id=\"edge1\" class=\"edge\">\n",
       "<title>(0, 0)&#45;&gt;(1, 0)</title>\n",
       "<path fill=\"none\" stroke=\"#000000\" d=\"M80.2896,-319.6584C70.0212,-308.8849 50.7346,-288.6499 38.2062,-275.5053\"/>\n",
       "<polygon fill=\"#000000\" stroke=\"#000000\" points=\"40.5449,-272.886 31.1119,-268.0621 35.4778,-277.7156 40.5449,-272.886\"/>\n",
       "<text text-anchor=\"middle\" x=\"65.7871\" y=\"-290.8\" font-family=\"Times,serif\" font-size=\"14.00\" fill=\"#000000\">0</text>\n",
       "</g>\n",
       "<!-- (2, 1) -->\n",
       "<g id=\"node3\" class=\"node\">\n",
       "<title>(2, 1)</title>\n",
       "<text text-anchor=\"middle\" x=\"87.2871\" y=\"-258.8\" font-family=\"Times,serif\" font-size=\"14.00\" fill=\"#000000\">&lt;characters&gt; </text>\n",
       "</g>\n",
       "<!-- (0, 0)&#45;&gt;(2, 1) -->\n",
       "<g id=\"edge2\" class=\"edge\">\n",
       "<title>(0, 0)&#45;&gt;(2, 1)</title>\n",
       "<path fill=\"none\" stroke=\"#000000\" d=\"M87.2871,-319.6584C87.2871,-310.2065 87.2871,-293.4718 87.2871,-280.632\"/>\n",
       "<polygon fill=\"#000000\" stroke=\"#000000\" points=\"90.7872,-280.256 87.2871,-270.256 83.7872,-280.256 90.7872,-280.256\"/>\n",
       "<text text-anchor=\"middle\" x=\"90.7871\" y=\"-290.8\" font-family=\"Times,serif\" font-size=\"14.00\" fill=\"#000000\">1</text>\n",
       "</g>\n",
       "<!-- (12, 2) -->\n",
       "<g id=\"node13\" class=\"node\">\n",
       "<title>(12, 2)</title>\n",
       "<text text-anchor=\"middle\" x=\"148.2871\" y=\"-258.8\" font-family=\"Times,serif\" font-size=\"14.00\" fill=\"#000000\">&quot; </text>\n",
       "</g>\n",
       "<!-- (0, 0)&#45;&gt;(12, 2) -->\n",
       "<g id=\"edge12\" class=\"edge\">\n",
       "<title>(0, 0)&#45;&gt;(12, 2)</title>\n",
       "<path fill=\"none\" stroke=\"#000000\" d=\"M94.2846,-319.6584C104.5531,-308.8849 123.8396,-288.6499 136.368,-275.5053\"/>\n",
       "<polygon fill=\"#000000\" stroke=\"#000000\" points=\"139.0965,-277.7156 143.4623,-268.0621 134.0294,-272.886 139.0965,-277.7156\"/>\n",
       "<text text-anchor=\"middle\" x=\"126.7871\" y=\"-290.8\" font-family=\"Times,serif\" font-size=\"14.00\" fill=\"#000000\">2</text>\n",
       "</g>\n",
       "<!-- (3, 0) -->\n",
       "<g id=\"node4\" class=\"node\">\n",
       "<title>(3, 0)</title>\n",
       "<text text-anchor=\"middle\" x=\"35.2871\" y=\"-194.8\" font-family=\"Times,serif\" font-size=\"14.00\" fill=\"#000000\">&lt;character&gt; </text>\n",
       "</g>\n",
       "<!-- (2, 1)&#45;&gt;(3, 0) -->\n",
       "<g id=\"edge3\" class=\"edge\">\n",
       "<title>(2, 1)&#45;&gt;(3, 0)</title>\n",
       "<path fill=\"none\" stroke=\"#000000\" d=\"M81.322,-255.6584C73.1722,-245.6278 58.3584,-227.3954 47.7347,-214.3201\"/>\n",
       "<polygon fill=\"#000000\" stroke=\"#000000\" points=\"50.205,-211.8101 41.1826,-206.256 44.7722,-216.2242 50.205,-211.8101\"/>\n",
       "<text text-anchor=\"middle\" x=\"69.7871\" y=\"-226.8\" font-family=\"Times,serif\" font-size=\"14.00\" fill=\"#000000\">0</text>\n",
       "</g>\n",
       "<!-- (5, 1) -->\n",
       "<g id=\"node6\" class=\"node\">\n",
       "<title>(5, 1)</title>\n",
       "<text text-anchor=\"middle\" x=\"126.2871\" y=\"-194.8\" font-family=\"Times,serif\" font-size=\"14.00\" fill=\"#000000\">&lt;characters&gt; </text>\n",
       "</g>\n",
       "<!-- (2, 1)&#45;&gt;(5, 1) -->\n",
       "<g id=\"edge5\" class=\"edge\">\n",
       "<title>(2, 1)&#45;&gt;(5, 1)</title>\n",
       "<path fill=\"none\" stroke=\"#000000\" d=\"M91.7609,-255.6584C97.7558,-245.8207 108.5582,-228.0936 116.4883,-215.08\"/>\n",
       "<polygon fill=\"#000000\" stroke=\"#000000\" points=\"119.6505,-216.6167 121.8655,-206.256 113.6729,-212.9741 119.6505,-216.6167\"/>\n",
       "<text text-anchor=\"middle\" x=\"113.7871\" y=\"-226.8\" font-family=\"Times,serif\" font-size=\"14.00\" fill=\"#000000\">1</text>\n",
       "</g>\n",
       "<!-- (4, 0) -->\n",
       "<g id=\"node5\" class=\"node\">\n",
       "<title>(4, 0)</title>\n",
       "<text text-anchor=\"middle\" x=\"35.2871\" y=\"-130.8\" font-family=\"Times,serif\" font-size=\"14.00\" fill=\"#000000\">a </text>\n",
       "</g>\n",
       "<!-- (3, 0)&#45;&gt;(4, 0) -->\n",
       "<g id=\"edge4\" class=\"edge\">\n",
       "<title>(3, 0)&#45;&gt;(4, 0)</title>\n",
       "<path fill=\"none\" stroke=\"#000000\" d=\"M35.2871,-191.6584C35.2871,-182.2065 35.2871,-165.4718 35.2871,-152.632\"/>\n",
       "<polygon fill=\"#000000\" stroke=\"#000000\" points=\"38.7872,-152.256 35.2871,-142.256 31.7872,-152.256 38.7872,-152.256\"/>\n",
       "<text text-anchor=\"middle\" x=\"38.7871\" y=\"-162.8\" font-family=\"Times,serif\" font-size=\"14.00\" fill=\"#000000\">0</text>\n",
       "</g>\n",
       "<!-- (6, 0) -->\n",
       "<g id=\"node7\" class=\"node\">\n",
       "<title>(6, 0)</title>\n",
       "<text text-anchor=\"middle\" x=\"94.2871\" y=\"-130.8\" font-family=\"Times,serif\" font-size=\"14.00\" fill=\"#000000\">&lt;character&gt; </text>\n",
       "</g>\n",
       "<!-- (5, 1)&#45;&gt;(6, 0) -->\n",
       "<g id=\"edge6\" class=\"edge\">\n",
       "<title>(5, 1)&#45;&gt;(6, 0)</title>\n",
       "<path fill=\"none\" stroke=\"#000000\" d=\"M122.6163,-191.6584C117.7457,-181.9171 109.0073,-164.4404 102.5192,-151.4641\"/>\n",
       "<polygon fill=\"#000000\" stroke=\"#000000\" points=\"105.5178,-149.635 97.9151,-142.256 99.2568,-152.7655 105.5178,-149.635\"/>\n",
       "<text text-anchor=\"middle\" x=\"116.7871\" y=\"-162.8\" font-family=\"Times,serif\" font-size=\"14.00\" fill=\"#000000\">0</text>\n",
       "</g>\n",
       "<!-- (8, 1) -->\n",
       "<g id=\"node9\" class=\"node\">\n",
       "<title>(8, 1)</title>\n",
       "<text text-anchor=\"middle\" x=\"185.2871\" y=\"-130.8\" font-family=\"Times,serif\" font-size=\"14.00\" fill=\"#000000\">&lt;characters&gt; </text>\n",
       "</g>\n",
       "<!-- (5, 1)&#45;&gt;(8, 1) -->\n",
       "<g id=\"edge8\" class=\"edge\">\n",
       "<title>(5, 1)&#45;&gt;(8, 1)</title>\n",
       "<path fill=\"none\" stroke=\"#000000\" d=\"M133.0552,-191.6584C142.3911,-181.5313 159.434,-163.044 171.5103,-149.9443\"/>\n",
       "<polygon fill=\"#000000\" stroke=\"#000000\" points=\"174.3933,-151.9808 178.598,-142.256 169.2466,-147.2361 174.3933,-151.9808\"/>\n",
       "<text text-anchor=\"middle\" x=\"164.7871\" y=\"-162.8\" font-family=\"Times,serif\" font-size=\"14.00\" fill=\"#000000\">1</text>\n",
       "</g>\n",
       "<!-- (7, 0) -->\n",
       "<g id=\"node8\" class=\"node\">\n",
       "<title>(7, 0)</title>\n",
       "<text text-anchor=\"middle\" x=\"94.2871\" y=\"-66.8\" font-family=\"Times,serif\" font-size=\"14.00\" fill=\"#000000\">b </text>\n",
       "</g>\n",
       "<!-- (6, 0)&#45;&gt;(7, 0) -->\n",
       "<g id=\"edge7\" class=\"edge\">\n",
       "<title>(6, 0)&#45;&gt;(7, 0)</title>\n",
       "<path fill=\"none\" stroke=\"#000000\" d=\"M94.2871,-127.6584C94.2871,-118.2065 94.2871,-101.4718 94.2871,-88.632\"/>\n",
       "<polygon fill=\"#000000\" stroke=\"#000000\" points=\"97.7872,-88.256 94.2871,-78.256 90.7872,-88.256 97.7872,-88.256\"/>\n",
       "<text text-anchor=\"middle\" x=\"97.7871\" y=\"-98.8\" font-family=\"Times,serif\" font-size=\"14.00\" fill=\"#000000\">0</text>\n",
       "</g>\n",
       "<!-- (9, 0) -->\n",
       "<g id=\"node10\" class=\"node\">\n",
       "<title>(9, 0)</title>\n",
       "<text text-anchor=\"middle\" x=\"169.2871\" y=\"-66.8\" font-family=\"Times,serif\" font-size=\"14.00\" fill=\"#000000\">&lt;character&gt; </text>\n",
       "</g>\n",
       "<!-- (8, 1)&#45;&gt;(9, 0) -->\n",
       "<g id=\"edge9\" class=\"edge\">\n",
       "<title>(8, 1)&#45;&gt;(9, 0)</title>\n",
       "<path fill=\"none\" stroke=\"#000000\" d=\"M183.4517,-127.6584C181.0646,-118.11 176.8195,-101.1295 173.5972,-88.2402\"/>\n",
       "<polygon fill=\"#000000\" stroke=\"#000000\" points=\"176.922,-87.1085 171.1011,-78.256 170.131,-88.8063 176.922,-87.1085\"/>\n",
       "<text text-anchor=\"middle\" x=\"182.7871\" y=\"-98.8\" font-family=\"Times,serif\" font-size=\"14.00\" fill=\"#000000\">0</text>\n",
       "</g>\n",
       "<!-- (11, 1) -->\n",
       "<g id=\"node12\" class=\"node\">\n",
       "<title>(11, 1)</title>\n",
       "<text text-anchor=\"middle\" x=\"260.2871\" y=\"-66.8\" font-family=\"Times,serif\" font-size=\"14.00\" fill=\"#000000\">&lt;characters&gt; </text>\n",
       "</g>\n",
       "<!-- (8, 1)&#45;&gt;(11, 1) -->\n",
       "<g id=\"edge11\" class=\"edge\">\n",
       "<title>(8, 1)&#45;&gt;(11, 1)</title>\n",
       "<path fill=\"none\" stroke=\"#000000\" d=\"M193.6,-127.9063C205.6996,-117.5814 228.4085,-98.2031 243.9336,-84.955\"/>\n",
       "<polygon fill=\"#000000\" stroke=\"#000000\" points=\"246.3715,-87.4758 251.7065,-78.3221 241.8277,-82.1509 246.3715,-87.4758\"/>\n",
       "<text text-anchor=\"middle\" x=\"233.7871\" y=\"-98.8\" font-family=\"Times,serif\" font-size=\"14.00\" fill=\"#000000\">1</text>\n",
       "</g>\n",
       "<!-- (10, 0) -->\n",
       "<g id=\"node11\" class=\"node\">\n",
       "<title>(10, 0)</title>\n",
       "<text text-anchor=\"middle\" x=\"169.2871\" y=\"-2.8\" font-family=\"Times,serif\" font-size=\"14.00\" fill=\"#000000\">c </text>\n",
       "</g>\n",
       "<!-- (9, 0)&#45;&gt;(10, 0) -->\n",
       "<g id=\"edge10\" class=\"edge\">\n",
       "<title>(9, 0)&#45;&gt;(10, 0)</title>\n",
       "<path fill=\"none\" stroke=\"#000000\" d=\"M169.2871,-63.6584C169.2871,-54.2065 169.2871,-37.4718 169.2871,-24.632\"/>\n",
       "<polygon fill=\"#000000\" stroke=\"#000000\" points=\"172.7872,-24.256 169.2871,-14.256 165.7872,-24.256 172.7872,-24.256\"/>\n",
       "<text text-anchor=\"middle\" x=\"172.7871\" y=\"-34.8\" font-family=\"Times,serif\" font-size=\"14.00\" fill=\"#000000\">0</text>\n",
       "</g>\n",
       "</g>\n",
       "</svg>\n"
      ],
      "text/plain": [
       "<graphviz.dot.Digraph at 0x1152b7590>"
      ]
     },
     "execution_count": 527,
     "metadata": {},
     "output_type": "execute_result"
    }
   ],
   "source": [
    "string_node_path = [0,0,1,0,0]\n",
    "display_tree(find_node(v, string_node_path))"
   ]
  },
  {
   "cell_type": "code",
   "execution_count": 528,
   "metadata": {},
   "outputs": [
    {
     "data": {
      "image/svg+xml": [
       "<?xml version=\"1.0\" encoding=\"UTF-8\" standalone=\"no\"?>\n",
       "<!DOCTYPE svg PUBLIC \"-//W3C//DTD SVG 1.1//EN\"\n",
       " \"http://www.w3.org/Graphics/SVG/1.1/DTD/svg11.dtd\">\n",
       "<!-- Generated by graphviz version 2.40.1 (20161225.0304)\n",
       " -->\n",
       "<!-- Title: %3 Pages: 1 -->\n",
       "<svg width=\"306pt\" height=\"406pt\"\n",
       " viewBox=\"0.00 0.00 306.30 406.00\" xmlns=\"http://www.w3.org/2000/svg\" xmlns:xlink=\"http://www.w3.org/1999/xlink\">\n",
       "<g id=\"graph0\" class=\"graph\" transform=\"scale(1 1) rotate(0) translate(4 402)\">\n",
       "<title>%3</title>\n",
       "<polygon fill=\"#ffffff\" stroke=\"transparent\" points=\"-4,4 -4,-402 302.2983,-402 302.2983,4 -4,4\"/>\n",
       "<!-- (0, 0) -->\n",
       "<g id=\"node1\" class=\"node\">\n",
       "<title>(0, 0)</title>\n",
       "<text text-anchor=\"middle\" x=\"135.2871\" y=\"-386.8\" font-family=\"Times,serif\" font-size=\"14.00\" fill=\"#000000\">&lt;member&gt; </text>\n",
       "</g>\n",
       "<!-- (1, 0) -->\n",
       "<g id=\"node2\" class=\"node\">\n",
       "<title>(1, 0)</title>\n",
       "<text text-anchor=\"middle\" x=\"88.2871\" y=\"-322.8\" font-family=\"Times,serif\" font-size=\"14.00\" fill=\"#000000\">&lt;string&gt; </text>\n",
       "</g>\n",
       "<!-- (0, 0)&#45;&gt;(1, 0) -->\n",
       "<g id=\"edge1\" class=\"edge\">\n",
       "<title>(0, 0)&#45;&gt;(1, 0)</title>\n",
       "<path fill=\"none\" stroke=\"#000000\" d=\"M129.8956,-383.6584C122.5294,-373.6278 109.14,-355.3954 99.5378,-342.3201\"/>\n",
       "<polygon fill=\"#000000\" stroke=\"#000000\" points=\"102.3559,-340.2444 93.6157,-334.256 96.7138,-344.3878 102.3559,-340.2444\"/>\n",
       "<text text-anchor=\"middle\" x=\"119.7871\" y=\"-354.8\" font-family=\"Times,serif\" font-size=\"14.00\" fill=\"#000000\">0</text>\n",
       "</g>\n",
       "<!-- (14, 1) -->\n",
       "<g id=\"node15\" class=\"node\">\n",
       "<title>(14, 1)</title>\n",
       "<text text-anchor=\"middle\" x=\"135.2871\" y=\"-322.8\" font-family=\"Times,serif\" font-size=\"14.00\" fill=\"#000000\">: </text>\n",
       "</g>\n",
       "<!-- (0, 0)&#45;&gt;(14, 1) -->\n",
       "<g id=\"edge14\" class=\"edge\">\n",
       "<title>(0, 0)&#45;&gt;(14, 1)</title>\n",
       "<path fill=\"none\" stroke=\"#000000\" d=\"M135.2871,-383.6584C135.2871,-374.2065 135.2871,-357.4718 135.2871,-344.632\"/>\n",
       "<polygon fill=\"#000000\" stroke=\"#000000\" points=\"138.7872,-344.256 135.2871,-334.256 131.7872,-344.256 138.7872,-344.256\"/>\n",
       "<text text-anchor=\"middle\" x=\"138.7871\" y=\"-354.8\" font-family=\"Times,serif\" font-size=\"14.00\" fill=\"#000000\">1</text>\n",
       "</g>\n",
       "<!-- (15, 2) -->\n",
       "<g id=\"node16\" class=\"node\">\n",
       "<title>(15, 2)</title>\n",
       "<text text-anchor=\"middle\" x=\"188.2871\" y=\"-322.8\" font-family=\"Times,serif\" font-size=\"14.00\" fill=\"#000000\">&lt;element&gt; </text>\n",
       "</g>\n",
       "<!-- (0, 0)&#45;&gt;(15, 2) -->\n",
       "<g id=\"edge15\" class=\"edge\">\n",
       "<title>(0, 0)&#45;&gt;(15, 2)</title>\n",
       "<path fill=\"none\" stroke=\"#000000\" d=\"M141.3669,-383.6584C149.6735,-373.6278 164.7722,-355.3954 175.6002,-342.3201\"/>\n",
       "<polygon fill=\"#000000\" stroke=\"#000000\" points=\"178.5957,-344.1903 182.2782,-334.256 173.2044,-339.7256 178.5957,-344.1903\"/>\n",
       "<text text-anchor=\"middle\" x=\"170.7871\" y=\"-354.8\" font-family=\"Times,serif\" font-size=\"14.00\" fill=\"#000000\">2</text>\n",
       "</g>\n",
       "<!-- (2, 0) -->\n",
       "<g id=\"node3\" class=\"node\">\n",
       "<title>(2, 0)</title>\n",
       "<text text-anchor=\"middle\" x=\"27.2871\" y=\"-258.8\" font-family=\"Times,serif\" font-size=\"14.00\" fill=\"#000000\">&quot; </text>\n",
       "</g>\n",
       "<!-- (1, 0)&#45;&gt;(2, 0) -->\n",
       "<g id=\"edge2\" class=\"edge\">\n",
       "<title>(1, 0)&#45;&gt;(2, 0)</title>\n",
       "<path fill=\"none\" stroke=\"#000000\" d=\"M81.2896,-319.6584C71.0212,-308.8849 51.7346,-288.6499 39.2062,-275.5053\"/>\n",
       "<polygon fill=\"#000000\" stroke=\"#000000\" points=\"41.5449,-272.886 32.1119,-268.0621 36.4778,-277.7156 41.5449,-272.886\"/>\n",
       "<text text-anchor=\"middle\" x=\"66.7871\" y=\"-290.8\" font-family=\"Times,serif\" font-size=\"14.00\" fill=\"#000000\">0</text>\n",
       "</g>\n",
       "<!-- (3, 1) -->\n",
       "<g id=\"node4\" class=\"node\">\n",
       "<title>(3, 1)</title>\n",
       "<text text-anchor=\"middle\" x=\"88.2871\" y=\"-258.8\" font-family=\"Times,serif\" font-size=\"14.00\" fill=\"#000000\">&lt;characters&gt; </text>\n",
       "</g>\n",
       "<!-- (1, 0)&#45;&gt;(3, 1) -->\n",
       "<g id=\"edge3\" class=\"edge\">\n",
       "<title>(1, 0)&#45;&gt;(3, 1)</title>\n",
       "<path fill=\"none\" stroke=\"#000000\" d=\"M88.2871,-319.6584C88.2871,-310.2065 88.2871,-293.4718 88.2871,-280.632\"/>\n",
       "<polygon fill=\"#000000\" stroke=\"#000000\" points=\"91.7872,-280.256 88.2871,-270.256 84.7872,-280.256 91.7872,-280.256\"/>\n",
       "<text text-anchor=\"middle\" x=\"91.7871\" y=\"-290.8\" font-family=\"Times,serif\" font-size=\"14.00\" fill=\"#000000\">1</text>\n",
       "</g>\n",
       "<!-- (13, 2) -->\n",
       "<g id=\"node14\" class=\"node\">\n",
       "<title>(13, 2)</title>\n",
       "<text text-anchor=\"middle\" x=\"149.2871\" y=\"-258.8\" font-family=\"Times,serif\" font-size=\"14.00\" fill=\"#000000\">&quot; </text>\n",
       "</g>\n",
       "<!-- (1, 0)&#45;&gt;(13, 2) -->\n",
       "<g id=\"edge13\" class=\"edge\">\n",
       "<title>(1, 0)&#45;&gt;(13, 2)</title>\n",
       "<path fill=\"none\" stroke=\"#000000\" d=\"M95.2846,-319.6584C105.5531,-308.8849 124.8396,-288.6499 137.368,-275.5053\"/>\n",
       "<polygon fill=\"#000000\" stroke=\"#000000\" points=\"140.0965,-277.7156 144.4623,-268.0621 135.0294,-272.886 140.0965,-277.7156\"/>\n",
       "<text text-anchor=\"middle\" x=\"127.7871\" y=\"-290.8\" font-family=\"Times,serif\" font-size=\"14.00\" fill=\"#000000\">2</text>\n",
       "</g>\n",
       "<!-- (4, 0) -->\n",
       "<g id=\"node5\" class=\"node\">\n",
       "<title>(4, 0)</title>\n",
       "<text text-anchor=\"middle\" x=\"35.2871\" y=\"-194.8\" font-family=\"Times,serif\" font-size=\"14.00\" fill=\"#000000\">&lt;character&gt; </text>\n",
       "</g>\n",
       "<!-- (3, 1)&#45;&gt;(4, 0) -->\n",
       "<g id=\"edge4\" class=\"edge\">\n",
       "<title>(3, 1)&#45;&gt;(4, 0)</title>\n",
       "<path fill=\"none\" stroke=\"#000000\" d=\"M82.2073,-255.6584C73.9007,-245.6278 58.802,-227.3954 47.974,-214.3201\"/>\n",
       "<polygon fill=\"#000000\" stroke=\"#000000\" points=\"50.3698,-211.7256 41.296,-206.256 44.9785,-216.1903 50.3698,-211.7256\"/>\n",
       "<text text-anchor=\"middle\" x=\"70.7871\" y=\"-226.8\" font-family=\"Times,serif\" font-size=\"14.00\" fill=\"#000000\">0</text>\n",
       "</g>\n",
       "<!-- (6, 1) -->\n",
       "<g id=\"node7\" class=\"node\">\n",
       "<title>(6, 1)</title>\n",
       "<text text-anchor=\"middle\" x=\"126.2871\" y=\"-194.8\" font-family=\"Times,serif\" font-size=\"14.00\" fill=\"#000000\">&lt;characters&gt; </text>\n",
       "</g>\n",
       "<!-- (3, 1)&#45;&gt;(6, 1) -->\n",
       "<g id=\"edge6\" class=\"edge\">\n",
       "<title>(3, 1)&#45;&gt;(6, 1)</title>\n",
       "<path fill=\"none\" stroke=\"#000000\" d=\"M92.6462,-255.6584C98.4873,-245.8207 109.0128,-228.0936 116.7396,-215.08\"/>\n",
       "<polygon fill=\"#000000\" stroke=\"#000000\" points=\"119.8829,-216.6415 121.9789,-206.256 113.8639,-213.0677 119.8829,-216.6415\"/>\n",
       "<text text-anchor=\"middle\" x=\"114.7871\" y=\"-226.8\" font-family=\"Times,serif\" font-size=\"14.00\" fill=\"#000000\">1</text>\n",
       "</g>\n",
       "<!-- (5, 0) -->\n",
       "<g id=\"node6\" class=\"node\">\n",
       "<title>(5, 0)</title>\n",
       "<text text-anchor=\"middle\" x=\"35.2871\" y=\"-130.8\" font-family=\"Times,serif\" font-size=\"14.00\" fill=\"#000000\">a </text>\n",
       "</g>\n",
       "<!-- (4, 0)&#45;&gt;(5, 0) -->\n",
       "<g id=\"edge5\" class=\"edge\">\n",
       "<title>(4, 0)&#45;&gt;(5, 0)</title>\n",
       "<path fill=\"none\" stroke=\"#000000\" d=\"M35.2871,-191.6584C35.2871,-182.2065 35.2871,-165.4718 35.2871,-152.632\"/>\n",
       "<polygon fill=\"#000000\" stroke=\"#000000\" points=\"38.7872,-152.256 35.2871,-142.256 31.7872,-152.256 38.7872,-152.256\"/>\n",
       "<text text-anchor=\"middle\" x=\"38.7871\" y=\"-162.8\" font-family=\"Times,serif\" font-size=\"14.00\" fill=\"#000000\">0</text>\n",
       "</g>\n",
       "<!-- (7, 0) -->\n",
       "<g id=\"node8\" class=\"node\">\n",
       "<title>(7, 0)</title>\n",
       "<text text-anchor=\"middle\" x=\"94.2871\" y=\"-130.8\" font-family=\"Times,serif\" font-size=\"14.00\" fill=\"#000000\">&lt;character&gt; </text>\n",
       "</g>\n",
       "<!-- (6, 1)&#45;&gt;(7, 0) -->\n",
       "<g id=\"edge7\" class=\"edge\">\n",
       "<title>(6, 1)&#45;&gt;(7, 0)</title>\n",
       "<path fill=\"none\" stroke=\"#000000\" d=\"M122.6163,-191.6584C117.7457,-181.9171 109.0073,-164.4404 102.5192,-151.4641\"/>\n",
       "<polygon fill=\"#000000\" stroke=\"#000000\" points=\"105.5178,-149.635 97.9151,-142.256 99.2568,-152.7655 105.5178,-149.635\"/>\n",
       "<text text-anchor=\"middle\" x=\"116.7871\" y=\"-162.8\" font-family=\"Times,serif\" font-size=\"14.00\" fill=\"#000000\">0</text>\n",
       "</g>\n",
       "<!-- (9, 1) -->\n",
       "<g id=\"node10\" class=\"node\">\n",
       "<title>(9, 1)</title>\n",
       "<text text-anchor=\"middle\" x=\"185.2871\" y=\"-130.8\" font-family=\"Times,serif\" font-size=\"14.00\" fill=\"#000000\">&lt;characters&gt; </text>\n",
       "</g>\n",
       "<!-- (6, 1)&#45;&gt;(9, 1) -->\n",
       "<g id=\"edge9\" class=\"edge\">\n",
       "<title>(6, 1)&#45;&gt;(9, 1)</title>\n",
       "<path fill=\"none\" stroke=\"#000000\" d=\"M133.0552,-191.6584C142.3911,-181.5313 159.434,-163.044 171.5103,-149.9443\"/>\n",
       "<polygon fill=\"#000000\" stroke=\"#000000\" points=\"174.3933,-151.9808 178.598,-142.256 169.2466,-147.2361 174.3933,-151.9808\"/>\n",
       "<text text-anchor=\"middle\" x=\"164.7871\" y=\"-162.8\" font-family=\"Times,serif\" font-size=\"14.00\" fill=\"#000000\">1</text>\n",
       "</g>\n",
       "<!-- (8, 0) -->\n",
       "<g id=\"node9\" class=\"node\">\n",
       "<title>(8, 0)</title>\n",
       "<text text-anchor=\"middle\" x=\"94.2871\" y=\"-66.8\" font-family=\"Times,serif\" font-size=\"14.00\" fill=\"#000000\">b </text>\n",
       "</g>\n",
       "<!-- (7, 0)&#45;&gt;(8, 0) -->\n",
       "<g id=\"edge8\" class=\"edge\">\n",
       "<title>(7, 0)&#45;&gt;(8, 0)</title>\n",
       "<path fill=\"none\" stroke=\"#000000\" d=\"M94.2871,-127.6584C94.2871,-118.2065 94.2871,-101.4718 94.2871,-88.632\"/>\n",
       "<polygon fill=\"#000000\" stroke=\"#000000\" points=\"97.7872,-88.256 94.2871,-78.256 90.7872,-88.256 97.7872,-88.256\"/>\n",
       "<text text-anchor=\"middle\" x=\"97.7871\" y=\"-98.8\" font-family=\"Times,serif\" font-size=\"14.00\" fill=\"#000000\">0</text>\n",
       "</g>\n",
       "<!-- (10, 0) -->\n",
       "<g id=\"node11\" class=\"node\">\n",
       "<title>(10, 0)</title>\n",
       "<text text-anchor=\"middle\" x=\"169.2871\" y=\"-66.8\" font-family=\"Times,serif\" font-size=\"14.00\" fill=\"#000000\">&lt;character&gt; </text>\n",
       "</g>\n",
       "<!-- (9, 1)&#45;&gt;(10, 0) -->\n",
       "<g id=\"edge10\" class=\"edge\">\n",
       "<title>(9, 1)&#45;&gt;(10, 0)</title>\n",
       "<path fill=\"none\" stroke=\"#000000\" d=\"M183.4517,-127.6584C181.0646,-118.11 176.8195,-101.1295 173.5972,-88.2402\"/>\n",
       "<polygon fill=\"#000000\" stroke=\"#000000\" points=\"176.922,-87.1085 171.1011,-78.256 170.131,-88.8063 176.922,-87.1085\"/>\n",
       "<text text-anchor=\"middle\" x=\"182.7871\" y=\"-98.8\" font-family=\"Times,serif\" font-size=\"14.00\" fill=\"#000000\">0</text>\n",
       "</g>\n",
       "<!-- (12, 1) -->\n",
       "<g id=\"node13\" class=\"node\">\n",
       "<title>(12, 1)</title>\n",
       "<text text-anchor=\"middle\" x=\"260.2871\" y=\"-66.8\" font-family=\"Times,serif\" font-size=\"14.00\" fill=\"#000000\">&lt;characters&gt; </text>\n",
       "</g>\n",
       "<!-- (9, 1)&#45;&gt;(12, 1) -->\n",
       "<g id=\"edge12\" class=\"edge\">\n",
       "<title>(9, 1)&#45;&gt;(12, 1)</title>\n",
       "<path fill=\"none\" stroke=\"#000000\" d=\"M193.6,-127.9063C205.6996,-117.5814 228.4085,-98.2031 243.9336,-84.955\"/>\n",
       "<polygon fill=\"#000000\" stroke=\"#000000\" points=\"246.3715,-87.4758 251.7065,-78.3221 241.8277,-82.1509 246.3715,-87.4758\"/>\n",
       "<text text-anchor=\"middle\" x=\"232.7871\" y=\"-98.8\" font-family=\"Times,serif\" font-size=\"14.00\" fill=\"#000000\">1</text>\n",
       "</g>\n",
       "<!-- (11, 0) -->\n",
       "<g id=\"node12\" class=\"node\">\n",
       "<title>(11, 0)</title>\n",
       "<text text-anchor=\"middle\" x=\"169.2871\" y=\"-2.8\" font-family=\"Times,serif\" font-size=\"14.00\" fill=\"#000000\">c </text>\n",
       "</g>\n",
       "<!-- (10, 0)&#45;&gt;(11, 0) -->\n",
       "<g id=\"edge11\" class=\"edge\">\n",
       "<title>(10, 0)&#45;&gt;(11, 0)</title>\n",
       "<path fill=\"none\" stroke=\"#000000\" d=\"M169.2871,-63.6584C169.2871,-54.2065 169.2871,-37.4718 169.2871,-24.632\"/>\n",
       "<polygon fill=\"#000000\" stroke=\"#000000\" points=\"172.7872,-24.256 169.2871,-14.256 165.7872,-24.256 172.7872,-24.256\"/>\n",
       "<text text-anchor=\"middle\" x=\"172.7871\" y=\"-34.8\" font-family=\"Times,serif\" font-size=\"14.00\" fill=\"#000000\">0</text>\n",
       "</g>\n",
       "<!-- (16, 0) -->\n",
       "<g id=\"node17\" class=\"node\">\n",
       "<title>(16, 0)</title>\n",
       "<text text-anchor=\"middle\" x=\"188.2871\" y=\"-258.8\" font-family=\"Times,serif\" font-size=\"14.00\" fill=\"#000000\">null </text>\n",
       "</g>\n",
       "<!-- (15, 2)&#45;&gt;(16, 0) -->\n",
       "<g id=\"edge16\" class=\"edge\">\n",
       "<title>(15, 2)&#45;&gt;(16, 0)</title>\n",
       "<path fill=\"none\" stroke=\"#000000\" d=\"M188.2871,-319.6584C188.2871,-310.2065 188.2871,-293.4718 188.2871,-280.632\"/>\n",
       "<polygon fill=\"#000000\" stroke=\"#000000\" points=\"191.7872,-280.256 188.2871,-270.256 184.7872,-280.256 191.7872,-280.256\"/>\n",
       "<text text-anchor=\"middle\" x=\"191.7871\" y=\"-290.8\" font-family=\"Times,serif\" font-size=\"14.00\" fill=\"#000000\">0</text>\n",
       "</g>\n",
       "</g>\n",
       "</svg>\n"
      ],
      "text/plain": [
       "<graphviz.dot.Digraph at 0x1152c3390>"
      ]
     },
     "execution_count": 528,
     "metadata": {},
     "output_type": "execute_result"
    }
   ],
   "source": [
    "display_tree(find_node(v, [0,0,1, 0]))"
   ]
  },
  {
   "cell_type": "code",
   "execution_count": 529,
   "metadata": {},
   "outputs": [
    {
     "data": {
      "text/plain": [
       "'{<string>:null}'"
      ]
     },
     "execution_count": 529,
     "metadata": {},
     "output_type": "execute_result"
    }
   ],
   "source": [
    "F_kv_null = mark_abstract_nodes(v, [string_node_path])\n",
    "Ta(F_kv_null)"
   ]
  },
  {
   "cell_type": "code",
   "execution_count": 530,
   "metadata": {},
   "outputs": [],
   "source": [
    "nn = find_node(F_kv_null, [0,0,1,0])"
   ]
  },
  {
   "cell_type": "code",
   "execution_count": 531,
   "metadata": {},
   "outputs": [
    {
     "data": {
      "text/plain": [
       "'<string>:null'"
      ]
     },
     "execution_count": 531,
     "metadata": {},
     "output_type": "execute_result"
    }
   ],
   "source": [
    "Ta(nn)"
   ]
  },
  {
   "cell_type": "code",
   "execution_count": 532,
   "metadata": {},
   "outputs": [],
   "source": [
    "Fkvn = nn # find_charecterizing_node(F_kv_null)"
   ]
  },
  {
   "cell_type": "code",
   "execution_count": 533,
   "metadata": {},
   "outputs": [
    {
     "data": {
      "text/plain": [
       "('<member>',\n",
       " [('<string>',\n",
       "   [('\"', [], {'abstract': False}),\n",
       "    ('<characters>',\n",
       "     [('<character>', [('a', [], {'abstract': False})], {'abstract': False}),\n",
       "      ('<characters>',\n",
       "       [('<character>', [('b', [], {'abstract': False})], {'abstract': False}),\n",
       "        ('<characters>',\n",
       "         [('<character>',\n",
       "           [('c', [], {'abstract': False})],\n",
       "           {'abstract': False}),\n",
       "          ('<characters>', [], {'abstract': False})],\n",
       "         {'abstract': False})],\n",
       "       {'abstract': False})],\n",
       "     {'abstract': False}),\n",
       "    ('\"', [], {'abstract': False})],\n",
       "   {'abstract': True}),\n",
       "  (':', [], {'abstract': False}),\n",
       "  ('<element>', [('null', [], {'abstract': False})], {'abstract': False})],\n",
       " {'abstract': False})"
      ]
     },
     "execution_count": 533,
     "metadata": {},
     "output_type": "execute_result"
    }
   ],
   "source": [
    "Fkvn"
   ]
  },
  {
   "cell_type": "code",
   "execution_count": 534,
   "metadata": {},
   "outputs": [
    {
     "name": "stdout",
     "output_type": "stream",
     "text": [
      "\n",
      "%\\resizebox{.99\\columnwidth}{.050\\totalheight}{\n",
      "\\Tree[.\\nonterm{member} \\absnonterm{string} \\textit{:} [.\\nonterm{element} \\textit{null} ] ]\n",
      "%}\n",
      "    \n"
     ]
    }
   ],
   "source": [
    "latex_abs_tree(Fkvn)"
   ]
  },
  {
   "cell_type": "code",
   "execution_count": 535,
   "metadata": {
    "scrolled": true
   },
   "outputs": [
    {
     "name": "stdout",
     "output_type": "stream",
     "text": [
      "<member LKVN_1> ::=\n",
      "|    <string> ':' <element LKVN_1>\n",
      "<element LKVN_1> ::=\n",
      "|    'null'\n",
      "2 2\n"
     ]
    }
   ],
   "source": [
    "Gs(faulty_node_to_pattern_grammar(Fkvn, 'KVN')[0])"
   ]
  },
  {
   "cell_type": "code",
   "execution_count": 536,
   "metadata": {},
   "outputs": [
    {
     "name": "stdout",
     "output_type": "stream",
     "text": [
      "<json>\n",
      "<element>\n",
      "<object>\n",
      "<members>\n",
      "<member>\n",
      "<array>\n",
      "<elements>\n"
     ]
    }
   ],
   "source": [
    "reachable_json = reachable_dict(JSON_GRAMMAR);\n",
    "\n",
    "for k in reachable_json:\n",
    "    if '<member>' in reachable_json[k]:\n",
    "        print(k)"
   ]
  },
  {
   "cell_type": "code",
   "execution_count": 537,
   "metadata": {},
   "outputs": [
    {
     "name": "stdout",
     "output_type": "stream",
     "text": [
      "<json>\n",
      "\t ['<element>'] [0]\n",
      "<element>\n",
      "\t ['<object>'] [0]\n",
      "\t ['<array>'] [0]\n",
      "\t ['<string>'] []\n",
      "\t ['<number>'] []\n",
      "\t ['true'] []\n",
      "\t ['false'] []\n",
      "\t ['null'] []\n",
      "<object>\n",
      "\t ['{', '<members>', '}'] [1]\n",
      "\t ['{}'] []\n",
      "<members>\n",
      "\t ['<member>'] [0]\n",
      "\t ['<member>', ',', '<members>'] [0, 2]\n",
      "<member>\n",
      "\t ['<string>', ':', '<element>'] [2]\n",
      "<array>\n",
      "\t ['[', '<elements>', ']'] [1]\n",
      "\t ['[]'] []\n",
      "<elements>\n",
      "\t ['<element>'] [0]\n",
      "\t ['<element>', ',', '<elements>'] [0, 2]\n",
      "<string>\n",
      "\t ['\"', '<characters>', '\"'] []\n",
      "<characters>\n",
      "\t [] []\n",
      "\t ['<character>', '<characters>'] []\n",
      "<character>\n",
      "\t ['a'] []\n",
      "\t ['b'] []\n",
      "\t ['c'] []\n",
      "<number>\n",
      "\t ['<digits>'] []\n",
      "<digits>\n",
      "\t ['<digit>'] []\n",
      "\t ['<digit>', '<digits>'] []\n",
      "<digit>\n",
      "\t ['0'] []\n",
      "\t ['1'] []\n",
      "\t ['2'] []\n",
      "\t ['3'] []\n",
      "\t ['4'] []\n",
      "\t ['5'] []\n",
      "\t ['6'] []\n",
      "\t ['7'] []\n",
      "\t ['8'] []\n",
      "\t ['9'] []\n"
     ]
    }
   ],
   "source": [
    "%%top\n",
    "for k in JSON_GRAMMAR:\n",
    "    print(k)\n",
    "    for rule in JSON_GRAMMAR[k]:\n",
    "        v = get_reachable_positions(rule, '<member>', reachable_json)\n",
    "        print('\\t', rule, v)"
   ]
  },
  {
   "cell_type": "code",
   "execution_count": 538,
   "metadata": {},
   "outputs": [
    {
     "name": "stdout",
     "output_type": "stream",
     "text": [
      "<json +FKVN> ::= <element +FKVN>\n",
      "\n",
      "<element +FKVN> ::= <object +FKVN>\n",
      "\\alt <array +FKVN>\n",
      "\n",
      "<object +FKVN> ::= `{' <members +FKVN> `}'\n",
      "\n",
      "<members +FKVN> ::= <member +FKVN>\n",
      "\\alt <member +FKVN> `,' <members>\n",
      "\\alt <member> `,' <members +FKVN>\n",
      "\n",
      "<member +FKVN> ::= <string> `:' <element +FKVN>\n",
      "\n",
      "<array +FKVN> ::= `[' <elements +FKVN> `]'\n",
      "\n",
      "<elements +FKVN> ::= <element +FKVN>\n",
      "\\alt <element +FKVN> `,' <elements>\n",
      "\\alt <element> `,' <elements +FKVN>\n",
      "\n",
      "<string +FKVN> ::= \n",
      "\n",
      "<characters +FKVN> ::= \n",
      "\n",
      "<character +FKVN> ::= \n",
      "\n",
      "<number +FKVN> ::= \n",
      "\n",
      "<digits +FKVN> ::= \n",
      "\n",
      "<digit +FKVN> ::= \n",
      "\n"
     ]
    }
   ],
   "source": [
    "%%top\n",
    "g = {}\n",
    "for key in JSON_GRAMMAR:\n",
    "    fk, rules = insert_atleast_one_fault_into_key(JSON_GRAMMAR, key, '<members>', 'KVN', reachable_json)\n",
    "    g[fk] = rules\n",
    "g_to_latex(g)"
   ]
  },
  {
   "cell_type": "code",
   "execution_count": 539,
   "metadata": {},
   "outputs": [],
   "source": [
    "Fkvn_grammar_, Fkvn_start = atleast_one_fault_grammar(JSON_GRAMMAR, JSON_START, Fkvn, 'KVN')"
   ]
  },
  {
   "cell_type": "code",
   "execution_count": 540,
   "metadata": {},
   "outputs": [
    {
     "name": "stdout",
     "output_type": "stream",
     "text": [
      "<json +FKVN> ::=\n",
      "|    <element +FKVN>\n",
      "<element +FKVN> ::=\n",
      "|    <array +FKVN>\n",
      "|    <object +FKVN>\n",
      "<array +FKVN> ::=\n",
      "|    '[' <elements +FKVN> ']'\n",
      "<object +FKVN> ::=\n",
      "|    '{' <members +FKVN> '}'\n",
      "<elements +FKVN> ::=\n",
      "|    <element +FKVN>\n",
      "|    <element +FKVN> ',' <elements>\n",
      "|    <element> ',' <elements +FKVN>\n",
      "<elements> ::=\n",
      "|    <element>\n",
      "|    <element> ',' <elements>\n",
      "<element> ::=\n",
      "|    <array>\n",
      "|    <number>\n",
      "|    <object>\n",
      "|    <string>\n",
      "|    'false'\n",
      "|    'null'\n",
      "|    'true'\n",
      "<array> ::=\n",
      "|    '[' <elements> ']'\n",
      "|    '[]'\n",
      "<number> ::=\n",
      "|    <digits>\n",
      "<object> ::=\n",
      "|    '{' <members> '}'\n",
      "|    '{}'\n",
      "<string> ::=\n",
      "|    '\"' <characters> '\"'\n",
      "<digits> ::=\n",
      "|    <digit>\n",
      "|    <digit> <digits>\n",
      "<digit> ::=\n",
      "|    '0'\n",
      "|    '1'\n",
      "|    '2'\n",
      "|    '3'\n",
      "|    '4'\n",
      "|    '5'\n",
      "|    '6'\n",
      "|    '7'\n",
      "|    '8'\n",
      "|    '9'\n",
      "<members> ::=\n",
      "|    <member>\n",
      "|    <member> ',' <members>\n",
      "<member> ::=\n",
      "|    <string> ':' <element>\n",
      "<characters> ::=\n",
      "|    \n",
      "|    <character> <characters>\n",
      "<character> ::=\n",
      "|    'a'\n",
      "|    'b'\n",
      "|    'c'\n",
      "<members +FKVN> ::=\n",
      "|    <member +FKVN>\n",
      "|    <member +FKVN> ',' <members>\n",
      "|    <member> ',' <members +FKVN>\n",
      "<member +FKVN> ::=\n",
      "|    <string> ':' <element +FKVN>\n",
      "|    <string> ':' <element LKVN_1>\n",
      "<element LKVN_1> ::=\n",
      "|    'null'\n",
      "20 49\n"
     ]
    },
    {
     "data": {
      "text/plain": [
       "'<json +FKVN>'"
      ]
     },
     "execution_count": 540,
     "metadata": {},
     "output_type": "execute_result"
    }
   ],
   "source": [
    "Gs(Fkvn_grammar_)\n",
    "Fkvn_start"
   ]
  },
  {
   "cell_type": "code",
   "execution_count": 541,
   "metadata": {},
   "outputs": [
    {
     "name": "stdout",
     "output_type": "stream",
     "text": [
      "<json +FKVN> ::= <element +FKVN>\n",
      "\n",
      "<element +FKVN> ::= <array +FKVN>\n",
      "\\alt <object +FKVN>\n",
      "\n",
      "<array +FKVN> ::= `[' <elements +FKVN> `]'\n",
      "\n",
      "<object +FKVN> ::= `{' <members +FKVN> `}'\n",
      "\n",
      "<elements +FKVN> ::= <element +FKVN>\n",
      "\\alt <element +FKVN> `,' <elements>\n",
      "\\alt <element> `,' <elements +FKVN>\n",
      "\n",
      "<elements> ::= <element>\n",
      "\\alt <element> `,' <elements>\n",
      "\n",
      "<element> ::= <array>\n",
      "\\alt <number>\n",
      "\\alt <object>\n",
      "\\alt <string>\n",
      "\\alt `false'\n",
      "\\alt `null'\n",
      "\\alt `true'\n",
      "\n",
      "<array> ::= `[' <elements> `]'\n",
      "\\alt `[]'\n",
      "\n",
      "<number> ::= <digits>\n",
      "\n",
      "<object> ::= `{' <members> `}'\n",
      "\\alt `{}'\n",
      "\n",
      "<string> ::= `\"' <characters> `\"'\n",
      "\n",
      "<digits> ::= <digit>\n",
      "\\alt <digit> <digits>\n",
      "\n",
      "<digit> ::= `0'\n",
      "\\alt `1'\n",
      "\\alt `2'\n",
      "\\alt `3'\n",
      "\\alt `4'\n",
      "\\alt `5'\n",
      "\\alt `6'\n",
      "\\alt `7'\n",
      "\\alt `8'\n",
      "\\alt `9'\n",
      "\n",
      "<members> ::= <member>\n",
      "\\alt <member> `,' <members>\n",
      "\n",
      "<member> ::= <string> `:' <element>\n",
      "\n",
      "<characters> ::= $\\epsilon$\n",
      "\\alt <character> <characters>\n",
      "\n",
      "<character> ::= `a'\n",
      "\\alt `b'\n",
      "\\alt `c'\n",
      "\n",
      "<members +FKVN> ::= <member +FKVN>\n",
      "\\alt <member +FKVN> `,' <members>\n",
      "\\alt <member> `,' <members +FKVN>\n",
      "\n",
      "<member +FKVN> ::= <string> `:' <element +FKVN>\n",
      "\\alt <string> `:' <element LKVN_1>\n",
      "\n",
      "<element LKVN_1> ::= `null'\n",
      "\n"
     ]
    }
   ],
   "source": [
    "g_to_latex(Fkvn_grammar_)"
   ]
  },
  {
   "cell_type": "code",
   "execution_count": 542,
   "metadata": {},
   "outputs": [],
   "source": [
    "Fkvn_parser = Parser(Fkvn_grammar_, canonical=True, start_symbol=Fkvn_start)"
   ]
  },
  {
   "cell_type": "code",
   "execution_count": 543,
   "metadata": {},
   "outputs": [],
   "source": [
    "assert Fkvn_parser.can_parse('{\"\":1,\"\":null}')"
   ]
  },
  {
   "cell_type": "code",
   "execution_count": 544,
   "metadata": {},
   "outputs": [],
   "source": [
    "assert Fkvn_parser.can_parse('{\"\":null,\"a\":[]}')"
   ]
  },
  {
   "cell_type": "code",
   "execution_count": 545,
   "metadata": {},
   "outputs": [],
   "source": [
    "FNkvn_grammar, FNkvn_start = negate_grammar(Fkvn_grammar_, Fkvn_start, JSON_GRAMMAR, JSON_START)"
   ]
  },
  {
   "cell_type": "code",
   "execution_count": 546,
   "metadata": {},
   "outputs": [
    {
     "name": "stdout",
     "output_type": "stream",
     "text": [
      "<json neg(+FKVN)> ::=\n",
      "|    <element neg(+FKVN)>\n",
      "<element neg(+FKVN)> ::=\n",
      "|    <array neg(+FKVN)>\n",
      "|    <number>\n",
      "|    <object neg(+FKVN)>\n",
      "|    <string>\n",
      "|    'false'\n",
      "|    'null'\n",
      "|    'true'\n",
      "<array neg(+FKVN)> ::=\n",
      "|    '[' <elements neg(+FKVN)> ']'\n",
      "|    '[]'\n",
      "<number> ::=\n",
      "|    <digits>\n",
      "<object neg(+FKVN)> ::=\n",
      "|    '{' <members neg(+FKVN)> '}'\n",
      "|    '{}'\n",
      "<string> ::=\n",
      "|    '\"' <characters> '\"'\n",
      "<elements neg(+FKVN)> ::=\n",
      "|    <element neg(+FKVN)>\n",
      "|    <element neg(+FKVN)> ',' <elements neg(+FKVN)>\n",
      "<digits> ::=\n",
      "|    <digit>\n",
      "|    <digit> <digits>\n",
      "<digit> ::=\n",
      "|    '0'\n",
      "|    '1'\n",
      "|    '2'\n",
      "|    '3'\n",
      "|    '4'\n",
      "|    '5'\n",
      "|    '6'\n",
      "|    '7'\n",
      "|    '8'\n",
      "|    '9'\n",
      "<members neg(+FKVN)> ::=\n",
      "|    <member neg(+FKVN)>\n",
      "|    <member neg(+FKVN)> ',' <members neg(+FKVN)>\n",
      "<member neg(+FKVN)> ::=\n",
      "|    <string> ':' <element and(neg(+FKVN),neg(LKVN_1))>\n",
      "<element and(neg(+FKVN),neg(LKVN_1))> ::=\n",
      "|    <array neg(+FKVN)>\n",
      "|    <number>\n",
      "|    <object neg(+FKVN)>\n",
      "|    <string>\n",
      "|    'false'\n",
      "|    'true'\n",
      "<characters> ::=\n",
      "|    \n",
      "|    <character> <characters>\n",
      "<character> ::=\n",
      "|    'a'\n",
      "|    'b'\n",
      "|    'c'\n",
      "14 42\n"
     ]
    },
    {
     "data": {
      "text/plain": [
       "'<json neg(+FKVN)>'"
      ]
     },
     "execution_count": 546,
     "metadata": {},
     "output_type": "execute_result"
    }
   ],
   "source": [
    "Gs(FNkvn_grammar)\n",
    "FNkvn_start"
   ]
  },
  {
   "cell_type": "code",
   "execution_count": 547,
   "metadata": {},
   "outputs": [],
   "source": [
    "FNkvn_parser = Parser(FNkvn_grammar, start_symbol=FNkvn_start, canonical=True)"
   ]
  },
  {
   "cell_type": "code",
   "execution_count": 548,
   "metadata": {},
   "outputs": [],
   "source": [
    "assert not FNkvn_parser.can_parse(s_null)"
   ]
  },
  {
   "cell_type": "code",
   "execution_count": 549,
   "metadata": {},
   "outputs": [],
   "source": [
    "FNkvn_fuzzer = LimitFuzzer(FNkvn_grammar)"
   ]
  },
  {
   "cell_type": "code",
   "execution_count": 550,
   "metadata": {
    "scrolled": false
   },
   "outputs": [
    {
     "name": "stdout",
     "output_type": "stream",
     "text": [
      "[]\n",
      "{}\n",
      "false\n",
      "6\n",
      "[true]\n",
      "\"\"\n",
      "\"\"\n",
      "null\n",
      "true\n",
      "{}\n"
     ]
    }
   ],
   "source": [
    "for i in range(10):\n",
    "    v = FNkvn_fuzzer.fuzz(FNkvn_start)\n",
    "    print(v)"
   ]
  },
  {
   "cell_type": "code",
   "execution_count": 551,
   "metadata": {},
   "outputs": [],
   "source": [
    "assert not FNkvn_parser.can_parse('{\"\":1,\"\":null}')"
   ]
  },
  {
   "cell_type": "code",
   "execution_count": 552,
   "metadata": {},
   "outputs": [
    {
     "name": "stdout",
     "output_type": "stream",
     "text": [
      "<json neg(+FKVN)> ::= <element neg(+FKVN)>\n",
      "\n",
      "<element neg(+FKVN)> ::= <array neg(+FKVN)>\n",
      "\\alt <number>\n",
      "\\alt <object neg(+FKVN)>\n",
      "\\alt <string>\n",
      "\\alt `false'\n",
      "\\alt `null'\n",
      "\\alt `true'\n",
      "\n",
      "<array neg(+FKVN)> ::= `[' <elements neg(+FKVN)> `]'\n",
      "\\alt `[]'\n",
      "\n",
      "<number> ::= <digits>\n",
      "\n",
      "<object neg(+FKVN)> ::= `{' <members neg(+FKVN)> `}'\n",
      "\\alt `{}'\n",
      "\n",
      "<string> ::= `\"' <characters> `\"'\n",
      "\n",
      "<elements neg(+FKVN)> ::= <element neg(+FKVN)>\n",
      "\\alt <element neg(+FKVN)> `,' <elements neg(+FKVN)>\n",
      "\n",
      "<digits> ::= <digit>\n",
      "\\alt <digit> <digits>\n",
      "\n",
      "<digit> ::= `0'\n",
      "\\alt `1'\n",
      "\\alt `2'\n",
      "\\alt `3'\n",
      "\\alt `4'\n",
      "\\alt `5'\n",
      "\\alt `6'\n",
      "\\alt `7'\n",
      "\\alt `8'\n",
      "\\alt `9'\n",
      "\n",
      "<members neg(+FKVN)> ::= <member neg(+FKVN)>\n",
      "\\alt <member neg(+FKVN)> `,' <members neg(+FKVN)>\n",
      "\n",
      "<member neg(+FKVN)> ::= <string> `:' <element and(neg(+FKVN),neg(LKVN_1))>\n",
      "\n",
      "<element and(neg(+FKVN),neg(LKVN_1))> ::= <array neg(+FKVN)>\n",
      "\\alt <number>\n",
      "\\alt <object neg(+FKVN)>\n",
      "\\alt <string>\n",
      "\\alt `false'\n",
      "\\alt `true'\n",
      "\n",
      "<characters> ::= $\\epsilon$\n",
      "\\alt <character> <characters>\n",
      "\n",
      "<character> ::= `a'\n",
      "\\alt `b'\n",
      "\\alt `c'\n",
      "\n"
     ]
    }
   ],
   "source": [
    "g_to_latex(FNkvn_grammar)"
   ]
  },
  {
   "cell_type": "markdown",
   "metadata": {},
   "source": [
    "### The key of an object is empty"
   ]
  },
  {
   "cell_type": "code",
   "execution_count": 553,
   "metadata": {},
   "outputs": [],
   "source": [
    "k_empty = '{\"\":1}'\n",
    "v = list(json_parser.parse(k_empty))[0]"
   ]
  },
  {
   "cell_type": "code",
   "execution_count": 554,
   "metadata": {},
   "outputs": [
    {
     "data": {
      "image/svg+xml": [
       "<?xml version=\"1.0\" encoding=\"UTF-8\" standalone=\"no\"?>\n",
       "<!DOCTYPE svg PUBLIC \"-//W3C//DTD SVG 1.1//EN\"\n",
       " \"http://www.w3.org/Graphics/SVG/1.1/DTD/svg11.dtd\">\n",
       "<!-- Generated by graphviz version 2.40.1 (20161225.0304)\n",
       " -->\n",
       "<!-- Title: %3 Pages: 1 -->\n",
       "<svg width=\"220pt\" height=\"598pt\"\n",
       " viewBox=\"0.00 0.00 219.64 598.00\" xmlns=\"http://www.w3.org/2000/svg\" xmlns:xlink=\"http://www.w3.org/1999/xlink\">\n",
       "<g id=\"graph0\" class=\"graph\" transform=\"scale(1 1) rotate(0) translate(4 594)\">\n",
       "<title>%3</title>\n",
       "<polygon fill=\"#ffffff\" stroke=\"transparent\" points=\"-4,4 -4,-594 215.6357,-594 215.6357,4 -4,4\"/>\n",
       "<!-- (0, 0) -->\n",
       "<g id=\"node1\" class=\"node\">\n",
       "<title>(0, 0)</title>\n",
       "<text text-anchor=\"middle\" x=\"123.6074\" y=\"-578.8\" font-family=\"Times,serif\" font-size=\"14.00\" fill=\"#000000\">&lt;json&gt; </text>\n",
       "</g>\n",
       "<!-- (1, 0) -->\n",
       "<g id=\"node2\" class=\"node\">\n",
       "<title>(1, 0)</title>\n",
       "<text text-anchor=\"middle\" x=\"123.6074\" y=\"-514.8\" font-family=\"Times,serif\" font-size=\"14.00\" fill=\"#000000\">&lt;element&gt; </text>\n",
       "</g>\n",
       "<!-- (0, 0)&#45;&gt;(1, 0) -->\n",
       "<g id=\"edge1\" class=\"edge\">\n",
       "<title>(0, 0)&#45;&gt;(1, 0)</title>\n",
       "<path fill=\"none\" stroke=\"#000000\" d=\"M123.6074,-575.6584C123.6074,-566.2065 123.6074,-549.4718 123.6074,-536.632\"/>\n",
       "<polygon fill=\"#000000\" stroke=\"#000000\" points=\"127.1075,-536.256 123.6074,-526.256 120.1075,-536.256 127.1075,-536.256\"/>\n",
       "<text text-anchor=\"middle\" x=\"127.1074\" y=\"-546.8\" font-family=\"Times,serif\" font-size=\"14.00\" fill=\"#000000\">0</text>\n",
       "</g>\n",
       "<!-- (2, 0) -->\n",
       "<g id=\"node3\" class=\"node\">\n",
       "<title>(2, 0)</title>\n",
       "<text text-anchor=\"middle\" x=\"123.6074\" y=\"-450.8\" font-family=\"Times,serif\" font-size=\"14.00\" fill=\"#000000\">&lt;object&gt; </text>\n",
       "</g>\n",
       "<!-- (1, 0)&#45;&gt;(2, 0) -->\n",
       "<g id=\"edge2\" class=\"edge\">\n",
       "<title>(1, 0)&#45;&gt;(2, 0)</title>\n",
       "<path fill=\"none\" stroke=\"#000000\" d=\"M123.6074,-511.6584C123.6074,-502.2065 123.6074,-485.4718 123.6074,-472.632\"/>\n",
       "<polygon fill=\"#000000\" stroke=\"#000000\" points=\"127.1075,-472.256 123.6074,-462.256 120.1075,-472.256 127.1075,-472.256\"/>\n",
       "<text text-anchor=\"middle\" x=\"127.1074\" y=\"-482.8\" font-family=\"Times,serif\" font-size=\"14.00\" fill=\"#000000\">0</text>\n",
       "</g>\n",
       "<!-- (3, 0) -->\n",
       "<g id=\"node4\" class=\"node\">\n",
       "<title>(3, 0)</title>\n",
       "<text text-anchor=\"middle\" x=\"65.6074\" y=\"-386.8\" font-family=\"Times,serif\" font-size=\"14.00\" fill=\"#000000\">{ </text>\n",
       "</g>\n",
       "<!-- (2, 0)&#45;&gt;(3, 0) -->\n",
       "<g id=\"edge3\" class=\"edge\">\n",
       "<title>(2, 0)&#45;&gt;(3, 0)</title>\n",
       "<path fill=\"none\" stroke=\"#000000\" d=\"M116.9541,-447.6584C107.3859,-437.1004 89.5827,-417.4555 77.6627,-404.3024\"/>\n",
       "<polygon fill=\"#000000\" stroke=\"#000000\" points=\"80.1335,-401.8166 70.8248,-396.7571 74.9465,-406.5173 80.1335,-401.8166\"/>\n",
       "<text text-anchor=\"middle\" x=\"104.1074\" y=\"-418.8\" font-family=\"Times,serif\" font-size=\"14.00\" fill=\"#000000\">0</text>\n",
       "</g>\n",
       "<!-- (4, 1) -->\n",
       "<g id=\"node5\" class=\"node\">\n",
       "<title>(4, 1)</title>\n",
       "<text text-anchor=\"middle\" x=\"123.6074\" y=\"-386.8\" font-family=\"Times,serif\" font-size=\"14.00\" fill=\"#000000\">&lt;members&gt; </text>\n",
       "</g>\n",
       "<!-- (2, 0)&#45;&gt;(4, 1) -->\n",
       "<g id=\"edge4\" class=\"edge\">\n",
       "<title>(2, 0)&#45;&gt;(4, 1)</title>\n",
       "<path fill=\"none\" stroke=\"#000000\" d=\"M123.6074,-447.6584C123.6074,-438.2065 123.6074,-421.4718 123.6074,-408.632\"/>\n",
       "<polygon fill=\"#000000\" stroke=\"#000000\" points=\"127.1075,-408.256 123.6074,-398.256 120.1075,-408.256 127.1075,-408.256\"/>\n",
       "<text text-anchor=\"middle\" x=\"127.1074\" y=\"-418.8\" font-family=\"Times,serif\" font-size=\"14.00\" fill=\"#000000\">1</text>\n",
       "</g>\n",
       "<!-- (16, 2) -->\n",
       "<g id=\"node17\" class=\"node\">\n",
       "<title>(16, 2)</title>\n",
       "<text text-anchor=\"middle\" x=\"181.6074\" y=\"-386.8\" font-family=\"Times,serif\" font-size=\"14.00\" fill=\"#000000\">} </text>\n",
       "</g>\n",
       "<!-- (2, 0)&#45;&gt;(16, 2) -->\n",
       "<g id=\"edge16\" class=\"edge\">\n",
       "<title>(2, 0)&#45;&gt;(16, 2)</title>\n",
       "<path fill=\"none\" stroke=\"#000000\" d=\"M130.2608,-447.6584C139.829,-437.1004 157.6321,-417.4555 169.5522,-404.3024\"/>\n",
       "<polygon fill=\"#000000\" stroke=\"#000000\" points=\"172.2683,-406.5173 176.3901,-396.7571 167.0814,-401.8166 172.2683,-406.5173\"/>\n",
       "<text text-anchor=\"middle\" x=\"162.1074\" y=\"-418.8\" font-family=\"Times,serif\" font-size=\"14.00\" fill=\"#000000\">2</text>\n",
       "</g>\n",
       "<!-- (5, 0) -->\n",
       "<g id=\"node6\" class=\"node\">\n",
       "<title>(5, 0)</title>\n",
       "<text text-anchor=\"middle\" x=\"123.6074\" y=\"-322.8\" font-family=\"Times,serif\" font-size=\"14.00\" fill=\"#000000\">&lt;member&gt; </text>\n",
       "</g>\n",
       "<!-- (4, 1)&#45;&gt;(5, 0) -->\n",
       "<g id=\"edge5\" class=\"edge\">\n",
       "<title>(4, 1)&#45;&gt;(5, 0)</title>\n",
       "<path fill=\"none\" stroke=\"#000000\" d=\"M123.6074,-383.6584C123.6074,-374.2065 123.6074,-357.4718 123.6074,-344.632\"/>\n",
       "<polygon fill=\"#000000\" stroke=\"#000000\" points=\"127.1075,-344.256 123.6074,-334.256 120.1075,-344.256 127.1075,-344.256\"/>\n",
       "<text text-anchor=\"middle\" x=\"127.1074\" y=\"-354.8\" font-family=\"Times,serif\" font-size=\"14.00\" fill=\"#000000\">0</text>\n",
       "</g>\n",
       "<!-- (6, 0) -->\n",
       "<g id=\"node7\" class=\"node\">\n",
       "<title>(6, 0)</title>\n",
       "<text text-anchor=\"middle\" x=\"72.6074\" y=\"-258.8\" font-family=\"Times,serif\" font-size=\"14.00\" fill=\"#000000\">&lt;string&gt; </text>\n",
       "</g>\n",
       "<!-- (5, 0)&#45;&gt;(6, 0) -->\n",
       "<g id=\"edge6\" class=\"edge\">\n",
       "<title>(5, 0)&#45;&gt;(6, 0)</title>\n",
       "<path fill=\"none\" stroke=\"#000000\" d=\"M117.7571,-319.6584C109.7639,-309.6278 95.235,-291.3954 84.8156,-278.3201\"/>\n",
       "<polygon fill=\"#000000\" stroke=\"#000000\" points=\"87.3588,-275.8954 78.3895,-270.256 81.8844,-280.2578 87.3588,-275.8954\"/>\n",
       "<text text-anchor=\"middle\" x=\"107.1074\" y=\"-290.8\" font-family=\"Times,serif\" font-size=\"14.00\" fill=\"#000000\">0</text>\n",
       "</g>\n",
       "<!-- (10, 1) -->\n",
       "<g id=\"node11\" class=\"node\">\n",
       "<title>(10, 1)</title>\n",
       "<text text-anchor=\"middle\" x=\"123.6074\" y=\"-258.8\" font-family=\"Times,serif\" font-size=\"14.00\" fill=\"#000000\">: </text>\n",
       "</g>\n",
       "<!-- (5, 0)&#45;&gt;(10, 1) -->\n",
       "<g id=\"edge10\" class=\"edge\">\n",
       "<title>(5, 0)&#45;&gt;(10, 1)</title>\n",
       "<path fill=\"none\" stroke=\"#000000\" d=\"M123.6074,-319.6584C123.6074,-310.2065 123.6074,-293.4718 123.6074,-280.632\"/>\n",
       "<polygon fill=\"#000000\" stroke=\"#000000\" points=\"127.1075,-280.256 123.6074,-270.256 120.1075,-280.256 127.1075,-280.256\"/>\n",
       "<text text-anchor=\"middle\" x=\"127.1074\" y=\"-290.8\" font-family=\"Times,serif\" font-size=\"14.00\" fill=\"#000000\">1</text>\n",
       "</g>\n",
       "<!-- (11, 2) -->\n",
       "<g id=\"node12\" class=\"node\">\n",
       "<title>(11, 2)</title>\n",
       "<text text-anchor=\"middle\" x=\"178.6074\" y=\"-258.8\" font-family=\"Times,serif\" font-size=\"14.00\" fill=\"#000000\">&lt;element&gt; </text>\n",
       "</g>\n",
       "<!-- (5, 0)&#45;&gt;(11, 2) -->\n",
       "<g id=\"edge11\" class=\"edge\">\n",
       "<title>(5, 0)&#45;&gt;(11, 2)</title>\n",
       "<path fill=\"none\" stroke=\"#000000\" d=\"M129.9166,-319.6584C138.6196,-309.5313 154.5071,-291.044 165.7646,-277.9443\"/>\n",
       "<polygon fill=\"#000000\" stroke=\"#000000\" points=\"168.5086,-280.1214 172.3718,-270.256 163.1996,-275.559 168.5086,-280.1214\"/>\n",
       "<text text-anchor=\"middle\" x=\"160.1074\" y=\"-290.8\" font-family=\"Times,serif\" font-size=\"14.00\" fill=\"#000000\">2</text>\n",
       "</g>\n",
       "<!-- (7, 0) -->\n",
       "<g id=\"node8\" class=\"node\">\n",
       "<title>(7, 0)</title>\n",
       "<text text-anchor=\"middle\" x=\"4.6074\" y=\"-194.8\" font-family=\"Times,serif\" font-size=\"14.00\" fill=\"#000000\">&quot; </text>\n",
       "</g>\n",
       "<!-- (6, 0)&#45;&gt;(7, 0) -->\n",
       "<g id=\"edge7\" class=\"edge\">\n",
       "<title>(6, 0)&#45;&gt;(7, 0)</title>\n",
       "<path fill=\"none\" stroke=\"#000000\" d=\"M65.0704,-255.9063C53.3869,-244.9101 30.7929,-223.6452 16.7763,-210.4531\"/>\n",
       "<polygon fill=\"#000000\" stroke=\"#000000\" points=\"19.0125,-207.7513 9.3317,-203.4464 14.2149,-212.8488 19.0125,-207.7513\"/>\n",
       "<text text-anchor=\"middle\" x=\"49.1074\" y=\"-226.8\" font-family=\"Times,serif\" font-size=\"14.00\" fill=\"#000000\">0</text>\n",
       "</g>\n",
       "<!-- (8, 1) -->\n",
       "<g id=\"node9\" class=\"node\">\n",
       "<title>(8, 1)</title>\n",
       "<text text-anchor=\"middle\" x=\"65.6074\" y=\"-194.8\" font-family=\"Times,serif\" font-size=\"14.00\" fill=\"#000000\">&lt;characters&gt; </text>\n",
       "</g>\n",
       "<!-- (6, 0)&#45;&gt;(8, 1) -->\n",
       "<g id=\"edge8\" class=\"edge\">\n",
       "<title>(6, 0)&#45;&gt;(8, 1)</title>\n",
       "<path fill=\"none\" stroke=\"#000000\" d=\"M71.8044,-255.6584C70.7601,-246.11 68.9028,-229.1295 67.4931,-216.2402\"/>\n",
       "<polygon fill=\"#000000\" stroke=\"#000000\" points=\"70.9677,-215.8161 66.401,-206.256 64.0091,-216.5773 70.9677,-215.8161\"/>\n",
       "<text text-anchor=\"middle\" x=\"74.1074\" y=\"-226.8\" font-family=\"Times,serif\" font-size=\"14.00\" fill=\"#000000\">1</text>\n",
       "</g>\n",
       "<!-- (9, 2) -->\n",
       "<g id=\"node10\" class=\"node\">\n",
       "<title>(9, 2)</title>\n",
       "<text text-anchor=\"middle\" x=\"126.6074\" y=\"-194.8\" font-family=\"Times,serif\" font-size=\"14.00\" fill=\"#000000\">&quot; </text>\n",
       "</g>\n",
       "<!-- (6, 0)&#45;&gt;(9, 2) -->\n",
       "<g id=\"edge9\" class=\"edge\">\n",
       "<title>(6, 0)&#45;&gt;(9, 2)</title>\n",
       "<path fill=\"none\" stroke=\"#000000\" d=\"M78.8019,-255.6584C87.6254,-245.2009 103.9706,-225.8288 115.065,-212.6799\"/>\n",
       "<polygon fill=\"#000000\" stroke=\"#000000\" points=\"117.9762,-214.6571 121.7499,-204.7571 112.6261,-210.143 117.9762,-214.6571\"/>\n",
       "<text text-anchor=\"middle\" x=\"108.1074\" y=\"-226.8\" font-family=\"Times,serif\" font-size=\"14.00\" fill=\"#000000\">2</text>\n",
       "</g>\n",
       "<!-- (12, 0) -->\n",
       "<g id=\"node13\" class=\"node\">\n",
       "<title>(12, 0)</title>\n",
       "<text text-anchor=\"middle\" x=\"180.6074\" y=\"-194.8\" font-family=\"Times,serif\" font-size=\"14.00\" fill=\"#000000\">&lt;number&gt; </text>\n",
       "</g>\n",
       "<!-- (11, 2)&#45;&gt;(12, 0) -->\n",
       "<g id=\"edge12\" class=\"edge\">\n",
       "<title>(11, 2)&#45;&gt;(12, 0)</title>\n",
       "<path fill=\"none\" stroke=\"#000000\" d=\"M178.8368,-255.6584C179.1322,-246.2065 179.6552,-229.4718 180.0564,-216.632\"/>\n",
       "<polygon fill=\"#000000\" stroke=\"#000000\" points=\"183.5665,-216.3605 180.3807,-206.256 176.5699,-216.1418 183.5665,-216.3605\"/>\n",
       "<text text-anchor=\"middle\" x=\"184.1074\" y=\"-226.8\" font-family=\"Times,serif\" font-size=\"14.00\" fill=\"#000000\">0</text>\n",
       "</g>\n",
       "<!-- (13, 0) -->\n",
       "<g id=\"node14\" class=\"node\">\n",
       "<title>(13, 0)</title>\n",
       "<text text-anchor=\"middle\" x=\"180.6074\" y=\"-130.8\" font-family=\"Times,serif\" font-size=\"14.00\" fill=\"#000000\">&lt;digits&gt; </text>\n",
       "</g>\n",
       "<!-- (12, 0)&#45;&gt;(13, 0) -->\n",
       "<g id=\"edge13\" class=\"edge\">\n",
       "<title>(12, 0)&#45;&gt;(13, 0)</title>\n",
       "<path fill=\"none\" stroke=\"#000000\" d=\"M180.6074,-191.6584C180.6074,-182.2065 180.6074,-165.4718 180.6074,-152.632\"/>\n",
       "<polygon fill=\"#000000\" stroke=\"#000000\" points=\"184.1075,-152.256 180.6074,-142.256 177.1075,-152.256 184.1075,-152.256\"/>\n",
       "<text text-anchor=\"middle\" x=\"184.1074\" y=\"-162.8\" font-family=\"Times,serif\" font-size=\"14.00\" fill=\"#000000\">0</text>\n",
       "</g>\n",
       "<!-- (14, 0) -->\n",
       "<g id=\"node15\" class=\"node\">\n",
       "<title>(14, 0)</title>\n",
       "<text text-anchor=\"middle\" x=\"180.6074\" y=\"-66.8\" font-family=\"Times,serif\" font-size=\"14.00\" fill=\"#000000\">&lt;digit&gt; </text>\n",
       "</g>\n",
       "<!-- (13, 0)&#45;&gt;(14, 0) -->\n",
       "<g id=\"edge14\" class=\"edge\">\n",
       "<title>(13, 0)&#45;&gt;(14, 0)</title>\n",
       "<path fill=\"none\" stroke=\"#000000\" d=\"M180.6074,-127.6584C180.6074,-118.2065 180.6074,-101.4718 180.6074,-88.632\"/>\n",
       "<polygon fill=\"#000000\" stroke=\"#000000\" points=\"184.1075,-88.256 180.6074,-78.256 177.1075,-88.256 184.1075,-88.256\"/>\n",
       "<text text-anchor=\"middle\" x=\"184.1074\" y=\"-98.8\" font-family=\"Times,serif\" font-size=\"14.00\" fill=\"#000000\">0</text>\n",
       "</g>\n",
       "<!-- (15, 0) -->\n",
       "<g id=\"node16\" class=\"node\">\n",
       "<title>(15, 0)</title>\n",
       "<text text-anchor=\"middle\" x=\"180.6074\" y=\"-2.8\" font-family=\"Times,serif\" font-size=\"14.00\" fill=\"#000000\">1 </text>\n",
       "</g>\n",
       "<!-- (14, 0)&#45;&gt;(15, 0) -->\n",
       "<g id=\"edge15\" class=\"edge\">\n",
       "<title>(14, 0)&#45;&gt;(15, 0)</title>\n",
       "<path fill=\"none\" stroke=\"#000000\" d=\"M180.6074,-63.6584C180.6074,-54.2065 180.6074,-37.4718 180.6074,-24.632\"/>\n",
       "<polygon fill=\"#000000\" stroke=\"#000000\" points=\"184.1075,-24.256 180.6074,-14.256 177.1075,-24.256 184.1075,-24.256\"/>\n",
       "<text text-anchor=\"middle\" x=\"184.1074\" y=\"-34.8\" font-family=\"Times,serif\" font-size=\"14.00\" fill=\"#000000\">0</text>\n",
       "</g>\n",
       "</g>\n",
       "</svg>\n"
      ],
      "text/plain": [
       "<graphviz.dot.Digraph at 0x112996610>"
      ]
     },
     "execution_count": 554,
     "metadata": {},
     "output_type": "execute_result"
    }
   ],
   "source": [
    "display_tree(v)"
   ]
  },
  {
   "cell_type": "code",
   "execution_count": 555,
   "metadata": {},
   "outputs": [
    {
     "data": {
      "image/svg+xml": [
       "<?xml version=\"1.0\" encoding=\"UTF-8\" standalone=\"no\"?>\n",
       "<!DOCTYPE svg PUBLIC \"-//W3C//DTD SVG 1.1//EN\"\n",
       " \"http://www.w3.org/Graphics/SVG/1.1/DTD/svg11.dtd\">\n",
       "<!-- Generated by graphviz version 2.40.1 (20161225.0304)\n",
       " -->\n",
       "<!-- Title: %3 Pages: 1 -->\n",
       "<svg width=\"72pt\" height=\"278pt\"\n",
       " viewBox=\"0.00 0.00 71.60 278.00\" xmlns=\"http://www.w3.org/2000/svg\" xmlns:xlink=\"http://www.w3.org/1999/xlink\">\n",
       "<g id=\"graph0\" class=\"graph\" transform=\"scale(1 1) rotate(0) translate(4 274)\">\n",
       "<title>%3</title>\n",
       "<polygon fill=\"#ffffff\" stroke=\"transparent\" points=\"-4,4 -4,-274 67.6016,-274 67.6016,4 -4,4\"/>\n",
       "<!-- (0, 0) -->\n",
       "<g id=\"node1\" class=\"node\">\n",
       "<title>(0, 0)</title>\n",
       "<text text-anchor=\"middle\" x=\"31.8008\" y=\"-258.8\" font-family=\"Times,serif\" font-size=\"14.00\" fill=\"#000000\">&lt;element&gt; </text>\n",
       "</g>\n",
       "<!-- (1, 0) -->\n",
       "<g id=\"node2\" class=\"node\">\n",
       "<title>(1, 0)</title>\n",
       "<text text-anchor=\"middle\" x=\"31.8008\" y=\"-194.8\" font-family=\"Times,serif\" font-size=\"14.00\" fill=\"#000000\">&lt;number&gt; </text>\n",
       "</g>\n",
       "<!-- (0, 0)&#45;&gt;(1, 0) -->\n",
       "<g id=\"edge1\" class=\"edge\">\n",
       "<title>(0, 0)&#45;&gt;(1, 0)</title>\n",
       "<path fill=\"none\" stroke=\"#000000\" d=\"M31.8008,-255.6584C31.8008,-246.2065 31.8008,-229.4718 31.8008,-216.632\"/>\n",
       "<polygon fill=\"#000000\" stroke=\"#000000\" points=\"35.3009,-216.256 31.8008,-206.256 28.3009,-216.256 35.3009,-216.256\"/>\n",
       "<text text-anchor=\"middle\" x=\"35.3008\" y=\"-226.8\" font-family=\"Times,serif\" font-size=\"14.00\" fill=\"#000000\">0</text>\n",
       "</g>\n",
       "<!-- (2, 0) -->\n",
       "<g id=\"node3\" class=\"node\">\n",
       "<title>(2, 0)</title>\n",
       "<text text-anchor=\"middle\" x=\"31.8008\" y=\"-130.8\" font-family=\"Times,serif\" font-size=\"14.00\" fill=\"#000000\">&lt;digits&gt; </text>\n",
       "</g>\n",
       "<!-- (1, 0)&#45;&gt;(2, 0) -->\n",
       "<g id=\"edge2\" class=\"edge\">\n",
       "<title>(1, 0)&#45;&gt;(2, 0)</title>\n",
       "<path fill=\"none\" stroke=\"#000000\" d=\"M31.8008,-191.6584C31.8008,-182.2065 31.8008,-165.4718 31.8008,-152.632\"/>\n",
       "<polygon fill=\"#000000\" stroke=\"#000000\" points=\"35.3009,-152.256 31.8008,-142.256 28.3009,-152.256 35.3009,-152.256\"/>\n",
       "<text text-anchor=\"middle\" x=\"35.3008\" y=\"-162.8\" font-family=\"Times,serif\" font-size=\"14.00\" fill=\"#000000\">0</text>\n",
       "</g>\n",
       "<!-- (3, 0) -->\n",
       "<g id=\"node4\" class=\"node\">\n",
       "<title>(3, 0)</title>\n",
       "<text text-anchor=\"middle\" x=\"31.8008\" y=\"-66.8\" font-family=\"Times,serif\" font-size=\"14.00\" fill=\"#000000\">&lt;digit&gt; </text>\n",
       "</g>\n",
       "<!-- (2, 0)&#45;&gt;(3, 0) -->\n",
       "<g id=\"edge3\" class=\"edge\">\n",
       "<title>(2, 0)&#45;&gt;(3, 0)</title>\n",
       "<path fill=\"none\" stroke=\"#000000\" d=\"M31.8008,-127.6584C31.8008,-118.2065 31.8008,-101.4718 31.8008,-88.632\"/>\n",
       "<polygon fill=\"#000000\" stroke=\"#000000\" points=\"35.3009,-88.256 31.8008,-78.256 28.3009,-88.256 35.3009,-88.256\"/>\n",
       "<text text-anchor=\"middle\" x=\"35.3008\" y=\"-98.8\" font-family=\"Times,serif\" font-size=\"14.00\" fill=\"#000000\">0</text>\n",
       "</g>\n",
       "<!-- (4, 0) -->\n",
       "<g id=\"node5\" class=\"node\">\n",
       "<title>(4, 0)</title>\n",
       "<text text-anchor=\"middle\" x=\"31.8008\" y=\"-2.8\" font-family=\"Times,serif\" font-size=\"14.00\" fill=\"#000000\">1 </text>\n",
       "</g>\n",
       "<!-- (3, 0)&#45;&gt;(4, 0) -->\n",
       "<g id=\"edge4\" class=\"edge\">\n",
       "<title>(3, 0)&#45;&gt;(4, 0)</title>\n",
       "<path fill=\"none\" stroke=\"#000000\" d=\"M31.8008,-63.6584C31.8008,-54.2065 31.8008,-37.4718 31.8008,-24.632\"/>\n",
       "<polygon fill=\"#000000\" stroke=\"#000000\" points=\"35.3009,-24.256 31.8008,-14.256 28.3009,-24.256 35.3009,-24.256\"/>\n",
       "<text text-anchor=\"middle\" x=\"35.3008\" y=\"-34.8\" font-family=\"Times,serif\" font-size=\"14.00\" fill=\"#000000\">0</text>\n",
       "</g>\n",
       "</g>\n",
       "</svg>\n"
      ],
      "text/plain": [
       "<graphviz.dot.Digraph at 0x11170bd90>"
      ]
     },
     "execution_count": 555,
     "metadata": {},
     "output_type": "execute_result"
    }
   ],
   "source": [
    "string_node_path2 = [0,0,1,0,2]\n",
    "display_tree(find_node(v, string_node_path2))"
   ]
  },
  {
   "cell_type": "code",
   "execution_count": 556,
   "metadata": {},
   "outputs": [
    {
     "data": {
      "text/plain": [
       "'{\"\":<element>}'"
      ]
     },
     "execution_count": 556,
     "metadata": {},
     "output_type": "execute_result"
    }
   ],
   "source": [
    "F_k_empty = mark_abstract_nodes(v, [string_node_path2])\n",
    "Ta(F_k_empty)"
   ]
  },
  {
   "cell_type": "code",
   "execution_count": 557,
   "metadata": {},
   "outputs": [
    {
     "data": {
      "image/svg+xml": [
       "<?xml version=\"1.0\" encoding=\"UTF-8\" standalone=\"no\"?>\n",
       "<!DOCTYPE svg PUBLIC \"-//W3C//DTD SVG 1.1//EN\"\n",
       " \"http://www.w3.org/Graphics/SVG/1.1/DTD/svg11.dtd\">\n",
       "<!-- Generated by graphviz version 2.40.1 (20161225.0304)\n",
       " -->\n",
       "<!-- Title: %3 Pages: 1 -->\n",
       "<svg width=\"220pt\" height=\"342pt\"\n",
       " viewBox=\"0.00 0.00 219.64 342.00\" xmlns=\"http://www.w3.org/2000/svg\" xmlns:xlink=\"http://www.w3.org/1999/xlink\">\n",
       "<g id=\"graph0\" class=\"graph\" transform=\"scale(1 1) rotate(0) translate(4 338)\">\n",
       "<title>%3</title>\n",
       "<polygon fill=\"#ffffff\" stroke=\"transparent\" points=\"-4,4 -4,-338 215.6357,-338 215.6357,4 -4,4\"/>\n",
       "<!-- (0, 0) -->\n",
       "<g id=\"node1\" class=\"node\">\n",
       "<title>(0, 0)</title>\n",
       "<text text-anchor=\"middle\" x=\"123.6074\" y=\"-322.8\" font-family=\"Times,serif\" font-size=\"14.00\" fill=\"#000000\">&lt;member&gt; </text>\n",
       "</g>\n",
       "<!-- (1, 0) -->\n",
       "<g id=\"node2\" class=\"node\">\n",
       "<title>(1, 0)</title>\n",
       "<text text-anchor=\"middle\" x=\"72.6074\" y=\"-258.8\" font-family=\"Times,serif\" font-size=\"14.00\" fill=\"#000000\">&lt;string&gt; </text>\n",
       "</g>\n",
       "<!-- (0, 0)&#45;&gt;(1, 0) -->\n",
       "<g id=\"edge1\" class=\"edge\">\n",
       "<title>(0, 0)&#45;&gt;(1, 0)</title>\n",
       "<path fill=\"none\" stroke=\"#000000\" d=\"M117.7571,-319.6584C109.7639,-309.6278 95.235,-291.3954 84.8156,-278.3201\"/>\n",
       "<polygon fill=\"#000000\" stroke=\"#000000\" points=\"87.3588,-275.8954 78.3895,-270.256 81.8844,-280.2578 87.3588,-275.8954\"/>\n",
       "<text text-anchor=\"middle\" x=\"106.1074\" y=\"-290.8\" font-family=\"Times,serif\" font-size=\"14.00\" fill=\"#000000\">0</text>\n",
       "</g>\n",
       "<!-- (5, 1) -->\n",
       "<g id=\"node6\" class=\"node\">\n",
       "<title>(5, 1)</title>\n",
       "<text text-anchor=\"middle\" x=\"123.6074\" y=\"-258.8\" font-family=\"Times,serif\" font-size=\"14.00\" fill=\"#000000\">: </text>\n",
       "</g>\n",
       "<!-- (0, 0)&#45;&gt;(5, 1) -->\n",
       "<g id=\"edge5\" class=\"edge\">\n",
       "<title>(0, 0)&#45;&gt;(5, 1)</title>\n",
       "<path fill=\"none\" stroke=\"#000000\" d=\"M123.6074,-319.6584C123.6074,-310.2065 123.6074,-293.4718 123.6074,-280.632\"/>\n",
       "<polygon fill=\"#000000\" stroke=\"#000000\" points=\"127.1075,-280.256 123.6074,-270.256 120.1075,-280.256 127.1075,-280.256\"/>\n",
       "<text text-anchor=\"middle\" x=\"127.1074\" y=\"-290.8\" font-family=\"Times,serif\" font-size=\"14.00\" fill=\"#000000\">1</text>\n",
       "</g>\n",
       "<!-- (6, 2) -->\n",
       "<g id=\"node7\" class=\"node\">\n",
       "<title>(6, 2)</title>\n",
       "<text text-anchor=\"middle\" x=\"178.6074\" y=\"-258.8\" font-family=\"Times,serif\" font-size=\"14.00\" fill=\"#000000\">&lt;element&gt; </text>\n",
       "</g>\n",
       "<!-- (0, 0)&#45;&gt;(6, 2) -->\n",
       "<g id=\"edge6\" class=\"edge\">\n",
       "<title>(0, 0)&#45;&gt;(6, 2)</title>\n",
       "<path fill=\"none\" stroke=\"#000000\" d=\"M129.9166,-319.6584C138.6196,-309.5313 154.5071,-291.044 165.7646,-277.9443\"/>\n",
       "<polygon fill=\"#000000\" stroke=\"#000000\" points=\"168.5086,-280.1214 172.3718,-270.256 163.1996,-275.559 168.5086,-280.1214\"/>\n",
       "<text text-anchor=\"middle\" x=\"159.1074\" y=\"-290.8\" font-family=\"Times,serif\" font-size=\"14.00\" fill=\"#000000\">2</text>\n",
       "</g>\n",
       "<!-- (2, 0) -->\n",
       "<g id=\"node3\" class=\"node\">\n",
       "<title>(2, 0)</title>\n",
       "<text text-anchor=\"middle\" x=\"4.6074\" y=\"-194.8\" font-family=\"Times,serif\" font-size=\"14.00\" fill=\"#000000\">&quot; </text>\n",
       "</g>\n",
       "<!-- (1, 0)&#45;&gt;(2, 0) -->\n",
       "<g id=\"edge2\" class=\"edge\">\n",
       "<title>(1, 0)&#45;&gt;(2, 0)</title>\n",
       "<path fill=\"none\" stroke=\"#000000\" d=\"M65.0704,-255.9063C53.3869,-244.9101 30.7929,-223.6452 16.7763,-210.4531\"/>\n",
       "<polygon fill=\"#000000\" stroke=\"#000000\" points=\"19.0125,-207.7513 9.3317,-203.4464 14.2149,-212.8488 19.0125,-207.7513\"/>\n",
       "<text text-anchor=\"middle\" x=\"49.1074\" y=\"-226.8\" font-family=\"Times,serif\" font-size=\"14.00\" fill=\"#000000\">0</text>\n",
       "</g>\n",
       "<!-- (3, 1) -->\n",
       "<g id=\"node4\" class=\"node\">\n",
       "<title>(3, 1)</title>\n",
       "<text text-anchor=\"middle\" x=\"65.6074\" y=\"-194.8\" font-family=\"Times,serif\" font-size=\"14.00\" fill=\"#000000\">&lt;characters&gt; </text>\n",
       "</g>\n",
       "<!-- (1, 0)&#45;&gt;(3, 1) -->\n",
       "<g id=\"edge3\" class=\"edge\">\n",
       "<title>(1, 0)&#45;&gt;(3, 1)</title>\n",
       "<path fill=\"none\" stroke=\"#000000\" d=\"M71.8044,-255.6584C70.7601,-246.11 68.9028,-229.1295 67.4931,-216.2402\"/>\n",
       "<polygon fill=\"#000000\" stroke=\"#000000\" points=\"70.9677,-215.8161 66.401,-206.256 64.0091,-216.5773 70.9677,-215.8161\"/>\n",
       "<text text-anchor=\"middle\" x=\"74.1074\" y=\"-226.8\" font-family=\"Times,serif\" font-size=\"14.00\" fill=\"#000000\">1</text>\n",
       "</g>\n",
       "<!-- (4, 2) -->\n",
       "<g id=\"node5\" class=\"node\">\n",
       "<title>(4, 2)</title>\n",
       "<text text-anchor=\"middle\" x=\"126.6074\" y=\"-194.8\" font-family=\"Times,serif\" font-size=\"14.00\" fill=\"#000000\">&quot; </text>\n",
       "</g>\n",
       "<!-- (1, 0)&#45;&gt;(4, 2) -->\n",
       "<g id=\"edge4\" class=\"edge\">\n",
       "<title>(1, 0)&#45;&gt;(4, 2)</title>\n",
       "<path fill=\"none\" stroke=\"#000000\" d=\"M78.8019,-255.6584C87.6254,-245.2009 103.9706,-225.8288 115.065,-212.6799\"/>\n",
       "<polygon fill=\"#000000\" stroke=\"#000000\" points=\"117.9762,-214.6571 121.7499,-204.7571 112.6261,-210.143 117.9762,-214.6571\"/>\n",
       "<text text-anchor=\"middle\" x=\"107.1074\" y=\"-226.8\" font-family=\"Times,serif\" font-size=\"14.00\" fill=\"#000000\">2</text>\n",
       "</g>\n",
       "<!-- (7, 0) -->\n",
       "<g id=\"node8\" class=\"node\">\n",
       "<title>(7, 0)</title>\n",
       "<text text-anchor=\"middle\" x=\"180.6074\" y=\"-194.8\" font-family=\"Times,serif\" font-size=\"14.00\" fill=\"#000000\">&lt;number&gt; </text>\n",
       "</g>\n",
       "<!-- (6, 2)&#45;&gt;(7, 0) -->\n",
       "<g id=\"edge7\" class=\"edge\">\n",
       "<title>(6, 2)&#45;&gt;(7, 0)</title>\n",
       "<path fill=\"none\" stroke=\"#000000\" d=\"M178.8368,-255.6584C179.1322,-246.2065 179.6552,-229.4718 180.0564,-216.632\"/>\n",
       "<polygon fill=\"#000000\" stroke=\"#000000\" points=\"183.5665,-216.3605 180.3807,-206.256 176.5699,-216.1418 183.5665,-216.3605\"/>\n",
       "<text text-anchor=\"middle\" x=\"183.1074\" y=\"-226.8\" font-family=\"Times,serif\" font-size=\"14.00\" fill=\"#000000\">0</text>\n",
       "</g>\n",
       "<!-- (8, 0) -->\n",
       "<g id=\"node9\" class=\"node\">\n",
       "<title>(8, 0)</title>\n",
       "<text text-anchor=\"middle\" x=\"180.6074\" y=\"-130.8\" font-family=\"Times,serif\" font-size=\"14.00\" fill=\"#000000\">&lt;digits&gt; </text>\n",
       "</g>\n",
       "<!-- (7, 0)&#45;&gt;(8, 0) -->\n",
       "<g id=\"edge8\" class=\"edge\">\n",
       "<title>(7, 0)&#45;&gt;(8, 0)</title>\n",
       "<path fill=\"none\" stroke=\"#000000\" d=\"M180.6074,-191.6584C180.6074,-182.2065 180.6074,-165.4718 180.6074,-152.632\"/>\n",
       "<polygon fill=\"#000000\" stroke=\"#000000\" points=\"184.1075,-152.256 180.6074,-142.256 177.1075,-152.256 184.1075,-152.256\"/>\n",
       "<text text-anchor=\"middle\" x=\"184.1074\" y=\"-162.8\" font-family=\"Times,serif\" font-size=\"14.00\" fill=\"#000000\">0</text>\n",
       "</g>\n",
       "<!-- (9, 0) -->\n",
       "<g id=\"node10\" class=\"node\">\n",
       "<title>(9, 0)</title>\n",
       "<text text-anchor=\"middle\" x=\"180.6074\" y=\"-66.8\" font-family=\"Times,serif\" font-size=\"14.00\" fill=\"#000000\">&lt;digit&gt; </text>\n",
       "</g>\n",
       "<!-- (8, 0)&#45;&gt;(9, 0) -->\n",
       "<g id=\"edge9\" class=\"edge\">\n",
       "<title>(8, 0)&#45;&gt;(9, 0)</title>\n",
       "<path fill=\"none\" stroke=\"#000000\" d=\"M180.6074,-127.6584C180.6074,-118.2065 180.6074,-101.4718 180.6074,-88.632\"/>\n",
       "<polygon fill=\"#000000\" stroke=\"#000000\" points=\"184.1075,-88.256 180.6074,-78.256 177.1075,-88.256 184.1075,-88.256\"/>\n",
       "<text text-anchor=\"middle\" x=\"184.1074\" y=\"-98.8\" font-family=\"Times,serif\" font-size=\"14.00\" fill=\"#000000\">0</text>\n",
       "</g>\n",
       "<!-- (10, 0) -->\n",
       "<g id=\"node11\" class=\"node\">\n",
       "<title>(10, 0)</title>\n",
       "<text text-anchor=\"middle\" x=\"180.6074\" y=\"-2.8\" font-family=\"Times,serif\" font-size=\"14.00\" fill=\"#000000\">1 </text>\n",
       "</g>\n",
       "<!-- (9, 0)&#45;&gt;(10, 0) -->\n",
       "<g id=\"edge10\" class=\"edge\">\n",
       "<title>(9, 0)&#45;&gt;(10, 0)</title>\n",
       "<path fill=\"none\" stroke=\"#000000\" d=\"M180.6074,-63.6584C180.6074,-54.2065 180.6074,-37.4718 180.6074,-24.632\"/>\n",
       "<polygon fill=\"#000000\" stroke=\"#000000\" points=\"184.1075,-24.256 180.6074,-14.256 177.1075,-24.256 184.1075,-24.256\"/>\n",
       "<text text-anchor=\"middle\" x=\"184.1074\" y=\"-34.8\" font-family=\"Times,serif\" font-size=\"14.00\" fill=\"#000000\">0</text>\n",
       "</g>\n",
       "</g>\n",
       "</svg>\n"
      ],
      "text/plain": [
       "<graphviz.dot.Digraph at 0x1140a2e10>"
      ]
     },
     "execution_count": 557,
     "metadata": {},
     "output_type": "execute_result"
    }
   ],
   "source": [
    "mm = find_node(F_k_empty, [0,0,1,0]);display_tree(mm)"
   ]
  },
  {
   "cell_type": "code",
   "execution_count": 558,
   "metadata": {},
   "outputs": [],
   "source": [
    "Fke = mm # find_charecterizing_node(F_k_empty)"
   ]
  },
  {
   "cell_type": "code",
   "execution_count": 559,
   "metadata": {},
   "outputs": [
    {
     "data": {
      "text/plain": [
       "'\"\":<element>'"
      ]
     },
     "execution_count": 559,
     "metadata": {},
     "output_type": "execute_result"
    }
   ],
   "source": [
    "Ta(Fke)"
   ]
  },
  {
   "cell_type": "code",
   "execution_count": 560,
   "metadata": {},
   "outputs": [
    {
     "name": "stdout",
     "output_type": "stream",
     "text": [
      "\n",
      "%\\resizebox{.99\\columnwidth}{.050\\totalheight}{\n",
      "\\Tree[.\\nonterm{member} [.\\nonterm{string} \\textit{\"} [.\\nonterm{characters} $\\epsilon$ ] \\textit{\"} ] \\textit{:} \\absnonterm{element} ]\n",
      "%}\n",
      "    \n"
     ]
    }
   ],
   "source": [
    "latex_abs_tree(Fke)"
   ]
  },
  {
   "cell_type": "code",
   "execution_count": 561,
   "metadata": {},
   "outputs": [
    {
     "data": {
      "text/plain": [
       "('<member>',\n",
       " [('<string>',\n",
       "   [('\"', [], {'abstract': False}),\n",
       "    ('<characters>', [], {'abstract': False}),\n",
       "    ('\"', [], {'abstract': False})],\n",
       "   {'abstract': False}),\n",
       "  (':', [], {'abstract': False}),\n",
       "  ('<element>',\n",
       "   [('<number>',\n",
       "     [('<digits>',\n",
       "       [('<digit>', [('1', [], {'abstract': False})], {'abstract': False})],\n",
       "       {'abstract': False})],\n",
       "     {'abstract': False})],\n",
       "   {'abstract': True})],\n",
       " {'abstract': False})"
      ]
     },
     "execution_count": 561,
     "metadata": {},
     "output_type": "execute_result"
    }
   ],
   "source": [
    "Fke"
   ]
  },
  {
   "cell_type": "code",
   "execution_count": 562,
   "metadata": {},
   "outputs": [],
   "source": [
    "Fke_grammar, Fke_start = atleast_one_fault_grammar(JSON_GRAMMAR, JSON_START, Fke, 'EK')"
   ]
  },
  {
   "cell_type": "code",
   "execution_count": 563,
   "metadata": {
    "scrolled": false
   },
   "outputs": [
    {
     "name": "stdout",
     "output_type": "stream",
     "text": [
      "<json +FEK> ::=\n",
      "|    <element +FEK>\n",
      "<element +FEK> ::=\n",
      "|    <array +FEK>\n",
      "|    <object +FEK>\n",
      "<array +FEK> ::=\n",
      "|    '[' <elements +FEK> ']'\n",
      "<object +FEK> ::=\n",
      "|    '{' <members +FEK> '}'\n",
      "<elements +FEK> ::=\n",
      "|    <element +FEK>\n",
      "|    <element +FEK> ',' <elements>\n",
      "|    <element> ',' <elements +FEK>\n",
      "<elements> ::=\n",
      "|    <element>\n",
      "|    <element> ',' <elements>\n",
      "<element> ::=\n",
      "|    <array>\n",
      "|    <number>\n",
      "|    <object>\n",
      "|    <string>\n",
      "|    'false'\n",
      "|    'null'\n",
      "|    'true'\n",
      "<array> ::=\n",
      "|    '[' <elements> ']'\n",
      "|    '[]'\n",
      "<number> ::=\n",
      "|    <digits>\n",
      "<object> ::=\n",
      "|    '{' <members> '}'\n",
      "|    '{}'\n",
      "<string> ::=\n",
      "|    '\"' <characters> '\"'\n",
      "<digits> ::=\n",
      "|    <digit>\n",
      "|    <digit> <digits>\n",
      "<digit> ::=\n",
      "|    '0'\n",
      "|    '1'\n",
      "|    '2'\n",
      "|    '3'\n",
      "|    '4'\n",
      "|    '5'\n",
      "|    '6'\n",
      "|    '7'\n",
      "|    '8'\n",
      "|    '9'\n",
      "<members> ::=\n",
      "|    <member>\n",
      "|    <member> ',' <members>\n",
      "<member> ::=\n",
      "|    <string> ':' <element>\n",
      "<characters> ::=\n",
      "|    \n",
      "|    <character> <characters>\n",
      "<character> ::=\n",
      "|    'a'\n",
      "|    'b'\n",
      "|    'c'\n",
      "<members +FEK> ::=\n",
      "|    <member +FEK>\n",
      "|    <member +FEK> ',' <members>\n",
      "|    <member> ',' <members +FEK>\n",
      "<member +FEK> ::=\n",
      "|    <string LEK_1> ':' <element>\n",
      "|    <string> ':' <element +FEK>\n",
      "<string LEK_1> ::=\n",
      "|    '\"' <characters LEK_1> '\"'\n",
      "<characters LEK_1> ::=\n",
      "|    \n",
      "21 50\n"
     ]
    },
    {
     "data": {
      "text/plain": [
       "'<json +FEK>'"
      ]
     },
     "execution_count": 563,
     "metadata": {},
     "output_type": "execute_result"
    }
   ],
   "source": [
    "Gs(Fke_grammar)\n",
    "Fke_start"
   ]
  },
  {
   "cell_type": "markdown",
   "metadata": {},
   "source": [
    "Now combining both"
   ]
  },
  {
   "cell_type": "code",
   "execution_count": 564,
   "metadata": {},
   "outputs": [],
   "source": [
    "g,s = and_grammars(Fke_grammar, Fke_start, FNkvn_grammar, FNkvn_start)"
   ]
  },
  {
   "cell_type": "code",
   "execution_count": 565,
   "metadata": {
    "scrolled": false
   },
   "outputs": [
    {
     "name": "stdout",
     "output_type": "stream",
     "text": [
      "<json and(+FEK,neg(+FKVN))> ::=\n",
      "|    <element and(+FEK,neg(+FKVN))>\n",
      "<element and(+FEK,neg(+FKVN))> ::=\n",
      "|    <array and(+FEK,neg(+FKVN))>\n",
      "|    <object and(+FEK,neg(+FKVN))>\n",
      "<array and(+FEK,neg(+FKVN))> ::=\n",
      "|    '[' <elements and(+FEK,neg(+FKVN))> ']'\n",
      "<object and(+FEK,neg(+FKVN))> ::=\n",
      "|    '{' <members and(+FEK,neg(+FKVN))> '}'\n",
      "<elements and(+FEK,neg(+FKVN))> ::=\n",
      "|    <element and(+FEK,neg(+FKVN))>\n",
      "|    <element and(+FEK,neg(+FKVN))> ',' <elements neg(+FKVN)>\n",
      "|    <element neg(+FKVN)> ',' <elements and(+FEK,neg(+FKVN))>\n",
      "<elements neg(+FKVN)> ::=\n",
      "|    <element neg(+FKVN)>\n",
      "|    <element neg(+FKVN)> ',' <elements neg(+FKVN)>\n",
      "<element neg(+FKVN)> ::=\n",
      "|    <array neg(+FKVN)>\n",
      "|    <number>\n",
      "|    <object neg(+FKVN)>\n",
      "|    <string>\n",
      "|    'false'\n",
      "|    'null'\n",
      "|    'true'\n",
      "<array neg(+FKVN)> ::=\n",
      "|    '[' <elements neg(+FKVN)> ']'\n",
      "|    '[]'\n",
      "<number> ::=\n",
      "|    <digits>\n",
      "<object neg(+FKVN)> ::=\n",
      "|    '{' <members neg(+FKVN)> '}'\n",
      "|    '{}'\n",
      "<string> ::=\n",
      "|    '\"' <characters> '\"'\n",
      "<digits> ::=\n",
      "|    <digit>\n",
      "|    <digit> <digits>\n",
      "<digit> ::=\n",
      "|    '0'\n",
      "|    '1'\n",
      "|    '2'\n",
      "|    '3'\n",
      "|    '4'\n",
      "|    '5'\n",
      "|    '6'\n",
      "|    '7'\n",
      "|    '8'\n",
      "|    '9'\n",
      "<members neg(+FKVN)> ::=\n",
      "|    <member neg(+FKVN)>\n",
      "|    <member neg(+FKVN)> ',' <members neg(+FKVN)>\n",
      "<member neg(+FKVN)> ::=\n",
      "|    <string> ':' <element and(neg(+FKVN),neg(LKVN_1))>\n",
      "<element and(neg(+FKVN),neg(LKVN_1))> ::=\n",
      "|    <array neg(+FKVN)>\n",
      "|    <number>\n",
      "|    <object neg(+FKVN)>\n",
      "|    <string>\n",
      "|    'false'\n",
      "|    'true'\n",
      "<characters> ::=\n",
      "|    \n",
      "|    <character> <characters>\n",
      "<character> ::=\n",
      "|    'a'\n",
      "|    'b'\n",
      "|    'c'\n",
      "<members and(+FEK,neg(+FKVN))> ::=\n",
      "|    <member and(+FEK,neg(+FKVN))>\n",
      "|    <member and(+FEK,neg(+FKVN))> ',' <members neg(+FKVN)>\n",
      "|    <member neg(+FKVN)> ',' <members and(+FEK,neg(+FKVN))>\n",
      "<member and(+FEK,neg(+FKVN))> ::=\n",
      "|    <string LEK_1> ':' <element and(neg(+FKVN),neg(LKVN_1))>\n",
      "|    <string> ':' <element and(+FEK,neg(+FKVN),neg(LKVN_1))>\n",
      "<string LEK_1> ::=\n",
      "|    '\"' <characters LEK_1> '\"'\n",
      "<element and(+FEK,neg(+FKVN),neg(LKVN_1))> ::=\n",
      "|    <array and(+FEK,neg(+FKVN))>\n",
      "|    <object and(+FEK,neg(+FKVN))>\n",
      "<characters LEK_1> ::=\n",
      "|    \n",
      "23 58\n"
     ]
    }
   ],
   "source": [
    "Gs(g)"
   ]
  },
  {
   "cell_type": "code",
   "execution_count": 566,
   "metadata": {},
   "outputs": [
    {
     "name": "stdout",
     "output_type": "stream",
     "text": [
      "<json and(+FEK,neg(+FKVN))> ::= <element and(+FEK,neg(+FKVN))>\n",
      "\n",
      "<element and(+FEK,neg(+FKVN))> ::= <array and(+FEK,neg(+FKVN))>\n",
      "\\alt <object and(+FEK,neg(+FKVN))>\n",
      "\n",
      "<array and(+FEK,neg(+FKVN))> ::= `[' <elements and(+FEK,neg(+FKVN))> `]'\n",
      "\n",
      "<object and(+FEK,neg(+FKVN))> ::= `{' <members and(+FEK,neg(+FKVN))> `}'\n",
      "\n",
      "<elements and(+FEK,neg(+FKVN))> ::= <element and(+FEK,neg(+FKVN))>\n",
      "\\alt <element and(+FEK,neg(+FKVN))> `,' <elements neg(+FKVN)>\n",
      "\\alt <element neg(+FKVN)> `,' <elements and(+FEK,neg(+FKVN))>\n",
      "\n",
      "<elements neg(+FKVN)> ::= <element neg(+FKVN)>\n",
      "\\alt <element neg(+FKVN)> `,' <elements neg(+FKVN)>\n",
      "\n",
      "<element neg(+FKVN)> ::= <array neg(+FKVN)>\n",
      "\\alt <number>\n",
      "\\alt <object neg(+FKVN)>\n",
      "\\alt <string>\n",
      "\\alt `false'\n",
      "\\alt `null'\n",
      "\\alt `true'\n",
      "\n",
      "<array neg(+FKVN)> ::= `[' <elements neg(+FKVN)> `]'\n",
      "\\alt `[]'\n",
      "\n",
      "<number> ::= <digits>\n",
      "\n",
      "<object neg(+FKVN)> ::= `{' <members neg(+FKVN)> `}'\n",
      "\\alt `{}'\n",
      "\n",
      "<string> ::= `\"' <characters> `\"'\n",
      "\n",
      "<digits> ::= <digit>\n",
      "\\alt <digit> <digits>\n",
      "\n",
      "<digit> ::= `0'\n",
      "\\alt `1'\n",
      "\\alt `2'\n",
      "\\alt `3'\n",
      "\\alt `4'\n",
      "\\alt `5'\n",
      "\\alt `6'\n",
      "\\alt `7'\n",
      "\\alt `8'\n",
      "\\alt `9'\n",
      "\n",
      "<members neg(+FKVN)> ::= <member neg(+FKVN)>\n",
      "\\alt <member neg(+FKVN)> `,' <members neg(+FKVN)>\n",
      "\n",
      "<member neg(+FKVN)> ::= <string> `:' <element and(neg(+FKVN),neg(LKVN_1))>\n",
      "\n",
      "<element and(neg(+FKVN),neg(LKVN_1))> ::= <array neg(+FKVN)>\n",
      "\\alt <number>\n",
      "\\alt <object neg(+FKVN)>\n",
      "\\alt <string>\n",
      "\\alt `false'\n",
      "\\alt `true'\n",
      "\n",
      "<characters> ::= $\\epsilon$\n",
      "\\alt <character> <characters>\n",
      "\n",
      "<character> ::= `a'\n",
      "\\alt `b'\n",
      "\\alt `c'\n",
      "\n",
      "<members and(+FEK,neg(+FKVN))> ::= <member and(+FEK,neg(+FKVN))>\n",
      "\\alt <member and(+FEK,neg(+FKVN))> `,' <members neg(+FKVN)>\n",
      "\\alt <member neg(+FKVN)> `,' <members and(+FEK,neg(+FKVN))>\n",
      "\n",
      "<member and(+FEK,neg(+FKVN))> ::= <string LEK_1> `:' <element and(neg(+FKVN),neg(LKVN_1))>\n",
      "\\alt <string> `:' <element and(+FEK,neg(+FKVN),neg(LKVN_1))>\n",
      "\n",
      "<string LEK_1> ::= `\"' <characters LEK_1> `\"'\n",
      "\n",
      "<element and(+FEK,neg(+FKVN),neg(LKVN_1))> ::= <array and(+FEK,neg(+FKVN))>\n",
      "\\alt <object and(+FEK,neg(+FKVN))>\n",
      "\n",
      "<characters LEK_1> ::= $\\epsilon$\n",
      "\n"
     ]
    }
   ],
   "source": [
    "g_to_latex(g)"
   ]
  },
  {
   "cell_type": "code",
   "execution_count": 567,
   "metadata": {},
   "outputs": [],
   "source": [
    "g_fuzzer = LimitFuzzer(g)"
   ]
  },
  {
   "cell_type": "markdown",
   "metadata": {},
   "source": [
    "At least one empty key, and no `null` as the value of a key (but `null` can exist anywhere else.)"
   ]
  },
  {
   "cell_type": "code",
   "execution_count": 568,
   "metadata": {
    "scrolled": true
   },
   "outputs": [
    {
     "name": "stdout",
     "output_type": "stream",
     "text": [
      "[62035,\"\",[[{\"\":false},null]]]\n",
      "[{\"\":[{\"\":true},false],\"\":false,\"\":true,\"\":false},\"a\",\"\"]\n",
      "[[[false,{\"\":true}],false],null]\n",
      "[[[{\"\":false}]],\"bbc\"]\n",
      "[7,true,{\"\":true,\"\":false},\"\",\"\"]\n",
      "[[[{\"\":false},true],[]]]\n",
      "{\"ab\":{\"\":false},\"\":true,\"bc\":true,\"\":[{\"\":true},null]}\n",
      "{\"\":{\"\":7,\"\":{\"\":true},\"\":false,\"\":true}}\n",
      "{\"\":true}\n",
      "{\"\":[{},[],false,true],\"a\":{\"\":true,\"\":false},\"a\":{\"\":false},\"\":\"\",\"\":true}\n",
      "[[{\"\":true,\"\":true}]]\n",
      "[false,{\"\":false,\"\":{\"\":true}}]\n",
      "[{\"c\":\"\",\"\":false}]\n",
      "[{\"\":[{\"\":true},true],\"\":3,\"\":true},false]\n",
      "[true,{\"\":{\"\":true},\"\":true,\"\":true},{\"\":false}]\n",
      "{\"c\":false,\"\":false,\"c\":[]}\n",
      "{\"\":[[{\"\":false}]]}\n",
      "[{\"\":false},{\"\":[]}]\n",
      "{\"\":3}\n",
      "{\"\":\"bcb\",\"a\":[{\"\":true}],\"\":8,\"\":\"\"}\n",
      "{\"a\":false,\"\":{\"\":true,\"\":false,\"\":false}}\n",
      "[{\"\":{},\"\":1,\"\":{\"\":false},\"\":true}]\n",
      "{\"aba\":[null,null,true,{\"\":false}],\"aa\":[]}\n",
      "{\"ca\":{\"\":[{\"\":false}]},\"ab\":[0],\"\":{},\"b\":true,\"\":5}\n",
      "[false,[[null],[{\"\":false}]]]\n",
      "[[{\"\":true,\"\":true},{}]]\n",
      "[8,{\"\":{},\"\":false},{\"\":true,\"\":false,\"\":true},false]\n",
      "{\"c\":[{\"\":false}]}\n",
      "[{\"\":[{\"\":true}]}]\n",
      "{\"b\":[{\"\":true}],\"\":false}\n",
      "{\"\":false,\"\":\"\"}\n",
      "[{\"a\":[{\"\":false}],\"\":\"\"}]\n",
      "{\"\":false,\"\":9,\"\":\"\"}\n",
      "{\"cca\":{\"\":{}}}\n",
      "{\"\":false}\n",
      "[{\"b\":\"\",\"\":1,\"\":false,\"\":true,\"\":false},{},true]\n",
      "{\"\":275,\"ca\":false,\"\":false,\"c\":false,\"\":\"\"}\n",
      "[{\"c\":[{\"\":false}]}]\n",
      "[{\"\":7,\"\":{\"\":false}},false,\"bb\",{\"\":true,\"\":false}]\n",
      "[[{\"\":false,\"\":true}],\"\"]\n",
      "{\"\":\"\",\"a\":61}\n",
      "[{\"c\":[false]},{\"\":[{\"\":true}],\"\":false},true]\n",
      "{\"\":{},\"a\":\"ab\",\"ba\":false,\"a\":false,\"\":false}\n",
      "[2,{\"\":true,\"\":{\"\":false},\"\":false,\"\":true}]\n",
      "[[[{\"\":false},true]],false]\n",
      "[{\"\":false},[[{\"\":true}],\"\",null]]\n",
      "[null,[false,[{\"\":false},null]]]\n",
      "[{\"c\":false,\"\":\"\"}]\n",
      "[\"c\",[{\"\":false}]]\n",
      "[{\"\":[false],\"\":{\"\":true}},null,true,[null,true]]\n",
      "[{\"\":[null],\"\":false,\"\":true}]\n",
      "[[false,[false]],[{\"\":true}],{}]\n",
      "{\"b\":9,\"\":{\"\":true},\"cc\":{\"\":true}}\n",
      "[[false,[{\"\":false}]],{}]\n",
      "[[{\"\":true,\"\":true},false,true,true,false]]\n",
      "[[[null],{\"\":true}],\"a\"]\n",
      "{\"\":true,\"aab\":[]}\n",
      "[{\"\":true,\"\":[{\"\":false},true],\"\":false},\"\",true,{}]\n",
      "{\"\":\"bb\",\"\":{\"\":true},\"bc\":[],\"\":true}\n",
      "[[[true,{\"\":true},null],null],false]\n",
      "[{\"\":\"\",\"\":\"\",\"\":true},true,null]\n",
      "{\"\":{}}\n",
      "[[5,[{\"\":false}]],true]\n",
      "[{\"b\":[{\"\":true},null]}]\n",
      "{\"a\":[],\"\":true,\"\":3,\"\":true}\n",
      "[{\"c\":{\"\":true},\"\":{}},false]\n",
      "[[[false],false,{\"\":false}],null]\n",
      "{\"\":true,\"c\":{\"\":true,\"\":true},\"c\":true,\"b\":[]}\n",
      "[[\"\",null],{\"\":[{\"\":false}],\"\":true}]\n",
      "[{\"\":{\"\":true},\"\":false,\"\":true},{},{},{}]\n",
      "[[{\"\":false,\"\":false},false,1,null],false]\n",
      "[[null,[{\"\":false}]]]\n",
      "{\"\":false,\"ba\":{\"\":{\"\":false}},\"ba\":31,\"\":[true]}\n",
      "[[{\"\":false,\"\":false}]]\n",
      "{\"a\":true,\"\":{},\"\":0}\n",
      "[{\"c\":[{\"\":false},false]},[]]\n",
      "{\"\":6,\"\":{\"\":{\"\":false},\"\":true},\"\":true}\n",
      "{\"\":[{\"\":true},8,null,false]}\n",
      "[[null],[[{\"\":true}],true,false]]\n",
      "{\"bb\":[[{\"\":false}]],\"aca\":\"b\"}\n",
      "[false,{\"\":\"\",\"\":true,\"\":true,\"\":true}]\n",
      "{\"\":false,\"ba\":true,\"\":\"\"}\n",
      "{\"b\":[[{\"\":true},true],true]}\n",
      "{\"\":false,\"\":false,\"ac\":\"a\",\"a\":false}\n",
      "{\"\":true,\"c\":8,\"a\":{\"\":false},\"b\":6,\"\":6,\"\":true,\"\":true}\n",
      "[[true,{\"\":false}]]\n",
      "{\"c\":{\"\":{\"\":true},\"\":true}}\n",
      "{\"caba\":false,\"\":\"\"}\n",
      "[true,\"\",[{\"\":true}]]\n",
      "[[{\"\":true,\"\":false}]]\n",
      "{\"b\":[],\"c\":true,\"b\":[null,{\"\":false}]}\n",
      "[{\"\":0,\"\":\"\",\"\":false,\"\":true,\"\":false}]\n",
      "[[[{\"\":true}]],[],null,null]\n",
      "{\"\":\"\",\"cc\":[],\"\":true,\"c\":{\"\":true},\"\":false}\n",
      "{\"\":\"cc\",\"\":{\"\":false,\"\":false},\"a\":\"c\",\"\":4}\n",
      "[{\"\":true,\"\":{},\"\":{\"\":true},\"\":true}]\n",
      "[[{\"\":false,\"\":false},{},true]]\n",
      "[[[],{\"\":false}],null]\n",
      "[false,{\"\":2,\"\":false}]\n",
      "[{\"\":\"\"}]\n",
      "{\"\":{\"\":[{\"\":true},true],\"\":true}}\n",
      "{\"b\":[[{\"\":false}],{}],\"\":{\"\":false},\"ca\":2}\n",
      "[[{\"\":true}]]\n",
      "{\"\":[]}\n",
      "{\"\":true,\"\":true,\"\":false}\n",
      "[{\"\":3,\"\":{\"\":false},\"\":false,\"\":true},[]]\n",
      "[{\"a\":{\"\":false}}]\n",
      "{\"a\":true,\"b\":\"\",\"\":{\"\":false},\"b\":{\"\":false},\"\":true,\"\":false,\"\":true}\n",
      "{\"\":{},\"b\":[{\"\":false}],\"cb\":true,\"a\":[]}\n",
      "{\"\":68,\"\":[[{\"\":true}],true],\"\":{}}\n",
      "[48,{\"\":false,\"\":true}]\n",
      "{\"b\":true,\"\":[{\"\":false},false],\"b\":true}\n",
      "{\"\":17,\"\":99,\"\":[true]}\n",
      "[{\"\":{\"\":false}}]\n",
      "[{},[[{\"\":true}],true,false,false]]\n",
      "{\"aacc\":{\"\":{\"\":true},\"\":false}}\n",
      "[[{},[{\"\":true}],\"\"],true]\n",
      "{\"\":{},\"\":\"c\"}\n",
      "{\"caba\":{\"\":1,\"\":true,\"\":false,\"\":false},\"\":721,\"a\":\"\",\"c\":false,\"\":\"\"}\n",
      "[[{\"\":false,\"\":false},true,{}],null]\n",
      "[null,[[{\"\":false}],[]]]\n",
      "{\"\":false,\"\":{\"\":false,\"\":true}}\n",
      "{\"cbc\":[{\"\":false},true],\"\":{\"\":false,\"\":true,\"\":true}}\n",
      "{\"\":\"\",\"a\":971}\n",
      "{\"\":7,\"c\":true,\"c\":\"\",\"c\":true,\"\":{}}\n",
      "{\"\":{\"\":4,\"\":{\"\":true}},\"b\":[]}\n",
      "[{\"c\":4,\"\":{}},null,[\"\",null]]\n",
      "[\"\",[7,{\"\":false},false,false]]\n",
      "[[\"\",{\"\":true}]]\n",
      "{\"\":{\"\":false,\"\":true,\"\":false,\"\":false}}\n",
      "{\"\":{\"\":true,\"\":true}}\n",
      "{\"\":[[],false,{\"\":true}],\"b\":false}\n",
      "{\"bc\":26,\"\":134,\"b\":{}}\n",
      "{\"b\":{\"\":\"\",\"\":{\"\":true},\"\":false}}\n",
      "[[[{\"\":false}],false,4,false]]\n",
      "[[[{\"\":false},false],{},null,true]]\n",
      "{\"\":[[{\"\":true},true]],\"\":524,\"c\":false,\"a\":false}\n",
      "[{\"\":2,\"\":true},\"bc\"]\n",
      "[[null,true],false,null,{\"\":false}]\n",
      "[{\"\":\"\"},false]\n",
      "[06071,[[false],{},{\"\":false}],\"ac\"]\n",
      "[[{\"\":true,\"\":false},\"\",false]]\n",
      "[{\"\":{\"\":true}},9]\n",
      "[[[false],{\"\":false},null,true],null,[\"\"]]\n",
      "[{\"\":[]}]\n",
      "[true,{\"\":6,\"\":false}]\n",
      "{\"\":[{\"\":true}],\"\":\"ab\",\"ac\":{\"\":true}}\n",
      "[[[{\"\":true},true],false,false],{\"\":4}]\n",
      "{\"a\":false,\"\":{\"\":true,\"\":false,\"\":false},\"\":true}\n",
      "{\"\":\"\",\"ba\":{\"\":false}}\n",
      "[[[{\"\":false}],false,\"\",null,false]]\n",
      "{\"\":{},\"c\":true}\n",
      "{\"\":{\"\":6},\"cab\":true,\"a\":\"b\"}\n",
      "[[{\"\":false},{}]]\n",
      "[{\"\":[{\"\":true}],\"\":{}}]\n",
      "{\"\":[],\"a\":6}\n",
      "{\"ac\":[null,{\"\":true},true]}\n",
      "[[],[{\"\":true},\"\"]]\n",
      "{\"\":\"cab\"}\n",
      "{\"\":true,\"cb\":6}\n",
      "{\"\":\"c\",\"a\":{\"\":false,\"\":true},\"\":\"b\",\"b\":[]}\n",
      "{\"b\":[[{\"\":true}],true,null],\"b\":[],\"ba\":40,\"\":\"\"}\n",
      "[true,null,{\"\":false,\"\":false,\"\":false},false,[],\"\"]\n",
      "[true,[4,5,{\"\":true}],\"b\",true]\n",
      "{\"\":[{},false],\"bb\":1}\n",
      "{\"\":[\"\",4,null,{\"\":false}],\"\":[],\"\":false,\"\":false,\"\":{}}\n",
      "{\"\":71}\n",
      "[[[{\"\":false}]]]\n",
      "[[2,2],[[{\"\":true}],null],false,true]\n",
      "[\"c\",true,{\"\":false,\"\":true,\"\":false}]\n",
      "{\"\":[{\"\":false}]}\n",
      "{\"b\":{\"\":6},\"\":[[{\"\":true},false]],\"b\":[null]}\n",
      "[[{\"\":true,\"\":false},[null],null,true],null]\n",
      "[{\"\":{\"\":true},\"\":true},\"\"]\n",
      "{\"\":{\"\":[],\"\":{\"\":true}}}\n",
      "[{\"b\":[{\"\":false},false],\"\":[]},null,{}]\n",
      "[[[],[{\"\":true},null],{}]]\n",
      "{\"cc\":[[{\"\":true}],\"\"],\"\":false,\"c\":\"\"}\n",
      "{\"\":{\"\":true,\"\":true,\"\":true}}\n",
      "[null,null,null,{\"\":false,\"\":true},{\"\":false}]\n",
      "{\"\":7}\n",
      "{\"\":{\"\":true},\"c\":true,\"bb\":false,\"a\":{}}\n",
      "[[[false,{\"\":false},true]],2]\n",
      "[[[{\"\":true}]]]\n",
      "{\"\":[9,\"\",false,false]}\n",
      "[true,false,{\"\":true,\"\":true,\"\":true},[{\"\":false}]]\n",
      "{\"ab\":{\"\":7,\"\":true},\"ba\":[],\"\":[null,{\"\":false}]}\n",
      "{\"aa\":[{},null,{\"\":false},false]}\n",
      "[false,[null,{\"\":true}],false]\n",
      "[[{\"\":true,\"\":false},null]]\n",
      "{\"\":{\"\":9},\"\":{\"\":true,\"\":false},\"ab\":[],\"\":{\"\":true}}\n",
      "{\"\":false,\"\":693}\n",
      "{\"acb\":{\"\":{\"\":true},\"\":true,\"\":true,\"\":true}}\n",
      "[[[true,{\"\":true},false],true,false,false]]\n",
      "[[[{\"\":true},false],{\"\":true}],true]\n",
      "[{\"\":\"\",\"\":\"\"},[\"\",{\"\":false}],[]]\n",
      "[{\"b\":[],\"\":[{\"\":false}],\"\":false}]\n",
      "[[94,[{\"\":false},true],[],null]]\n",
      "[[{\"\":true,\"\":true},false]]\n",
      "[{\"\":[true],\"\":8,\"\":true,\"\":true},[]]\n",
      "{\"\":{\"\":\"\",\"\":false},\"bc\":[true]}\n",
      "[{\"\":3}]\n",
      "[{\"\":{\"\":false}},true]\n",
      "[{\"\":\"\",\"\":5},false,true]\n",
      "{\"c\":[],\"\":[[{\"\":true}]],\"c\":\"a\",\"b\":\"\",\"\":\"\",\"\":true,\"\":true}\n",
      "[[[{\"\":false}]],\"\",{\"\":false,\"\":true},0]\n",
      "{\"\":[[{\"\":true}],{}],\"\":{\"\":true}}\n",
      "{\"a\":[{\"\":false}]}\n",
      "{\"ccba\":false,\"bb\":[{},{\"\":true},false]}\n",
      "[{\"\":5,\"\":false}]\n",
      "[{},{\"\":\"\",\"\":false},[],false,\"\",false,null]\n",
      "[[],[null,{\"\":false}]]\n",
      "[false,{\"\":\"\"},{}]\n",
      "[null,{\"\":[],\"\":false},{\"\":{\"\":true},\"\":false}]\n",
      "{\"\":true,\"\":\"\",\"cc\":[false,{\"\":false},true],\"a\":1}\n",
      "{\"bb\":1,\"c\":[false,{\"\":true},true],\"c\":true,\"b\":[true],\"\":{}}\n",
      "{\"b\":{\"\":{},\"\":true,\"\":true}}\n",
      "[[\"\",{\"\":true},[],null,null],{},\"bb\",7]\n",
      "{\"\":{\"\":false,\"\":false,\"\":true,\"\":false},\"cbc\":false,\"ba\":true}\n",
      "[false,5,{\"\":false,\"\":true,\"\":false}]\n",
      "{\"c\":{\"\":false,\"\":true}}\n",
      "{\"bb\":[{\"\":false},[],false,false]}\n",
      "{\"b\":[[{\"\":false}]],\"\":3,\"\":94,\"\":true,\"\":{},\"\":true}\n",
      "{\"\":false,\"\":{\"\":true,\"\":false,\"\":true}}\n",
      "{\"\":[[{\"\":false},null]]}\n",
      "[[false],[{\"\":true},{},true,false]]\n",
      "[{\"c\":\"\",\"\":{}},[],true,{\"\":true}]\n",
      "{\"bcab\":[[{\"\":true}],null]}\n",
      "[[[{\"\":true}],true,true,null]]\n",
      "{\"bcc\":[null,false,{\"\":true}]}\n",
      "[{\"\":true,\"\":{},\"\":false,\"\":true},true]\n",
      "[[[null,{\"\":false}]],{\"\":{}}]\n",
      "{\"\":[{\"\":false},null],\"\":50}\n",
      "[[{\"\":false},6,\"\",null,{\"\":false}],null]\n",
      "[{\"\":9,\"\":0}]\n",
      "{\"b\":[[{\"\":true}],true,true,false],\"\":5,\"\":\"\"}\n",
      "{\"\":\"\",\"\":\"aa\",\"c\":\"c\"}\n",
      "[{\"a\":[],\"\":\"\"},null,true]\n",
      "[1945,false,[{\"\":true}]]\n",
      "{\"\":\"\"}\n",
      "{\"\":{},\"\":false}\n",
      "[985,{\"\":false,\"\":true,\"\":false,\"\":true},false]\n",
      "[{\"\":[{\"\":false},null],\"\":false,\"\":false,\"\":false,\"\":false},6]\n",
      "[null,[[{\"\":true}]]]\n",
      "[{\"\":9},[{\"\":true}],\"\"]\n",
      "[false,[{\"\":false},{},false]]\n",
      "{\"\":\"ba\",\"b\":{\"\":true,\"\":false}}\n",
      "{\"a\":09,\"ccc\":3,\"\":false}\n",
      "{\"\":true,\"\":false}\n",
      "[{\"b\":[{\"\":false},true],\"\":false,\"\":true,\"\":false},false]\n",
      "{\"\":{\"\":{}}}\n",
      "[{\"b\":[{\"\":true},false]}]\n",
      "{\"bca\":false,\"\":\"b\"}\n",
      "{\"c\":{\"\":1},\"\":{\"\":true,\"\":false,\"\":false}}\n",
      "{\"\":{},\"\":false,\"a\":true}\n",
      "[{\"\":3,\"\":\"\",\"\":{\"\":true}}]\n",
      "{\"\":[7,null,true,{\"\":false},false]}\n",
      "{\"\":\"c\"}\n",
      "[[\"\",[{\"\":true}]],{},null]\n",
      "[[\"\",[{\"\":false}],true,true]]\n",
      "[true,{\"\":{\"\":true},\"\":true},1,null,false,8,true,true]\n",
      "{\"\":{\"\":\"\"}}\n",
      "{\"bcab\":true,\"\":\"ba\"}\n",
      "{\"\":false,\"\":[false],\"ab\":\"a\",\"a\":{\"\":true},\"\":false,\"\":false,\"\":false}\n",
      "{\"\":{\"\":[]},\"a\":{\"\":true,\"\":false,\"\":false}}\n",
      "[{\"\":{\"\":true}},[2,1],701]\n",
      "[{\"\":{\"\":false},\"\":7,\"\":true,\"\":false,\"\":false},true]\n",
      "[{},false,null,{\"\":true,\"\":true}]\n",
      "[{\"\":false,\"\":true,\"\":true,\"\":false},null,[{},true]]\n",
      "[{\"\":{\"\":true},\"\":false,\"\":true,\"\":false},true]\n",
      "{\"\":{\"\":false,\"\":true,\"\":true,\"\":false}}\n",
      "{\"\":\"a\",\"\":false,\"b\":[]}\n",
      "[{\"\":[]},\"\",true,9]\n",
      "{\"\":\"b\",\"cac\":{},\"\":{\"\":true,\"\":false},\"c\":\"\"}\n",
      "{\"\":false,\"\":true}\n",
      "[[],{\"\":{\"\":false}},088,\"\"]\n",
      "{\"\":34,\"\":[{}],\"\":[false,false]}\n",
      "[null,{\"\":\"\"},{\"\":false}]\n",
      "{\"\":[\"\",[{\"\":true},true],null]}\n",
      "{\"\":{\"\":true,\"\":false,\"\":true}}\n",
      "{\"ca\":[null,null,{\"\":true}]}\n",
      "{\"b\":{\"\":{},\"\":false,\"\":true,\"\":false},\"a\":true,\"\":true,\"a\":{\"\":false}}\n",
      "[{\"\":true},\"bbb\",null]\n",
      "[{\"\":[],\"\":3,\"\":true}]\n",
      "[{\"c\":false,\"\":\"\"},{\"\":true},false]\n",
      "[{\"a\":3,\"\":{},\"\":{\"\":false}}]\n",
      "[{\"\":{},\"\":[]}]\n",
      "{\"a\":true,\"\":true}\n",
      "[false,[true],[5,true,{\"\":false}],[]]\n",
      "[{\"\":false},3,true,6,true,[{\"\":true},true]]\n",
      "{\"\":{\"\":\"\",\"\":true,\"\":true,\"\":true}}\n",
      "[{\"c\":8,\"\":{}},{\"\":{},\"\":{\"\":true},\"\":true,\"\":false},null]\n",
      "[{\"\":7},{},false,\"\",null]\n",
      "[[{\"\":false,\"\":false}],true,2]\n",
      "[false,\"\",{\"\":false,\"\":false}]\n",
      "{\"\":[\"\"],\"\":true,\"c\":{\"\":false,\"\":true},\"a\":\"\",\"\":false,\"\":false}\n",
      "[[{\"\":false,\"\":false}],true]\n",
      "{\"\":\"\",\"c\":\"\"}\n",
      "[{\"\":false},{\"\":\"\"}]\n",
      "[true,{\"\":{},\"\":true}]\n",
      "{\"\":{\"\":8,\"\":false,\"\":true,\"\":true},\"\":[false,true,{\"\":true}],\"cb\":\"\",\"\":{\"\":true}}\n",
      "{\"\":false,\"bbb\":true}\n",
      "[[[true,{\"\":false},true]],[],null,45,true]\n",
      "[[[{\"\":true},null],true]]\n",
      "[[{\"\":false,\"\":true},{\"\":true},\"\"]]\n",
      "{\"\":\"\",\"\":{\"\":false}}\n",
      "{\"\":{},\"\":[null,true,false],\"\":[{\"\":true}]}\n",
      "[null,[],[{\"\":true},false]]\n",
      "[{\"\":false,\"\":true},\"bba\"]\n",
      "{\"cb\":true,\"bcb\":[[],{\"\":true}]}\n",
      "{\"\":false,\"\":{\"\":{\"\":false},\"\":true}}\n",
      "[{\"a\":[{\"\":true},false],\"\":false,\"\":false},32]\n",
      "{\"ac\":{\"\":{\"\":false}},\"\":{},\"\":{}}\n",
      "[[[false],null,{\"\":true}],{},[5,false]]\n",
      "[{\"\":false},{\"\":{},\"\":true,\"\":false,\"\":true}]\n",
      "[[false],{\"\":false,\"\":false,\"\":false,\"\":true},{\"\":false},false]\n",
      "{\"\":[3,{}],\"\":true,\"\":81,\"a\":[false],\"\":{}}\n",
      "{\"\":[[{\"\":false},true],true,false]}\n",
      "[{\"\":4,\"\":false,\"\":{\"\":true},\"\":true}]\n",
      "{\"\":[{\"\":true},7],\"\":151,\"\":{\"\":false},\"\":{}}\n",
      "[[[null],false],[[{\"\":false},null]],true,[],\"\"]\n",
      "[{\"b\":{\"\":true},\"\":true}]\n",
      "[[{\"\":true,\"\":false},null,[]],null]\n",
      "[{\"b\":{\"\":true}}]\n",
      "{\"\":[{}],\"\":{\"\":false},\"\":[false]}\n",
      "[{\"b\":{\"\":false}}]\n",
      "[[{\"\":false,\"\":true},null,{\"\":false}],{},207]\n",
      "[[{\"\":true},true,[],true,{\"\":false},null],null,true]\n",
      "[{\"a\":{\"\":false},\"\":false},true,false]\n",
      "{\"\":true,\"\":[false],\"c\":[null,false],\"\":0,\"\":false}\n",
      "[\"ca\",false,true,[{\"\":true},false]]\n",
      "{\"\":{\"\":[]},\"\":false,\"b\":[]}\n",
      "[[[false,{\"\":true}]]]\n",
      "[{\"\":[{\"\":true},false]}]\n",
      "[{\"a\":\"\",\"\":{\"\":false},\"\":false,\"\":false,\"\":true},true]\n",
      "[{\"b\":[{\"\":false},true]}]\n",
      "{\"\":{\"\":[],\"\":true,\"\":true},\"a\":true}\n",
      "[{\"c\":[{\"\":true},false],\"\":{}}]\n",
      "{\"\":true,\"\":\"\",\"a\":{}}\n",
      "{\"\":\"acc\"}\n",
      "[[[false],[{\"\":false}]],{},3]\n",
      "{\"bcc\":[null,{\"\":true}],\"\":[]}\n",
      "{\"\":[null,[],true,true]}\n",
      "[true,{\"\":{\"\":true},\"\":true},null,53,[],\"\"]\n",
      "{\"\":{\"\":8,\"\":true,\"\":true,\"\":true},\"\":[],\"\":{}}\n",
      "[[null,{\"\":true}]]\n",
      "{\"ca\":[[null],[{\"\":false},false],true],\"bac\":{\"\":true,\"\":false,\"\":false}}\n",
      "{\"c\":{\"\":{},\"\":false,\"\":false}}\n",
      "{\"\":false,\"\":[{},null,{\"\":false},null]}\n",
      "[{\"c\":\"\"},\"a\",[\"\",true,{\"\":true}],[]]\n"
     ]
    },
    {
     "name": "stdout",
     "output_type": "stream",
     "text": [
      "{\"bbca\":{\"\":[{\"\":true}]}}\n",
      "{\"acca\":[\"\",false,null,false],\"\":[[{\"\":true}]],\"\":[true,false],\"\":true,\"\":\"\"}\n",
      "{\"\":\"\",\"ac\":true}\n",
      "[false,[[{\"\":true},false]]]\n",
      "[false,{\"\":\"\",\"\":false}]\n",
      "{\"\":false,\"a\":[{\"\":true}]}\n",
      "{\"c\":{\"\":{},\"\":true},\"\":true}\n",
      "{\"c\":\"\",\"\":true}\n",
      "[false,4,[\"\",{\"\":false},null],[null]]\n",
      "[[[null,{\"\":true},false]]]\n",
      "[{\"b\":true,\"\":{},\"\":{\"\":true}},[]]\n",
      "{\"cca\":{\"\":\"\",\"\":{\"\":false},\"\":false,\"\":true},\"\":{},\"a\":false}\n",
      "{\"\":{},\"\":550}\n",
      "{\"\":{\"\":\"\",\"\":{\"\":true}},\"\":25,\"\":{\"\":true}}\n",
      "[[\"\",[{\"\":false},false]]]\n",
      "[{\"\":[{\"\":false},null]}]\n",
      "{\"aab\":{\"\":{\"\":false},\"\":true}}\n",
      "{\"cbbc\":\"\",\"a\":[[{\"\":true},true]]}\n",
      "{\"\":false,\"\":[{}]}\n",
      "[{\"\":{\"\":false}},true,false]\n",
      "[{\"\":false,\"\":true,\"\":true,\"\":true}]\n",
      "[5,7,[[{\"\":true},false]]]\n",
      "{\"aa\":{\"\":{},\"\":true,\"\":false,\"\":true},\"cac\":[],\"b\":true}\n",
      "{\"ba\":{\"\":{\"\":true},\"\":false},\"\":6,\"bc\":false}\n",
      "{\"\":[],\"\":true}\n",
      "[{\"a\":[{\"\":true},null],\"\":{},\"\":false,\"\":true,\"\":false}]\n",
      "{\"bcc\":[{\"\":false},6],\"\":{\"\":false,\"\":true,\"\":false}}\n",
      "[null,{\"\":true,\"\":true},932,false,\"\"]\n",
      "[{\"c\":[],\"\":1}]\n",
      "[{\"\":false}]\n",
      "[{\"b\":[null],\"\":[],\"\":{\"\":true},\"\":true,\"\":true}]\n",
      "{\"\":true,\"c\":false}\n",
      "[{\"a\":[false],\"\":\"\",\"\":false,\"\":true,\"\":true},\"ca\"]\n",
      "[[[]],[\"\"],true,[false,{\"\":false},false],false,\"\"]\n",
      "{\"abca\":{\"\":[]}}\n",
      "[[],{\"\":{\"\":true}}]\n",
      "[[[null,null],[true],{\"\":true},null]]\n",
      "{\"a\":{},\"bbb\":\"b\",\"cb\":98,\"a\":{\"\":false}}\n",
      "{\"a\":[[{\"\":false},null]],\"bcc\":\"cb\"}\n",
      "{\"\":0}\n",
      "{\"\":{},\"\":3,\"\":true}\n",
      "{\"\":[{\"\":false}],\"c\":true}\n",
      "{\"\":\"abb\",\"\":[true,{\"\":true}]}\n",
      "[{\"a\":{\"\":false},\"\":false,\"\":true}]\n",
      "{\"c\":true,\"c\":{\"\":true,\"\":false,\"\":false},\"\":[null],\"c\":[false]}\n",
      "[[47],{\"\":[{\"\":true}]},false]\n",
      "[false,{\"\":{\"\":true},\"\":false}]\n",
      "[[[{\"\":true},true],[]]]\n",
      "{\"a\":false,\"\":[],\"c\":\"\",\"\":true,\"\":true,\"\":true,\"\":false}\n",
      "{\"\":{\"\":true}}\n",
      "{\"\":\"b\",\"\":\"ab\"}\n",
      "[{\"\":9,\"\":\"\",\"\":true,\"\":false}]\n",
      "[[true,{\"\":true},[],true],true]\n",
      "[7,{\"\":[]}]\n",
      "{\"\":\"aac\"}\n",
      "[[{\"\":false,\"\":true}]]\n",
      "[{\"\":0,\"\":[],\"\":false,\"\":true},null,true,true]\n",
      "[[],null,\"\",true,{\"\":true},9]\n",
      "{\"\":{\"\":3,\"\":true}}\n",
      "[[{\"\":true,\"\":false}],{},false,[]]\n",
      "[\"\",[null,5,{\"\":false}]]\n",
      "[[{\"\":false,\"\":true}],1,true]\n",
      "{\"c\":[{}],\"b\":false,\"cc\":true,\"\":[true]}\n",
      "[\"\",{\"\":0,\"\":false,\"\":true,\"\":false}]\n",
      "{\"\":{\"\":{\"\":false}}}\n",
      "[\"\",null,[[{\"\":false}]],false]\n",
      "{\"\":[],\"a\":{\"\":{\"\":true},\"\":false}}\n",
      "[false,{},[[{\"\":false}],null,true],\"\",{},true,true]\n",
      "[[[]],true,false,{},{\"\":false}]\n",
      "[[[null,{\"\":false},false]],false]\n",
      "{\"\":\"cc\"}\n",
      "{\"abaa\":{\"\":6},\"\":[false],\"\":4,\"b\":false}\n",
      "[null,{\"\":[{\"\":true}]}]\n",
      "{\"caa\":7,\"cba\":[{\"\":false}]}\n",
      "[[{\"\":true,\"\":false},false]]\n",
      "[[{\"\":false},[false],\"\"],7]\n",
      "[false,null,{\"\":true,\"\":false,\"\":true},null]\n",
      "{\"c\":{\"\":1,\"\":{\"\":true}}}\n",
      "[false,{\"\":true,\"\":{\"\":false}}]\n",
      "{\"\":[{\"\":false},\"\",false,true]}\n",
      "[{\"c\":{}},{},[[{\"\":false},null]],\"\"]\n",
      "{\"c\":{\"\":\"\"},\"b\":2,\"\":true,\"\":\"\"}\n",
      "[{\"a\":{\"\":false},\"\":8,\"\":true},\"a\",false]\n",
      "[{\"a\":5,\"\":{\"\":false}},\"a\"]\n",
      "{\"\":true,\"\":[]}\n",
      "[35,[false,true,{\"\":true}]]\n",
      "{\"\":{\"\":false,\"\":true,\"\":false},\"\":\"c\",\"c\":{},\"\":[{\"\":false},false]}\n",
      "[[[false,{\"\":false},null]]]\n",
      "[[[{\"\":false}],null,{},true,true],[]]\n",
      "[{\"\":[{\"\":true},null],\"\":\"\",\"\":true,\"\":true},[\"\"],null,false]\n",
      "{\"\":\"\",\"\":{\"\":{\"\":true}},\"\":7,\"\":3}\n",
      "{\"\":\"cba\"}\n",
      "{\"\":{\"\":false,\"\":true,\"\":false},\"c\":7}\n",
      "{\"\":true,\"\":\"aa\",\"\":{}}\n",
      "[{\"c\":[{\"\":false},false]}]\n",
      "{\"\":{\"\":{\"\":true}},\"\":{\"\":false},\"\":true}\n",
      "{\"\":1}\n",
      "[{\"b\":1,\"\":[{\"\":false},false]}]\n",
      "[false,{\"\":false,\"\":false},1]\n",
      "{\"\":{\"\":\"\",\"\":false,\"\":true,\"\":true},\"\":\"\",\"\":[],\"a\":{},\"\":true}\n",
      "[[{\"\":true,\"\":false},\"\"],{\"\":\"\",\"\":false}]\n",
      "[{},[[{\"\":false},false],{},false]]\n",
      "{\"a\":{\"\":true},\"\":false,\"cc\":false}\n",
      "[false,{\"\":{\"\":true},\"\":true}]\n",
      "[[{\"\":false,\"\":false},false]]\n",
      "[[[false,{\"\":true}]],false,true]\n",
      "[{\"\":{\"\":true}}]\n",
      "{\"bba\":false,\"\":\"\"}\n",
      "[true,[{}],true,{\"\":true},\"\",true]\n",
      "[null,1,[{\"\":true},true,true],true]\n",
      "[[{\"\":true},{\"\":true},[]],false,null]\n",
      "[{\"\":true},[]]\n",
      "[[{\"\":false},\"\",true],[false],null]\n",
      "[{\"c\":{\"\":false},\"\":\"\"}]\n",
      "{\"\":true,\"\":[\"\",{\"\":true},false],\"\":true}\n",
      "{\"bb\":[[null]],\"c\":[[{\"\":true},null],false]}\n",
      "{\"\":[\"\",null],\"c\":false}\n",
      "{\"ccb\":{\"\":\"\",\"\":true,\"\":false,\"\":false},\"ba\":{\"\":false},\"a\":\"\"}\n",
      "[63,[false],\"c\",[{\"\":false},true]]\n",
      "{\"c\":{\"\":true,\"\":true,\"\":true},\"b\":{\"\":{\"\":true},\"\":true}}\n",
      "[{\"c\":0,\"\":\"\"},[]]\n",
      "{\"\":[],\"\":{},\"\":false,\"\":{\"\":false},\"\":false,\"\":true,\"\":false,\"\":true}\n",
      "{\"b\":[[],{\"\":false}],\"c\":[\"\",false]}\n",
      "{\"\":{\"\":{\"\":true}}}\n",
      "{\"\":false,\"\":{\"\":true,\"\":false,\"\":false},\"cc\":[false,false],\"b\":false,\"\":\"\"}\n",
      "[{\"\":\"\"},null,false]\n",
      "[{},[{\"\":true},null],\"\",\"\",[]]\n",
      "{\"\":0,\"\":true,\"\":[true,{\"\":true}]}\n",
      "{\"\":false,\"\":{}}\n",
      "[{\"c\":false,\"\":{\"\":false}},\"caa\"]\n",
      "{\"\":true,\"\":true,\"b\":2,\"b\":{\"\":false}}\n",
      "[{},{\"\":false},\"c\",70,{\"\":true}]\n",
      "{\"\":{\"\":{},\"\":true}}\n",
      "{\"\":9,\"c\":{\"\":true,\"\":false},\"\":{}}\n",
      "[[[{\"\":true},null],\"\"],{\"\":\"\",\"\":true,\"\":true,\"\":false}]\n",
      "[{\"b\":4,\"\":true,\"\":false,\"\":false,\"\":true}]\n",
      "{\"\":6}\n",
      "{\"c\":\"c\",\"\":{\"\":false,\"\":false,\"\":false},\"a\":{},\"a\":true,\"\":true}\n",
      "{\"b\":true,\"\":\"a\",\"\":\"a\"}\n",
      "{\"a\":\"\",\"\":[],\"\":\"\"}\n",
      "[{\"\":7,\"\":false,\"\":true,\"\":true}]\n",
      "[[[{\"\":false}]],true,false]\n",
      "{\"c\":[[{\"\":true}],false,true]}\n",
      "[{\"\":3,\"\":\"\",\"\":true,\"\":false,\"\":false},4]\n",
      "{\"\":\"b\",\"a\":false}\n",
      "[[{\"\":true,\"\":true}],{\"\":9}]\n",
      "{\"\":[[{\"\":true}],true],\"\":[],\"b\":[],\"b\":true}\n",
      "[\"\",0,77,\"b\",false,true,{\"\":true}]\n",
      "[{\"b\":[{\"\":true}],\"\":{}}]\n",
      "{\"\":\"cc\",\"\":true,\"b\":true,\"c\":{}}\n",
      "[[[{\"\":true},false],5]]\n",
      "[{\"\":{}},null]\n",
      "[false,{\"\":[],\"\":{\"\":false}},202,true]\n",
      "{\"\":[],\"b\":false,\"a\":{},\"\":true,\"\":\"\"}\n",
      "{\"bbb\":{\"\":8,\"\":{\"\":true},\"\":false}}\n",
      "[6,\"bc\",false,{\"\":false},[{\"\":true},true],{},true,false]\n",
      "{\"\":[{},null,null,true],\"\":false,\"cb\":9,\"\":8}\n",
      "{\"\":{\"\":{},\"\":false}}\n",
      "{\"\":[],\"\":[6],\"\":{},\"a\":[null]}\n",
      "{\"c\":\"\",\"cc\":[[],{\"\":true}]}\n",
      "{\"\":false,\"cbc\":[{\"\":true},null,true]}\n",
      "[[],{\"\":[{\"\":true},null],\"\":true,\"\":false,\"\":false}]\n",
      "{\"\":[],\"\":[\"\"]}\n",
      "{\"\":[{\"\":false},1,false,true],\"\":false}\n",
      "{\"b\":[[{\"\":false}]]}\n",
      "[[],[3,true,{\"\":false}]]\n",
      "{\"b\":{\"\":[],\"\":false},\"\":\"\"}\n",
      "[{\"a\":6,\"\":{},\"\":false},\"cb\",{},[false,false],{}]\n",
      "[{\"c\":{\"\":true},\"\":false,\"\":false,\"\":true,\"\":false}]\n",
      "{\"\":false,\"b\":7}\n",
      "[{\"c\":[{\"\":true}]}]\n",
      "{\"\":[],\"c\":false}\n",
      "{\"\":[[{\"\":false},false]],\"a\":9,\"a\":{\"\":false}}\n",
      "[{\"c\":false,\"\":{\"\":true}},\"a\"]\n",
      "{\"bb\":[],\"\":{\"\":true,\"\":true}}\n",
      "{\"c\":{\"\":\"\",\"\":{\"\":true},\"\":true,\"\":true},\"ac\":false}\n",
      "[[{\"\":true},null,[],null],true,\"b\"]\n",
      "[{\"\":[{\"\":false}],\"\":\"\"}]\n",
      "[[{\"\":true,\"\":false}],\"caa\",{\"\":false,\"\":true,\"\":true}]\n",
      "[\"\",\"\",[[{\"\":true},false]],[false,true],0]\n",
      "{\"b\":[{},{\"\":false}]}\n",
      "[[\"b\",\"\",[{\"\":false}]]]\n",
      "[[{\"\":true},{\"\":true}],false]\n",
      "{\"\":{\"\":{}},\"ac\":{},\"\":\"c\",\"a\":true}\n",
      "[[{},{\"\":false}]]\n",
      "{\"a\":{\"\":{\"\":true}},\"bba\":014,\"b\":{}}\n",
      "[null,{},null,{\"\":true,\"\":true},{\"\":false}]\n",
      "{\"a\":{\"\":false},\"a\":\"ab\",\"ab\":true}\n",
      "{\"\":\"cb\",\"\":[{}]}\n",
      "[{\"\":[true],\"\":[]},5]\n",
      "{\"\":false,\"b\":[{\"\":true},false]}\n",
      "{\"bb\":{\"\":[{\"\":true}],\"\":true}}\n",
      "[{\"\":{\"\":false},\"\":{\"\":true}}]\n",
      "[null,[[{\"\":false}]],true,false]\n",
      "{\"ac\":[{\"\":true},{},true,true],\"\":false}\n",
      "[\"c\",{},[[{\"\":true},true]],\"b\"]\n",
      "[[{\"\":false,\"\":true}],[[]],[],true]\n",
      "{\"\":[],\"bbb\":false,\"\":\"\"}\n",
      "[[{\"\":true}],false,[]]\n",
      "{\"b\":\"b\",\"a\":\"\",\"\":true}\n",
      "{\"\":true,\"a\":6}\n",
      "{\"b\":true,\"bba\":[{\"\":false},false],\"\":9,\"\":false,\"\":true,\"\":false,\"\":false}\n",
      "[{\"\":[],\"\":[],\"\":false,\"\":true,\"\":false}]\n",
      "{\"cac\":{\"\":{}}}\n",
      "{\"c\":true,\"\":[[],false,false],\"c\":\"c\"}\n",
      "[[[{\"\":true},null]]]\n",
      "[[[false,{\"\":false}]]]\n",
      "[1,[],[[{\"\":true},false]]]\n",
      "{\"\":4,\"\":[{\"\":false}],\"bc\":false}\n",
      "{\"a\":{\"\":true,\"\":false,\"\":false,\"\":true}}\n",
      "[false,{\"\":false,\"\":true,\"\":false,\"\":true},\"\",{\"\":true},null]\n",
      "{\"b\":[],\"\":true,\"cb\":false}\n",
      "[{\"\":\"\",\"\":[]},\"a\",{\"\":false,\"\":true,\"\":false},null,8]\n",
      "{\"\":{\"\":false,\"\":false},\"c\":{},\"ba\":{\"\":true,\"\":false},\"a\":{},\"\":\"\"}\n",
      "{\"a\":true,\"\":8}\n",
      "[[],[{\"\":true}]]\n",
      "{\"\":[[{\"\":true},null]]}\n",
      "[[{\"\":true},9]]\n",
      "[{\"\":\"\",\"\":{\"\":true},\"\":false,\"\":false,\"\":false}]\n",
      "[\"\",[{\"\":true},[]],false,[null]]\n",
      "[{\"c\":{\"\":false}},null]\n",
      "{\"\":true,\"abc\":7,\"\":true,\"\":[true],\"\":\"\",\"\":true}\n",
      "[\"\",{\"\":{\"\":true},\"\":true}]\n",
      "[7,[],[{},false,{\"\":false},false]]\n",
      "[[{\"\":false}]]\n",
      "[52,[[null],\"\",false],[],8,[{\"\":true}]]\n",
      "{\"ab\":{\"\":6},\"bac\":\"bc\",\"\":[null,null],\"a\":{}}\n",
      "[[{\"\":true,\"\":true},null,false],{\"\":\"\",\"\":false,\"\":true},[true],{\"\":true,\"\":true},true]\n",
      "[[false,[{\"\":false},true],false,null,true],{\"\":true,\"\":true},\"\"]\n",
      "{\"c\":[[{\"\":true}]],\"aa\":false,\"\":1}\n",
      "[{\"\":[{\"\":false},true],\"\":\"\"},{\"\":false}]\n",
      "{\"\":[\"\",[{\"\":false}]],\"a\":\"\",\"\":{\"\":true,\"\":true},\"a\":[]}\n",
      "{\"\":false,\"acb\":[{},{\"\":false},false]}\n",
      "{\"\":\"\",\"\":{\"\":true,\"\":true},\"c\":07}\n",
      "[[[],{\"\":true},false],[]]\n",
      "{\"\":false,\"\":{},\"\":[],\"c\":\"\"}\n",
      "{\"\":{},\"b\":{\"\":false,\"\":false,\"\":false},\"\":\"a\",\"c\":4,\"\":false,\"\":false,\"\":false,\"\":false}\n",
      "[{},[[{\"\":false}],null,null]]\n",
      "[null,[true,\"\",{\"\":true}],true]\n",
      "[false,false,true,[{\"\":false}],7,[],false]\n",
      "{\"c\":[false,[{\"\":false}],null,null]}\n",
      "[{\"\":{}}]\n",
      "[{\"\":true}]\n",
      "{\"\":[{},[{\"\":false}]]}\n",
      "{\"a\":[true,{\"\":true}],\"\":false}\n",
      "[\"\",{\"\":true,\"\":true,\"\":false,\"\":false}]\n",
      "[{\"\":\"\",\"\":\"\"},[null],null,{\"\":true,\"\":false},null,null,true]\n",
      "[1,{\"\":true,\"\":true,\"\":false,\"\":true}]\n",
      "{\"\":{},\"\":358,\"ab\":{\"\":true,\"\":true},\"\":{},\"\":[]}\n",
      "[\"c\",true,true,[false,{\"\":true}]]\n",
      "{\"\":[],\"\":{\"\":true}}\n",
      "[{\"a\":{\"\":true}},{\"\":{},\"\":true,\"\":true,\"\":true}]\n",
      "{\"c\":false,\"\":false,\"\":[{\"\":false},null],\"c\":false}\n",
      "{\"\":{\"\":{\"\":true},\"\":true}}\n",
      "{\"bb\":[],\"c\":5,\"\":\"\",\"\":\"\",\"\":true,\"\":true}\n",
      "{\"\":\"\",\"c\":false,\"\":{}}\n",
      "[{},{\"\":[]},[\"\",false],false]\n",
      "{\"\":[7,[{\"\":true}],true],\"\":{\"\":false,\"\":true},\"b\":[],\"b\":4,\"\":false}\n",
      "[{\"\":true,\"\":{\"\":false},\"\":true,\"\":false,\"\":false},false,true,\"\"]\n",
      "{\"\":{\"\":5,\"\":false,\"\":false,\"\":false},\"\":\"\"}\n",
      "{\"\":[],\"\":584}\n",
      "[{\"\":4}]\n",
      "[26,{},[[]],[{\"\":false},null],[true]]\n",
      "[\"cb\",[[{\"\":true}],null]]\n",
      "{\"\":6271,\"b\":9,\"cb\":true,\"\":true,\"\":{}}\n",
      "[{\"\":{},\"\":{}},4]\n",
      "{\"\":9}\n",
      "{\"a\":\"bb\",\"\":27,\"c\":true}\n",
      "[false,[[{\"\":false}]]]\n",
      "{\"\":{\"\":false},\"bc\":false,\"b\":false,\"a\":7}\n",
      "{\"\":343,\"\":\"cb\"}\n",
      "[[[true,{\"\":true},true]]]\n",
      "{\"\":[[{\"\":true},false]]}\n",
      "[[[{\"\":true}],true,null],true]\n",
      "[{\"c\":false,\"\":true},true,9]\n",
      "{\"baa\":{},\"\":{},\"\":{\"\":false,\"\":true}}\n",
      "[8992,8,[null,{\"\":true}],{},false,false,false]\n",
      "[{\"\":true,\"\":\"\",\"\":true},\"\"]\n",
      "{\"abb\":{\"\":[]},\"a\":true,\"\":true,\"c\":[null],\"\":\"\",\"\":false}\n",
      "{\"ba\":[],\"\":2,\"a\":\"b\",\"b\":{}}\n",
      "{\"\":3,\"\":\"\"}\n",
      "{\"\":{},\"\":{\"\":false,\"\":false},\"cc\":false,\"\":\"\",\"\":true,\"\":false}\n",
      "[[{\"\":true,\"\":false},{\"\":true},\"\",true]]\n",
      "[null,null,{\"\":false,\"\":true}]\n",
      "{\"\":\"\",\"\":721,\"ac\":false,\"\":{}}\n"
     ]
    },
    {
     "name": "stdout",
     "output_type": "stream",
     "text": [
      "{\"\":503,\"c\":{}}\n",
      "[[[true,true],{\"\":false},[],null]]\n",
      "[[true],{\"\":[],\"\":{\"\":false}}]\n",
      "[[null,null,{\"\":false},null]]\n",
      "{\"\":[[null]]}\n",
      "{\"ab\":5,\"aa\":{},\"\":\"\",\"\":true,\"\":{}}\n",
      "[{\"\":true,\"\":{},\"\":{\"\":false},\"\":false,\"\":false}]\n",
      "[{\"\":false,\"\":8,\"\":false},\"ac\",true]\n",
      "{\"ccc\":[[],{},false,false],\"\":\"\",\"\":[{\"\":true}],\"c\":\"\",\"\":true,\"\":false,\"\":false,\"\":false}\n",
      "{\"cb\":{\"\":{},\"\":false,\"\":true},\"ba\":{\"\":false,\"\":true},\"\":{},\"c\":[true],\"\":{},\"\":true}\n",
      "[null,true,[true,false,{\"\":true}],\"\",false,7,false]\n",
      "[[[{\"\":true},true],false,false,false],[false,0,true,null],[[],false,null],true,\"\",[]]\n",
      "{\"\":{\"\":8,\"\":false,\"\":false},\"ab\":343}\n",
      "{\"b\":false,\"\":false,\"\":{},\"b\":{\"\":false},\"\":\"\"}\n",
      "[[[{\"\":false},null],true]]\n",
      "[{},{\"\":{\"\":true}},false]\n",
      "[[],{\"\":[]},{\"\":false,\"\":false,\"\":true},{\"\":true,\"\":true}]\n",
      "[[[{\"\":false},true]],true,\"ac\",{\"\":true,\"\":true},{}]\n",
      "[{\"b\":[{\"\":false}],\"\":7,\"\":true}]\n",
      "{\"\":[{\"\":false},true,false,false]}\n",
      "[0,{\"\":{\"\":false},\"\":false,\"\":true,\"\":false},0]\n",
      "[{\"\":false,\"\":{},\"\":true}]\n",
      "[{},[true,[],{\"\":true}],{\"\":true}]\n",
      "[{\"c\":\"\",\"\":[],\"\":{\"\":false}}]\n",
      "[false,{\"\":{\"\":false}},\"c\",null]\n",
      "[[{\"\":true,\"\":false}],{\"\":\"\"},\"c\",true]\n",
      "{\"\":false,\"bc\":50,\"\":false}\n",
      "{\"\":false,\"a\":[null]}\n",
      "{\"\":false,\"a\":{\"\":{\"\":true},\"\":true}}\n",
      "{\"\":37,\"\":\"ac\",\"aa\":\"c\",\"\":\"\",\"\":true,\"\":true,\"\":true}\n",
      "{\"bacc\":692,\"c\":3,\"ca\":true,\"b\":{\"\":false},\"\":[]}\n",
      "{\"\":{\"\":false}}\n",
      "{\"\":[[{\"\":true},null],\"\",null],\"cac\":true,\"\":true}\n",
      "{\"\":[{}],\"c\":{\"\":true}}\n",
      "{\"\":[],\"\":\"bb\"}\n",
      "[null,{\"\":5,\"\":false},[{\"\":false},false]]\n",
      "[null,{\"\":[],\"\":false,\"\":false},true]\n",
      "{\"c\":{\"\":false},\"\":{}}\n",
      "{\"\":true,\"\":[false,{\"\":false},true],\"\":true}\n",
      "{\"\":{\"\":{\"\":true}},\"\":true,\"ab\":50,\"\":{\"\":false},\"\":true,\"\":true}\n",
      "[{\"c\":true,\"\":true}]\n",
      "[[[],[{\"\":true},true]]]\n",
      "[[{\"\":true}],null,{\"\":true,\"\":true}]\n",
      "[[\"\",[{\"\":false}],9,true]]\n",
      "{\"ca\":{\"\":3,\"\":false,\"\":true},\"\":true}\n",
      "[\"c\",[[{\"\":false}]]]\n",
      "[{\"b\":[{\"\":false},true]},[null,true,false],\"\",2,{},{},true,false]\n",
      "[[],{},{\"\":false,\"\":false,\"\":true},null]\n",
      "[[[{\"\":true}]],false,[null],[],null,[]]\n",
      "{\"\":{},\"\":{\"\":false,\"\":false,\"\":true},\"\":[true],\"\":9}\n",
      "{\"\":[],\"bca\":\"\"}\n",
      "{\"\":368}\n",
      "[[[],false],413,{\"\":{\"\":true},\"\":true,\"\":false},false,[true],3]\n",
      "{\"\":false,\"\":{\"\":true,\"\":true,\"\":true}}\n",
      "[[true,{},[{\"\":false},false]],[]]\n",
      "[[],[\"\",null,null,{\"\":false},true],\"a\",true,false]\n",
      "{\"\":[],\"a\":{},\"aa\":{}}\n",
      "[{\"\":true,\"\":true,\"\":false}]\n",
      "{\"\":[\"\"]}\n",
      "{\"\":5215}\n",
      "{\"\":true,\"baa\":71,\"\":false,\"\":true}\n",
      "{\"\":\"bb\"}\n",
      "[{\"\":{\"\":true},\"\":[{\"\":true},false]},[],true,true,1,false,false]\n",
      "[{\"\":[true],\"\":true,\"\":{\"\":true},\"\":true,\"\":true},352,\"\",true]\n",
      "{\"\":false,\"c\":13,\"cb\":{\"\":true,\"\":true},\"b\":8}\n",
      "[{\"\":[false],\"\":\"\"},false,0,\"\"]\n",
      "{\"\":true,\"\":\"b\",\"bb\":true}\n",
      "[{},{\"\":true}]\n",
      "[{\"\":\"\",\"\":0,\"\":true}]\n",
      "[{\"a\":[{\"\":false},null]},true]\n",
      "[{\"c\":[{\"\":false}],\"\":{},\"\":false}]\n",
      "[{\"\":{\"\":false},\"\":4},2]\n",
      "{\"\":false,\"\":720,\"c\":{}}\n",
      "{\"\":{\"\":{},\"\":true},\"a\":[[{\"\":true}],true,null],\"\":89,\"c\":true,\"\":\"\"}\n",
      "[[[{\"\":true},true]],false,[false,null]]\n",
      "{\"\":[\"\",[{\"\":true},true],null,true]}\n",
      "{\"a\":[{\"\":true}],\"ccc\":false}\n",
      "[\"cbc\",[[{\"\":true},null]],\"\"]\n",
      "{\"c\":\"\",\"\":[[{\"\":false},true]]}\n",
      "{\"\":true,\"b\":\"c\",\"ac\":23,\"a\":[{\"\":false}],\"\":{}}\n",
      "[[{\"\":true,\"\":false},false],[[false],true]]\n",
      "{\"\":[{\"\":false},false]}\n",
      "{\"ccca\":[[{\"\":true},true],true,true,false],\"\":false,\"\":false,\"\":{}}\n",
      "[{\"\":0,\"\":false},false]\n",
      "{\"cab\":{\"\":\"\"},\"c\":[7,{\"\":false}]}\n",
      "[[{\"\":false},9,false]]\n",
      "[10,false,\"\",{\"\":true}]\n",
      "[[[],1,[{\"\":false},null]],true]\n",
      "{\"\":{\"\":{}},\"\":{\"\":true}}\n",
      "{\"\":576}\n",
      "[[],{\"\":\"\",\"\":true,\"\":true},false,\"\"]\n",
      "{\"ab\":\"\",\"cab\":{\"\":{\"\":false},\"\":false,\"\":true},\"\":true,\"\":\"\",\"\":0}\n",
      "{\"\":\"\",\"\":707}\n",
      "[\"\",[[{\"\":true}],9]]\n",
      "[\"cc\",{\"\":5,\"\":true,\"\":true},\"\"]\n",
      "[\"\",{\"\":true,\"\":false},true]\n",
      "[true,[{\"\":false}]]\n",
      "[[[{\"\":false},true]]]\n",
      "[{\"b\":1,\"\":6,\"\":false,\"\":false,\"\":false},0,{}]\n",
      "[[[{\"\":false}]],069,[]]\n",
      "[{\"\":{\"\":true},\"\":false,\"\":false},[]]\n",
      "[\"bb\",[true,{\"\":true}],{\"\":true,\"\":false,\"\":true}]\n",
      "[\"bbc\",[],[[{\"\":true}],null,true],false]\n",
      "{\"b\":{\"\":8},\"\":{},\"c\":79,\"b\":false,\"\":true,\"\":false,\"\":false}\n",
      "[true,[{\"\":false},{\"\":true},true,true],true,null,\"\",{},false,true]\n",
      "[[{\"\":true,\"\":true},[],false,false]]\n",
      "[{\"c\":{},\"\":[]}]\n",
      "{\"aab\":[[],true],\"\":3,\"aa\":[false,true]}\n",
      "[[{\"\":false,\"\":false}],{}]\n",
      "{\"ca\":{\"\":[{\"\":false},null],\"\":true,\"\":true,\"\":true}}\n",
      "[{\"a\":\"\",\"\":true,\"\":false,\"\":false}]\n",
      "[\"bcc\",[{\"\":true},[{\"\":false},true],true],false,[]]\n",
      "{\"\":[[],\"\",true],\"\":19,\"\":false}\n",
      "{\"\":{\"\":4},\"\":false}\n",
      "{\"\":{\"\":{\"\":false},\"\":false,\"\":false}}\n",
      "[{\"\":false,\"\":[{\"\":true},null]},{},\"\",[true,true],\"\"]\n",
      "[[{\"\":true},0]]\n",
      "[{\"\":false,\"\":7,\"\":{\"\":true},\"\":true},{\"\":\"\"}]\n",
      "[false,true,{\"\":{\"\":false}},false]\n",
      "[[true],[{\"\":true},{},{\"\":false}],\"\",false,5,{},true]\n",
      "{\"\":false,\"bac\":[[],false],\"c\":40,\"a\":1}\n",
      "[false,[[{\"\":true},true],false],false]\n",
      "[null,{\"\":[{\"\":true},null]},true]\n",
      "{\"\":[[{\"\":false},true]]}\n",
      "[{\"\":[],\"\":false}]\n",
      "[[{\"\":false,\"\":false}],\"a\",true]\n",
      "[290,{\"\":0,\"\":false,\"\":false,\"\":true},[true],{\"\":false,\"\":true}]\n",
      "{\"\":6,\"c\":2,\"c\":[],\"\":false}\n",
      "{\"\":false,\"c\":7}\n",
      "{\"bc\":[[null],{},false,false],\"\":[8,false,false],\"\":false}\n",
      "[{\"\":[{\"\":true}]},\"\"]\n",
      "{\"ac\":[true,{\"\":true},null,false],\"\":9,\"\":\"a\",\"a\":{},\"\":[]}\n",
      "[{\"a\":{\"\":true}},7]\n",
      "[\"\",true,[{\"\":true},null],58,\"\",[]]\n",
      "{\"\":[[{\"\":true},false],false,null,true],\"b\":[true]}\n",
      "[{\"b\":6,\"\":[{\"\":true}]},null]\n",
      "{\"c\":[[{\"\":true},false],false],\"ccb\":\"b\",\"\":98,\"\":\"\"}\n",
      "{\"\":true,\"\":[{\"\":false}]}\n",
      "[null,[{\"\":true}]]\n",
      "{\"acab\":[[{\"\":true},true]],\"\":{},\"\":{}}\n",
      "{\"a\":false,\"\":[],\"\":\"c\"}\n",
      "{\"\":[null]}\n",
      "[[[{\"\":true},false]]]\n",
      "[[25,0,{\"\":true}],[],06,true,9,null]\n",
      "{\"bccb\":9,\"c\":{\"\":true},\"\":[false,{\"\":false}]}\n",
      "{\"\":{\"\":{\"\":false},\"\":false,\"\":false,\"\":true},\"\":false,\"\":84}\n",
      "[null,[null],{\"\":false,\"\":true,\"\":true}]\n",
      "[{\"\":[false],\"\":7}]\n",
      "[[false,[],false,{\"\":false}],[[],false,true,null]]\n",
      "{\"\":0,\"a\":true,\"aa\":true,\"\":true,\"\":[],\"\":false}\n",
      "{\"\":5,\"\":7,\"\":{\"\":false,\"\":true}}\n",
      "{\"\":false,\"\":{\"\":true}}\n",
      "[{},{\"\":[],\"\":{\"\":false},\"\":true,\"\":false}]\n",
      "{\"cbc\":{\"\":{\"\":true},\"\":true},\"a\":true}\n",
      "[null,{\"\":\"\"},false]\n",
      "[[[],{\"\":true}]]\n",
      "[{},{\"\":{}},{},[]]\n",
      "[\"\",{},[{\"\":true},true,null],true]\n",
      "[519,null,[{\"\":true},false,null]]\n",
      "[[[false,{\"\":false}]],null,\"c\",\"\"]\n",
      "[[{\"\":true,\"\":false}],8]\n",
      "{\"\":{\"\":[{\"\":false},false]}}\n",
      "[{\"\":\"\",\"\":{\"\":false},\"\":false,\"\":false,\"\":true}]\n",
      "[[true,[{\"\":false},false],null,true,null],0548,false]\n",
      "{\"c\":[{\"\":false}],\"bbb\":true,\"\":[]}\n",
      "[false,{\"\":[{\"\":false},null],\"\":true},false]\n",
      "{\"acca\":[{\"\":false}],\"b\":\"bc\"}\n",
      "{\"\":{\"\":0,\"\":false},\"\":false,\"\":[true,false]}\n",
      "{\"caa\":true,\"aac\":\"c\",\"\":[{\"\":true},false]}\n",
      "{\"b\":[[{\"\":false}],true]}\n",
      "[{\"\":{\"\":false},\"\":true}]\n",
      "{\"\":[2,[{\"\":false},true],false,false]}\n",
      "[[[true,{\"\":false}],7,null]]\n",
      "[[{\"\":false,\"\":false},{}]]\n",
      "{\"ba\":{\"\":\"\",\"\":true},\"\":{\"\":false,\"\":true}}\n",
      "[{\"\":[{\"\":true}],\"\":6}]\n",
      "{\"\":{},\"\":47,\"b\":\"b\",\"\":[null]}\n",
      "[{\"\":[],\"\":4},true]\n",
      "[\"cca\",{\"\":{},\"\":false,\"\":false,\"\":true},[{\"\":true}],{\"\":false,\"\":false}]\n",
      "{\"ac\":{\"\":true,\"\":false,\"\":true,\"\":true}}\n",
      "[{\"\":[],\"\":{},\"\":false},null,{\"\":{\"\":true},\"\":true,\"\":false},{}]\n",
      "[{\"b\":false,\"\":{},\"\":false,\"\":false,\"\":false}]\n",
      "[[[true,{\"\":false},null],{}]]\n",
      "[[[]],\"bbc\",\"ca\",[null,{\"\":false},null]]\n",
      "[{\"\":[null],\"\":8,\"\":false},\"\",true]\n",
      "[{},{\"\":true,\"\":true}]\n",
      "[[7,[{\"\":true},true],false]]\n",
      "[[[{\"\":false}],6]]\n",
      "[[[true,{\"\":true},null],true,true,null]]\n",
      "[{\"c\":[{\"\":true},true],\"\":true,\"\":false}]\n",
      "[{\"a\":[{\"\":true}],\"\":6,\"\":true,\"\":false},\"\"]\n",
      "{\"\":{},\"cac\":false,\"\":true,\"\":true}\n",
      "[[{\"\":true},{},\"\"],null,null,04]\n",
      "[{},{\"\":{\"\":true},\"\":false}]\n",
      "[{\"b\":{\"\":true}},false,null,true]\n",
      "{\"\":{\"\":{\"\":false},\"\":false,\"\":true,\"\":true}}\n",
      "[[null,{\"\":false}]]\n",
      "{\"\":{\"\":[]},\"\":[{},null,null],\"c\":false}\n",
      "{\"bcbb\":[{\"\":false},false]}\n",
      "{\"\":\"b\"}\n",
      "[[[{\"\":false}],true]]\n",
      "[[[{\"\":true}],false,null]]\n",
      "[{\"\":false},[{},[]],[]]\n",
      "[null,{\"\":\"\",\"\":false}]\n",
      "[953,[{\"\":true}],\"b\"]\n",
      "[{\"c\":{\"\":true},\"\":[{\"\":true}],\"\":true,\"\":false,\"\":false},\"\"]\n",
      "{\"\":{\"\":2,\"\":false,\"\":false}}\n",
      "{\"\":[true,[{\"\":false}],null],\"\":722}\n",
      "{\"\":{\"\":[{\"\":false}]}}\n",
      "[{\"\":[false],\"\":{},\"\":true},{}]\n",
      "[4119,{\"\":false}]\n",
      "{\"\":5}\n",
      "{\"\":{\"\":\"\",\"\":{\"\":true},\"\":true}}\n",
      "{\"\":true,\"\":\"\"}\n",
      "[[[null,{\"\":false},false],true,[],true]]\n",
      "{\"\":8,\"\":[{\"\":false},true,false]}\n",
      "[[{\"\":true,\"\":true},true]]\n",
      "[{\"\":\"\",\"\":9}]\n",
      "{\"\":\"\",\"\":\"\",\"cc\":[{\"\":false}],\"\":{\"\":true},\"\":true}\n",
      "[\"b\",[3,true],{\"\":true,\"\":false,\"\":true}]\n",
      "{\"\":[false,{\"\":false}],\"\":true,\"\":\"\",\"c\":true,\"\":false,\"\":true,\"\":false,\"\":false}\n",
      "[[{\"\":true,\"\":true}],{\"\":{}}]\n",
      "[[\"c\",{\"\":false},\"\",null]]\n",
      "{\"a\":false,\"a\":[[{\"\":false}]],\"\":true,\"a\":\"\",\"\":false}\n",
      "{\"\":[],\"aca\":[1],\"\":{}}\n",
      "[[[true,{\"\":false},false],true,null],null]\n",
      "[{\"\":[]},null]\n",
      "[[1,{\"\":true},{},false]]\n",
      "{\"a\":{\"\":false},\"\":true}\n",
      "[4211,null,false,true,{\"\":false},\"\",null]\n",
      "[{\"\":[true],\"\":false,\"\":true}]\n",
      "{\"\":[],\"\":false}\n",
      "{\"\":82}\n",
      "[[{\"\":true,\"\":false}],false,true]\n",
      "{\"\":{\"\":[]}}\n",
      "[\"\",{\"\":\"\",\"\":false,\"\":false}]\n",
      "{\"\":{\"\":[],\"\":false},\"\":{},\"\":{}}\n",
      "[[\"c\",\"\",0],true,{\"\":true,\"\":true}]\n",
      "{\"\":[true,true]}\n",
      "{\"\":{\"\":[],\"\":true},\"\":false}\n",
      "{\"\":false,\"\":false,\"\":{}}\n",
      "[{\"b\":[],\"\":0},{\"\":{},\"\":true},0]\n",
      "{\"cbbc\":6,\"\":6}\n",
      "{\"\":[{\"\":false},null]}\n",
      "[[false,{\"\":true},{},null,null],false,[null],true]\n",
      "{\"\":true,\"\":[],\"\":false,\"a\":[true]}\n",
      "[{\"\":[null],\"\":[{\"\":true}]}]\n",
      "{\"\":8,\"a\":\"b\",\"\":{\"\":false,\"\":false}}\n",
      "{\"\":{\"\":9},\"acc\":{\"\":{\"\":true},\"\":true,\"\":false}}\n",
      "{\"bc\":[[{\"\":false}],[]]}\n",
      "{\"\":[],\"\":{\"\":{\"\":true},\"\":false},\"b\":{\"\":true}}\n",
      "[{\"a\":\"\",\"\":{\"\":true},\"\":true},[false]]\n",
      "{\"c\":{\"\":\"\",\"\":true,\"\":true,\"\":true},\"\":{\"\":false},\"\":20}\n",
      "[false,false,[5,null],{\"\":false,\"\":false}]\n",
      "{\"c\":false,\"\":[],\"ca\":[null]}\n",
      "[{\"\":true},5]\n",
      "[[\"\",[],null,{\"\":true}]]\n",
      "[[[{\"\":true},null],false,5,null],{\"\":{}},true,true,null,\"\",null]\n",
      "{\"c\":[],\"b\":true,\"\":true,\"\":[]}\n",
      "{\"\":false,\"\":[[],{\"\":true}],\"\":\"a\",\"b\":true}\n",
      "{\"\":false,\"\":[null],\"\":[null]}\n",
      "[[{\"\":true,\"\":false},null],false,\"\"]\n",
      "{\"a\":{},\"\":true}\n",
      "[{\"\":{\"\":false},\"\":{},\"\":true,\"\":true,\"\":true},{},[false],true,true,\"\"]\n",
      "{\"\":{},\"b\":true,\"a\":true}\n",
      "[[{\"\":true},false,\"\",false],\"cbc\",90,true]\n",
      "[true,{},{},false,9,[],true,{\"\":false},false]\n",
      "{\"\":[],\"\":[[]],\"\":false}\n",
      "{\"\":[[{\"\":false},false]],\"aba\":[],\"\":true,\"\":0,\"\":false,\"\":true,\"\":true}\n",
      "{\"\":[[{\"\":true}]],\"\":[\"\"]}\n",
      "[[[{\"\":true},true]],false]\n"
     ]
    }
   ],
   "source": [
    "collect = set()\n",
    "for i in range(1000):\n",
    "    v = g_fuzzer.fuzz(s)\n",
    "    if v not in collect:\n",
    "        collect.add(v)\n",
    "        print(v)"
   ]
  },
  {
   "cell_type": "code",
   "execution_count": 569,
   "metadata": {},
   "outputs": [],
   "source": [
    "g_parser = Parser(g, canonical=True, start_symbol=s)"
   ]
  },
  {
   "cell_type": "code",
   "execution_count": 570,
   "metadata": {},
   "outputs": [],
   "source": [
    "assert g_parser.can_parse('{\"\":[1]}')"
   ]
  },
  {
   "cell_type": "code",
   "execution_count": 571,
   "metadata": {},
   "outputs": [],
   "source": [
    "assert not g_parser.can_parse('{null:[1]}')"
   ]
  },
  {
   "cell_type": "code",
   "execution_count": 572,
   "metadata": {},
   "outputs": [],
   "source": [
    "assert g_parser.can_parse('{\"\":[]}')"
   ]
  },
  {
   "cell_type": "code",
   "execution_count": 573,
   "metadata": {},
   "outputs": [],
   "source": [
    "assert g_parser.can_parse('{\"\":[],\"a\":[[]]}')"
   ]
  },
  {
   "cell_type": "code",
   "execution_count": 574,
   "metadata": {},
   "outputs": [
    {
     "data": {
      "text/plain": [
       "[]"
      ]
     },
     "execution_count": 574,
     "metadata": {},
     "output_type": "execute_result"
    }
   ],
   "source": [
    "EXCEPTION_HAPPENED"
   ]
  },
  {
   "cell_type": "code",
   "execution_count": 575,
   "metadata": {},
   "outputs": [
    {
     "name": "stdout",
     "output_type": "stream",
     "text": [
      "<json +FEK> ::= <element +FEK>\n",
      "\n",
      "<element +FEK> ::= <array +FEK>\n",
      "\\alt <object +FEK>\n",
      "\n",
      "<array +FEK> ::= `[' <elements +FEK> `]'\n",
      "\n",
      "<object +FEK> ::= `{' <members +FEK> `}'\n",
      "\n",
      "<elements +FEK> ::= <element +FEK>\n",
      "\\alt <element +FEK> `,' <elements>\n",
      "\\alt <element> `,' <elements +FEK>\n",
      "\n",
      "<elements> ::= <element>\n",
      "\\alt <element> `,' <elements>\n",
      "\n",
      "<element> ::= <array>\n",
      "\\alt <number>\n",
      "\\alt <object>\n",
      "\\alt <string>\n",
      "\\alt `false'\n",
      "\\alt `null'\n",
      "\\alt `true'\n",
      "\n",
      "<array> ::= `[' <elements> `]'\n",
      "\\alt `[]'\n",
      "\n",
      "<number> ::= <digits>\n",
      "\n",
      "<object> ::= `{' <members> `}'\n",
      "\\alt `{}'\n",
      "\n",
      "<string> ::= `\"' <characters> `\"'\n",
      "\n",
      "<digits> ::= <digit>\n",
      "\\alt <digit> <digits>\n",
      "\n",
      "<digit> ::= `0'\n",
      "\\alt `1'\n",
      "\\alt `2'\n",
      "\\alt `3'\n",
      "\\alt `4'\n",
      "\\alt `5'\n",
      "\\alt `6'\n",
      "\\alt `7'\n",
      "\\alt `8'\n",
      "\\alt `9'\n",
      "\n",
      "<members> ::= <member>\n",
      "\\alt <member> `,' <members>\n",
      "\n",
      "<member> ::= <string> `:' <element>\n",
      "\n",
      "<characters> ::= $\\epsilon$\n",
      "\\alt <character> <characters>\n",
      "\n",
      "<character> ::= `a'\n",
      "\\alt `b'\n",
      "\\alt `c'\n",
      "\n",
      "<members +FEK> ::= <member +FEK>\n",
      "\\alt <member +FEK> `,' <members>\n",
      "\\alt <member> `,' <members +FEK>\n",
      "\n",
      "<member +FEK> ::= <string LEK_1> `:' <element>\n",
      "\\alt <string> `:' <element +FEK>\n",
      "\n",
      "<string LEK_1> ::= `\"' <characters LEK_1> `\"'\n",
      "\n",
      "<characters LEK_1> ::= $\\epsilon$\n",
      "\n"
     ]
    }
   ],
   "source": [
    "g_to_latex(Fke_grammar )"
   ]
  },
  {
   "cell_type": "code",
   "execution_count": null,
   "metadata": {},
   "outputs": [],
   "source": []
  },
  {
   "cell_type": "code",
   "execution_count": 576,
   "metadata": {},
   "outputs": [
    {
     "name": "stdout",
     "output_type": "stream",
     "text": [
      "<json +FEK> ::= <element +FEK>\n",
      "\n",
      "<element +FEK> ::= <object +FEK>\n",
      "\\alt <array +FEK>\n",
      "\n",
      "<object +FEK> ::= `{' <members +FEK> `}'\n",
      "\n",
      "<members +FEK> ::= <member +FEK>\n",
      "\\alt <member +FEK> `,' <members>\n",
      "\\alt <member> `,' <members +FEK>\n",
      "\n",
      "<member +FEK> ::= <string> `:' <element +FEK>\n",
      "\n",
      "<array +FEK> ::= `[' <elements +FEK> `]'\n",
      "\n",
      "<elements +FEK> ::= <element +FEK>\n",
      "\\alt <element +FEK> `,' <elements>\n",
      "\\alt <element> `,' <elements +FEK>\n",
      "\n",
      "<string +FEK> ::= \n",
      "\n",
      "<characters +FEK> ::= \n",
      "\n",
      "<character +FEK> ::= \n",
      "\n",
      "<number +FEK> ::= \n",
      "\n",
      "<digits +FEK> ::= \n",
      "\n",
      "<digit +FEK> ::= \n",
      "\n"
     ]
    }
   ],
   "source": [
    "%%top\n",
    "g = {}\n",
    "for key in JSON_GRAMMAR:\n",
    "    fk, rules = insert_atleast_one_fault_into_key(JSON_GRAMMAR, key, '<member>', 'EK', reachable_json)\n",
    "    g[fk] = rules\n",
    "g_to_latex(g)"
   ]
  },
  {
   "cell_type": "code",
   "execution_count": 577,
   "metadata": {},
   "outputs": [
    {
     "data": {
      "text/plain": [
       "[]"
      ]
     },
     "execution_count": 577,
     "metadata": {},
     "output_type": "execute_result"
    }
   ],
   "source": [
    "EXCEPTION_HAPPENED"
   ]
  }
 ],
 "metadata": {
  "kernelspec": {
   "display_name": "Python 3",
   "language": "python",
   "name": "python3"
  },
  "language_info": {
   "codemirror_mode": {
    "name": "ipython",
    "version": 3
   },
   "file_extension": ".py",
   "mimetype": "text/x-python",
   "name": "python",
   "nbconvert_exporter": "python",
   "pygments_lexer": "ipython3",
   "version": "3.7.5"
  },
  "toc": {
   "base_numbering": 1,
   "nav_menu": {},
   "number_sections": true,
   "sideBar": true,
   "skip_h1_title": false,
   "title_cell": "Table of Contents",
   "title_sidebar": "Contents",
   "toc_cell": false,
   "toc_position": {},
   "toc_section_display": true,
   "toc_window_display": true
  }
 },
 "nbformat": 4,
 "nbformat_minor": 4
}
