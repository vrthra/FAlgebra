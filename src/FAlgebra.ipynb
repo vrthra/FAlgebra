{
 "cells": [
  {
   "cell_type": "markdown",
   "metadata": {},
   "source": [
    "# Algebra of Failure Inducing Input Patterns"
   ]
  },
  {
   "cell_type": "markdown",
   "metadata": {},
   "source": [
    "## What"
   ]
  },
  {
   "cell_type": "markdown",
   "metadata": {},
   "source": [
    "We are trying to generate grammars that produce inputs that contain or does not specific behaviors (or complex combinations thereof) so, one can say things of the sort: I want to generate inputs with parenthesis, but discard everything with doubled parenthesis.\n",
    "\n",
    "While boolean grammars are the formalism for such things (e.g A & B & !C), and one can trivially construct multi-level recognizers for it (parse A, parse B, not parse C), generation is much harder, and as far as I can see, no one has found a way to easily generate inputs from such expressions (other than the generate and filter approach, which is really inefficient). Further, the boolean grammars are already beyond context free grammars, and our current techniques such as annotation of probabilities, and feedback on grammar nodes will not work on them. What we do here, is to recognize that for fault pattern additions and removal, one can stick to a context-free subset, and one can guarantee the properties of the resulting grammar.\n",
    "\n",
    "Other things we can likely do: Generate grammars that produce a given prefix or a given suffix, and combinations of those."
   ]
  },
  {
   "cell_type": "markdown",
   "metadata": {},
   "source": [
    "## Why"
   ]
  },
  {
   "cell_type": "markdown",
   "metadata": {},
   "source": [
    "It is often necessary to include multiple patterns in an input to trigger a fault. For example, a certain fault may occur only if a particular element is seen in advance, or a fault induced early on may only be triggered by a later element. Similarly, one may want to specify that a particular code element is covered, as well as a particular input element be/not be present (e.g. on bugfixes). Finally, one may also want to avoid triggering bugs that are already known."
   ]
  },
  {
   "cell_type": "markdown",
   "metadata": {},
   "source": [
    "## How\n",
    "\n",
    "We first extract the abstract syntactical patterns that correspond to given behaviors, and then generate a refinement grammar from the original grammar that follows the algebraic specifications.\n",
    "\n",
    "The main question being asked is, how to combine and negate fault patterns.\n",
    "\n",
    "We use `~F` for a nonterminal that is guaranteed not to contain a given fault, and `+F` for a nonterminal that is guaranteed to contain at least one instance of the given fault."
   ]
  },
  {
   "cell_type": "markdown",
   "metadata": {},
   "source": [
    "## How is it done?"
   ]
  },
  {
   "cell_type": "markdown",
   "metadata": {},
   "source": [
    "We start with the concept of an _abstract pattern_ form `DDSet`.\n",
    "\n",
    "### Abstract Pattern\n",
    "\n",
    "An _abstract pattern_ is a parse tree of a fault inducing input such that all non-causal subtrees are marked abstract. From an _abstract pattern_ we derive its _charecteristic node_.\n",
    "\n",
    "In essence, an abstract pattern is a parse tree with typed holes.\n",
    "\n",
    "#### Charecteristic node\n",
    "\n",
    "A _charecteristic node_ of an _abstract pattern_ is the smallest subtree (and the corresponding node) that completely captures the concrete _terminal_ symbols in the _abstract pattern_.\n",
    "\n",
    "#### Linear grammar of a parse tree\n",
    "\n",
    "A _linear grammar_ of a parse tree is a grammar such that the grammar can produce only the given parse tree. It is constructed by marking each node in the parse tree with a unique suffix, and extracting the grammar of the suffixed tree. The _linear grammar_ of the _charecteristic node_ will produce the _exact_ string that produced the fault. The start symbol of the grammar is the nonterminal of the characteristic node. The linear grammar is converted to pattern grammar by marking abstract various nodes.\n",
    "\n",
    "#### Abstract pattern grammar\n",
    "\n",
    "This is derived from the _linear grammar_ of the _characteristic node_ where the nonterminals in the grammar that correspond to abstract nodes are replaced by the non-suffixed general nonterminals in the original grammar. The start symbol of the abstract pattern grammar remains the same as the linear grammar of the characteristic node. The important thing to note here is that if one wishes to reproduce the given fault, the parse tree __should contain__ the nonterminals of the linear grammar.\n",
    "\n",
    "#### Negated abstract pattern grammar\n",
    "\n",
    "The negated abstract pattern grammar for a fault is constructed from the abstract pattern grammar of that fault by replacing the definitions one token at a time with a nonterminal guaranteed not to match the particular expansion in the pattern grammar. To this set of rules is added the definitions from the original grammar that did not match the pattern grammar. The idea is to essentially form a _conjunction_ of possible negations.\n",
    "\n",
    "\n",
    "```\n",
    "<X> := <A> <B>\n",
    "<A> := <D>\n",
    "     | a <C>\n",
    "<B> := B\n",
    "     | b\n",
    "<C> := C\n",
    "     | C\n",
    "<D> := d\n",
    "```\n",
    "Say the pattern grammar is:\n",
    "```\n",
    "<X> := <A_1> <B_2>\n",
    "<A_1> := a <C_3>\n",
    "<B_2> := b\n",
    "<C_3> := c\n",
    "```\n",
    "\n",
    "Then, the negated pattern grammar is (we define it using the symbol `^F` to avoid confusing with `+F`) --- The difference is that `+F` guarantees the full fault, while `^F` represents a partial fault.\n",
    "```\n",
    "<^X> := <^A_1> <B_2>\n",
    "      | <A_1> <^B_2>\n",
    "<A_1> := a <C_3>\n",
    "       | <D*>\n",
    "<^A_1> := a <^C_3>\n",
    "        | A\n",
    "<B_2> := b\n",
    "<^B_2> := B\n",
    "<C_3> := c\n",
    "<^C_3> := C\n",
    "```\n",
    "\n",
    "The `<D*>` here is simply `<D>` if `<D>` cannot reach the faulty key `<X>`. If it can, then it is a negation `<D-X>`.\n",
    "\n",
    "If a particular nonterminal cannot be negated, then the rules that use that negated nonterminal is removed, and the nonterminals that have no rules are removed recursively."
   ]
  },
  {
   "cell_type": "markdown",
   "metadata": {},
   "source": [
    "#### Grammar with the guarantee that at least one instance of the fault will always be present (G+).\n",
    "\n",
    "We mark nonterminals that are guaranteed to contain at least a given single fault as `+F` and those nodes that are guaranteed to not contain that fault as `~F` where `<F>` is the original nonterminal.\n",
    "\n",
    "Given a grammar that starts with \n",
    "\n",
    "```\n",
    "<start> := <A> <B> <C>\n",
    "         ...\n",
    "```\n",
    "    \n",
    "The grammar will contain at least a single fault if that single rule is replaced by this set of rules\n",
    "\n",
    "```\n",
    "<1start> := <+A> <B> <C>\n",
    "         | <A> <+B> <C>\n",
    "         | <A> <B> <+C>\n",
    "...\n",
    "```\n",
    "Similarly, if one assumes that the nonterminal `<A>` can contain faults, and it has the following rules (nonterminals indicated by `<..>`)\n",
    "```\n",
    "<A> := x <P> <P> x\n",
    "     | x <P> x\n",
    "```\n",
    "then, the following definition is guaranteed to produce at least one instance of the fault in any expansion\n",
    "```\n",
    "<1A> := x <+P> <P> x\n",
    "     | x <P> <+P> x\n",
    "     | x <+P> x\n",
    "```"
   ]
  },
  {
   "cell_type": "markdown",
   "metadata": {},
   "source": [
    "#### Grammar with the guarantee that no instance of the fault will be present (G-)\n",
    "\n",
    "Negation is simply negation of all nonterminals\n",
    "```\n",
    "<~A> := x <~P> <~P>\n",
    "      | x <~P>\n",
    "```"
   ]
  },
  {
   "cell_type": "markdown",
   "metadata": {},
   "source": [
    "#### Grammar with the guarantee that at most one instance of the fault will be present (G*)\n",
    "\n",
    "```\n",
    "<1start> := <A> <~B> <~C>\n",
    "         | <~A> <B> <~C>\n",
    "         | <~A> <~B> <C>\n",
    "...\n",
    "```"
   ]
  },
  {
   "cell_type": "markdown",
   "metadata": {},
   "source": [
    "#### Grammar with the guarantee that exactly one instance of the fault will be present\n",
    "\n",
    "```\n",
    "G_1 = G+ & G*\n",
    "```"
   ]
  },
  {
   "cell_type": "markdown",
   "metadata": {},
   "source": [
    "#### Base cases\n",
    "\n",
    "There are two base cases for this recursion. The first is when the nonterminal is the charecteristic node of the fault being inserted. In this case, the definition `<+F>` is simply the start symbol of the abstract pattern grammar (and the abstract pattern grammar is merged into the grammar). Similarly with the negation terminal.\n",
    "\n",
    "The second base case is when the nonterminal cannot produce the fault (e.g `<digit>` for producing a parenthesis). Here, the solution is simple. The nonterminal `<+F>` is defined as empty, and the rules that use that nonterminal is removed, and the nonterminals with empty rules are removed recursively as before. The negation `<~F>` is simply `<F>` because it is guaranteed not to produce a fault."
   ]
  },
  {
   "cell_type": "markdown",
   "metadata": {},
   "source": [
    "### (|) two refined grammars.\n",
    "\n",
    "We generate grammars with the faults on boths sides. Next, we merge the grammars. Next, we remove any rule from the definition that is more refined than another rule in the same definition. A rule is more refined than another rule if 1) they both were derived from the same original rule from the original grammar (checked by looking at the stems and terminals) and 2) for any given token, the token at the same position of the other rule has a superset expansion. E.g a digit with expansion `[2, 4]` is a refinement of a digit with expansion `[1, 2, 3, 4, 5]`. (The fixpoint is computed). (This means that the disjunction of the original grammar with any fault inducing grammar will always be the original grammar.)"
   ]
  },
  {
   "cell_type": "markdown",
   "metadata": {},
   "source": [
    "### (&) two refined grammars.\n",
    "\n",
    "Conjunction of two refined grammars is simply the conjunction of both start symbols. The conjunction of two matching (same stem) nonterminals is a conjunction of their matching rules (match with the same terminals and stem of nonterminals). Conjunction of two rules is single rule with each nonterminal representing a conjunction of two corresponding nonterminals at the corresponding places from the two rules. When there are multiple matching rules, the rules produced are all pairs.\n",
    "\n",
    "Note that one can generate an `atleast one fault grammar` (by skipping negation in the exactly one fault grammar) and an `atmost one fault grammar` (by skipping fault insertion in the exactly one fault grammar), and generate the `exactly one fault grammar` by generating a conjunction of both."
   ]
  },
  {
   "cell_type": "markdown",
   "metadata": {},
   "source": [
    "## Limitations"
   ]
  },
  {
   "cell_type": "markdown",
   "metadata": {},
   "source": [
    "The limitations are as follows:\n",
    "1. Only applicable to deterministic base grammars (at least deterministic parts of the grammar). The grammar is further restricted (without losing generality) to have the start symbol correspond to a single rule such that the rule contains only a single nonterminal (and any number of terminals).\n",
    "2. The fault patterns are neither sound nor complete w.r.t the failure (this is a limitation of the ddset fault pattern).\n",
    "   i.e:\n",
    "   The same failure may result from different patterns. Hence, negating one pattern does not mean negating that failure fully (not complete)\n",
    "   The same pattern in a different context may not result in a failure (not sound)\n",
    "4. Adding new fault patterns results in almost exponential increase (worst case) in the grammar rules of corresponding non terminals.\n",
    "5. We assume that rules for a nonterminal are non-redundant for the base grammar (if not, it becomes nondeterministic)."
   ]
  },
  {
   "cell_type": "markdown",
   "metadata": {},
   "source": [
    "The faults can from several different inputs. The idea is that the characterizing node, and abstraction removes the influences of the specific parse tree."
   ]
  },
  {
   "cell_type": "markdown",
   "metadata": {},
   "source": [
    "## Magick"
   ]
  },
  {
   "cell_type": "markdown",
   "metadata": {},
   "source": [
    "We start with a few Jupyter magics that let us specify examples inline, that can be turned off if needed for faster execution. Switch TOP to False if you do not want examples to complete."
   ]
  },
  {
   "cell_type": "code",
   "execution_count": 1,
   "metadata": {},
   "outputs": [],
   "source": [
    "TOP = True #__name__ == '__main__'"
   ]
  },
  {
   "cell_type": "code",
   "execution_count": 2,
   "metadata": {},
   "outputs": [],
   "source": [
    "from IPython.core.magic import  (Magics, magics_class, cell_magic, line_magic, line_cell_magic)\n",
    "class B(dict):\n",
    "    def __getattr__(self, name):\n",
    "        return self.__getitem__(name)\n",
    "@magics_class\n",
    "class MyMagics(Magics):\n",
    "    def __init__(self, shell=None,  **kwargs):\n",
    "        super().__init__(shell=shell, **kwargs)\n",
    "        self._vars = B()\n",
    "        shell.user_ns['VARS'] = self._vars\n",
    "\n",
    "    @cell_magic\n",
    "    def var(self, line, cell):\n",
    "        self._vars[line.strip()] = cell.strip()\n",
    " \n",
    "    @line_cell_magic\n",
    "    def top(self, line, cell=None):\n",
    "        if TOP:\n",
    "            if cell is None:\n",
    "                cell = line\n",
    "            ip = get_ipython()\n",
    "            res = ip.run_cell(cell)\n",
    "\n",
    "get_ipython().register_magics(MyMagics)"
   ]
  },
  {
   "cell_type": "code",
   "execution_count": 3,
   "metadata": {},
   "outputs": [],
   "source": [
    "EXCEPTION_HAPPENED = []"
   ]
  },
  {
   "cell_type": "code",
   "execution_count": 4,
   "metadata": {},
   "outputs": [],
   "source": [
    "from IPython.core.ultratb import AutoFormattedTB\n",
    "itb = AutoFormattedTB(mode = 'Plain', tb_offset = 1)\n",
    "IPython = get_ipython()\n",
    "def custom_exc(shell, etype, evalue, tb, tb_offset=None):\n",
    "    global EXCEPTION_HAPPENED\n",
    "    EXCEPTION_HAPPENED.append(IPython.last_execution_result.execution_count + 1)\n",
    "    # Show the error within the notebook, don't just swallow it\n",
    "    shell.showtraceback((etype, evalue, tb), tb_offset=tb_offset)\n",
    "    # grab the traceback and make it into a list of strings\n",
    "    #stb = itb.structured_traceback(etype, evalue, tb)\n",
    "    #sstb = itb.stb2text(stb)\n",
    "IPython.set_custom_exc((Exception,), custom_exc)"
   ]
  },
  {
   "cell_type": "code",
   "execution_count": 5,
   "metadata": {},
   "outputs": [],
   "source": [
    "import sys"
   ]
  },
  {
   "cell_type": "code",
   "execution_count": 6,
   "metadata": {},
   "outputs": [],
   "source": [
    "%top assert sys.version_info[0:2] == (3, 6)"
   ]
  },
  {
   "cell_type": "code",
   "execution_count": 7,
   "metadata": {},
   "outputs": [],
   "source": [
    "%%top\n",
    "import importlib.util\n",
    "if importlib.util.find_spec('sympy') is None:\n",
    "    !pip3 install sympy"
   ]
  },
  {
   "cell_type": "markdown",
   "metadata": {},
   "source": [
    "## Fault Patterns"
   ]
  },
  {
   "cell_type": "markdown",
   "metadata": {},
   "source": [
    "### Grammar"
   ]
  },
  {
   "cell_type": "markdown",
   "metadata": {},
   "source": [
    "A context-free grammar is represented as a Python dict, with each nonterminal symbol forming a key, and each nonterminal _defined_ by a list of expansion rules. For example, the expression grammar for parsing arithmetic expressions is given below."
   ]
  },
  {
   "cell_type": "markdown",
   "metadata": {},
   "source": [
    "#### Definitions\n",
    "\n",
    "##### String\n",
    "\n",
    "A string is composed of zero or more _alphabets_.\n",
    "\n",
    "E.g $a b c d$\n",
    "\n",
    "##### Alphabet\n",
    "\n",
    "An alphabet is a single unit in any derived string.\n",
    "\n",
    "E.g $a$\n",
    "\n",
    "##### Terminal symbol\n",
    "\n",
    "A terminal symbol is composed of _one or more_ alphabets.\n",
    "\n",
    "E.g. $a b$\n",
    "\n",
    "##### Nonterminal symbol\n",
    "\n",
    "A nonterminal symbol is an abstraction that is defined elsewhere in the grammar.\n",
    "E.g. $X_{nt}$\n",
    "\n",
    "##### Rule\n",
    "\n",
    "A rule is composed of a sequence of terminal or nonterminal symbols.\n",
    "\n",
    "E.g. $A^{rule} = X_{nt} \\cdot Y_{t} \\cdot Z_{nt}$\n",
    "\n",
    "\n",
    "##### Definition\n",
    "\n",
    "Each nonterminal symbol in the grammar corresponds to a _definition_ of that symbol. The definition consists of one or more alternative _rules_. (e.g $X_{nt} \\models A^{rule} \\lor B^{rule} \\lor C^{rule}$).\n",
    "\n",
    "##### Context Free Grammar\n",
    "\n",
    "A context free grammar is composed of a set of nonterminals and their corresponding definitions.\n",
    "\n",
    "E.g. $ G = \\{\\{ X_{nt} \\models A^{rule} \\lor B^{rule} \\lor C^{rule}\\} \\land \\{Y_{nt} \\models P^{rule} \\lor Q^{rule}\\} \\} $"
   ]
  },
  {
   "cell_type": "markdown",
   "metadata": {},
   "source": [
    "Here is a simple context free grammar for Boolean expressions"
   ]
  },
  {
   "cell_type": "code",
   "execution_count": 8,
   "metadata": {},
   "outputs": [],
   "source": [
    "import string"
   ]
  },
  {
   "cell_type": "code",
   "execution_count": 9,
   "metadata": {},
   "outputs": [],
   "source": [
    "BEXPR_GRAMMAR = {\n",
    "    '<start>': [['<bexpr>']],\n",
    "    '<bexpr>': [\n",
    "        ['<bop>', '(', '<bexpr>', ',', '<bexpr>', ')'],\n",
    "        ['<bop>',  '(', '<bexpr>', ',', '<bexpr>', ')'],\n",
    "        ['<bop>', '(', '<bexpr>', ')'],\n",
    "        ['<fault>']],\n",
    "    '<bop>' : [['and'], ['or'], ['neg']],\n",
    "    '<fault>': [['<letters>'], []],\n",
    "    '<letters>': [\n",
    "        ['<letter>'],\n",
    "        ['<letter>', '<letters>']],\n",
    "    '<letter>': [[i] for i in (string.ascii_lowercase + string.ascii_uppercase + string.digits) + '_+*.-']\n",
    "}"
   ]
  },
  {
   "cell_type": "code",
   "execution_count": 10,
   "metadata": {},
   "outputs": [],
   "source": [
    "BEXPR_START = '<start>'"
   ]
  },
  {
   "cell_type": "markdown",
   "metadata": {},
   "source": [
    "An example grammar for arithmetic expressions."
   ]
  },
  {
   "cell_type": "code",
   "execution_count": 11,
   "metadata": {},
   "outputs": [],
   "source": [
    "EXPR_GRAMMAR = {'<start>': [['<expr>']],\n",
    " '<expr>': [['<term>', ' + ', '<expr>'],\n",
    "  ['<term>', ' - ', '<expr>'],\n",
    "  ['<term>']],\n",
    " '<term>': [['<factor>', ' * ', '<term>'],\n",
    "  ['<factor>', ' / ', '<term>'],\n",
    "  ['<factor>']],\n",
    " '<factor>': [['+', '<factor>'],\n",
    "  ['-', '<factor>'],\n",
    "  ['(', '<expr>', ')'],\n",
    "  ['<integer>', '.', '<integer>'],\n",
    "  ['<integer>']],\n",
    " '<integer>': [['<digit>', '<integer>'], ['<digit>']],\n",
    " '<digit>': [['0'], ['1'], ['2'], ['3'], ['4'], ['5'], ['6'], ['7'], ['8'], ['9']]}"
   ]
  },
  {
   "cell_type": "code",
   "execution_count": 12,
   "metadata": {},
   "outputs": [],
   "source": [
    "EXPR_START = '<start>'"
   ]
  },
  {
   "cell_type": "markdown",
   "metadata": {},
   "source": [
    "We define an input from which we extract our patterns. Note that we do not use the predicate; rather we assume that we already have a few such predicates."
   ]
  },
  {
   "cell_type": "code",
   "execution_count": 13,
   "metadata": {},
   "outputs": [],
   "source": [
    "#%%top\n",
    "expr_input =  '1 + ((2 * 3 / 4))'\n",
    "bexpr_input = 'and(or(neg(A)),or(B))'"
   ]
  },
  {
   "cell_type": "markdown",
   "metadata": {},
   "source": [
    "Note the convetion we used: Each nonterminal is enclosed in angle brackets. E.g. `<expr>`. We now define a function that can distinguish terminal symbols from nonterminals."
   ]
  },
  {
   "cell_type": "markdown",
   "metadata": {},
   "source": [
    "The `is_nt()` function checks if the given node is a terminal or not."
   ]
  },
  {
   "cell_type": "code",
   "execution_count": 14,
   "metadata": {},
   "outputs": [],
   "source": [
    "def is_nt(symbol):\n",
    "     return symbol and (symbol[0], symbol[-1]) == ('<', '>')"
   ]
  },
  {
   "cell_type": "markdown",
   "metadata": {},
   "source": [
    "#### The Parser"
   ]
  },
  {
   "cell_type": "markdown",
   "metadata": {},
   "source": [
    "Given the grammar, and an input, we can parse it into a derivation tree.\n",
    "The `Parser` below is from [fuzzingbook.org](https://www.fuzzingbook.org/html/Parser.html), and provides a generic context-free parser. This is present in the `src` directory."
   ]
  },
  {
   "cell_type": "code",
   "execution_count": 15,
   "metadata": {},
   "outputs": [],
   "source": [
    "from Parser import EarleyParser as Parser"
   ]
  },
  {
   "cell_type": "markdown",
   "metadata": {},
   "source": [
    "How do we check that our parse succeeded? We can convert the derivation tree back to the original string and check for equality."
   ]
  },
  {
   "cell_type": "markdown",
   "metadata": {},
   "source": [
    "The `tree_to_str()` function converts a derivation tree to its original string. We use a non recursive definition."
   ]
  },
  {
   "cell_type": "code",
   "execution_count": 16,
   "metadata": {},
   "outputs": [],
   "source": [
    "def tree_to_str(tree):\n",
    "    expanded = []\n",
    "    to_expand = [tree]\n",
    "    while to_expand:\n",
    "        (key, children, *rest), *to_expand = to_expand\n",
    "        if is_nt(key):\n",
    "            #assert children # not necessary\n",
    "            to_expand = list(children) + list(to_expand)\n",
    "        else:\n",
    "            assert not children\n",
    "            expanded.append(key)\n",
    "    return ''.join(expanded)"
   ]
  },
  {
   "cell_type": "code",
   "execution_count": 17,
   "metadata": {},
   "outputs": [],
   "source": [
    "Ts = tree_to_str"
   ]
  },
  {
   "cell_type": "code",
   "execution_count": 18,
   "metadata": {},
   "outputs": [],
   "source": [
    "#%%top\n",
    "expr_parser = Parser(EXPR_GRAMMAR, start_symbol=EXPR_START, canonical=True)\n",
    "expr_tree = list(expr_parser.parse(expr_input))[0]"
   ]
  },
  {
   "cell_type": "code",
   "execution_count": 19,
   "metadata": {
    "scrolled": false
   },
   "outputs": [],
   "source": [
    "%top assert tree_to_str(expr_tree) == '1 + ((2 * 3 / 4))'"
   ]
  },
  {
   "cell_type": "markdown",
   "metadata": {},
   "source": [
    "We can also directly check for recognition."
   ]
  },
  {
   "cell_type": "code",
   "execution_count": 20,
   "metadata": {},
   "outputs": [],
   "source": [
    "#%%top\n",
    "expr_parser = Parser(EXPR_GRAMMAR, start_symbol=EXPR_START, canonical=True)"
   ]
  },
  {
   "cell_type": "code",
   "execution_count": 21,
   "metadata": {},
   "outputs": [],
   "source": [
    "%top assert expr_parser.can_parse(expr_input)"
   ]
  },
  {
   "cell_type": "code",
   "execution_count": 22,
   "metadata": {},
   "outputs": [],
   "source": [
    "#%%top\n",
    "bexpr_parser = Parser(BEXPR_GRAMMAR, canonical=True, start_symbol=BEXPR_START)"
   ]
  },
  {
   "cell_type": "code",
   "execution_count": 23,
   "metadata": {
    "scrolled": true
   },
   "outputs": [],
   "source": [
    "%top assert bexpr_parser.can_parse(bexpr_input)"
   ]
  },
  {
   "cell_type": "markdown",
   "metadata": {},
   "source": [
    "#### Display\n",
    "\n",
    "While converting to strings are easy, it is unsatisfying. We want to make our output look pretty, and inspect the tree structure of the parsed tree. So we define graphical tree display (code from fuzzingbook)"
   ]
  },
  {
   "cell_type": "code",
   "execution_count": 24,
   "metadata": {},
   "outputs": [],
   "source": [
    "from graphviz import Digraph"
   ]
  },
  {
   "cell_type": "code",
   "execution_count": 25,
   "metadata": {},
   "outputs": [],
   "source": [
    "from IPython.display import display, Image"
   ]
  },
  {
   "cell_type": "code",
   "execution_count": 26,
   "metadata": {},
   "outputs": [],
   "source": [
    "def zoom(v, zoom=True):\n",
    "    # return v directly if you do not want to zoom out.\n",
    "    if zoom:\n",
    "        return Image(v.render(format='png'))\n",
    "    return v"
   ]
  },
  {
   "cell_type": "code",
   "execution_count": 27,
   "metadata": {},
   "outputs": [],
   "source": [
    "class DisplayTree():\n",
    "    def __init__(self):\n",
    "        pass\n",
    "\n",
    "    def extract_node(self, node, id):\n",
    "        symbol, children, *annotation = node\n",
    "        return symbol, children, ''.join(str(a) for a in annotation)\n",
    "    \n",
    "    def node_attr(self, dot, nid, symbol, ann):\n",
    "        dot.node(repr(nid), symbol + ' ')\n",
    "        \n",
    "    def edge_attr(self, dot, start_node, stop_node):\n",
    "        dot.edge(repr(start_node), repr(stop_node))\n",
    "        \n",
    "    def graph_attr(self, dot):\n",
    "        dot.attr('node', shape='plain')\n",
    "        \n",
    "    def display(self, derivation_tree):\n",
    "        counter = 0\n",
    "        def traverse_tree(dot, tree, id=0):\n",
    "            (symbol, children, annotation) = self.extract_node(tree, id)\n",
    "            self.node_attr(dot, id, symbol, annotation)\n",
    "            if children:\n",
    "                for child in children:\n",
    "                    nonlocal counter\n",
    "                    counter += 1\n",
    "                    child_id = counter\n",
    "                    self.edge_attr(dot, id, child_id)\n",
    "                    traverse_tree(dot, child, child_id)\n",
    "        dot = Digraph(comment=\"Derivation Tree\")\n",
    "        self.graph_attr(dot)\n",
    "        traverse_tree(dot, derivation_tree)\n",
    "        return dot\n",
    "    \n",
    "    def __call__(self, dt):\n",
    "        return self.display(dt)"
   ]
  },
  {
   "cell_type": "code",
   "execution_count": 28,
   "metadata": {},
   "outputs": [],
   "source": [
    "display_tree = DisplayTree()"
   ]
  },
  {
   "cell_type": "markdown",
   "metadata": {},
   "source": [
    "We are now ready to display the tree structure."
   ]
  },
  {
   "cell_type": "code",
   "execution_count": 29,
   "metadata": {
    "scrolled": false
   },
   "outputs": [
    {
     "data": {
      "image/png": "[encoded data removed]",
      "text/plain": [
       "<IPython.core.display.Image object>"
      ]
     },
     "execution_count": 29,
     "metadata": {},
     "output_type": "execute_result"
    }
   ],
   "source": [
    "%top zoom(display_tree(expr_tree))"
   ]
  },
  {
   "cell_type": "markdown",
   "metadata": {},
   "source": [
    "#### A Fuzzer"
   ]
  },
  {
   "cell_type": "markdown",
   "metadata": {},
   "source": [
    "In order to define abstraction, we need to be able to generate values based on a grammar. Our fuzzer is able to do that."
   ]
  },
  {
   "cell_type": "code",
   "execution_count": 30,
   "metadata": {},
   "outputs": [],
   "source": [
    "import random"
   ]
  },
  {
   "cell_type": "code",
   "execution_count": 31,
   "metadata": {},
   "outputs": [],
   "source": [
    "random.seed(0)"
   ]
  },
  {
   "cell_type": "markdown",
   "metadata": {},
   "source": [
    "##### The interface"
   ]
  },
  {
   "cell_type": "code",
   "execution_count": 32,
   "metadata": {},
   "outputs": [],
   "source": [
    "class Fuzzer:\n",
    "    def __init__(self, grammar):\n",
    "        self.grammar = grammar\n",
    "\n",
    "    def fuzz(self, key='<start>', max_num=None, max_depth=None):\n",
    "        raise NotImplemented()"
   ]
  },
  {
   "cell_type": "markdown",
   "metadata": {},
   "source": [
    "##### The implementation"
   ]
  },
  {
   "cell_type": "markdown",
   "metadata": {},
   "source": [
    "The fuzzer tries to randomly choose an expansion when more than one expansion is available. If however, it goes beyond max_depth, then it chooses the cheapest nodes. The cheapest nodes are those nodes with minimum further expansion (no recursion)."
   ]
  },
  {
   "cell_type": "code",
   "execution_count": 33,
   "metadata": {},
   "outputs": [],
   "source": [
    "class LimitFuzzer(Fuzzer):\n",
    "    def symbol_cost(self, grammar, symbol, seen):\n",
    "        if symbol in self.key_cost: return self.key_cost[symbol]\n",
    "        if symbol in seen:\n",
    "            self.key_cost[symbol] = float('inf')\n",
    "            return float('inf')\n",
    "        v = min((self.expansion_cost(grammar, rule, seen | {symbol})\n",
    "                    for rule in grammar.get(symbol, [])), default=0)\n",
    "        self.key_cost[symbol] = v\n",
    "        return v\n",
    "\n",
    "    def expansion_cost(self, grammar, tokens, seen):\n",
    "        return max((self.symbol_cost(grammar, token, seen)\n",
    "                    for token in tokens if token in grammar), default=0) + 1\n",
    "\n",
    "    def nonterminals(self, rule):\n",
    "        return [t for t in rule if self.is_nt(t)]\n",
    "\n",
    "    def iter_gen_key(self, key, max_depth):\n",
    "        def get_def(t):\n",
    "            if self.is_nt(t):\n",
    "                return [t, None]\n",
    "            else:\n",
    "                return [t, []]\n",
    "\n",
    "        cheap_grammar = {}\n",
    "        for k in self.cost:\n",
    "            # should we minimize it here? We simply avoid infinities\n",
    "            rules = self.grammar[k]\n",
    "            min_cost = min([self.cost[k][str(r)] for r in rules])\n",
    "            #grammar[k] = [r for r in grammar[k] if self.cost[k][str(r)] == float('inf')]\n",
    "            cheap_grammar[k] = [r for r in self.grammar[k] if self.cost[k][str(r)] == min_cost]\n",
    "\n",
    "        root = [key, None]\n",
    "        queue = [(0, root)]\n",
    "        while queue:\n",
    "            # get one item to expand from the queue\n",
    "            (depth, item), *queue = queue\n",
    "            key = item[0]\n",
    "            if item[1] is not None: continue\n",
    "            grammar = self.grammar if depth < max_depth else cheap_grammar\n",
    "            chosen_rule = random.choice(grammar[key])\n",
    "            expansion = [get_def(t) for t in chosen_rule]\n",
    "            item[1] = expansion\n",
    "            for t in expansion: queue.append((depth+1, t))\n",
    "            #print(\"Fuzz: %s\" % key, len(queue), file=sys.stderr)\n",
    "        #print(file=sys.stderr)\n",
    "        return root\n",
    "\n",
    "    def gen_key(self, key, depth, max_depth):\n",
    "        if key not in self.grammar:\n",
    "            return (key, [])\n",
    "        if depth > max_depth:\n",
    "            #return self.gen_key_cheap_iter(key)\n",
    "            clst = sorted([(self.cost[key][str(rule)], rule) for rule in self.grammar[key]])\n",
    "            rules = [r for c,r in clst if c == clst[0][0]]\n",
    "        else:\n",
    "            rules = self.grammar[key]\n",
    "        return (key, self.gen_rule(random.choice(rules), depth+1, max_depth))\n",
    "\n",
    "    def gen_rule(self, rule, depth, max_depth):\n",
    "        return [self.gen_key(token, depth, max_depth) for token in rule]\n",
    "\n",
    "    def fuzz(self, key='<start>', max_depth=10):\n",
    "        self._s = self.iter_gen_key(key=key, max_depth=max_depth)\n",
    "        return self.tree_to_str(self._s)\n",
    "   \n",
    "    def is_nt(self, name):\n",
    "        return (name[0], name[-1]) == ('<', '>')\n",
    " \n",
    "    def tree_to_str(self, tree):\n",
    "        name, children = tree\n",
    "        if not self.is_nt(name): return name\n",
    "        return ''.join([tree_to_str(c) for c in children])\n",
    "\n",
    "    def tree_to_str(self, tree):\n",
    "        expanded = []\n",
    "        to_expand = [tree]\n",
    "        while to_expand:\n",
    "            (key, children, *rest), *to_expand = to_expand\n",
    "            if is_nt(key):\n",
    "                #assert children # not necessary\n",
    "                to_expand = children + to_expand\n",
    "            else:\n",
    "                assert not children\n",
    "                expanded.append(key)\n",
    "        return ''.join(expanded)\n",
    "\n",
    "\n",
    "    def __init__(self, grammar):\n",
    "        super().__init__(grammar)\n",
    "        self.key_cost = {}\n",
    "        self.cost = self.compute_cost(grammar)\n",
    "\n",
    "    def compute_cost(self, grammar):\n",
    "        cost = {}\n",
    "        for k in grammar:\n",
    "            cost[k] = {}\n",
    "            for rule in grammar[k]:\n",
    "                cost[k][str(rule)] = self.expansion_cost(grammar, rule, set())\n",
    "            if len(grammar[k]):\n",
    "                assert len([v for v in cost[k] if v != float('inf')]) > 0\n",
    "        return cost"
   ]
  },
  {
   "cell_type": "code",
   "execution_count": 34,
   "metadata": {},
   "outputs": [],
   "source": [
    "#%%top\n",
    "expr_fuzzer = LimitFuzzer(EXPR_GRAMMAR)\n",
    "bexpr_fuzzer = LimitFuzzer(BEXPR_GRAMMAR)"
   ]
  },
  {
   "cell_type": "code",
   "execution_count": 35,
   "metadata": {},
   "outputs": [
    {
     "data": {
      "text/plain": [
       "'2 * (19.541 + 7 / -4 / 5.7 * 5.0 + -0.2 * 2 * 8) / 4 - -(+3 * (1) / 1.9 / 2.3 - +0.7) / 07133 - 6 * 42.1 * (6.9 * 7) / (5 + 0) * 0 - 3 / +2 - -3 * 08 + (5 + 9.3) * 9 / 8.0 / 6.6'"
      ]
     },
     "execution_count": 35,
     "metadata": {},
     "output_type": "execute_result"
    }
   ],
   "source": [
    "%top expr_fuzzer.fuzz(EXPR_START)"
   ]
  },
  {
   "cell_type": "code",
   "execution_count": 36,
   "metadata": {},
   "outputs": [
    {
     "data": {
      "text/plain": [
       "'and(or(,neg(or(neg(,and(and(or(and(,),and(,)),or(,neg(,))),neg(and(or(),),and(neg(),neg(,))))),and(-)),neg(or(or(wR),),M))),)'"
      ]
     },
     "execution_count": 36,
     "metadata": {},
     "output_type": "execute_result"
    }
   ],
   "source": [
    "%top bexpr_fuzzer.fuzz(BEXPR_START)"
   ]
  },
  {
   "cell_type": "markdown",
   "metadata": {},
   "source": [
    "### Library functions"
   ]
  },
  {
   "cell_type": "markdown",
   "metadata": {},
   "source": [
    "Copying a grammar"
   ]
  },
  {
   "cell_type": "code",
   "execution_count": 37,
   "metadata": {},
   "outputs": [],
   "source": [
    "def copy_grammar(g):\n",
    "    return {k:[[t for t in r] for r in g[k]] for k in g}"
   ]
  },
  {
   "cell_type": "markdown",
   "metadata": {},
   "source": [
    "Produce a sorted list of rules"
   ]
  },
  {
   "cell_type": "code",
   "execution_count": 38,
   "metadata": {},
   "outputs": [],
   "source": [
    "def sort_rules(rules):\n",
    "    return sorted([list(r) for r in rules])"
   ]
  },
  {
   "cell_type": "markdown",
   "metadata": {},
   "source": [
    "#### Nullability"
   ]
  },
  {
   "cell_type": "code",
   "execution_count": 39,
   "metadata": {},
   "outputs": [],
   "source": [
    "EPSILON=''\n",
    "def get_rules(g): return [(k, e) for k, a in g.items() for e in a]\n",
    "def get_terminals(g):\n",
    "    return set(t for k, expr in get_rules(g) for t in expr if t not in g)\n",
    "def fixpoint(f):\n",
    "    def helper(*args):\n",
    "        while True:\n",
    "            sargs = repr(args)\n",
    "            args_ = f(*args)\n",
    "            if repr(args_) == sargs:\n",
    "                return args\n",
    "            args = args_\n",
    "    return helper\n",
    "\n",
    "\n",
    "@fixpoint\n",
    "def nullable_(grules, e):\n",
    "    for A, expression in grules:\n",
    "        if all((token in e)  for token in expression): e |= {A}\n",
    "    return (grules, e)\n",
    "\n",
    "def nullable_nt(grammar):\n",
    "    return nullable_(get_rules(grammar), set())[1]\n",
    "\n",
    "def is_nullable(grammar, start):\n",
    "    return start in nullable_nt(grammar)"
   ]
  },
  {
   "cell_type": "code",
   "execution_count": 40,
   "metadata": {},
   "outputs": [
    {
     "data": {
      "text/plain": [
       "{'<a>', '<b>'}"
      ]
     },
     "execution_count": 40,
     "metadata": {},
     "output_type": "execute_result"
    }
   ],
   "source": [
    "%top nullable_nt({'<a>': [['a'], ['<b>']], '<b>': [[]], '<c>': [['c']]})"
   ]
  },
  {
   "cell_type": "markdown",
   "metadata": {},
   "source": [
    "#### Check for empty grammar\n",
    "\n",
    "One can check for empty grammar by first removing all terminals and check the resulting grammar for nullability."
   ]
  },
  {
   "cell_type": "code",
   "execution_count": 41,
   "metadata": {},
   "outputs": [],
   "source": [
    "def remove_all_terminals(grammar):\n",
    "    return {k:[[t for t in r if is_nt(t)] for r in grammar[k]] for k in grammar} "
   ]
  },
  {
   "cell_type": "code",
   "execution_count": 42,
   "metadata": {},
   "outputs": [],
   "source": [
    "%top _expr_grammar_tmp1 = remove_all_terminals(EXPR_GRAMMAR)"
   ]
  },
  {
   "cell_type": "code",
   "execution_count": 43,
   "metadata": {},
   "outputs": [
    {
     "data": {
      "text/plain": [
       "{'<digit>', '<expr>', '<factor>', '<integer>', '<start>', '<term>'}"
      ]
     },
     "execution_count": 43,
     "metadata": {},
     "output_type": "execute_result"
    }
   ],
   "source": [
    "%top nullable_nt(_expr_grammar_tmp1)"
   ]
  },
  {
   "cell_type": "code",
   "execution_count": 44,
   "metadata": {},
   "outputs": [
    {
     "data": {
      "text/plain": [
       "set()"
      ]
     },
     "execution_count": 44,
     "metadata": {},
     "output_type": "execute_result"
    }
   ],
   "source": [
    "%top nullable_nt(EXPR_GRAMMAR)"
   ]
  },
  {
   "cell_type": "code",
   "execution_count": 45,
   "metadata": {},
   "outputs": [],
   "source": [
    "empty_g, empty_s = {'<start>': [['<expr>']], '<expr>': [['<expr>']]}, '<start>'"
   ]
  },
  {
   "cell_type": "code",
   "execution_count": 46,
   "metadata": {},
   "outputs": [
    {
     "data": {
      "text/plain": [
       "set()"
      ]
     },
     "execution_count": 46,
     "metadata": {},
     "output_type": "execute_result"
    }
   ],
   "source": [
    "%top nullable_nt(empty_g)"
   ]
  },
  {
   "cell_type": "code",
   "execution_count": 47,
   "metadata": {},
   "outputs": [
    {
     "data": {
      "text/plain": [
       "False"
      ]
     },
     "execution_count": 47,
     "metadata": {},
     "output_type": "execute_result"
    }
   ],
   "source": [
    "%top is_nullable(empty_g, empty_s)"
   ]
  },
  {
   "cell_type": "code",
   "execution_count": 48,
   "metadata": {},
   "outputs": [
    {
     "data": {
      "text/plain": [
       "False"
      ]
     },
     "execution_count": 48,
     "metadata": {},
     "output_type": "execute_result"
    }
   ],
   "source": [
    "%top is_nullable(EXPR_GRAMMAR, EXPR_START)"
   ]
  },
  {
   "cell_type": "code",
   "execution_count": 49,
   "metadata": {},
   "outputs": [],
   "source": [
    "def is_cfg_empty(grammar, start):\n",
    "    # first remove all terminals\n",
    "    null_g = remove_all_terminals(grammar)\n",
    "    # then check if start is nullable.\n",
    "    return not is_nullable(null_g, start)"
   ]
  },
  {
   "cell_type": "code",
   "execution_count": 50,
   "metadata": {},
   "outputs": [
    {
     "data": {
      "text/plain": [
       "False"
      ]
     },
     "execution_count": 50,
     "metadata": {},
     "output_type": "execute_result"
    }
   ],
   "source": [
    "%top is_cfg_empty(EXPR_GRAMMAR, EXPR_START)"
   ]
  },
  {
   "cell_type": "code",
   "execution_count": 51,
   "metadata": {},
   "outputs": [
    {
     "data": {
      "text/plain": [
       "True"
      ]
     },
     "execution_count": 51,
     "metadata": {},
     "output_type": "execute_result"
    }
   ],
   "source": [
    "%top is_cfg_empty(empty_g, empty_s)"
   ]
  },
  {
   "cell_type": "markdown",
   "metadata": {},
   "source": [
    "#### Show"
   ]
  },
  {
   "cell_type": "code",
   "execution_count": 52,
   "metadata": {},
   "outputs": [],
   "source": [
    "def show_grammar(grammar, verbose=0):\n",
    "    r = 0\n",
    "    k = 0\n",
    "    for key in grammar:\n",
    "        k += 1\n",
    "        if verbose > -1: print(key,'::=')\n",
    "        for rule in grammar[key]:\n",
    "            r += 1\n",
    "            if verbose > 1:\n",
    "                pre = r\n",
    "            else:\n",
    "                pre = ''\n",
    "            if verbose > -1:\n",
    "                print('%s|   ' % pre, ' '.join([t if is_nt(t) else repr(t) for t in rule]))\n",
    "        if verbose > 0:\n",
    "            print(k, r)\n",
    "    print(k, r)"
   ]
  },
  {
   "cell_type": "code",
   "execution_count": 53,
   "metadata": {},
   "outputs": [],
   "source": [
    "Gs = show_grammar"
   ]
  },
  {
   "cell_type": "code",
   "execution_count": 54,
   "metadata": {},
   "outputs": [
    {
     "name": "stdout",
     "output_type": "stream",
     "text": [
      "<start> ::=\n",
      "|    <expr>\n",
      "<expr> ::=\n",
      "|    <term> ' + ' <expr>\n",
      "|    <term> ' - ' <expr>\n",
      "|    <term>\n",
      "<term> ::=\n",
      "|    <factor> ' * ' <term>\n",
      "|    <factor> ' / ' <term>\n",
      "|    <factor>\n",
      "<factor> ::=\n",
      "|    '+' <factor>\n",
      "|    '-' <factor>\n",
      "|    '(' <expr> ')'\n",
      "|    <integer> '.' <integer>\n",
      "|    <integer>\n",
      "<integer> ::=\n",
      "|    <digit> <integer>\n",
      "|    <digit>\n",
      "<digit> ::=\n",
      "|    '0'\n",
      "|    '1'\n",
      "|    '2'\n",
      "|    '3'\n",
      "|    '4'\n",
      "|    '5'\n",
      "|    '6'\n",
      "|    '7'\n",
      "|    '8'\n",
      "|    '9'\n",
      "6 24\n"
     ]
    }
   ],
   "source": [
    "%top Gs(EXPR_GRAMMAR)"
   ]
  },
  {
   "cell_type": "markdown",
   "metadata": {},
   "source": [
    "#### Split token"
   ]
  },
  {
   "cell_type": "code",
   "execution_count": 55,
   "metadata": {},
   "outputs": [],
   "source": [
    "def tsplit(token):\n",
    "    assert token[0], token[-1] == ('<', '>')\n",
    "    front, *back = token[1:-1].split(None, 1)\n",
    "    return front, ' '.join(back)"
   ]
  },
  {
   "cell_type": "markdown",
   "metadata": {},
   "source": [
    "#### The stem\n",
    "\n",
    "The stem of a token is the original nonterminal it corresponds to, before refinement."
   ]
  },
  {
   "cell_type": "code",
   "execution_count": 56,
   "metadata": {},
   "outputs": [],
   "source": [
    "def stem(token):\n",
    "    return tsplit(token)[0].strip()"
   ]
  },
  {
   "cell_type": "markdown",
   "metadata": {},
   "source": [
    "#### Normalization"
   ]
  },
  {
   "cell_type": "code",
   "execution_count": 57,
   "metadata": {},
   "outputs": [],
   "source": [
    "def normalize(key):\n",
    "    return '<%s>' % stem(key)"
   ]
  },
  {
   "cell_type": "code",
   "execution_count": 58,
   "metadata": {},
   "outputs": [],
   "source": [
    "def normalize_grammar(g):\n",
    "    return {normalize(k):list({tuple([normalize(t) if is_nt(t) else t for t in r]) for r in g[k]}) for k in g}"
   ]
  },
  {
   "cell_type": "markdown",
   "metadata": {},
   "source": [
    "#### The refinement\n",
    "\n",
    "The refinement of a token is the part after the initial space in a token which corresponds to how the refined token came to be (based on adding/negating other faults.)"
   ]
  },
  {
   "cell_type": "code",
   "execution_count": 59,
   "metadata": {},
   "outputs": [],
   "source": [
    "def refinement(token):\n",
    "    return tsplit(token)[1]"
   ]
  },
  {
   "cell_type": "code",
   "execution_count": 60,
   "metadata": {},
   "outputs": [],
   "source": [
    "def is_refined_key(key):\n",
    "    assert is_nt(key)\n",
    "    return (' ' in key)"
   ]
  },
  {
   "cell_type": "code",
   "execution_count": 61,
   "metadata": {},
   "outputs": [],
   "source": [
    "def is_base_key(key):\n",
    "    return not is_refined_key(key)"
   ]
  },
  {
   "cell_type": "code",
   "execution_count": 62,
   "metadata": {},
   "outputs": [],
   "source": [
    "%top assert refinement('<a b>') == 'b'"
   ]
  },
  {
   "cell_type": "code",
   "execution_count": 63,
   "metadata": {},
   "outputs": [],
   "source": [
    "%top assert is_refined_key('<a b>')"
   ]
  },
  {
   "cell_type": "code",
   "execution_count": 64,
   "metadata": {},
   "outputs": [],
   "source": [
    "%top assert is_base_key('<a>')"
   ]
  },
  {
   "cell_type": "code",
   "execution_count": 65,
   "metadata": {},
   "outputs": [],
   "source": [
    "%top assert not is_base_key('<a b>')"
   ]
  },
  {
   "cell_type": "code",
   "execution_count": 66,
   "metadata": {},
   "outputs": [],
   "source": [
    "def is_refined_rule(rule):\n",
    "    for k in rule:\n",
    "        if is_nt(k) and is_refined_key(k): return True\n",
    "    return False"
   ]
  },
  {
   "cell_type": "markdown",
   "metadata": {},
   "source": [
    "#### Find Node\n",
    "Finding nodes given the path"
   ]
  },
  {
   "cell_type": "code",
   "execution_count": 67,
   "metadata": {},
   "outputs": [],
   "source": [
    "def find_node(node, path):\n",
    "    name, children, *rest = node\n",
    "    if not path:\n",
    "        return node\n",
    "    p, *path = path\n",
    "    for i,c in enumerate(children):\n",
    "        if i == p:\n",
    "            return find_node(c, path)\n",
    "    return None"
   ]
  },
  {
   "cell_type": "code",
   "execution_count": 68,
   "metadata": {},
   "outputs": [],
   "source": [
    "%top assert find_node(expr_tree, [0,1]) == (' + ', [])"
   ]
  },
  {
   "cell_type": "code",
   "execution_count": 69,
   "metadata": {
    "scrolled": true
   },
   "outputs": [],
   "source": [
    "%top assert find_node(expr_tree, [0,2,0,0,2]) == (')', [])"
   ]
  },
  {
   "cell_type": "code",
   "execution_count": 70,
   "metadata": {},
   "outputs": [],
   "source": [
    "def Ns(expr, paths):\n",
    "    for path in paths:\n",
    "        n = find_node(expr, path)\n",
    "        print(n[0], tree_to_str(n))"
   ]
  },
  {
   "cell_type": "code",
   "execution_count": 71,
   "metadata": {},
   "outputs": [
    {
     "name": "stdout",
     "output_type": "stream",
     "text": [
      "<expr> ((2 * 3 / 4))\n",
      "<term> ((2 * 3 / 4))\n",
      "<factor> ((2 * 3 / 4))\n",
      "<expr> (2 * 3 / 4)\n"
     ]
    }
   ],
   "source": [
    "%%top\n",
    "Ns(expr_tree, [[0,2]])\n",
    "Ns(expr_tree, [[0,2,0]])\n",
    "Ns(expr_tree, [[0,2,0,0]])\n",
    "Ns(expr_tree, [[0,2,0,0,1]])"
   ]
  },
  {
   "cell_type": "markdown",
   "metadata": {},
   "source": [
    "#### Path to Key\n",
    "Get the path to where key is defined. This is not for parse trees where the same nonterminal may be found in multiple nodes, but for trees where the key at each node is unique."
   ]
  },
  {
   "cell_type": "code",
   "execution_count": 72,
   "metadata": {},
   "outputs": [],
   "source": [
    "def path_to_key(tree, key):\n",
    "    if tree is None: return None\n",
    "    name, children = tree\n",
    "    if key == name:\n",
    "        return []\n",
    "    for i,c in enumerate(children):\n",
    "        p = path_to_key(c, key)\n",
    "        if p is not None:\n",
    "            return [i] + p\n",
    "    return None"
   ]
  },
  {
   "cell_type": "markdown",
   "metadata": {},
   "source": [
    "#### Rule to normalized rule"
   ]
  },
  {
   "cell_type": "code",
   "execution_count": 73,
   "metadata": {},
   "outputs": [],
   "source": [
    "def rule_to_normalized_rule(rule):\n",
    "    return [normalize(t) if is_nt(t) else t for t in rule]"
   ]
  },
  {
   "cell_type": "code",
   "execution_count": 74,
   "metadata": {},
   "outputs": [],
   "source": [
    "def normalized_rule_match(r1, r2):\n",
    "    return rule_to_normalized_rule(r1) == rule_to_normalized_rule(r2)"
   ]
  },
  {
   "cell_type": "code",
   "execution_count": 75,
   "metadata": {},
   "outputs": [],
   "source": [
    "def rule_normalized_difference(rulesA, rulesB):\n",
    "    rem_rulesA = rulesA\n",
    "    for ruleB in rulesB:\n",
    "        rem_rulesA = [rA for rA in rem_rulesA if not normalized_rule_match(rA, ruleB)]\n",
    "    return rem_rulesA"
   ]
  },
  {
   "cell_type": "code",
   "execution_count": 76,
   "metadata": {},
   "outputs": [],
   "source": [
    "def rules_normalized_match_to_rule(rulesA, rB):\n",
    "    selA = [rA for rA in rulesA if normalized_rule_match(rA, rB)]\n",
    "    return selA"
   ]
  },
  {
   "cell_type": "code",
   "execution_count": 77,
   "metadata": {},
   "outputs": [
    {
     "data": {
      "text/plain": [
       "[['+', '<factor>'],\n",
       " ['-', '<factor>'],\n",
       " ['(', '<expr>', ')'],\n",
       " ['<integer>', '.', '<integer>'],\n",
       " ['<integer>']]"
      ]
     },
     "execution_count": 77,
     "metadata": {},
     "output_type": "execute_result"
    }
   ],
   "source": [
    "%top EXPR_GRAMMAR['<factor>']"
   ]
  },
  {
   "cell_type": "code",
   "execution_count": 78,
   "metadata": {},
   "outputs": [],
   "source": [
    "%%top\n",
    "assert rule_normalized_difference(EXPR_GRAMMAR['<factor>'], [['(', '<expr F1>', ')']]) == [\n",
    "    ['+', '<factor>'],\n",
    "    ['-', '<factor>'],\n",
    "    ['<integer>', '.', '<integer>'],\n",
    "    ['<integer>']]"
   ]
  },
  {
   "cell_type": "code",
   "execution_count": 79,
   "metadata": {},
   "outputs": [],
   "source": [
    "%%top\n",
    "assert rule_normalized_difference(EXPR_GRAMMAR['<factor>'], [['(', '<expr>', ')'], ['<integer>']]) == [\n",
    "    ['+', '<factor>'],\n",
    "    ['-', '<factor>'],\n",
    "    ['<integer>', '.', '<integer>']]"
   ]
  },
  {
   "cell_type": "markdown",
   "metadata": {},
   "source": [
    "#### Node to normalized rule"
   ]
  },
  {
   "cell_type": "code",
   "execution_count": 80,
   "metadata": {},
   "outputs": [],
   "source": [
    "def node_to_rule(node):\n",
    "    name, children, *rest = node\n",
    "    return [c[0] for c in children]"
   ]
  },
  {
   "cell_type": "code",
   "execution_count": 81,
   "metadata": {},
   "outputs": [
    {
     "data": {
      "text/plain": [
       "['<term>', ' + ', '<expr>']"
      ]
     },
     "execution_count": 81,
     "metadata": {},
     "output_type": "execute_result"
    }
   ],
   "source": [
    "%top node_to_rule(find_node(expr_tree, [0]))"
   ]
  },
  {
   "cell_type": "code",
   "execution_count": 82,
   "metadata": {},
   "outputs": [
    {
     "data": {
      "text/plain": [
       "('<factor>',\n",
       " [('(', []),\n",
       "  ('<expr>',\n",
       "   [('<term>',\n",
       "     [('<factor>',\n",
       "       [('(', []),\n",
       "        ('<expr>',\n",
       "         [('<term>',\n",
       "           [('<factor>', [('<integer>', [('<digit>', [('2', [])])])]),\n",
       "            (' * ', []),\n",
       "            ('<term>',\n",
       "             [('<factor>', [('<integer>', [('<digit>', [('3', [])])])]),\n",
       "              (' / ', []),\n",
       "              ('<term>',\n",
       "               [('<factor>',\n",
       "                 [('<integer>', [('<digit>', [('4', [])])])])])])])]),\n",
       "        (')', [])])])]),\n",
       "  (')', [])])"
      ]
     },
     "execution_count": 82,
     "metadata": {},
     "output_type": "execute_result"
    }
   ],
   "source": [
    "%top n = find_node(expr_tree, [0,2,0, 0]); n"
   ]
  },
  {
   "cell_type": "code",
   "execution_count": 83,
   "metadata": {},
   "outputs": [
    {
     "data": {
      "text/plain": [
       "['(', '<expr>', ')']"
      ]
     },
     "execution_count": 83,
     "metadata": {},
     "output_type": "execute_result"
    }
   ],
   "source": [
    "%top node_to_rule(n)"
   ]
  },
  {
   "cell_type": "code",
   "execution_count": 84,
   "metadata": {},
   "outputs": [],
   "source": [
    "def node_to_normalized_rule(node):\n",
    "    return rule_to_normalized_rule(node_to_rule(node))"
   ]
  },
  {
   "cell_type": "code",
   "execution_count": 85,
   "metadata": {},
   "outputs": [
    {
     "data": {
      "text/plain": [
       "['(', '<expr>', ')']"
      ]
     },
     "execution_count": 85,
     "metadata": {},
     "output_type": "execute_result"
    }
   ],
   "source": [
    "%top node_to_normalized_rule(n)"
   ]
  },
  {
   "cell_type": "markdown",
   "metadata": {},
   "source": [
    "#### Replace Tree"
   ]
  },
  {
   "cell_type": "code",
   "execution_count": 86,
   "metadata": {},
   "outputs": [],
   "source": [
    "def replace_tree(node, path, newnode):\n",
    "    if not path:\n",
    "        return newnode\n",
    "    name, children = node\n",
    "    hd, *subpath = path\n",
    "    assert hd < len(children)\n",
    "    new_children = []\n",
    "    for i,c in enumerate(children):\n",
    "        if i == hd:\n",
    "            c_ = replace_tree(c, subpath, newnode)\n",
    "        else:\n",
    "            c_ = c\n",
    "        new_children.append(c_)\n",
    "    return (name, new_children)"
   ]
  },
  {
   "cell_type": "code",
   "execution_count": 87,
   "metadata": {},
   "outputs": [],
   "source": [
    "%top assert tree_to_str(find_node(expr_tree, [0,2,0,0])) == '((2 * 3 / 4))'"
   ]
  },
  {
   "cell_type": "code",
   "execution_count": 88,
   "metadata": {},
   "outputs": [],
   "source": [
    "%top assert tree_to_str(replace_tree(expr_tree, [0, 2, 0, 0], ('1', []))) == '1 + 1'"
   ]
  },
  {
   "cell_type": "markdown",
   "metadata": {},
   "source": [
    "#### Validate Tree\n",
    "\n",
    "Validating a parse tree"
   ]
  },
  {
   "cell_type": "code",
   "execution_count": 89,
   "metadata": {},
   "outputs": [],
   "source": [
    "def validate_tree(tree, grammar):\n",
    "    def keys(arr):\n",
    "        return [a[0] for a in arr]\n",
    "    name, children, *rest = tree\n",
    "    if not is_nt(name): return True\n",
    "    \n",
    "    seen = False\n",
    "    for rule in grammar[name]:\n",
    "        if keys(children) == rule:\n",
    "            seen = True\n",
    "    assert seen, name + ' needs ' + repr(grammar[name])\n",
    "    for c in children:\n",
    "        validate_tree(c, grammar)"
   ]
  },
  {
   "cell_type": "code",
   "execution_count": 90,
   "metadata": {},
   "outputs": [],
   "source": [
    "%top validate_tree(expr_tree, EXPR_GRAMMAR)"
   ]
  },
  {
   "cell_type": "code",
   "execution_count": 91,
   "metadata": {},
   "outputs": [
    {
     "name": "stdout",
     "output_type": "stream",
     "text": [
      "<term> needs [['<factor>', ' * ', '<term>'], ['<factor>', ' / ', '<term>'], ['<factor>']]\n"
     ]
    }
   ],
   "source": [
    "%%top\n",
    "try:\n",
    "    validate_tree(replace_tree(expr_tree, [0, 2, 0, 0], ('1', [])), EXPR_GRAMMAR)\n",
    "except AssertionError as e:\n",
    "    print(e)"
   ]
  },
  {
   "cell_type": "code",
   "execution_count": 92,
   "metadata": {},
   "outputs": [],
   "source": [
    "%%top\n",
    "rt = replace_tree(expr_tree, [0, 2, 0, 0], ('<factor>', [('<integer>', [('<digit>',[('1', [])])])]))\n",
    "validate_tree(rt, EXPR_GRAMMAR)"
   ]
  },
  {
   "cell_type": "code",
   "execution_count": 93,
   "metadata": {},
   "outputs": [],
   "source": [
    "%top assert tree_to_str(rt) == '1 + 1'"
   ]
  },
  {
   "cell_type": "markdown",
   "metadata": {},
   "source": [
    "#### Remove empty keys"
   ]
  },
  {
   "cell_type": "markdown",
   "metadata": {},
   "source": [
    "Remove keys that do not have a definition."
   ]
  },
  {
   "cell_type": "code",
   "execution_count": 94,
   "metadata": {},
   "outputs": [],
   "source": [
    "def find_empty_keys(g):\n",
    "    return [k for k in g if not g[k]]"
   ]
  },
  {
   "cell_type": "code",
   "execution_count": 95,
   "metadata": {},
   "outputs": [],
   "source": [
    "def remove_key(k, g):\n",
    "    new_g = {}\n",
    "    for k_ in g:\n",
    "        if k_ == k:\n",
    "            continue\n",
    "        else:\n",
    "            new_rules = []\n",
    "            for rule in g[k_]:\n",
    "                new_rule = []\n",
    "                for t in rule:\n",
    "                    if t == k:\n",
    "                        # skip this rule\n",
    "                        new_rule = None\n",
    "                        break\n",
    "                    else:\n",
    "                        new_rule.append(t)\n",
    "                if new_rule is not None:\n",
    "                    new_rules.append(new_rule)\n",
    "            new_g[k_] = new_rules\n",
    "    return new_g"
   ]
  },
  {
   "cell_type": "code",
   "execution_count": 96,
   "metadata": {},
   "outputs": [],
   "source": [
    "def remove_empty_keys(g):\n",
    "    new_g = copy_grammar(g)\n",
    "    removed_keys = []\n",
    "    empty_keys = find_empty_keys(new_g)\n",
    "    while empty_keys:\n",
    "        for k in empty_keys:\n",
    "            removed_keys.append(k)\n",
    "            new_g = remove_key(k, new_g)\n",
    "        empty_keys = find_empty_keys(new_g)\n",
    "    return new_g, removed_keys"
   ]
  },
  {
   "cell_type": "code",
   "execution_count": 97,
   "metadata": {},
   "outputs": [],
   "source": [
    "tmp_g_empty_ = {\n",
    "    '<start>': [['<v>']],\n",
    "    '<v>': [\n",
    "        ['<expr>'],\n",
    "        ['<digit>']\n",
    "    ],\n",
    "    '<expr>': [['<digit>'],\n",
    "              ['x', '<empty>']],\n",
    "    '<digit>': [['0']],\n",
    "    '<empty>': []\n",
    "}"
   ]
  },
  {
   "cell_type": "code",
   "execution_count": 98,
   "metadata": {},
   "outputs": [
    {
     "name": "stdout",
     "output_type": "stream",
     "text": [
      "<start> ::=\n",
      "|    <v>\n",
      "<v> ::=\n",
      "|    <expr>\n",
      "|    <digit>\n",
      "<expr> ::=\n",
      "|    <digit>\n",
      "<digit> ::=\n",
      "|    '0'\n",
      "4 5\n"
     ]
    },
    {
     "data": {
      "text/plain": [
       "['<empty>']"
      ]
     },
     "execution_count": 98,
     "metadata": {},
     "output_type": "execute_result"
    }
   ],
   "source": [
    "%%top\n",
    "tmp_g, removed_keys = remove_empty_keys(tmp_g_empty_)\n",
    "Gs(tmp_g)\n",
    "removed_keys"
   ]
  },
  {
   "cell_type": "markdown",
   "metadata": {},
   "source": [
    "#### Find all nonterminals"
   ]
  },
  {
   "cell_type": "code",
   "execution_count": 99,
   "metadata": {},
   "outputs": [],
   "source": [
    "def find_all_nonterminals(g):\n",
    "    lst = []\n",
    "    for k in g:\n",
    "        for r in g[k]:\n",
    "            for t in r:\n",
    "                if is_nt(t):\n",
    "                    lst.append(t)\n",
    "    return list(sorted(set(lst)))"
   ]
  },
  {
   "cell_type": "code",
   "execution_count": 100,
   "metadata": {},
   "outputs": [
    {
     "data": {
      "text/plain": [
       "['<digit>', '<expr>', '<v>']"
      ]
     },
     "execution_count": 100,
     "metadata": {},
     "output_type": "execute_result"
    }
   ],
   "source": [
    "%top find_all_nonterminals(tmp_g)"
   ]
  },
  {
   "cell_type": "markdown",
   "metadata": {},
   "source": [
    "#### Undefined keys"
   ]
  },
  {
   "cell_type": "code",
   "execution_count": 101,
   "metadata": {},
   "outputs": [],
   "source": [
    "def undefined_keys(grammar):\n",
    "    keys = find_all_nonterminals(grammar)\n",
    "    return [k for k in keys if k not in grammar]"
   ]
  },
  {
   "cell_type": "markdown",
   "metadata": {},
   "source": [
    "####  Remove unused keys"
   ]
  },
  {
   "cell_type": "markdown",
   "metadata": {},
   "source": [
    "Removes unused nonterminal keys"
   ]
  },
  {
   "cell_type": "code",
   "execution_count": 102,
   "metadata": {},
   "outputs": [],
   "source": [
    "def remove_unused_keys(grammar, start_symbol):\n",
    "    def strip_key(grammar, key, order):\n",
    "        rules = sort_rules(grammar[key])\n",
    "        old_len = len(order)\n",
    "        for rule in rules:\n",
    "            for token in rule:\n",
    "                if is_nt(token):\n",
    "                    if token not in order:\n",
    "                        order.append(token)\n",
    "        new = order[old_len:]\n",
    "        for ckey in new:\n",
    "            strip_key(grammar, ckey, order)\n",
    "    if start_symbol not in grammar:\n",
    "        return {}, []\n",
    "\n",
    "    order = [start_symbol]\n",
    "    strip_key(grammar, start_symbol, order)\n",
    "    if len(order) != len(grammar.keys()):\n",
    "        stripped = [k for k in grammar if k not in order]\n",
    "        #if stripped:\n",
    "        #    print(\"Stripping: %s\" % str(stripped))\n",
    "        faulty = [k for k in order if k not in grammar]\n",
    "        assert not faulty\n",
    "    new_g = {k: [list(r) for r in sort_rules(grammar[k])] for k in order}\n",
    "    return new_g, [k for k in grammar if k not in new_g]"
   ]
  },
  {
   "cell_type": "code",
   "execution_count": 103,
   "metadata": {},
   "outputs": [
    {
     "name": "stdout",
     "output_type": "stream",
     "text": [
      "7 25\n",
      "<start> ::=\n",
      "|    <expr>\n",
      "<expr> ::=\n",
      "|    <term>\n",
      "|    <term> ' + ' <expr>\n",
      "|    <term> ' - ' <expr>\n",
      "<term> ::=\n",
      "|    <factor>\n",
      "|    <factor> ' * ' <term>\n",
      "|    <factor> ' / ' <term>\n",
      "<factor> ::=\n",
      "|    '(' <expr> ')'\n",
      "|    '+' <factor>\n",
      "|    '-' <factor>\n",
      "|    <integer>\n",
      "|    <integer> '.' <integer>\n",
      "<integer> ::=\n",
      "|    <digit>\n",
      "|    <digit> <integer>\n",
      "<digit> ::=\n",
      "|    '0'\n",
      "|    '1'\n",
      "|    '2'\n",
      "|    '3'\n",
      "|    '4'\n",
      "|    '5'\n",
      "|    '6'\n",
      "|    '7'\n",
      "|    '8'\n",
      "|    '9'\n",
      "6 24\n"
     ]
    },
    {
     "data": {
      "text/plain": [
       "['<unused>']"
      ]
     },
     "execution_count": 103,
     "metadata": {},
     "output_type": "execute_result"
    }
   ],
   "source": [
    "%%top\n",
    "tmp_g_unused_ = copy_grammar(EXPR_GRAMMAR)\n",
    "tmp_g_unused_['<unused>'] = [['1']]\n",
    "Gs(tmp_g_unused_,-1)\n",
    "tmp_g, removed_keys = remove_unused_keys(tmp_g_unused_, EXPR_START)\n",
    "Gs(tmp_g)\n",
    "removed_keys"
   ]
  },
  {
   "cell_type": "markdown",
   "metadata": {},
   "source": [
    "#### Validate grammar"
   ]
  },
  {
   "cell_type": "code",
   "execution_count": 104,
   "metadata": {},
   "outputs": [],
   "source": [
    "def validate_grammar(grammar, start_symbol, log=False):\n",
    "    assert len(grammar[start_symbol]) == 1 # otherwise parser will not work\n",
    "    for r in grammar[start_symbol]:\n",
    "        assert len([t for t in r if is_nt(t)]) == 1 # otherwise disjunction will not work\n",
    "    def strip_key(grammar, key, order):\n",
    "        rules = sort_rules(grammar[key])\n",
    "        old_len = len(order)\n",
    "        for rule in rules:\n",
    "            for token in rule:\n",
    "                if is_nt(token):\n",
    "                    if token not in order:\n",
    "                        order.append(token)\n",
    "        new = order[old_len:]\n",
    "        for ckey in new:\n",
    "            strip_key(grammar, ckey, order)\n",
    "    if start_symbol not in grammar:\n",
    "        return {}, []\n",
    "\n",
    "    order = [start_symbol]\n",
    "    strip_key(grammar, start_symbol, order)\n",
    "    valid = True\n",
    "    if len(order) != len(grammar.keys()):\n",
    "        unused = [k for k in grammar if k not in order]\n",
    "        faulty = [k for k in order if k not in grammar]\n",
    "        if faulty or unused:\n",
    "            if log:\n",
    "                print('faulty:', faulty)\n",
    "                print('unused:', unused)\n",
    "            return False\n",
    "    for (k1,k2) in zip(sorted(order), sorted(grammar.keys())):\n",
    "        if k1 != k2:\n",
    "            valid = False\n",
    "            if log:\n",
    "                print('order:', k1, 'grammar:', k2)\n",
    "        else:\n",
    "            if log:\n",
    "                print(k1, k2)\n",
    "    for k in grammar:\n",
    "        if not grammar[k]:\n",
    "            return False\n",
    "    return valid"
   ]
  },
  {
   "cell_type": "code",
   "execution_count": 105,
   "metadata": {},
   "outputs": [
    {
     "name": "stdout",
     "output_type": "stream",
     "text": [
      "<digit> <digit>\n",
      "<expr> <expr>\n",
      "<factor> <factor>\n",
      "<integer> <integer>\n",
      "<start> <start>\n",
      "<term> <term>\n"
     ]
    }
   ],
   "source": [
    "%top assert validate_grammar(EXPR_GRAMMAR, EXPR_START, True)"
   ]
  },
  {
   "cell_type": "code",
   "execution_count": 106,
   "metadata": {},
   "outputs": [
    {
     "data": {
      "text/plain": [
       "{'<start>': [['<v>']],\n",
       " '<v>': [['<expr>'], ['<digit>']],\n",
       " '<expr>': [['<digit>'], ['x', '<empty>']],\n",
       " '<digit>': [['0']],\n",
       " '<empty>': []}"
      ]
     },
     "execution_count": 106,
     "metadata": {},
     "output_type": "execute_result"
    }
   ],
   "source": [
    "tmp_g_empty_"
   ]
  },
  {
   "cell_type": "code",
   "execution_count": 107,
   "metadata": {},
   "outputs": [
    {
     "name": "stdout",
     "output_type": "stream",
     "text": [
      "<digit> <digit>\n",
      "<empty> <empty>\n",
      "<expr> <expr>\n",
      "<start> <start>\n",
      "<v> <v>\n"
     ]
    }
   ],
   "source": [
    "%top assert not validate_grammar(tmp_g_empty_, '<start>', True)"
   ]
  },
  {
   "cell_type": "code",
   "execution_count": 108,
   "metadata": {},
   "outputs": [
    {
     "name": "stdout",
     "output_type": "stream",
     "text": [
      "faulty: []\n",
      "unused: ['<unused>']\n"
     ]
    }
   ],
   "source": [
    "%top assert not validate_grammar(tmp_g_unused_, '<start>', True)"
   ]
  },
  {
   "cell_type": "markdown",
   "metadata": {},
   "source": [
    "#### Finding reachable keys"
   ]
  },
  {
   "cell_type": "code",
   "execution_count": 109,
   "metadata": {},
   "outputs": [],
   "source": [
    "def find_reachable_keys(grammar, key, reachable_keys=None, found_so_far=None):\n",
    "    if reachable_keys is None: reachable_keys = {}\n",
    "    if found_so_far is None: found_so_far = set()\n",
    "\n",
    "    for rule in grammar[key]:\n",
    "        for token in rule:\n",
    "            if not is_nt(token): continue\n",
    "            if token in found_so_far: continue\n",
    "            found_so_far.add(token)\n",
    "            if token in reachable_keys:\n",
    "                for k in reachable_keys[token]:\n",
    "                    found_so_far.add(k)\n",
    "            else:\n",
    "                keys = find_reachable_keys(grammar, token, reachable_keys, found_so_far)\n",
    "                # reachable_keys[token] = keys <- found_so_far contains results from earlier\n",
    "    return found_so_far"
   ]
  },
  {
   "cell_type": "code",
   "execution_count": 110,
   "metadata": {
    "scrolled": true
   },
   "outputs": [
    {
     "name": "stdout",
     "output_type": "stream",
     "text": [
      "<start> {'<integer>', '<factor>', '<digit>', '<term>', '<expr>'}\n",
      "<expr> {'<integer>', '<factor>', '<digit>', '<term>', '<expr>'}\n",
      "<term> {'<integer>', '<factor>', '<digit>', '<term>', '<expr>'}\n",
      "<factor> {'<integer>', '<factor>', '<digit>', '<term>', '<expr>'}\n",
      "<integer> {'<integer>', '<digit>'}\n",
      "<digit> set()\n"
     ]
    }
   ],
   "source": [
    "%%top\n",
    "for key in EXPR_GRAMMAR:\n",
    "    keys = find_reachable_keys(EXPR_GRAMMAR, key, {})\n",
    "    print(key, keys)"
   ]
  },
  {
   "cell_type": "markdown",
   "metadata": {},
   "source": [
    "Finding recursive keys"
   ]
  },
  {
   "cell_type": "code",
   "execution_count": 111,
   "metadata": {},
   "outputs": [],
   "source": [
    "def reachable_dict(grammar):\n",
    "    reachable = {}\n",
    "    for key in grammar:\n",
    "        keys = find_reachable_keys(grammar, key, reachable)\n",
    "        reachable[key] = keys\n",
    "    return reachable"
   ]
  },
  {
   "cell_type": "code",
   "execution_count": 112,
   "metadata": {},
   "outputs": [
    {
     "data": {
      "text/plain": [
       "{'<start>': {'<digit>', '<expr>', '<factor>', '<integer>', '<term>'},\n",
       " '<expr>': {'<digit>', '<expr>', '<factor>', '<integer>', '<term>'},\n",
       " '<term>': {'<digit>', '<expr>', '<factor>', '<integer>', '<term>'},\n",
       " '<factor>': {'<digit>', '<expr>', '<factor>', '<integer>', '<term>'},\n",
       " '<integer>': {'<digit>', '<integer>'},\n",
       " '<digit>': set()}"
      ]
     },
     "execution_count": 112,
     "metadata": {},
     "output_type": "execute_result"
    }
   ],
   "source": [
    "%%top\n",
    "reachable_dict(EXPR_GRAMMAR)"
   ]
  },
  {
   "cell_type": "markdown",
   "metadata": {},
   "source": [
    "#### Simplify boolean expressions"
   ]
  },
  {
   "cell_type": "code",
   "execution_count": 113,
   "metadata": {},
   "outputs": [],
   "source": [
    "import sympy"
   ]
  },
  {
   "cell_type": "code",
   "execution_count": 114,
   "metadata": {},
   "outputs": [],
   "source": [
    "class OrB:\n",
    "    def __init__(self, a, b): \n",
    "        if b is None:\n",
    "            assert isinstance(a, list)\n",
    "            if a[1:]:\n",
    "                self.a, self.b = a[0], OrB(a[1:], None)\n",
    "            else:\n",
    "                self.a, self.b = a[0], None \n",
    "        else:       \n",
    "            self.a, self.b = a, b\n",
    "    def __str__(self):\n",
    "        if self.b is None: return str(self.a)\n",
    "        return 'or(%s,%s)' % (str(self.a), str(self.b))\n",
    "class AndB:\n",
    "    def __init__(self, a, b):\n",
    "        if b is None:\n",
    "            assert isinstance(a, list)\n",
    "            if a[1:]:\n",
    "                self.a, self.b = a[0], AndB(a[1:], None)\n",
    "            else:\n",
    "                self.a, self.b = a[0], None \n",
    "        else:\n",
    "            self.a, self.b = a, b\n",
    "    def __str__(self):\n",
    "        if self.b is None: return str(self.a)\n",
    "        return 'and(%s,%s)' % (str(self.a), str(self.b))\n",
    "class NegB:\n",
    "    def __init__(self, a): self.a = a\n",
    "    def __str__(self): return 'neg(%s)' % str(self.a)\n",
    "class B:\n",
    "    def __init__(self, a): self.a = a\n",
    "    def __str__(self): return str(self.a)"
   ]
  },
  {
   "cell_type": "code",
   "execution_count": null,
   "metadata": {},
   "outputs": [],
   "source": []
  },
  {
   "cell_type": "code",
   "execution_count": null,
   "metadata": {},
   "outputs": [],
   "source": []
  },
  {
   "cell_type": "code",
   "execution_count": null,
   "metadata": {},
   "outputs": [],
   "source": []
  },
  {
   "cell_type": "code",
   "execution_count": 115,
   "metadata": {},
   "outputs": [],
   "source": [
    "class BExpr:\n",
    "    def __init__(self, s):\n",
    "        self.s = s\n",
    "        self.tree = self._parse(s)\n",
    "\n",
    "    def _parse(self, k):\n",
    "        bexpr_parser = Parser(BEXPR_GRAMMAR, canonical=True, start_symbol=BEXPR_START)\n",
    "        bparse_tree = list(bexpr_parser.parse(k))[0]\n",
    "        bexpr = bparse_tree[1][0]\n",
    "        return bexpr\n",
    "\n",
    "    def simplify(self):\n",
    "        e0, defs = self._convert_to_sympy(self.tree)\n",
    "        e1 = sympy.to_dnf(e0)\n",
    "        e2 = self._convert_sympy_to_bexpr(e1)\n",
    "        v = str(e2)\n",
    "        my_keys = [k for k in defs]\n",
    "        for k in my_keys:\n",
    "            del defs[k]\n",
    "        return v\n",
    "\n",
    "    def _convert_to_sympy(self, bexpr, symargs=None):\n",
    "        def get_op(node):\n",
    "            assert node[0] == '<bop>'\n",
    "            return node[1][0][0]\n",
    "        if symargs is None:\n",
    "            symargs = {}\n",
    "        name, children = bexpr\n",
    "        assert name == '<bexpr>'\n",
    "        if len(children) == 1: # fault node\n",
    "            name = tree_to_str(children[0])\n",
    "            if not name: return None, symargs\n",
    "            if name not in symargs:\n",
    "                symargs[name] = sympy.symbols(name)\n",
    "            return symargs[name], symargs\n",
    "        else:\n",
    "            operator = get_op(children[0])\n",
    "            if operator == 'and':\n",
    "                a,_ = self._convert_to_sympy(children[2], symargs)\n",
    "                comma = children[3]\n",
    "                assert comma[0] == ',', comma[0]\n",
    "                b,_ = self._convert_to_sympy(children[4], symargs)\n",
    "                if a is None:\n",
    "                    assert b is not None\n",
    "                    return b, symargs\n",
    "                elif b is None:\n",
    "                    assert a is not None\n",
    "                    return a, symargs\n",
    "                return sympy.And(a, b), symargs\n",
    "            elif operator == 'or':\n",
    "                a,_ = self._convert_to_sympy(children[2], symargs)\n",
    "                comma = children[3]\n",
    "                assert comma[0] == ',', comma[0]\n",
    "                b,_ = self._convert_to_sympy(children[4], symargs)\n",
    "                if a is None:\n",
    "                    assert b is not None\n",
    "                    return b, symargs\n",
    "                elif b is None:\n",
    "                    assert a is not None\n",
    "                    return a, symargs\n",
    "                return sympy.Or(a, b), symargs\n",
    "            elif operator == 'neg':\n",
    "                a,_ = self._convert_to_sympy(children[2], symargs)\n",
    "                return sympy.Not(a), symargs\n",
    "            else:\n",
    "                assert False\n",
    "\n",
    "    def _convert_sympy_to_bexpr(self, sexpr, log=False):\n",
    "        if isinstance(sexpr, sympy.Symbol):\n",
    "            return B(str(sexpr))\n",
    "        elif isinstance(sexpr, sympy.Not):\n",
    "            return NegB(self._convert_sympy_to_bexpr(sexpr.args[0]))\n",
    "        elif isinstance(sexpr, sympy.And):\n",
    "            a = sexpr.args[0]\n",
    "            b = sexpr.args[1]\n",
    "            if isinstance(a, sympy.Not):\n",
    "                if str(a.args[0]) == str(b): return ''\n",
    "            elif isinstance(b, sympy.Not):\n",
    "                if str(b.args[0]) == str(a): return ''\n",
    "            sym_vars = sorted([self._convert_sympy_to_bexpr(a) for a in sexpr.args], key=str)\n",
    "            assert sym_vars\n",
    "            if '' in sym_vars: return ''\n",
    "            return AndB(sym_vars, None)\n",
    "        elif isinstance(sexpr, sympy.Or):\n",
    "            a = sexpr.args[0]\n",
    "            b = sexpr.args[1]\n",
    "            if isinstance(a, sympy.Not):\n",
    "                if str(a.args[0]) == str(b): return self._convert_sympy_to_bexpr(b)\n",
    "            elif isinstance(b, sympy.Not):\n",
    "                if str(b.args[0]) == str(a): return self._convert_sympy_to_bexpr(a)\n",
    "\n",
    "            sym_vars = sorted([self._convert_sympy_to_bexpr(a) for a in sexpr.args], key=str)\n",
    "            assert sym_vars\n",
    "            if '' in sym_vars: sym_vars = [s for s in sym_vars if s != '']\n",
    "            return OrB(sym_vars, None)\n",
    "        else:\n",
    "            if log: print(repr(sexpr))\n",
    "            assert False"
   ]
  },
  {
   "cell_type": "code",
   "execution_count": 116,
   "metadata": {},
   "outputs": [],
   "source": [
    "%%top\n",
    "bexpr_input = 'and(and(and(and(and(neg(+F2),neg(L2_2)),neg(+F2)),and(neg(+F2),neg(L2_2))),and(and(neg(+F2),neg(L2_2)),neg(+F2))),and(and(and(neg(+F2),neg(L2_2)),neg(+F2)),and(neg(+F2),neg(L2_2))))'\n",
    "simplified_bexpr_input = BExpr(bexpr_input).simplify()"
   ]
  },
  {
   "cell_type": "code",
   "execution_count": 117,
   "metadata": {},
   "outputs": [
    {
     "data": {
      "text/plain": [
       "'and(neg(+F2),neg(L2_2))'"
      ]
     },
     "execution_count": 117,
     "metadata": {},
     "output_type": "execute_result"
    }
   ],
   "source": [
    "%top simplified_bexpr_input"
   ]
  },
  {
   "cell_type": "code",
   "execution_count": null,
   "metadata": {},
   "outputs": [],
   "source": []
  },
  {
   "cell_type": "code",
   "execution_count": 118,
   "metadata": {},
   "outputs": [],
   "source": [
    "def show_simplified_grammar(grammar, no_dups=True, verbose=0):\n",
    "    def sb(key):\n",
    "        if is_base_key(key):\n",
    "            return key\n",
    "        return '<%s %s>' %(stem(key), BExpr(refinement(key)).simplify())\n",
    "    r = 0\n",
    "    k = 0\n",
    "    seen = {}\n",
    "    for key in grammar:\n",
    "        k += 1\n",
    "        sk = sb(key)\n",
    "        if sk in seen:\n",
    "            continue\n",
    "        else:\n",
    "            seen[sk] = True\n",
    "        if verbose > -1: print(sk,'::=')\n",
    "        for rule in grammar[key]:\n",
    "            r += 1\n",
    "            if verbose > 1:\n",
    "                pre = r\n",
    "            else:\n",
    "                pre = ''\n",
    "            if verbose > -1:\n",
    "                print('%s|   ' % pre, ' '.join([sb(t) if is_nt(t) else repr(t) for t in rule]))\n",
    "        if verbose > 0:\n",
    "            print(k, r)\n",
    "    print(k, r)"
   ]
  },
  {
   "cell_type": "code",
   "execution_count": 119,
   "metadata": {},
   "outputs": [],
   "source": [
    "Gs_s = show_simplified_grammar"
   ]
  },
  {
   "cell_type": "markdown",
   "metadata": {},
   "source": [
    "#### Remove shadowed refined rules"
   ]
  },
  {
   "cell_type": "markdown",
   "metadata": {},
   "source": [
    "##### is_A_more_refined_than_B\n",
    "\n",
    "Compare the positions of `ruleA` and `ruleB` in `porder` of base `grammar`.\n",
    "In the porder, we assume the most general ones will come first."
   ]
  },
  {
   "cell_type": "code",
   "execution_count": 120,
   "metadata": {},
   "outputs": [],
   "source": [
    "def is_A_more_refined_than_B(ruleA, ruleB, porder):\n",
    "    if len(ruleA) != len(ruleB): return False\n",
    "    for a_, b_ in zip(ruleA, ruleB):\n",
    "        if not is_nt(a_) or not is_nt(b_):\n",
    "            if a_ != b_: return False\n",
    "            continue\n",
    "        a = normalize(a_) \n",
    "        b = normalize(b_)\n",
    "        if a != b: return False\n",
    "        if a not in porder or b not in porder: return None\n",
    "        pkA = path_to_key(porder[a], a_)\n",
    "        pkB = path_to_key(porder[b], b_)\n",
    "        if pkA is None or pkB is None: return None # we dont know.\n",
    "        pA = ' '.join([str(s) for s in pkA])\n",
    "        pB = ' '.join([str(s) for s in pkB])\n",
    "        # more general should be included in the more specific\n",
    "        if pB not in pA: return False\n",
    "    return True"
   ]
  },
  {
   "cell_type": "code",
   "execution_count": 121,
   "metadata": {},
   "outputs": [],
   "source": [
    "%%top\n",
    "my_porder = {'<a>' : ('<a>',[('<a 1>', [('<a 2>',[('<a 3>',[])])])]),\n",
    "             '<b>':  ('<b>',[('<b 1>', [('<b 2>',[('<b 3>',[])])])]),\n",
    "             '<c>':  ('<c>',[('<c 1>', [('<c 2>',[('<c 3>',[])])])])}"
   ]
  },
  {
   "cell_type": "code",
   "execution_count": 122,
   "metadata": {},
   "outputs": [],
   "source": [
    "%top assert not is_A_more_refined_than_B(['<a 1>', '<b 1>', '<c 1>'], ['<a 2>', '<b 2>', '<c 2>'], my_porder)"
   ]
  },
  {
   "cell_type": "code",
   "execution_count": 123,
   "metadata": {},
   "outputs": [],
   "source": [
    "%top assert is_A_more_refined_than_B(['<a 3>', '<b 3>', '<c 3>'], ['<a 2>', '<b 2>', '<c 2>'], my_porder)"
   ]
  },
  {
   "cell_type": "code",
   "execution_count": 124,
   "metadata": {},
   "outputs": [],
   "source": [
    "%top assert is_A_more_refined_than_B(['<a 2>', '<b 2>', '<c 3>'], ['<a 2>', '<b 2>', '<c 2>'], my_porder)"
   ]
  },
  {
   "cell_type": "code",
   "execution_count": 125,
   "metadata": {},
   "outputs": [],
   "source": [
    "%top assert not is_A_more_refined_than_B(['<a 3>', '<b 3>', '<c 1>'], ['<a 2>', '<b 2>', '<c 2>'], my_porder)"
   ]
  },
  {
   "cell_type": "markdown",
   "metadata": {},
   "source": [
    "##### Get general rule"
   ]
  },
  {
   "cell_type": "code",
   "execution_count": 126,
   "metadata": {},
   "outputs": [],
   "source": [
    "def get_general_rule(ruleA, rules, porder):\n",
    "    unknown = 0\n",
    "    for r in rules:\n",
    "        v = is_A_more_refined_than_B(ruleA, r, porder)\n",
    "        if v is None:\n",
    "            # we dont know about this.\n",
    "            unknown += 1\n",
    "            continue\n",
    "        elif v:\n",
    "            return r, unknown\n",
    "    return None, unknown"
   ]
  },
  {
   "cell_type": "code",
   "execution_count": 127,
   "metadata": {},
   "outputs": [
    {
     "data": {
      "text/plain": [
       "(['<a 1>', '<b 1>', '<c 1>'], 0)"
      ]
     },
     "execution_count": 127,
     "metadata": {},
     "output_type": "execute_result"
    }
   ],
   "source": [
    "%%top\n",
    "get_general_rule(['<a 1>', '<b 1>', '<c 1>'], [\n",
    "    ['<a 1>', '<b 1>', '<c 1>'],\n",
    "    ['<a 2>', '<b 2>', '<c 2>'],\n",
    "    ['<a 3>', '<b 3>', '<c 3>'],\n",
    "], my_porder)"
   ]
  },
  {
   "cell_type": "code",
   "execution_count": 128,
   "metadata": {},
   "outputs": [
    {
     "data": {
      "text/plain": [
       "(['<a 1>', '<b 1>', '<c 1>'], 0)"
      ]
     },
     "execution_count": 128,
     "metadata": {},
     "output_type": "execute_result"
    }
   ],
   "source": [
    "%%top\n",
    "get_general_rule(['<a 1>', '<b 1>', '<c 3>'], [\n",
    "    ['<a 1>', '<b 1>', '<c 1>'],\n",
    "    ['<a 2>', '<b 2>'],\n",
    "    ['<a 3>'],\n",
    "], my_porder)"
   ]
  },
  {
   "cell_type": "code",
   "execution_count": 129,
   "metadata": {},
   "outputs": [
    {
     "data": {
      "text/plain": [
       "(None, 0)"
      ]
     },
     "execution_count": 129,
     "metadata": {},
     "output_type": "execute_result"
    }
   ],
   "source": [
    "%%top\n",
    "get_general_rule(['<a 1>', '<b 2>'], [\n",
    "    ['<a 1>', '<b 1>', '<c 1>'],\n",
    "    ['<a 2>', '<b 2>'],\n",
    "    ['<a 3>'],\n",
    "], my_porder)"
   ]
  },
  {
   "cell_type": "markdown",
   "metadata": {},
   "source": [
    "##### Is keyA more refined than keyB"
   ]
  },
  {
   "cell_type": "code",
   "execution_count": 130,
   "metadata": {},
   "outputs": [],
   "source": [
    "def is_keyA_more_refined_than_keyB(keyA, keyB, porder, grammar):\n",
    "    # essential idea of comparing two keys is this:\n",
    "    # One key is smaller than the other if for any given rule in the first, there exist another rule that is larger\n",
    "    # than that in the second key.\n",
    "    # a rule is smaller than another if all tokens in that rule is either equal (matching) or smaller than\n",
    "    # the corresponding token in the other.\n",
    "    \n",
    "    # if normalize(keyB) == keyB: return True # normalized key is always the top (and may not exist in grammar)\n",
    "    \n",
    "    A_rules = grammar[keyA]\n",
    "    B_rules = grammar[keyB]\n",
    "   \n",
    "    for A_rule in A_rules:\n",
    "        v,unk = get_general_rule(A_rule, B_rules, porder)\n",
    "        if v is None:\n",
    "            if unk:\n",
    "                return None # dont know\n",
    "            return False\n",
    "        # There is a more general rule than A_rule in B_rules\n",
    "    return True"
   ]
  },
  {
   "cell_type": "markdown",
   "metadata": {},
   "source": [
    "##### Insert into partial order"
   ]
  },
  {
   "cell_type": "code",
   "execution_count": 131,
   "metadata": {},
   "outputs": [],
   "source": [
    "def insert_into_porder(my_key, porder, grammar):\n",
    "    def update_tree(my_key, tree, grammar):\n",
    "        if tree is None: return True, (my_key, [])\n",
    "        k, children = tree\n",
    "        if is_base_key(my_key):\n",
    "            if not is_base_key(k):\n",
    "                return True, (my_key, [tree])\n",
    "            else:\n",
    "                return False, tree\n",
    " \n",
    "        v = is_keyA_more_refined_than_keyB(my_key, k, porder, grammar)\n",
    "        if is_base_key(k): v = True\n",
    "        # if v is unknown...\n",
    "        if v: # we should go into the children\n",
    "            if not children:\n",
    "                #print('>', 0)\n",
    "                return True, (k, [(my_key, [])])\n",
    "            new_children = []\n",
    "            updated = False\n",
    "            for c in children:\n",
    "                u, c_ = update_tree(my_key, c, grammar)\n",
    "                if u: updated = True\n",
    "                new_children.append(c_)\n",
    "            #print('>', 1)\n",
    "            return updated, (k, new_children)\n",
    "        else:\n",
    "            #v = is_keyA_more_refined_than_keyB(k, my_key, porder, grammar)\n",
    "            if v:\n",
    "                #this should be the parent of tree\n",
    "                #print('>', 2)\n",
    "                return True, (my_key, [tree])\n",
    "            else:\n",
    "                # add as a sibling -- but only if we have evidence.\n",
    "                if v is not None:\n",
    "                    #print('>', 3)\n",
    "                    return True, (k, children + [(my_key, [])])\n",
    "                else:\n",
    "                    return False, tree\n",
    "    key = normalize(my_key)\n",
    "    updated, v = update_tree(my_key, porder.get(key, None), grammar)\n",
    "    if updated:\n",
    "        porder[key] = v\n",
    "    return updated"
   ]
  },
  {
   "cell_type": "markdown",
   "metadata": {},
   "source": [
    "##### Is key in partial order"
   ]
  },
  {
   "cell_type": "code",
   "execution_count": 132,
   "metadata": {},
   "outputs": [],
   "source": [
    "def is_key_in_porder(key, tree):\n",
    "    if tree is None: return False\n",
    "    name, children = tree\n",
    "    if name == key:\n",
    "        return True\n",
    "    for c in children:\n",
    "        if is_key_in_porder(key, c):\n",
    "            return True\n",
    "    return False"
   ]
  },
  {
   "cell_type": "markdown",
   "metadata": {},
   "source": [
    "##### Identify partial orders of nonterminals from a grammar"
   ]
  },
  {
   "cell_type": "markdown",
   "metadata": {},
   "source": [
    "In theory, identifying partial orders is simple once you have the machinary for `and` and `neg`. To find if a given nonterminal `A` is more refined than `B`, do `A - B` and `B - A` and check which of these are empty. Since we do not have the machinery yet, doing it here without that."
   ]
  },
  {
   "cell_type": "code",
   "execution_count": 133,
   "metadata": {},
   "outputs": [],
   "source": [
    "def identify_partial_orders(grammar):\n",
    "    porder = {}\n",
    "    cont = True\n",
    "    while cont:\n",
    "        cont = False\n",
    "        for k in grammar:\n",
    "            nkey = normalize(k)\n",
    "            if is_key_in_porder(k, porder.get(nkey, None)):\n",
    "                continue\n",
    "            updated = insert_into_porder(k, porder, grammar)\n",
    "            if not updated:\n",
    "                continue\n",
    "            cont = True\n",
    "    #for k in grammar:\n",
    "    #    assert k in porder\n",
    "    return porder"
   ]
  },
  {
   "cell_type": "code",
   "execution_count": 134,
   "metadata": {
    "scrolled": true
   },
   "outputs": [
    {
     "data": {
      "text/plain": [
       "{'<start>': ('<start>', []),\n",
       " '<expr>': ('<expr>', []),\n",
       " '<term>': ('<term>', []),\n",
       " '<factor>': ('<factor>', []),\n",
       " '<integer>': ('<integer>', []),\n",
       " '<digit>': ('<digit>', [])}"
      ]
     },
     "execution_count": 134,
     "metadata": {},
     "output_type": "execute_result"
    }
   ],
   "source": [
    "%%top\n",
    "po = identify_partial_orders(EXPR_GRAMMAR); po"
   ]
  },
  {
   "cell_type": "code",
   "execution_count": 135,
   "metadata": {},
   "outputs": [],
   "source": [
    "def rule_is_redundant(rule, rules, porder):\n",
    "    # a rule is redundant if there is another in the rules that is more general.\n",
    "    grule, unknown = get_general_rule(rule, [r for r in rules if r != rule], porder)\n",
    "    if grule:\n",
    "        return True\n",
    "    return False"
   ]
  },
  {
   "cell_type": "code",
   "execution_count": 136,
   "metadata": {},
   "outputs": [],
   "source": [
    "def remove_redundant_rules(grammar, porder=None):\n",
    "    if porder is None:\n",
    "        porder = identify_partial_orders(grammar)\n",
    "    else:\n",
    "        if porder == {}:\n",
    "            _porder = identify_partial_orders(grammar)\n",
    "            porder.update(_porder)\n",
    "        else:\n",
    "            pass\n",
    "        \n",
    "    new_g = {}\n",
    "    removed_rules = 0\n",
    "    for key in grammar:\n",
    "        ruleset = list({tuple(r) for r in grammar[key]})\n",
    "        cont = True\n",
    "        while cont:\n",
    "            cont = False\n",
    "            for rule in ruleset:\n",
    "                if rule_is_redundant(rule, ruleset, porder):\n",
    "                    ruleset = [r for r in ruleset if r != rule]\n",
    "                    removed_rules += 1\n",
    "                    cont = True\n",
    "                else:\n",
    "                    continue\n",
    "            new_g[key] = ruleset\n",
    "    return new_g, removed_rules"
   ]
  },
  {
   "cell_type": "code",
   "execution_count": 137,
   "metadata": {
    "scrolled": false
   },
   "outputs": [
    {
     "name": "stdout",
     "output_type": "stream",
     "text": [
      "<start> ::=\n",
      "|    <expr>\n",
      "<expr> ::=\n",
      "|    <term> ' + ' <expr>\n",
      "|    <term>\n",
      "|    <term> ' - ' <expr>\n",
      "<term> ::=\n",
      "|    <factor> ' * ' <term>\n",
      "|    <factor> ' / ' <term>\n",
      "|    <factor>\n",
      "<factor> ::=\n",
      "|    '-' <factor>\n",
      "|    '(' <expr> ')'\n",
      "|    <integer>\n",
      "|    '+' <factor>\n",
      "|    <integer> '.' <integer>\n",
      "<integer> ::=\n",
      "|    <digit> <integer>\n",
      "|    <digit>\n",
      "<digit> ::=\n",
      "|    '6'\n",
      "|    '5'\n",
      "|    '3'\n",
      "|    '7'\n",
      "|    '9'\n",
      "|    '1'\n",
      "|    '4'\n",
      "|    '2'\n",
      "|    '0'\n",
      "|    '8'\n",
      "6 24\n"
     ]
    }
   ],
   "source": [
    "%%top\n",
    "g, n = remove_redundant_rules(EXPR_GRAMMAR);\n",
    "Gs(g)"
   ]
  },
  {
   "cell_type": "markdown",
   "metadata": {},
   "source": [
    "#### Grammar GC"
   ]
  },
  {
   "cell_type": "markdown",
   "metadata": {},
   "source": [
    "We will redefine this later when the negation comes in."
   ]
  },
  {
   "cell_type": "code",
   "execution_count": 138,
   "metadata": {},
   "outputs": [],
   "source": [
    "def grammar_gc(grammar, start_symbol, options=(1,2), log=False):\n",
    "    g = grammar\n",
    "    while True:\n",
    "        if 1 in options:\n",
    "            g0, empty_keys = remove_empty_keys(g)\n",
    "        else:\n",
    "            g0, empty_keys = g, []\n",
    "        for k in g0:\n",
    "            for rule in g0[k]:\n",
    "                for t in rule: assert type(t) is str\n",
    "\n",
    "        if 2 in options:\n",
    "            g1, unused_keys = remove_unused_keys(g0, start_symbol)\n",
    "        else:\n",
    "            g1, unused_keys = g0, []\n",
    "        for k in g1:\n",
    "            for rule in g1[k]:\n",
    "                for t in rule: assert type(t) is str\n",
    "        g = g1\n",
    "        if log:\n",
    "            print('GC: ', unused_keys, empty_keys)\n",
    "        if not (len(unused_keys) + len(empty_keys)):\n",
    "            break\n",
    " \n",
    "    # removing redundant rules is slightly dangerous. It can remove things\n",
    "    # like finite limit of a recursion because the limit is more refined than\n",
    "    # other rules.\n",
    "    # E.g\n",
    "    #  <E f> = <E f>\n",
    "    #        | <E l>\n",
    "    #  <E l> = 1\n",
    "    # Here, <E f> is more general than <E l> precisely because <E l> exists\n",
    "    # but our partial orders are not intelligent enough (todo: check)\n",
    "    if 3 in options:\n",
    "        g2, redundant_rules = remove_redundant_rules(g)\n",
    "    else:\n",
    "        g2, redundant_rules = g, 0\n",
    "        \n",
    "    #if 4 in options:\n",
    "    #  We need to incorporate simplify booleans\n",
    "    #else:\n",
    "    return g2, start_symbol"
   ]
  },
  {
   "cell_type": "markdown",
   "metadata": {},
   "source": [
    "## Inserting a fault"
   ]
  },
  {
   "cell_type": "markdown",
   "metadata": {},
   "source": [
    "The output that we get from `ddset` has nodes marked. So, we define a way to mark nodes as abstract."
   ]
  },
  {
   "cell_type": "markdown",
   "metadata": {},
   "source": [
    "### Mark the abstract nodes\n",
    "\n",
    "Given a path, we mark the node as abstract."
   ]
  },
  {
   "cell_type": "code",
   "execution_count": 139,
   "metadata": {},
   "outputs": [],
   "source": [
    "def mark_path_abstract(tree, path):\n",
    "    name, children = find_node(tree, path)\n",
    "    new_tree = replace_tree(tree, path, (name, children, {'abstract': True}))\n",
    "    return new_tree"
   ]
  },
  {
   "cell_type": "markdown",
   "metadata": {},
   "source": [
    "First, we locate a suitable node."
   ]
  },
  {
   "cell_type": "code",
   "execution_count": 140,
   "metadata": {},
   "outputs": [],
   "source": [
    "%%top\n",
    "abs_path_1 = [0,2,0,0,1,0,0,1]\n",
    "assert tree_to_str(find_node(expr_tree, abs_path_1)) == '2 * 3 / 4'"
   ]
  },
  {
   "cell_type": "code",
   "execution_count": 141,
   "metadata": {
    "scrolled": false
   },
   "outputs": [
    {
     "data": {
      "text/plain": [
       "('<start>',\n",
       " [('<expr>',\n",
       "   [('<term>', [('<factor>', [('<integer>', [('<digit>', [('1', [])])])])]),\n",
       "    (' + ', []),\n",
       "    ('<expr>',\n",
       "     [('<term>',\n",
       "       [('<factor>',\n",
       "         [('(', []),\n",
       "          ('<expr>',\n",
       "           [('<term>',\n",
       "             [('<factor>',\n",
       "               [('(', []),\n",
       "                ('<expr>',\n",
       "                 [('<term>',\n",
       "                   [('<factor>', [('<integer>', [('<digit>', [('2', [])])])]),\n",
       "                    (' * ', []),\n",
       "                    ('<term>',\n",
       "                     [('<factor>',\n",
       "                       [('<integer>', [('<digit>', [('3', [])])])]),\n",
       "                      (' / ', []),\n",
       "                      ('<term>',\n",
       "                       [('<factor>',\n",
       "                         [('<integer>', [('<digit>', [('4', [])])])])])])])],\n",
       "                 {'abstract': True}),\n",
       "                (')', [])])])]),\n",
       "          (')', [])])])])])])"
      ]
     },
     "execution_count": 141,
     "metadata": {},
     "output_type": "execute_result"
    }
   ],
   "source": [
    "%%top\n",
    "v = mark_path_abstract(expr_tree, abs_path_1); v"
   ]
  },
  {
   "cell_type": "markdown",
   "metadata": {},
   "source": [
    "Given a tree with some nodes marked abstract, go through the tree, and mark everything else as concrete. Default is to mark a node as concrete."
   ]
  },
  {
   "cell_type": "code",
   "execution_count": 142,
   "metadata": {},
   "outputs": [],
   "source": [
    "def mark_concrete_r(tree):\n",
    "    name, children, *abstract_a = tree\n",
    "    abstract = {'abstract': False} if not abstract_a else abstract_a[0]\n",
    "    return (name, [mark_concrete_r(c) for c in children], abstract)"
   ]
  },
  {
   "cell_type": "code",
   "execution_count": 143,
   "metadata": {},
   "outputs": [
    {
     "data": {
      "text/plain": [
       "('<start>',\n",
       " [('<expr>',\n",
       "   [('<term>',\n",
       "     [('<factor>',\n",
       "       [('<integer>',\n",
       "         [('<digit>', [('1', [], {'abstract': False})], {'abstract': False})],\n",
       "         {'abstract': False})],\n",
       "       {'abstract': False})],\n",
       "     {'abstract': False}),\n",
       "    (' + ', [], {'abstract': False}),\n",
       "    ('<expr>',\n",
       "     [('<term>',\n",
       "       [('<factor>',\n",
       "         [('(', [], {'abstract': False}),\n",
       "          ('<expr>',\n",
       "           [('<term>',\n",
       "             [('<factor>',\n",
       "               [('(', [], {'abstract': False}),\n",
       "                ('<expr>',\n",
       "                 [('<term>',\n",
       "                   [('<factor>',\n",
       "                     [('<integer>',\n",
       "                       [('<digit>',\n",
       "                         [('2', [], {'abstract': False})],\n",
       "                         {'abstract': False})],\n",
       "                       {'abstract': False})],\n",
       "                     {'abstract': False}),\n",
       "                    (' * ', [], {'abstract': False}),\n",
       "                    ('<term>',\n",
       "                     [('<factor>',\n",
       "                       [('<integer>',\n",
       "                         [('<digit>',\n",
       "                           [('3', [], {'abstract': False})],\n",
       "                           {'abstract': False})],\n",
       "                         {'abstract': False})],\n",
       "                       {'abstract': False}),\n",
       "                      (' / ', [], {'abstract': False}),\n",
       "                      ('<term>',\n",
       "                       [('<factor>',\n",
       "                         [('<integer>',\n",
       "                           [('<digit>',\n",
       "                             [('4', [], {'abstract': False})],\n",
       "                             {'abstract': False})],\n",
       "                           {'abstract': False})],\n",
       "                         {'abstract': False})],\n",
       "                       {'abstract': False})],\n",
       "                     {'abstract': False})],\n",
       "                   {'abstract': False})],\n",
       "                 {'abstract': True}),\n",
       "                (')', [], {'abstract': False})],\n",
       "               {'abstract': False})],\n",
       "             {'abstract': False})],\n",
       "           {'abstract': False}),\n",
       "          (')', [], {'abstract': False})],\n",
       "         {'abstract': False})],\n",
       "       {'abstract': False})],\n",
       "     {'abstract': False})],\n",
       "   {'abstract': False})],\n",
       " {'abstract': False})"
      ]
     },
     "execution_count": 143,
     "metadata": {},
     "output_type": "execute_result"
    }
   ],
   "source": [
    "%%top\n",
    "t = mark_concrete_r(v); t"
   ]
  },
  {
   "cell_type": "markdown",
   "metadata": {},
   "source": [
    "A way to display the abstracted tree"
   ]
  },
  {
   "cell_type": "code",
   "execution_count": 144,
   "metadata": {},
   "outputs": [],
   "source": [
    "def till_abstract(node):\n",
    "    name, children, *rest = node\n",
    "    if rest[-1]['abstract']:\n",
    "        return (name + '*', [])\n",
    "    return (name, [till_abstract(c) for c in children], *rest)"
   ]
  },
  {
   "cell_type": "code",
   "execution_count": 145,
   "metadata": {},
   "outputs": [
    {
     "data": {
      "image/png": "[encoded data removed]",
      "text/plain": [
       "<IPython.core.display.Image object>"
      ]
     },
     "execution_count": 145,
     "metadata": {},
     "output_type": "execute_result"
    }
   ],
   "source": [
    "%%top\n",
    "zoom(display_tree(till_abstract(t)))"
   ]
  },
  {
   "cell_type": "code",
   "execution_count": 146,
   "metadata": {},
   "outputs": [],
   "source": [
    "def Da(t):\n",
    "    return zoom(display_tree(till_abstract(t)))"
   ]
  },
  {
   "cell_type": "code",
   "execution_count": 147,
   "metadata": {},
   "outputs": [
    {
     "data": {
      "text/plain": [
       "('((2 * 3 / 4))', '<expr>')"
      ]
     },
     "execution_count": 147,
     "metadata": {},
     "output_type": "execute_result"
    }
   ],
   "source": [
    "#%%top\n",
    "abs_t1_ = find_node(expr_tree, [0, 2])\n",
    "tree_to_str(abs_t1_), abs_t1_[0]"
   ]
  },
  {
   "cell_type": "code",
   "execution_count": 148,
   "metadata": {},
   "outputs": [],
   "source": [
    "#%%top\n",
    "abs_t1 = ('<start>', [abs_t1_])"
   ]
  },
  {
   "cell_type": "code",
   "execution_count": 149,
   "metadata": {},
   "outputs": [],
   "source": [
    "%top validate_tree(abs_t1, EXPR_GRAMMAR)"
   ]
  },
  {
   "cell_type": "code",
   "execution_count": 150,
   "metadata": {},
   "outputs": [
    {
     "data": {
      "text/plain": [
       "'2 * 3 / 4'"
      ]
     },
     "execution_count": 150,
     "metadata": {},
     "output_type": "execute_result"
    }
   ],
   "source": [
    "#%%top\n",
    "t_abs_p1 = [0, 0, 0, 1, 0, 0, 1]\n",
    "Ts(find_node(abs_t1, t_abs_p1))"
   ]
  },
  {
   "cell_type": "markdown",
   "metadata": {},
   "source": [
    "We now define a function to check if a given node is abstract or not."
   ]
  },
  {
   "cell_type": "code",
   "execution_count": 151,
   "metadata": {},
   "outputs": [],
   "source": [
    "def is_node_abstract(node):\n",
    "    name, children, *abstract_a = node\n",
    "    if not abstract_a:\n",
    "        return True\n",
    "    else:\n",
    "        return abstract_a[0]['abstract']"
   ]
  },
  {
   "cell_type": "code",
   "execution_count": 152,
   "metadata": {},
   "outputs": [],
   "source": [
    "def tree_to_str_a(tree):\n",
    "    name, children, *general_ = tree\n",
    "    if not is_nt(name): return name\n",
    "    if is_node_abstract(tree):\n",
    "        return name\n",
    "    return ''.join([tree_to_str_a(c) for c in children])"
   ]
  },
  {
   "cell_type": "code",
   "execution_count": 153,
   "metadata": {},
   "outputs": [],
   "source": [
    "Ta = tree_to_str_a"
   ]
  },
  {
   "cell_type": "code",
   "execution_count": 154,
   "metadata": {},
   "outputs": [
    {
     "data": {
      "text/plain": [
       "'1 + ((<expr>))'"
      ]
     },
     "execution_count": 154,
     "metadata": {},
     "output_type": "execute_result"
    }
   ],
   "source": [
    "%top tree_to_str_a(t)"
   ]
  },
  {
   "cell_type": "code",
   "execution_count": 155,
   "metadata": {},
   "outputs": [
    {
     "data": {
      "text/plain": [
       "('<start>',\n",
       " [('<expr>',\n",
       "   [('<term>',\n",
       "     [('<factor>',\n",
       "       [('(', [], {'abstract': False}),\n",
       "        ('<expr>',\n",
       "         [('<term>',\n",
       "           [('<factor>',\n",
       "             [('(', [], {'abstract': False}),\n",
       "              ('<expr>',\n",
       "               [('<term>',\n",
       "                 [('<factor>',\n",
       "                   [('<integer>',\n",
       "                     [('<digit>',\n",
       "                       [('2', [], {'abstract': False})],\n",
       "                       {'abstract': False})],\n",
       "                     {'abstract': False})],\n",
       "                   {'abstract': False}),\n",
       "                  (' * ', [], {'abstract': False}),\n",
       "                  ('<term>',\n",
       "                   [('<factor>',\n",
       "                     [('<integer>',\n",
       "                       [('<digit>',\n",
       "                         [('3', [], {'abstract': False})],\n",
       "                         {'abstract': False})],\n",
       "                       {'abstract': False})],\n",
       "                     {'abstract': False}),\n",
       "                    (' / ', [], {'abstract': False}),\n",
       "                    ('<term>',\n",
       "                     [('<factor>',\n",
       "                       [('<integer>',\n",
       "                         [('<digit>',\n",
       "                           [('4', [], {'abstract': False})],\n",
       "                           {'abstract': False})],\n",
       "                         {'abstract': False})],\n",
       "                       {'abstract': False})],\n",
       "                     {'abstract': False})],\n",
       "                   {'abstract': False})],\n",
       "                 {'abstract': False})],\n",
       "               {'abstract': True}),\n",
       "              (')', [], {'abstract': False})],\n",
       "             {'abstract': False})],\n",
       "           {'abstract': False})],\n",
       "         {'abstract': False}),\n",
       "        (')', [], {'abstract': False})],\n",
       "       {'abstract': False})],\n",
       "     {'abstract': False})],\n",
       "   {'abstract': False})],\n",
       " {'abstract': False})"
      ]
     },
     "execution_count": 155,
     "metadata": {},
     "output_type": "execute_result"
    }
   ],
   "source": [
    "#%%top\n",
    "abs_tree1 = mark_concrete_r(mark_path_abstract(abs_t1, t_abs_p1)); abs_tree1"
   ]
  },
  {
   "cell_type": "code",
   "execution_count": 156,
   "metadata": {},
   "outputs": [
    {
     "data": {
      "text/plain": [
       "'((<expr>))'"
      ]
     },
     "execution_count": 156,
     "metadata": {},
     "output_type": "execute_result"
    }
   ],
   "source": [
    "%top Ta(abs_tree1)"
   ]
  },
  {
   "cell_type": "code",
   "execution_count": 157,
   "metadata": {},
   "outputs": [
    {
     "data": {
      "image/png": "[encoded data removed]",
      "text/plain": [
       "<IPython.core.display.Image object>"
      ]
     },
     "execution_count": 157,
     "metadata": {},
     "output_type": "execute_result"
    }
   ],
   "source": [
    "%top Da(abs_tree1)"
   ]
  },
  {
   "cell_type": "code",
   "execution_count": 158,
   "metadata": {},
   "outputs": [],
   "source": [
    "def mark_abstract_nodes(tree, paths):\n",
    "    for path in paths:\n",
    "        tree = mark_path_abstract(tree, path)\n",
    "    return mark_concrete_r(tree)"
   ]
  },
  {
   "cell_type": "code",
   "execution_count": 159,
   "metadata": {},
   "outputs": [
    {
     "data": {
      "text/plain": [
       "'((2 * 3 / 4))'"
      ]
     },
     "execution_count": 159,
     "metadata": {},
     "output_type": "execute_result"
    }
   ],
   "source": [
    "%top Ta(mark_abstract_nodes(abs_t1, []))"
   ]
  },
  {
   "cell_type": "markdown",
   "metadata": {},
   "source": [
    "### An abstract pattern from DDSET - F1"
   ]
  },
  {
   "cell_type": "code",
   "execution_count": 160,
   "metadata": {},
   "outputs": [
    {
     "data": {
      "text/plain": [
       "'((<expr>))'"
      ]
     },
     "execution_count": 160,
     "metadata": {},
     "output_type": "execute_result"
    }
   ],
   "source": [
    "%top Ta(mark_abstract_nodes(abs_t1, [t_abs_p1]))"
   ]
  },
  {
   "cell_type": "markdown",
   "metadata": {},
   "source": [
    "**IMPORTANT** This is what we expect our input to be. That is, a full parse tree of a minimized string with abstractions (typed holes) indicated."
   ]
  },
  {
   "cell_type": "markdown",
   "metadata": {},
   "source": [
    "### Finding characterizing node\n",
    "\n",
    "A characterizing node is the lowest node that completely contains the given pattern. To find a characterizing node, we use the miniaml AST, and identify the parent node that encloses all the concrete nodes."
   ]
  },
  {
   "cell_type": "code",
   "execution_count": 161,
   "metadata": {},
   "outputs": [],
   "source": [
    "def find_charecterizing_node(tree):\n",
    "    name, children, *gen = tree\n",
    "    if len(children) == 1:\n",
    "        return find_charecterizing_node(children[0])\n",
    "    # trim out children that are empty from the beginning\n",
    "    # and end\n",
    "    non_empty = []\n",
    "    for c in children:\n",
    "        if not is_nt(c[0]):\n",
    "            # have a terminal. So, the parent node is charecterizing.\n",
    "            return tree\n",
    "        elif is_node_abstract(c):\n",
    "            # outer abstract node. Hence, not part of charecterizing node.\n",
    "            continue\n",
    "        elif tree_to_str(c):\n",
    "            non_empty.append(c)\n",
    "    assert non_empty, 'fault node should have at least one non-empty child'\n",
    "    if len(non_empty) > 1:\n",
    "        return tree\n",
    "    else:\n",
    "        return find_charecterizing_node(non_empty[0])"
   ]
  },
  {
   "cell_type": "code",
   "execution_count": 162,
   "metadata": {},
   "outputs": [
    {
     "data": {
      "text/plain": [
       "('<factor>',\n",
       " [('(', [], {'abstract': False}),\n",
       "  ('<expr>',\n",
       "   [('<term>',\n",
       "     [('<factor>',\n",
       "       [('(', [], {'abstract': False}),\n",
       "        ('<expr>',\n",
       "         [('<term>',\n",
       "           [('<factor>',\n",
       "             [('<integer>',\n",
       "               [('<digit>',\n",
       "                 [('2', [], {'abstract': False})],\n",
       "                 {'abstract': False})],\n",
       "               {'abstract': False})],\n",
       "             {'abstract': False}),\n",
       "            (' * ', [], {'abstract': False}),\n",
       "            ('<term>',\n",
       "             [('<factor>',\n",
       "               [('<integer>',\n",
       "                 [('<digit>',\n",
       "                   [('3', [], {'abstract': False})],\n",
       "                   {'abstract': False})],\n",
       "                 {'abstract': False})],\n",
       "               {'abstract': False}),\n",
       "              (' / ', [], {'abstract': False}),\n",
       "              ('<term>',\n",
       "               [('<factor>',\n",
       "                 [('<integer>',\n",
       "                   [('<digit>',\n",
       "                     [('4', [], {'abstract': False})],\n",
       "                     {'abstract': False})],\n",
       "                   {'abstract': False})],\n",
       "                 {'abstract': False})],\n",
       "               {'abstract': False})],\n",
       "             {'abstract': False})],\n",
       "           {'abstract': False})],\n",
       "         {'abstract': True}),\n",
       "        (')', [], {'abstract': False})],\n",
       "       {'abstract': False})],\n",
       "     {'abstract': False})],\n",
       "   {'abstract': False}),\n",
       "  (')', [], {'abstract': False})],\n",
       " {'abstract': False})"
      ]
     },
     "execution_count": 162,
     "metadata": {},
     "output_type": "execute_result"
    }
   ],
   "source": [
    "#%%top\n",
    "abs_tree_cnode1 = find_charecterizing_node(abs_tree1); abs_tree_cnode1"
   ]
  },
  {
   "cell_type": "markdown",
   "metadata": {},
   "source": [
    "As can be seen, the `<factor>` node completely contains the fault pattern."
   ]
  },
  {
   "cell_type": "code",
   "execution_count": 163,
   "metadata": {},
   "outputs": [
    {
     "data": {
      "text/plain": [
       "('<start>', '((2 * 3 / 4))')"
      ]
     },
     "execution_count": 163,
     "metadata": {},
     "output_type": "execute_result"
    }
   ],
   "source": [
    "%top abs_tree1[0], Ts(abs_tree1)"
   ]
  },
  {
   "cell_type": "code",
   "execution_count": 164,
   "metadata": {},
   "outputs": [
    {
     "data": {
      "text/plain": [
       "('<factor>', '((2 * 3 / 4))')"
      ]
     },
     "execution_count": 164,
     "metadata": {},
     "output_type": "execute_result"
    }
   ],
   "source": [
    "%top abs_tree_cnode1[0], Ts(abs_tree_cnode1)"
   ]
  },
  {
   "cell_type": "markdown",
   "metadata": {},
   "source": [
    "Now, we want to add our grammar the keys that are required to cause a failure. For that, we first extract the local grammar that reproduces the fault pattern "
   ]
  },
  {
   "cell_type": "markdown",
   "metadata": {},
   "source": [
    "### Pattern Grammar"
   ]
  },
  {
   "cell_type": "code",
   "execution_count": 165,
   "metadata": {},
   "outputs": [
    {
     "data": {
      "text/plain": [
       "('<factor>',\n",
       " [('(', [], {'abstract': False}),\n",
       "  ('<expr>',\n",
       "   [('<term>',\n",
       "     [('<factor>',\n",
       "       [('(', [], {'abstract': False}),\n",
       "        ('<expr>',\n",
       "         [('<term>',\n",
       "           [('<factor>',\n",
       "             [('<integer>',\n",
       "               [('<digit>',\n",
       "                 [('2', [], {'abstract': False})],\n",
       "                 {'abstract': False})],\n",
       "               {'abstract': False})],\n",
       "             {'abstract': False}),\n",
       "            (' * ', [], {'abstract': False}),\n",
       "            ('<term>',\n",
       "             [('<factor>',\n",
       "               [('<integer>',\n",
       "                 [('<digit>',\n",
       "                   [('3', [], {'abstract': False})],\n",
       "                   {'abstract': False})],\n",
       "                 {'abstract': False})],\n",
       "               {'abstract': False}),\n",
       "              (' / ', [], {'abstract': False}),\n",
       "              ('<term>',\n",
       "               [('<factor>',\n",
       "                 [('<integer>',\n",
       "                   [('<digit>',\n",
       "                     [('4', [], {'abstract': False})],\n",
       "                     {'abstract': False})],\n",
       "                   {'abstract': False})],\n",
       "                 {'abstract': False})],\n",
       "               {'abstract': False})],\n",
       "             {'abstract': False})],\n",
       "           {'abstract': False})],\n",
       "         {'abstract': True}),\n",
       "        (')', [], {'abstract': False})],\n",
       "       {'abstract': False})],\n",
       "     {'abstract': False})],\n",
       "   {'abstract': False}),\n",
       "  (')', [], {'abstract': False})],\n",
       " {'abstract': False})"
      ]
     },
     "execution_count": 165,
     "metadata": {},
     "output_type": "execute_result"
    }
   ],
   "source": [
    "%top abs_tree_cnode1"
   ]
  },
  {
   "cell_type": "code",
   "execution_count": 166,
   "metadata": {},
   "outputs": [],
   "source": [
    " def mark_faulty_name(symbol, prefix, v):\n",
    "    return '<%s L%s_%s>'% (symbol[1:-1], prefix, v)"
   ]
  },
  {
   "cell_type": "code",
   "execution_count": 167,
   "metadata": {},
   "outputs": [],
   "source": [
    "def mark_faulty_nodes(node, prefix, counter=None):\n",
    "    if counter is None: counter = {}\n",
    "    symbol, children, *abstract = node\n",
    "    if is_node_abstract(node): # we dont markup further\n",
    "        return node\n",
    "    if symbol not in counter: counter[symbol] = 0\n",
    "    counter[symbol] += 1\n",
    "    v = str(counter[symbol])\n",
    "    if is_nt(symbol):\n",
    "        return (mark_faulty_name(symbol, prefix, v),\n",
    "                [mark_faulty_nodes(c, prefix, counter) for c in children],\n",
    "                *abstract)\n",
    "    else:\n",
    "        assert not children\n",
    "        return (symbol, children, *abstract)"
   ]
  },
  {
   "cell_type": "code",
   "execution_count": 168,
   "metadata": {},
   "outputs": [
    {
     "data": {
      "image/svg+xml": [
       "<?xml version=\"1.0\" encoding=\"UTF-8\" standalone=\"no\"?>\n",
       "<!DOCTYPE svg PUBLIC \"-//W3C//DTD SVG 1.1//EN\"\n",
       " \"http://www.w3.org/Graphics/SVG/1.1/DTD/svg11.dtd\">\n",
       "<!-- Generated by graphviz version 2.44.1 (20200629.0846)\n",
       " -->\n",
       "<!-- Pages: 1 -->\n",
       "<svg width=\"240pt\" height=\"584pt\"\n",
       " viewBox=\"0.00 0.00 240.00 584.00\" xmlns=\"http://www.w3.org/2000/svg\" xmlns:xlink=\"http://www.w3.org/1999/xlink\">\n",
       "<g id=\"graph0\" class=\"graph\" transform=\"scale(1 1) rotate(0) translate(4 580)\">\n",
       "<polygon fill=\"white\" stroke=\"transparent\" points=\"-4,4 -4,-580 236,-580 236,4 -4,4\"/>\n",
       "<!-- 0 -->\n",
       "<g id=\"node1\" class=\"node\">\n",
       "<title>0</title>\n",
       "<text text-anchor=\"middle\" x=\"98\" y=\"-564.8\" font-family=\"Times,serif\" font-size=\"14.00\">&lt;factor L1_1&gt; </text>\n",
       "</g>\n",
       "<!-- 1 -->\n",
       "<g id=\"node2\" class=\"node\">\n",
       "<title>1</title>\n",
       "<text text-anchor=\"middle\" x=\"37\" y=\"-513.8\" font-family=\"Times,serif\" font-size=\"14.00\">( </text>\n",
       "</g>\n",
       "<!-- 0&#45;&gt;1 -->\n",
       "<g id=\"edge1\" class=\"edge\">\n",
       "<title>0&#45;&gt;1</title>\n",
       "<path fill=\"none\" stroke=\"black\" d=\"M89.77,-560.89C79.41,-552.56 61.49,-538.18 49.45,-528.5\"/>\n",
       "<polygon fill=\"black\" stroke=\"black\" points=\"51.59,-525.73 41.6,-522.2 47.21,-531.19 51.59,-525.73\"/>\n",
       "</g>\n",
       "<!-- 2 -->\n",
       "<g id=\"node3\" class=\"node\">\n",
       "<title>2</title>\n",
       "<text text-anchor=\"middle\" x=\"98\" y=\"-513.8\" font-family=\"Times,serif\" font-size=\"14.00\">&lt;expr L1_1&gt; </text>\n",
       "</g>\n",
       "<!-- 0&#45;&gt;2 -->\n",
       "<g id=\"edge2\" class=\"edge\">\n",
       "<title>0&#45;&gt;2</title>\n",
       "<path fill=\"none\" stroke=\"black\" d=\"M98,-560.69C98,-554.18 98,-544.1 98,-535.43\"/>\n",
       "<polygon fill=\"black\" stroke=\"black\" points=\"101.5,-535.26 98,-525.26 94.5,-535.26 101.5,-535.26\"/>\n",
       "</g>\n",
       "<!-- 25 -->\n",
       "<g id=\"node26\" class=\"node\">\n",
       "<title>25</title>\n",
       "<text text-anchor=\"middle\" x=\"159\" y=\"-513.8\" font-family=\"Times,serif\" font-size=\"14.00\">) </text>\n",
       "</g>\n",
       "<!-- 0&#45;&gt;25 -->\n",
       "<g id=\"edge25\" class=\"edge\">\n",
       "<title>0&#45;&gt;25</title>\n",
       "<path fill=\"none\" stroke=\"black\" d=\"M106.23,-560.89C116.59,-552.56 134.51,-538.18 146.55,-528.5\"/>\n",
       "<polygon fill=\"black\" stroke=\"black\" points=\"148.79,-531.19 154.4,-522.2 144.41,-525.73 148.79,-531.19\"/>\n",
       "</g>\n",
       "<!-- 3 -->\n",
       "<g id=\"node4\" class=\"node\">\n",
       "<title>3</title>\n",
       "<text text-anchor=\"middle\" x=\"98\" y=\"-462.8\" font-family=\"Times,serif\" font-size=\"14.00\">&lt;term L1_1&gt; </text>\n",
       "</g>\n",
       "<!-- 2&#45;&gt;3 -->\n",
       "<g id=\"edge3\" class=\"edge\">\n",
       "<title>2&#45;&gt;3</title>\n",
       "<path fill=\"none\" stroke=\"black\" d=\"M98,-509.69C98,-503.18 98,-493.1 98,-484.43\"/>\n",
       "<polygon fill=\"black\" stroke=\"black\" points=\"101.5,-484.26 98,-474.26 94.5,-484.26 101.5,-484.26\"/>\n",
       "</g>\n",
       "<!-- 4 -->\n",
       "<g id=\"node5\" class=\"node\">\n",
       "<title>4</title>\n",
       "<text text-anchor=\"middle\" x=\"98\" y=\"-411.8\" font-family=\"Times,serif\" font-size=\"14.00\">&lt;factor L1_2&gt; </text>\n",
       "</g>\n",
       "<!-- 3&#45;&gt;4 -->\n",
       "<g id=\"edge4\" class=\"edge\">\n",
       "<title>3&#45;&gt;4</title>\n",
       "<path fill=\"none\" stroke=\"black\" d=\"M98,-458.69C98,-452.18 98,-442.1 98,-433.43\"/>\n",
       "<polygon fill=\"black\" stroke=\"black\" points=\"101.5,-433.26 98,-423.26 94.5,-433.26 101.5,-433.26\"/>\n",
       "</g>\n",
       "<!-- 5 -->\n",
       "<g id=\"node6\" class=\"node\">\n",
       "<title>5</title>\n",
       "<text text-anchor=\"middle\" x=\"53\" y=\"-360.8\" font-family=\"Times,serif\" font-size=\"14.00\">( </text>\n",
       "</g>\n",
       "<!-- 4&#45;&gt;5 -->\n",
       "<g id=\"edge5\" class=\"edge\">\n",
       "<title>4&#45;&gt;5</title>\n",
       "<path fill=\"none\" stroke=\"black\" d=\"M91.74,-407.69C84.72,-400.04 73.17,-387.46 64.5,-378.02\"/>\n",
       "<polygon fill=\"black\" stroke=\"black\" points=\"66.91,-375.47 57.57,-370.47 61.75,-380.21 66.91,-375.47\"/>\n",
       "</g>\n",
       "<!-- 6 -->\n",
       "<g id=\"node7\" class=\"node\">\n",
       "<title>6</title>\n",
       "<text text-anchor=\"middle\" x=\"98\" y=\"-360.8\" font-family=\"Times,serif\" font-size=\"14.00\">&lt;expr&gt; </text>\n",
       "</g>\n",
       "<!-- 4&#45;&gt;6 -->\n",
       "<g id=\"edge6\" class=\"edge\">\n",
       "<title>4&#45;&gt;6</title>\n",
       "<path fill=\"none\" stroke=\"black\" d=\"M98,-407.69C98,-401.18 98,-391.1 98,-382.43\"/>\n",
       "<polygon fill=\"black\" stroke=\"black\" points=\"101.5,-382.26 98,-372.26 94.5,-382.26 101.5,-382.26\"/>\n",
       "</g>\n",
       "<!-- 24 -->\n",
       "<g id=\"node25\" class=\"node\">\n",
       "<title>24</title>\n",
       "<text text-anchor=\"middle\" x=\"143\" y=\"-360.8\" font-family=\"Times,serif\" font-size=\"14.00\">) </text>\n",
       "</g>\n",
       "<!-- 4&#45;&gt;24 -->\n",
       "<g id=\"edge24\" class=\"edge\">\n",
       "<title>4&#45;&gt;24</title>\n",
       "<path fill=\"none\" stroke=\"black\" d=\"M104.26,-407.69C111.28,-400.04 122.83,-387.46 131.5,-378.02\"/>\n",
       "<polygon fill=\"black\" stroke=\"black\" points=\"134.25,-380.21 138.43,-370.47 129.09,-375.47 134.25,-380.21\"/>\n",
       "</g>\n",
       "<!-- 7 -->\n",
       "<g id=\"node8\" class=\"node\">\n",
       "<title>7</title>\n",
       "<text text-anchor=\"middle\" x=\"98\" y=\"-309.8\" font-family=\"Times,serif\" font-size=\"14.00\">&lt;term&gt; </text>\n",
       "</g>\n",
       "<!-- 6&#45;&gt;7 -->\n",
       "<g id=\"edge7\" class=\"edge\">\n",
       "<title>6&#45;&gt;7</title>\n",
       "<path fill=\"none\" stroke=\"black\" d=\"M98,-356.69C98,-350.18 98,-340.1 98,-331.43\"/>\n",
       "<polygon fill=\"black\" stroke=\"black\" points=\"101.5,-331.26 98,-321.26 94.5,-331.26 101.5,-331.26\"/>\n",
       "</g>\n",
       "<!-- 8 -->\n",
       "<g id=\"node9\" class=\"node\">\n",
       "<title>8</title>\n",
       "<text text-anchor=\"middle\" x=\"39\" y=\"-258.8\" font-family=\"Times,serif\" font-size=\"14.00\">&lt;factor&gt; </text>\n",
       "</g>\n",
       "<!-- 7&#45;&gt;8 -->\n",
       "<g id=\"edge8\" class=\"edge\">\n",
       "<title>7&#45;&gt;8</title>\n",
       "<path fill=\"none\" stroke=\"black\" d=\"M89.8,-305.69C80.81,-298.23 66.19,-286.08 54.94,-276.73\"/>\n",
       "<polygon fill=\"black\" stroke=\"black\" points=\"57.06,-273.95 47.13,-270.26 52.59,-279.34 57.06,-273.95\"/>\n",
       "</g>\n",
       "<!-- 12 -->\n",
       "<g id=\"node13\" class=\"node\">\n",
       "<title>12</title>\n",
       "<text text-anchor=\"middle\" x=\"98\" y=\"-258.8\" font-family=\"Times,serif\" font-size=\"14.00\"> * &#160;</text>\n",
       "</g>\n",
       "<!-- 7&#45;&gt;12 -->\n",
       "<g id=\"edge12\" class=\"edge\">\n",
       "<title>7&#45;&gt;12</title>\n",
       "<path fill=\"none\" stroke=\"black\" d=\"M98,-305.69C98,-299.18 98,-289.1 98,-280.43\"/>\n",
       "<polygon fill=\"black\" stroke=\"black\" points=\"101.5,-280.26 98,-270.26 94.5,-280.26 101.5,-280.26\"/>\n",
       "</g>\n",
       "<!-- 13 -->\n",
       "<g id=\"node14\" class=\"node\">\n",
       "<title>13</title>\n",
       "<text text-anchor=\"middle\" x=\"151\" y=\"-258.8\" font-family=\"Times,serif\" font-size=\"14.00\">&lt;term&gt; </text>\n",
       "</g>\n",
       "<!-- 7&#45;&gt;13 -->\n",
       "<g id=\"edge13\" class=\"edge\">\n",
       "<title>7&#45;&gt;13</title>\n",
       "<path fill=\"none\" stroke=\"black\" d=\"M105.37,-305.69C113.28,-298.37 126.06,-286.56 136.09,-277.29\"/>\n",
       "<polygon fill=\"black\" stroke=\"black\" points=\"138.73,-279.61 143.69,-270.26 133.97,-274.47 138.73,-279.61\"/>\n",
       "</g>\n",
       "<!-- 9 -->\n",
       "<g id=\"node10\" class=\"node\">\n",
       "<title>9</title>\n",
       "<text text-anchor=\"middle\" x=\"29\" y=\"-207.8\" font-family=\"Times,serif\" font-size=\"14.00\">&lt;integer&gt; </text>\n",
       "</g>\n",
       "<!-- 8&#45;&gt;9 -->\n",
       "<g id=\"edge9\" class=\"edge\">\n",
       "<title>8&#45;&gt;9</title>\n",
       "<path fill=\"none\" stroke=\"black\" d=\"M37.61,-254.69C36.27,-248.1 34.18,-237.87 32.4,-229.14\"/>\n",
       "<polygon fill=\"black\" stroke=\"black\" points=\"35.81,-228.35 30.38,-219.26 28.95,-229.75 35.81,-228.35\"/>\n",
       "</g>\n",
       "<!-- 10 -->\n",
       "<g id=\"node11\" class=\"node\">\n",
       "<title>10</title>\n",
       "<text text-anchor=\"middle\" x=\"29\" y=\"-156.8\" font-family=\"Times,serif\" font-size=\"14.00\">&lt;digit&gt; </text>\n",
       "</g>\n",
       "<!-- 9&#45;&gt;10 -->\n",
       "<g id=\"edge10\" class=\"edge\">\n",
       "<title>9&#45;&gt;10</title>\n",
       "<path fill=\"none\" stroke=\"black\" d=\"M29,-203.69C29,-197.18 29,-187.1 29,-178.43\"/>\n",
       "<polygon fill=\"black\" stroke=\"black\" points=\"32.5,-178.26 29,-168.26 25.5,-178.26 32.5,-178.26\"/>\n",
       "</g>\n",
       "<!-- 11 -->\n",
       "<g id=\"node12\" class=\"node\">\n",
       "<title>11</title>\n",
       "<text text-anchor=\"middle\" x=\"29\" y=\"-105.8\" font-family=\"Times,serif\" font-size=\"14.00\">2 </text>\n",
       "</g>\n",
       "<!-- 10&#45;&gt;11 -->\n",
       "<g id=\"edge11\" class=\"edge\">\n",
       "<title>10&#45;&gt;11</title>\n",
       "<path fill=\"none\" stroke=\"black\" d=\"M29,-152.69C29,-146.18 29,-136.1 29,-127.43\"/>\n",
       "<polygon fill=\"black\" stroke=\"black\" points=\"32.5,-127.26 29,-117.26 25.5,-127.26 32.5,-127.26\"/>\n",
       "</g>\n",
       "<!-- 14 -->\n",
       "<g id=\"node15\" class=\"node\">\n",
       "<title>14</title>\n",
       "<text text-anchor=\"middle\" x=\"102\" y=\"-207.8\" font-family=\"Times,serif\" font-size=\"14.00\">&lt;factor&gt; </text>\n",
       "</g>\n",
       "<!-- 13&#45;&gt;14 -->\n",
       "<g id=\"edge14\" class=\"edge\">\n",
       "<title>13&#45;&gt;14</title>\n",
       "<path fill=\"none\" stroke=\"black\" d=\"M144.19,-254.69C136.95,-247.45 125.29,-235.79 116.07,-226.57\"/>\n",
       "<polygon fill=\"black\" stroke=\"black\" points=\"118.3,-223.85 108.76,-219.26 113.35,-228.8 118.3,-223.85\"/>\n",
       "</g>\n",
       "<!-- 18 -->\n",
       "<g id=\"node19\" class=\"node\">\n",
       "<title>18</title>\n",
       "<text text-anchor=\"middle\" x=\"154\" y=\"-207.8\" font-family=\"Times,serif\" font-size=\"14.00\"> / &#160;</text>\n",
       "</g>\n",
       "<!-- 13&#45;&gt;18 -->\n",
       "<g id=\"edge18\" class=\"edge\">\n",
       "<title>13&#45;&gt;18</title>\n",
       "<path fill=\"none\" stroke=\"black\" d=\"M151.42,-254.69C151.82,-248.18 152.43,-238.1 152.96,-229.43\"/>\n",
       "<polygon fill=\"black\" stroke=\"black\" points=\"156.47,-229.45 153.59,-219.26 149.48,-229.02 156.47,-229.45\"/>\n",
       "</g>\n",
       "<!-- 19 -->\n",
       "<g id=\"node20\" class=\"node\">\n",
       "<title>19</title>\n",
       "<text text-anchor=\"middle\" x=\"203\" y=\"-207.8\" font-family=\"Times,serif\" font-size=\"14.00\">&lt;term&gt; </text>\n",
       "</g>\n",
       "<!-- 13&#45;&gt;19 -->\n",
       "<g id=\"edge19\" class=\"edge\">\n",
       "<title>13&#45;&gt;19</title>\n",
       "<path fill=\"none\" stroke=\"black\" d=\"M158.23,-254.69C165.99,-247.37 178.53,-235.56 188.37,-226.29\"/>\n",
       "<polygon fill=\"black\" stroke=\"black\" points=\"190.95,-228.66 195.83,-219.26 186.15,-223.57 190.95,-228.66\"/>\n",
       "</g>\n",
       "<!-- 15 -->\n",
       "<g id=\"node16\" class=\"node\">\n",
       "<title>15</title>\n",
       "<text text-anchor=\"middle\" x=\"102\" y=\"-156.8\" font-family=\"Times,serif\" font-size=\"14.00\">&lt;integer&gt; </text>\n",
       "</g>\n",
       "<!-- 14&#45;&gt;15 -->\n",
       "<g id=\"edge15\" class=\"edge\">\n",
       "<title>14&#45;&gt;15</title>\n",
       "<path fill=\"none\" stroke=\"black\" d=\"M102,-203.69C102,-197.18 102,-187.1 102,-178.43\"/>\n",
       "<polygon fill=\"black\" stroke=\"black\" points=\"105.5,-178.26 102,-168.26 98.5,-178.26 105.5,-178.26\"/>\n",
       "</g>\n",
       "<!-- 16 -->\n",
       "<g id=\"node17\" class=\"node\">\n",
       "<title>16</title>\n",
       "<text text-anchor=\"middle\" x=\"102\" y=\"-105.8\" font-family=\"Times,serif\" font-size=\"14.00\">&lt;digit&gt; </text>\n",
       "</g>\n",
       "<!-- 15&#45;&gt;16 -->\n",
       "<g id=\"edge16\" class=\"edge\">\n",
       "<title>15&#45;&gt;16</title>\n",
       "<path fill=\"none\" stroke=\"black\" d=\"M102,-152.69C102,-146.18 102,-136.1 102,-127.43\"/>\n",
       "<polygon fill=\"black\" stroke=\"black\" points=\"105.5,-127.26 102,-117.26 98.5,-127.26 105.5,-127.26\"/>\n",
       "</g>\n",
       "<!-- 17 -->\n",
       "<g id=\"node18\" class=\"node\">\n",
       "<title>17</title>\n",
       "<text text-anchor=\"middle\" x=\"102\" y=\"-54.8\" font-family=\"Times,serif\" font-size=\"14.00\">3 </text>\n",
       "</g>\n",
       "<!-- 16&#45;&gt;17 -->\n",
       "<g id=\"edge17\" class=\"edge\">\n",
       "<title>16&#45;&gt;17</title>\n",
       "<path fill=\"none\" stroke=\"black\" d=\"M102,-101.69C102,-95.18 102,-85.1 102,-76.43\"/>\n",
       "<polygon fill=\"black\" stroke=\"black\" points=\"105.5,-76.26 102,-66.26 98.5,-76.26 105.5,-76.26\"/>\n",
       "</g>\n",
       "<!-- 20 -->\n",
       "<g id=\"node21\" class=\"node\">\n",
       "<title>20</title>\n",
       "<text text-anchor=\"middle\" x=\"203\" y=\"-156.8\" font-family=\"Times,serif\" font-size=\"14.00\">&lt;factor&gt; </text>\n",
       "</g>\n",
       "<!-- 19&#45;&gt;20 -->\n",
       "<g id=\"edge20\" class=\"edge\">\n",
       "<title>19&#45;&gt;20</title>\n",
       "<path fill=\"none\" stroke=\"black\" d=\"M203,-203.69C203,-197.18 203,-187.1 203,-178.43\"/>\n",
       "<polygon fill=\"black\" stroke=\"black\" points=\"206.5,-178.26 203,-168.26 199.5,-178.26 206.5,-178.26\"/>\n",
       "</g>\n",
       "<!-- 21 -->\n",
       "<g id=\"node22\" class=\"node\">\n",
       "<title>21</title>\n",
       "<text text-anchor=\"middle\" x=\"203\" y=\"-105.8\" font-family=\"Times,serif\" font-size=\"14.00\">&lt;integer&gt; </text>\n",
       "</g>\n",
       "<!-- 20&#45;&gt;21 -->\n",
       "<g id=\"edge21\" class=\"edge\">\n",
       "<title>20&#45;&gt;21</title>\n",
       "<path fill=\"none\" stroke=\"black\" d=\"M203,-152.69C203,-146.18 203,-136.1 203,-127.43\"/>\n",
       "<polygon fill=\"black\" stroke=\"black\" points=\"206.5,-127.26 203,-117.26 199.5,-127.26 206.5,-127.26\"/>\n",
       "</g>\n",
       "<!-- 22 -->\n",
       "<g id=\"node23\" class=\"node\">\n",
       "<title>22</title>\n",
       "<text text-anchor=\"middle\" x=\"203\" y=\"-54.8\" font-family=\"Times,serif\" font-size=\"14.00\">&lt;digit&gt; </text>\n",
       "</g>\n",
       "<!-- 21&#45;&gt;22 -->\n",
       "<g id=\"edge22\" class=\"edge\">\n",
       "<title>21&#45;&gt;22</title>\n",
       "<path fill=\"none\" stroke=\"black\" d=\"M203,-101.69C203,-95.18 203,-85.1 203,-76.43\"/>\n",
       "<polygon fill=\"black\" stroke=\"black\" points=\"206.5,-76.26 203,-66.26 199.5,-76.26 206.5,-76.26\"/>\n",
       "</g>\n",
       "<!-- 23 -->\n",
       "<g id=\"node24\" class=\"node\">\n",
       "<title>23</title>\n",
       "<text text-anchor=\"middle\" x=\"203\" y=\"-3.8\" font-family=\"Times,serif\" font-size=\"14.00\">4 </text>\n",
       "</g>\n",
       "<!-- 22&#45;&gt;23 -->\n",
       "<g id=\"edge23\" class=\"edge\">\n",
       "<title>22&#45;&gt;23</title>\n",
       "<path fill=\"none\" stroke=\"black\" d=\"M203,-50.69C203,-44.18 203,-34.1 203,-25.43\"/>\n",
       "<polygon fill=\"black\" stroke=\"black\" points=\"206.5,-25.26 203,-15.26 199.5,-25.26 206.5,-25.26\"/>\n",
       "</g>\n",
       "</g>\n",
       "</svg>\n"
      ],
      "text/plain": [
       "<graphviz.dot.Digraph at 0x11339ef28>"
      ]
     },
     "execution_count": 168,
     "metadata": {},
     "output_type": "execute_result"
    }
   ],
   "source": [
    "%top display_tree(mark_faulty_nodes(abs_tree_cnode1, '1'))"
   ]
  },
  {
   "cell_type": "code",
   "execution_count": 169,
   "metadata": {},
   "outputs": [],
   "source": [
    "%top c_node1 = mark_faulty_nodes(abs_tree_cnode1, '1')"
   ]
  },
  {
   "cell_type": "code",
   "execution_count": 170,
   "metadata": {},
   "outputs": [],
   "source": [
    "%top f_node1 = c_node1"
   ]
  },
  {
   "cell_type": "code",
   "execution_count": 171,
   "metadata": {},
   "outputs": [],
   "source": [
    "def faulty_node_to_grammar(tree, grammar=None):\n",
    "    if grammar is None: grammar = {}\n",
    "    if is_node_abstract(tree): return grammar\n",
    "    name, children, *rest = tree\n",
    "    tokens = []\n",
    "    if name not in grammar: grammar[name] = []\n",
    "    for c in children:\n",
    "        n, cs, *rest = c\n",
    "        tokens.append(n)\n",
    "        if is_nt(n):\n",
    "            faulty_node_to_grammar(c, grammar)\n",
    "    grammar[name].append(tuple(tokens))\n",
    "    return grammar, tree[0]"
   ]
  },
  {
   "cell_type": "code",
   "execution_count": 172,
   "metadata": {},
   "outputs": [
    {
     "name": "stdout",
     "output_type": "stream",
     "text": [
      "<factor> ::=\n",
      "|    '(' <expr> ')'\n",
      "|    '(' <expr> ')'\n",
      "<expr> ::=\n",
      "|    <term>\n",
      "<term> ::=\n",
      "|    <factor>\n",
      "3 4\n"
     ]
    },
    {
     "data": {
      "text/plain": [
       "'<factor>'"
      ]
     },
     "execution_count": 172,
     "metadata": {},
     "output_type": "execute_result"
    }
   ],
   "source": [
    "%%top\n",
    "g, s = faulty_node_to_grammar(abs_tree_cnode1)\n",
    "Gs(g)\n",
    "s"
   ]
  },
  {
   "cell_type": "code",
   "execution_count": 173,
   "metadata": {},
   "outputs": [],
   "source": [
    "def faulty_node_to_pattern_grammar(tree, prefix, grammar=None):\n",
    "    ltree = mark_faulty_nodes(tree, prefix)\n",
    "    return faulty_node_to_grammar(ltree)"
   ]
  },
  {
   "cell_type": "code",
   "execution_count": 174,
   "metadata": {},
   "outputs": [],
   "source": [
    "#%%top\n",
    "lg1, ls1 = faulty_node_to_pattern_grammar(abs_tree_cnode1, '1')"
   ]
  },
  {
   "cell_type": "code",
   "execution_count": 175,
   "metadata": {},
   "outputs": [
    {
     "name": "stdout",
     "output_type": "stream",
     "text": [
      "<factor L1_1> ::=\n",
      "|    '(' <expr L1_1> ')'\n",
      "<expr L1_1> ::=\n",
      "|    <term L1_1>\n",
      "<term L1_1> ::=\n",
      "|    <factor L1_2>\n",
      "<factor L1_2> ::=\n",
      "|    '(' <expr> ')'\n",
      "4 4\n"
     ]
    },
    {
     "data": {
      "text/plain": [
       "'<factor L1_1>'"
      ]
     },
     "execution_count": 175,
     "metadata": {},
     "output_type": "execute_result"
    }
   ],
   "source": [
    "%%top\n",
    "Gs(lg1)\n",
    "ls1"
   ]
  },
  {
   "cell_type": "code",
   "execution_count": 176,
   "metadata": {},
   "outputs": [],
   "source": [
    "%top dd_tree_abs1 = abs_tree1"
   ]
  },
  {
   "cell_type": "code",
   "execution_count": 177,
   "metadata": {},
   "outputs": [],
   "source": [
    "#%top\n",
    "node_faulty1 = abs_tree_cnode1"
   ]
  },
  {
   "cell_type": "markdown",
   "metadata": {},
   "source": [
    "### Finding insertable positions"
   ]
  },
  {
   "cell_type": "markdown",
   "metadata": {},
   "source": [
    "Given a rule, and the faulty symbol, the positions in the rule where the fault can be inserted are all the non-terminals that will eventually reach the symbol of the faulty symbol. That is, if we have `<digit> + <expr>` as the expansion and the faulty symbol is `<factor*>` then, since `<digit>` can never reach `<factor>`, `0` is out, and so is `1` since it is a terminal symbol. Hence, only `<expr>` remains, which when expanded, one of the expansion paths will include a `<factor>`. Hence, here `[2]` is the answer."
   ]
  },
  {
   "cell_type": "code",
   "execution_count": 178,
   "metadata": {},
   "outputs": [],
   "source": [
    "def get_reachable_positions(rule, fkey, reachable):\n",
    "    positions = []\n",
    "    for i, token in enumerate(rule):\n",
    "        if not is_nt(token): continue\n",
    "        if fkey == token or fkey in reachable[token]:\n",
    "            positions.append(i)\n",
    "    return positions"
   ]
  },
  {
   "cell_type": "code",
   "execution_count": 179,
   "metadata": {},
   "outputs": [],
   "source": [
    "reachable1 = reachable_dict(EXPR_GRAMMAR)"
   ]
  },
  {
   "cell_type": "code",
   "execution_count": 180,
   "metadata": {},
   "outputs": [
    {
     "name": "stdout",
     "output_type": "stream",
     "text": [
      "<start>\n",
      "\t ['<expr>'] [0]\n",
      "<expr>\n",
      "\t ['<term>', ' + ', '<expr>'] [0, 2]\n",
      "\t ['<term>', ' - ', '<expr>'] [0, 2]\n",
      "\t ['<term>'] [0]\n",
      "<term>\n",
      "\t ['<factor>', ' * ', '<term>'] [0, 2]\n",
      "\t ['<factor>', ' / ', '<term>'] [0, 2]\n",
      "\t ['<factor>'] [0]\n",
      "<factor>\n",
      "\t ['+', '<factor>'] [1]\n",
      "\t ['-', '<factor>'] [1]\n",
      "\t ['(', '<expr>', ')'] [1]\n",
      "\t ['<integer>', '.', '<integer>'] []\n",
      "\t ['<integer>'] []\n",
      "<integer>\n",
      "\t ['<digit>', '<integer>'] []\n",
      "\t ['<digit>'] []\n",
      "<digit>\n",
      "\t ['0'] []\n",
      "\t ['1'] []\n",
      "\t ['2'] []\n",
      "\t ['3'] []\n",
      "\t ['4'] []\n",
      "\t ['5'] []\n",
      "\t ['6'] []\n",
      "\t ['7'] []\n",
      "\t ['8'] []\n",
      "\t ['9'] []\n"
     ]
    }
   ],
   "source": [
    "%%top\n",
    "for k in EXPR_GRAMMAR:\n",
    "    print(k)\n",
    "    for rule in EXPR_GRAMMAR[k]:\n",
    "        v = get_reachable_positions(rule, '<factor>', reachable1)\n",
    "        print('\\t', rule, v)"
   ]
  },
  {
   "cell_type": "markdown",
   "metadata": {},
   "source": [
    "### Insert into key definition"
   ]
  },
  {
   "cell_type": "markdown",
   "metadata": {},
   "source": [
    "The essential idea is to make the rules in the grammar such that there is one fault position in each position.\n",
    "Take one rule at a time. For each token in the rule, get the reachable tokens. If the fsym is not in reachable tokens, then the falt cannot be inserted in that position. So get all positions for the rule that we can insert fsym in, and for each position, change the symbol for later insertion.\n",
    "\n",
    "#### Proof\n",
    "\n",
    "The proof that this works is as follows:\n",
    "\n",
    "Any key named $<\\overline{X}>$ is guaranteed to contain at least one fault. The definition of any key by construction is, $<\\overline{X}> \\models \\overline{R_1} \\lor \\overline{R_2} \\ldots $ where each $\\overline{R_i}$ is a rule that contains at least one $<\\overline{Y}>$ such as $\\overline{R_i} = \\{<\\overline{P}> \\cdot Q \\cdot R\\} \\lor \\{P \\cdot <\\overline{Q}> \\cdot R\\} \\lor \\{ P \\cdot Q \\cdot <\\overline{R}> \\}$."
   ]
  },
  {
   "cell_type": "code",
   "execution_count": 181,
   "metadata": {},
   "outputs": [],
   "source": [
    "from enum import Enum"
   ]
  },
  {
   "cell_type": "code",
   "execution_count": 182,
   "metadata": {},
   "outputs": [],
   "source": [
    "class FKey(str, Enum):\n",
    "    #negate = 'NEGATE'\n",
    "    #fault = 'FAULT' # not used\n",
    "    atmost = 'ATMOST'\n",
    "    atleast = 'ATLEAST'\n",
    "    exactly = 'EXACTLY'"
   ]
  },
  {
   "cell_type": "code",
   "execution_count": 183,
   "metadata": {},
   "outputs": [],
   "source": [
    "def to_fkey_prefix(name, prefix, kind):\n",
    "    #if kind == FKey.negative:\n",
    "    #    return \"<%s -%s>\" % (name[1:-1], prefix)\n",
    "    #if kind == FKey.fault: # not used\n",
    "    #    return \"<%s F%s>\" % (name[1:-1], prefix)\n",
    "    if kind == FKey.atmost:\n",
    "        return \"<%s *F%s>\" % (name[1:-1], prefix)\n",
    "    elif kind == FKey.atleast:\n",
    "        return \"<%s +F%s>\" % (name[1:-1], prefix)\n",
    "    elif kind == FKey.exactly:\n",
    "        return \"<%s .F%s>\" % (name[1:-1], prefix)\n",
    "    assert False"
   ]
  },
  {
   "cell_type": "code",
   "execution_count": 184,
   "metadata": {},
   "outputs": [],
   "source": [
    "def insert_atleast_one_fault_into_key(grammar, key, fsym, prefix, reachable):\n",
    "    rules = grammar[key]\n",
    "    my_rules = []\n",
    "    for rule in grammar[key]:\n",
    "        positions = get_reachable_positions(rule, fsym, reachable)\n",
    "        if not positions: # make it len(positions) >= n if necessary\n",
    "            # skip this rule because we can not embed the fault here.\n",
    "            continue\n",
    "        else:\n",
    "            # at each position, insert the fsym\n",
    "            for pos in positions:\n",
    "                new_rule = [to_fkey_prefix(t, prefix, FKey.atleast)\n",
    "                            if pos == p else t for p,t in enumerate(rule)]\n",
    "                my_rules.append(new_rule)\n",
    "    return (to_fkey_prefix(key, prefix, FKey.atleast), my_rules)"
   ]
  },
  {
   "cell_type": "code",
   "execution_count": 185,
   "metadata": {},
   "outputs": [
    {
     "name": "stdout",
     "output_type": "stream",
     "text": [
      "<start +F1>\n",
      "     ['<expr +F1>']\n",
      "\n",
      "<expr +F1>\n",
      "     ['<term +F1>', ' + ', '<expr>']\n",
      "     ['<term>', ' + ', '<expr +F1>']\n",
      "     ['<term +F1>', ' - ', '<expr>']\n",
      "     ['<term>', ' - ', '<expr +F1>']\n",
      "     ['<term +F1>']\n",
      "\n",
      "<term +F1>\n",
      "     ['<factor +F1>', ' * ', '<term>']\n",
      "     ['<factor>', ' * ', '<term +F1>']\n",
      "     ['<factor +F1>', ' / ', '<term>']\n",
      "     ['<factor>', ' / ', '<term +F1>']\n",
      "     ['<factor +F1>']\n",
      "\n",
      "<factor +F1>\n",
      "     ['+', '<factor +F1>']\n",
      "     ['-', '<factor +F1>']\n",
      "     ['(', '<expr +F1>', ')']\n",
      "\n",
      "<integer +F1>\n",
      "\n",
      "<digit +F1>\n",
      "\n"
     ]
    }
   ],
   "source": [
    "%%top\n",
    "for key in EXPR_GRAMMAR:\n",
    "    fk, rules = insert_atleast_one_fault_into_key(EXPR_GRAMMAR, key, '<factor>', '1', reachable1)\n",
    "    print(fk)\n",
    "    for r in rules:\n",
    "        print('    ', r)\n",
    "    print()"
   ]
  },
  {
   "cell_type": "code",
   "execution_count": 186,
   "metadata": {},
   "outputs": [],
   "source": [
    "def insert_atleast_one_fault_into_grammar(grammar, fsym, prefix_f, reachable):\n",
    "    new_grammar = {}\n",
    "    for key in grammar:\n",
    "        fk, rules = insert_atleast_one_fault_into_key(grammar, key, fsym, prefix_f, reachable)\n",
    "        if fk not in new_grammar:\n",
    "            new_grammar[fk] = []\n",
    "        #if not rules:\n",
    "        #    rules = grammar[key] # no applicable rules, so use the original\n",
    "        new_grammar[fk].extend(rules)\n",
    "    return new_grammar"
   ]
  },
  {
   "cell_type": "markdown",
   "metadata": {},
   "source": [
    "### Get the final grammar"
   ]
  },
  {
   "cell_type": "markdown",
   "metadata": {},
   "source": [
    "The final steps are as follows:\n",
    "1. Add the fault node, and the child nodes to the grammar.\n",
    "2. Generate the faulty key definitions. This is done per key in the original grammar.\n",
    "3. Finally, connect the faulty key and fault node."
   ]
  },
  {
   "cell_type": "code",
   "execution_count": 187,
   "metadata": {},
   "outputs": [],
   "source": [
    "def atleast_one_fault_grammar(grammar, start_symbol, fault_node, f_idx):\n",
    "    def L_prefix(i): return str(i)\n",
    "    def F_prefix(i): return str(i)\n",
    "    prefix_l = L_prefix(f_idx)\n",
    "    prefix_f = F_prefix(f_idx)\n",
    "    key_f = fault_node[0]\n",
    "    assert key_f in grammar\n",
    "\n",
    "    # First, get the pattern grammar\n",
    "    pattern_g, pattern_s = faulty_node_to_pattern_grammar(fault_node, prefix_l)\n",
    "    # the pattern grammar contains the faulty keys and their definitions.\n",
    "\n",
    "    # Next, get the reaching grammar. This simply embeds at one guaranteed fault \n",
    "    # in each of the rules.\n",
    "    reachable_keys = reachable_dict(grammar)\n",
    "    # We want to insert the fault prefix_f into each insertable positions. \n",
    "    # the insertable locations are those that can reach reaching_fsym\n",
    "    reach_g = insert_atleast_one_fault_into_grammar(grammar, key_f, prefix_f, reachable_keys)\n",
    "\n",
    "    # now, the faulty key is an alternative to the original.\n",
    "    # We have to take care of one thing though. The `fkey` in the pattern grammar should\n",
    "    # be replaced with reaching_fsym, but the definitions kept. This is because we want to preserve\n",
    "    # the rule patterns. We do not want normal expansions to go through since it may mean\n",
    "    # no fault inserted. However, we want self recursion to happen.\n",
    "    reaching_fsym = to_fkey_prefix(key_f, prefix_f, FKey.atleast)\n",
    "\n",
    "    # How do we insert the fault into the grammar? Essentially, at some point we want\n",
    "    # to allow reach_g[reaching_fsym] to produce the fault. If this token is\n",
    "    # nonrecursive, then it simple. We replace the definition reach_g[reaching_fsym]\n",
    "    # with that of pattern_g[pattern_s] and we are done.\n",
    "    pattern_rule = pattern_g[pattern_s][0] # get the pattern rule\n",
    "    \n",
    "    # However, if the reach_g[reaching_fsym] rules contain any tokens that can\n",
    "    # reach `reaching_fsym` then it becomes more complex because we do not want\n",
    "    # to miss out on these patterns. On the other hand, we also need to make sure that we do\n",
    "    # not introduce the fault by matching the first expansion of the fault node.\n",
    "    \n",
    "    # print('WARNING: atleast_one_fault_grammar is incomplete.')\n",
    "    reaching_rules = []\n",
    "    for rule in reach_g[reaching_fsym]:\n",
    "        if normalized_rule_match(rule, pattern_rule):\n",
    "            # # TODO: If this was insert _only_ one fault then,\n",
    "            # # we do not want to inadvertantly introduce the fault again. So this requires special\n",
    "            # # handling. In effect, we want to make sure that the rule is actually a negation\n",
    "            # # of the pattern_rule, one token at a time. This can be done only once negation comes in.\n",
    "            \n",
    "            # However, given that we have no restriction on the number of faults inserted,\n",
    "            # we can merrily add this rule. The only restriction being that, the inserted rule\n",
    "            # should not allow a non-matching parse to go forward. However, this is done by\n",
    "            # construction since we are using reaching rules.\n",
    "            \n",
    "            # # note: this may not be correct. in Factor +F1, (expr L1_1) is finite, and will\n",
    "            # # get removed by gc as being more refined than (expr +F1).\n",
    "            reaching_rules.append(rule)\n",
    "            pass\n",
    "        else:\n",
    "            # we only want to keep a rule if at least one of the tokens is reaching fault_node[0].\n",
    "            for token in rule_to_normalized_rule(rule):\n",
    "                if is_nt(token) and key_f in reachable_keys[token]:\n",
    "                    reaching_rules.append(rule)\n",
    "                    break\n",
    " \n",
    "    combined_grammar = {**grammar, **pattern_g, **reach_g}\n",
    "    combined_grammar[reaching_fsym] = reaching_rules + [pattern_rule]\n",
    "   \n",
    "    return combined_grammar, to_fkey_prefix(start_symbol, F_prefix(f_idx), FKey.atleast)"
   ]
  },
  {
   "cell_type": "code",
   "execution_count": 188,
   "metadata": {},
   "outputs": [
    {
     "data": {
      "text/plain": [
       "'<factor>'"
      ]
     },
     "execution_count": 188,
     "metadata": {},
     "output_type": "execute_result"
    }
   ],
   "source": [
    "%top node_faulty1[0]"
   ]
  },
  {
   "cell_type": "markdown",
   "metadata": {},
   "source": [
    "The guarantee is at least one fault per input."
   ]
  },
  {
   "cell_type": "code",
   "execution_count": 189,
   "metadata": {},
   "outputs": [],
   "source": [
    "#%%top\n",
    "faulty1_grammar_, faulty1_start = atleast_one_fault_grammar(EXPR_GRAMMAR, EXPR_START, node_faulty1, 1)"
   ]
  },
  {
   "cell_type": "code",
   "execution_count": 190,
   "metadata": {},
   "outputs": [
    {
     "name": "stdout",
     "output_type": "stream",
     "text": [
      "16 43\n"
     ]
    }
   ],
   "source": [
    "%top Gs(faulty1_grammar_, -1)"
   ]
  },
  {
   "cell_type": "code",
   "execution_count": 191,
   "metadata": {},
   "outputs": [],
   "source": [
    "#%%top\n",
    "faulty1_grammar, faulty1_start = grammar_gc(faulty1_grammar_, faulty1_start)"
   ]
  },
  {
   "cell_type": "code",
   "execution_count": 192,
   "metadata": {
    "scrolled": false
   },
   "outputs": [
    {
     "name": "stdout",
     "output_type": "stream",
     "text": [
      "<start +F1> ::=\n",
      "|    <expr +F1>\n",
      "<expr +F1> ::=\n",
      "|    <term +F1>\n",
      "|    <term +F1> ' + ' <expr>\n",
      "|    <term +F1> ' - ' <expr>\n",
      "|    <term> ' + ' <expr +F1>\n",
      "|    <term> ' - ' <expr +F1>\n",
      "<term +F1> ::=\n",
      "|    <factor +F1>\n",
      "|    <factor +F1> ' * ' <term>\n",
      "|    <factor +F1> ' / ' <term>\n",
      "|    <factor> ' * ' <term +F1>\n",
      "|    <factor> ' / ' <term +F1>\n",
      "<expr> ::=\n",
      "|    <term>\n",
      "|    <term> ' + ' <expr>\n",
      "|    <term> ' - ' <expr>\n",
      "<term> ::=\n",
      "|    <factor>\n",
      "|    <factor> ' * ' <term>\n",
      "|    <factor> ' / ' <term>\n",
      "<factor +F1> ::=\n",
      "|    '(' <expr +F1> ')'\n",
      "|    '(' <expr L1_1> ')'\n",
      "|    '+' <factor +F1>\n",
      "|    '-' <factor +F1>\n",
      "<factor> ::=\n",
      "|    '(' <expr> ')'\n",
      "|    '+' <factor>\n",
      "|    '-' <factor>\n",
      "|    <integer>\n",
      "|    <integer> '.' <integer>\n",
      "<expr L1_1> ::=\n",
      "|    <term L1_1>\n",
      "<term L1_1> ::=\n",
      "|    <factor L1_2>\n",
      "<factor L1_2> ::=\n",
      "|    '(' <expr> ')'\n",
      "<integer> ::=\n",
      "|    <digit>\n",
      "|    <digit> <integer>\n",
      "<digit> ::=\n",
      "|    '0'\n",
      "|    '1'\n",
      "|    '2'\n",
      "|    '3'\n",
      "|    '4'\n",
      "|    '5'\n",
      "|    '6'\n",
      "|    '7'\n",
      "|    '8'\n",
      "|    '9'\n",
      "12 41\n"
     ]
    },
    {
     "data": {
      "text/plain": [
       "'<start +F1>'"
      ]
     },
     "execution_count": 192,
     "metadata": {},
     "output_type": "execute_result"
    }
   ],
   "source": [
    "%%top\n",
    "Gs(faulty1_grammar)\n",
    "faulty1_start"
   ]
  },
  {
   "cell_type": "code",
   "execution_count": 193,
   "metadata": {},
   "outputs": [],
   "source": [
    "#%%top\n",
    "faulty1_fuzzer = LimitFuzzer(faulty1_grammar)\n",
    "faulty1_parser = Parser(faulty1_grammar, canonical=True, start_symbol=faulty1_start)"
   ]
  },
  {
   "cell_type": "code",
   "execution_count": 194,
   "metadata": {},
   "outputs": [
    {
     "name": "stdout",
     "output_type": "stream",
     "text": [
      "((-6.0 + 4.5 * 1.1 - 3 + 0)) / -31.4\n",
      "-+--((3))\n",
      "((0 * 4.8 / 4.4) * (6 * 6 + 6 - 2) * --2.4 - 7.7 * -((0.7)) * 9.1 + 8.0 + -5 * 1 / 2)\n",
      "(-(8)) * -(9 / -((7.7)) / 5 * 1.4 + 2 + 7 - 4.8 + 1) * (41.03 + (1.6) / 9.7 * 2.1 + 4.1) * 31 / (4.8 * 6.4 - 4 - 6) + 0 * -8.8 - (1 * -7.3 / 8 * 9 - +4 * 0 + 1) + 255 / +8.3 / 3 * +4 + -(8.3 - 9.7) / 6 / (2.8) - (4.7 + 4) + -4.5 * 4 / 9.2\n",
      "564 / (+25 * +4 + -0 / 0 * 5.5 / 4.4) * (8 * +4.0) / 7.2 / 75 + ((8.0 / 8)) * (+(0.4) / 3 - (8) * 3.8 + 5.3 / 5 + 3)\n",
      "7 * 16 * (24.75) * ((9.8))\n",
      "26573.31 * +-38.3 * (-((8.8)) * 6 * 5.3 / 8.5 - 6 / 0.2 / 2.6) - (5.142 - (5.4) / 6.6 / 9.7 * 7.6 - +4.5 + 6 * 0.4 - 8.4 + 5.7) / 59.2 / +60 / +3 - 27 / -+-(0.0) - ++(7 + 4.0)\n",
      "(--+6 * (8 / 1.1 - 6.9 + 2) * +-8 / 5.0 - 8 * 46.67 / +2.4 - 31.8 / (5) / 4 / 5 + +4.4 / 8 / 6.8 + 7.8 / 5 - 1.2 - 1) * 9.6 / 9.3 / +(5.1 * 0.2 + 2 + 6.0) + ++(6 * 8.2 - 5 / ((7.4)) * 5.9 - 0.4 + 9.4) / -496 + -+-(9)\n",
      "(5 * (6 / 4 + 4) / (8) / +6.3 * 7.6 + 3 / +0.6 * -3.6 / 3 - -2 - 5 - 7.6) + (32.421 * ((3))) - -8\n",
      "-(540.296 / +4 * 6.3 / 2.0) / 624.1 * --+(((1.6)) / 3.2 + 3.0)\n"
     ]
    }
   ],
   "source": [
    "%%top\n",
    "for i in range(10):\n",
    "    s = faulty1_fuzzer.fuzz(key=faulty1_start)\n",
    "    print(s)\n",
    "    assert faulty1_parser.can_parse(s)\n",
    "    assert '((' in s and '))' in s"
   ]
  },
  {
   "cell_type": "markdown",
   "metadata": {},
   "source": [
    "A few parses"
   ]
  },
  {
   "cell_type": "code",
   "execution_count": 195,
   "metadata": {},
   "outputs": [],
   "source": [
    "%top assert faulty1_parser.can_parse('((2))')"
   ]
  },
  {
   "cell_type": "code",
   "execution_count": 196,
   "metadata": {},
   "outputs": [],
   "source": [
    "%top assert faulty1_parser.can_parse('((1 + 1))')"
   ]
  },
  {
   "cell_type": "code",
   "execution_count": 197,
   "metadata": {},
   "outputs": [],
   "source": [
    "%top assert not faulty1_parser.can_parse('1 + 2')"
   ]
  },
  {
   "cell_type": "code",
   "execution_count": 198,
   "metadata": {},
   "outputs": [],
   "source": [
    "%top assert faulty1_parser.can_parse('1 + ((3))')"
   ]
  },
  {
   "cell_type": "markdown",
   "metadata": {},
   "source": [
    "## Removing a fault"
   ]
  },
  {
   "cell_type": "markdown",
   "metadata": {},
   "source": [
    "### Negated pattern grammar "
   ]
  },
  {
   "cell_type": "markdown",
   "metadata": {},
   "source": [
    "Given a pattern grammar and the correspoinding grammar, we produce a negated pattern grammar for it."
   ]
  },
  {
   "cell_type": "code",
   "execution_count": 199,
   "metadata": {},
   "outputs": [],
   "source": [
    "def negate_prefix(prefix):\n",
    "    assert ' ' not in prefix\n",
    "    return 'neg(%s)' % prefix"
   ]
  },
  {
   "cell_type": "code",
   "execution_count": 200,
   "metadata": {},
   "outputs": [],
   "source": [
    "def is_negative_key(key):\n",
    "    nk = refinement(key)\n",
    "    return nk[0:4] == 'neg('"
   ]
  },
  {
   "cell_type": "code",
   "execution_count": 201,
   "metadata": {},
   "outputs": [],
   "source": [
    "%top assert is_negative_key('<key neg(F1)>')"
   ]
  },
  {
   "cell_type": "code",
   "execution_count": 202,
   "metadata": {},
   "outputs": [],
   "source": [
    "def negate_base_key(k, prefix):\n",
    "    assert is_nt(k)\n",
    "    assert is_base_key(k)\n",
    "    return '<%s %s>' % (stem(k), negate_prefix(prefix))"
   ]
  },
  {
   "cell_type": "code",
   "execution_count": 203,
   "metadata": {},
   "outputs": [],
   "source": [
    "%top assert negate_base_key('<key>','F1') == '<key neg(F1)>'"
   ]
  },
  {
   "cell_type": "code",
   "execution_count": 204,
   "metadata": {},
   "outputs": [],
   "source": [
    "def negate_key(k):\n",
    "    assert is_nt(k)\n",
    "    assert refinement(k)\n",
    "    return '<%s %s>' % (stem(k), negate_prefix(refinement(k)))"
   ]
  },
  {
   "cell_type": "code",
   "execution_count": 205,
   "metadata": {},
   "outputs": [],
   "source": [
    "%top assert negate_key('<key F1>') == '<key neg(F1)>'"
   ]
  },
  {
   "cell_type": "code",
   "execution_count": 206,
   "metadata": {},
   "outputs": [],
   "source": [
    "def unnegate_key(k):\n",
    "    assert is_negative_key(k)\n",
    "    ref = refinement(k)\n",
    "    #neg()\n",
    "    return '<%s %s>' % (stem(k), ref[4:-1])"
   ]
  },
  {
   "cell_type": "code",
   "execution_count": 207,
   "metadata": {},
   "outputs": [],
   "source": [
    "%top assert unnegate_key('<key neg(F1)>')  == '<key F1>'"
   ]
  },
  {
   "cell_type": "code",
   "execution_count": 208,
   "metadata": {},
   "outputs": [],
   "source": [
    "def negate_key_at(rule, at):\n",
    "    new_rule = []\n",
    "    for i,key in enumerate(rule):\n",
    "        if i == at:\n",
    "            new_rule.append(negate_key(key))\n",
    "        else:\n",
    "            new_rule.append(key)\n",
    "    return new_rule"
   ]
  },
  {
   "cell_type": "code",
   "execution_count": 209,
   "metadata": {},
   "outputs": [],
   "source": [
    "def negate_a_base_rule_wrt_fault_in_pattern_grammar(base_rule, fault_key, reachable_keys, log=False):\n",
    "    assert reachable_keys is not None\n",
    "    assert not [k for k in base_rule if is_nt(k) and is_refined_key(k)]\n",
    "    # when we want to negate a base rule, we only produce a single negated rule with\n",
    "    # _all_ reachable points negated. This is because if any of these points allow reach\n",
    "    # of the fault, then fault can be present.\n",
    "    refinements = []\n",
    "    negated_rule = []\n",
    "    for i, token in enumerate(base_rule):\n",
    "        if not is_nt(token):\n",
    "            negated_rule.append(token)\n",
    "        elif normalize(fault_key) in reachable_keys[token]:\n",
    "            t = negate_base_key(token, refinement(fault_key))\n",
    "            refinements.append(t)\n",
    "            negated_rule.append(t)\n",
    "        else:\n",
    "            negated_rule.append(token)\n",
    "    return negated_rule, refinements"
   ]
  },
  {
   "cell_type": "code",
   "execution_count": 210,
   "metadata": {},
   "outputs": [],
   "source": [
    "%%top\n",
    "nrule, refs = negate_a_base_rule_wrt_fault_in_pattern_grammar(\n",
    "    ['(', '<expr>',')'], '<factor F1>', reachable_dict(EXPR_GRAMMAR))\n",
    "assert nrule == ['(', '<expr neg(F1)>', ')']\n",
    "assert refs == ['<expr neg(F1)>']"
   ]
  },
  {
   "cell_type": "code",
   "execution_count": 211,
   "metadata": {},
   "outputs": [],
   "source": [
    "%%top\n",
    "nrule, refs = negate_a_base_rule_wrt_fault_in_pattern_grammar(\n",
    "    ['<term>', '+', '<expr>'], '<factor F1>', reachable_dict(EXPR_GRAMMAR))\n",
    "assert nrule == ['<term neg(F1)>', '+', '<expr neg(F1)>']"
   ]
  },
  {
   "cell_type": "code",
   "execution_count": 212,
   "metadata": {},
   "outputs": [],
   "source": [
    "%%top\n",
    "nrule, refs = negate_a_base_rule_wrt_fault_in_pattern_grammar(\n",
    "    ['<integer>', '.', '<integer>'], '<factor F1>', reachable_dict(EXPR_GRAMMAR))\n",
    "assert nrule == ['<integer>', '.', '<integer>']"
   ]
  },
  {
   "cell_type": "markdown",
   "metadata": {},
   "source": [
    "How to negate a refined rule? The easiest part is terminals. They come as they are. Next, the refined keys. They get negated. Now, for unrefined keys. In a linear grammar, there should not be any. However, what we have are not strictly linear. There are abstractions involved.\n",
    "\n",
    "These can generate the _original_ charecteristic key. So, they need to be negated based on that."
   ]
  },
  {
   "cell_type": "markdown",
   "metadata": {},
   "source": [
    "The difference between `negate_a_refined_rule` and `negate_a_refined_rule_in_pattern_grammar` is that we know the fault_key (the charecteristic fault). So, we can check reachability."
   ]
  },
  {
   "cell_type": "code",
   "execution_count": 213,
   "metadata": {},
   "outputs": [],
   "source": [
    "def negate_a_refined_rule_in_pattern_grammar(refined_rule, fault_key, reachable_keys, log=False):\n",
    "    assert reachable_keys is not None\n",
    "    # TODO: check whether the rule is unrefined, and return early?\n",
    "    \n",
    "    # first, preprocess the rule\n",
    "    prefix = refinement(fault_key)\n",
    "    refinements = []\n",
    "    skip = []\n",
    "    # First, we refine our rule. Essentially, here, we negate any base keys that can reach the\n",
    "    # fault. These are essentially the holes in our patterns.\n",
    "    rerefined_rule = []\n",
    "    for i, t in enumerate(refined_rule):\n",
    "        if not is_nt(t):\n",
    "            t_ = t\n",
    "        elif not is_base_key(t):\n",
    "            t_ = t\n",
    "        # is faulty key reachable from the base key? If so, then we need to negate the\n",
    "        # base key.\n",
    "        elif normalize(fault_key) in reachable_keys[t]:\n",
    "            t_ = negate_base_key(t, prefix)\n",
    "            # The idea is to explode the expression that we want to evaluate to DNF, and\n",
    "            # check whether any of the negated fault keys exist in their own negated reachability grammars.\n",
    "            refinements.append(t_)\n",
    "            # At this point, this is no longer a base key. So make sure to record the position.\n",
    "            skip.append(i)\n",
    "        else:\n",
    "            t_ = t\n",
    "        rerefined_rule.append(t_)\n",
    "\n",
    "    # Now, we come to any refinements that are part of the pattern grammar. We want to produce multiple\n",
    "    # rules -- as many as there are negatable tokens in the rule. Each rule will have a single position\n",
    "    # negated from the refined_rule (and all base keys already negated).\n",
    "    negated_rules = []\n",
    "    found = False\n",
    "    for i, t in enumerate(rerefined_rule):\n",
    "        if not is_nt(t): continue\n",
    "        if is_base_key(t): continue # note: the base key definition has changed.\n",
    "        if i in skip: continue # Holes. We already negatd these.\n",
    "        negated_rules.append(negate_key_at(rerefined_rule, i))\n",
    "        found = True\n",
    "\n",
    "    # if there are no refinements found, then there is nothing to negate it against.\n",
    "    # which means that the match will happen if we add the rule as is. We want to prevent the\n",
    "    # match. So, \n",
    "    # if not found: <- NO\n",
    "    #    negated_rules.append(rerefined_rule)\n",
    "    \n",
    "    # e.g. '<factor L1_2>': [('(', '<expr>', ')')\n",
    "    # the trouble with unrefined (i.e no refined key to negate) is that negating it is empty.\n",
    "    if not found: \n",
    "        assert not [k for k in refined_rule if is_nt(k) and is_refined_key(k)]\n",
    "    else:\n",
    "        assert [k for k in refined_rule if is_nt(k) and is_refined_key(k)]\n",
    "    return negated_rules, refinements"
   ]
  },
  {
   "cell_type": "code",
   "execution_count": 214,
   "metadata": {},
   "outputs": [],
   "source": [
    "%%top\n",
    "assert negate_a_refined_rule_in_pattern_grammar(\n",
    "    ['(', '<expr F1>', ')'], '<factor F1>', reachable_dict(EXPR_GRAMMAR)) == (\n",
    "    [['(', '<expr neg(F1)>', ')']], [])"
   ]
  },
  {
   "cell_type": "code",
   "execution_count": 215,
   "metadata": {},
   "outputs": [],
   "source": [
    "%%top\n",
    "assert negate_a_refined_rule_in_pattern_grammar(\n",
    "    ['(', '<expr>', '+', '<expr L1>', ')'], '<factor F1>', reachable_dict(EXPR_GRAMMAR)) == (\n",
    "    [['(', '<expr neg(F1)>', '+', '<expr neg(L1)>', ')']],\n",
    "    ['<expr neg(F1)>'])"
   ]
  },
  {
   "cell_type": "markdown",
   "metadata": {},
   "source": [
    "How do we negate a definition (a list of rules)? Essentially, any rule in the base grammar that is not part of the list should also be added (taking care to negate all the base keys).\n",
    "\n",
    "Next, for a refined rule, we generate multiple rules from such, with one position at a time being negated to produce a new rule."
   ]
  },
  {
   "cell_type": "code",
   "execution_count": 216,
   "metadata": {},
   "outputs": [],
   "source": [
    "def negate_definition_in_pattern_grammar(fault_key, refined_rules, base_rules, reachable_keys, log=False):\n",
    "    assert reachable_keys\n",
    "    refinements = []\n",
    "    # the harder part. First, we find the rules in base_rules which\n",
    "    # do not match the pattern in any of the refined_rules.\n",
    "    # each of these rules could in principle, induce the fault again\n",
    "    # except for terminals and nonreachables. So, we need to negate them.\n",
    "\n",
    "    negated_rules_base = []\n",
    "    non_matching_base_rules = rule_normalized_difference(base_rules, refined_rules)\n",
    "    if log: print('> for fkey', fault_key, len(non_matching_base_rules))\n",
    "    for rule in non_matching_base_rules:\n",
    "        negated_rule, refs = negate_a_base_rule_wrt_fault_in_pattern_grammar(rule, fault_key, reachable_keys, log)\n",
    "        negated_rules_base.append(negated_rule)\n",
    "        refinements.extend(refs)\n",
    "        if log: print('>  ', negated_rule)\n",
    "            \n",
    "    # the simple part. Given the set of fules, we take one rule at a time,\n",
    "    # and genrate the negated ruleset from that.\n",
    "    negated_rules_refined = []\n",
    "    if log: print('> for fkey refined:', fault_key, len(refined_rules))\n",
    "    for ruleR in refined_rules:\n",
    "        neg_rules, refs = negate_a_refined_rule_in_pattern_grammar(ruleR, fault_key, reachable_keys, log)\n",
    "        negated_rules_refined.extend(neg_rules)\n",
    "        refinements.extend(refs)\n",
    "        \n",
    "    return negated_rules_refined + negated_rules_base, refinements"
   ]
  },
  {
   "cell_type": "code",
   "execution_count": 217,
   "metadata": {},
   "outputs": [
    {
     "data": {
      "text/plain": [
       "[['<term +F1>'],\n",
       " ['<term +F1>', ' + ', '<expr>'],\n",
       " ['<term +F1>', ' - ', '<expr>'],\n",
       " ['<term>', ' + ', '<expr +F1>'],\n",
       " ['<term>', ' - ', '<expr +F1>']]"
      ]
     },
     "execution_count": 217,
     "metadata": {},
     "output_type": "execute_result"
    }
   ],
   "source": [
    "%top faulty1_grammar['<expr +F1>']"
   ]
  },
  {
   "cell_type": "code",
   "execution_count": 218,
   "metadata": {},
   "outputs": [
    {
     "data": {
      "text/plain": [
       "([['<term neg(+F1)>'],\n",
       "  ['<term neg(+F1)>', ' + ', '<expr neg(+F1)>'],\n",
       "  ['<term neg(+F1)>', ' - ', '<expr neg(+F1)>'],\n",
       "  ['<term neg(+F1)>', ' + ', '<expr neg(+F1)>'],\n",
       "  ['<term neg(+F1)>', ' - ', '<expr neg(+F1)>']],\n",
       " ['<expr neg(+F1)>', '<expr neg(+F1)>', '<term neg(+F1)>', '<term neg(+F1)>'])"
      ]
     },
     "execution_count": 218,
     "metadata": {},
     "output_type": "execute_result"
    }
   ],
   "source": [
    "%%top\n",
    "negate_definition_in_pattern_grammar('<factor +F1>', faulty1_grammar['<expr +F1>'],\n",
    "                                       EXPR_GRAMMAR['<expr>'], reachable_dict(EXPR_GRAMMAR))"
   ]
  },
  {
   "cell_type": "markdown",
   "metadata": {},
   "source": [
    "Negating a linear grammar is fairly simple. Take a definition at a time, and negate it."
   ]
  },
  {
   "cell_type": "code",
   "execution_count": 219,
   "metadata": {},
   "outputs": [],
   "source": [
    "def negated_pattern_grammar(pattern_grammar, pattern_start, fault_key, base_grammar, log=False):\n",
    "    assert normalize(fault_key) == normalize(pattern_start)\n",
    "    reachable_keys = reachable_dict(base_grammar)\n",
    "    negated_grammar = {}\n",
    "    refinements = []\n",
    "    for l_key in pattern_grammar:\n",
    "        l_rule = pattern_grammar[l_key][0]\n",
    "        nl_key = negate_key(l_key)\n",
    "        if log: print(l_key, '->', nl_key, ':', l_rule)\n",
    "        # find all rules that do not match, and add to negated_grammar,\n",
    "        # taking care to make sure reachabiity of keys.\n",
    "        normal_l_key = normalize(l_key)\n",
    "        base_rules = base_grammar[normal_l_key]\n",
    "        refined_rules = pattern_grammar[l_key]\n",
    "        \n",
    "        negated_rules, refs = negate_definition_in_pattern_grammar(fault_key, refined_rules, base_rules,\n",
    "                                                                reachable_keys, log)\n",
    "        # TODO does negated_rules require `and` of similar rules? (see self negation)\n",
    "        # The problem is that, for pattern grammar, there is only a single rule.\n",
    "\n",
    "        negated_grammar[nl_key] = negated_rules\n",
    "        refinements.extend(refs)\n",
    "    # these are all negations in the original grammar. They will come later.\n",
    "    return negated_grammar, negate_key(pattern_start), refinements"
   ]
  },
  {
   "cell_type": "code",
   "execution_count": 220,
   "metadata": {},
   "outputs": [
    {
     "name": "stdout",
     "output_type": "stream",
     "text": [
      "<factor>\n",
      "   ['+', '<factor>']\n",
      "   ['-', '<factor>']\n",
      "   ['(', '<expr>', ')']\n",
      "   ['<integer>', '.', '<integer>']\n",
      "   ['<integer>']\n",
      "<expr>\n",
      "   ['<term>', ' + ', '<expr>']\n",
      "   ['<term>', ' - ', '<expr>']\n",
      "   ['<term>']\n",
      "<term>\n",
      "   ['<factor>', ' * ', '<term>']\n",
      "   ['<factor>', ' / ', '<term>']\n",
      "   ['<factor>']\n",
      "<factor>\n",
      "   ['+', '<factor>']\n",
      "   ['-', '<factor>']\n",
      "   ['(', '<expr>', ')']\n",
      "   ['<integer>', '.', '<integer>']\n",
      "   ['<integer>']\n"
     ]
    }
   ],
   "source": [
    "%%top\n",
    "for k in lg1:\n",
    "    k1 = normalize(k)\n",
    "    print(k1)\n",
    "    for rule in EXPR_GRAMMAR[k1]:\n",
    "        print('  ', rule)"
   ]
  },
  {
   "cell_type": "code",
   "execution_count": 221,
   "metadata": {},
   "outputs": [
    {
     "name": "stdout",
     "output_type": "stream",
     "text": [
      "<factor L1_1> ::=\n",
      "|    '(' <expr L1_1> ')'\n",
      "<expr L1_1> ::=\n",
      "|    <term L1_1>\n",
      "<term L1_1> ::=\n",
      "|    <factor L1_2>\n",
      "<factor L1_2> ::=\n",
      "|    '(' <expr> ')'\n",
      "4 4\n"
     ]
    }
   ],
   "source": [
    "%top Gs(lg1)"
   ]
  },
  {
   "cell_type": "code",
   "execution_count": 222,
   "metadata": {},
   "outputs": [],
   "source": [
    "#%%top\n",
    "nlg1, nls1, refs = negated_pattern_grammar(lg1, ls1, '<factor F1>', EXPR_GRAMMAR)"
   ]
  },
  {
   "cell_type": "code",
   "execution_count": 223,
   "metadata": {},
   "outputs": [
    {
     "name": "stdout",
     "output_type": "stream",
     "text": [
      "<factor neg(L1_1)> ::=\n",
      "|    '(' <expr neg(L1_1)> ')'\n",
      "|    '+' <factor neg(F1)>\n",
      "|    '-' <factor neg(F1)>\n",
      "|    <integer> '.' <integer>\n",
      "|    <integer>\n",
      "<expr neg(L1_1)> ::=\n",
      "|    <term neg(L1_1)>\n",
      "|    <term neg(F1)> ' + ' <expr neg(F1)>\n",
      "|    <term neg(F1)> ' - ' <expr neg(F1)>\n",
      "<term neg(L1_1)> ::=\n",
      "|    <factor neg(L1_2)>\n",
      "|    <factor neg(F1)> ' * ' <term neg(F1)>\n",
      "|    <factor neg(F1)> ' / ' <term neg(F1)>\n",
      "<factor neg(L1_2)> ::=\n",
      "|    '+' <factor neg(F1)>\n",
      "|    '-' <factor neg(F1)>\n",
      "|    <integer> '.' <integer>\n",
      "|    <integer>\n",
      "4 15\n",
      "> <factor neg(F1)>\n",
      "> <factor neg(F1)>\n",
      "> <term neg(F1)>\n",
      "> <expr neg(F1)>\n",
      "> <term neg(F1)>\n",
      "> <expr neg(F1)>\n",
      "> <factor neg(F1)>\n",
      "> <term neg(F1)>\n",
      "> <factor neg(F1)>\n",
      "> <term neg(F1)>\n",
      "> <factor neg(F1)>\n",
      "> <factor neg(F1)>\n",
      "> <expr neg(F1)>\n"
     ]
    },
    {
     "data": {
      "text/plain": [
       "'<factor neg(L1_1)>'"
      ]
     },
     "execution_count": 223,
     "metadata": {},
     "output_type": "execute_result"
    }
   ],
   "source": [
    "%%top\n",
    "Gs(nlg1)\n",
    "for r in refs:\n",
    "    print('>', r)\n",
    "nls1"
   ]
  },
  {
   "cell_type": "markdown",
   "metadata": {},
   "source": [
    "### Remove from key\n",
    "\n",
    "We need to define the `remove_from_key` first. The idea is that the fault does not occur in any of the reachable nonterminals."
   ]
  },
  {
   "cell_type": "code",
   "execution_count": 224,
   "metadata": {},
   "outputs": [],
   "source": [
    "def remove_all_instances_of_fault_from_key(grammar, key, fsym, prefix, reachable):\n",
    "    ref = refinement(to_fkey_prefix(fsym, prefix, FKey.atleast))\n",
    "    rules = grammar[key]\n",
    "    my_rules = []\n",
    "    for rule in grammar[key]:\n",
    "        positions = get_reachable_positions(rule, fsym, reachable)\n",
    "        if not positions: # make it len(positions) >= n if necessary\n",
    "            # add this rule as is because we cannot embed the fault here.\n",
    "            my_rules.append(rule)\n",
    "        else:\n",
    "            # at each position, insert the fsym\n",
    "            new_rule = []\n",
    "            for pos, token in enumerate(rule):\n",
    "                if pos in positions:\n",
    "                    t = negate_base_key(rule[pos], ref)\n",
    "                else:\n",
    "                    t = token\n",
    "                new_rule.append(t)\n",
    "            my_rules.append(new_rule)\n",
    "    return (negate_base_key(key, ref), my_rules)"
   ]
  },
  {
   "cell_type": "code",
   "execution_count": 225,
   "metadata": {},
   "outputs": [
    {
     "name": "stdout",
     "output_type": "stream",
     "text": [
      "<start neg(+F1)>\n",
      "     ['<expr neg(+F1)>']\n",
      "\n",
      "<expr neg(+F1)>\n",
      "     ['<term neg(+F1)>', ' + ', '<expr neg(+F1)>']\n",
      "     ['<term neg(+F1)>', ' - ', '<expr neg(+F1)>']\n",
      "     ['<term neg(+F1)>']\n",
      "\n",
      "<term neg(+F1)>\n",
      "     ['<factor neg(+F1)>', ' * ', '<term neg(+F1)>']\n",
      "     ['<factor neg(+F1)>', ' / ', '<term neg(+F1)>']\n",
      "     ['<factor neg(+F1)>']\n",
      "\n",
      "<factor neg(+F1)>\n",
      "     ['+', '<factor neg(+F1)>']\n",
      "     ['-', '<factor neg(+F1)>']\n",
      "     ['(', '<expr neg(+F1)>', ')']\n",
      "     ['<integer>', '.', '<integer>']\n",
      "     ['<integer>']\n",
      "\n",
      "<integer neg(+F1)>\n",
      "     ['<digit>', '<integer>']\n",
      "     ['<digit>']\n",
      "\n",
      "<digit neg(+F1)>\n",
      "     ['0']\n",
      "     ['1']\n",
      "     ['2']\n",
      "     ['3']\n",
      "     ['4']\n",
      "     ['5']\n",
      "     ['6']\n",
      "     ['7']\n",
      "     ['8']\n",
      "     ['9']\n",
      "\n"
     ]
    }
   ],
   "source": [
    "%%top\n",
    "for key in EXPR_GRAMMAR:\n",
    "    fk, rules = remove_all_instances_of_fault_from_key(EXPR_GRAMMAR, key, '<factor>', '1', reachable1)\n",
    "    print(fk)\n",
    "    for r in rules:\n",
    "        print('    ', r)\n",
    "    print()"
   ]
  },
  {
   "cell_type": "markdown",
   "metadata": {},
   "source": [
    "### Remove from grammar"
   ]
  },
  {
   "cell_type": "code",
   "execution_count": 226,
   "metadata": {},
   "outputs": [],
   "source": [
    "def remove_all_instances_of_fault_from_grammar(grammar, fsym, prefix_f, reachable):\n",
    "    new_grammar = {}\n",
    "    for key in grammar:\n",
    "        fk, rules = remove_all_instances_of_fault_from_key(grammar, key, fsym, prefix_f, reachable)\n",
    "        #if not rules: continue # no applicable rules\n",
    "        assert rules # there will be rules here because negation will not remove any rule.\n",
    "        if fk not in new_grammar:\n",
    "            new_grammar[fk] = []\n",
    "        new_grammar[fk].extend(rules)\n",
    "    return new_grammar"
   ]
  },
  {
   "cell_type": "markdown",
   "metadata": {},
   "source": [
    "### Get the final grammar"
   ]
  },
  {
   "cell_type": "markdown",
   "metadata": {},
   "source": [
    "The final steps are as follows:\n",
    "1. Add the fault node, and the child nodes to the grammar.\n",
    "2. Generate the faulty key definitions. This is done per key in the original grammar.\n",
    "3. Finally, connect the faulty key and fault node."
   ]
  },
  {
   "cell_type": "code",
   "execution_count": 227,
   "metadata": {},
   "outputs": [],
   "source": [
    "def no_fault_grammar(grammar, start_symbol, fault_node, f_idx, log=False):\n",
    "    def L_prefix(i): return str(i)\n",
    "    def F_prefix(i): return str(i)\n",
    "    prefix_l = L_prefix(f_idx)\n",
    "    prefix_f = F_prefix(f_idx)\n",
    "    key_f = fault_node[0]\n",
    "    assert key_f in grammar\n",
    "    # First, get the pattern grammar\n",
    "\n",
    "    fsym = to_fkey_prefix(key_f, prefix_f, FKey.atleast)\n",
    "    noreaching_fsym = negate_key(fsym)\n",
    "\n",
    "    pattern_g, pattern_s = faulty_node_to_pattern_grammar(fault_node, prefix_l)\n",
    "    npattern_g, npattern_s, refs = negated_pattern_grammar(pattern_g, pattern_s, fsym, grammar, log)\n",
    "    reachable_keys = reachable_dict(grammar)\n",
    "    # the new grammar contains the faulty keys and their definitions.\n",
    "    # next, want to insert the fault prefix_f into each insertable positions. \n",
    "    # the insertable locations are those that can reach fsym\n",
    "    noreach_g = remove_all_instances_of_fault_from_grammar(grammar, key_f, prefix_f, reachable_keys)\n",
    "    for key in refs: assert key in noreach_g\n",
    "\n",
    "    # now, the faulty key is an alternative to the original.\n",
    "    # We have to take care of one thing though. The `fkey` in the pattern grammar should\n",
    "    # be replaced with fsym, but the definitions kept. This is because we want to preserve\n",
    "    # the rule patterns. We do not want normal expansions to go through since it may mean\n",
    "    # no fault inserted. However, we want self recursion to happen.\n",
    "    \n",
    "    combined_grammar = {**grammar, **npattern_g, **noreach_g}\n",
    "    new_rules = npattern_g[npattern_s] # get the negated pattern rule\n",
    "    \n",
    "    combined_grammar[noreaching_fsym] = new_rules\n",
    "    \n",
    "    return combined_grammar, negate_base_key(start_symbol, refinement(fsym))"
   ]
  },
  {
   "cell_type": "code",
   "execution_count": 228,
   "metadata": {},
   "outputs": [
    {
     "data": {
      "text/plain": [
       "'<factor>'"
      ]
     },
     "execution_count": 228,
     "metadata": {},
     "output_type": "execute_result"
    }
   ],
   "source": [
    "%top node_faulty1[0]"
   ]
  },
  {
   "cell_type": "code",
   "execution_count": 229,
   "metadata": {},
   "outputs": [],
   "source": [
    "#%%top\n",
    "nfaulty1_grammar, nfaulty1_start = no_fault_grammar(EXPR_GRAMMAR, EXPR_START, node_faulty1, 1)"
   ]
  },
  {
   "cell_type": "code",
   "execution_count": 230,
   "metadata": {
    "scrolled": false
   },
   "outputs": [
    {
     "name": "stdout",
     "output_type": "stream",
     "text": [
      "<start> ::=\n",
      "|    <expr>\n",
      "<expr> ::=\n",
      "|    <term> ' + ' <expr>\n",
      "|    <term> ' - ' <expr>\n",
      "|    <term>\n",
      "<term> ::=\n",
      "|    <factor> ' * ' <term>\n",
      "|    <factor> ' / ' <term>\n",
      "|    <factor>\n",
      "<factor> ::=\n",
      "|    '+' <factor>\n",
      "|    '-' <factor>\n",
      "|    '(' <expr> ')'\n",
      "|    <integer> '.' <integer>\n",
      "|    <integer>\n",
      "<integer> ::=\n",
      "|    <digit> <integer>\n",
      "|    <digit>\n",
      "<digit> ::=\n",
      "|    '0'\n",
      "|    '1'\n",
      "|    '2'\n",
      "|    '3'\n",
      "|    '4'\n",
      "|    '5'\n",
      "|    '6'\n",
      "|    '7'\n",
      "|    '8'\n",
      "|    '9'\n",
      "<factor neg(L1_1)> ::=\n",
      "|    '(' <expr neg(L1_1)> ')'\n",
      "|    '+' <factor neg(+F1)>\n",
      "|    '-' <factor neg(+F1)>\n",
      "|    <integer> '.' <integer>\n",
      "|    <integer>\n",
      "<expr neg(L1_1)> ::=\n",
      "|    <term neg(L1_1)>\n",
      "|    <term neg(+F1)> ' + ' <expr neg(+F1)>\n",
      "|    <term neg(+F1)> ' - ' <expr neg(+F1)>\n",
      "<term neg(L1_1)> ::=\n",
      "|    <factor neg(L1_2)>\n",
      "|    <factor neg(+F1)> ' * ' <term neg(+F1)>\n",
      "|    <factor neg(+F1)> ' / ' <term neg(+F1)>\n",
      "<factor neg(L1_2)> ::=\n",
      "|    '+' <factor neg(+F1)>\n",
      "|    '-' <factor neg(+F1)>\n",
      "|    <integer> '.' <integer>\n",
      "|    <integer>\n",
      "<start neg(+F1)> ::=\n",
      "|    <expr neg(+F1)>\n",
      "<expr neg(+F1)> ::=\n",
      "|    <term neg(+F1)> ' + ' <expr neg(+F1)>\n",
      "|    <term neg(+F1)> ' - ' <expr neg(+F1)>\n",
      "|    <term neg(+F1)>\n",
      "<term neg(+F1)> ::=\n",
      "|    <factor neg(+F1)> ' * ' <term neg(+F1)>\n",
      "|    <factor neg(+F1)> ' / ' <term neg(+F1)>\n",
      "|    <factor neg(+F1)>\n",
      "<factor neg(+F1)> ::=\n",
      "|    '(' <expr neg(L1_1)> ')'\n",
      "|    '+' <factor neg(+F1)>\n",
      "|    '-' <factor neg(+F1)>\n",
      "|    <integer> '.' <integer>\n",
      "|    <integer>\n",
      "<integer neg(+F1)> ::=\n",
      "|    <digit> <integer>\n",
      "|    <digit>\n",
      "<digit neg(+F1)> ::=\n",
      "|    '0'\n",
      "|    '1'\n",
      "|    '2'\n",
      "|    '3'\n",
      "|    '4'\n",
      "|    '5'\n",
      "|    '6'\n",
      "|    '7'\n",
      "|    '8'\n",
      "|    '9'\n",
      "16 63\n"
     ]
    },
    {
     "data": {
      "text/plain": [
       "'<start neg(+F1)>'"
      ]
     },
     "execution_count": 230,
     "metadata": {},
     "output_type": "execute_result"
    }
   ],
   "source": [
    "%%top\n",
    "Gs(nfaulty1_grammar)\n",
    "# nfaulty1_grammar, nfaulty1_start = grammar_gc(nfaulty1_grammar_, nfaulty1_start)\n",
    "# Gs(nfaulty1_grammar)\n",
    "nfaulty1_start"
   ]
  },
  {
   "cell_type": "code",
   "execution_count": 231,
   "metadata": {},
   "outputs": [],
   "source": [
    "#%%top\n",
    "nfaulty1_fuzzer = LimitFuzzer(nfaulty1_grammar)\n",
    "nfaulty1_parser = Parser(nfaulty1_grammar, canonical=True, start_symbol=nfaulty1_start)"
   ]
  },
  {
   "cell_type": "code",
   "execution_count": 232,
   "metadata": {},
   "outputs": [
    {
     "name": "stdout",
     "output_type": "stream",
     "text": [
      "480 / 6.6 / 94077.3611 + 2\n",
      "-80960.887\n",
      "9 * -(4.1 / +3) * -95 * --(8 + 8) - 2 / 7 / 72 - 15.2 * (+6 * 7.0 / 7 + 3.6 * 1.8) / (0 / 7.7) * +5.0 * -5 * 7 / 2.7 + 76.4986 / 19 / 9.3 - +-+4 + 8 * -1 / 1 / 8.5 - -2 * 9.2 / 2.6 + 9 / 4.6 + 1.9\n",
      "-269006.3 / (-(7.0 + 3) / 40 + 91.4) / 34.25 + 22.09 / 7793.9 / 2.58 / +66.83 + -+2.8 * 5.773 + 2690.111 / (5.2 * 5 + 1.8 + 9.7) * 1.8 * -4 - +65 * +(5.2) / +8.1 / 9.2\n",
      "25 / 0486.981 * --489.0 / ((1) * 5.8) / 484.5 * +-7\n",
      "(-(9.4 - 5) * +7.33 + 224 / +8 / (9.3) - +(0.5) * (2.5) + +4 + 3 + 0 - 4) * 8237.74 * +-+(6 - 7) * 743.0 / 5 / +3.4 * -1 / 9 - +(70 * +6 / 1 + +0 * 2 + 0 * 2.8 - 1.6 + 7.9)\n",
      "2.9 - 2 * +2.10 / --44.4 + (37.0 - 5.7 * 2.6 / 8.4) / (5 * 1.2 * 9) + 2718.6807 * 328 / +(9.5) * 8 / 6 / 7.6\n",
      "+(-77 * 0 / +7.9 * 9 / 6 + (9.2 + 6)) / 1.7397\n",
      "+766 / 2 * +53 / -(6.2 / 4.5) * +(8.9) - 3.13 / 901 * -199 - 7 + -(3 + 4) * -2 - 9 * -(1) / 2 - 24.31 - (9) / 7 * 8.6 - 3 - 1.2 - 1\n",
      "+-+-8.7 / 6832 / --067 * 6311.11 / -(9.6 - 7)\n"
     ]
    }
   ],
   "source": [
    "%%top\n",
    "for i in range(10):\n",
    "    s = nfaulty1_fuzzer.fuzz(key=nfaulty1_start)\n",
    "    print(s)\n",
    "    assert nfaulty1_parser.can_parse(s)\n",
    "    assert not faulty1_parser.can_parse(s)"
   ]
  },
  {
   "cell_type": "markdown",
   "metadata": {},
   "source": [
    "A few parses"
   ]
  },
  {
   "cell_type": "code",
   "execution_count": 233,
   "metadata": {},
   "outputs": [],
   "source": [
    "%top assert not nfaulty1_parser.can_parse('((2))')"
   ]
  },
  {
   "cell_type": "code",
   "execution_count": 234,
   "metadata": {},
   "outputs": [],
   "source": [
    "%top assert not nfaulty1_parser.can_parse('((1 + 1))')"
   ]
  },
  {
   "cell_type": "code",
   "execution_count": 235,
   "metadata": {},
   "outputs": [],
   "source": [
    "%top assert nfaulty1_parser.parse('1 + 2')"
   ]
  },
  {
   "cell_type": "code",
   "execution_count": 236,
   "metadata": {},
   "outputs": [],
   "source": [
    "%top assert not nfaulty1_parser.can_parse('1 + ((3))')"
   ]
  },
  {
   "cell_type": "markdown",
   "metadata": {},
   "source": [
    "At this point, we can produce exactly one fault grammars and at most one fault grammars."
   ]
  },
  {
   "cell_type": "code",
   "execution_count": null,
   "metadata": {},
   "outputs": [],
   "source": []
  },
  {
   "cell_type": "markdown",
   "metadata": {},
   "source": [
    "## At most one fault"
   ]
  },
  {
   "cell_type": "markdown",
   "metadata": {},
   "source": [
    "### Remove except one from key"
   ]
  },
  {
   "cell_type": "code",
   "execution_count": 237,
   "metadata": {},
   "outputs": [],
   "source": [
    "def remove_all_faults_except_one_from_key(grammar, key, fsym, prefix, reachable):\n",
    "    ref = refinement(to_fkey_prefix(fsym, prefix, FKey.atleast)) # negation should be atleast\n",
    "    rules = grammar[key]\n",
    "    my_rules = []\n",
    "    for rule in grammar[key]:\n",
    "        positions = get_reachable_positions(rule, fsym, reachable)\n",
    "        if not positions: # make it len(positions) >= n if necessary\n",
    "            # add this rule as is because we can not embed the fault here.\n",
    "            my_rules.append(rule)\n",
    "        else:\n",
    "            # skip pos for each rule\n",
    "            for pos in positions:\n",
    "                new_rule = [to_fkey_prefix(t, prefix, FKey.atmost)\n",
    "                            if pos == p else  # at p position, there _may be_ a fault, but not in other places\n",
    "                            (negate_base_key(t, ref) if is_nt(t) else t)\n",
    "                            # change to FKey.exactly to make it exactly\n",
    "                            for p,t in enumerate(rule)]\n",
    "                my_rules.append(new_rule)\n",
    "    return (to_fkey_prefix(key, prefix, FKey.atmost), my_rules)"
   ]
  },
  {
   "cell_type": "code",
   "execution_count": 238,
   "metadata": {},
   "outputs": [
    {
     "name": "stdout",
     "output_type": "stream",
     "text": [
      "<start *F1>\n",
      "     ['<expr *F1>']\n",
      "\n",
      "<expr *F1>\n",
      "     ['<term *F1>', ' + ', '<expr neg(+F1)>']\n",
      "     ['<term neg(+F1)>', ' + ', '<expr *F1>']\n",
      "     ['<term *F1>', ' - ', '<expr neg(+F1)>']\n",
      "     ['<term neg(+F1)>', ' - ', '<expr *F1>']\n",
      "     ['<term *F1>']\n",
      "\n",
      "<term *F1>\n",
      "     ['<factor *F1>', ' * ', '<term neg(+F1)>']\n",
      "     ['<factor neg(+F1)>', ' * ', '<term *F1>']\n",
      "     ['<factor *F1>', ' / ', '<term neg(+F1)>']\n",
      "     ['<factor neg(+F1)>', ' / ', '<term *F1>']\n",
      "     ['<factor *F1>']\n",
      "\n",
      "<factor *F1>\n",
      "     ['+', '<factor *F1>']\n",
      "     ['-', '<factor *F1>']\n",
      "     ['(', '<expr *F1>', ')']\n",
      "     ['<integer>', '.', '<integer>']\n",
      "     ['<integer>']\n",
      "\n",
      "<integer *F1>\n",
      "     ['<digit>', '<integer>']\n",
      "     ['<digit>']\n",
      "\n",
      "<digit *F1>\n",
      "     ['0']\n",
      "     ['1']\n",
      "     ['2']\n",
      "     ['3']\n",
      "     ['4']\n",
      "     ['5']\n",
      "     ['6']\n",
      "     ['7']\n",
      "     ['8']\n",
      "     ['9']\n",
      "\n"
     ]
    }
   ],
   "source": [
    "%%top\n",
    "for key in EXPR_GRAMMAR:\n",
    "    fk, rules = remove_all_faults_except_one_from_key(EXPR_GRAMMAR, key, '<factor>', '1', reachable1)\n",
    "    print(fk)\n",
    "    for r in rules:\n",
    "        print('    ', r)\n",
    "    print()"
   ]
  },
  {
   "cell_type": "markdown",
   "metadata": {},
   "source": [
    "### Remove except one from grammar"
   ]
  },
  {
   "cell_type": "code",
   "execution_count": 239,
   "metadata": {},
   "outputs": [],
   "source": [
    "def remove_all_faults_except_one_from_grammar(grammar, fsym, prefix_f, reachable):\n",
    "    new_grammar = {}\n",
    "    for key in grammar:\n",
    "        fk, rules = remove_all_faults_except_one_from_key(grammar, key, fsym, prefix_f, reachable)\n",
    "        assert rules # there will be rules because negation is involved.\n",
    "        if fk not in new_grammar:\n",
    "            new_grammar[fk] = []\n",
    "        new_grammar[fk].extend(rules)\n",
    "    return new_grammar"
   ]
  },
  {
   "cell_type": "markdown",
   "metadata": {},
   "source": [
    "### Get the final grammar"
   ]
  },
  {
   "cell_type": "code",
   "execution_count": 240,
   "metadata": {},
   "outputs": [],
   "source": [
    "def atmost_one_fault_grammar(grammar, start_symbol, fault_node, f_idx, log=False):\n",
    "    def L_prefix(i): return str(i)\n",
    "    def F_prefix(i): return str(i)\n",
    "    prefix_l = L_prefix(f_idx)\n",
    "    prefix_f = F_prefix(f_idx)\n",
    "    key_f = fault_node[0]\n",
    "    assert key_f in grammar\n",
    "    # First, get the pattern grammar\n",
    "\n",
    "    fsym = to_fkey_prefix(key_f, prefix_f, FKey.atmost)\n",
    "    atleast_fsym = to_fkey_prefix(key_f, prefix_f, FKey.atleast)\n",
    "    noreaching_fsym = negate_key(atleast_fsym)\n",
    "    \n",
    "    pattern_g, pattern_s  = faulty_node_to_pattern_grammar(fault_node, prefix_l)\n",
    "    npattern_g, npattern_s, refs = negated_pattern_grammar(pattern_g, pattern_s, atleast_fsym, grammar, log)\n",
    "    reachable_keys = reachable_dict(grammar)\n",
    "    # the new grammar contains the faulty keys and their definitions.\n",
    "    # next, want to insert the fault prefix_f into each insertable positions. \n",
    "    # the insertable locations are those that can reach fsym\n",
    "    atmost_g = remove_all_faults_except_one_from_grammar(grammar, key_f, prefix_f, reachable_keys)\n",
    "\n",
    "    noreach_g = remove_all_instances_of_fault_from_grammar(grammar, key_f, prefix_f, reachable_keys)\n",
    "    negation_connect = npattern_g[npattern_s] # get the negated pattern rule\n",
    "    noreach_g[noreaching_fsym] = negation_connect\n",
    "\n",
    "    for key in refs: assert key in noreach_g, key\n",
    "    \n",
    "    # now, the faulty key is an alternative to the original.\n",
    "    # We have to take care of one thing though. The `fkey` in the linear grammar should\n",
    "    # be replaced with fsym, but the definitions kept. This is because we want to preserve\n",
    "    # the rule patterns. We do not want normal expansions to go through since it may mean\n",
    "    # no fault inserted. However, we want self recursion to happen.\n",
    "    pattern_rule = pattern_g[pattern_s][0]\n",
    "    \n",
    "    combined_grammar = {**grammar, **pattern_g, **npattern_g, **atmost_g, **noreach_g}\n",
    "    new_rules = pattern_g[pattern_s] # get the pattern rule\n",
    "   \n",
    "    combined_grammar[fsym].extend(new_rules)\n",
    "    #combined_grammar[fsym] = new_rules\n",
    "    return combined_grammar, to_fkey_prefix(start_symbol, F_prefix(f_idx), FKey.atmost)"
   ]
  },
  {
   "cell_type": "code",
   "execution_count": 241,
   "metadata": {},
   "outputs": [],
   "source": [
    "#%%top\n",
    "nfaultya1_grammar_, nfaultya1_start = atmost_one_fault_grammar(EXPR_GRAMMAR, EXPR_START, node_faulty1, 1)"
   ]
  },
  {
   "cell_type": "code",
   "execution_count": 242,
   "metadata": {},
   "outputs": [
    {
     "name": "stdout",
     "output_type": "stream",
     "text": [
      "26 96\n"
     ]
    },
    {
     "data": {
      "text/plain": [
       "'<start *F1>'"
      ]
     },
     "execution_count": 242,
     "metadata": {},
     "output_type": "execute_result"
    }
   ],
   "source": [
    "%%top\n",
    "Gs(nfaultya1_grammar_,-1)\n",
    "nfaultya1_start"
   ]
  },
  {
   "cell_type": "code",
   "execution_count": 243,
   "metadata": {},
   "outputs": [],
   "source": [
    "#%%top\n",
    "nfaultya1_grammar, nfaultya1_start = grammar_gc(nfaultya1_grammar_, nfaultya1_start)"
   ]
  },
  {
   "cell_type": "code",
   "execution_count": 244,
   "metadata": {
    "scrolled": false
   },
   "outputs": [
    {
     "name": "stdout",
     "output_type": "stream",
     "text": [
      "<start *F1> ::=\n",
      "|    <expr *F1>\n",
      "<expr *F1> ::=\n",
      "|    <term *F1>\n",
      "|    <term *F1> ' + ' <expr neg(+F1)>\n",
      "|    <term *F1> ' - ' <expr neg(+F1)>\n",
      "|    <term neg(+F1)> ' + ' <expr *F1>\n",
      "|    <term neg(+F1)> ' - ' <expr *F1>\n",
      "<term *F1> ::=\n",
      "|    <factor *F1>\n",
      "|    <factor *F1> ' * ' <term neg(+F1)>\n",
      "|    <factor *F1> ' / ' <term neg(+F1)>\n",
      "|    <factor neg(+F1)> ' * ' <term *F1>\n",
      "|    <factor neg(+F1)> ' / ' <term *F1>\n",
      "<expr neg(+F1)> ::=\n",
      "|    <term neg(+F1)>\n",
      "|    <term neg(+F1)> ' + ' <expr neg(+F1)>\n",
      "|    <term neg(+F1)> ' - ' <expr neg(+F1)>\n",
      "<term neg(+F1)> ::=\n",
      "|    <factor neg(+F1)>\n",
      "|    <factor neg(+F1)> ' * ' <term neg(+F1)>\n",
      "|    <factor neg(+F1)> ' / ' <term neg(+F1)>\n",
      "<factor *F1> ::=\n",
      "|    '(' <expr *F1> ')'\n",
      "|    '(' <expr L1_1> ')'\n",
      "|    '+' <factor *F1>\n",
      "|    '-' <factor *F1>\n",
      "|    <integer>\n",
      "|    <integer> '.' <integer>\n",
      "<factor neg(+F1)> ::=\n",
      "|    '(' <expr neg(L1_1)> ')'\n",
      "|    '+' <factor neg(+F1)>\n",
      "|    '-' <factor neg(+F1)>\n",
      "|    <integer>\n",
      "|    <integer> '.' <integer>\n",
      "<expr L1_1> ::=\n",
      "|    <term L1_1>\n",
      "<integer> ::=\n",
      "|    <digit>\n",
      "|    <digit> <integer>\n",
      "<term L1_1> ::=\n",
      "|    <factor L1_2>\n",
      "<factor L1_2> ::=\n",
      "|    '(' <expr> ')'\n",
      "<expr> ::=\n",
      "|    <term>\n",
      "|    <term> ' + ' <expr>\n",
      "|    <term> ' - ' <expr>\n",
      "<term> ::=\n",
      "|    <factor>\n",
      "|    <factor> ' * ' <term>\n",
      "|    <factor> ' / ' <term>\n",
      "<factor> ::=\n",
      "|    '(' <expr> ')'\n",
      "|    '+' <factor>\n",
      "|    '-' <factor>\n",
      "|    <integer>\n",
      "|    <integer> '.' <integer>\n",
      "<digit> ::=\n",
      "|    '0'\n",
      "|    '1'\n",
      "|    '2'\n",
      "|    '3'\n",
      "|    '4'\n",
      "|    '5'\n",
      "|    '6'\n",
      "|    '7'\n",
      "|    '8'\n",
      "|    '9'\n",
      "<expr neg(L1_1)> ::=\n",
      "|    <term neg(+F1)> ' + ' <expr neg(+F1)>\n",
      "|    <term neg(+F1)> ' - ' <expr neg(+F1)>\n",
      "|    <term neg(L1_1)>\n",
      "<term neg(L1_1)> ::=\n",
      "|    <factor neg(+F1)> ' * ' <term neg(+F1)>\n",
      "|    <factor neg(+F1)> ' / ' <term neg(+F1)>\n",
      "|    <factor neg(L1_2)>\n",
      "<factor neg(L1_2)> ::=\n",
      "|    '+' <factor neg(+F1)>\n",
      "|    '-' <factor neg(+F1)>\n",
      "|    <integer>\n",
      "|    <integer> '.' <integer>\n",
      "18 64\n"
     ]
    },
    {
     "data": {
      "text/plain": [
       "'<start *F1>'"
      ]
     },
     "execution_count": 244,
     "metadata": {},
     "output_type": "execute_result"
    }
   ],
   "source": [
    "%%top\n",
    "Gs(nfaultya1_grammar)\n",
    "nfaultya1_start"
   ]
  },
  {
   "cell_type": "code",
   "execution_count": 245,
   "metadata": {},
   "outputs": [],
   "source": [
    "#%%top\n",
    "nfaultya1_fuzzer = LimitFuzzer(nfaultya1_grammar)\n",
    "nfaultya1_parser = Parser(nfaultya1_grammar, canonical=True, start_symbol=nfaultya1_start)"
   ]
  },
  {
   "cell_type": "code",
   "execution_count": 246,
   "metadata": {
    "scrolled": false
   },
   "outputs": [
    {
     "name": "stdout",
     "output_type": "stream",
     "text": [
      "0.24 / +92 / 762 / -8.51 - +94.3\n",
      "((4 / 4)) - 89 + (9 / (7.5)) * 097 * +39 * 36.90 + ++(9) / +-2.7 / (2 - 0.4) * +3\n",
      "+7.046 / 874851 / (7.3 * (2) / 0.1 / 5 - 4 - 8 / 0 + 3.9 + 6.6) - --63.1 * +361.760 - 2 * +(8 / 7.8 + 4 + 6.9) - (9.3 / 7 + 7 * 1.5 + 6.6 + 9) * +-4 / 2 * 5.4 * 7 / 3 - (1.8 / 4.7 - 6 + 4) - 8.6 / (7.8) + (5)\n",
      "-16 / -((4) * -8 * 2.1) + (--1 * --8 * 6.1 * 0) * +((8)) * +-(9.1 + 5.0) + +(8.1) * 4.5 * 00 / (5 + 0.0) + 0\n",
      "((+1.0 / 6.5 * 2 - 7 + 2 - 4.2)) * ++0.5 - --349 - -+5 * -(9 / 7.3 - 4.1 + 1.2) + --4.05 / 39\n",
      "467.60 * 69 * 25.9 + -5.38775 * 66.38 / 9.1073 + 221 * 21.59 * +(7.2) * (2 + 1) * -2.8 * 2 / 1 - 74.99 / -+-3 / 2 / (4) / 8.4 / 1 + 7.641 / (6.9) / +1 * 6 - -4 - -7\n",
      "+25 / +-+5.9 / +2771.64 / -06 / (5.6 * 7 + 0) / (6.2) - --58.3 / -3174 / (3 / 0.9 + 3 + 3)\n",
      "----5 / 6158.23 * 69 * +(8 + 2) / (5.3 / 9.9) - -+9 / 1 * ((2) / 2.4) * (3.1 * 7) * --6 / 5 + (++2.4 * -4.9 * 2 * 4) * 1.3 + +-+1.3 / -+(7) / --1 - (2.6 - 8.0 + 3) + -5.9 * 4 - -9.3 * 8.1 + 3 * 1 - 0.0 - 8\n",
      "((8.6 / 9.4 / 9) + 601 * 2.04 / (4) - 92.6 - 7 * 6 - 6.8 * 4 - 5.9 + 7) / 203.0 - -1.20245 * 6 / 7 * +56.0 - ((3.0) / 5.1 - 2.7 * 8.9 - 2 + 6.4 - 0.5) * 2.9 * (8 * 9.5 + 4.1 + 5.3) * ++2 * 4.0 - -1 * -(0.1) - ((6.3)) * -+1.8 * +5 * 9.3 * 4 - -(5) - -7 - 8\n",
      "0.8 / --3 * +-++6.9 + 47 * +((7) * 9.4 + 5.1 + 0.4 - 3) - 24.29 - 5.838 + (1 * 1.8) * 9 / (4) / 9.0\n"
     ]
    }
   ],
   "source": [
    "%%top\n",
    "for i in range(10):\n",
    "    s = nfaultya1_fuzzer.fuzz(key=nfaultya1_start)\n",
    "    print(s)\n",
    "    for t in nfaultya1_parser.parse(s):\n",
    "        assert tree_to_str(t) == s"
   ]
  },
  {
   "cell_type": "markdown",
   "metadata": {},
   "source": [
    "A few parses"
   ]
  },
  {
   "cell_type": "code",
   "execution_count": 247,
   "metadata": {},
   "outputs": [],
   "source": [
    "%top assert nfaultya1_parser.can_parse('((2))')"
   ]
  },
  {
   "cell_type": "code",
   "execution_count": 248,
   "metadata": {},
   "outputs": [],
   "source": [
    "%top assert nfaultya1_parser.can_parse('((1 + 1))')"
   ]
  },
  {
   "cell_type": "code",
   "execution_count": 249,
   "metadata": {},
   "outputs": [],
   "source": [
    "%top assert nfaultya1_parser.can_parse('1 + 2')"
   ]
  },
  {
   "cell_type": "code",
   "execution_count": 250,
   "metadata": {},
   "outputs": [],
   "source": [
    "%top assert nfaultya1_parser.can_parse('1 + ((3))')"
   ]
  },
  {
   "cell_type": "code",
   "execution_count": 251,
   "metadata": {},
   "outputs": [],
   "source": [
    "%top assert not nfaultya1_parser.can_parse('((1)) + ((3))')"
   ]
  },
  {
   "cell_type": "code",
   "execution_count": 252,
   "metadata": {},
   "outputs": [],
   "source": [
    "%top assert not nfaultya1_parser.can_parse('((1 + 3)) + (1) - ((2))')"
   ]
  },
  {
   "cell_type": "code",
   "execution_count": 253,
   "metadata": {},
   "outputs": [],
   "source": [
    "%top assert nfaultya1_parser.can_parse('((1 + 3)) + (1) - (2 + (2))')"
   ]
  },
  {
   "cell_type": "code",
   "execution_count": null,
   "metadata": {},
   "outputs": [],
   "source": []
  },
  {
   "cell_type": "markdown",
   "metadata": {},
   "source": [
    "## Exactly one fault grammar"
   ]
  },
  {
   "cell_type": "markdown",
   "metadata": {},
   "source": [
    "### Keep exactly one at key"
   ]
  },
  {
   "cell_type": "code",
   "execution_count": 254,
   "metadata": {},
   "outputs": [],
   "source": [
    "def keep_exactly_one_fault_at_key(grammar, key, fsym, prefix, reachable):\n",
    "    ref = refinement(to_fkey_prefix(fsym, prefix, FKey.atleast)) # negation should be atleast\n",
    "    rules = grammar[key]\n",
    "    my_rules = []\n",
    "    for rule in grammar[key]:\n",
    "        positions = get_reachable_positions(rule, fsym, reachable)\n",
    "        if not positions: # make it len(positions) >= n if necessary\n",
    "            # add this rule as is because we can not embed the fault here.\n",
    "            # my_rules.append(rule)\n",
    "            continue\n",
    "        else:\n",
    "            # skip pos for each rule\n",
    "            for pos in positions:\n",
    "                new_rule = [to_fkey_prefix(t, prefix, FKey.exactly)\n",
    "                            if pos == p else  # at p position, there _may be_ a fault, but not in other places\n",
    "                            (negate_base_key(t, ref) if is_nt(t) else t)\n",
    "                            # change to FKey.exactly to make it exactly\n",
    "                            for p,t in enumerate(rule)]\n",
    "                my_rules.append(new_rule)\n",
    "    return (to_fkey_prefix(key, prefix, FKey.exactly), my_rules)"
   ]
  },
  {
   "cell_type": "code",
   "execution_count": 255,
   "metadata": {},
   "outputs": [
    {
     "name": "stdout",
     "output_type": "stream",
     "text": [
      "<start .F1>\n",
      "     ['<expr .F1>']\n",
      "\n",
      "<expr .F1>\n",
      "     ['<term .F1>', ' + ', '<expr neg(+F1)>']\n",
      "     ['<term neg(+F1)>', ' + ', '<expr .F1>']\n",
      "     ['<term .F1>', ' - ', '<expr neg(+F1)>']\n",
      "     ['<term neg(+F1)>', ' - ', '<expr .F1>']\n",
      "     ['<term .F1>']\n",
      "\n",
      "<term .F1>\n",
      "     ['<factor .F1>', ' * ', '<term neg(+F1)>']\n",
      "     ['<factor neg(+F1)>', ' * ', '<term .F1>']\n",
      "     ['<factor .F1>', ' / ', '<term neg(+F1)>']\n",
      "     ['<factor neg(+F1)>', ' / ', '<term .F1>']\n",
      "     ['<factor .F1>']\n",
      "\n",
      "<factor .F1>\n",
      "     ['+', '<factor .F1>']\n",
      "     ['-', '<factor .F1>']\n",
      "     ['(', '<expr .F1>', ')']\n",
      "\n",
      "<integer .F1>\n",
      "\n",
      "<digit .F1>\n",
      "\n"
     ]
    }
   ],
   "source": [
    "%%top\n",
    "for key in EXPR_GRAMMAR:\n",
    "    fk, rules = keep_exactly_one_fault_at_key(EXPR_GRAMMAR, key, '<factor>', '1', reachable1)\n",
    "    print(fk)\n",
    "    for r in rules:\n",
    "        print('    ', r)\n",
    "    print()"
   ]
  },
  {
   "cell_type": "markdown",
   "metadata": {},
   "source": [
    "### Keep exactly one at grammar"
   ]
  },
  {
   "cell_type": "code",
   "execution_count": 256,
   "metadata": {},
   "outputs": [],
   "source": [
    "def keep_exactly_one_fault_at_grammar(grammar, fsym, prefix_f, reachable):\n",
    "    new_grammar = {}\n",
    "    for key in grammar:\n",
    "        fk, rules = keep_exactly_one_fault_at_key(grammar, key, fsym, prefix_f, reachable)\n",
    "        if not rules: continue # no applicable rules\n",
    "        if fk not in new_grammar:\n",
    "            new_grammar[fk] = []\n",
    "        new_grammar[fk].extend(rules)\n",
    "    return new_grammar"
   ]
  },
  {
   "cell_type": "markdown",
   "metadata": {},
   "source": [
    "### Get final grammar"
   ]
  },
  {
   "cell_type": "code",
   "execution_count": 257,
   "metadata": {},
   "outputs": [],
   "source": [
    "def exactly_one_fault_grammar(grammar, start_symbol, fault_node, f_idx, log=False):\n",
    "    def L_prefix(i): return str(i)\n",
    "    def F_prefix(i): return str(i)\n",
    "    prefix_l = L_prefix(f_idx)\n",
    "    prefix_f = F_prefix(f_idx)\n",
    "    key_f = fault_node[0]\n",
    "    assert key_f in grammar\n",
    "    # First, get the pattern grammar\n",
    "\n",
    "    fsym = to_fkey_prefix(key_f, prefix_f, FKey.exactly)\n",
    "    atleast_fsym = to_fkey_prefix(key_f, prefix_f, FKey.atleast)\n",
    "    noreaching_fsym = negate_key(atleast_fsym)\n",
    "    \n",
    "    pattern_g, pattern_s  = faulty_node_to_pattern_grammar(fault_node, prefix_l)\n",
    "    npattern_g, npattern_s, refs  = negated_pattern_grammar(pattern_g, pattern_s, atleast_fsym, grammar, log)\n",
    "    reachable_keys = reachable_dict(grammar)\n",
    "    # the new grammar contains the faulty keys and their definitions.\n",
    "    # next, want to insert the fault prefix_f into each insertable positions. \n",
    "    # the insertable locations are those that can reach fsym\n",
    "    exactly_g = keep_exactly_one_fault_at_grammar(grammar, key_f, prefix_f, reachable_keys)\n",
    "    \n",
    "    noreach_g = remove_all_instances_of_fault_from_grammar(grammar, key_f, prefix_f, reachable_keys)\n",
    "    negation_connect = npattern_g[npattern_s] # get the negated pattern rule\n",
    "    noreach_g[noreaching_fsym] = negation_connect\n",
    "    \n",
    "    for key in refs: assert key in noreach_g, key\n",
    "    # now, the faulty key is an alternative to the original.\n",
    "    # We have to take care of one thing though. The `fkey` in the linear grammar should\n",
    "    # be replaced with fsym, but the definitions kept. This is because we want to preserve\n",
    "    # the rule patterns. We do not want normal expansions to go through since it may mean\n",
    "    # no fault inserted. However, we want self recursion to happen.\n",
    "    pattern_rule = pattern_g[pattern_s][0]\n",
    "\n",
    "    combined_grammar = {**grammar, **pattern_g, **npattern_g, **exactly_g, **noreach_g}\n",
    "    new_rules = pattern_g[pattern_s] # get the pattern rule\n",
    "\n",
    "    #combined_grammar[fsym].extend(new_rules)\n",
    "    combined_grammar[fsym] = new_rules\n",
    "    return combined_grammar, to_fkey_prefix(start_symbol, F_prefix(f_idx), FKey.exactly)"
   ]
  },
  {
   "cell_type": "code",
   "execution_count": 258,
   "metadata": {},
   "outputs": [],
   "source": [
    "#%%top\n",
    "efaultya1_grammar_, efaultya1_start = exactly_one_fault_grammar(EXPR_GRAMMAR, EXPR_START, node_faulty1, 1)"
   ]
  },
  {
   "cell_type": "code",
   "execution_count": 259,
   "metadata": {},
   "outputs": [
    {
     "name": "stdout",
     "output_type": "stream",
     "text": [
      "24 79\n"
     ]
    }
   ],
   "source": [
    "%%top\n",
    "Gs(efaultya1_grammar_, -1)"
   ]
  },
  {
   "cell_type": "code",
   "execution_count": 260,
   "metadata": {},
   "outputs": [],
   "source": [
    "#%%top\n",
    "efaultya1_grammar, efaultya1_start = grammar_gc(efaultya1_grammar_, efaultya1_start)"
   ]
  },
  {
   "cell_type": "code",
   "execution_count": 261,
   "metadata": {},
   "outputs": [
    {
     "name": "stdout",
     "output_type": "stream",
     "text": [
      "<start .F1> ::=\n",
      "|    <expr .F1>\n",
      "<expr .F1> ::=\n",
      "|    <term .F1>\n",
      "|    <term .F1> ' + ' <expr neg(+F1)>\n",
      "|    <term .F1> ' - ' <expr neg(+F1)>\n",
      "|    <term neg(+F1)> ' + ' <expr .F1>\n",
      "|    <term neg(+F1)> ' - ' <expr .F1>\n",
      "<term .F1> ::=\n",
      "|    <factor .F1>\n",
      "|    <factor .F1> ' * ' <term neg(+F1)>\n",
      "|    <factor .F1> ' / ' <term neg(+F1)>\n",
      "|    <factor neg(+F1)> ' * ' <term .F1>\n",
      "|    <factor neg(+F1)> ' / ' <term .F1>\n",
      "<expr neg(+F1)> ::=\n",
      "|    <term neg(+F1)>\n",
      "|    <term neg(+F1)> ' + ' <expr neg(+F1)>\n",
      "|    <term neg(+F1)> ' - ' <expr neg(+F1)>\n",
      "<term neg(+F1)> ::=\n",
      "|    <factor neg(+F1)>\n",
      "|    <factor neg(+F1)> ' * ' <term neg(+F1)>\n",
      "|    <factor neg(+F1)> ' / ' <term neg(+F1)>\n",
      "<factor .F1> ::=\n",
      "|    '(' <expr L1_1> ')'\n",
      "<factor neg(+F1)> ::=\n",
      "|    '(' <expr neg(L1_1)> ')'\n",
      "|    '+' <factor neg(+F1)>\n",
      "|    '-' <factor neg(+F1)>\n",
      "|    <integer>\n",
      "|    <integer> '.' <integer>\n",
      "<expr L1_1> ::=\n",
      "|    <term L1_1>\n",
      "<term L1_1> ::=\n",
      "|    <factor L1_2>\n",
      "<factor L1_2> ::=\n",
      "|    '(' <expr> ')'\n",
      "<expr> ::=\n",
      "|    <term>\n",
      "|    <term> ' + ' <expr>\n",
      "|    <term> ' - ' <expr>\n",
      "<term> ::=\n",
      "|    <factor>\n",
      "|    <factor> ' * ' <term>\n",
      "|    <factor> ' / ' <term>\n",
      "<factor> ::=\n",
      "|    '(' <expr> ')'\n",
      "|    '+' <factor>\n",
      "|    '-' <factor>\n",
      "|    <integer>\n",
      "|    <integer> '.' <integer>\n",
      "<integer> ::=\n",
      "|    <digit>\n",
      "|    <digit> <integer>\n",
      "<digit> ::=\n",
      "|    '0'\n",
      "|    '1'\n",
      "|    '2'\n",
      "|    '3'\n",
      "|    '4'\n",
      "|    '5'\n",
      "|    '6'\n",
      "|    '7'\n",
      "|    '8'\n",
      "|    '9'\n",
      "<expr neg(L1_1)> ::=\n",
      "|    <term neg(+F1)> ' + ' <expr neg(+F1)>\n",
      "|    <term neg(+F1)> ' - ' <expr neg(+F1)>\n",
      "|    <term neg(L1_1)>\n",
      "<term neg(L1_1)> ::=\n",
      "|    <factor neg(+F1)> ' * ' <term neg(+F1)>\n",
      "|    <factor neg(+F1)> ' / ' <term neg(+F1)>\n",
      "|    <factor neg(L1_2)>\n",
      "<factor neg(L1_2)> ::=\n",
      "|    '+' <factor neg(+F1)>\n",
      "|    '-' <factor neg(+F1)>\n",
      "|    <integer>\n",
      "|    <integer> '.' <integer>\n",
      "18 59\n"
     ]
    },
    {
     "data": {
      "text/plain": [
       "'<start .F1>'"
      ]
     },
     "execution_count": 261,
     "metadata": {},
     "output_type": "execute_result"
    }
   ],
   "source": [
    "%%top\n",
    "Gs(efaultya1_grammar)\n",
    "efaultya1_start"
   ]
  },
  {
   "cell_type": "code",
   "execution_count": 262,
   "metadata": {},
   "outputs": [],
   "source": [
    "#%%top\n",
    "efaultya1_fuzzer = LimitFuzzer(efaultya1_grammar)\n",
    "efaultya1_parser = Parser(efaultya1_grammar, canonical=True, start_symbol=efaultya1_start)"
   ]
  },
  {
   "cell_type": "code",
   "execution_count": 263,
   "metadata": {},
   "outputs": [],
   "source": [
    "%top assert efaultya1_parser.can_parse('((2))')"
   ]
  },
  {
   "cell_type": "code",
   "execution_count": 264,
   "metadata": {},
   "outputs": [],
   "source": [
    "%top assert efaultya1_parser.can_parse('((1 + 1))')"
   ]
  },
  {
   "cell_type": "code",
   "execution_count": 265,
   "metadata": {},
   "outputs": [],
   "source": [
    "%top assert not efaultya1_parser.can_parse('1 + 2')"
   ]
  },
  {
   "cell_type": "code",
   "execution_count": 266,
   "metadata": {},
   "outputs": [],
   "source": [
    "%top assert efaultya1_parser.can_parse('1 + ((3))')"
   ]
  },
  {
   "cell_type": "code",
   "execution_count": 267,
   "metadata": {},
   "outputs": [],
   "source": [
    "%top assert not efaultya1_parser.can_parse('((1)) + ((3))')"
   ]
  },
  {
   "cell_type": "code",
   "execution_count": 268,
   "metadata": {},
   "outputs": [],
   "source": [
    "%top assert not efaultya1_parser.can_parse('((1 + 3)) + (1) - ((2))')"
   ]
  },
  {
   "cell_type": "code",
   "execution_count": 269,
   "metadata": {},
   "outputs": [],
   "source": [
    "%top assert efaultya1_parser.can_parse('((1 + 3)) + (1) - (2 + (2))')"
   ]
  },
  {
   "cell_type": "code",
   "execution_count": 270,
   "metadata": {},
   "outputs": [
    {
     "name": "stdout",
     "output_type": "stream",
     "text": [
      "(((7.1))) * --+68 / (38) - 7.754 * 471 / (+5.1 * 6 + 3) * 4.692 - -+1.5 / 0788.7462 * -7.4 + -8.326 / -(7.2) * (6) + -5 * -5 - +-3 * (5) / 9 / 5 + +8 - 1 / 1.5 + 2.4 - 5.4\n",
      "+1 * ((4 * 9)) * -2020 / -5 + 9.398733 / 6 / 280.3 / -+-2.6\n",
      "+249 * ((3 / 8.4 + 6 - 3)) - -3 / 44.2 * 28.4 - 99 - 5 + (5.1 / 8 + 1 - 9.0) - 63 + (9) * 2.3 / 8 + 6 / 3 + 7.9\n",
      "(+++-1.9 - 67 + -+0) * ((8.1 / 2.1 + 2 - 7.9)) - 0.99 - 13804 * 2 + 91.9 * 300 / -5.0 * -1 * 1\n",
      "6297.1 + ++9 / ((4 + 4.3)) * -+(5.3 - 1.3)\n",
      "++(+6 / 3.4) - -6525.6224 * 0 / 78 * 6 * --1 / ((1.7)) * 2.2 * 8.1 - (1.94 / 7.9 + +3) * (-8.4 + 5.5 * 6) + 0.7 / 067.708 + 2.32\n",
      "908 / -53032.66 / -+(4.3 * 0) * 5.93 / +(0.3 - 0.4) / -+2 * +7.5 + ((1.4 * 0.6 - 7.9)) + 0.0001 + 6350.5 / ++2 - (2.0 / 3.1) * +(2.7) * +2 / 0 / 2 - 37.34 * (2.3) / 4.6 / 1\n",
      "(1.21 - 29.5) / ((5 * 1 - 6.8 + 7)) + (+--0 * 5.9 - -5 * -7.7 - -1) * --(3.1 * 7.7 + 8.5) - ((0 + 7) / 2) / 353.13 * 127.56 / 6 * +4.4 + +9.33 * ++-0 / -5.1 - --0 / 2.32 * +5.9 / 0.5 * 0.1\n",
      "(+74.96 / 83 / -3.7 * -1.3 * 4 - 2 + (2.7 - 5) * 6.6 + 3.9 / 3.9 / 0.4 - 4.2 - 7 + 4.2) / +7.55 * 2 * ((2)) + 8.0\n",
      "-+859 / 10.8 * ---38 * -(9 * 6) * 1.6 / 6.5 * 7.7 / 9.9 / 6.7 + +-9385 * ((3)) / 7 * --0 - 89 * 8 * (5) / +-8 / 7.2 * 7.1 + 21 / (8 / 2.7 + 0 + 1) / 8 / (1) / 4 - (2.5 * 7 + 0) - +7 * -6 * 5.8 * 2.1 + 6 * 5 * 2 + 3.7 * 8.3\n"
     ]
    }
   ],
   "source": [
    "%%top\n",
    "for i in range(10):\n",
    "    s = efaultya1_fuzzer.fuzz(key=efaultya1_start)\n",
    "    print(s)\n",
    "    assert efaultya1_parser.can_parse(s)"
   ]
  },
  {
   "cell_type": "markdown",
   "metadata": {},
   "source": [
    "## Reconstruct"
   ]
  },
  {
   "cell_type": "markdown",
   "metadata": {},
   "source": [
    "What the reconstruction does is to take any left over keys, and try to produce them based on what is available within the grammar."
   ]
  },
  {
   "cell_type": "code",
   "execution_count": 271,
   "metadata": {},
   "outputs": [],
   "source": [
    "def remove_unused(grammar, start_symbol, log=False):\n",
    "    def strip_key(grammar, key, order):\n",
    "        rules = sort_rules(grammar.get(key, []))\n",
    "        old_len = len(order)\n",
    "        for rule in rules:\n",
    "            for token in rule:\n",
    "                if is_nt(token):\n",
    "                    if token not in order:\n",
    "                        order.append(token)\n",
    "        new = order[old_len:]\n",
    "        for ckey in new:\n",
    "            strip_key(grammar, ckey, order)\n",
    "    if start_symbol not in grammar:\n",
    "        return {}, []\n",
    "\n",
    "    order = [start_symbol]\n",
    "    strip_key(grammar, start_symbol, order)\n",
    "    if len(order) != len(grammar.keys()):\n",
    "        stripped = [k for k in grammar if k not in order]\n",
    "        faulty = [k for k in order if k not in grammar]\n",
    "        if log: print('undefined:', faulty)\n",
    "    new_g = {k: [list(r) for r in sort_rules(grammar[k])] for k in order if k in grammar}\n",
    "    return new_g, {k:grammar[k] for k in grammar if k not in new_g}, faulty"
   ]
  },
  {
   "cell_type": "code",
   "execution_count": 272,
   "metadata": {},
   "outputs": [],
   "source": [
    "def reconstruct_neg_fault(grammar, key, bexpr):\n",
    "    f_key = '<%s %s>' % (stem(key), bexpr)\n",
    "    nf_key = negate_key(f_key)\n",
    "    assert nf_key in grammar\n",
    "    fst = BExpr('neg(%s)' % bexpr).tree\n",
    "    base_grammar, base_start = normalize_grammar(grammar), normalize(key)\n",
    "    g1_, s1, r1 = reconstruct_rules_from_bexpr(key, fst, grammar)\n",
    "    g1, saved_keys, undef_keys  = remove_unused(g1_, s1)\n",
    "    g, s, r = negate_grammar_(g1, s1, base_grammar, base_start)\n",
    "    g[f_key] = g[s]\n",
    "    #assert refinement(s) == bexpr\n",
    "    assert s in g\n",
    "    g = {**grammar, **g1, **g, **saved_keys}\n",
    "    return g, f_key, undefined_keys(g)"
   ]
  },
  {
   "cell_type": "code",
   "execution_count": 273,
   "metadata": {},
   "outputs": [],
   "source": [
    "def reconstruct_neg_bexpr(grammar, key, bexpr, children):\n",
    "    fst = children[2]\n",
    "    base_grammar, base_start = normalize_grammar(grammar), normalize(key)\n",
    "    g1_, s1, r1 = reconstruct_rules_from_bexpr(key, fst, grammar)\n",
    "    g1, saved_keys, undef_keys  = remove_unused(g1_, s1)\n",
    "    g, s, r = negate_grammar_(g1, s1, base_grammar, base_start)\n",
    "    assert refinement(s) == bexpr\n",
    "    assert s in g\n",
    "    g = {**grammar, **g1, **g, **saved_keys}\n",
    "    return g, s, undefined_keys(g)"
   ]
  },
  {
   "cell_type": "code",
   "execution_count": 274,
   "metadata": {},
   "outputs": [],
   "source": [
    "def reconstruct_and_bexpr(grammar, key, bexpr, children):\n",
    "    fst, comma, snd = children[2], children[3], children[4]\n",
    "    assert comma[0] == ','\n",
    "    g1_, s1, r1 = reconstruct_rules_from_bexpr(key, fst, grammar)\n",
    "    if fst == snd: # or of same keys is same\n",
    "        g = {**grammar, **g1_}\n",
    "        g[f_key] = g[s1]\n",
    "        return g, f_key, undefined_keys(g)\n",
    "    g1, saved_keys1, undef_keys1  = remove_unused(g1_, s1)\n",
    "    g2_, s2, r2 = reconstruct_rules_from_bexpr(key, snd, grammar)\n",
    "    g2, saved_keys2, undef_keys2  = remove_unused(g2_, s2)\n",
    "    g, s, r = and_grammars_(g1, s1, g2, s2)\n",
    "    assert refinement(s) == bexpr\n",
    "    assert s in g\n",
    "    g = {**grammar, **g1, **g2, **g, **saved_keys1, **saved_keys2}\n",
    "    return g, s, undefined_keys(g)"
   ]
  },
  {
   "cell_type": "code",
   "execution_count": 275,
   "metadata": {},
   "outputs": [],
   "source": [
    "def reconstruct_or_bexpr(grammar, key, bexpr, children):\n",
    "    fst, comma, snd = children[2], children[3], children[4]\n",
    "    assert comma[0] == ','\n",
    "    g1_, s1, r1 = reconstruct_rules_from_bexpr(key, fst, grammar)\n",
    "    if fst == snd: # and of same keys is same\n",
    "        g = {**grammar, **g1_}\n",
    "        g[f_key] = g[s1]\n",
    "        return g, f_key, undefined_keys(g)\n",
    "    g1, saved_keys1, undef_keys1  = remove_unused(g1_, s1)\n",
    "    g2_, s2, r2 = reconstruct_rules_from_bexpr(key, snd, grammar)\n",
    "    g2, saved_keys2, undef_keys2  = remove_unused(g2_, s2)\n",
    "    g, s, r = or_grammars_(g1, s1, g2, s2)\n",
    "    assert refinement(s) == bexpr\n",
    "    assert s in g\n",
    "    g = {**grammar, **g1, **g2, **g, **saved_keys1, **saved_keys2}\n",
    "    return g, s, undefined_keys(g)"
   ]
  },
  {
   "cell_type": "code",
   "execution_count": 276,
   "metadata": {},
   "outputs": [],
   "source": [
    "def reconstruct_rules_from_bexpr(key, tree, grammar):\n",
    "    name, children = tree\n",
    "    assert name == '<bexpr>'\n",
    "    name_, op_ = children[0]\n",
    "    bexpr = tree_to_str(tree)\n",
    "    f_key = '<%s %s>' % (stem(key), bexpr)\n",
    "    if f_key in grammar:\n",
    "        return grammar, f_key, []\n",
    "    elif name_ == '<fault>':\n",
    "        return reconstruct_neg_fault(grammar, key, bexpr)\n",
    "    else:\n",
    "        operator = op_[0][0]\n",
    "        assert operator in ['and', 'or', 'neg'], operator\n",
    "        assert (children[1][0],  children[-1][0]) == ('(', ')')\n",
    "        new_grammar = grammar\n",
    "        if operator == 'and':\n",
    "            return reconstruct_and_bexpr(grammar, key, bexpr, children)\n",
    "        elif operator == 'or':\n",
    "            return reconstruct_or_bexpr(grammar, key, bexpr, children)\n",
    "        elif operator == 'neg':\n",
    "            return reconstruct_neg_bexpr(grammar, key, bexpr, children)\n",
    "        else:\n",
    "            assert False"
   ]
  },
  {
   "cell_type": "code",
   "execution_count": 277,
   "metadata": {},
   "outputs": [],
   "source": [
    "def reconstruct_key(refined_key, grammar, log=False):\n",
    "    bexpr = BExpr(refinement(refined_key)).tree\n",
    "    keys = [refined_key]\n",
    "    defined = set()\n",
    "    while keys:\n",
    "        if log: print(len(keys))\n",
    "        key_to_reconstruct, *keys = keys\n",
    "        if log: print('reconstructing:', key_to_reconstruct)\n",
    "        if key_to_reconstruct in defined:\n",
    "            raise Exception('Key found:', key_to_reconstruct)\n",
    "        defined.add(key_to_reconstruct)\n",
    "        sref = BExpr(refinement(key_to_reconstruct)).simplify()\n",
    "        if log: print(repr(sref))\n",
    "        if sref:\n",
    "            bexpr = BExpr(sref).tree\n",
    "            nkey = '<%s %s>' % (stem(key_to_reconstruct), sref)\n",
    "            if log: print('simplified_to:', nkey)\n",
    "            grammar, s, refs = reconstruct_rules_from_bexpr(normalize(nkey),\n",
    "                                                            bexpr, grammar)\n",
    "        else:\n",
    "            nkey = normalize(key_to_reconstruct)\n",
    "        assert nkey in grammar\n",
    "        grammar[key_to_reconstruct] = grammar[nkey]\n",
    "        keys = undefined_keys(grammar)\n",
    "    return grammar"
   ]
  },
  {
   "cell_type": "code",
   "execution_count": 278,
   "metadata": {},
   "outputs": [],
   "source": [
    "def find_reachable_keys_unchecked(grammar, key, reachable_keys=None, found_so_far=None):\n",
    "    if reachable_keys is None: reachable_keys = {}\n",
    "    if found_so_far is None: found_so_far = set()\n",
    "\n",
    "    for rule in grammar.get(key, []):\n",
    "        for token in rule:\n",
    "            if not is_nt(token): continue\n",
    "            if token in found_so_far: continue\n",
    "            found_so_far.add(token)\n",
    "            if token in reachable_keys:\n",
    "                for k in reachable_keys[token]:\n",
    "                    found_so_far.add(k)\n",
    "            else:\n",
    "                keys = find_reachable_keys_unchecked(grammar, token, reachable_keys, found_so_far)\n",
    "                # reachable_keys[token] = keys <- found_so_far contains results from earlier\n",
    "    return found_so_far"
   ]
  },
  {
   "cell_type": "code",
   "execution_count": 279,
   "metadata": {},
   "outputs": [],
   "source": [
    "def reachable_dict_unchecked(grammar):\n",
    "    reachable = {}\n",
    "    for key in grammar:\n",
    "        keys = find_reachable_keys_unchecked(grammar, key, reachable)\n",
    "        reachable[key] = keys\n",
    "    return reachable"
   ]
  },
  {
   "cell_type": "code",
   "execution_count": 280,
   "metadata": {},
   "outputs": [],
   "source": [
    "def complete(grammar, start, log=False):\n",
    "    keys = undefined_keys(grammar)\n",
    "    reachable_keys = reachable_dict_unchecked(grammar)\n",
    "    for key in keys:\n",
    "        if key not in reachable_keys[start]: continue\n",
    "        grammar = reconstruct_key(key, grammar, log)\n",
    "    return grammar"
   ]
  },
  {
   "cell_type": "markdown",
   "metadata": {},
   "source": [
    "## Conjunction "
   ]
  },
  {
   "cell_type": "markdown",
   "metadata": {},
   "source": [
    "For conjunction (F1 and F2 present in the input), the idea is to simply collect all the rules that obey both patterns.\n",
    "\n",
    "\n",
    "The idea is simply using the distributive law. A definition is simply R1 `or` R2 `or` R3. Now, when you want to `and` two defintions, you have `and(A1 or B1 or C1, A2 or B2 or C2)` where `A1` etc are rules, and you want the `or` out again.\n",
    "\n",
    "So, this becomes `(A1 AND A2) OR (A1 AND B2) OR (A1 AND C2) OR (A2 AND B1) OR (A2 AND C1) OR (B1 AND B2) OR (B1 AND C2) OR (B2 AND C1) OR (C1 AND C2)` which is essentially that many rules.\n",
    "\n",
    "To construct a new rule `A1 and A2`, you simply pair each symbol in the rule up, and do `and` between them."
   ]
  },
  {
   "cell_type": "code",
   "execution_count": 281,
   "metadata": {},
   "outputs": [],
   "source": [
    "import itertools as I"
   ]
  },
  {
   "cell_type": "code",
   "execution_count": 282,
   "metadata": {},
   "outputs": [],
   "source": [
    "def conj(k1, k2, simplify=False):\n",
    "    if simplify:\n",
    "        if k1 == k2:\n",
    "            return k1\n",
    "        elif not refinement(k1):\n",
    "            return k2\n",
    "        elif not refinement(k2):\n",
    "            return k1\n",
    "    return '<%s and(%s,%s)>' % (stem(k1), refinement(k1), refinement(k2))"
   ]
  },
  {
   "cell_type": "code",
   "execution_count": 283,
   "metadata": {},
   "outputs": [],
   "source": [
    "def and_rules(rulesA, rulesB):\n",
    "    AandB_rules = []\n",
    "    refinements = []\n",
    "    for ruleA in rulesA:\n",
    "        for ruleB in rulesB:\n",
    "            if not normalized_rule_match(ruleA, ruleB): continue\n",
    "            AandB_rule = []\n",
    "            for t1,t2 in zip(ruleA, ruleB):\n",
    "                if not is_nt(t1):\n",
    "                    AandB_rule.append(t1)\n",
    "                elif is_base_key(t1) and is_base_key(t2):\n",
    "                    AandB_rule.append(t1)\n",
    "                else:\n",
    "                    k = conj(t1, t2, simplify=True)\n",
    "                    refinements.append(k)\n",
    "                    AandB_rule.append(k)\n",
    "            AandB_rules.append(AandB_rule)\n",
    "    return AandB_rules, refinements"
   ]
  },
  {
   "cell_type": "code",
   "execution_count": 284,
   "metadata": {},
   "outputs": [],
   "source": [
    "def and_grammars_(g1, s1, g2, s2):\n",
    "    g1_keys = g1.keys()\n",
    "    g2_keys = g2.keys()\n",
    "    g = {**g1, **g2}\n",
    "    refinements = []\n",
    "    # now get the matching keys for each pair.\n",
    "    for k1,k2 in I.product(g1_keys, g2_keys):\n",
    "        # define and(k1, k2)\n",
    "        if normalize(k1) != normalize(k2): continue\n",
    "        # find matching rules\n",
    "        and_key = conj(k1, k2) \n",
    "        g[and_key], refs = and_rules(g1[k1], g2[k2])\n",
    "        refinements.extend(refs)\n",
    "    #for k in refinements: assert k in g\n",
    "    return g, conj(s1, s2), refinements"
   ]
  },
  {
   "cell_type": "code",
   "execution_count": 285,
   "metadata": {},
   "outputs": [],
   "source": [
    "#%%top\n",
    "expr2_input = '0 + 0'\n",
    "expr2_tree = list(expr_parser.parse(expr2_input))[0]"
   ]
  },
  {
   "cell_type": "code",
   "execution_count": 286,
   "metadata": {},
   "outputs": [],
   "source": [
    "#%%top\n",
    "abs_path_2_a = [0,0]\n",
    "abs_path_2_b = [0,2,0]"
   ]
  },
  {
   "cell_type": "code",
   "execution_count": 287,
   "metadata": {},
   "outputs": [
    {
     "name": "stdout",
     "output_type": "stream",
     "text": [
      "<term> 0\n",
      "<term> 0\n"
     ]
    }
   ],
   "source": [
    "%top Ns(expr2_tree, [abs_path_2_a, abs_path_2_b])"
   ]
  },
  {
   "cell_type": "code",
   "execution_count": 288,
   "metadata": {},
   "outputs": [],
   "source": [
    "#%%top\n",
    "Ft2 = mark_abstract_nodes(expr2_tree, [abs_path_2_a, abs_path_2_b])"
   ]
  },
  {
   "cell_type": "code",
   "execution_count": 289,
   "metadata": {},
   "outputs": [
    {
     "data": {
      "text/plain": [
       "'<term> + <term>'"
      ]
     },
     "execution_count": 289,
     "metadata": {},
     "output_type": "execute_result"
    }
   ],
   "source": [
    "%top Ta(Ft2)"
   ]
  },
  {
   "cell_type": "code",
   "execution_count": 290,
   "metadata": {},
   "outputs": [
    {
     "data": {
      "image/png": "[encoded data removed]",
      "text/plain": [
       "<IPython.core.display.Image object>"
      ]
     },
     "execution_count": 290,
     "metadata": {},
     "output_type": "execute_result"
    }
   ],
   "source": [
    "%top Da(Ft2)"
   ]
  },
  {
   "cell_type": "code",
   "execution_count": 291,
   "metadata": {},
   "outputs": [],
   "source": [
    "# %%top\n",
    "Fp2 = find_charecterizing_node(Ft2)\n",
    "faulty2_grammar_, faulty2_start  = atleast_one_fault_grammar(EXPR_GRAMMAR, EXPR_START, Fp2, '2')\n",
    "faulty2_grammar, faulty2_start = grammar_gc(faulty2_grammar_, faulty2_start)"
   ]
  },
  {
   "cell_type": "code",
   "execution_count": 292,
   "metadata": {
    "scrolled": false
   },
   "outputs": [
    {
     "name": "stdout",
     "output_type": "stream",
     "text": [
      "<start +F2> ::=\n",
      "|    <expr +F2>\n",
      "<expr +F2> ::=\n",
      "|    <term +F2>\n",
      "|    <term +F2> ' + ' <expr>\n",
      "|    <term +F2> ' - ' <expr>\n",
      "|    <term> ' + ' <expr +F2>\n",
      "|    <term> ' + ' <expr L2_2>\n",
      "|    <term> ' - ' <expr +F2>\n",
      "<term +F2> ::=\n",
      "|    <factor +F2>\n",
      "|    <factor +F2> ' * ' <term>\n",
      "|    <factor +F2> ' / ' <term>\n",
      "|    <factor> ' * ' <term +F2>\n",
      "|    <factor> ' / ' <term +F2>\n",
      "<expr> ::=\n",
      "|    <term>\n",
      "|    <term> ' + ' <expr>\n",
      "|    <term> ' - ' <expr>\n",
      "<term> ::=\n",
      "|    <factor>\n",
      "|    <factor> ' * ' <term>\n",
      "|    <factor> ' / ' <term>\n",
      "<expr L2_2> ::=\n",
      "|    <term>\n",
      "<factor +F2> ::=\n",
      "|    '(' <expr +F2> ')'\n",
      "|    '+' <factor +F2>\n",
      "|    '-' <factor +F2>\n",
      "<factor> ::=\n",
      "|    '(' <expr> ')'\n",
      "|    '+' <factor>\n",
      "|    '-' <factor>\n",
      "|    <integer>\n",
      "|    <integer> '.' <integer>\n",
      "<integer> ::=\n",
      "|    <digit>\n",
      "|    <digit> <integer>\n",
      "<digit> ::=\n",
      "|    '0'\n",
      "|    '1'\n",
      "|    '2'\n",
      "|    '3'\n",
      "|    '4'\n",
      "|    '5'\n",
      "|    '6'\n",
      "|    '7'\n",
      "|    '8'\n",
      "|    '9'\n",
      "10 39\n"
     ]
    }
   ],
   "source": [
    "%top Gs(faulty2_grammar)"
   ]
  },
  {
   "cell_type": "code",
   "execution_count": 293,
   "metadata": {},
   "outputs": [],
   "source": [
    "#%%top\n",
    "faulty2_fuzzer = LimitFuzzer(faulty2_grammar)\n",
    "faulty2_parser = Parser(faulty2_grammar, canonical=True, start_symbol=faulty2_start)"
   ]
  },
  {
   "cell_type": "code",
   "execution_count": 294,
   "metadata": {},
   "outputs": [],
   "source": [
    "#%%top\n",
    "and1_grammar_, and1_start, refs_ = and_grammars_(faulty1_grammar, faulty1_start, faulty2_grammar, faulty2_start)"
   ]
  },
  {
   "cell_type": "code",
   "execution_count": 295,
   "metadata": {},
   "outputs": [
    {
     "name": "stdout",
     "output_type": "stream",
     "text": [
      "41 142\n"
     ]
    }
   ],
   "source": [
    "%top Gs(and1_grammar_, -1)"
   ]
  },
  {
   "cell_type": "code",
   "execution_count": 296,
   "metadata": {},
   "outputs": [
    {
     "data": {
      "text/plain": [
       "[]"
      ]
     },
     "execution_count": 296,
     "metadata": {},
     "output_type": "execute_result"
    }
   ],
   "source": [
    "%top undefined_keys(and1_grammar_)"
   ]
  },
  {
   "cell_type": "code",
   "execution_count": 297,
   "metadata": {},
   "outputs": [],
   "source": [
    "#%%top\n",
    "and1_grammar, and1_start = grammar_gc(and1_grammar_, and1_start)"
   ]
  },
  {
   "cell_type": "code",
   "execution_count": 298,
   "metadata": {
    "scrolled": false
   },
   "outputs": [
    {
     "name": "stdout",
     "output_type": "stream",
     "text": [
      "<start and(+F1,+F2)> ::=\n",
      "|    <expr and(+F1,+F2)>\n",
      "<expr and(+F1,+F2)> ::=\n",
      "|    <term +F1> ' + ' <expr +F2>\n",
      "|    <term +F1> ' + ' <expr L2_2>\n",
      "|    <term +F1> ' - ' <expr +F2>\n",
      "|    <term +F2> ' + ' <expr +F1>\n",
      "|    <term +F2> ' - ' <expr +F1>\n",
      "|    <term and(+F1,+F2)>\n",
      "|    <term and(+F1,+F2)> ' + ' <expr>\n",
      "|    <term and(+F1,+F2)> ' - ' <expr>\n",
      "|    <term> ' + ' <expr and(+F1,+F2)>\n",
      "|    <term> ' + ' <expr and(+F1,L2_2)>\n",
      "|    <term> ' - ' <expr and(+F1,+F2)>\n",
      "<term +F1> ::=\n",
      "|    <factor +F1>\n",
      "|    <factor +F1> ' * ' <term>\n",
      "|    <factor +F1> ' / ' <term>\n",
      "|    <factor> ' * ' <term +F1>\n",
      "|    <factor> ' / ' <term +F1>\n",
      "<expr +F2> ::=\n",
      "|    <term +F2>\n",
      "|    <term +F2> ' + ' <expr>\n",
      "|    <term +F2> ' - ' <expr>\n",
      "|    <term> ' + ' <expr +F2>\n",
      "|    <term> ' + ' <expr L2_2>\n",
      "|    <term> ' - ' <expr +F2>\n",
      "<expr L2_2> ::=\n",
      "|    <term>\n",
      "<term +F2> ::=\n",
      "|    <factor +F2>\n",
      "|    <factor +F2> ' * ' <term>\n",
      "|    <factor +F2> ' / ' <term>\n",
      "|    <factor> ' * ' <term +F2>\n",
      "|    <factor> ' / ' <term +F2>\n",
      "<expr +F1> ::=\n",
      "|    <term +F1>\n",
      "|    <term +F1> ' + ' <expr>\n",
      "|    <term +F1> ' - ' <expr>\n",
      "|    <term> ' + ' <expr +F1>\n",
      "|    <term> ' - ' <expr +F1>\n",
      "<term and(+F1,+F2)> ::=\n",
      "|    <factor +F1> ' * ' <term +F2>\n",
      "|    <factor +F1> ' / ' <term +F2>\n",
      "|    <factor +F2> ' * ' <term +F1>\n",
      "|    <factor +F2> ' / ' <term +F1>\n",
      "|    <factor and(+F1,+F2)>\n",
      "|    <factor and(+F1,+F2)> ' * ' <term>\n",
      "|    <factor and(+F1,+F2)> ' / ' <term>\n",
      "|    <factor> ' * ' <term and(+F1,+F2)>\n",
      "|    <factor> ' / ' <term and(+F1,+F2)>\n",
      "<expr> ::=\n",
      "|    <term>\n",
      "|    <term> ' + ' <expr>\n",
      "|    <term> ' - ' <expr>\n",
      "<term> ::=\n",
      "|    <factor>\n",
      "|    <factor> ' * ' <term>\n",
      "|    <factor> ' / ' <term>\n",
      "<expr and(+F1,L2_2)> ::=\n",
      "|    <term +F1>\n",
      "<factor +F1> ::=\n",
      "|    '(' <expr +F1> ')'\n",
      "|    '(' <expr L1_1> ')'\n",
      "|    '+' <factor +F1>\n",
      "|    '-' <factor +F1>\n",
      "<factor> ::=\n",
      "|    '(' <expr> ')'\n",
      "|    '+' <factor>\n",
      "|    '-' <factor>\n",
      "|    <integer>\n",
      "|    <integer> '.' <integer>\n",
      "<expr L1_1> ::=\n",
      "|    <term L1_1>\n",
      "<term L1_1> ::=\n",
      "|    <factor L1_2>\n",
      "<factor L1_2> ::=\n",
      "|    '(' <expr> ')'\n",
      "<integer> ::=\n",
      "|    <digit>\n",
      "|    <digit> <integer>\n",
      "<digit> ::=\n",
      "|    '0'\n",
      "|    '1'\n",
      "|    '2'\n",
      "|    '3'\n",
      "|    '4'\n",
      "|    '5'\n",
      "|    '6'\n",
      "|    '7'\n",
      "|    '8'\n",
      "|    '9'\n",
      "<factor +F2> ::=\n",
      "|    '(' <expr +F2> ')'\n",
      "|    '+' <factor +F2>\n",
      "|    '-' <factor +F2>\n",
      "<factor and(+F1,+F2)> ::=\n",
      "|    '(' <expr and(+F1,+F2)> ')'\n",
      "|    '(' <expr and(L1_1,+F2)> ')'\n",
      "|    '+' <factor and(+F1,+F2)>\n",
      "|    '-' <factor and(+F1,+F2)>\n",
      "<expr and(L1_1,+F2)> ::=\n",
      "|    <term and(L1_1,+F2)>\n",
      "<term and(L1_1,+F2)> ::=\n",
      "|    <factor and(L1_2,+F2)>\n",
      "<factor and(L1_2,+F2)> ::=\n",
      "|    '(' <expr +F2> ')'\n",
      "23 84\n"
     ]
    },
    {
     "data": {
      "text/plain": [
       "'<start and(+F1,+F2)>'"
      ]
     },
     "execution_count": 298,
     "metadata": {},
     "output_type": "execute_result"
    }
   ],
   "source": [
    "%%top\n",
    "Gs(and1_grammar)\n",
    "and1_start"
   ]
  },
  {
   "cell_type": "code",
   "execution_count": 299,
   "metadata": {},
   "outputs": [],
   "source": [
    "#%%top\n",
    "and1_fuzzer = LimitFuzzer(and1_grammar)\n",
    "and1_parser = Parser(and1_grammar, canonical=True, start_symbol=and1_start)"
   ]
  },
  {
   "cell_type": "code",
   "execution_count": 300,
   "metadata": {},
   "outputs": [
    {
     "name": "stdout",
     "output_type": "stream",
     "text": [
      "+(4.13 + +6 / (2) - +8.8) / 1 * (7.63 * (7) * 1 / 4 + +9.2 * 1.4) / (9.1 * 6 * 2.1 - 2 * 1) + ((3 * 3.9 - 8.3 - 3)) * 5.42 / 97\n",
      "-++++-(7) * ((0 - 4.1) / -+3 * 8.4 * 8 / 6.5 - (6.5) * -7 / 4 * 2.9) * +-(0 / 6 - 7 - 7.1) * +79.855 / 6.4 / 6.8 * -9 + 74.697 / 3.005 / +(7.2 * 2) / ((4)) / -5 * +7 * 9.3 * 0.5\n",
      "-(8.706 + -+(0.6 + 2.3) + -8.7 - 2) - (--+((4)) / (1) * +2 / 3 * 0.5 - 24 * +5 / 7.4 / 9.2 - +5 * 1.4 * 0 + 1 * 4.9 - 4.9 + 4) / ++-++1 * -(0 * 8.5 - 8 - 6) * (1.8 * 3 - 2 + 5.3) * -+6.4 + 9.21 + +6.6 - (5.7 * 2) / +2 / +3.4 * 5 / 1\n",
      "+906.9 * 8.2 / +(-(9 + 1) + 1.2 / 4.3 - 1) / ((6.6) * 1) / ((0.8)) * (7.3) * 2 - 16 * ++994.87 / 00.1 - +((5) * 0 + 9 * 9.8 + 6.7) * (+8 * 9 * 4.7 - 1.2 / 3) / (8 + 9) / 32 * +7.2\n",
      "((+5.2 + 4.3 - 0 + 9.4)) * (+57.4 / 27.94 * 6 / 6 * 5 + 41.2) * 5 / (-5.7 * 1 - 1.8 + 7.4) / 9.8 + 06460 * 94638 * 93.7 / ++-7.3 * 16.03 * -9 * 5.4\n",
      "+--(-((3)) - 1.2 * 6.7 - 8.0 + 8.8) - 725501 + (2.6 * (6.4) * 2)\n",
      "(+-+((1.3)) / -46.39 * 28 * (8) * 5 * 3 - -+(9.0) * +(0.2) * +9.4 / 9) * +(46 * 4.3 * 8 - -1 + 0 / 4) - +(67.01 / (3.1))\n",
      "((5)) / 68.8 / +(+(2.0 + 5.7) * 4.3 * 9.0) / 3.7 - +6 * 59 - 1.6\n",
      "+++114.77 / ((9 / 3 + 0) - +(8.3) + +5.6) * 93.1 / -6 * ---5.6 * -+(5 + 6) * (8) / 8.4 / 9.4 + ((0 / 0)) / 51 * ((2.5)) + 7 - 9844.6 / ++(8.3) * (8 - 9.4) * -4.6\n",
      "-8 * --(3) / 59 + (((7.1)) * 19.1 * 5 / 8 - -+8 * (5 + 3) / 1 * 0.7 + (6.9)) / 9.381 * -+39.4 * -13 / ++7.9\n"
     ]
    }
   ],
   "source": [
    "%%top\n",
    "for i in range(10):\n",
    "    s = and1_fuzzer.fuzz(key=and1_start)\n",
    "    print(s)\n",
    "    assert and1_parser.can_parse(s)\n",
    "    assert faulty1_parser.can_parse(s)\n",
    "    assert faulty2_parser.can_parse(s)"
   ]
  },
  {
   "cell_type": "markdown",
   "metadata": {},
   "source": [
    "## Disjunction\n",
    "\n",
    "The idea here is to produce a merge of both grammars. Unlike in `and` where we combined each rule pair, we will simply add both rulesets. Note that there could be a large number of duplicate keys. This can be fixed by grammar GC.\n",
    "\n",
    "The idea is simply using the distributive law. A definition is simply R1 `or` R2 `or` R3. Now, when you want to `or` two defintions, you have `or(A1 or B1 or C1, A2 or B2 or C2)` where `A1` etc are rules, then it simply becomes `A1 or B1 or C1 or A2 or B2 or C2`\n"
   ]
  },
  {
   "cell_type": "code",
   "execution_count": 301,
   "metadata": {},
   "outputs": [],
   "source": [
    "def disj(k1, k2, simplify=False):\n",
    "    assert is_nt(k1)\n",
    "    if simplify:\n",
    "        if k1 == k2:\n",
    "            return k1\n",
    "    return '<%s or(%s,%s)>' % (stem(k1), refinement(k1), refinement(k2))"
   ]
  },
  {
   "cell_type": "code",
   "execution_count": 302,
   "metadata": {},
   "outputs": [],
   "source": [
    "def merge_similar_rules(rule1, rule2):\n",
    "    assert normalized_rule_match(rule1, rule2)\n",
    "    new_rule = []\n",
    "    refinements = []\n",
    "    \n",
    "    # note. This would not work with multi-nt-token rules.\n",
    "    # so we need to restrict ourselves to grammars that only\n",
    "    # allow a single token rule opposite start.\n",
    "    assert len([t for t in rule1 if is_nt(t)]) == 1\n",
    "    for t1,t2 in zip(rule1, rule2):\n",
    "        if not is_nt(t1):\n",
    "            new_rule.append(t1)\n",
    "        elif is_base_key(t1) and is_base_key(t2):\n",
    "            new_rule.append(t1)\n",
    "        else:\n",
    "            k = disj(t1, t2, simplify=True)\n",
    "            new_rule.append(k)\n",
    "            refinements.append((k,(t1, t2)))\n",
    "    return new_rule, refinements\n",
    "            "
   ]
  },
  {
   "cell_type": "code",
   "execution_count": 303,
   "metadata": {},
   "outputs": [],
   "source": [
    "def merge_similar_rules_positions(rules):\n",
    "    def rule_match(rule1, rule2):\n",
    "        assert normalized_rule_match(rule1, rule2)\n",
    "        return [i for i, (k1, k2) in enumerate(zip(rule1, rule2)) if k1 != k2]\n",
    "\n",
    "    def merge_rule(rule1, rule2, diffs):\n",
    "        assert len(diffs) == 1\n",
    "        pos = diffs[0]\n",
    "        m_rule = [disj(t, rule2[i], simplify=True) if i== pos else t for i,t in enumerate(rule1)]\n",
    "        return m_rule, m_rule[pos]\n",
    "        \n",
    "    # these rules are from same key and have similar pattern as well as similar refinement positions.\n",
    "    if len(rules) == 1: return rules, []\n",
    "    cur_rule, *rules = rules\n",
    "    new_rules, refs = merge_similar_rules_positions(rules)\n",
    "    # now check if cur_rule matches any of the new_rules. If it doesn't then add to new_rule\n",
    "    # if it does, merge to the newone.\n",
    "    merged_rules = []\n",
    "    found = False\n",
    "    for nrule in new_rules:\n",
    "        diffs = rule_match(cur_rule, nrule)\n",
    "        if len(diffs) <= 1:\n",
    "            assert len(diffs) == 1, (\"no differences(%s)\" % len(diffs))\n",
    "            found = True\n",
    "            mrule, ref = merge_rule(cur_rule, nrule, diffs)\n",
    "            refs.append(ref)\n",
    "            merged_rules.append(mrule)\n",
    "        else:\n",
    "            merged_rules.append(nrule)\n",
    "    \n",
    "    if not found:\n",
    "        merged_rules += [nrule]\n",
    "    return merged_rules, refs"
   ]
  },
  {
   "cell_type": "code",
   "execution_count": 304,
   "metadata": {},
   "outputs": [],
   "source": [
    "def merge_disj_rules(g1):\n",
    "    # what can be merged?\n",
    "    # only those rules that have a single mergable refinement in the rule.\n",
    "    # it is ok to have multiple refinements in a rule so long as the other\n",
    "    # refinements except for the merger one is exactly the same.\n",
    "    similar = {}\n",
    "    for k in g1:\n",
    "        for rule in g1[k]:\n",
    "            ref_positions = tuple([i for i,k in enumerate(rule) if is_nt(k) and refinement(k)])\n",
    "            key = (k, tuple(rule_to_normalized_rule(rule)), ref_positions)\n",
    "            if key not in similar: similar[key] = set()\n",
    "            similar[key].add(tuple(rule))\n",
    "    # now we have similar rules that have a chance of merger.\n",
    "    refinements = []\n",
    "    new_grammar = {}\n",
    "    for (key, rule,pos) in similar:\n",
    "        srules, refs = merge_similar_rules_positions([list(r) for r in similar[(key, rule,pos)]])\n",
    "        if key not in new_grammar: new_grammar[key] = []\n",
    "        # same key could come in multiple times.\n",
    "        new_grammar[key].extend(srules)\n",
    "        refinements.extend(refs)\n",
    "    return {**g1, **new_grammar}, refinements"
   ]
  },
  {
   "cell_type": "code",
   "execution_count": 305,
   "metadata": {},
   "outputs": [],
   "source": [
    "def or_grammars_(g1, s1, g2, s2):\n",
    "    g = {}\n",
    "    # now get the matching keys for each pair.\n",
    "    for k in list(g1.keys()) + list(g2.keys()): \n",
    "         g[k] = [[t for t in r] for r in list(set([tuple(k) for k in (g1.get(k, []) + g2.get(k, []))]))]\n",
    "            \n",
    "    g[disj(s1, s2)] = g1[s1] + g2[s2]\n",
    "    g, refinements = merge_disj_rules(g) #[s1][0], g2[s2][0])\n",
    "    #new_rule, refinements = merge_similar_rules(g1[s1][0], g2[s2][0])\n",
    "    #g[disj(s1, s2)] = [new_rule]\n",
    "    #for (k, (t1, t2)) in refinements:\n",
    "    #    g[k] = g1[t1] + g2[t2]\n",
    "    return g, disj(s1, s2), refinements"
   ]
  },
  {
   "cell_type": "code",
   "execution_count": 306,
   "metadata": {},
   "outputs": [],
   "source": [
    "#%top\n",
    "or1_grammar_, or1_start, refs_ =  or_grammars_(faulty1_grammar, faulty1_start, faulty2_grammar, faulty2_start)"
   ]
  },
  {
   "cell_type": "code",
   "execution_count": 307,
   "metadata": {},
   "outputs": [],
   "source": [
    "#%top\n",
    "ouk = undefined_keys(or1_grammar_)"
   ]
  },
  {
   "cell_type": "code",
   "execution_count": 308,
   "metadata": {
    "scrolled": false
   },
   "outputs": [
    {
     "data": {
      "text/plain": [
       "['<expr or(+F2,+F1)>', '<expr or(L1_1,+F1)>', '<expr or(L2_2,+F2)>']"
      ]
     },
     "execution_count": 308,
     "metadata": {},
     "output_type": "execute_result"
    }
   ],
   "source": [
    "%top ouk"
   ]
  },
  {
   "cell_type": "code",
   "execution_count": 309,
   "metadata": {},
   "outputs": [],
   "source": [
    "#%%top\n",
    "or1_grammar_ = complete(or1_grammar_, or1_start)"
   ]
  },
  {
   "cell_type": "code",
   "execution_count": 310,
   "metadata": {},
   "outputs": [
    {
     "data": {
      "text/plain": [
       "[]"
      ]
     },
     "execution_count": 310,
     "metadata": {},
     "output_type": "execute_result"
    }
   ],
   "source": [
    "undefined_keys(or1_grammar_)"
   ]
  },
  {
   "cell_type": "code",
   "execution_count": 311,
   "metadata": {
    "scrolled": true
   },
   "outputs": [
    {
     "name": "stdout",
     "output_type": "stream",
     "text": [
      "<start +F1> ::=\n",
      "|    <expr +F1>\n",
      "<expr +F1> ::=\n",
      "|    <term +F1>\n",
      "|    <term> ' - ' <expr +F1>\n",
      "|    <term +F1> ' + ' <expr>\n",
      "|    <term> ' + ' <expr +F1>\n",
      "|    <term +F1> ' - ' <expr>\n",
      "<term +F1> ::=\n",
      "|    <factor> ' / ' <term +F1>\n",
      "|    <factor +F1>\n",
      "|    <factor +F1> ' * ' <term>\n",
      "|    <factor +F1> ' / ' <term>\n",
      "|    <factor> ' * ' <term +F1>\n",
      "<expr> ::=\n",
      "|    <term>\n",
      "|    <term> ' + ' <expr>\n",
      "|    <term> ' - ' <expr>\n",
      "<term> ::=\n",
      "|    <factor> ' * ' <term>\n",
      "|    <factor> ' / ' <term>\n",
      "|    <factor>\n",
      "<factor +F1> ::=\n",
      "|    '-' <factor +F1>\n",
      "|    '(' <expr or(L1_1,+F1)> ')'\n",
      "|    '+' <factor +F1>\n",
      "<factor> ::=\n",
      "|    '(' <expr> ')'\n",
      "|    '-' <factor>\n",
      "|    <integer>\n",
      "|    '+' <factor>\n",
      "|    <integer> '.' <integer>\n",
      "<expr L1_1> ::=\n",
      "|    <term L1_1>\n",
      "<term L1_1> ::=\n",
      "|    <factor L1_2>\n",
      "<factor L1_2> ::=\n",
      "|    '(' <expr> ')'\n",
      "<integer> ::=\n",
      "|    <digit>\n",
      "|    <digit> <integer>\n",
      "<digit> ::=\n",
      "|    '6'\n",
      "|    '5'\n",
      "|    '3'\n",
      "|    '7'\n",
      "|    '9'\n",
      "|    '1'\n",
      "|    '4'\n",
      "|    '2'\n",
      "|    '0'\n",
      "|    '8'\n",
      "<start +F2> ::=\n",
      "|    <expr +F2>\n",
      "<expr +F2> ::=\n",
      "|    <term +F2> ' + ' <expr>\n",
      "|    <term> ' + ' <expr or(L2_2,+F2)>\n",
      "|    <term +F2> ' - ' <expr>\n",
      "|    <term +F2>\n",
      "|    <term> ' - ' <expr +F2>\n",
      "<term +F2> ::=\n",
      "|    <factor +F2> ' * ' <term>\n",
      "|    <factor> ' * ' <term +F2>\n",
      "|    <factor +F2>\n",
      "|    <factor> ' / ' <term +F2>\n",
      "|    <factor +F2> ' / ' <term>\n",
      "<expr L2_2> ::=\n",
      "|    <term>\n",
      "<factor +F2> ::=\n",
      "|    '-' <factor +F2>\n",
      "|    '(' <expr +F2> ')'\n",
      "|    '+' <factor +F2>\n",
      "<start or(+F1,+F2)> ::=\n",
      "|    <expr or(+F2,+F1)>\n",
      "<expr or(+F1,+F2)> ::=\n",
      "|    <term or(+F1,+F2)>\n",
      "|    <term or(+F1,+F2)> ' + ' <expr>\n",
      "|    <term or(+F2,+F1)> ' - ' <expr>\n",
      "|    <term> ' + ' <expr or(or(L2_2,+F2),+F1)>\n",
      "|    <term> ' - ' <expr or(+F1,+F2)>\n",
      "<expr or(+F2,+F1)> ::=\n",
      "|    <term or(+F1,+F2)>\n",
      "|    <term or(+F1,+F2)> ' + ' <expr>\n",
      "|    <term or(+F2,+F1)> ' - ' <expr>\n",
      "|    <term> ' + ' <expr or(or(L2_2,+F2),+F1)>\n",
      "|    <term> ' - ' <expr or(+F1,+F2)>\n",
      "<expr or(+F1,L1_1)> ::=\n",
      "|    <term or(+F1,L1_1)>\n",
      "|    <term +F1> ' + ' <expr>\n",
      "|    <term +F1> ' - ' <expr>\n",
      "|    <term> ' + ' <expr +F1>\n",
      "|    <term> ' - ' <expr +F1>\n",
      "<expr or(L1_1,+F1)> ::=\n",
      "|    <term or(+F1,L1_1)>\n",
      "|    <term +F1> ' + ' <expr>\n",
      "|    <term +F1> ' - ' <expr>\n",
      "|    <term> ' + ' <expr +F1>\n",
      "|    <term> ' - ' <expr +F1>\n",
      "<expr or(+F2,L2_2)> ::=\n",
      "|    <term +F2>\n",
      "|    <term +F2> ' + ' <expr>\n",
      "|    <term +F2> ' - ' <expr>\n",
      "|    <term> ' + ' <expr or(L2_2,+F2)>\n",
      "|    <term> ' - ' <expr +F2>\n",
      "|    <term>\n",
      "<expr or(L2_2,+F2)> ::=\n",
      "|    <term +F2>\n",
      "|    <term +F2> ' + ' <expr>\n",
      "|    <term +F2> ' - ' <expr>\n",
      "|    <term> ' + ' <expr or(L2_2,+F2)>\n",
      "|    <term> ' - ' <expr +F2>\n",
      "|    <term>\n",
      "<expr or(+F1,or(+F2,L2_2))> ::=\n",
      "|    <term or(+F1,+F2)>\n",
      "|    <term or(+F1,+F2)> ' + ' <expr>\n",
      "|    <term or(+F2,+F1)> ' - ' <expr>\n",
      "|    <term> ' + ' <expr or(or(L2_2,+F2),+F1)>\n",
      "|    <term> ' - ' <expr or(+F1,+F2)>\n",
      "|    <term>\n",
      "<expr or(or(L2_2,+F2),+F1)> ::=\n",
      "|    <term or(+F1,+F2)>\n",
      "|    <term or(+F1,+F2)> ' + ' <expr>\n",
      "|    <term or(+F2,+F1)> ' - ' <expr>\n",
      "|    <term> ' + ' <expr or(or(L2_2,+F2),+F1)>\n",
      "|    <term> ' - ' <expr or(+F1,+F2)>\n",
      "|    <term>\n",
      "<term or(+F1,+F2)> ::=\n",
      "|    <factor or(+F1,+F2)>\n",
      "|    <factor or(+F2,+F1)> ' * ' <term>\n",
      "|    <factor or(+F2,+F1)> ' / ' <term>\n",
      "|    <factor> ' * ' <term or(+F1,+F2)>\n",
      "|    <factor> ' / ' <term or(+F2,+F1)>\n",
      "<factor or(+F1,+F2)> ::=\n",
      "|    '(' <expr or(or(L1_1,+F1),+F2)> ')'\n",
      "|    '+' <factor or(+F2,+F1)>\n",
      "|    '-' <factor or(+F1,+F2)>\n",
      "<expr or(+F2,L1_1)> ::=\n",
      "|    <term> ' + ' <expr or(L2_2,+F2)>\n",
      "|    <term +F2> ' + ' <expr>\n",
      "|    <term or(L1_1,+F2)>\n",
      "|    <term +F2> ' - ' <expr>\n",
      "|    <term> ' - ' <expr +F2>\n",
      "<expr or(+F1,or(+F2,L1_1))> ::=\n",
      "|    <term or(+F1,or(L1_1,+F2))>\n",
      "|    <term or(+F1,+F2)> ' + ' <expr>\n",
      "|    <term or(+F2,+F1)> ' - ' <expr>\n",
      "|    <term> ' + ' <expr or(or(L2_2,+F2),+F1)>\n",
      "|    <term> ' - ' <expr or(+F1,+F2)>\n",
      "<expr or(or(L1_1,+F1),+F2)> ::=\n",
      "|    <term or(+F1,or(L1_1,+F2))>\n",
      "|    <term or(+F1,+F2)> ' + ' <expr>\n",
      "|    <term or(+F2,+F1)> ' - ' <expr>\n",
      "|    <term> ' + ' <expr or(or(L2_2,+F2),+F1)>\n",
      "|    <term> ' - ' <expr or(+F1,+F2)>\n",
      "<factor or(+F2,+F1)> ::=\n",
      "|    '(' <expr or(or(L1_1,+F1),+F2)> ')'\n",
      "|    '+' <factor or(+F2,+F1)>\n",
      "|    '-' <factor or(+F1,+F2)>\n",
      "<term or(+F1,L1_1)> ::=\n",
      "|    <factor or(L1_2,+F1)>\n",
      "|    <factor +F1> ' * ' <term>\n",
      "|    <factor +F1> ' / ' <term>\n",
      "|    <factor> ' * ' <term +F1>\n",
      "|    <factor> ' / ' <term +F1>\n",
      "<factor or(+F1,L1_2)> ::=\n",
      "|    '(' <expr or(L1_1,+F1)> ')'\n",
      "|    '+' <factor +F1>\n",
      "|    '-' <factor +F1>\n",
      "|    '(' <expr> ')'\n",
      "<factor or(L1_2,+F1)> ::=\n",
      "|    '(' <expr or(L1_1,+F1)> ')'\n",
      "|    '+' <factor +F1>\n",
      "|    '-' <factor +F1>\n",
      "|    '(' <expr> ')'\n",
      "<term or(+F2,L1_1)> ::=\n",
      "|    <factor +F2> ' * ' <term>\n",
      "|    <factor> ' * ' <term +F2>\n",
      "|    <factor or(L1_2,+F2)>\n",
      "|    <factor> ' / ' <term +F2>\n",
      "|    <factor +F2> ' / ' <term>\n",
      "<term or(+F1,or(+F2,L1_1))> ::=\n",
      "|    <factor or(or(L1_2,+F2),+F1)>\n",
      "|    <factor or(+F2,+F1)> ' * ' <term>\n",
      "|    <factor or(+F2,+F1)> ' / ' <term>\n",
      "|    <factor> ' * ' <term or(+F1,+F2)>\n",
      "|    <factor> ' / ' <term or(+F2,+F1)>\n",
      "<term or(+F1,or(L1_1,+F2))> ::=\n",
      "|    <factor or(or(L1_2,+F2),+F1)>\n",
      "|    <factor or(+F2,+F1)> ' * ' <term>\n",
      "|    <factor or(+F2,+F1)> ' / ' <term>\n",
      "|    <factor> ' * ' <term or(+F1,+F2)>\n",
      "|    <factor> ' / ' <term or(+F2,+F1)>\n",
      "<factor or(+F2,L1_2)> ::=\n",
      "|    '(' <expr +F2> ')'\n",
      "|    '+' <factor +F2>\n",
      "|    '-' <factor +F2>\n",
      "|    '(' <expr> ')'\n",
      "<factor or(L1_2,+F2)> ::=\n",
      "|    '(' <expr +F2> ')'\n",
      "|    '+' <factor +F2>\n",
      "|    '-' <factor +F2>\n",
      "|    '(' <expr> ')'\n",
      "<factor or(+F1,or(+F2,L1_2))> ::=\n",
      "|    '(' <expr or(or(L1_1,+F1),+F2)> ')'\n",
      "|    '+' <factor or(+F2,+F1)>\n",
      "|    '-' <factor or(+F1,+F2)>\n",
      "|    '(' <expr> ')'\n",
      "<factor or(or(L1_2,+F2),+F1)> ::=\n",
      "|    '(' <expr or(or(L1_1,+F1),+F2)> ')'\n",
      "|    '+' <factor or(+F2,+F1)>\n",
      "|    '-' <factor or(+F1,+F2)>\n",
      "|    '(' <expr> ')'\n",
      "<term or(+F2,+F1)> ::=\n",
      "|    <factor or(+F1,+F2)>\n",
      "|    <factor or(+F2,+F1)> ' * ' <term>\n",
      "|    <factor or(+F2,+F1)> ' / ' <term>\n",
      "|    <factor> ' * ' <term or(+F1,+F2)>\n",
      "|    <factor> ' / ' <term or(+F2,+F1)>\n",
      "<term or(L1_1,+F2)> ::=\n",
      "|    <factor +F2> ' * ' <term>\n",
      "|    <factor> ' * ' <term +F2>\n",
      "|    <factor or(L1_2,+F2)>\n",
      "|    <factor> ' / ' <term +F2>\n",
      "|    <factor +F2> ' / ' <term>\n",
      "44 180\n"
     ]
    },
    {
     "data": {
      "text/plain": [
       "'<start or(+F1,+F2)>'"
      ]
     },
     "execution_count": 311,
     "metadata": {},
     "output_type": "execute_result"
    }
   ],
   "source": [
    "%%top\n",
    "Gs(or1_grammar_)\n",
    "or1_start"
   ]
  },
  {
   "cell_type": "code",
   "execution_count": 312,
   "metadata": {},
   "outputs": [],
   "source": [
    "#%%top\n",
    "or1_grammar, or1_start = grammar_gc(or1_grammar_, or1_start)"
   ]
  },
  {
   "cell_type": "code",
   "execution_count": 313,
   "metadata": {
    "scrolled": false
   },
   "outputs": [
    {
     "name": "stdout",
     "output_type": "stream",
     "text": [
      "<start or(+F1,+F2)> ::=\n",
      "|    <expr or(+F2,+F1)>\n",
      "<expr or(+F2,+F1)> ::=\n",
      "|    <term or(+F1,+F2)>\n",
      "|    <term or(+F1,+F2)> ' + ' <expr>\n",
      "|    <term or(+F2,+F1)> ' - ' <expr>\n",
      "|    <term> ' + ' <expr or(or(L2_2,+F2),+F1)>\n",
      "|    <term> ' - ' <expr or(+F1,+F2)>\n",
      "<term or(+F1,+F2)> ::=\n",
      "|    <factor or(+F1,+F2)>\n",
      "|    <factor or(+F2,+F1)> ' * ' <term>\n",
      "|    <factor or(+F2,+F1)> ' / ' <term>\n",
      "|    <factor> ' * ' <term or(+F1,+F2)>\n",
      "|    <factor> ' / ' <term or(+F2,+F1)>\n",
      "<expr> ::=\n",
      "|    <term>\n",
      "|    <term> ' + ' <expr>\n",
      "|    <term> ' - ' <expr>\n",
      "<term or(+F2,+F1)> ::=\n",
      "|    <factor or(+F1,+F2)>\n",
      "|    <factor or(+F2,+F1)> ' * ' <term>\n",
      "|    <factor or(+F2,+F1)> ' / ' <term>\n",
      "|    <factor> ' * ' <term or(+F1,+F2)>\n",
      "|    <factor> ' / ' <term or(+F2,+F1)>\n",
      "<term> ::=\n",
      "|    <factor>\n",
      "|    <factor> ' * ' <term>\n",
      "|    <factor> ' / ' <term>\n",
      "<expr or(or(L2_2,+F2),+F1)> ::=\n",
      "|    <term or(+F1,+F2)>\n",
      "|    <term or(+F1,+F2)> ' + ' <expr>\n",
      "|    <term or(+F2,+F1)> ' - ' <expr>\n",
      "|    <term>\n",
      "|    <term> ' + ' <expr or(or(L2_2,+F2),+F1)>\n",
      "|    <term> ' - ' <expr or(+F1,+F2)>\n",
      "<expr or(+F1,+F2)> ::=\n",
      "|    <term or(+F1,+F2)>\n",
      "|    <term or(+F1,+F2)> ' + ' <expr>\n",
      "|    <term or(+F2,+F1)> ' - ' <expr>\n",
      "|    <term> ' + ' <expr or(or(L2_2,+F2),+F1)>\n",
      "|    <term> ' - ' <expr or(+F1,+F2)>\n",
      "<factor or(+F1,+F2)> ::=\n",
      "|    '(' <expr or(or(L1_1,+F1),+F2)> ')'\n",
      "|    '+' <factor or(+F2,+F1)>\n",
      "|    '-' <factor or(+F1,+F2)>\n",
      "<factor or(+F2,+F1)> ::=\n",
      "|    '(' <expr or(or(L1_1,+F1),+F2)> ')'\n",
      "|    '+' <factor or(+F2,+F1)>\n",
      "|    '-' <factor or(+F1,+F2)>\n",
      "<factor> ::=\n",
      "|    '(' <expr> ')'\n",
      "|    '+' <factor>\n",
      "|    '-' <factor>\n",
      "|    <integer>\n",
      "|    <integer> '.' <integer>\n",
      "<expr or(or(L1_1,+F1),+F2)> ::=\n",
      "|    <term or(+F1,+F2)> ' + ' <expr>\n",
      "|    <term or(+F1,or(L1_1,+F2))>\n",
      "|    <term or(+F2,+F1)> ' - ' <expr>\n",
      "|    <term> ' + ' <expr or(or(L2_2,+F2),+F1)>\n",
      "|    <term> ' - ' <expr or(+F1,+F2)>\n",
      "<term or(+F1,or(L1_1,+F2))> ::=\n",
      "|    <factor or(+F2,+F1)> ' * ' <term>\n",
      "|    <factor or(+F2,+F1)> ' / ' <term>\n",
      "|    <factor or(or(L1_2,+F2),+F1)>\n",
      "|    <factor> ' * ' <term or(+F1,+F2)>\n",
      "|    <factor> ' / ' <term or(+F2,+F1)>\n",
      "<factor or(or(L1_2,+F2),+F1)> ::=\n",
      "|    '(' <expr or(or(L1_1,+F1),+F2)> ')'\n",
      "|    '(' <expr> ')'\n",
      "|    '+' <factor or(+F2,+F1)>\n",
      "|    '-' <factor or(+F1,+F2)>\n",
      "<integer> ::=\n",
      "|    <digit>\n",
      "|    <digit> <integer>\n",
      "<digit> ::=\n",
      "|    '0'\n",
      "|    '1'\n",
      "|    '2'\n",
      "|    '3'\n",
      "|    '4'\n",
      "|    '5'\n",
      "|    '6'\n",
      "|    '7'\n",
      "|    '8'\n",
      "|    '9'\n",
      "16 70\n"
     ]
    },
    {
     "data": {
      "text/plain": [
       "'<start or(+F1,+F2)>'"
      ]
     },
     "execution_count": 313,
     "metadata": {},
     "output_type": "execute_result"
    }
   ],
   "source": [
    "%%top\n",
    "Gs(or1_grammar)\n",
    "or1_start"
   ]
  },
  {
   "cell_type": "code",
   "execution_count": 314,
   "metadata": {},
   "outputs": [],
   "source": [
    "#%%top\n",
    "or1_fuzzer = LimitFuzzer(or1_grammar)\n",
    "or1_parser = Parser(or1_grammar, canonical=True, start_symbol=or1_start)"
   ]
  },
  {
   "cell_type": "code",
   "execution_count": 315,
   "metadata": {
    "scrolled": true
   },
   "outputs": [
    {
     "name": "stdout",
     "output_type": "stream",
     "text": [
      "+(+0 / 89.4 * -5.9 / 4.0 * 7.4) * ---(1.6 + 3 - 7.1 + 5) / +(8 / 5.8 - 2 * 6 - 0 - 1.8) / (9.5) * +43 * 24.3 - +8 / +(3 * 9.3 / 7.3 - 3.4 * 5 + 0.2 - 0) / +(4 / 8.7) / +9 / +8 + -((0) * 9 * 8.0) - 3 / +(2.2 - 8)\n",
      "+((1.7 / 4.4) * 5.8 * (9.4 + 6.6) - +0 * (7) / 4 - (7.6) - 3.2) - 26.5 / +(1 * 9.8)\n",
      "--+-(3.5 / (3.7 + 7)) * 8.43 / +--(6 - 3.5) / (+8) * (4.6 * 0.6 - 9.8 - 8)\n",
      "(-+41.07 * -++8) / (+(6 - 1.1 + 3) * 89) / ++53.020 / ((6) - 7.7 + 3) * +83.8 - 6459.6\n",
      "+-((6) - (3) + 3 * (6 + 6.6))\n",
      "(((6) / 3 + 3 / 3.0 - 6.5)) * -+(9 - 4.8 + (6.9 + 4) + 2.3)\n",
      "-1.592 / +---++(4 + 7.8) / -(-1.6 / 1.4) / (9.8 * 7.4) + 4 / -+42.4 + 38.2040 * -(2.6) / (9 * 8.1 + 3) + 3.6 / -4\n",
      "+---(4 / 6 + (8.5 + 9) + 9) / ((0 * 4.0)) / +(5.8 * 5 + 6.9 / 3.9) * -++-3 * --(6) / -3 * -5.7 / 5.2 / 2.6 - 1 / ((2.3 - 3) - (1.1)) + 447 + 7 - +05.8 - 1.9 + (0) - 6 + 0.9 + 4.3\n",
      "80.95 * +((9.6)) / 4288 / 7.65 / +51 + ((1 * 9.1 + 6) * (8) / (1) * 2.3 * 9.1 + ++4.0 / 7 - 6.6 * 1) / 6 / 9.283\n",
      "6.072 * -43.8 / --(9 + 8 - 9.1) / +-+(7.1 + 5.1) / +(1)\n"
     ]
    }
   ],
   "source": [
    "%%top\n",
    "for i in range(10):\n",
    "    s = or1_fuzzer.fuzz(key=or1_start)\n",
    "    print(s)\n",
    "    assert or1_parser.can_parse(s)\n",
    "    if not faulty1_parser.can_parse(s):\n",
    "        assert faulty2_parser.can_parse(s)\n",
    "    elif not faulty2_parser.can_parse(s):\n",
    "        assert faulty1_parser.can_parse(s)\n",
    "    else:\n",
    "        assert and1_parser.can_parse(s)"
   ]
  },
  {
   "cell_type": "markdown",
   "metadata": {},
   "source": [
    "## Negation (self)"
   ]
  },
  {
   "cell_type": "code",
   "execution_count": 316,
   "metadata": {},
   "outputs": [
    {
     "data": {
      "text/plain": [
       "[]"
      ]
     },
     "execution_count": 316,
     "metadata": {},
     "output_type": "execute_result"
    }
   ],
   "source": [
    "EXCEPTION_HAPPENED"
   ]
  },
  {
   "cell_type": "markdown",
   "metadata": {},
   "source": [
    "Negation is approached in a fundamentally different way to inserting faults. First, we do not know what the key that when include, will cause the fault. So, there is no reachability check. On the other hand, we do know the prefix. It is the refinement of the _<start>_ symbol of the grammar to be negated.\n",
    "\n",
    "What we need to do for any key is to negate it (consider that we do not have strict non-redundancy requirement between rules so long as they have same base pattern), which means negating the individual rules, we need to move from `neg(rule1 or rule 2 or rule3)` to `neg(rule1) and neg(rule2) and neg(rule3)` where the base patterns of three rules are same.\n",
    "\n",
    "Now, how to negate a given rule: Take any given rule. All the base nonterminal symbols have to be negated in the sense that we have to somehow make them not reach the fault with the same prefix as `<start>`. This can be done using the reconstruct_key. Next, all refined symbols have to be negated against themselves."
   ]
  },
  {
   "cell_type": "code",
   "execution_count": 317,
   "metadata": {},
   "outputs": [],
   "source": [
    "def_F = [\n",
    " ['<T +F1>', ' + ', '<S>', '<Q>'],\n",
    " ['<T>', ' + ', '<S +F1>', '<Q>']]"
   ]
  },
  {
   "cell_type": "code",
   "execution_count": 318,
   "metadata": {},
   "outputs": [],
   "source": [
    "ndef_F = [['<T neg(+F1)>', ' + ', '<S neg(+F1)>', '<Q>']]"
   ]
  },
  {
   "cell_type": "code",
   "execution_count": 319,
   "metadata": {},
   "outputs": [],
   "source": [
    "ndef = normalize_grammar({'<x>': def_F})['<x>']"
   ]
  },
  {
   "cell_type": "code",
   "execution_count": 320,
   "metadata": {},
   "outputs": [],
   "source": [
    "assert ndef == [('<T>', ' + ', '<S>', '<Q>')]"
   ]
  },
  {
   "cell_type": "code",
   "execution_count": 321,
   "metadata": {},
   "outputs": [],
   "source": [
    "def find_base_and_refined_positions(refined_rule):\n",
    "    refined_pos = []\n",
    "    base_pos = []\n",
    "    refinements = []\n",
    "    for i, t in enumerate(refined_rule):\n",
    "        if not is_nt(t):\n",
    "            t_ = t # terminal\n",
    "        elif is_base_key(t):\n",
    "            t_ = t\n",
    "            base_pos.append(i)\n",
    "        elif is_refined_key(t):\n",
    "            t_ = t\n",
    "            refined_pos.append(i)\n",
    "        else:\n",
    "            assert False\n",
    "    return base_pos, refined_pos"
   ]
  },
  {
   "cell_type": "code",
   "execution_count": 322,
   "metadata": {},
   "outputs": [],
   "source": [
    "def negate_a_rule(refined_rule, log=False):\n",
    "    def negate_nt(t):\n",
    "        return unnegate_key(t) if is_negative_key(t) else negate_key(t)\n",
    "    _base_pos, refined_pos = find_base_and_refined_positions(refined_rule)\n",
    "    refinements = []\n",
    " \n",
    "    # now, take refined, one at a time, and negate them, while changing all other\n",
    "    # refined to base.\n",
    "    negated_rules = []\n",
    "    for pos in refined_pos:\n",
    "        new_rule = [negate_nt(t) if pos == i else\n",
    "                    (normalize(t) if i in refined_pos else t)\n",
    "                    for i,t in enumerate(refined_rule)]\n",
    "        negated_rules.append(new_rule)\n",
    "        refinements.append(new_rule[pos])\n",
    "    return negated_rules, refinements"
   ]
  },
  {
   "cell_type": "markdown",
   "metadata": {},
   "source": [
    "Negation of `def_F[0]` should result in only the refined token being negated."
   ]
  },
  {
   "cell_type": "code",
   "execution_count": 323,
   "metadata": {},
   "outputs": [],
   "source": [
    "neg_def_F_0, rfs = negate_a_rule(def_F[0], ndef[0]);\n",
    "assert neg_def_F_0 == [['<T neg(+F1)>', ' + ', '<S>', '<Q>']]"
   ]
  },
  {
   "cell_type": "code",
   "execution_count": 324,
   "metadata": {},
   "outputs": [],
   "source": [
    "nndef_F_0, rfs = negate_a_rule(ndef_F[0], ndef[0])"
   ]
  },
  {
   "cell_type": "code",
   "execution_count": 325,
   "metadata": {},
   "outputs": [],
   "source": [
    "assert nndef_F_0 == [['<T +F1>', ' + ', '<S>', '<Q>'],\n",
    "                     ['<T>', ' + ', '<S +F1>', '<Q>']]"
   ]
  },
  {
   "cell_type": "markdown",
   "metadata": {},
   "source": [
    "For negating a rule, we negate all base keys at the same time, but refined keys one at a time. This is because a rule could be like  `[<1,2,3,4,5>, <6,7,8,9,0>]` and a refinement could be `[<2,4>, <6,8,0>]`. The idea of negation of a rule is that a string that gets produced by the first should not be repeated in the second. Hence, the negation of this should be `[<1,2,3,4,5>, <7,9>] | [<1,3,5>, <6,7,8,9,0>]`. That is, refinement is removed in other refined keys."
   ]
  },
  {
   "cell_type": "code",
   "execution_count": 326,
   "metadata": {},
   "outputs": [],
   "source": [
    "def negate_ruleset(refined_rules, log=False):\n",
    "    refinements = []\n",
    "    # Given the set of fules, we take one rule at a time,\n",
    "    # and genrate the negated ruleset from that.\n",
    "    negated_rules = []\n",
    "    if log: print('> refined:', len(refined_rules))\n",
    "    for ruleR in refined_rules:\n",
    "        neg_rules, refs = negate_a_rule(ruleR, log)\n",
    "        negated_rules.append(neg_rules)\n",
    "        refinements.extend(refs)\n",
    "    return negated_rules, refinements"
   ]
  },
  {
   "cell_type": "markdown",
   "metadata": {},
   "source": [
    "Negation of rule set should only affect the refined keys."
   ]
  },
  {
   "cell_type": "code",
   "execution_count": 327,
   "metadata": {},
   "outputs": [],
   "source": [
    "neg_def_F_rs, rfs = negate_ruleset(def_F)\n",
    "assert neg_def_F_rs == [\n",
    "    [['<T neg(+F1)>', ' + ', '<S>', '<Q>']],\n",
    "    [['<T>', ' + ', '<S neg(+F1)>', '<Q>']]]\n"
   ]
  },
  {
   "cell_type": "code",
   "execution_count": 328,
   "metadata": {},
   "outputs": [
    {
     "name": "stdout",
     "output_type": "stream",
     "text": [
      "> refined: 1\n"
     ]
    }
   ],
   "source": [
    "nndef_F, rfs = negate_ruleset(ndef_F, ndef)"
   ]
  },
  {
   "cell_type": "code",
   "execution_count": 329,
   "metadata": {},
   "outputs": [],
   "source": [
    "assert nndef_F == [[['<T +F1>', ' + ', '<S>', '<Q>'],\n",
    "                    ['<T>', ' + ', '<S +F1>', '<Q>']]]"
   ]
  },
  {
   "cell_type": "code",
   "execution_count": 330,
   "metadata": {},
   "outputs": [],
   "source": [
    "def multi_and_rules(rules):\n",
    "    r1 = [rules[0]]\n",
    "    refinements = []\n",
    "    if len(rules) == 1:\n",
    "        return r1[0], []\n",
    "    for r in rules[1:]:\n",
    "        r1, refs = and_rules(r1, [r])\n",
    "        assert len(r1) == 1\n",
    "        refinements.extend(refs)\n",
    "    assert len(r1) == 1\n",
    "    return r1[0], refinements"
   ]
  },
  {
   "cell_type": "markdown",
   "metadata": {},
   "source": [
    "Negate definition"
   ]
  },
  {
   "cell_type": "code",
   "execution_count": 331,
   "metadata": {},
   "outputs": [],
   "source": [
    "def negate_definition(refined_rules, base_rules, log):\n",
    "    new_rulesB = []\n",
    "    new_refs = []\n",
    "    for base_rule in base_rules:\n",
    "        # What happens when there are multiple normalized rules? Then\n",
    "        # we have to consider each such rule seprate.\n",
    "        refined_rules_p = rules_normalized_match_to_rule(refined_rules, base_rule)\n",
    "        if not refined_rules_p:\n",
    "            new_rulesB.append(base_rule)\n",
    "            continue\n",
    "        \n",
    "        neg_rulesB, refs1 = negate_ruleset(refined_rules_p, log)\n",
    "        new_refs.extend(refs1)\n",
    "        if log: print('negate_ruleset:', len(neg_rulesB))\n",
    " \n",
    "        # TODO: Now, the idea is to do a `product` of each item in\n",
    "        # neg_rulesB with every other item. Each item has multiple\n",
    "        # rules in them, where one refinement is negated. So combining\n",
    "        # that with others of similar kind using `and` should produce\n",
    "        # a negated output.\n",
    "        \n",
    "        # Note that `refined_rules_p` are from the exact same pattern.\n",
    "        # now, we have negations of all rules. We need to compute `and` of similar\n",
    "        for m_rulesB in I.product(*neg_rulesB):\n",
    "            r, ref = multi_and_rules(m_rulesB)\n",
    "            new_rulesB.append(r)\n",
    "            new_refs.extend(ref)\n",
    "        \n",
    "    # now, include the unmatching base rules, and append.\n",
    "    return new_rulesB, new_refs"
   ]
  },
  {
   "cell_type": "markdown",
   "metadata": {},
   "source": [
    "Negating the original rule should result in this."
   ]
  },
  {
   "cell_type": "code",
   "execution_count": 332,
   "metadata": {},
   "outputs": [],
   "source": [
    "neg_def_F, rfs = negate_definition(def_F, ndef, False)"
   ]
  },
  {
   "cell_type": "code",
   "execution_count": 333,
   "metadata": {},
   "outputs": [
    {
     "data": {
      "text/plain": [
       "[['<T neg(+F1)>', ' + ', '<S neg(+F1)>', '<Q>']]"
      ]
     },
     "execution_count": 333,
     "metadata": {},
     "output_type": "execute_result"
    }
   ],
   "source": [
    "%top neg_def_F"
   ]
  },
  {
   "cell_type": "code",
   "execution_count": 334,
   "metadata": {},
   "outputs": [],
   "source": [
    "#assert neg_def_F == [['<T neg(+F1)>', ' + ', '<S>', '<Q>'],\n",
    "#                     ['<T>', ' + ', '<S neg(+F1)>', '<Q>']]"
   ]
  },
  {
   "cell_type": "markdown",
   "metadata": {},
   "source": [
    "base:\n",
    "```\n",
    "[(1|2) (1|2)]\n",
    "```\n",
    "\n",
    "refined:\n",
    "```\n",
    "[(1)  (1|2)]   --> 1,2\n",
    "[(1|2) (1)     --> 1,1\n",
    "```\n",
    "\n",
    "negated:\n",
    "```\n",
    "[(2) (1|2)]\n",
    "[(1|2) (2)     --> 1,2\n",
    "```"
   ]
  },
  {
   "cell_type": "code",
   "execution_count": 335,
   "metadata": {},
   "outputs": [],
   "source": [
    "assert neg_def_F == [['<T neg(+F1)>', ' + ', '<S neg(+F1)>', '<Q>']]"
   ]
  },
  {
   "cell_type": "markdown",
   "metadata": {},
   "source": [
    "Now, negating the negation should result in the fault back"
   ]
  },
  {
   "cell_type": "code",
   "execution_count": 336,
   "metadata": {},
   "outputs": [
    {
     "name": "stdout",
     "output_type": "stream",
     "text": [
      "> refined: 1\n",
      "negate_ruleset: 1\n"
     ]
    }
   ],
   "source": [
    "neg_neg_def_F, rfs = negate_definition(neg_def_F, ndef, True)"
   ]
  },
  {
   "cell_type": "code",
   "execution_count": 337,
   "metadata": {},
   "outputs": [
    {
     "data": {
      "text/plain": [
       "[['<T +F1>', ' + ', '<S>', '<Q>'], ['<T>', ' + ', '<S +F1>', '<Q>']]"
      ]
     },
     "execution_count": 337,
     "metadata": {},
     "output_type": "execute_result"
    }
   ],
   "source": [
    "neg_neg_def_F"
   ]
  },
  {
   "cell_type": "markdown",
   "metadata": {},
   "source": [
    "IDEA: Do not and rules produced from exploding the same rule. Instead, pair them up."
   ]
  },
  {
   "cell_type": "code",
   "execution_count": 338,
   "metadata": {},
   "outputs": [
    {
     "data": {
      "text/plain": [
       "[['<T +F1>', ' + ', '<S>', '<Q>'], ['<T>', ' + ', '<S +F1>', '<Q>']]"
      ]
     },
     "execution_count": 338,
     "metadata": {},
     "output_type": "execute_result"
    }
   ],
   "source": [
    "def_F"
   ]
  },
  {
   "cell_type": "code",
   "execution_count": 339,
   "metadata": {},
   "outputs": [],
   "source": [
    "assert neg_neg_def_F == def_F"
   ]
  },
  {
   "cell_type": "code",
   "execution_count": 340,
   "metadata": {},
   "outputs": [],
   "source": [
    "def negate_grammar_(refined_grammar, refined_start, base_grammar, base_start, log=False):\n",
    "    fault_key = refined_start\n",
    "    combined_g = copy_grammar(base_grammar)\n",
    "    refinements = []\n",
    "    for r_key in refined_grammar:\n",
    "        if log: print('>>', r_key)\n",
    "        combined_g[r_key] = refined_grammar[r_key]\n",
    "        if is_base_key(r_key):\n",
    "            # the same negation key can occur either from negating a refined\n",
    "            # key, or from adding a negation to a base key.\n",
    "            # The problem is, refined key may contain more info like pattern\n",
    "            # grammar\n",
    "            dk = negate_base_key(r_key, refinement(fault_key))\n",
    "            if dk in combined_g:\n",
    "                # already defined?\n",
    "                continue\n",
    "            # there is no refinement in this case. Hence,\n",
    "            combined_g[dk] = []\n",
    "            for rule in base_grammar[r_key]: # base and refined should be the same here.\n",
    "                _, _refined_pos  = find_base_and_refined_positions(rule)\n",
    "                assert not _refined_pos\n",
    "                combined_g[dk].append(rule)\n",
    "            continue\n",
    "        elif is_negative_key(r_key) and is_base_key(unnegate_key(r_key)):\n",
    "            # unk = unnegate_key(r_key)\n",
    "            # TODO: check if unk is reachable from refined_grammar, and it exists in refined grammar\n",
    "            #assert unk in refined_grammar, unk # if not, make up.\n",
    "            continue\n",
    "        dk = negate_key(r_key)\n",
    "        nk = normalize(r_key)\n",
    "        if log: print('gdefine[:', dk)\n",
    "        # r_key should actually be faulty_key, but the effect is felt only on the `refs`.\n",
    "        rules,refs = negate_definition(refined_grammar[r_key], base_grammar[nk], log)\n",
    "        # special case: How do we handle unreachable refined keys that are however defined\n",
    "        # with the same rules as unrefined keys? i.e refinement is zero TODO -- verify\n",
    "        if rules:\n",
    "            combined_g[dk] = rules\n",
    "        else: # no refinement\n",
    "            combined_g[dk] = refined_grammar[r_key]\n",
    "        refinements.extend(refs)\n",
    "        if log: print('gdefined]:', dk, combined_g[dk])\n",
    "    return combined_g, negate_key(refined_start), refinements"
   ]
  },
  {
   "cell_type": "code",
   "execution_count": 341,
   "metadata": {},
   "outputs": [
    {
     "name": "stdout",
     "output_type": "stream",
     "text": [
      "<start +F1> ::=\n",
      "|    <expr +F1>\n",
      "<expr +F1> ::=\n",
      "|    <term +F1>\n",
      "|    <term +F1> ' + ' <expr>\n",
      "|    <term +F1> ' - ' <expr>\n",
      "|    <term> ' + ' <expr +F1>\n",
      "|    <term> ' - ' <expr +F1>\n",
      "<term +F1> ::=\n",
      "|    <factor +F1>\n",
      "|    <factor +F1> ' * ' <term>\n",
      "|    <factor +F1> ' / ' <term>\n",
      "|    <factor> ' * ' <term +F1>\n",
      "|    <factor> ' / ' <term +F1>\n",
      "<expr> ::=\n",
      "|    <term>\n",
      "|    <term> ' + ' <expr>\n",
      "|    <term> ' - ' <expr>\n",
      "<term> ::=\n",
      "|    <factor>\n",
      "|    <factor> ' * ' <term>\n",
      "|    <factor> ' / ' <term>\n",
      "<factor +F1> ::=\n",
      "|    '(' <expr +F1> ')'\n",
      "|    '(' <expr L1_1> ')'\n",
      "|    '+' <factor +F1>\n",
      "|    '-' <factor +F1>\n",
      "<factor> ::=\n",
      "|    '(' <expr> ')'\n",
      "|    '+' <factor>\n",
      "|    '-' <factor>\n",
      "|    <integer>\n",
      "|    <integer> '.' <integer>\n",
      "<expr L1_1> ::=\n",
      "|    <term L1_1>\n",
      "<term L1_1> ::=\n",
      "|    <factor L1_2>\n",
      "<factor L1_2> ::=\n",
      "|    '(' <expr> ')'\n",
      "<integer> ::=\n",
      "|    <digit>\n",
      "|    <digit> <integer>\n",
      "<digit> ::=\n",
      "|    '0'\n",
      "|    '1'\n",
      "|    '2'\n",
      "|    '3'\n",
      "|    '4'\n",
      "|    '5'\n",
      "|    '6'\n",
      "|    '7'\n",
      "|    '8'\n",
      "|    '9'\n",
      "12 41\n"
     ]
    }
   ],
   "source": [
    "%%top\n",
    "Gs(faulty1_grammar)"
   ]
  },
  {
   "cell_type": "code",
   "execution_count": 342,
   "metadata": {},
   "outputs": [],
   "source": [
    "#%%top\n",
    "# faulty1_grammar is an atleast one fault grammar.\n",
    "negfaulty1_grammar_, negfaulty1_start, r_ = negate_grammar_(faulty1_grammar, faulty1_start, EXPR_GRAMMAR, EXPR_START)"
   ]
  },
  {
   "cell_type": "code",
   "execution_count": 343,
   "metadata": {
    "scrolled": false
   },
   "outputs": [
    {
     "name": "stdout",
     "output_type": "stream",
     "text": [
      "22 76\n"
     ]
    }
   ],
   "source": [
    "%top Gs(negfaulty1_grammar_,-1)"
   ]
  },
  {
   "cell_type": "code",
   "execution_count": 344,
   "metadata": {},
   "outputs": [],
   "source": [
    "#%%top\n",
    "ouk = undefined_keys(negfaulty1_grammar_)"
   ]
  },
  {
   "cell_type": "code",
   "execution_count": 345,
   "metadata": {},
   "outputs": [
    {
     "data": {
      "text/plain": [
       "['<expr and(neg(+F1),neg(L1_1))>']"
      ]
     },
     "execution_count": 345,
     "metadata": {},
     "output_type": "execute_result"
    }
   ],
   "source": [
    "%top ouk"
   ]
  },
  {
   "cell_type": "code",
   "execution_count": 346,
   "metadata": {},
   "outputs": [],
   "source": [
    "#%%top\n",
    "negfaulty1_grammar_ = complete(negfaulty1_grammar_, negfaulty1_start)"
   ]
  },
  {
   "cell_type": "code",
   "execution_count": 347,
   "metadata": {
    "scrolled": false
   },
   "outputs": [
    {
     "name": "stdout",
     "output_type": "stream",
     "text": [
      "30 109\n"
     ]
    },
    {
     "data": {
      "text/plain": [
       "'<start neg(+F1)>'"
      ]
     },
     "execution_count": 347,
     "metadata": {},
     "output_type": "execute_result"
    }
   ],
   "source": [
    "%%top\n",
    "Gs(negfaulty1_grammar_,-1)\n",
    "negfaulty1_start "
   ]
  },
  {
   "cell_type": "code",
   "execution_count": 348,
   "metadata": {},
   "outputs": [],
   "source": [
    "#%%top\n",
    "negfaulty1_grammar, negfaulty1_start = grammar_gc(negfaulty1_grammar_, negfaulty1_start)"
   ]
  },
  {
   "cell_type": "code",
   "execution_count": 349,
   "metadata": {
    "scrolled": false
   },
   "outputs": [
    {
     "name": "stdout",
     "output_type": "stream",
     "text": [
      "<start neg(+F1)> ::=\n",
      "|    <expr neg(+F1)>\n",
      "<expr neg(+F1)> ::=\n",
      "|    <term neg(+F1)>\n",
      "|    <term neg(+F1)> ' + ' <expr neg(+F1)>\n",
      "|    <term neg(+F1)> ' - ' <expr neg(+F1)>\n",
      "<term neg(+F1)> ::=\n",
      "|    <factor neg(+F1)>\n",
      "|    <factor neg(+F1)> ' * ' <term neg(+F1)>\n",
      "|    <factor neg(+F1)> ' / ' <term neg(+F1)>\n",
      "<factor neg(+F1)> ::=\n",
      "|    '(' <expr and(neg(+F1),neg(L1_1))> ')'\n",
      "|    '+' <factor neg(+F1)>\n",
      "|    '-' <factor neg(+F1)>\n",
      "|    <integer>\n",
      "|    <integer> '.' <integer>\n",
      "<expr and(neg(+F1),neg(L1_1))> ::=\n",
      "|    <term and(neg(+F1),neg(L1_1))>\n",
      "|    <term neg(+F1)> ' + ' <expr neg(+F1)>\n",
      "|    <term neg(+F1)> ' - ' <expr neg(+F1)>\n",
      "<integer> ::=\n",
      "|    <digit>\n",
      "|    <digit> <integer>\n",
      "<term and(neg(+F1),neg(L1_1))> ::=\n",
      "|    <factor and(neg(+F1),neg(L1_2))>\n",
      "|    <factor neg(+F1)> ' * ' <term neg(+F1)>\n",
      "|    <factor neg(+F1)> ' / ' <term neg(+F1)>\n",
      "<factor and(neg(+F1),neg(L1_2))> ::=\n",
      "|    '+' <factor neg(+F1)>\n",
      "|    '-' <factor neg(+F1)>\n",
      "|    <integer>\n",
      "|    <integer> '.' <integer>\n",
      "<digit> ::=\n",
      "|    '0'\n",
      "|    '1'\n",
      "|    '2'\n",
      "|    '3'\n",
      "|    '4'\n",
      "|    '5'\n",
      "|    '6'\n",
      "|    '7'\n",
      "|    '8'\n",
      "|    '9'\n",
      "9 34\n"
     ]
    },
    {
     "data": {
      "text/plain": [
       "'<start neg(+F1)>'"
      ]
     },
     "execution_count": 349,
     "metadata": {},
     "output_type": "execute_result"
    }
   ],
   "source": [
    "%%top\n",
    "Gs(negfaulty1_grammar)\n",
    "negfaulty1_start"
   ]
  },
  {
   "cell_type": "code",
   "execution_count": 350,
   "metadata": {},
   "outputs": [],
   "source": [
    "#%%top\n",
    "negfaulty1_fuzzer = LimitFuzzer(negfaulty1_grammar)\n",
    "negfaulty1_parser = Parser(negfaulty1_grammar, canonical=True, start_symbol=negfaulty1_start)"
   ]
  },
  {
   "cell_type": "code",
   "execution_count": 351,
   "metadata": {},
   "outputs": [
    {
     "name": "stdout",
     "output_type": "stream",
     "text": [
      "2157494 * 2.967 - (-73.3 - -(1.0) / (9) / 1 * 9 + -7 / 2.9 * 0.2) * (4 / 7) / +32.91 / -(6.1 - 5.3) - +749 * -++6 * 492 * -8 - (+5 - 1.5 * 3.9) / 6.9 - 91.8 + 62 * -9.1 / 0.3 * 0.1 - -7 * 0\n",
      "++5.23 * 72.8 * 4.54497\n",
      "-(6.12 + +-5 / (0.1) / 7.6 * 6.3) / 58\n",
      "-3 / (++2 * --6.7 * 1 - (4.2) / 0.3) * (1 - +2.7) / 060 * ++(7.0) * --4.3 + 4.1 * -(7.9 * 6)\n",
      "+++16.81 - (+82.8) * 3 * 47 * (4.4 + 1) - 50.3913\n",
      "(+8.815 / 5.8 + +53 * +(7.5) / (5.9)) / ++97 + 43 / +-(1 - 4) / 63.3 / 869 * ++8.4 * -3 / 3 / 4.0\n",
      "+-+97.1 + 5 - 60\n",
      "+93 / -5.486 / --++(9.8) * ++68 * (5 / 2.1 + 3.6 - 7.3)\n",
      "4.9 + 615.14 * 6.91513 * (5 / 6.5 * 2) * 097 / +-7\n",
      "8416145.301 / -+9 * +-(1.6 * 9 + 0.9 - 4.7) - 9 / +6422.1 / -++7.5 - +(-8.6 * 0.8 / 2 + 9.4)\n"
     ]
    }
   ],
   "source": [
    "%%top\n",
    "for i in range(10):\n",
    "    s = negfaulty1_fuzzer.fuzz(key=negfaulty1_start)\n",
    "    print(s)\n",
    "    assert negfaulty1_parser.can_parse(s)\n",
    "    assert not faulty1_parser.can_parse(s)"
   ]
  },
  {
   "cell_type": "code",
   "execution_count": 352,
   "metadata": {},
   "outputs": [],
   "source": [
    "%%top\n",
    "v = '((1))'\n",
    "assert not negfaulty1_parser.can_parse(v)"
   ]
  },
  {
   "cell_type": "code",
   "execution_count": 353,
   "metadata": {
    "scrolled": false
   },
   "outputs": [],
   "source": [
    "#%%top\n",
    "negnegfaulty1_grammar_, negnegfaulty1_start,_ = negate_grammar_(negfaulty1_grammar, negfaulty1_start, EXPR_GRAMMAR, EXPR_START)"
   ]
  },
  {
   "cell_type": "code",
   "execution_count": 354,
   "metadata": {},
   "outputs": [
    {
     "data": {
      "text/plain": [
       "['<expr +F1>', '<factor +F1>', '<term +F1>']"
      ]
     },
     "execution_count": 354,
     "metadata": {},
     "output_type": "execute_result"
    }
   ],
   "source": [
    "undefined_keys(negnegfaulty1_grammar_)"
   ]
  },
  {
   "cell_type": "code",
   "execution_count": 355,
   "metadata": {},
   "outputs": [],
   "source": [
    "#%%top\n",
    "negnegfaulty1_grammar_ = complete(negnegfaulty1_grammar_, negnegfaulty1_start)"
   ]
  },
  {
   "cell_type": "code",
   "execution_count": 356,
   "metadata": {},
   "outputs": [],
   "source": [
    "#%%top\n",
    "negnegfaulty1_grammar, negnegfaulty1_start = grammar_gc(negnegfaulty1_grammar_, negnegfaulty1_start)"
   ]
  },
  {
   "cell_type": "code",
   "execution_count": 357,
   "metadata": {},
   "outputs": [
    {
     "name": "stdout",
     "output_type": "stream",
     "text": [
      "<start neg(neg(+F1))> ::=\n",
      "|    <expr +F1>\n",
      "<expr +F1> ::=\n",
      "|    <term +F1>\n",
      "|    <term +F1> ' + ' <expr>\n",
      "|    <term +F1> ' - ' <expr>\n",
      "|    <term> ' + ' <expr +F1>\n",
      "|    <term> ' - ' <expr +F1>\n",
      "<term +F1> ::=\n",
      "|    <factor +F1>\n",
      "|    <factor +F1> ' * ' <term>\n",
      "|    <factor +F1> ' / ' <term>\n",
      "|    <factor> ' * ' <term +F1>\n",
      "|    <factor> ' / ' <term +F1>\n",
      "<expr> ::=\n",
      "|    <term>\n",
      "|    <term> ' + ' <expr>\n",
      "|    <term> ' - ' <expr>\n",
      "<term> ::=\n",
      "|    <factor>\n",
      "|    <factor> ' * ' <term>\n",
      "|    <factor> ' / ' <term>\n",
      "<factor +F1> ::=\n",
      "|    '(' <expr neg(and(neg(+F1),neg(L1_1)))> ')'\n",
      "|    '+' <factor +F1>\n",
      "|    '-' <factor +F1>\n",
      "<factor> ::=\n",
      "|    '(' <expr> ')'\n",
      "|    '+' <factor>\n",
      "|    '-' <factor>\n",
      "|    <integer>\n",
      "|    <integer> '.' <integer>\n",
      "<expr neg(and(neg(+F1),neg(L1_1)))> ::=\n",
      "|    <term +F1> ' + ' <expr>\n",
      "|    <term +F1> ' - ' <expr>\n",
      "|    <term neg(and(neg(+F1),neg(L1_1)))>\n",
      "|    <term> ' + ' <expr +F1>\n",
      "|    <term> ' - ' <expr +F1>\n",
      "<term neg(and(neg(+F1),neg(L1_1)))> ::=\n",
      "|    <factor +F1> ' * ' <term>\n",
      "|    <factor +F1> ' / ' <term>\n",
      "|    <factor neg(and(neg(+F1),neg(L1_2)))>\n",
      "|    <factor> ' * ' <term +F1>\n",
      "|    <factor> ' / ' <term +F1>\n",
      "<factor neg(and(neg(+F1),neg(L1_2)))> ::=\n",
      "|    '(' <expr> ')'\n",
      "|    '+' <factor +F1>\n",
      "|    '-' <factor +F1>\n",
      "<integer> ::=\n",
      "|    <digit>\n",
      "|    <digit> <integer>\n",
      "<digit> ::=\n",
      "|    '0'\n",
      "|    '1'\n",
      "|    '2'\n",
      "|    '3'\n",
      "|    '4'\n",
      "|    '5'\n",
      "|    '6'\n",
      "|    '7'\n",
      "|    '8'\n",
      "|    '9'\n",
      "12 50\n"
     ]
    },
    {
     "data": {
      "text/plain": [
       "'<start neg(neg(+F1))>'"
      ]
     },
     "execution_count": 357,
     "metadata": {},
     "output_type": "execute_result"
    }
   ],
   "source": [
    "%%top\n",
    "Gs(negnegfaulty1_grammar)\n",
    "negnegfaulty1_start"
   ]
  },
  {
   "cell_type": "code",
   "execution_count": 358,
   "metadata": {},
   "outputs": [],
   "source": [
    "#%%top\n",
    "negnegfaulty1_fuzzer = LimitFuzzer(negnegfaulty1_grammar)\n",
    "negnegfaulty1_parser = Parser(negnegfaulty1_grammar, canonical=True, start_symbol=negnegfaulty1_start)"
   ]
  },
  {
   "cell_type": "code",
   "execution_count": 359,
   "metadata": {},
   "outputs": [],
   "source": [
    "assert negnegfaulty1_parser.can_parse('((1))')"
   ]
  },
  {
   "cell_type": "code",
   "execution_count": 360,
   "metadata": {},
   "outputs": [],
   "source": [
    "assert not negnegfaulty1_parser.can_parse('1')"
   ]
  },
  {
   "cell_type": "code",
   "execution_count": 361,
   "metadata": {
    "scrolled": false
   },
   "outputs": [],
   "source": [
    "#%%top\n",
    "negfaulty2_grammar_, negfaulty2_start,_ = negate_grammar_(faulty2_grammar, faulty2_start, EXPR_GRAMMAR, EXPR_START)"
   ]
  },
  {
   "cell_type": "code",
   "execution_count": 362,
   "metadata": {},
   "outputs": [
    {
     "name": "stdout",
     "output_type": "stream",
     "text": [
      "18 66\n"
     ]
    },
    {
     "data": {
      "text/plain": [
       "'<start neg(+F2)>'"
      ]
     },
     "execution_count": 362,
     "metadata": {},
     "output_type": "execute_result"
    }
   ],
   "source": [
    "%%top\n",
    "Gs(negfaulty2_grammar_,-1)\n",
    "negfaulty2_start "
   ]
  },
  {
   "cell_type": "code",
   "execution_count": 363,
   "metadata": {},
   "outputs": [
    {
     "data": {
      "text/plain": [
       "['<expr and(neg(+F2),neg(L2_2))>']"
      ]
     },
     "execution_count": 363,
     "metadata": {},
     "output_type": "execute_result"
    }
   ],
   "source": [
    "#%%top\n",
    "ouk = undefined_keys(negfaulty2_grammar_); ouk"
   ]
  },
  {
   "cell_type": "code",
   "execution_count": 364,
   "metadata": {},
   "outputs": [],
   "source": [
    "#%%top\n",
    "negfaulty2_grammar_ = complete(negfaulty2_grammar_, negfaulty2_start)"
   ]
  },
  {
   "cell_type": "code",
   "execution_count": 365,
   "metadata": {
    "scrolled": false
   },
   "outputs": [
    {
     "name": "stdout",
     "output_type": "stream",
     "text": [
      "24 91\n"
     ]
    }
   ],
   "source": [
    "%top Gs(negfaulty2_grammar_, -1)"
   ]
  },
  {
   "cell_type": "code",
   "execution_count": 366,
   "metadata": {},
   "outputs": [
    {
     "data": {
      "image/png": "[encoded data removed]",
      "text/plain": [
       "<IPython.core.display.Image object>"
      ]
     },
     "execution_count": 366,
     "metadata": {},
     "output_type": "execute_result"
    }
   ],
   "source": [
    "%top Da(Ft2)"
   ]
  },
  {
   "cell_type": "code",
   "execution_count": 367,
   "metadata": {},
   "outputs": [
    {
     "name": "stdout",
     "output_type": "stream",
     "text": [
      "<start +F2> ::=\n",
      "|    <expr +F2>\n",
      "<expr +F2> ::=\n",
      "|    <term +F2>\n",
      "|    <term +F2> ' + ' <expr>\n",
      "|    <term +F2> ' - ' <expr>\n",
      "|    <term> ' + ' <expr +F2>\n",
      "|    <term> ' + ' <expr L2_2>\n",
      "|    <term> ' - ' <expr +F2>\n",
      "<term +F2> ::=\n",
      "|    <factor +F2>\n",
      "|    <factor +F2> ' * ' <term>\n",
      "|    <factor +F2> ' / ' <term>\n",
      "|    <factor> ' * ' <term +F2>\n",
      "|    <factor> ' / ' <term +F2>\n",
      "<expr> ::=\n",
      "|    <term>\n",
      "|    <term> ' + ' <expr>\n",
      "|    <term> ' - ' <expr>\n",
      "<term> ::=\n",
      "|    <factor>\n",
      "|    <factor> ' * ' <term>\n",
      "|    <factor> ' / ' <term>\n",
      "<expr L2_2> ::=\n",
      "|    <term>\n",
      "<factor +F2> ::=\n",
      "|    '(' <expr +F2> ')'\n",
      "|    '+' <factor +F2>\n",
      "|    '-' <factor +F2>\n",
      "<factor> ::=\n",
      "|    '(' <expr> ')'\n",
      "|    '+' <factor>\n",
      "|    '-' <factor>\n",
      "|    <integer>\n",
      "|    <integer> '.' <integer>\n",
      "<integer> ::=\n",
      "|    <digit>\n",
      "|    <digit> <integer>\n",
      "<digit> ::=\n",
      "|    '0'\n",
      "|    '1'\n",
      "|    '2'\n",
      "|    '3'\n",
      "|    '4'\n",
      "|    '5'\n",
      "|    '6'\n",
      "|    '7'\n",
      "|    '8'\n",
      "|    '9'\n",
      "10 39\n"
     ]
    }
   ],
   "source": [
    "Gs(faulty2_grammar)"
   ]
  },
  {
   "cell_type": "code",
   "execution_count": 368,
   "metadata": {},
   "outputs": [
    {
     "name": "stdout",
     "output_type": "stream",
     "text": [
      "<start neg(+F2)> ::=\n",
      "|    <expr neg(+F2)>\n",
      "<expr neg(+F2)> ::=\n",
      "|    <term neg(+F2)>\n",
      "|    <term neg(+F2)> ' + ' <expr and(neg(+F2),neg(L2_2))>\n",
      "|    <term neg(+F2)> ' - ' <expr neg(+F2)>\n",
      "<term neg(+F2)> ::=\n",
      "|    <factor neg(+F2)>\n",
      "|    <factor neg(+F2)> ' * ' <term neg(+F2)>\n",
      "|    <factor neg(+F2)> ' / ' <term neg(+F2)>\n",
      "<expr and(neg(+F2),neg(L2_2))> ::=\n",
      "|    <term neg(+F2)> ' + ' <expr and(neg(+F2),neg(L2_2))>\n",
      "|    <term neg(+F2)> ' - ' <expr neg(+F2)>\n",
      "<factor neg(+F2)> ::=\n",
      "|    '(' <expr neg(+F2)> ')'\n",
      "|    '+' <factor neg(+F2)>\n",
      "|    '-' <factor neg(+F2)>\n",
      "|    <integer>\n",
      "|    <integer> '.' <integer>\n",
      "<integer> ::=\n",
      "|    <digit>\n",
      "|    <digit> <integer>\n",
      "<digit> ::=\n",
      "|    '0'\n",
      "|    '1'\n",
      "|    '2'\n",
      "|    '3'\n",
      "|    '4'\n",
      "|    '5'\n",
      "|    '6'\n",
      "|    '7'\n",
      "|    '8'\n",
      "|    '9'\n",
      "7 26\n"
     ]
    },
    {
     "data": {
      "text/plain": [
       "'<start neg(+F2)>'"
      ]
     },
     "execution_count": 368,
     "metadata": {},
     "output_type": "execute_result"
    }
   ],
   "source": [
    "%%top\n",
    "negfaulty2_grammar, negfaulty2_start = grammar_gc(negfaulty2_grammar_, negfaulty2_start)\n",
    "Gs(negfaulty2_grammar)\n",
    "negfaulty2_start"
   ]
  },
  {
   "cell_type": "code",
   "execution_count": 369,
   "metadata": {},
   "outputs": [],
   "source": [
    "%%top\n",
    "negfaulty2_fuzzer = LimitFuzzer(negfaulty2_grammar)\n",
    "negfaulty2_parser = Parser(negfaulty2_grammar, canonical=True, start_symbol=negfaulty2_start)"
   ]
  },
  {
   "cell_type": "code",
   "execution_count": 370,
   "metadata": {},
   "outputs": [
    {
     "name": "stdout",
     "output_type": "stream",
     "text": [
      "(3.4) * (3 / (9) / 2.6 + -+0 / +9.5 - 4.0 + 1.8 / 8.2 + 2 - 7.0) * ++-1.8 - +((0 + 6.2 - 9) / 3.3 * 3.9 - +0.7 / 2 + 6.4 / 1.2 - 9) + 0.0 * 6.9 + 7 * +-6 / +-6.8 * -1.9 * 0.5 / 3.6 + -(2) + 7.5 - +1.7 / 8.2\n",
      "+-(--2.4 / (1.6) / 9.4 / 3.2) + -550.8 / ((6.7 - 1) - +0 - 7.2 - 1) / 420.1 + +--4 / --+-2 / 28 / 1.9 - -+(9 + 7.2 - 2.2) * ++-6 * (9 + 0 - 5.4) / 3.9 / 3 / 7 + 8 / (9) / 3.2 * 1 * 2 + 33 / +9 / 7 * 3 - 8 + 0.6 + 7.0 + 1.9 - 5\n",
      "+4.0 * 9.6 / 9.70 * -5.06 * +(2.3 + 3 - 2.0) / -2 / 1 / 2.6\n",
      "(+(7.7 / 4 - 2) - 2 * +(3.1) / 9 / 6) - +-234.0 - 05 / 956.67 / 8 + (2.5 - 8 / 6.3 + 1 - 9.1) * -(7 - 9) / 8.6 / +2 * 8.6 * 0 - -5.5 / 3 / -0.9 / 4.1 - -4 - 0 / 9 / 6.4\n",
      "5 * 8.84 * (-9 / 4.6) * (+0.4 / 5 * 7.8) * (5 / 6.2)\n",
      "++11636.0 * 8 / 1 + (--8 / 4.57 + 22 * -8.1 - +9 * 9.9 / 9 + 0.8 / 8.4 + 1 + 5.1 - 5) / 16.1822 * +6.2 * 7 * -+4 + +-3 - +473 / +6 / 0 * (4) / 3\n",
      "08.60 * (5 * 2) / (18 / 8 - +5 / 9.6) * 0698.2006 - 825804 * 7\n",
      "--2 - 4 / 6.328\n",
      "(5 * -6) / +-((1) / 3 * 6.3) * 3.65839 * -698 * -62 / 16.70 / 8 / 2 * 6 - (-27 / 5.50 + -(0) * (1) * 9 / 7.3 - -7 + 3 + 2.1 + 8.2 - 7.3) * 20628 - -3.32\n",
      "1.13013 - 9.7230 / 2.3 / --2.80 + -0718.2 * 0.102 * 6.8 * 07.33 / +0.3 / 5 - (+5.3 / 8.7 / 9.5) * (2 + 3 - 5)\n"
     ]
    }
   ],
   "source": [
    "%%top\n",
    "for i in range(10):\n",
    "    s = negfaulty2_fuzzer.fuzz(key=negfaulty2_start)\n",
    "    print(s)\n",
    "    assert negfaulty2_parser.can_parse(s)\n",
    "    assert not faulty2_parser.can_parse(s)"
   ]
  },
  {
   "cell_type": "code",
   "execution_count": 371,
   "metadata": {},
   "outputs": [
    {
     "name": "stdout",
     "output_type": "stream",
     "text": [
      "<start> ::=\n",
      "|    <expr>\n",
      "<expr> ::=\n",
      "|    <term>\n",
      "|    <term> ' + ' <expr>\n",
      "|    <term> ' - ' <expr>\n",
      "<term> ::=\n",
      "|    <factor>\n",
      "|    <factor> ' * ' <term>\n",
      "|    <factor> ' / ' <term>\n",
      "<factor> ::=\n",
      "|    '(' <expr> ')'\n",
      "|    '+' <factor>\n",
      "|    '-' <factor>\n",
      "|    <integer>\n",
      "|    <integer> '.' <integer>\n",
      "<integer> ::=\n",
      "|    <digit>\n",
      "|    <digit> <integer>\n",
      "<digit> ::=\n",
      "|    '0'\n",
      "|    '1'\n",
      "|    '2'\n",
      "|    '3'\n",
      "|    '4'\n",
      "|    '5'\n",
      "|    '6'\n",
      "|    '7'\n",
      "|    '8'\n",
      "|    '9'\n",
      "<start +F1> ::=\n",
      "|    <expr +F1>\n",
      "<start neg(+F1)> ::=\n",
      "|    <expr neg(+F1)>\n",
      "<expr +F1> ::=\n",
      "|    <term +F1>\n",
      "|    <term +F1> ' + ' <expr>\n",
      "|    <term +F1> ' - ' <expr>\n",
      "|    <term> ' + ' <expr +F1>\n",
      "|    <term> ' - ' <expr +F1>\n",
      "<expr neg(+F1)> ::=\n",
      "|    <term neg(+F1)> ' + ' <expr neg(+F1)>\n",
      "|    <term neg(+F1)> ' - ' <expr neg(+F1)>\n",
      "|    <term neg(+F1)>\n",
      "<term +F1> ::=\n",
      "|    <factor +F1>\n",
      "|    <factor +F1> ' * ' <term>\n",
      "|    <factor +F1> ' / ' <term>\n",
      "|    <factor> ' * ' <term +F1>\n",
      "|    <factor> ' / ' <term +F1>\n",
      "<term neg(+F1)> ::=\n",
      "|    <factor neg(+F1)> ' * ' <term neg(+F1)>\n",
      "|    <factor neg(+F1)> ' / ' <term neg(+F1)>\n",
      "|    <factor neg(+F1)>\n",
      "<expr neg(and(+F1,+F2))> ::=\n",
      "|    <term and(and(and(neg(and(+F1,+F2)),neg(+F1)),neg(+F1)),neg(+F2))> ' + ' <expr and(neg(and(+F1,+F2)),neg(and(+F1,L2_2)))>\n",
      "|    <term and(and(neg(and(+F1,+F2)),neg(+F1)),neg(+F1))> ' + ' <expr and(and(neg(+F1),neg(and(+F1,+F2))),neg(and(+F1,L2_2)))>\n",
      "|    <term and(and(neg(and(+F1,+F2)),neg(+F1)),neg(+F2))> ' + ' <expr and(and(neg(L2_2),neg(and(+F1,+F2))),neg(and(+F1,L2_2)))>\n",
      "|    <term and(neg(and(+F1,+F2)),neg(+F1))> ' + ' <expr and(and(and(neg(L2_2),neg(+F1)),neg(and(+F1,+F2))),neg(and(+F1,L2_2)))>\n",
      "|    <term and(and(neg(and(+F1,+F2)),neg(+F1)),neg(+F2))> ' + ' <expr and(and(neg(+F2),neg(and(+F1,+F2))),neg(and(+F1,L2_2)))>\n",
      "|    <term and(neg(and(+F1,+F2)),neg(+F1))> ' + ' <expr and(and(and(neg(+F2),neg(+F1)),neg(and(+F1,+F2))),neg(and(+F1,L2_2)))>\n",
      "|    <term and(neg(and(+F1,+F2)),neg(+F2))> ' + ' <expr and(and(and(neg(+F2),neg(L2_2)),neg(and(+F1,+F2))),neg(and(+F1,L2_2)))>\n",
      "|    <term neg(and(+F1,+F2))> ' + ' <expr and(and(and(and(neg(+F2),neg(L2_2)),neg(+F1)),neg(and(+F1,+F2))),neg(and(+F1,L2_2)))>\n",
      "|    <term and(and(neg(and(+F1,+F2)),neg(+F1)),neg(+F2))> ' - ' <expr neg(and(+F1,+F2))>\n",
      "|    <term and(neg(and(+F1,+F2)),neg(+F1))> ' - ' <expr and(neg(+F1),neg(and(+F1,+F2)))>\n",
      "|    <term and(neg(and(+F1,+F2)),neg(+F2))> ' - ' <expr and(neg(+F2),neg(and(+F1,+F2)))>\n",
      "|    <term neg(and(+F1,+F2))> ' - ' <expr and(and(neg(+F2),neg(+F1)),neg(and(+F1,+F2)))>\n",
      "|    <term neg(and(+F1,+F2))>\n",
      "<term neg(and(+F1,+F2))> ::=\n",
      "|    <factor and(and(neg(and(+F1,+F2)),neg(+F1)),neg(+F2))> ' * ' <term neg(and(+F1,+F2))>\n",
      "|    <factor and(neg(and(+F1,+F2)),neg(+F1))> ' * ' <term and(neg(+F1),neg(and(+F1,+F2)))>\n",
      "|    <factor and(neg(and(+F1,+F2)),neg(+F2))> ' * ' <term and(neg(+F2),neg(and(+F1,+F2)))>\n",
      "|    <factor neg(and(+F1,+F2))> ' * ' <term and(and(neg(+F2),neg(+F1)),neg(and(+F1,+F2)))>\n",
      "|    <factor and(and(neg(and(+F1,+F2)),neg(+F1)),neg(+F2))> ' / ' <term neg(and(+F1,+F2))>\n",
      "|    <factor and(neg(and(+F1,+F2)),neg(+F1))> ' / ' <term and(neg(+F1),neg(and(+F1,+F2)))>\n",
      "|    <factor and(neg(and(+F1,+F2)),neg(+F2))> ' / ' <term and(neg(+F2),neg(and(+F1,+F2)))>\n",
      "|    <factor neg(and(+F1,+F2))> ' / ' <term and(and(neg(+F2),neg(+F1)),neg(and(+F1,+F2)))>\n",
      "|    <factor neg(and(+F1,+F2))>\n",
      "<factor +F1> ::=\n",
      "|    '(' <expr +F1> ')'\n",
      "|    '(' <expr L1_1> ')'\n",
      "|    '+' <factor +F1>\n",
      "|    '-' <factor +F1>\n",
      "<factor neg(+F1)> ::=\n",
      "|    '+' <factor neg(+F1)>\n",
      "|    '-' <factor neg(+F1)>\n",
      "|    '(' <expr and(neg(+F1),neg(L1_1))> ')'\n",
      "|    <integer> '.' <integer>\n",
      "|    <integer>\n",
      "<factor neg(and(+F1,+F2))> ::=\n",
      "|    '+' <factor neg(and(+F1,+F2))>\n",
      "|    '-' <factor neg(and(+F1,+F2))>\n",
      "|    '(' <expr and(neg(and(+F1,+F2)),neg(and(L1_1,+F2)))> ')'\n",
      "|    <integer> '.' <integer>\n",
      "|    <integer>\n",
      "<expr L1_1> ::=\n",
      "|    <term L1_1>\n",
      "<expr neg(L1_1)> ::=\n",
      "|    <term> ' + ' <expr>\n",
      "|    <term> ' - ' <expr>\n",
      "|    <term neg(L1_1)>\n",
      "<term L1_1> ::=\n",
      "|    <factor L1_2>\n",
      "<term neg(L1_1)> ::=\n",
      "|    <factor> ' * ' <term>\n",
      "|    <factor> ' / ' <term>\n",
      "|    <factor neg(L1_2)>\n",
      "<factor L1_2> ::=\n",
      "|    '(' <expr> ')'\n",
      "<factor neg(L1_2)> ::=\n",
      "|    '+' <factor>\n",
      "|    '-' <factor>\n",
      "|    <integer> '.' <integer>\n",
      "|    <integer>\n",
      "<integer neg(and(+F1,+F2))> ::=\n",
      "|    <digit> <integer>\n",
      "|    <digit>\n",
      "<digit neg(and(+F1,+F2))> ::=\n",
      "|    '0'\n",
      "|    '1'\n",
      "|    '2'\n",
      "|    '3'\n",
      "|    '4'\n",
      "|    '5'\n",
      "|    '6'\n",
      "|    '7'\n",
      "|    '8'\n",
      "|    '9'\n",
      "<start +F2> ::=\n",
      "|    <expr +F2>\n",
      "<start neg(+F2)> ::=\n",
      "|    <expr neg(+F2)>\n",
      "<expr +F2> ::=\n",
      "|    <term +F2>\n",
      "|    <term +F2> ' + ' <expr>\n",
      "|    <term +F2> ' - ' <expr>\n",
      "|    <term> ' + ' <expr +F2>\n",
      "|    <term> ' + ' <expr L2_2>\n",
      "|    <term> ' - ' <expr +F2>\n",
      "<expr neg(+F2)> ::=\n",
      "|    <term neg(+F2)> ' + ' <expr and(neg(+F2),neg(L2_2))>\n",
      "|    <term neg(+F2)> ' - ' <expr neg(+F2)>\n",
      "|    <term neg(+F2)>\n",
      "<term +F2> ::=\n",
      "|    <factor +F2>\n",
      "|    <factor +F2> ' * ' <term>\n",
      "|    <factor +F2> ' / ' <term>\n",
      "|    <factor> ' * ' <term +F2>\n",
      "|    <factor> ' / ' <term +F2>\n",
      "<term neg(+F2)> ::=\n",
      "|    <factor neg(+F2)> ' * ' <term neg(+F2)>\n",
      "|    <factor neg(+F2)> ' / ' <term neg(+F2)>\n",
      "|    <factor neg(+F2)>\n",
      "<expr L2_2> ::=\n",
      "|    <term>\n",
      "<expr neg(L2_2)> ::=\n",
      "|    <term> ' + ' <expr>\n",
      "|    <term> ' - ' <expr>\n",
      "<factor +F2> ::=\n",
      "|    '(' <expr +F2> ')'\n",
      "|    '+' <factor +F2>\n",
      "|    '-' <factor +F2>\n",
      "<factor neg(+F2)> ::=\n",
      "|    '+' <factor neg(+F2)>\n",
      "|    '-' <factor neg(+F2)>\n",
      "|    '(' <expr neg(+F2)> ')'\n",
      "|    <integer> '.' <integer>\n",
      "|    <integer>\n",
      "<start and(+F1,+F2)> ::=\n",
      "|    <expr and(+F1,+F2)>\n",
      "<start neg(and(+F1,+F2))> ::=\n",
      "|    <expr neg(and(+F1,+F2))>\n",
      "<expr and(+F1,+F2)> ::=\n",
      "|    <term and(+F1,+F2)>\n",
      "|    <term and(+F1,+F2)> ' + ' <expr>\n",
      "|    <term +F1> ' + ' <expr +F2>\n",
      "|    <term +F1> ' + ' <expr L2_2>\n",
      "|    <term and(+F1,+F2)> ' - ' <expr>\n",
      "|    <term +F1> ' - ' <expr +F2>\n",
      "|    <term +F2> ' + ' <expr +F1>\n",
      "|    <term> ' + ' <expr and(+F1,+F2)>\n",
      "|    <term> ' + ' <expr and(+F1,L2_2)>\n",
      "|    <term +F2> ' - ' <expr +F1>\n",
      "|    <term> ' - ' <expr and(+F1,+F2)>\n",
      "<expr and(+F1,)> ::=\n",
      "|    <term +F1>\n",
      "|    <term +F1> ' + ' <expr>\n",
      "|    <term +F1> ' - ' <expr>\n",
      "|    <term> ' + ' <expr +F1>\n",
      "|    <term> ' - ' <expr +F1>\n",
      "<expr neg(and(+F1,))> ::=\n",
      "|    <term neg(+F1)> ' + ' <expr neg(+F1)>\n",
      "|    <term neg(+F1)> ' - ' <expr neg(+F1)>\n",
      "|    <term neg(+F1)>\n",
      "<expr and(+F1,L2_2)> ::=\n",
      "|    <term +F1>\n",
      "<expr neg(and(+F1,L2_2))> ::=\n",
      "|    <term> ' + ' <expr>\n",
      "|    <term> ' - ' <expr>\n",
      "|    <term neg(+F1)>\n",
      "<term and(+F1,+F2)> ::=\n",
      "|    <factor and(+F1,+F2)>\n",
      "|    <factor and(+F1,+F2)> ' * ' <term>\n",
      "|    <factor +F1> ' * ' <term +F2>\n",
      "|    <factor and(+F1,+F2)> ' / ' <term>\n",
      "|    <factor +F1> ' / ' <term +F2>\n",
      "|    <factor +F2> ' * ' <term +F1>\n",
      "|    <factor> ' * ' <term and(+F1,+F2)>\n",
      "|    <factor +F2> ' / ' <term +F1>\n",
      "|    <factor> ' / ' <term and(+F1,+F2)>\n",
      "<term and(+F1,)> ::=\n",
      "|    <factor +F1>\n",
      "|    <factor +F1> ' * ' <term>\n",
      "|    <factor +F1> ' / ' <term>\n",
      "|    <factor> ' * ' <term +F1>\n",
      "|    <factor> ' / ' <term +F1>\n",
      "<term neg(and(+F1,))> ::=\n",
      "|    <factor neg(+F1)> ' * ' <term neg(+F1)>\n",
      "|    <factor neg(+F1)> ' / ' <term neg(+F1)>\n",
      "|    <factor neg(+F1)>\n",
      "<expr and(,+F2)> ::=\n",
      "|    <term +F2>\n",
      "|    <term +F2> ' + ' <expr>\n",
      "|    <term> ' + ' <expr +F2>\n",
      "|    <term> ' + ' <expr L2_2>\n",
      "|    <term +F2> ' - ' <expr>\n",
      "|    <term> ' - ' <expr +F2>\n",
      "<expr neg(and(,+F2))> ::=\n",
      "|    <term neg(+F2)> ' + ' <expr and(neg(+F2),neg(L2_2))>\n",
      "|    <term neg(+F2)> ' - ' <expr neg(+F2)>\n",
      "|    <term neg(+F2)>\n",
      "<expr and(,)> ::=\n",
      "|    <term>\n",
      "|    <term> ' + ' <expr>\n",
      "|    <term> ' - ' <expr>\n",
      "<expr neg(and(,))> ::=\n",
      "|    <term>\n",
      "|    <term> ' + ' <expr>\n",
      "|    <term> ' - ' <expr>\n",
      "<expr and(,L2_2)> ::=\n",
      "|    <term>\n",
      "<expr neg(and(,L2_2))> ::=\n",
      "|    <term> ' + ' <expr>\n",
      "|    <term> ' - ' <expr>\n",
      "<term and(,+F2)> ::=\n",
      "|    <factor +F2>\n",
      "|    <factor +F2> ' * ' <term>\n",
      "|    <factor> ' * ' <term +F2>\n",
      "|    <factor +F2> ' / ' <term>\n",
      "|    <factor> ' / ' <term +F2>\n",
      "<term neg(and(,+F2))> ::=\n",
      "|    <factor neg(+F2)> ' * ' <term neg(+F2)>\n",
      "|    <factor neg(+F2)> ' / ' <term neg(+F2)>\n",
      "|    <factor neg(+F2)>\n",
      "<term and(,)> ::=\n",
      "|    <factor>\n",
      "|    <factor> ' * ' <term>\n",
      "|    <factor> ' / ' <term>\n",
      "<term neg(and(,))> ::=\n",
      "|    <factor>\n",
      "|    <factor> ' * ' <term>\n",
      "|    <factor> ' / ' <term>\n",
      "<factor and(+F1,+F2)> ::=\n",
      "|    '(' <expr and(+F1,+F2)> ')'\n",
      "|    '(' <expr and(L1_1,+F2)> ')'\n",
      "|    '+' <factor and(+F1,+F2)>\n",
      "|    '-' <factor and(+F1,+F2)>\n",
      "<factor and(+F1,)> ::=\n",
      "|    '(' <expr +F1> ')'\n",
      "|    '(' <expr L1_1> ')'\n",
      "|    '+' <factor +F1>\n",
      "|    '-' <factor +F1>\n",
      "<factor neg(and(+F1,))> ::=\n",
      "|    '+' <factor neg(+F1)>\n",
      "|    '-' <factor neg(+F1)>\n",
      "|    '(' <expr and(neg(+F1),neg(L1_1))> ')'\n",
      "|    <integer> '.' <integer>\n",
      "|    <integer>\n",
      "<factor and(,+F2)> ::=\n",
      "|    '(' <expr +F2> ')'\n",
      "|    '+' <factor +F2>\n",
      "|    '-' <factor +F2>\n",
      "<factor neg(and(,+F2))> ::=\n",
      "|    '+' <factor neg(+F2)>\n",
      "|    '-' <factor neg(+F2)>\n",
      "|    '(' <expr neg(+F2)> ')'\n",
      "|    <integer> '.' <integer>\n",
      "|    <integer>\n",
      "<factor and(,)> ::=\n",
      "|    '(' <expr> ')'\n",
      "|    '+' <factor>\n",
      "|    '-' <factor>\n",
      "|    <integer>\n",
      "|    <integer> '.' <integer>\n",
      "<factor neg(and(,))> ::=\n",
      "|    '(' <expr> ')'\n",
      "|    '+' <factor>\n",
      "|    '-' <factor>\n",
      "|    <integer>\n",
      "|    <integer> '.' <integer>\n",
      "<expr and(L1_1,+F2)> ::=\n",
      "|    <term and(L1_1,+F2)>\n",
      "<expr neg(and(L1_1,+F2))> ::=\n",
      "|    <term> ' + ' <expr>\n",
      "|    <term> ' - ' <expr>\n",
      "|    <term neg(and(L1_1,+F2))>\n",
      "<expr and(L1_1,)> ::=\n",
      "|    <term L1_1>\n",
      "<expr neg(and(L1_1,))> ::=\n",
      "|    <term> ' + ' <expr>\n",
      "|    <term> ' - ' <expr>\n",
      "|    <term neg(L1_1)>\n",
      "<expr and(L1_1,L2_2)> ::=\n",
      "|    <term L1_1>\n",
      "<expr neg(and(L1_1,L2_2))> ::=\n",
      "|    <term> ' + ' <expr>\n",
      "|    <term> ' - ' <expr>\n",
      "|    <term neg(L1_1)>\n",
      "<term and(L1_1,+F2)> ::=\n",
      "|    <factor and(L1_2,+F2)>\n",
      "<term neg(and(L1_1,+F2))> ::=\n",
      "|    <factor> ' * ' <term>\n",
      "|    <factor> ' / ' <term>\n",
      "|    <factor neg(and(L1_2,+F2))>\n",
      "<term and(L1_1,)> ::=\n",
      "|    <factor L1_2>\n",
      "<term neg(and(L1_1,))> ::=\n",
      "|    <factor> ' * ' <term>\n",
      "|    <factor> ' / ' <term>\n",
      "|    <factor neg(L1_2)>\n",
      "<factor and(L1_2,+F2)> ::=\n",
      "|    '(' <expr +F2> ')'\n",
      "<factor neg(and(L1_2,+F2))> ::=\n",
      "|    '+' <factor>\n",
      "|    '-' <factor>\n",
      "|    '(' <expr neg(+F2)> ')'\n",
      "|    <integer> '.' <integer>\n",
      "|    <integer>\n",
      "<factor and(L1_2,)> ::=\n",
      "|    '(' <expr> ')'\n",
      "<factor neg(and(L1_2,))> ::=\n",
      "|    '+' <factor>\n",
      "|    '-' <factor>\n",
      "|    <integer> '.' <integer>\n",
      "|    <integer>\n",
      "<integer and(,)> ::=\n",
      "|    <digit>\n",
      "|    <digit> <integer>\n",
      "<integer neg(and(,))> ::=\n",
      "|    <digit>\n",
      "|    <digit> <integer>\n",
      "<digit and(,)> ::=\n",
      "|    '0'\n",
      "|    '1'\n",
      "|    '2'\n",
      "|    '3'\n",
      "|    '4'\n",
      "|    '5'\n",
      "|    '6'\n",
      "|    '7'\n",
      "|    '8'\n",
      "|    '9'\n",
      "<digit neg(and(,))> ::=\n",
      "|    '0'\n",
      "|    '1'\n",
      "|    '2'\n",
      "|    '3'\n",
      "|    '4'\n",
      "|    '5'\n",
      "|    '6'\n",
      "|    '7'\n",
      "|    '8'\n",
      "|    '9'\n",
      "80 293\n"
     ]
    },
    {
     "data": {
      "text/plain": [
       "'<start neg(and(+F1,+F2))>'"
      ]
     },
     "execution_count": 371,
     "metadata": {},
     "output_type": "execute_result"
    }
   ],
   "source": [
    "%%top\n",
    "negfaulty3_grammar_, negfaulty3_start,_ = negate_grammar_(and1_grammar_, and1_start, EXPR_GRAMMAR, EXPR_START)\n",
    "Gs(negfaulty3_grammar_)\n",
    "negfaulty3_start "
   ]
  },
  {
   "cell_type": "code",
   "execution_count": 372,
   "metadata": {},
   "outputs": [
    {
     "data": {
      "text/plain": [
       "['<expr and(and(and(and(neg(+F2),neg(L2_2)),neg(+F1)),neg(and(+F1,+F2))),neg(and(+F1,L2_2)))>',\n",
       " '<expr and(and(and(neg(+F2),neg(+F1)),neg(and(+F1,+F2))),neg(and(+F1,L2_2)))>',\n",
       " '<expr and(and(and(neg(+F2),neg(L2_2)),neg(and(+F1,+F2))),neg(and(+F1,L2_2)))>',\n",
       " '<expr and(and(and(neg(L2_2),neg(+F1)),neg(and(+F1,+F2))),neg(and(+F1,L2_2)))>',\n",
       " '<expr and(and(neg(+F1),neg(and(+F1,+F2))),neg(and(+F1,L2_2)))>',\n",
       " '<expr and(and(neg(+F2),neg(+F1)),neg(and(+F1,+F2)))>',\n",
       " '<expr and(and(neg(+F2),neg(and(+F1,+F2))),neg(and(+F1,L2_2)))>',\n",
       " '<expr and(and(neg(L2_2),neg(and(+F1,+F2))),neg(and(+F1,L2_2)))>',\n",
       " '<expr and(neg(+F1),neg(L1_1))>',\n",
       " '<expr and(neg(+F1),neg(and(+F1,+F2)))>',\n",
       " '<expr and(neg(+F2),neg(L2_2))>',\n",
       " '<expr and(neg(+F2),neg(and(+F1,+F2)))>',\n",
       " '<expr and(neg(and(+F1,+F2)),neg(and(+F1,L2_2)))>',\n",
       " '<expr and(neg(and(+F1,+F2)),neg(and(L1_1,+F2)))>',\n",
       " '<factor and(and(neg(and(+F1,+F2)),neg(+F1)),neg(+F2))>',\n",
       " '<factor and(neg(and(+F1,+F2)),neg(+F1))>',\n",
       " '<factor and(neg(and(+F1,+F2)),neg(+F2))>',\n",
       " '<term and(and(and(neg(and(+F1,+F2)),neg(+F1)),neg(+F1)),neg(+F2))>',\n",
       " '<term and(and(neg(+F2),neg(+F1)),neg(and(+F1,+F2)))>',\n",
       " '<term and(and(neg(and(+F1,+F2)),neg(+F1)),neg(+F1))>',\n",
       " '<term and(and(neg(and(+F1,+F2)),neg(+F1)),neg(+F2))>',\n",
       " '<term and(neg(+F1),neg(and(+F1,+F2)))>',\n",
       " '<term and(neg(+F2),neg(and(+F1,+F2)))>',\n",
       " '<term and(neg(and(+F1,+F2)),neg(+F1))>',\n",
       " '<term and(neg(and(+F1,+F2)),neg(+F2))>']"
      ]
     },
     "execution_count": 372,
     "metadata": {},
     "output_type": "execute_result"
    }
   ],
   "source": [
    "%%top\n",
    "ouk = undefined_keys(negfaulty3_grammar_); ouk"
   ]
  },
  {
   "cell_type": "code",
   "execution_count": 373,
   "metadata": {},
   "outputs": [
    {
     "name": "stdout",
     "output_type": "stream",
     "text": [
      "1\n",
      "reconstructing: <expr and(and(and(and(neg(+F2),neg(L2_2)),neg(+F1)),neg(and(+F1,+F2))),neg(and(+F1,L2_2)))>\n",
      "'and(neg(+F1),and(neg(+F2),neg(L2_2)))'\n",
      "simplified_to: <expr and(neg(+F1),and(neg(+F2),neg(L2_2)))>\n",
      "24\n",
      "reconstructing: <expr and(and(and(neg(+F2),neg(+F1)),neg(and(+F1,+F2))),neg(and(+F1,L2_2)))>\n",
      "'or(and(neg(+F1),and(neg(+F2),neg(L2_2))),and(neg(+F1),neg(+F2)))'\n",
      "simplified_to: <expr or(and(neg(+F1),and(neg(+F2),neg(L2_2))),and(neg(+F1),neg(+F2)))>\n",
      "23\n",
      "reconstructing: <expr and(and(and(neg(+F2),neg(L2_2)),neg(and(+F1,+F2))),neg(and(+F1,L2_2)))>\n",
      "'or(and(neg(+F1),and(neg(+F2),neg(L2_2))),and(neg(+F2),neg(L2_2)))'\n",
      "simplified_to: <expr or(and(neg(+F1),and(neg(+F2),neg(L2_2))),and(neg(+F2),neg(L2_2)))>\n",
      "22\n",
      "reconstructing: <expr and(and(and(neg(L2_2),neg(+F1)),neg(and(+F1,+F2))),neg(and(+F1,L2_2)))>\n",
      "'or(and(neg(+F1),and(neg(+F2),neg(L2_2))),and(neg(+F1),neg(L2_2)))'\n",
      "simplified_to: <expr or(and(neg(+F1),and(neg(+F2),neg(L2_2))),and(neg(+F1),neg(L2_2)))>\n",
      "21\n",
      "reconstructing: <expr and(and(neg(+F1),neg(L1_1)),neg(+F2))>\n",
      "'and(neg(+F1),and(neg(+F2),neg(L1_1)))'\n",
      "simplified_to: <expr and(neg(+F1),and(neg(+F2),neg(L1_1)))>\n",
      "20\n",
      "reconstructing: <expr and(and(neg(+F1),neg(and(+F1,+F2))),neg(and(+F1,L2_2)))>\n",
      "'or(and(neg(+F1),and(neg(+F2),neg(L2_2))),or(and(neg(+F1),neg(+F2)),or(and(neg(+F1),neg(L2_2)),neg(+F1))))'\n",
      "simplified_to: <expr or(and(neg(+F1),and(neg(+F2),neg(L2_2))),or(and(neg(+F1),neg(+F2)),or(and(neg(+F1),neg(L2_2)),neg(+F1))))>\n",
      "20\n",
      "reconstructing: <expr and(and(neg(+F2),neg(+F1)),neg(and(+F1,+F2)))>\n",
      "'and(neg(+F1),neg(+F2))'\n",
      "simplified_to: <expr and(neg(+F1),neg(+F2))>\n",
      "19\n",
      "reconstructing: <expr and(and(neg(+F2),neg(and(+F1,+F2))),neg(and(+F1,L2_2)))>\n",
      "'or(and(neg(+F1),and(neg(+F2),neg(L2_2))),or(and(neg(+F1),neg(+F2)),and(neg(+F2),neg(L2_2))))'\n",
      "simplified_to: <expr or(and(neg(+F1),and(neg(+F2),neg(L2_2))),or(and(neg(+F1),neg(+F2)),and(neg(+F2),neg(L2_2))))>\n",
      "18\n",
      "reconstructing: <expr and(and(neg(L2_2),neg(and(+F1,+F2))),neg(and(+F1,L2_2)))>\n",
      "'or(and(neg(+F1),and(neg(+F2),neg(L2_2))),or(and(neg(+F1),neg(L2_2)),and(neg(+F2),neg(L2_2))))'\n",
      "simplified_to: <expr or(and(neg(+F1),and(neg(+F2),neg(L2_2))),or(and(neg(+F1),neg(L2_2)),and(neg(+F2),neg(L2_2))))>\n",
      "17\n",
      "reconstructing: <expr and(neg(+F1),neg(L1_1))>\n",
      "'and(neg(+F1),neg(L1_1))'\n",
      "simplified_to: <expr and(neg(+F1),neg(L1_1))>\n",
      "16\n",
      "reconstructing: <expr and(neg(+F1),neg(and(+F1,+F2)))>\n",
      "'or(and(neg(+F1),neg(+F2)),neg(+F1))'\n",
      "simplified_to: <expr or(and(neg(+F1),neg(+F2)),neg(+F1))>\n",
      "15\n",
      "reconstructing: <expr and(neg(+F2),neg(and(+F1,+F2)))>\n",
      "'or(and(neg(+F1),neg(+F2)),neg(+F2))'\n",
      "simplified_to: <expr or(and(neg(+F1),neg(+F2)),neg(+F2))>\n",
      "15\n",
      "reconstructing: <expr and(neg(and(+F1,+F2)),neg(and(+F1,L2_2)))>\n",
      "'or(and(neg(+F1),neg(+F2)),or(and(neg(+F1),neg(L2_2)),or(and(neg(+F2),neg(L2_2)),neg(+F1))))'\n",
      "simplified_to: <expr or(and(neg(+F1),neg(+F2)),or(and(neg(+F1),neg(L2_2)),or(and(neg(+F2),neg(L2_2)),neg(+F1))))>\n",
      "14\n",
      "reconstructing: <expr and(neg(and(+F1,+F2)),neg(and(L1_1,+F2)))>\n",
      "'or(and(neg(+F1),neg(+F2)),or(and(neg(+F1),neg(L1_1)),or(and(neg(+F2),neg(L1_1)),neg(+F2))))'\n",
      "simplified_to: <expr or(and(neg(+F1),neg(+F2)),or(and(neg(+F1),neg(L1_1)),or(and(neg(+F2),neg(L1_1)),neg(+F2))))>\n",
      "16\n",
      "reconstructing: <factor and(and(neg(and(+F1,+F2)),neg(+F1)),neg(+F2))>\n",
      "'and(neg(+F1),neg(+F2))'\n",
      "simplified_to: <factor and(neg(+F1),neg(+F2))>\n",
      "15\n",
      "reconstructing: <factor and(neg(and(+F1,+F2)),neg(+F1))>\n",
      "'or(and(neg(+F1),neg(+F2)),neg(+F1))'\n",
      "simplified_to: <factor or(and(neg(+F1),neg(+F2)),neg(+F1))>\n",
      "16\n",
      "reconstructing: <expr or(and(neg(+F1),neg(L1_1)),and(and(neg(+F1),neg(L1_1)),neg(+F2)))>\n",
      "'or(and(neg(+F1),and(neg(+F2),neg(L1_1))),and(neg(+F1),neg(L1_1)))'\n",
      "simplified_to: <expr or(and(neg(+F1),and(neg(+F2),neg(L1_1))),and(neg(+F1),neg(L1_1)))>\n",
      "16\n",
      "reconstructing: <factor and(neg(and(+F1,+F2)),neg(+F2))>\n",
      "'or(and(neg(+F1),neg(+F2)),neg(+F2))'\n",
      "simplified_to: <factor or(and(neg(+F1),neg(+F2)),neg(+F2))>\n",
      "17\n",
      "reconstructing: <expr or(neg(+F2),and(and(neg(+F1),neg(L1_1)),neg(+F2)))>\n",
      "'or(and(neg(+F1),and(neg(+F2),neg(L1_1))),neg(+F2))'\n",
      "simplified_to: <expr or(and(neg(+F1),and(neg(+F2),neg(L1_1))),neg(+F2))>\n",
      "17\n",
      "reconstructing: <factor or(neg(+F1),and(neg(+F1),neg(+F2)))>\n",
      "'or(and(neg(+F1),neg(+F2)),neg(+F1))'\n",
      "simplified_to: <factor or(and(neg(+F1),neg(+F2)),neg(+F1))>\n",
      "16\n",
      "reconstructing: <factor or(neg(+F2),and(neg(+F1),neg(+F2)))>\n",
      "'or(and(neg(+F1),neg(+F2)),neg(+F2))'\n",
      "simplified_to: <factor or(and(neg(+F1),neg(+F2)),neg(+F2))>\n",
      "15\n",
      "reconstructing: <term and(and(and(neg(and(+F1,+F2)),neg(+F1)),neg(+F1)),neg(+F2))>\n",
      "'and(neg(+F1),neg(+F2))'\n",
      "simplified_to: <term and(neg(+F1),neg(+F2))>\n",
      "14\n",
      "reconstructing: <term and(and(neg(+F2),neg(+F1)),neg(and(+F1,+F2)))>\n",
      "'and(neg(+F1),neg(+F2))'\n",
      "simplified_to: <term and(neg(+F1),neg(+F2))>\n",
      "13\n",
      "reconstructing: <term and(and(neg(and(+F1,+F2)),neg(+F1)),neg(+F1))>\n",
      "'or(and(neg(+F1),neg(+F2)),neg(+F1))'\n",
      "simplified_to: <term or(and(neg(+F1),neg(+F2)),neg(+F1))>\n",
      "11\n",
      "reconstructing: <term and(and(neg(and(+F1,+F2)),neg(+F1)),neg(+F2))>\n",
      "'and(neg(+F1),neg(+F2))'\n",
      "simplified_to: <term and(neg(+F1),neg(+F2))>\n",
      "10\n",
      "reconstructing: <term and(neg(+F1),neg(and(+F1,+F2)))>\n",
      "'or(and(neg(+F1),neg(+F2)),neg(+F1))'\n",
      "simplified_to: <term or(and(neg(+F1),neg(+F2)),neg(+F1))>\n",
      "9\n",
      "reconstructing: <term and(neg(+F2),neg(and(+F1,+F2)))>\n",
      "'or(and(neg(+F1),neg(+F2)),neg(+F2))'\n",
      "simplified_to: <term or(and(neg(+F1),neg(+F2)),neg(+F2))>\n",
      "7\n",
      "reconstructing: <term and(neg(and(+F1,+F2)),neg(+F1))>\n",
      "'or(and(neg(+F1),neg(+F2)),neg(+F1))'\n",
      "simplified_to: <term or(and(neg(+F1),neg(+F2)),neg(+F1))>\n",
      "6\n",
      "reconstructing: <term and(neg(and(+F1,+F2)),neg(+F2))>\n",
      "'or(and(neg(+F1),neg(+F2)),neg(+F2))'\n",
      "simplified_to: <term or(and(neg(+F1),neg(+F2)),neg(+F2))>\n",
      "5\n",
      "reconstructing: <term or(and(neg(+F1),neg(L1_1)),and(neg(+F1),and(neg(+F2),neg(L1_1))))>\n",
      "'or(and(neg(+F1),and(neg(+F2),neg(L1_1))),and(neg(+F1),neg(L1_1)))'\n",
      "simplified_to: <term or(and(neg(+F1),and(neg(+F2),neg(L1_1))),and(neg(+F1),neg(L1_1)))>\n",
      "5\n",
      "reconstructing: <factor or(and(neg(+F1),and(neg(+F2),neg(L1_2))),and(neg(+F1),neg(L1_2)))>\n",
      "'or(and(neg(+F1),and(neg(+F2),neg(L1_2))),and(neg(+F1),neg(L1_2)))'\n",
      "simplified_to: <factor or(and(neg(+F1),and(neg(+F2),neg(L1_2))),and(neg(+F1),neg(L1_2)))>\n",
      "4\n",
      "reconstructing: <term or(and(neg(+F2),neg(L1_1)),neg(+F2))>\n",
      "'or(and(neg(+F2),neg(L1_1)),neg(+F2))'\n",
      "simplified_to: <term or(and(neg(+F2),neg(L1_1)),neg(+F2))>\n",
      "4\n",
      "reconstructing: <factor or(neg(+F2),and(neg(+F2),neg(L1_2)))>\n",
      "'or(and(neg(+F2),neg(L1_2)),neg(+F2))'\n",
      "simplified_to: <factor or(and(neg(+F2),neg(L1_2)),neg(+F2))>\n",
      "3\n",
      "reconstructing: <term or(neg(+F2),and(neg(+F1),and(neg(+F2),neg(L1_1))))>\n",
      "'or(and(neg(+F1),and(neg(+F2),neg(L1_1))),neg(+F2))'\n",
      "simplified_to: <term or(and(neg(+F1),and(neg(+F2),neg(L1_1))),neg(+F2))>\n",
      "3\n",
      "reconstructing: <factor or(neg(+F2),and(neg(+F1),and(neg(+F2),neg(L1_2))))>\n",
      "'or(and(neg(+F1),and(neg(+F2),neg(L1_2))),neg(+F2))'\n",
      "simplified_to: <factor or(and(neg(+F1),and(neg(+F2),neg(L1_2))),neg(+F2))>\n",
      "2\n",
      "reconstructing: <term or(or(and(neg(+F2),neg(L1_1)),neg(+F2)),and(neg(+F1),neg(L1_1)))>\n",
      "'or(and(neg(+F1),neg(L1_1)),or(and(neg(+F2),neg(L1_1)),neg(+F2)))'\n",
      "simplified_to: <term or(and(neg(+F1),neg(L1_1)),or(and(neg(+F2),neg(L1_1)),neg(+F2)))>\n",
      "2\n",
      "reconstructing: <factor or(or(neg(+F2),and(neg(+F2),neg(L1_2))),and(neg(+F1),neg(L1_2)))>\n",
      "'or(and(neg(+F1),neg(L1_2)),or(and(neg(+F2),neg(L1_2)),neg(+F2)))'\n",
      "simplified_to: <factor or(and(neg(+F1),neg(L1_2)),or(and(neg(+F2),neg(L1_2)),neg(+F2)))>\n",
      "3\n",
      "reconstructing: <factor or(neg(+F1),neg(+F2))>\n",
      "'or(neg(+F1),neg(+F2))'\n",
      "simplified_to: <factor or(neg(+F1),neg(+F2))>\n",
      "3\n",
      "reconstructing: <expr or(and(neg(+F1),neg(L1_1)),neg(+F2))>\n",
      "'or(and(neg(+F1),neg(L1_1)),neg(+F2))'\n",
      "simplified_to: <expr or(and(neg(+F1),neg(L1_1)),neg(+F2))>\n",
      "3\n",
      "reconstructing: <factor or(neg(+F2),neg(+F1))>\n",
      "'or(neg(+F1),neg(+F2))'\n",
      "simplified_to: <factor or(neg(+F1),neg(+F2))>\n",
      "2\n",
      "reconstructing: <term or(neg(+F2),and(neg(+F1),neg(L1_1)))>\n",
      "'or(and(neg(+F1),neg(L1_1)),neg(+F2))'\n",
      "simplified_to: <term or(and(neg(+F1),neg(L1_1)),neg(+F2))>\n",
      "2\n",
      "reconstructing: <factor or(neg(+F2),and(neg(+F1),neg(L1_2)))>\n",
      "'or(and(neg(+F1),neg(L1_2)),neg(+F2))'\n",
      "simplified_to: <factor or(and(neg(+F1),neg(L1_2)),neg(+F2))>\n",
      "1\n",
      "reconstructing: <term or(or(or(and(neg(+F2),neg(L1_1)),neg(+F2)),and(neg(+F1),neg(L1_1))),and(neg(+F1),neg(+F2)))>\n",
      "'or(and(neg(+F1),neg(+F2)),or(and(neg(+F1),neg(L1_1)),or(and(neg(+F2),neg(L1_1)),neg(+F2))))'\n",
      "simplified_to: <term or(and(neg(+F1),neg(+F2)),or(and(neg(+F1),neg(L1_1)),or(and(neg(+F2),neg(L1_1)),neg(+F2))))>\n",
      "1\n",
      "reconstructing: <factor or(or(or(neg(+F2),and(neg(+F2),neg(L1_2))),and(neg(+F1),neg(L1_2))),and(neg(+F1),neg(+F2)))>\n",
      "'or(and(neg(+F1),neg(+F2)),or(and(neg(+F1),neg(L1_2)),or(and(neg(+F2),neg(L1_2)),neg(+F2))))'\n"
     ]
    },
    {
     "name": "stdout",
     "output_type": "stream",
     "text": [
      "simplified_to: <factor or(and(neg(+F1),neg(+F2)),or(and(neg(+F1),neg(L1_2)),or(and(neg(+F2),neg(L1_2)),neg(+F2))))>\n",
      "2\n",
      "reconstructing: <factor or(and(neg(+F1),neg(+F2)),or(neg(+F1),neg(+F2)))>\n",
      "'or(and(neg(+F1),neg(+F2)),or(neg(+F1),neg(+F2)))'\n",
      "simplified_to: <factor or(and(neg(+F1),neg(+F2)),or(neg(+F1),neg(+F2)))>\n",
      "2\n",
      "reconstructing: <expr or(and(and(neg(+F1),neg(L1_1)),neg(+F2)),or(and(neg(+F1),neg(L1_1)),neg(+F2)))>\n",
      "'or(and(neg(+F1),and(neg(+F2),neg(L1_1))),or(and(neg(+F1),neg(L1_1)),neg(+F2)))'\n",
      "simplified_to: <expr or(and(neg(+F1),and(neg(+F2),neg(L1_1))),or(and(neg(+F1),neg(L1_1)),neg(+F2)))>\n",
      "2\n",
      "reconstructing: <factor or(or(neg(+F2),neg(+F1)),and(neg(+F1),neg(+F2)))>\n",
      "'or(and(neg(+F1),neg(+F2)),or(neg(+F1),neg(+F2)))'\n",
      "simplified_to: <factor or(and(neg(+F1),neg(+F2)),or(neg(+F1),neg(+F2)))>\n",
      "1\n",
      "reconstructing: <term or(or(neg(+F2),and(neg(+F1),neg(L1_1))),and(neg(+F1),and(neg(+F2),neg(L1_1))))>\n",
      "'or(and(neg(+F1),and(neg(+F2),neg(L1_1))),or(and(neg(+F1),neg(L1_1)),neg(+F2)))'\n",
      "simplified_to: <term or(and(neg(+F1),and(neg(+F2),neg(L1_1))),or(and(neg(+F1),neg(L1_1)),neg(+F2)))>\n",
      "1\n",
      "reconstructing: <factor or(or(neg(+F2),and(neg(+F1),neg(L1_2))),and(neg(+F1),and(neg(+F2),neg(L1_2))))>\n",
      "'or(and(neg(+F1),and(neg(+F2),neg(L1_2))),or(and(neg(+F1),neg(L1_2)),neg(+F2)))'\n",
      "simplified_to: <factor or(and(neg(+F1),and(neg(+F2),neg(L1_2))),or(and(neg(+F1),neg(L1_2)),neg(+F2)))>\n",
      "1\n",
      "reconstructing: <expr and(and(and(neg(+F2),neg(+F1)),neg(and(+F1,+F2))),neg(and(+F1,L2_2)))>\n",
      "'or(and(neg(+F1),and(neg(+F2),neg(L2_2))),and(neg(+F1),neg(+F2)))'\n",
      "simplified_to: <expr or(and(neg(+F1),and(neg(+F2),neg(L2_2))),and(neg(+F1),neg(+F2)))>\n",
      "1\n",
      "reconstructing: <expr and(and(and(neg(+F2),neg(L2_2)),neg(and(+F1,+F2))),neg(and(+F1,L2_2)))>\n",
      "'or(and(neg(+F1),and(neg(+F2),neg(L2_2))),and(neg(+F2),neg(L2_2)))'\n",
      "simplified_to: <expr or(and(neg(+F1),and(neg(+F2),neg(L2_2))),and(neg(+F2),neg(L2_2)))>\n",
      "1\n",
      "reconstructing: <expr and(and(and(neg(L2_2),neg(+F1)),neg(and(+F1,+F2))),neg(and(+F1,L2_2)))>\n",
      "'or(and(neg(+F1),and(neg(+F2),neg(L2_2))),and(neg(+F1),neg(L2_2)))'\n",
      "simplified_to: <expr or(and(neg(+F1),and(neg(+F2),neg(L2_2))),and(neg(+F1),neg(L2_2)))>\n",
      "1\n",
      "reconstructing: <expr and(and(neg(+F1),neg(and(+F1,+F2))),neg(and(+F1,L2_2)))>\n",
      "'or(and(neg(+F1),and(neg(+F2),neg(L2_2))),or(and(neg(+F1),neg(+F2)),or(and(neg(+F1),neg(L2_2)),neg(+F1))))'\n",
      "simplified_to: <expr or(and(neg(+F1),and(neg(+F2),neg(L2_2))),or(and(neg(+F1),neg(+F2)),or(and(neg(+F1),neg(L2_2)),neg(+F1))))>\n",
      "1\n",
      "reconstructing: <expr and(and(neg(+F2),neg(+F1)),neg(and(+F1,+F2)))>\n",
      "'and(neg(+F1),neg(+F2))'\n",
      "simplified_to: <expr and(neg(+F1),neg(+F2))>\n",
      "1\n",
      "reconstructing: <expr and(and(neg(+F2),neg(and(+F1,+F2))),neg(and(+F1,L2_2)))>\n",
      "'or(and(neg(+F1),and(neg(+F2),neg(L2_2))),or(and(neg(+F1),neg(+F2)),and(neg(+F2),neg(L2_2))))'\n",
      "simplified_to: <expr or(and(neg(+F1),and(neg(+F2),neg(L2_2))),or(and(neg(+F1),neg(+F2)),and(neg(+F2),neg(L2_2))))>\n",
      "1\n",
      "reconstructing: <expr and(and(neg(L2_2),neg(and(+F1,+F2))),neg(and(+F1,L2_2)))>\n",
      "'or(and(neg(+F1),and(neg(+F2),neg(L2_2))),or(and(neg(+F1),neg(L2_2)),and(neg(+F2),neg(L2_2))))'\n",
      "simplified_to: <expr or(and(neg(+F1),and(neg(+F2),neg(L2_2))),or(and(neg(+F1),neg(L2_2)),and(neg(+F2),neg(L2_2))))>\n",
      "1\n",
      "reconstructing: <expr and(neg(+F1),neg(and(+F1,+F2)))>\n",
      "'or(and(neg(+F1),neg(+F2)),neg(+F1))'\n",
      "simplified_to: <expr or(and(neg(+F1),neg(+F2)),neg(+F1))>\n",
      "1\n",
      "reconstructing: <expr and(neg(+F2),neg(and(+F1,+F2)))>\n",
      "'or(and(neg(+F1),neg(+F2)),neg(+F2))'\n",
      "simplified_to: <expr or(and(neg(+F1),neg(+F2)),neg(+F2))>\n",
      "1\n",
      "reconstructing: <expr and(neg(and(+F1,+F2)),neg(and(+F1,L2_2)))>\n",
      "'or(and(neg(+F1),neg(+F2)),or(and(neg(+F1),neg(L2_2)),or(and(neg(+F2),neg(L2_2)),neg(+F1))))'\n",
      "simplified_to: <expr or(and(neg(+F1),neg(+F2)),or(and(neg(+F1),neg(L2_2)),or(and(neg(+F2),neg(L2_2)),neg(+F1))))>\n",
      "1\n",
      "reconstructing: <expr and(neg(and(+F1,+F2)),neg(and(L1_1,+F2)))>\n",
      "'or(and(neg(+F1),neg(+F2)),or(and(neg(+F1),neg(L1_1)),or(and(neg(+F2),neg(L1_1)),neg(+F2))))'\n",
      "simplified_to: <expr or(and(neg(+F1),neg(+F2)),or(and(neg(+F1),neg(L1_1)),or(and(neg(+F2),neg(L1_1)),neg(+F2))))>\n",
      "1\n",
      "reconstructing: <factor and(and(neg(and(+F1,+F2)),neg(+F1)),neg(+F2))>\n",
      "'and(neg(+F1),neg(+F2))'\n",
      "simplified_to: <factor and(neg(+F1),neg(+F2))>\n",
      "1\n",
      "reconstructing: <factor and(neg(and(+F1,+F2)),neg(+F1))>\n",
      "'or(and(neg(+F1),neg(+F2)),neg(+F1))'\n",
      "simplified_to: <factor or(and(neg(+F1),neg(+F2)),neg(+F1))>\n",
      "1\n",
      "reconstructing: <factor and(neg(and(+F1,+F2)),neg(+F2))>\n",
      "'or(and(neg(+F1),neg(+F2)),neg(+F2))'\n",
      "simplified_to: <factor or(and(neg(+F1),neg(+F2)),neg(+F2))>\n",
      "1\n",
      "reconstructing: <term and(and(and(neg(and(+F1,+F2)),neg(+F1)),neg(+F1)),neg(+F2))>\n",
      "'and(neg(+F1),neg(+F2))'\n",
      "simplified_to: <term and(neg(+F1),neg(+F2))>\n",
      "1\n",
      "reconstructing: <term and(and(neg(+F2),neg(+F1)),neg(and(+F1,+F2)))>\n",
      "'and(neg(+F1),neg(+F2))'\n",
      "simplified_to: <term and(neg(+F1),neg(+F2))>\n",
      "1\n",
      "reconstructing: <term and(and(neg(and(+F1,+F2)),neg(+F1)),neg(+F1))>\n",
      "'or(and(neg(+F1),neg(+F2)),neg(+F1))'\n",
      "simplified_to: <term or(and(neg(+F1),neg(+F2)),neg(+F1))>\n",
      "1\n",
      "reconstructing: <term and(and(neg(and(+F1,+F2)),neg(+F1)),neg(+F2))>\n",
      "'and(neg(+F1),neg(+F2))'\n",
      "simplified_to: <term and(neg(+F1),neg(+F2))>\n",
      "1\n",
      "reconstructing: <term and(neg(+F1),neg(and(+F1,+F2)))>\n",
      "'or(and(neg(+F1),neg(+F2)),neg(+F1))'\n",
      "simplified_to: <term or(and(neg(+F1),neg(+F2)),neg(+F1))>\n",
      "1\n",
      "reconstructing: <term and(neg(+F2),neg(and(+F1,+F2)))>\n",
      "'or(and(neg(+F1),neg(+F2)),neg(+F2))'\n",
      "simplified_to: <term or(and(neg(+F1),neg(+F2)),neg(+F2))>\n",
      "1\n",
      "reconstructing: <term and(neg(and(+F1,+F2)),neg(+F1))>\n",
      "'or(and(neg(+F1),neg(+F2)),neg(+F1))'\n",
      "simplified_to: <term or(and(neg(+F1),neg(+F2)),neg(+F1))>\n",
      "1\n",
      "reconstructing: <term and(neg(and(+F1,+F2)),neg(+F2))>\n",
      "'or(and(neg(+F1),neg(+F2)),neg(+F2))'\n",
      "simplified_to: <term or(and(neg(+F1),neg(+F2)),neg(+F2))>\n"
     ]
    }
   ],
   "source": [
    "%%top\n",
    "negfaulty3_grammar_ = complete(negfaulty3_grammar_, negfaulty3_start, log=True)"
   ]
  },
  {
   "cell_type": "code",
   "execution_count": 374,
   "metadata": {},
   "outputs": [],
   "source": [
    "%%top\n",
    "negfaulty3_grammar, negfaulty3_start = grammar_gc(negfaulty3_grammar_, negfaulty3_start)"
   ]
  },
  {
   "cell_type": "code",
   "execution_count": 375,
   "metadata": {},
   "outputs": [
    {
     "name": "stdout",
     "output_type": "stream",
     "text": [
      "<start neg(and(+F1,+F2))> ::=\n",
      "|    <expr neg(and(+F1,+F2))>\n",
      "<expr neg(and(+F1,+F2))> ::=\n",
      "|    <term and(and(and(neg(and(+F1,+F2)),neg(+F1)),neg(+F1)),neg(+F2))> ' + ' <expr and(neg(and(+F1,+F2)),neg(and(+F1,L2_2)))>\n",
      "|    <term and(and(neg(and(+F1,+F2)),neg(+F1)),neg(+F1))> ' + ' <expr and(and(neg(+F1),neg(and(+F1,+F2))),neg(and(+F1,L2_2)))>\n",
      "|    <term and(and(neg(and(+F1,+F2)),neg(+F1)),neg(+F2))> ' + ' <expr and(and(neg(+F2),neg(and(+F1,+F2))),neg(and(+F1,L2_2)))>\n",
      "|    <term and(and(neg(and(+F1,+F2)),neg(+F1)),neg(+F2))> ' + ' <expr and(and(neg(L2_2),neg(and(+F1,+F2))),neg(and(+F1,L2_2)))>\n",
      "|    <term and(and(neg(and(+F1,+F2)),neg(+F1)),neg(+F2))> ' - ' <expr neg(and(+F1,+F2))>\n",
      "|    <term and(neg(and(+F1,+F2)),neg(+F1))> ' + ' <expr and(and(and(neg(+F2),neg(+F1)),neg(and(+F1,+F2))),neg(and(+F1,L2_2)))>\n",
      "|    <term and(neg(and(+F1,+F2)),neg(+F1))> ' + ' <expr and(and(and(neg(L2_2),neg(+F1)),neg(and(+F1,+F2))),neg(and(+F1,L2_2)))>\n",
      "|    <term and(neg(and(+F1,+F2)),neg(+F1))> ' - ' <expr and(neg(+F1),neg(and(+F1,+F2)))>\n",
      "|    <term and(neg(and(+F1,+F2)),neg(+F2))> ' + ' <expr and(and(and(neg(+F2),neg(L2_2)),neg(and(+F1,+F2))),neg(and(+F1,L2_2)))>\n",
      "|    <term and(neg(and(+F1,+F2)),neg(+F2))> ' - ' <expr and(neg(+F2),neg(and(+F1,+F2)))>\n",
      "|    <term neg(and(+F1,+F2))>\n",
      "|    <term neg(and(+F1,+F2))> ' + ' <expr and(and(and(and(neg(+F2),neg(L2_2)),neg(+F1)),neg(and(+F1,+F2))),neg(and(+F1,L2_2)))>\n",
      "|    <term neg(and(+F1,+F2))> ' - ' <expr and(and(neg(+F2),neg(+F1)),neg(and(+F1,+F2)))>\n",
      "<term and(and(and(neg(and(+F1,+F2)),neg(+F1)),neg(+F1)),neg(+F2))> ::=\n",
      "|    <factor and(neg(+F1),neg(+F2))>\n",
      "|    <factor and(neg(+F1),neg(+F2))> ' * ' <term and(neg(+F1),neg(+F2))>\n",
      "|    <factor and(neg(+F1),neg(+F2))> ' / ' <term and(neg(+F1),neg(+F2))>\n",
      "<expr and(neg(and(+F1,+F2)),neg(and(+F1,L2_2)))> ::=\n",
      "|    <term neg(+F1)> ' + ' <expr neg(+F1)>\n",
      "|    <term neg(+F1)> ' + ' <expr neg(+F1)>\n",
      "|    <term neg(+F1)> ' - ' <expr neg(+F1)>\n",
      "|    <term neg(+F1)> ' - ' <expr neg(+F1)>\n",
      "|    <term or(and(neg(+F1),neg(+F2)),neg(+F1))>\n",
      "<term and(and(neg(and(+F1,+F2)),neg(+F1)),neg(+F1))> ::=\n",
      "|    <factor and(neg(+F1),neg(+F2))> ' * ' <term and(neg(+F1),neg(+F2))>\n",
      "|    <factor and(neg(+F1),neg(+F2))> ' * ' <term and(neg(+F1),neg(+F2))>\n",
      "|    <factor neg(+F1)> ' / ' <term neg(+F1)>\n",
      "|    <factor neg(+F1)> ' / ' <term neg(+F1)>\n",
      "|    <factor or(and(neg(+F1),neg(+F2)),neg(+F1))>\n",
      "<expr and(and(neg(+F1),neg(and(+F1,+F2))),neg(and(+F1,L2_2)))> ::=\n",
      "|    <term neg(+F1)> ' + ' <expr neg(+F1)>\n",
      "|    <term neg(+F1)> ' + ' <expr neg(+F1)>\n",
      "|    <term neg(+F1)> ' - ' <expr neg(+F1)>\n",
      "|    <term neg(+F1)> ' - ' <expr neg(+F1)>\n",
      "|    <term or(and(neg(+F1),neg(+F2)),neg(+F1))>\n",
      "<term and(and(neg(and(+F1,+F2)),neg(+F1)),neg(+F2))> ::=\n",
      "|    <factor and(neg(+F1),neg(+F2))>\n",
      "|    <factor and(neg(+F1),neg(+F2))> ' * ' <term and(neg(+F1),neg(+F2))>\n",
      "|    <factor and(neg(+F1),neg(+F2))> ' / ' <term and(neg(+F1),neg(+F2))>\n",
      "<expr and(and(neg(+F2),neg(and(+F1,+F2))),neg(and(+F1,L2_2)))> ::=\n",
      "|    <term and(neg(+F1),neg(+F2))>\n",
      "|    <term and(neg(+F1),neg(+F2))> ' - ' <expr and(neg(+F1),neg(+F2))>\n",
      "|    <term neg(+F2)> ' + ' <expr and(neg(+F2),neg(L2_2))>\n",
      "|    <term neg(+F2)> ' + ' <expr and(neg(+F2),neg(L2_2))>\n",
      "<expr and(and(neg(L2_2),neg(and(+F1,+F2))),neg(and(+F1,L2_2)))> ::=\n",
      "|    <term neg(+F1)> ' + ' <expr neg(+F1)>\n",
      "|    <term neg(+F1)> ' + ' <expr neg(+F1)>\n",
      "|    <term neg(+F1)> ' - ' <expr neg(+F1)>\n",
      "|    <term neg(+F1)> ' - ' <expr neg(+F1)>\n",
      "<term and(neg(and(+F1,+F2)),neg(+F1))> ::=\n",
      "|    <factor and(neg(+F1),neg(+F2))> ' * ' <term and(neg(+F1),neg(+F2))>\n",
      "|    <factor and(neg(+F1),neg(+F2))> ' * ' <term and(neg(+F1),neg(+F2))>\n",
      "|    <factor neg(+F1)> ' / ' <term neg(+F1)>\n",
      "|    <factor neg(+F1)> ' / ' <term neg(+F1)>\n",
      "|    <factor or(and(neg(+F1),neg(+F2)),neg(+F1))>\n",
      "<expr and(and(and(neg(+F2),neg(+F1)),neg(and(+F1,+F2))),neg(and(+F1,L2_2)))> ::=\n",
      "|    <term and(neg(+F1),neg(+F2))>\n",
      "|    <term and(neg(+F1),neg(+F2))> ' + ' <expr and(neg(+F1),and(neg(+F2),neg(L2_2)))>\n",
      "|    <term and(neg(+F1),neg(+F2))> ' - ' <expr and(neg(+F1),neg(+F2))>\n",
      "<expr and(and(and(neg(L2_2),neg(+F1)),neg(and(+F1,+F2))),neg(and(+F1,L2_2)))> ::=\n",
      "|    <term neg(+F1)> ' + ' <expr neg(+F1)>\n",
      "|    <term neg(+F1)> ' + ' <expr neg(+F1)>\n",
      "|    <term neg(+F1)> ' - ' <expr neg(+F1)>\n",
      "|    <term neg(+F1)> ' - ' <expr neg(+F1)>\n",
      "<expr and(neg(+F1),neg(and(+F1,+F2)))> ::=\n",
      "|    <term neg(+F1)> ' + ' <expr neg(+F1)>\n",
      "|    <term neg(+F1)> ' + ' <expr neg(+F1)>\n",
      "|    <term neg(+F1)> ' - ' <expr neg(+F1)>\n",
      "|    <term neg(+F1)> ' - ' <expr neg(+F1)>\n",
      "|    <term or(and(neg(+F1),neg(+F2)),neg(+F1))>\n",
      "<term and(neg(and(+F1,+F2)),neg(+F2))> ::=\n",
      "|    <factor and(neg(+F1),neg(+F2))> ' * ' <term and(neg(+F1),neg(+F2))>\n",
      "|    <factor and(neg(+F1),neg(+F2))> ' * ' <term and(neg(+F1),neg(+F2))>\n",
      "|    <factor neg(+F2)> ' / ' <term neg(+F2)>\n",
      "|    <factor neg(+F2)> ' / ' <term neg(+F2)>\n",
      "|    <factor or(neg(+F2),and(neg(+F1),neg(+F2)))>\n",
      "<expr and(and(and(neg(+F2),neg(L2_2)),neg(and(+F1,+F2))),neg(and(+F1,L2_2)))> ::=\n",
      "|    <term and(neg(+F1),neg(+F2))> ' - ' <expr and(neg(+F1),neg(+F2))>\n",
      "|    <term and(neg(+F1),neg(+F2))> ' - ' <expr and(neg(+F1),neg(+F2))>\n",
      "|    <term neg(+F2)> ' + ' <expr and(neg(+F2),neg(L2_2))>\n",
      "|    <term neg(+F2)> ' + ' <expr and(neg(+F2),neg(L2_2))>\n",
      "<expr and(neg(+F2),neg(and(+F1,+F2)))> ::=\n",
      "|    <term and(neg(+F1),neg(+F2))> ' - ' <expr and(neg(+F1),neg(+F2))>\n",
      "|    <term and(neg(+F1),neg(+F2))> ' - ' <expr and(neg(+F1),neg(+F2))>\n",
      "|    <term neg(+F2)> ' + ' <expr and(neg(+F2),neg(L2_2))>\n",
      "|    <term neg(+F2)> ' + ' <expr and(neg(+F2),neg(L2_2))>\n",
      "|    <term or(and(neg(+F1),neg(+F2)),neg(+F2))>\n",
      "<term neg(and(+F1,+F2))> ::=\n",
      "|    <factor and(and(neg(and(+F1,+F2)),neg(+F1)),neg(+F2))> ' * ' <term neg(and(+F1,+F2))>\n",
      "|    <factor and(and(neg(and(+F1,+F2)),neg(+F1)),neg(+F2))> ' / ' <term neg(and(+F1,+F2))>\n",
      "|    <factor and(neg(and(+F1,+F2)),neg(+F1))> ' * ' <term and(neg(+F1),neg(and(+F1,+F2)))>\n",
      "|    <factor and(neg(and(+F1,+F2)),neg(+F1))> ' / ' <term and(neg(+F1),neg(and(+F1,+F2)))>\n",
      "|    <factor and(neg(and(+F1,+F2)),neg(+F2))> ' * ' <term and(neg(+F2),neg(and(+F1,+F2)))>\n",
      "|    <factor and(neg(and(+F1,+F2)),neg(+F2))> ' / ' <term and(neg(+F2),neg(and(+F1,+F2)))>\n",
      "|    <factor neg(and(+F1,+F2))>\n",
      "|    <factor neg(and(+F1,+F2))> ' * ' <term and(and(neg(+F2),neg(+F1)),neg(and(+F1,+F2)))>\n",
      "|    <factor neg(and(+F1,+F2))> ' / ' <term and(and(neg(+F2),neg(+F1)),neg(and(+F1,+F2)))>\n",
      "<expr and(and(and(and(neg(+F2),neg(L2_2)),neg(+F1)),neg(and(+F1,+F2))),neg(and(+F1,L2_2)))> ::=\n",
      "|    <term and(neg(+F1),neg(+F2))> ' + ' <expr and(neg(+F1),and(neg(+F2),neg(L2_2)))>\n",
      "|    <term and(neg(+F1),neg(+F2))> ' - ' <expr and(neg(+F1),neg(+F2))>\n",
      "<expr and(and(neg(+F2),neg(+F1)),neg(and(+F1,+F2)))> ::=\n",
      "|    <term and(neg(+F1),neg(+F2))>\n",
      "|    <term and(neg(+F1),neg(+F2))> ' + ' <expr and(neg(+F1),and(neg(+F2),neg(L2_2)))>\n",
      "|    <term and(neg(+F1),neg(+F2))> ' - ' <expr and(neg(+F1),neg(+F2))>\n",
      "<factor and(neg(+F1),neg(+F2))> ::=\n",
      "|    '(' <expr and(and(neg(+F1),neg(L1_1)),neg(+F2))> ')'\n",
      "|    '+' <factor and(neg(+F1),neg(+F2))>\n",
      "|    '-' <factor and(neg(+F1),neg(+F2))>\n",
      "|    <integer>\n",
      "|    <integer> '.' <integer>\n",
      "<term and(neg(+F1),neg(+F2))> ::=\n",
      "|    <factor and(neg(+F1),neg(+F2))>\n",
      "|    <factor and(neg(+F1),neg(+F2))> ' * ' <term and(neg(+F1),neg(+F2))>\n",
      "|    <factor and(neg(+F1),neg(+F2))> ' / ' <term and(neg(+F1),neg(+F2))>\n",
      "<expr and(and(neg(+F1),neg(L1_1)),neg(+F2))> ::=\n",
      "|    <term and(neg(+F1),and(neg(+F2),neg(L1_1)))>\n",
      "|    <term and(neg(+F1),neg(+F2))> ' + ' <expr and(neg(+F1),and(neg(+F2),neg(L2_2)))>\n",
      "|    <term and(neg(+F1),neg(+F2))> ' - ' <expr and(neg(+F1),neg(+F2))>\n",
      "<integer> ::=\n",
      "|    <digit>\n",
      "|    <digit> <integer>\n",
      "<term and(neg(+F1),and(neg(+F2),neg(L1_1)))> ::=\n",
      "|    <factor and(neg(+F1),and(neg(+F2),neg(L1_2)))>\n",
      "|    <factor and(neg(+F1),neg(+F2))> ' * ' <term and(neg(+F1),neg(+F2))>\n",
      "|    <factor and(neg(+F1),neg(+F2))> ' / ' <term and(neg(+F1),neg(+F2))>\n",
      "<expr and(neg(+F1),and(neg(+F2),neg(L2_2)))> ::=\n",
      "|    <term and(neg(+F1),neg(+F2))> ' + ' <expr and(neg(+F1),and(neg(+F2),neg(L2_2)))>\n",
      "|    <term and(neg(+F1),neg(+F2))> ' - ' <expr and(neg(+F1),neg(+F2))>\n",
      "<expr and(neg(+F1),neg(+F2))> ::=\n",
      "|    <term and(neg(+F1),neg(+F2))>\n",
      "|    <term and(neg(+F1),neg(+F2))> ' + ' <expr and(neg(+F1),and(neg(+F2),neg(L2_2)))>\n",
      "|    <term and(neg(+F1),neg(+F2))> ' - ' <expr and(neg(+F1),neg(+F2))>\n",
      "<factor and(neg(+F1),and(neg(+F2),neg(L1_2)))> ::=\n",
      "|    '+' <factor and(neg(+F1),neg(+F2))>\n",
      "|    '-' <factor and(neg(+F1),neg(+F2))>\n",
      "|    <integer>\n",
      "|    <integer> '.' <integer>\n",
      "<digit> ::=\n",
      "|    '0'\n",
      "|    '1'\n",
      "|    '2'\n",
      "|    '3'\n",
      "|    '4'\n",
      "|    '5'\n",
      "|    '6'\n",
      "|    '7'\n",
      "|    '8'\n",
      "|    '9'\n",
      "<term neg(+F1)> ::=\n",
      "|    <factor neg(+F1)>\n",
      "|    <factor neg(+F1)> ' * ' <term neg(+F1)>\n",
      "|    <factor neg(+F1)> ' / ' <term neg(+F1)>\n",
      "<expr neg(+F1)> ::=\n",
      "|    <term neg(+F1)>\n",
      "|    <term neg(+F1)> ' + ' <expr neg(+F1)>\n",
      "|    <term neg(+F1)> ' - ' <expr neg(+F1)>\n",
      "<term or(and(neg(+F1),neg(+F2)),neg(+F1))> ::=\n",
      "|    <factor and(neg(+F1),neg(+F2))> ' * ' <term and(neg(+F1),neg(+F2))>\n",
      "|    <factor and(neg(+F1),neg(+F2))> ' * ' <term and(neg(+F1),neg(+F2))>\n",
      "|    <factor neg(+F1)> ' / ' <term neg(+F1)>\n",
      "|    <factor neg(+F1)> ' / ' <term neg(+F1)>\n",
      "|    <factor or(and(neg(+F1),neg(+F2)),neg(+F1))>\n",
      "<factor neg(+F1)> ::=\n",
      "|    '(' <expr and(neg(+F1),neg(L1_1))> ')'\n",
      "|    '+' <factor neg(+F1)>\n",
      "|    '-' <factor neg(+F1)>\n",
      "|    <integer>\n",
      "|    <integer> '.' <integer>\n",
      "<expr and(neg(+F1),neg(L1_1))> ::=\n",
      "|    <term and(neg(+F1),neg(L1_1))>\n",
      "|    <term neg(+F1)> ' + ' <expr neg(+F1)>\n",
      "|    <term neg(+F1)> ' - ' <expr neg(+F1)>\n",
      "<term and(neg(+F1),neg(L1_1))> ::=\n",
      "|    <factor and(neg(+F1),neg(L1_2))>\n",
      "|    <factor neg(+F1)> ' * ' <term neg(+F1)>\n",
      "|    <factor neg(+F1)> ' / ' <term neg(+F1)>\n",
      "<factor and(neg(+F1),neg(L1_2))> ::=\n",
      "|    '+' <factor neg(+F1)>\n",
      "|    '-' <factor neg(+F1)>\n",
      "|    <integer>\n",
      "|    <integer> '.' <integer>\n",
      "<factor or(and(neg(+F1),neg(+F2)),neg(+F1))> ::=\n",
      "|    '(' <expr or(and(neg(+F1),neg(L1_1)),and(and(neg(+F1),neg(L1_1)),neg(+F2)))> ')'\n",
      "|    '+' <factor or(neg(+F1),and(neg(+F1),neg(+F2)))>\n",
      "|    '-' <factor or(and(neg(+F1),neg(+F2)),neg(+F1))>\n",
      "|    <integer>\n",
      "|    <integer> '.' <integer>\n",
      "<expr or(and(neg(+F1),neg(L1_1)),and(and(neg(+F1),neg(L1_1)),neg(+F2)))> ::=\n",
      "|    <term neg(+F1)> ' + ' <expr neg(+F1)>\n",
      "|    <term neg(+F1)> ' + ' <expr neg(+F1)>\n",
      "|    <term neg(+F1)> ' - ' <expr neg(+F1)>\n",
      "|    <term neg(+F1)> ' - ' <expr neg(+F1)>\n",
      "|    <term or(and(neg(+F1),neg(L1_1)),and(neg(+F1),and(neg(+F2),neg(L1_1))))>\n",
      "<factor or(neg(+F1),and(neg(+F1),neg(+F2)))> ::=\n",
      "|    '(' <expr or(and(neg(+F1),neg(L1_1)),and(and(neg(+F1),neg(L1_1)),neg(+F2)))> ')'\n",
      "|    '+' <factor or(neg(+F1),and(neg(+F1),neg(+F2)))>\n",
      "|    '-' <factor or(and(neg(+F1),neg(+F2)),neg(+F1))>\n",
      "|    <integer>\n",
      "|    <integer> '.' <integer>\n",
      "<term or(and(neg(+F1),neg(L1_1)),and(neg(+F1),and(neg(+F2),neg(L1_1))))> ::=\n",
      "|    <factor and(neg(+F1),neg(+F2))> ' * ' <term and(neg(+F1),neg(+F2))>\n",
      "|    <factor and(neg(+F1),neg(+F2))> ' * ' <term and(neg(+F1),neg(+F2))>\n",
      "|    <factor neg(+F1)> ' / ' <term neg(+F1)>\n",
      "|    <factor neg(+F1)> ' / ' <term neg(+F1)>\n",
      "|    <factor or(and(neg(+F1),and(neg(+F2),neg(L1_2))),and(neg(+F1),neg(L1_2)))>\n",
      "<factor or(and(neg(+F1),and(neg(+F2),neg(L1_2))),and(neg(+F1),neg(L1_2)))> ::=\n",
      "|    '+' <factor or(neg(+F1),and(neg(+F1),neg(+F2)))>\n",
      "|    '-' <factor or(and(neg(+F1),neg(+F2)),neg(+F1))>\n",
      "|    <integer>\n",
      "|    <integer> '.' <integer>\n",
      "<term neg(+F2)> ::=\n",
      "|    <factor neg(+F2)>\n",
      "|    <factor neg(+F2)> ' * ' <term neg(+F2)>\n",
      "|    <factor neg(+F2)> ' / ' <term neg(+F2)>\n",
      "<expr and(neg(+F2),neg(L2_2))> ::=\n",
      "|    <term neg(+F2)> ' + ' <expr and(neg(+F2),neg(L2_2))>\n",
      "|    <term neg(+F2)> ' - ' <expr neg(+F2)>\n",
      "<factor neg(+F2)> ::=\n",
      "|    '(' <expr neg(+F2)> ')'\n",
      "|    '+' <factor neg(+F2)>\n",
      "|    '-' <factor neg(+F2)>\n",
      "|    <integer>\n",
      "|    <integer> '.' <integer>\n",
      "<expr neg(+F2)> ::=\n",
      "|    <term neg(+F2)>\n",
      "|    <term neg(+F2)> ' + ' <expr and(neg(+F2),neg(L2_2))>\n",
      "|    <term neg(+F2)> ' - ' <expr neg(+F2)>\n",
      "<factor or(neg(+F2),and(neg(+F1),neg(+F2)))> ::=\n",
      "|    '(' <expr or(neg(+F2),and(and(neg(+F1),neg(L1_1)),neg(+F2)))> ')'\n",
      "|    '+' <factor or(neg(+F2),and(neg(+F1),neg(+F2)))>\n",
      "|    '-' <factor or(and(neg(+F1),neg(+F2)),neg(+F2))>\n",
      "|    <integer>\n",
      "|    <integer> '.' <integer>\n",
      "<expr or(neg(+F2),and(and(neg(+F1),neg(L1_1)),neg(+F2)))> ::=\n",
      "|    <term and(neg(+F1),neg(+F2))> ' - ' <expr and(neg(+F1),neg(+F2))>\n",
      "|    <term and(neg(+F1),neg(+F2))> ' - ' <expr and(neg(+F1),neg(+F2))>\n",
      "|    <term neg(+F2)> ' + ' <expr and(neg(+F2),neg(L2_2))>\n",
      "|    <term neg(+F2)> ' + ' <expr and(neg(+F2),neg(L2_2))>\n",
      "|    <term or(neg(+F2),and(neg(+F1),and(neg(+F2),neg(L1_1))))>\n",
      "<factor or(and(neg(+F1),neg(+F2)),neg(+F2))> ::=\n",
      "|    '(' <expr or(neg(+F2),and(and(neg(+F1),neg(L1_1)),neg(+F2)))> ')'\n",
      "|    '+' <factor or(neg(+F2),and(neg(+F1),neg(+F2)))>\n",
      "|    '-' <factor or(and(neg(+F1),neg(+F2)),neg(+F2))>\n",
      "|    <integer>\n",
      "|    <integer> '.' <integer>\n",
      "<term or(neg(+F2),and(neg(+F1),and(neg(+F2),neg(L1_1))))> ::=\n",
      "|    <factor and(neg(+F1),neg(+F2))> ' * ' <term and(neg(+F1),neg(+F2))>\n",
      "|    <factor and(neg(+F1),neg(+F2))> ' * ' <term and(neg(+F1),neg(+F2))>\n",
      "|    <factor neg(+F2)> ' / ' <term neg(+F2)>\n",
      "|    <factor neg(+F2)> ' / ' <term neg(+F2)>\n",
      "|    <factor or(neg(+F2),and(neg(+F1),and(neg(+F2),neg(L1_2))))>\n",
      "<factor or(neg(+F2),and(neg(+F1),and(neg(+F2),neg(L1_2))))> ::=\n",
      "|    '(' <expr neg(+F2)> ')'\n",
      "|    '+' <factor or(neg(+F2),and(neg(+F1),neg(+F2)))>\n",
      "|    '-' <factor or(and(neg(+F1),neg(+F2)),neg(+F2))>\n",
      "|    <integer>\n",
      "|    <integer> '.' <integer>\n",
      "<term or(and(neg(+F1),neg(+F2)),neg(+F2))> ::=\n",
      "|    <factor and(neg(+F1),neg(+F2))> ' * ' <term and(neg(+F1),neg(+F2))>\n",
      "|    <factor and(neg(+F1),neg(+F2))> ' * ' <term and(neg(+F1),neg(+F2))>\n",
      "|    <factor neg(+F2)> ' / ' <term neg(+F2)>\n",
      "|    <factor neg(+F2)> ' / ' <term neg(+F2)>\n",
      "|    <factor or(neg(+F2),and(neg(+F1),neg(+F2)))>\n",
      "<factor and(and(neg(and(+F1,+F2)),neg(+F1)),neg(+F2))> ::=\n",
      "|    '(' <expr and(and(neg(+F1),neg(L1_1)),neg(+F2))> ')'\n",
      "|    '+' <factor and(neg(+F1),neg(+F2))>\n",
      "|    '-' <factor and(neg(+F1),neg(+F2))>\n",
      "|    <integer>\n",
      "|    <integer> '.' <integer>\n",
      "<factor and(neg(and(+F1,+F2)),neg(+F1))> ::=\n",
      "|    '(' <expr or(and(neg(+F1),neg(L1_1)),and(and(neg(+F1),neg(L1_1)),neg(+F2)))> ')'\n",
      "|    '+' <factor or(neg(+F1),and(neg(+F1),neg(+F2)))>\n",
      "|    '-' <factor or(and(neg(+F1),neg(+F2)),neg(+F1))>\n",
      "|    <integer>\n",
      "|    <integer> '.' <integer>\n",
      "<term and(neg(+F1),neg(and(+F1,+F2)))> ::=\n",
      "|    <factor and(neg(+F1),neg(+F2))> ' * ' <term and(neg(+F1),neg(+F2))>\n",
      "|    <factor and(neg(+F1),neg(+F2))> ' * ' <term and(neg(+F1),neg(+F2))>\n",
      "|    <factor neg(+F1)> ' / ' <term neg(+F1)>\n",
      "|    <factor neg(+F1)> ' / ' <term neg(+F1)>\n",
      "|    <factor or(and(neg(+F1),neg(+F2)),neg(+F1))>\n",
      "<factor and(neg(and(+F1,+F2)),neg(+F2))> ::=\n",
      "|    '(' <expr or(neg(+F2),and(and(neg(+F1),neg(L1_1)),neg(+F2)))> ')'\n",
      "|    '+' <factor or(neg(+F2),and(neg(+F1),neg(+F2)))>\n",
      "|    '-' <factor or(and(neg(+F1),neg(+F2)),neg(+F2))>\n",
      "|    <integer>\n",
      "|    <integer> '.' <integer>\n",
      "<term and(neg(+F2),neg(and(+F1,+F2)))> ::=\n",
      "|    <factor and(neg(+F1),neg(+F2))> ' * ' <term and(neg(+F1),neg(+F2))>\n",
      "|    <factor and(neg(+F1),neg(+F2))> ' * ' <term and(neg(+F1),neg(+F2))>\n",
      "|    <factor neg(+F2)> ' / ' <term neg(+F2)>\n",
      "|    <factor neg(+F2)> ' / ' <term neg(+F2)>\n",
      "|    <factor or(neg(+F2),and(neg(+F1),neg(+F2)))>\n",
      "<factor neg(and(+F1,+F2))> ::=\n",
      "|    '(' <expr and(neg(and(+F1,+F2)),neg(and(L1_1,+F2)))> ')'\n",
      "|    '+' <factor neg(and(+F1,+F2))>\n",
      "|    '-' <factor neg(and(+F1,+F2))>\n",
      "|    <integer>\n",
      "|    <integer> '.' <integer>\n",
      "<term and(and(neg(+F2),neg(+F1)),neg(and(+F1,+F2)))> ::=\n",
      "|    <factor and(neg(+F1),neg(+F2))>\n",
      "|    <factor and(neg(+F1),neg(+F2))> ' * ' <term and(neg(+F1),neg(+F2))>\n",
      "|    <factor and(neg(+F1),neg(+F2))> ' / ' <term and(neg(+F1),neg(+F2))>\n",
      "<expr and(neg(and(+F1,+F2)),neg(and(L1_1,+F2)))> ::=\n",
      "|    <term neg(+F1)> ' + ' <expr neg(+F1)>\n",
      "|    <term neg(+F1)> ' + ' <expr neg(+F1)>\n",
      "|    <term neg(+F1)> ' - ' <expr neg(+F1)>\n",
      "|    <term neg(+F1)> ' - ' <expr neg(+F1)>\n",
      "|    <term or(or(or(and(neg(+F2),neg(L1_1)),neg(+F2)),and(neg(+F1),neg(L1_1))),and(neg(+F1),neg(+F2)))>\n",
      "<term or(or(or(and(neg(+F2),neg(L1_1)),neg(+F2)),and(neg(+F1),neg(L1_1))),and(neg(+F1),neg(+F2)))> ::=\n",
      "|    <factor and(neg(+F1),neg(+F2))> ' * ' <term and(neg(+F1),neg(+F2))>\n",
      "|    <factor and(neg(+F1),neg(+F2))> ' * ' <term and(neg(+F1),neg(+F2))>\n",
      "|    <factor neg(+F2)> ' / ' <term neg(+F2)>\n",
      "|    <factor neg(+F2)> ' / ' <term neg(+F2)>\n",
      "|    <factor or(or(or(neg(+F2),and(neg(+F2),neg(L1_2))),and(neg(+F1),neg(L1_2))),and(neg(+F1),neg(+F2)))>\n",
      "<factor or(or(or(neg(+F2),and(neg(+F2),neg(L1_2))),and(neg(+F1),neg(L1_2))),and(neg(+F1),neg(+F2)))> ::=\n",
      "|    '(' <expr or(neg(+F2),and(and(neg(+F1),neg(L1_1)),neg(+F2)))> ')'\n",
      "|    '+' <factor or(or(neg(+F2),neg(+F1)),and(neg(+F1),neg(+F2)))>\n",
      "|    '-' <factor or(and(neg(+F1),neg(+F2)),or(neg(+F1),neg(+F2)))>\n",
      "|    <integer>\n",
      "|    <integer> '.' <integer>\n",
      "<factor or(or(neg(+F2),neg(+F1)),and(neg(+F1),neg(+F2)))> ::=\n",
      "|    '(' <expr or(and(and(neg(+F1),neg(L1_1)),neg(+F2)),or(and(neg(+F1),neg(L1_1)),neg(+F2)))> ')'\n",
      "|    '+' <factor or(or(neg(+F2),neg(+F1)),and(neg(+F1),neg(+F2)))>\n",
      "|    '-' <factor or(and(neg(+F1),neg(+F2)),or(neg(+F1),neg(+F2)))>\n",
      "|    <integer>\n",
      "|    <integer> '.' <integer>\n",
      "<factor or(and(neg(+F1),neg(+F2)),or(neg(+F1),neg(+F2)))> ::=\n",
      "|    '(' <expr or(and(and(neg(+F1),neg(L1_1)),neg(+F2)),or(and(neg(+F1),neg(L1_1)),neg(+F2)))> ')'\n",
      "|    '+' <factor or(or(neg(+F2),neg(+F1)),and(neg(+F1),neg(+F2)))>\n",
      "|    '-' <factor or(and(neg(+F1),neg(+F2)),or(neg(+F1),neg(+F2)))>\n",
      "|    <integer>\n",
      "|    <integer> '.' <integer>\n",
      "<expr or(and(and(neg(+F1),neg(L1_1)),neg(+F2)),or(and(neg(+F1),neg(L1_1)),neg(+F2)))> ::=\n",
      "|    <term neg(+F1)> ' + ' <expr neg(+F1)>\n",
      "|    <term neg(+F1)> ' + ' <expr neg(+F1)>\n",
      "|    <term neg(+F1)> ' - ' <expr neg(+F1)>\n",
      "|    <term neg(+F1)> ' - ' <expr neg(+F1)>\n",
      "|    <term or(or(neg(+F2),and(neg(+F1),neg(L1_1))),and(neg(+F1),and(neg(+F2),neg(L1_1))))>\n",
      "<term or(or(neg(+F2),and(neg(+F1),neg(L1_1))),and(neg(+F1),and(neg(+F2),neg(L1_1))))> ::=\n",
      "|    <factor and(neg(+F1),neg(+F2))> ' * ' <term and(neg(+F1),neg(+F2))>\n",
      "|    <factor and(neg(+F1),neg(+F2))> ' * ' <term and(neg(+F1),neg(+F2))>\n",
      "|    <factor neg(+F2)> ' / ' <term neg(+F2)>\n",
      "|    <factor neg(+F2)> ' / ' <term neg(+F2)>\n",
      "|    <factor or(or(neg(+F2),and(neg(+F1),neg(L1_2))),and(neg(+F1),and(neg(+F2),neg(L1_2))))>\n",
      "<factor or(or(neg(+F2),and(neg(+F1),neg(L1_2))),and(neg(+F1),and(neg(+F2),neg(L1_2))))> ::=\n",
      "|    '(' <expr neg(+F2)> ')'\n",
      "|    '+' <factor or(or(neg(+F2),neg(+F1)),and(neg(+F1),neg(+F2)))>\n",
      "|    '-' <factor or(and(neg(+F1),neg(+F2)),or(neg(+F1),neg(+F2)))>\n",
      "|    <integer>\n",
      "|    <integer> '.' <integer>\n",
      "65 289\n"
     ]
    },
    {
     "data": {
      "text/plain": [
       "'<start neg(and(+F1,+F2))>'"
      ]
     },
     "execution_count": 375,
     "metadata": {},
     "output_type": "execute_result"
    }
   ],
   "source": [
    "%%top\n",
    "Gs(negfaulty3_grammar)\n",
    "negfaulty3_start"
   ]
  },
  {
   "cell_type": "code",
   "execution_count": 376,
   "metadata": {},
   "outputs": [],
   "source": [
    "%%top\n",
    "negfaulty3_fuzzer = LimitFuzzer(negfaulty3_grammar)\n",
    "negfaulty3_parser = Parser(negfaulty3_grammar, canonical=True, start_symbol=negfaulty3_start)"
   ]
  },
  {
   "cell_type": "code",
   "execution_count": 377,
   "metadata": {},
   "outputs": [
    {
     "data": {
      "text/plain": [
       "False"
      ]
     },
     "execution_count": 377,
     "metadata": {},
     "output_type": "execute_result"
    }
   ],
   "source": [
    "%top is_cfg_empty(negfaulty3_grammar, negfaulty3_start)"
   ]
  },
  {
   "cell_type": "code",
   "execution_count": 378,
   "metadata": {},
   "outputs": [],
   "source": [
    "%top assert negfaulty3_parser.can_parse('1')"
   ]
  },
  {
   "cell_type": "code",
   "execution_count": 379,
   "metadata": {},
   "outputs": [
    {
     "name": "stdout",
     "output_type": "stream",
     "text": [
      "-((9 * 3.0 - 8 + 0.2 + 8.3 + 3.3 + 9.2 - 0.9 + 9 - 3) * 96.40 / 2.2 / 2) / 7 / +4 / --6.10 - 646.6 - (2.8 / (0) + (3) - 4 + 3.2 + 9 + 3 + 6.6 - 8.4 + 4.2 - 0.4) * 117 / -91 * +-7 / (8.7)\n",
      "(8 / 53.80) / -(--4 * 6.4 * 0) * +-++3.0 * 972 + (-7) / 50343 * 47 + +080.801 * -+31.60 * 699.80 - 0.6 / 4 * 6.1 - 275 - --4.9 / 5 + +4 / 1 * 9 + 6.6 * 4 - 1\n",
      "((+1.5 - 6.7 / 4.2 + 1 - 5) * 183.7 / ++0 / 4 * 2 * 8.4 + 6 * 97.0 * +7.4 * 8.7 / 4.6 + -7 * (9) / 8 / 7 - 0 - 5 / 7.9 - 6) / 843286.2 - +5.9\n",
      "48.4\n",
      "+25 * -+1454.9 * (+9 / -4.6 + -7.6 / 8.7 / 7 - 1 * 5 + 9.7 - 1) * 182 / -+-8.4 / -4.0 / (8.2) + +-(-8 / 5.9 + 7.8 / 5 + 4 - 9.4) - 2 * -1.8 / (4 / 9) * 8.6 + 09 / +7 * (5 + 9)\n",
      "+++7.65 - +18.8 * ((4 - 3 - 9) * +9.1 / 7.0 * 9) / 929.9 / (4.1) / +7 + -9 * +++3.8 * +(8.8 + 0.6) - 1 / -19 + 015.8\n",
      "-(-0.79 / -7.9 * (1.1) * 2.3) / --9.6 + +-57 * (5.2 * -5 / 9.7 / 6) / 48.50 - 276.84 / 1.2879\n",
      "1.63 / -246.9817 * (++5.3 * 5 + -1.5 / 9.2) * (-1 * 4 / 0.3 - 0 / 8.7) / 75.6 * -+9.6 + 0.3 - +64 + 963 - -(0.6) - +(3.6)\n",
      "++-91 + 234 - --(3 / 4 - 6 + 4.9) / +9.57 * 9 / 2.83 * (4) / 3.0 + ((2.3) / 5.4) - +59 + 86 / 6 + 5 / 5.2 / 3\n",
      "0 * -20 / 93.2 / 81.19 / 5 / (7) * -7 * 3 / 3 + 029.5 * 52 / --+(4.9) + 1.3 * -040.446 / (0 * 5) * -+3.6 - --5.63\n"
     ]
    }
   ],
   "source": [
    "%%top\n",
    "for i in range(10):\n",
    "    # this is negate and(faulty1, faulty2) == or(neg(faulty1), neg(faulty2))\n",
    "    s = negfaulty3_fuzzer.fuzz(key=negfaulty3_start)\n",
    "    print(s)\n",
    "    assert negfaulty3_parser.can_parse(s)\n",
    "    assert negfaulty1_parser.can_parse(s) or negfaulty2_parser.can_parse(s)\n",
    "    assert not (faulty1_parser.can_parse(s) and faulty2_parser.can_parse(s))"
   ]
  },
  {
   "cell_type": "markdown",
   "metadata": {},
   "source": [
    "Tricks if undefined refinements remain: The references will be `and(,neg(...))` format, which means they are actually `neg(...)`. So, find `...` in the refined, and then go for a second round with that as the start key."
   ]
  },
  {
   "cell_type": "code",
   "execution_count": 380,
   "metadata": {},
   "outputs": [
    {
     "data": {
      "text/plain": [
       "[]"
      ]
     },
     "execution_count": 380,
     "metadata": {},
     "output_type": "execute_result"
    }
   ],
   "source": [
    "EXCEPTION_HAPPENED"
   ]
  },
  {
   "cell_type": "markdown",
   "metadata": {},
   "source": [
    "## Difference\n",
    "\n",
    "Need to identify and remove duplicate keys. Note that our `partial orders` are still primitive. We now have the machinery to do it right."
   ]
  },
  {
   "cell_type": "code",
   "execution_count": 381,
   "metadata": {},
   "outputs": [],
   "source": [
    "def difference_grammars(grammarA, startA, grammarB, startB):\n",
    "    if is_base_key(startB):\n",
    "        return {'<start>': []}, '<start>' # empty\n",
    "    base_g = normalize_grammar(grammarA)\n",
    "    base_s = normalize(startA) \n",
    "    negB_g, negB_s, refs = negate_grammar_(grammarB, startB, base_g, base_s)\n",
    "    negB_g = complete(negB_g, negB_s)\n",
    "    AminusB_g, AminusB_s, refs = and_grammars_(grammarA, startA, negB_g, negB_s)\n",
    "    AminusB_g = complete(AminusB_g, AminusB_s)\n",
    "    return AminusB_g, AminusB_s"
   ]
  },
  {
   "cell_type": "code",
   "execution_count": 382,
   "metadata": {},
   "outputs": [
    {
     "data": {
      "text/plain": [
       "{'<start>': ('<start or(+F1,+F2)>', []),\n",
       " '<expr>': ('<expr>', [('<expr or(+F2,+F1)>', [])]),\n",
       " '<term>': ('<term>', [('<term or(+F1,+F2)>', [])]),\n",
       " '<factor>': ('<factor>', [('<factor or(+F1,+F2)>', [])]),\n",
       " '<integer>': ('<integer>', []),\n",
       " '<digit>': ('<digit>', [])}"
      ]
     },
     "execution_count": 382,
     "metadata": {},
     "output_type": "execute_result"
    }
   ],
   "source": [
    "identify_partial_orders(or1_grammar)"
   ]
  },
  {
   "cell_type": "markdown",
   "metadata": {},
   "source": [
    "Identifying partial orders is simple once you have the machinary for `and` and `neg`. To find if a given nonterminal `A` is more refined than `B`, do `A-B`. This should be empty."
   ]
  },
  {
   "cell_type": "code",
   "execution_count": 383,
   "metadata": {},
   "outputs": [],
   "source": [
    "def is_keyA_more_refined_than_keyB(keyA, keyB, porder, grammar):\n",
    "    # essential idea of comparing two keys is this:\n",
    "    # One key is smaller than the other if for any given rule in the first,\n",
    "    # there exist another rule that is larger than that in the second key.\n",
    "    # a rule is smaller than another if all tokens in that rule is either equal\n",
    "    # (matching) or smaller than\n",
    "    # the corresponding token in the other.\n",
    "    \n",
    "    A_B_g, A_B_s = difference_grammars(grammar, keyA, grammar, keyB)\n",
    "    if is_cfg_empty(A_B_g, A_B_s): #A is smaller, so A-B should be empty.\n",
    "        return True\n",
    "    else:\n",
    "        return False"
   ]
  },
  {
   "cell_type": "code",
   "execution_count": 384,
   "metadata": {},
   "outputs": [],
   "source": [
    "def insert_into_porder(my_key, porder, grammar):\n",
    "    def update_tree(my_key, tree, grammar):\n",
    "        if tree is None: return True, (my_key, [])\n",
    "        k, children = tree\n",
    "        if is_base_key(my_key):\n",
    "            if not is_base_key(k):\n",
    "                return True, (my_key, [tree])\n",
    "            else:\n",
    "                return False, tree\n",
    " \n",
    "        v = is_keyA_more_refined_than_keyB(my_key, k, porder, grammar)\n",
    "        if is_base_key(k): v = True\n",
    "        # if v is unknown...\n",
    "        if v: # we should go into the children\n",
    "            if not children:\n",
    "                #print('>', 0)\n",
    "                return True, (k, [(my_key, [])])\n",
    "            new_children = []\n",
    "            updated = False\n",
    "            for c in children:\n",
    "                u, c_ = update_tree(my_key, c, grammar)\n",
    "                if u: updated = True\n",
    "                new_children.append(c_)\n",
    "            #print('>', 1)\n",
    "            return updated, (k, new_children)\n",
    "        else:\n",
    "            v = is_keyA_more_refined_than_keyB(k, my_key, porder, grammar)\n",
    "            if v:\n",
    "                #this should be the parent of tree\n",
    "                #print('>', 2)\n",
    "                return True, (my_key, [tree])\n",
    "            else:\n",
    "                # add as a sibling -- but only if we have evidence.\n",
    "                if v is not None:\n",
    "                    #print('>', 3)\n",
    "                    return True, (k, children + [(my_key, [])])\n",
    "                else:\n",
    "                    return False, tree\n",
    "    key = normalize(my_key)\n",
    "    updated, v = update_tree(my_key, porder.get(key, None), grammar)\n",
    "    if updated:\n",
    "        porder[key] = v\n",
    "    return updated"
   ]
  },
  {
   "cell_type": "code",
   "execution_count": 385,
   "metadata": {},
   "outputs": [
    {
     "data": {
      "text/plain": [
       "{'<start>': ('<start or(+F1,+F2)>', []),\n",
       " '<expr>': ('<expr>',\n",
       "  [('<expr or(+F2,+F1)>',\n",
       "    [('<expr or(or(L2_2,+F2),+F1)>',\n",
       "      [('<expr or(+F1,+F2)>', [('<expr or(or(L1_1,+F1),+F2)>', [])])])])]),\n",
       " '<term>': ('<term>',\n",
       "  [('<term or(+F1,+F2)>',\n",
       "    [('<term or(+F2,+F1)>', [('<term or(+F1,or(L1_1,+F2))>', [])])])]),\n",
       " '<factor>': ('<factor>',\n",
       "  [('<factor or(+F1,+F2)>',\n",
       "    [('<factor or(+F2,+F1)>', [('<factor or(or(L1_2,+F2),+F1)>', [])])])]),\n",
       " '<integer>': ('<integer>', []),\n",
       " '<digit>': ('<digit>', [])}"
      ]
     },
     "execution_count": 385,
     "metadata": {},
     "output_type": "execute_result"
    }
   ],
   "source": [
    "identify_partial_orders(or1_grammar)"
   ]
  },
  {
   "cell_type": "code",
   "execution_count": 386,
   "metadata": {},
   "outputs": [],
   "source": [
    "def grammar_gc(grammar, start_symbol, options=(1,2), log=False):\n",
    "    g = grammar\n",
    "    po = {}\n",
    "    while True:\n",
    "        if 1 in options:\n",
    "            if log: print('remove_empty_keys..')\n",
    "            g0, empty_keys = remove_empty_keys(g)\n",
    "            if log:\n",
    "                for k in empty_keys:\n",
    "                    print('removed:', k)\n",
    "        else:\n",
    "            g0, empty_keys = g, []\n",
    "        for k in g0:\n",
    "            for rule in g0[k]:\n",
    "                for t in rule: assert type(t) is str\n",
    "\n",
    "        if 2 in options:\n",
    "            if log: print('remove_unused_keys..')\n",
    "            g1, unused_keys = remove_unused_keys(g0, start_symbol)\n",
    "        else:\n",
    "            g1, unused_keys = g0, []\n",
    "        for k in g1:\n",
    "            for rule in g1[k]:\n",
    "                for t in rule: assert type(t) is str\n",
    "\n",
    "        if 3 in options:\n",
    "            if log: print('remove_redundant_rules..')\n",
    "            g2, redundant_rules = remove_redundant_rules(g1, po)\n",
    "        else:\n",
    "            g2, redundant_rules = g1, 0\n",
    "        g = g2\n",
    "\n",
    "        if log:\n",
    "            print('GC: ', unused_keys, empty_keys)\n",
    "        if not (len(unused_keys) + len(empty_keys) + redundant_rules):\n",
    "            break\n",
    "    return g, start_symbol"
   ]
  },
  {
   "cell_type": "code",
   "execution_count": 387,
   "metadata": {},
   "outputs": [
    {
     "name": "stdout",
     "output_type": "stream",
     "text": [
      "<start or(+F1,+F2)> ::=\n",
      "|    <expr or(+F2,+F1)>\n",
      "<expr or(+F2,+F1)> ::=\n",
      "|    <term or(+F1,+F2)>\n",
      "|    <term or(+F1,+F2)> ' + ' <expr>\n",
      "|    <term> ' + ' <expr or(or(L2_2,+F2),+F1)>\n",
      "|    <term> ' - ' <expr or(+F1,+F2)>\n",
      "|    <term or(+F2,+F1)> ' - ' <expr>\n",
      "<term or(+F1,+F2)> ::=\n",
      "|    <factor or(+F2,+F1)> ' / ' <term>\n",
      "|    <factor or(+F1,+F2)>\n",
      "|    <factor> ' * ' <term or(+F1,+F2)>\n",
      "|    <factor or(+F2,+F1)> ' * ' <term>\n",
      "|    <factor> ' / ' <term or(+F2,+F1)>\n",
      "<expr> ::=\n",
      "|    <term>\n",
      "|    <term> ' + ' <expr>\n",
      "|    <term> ' - ' <expr>\n",
      "<term or(+F2,+F1)> ::=\n",
      "|    <factor or(+F2,+F1)> ' / ' <term>\n",
      "|    <factor or(+F1,+F2)>\n",
      "|    <factor> ' * ' <term or(+F1,+F2)>\n",
      "|    <factor or(+F2,+F1)> ' * ' <term>\n",
      "|    <factor> ' / ' <term or(+F2,+F1)>\n",
      "<term> ::=\n",
      "|    <factor> ' * ' <term>\n",
      "|    <factor> ' / ' <term>\n",
      "|    <factor>\n",
      "<expr or(or(L2_2,+F2),+F1)> ::=\n",
      "|    <term>\n",
      "|    <term or(+F1,+F2)> ' + ' <expr>\n",
      "|    <term> ' + ' <expr or(or(L2_2,+F2),+F1)>\n",
      "|    <term> ' - ' <expr or(+F1,+F2)>\n",
      "|    <term or(+F2,+F1)> ' - ' <expr>\n",
      "<expr or(+F1,+F2)> ::=\n",
      "|    <term or(+F1,+F2)>\n",
      "|    <term or(+F1,+F2)> ' + ' <expr>\n",
      "|    <term> ' + ' <expr or(or(L2_2,+F2),+F1)>\n",
      "|    <term> ' - ' <expr or(+F1,+F2)>\n",
      "|    <term or(+F2,+F1)> ' - ' <expr>\n",
      "<factor or(+F1,+F2)> ::=\n",
      "|    '+' <factor or(+F2,+F1)>\n",
      "|    '(' <expr or(or(L1_1,+F1),+F2)> ')'\n",
      "|    '-' <factor or(+F1,+F2)>\n",
      "<factor or(+F2,+F1)> ::=\n",
      "|    '+' <factor or(+F2,+F1)>\n",
      "|    '(' <expr or(or(L1_1,+F1),+F2)> ')'\n",
      "|    '-' <factor or(+F1,+F2)>\n",
      "<factor> ::=\n",
      "|    '(' <expr> ')'\n",
      "|    '-' <factor>\n",
      "|    <integer>\n",
      "|    '+' <factor>\n",
      "|    <integer> '.' <integer>\n",
      "<expr or(or(L1_1,+F1),+F2)> ::=\n",
      "|    <term or(+F1,+F2)> ' + ' <expr>\n",
      "|    <term> ' + ' <expr or(or(L2_2,+F2),+F1)>\n",
      "|    <term or(+F1,or(L1_1,+F2))>\n",
      "|    <term> ' - ' <expr or(+F1,+F2)>\n",
      "|    <term or(+F2,+F1)> ' - ' <expr>\n",
      "<term or(+F1,or(L1_1,+F2))> ::=\n",
      "|    <factor or(+F2,+F1)> ' / ' <term>\n",
      "|    <factor> ' * ' <term or(+F1,+F2)>\n",
      "|    <factor or(or(L1_2,+F2),+F1)>\n",
      "|    <factor or(+F2,+F1)> ' * ' <term>\n",
      "|    <factor> ' / ' <term or(+F2,+F1)>\n",
      "<factor or(or(L1_2,+F2),+F1)> ::=\n",
      "|    '+' <factor or(+F2,+F1)>\n",
      "|    '(' <expr> ')'\n",
      "|    '-' <factor or(+F1,+F2)>\n",
      "<integer> ::=\n",
      "|    <digit>\n",
      "|    <digit> <integer>\n",
      "<digit> ::=\n",
      "|    '6'\n",
      "|    '5'\n",
      "|    '3'\n",
      "|    '7'\n",
      "|    '9'\n",
      "|    '1'\n",
      "|    '4'\n",
      "|    '2'\n",
      "|    '0'\n",
      "|    '8'\n",
      "16 68\n"
     ]
    },
    {
     "data": {
      "text/plain": [
       "'<start or(+F1,+F2)>'"
      ]
     },
     "execution_count": 387,
     "metadata": {},
     "output_type": "execute_result"
    }
   ],
   "source": [
    "or1_grammar, or1_start = grammar_gc(or1_grammar_, or1_start, options=(1,2,3))\n",
    "Gs(or1_grammar)\n",
    "or1_start"
   ]
  },
  {
   "cell_type": "code",
   "execution_count": 388,
   "metadata": {},
   "outputs": [
    {
     "name": "stdout",
     "output_type": "stream",
     "text": [
      "<start and(+F1,+F2)> ::=\n",
      "|    <expr and(+F1,+F2)>\n",
      "<expr and(+F1,+F2)> ::=\n",
      "|    <term> ' + ' <expr and(+F1,+F2)>\n",
      "|    <term and(+F1,+F2)> ' + ' <expr>\n",
      "|    <term> ' - ' <expr and(+F1,+F2)>\n",
      "|    <term and(+F1,+F2)> ' - ' <expr>\n",
      "|    <term and(+F1,+F2)>\n",
      "<term and(+F1,+F2)> ::=\n",
      "|    <factor +F1> ' * ' <term +F2>\n",
      "|    <factor> ' / ' <term and(+F1,+F2)>\n",
      "|    <factor +F2> ' * ' <term +F1>\n",
      "|    <factor +F1> ' / ' <term +F2>\n",
      "|    <factor and(+F1,+F2)> ' / ' <term>\n",
      "|    <factor> ' * ' <term and(+F1,+F2)>\n",
      "|    <factor and(+F1,+F2)>\n",
      "|    <factor and(+F1,+F2)> ' * ' <term>\n",
      "|    <factor +F2> ' / ' <term +F1>\n",
      "<expr> ::=\n",
      "|    <term>\n",
      "|    <term> ' + ' <expr>\n",
      "|    <term> ' - ' <expr>\n",
      "<term> ::=\n",
      "|    <factor> ' * ' <term>\n",
      "|    <factor> ' / ' <term>\n",
      "|    <factor>\n",
      "<factor +F1> ::=\n",
      "|    '-' <factor +F1>\n",
      "|    '(' <expr +F1> ')'\n",
      "|    '+' <factor +F1>\n",
      "<term +F2> ::=\n",
      "|    <factor +F2> ' * ' <term>\n",
      "|    <factor> ' * ' <term +F2>\n",
      "|    <factor +F2>\n",
      "|    <factor> ' / ' <term +F2>\n",
      "|    <factor +F2> ' / ' <term>\n",
      "<factor +F2> ::=\n",
      "|    '-' <factor +F2>\n",
      "|    '(' <expr +F2> ')'\n",
      "|    '+' <factor +F2>\n",
      "<term +F1> ::=\n",
      "|    <factor> ' / ' <term +F1>\n",
      "|    <factor +F1>\n",
      "|    <factor +F1> ' * ' <term>\n",
      "|    <factor +F1> ' / ' <term>\n",
      "|    <factor> ' * ' <term +F1>\n",
      "<factor and(+F1,+F2)> ::=\n",
      "|    '(' <expr and(+F1,+F2)> ')'\n",
      "|    '+' <factor and(+F1,+F2)>\n",
      "|    '-' <factor and(+F1,+F2)>\n",
      "<factor> ::=\n",
      "|    '(' <expr> ')'\n",
      "|    '-' <factor>\n",
      "|    <integer>\n",
      "|    '+' <factor>\n",
      "|    <integer> '.' <integer>\n",
      "<expr +F1> ::=\n",
      "|    <term +F1>\n",
      "|    <term> ' - ' <expr +F1>\n",
      "|    <term +F1> ' + ' <expr>\n",
      "|    <term> ' + ' <expr +F1>\n",
      "|    <term +F1> ' - ' <expr>\n",
      "<expr +F2> ::=\n",
      "|    <term +F2> ' + ' <expr>\n",
      "|    <term +F2> ' - ' <expr>\n",
      "|    <term +F2>\n",
      "|    <term> ' + ' <expr +F2>\n",
      "|    <term> ' - ' <expr +F2>\n",
      "<integer> ::=\n",
      "|    <digit>\n",
      "|    <digit> <integer>\n",
      "<digit> ::=\n",
      "|    '6'\n",
      "|    '5'\n",
      "|    '3'\n",
      "|    '7'\n",
      "|    '9'\n",
      "|    '1'\n",
      "|    '4'\n",
      "|    '2'\n",
      "|    '0'\n",
      "|    '8'\n",
      "15 67\n"
     ]
    },
    {
     "data": {
      "text/plain": [
       "'<start and(+F1,+F2)>'"
      ]
     },
     "execution_count": 388,
     "metadata": {},
     "output_type": "execute_result"
    }
   ],
   "source": [
    "and1_grammar, and1_start = grammar_gc(and1_grammar, and1_start, options=(1, 2, 3))\n",
    "Gs(and1_grammar)\n",
    "and1_start"
   ]
  },
  {
   "cell_type": "markdown",
   "metadata": {},
   "source": [
    "# Experiments"
   ]
  },
  {
   "cell_type": "markdown",
   "metadata": {},
   "source": [
    "## Fault A (exactly 1)"
   ]
  },
  {
   "cell_type": "code",
   "execution_count": 389,
   "metadata": {},
   "outputs": [],
   "source": [
    "#%%top\n",
    "exprA_input = '((1))'\n",
    "exprA_tree = list(expr_parser.parse(exprA_input))[0]"
   ]
  },
  {
   "cell_type": "code",
   "execution_count": 390,
   "metadata": {},
   "outputs": [
    {
     "data": {
      "text/plain": [
       "'((1))'"
      ]
     },
     "execution_count": 390,
     "metadata": {},
     "output_type": "execute_result"
    }
   ],
   "source": [
    "%top tree_to_str(exprA_tree)"
   ]
  },
  {
   "cell_type": "code",
   "execution_count": 391,
   "metadata": {},
   "outputs": [
    {
     "data": {
      "image/svg+xml": [
       "<?xml version=\"1.0\" encoding=\"UTF-8\" standalone=\"no\"?>\n",
       "<!DOCTYPE svg PUBLIC \"-//W3C//DTD SVG 1.1//EN\"\n",
       " \"http://www.w3.org/Graphics/SVG/1.1/DTD/svg11.dtd\">\n",
       "<!-- Generated by graphviz version 2.44.1 (20200629.0846)\n",
       " -->\n",
       "<!-- Pages: 1 -->\n",
       "<svg width=\"107pt\" height=\"635pt\"\n",
       " viewBox=\"0.00 0.00 107.00 635.00\" xmlns=\"http://www.w3.org/2000/svg\" xmlns:xlink=\"http://www.w3.org/1999/xlink\">\n",
       "<g id=\"graph0\" class=\"graph\" transform=\"scale(1 1) rotate(0) translate(4 631)\">\n",
       "<polygon fill=\"white\" stroke=\"transparent\" points=\"-4,4 -4,-631 103,-631 103,4 -4,4\"/>\n",
       "<!-- 0 -->\n",
       "<g id=\"node1\" class=\"node\">\n",
       "<title>0</title>\n",
       "<text text-anchor=\"middle\" x=\"49.5\" y=\"-615.8\" font-family=\"Times,serif\" font-size=\"14.00\">&lt;start&gt; </text>\n",
       "</g>\n",
       "<!-- 1 -->\n",
       "<g id=\"node2\" class=\"node\">\n",
       "<title>1</title>\n",
       "<text text-anchor=\"middle\" x=\"49.5\" y=\"-564.8\" font-family=\"Times,serif\" font-size=\"14.00\">&lt;expr&gt; </text>\n",
       "</g>\n",
       "<!-- 0&#45;&gt;1 -->\n",
       "<g id=\"edge1\" class=\"edge\">\n",
       "<title>0&#45;&gt;1</title>\n",
       "<path fill=\"none\" stroke=\"black\" d=\"M49.5,-611.69C49.5,-605.18 49.5,-595.1 49.5,-586.43\"/>\n",
       "<polygon fill=\"black\" stroke=\"black\" points=\"53,-586.26 49.5,-576.26 46,-586.26 53,-586.26\"/>\n",
       "</g>\n",
       "<!-- 2 -->\n",
       "<g id=\"node3\" class=\"node\">\n",
       "<title>2</title>\n",
       "<text text-anchor=\"middle\" x=\"49.5\" y=\"-513.8\" font-family=\"Times,serif\" font-size=\"14.00\">&lt;term&gt; </text>\n",
       "</g>\n",
       "<!-- 1&#45;&gt;2 -->\n",
       "<g id=\"edge2\" class=\"edge\">\n",
       "<title>1&#45;&gt;2</title>\n",
       "<path fill=\"none\" stroke=\"black\" d=\"M49.5,-560.69C49.5,-554.18 49.5,-544.1 49.5,-535.43\"/>\n",
       "<polygon fill=\"black\" stroke=\"black\" points=\"53,-535.26 49.5,-525.26 46,-535.26 53,-535.26\"/>\n",
       "</g>\n",
       "<!-- 3 -->\n",
       "<g id=\"node4\" class=\"node\">\n",
       "<title>3</title>\n",
       "<text text-anchor=\"middle\" x=\"49.5\" y=\"-462.8\" font-family=\"Times,serif\" font-size=\"14.00\">&lt;factor&gt; </text>\n",
       "</g>\n",
       "<!-- 2&#45;&gt;3 -->\n",
       "<g id=\"edge3\" class=\"edge\">\n",
       "<title>2&#45;&gt;3</title>\n",
       "<path fill=\"none\" stroke=\"black\" d=\"M49.5,-509.69C49.5,-503.18 49.5,-493.1 49.5,-484.43\"/>\n",
       "<polygon fill=\"black\" stroke=\"black\" points=\"53,-484.26 49.5,-474.26 46,-484.26 53,-484.26\"/>\n",
       "</g>\n",
       "<!-- 4 -->\n",
       "<g id=\"node5\" class=\"node\">\n",
       "<title>4</title>\n",
       "<text text-anchor=\"middle\" x=\"4.5\" y=\"-411.8\" font-family=\"Times,serif\" font-size=\"14.00\">( </text>\n",
       "</g>\n",
       "<!-- 3&#45;&gt;4 -->\n",
       "<g id=\"edge4\" class=\"edge\">\n",
       "<title>3&#45;&gt;4</title>\n",
       "<path fill=\"none\" stroke=\"black\" d=\"M43.24,-458.69C36.22,-451.04 24.67,-438.46 16,-429.02\"/>\n",
       "<polygon fill=\"black\" stroke=\"black\" points=\"18.41,-426.47 9.07,-421.47 13.25,-431.21 18.41,-426.47\"/>\n",
       "</g>\n",
       "<!-- 5 -->\n",
       "<g id=\"node6\" class=\"node\">\n",
       "<title>5</title>\n",
       "<text text-anchor=\"middle\" x=\"49.5\" y=\"-411.8\" font-family=\"Times,serif\" font-size=\"14.00\">&lt;expr&gt; </text>\n",
       "</g>\n",
       "<!-- 3&#45;&gt;5 -->\n",
       "<g id=\"edge5\" class=\"edge\">\n",
       "<title>3&#45;&gt;5</title>\n",
       "<path fill=\"none\" stroke=\"black\" d=\"M49.5,-458.69C49.5,-452.18 49.5,-442.1 49.5,-433.43\"/>\n",
       "<polygon fill=\"black\" stroke=\"black\" points=\"53,-433.26 49.5,-423.26 46,-433.26 53,-433.26\"/>\n",
       "</g>\n",
       "<!-- 16 -->\n",
       "<g id=\"node17\" class=\"node\">\n",
       "<title>16</title>\n",
       "<text text-anchor=\"middle\" x=\"94.5\" y=\"-411.8\" font-family=\"Times,serif\" font-size=\"14.00\">) </text>\n",
       "</g>\n",
       "<!-- 3&#45;&gt;16 -->\n",
       "<g id=\"edge16\" class=\"edge\">\n",
       "<title>3&#45;&gt;16</title>\n",
       "<path fill=\"none\" stroke=\"black\" d=\"M55.76,-458.69C62.78,-451.04 74.33,-438.46 83,-429.02\"/>\n",
       "<polygon fill=\"black\" stroke=\"black\" points=\"85.75,-431.21 89.93,-421.47 80.59,-426.47 85.75,-431.21\"/>\n",
       "</g>\n",
       "<!-- 6 -->\n",
       "<g id=\"node7\" class=\"node\">\n",
       "<title>6</title>\n",
       "<text text-anchor=\"middle\" x=\"49.5\" y=\"-360.8\" font-family=\"Times,serif\" font-size=\"14.00\">&lt;term&gt; </text>\n",
       "</g>\n",
       "<!-- 5&#45;&gt;6 -->\n",
       "<g id=\"edge6\" class=\"edge\">\n",
       "<title>5&#45;&gt;6</title>\n",
       "<path fill=\"none\" stroke=\"black\" d=\"M49.5,-407.69C49.5,-401.18 49.5,-391.1 49.5,-382.43\"/>\n",
       "<polygon fill=\"black\" stroke=\"black\" points=\"53,-382.26 49.5,-372.26 46,-382.26 53,-382.26\"/>\n",
       "</g>\n",
       "<!-- 7 -->\n",
       "<g id=\"node8\" class=\"node\">\n",
       "<title>7</title>\n",
       "<text text-anchor=\"middle\" x=\"49.5\" y=\"-309.8\" font-family=\"Times,serif\" font-size=\"14.00\">&lt;factor&gt; </text>\n",
       "</g>\n",
       "<!-- 6&#45;&gt;7 -->\n",
       "<g id=\"edge7\" class=\"edge\">\n",
       "<title>6&#45;&gt;7</title>\n",
       "<path fill=\"none\" stroke=\"black\" d=\"M49.5,-356.69C49.5,-350.18 49.5,-340.1 49.5,-331.43\"/>\n",
       "<polygon fill=\"black\" stroke=\"black\" points=\"53,-331.26 49.5,-321.26 46,-331.26 53,-331.26\"/>\n",
       "</g>\n",
       "<!-- 8 -->\n",
       "<g id=\"node9\" class=\"node\">\n",
       "<title>8</title>\n",
       "<text text-anchor=\"middle\" x=\"4.5\" y=\"-258.8\" font-family=\"Times,serif\" font-size=\"14.00\">( </text>\n",
       "</g>\n",
       "<!-- 7&#45;&gt;8 -->\n",
       "<g id=\"edge8\" class=\"edge\">\n",
       "<title>7&#45;&gt;8</title>\n",
       "<path fill=\"none\" stroke=\"black\" d=\"M43.24,-305.69C36.22,-298.04 24.67,-285.46 16,-276.02\"/>\n",
       "<polygon fill=\"black\" stroke=\"black\" points=\"18.41,-273.47 9.07,-268.47 13.25,-278.21 18.41,-273.47\"/>\n",
       "</g>\n",
       "<!-- 9 -->\n",
       "<g id=\"node10\" class=\"node\">\n",
       "<title>9</title>\n",
       "<text text-anchor=\"middle\" x=\"49.5\" y=\"-258.8\" font-family=\"Times,serif\" font-size=\"14.00\">&lt;expr&gt; </text>\n",
       "</g>\n",
       "<!-- 7&#45;&gt;9 -->\n",
       "<g id=\"edge9\" class=\"edge\">\n",
       "<title>7&#45;&gt;9</title>\n",
       "<path fill=\"none\" stroke=\"black\" d=\"M49.5,-305.69C49.5,-299.18 49.5,-289.1 49.5,-280.43\"/>\n",
       "<polygon fill=\"black\" stroke=\"black\" points=\"53,-280.26 49.5,-270.26 46,-280.26 53,-280.26\"/>\n",
       "</g>\n",
       "<!-- 15 -->\n",
       "<g id=\"node16\" class=\"node\">\n",
       "<title>15</title>\n",
       "<text text-anchor=\"middle\" x=\"94.5\" y=\"-258.8\" font-family=\"Times,serif\" font-size=\"14.00\">) </text>\n",
       "</g>\n",
       "<!-- 7&#45;&gt;15 -->\n",
       "<g id=\"edge15\" class=\"edge\">\n",
       "<title>7&#45;&gt;15</title>\n",
       "<path fill=\"none\" stroke=\"black\" d=\"M55.76,-305.69C62.78,-298.04 74.33,-285.46 83,-276.02\"/>\n",
       "<polygon fill=\"black\" stroke=\"black\" points=\"85.75,-278.21 89.93,-268.47 80.59,-273.47 85.75,-278.21\"/>\n",
       "</g>\n",
       "<!-- 10 -->\n",
       "<g id=\"node11\" class=\"node\">\n",
       "<title>10</title>\n",
       "<text text-anchor=\"middle\" x=\"49.5\" y=\"-207.8\" font-family=\"Times,serif\" font-size=\"14.00\">&lt;term&gt; </text>\n",
       "</g>\n",
       "<!-- 9&#45;&gt;10 -->\n",
       "<g id=\"edge10\" class=\"edge\">\n",
       "<title>9&#45;&gt;10</title>\n",
       "<path fill=\"none\" stroke=\"black\" d=\"M49.5,-254.69C49.5,-248.18 49.5,-238.1 49.5,-229.43\"/>\n",
       "<polygon fill=\"black\" stroke=\"black\" points=\"53,-229.26 49.5,-219.26 46,-229.26 53,-229.26\"/>\n",
       "</g>\n",
       "<!-- 11 -->\n",
       "<g id=\"node12\" class=\"node\">\n",
       "<title>11</title>\n",
       "<text text-anchor=\"middle\" x=\"49.5\" y=\"-156.8\" font-family=\"Times,serif\" font-size=\"14.00\">&lt;factor&gt; </text>\n",
       "</g>\n",
       "<!-- 10&#45;&gt;11 -->\n",
       "<g id=\"edge11\" class=\"edge\">\n",
       "<title>10&#45;&gt;11</title>\n",
       "<path fill=\"none\" stroke=\"black\" d=\"M49.5,-203.69C49.5,-197.18 49.5,-187.1 49.5,-178.43\"/>\n",
       "<polygon fill=\"black\" stroke=\"black\" points=\"53,-178.26 49.5,-168.26 46,-178.26 53,-178.26\"/>\n",
       "</g>\n",
       "<!-- 12 -->\n",
       "<g id=\"node13\" class=\"node\">\n",
       "<title>12</title>\n",
       "<text text-anchor=\"middle\" x=\"49.5\" y=\"-105.8\" font-family=\"Times,serif\" font-size=\"14.00\">&lt;integer&gt; </text>\n",
       "</g>\n",
       "<!-- 11&#45;&gt;12 -->\n",
       "<g id=\"edge12\" class=\"edge\">\n",
       "<title>11&#45;&gt;12</title>\n",
       "<path fill=\"none\" stroke=\"black\" d=\"M49.5,-152.69C49.5,-146.18 49.5,-136.1 49.5,-127.43\"/>\n",
       "<polygon fill=\"black\" stroke=\"black\" points=\"53,-127.26 49.5,-117.26 46,-127.26 53,-127.26\"/>\n",
       "</g>\n",
       "<!-- 13 -->\n",
       "<g id=\"node14\" class=\"node\">\n",
       "<title>13</title>\n",
       "<text text-anchor=\"middle\" x=\"49.5\" y=\"-54.8\" font-family=\"Times,serif\" font-size=\"14.00\">&lt;digit&gt; </text>\n",
       "</g>\n",
       "<!-- 12&#45;&gt;13 -->\n",
       "<g id=\"edge13\" class=\"edge\">\n",
       "<title>12&#45;&gt;13</title>\n",
       "<path fill=\"none\" stroke=\"black\" d=\"M49.5,-101.69C49.5,-95.18 49.5,-85.1 49.5,-76.43\"/>\n",
       "<polygon fill=\"black\" stroke=\"black\" points=\"53,-76.26 49.5,-66.26 46,-76.26 53,-76.26\"/>\n",
       "</g>\n",
       "<!-- 14 -->\n",
       "<g id=\"node15\" class=\"node\">\n",
       "<title>14</title>\n",
       "<text text-anchor=\"middle\" x=\"49.5\" y=\"-3.8\" font-family=\"Times,serif\" font-size=\"14.00\">1 </text>\n",
       "</g>\n",
       "<!-- 13&#45;&gt;14 -->\n",
       "<g id=\"edge14\" class=\"edge\">\n",
       "<title>13&#45;&gt;14</title>\n",
       "<path fill=\"none\" stroke=\"black\" d=\"M49.5,-50.69C49.5,-44.18 49.5,-34.1 49.5,-25.43\"/>\n",
       "<polygon fill=\"black\" stroke=\"black\" points=\"53,-25.26 49.5,-15.26 46,-25.26 53,-25.26\"/>\n",
       "</g>\n",
       "</g>\n",
       "</svg>\n"
      ],
      "text/plain": [
       "<graphviz.dot.Digraph at 0x11469c4e0>"
      ]
     },
     "execution_count": 391,
     "metadata": {},
     "output_type": "execute_result"
    }
   ],
   "source": [
    "%top display_tree(exprA_tree)"
   ]
  },
  {
   "cell_type": "code",
   "execution_count": 392,
   "metadata": {},
   "outputs": [],
   "source": [
    "#%%top\n",
    "abs_path_A = [0,0,0,1,0,0,1]"
   ]
  },
  {
   "cell_type": "code",
   "execution_count": 393,
   "metadata": {},
   "outputs": [
    {
     "name": "stdout",
     "output_type": "stream",
     "text": [
      "<expr> 1\n"
     ]
    }
   ],
   "source": [
    "%top Ns(exprA_tree, [abs_path_A])"
   ]
  },
  {
   "cell_type": "code",
   "execution_count": 394,
   "metadata": {},
   "outputs": [],
   "source": [
    "#%%top\n",
    "FtA = mark_abstract_nodes(exprA_tree, [abs_path_A])"
   ]
  },
  {
   "cell_type": "code",
   "execution_count": 395,
   "metadata": {},
   "outputs": [
    {
     "data": {
      "text/plain": [
       "'((<expr>))'"
      ]
     },
     "execution_count": 395,
     "metadata": {},
     "output_type": "execute_result"
    }
   ],
   "source": [
    "%top Ta(FtA)"
   ]
  },
  {
   "cell_type": "code",
   "execution_count": 396,
   "metadata": {},
   "outputs": [
    {
     "data": {
      "image/png": "[encoded data removed]",
      "text/plain": [
       "<IPython.core.display.Image object>"
      ]
     },
     "execution_count": 396,
     "metadata": {},
     "output_type": "execute_result"
    }
   ],
   "source": [
    "%top Da(FtA)"
   ]
  },
  {
   "cell_type": "code",
   "execution_count": 397,
   "metadata": {},
   "outputs": [],
   "source": [
    "#%%top\n",
    "FpA = find_charecterizing_node(FtA)\n",
    "faultA_grammar_, faultA_start = exactly_one_fault_grammar(EXPR_GRAMMAR, EXPR_START, FpA, 'A')"
   ]
  },
  {
   "cell_type": "code",
   "execution_count": 398,
   "metadata": {},
   "outputs": [
    {
     "name": "stdout",
     "output_type": "stream",
     "text": [
      "24 79\n"
     ]
    }
   ],
   "source": [
    "%top Gs(faultA_grammar_, -1)"
   ]
  },
  {
   "cell_type": "code",
   "execution_count": 399,
   "metadata": {},
   "outputs": [],
   "source": [
    "#%%top\n",
    "faultA_grammar, faultA_start = grammar_gc(faultA_grammar_, faultA_start)"
   ]
  },
  {
   "cell_type": "code",
   "execution_count": 400,
   "metadata": {
    "scrolled": true
   },
   "outputs": [
    {
     "name": "stdout",
     "output_type": "stream",
     "text": [
      "<start .FA> ::=\n",
      "|    <expr .FA>\n",
      "<expr .FA> ::=\n",
      "|    <term .FA>\n",
      "|    <term .FA> ' + ' <expr neg(+FA)>\n",
      "|    <term .FA> ' - ' <expr neg(+FA)>\n",
      "|    <term neg(+FA)> ' + ' <expr .FA>\n",
      "|    <term neg(+FA)> ' - ' <expr .FA>\n",
      "<term .FA> ::=\n",
      "|    <factor .FA>\n",
      "|    <factor .FA> ' * ' <term neg(+FA)>\n",
      "|    <factor .FA> ' / ' <term neg(+FA)>\n",
      "|    <factor neg(+FA)> ' * ' <term .FA>\n",
      "|    <factor neg(+FA)> ' / ' <term .FA>\n",
      "<expr neg(+FA)> ::=\n",
      "|    <term neg(+FA)>\n",
      "|    <term neg(+FA)> ' + ' <expr neg(+FA)>\n",
      "|    <term neg(+FA)> ' - ' <expr neg(+FA)>\n",
      "<term neg(+FA)> ::=\n",
      "|    <factor neg(+FA)>\n",
      "|    <factor neg(+FA)> ' * ' <term neg(+FA)>\n",
      "|    <factor neg(+FA)> ' / ' <term neg(+FA)>\n",
      "<factor .FA> ::=\n",
      "|    '(' <expr LA_1> ')'\n",
      "<factor neg(+FA)> ::=\n",
      "|    '(' <expr neg(LA_1)> ')'\n",
      "|    '+' <factor neg(+FA)>\n",
      "|    '-' <factor neg(+FA)>\n",
      "|    <integer>\n",
      "|    <integer> '.' <integer>\n",
      "<expr LA_1> ::=\n",
      "|    <term LA_1>\n",
      "<term LA_1> ::=\n",
      "|    <factor LA_2>\n",
      "<factor LA_2> ::=\n",
      "|    '(' <expr> ')'\n",
      "<expr> ::=\n",
      "|    <term>\n",
      "|    <term> ' + ' <expr>\n",
      "|    <term> ' - ' <expr>\n",
      "<term> ::=\n",
      "|    <factor>\n",
      "|    <factor> ' * ' <term>\n",
      "|    <factor> ' / ' <term>\n",
      "<factor> ::=\n",
      "|    '(' <expr> ')'\n",
      "|    '+' <factor>\n",
      "|    '-' <factor>\n",
      "|    <integer>\n",
      "|    <integer> '.' <integer>\n",
      "<integer> ::=\n",
      "|    <digit>\n",
      "|    <digit> <integer>\n",
      "<digit> ::=\n",
      "|    '0'\n",
      "|    '1'\n",
      "|    '2'\n",
      "|    '3'\n",
      "|    '4'\n",
      "|    '5'\n",
      "|    '6'\n",
      "|    '7'\n",
      "|    '8'\n",
      "|    '9'\n",
      "<expr neg(LA_1)> ::=\n",
      "|    <term neg(+FA)> ' + ' <expr neg(+FA)>\n",
      "|    <term neg(+FA)> ' - ' <expr neg(+FA)>\n",
      "|    <term neg(LA_1)>\n",
      "<term neg(LA_1)> ::=\n",
      "|    <factor neg(+FA)> ' * ' <term neg(+FA)>\n",
      "|    <factor neg(+FA)> ' / ' <term neg(+FA)>\n",
      "|    <factor neg(LA_2)>\n",
      "<factor neg(LA_2)> ::=\n",
      "|    '+' <factor neg(+FA)>\n",
      "|    '-' <factor neg(+FA)>\n",
      "|    <integer>\n",
      "|    <integer> '.' <integer>\n",
      "18 59\n"
     ]
    },
    {
     "data": {
      "text/plain": [
       "'<start .FA>'"
      ]
     },
     "execution_count": 400,
     "metadata": {},
     "output_type": "execute_result"
    }
   ],
   "source": [
    "%%top\n",
    "Gs(faultA_grammar)\n",
    "faultA_start"
   ]
  },
  {
   "cell_type": "code",
   "execution_count": 401,
   "metadata": {},
   "outputs": [],
   "source": [
    "#%%top\n",
    "faultA_fuzzer = LimitFuzzer(faultA_grammar)\n",
    "faultA_parser = Parser(faultA_grammar, canonical=True, start_symbol=faultA_start)"
   ]
  },
  {
   "cell_type": "code",
   "execution_count": 402,
   "metadata": {},
   "outputs": [
    {
     "name": "stdout",
     "output_type": "stream",
     "text": [
      "(8.63 / -++5 / -+4.6 - -42) * -+3 / -6233 / (-2) / (6.7 * 8) / (2.3) / +4.3 / 0.2 / 8 + (0.4 * 0) * ((6 - 1.1)) + 2.8 / 8066.287 / 7.80\n",
      "((+5.8 / 0.7 * 2))\n",
      "((-9 / 1.6) * (5.8) / -1 / -8 + 3 - -(6) - 1.5 / 4.2 * 7.0) / (73 * --8.5 / 6.2 / 4.9 / 5 - 4 / 6 + +7.0 / 1 * 7 - 8 + 2 - 6.3) / ((2)) / -+0 * 6 / (6.2 - 2)\n",
      "((2 / 3 / 5.4 + 5.7 / 2)) + 91496.3 - (-+8 / -5.5 / 4 / 9.4 + 8 * 9.1 / 4 + 7.0) * (-5 / 1.3 / 0 + 2 - 5.6) - 4.5335 * 0.0\n",
      "((-6.0 * 1.8 * 2.9)) * +3 * 833.877 - 30.9 / +8.3 / -+-(9.1) / (3.1 * 1) / +2.4\n",
      "((-3.7 / 7.5 * 4.7 - 3.7 - 9.6) * (9 - 4 + 8) + 29 + --5) * 5 - 6 + 6 / +131.8 * (0.7 / 7.4 + 6 - 3) - ((4) / 9.6 * 6) - +-+8.4 * ((9.2)) - -9 * +0.3 / 0.5 / 8\n",
      "((+1 * 8 * 4 - 8.4 * 6 + 5 + 5.5)) + -9 * 8 / 03 * --5.7\n",
      "+-++7 / 7 * (+-4) + +0.1 / ((2.8)) * +7 / ++2 * (2 - 1.7) * (2.7) + (3.1 * +1 * 0.6 / 8.8 - 2 / 9.3 / 8.7 - 1 - 7.8) * 7.9 * ++2 / 6.9 - -(9 * 1) / 36.6 * +(4.1) + +(5 + 7.2) / --9.8 + 19.5 / (9.8) / 0 + -1.5\n",
      "+(-65.3) - (97 * (6.6) * (3) - -(5)) / +63 * 2.6 * --(5.3) / 08.28 * 8 / 1.3 * 5 - ((8)) / ((2.7) + 9 + 7 - 7) * -(0.9) / -+7.5 / (0) * 6.1\n",
      "((-4.2 / 1 * 8.3 - 3.2 + 4.1))\n"
     ]
    }
   ],
   "source": [
    "%%top\n",
    "for i in range(10):\n",
    "    s = faultA_fuzzer.fuzz(key=faultA_start)\n",
    "    print(s)\n",
    "    assert faultA_parser.can_parse(s)"
   ]
  },
  {
   "cell_type": "code",
   "execution_count": 403,
   "metadata": {},
   "outputs": [],
   "source": [
    "%top assert not faultA_parser.can_parse('1')"
   ]
  },
  {
   "cell_type": "markdown",
   "metadata": {},
   "source": [
    "### -A (no fault)"
   ]
  },
  {
   "cell_type": "code",
   "execution_count": 404,
   "metadata": {},
   "outputs": [],
   "source": [
    "#%%top\n",
    "FpA = find_charecterizing_node(FtA)\n",
    "no_faultA_grammar_, no_faultA_start = no_fault_grammar(EXPR_GRAMMAR, EXPR_START, FpA, 'A')"
   ]
  },
  {
   "cell_type": "code",
   "execution_count": 405,
   "metadata": {},
   "outputs": [
    {
     "name": "stdout",
     "output_type": "stream",
     "text": [
      "16 63\n"
     ]
    }
   ],
   "source": [
    "%%top\n",
    "Gs(no_faultA_grammar_, -1)"
   ]
  },
  {
   "cell_type": "code",
   "execution_count": 406,
   "metadata": {},
   "outputs": [],
   "source": [
    "#%%top\n",
    "no_faultA_grammar, no_faultA_start = grammar_gc(no_faultA_grammar_, no_faultA_start)"
   ]
  },
  {
   "cell_type": "code",
   "execution_count": 407,
   "metadata": {},
   "outputs": [
    {
     "name": "stdout",
     "output_type": "stream",
     "text": [
      "<start neg(+FA)> ::=\n",
      "|    <expr neg(+FA)>\n",
      "<expr neg(+FA)> ::=\n",
      "|    <term neg(+FA)>\n",
      "|    <term neg(+FA)> ' + ' <expr neg(+FA)>\n",
      "|    <term neg(+FA)> ' - ' <expr neg(+FA)>\n",
      "<term neg(+FA)> ::=\n",
      "|    <factor neg(+FA)>\n",
      "|    <factor neg(+FA)> ' * ' <term neg(+FA)>\n",
      "|    <factor neg(+FA)> ' / ' <term neg(+FA)>\n",
      "<factor neg(+FA)> ::=\n",
      "|    '(' <expr neg(LA_1)> ')'\n",
      "|    '+' <factor neg(+FA)>\n",
      "|    '-' <factor neg(+FA)>\n",
      "|    <integer>\n",
      "|    <integer> '.' <integer>\n",
      "<expr neg(LA_1)> ::=\n",
      "|    <term neg(+FA)> ' + ' <expr neg(+FA)>\n",
      "|    <term neg(+FA)> ' - ' <expr neg(+FA)>\n",
      "|    <term neg(LA_1)>\n",
      "<integer> ::=\n",
      "|    <digit>\n",
      "|    <digit> <integer>\n",
      "<term neg(LA_1)> ::=\n",
      "|    <factor neg(+FA)> ' * ' <term neg(+FA)>\n",
      "|    <factor neg(+FA)> ' / ' <term neg(+FA)>\n",
      "|    <factor neg(LA_2)>\n",
      "<factor neg(LA_2)> ::=\n",
      "|    '+' <factor neg(+FA)>\n",
      "|    '-' <factor neg(+FA)>\n",
      "|    <integer>\n",
      "|    <integer> '.' <integer>\n",
      "<digit> ::=\n",
      "|    '0'\n",
      "|    '1'\n",
      "|    '2'\n",
      "|    '3'\n",
      "|    '4'\n",
      "|    '5'\n",
      "|    '6'\n",
      "|    '7'\n",
      "|    '8'\n",
      "|    '9'\n",
      "9 34\n"
     ]
    },
    {
     "data": {
      "text/plain": [
       "'<start neg(+FA)>'"
      ]
     },
     "execution_count": 407,
     "metadata": {},
     "output_type": "execute_result"
    }
   ],
   "source": [
    "%%top\n",
    "Gs(no_faultA_grammar)\n",
    "no_faultA_start"
   ]
  },
  {
   "cell_type": "code",
   "execution_count": 408,
   "metadata": {},
   "outputs": [],
   "source": [
    "#%%top\n",
    "no_faultA_fuzzer = LimitFuzzer(no_faultA_grammar)\n",
    "no_faultA_parser = Parser(no_faultA_grammar, canonical=True, start_symbol=no_faultA_start)"
   ]
  },
  {
   "cell_type": "code",
   "execution_count": 409,
   "metadata": {},
   "outputs": [],
   "source": [
    "%top assert no_faultA_parser.can_parse('1')"
   ]
  },
  {
   "cell_type": "code",
   "execution_count": 410,
   "metadata": {},
   "outputs": [],
   "source": [
    "%top assert not no_faultA_parser.can_parse('((1))')"
   ]
  },
  {
   "cell_type": "markdown",
   "metadata": {},
   "source": [
    "### neg(A)"
   ]
  },
  {
   "cell_type": "code",
   "execution_count": 411,
   "metadata": {},
   "outputs": [
    {
     "name": "stdout",
     "output_type": "stream",
     "text": [
      ">> <start>\n",
      ">> <expr>\n",
      ">> <term>\n",
      ">> <factor>\n",
      ">> <integer>\n",
      ">> <digit>\n",
      ">> <factor LA_1>\n",
      "gdefine[: <factor neg(LA_1)>\n",
      "> refined: 1\n",
      "negate_ruleset: 1\n",
      "gdefined]: <factor neg(LA_1)> [['+', '<factor>'], ['-', '<factor>'], ['(', '<expr neg(LA_1)>', ')'], ['<integer>', '.', '<integer>'], ['<integer>']]\n",
      ">> <expr LA_1>\n",
      "gdefine[: <expr neg(LA_1)>\n",
      "> refined: 1\n",
      "negate_ruleset: 1\n",
      "gdefined]: <expr neg(LA_1)> [['<term>', ' + ', '<expr>'], ['<term>', ' - ', '<expr>'], ['<term neg(LA_1)>']]\n",
      ">> <term LA_1>\n",
      "gdefine[: <term neg(LA_1)>\n",
      "> refined: 1\n",
      "negate_ruleset: 1\n",
      "gdefined]: <term neg(LA_1)> [['<factor>', ' * ', '<term>'], ['<factor>', ' / ', '<term>'], ['<factor neg(LA_2)>']]\n",
      ">> <factor LA_2>\n",
      "gdefine[: <factor neg(LA_2)>\n",
      "> refined: 1\n",
      "negate_ruleset: 1\n",
      "gdefined]: <factor neg(LA_2)> [['+', '<factor>'], ['-', '<factor>'], ['<integer>', '.', '<integer>'], ['<integer>']]\n",
      ">> <factor neg(LA_1)>\n",
      "gdefine[: <factor neg(neg(LA_1))>\n",
      "> refined: 1\n",
      "negate_ruleset: 1\n",
      "> refined: 1\n",
      "negate_ruleset: 1\n",
      "> refined: 1\n",
      "negate_ruleset: 1\n",
      "> refined: 1\n",
      "negate_ruleset: 1\n",
      "> refined: 1\n",
      "negate_ruleset: 1\n",
      "gdefined]: <factor neg(neg(LA_1))> [['+', '<factor +FA>'], ['-', '<factor +FA>'], ['(', '<expr LA_1>', ')']]\n",
      ">> <expr neg(LA_1)>\n",
      "gdefine[: <expr neg(neg(LA_1))>\n",
      "> refined: 1\n",
      "negate_ruleset: 1\n",
      "> refined: 1\n",
      "negate_ruleset: 1\n",
      "> refined: 1\n",
      "negate_ruleset: 1\n",
      "gdefined]: <expr neg(neg(LA_1))> [['<term +FA>', ' + ', '<expr>'], ['<term>', ' + ', '<expr +FA>'], ['<term +FA>', ' - ', '<expr>'], ['<term>', ' - ', '<expr +FA>'], ['<term LA_1>']]\n",
      ">> <term neg(LA_1)>\n",
      "gdefine[: <term neg(neg(LA_1))>\n",
      "> refined: 1\n",
      "negate_ruleset: 1\n",
      "> refined: 1\n",
      "negate_ruleset: 1\n",
      "> refined: 1\n",
      "negate_ruleset: 1\n",
      "gdefined]: <term neg(neg(LA_1))> [['<factor +FA>', ' * ', '<term>'], ['<factor>', ' * ', '<term +FA>'], ['<factor +FA>', ' / ', '<term>'], ['<factor>', ' / ', '<term +FA>'], ['<factor LA_2>']]\n",
      ">> <factor neg(LA_2)>\n",
      "gdefine[: <factor neg(neg(LA_2))>\n",
      "> refined: 1\n",
      "negate_ruleset: 1\n",
      "> refined: 1\n",
      "negate_ruleset: 1\n",
      "> refined: 1\n",
      "negate_ruleset: 1\n",
      "> refined: 1\n",
      "negate_ruleset: 1\n",
      "gdefined]: <factor neg(neg(LA_2))> [['+', '<factor +FA>'], ['-', '<factor +FA>'], ['(', '<expr>', ')']]\n",
      ">> <start .FA>\n",
      "gdefine[: <start neg(.FA)>\n",
      "> refined: 1\n",
      "negate_ruleset: 1\n",
      "gdefined]: <start neg(.FA)> [['<expr neg(.FA)>']]\n",
      ">> <expr .FA>\n",
      "gdefine[: <expr neg(.FA)>\n",
      "> refined: 2\n",
      "negate_ruleset: 2\n",
      "> refined: 2\n",
      "negate_ruleset: 2\n",
      "> refined: 1\n",
      "negate_ruleset: 1\n",
      "gdefined]: <expr neg(.FA)> [['<term and(neg(.FA),+FA)>', ' + ', '<expr>'], ['<term neg(.FA)>', ' + ', '<expr neg(.FA)>'], ['<term +FA>', ' + ', '<expr +FA>'], ['<term>', ' + ', '<expr and(+FA,neg(.FA))>'], ['<term and(neg(.FA),+FA)>', ' - ', '<expr>'], ['<term neg(.FA)>', ' - ', '<expr neg(.FA)>'], ['<term +FA>', ' - ', '<expr +FA>'], ['<term>', ' - ', '<expr and(+FA,neg(.FA))>'], ['<term neg(.FA)>']]\n",
      ">> <term .FA>\n",
      "gdefine[: <term neg(.FA)>\n",
      "> refined: 2\n",
      "negate_ruleset: 2\n",
      "> refined: 2\n",
      "negate_ruleset: 2\n",
      "> refined: 1\n",
      "negate_ruleset: 1\n",
      "gdefined]: <term neg(.FA)> [['<factor and(neg(.FA),+FA)>', ' * ', '<term>'], ['<factor neg(.FA)>', ' * ', '<term neg(.FA)>'], ['<factor +FA>', ' * ', '<term +FA>'], ['<factor>', ' * ', '<term and(+FA,neg(.FA))>'], ['<factor and(neg(.FA),+FA)>', ' / ', '<term>'], ['<factor neg(.FA)>', ' / ', '<term neg(.FA)>'], ['<factor +FA>', ' / ', '<term +FA>'], ['<factor>', ' / ', '<term and(+FA,neg(.FA))>'], ['<factor neg(.FA)>']]\n",
      ">> <factor .FA>\n",
      "gdefine[: <factor neg(.FA)>\n",
      "> refined: 1\n",
      "negate_ruleset: 1\n",
      "gdefined]: <factor neg(.FA)> [['+', '<factor>'], ['-', '<factor>'], ['(', '<expr neg(LA_1)>', ')'], ['<integer>', '.', '<integer>'], ['<integer>']]\n",
      ">> <start neg(+FA)>\n",
      "gdefine[: <start neg(neg(+FA))>\n",
      "> refined: 1\n",
      "negate_ruleset: 1\n",
      "gdefined]: <start neg(neg(+FA))> [['<expr +FA>']]\n",
      ">> <expr neg(+FA)>\n",
      "gdefine[: <expr neg(neg(+FA))>\n",
      "> refined: 1\n",
      "negate_ruleset: 1\n",
      "> refined: 1\n",
      "negate_ruleset: 1\n",
      "> refined: 1\n",
      "negate_ruleset: 1\n",
      "gdefined]: <expr neg(neg(+FA))> [['<term +FA>', ' + ', '<expr>'], ['<term>', ' + ', '<expr +FA>'], ['<term +FA>', ' - ', '<expr>'], ['<term>', ' - ', '<expr +FA>'], ['<term +FA>']]\n",
      ">> <term neg(+FA)>\n",
      "gdefine[: <term neg(neg(+FA))>\n",
      "> refined: 1\n",
      "negate_ruleset: 1\n",
      "> refined: 1\n",
      "negate_ruleset: 1\n",
      "> refined: 1\n",
      "negate_ruleset: 1\n",
      "gdefined]: <term neg(neg(+FA))> [['<factor +FA>', ' * ', '<term>'], ['<factor>', ' * ', '<term +FA>'], ['<factor +FA>', ' / ', '<term>'], ['<factor>', ' / ', '<term +FA>'], ['<factor +FA>']]\n",
      ">> <factor neg(+FA)>\n",
      "gdefine[: <factor neg(neg(+FA))>\n",
      "> refined: 1\n",
      "negate_ruleset: 1\n",
      "> refined: 1\n",
      "negate_ruleset: 1\n",
      "> refined: 1\n",
      "negate_ruleset: 1\n",
      "> refined: 1\n",
      "negate_ruleset: 1\n",
      "> refined: 1\n",
      "negate_ruleset: 1\n",
      "gdefined]: <factor neg(neg(+FA))> [['+', '<factor +FA>'], ['-', '<factor +FA>'], ['(', '<expr LA_1>', ')']]\n",
      ">> <integer neg(+FA)>\n",
      "gdefine[: <integer neg(neg(+FA))>\n",
      "> refined: 1\n",
      "negate_ruleset: 1\n",
      "> refined: 1\n",
      "negate_ruleset: 1\n",
      "gdefined]: <integer neg(neg(+FA))> [['<digit>', '<integer>'], ['<digit>']]\n",
      ">> <digit neg(+FA)>\n",
      "gdefine[: <digit neg(neg(+FA))>\n",
      "> refined: 1\n",
      "negate_ruleset: 1\n",
      "> refined: 1\n",
      "negate_ruleset: 1\n",
      "> refined: 1\n",
      "negate_ruleset: 1\n",
      "> refined: 1\n",
      "negate_ruleset: 1\n",
      "> refined: 1\n",
      "negate_ruleset: 1\n",
      "> refined: 1\n",
      "negate_ruleset: 1\n",
      "> refined: 1\n",
      "negate_ruleset: 1\n",
      "> refined: 1\n",
      "negate_ruleset: 1\n",
      "> refined: 1\n",
      "negate_ruleset: 1\n",
      "> refined: 1\n",
      "negate_ruleset: 1\n",
      "gdefined]: <digit neg(neg(+FA))> [['0'], ['1'], ['2'], ['3'], ['4'], ['5'], ['6'], ['7'], ['8'], ['9']]\n"
     ]
    }
   ],
   "source": [
    "#%%top\n",
    "neg_A_grammar_, neg_A_start, refs = negate_grammar_(faultA_grammar_, faultA_start, EXPR_GRAMMAR, EXPR_START, log=True)"
   ]
  },
  {
   "cell_type": "code",
   "execution_count": 412,
   "metadata": {},
   "outputs": [
    {
     "name": "stdout",
     "output_type": "stream",
     "text": [
      "40 157\n"
     ]
    }
   ],
   "source": [
    "%%top\n",
    "Gs(neg_A_grammar_, -1)"
   ]
  },
  {
   "cell_type": "code",
   "execution_count": 413,
   "metadata": {},
   "outputs": [
    {
     "data": {
      "text/plain": [
       "['<expr +FA>',\n",
       " '<expr and(+FA,neg(.FA))>',\n",
       " '<factor +FA>',\n",
       " '<factor and(neg(.FA),+FA)>',\n",
       " '<term +FA>',\n",
       " '<term and(+FA,neg(.FA))>',\n",
       " '<term and(neg(.FA),+FA)>']"
      ]
     },
     "execution_count": 413,
     "metadata": {},
     "output_type": "execute_result"
    }
   ],
   "source": [
    "undefined_keys(neg_A_grammar_)"
   ]
  },
  {
   "cell_type": "code",
   "execution_count": 414,
   "metadata": {},
   "outputs": [],
   "source": [
    "alA_grammar_, alA_start = atleast_one_fault_grammar(EXPR_GRAMMAR, EXPR_START, FpA, 'A')"
   ]
  },
  {
   "cell_type": "code",
   "execution_count": 415,
   "metadata": {},
   "outputs": [],
   "source": [
    "neg_A_grammar_ = complete({**neg_A_grammar_, **alA_grammar_}, neg_A_start)"
   ]
  },
  {
   "cell_type": "code",
   "execution_count": 416,
   "metadata": {},
   "outputs": [],
   "source": [
    "#%%top\n",
    "neg_A_grammar, neg_A_start = grammar_gc(neg_A_grammar_, neg_A_start)"
   ]
  },
  {
   "cell_type": "code",
   "execution_count": 417,
   "metadata": {},
   "outputs": [
    {
     "name": "stdout",
     "output_type": "stream",
     "text": [
      "<start neg(.FA)> ::=\n",
      "|    <expr neg(.FA)>\n",
      "<expr neg(.FA)> ::=\n",
      "|    <term +FA> ' + ' <expr +FA>\n",
      "|    <term +FA> ' - ' <expr +FA>\n",
      "|    <term and(neg(.FA),+FA)> ' + ' <expr>\n",
      "|    <term and(neg(.FA),+FA)> ' - ' <expr>\n",
      "|    <term neg(.FA)>\n",
      "|    <term neg(.FA)> ' + ' <expr neg(.FA)>\n",
      "|    <term neg(.FA)> ' - ' <expr neg(.FA)>\n",
      "|    <term> ' + ' <expr and(+FA,neg(.FA))>\n",
      "|    <term> ' - ' <expr and(+FA,neg(.FA))>\n",
      "<term +FA> ::=\n",
      "|    <factor +FA>\n",
      "|    <factor +FA> ' * ' <term>\n",
      "|    <factor +FA> ' / ' <term>\n",
      "|    <factor> ' * ' <term +FA>\n",
      "|    <factor> ' / ' <term +FA>\n",
      "<expr +FA> ::=\n",
      "|    <term +FA>\n",
      "|    <term +FA> ' + ' <expr>\n",
      "|    <term +FA> ' - ' <expr>\n",
      "|    <term> ' + ' <expr +FA>\n",
      "|    <term> ' - ' <expr +FA>\n",
      "<term and(neg(.FA),+FA)> ::=\n",
      "|    <factor +FA> ' * ' <term +FA>\n",
      "|    <factor +FA> ' * ' <term +FA>\n",
      "|    <factor +FA> ' * ' <term and(+FA,neg(.FA))>\n",
      "|    <factor +FA> ' / ' <term +FA>\n",
      "|    <factor +FA> ' / ' <term +FA>\n",
      "|    <factor +FA> ' / ' <term and(+FA,neg(.FA))>\n",
      "|    <factor and(+FA,and(neg(.FA),+FA))> ' * ' <term>\n",
      "|    <factor and(+FA,and(neg(.FA),+FA))> ' / ' <term>\n",
      "|    <factor and(+FA,neg(.FA))>\n",
      "|    <factor and(+FA,neg(.FA))> ' * ' <term neg(.FA)>\n",
      "|    <factor and(+FA,neg(.FA))> ' / ' <term neg(.FA)>\n",
      "|    <factor and(neg(.FA),+FA)> ' * ' <term +FA>\n",
      "|    <factor and(neg(.FA),+FA)> ' / ' <term +FA>\n",
      "|    <factor neg(.FA)> ' * ' <term and(+FA,neg(.FA))>\n",
      "|    <factor neg(.FA)> ' / ' <term and(+FA,neg(.FA))>\n",
      "|    <factor> ' * ' <term and(+FA,and(+FA,neg(.FA)))>\n",
      "|    <factor> ' / ' <term and(+FA,and(+FA,neg(.FA)))>\n",
      "<expr> ::=\n",
      "|    <term>\n",
      "|    <term> ' + ' <expr>\n",
      "|    <term> ' - ' <expr>\n",
      "<term neg(.FA)> ::=\n",
      "|    <factor +FA> ' * ' <term +FA>\n",
      "|    <factor +FA> ' / ' <term +FA>\n",
      "|    <factor and(neg(.FA),+FA)> ' * ' <term>\n",
      "|    <factor and(neg(.FA),+FA)> ' / ' <term>\n",
      "|    <factor neg(.FA)>\n",
      "|    <factor neg(.FA)> ' * ' <term neg(.FA)>\n",
      "|    <factor neg(.FA)> ' / ' <term neg(.FA)>\n",
      "|    <factor> ' * ' <term and(+FA,neg(.FA))>\n",
      "|    <factor> ' / ' <term and(+FA,neg(.FA))>\n",
      "<term> ::=\n",
      "|    <factor>\n",
      "|    <factor> ' * ' <term>\n",
      "|    <factor> ' / ' <term>\n",
      "<expr and(+FA,neg(.FA))> ::=\n",
      "|    <term +FA> ' + ' <expr +FA>\n",
      "|    <term +FA> ' + ' <expr +FA>\n",
      "|    <term +FA> ' + ' <expr and(+FA,neg(.FA))>\n",
      "|    <term +FA> ' - ' <expr +FA>\n",
      "|    <term +FA> ' - ' <expr +FA>\n",
      "|    <term +FA> ' - ' <expr and(+FA,neg(.FA))>\n",
      "|    <term and(+FA,and(neg(.FA),+FA))> ' + ' <expr>\n",
      "|    <term and(+FA,and(neg(.FA),+FA))> ' - ' <expr>\n",
      "|    <term and(+FA,neg(.FA))>\n",
      "|    <term and(+FA,neg(.FA))> ' + ' <expr neg(.FA)>\n",
      "|    <term and(+FA,neg(.FA))> ' - ' <expr neg(.FA)>\n",
      "|    <term and(neg(.FA),+FA)> ' + ' <expr +FA>\n",
      "|    <term and(neg(.FA),+FA)> ' - ' <expr +FA>\n",
      "|    <term neg(.FA)> ' + ' <expr and(+FA,neg(.FA))>\n",
      "|    <term neg(.FA)> ' - ' <expr and(+FA,neg(.FA))>\n",
      "|    <term> ' + ' <expr and(+FA,and(+FA,neg(.FA)))>\n",
      "|    <term> ' - ' <expr and(+FA,and(+FA,neg(.FA)))>\n",
      "<factor +FA> ::=\n",
      "|    '(' <expr +FA> ')'\n",
      "|    '(' <expr LA_1> ')'\n",
      "|    '+' <factor +FA>\n",
      "|    '-' <factor +FA>\n",
      "<factor> ::=\n",
      "|    '(' <expr> ')'\n",
      "|    '+' <factor>\n",
      "|    '-' <factor>\n",
      "|    <integer>\n",
      "|    <integer> '.' <integer>\n",
      "<expr LA_1> ::=\n",
      "|    <term LA_1>\n",
      "<term LA_1> ::=\n",
      "|    <factor LA_2>\n",
      "<factor LA_2> ::=\n",
      "|    '(' <expr> ')'\n",
      "<integer> ::=\n",
      "|    <digit>\n",
      "|    <digit> <integer>\n",
      "<digit> ::=\n",
      "|    '0'\n",
      "|    '1'\n",
      "|    '2'\n",
      "|    '3'\n",
      "|    '4'\n",
      "|    '5'\n",
      "|    '6'\n",
      "|    '7'\n",
      "|    '8'\n",
      "|    '9'\n",
      "<term and(+FA,neg(.FA))> ::=\n",
      "|    <factor +FA> ' * ' <term +FA>\n",
      "|    <factor +FA> ' * ' <term +FA>\n",
      "|    <factor +FA> ' * ' <term and(+FA,neg(.FA))>\n",
      "|    <factor +FA> ' / ' <term +FA>\n",
      "|    <factor +FA> ' / ' <term +FA>\n",
      "|    <factor +FA> ' / ' <term and(+FA,neg(.FA))>\n",
      "|    <factor and(+FA,and(neg(.FA),+FA))> ' * ' <term>\n",
      "|    <factor and(+FA,and(neg(.FA),+FA))> ' / ' <term>\n",
      "|    <factor and(+FA,neg(.FA))>\n",
      "|    <factor and(+FA,neg(.FA))> ' * ' <term neg(.FA)>\n",
      "|    <factor and(+FA,neg(.FA))> ' / ' <term neg(.FA)>\n",
      "|    <factor and(neg(.FA),+FA)> ' * ' <term +FA>\n",
      "|    <factor and(neg(.FA),+FA)> ' / ' <term +FA>\n",
      "|    <factor neg(.FA)> ' * ' <term and(+FA,neg(.FA))>\n",
      "|    <factor neg(.FA)> ' / ' <term and(+FA,neg(.FA))>\n",
      "|    <factor> ' * ' <term and(+FA,and(+FA,neg(.FA)))>\n",
      "|    <factor> ' / ' <term and(+FA,and(+FA,neg(.FA)))>\n",
      "<factor and(+FA,and(neg(.FA),+FA))> ::=\n",
      "|    '(' <expr and(+FA,neg(LA_1))> ')'\n",
      "|    '+' <factor +FA>\n",
      "|    '-' <factor +FA>\n",
      "<factor and(+FA,neg(.FA))> ::=\n",
      "|    '(' <expr and(+FA,neg(LA_1))> ')'\n",
      "|    '+' <factor +FA>\n",
      "|    '-' <factor +FA>\n",
      "<factor and(neg(.FA),+FA)> ::=\n",
      "|    '(' <expr and(+FA,neg(LA_1))> ')'\n",
      "|    '+' <factor +FA>\n",
      "|    '-' <factor +FA>\n",
      "<factor neg(.FA)> ::=\n",
      "|    '(' <expr neg(LA_1)> ')'\n",
      "|    '+' <factor>\n",
      "|    '-' <factor>\n",
      "|    <integer>\n",
      "|    <integer> '.' <integer>\n",
      "<term and(+FA,and(+FA,neg(.FA)))> ::=\n",
      "|    <factor +FA> ' * ' <term +FA>\n",
      "|    <factor +FA> ' * ' <term +FA>\n",
      "|    <factor +FA> ' * ' <term and(+FA,neg(.FA))>\n",
      "|    <factor +FA> ' / ' <term +FA>\n",
      "|    <factor +FA> ' / ' <term +FA>\n",
      "|    <factor +FA> ' / ' <term and(+FA,neg(.FA))>\n",
      "|    <factor and(+FA,and(neg(.FA),+FA))> ' * ' <term>\n",
      "|    <factor and(+FA,and(neg(.FA),+FA))> ' / ' <term>\n",
      "|    <factor and(+FA,neg(.FA))>\n",
      "|    <factor and(+FA,neg(.FA))> ' * ' <term neg(.FA)>\n",
      "|    <factor and(+FA,neg(.FA))> ' / ' <term neg(.FA)>\n",
      "|    <factor and(neg(.FA),+FA)> ' * ' <term +FA>\n",
      "|    <factor and(neg(.FA),+FA)> ' / ' <term +FA>\n",
      "|    <factor neg(.FA)> ' * ' <term and(+FA,neg(.FA))>\n",
      "|    <factor neg(.FA)> ' / ' <term and(+FA,neg(.FA))>\n",
      "|    <factor> ' * ' <term and(+FA,and(+FA,neg(.FA)))>\n",
      "|    <factor> ' / ' <term and(+FA,and(+FA,neg(.FA)))>\n",
      "<expr and(+FA,neg(LA_1))> ::=\n",
      "|    <term and(+FA,neg(+FA))> ' + ' <expr neg(+FA)>\n",
      "|    <term and(+FA,neg(+FA))> ' - ' <expr neg(+FA)>\n",
      "|    <term and(+FA,neg(LA_1))>\n",
      "|    <term neg(+FA)> ' + ' <expr and(+FA,neg(+FA))>\n",
      "|    <term neg(+FA)> ' - ' <expr and(+FA,neg(+FA))>\n",
      "<term and(+FA,neg(+FA))> ::=\n",
      "|    <factor and(+FA,neg(+FA))>\n",
      "|    <factor and(+FA,neg(+FA))> ' * ' <term neg(+FA)>\n",
      "|    <factor and(+FA,neg(+FA))> ' / ' <term neg(+FA)>\n",
      "|    <factor neg(+FA)> ' * ' <term and(+FA,neg(+FA))>\n",
      "|    <factor neg(+FA)> ' / ' <term and(+FA,neg(+FA))>\n",
      "<expr neg(+FA)> ::=\n",
      "|    <term neg(+FA)>\n",
      "|    <term neg(+FA)> ' + ' <expr neg(+FA)>\n",
      "|    <term neg(+FA)> ' - ' <expr neg(+FA)>\n",
      "<term and(+FA,neg(LA_1))> ::=\n",
      "|    <factor and(+FA,neg(+FA))> ' * ' <term neg(+FA)>\n",
      "|    <factor and(+FA,neg(+FA))> ' / ' <term neg(+FA)>\n",
      "|    <factor and(+FA,neg(LA_2))>\n",
      "|    <factor neg(+FA)> ' * ' <term and(+FA,neg(+FA))>\n",
      "|    <factor neg(+FA)> ' / ' <term and(+FA,neg(+FA))>\n",
      "<term neg(+FA)> ::=\n",
      "|    <factor neg(+FA)>\n",
      "|    <factor neg(+FA)> ' * ' <term neg(+FA)>\n",
      "|    <factor neg(+FA)> ' / ' <term neg(+FA)>\n",
      "<expr and(+FA,neg(+FA))> ::=\n",
      "|    <term and(+FA,neg(+FA))>\n",
      "|    <term and(+FA,neg(+FA))> ' + ' <expr neg(+FA)>\n",
      "|    <term and(+FA,neg(+FA))> ' - ' <expr neg(+FA)>\n",
      "|    <term neg(+FA)> ' + ' <expr and(+FA,neg(+FA))>\n",
      "|    <term neg(+FA)> ' - ' <expr and(+FA,neg(+FA))>\n",
      "<factor and(+FA,neg(+FA))> ::=\n",
      "|    '(' <expr and(+FA,neg(LA_1))> ')'\n",
      "|    '+' <factor and(+FA,neg(+FA))>\n",
      "|    '-' <factor and(+FA,neg(+FA))>\n",
      "<factor neg(+FA)> ::=\n",
      "|    '(' <expr neg(LA_1)> ')'\n",
      "|    '+' <factor neg(+FA)>\n",
      "|    '-' <factor neg(+FA)>\n",
      "|    <integer>\n",
      "|    <integer> '.' <integer>\n",
      "<expr neg(LA_1)> ::=\n",
      "|    <term neg(+FA)> ' + ' <expr neg(+FA)>\n",
      "|    <term neg(+FA)> ' - ' <expr neg(+FA)>\n",
      "|    <term neg(LA_1)>\n",
      "<term neg(LA_1)> ::=\n",
      "|    <factor neg(+FA)> ' * ' <term neg(+FA)>\n",
      "|    <factor neg(+FA)> ' / ' <term neg(+FA)>\n",
      "|    <factor neg(LA_2)>\n",
      "<factor neg(LA_2)> ::=\n",
      "|    '+' <factor neg(+FA)>\n",
      "|    '-' <factor neg(+FA)>\n",
      "|    <integer>\n",
      "|    <integer> '.' <integer>\n",
      "<factor and(+FA,neg(LA_2))> ::=\n",
      "|    '+' <factor and(+FA,neg(+FA))>\n",
      "|    '-' <factor and(+FA,neg(+FA))>\n",
      "<term and(+FA,and(neg(.FA),+FA))> ::=\n",
      "|    <factor +FA> ' * ' <term +FA>\n",
      "|    <factor +FA> ' * ' <term +FA>\n",
      "|    <factor +FA> ' * ' <term and(+FA,neg(.FA))>\n",
      "|    <factor +FA> ' / ' <term +FA>\n",
      "|    <factor +FA> ' / ' <term +FA>\n",
      "|    <factor +FA> ' / ' <term and(+FA,neg(.FA))>\n",
      "|    <factor and(+FA,and(neg(.FA),+FA))> ' * ' <term>\n",
      "|    <factor and(+FA,and(neg(.FA),+FA))> ' / ' <term>\n",
      "|    <factor and(+FA,neg(.FA))>\n",
      "|    <factor and(+FA,neg(.FA))> ' * ' <term neg(.FA)>\n",
      "|    <factor and(+FA,neg(.FA))> ' / ' <term neg(.FA)>\n",
      "|    <factor and(neg(.FA),+FA)> ' * ' <term +FA>\n",
      "|    <factor and(neg(.FA),+FA)> ' / ' <term +FA>\n",
      "|    <factor neg(.FA)> ' * ' <term and(+FA,neg(.FA))>\n",
      "|    <factor neg(.FA)> ' / ' <term and(+FA,neg(.FA))>\n",
      "|    <factor> ' * ' <term and(+FA,and(+FA,neg(.FA)))>\n",
      "|    <factor> ' / ' <term and(+FA,and(+FA,neg(.FA)))>\n",
      "<expr and(+FA,and(+FA,neg(.FA)))> ::=\n",
      "|    <term +FA> ' + ' <expr +FA>\n",
      "|    <term +FA> ' + ' <expr +FA>\n",
      "|    <term +FA> ' + ' <expr and(+FA,neg(.FA))>\n",
      "|    <term +FA> ' - ' <expr +FA>\n",
      "|    <term +FA> ' - ' <expr +FA>\n",
      "|    <term +FA> ' - ' <expr and(+FA,neg(.FA))>\n",
      "|    <term and(+FA,and(neg(.FA),+FA))> ' + ' <expr>\n",
      "|    <term and(+FA,and(neg(.FA),+FA))> ' - ' <expr>\n",
      "|    <term and(+FA,neg(.FA))>\n",
      "|    <term and(+FA,neg(.FA))> ' + ' <expr neg(.FA)>\n",
      "|    <term and(+FA,neg(.FA))> ' - ' <expr neg(.FA)>\n",
      "|    <term and(neg(.FA),+FA)> ' + ' <expr +FA>\n",
      "|    <term and(neg(.FA),+FA)> ' - ' <expr +FA>\n",
      "|    <term neg(.FA)> ' + ' <expr and(+FA,neg(.FA))>\n",
      "|    <term neg(.FA)> ' - ' <expr and(+FA,neg(.FA))>\n",
      "|    <term> ' + ' <expr and(+FA,and(+FA,neg(.FA)))>\n",
      "|    <term> ' - ' <expr and(+FA,and(+FA,neg(.FA)))>\n",
      "36 221\n"
     ]
    },
    {
     "data": {
      "text/plain": [
       "'<start neg(.FA)>'"
      ]
     },
     "execution_count": 417,
     "metadata": {},
     "output_type": "execute_result"
    }
   ],
   "source": [
    "Gs(neg_A_grammar)\n",
    "neg_A_start"
   ]
  },
  {
   "cell_type": "code",
   "execution_count": 418,
   "metadata": {
    "scrolled": false
   },
   "outputs": [
    {
     "name": "stdout",
     "output_type": "stream",
     "text": [
      "<start neg(.FA)> ::=\n",
      "|    <expr neg(.FA)>\n",
      "<expr neg(.FA)> ::=\n",
      "|    <term +FA> ' + ' <expr +FA>\n",
      "|    <term +FA> ' - ' <expr +FA>\n",
      "|    <term and(+FA,neg(.FA))> ' + ' <expr>\n",
      "|    <term and(+FA,neg(.FA))> ' - ' <expr>\n",
      "|    <term neg(.FA)>\n",
      "|    <term neg(.FA)> ' + ' <expr neg(.FA)>\n",
      "|    <term neg(.FA)> ' - ' <expr neg(.FA)>\n",
      "|    <term> ' + ' <expr and(+FA,neg(.FA))>\n",
      "|    <term> ' - ' <expr and(+FA,neg(.FA))>\n",
      "<term +FA> ::=\n",
      "|    <factor +FA>\n",
      "|    <factor +FA> ' * ' <term>\n",
      "|    <factor +FA> ' / ' <term>\n",
      "|    <factor> ' * ' <term +FA>\n",
      "|    <factor> ' / ' <term +FA>\n",
      "<expr +FA> ::=\n",
      "|    <term +FA>\n",
      "|    <term +FA> ' + ' <expr>\n",
      "|    <term +FA> ' - ' <expr>\n",
      "|    <term> ' + ' <expr +FA>\n",
      "|    <term> ' - ' <expr +FA>\n",
      "<term and(+FA,neg(.FA))> ::=\n",
      "|    <factor +FA> ' * ' <term +FA>\n",
      "|    <factor +FA> ' * ' <term +FA>\n",
      "|    <factor +FA> ' * ' <term and(+FA,neg(.FA))>\n",
      "|    <factor +FA> ' / ' <term +FA>\n",
      "|    <factor +FA> ' / ' <term +FA>\n",
      "|    <factor +FA> ' / ' <term and(+FA,neg(.FA))>\n",
      "|    <factor and(+FA,neg(.FA))> ' * ' <term>\n",
      "|    <factor and(+FA,neg(.FA))> ' / ' <term>\n",
      "|    <factor and(+FA,neg(.FA))>\n",
      "|    <factor and(+FA,neg(.FA))> ' * ' <term neg(.FA)>\n",
      "|    <factor and(+FA,neg(.FA))> ' / ' <term neg(.FA)>\n",
      "|    <factor and(+FA,neg(.FA))> ' * ' <term +FA>\n",
      "|    <factor and(+FA,neg(.FA))> ' / ' <term +FA>\n",
      "|    <factor neg(.FA)> ' * ' <term and(+FA,neg(.FA))>\n",
      "|    <factor neg(.FA)> ' / ' <term and(+FA,neg(.FA))>\n",
      "|    <factor> ' * ' <term and(+FA,neg(.FA))>\n",
      "|    <factor> ' / ' <term and(+FA,neg(.FA))>\n",
      "<expr> ::=\n",
      "|    <term>\n",
      "|    <term> ' + ' <expr>\n",
      "|    <term> ' - ' <expr>\n",
      "<term neg(.FA)> ::=\n",
      "|    <factor +FA> ' * ' <term +FA>\n",
      "|    <factor +FA> ' / ' <term +FA>\n",
      "|    <factor and(+FA,neg(.FA))> ' * ' <term>\n",
      "|    <factor and(+FA,neg(.FA))> ' / ' <term>\n",
      "|    <factor neg(.FA)>\n",
      "|    <factor neg(.FA)> ' * ' <term neg(.FA)>\n",
      "|    <factor neg(.FA)> ' / ' <term neg(.FA)>\n",
      "|    <factor> ' * ' <term and(+FA,neg(.FA))>\n",
      "|    <factor> ' / ' <term and(+FA,neg(.FA))>\n",
      "<term> ::=\n",
      "|    <factor>\n",
      "|    <factor> ' * ' <term>\n",
      "|    <factor> ' / ' <term>\n",
      "<expr and(+FA,neg(.FA))> ::=\n",
      "|    <term +FA> ' + ' <expr +FA>\n",
      "|    <term +FA> ' + ' <expr +FA>\n",
      "|    <term +FA> ' + ' <expr and(+FA,neg(.FA))>\n",
      "|    <term +FA> ' - ' <expr +FA>\n",
      "|    <term +FA> ' - ' <expr +FA>\n",
      "|    <term +FA> ' - ' <expr and(+FA,neg(.FA))>\n",
      "|    <term and(+FA,neg(.FA))> ' + ' <expr>\n",
      "|    <term and(+FA,neg(.FA))> ' - ' <expr>\n",
      "|    <term and(+FA,neg(.FA))>\n",
      "|    <term and(+FA,neg(.FA))> ' + ' <expr neg(.FA)>\n",
      "|    <term and(+FA,neg(.FA))> ' - ' <expr neg(.FA)>\n",
      "|    <term and(+FA,neg(.FA))> ' + ' <expr +FA>\n",
      "|    <term and(+FA,neg(.FA))> ' - ' <expr +FA>\n",
      "|    <term neg(.FA)> ' + ' <expr and(+FA,neg(.FA))>\n",
      "|    <term neg(.FA)> ' - ' <expr and(+FA,neg(.FA))>\n",
      "|    <term> ' + ' <expr and(+FA,neg(.FA))>\n",
      "|    <term> ' - ' <expr and(+FA,neg(.FA))>\n",
      "<factor +FA> ::=\n",
      "|    '(' <expr +FA> ')'\n",
      "|    '(' <expr LA_1> ')'\n",
      "|    '+' <factor +FA>\n",
      "|    '-' <factor +FA>\n",
      "<factor> ::=\n",
      "|    '(' <expr> ')'\n",
      "|    '+' <factor>\n",
      "|    '-' <factor>\n",
      "|    <integer>\n",
      "|    <integer> '.' <integer>\n",
      "<expr LA_1> ::=\n",
      "|    <term LA_1>\n",
      "<term LA_1> ::=\n",
      "|    <factor LA_2>\n",
      "<factor LA_2> ::=\n",
      "|    '(' <expr> ')'\n",
      "<integer> ::=\n",
      "|    <digit>\n",
      "|    <digit> <integer>\n",
      "<digit> ::=\n",
      "|    '0'\n",
      "|    '1'\n",
      "|    '2'\n",
      "|    '3'\n",
      "|    '4'\n",
      "|    '5'\n",
      "|    '6'\n",
      "|    '7'\n",
      "|    '8'\n",
      "|    '9'\n",
      "<factor and(+FA,neg(.FA))> ::=\n",
      "|    '(' <expr and(+FA,neg(LA_1))> ')'\n",
      "|    '+' <factor +FA>\n",
      "|    '-' <factor +FA>\n",
      "<factor neg(.FA)> ::=\n",
      "|    '(' <expr neg(LA_1)> ')'\n",
      "|    '+' <factor>\n",
      "|    '-' <factor>\n",
      "|    <integer>\n",
      "|    <integer> '.' <integer>\n",
      "<expr and(+FA,neg(LA_1))> ::=\n",
      "|    <term > ' + ' <expr neg(+FA)>\n",
      "|    <term > ' - ' <expr neg(+FA)>\n",
      "|    <term and(+FA,neg(LA_1))>\n",
      "|    <term neg(+FA)> ' + ' <expr >\n",
      "|    <term neg(+FA)> ' - ' <expr >\n",
      "<term > ::=\n",
      "|    <factor >\n",
      "|    <factor > ' * ' <term neg(+FA)>\n",
      "|    <factor > ' / ' <term neg(+FA)>\n",
      "|    <factor neg(+FA)> ' * ' <term >\n",
      "|    <factor neg(+FA)> ' / ' <term >\n",
      "<expr neg(+FA)> ::=\n",
      "|    <term neg(+FA)>\n",
      "|    <term neg(+FA)> ' + ' <expr neg(+FA)>\n",
      "|    <term neg(+FA)> ' - ' <expr neg(+FA)>\n",
      "<term and(+FA,neg(LA_1))> ::=\n",
      "|    <factor > ' * ' <term neg(+FA)>\n",
      "|    <factor > ' / ' <term neg(+FA)>\n",
      "|    <factor and(+FA,neg(LA_2))>\n",
      "|    <factor neg(+FA)> ' * ' <term >\n",
      "|    <factor neg(+FA)> ' / ' <term >\n",
      "<term neg(+FA)> ::=\n",
      "|    <factor neg(+FA)>\n",
      "|    <factor neg(+FA)> ' * ' <term neg(+FA)>\n",
      "|    <factor neg(+FA)> ' / ' <term neg(+FA)>\n",
      "<expr > ::=\n",
      "|    <term >\n",
      "|    <term > ' + ' <expr neg(+FA)>\n",
      "|    <term > ' - ' <expr neg(+FA)>\n",
      "|    <term neg(+FA)> ' + ' <expr >\n",
      "|    <term neg(+FA)> ' - ' <expr >\n",
      "<factor > ::=\n",
      "|    '(' <expr and(+FA,neg(LA_1))> ')'\n",
      "|    '+' <factor >\n",
      "|    '-' <factor >\n",
      "<factor neg(+FA)> ::=\n",
      "|    '(' <expr neg(LA_1)> ')'\n",
      "|    '+' <factor neg(+FA)>\n",
      "|    '-' <factor neg(+FA)>\n",
      "|    <integer>\n",
      "|    <integer> '.' <integer>\n",
      "<expr neg(LA_1)> ::=\n",
      "|    <term neg(+FA)> ' + ' <expr neg(+FA)>\n",
      "|    <term neg(+FA)> ' - ' <expr neg(+FA)>\n",
      "|    <term neg(LA_1)>\n",
      "<term neg(LA_1)> ::=\n",
      "|    <factor neg(+FA)> ' * ' <term neg(+FA)>\n",
      "|    <factor neg(+FA)> ' / ' <term neg(+FA)>\n",
      "|    <factor neg(LA_2)>\n",
      "<factor neg(LA_2)> ::=\n",
      "|    '+' <factor neg(+FA)>\n",
      "|    '-' <factor neg(+FA)>\n",
      "|    <integer>\n",
      "|    <integer> '.' <integer>\n",
      "<factor and(+FA,neg(LA_2))> ::=\n",
      "|    '+' <factor >\n",
      "|    '-' <factor >\n",
      "36 147\n"
     ]
    }
   ],
   "source": [
    "Gs_s(neg_A_grammar)"
   ]
  },
  {
   "cell_type": "code",
   "execution_count": null,
   "metadata": {},
   "outputs": [],
   "source": []
  },
  {
   "cell_type": "code",
   "execution_count": 419,
   "metadata": {},
   "outputs": [],
   "source": [
    "neg_A_fuzzer = LimitFuzzer(neg_A_grammar)\n",
    "neg_A_parser = Parser(neg_A_grammar, canonical=True, start_symbol=neg_A_start)"
   ]
  },
  {
   "cell_type": "markdown",
   "metadata": {},
   "source": [
    "`neg(A)` is the exact opposite in refinement of `A` which is exactly one fault. So it should produce either no fault or more than one fault."
   ]
  },
  {
   "cell_type": "code",
   "execution_count": 420,
   "metadata": {},
   "outputs": [],
   "source": [
    "assert neg_A_parser.can_parse('1')"
   ]
  },
  {
   "cell_type": "code",
   "execution_count": 421,
   "metadata": {},
   "outputs": [],
   "source": [
    "assert not neg_A_parser.can_parse('((1))')"
   ]
  },
  {
   "cell_type": "code",
   "execution_count": 422,
   "metadata": {},
   "outputs": [],
   "source": [
    "assert neg_A_parser.can_parse('((1)) + ((2))')"
   ]
  },
  {
   "cell_type": "code",
   "execution_count": 423,
   "metadata": {},
   "outputs": [
    {
     "name": "stdout",
     "output_type": "stream",
     "text": [
      "0.1\n"
     ]
    }
   ],
   "source": [
    "for i in range(1):\n",
    "    s = neg_A_fuzzer.fuzz(key=neg_A_start, max_depth=1)\n",
    "    print(s)\n",
    "    assert neg_A_parser.can_parse(s)\n",
    "    assert not faultA_parser.can_parse(s)"
   ]
  },
  {
   "cell_type": "markdown",
   "metadata": {},
   "source": [
    "## Fault B"
   ]
  },
  {
   "cell_type": "code",
   "execution_count": 424,
   "metadata": {},
   "outputs": [
    {
     "data": {
      "text/plain": [
       "'0 + 0'"
      ]
     },
     "execution_count": 424,
     "metadata": {},
     "output_type": "execute_result"
    }
   ],
   "source": [
    "exprB_input = '0 + 0'\n",
    "exprB_tree = list(expr_parser.parse(exprB_input))[0]\n",
    "tree_to_str(exprB_tree)"
   ]
  },
  {
   "cell_type": "code",
   "execution_count": 425,
   "metadata": {},
   "outputs": [
    {
     "name": "stdout",
     "output_type": "stream",
     "text": [
      "<term> 0\n",
      "<term> 0\n"
     ]
    }
   ],
   "source": [
    "abs_path_B_a = [0,0]\n",
    "abs_path_B_b = [0,2,0]\n",
    "Ns(exprB_tree, [abs_path_B_a, abs_path_B_b])"
   ]
  },
  {
   "cell_type": "code",
   "execution_count": 426,
   "metadata": {},
   "outputs": [
    {
     "data": {
      "text/plain": [
       "'<term> + <term>'"
      ]
     },
     "execution_count": 426,
     "metadata": {},
     "output_type": "execute_result"
    }
   ],
   "source": [
    "FtB = mark_abstract_nodes(exprB_tree, [abs_path_B_a, abs_path_B_b])\n",
    "Ta(FtB)"
   ]
  },
  {
   "cell_type": "code",
   "execution_count": 427,
   "metadata": {},
   "outputs": [
    {
     "data": {
      "image/png": "[encoded data removed]",
      "text/plain": [
       "<IPython.core.display.Image object>"
      ]
     },
     "execution_count": 427,
     "metadata": {},
     "output_type": "execute_result"
    }
   ],
   "source": [
    "Da(FtB)"
   ]
  },
  {
   "cell_type": "code",
   "execution_count": 428,
   "metadata": {
    "scrolled": false
   },
   "outputs": [
    {
     "name": "stdout",
     "output_type": "stream",
     "text": [
      "<start> ::=\n",
      "|    <expr>\n",
      "<expr> ::=\n",
      "|    <term> ' + ' <expr>\n",
      "|    <term> ' - ' <expr>\n",
      "|    <term>\n",
      "<term> ::=\n",
      "|    <factor> ' * ' <term>\n",
      "|    <factor> ' / ' <term>\n",
      "|    <factor>\n",
      "<factor> ::=\n",
      "|    '+' <factor>\n",
      "|    '-' <factor>\n",
      "|    '(' <expr> ')'\n",
      "|    <integer> '.' <integer>\n",
      "|    <integer>\n",
      "<integer> ::=\n",
      "|    <digit> <integer>\n",
      "|    <digit>\n",
      "<digit> ::=\n",
      "|    '0'\n",
      "|    '1'\n",
      "|    '2'\n",
      "|    '3'\n",
      "|    '4'\n",
      "|    '5'\n",
      "|    '6'\n",
      "|    '7'\n",
      "|    '8'\n",
      "|    '9'\n",
      "<expr LB_1> ::=\n",
      "|    <term> ' + ' <expr LB_2>\n",
      "<expr LB_2> ::=\n",
      "|    <term>\n",
      "<expr neg(LB_1)> ::=\n",
      "|    <term neg(+FB)> ' + ' <expr neg(LB_2)>\n",
      "|    <term neg(+FB)> ' - ' <expr neg(+FB)>\n",
      "|    <term neg(+FB)>\n",
      "<expr neg(LB_2)> ::=\n",
      "|    <term neg(+FB)> ' + ' <expr neg(+FB)>\n",
      "|    <term neg(+FB)> ' - ' <expr neg(+FB)>\n",
      "<start .FB> ::=\n",
      "|    <expr .FB>\n",
      "<expr .FB> ::=\n",
      "|    <term> ' + ' <expr LB_2>\n",
      "<term .FB> ::=\n",
      "|    <factor .FB> ' * ' <term neg(+FB)>\n",
      "|    <factor neg(+FB)> ' * ' <term .FB>\n",
      "|    <factor .FB> ' / ' <term neg(+FB)>\n",
      "|    <factor neg(+FB)> ' / ' <term .FB>\n",
      "|    <factor .FB>\n",
      "<factor .FB> ::=\n",
      "|    '+' <factor .FB>\n",
      "|    '-' <factor .FB>\n",
      "|    '(' <expr .FB> ')'\n",
      "<start neg(+FB)> ::=\n",
      "|    <expr neg(+FB)>\n",
      "<expr neg(+FB)> ::=\n",
      "|    <term neg(+FB)> ' + ' <expr neg(LB_2)>\n",
      "|    <term neg(+FB)> ' - ' <expr neg(+FB)>\n",
      "|    <term neg(+FB)>\n",
      "<term neg(+FB)> ::=\n",
      "|    <factor neg(+FB)> ' * ' <term neg(+FB)>\n",
      "|    <factor neg(+FB)> ' / ' <term neg(+FB)>\n",
      "|    <factor neg(+FB)>\n",
      "<factor neg(+FB)> ::=\n",
      "|    '+' <factor neg(+FB)>\n",
      "|    '-' <factor neg(+FB)>\n",
      "|    '(' <expr neg(+FB)> ')'\n",
      "|    <integer> '.' <integer>\n",
      "|    <integer>\n",
      "<integer neg(+FB)> ::=\n",
      "|    <digit> <integer>\n",
      "|    <digit>\n",
      "<digit neg(+FB)> ::=\n",
      "|    '0'\n",
      "|    '1'\n",
      "|    '2'\n",
      "|    '3'\n",
      "|    '4'\n",
      "|    '5'\n",
      "|    '6'\n",
      "|    '7'\n",
      "|    '8'\n",
      "|    '9'\n",
      "20 65\n",
      "<start .FB> ::=\n",
      "|    <expr .FB>\n",
      "<expr .FB> ::=\n",
      "|    <term> ' + ' <expr LB_2>\n",
      "<term> ::=\n",
      "|    <factor>\n",
      "|    <factor> ' * ' <term>\n",
      "|    <factor> ' / ' <term>\n",
      "<expr LB_2> ::=\n",
      "|    <term>\n",
      "<factor> ::=\n",
      "|    '(' <expr> ')'\n",
      "|    '+' <factor>\n",
      "|    '-' <factor>\n",
      "|    <integer>\n",
      "|    <integer> '.' <integer>\n",
      "<expr> ::=\n",
      "|    <term>\n",
      "|    <term> ' + ' <expr>\n",
      "|    <term> ' - ' <expr>\n",
      "<integer> ::=\n",
      "|    <digit>\n",
      "|    <digit> <integer>\n",
      "<digit> ::=\n",
      "|    '0'\n",
      "|    '1'\n",
      "|    '2'\n",
      "|    '3'\n",
      "|    '4'\n",
      "|    '5'\n",
      "|    '6'\n",
      "|    '7'\n",
      "|    '8'\n",
      "|    '9'\n",
      "8 26\n"
     ]
    },
    {
     "data": {
      "text/plain": [
       "'<start .FB>'"
      ]
     },
     "execution_count": 428,
     "metadata": {},
     "output_type": "execute_result"
    }
   ],
   "source": [
    "FpB = find_charecterizing_node(FtB)\n",
    "faultB_grammar_, faultB_start  = exactly_one_fault_grammar(EXPR_GRAMMAR, EXPR_START, FpB, 'B')\n",
    "Gs(faultB_grammar_)\n",
    "faultB_grammar, faultB_start = grammar_gc(faultB_grammar_, faultB_start)\n",
    "Gs(faultB_grammar)\n",
    "faultB_start"
   ]
  },
  {
   "cell_type": "code",
   "execution_count": 429,
   "metadata": {},
   "outputs": [],
   "source": [
    "faultB_fuzzer = LimitFuzzer(faultB_grammar)\n",
    "faultB_parser = Parser(faultB_grammar, canonical=True, start_symbol=faultB_start)"
   ]
  },
  {
   "cell_type": "code",
   "execution_count": 430,
   "metadata": {},
   "outputs": [
    {
     "name": "stdout",
     "output_type": "stream",
     "text": [
      "-8.51 * 369.3 * --342 / 2.806 / 578 + +-((7) / 6.0) * 0\n"
     ]
    }
   ],
   "source": [
    "for i in range(1):\n",
    "    s = faultB_fuzzer.fuzz(key=faultB_start)\n",
    "    print(s)\n",
    "    assert faultB_parser.can_parse(s)"
   ]
  },
  {
   "cell_type": "code",
   "execution_count": 431,
   "metadata": {},
   "outputs": [],
   "source": [
    "assert not faultB_parser.can_parse('1 - 2')"
   ]
  },
  {
   "cell_type": "code",
   "execution_count": null,
   "metadata": {},
   "outputs": [],
   "source": []
  },
  {
   "cell_type": "markdown",
   "metadata": {},
   "source": [
    "### -B"
   ]
  },
  {
   "cell_type": "code",
   "execution_count": 432,
   "metadata": {},
   "outputs": [
    {
     "name": "stdout",
     "output_type": "stream",
     "text": [
      "14 53\n",
      "<start neg(+FB)> ::=\n",
      "|    <expr neg(+FB)>\n",
      "<expr neg(+FB)> ::=\n",
      "|    <term neg(+FB)>\n",
      "|    <term neg(+FB)> ' + ' <expr neg(LB_2)>\n",
      "|    <term neg(+FB)> ' - ' <expr neg(+FB)>\n",
      "<term neg(+FB)> ::=\n",
      "|    <factor neg(+FB)>\n",
      "|    <factor neg(+FB)> ' * ' <term neg(+FB)>\n",
      "|    <factor neg(+FB)> ' / ' <term neg(+FB)>\n",
      "<expr neg(LB_2)> ::=\n",
      "|    <term neg(+FB)> ' + ' <expr neg(+FB)>\n",
      "|    <term neg(+FB)> ' - ' <expr neg(+FB)>\n",
      "<factor neg(+FB)> ::=\n",
      "|    '(' <expr neg(+FB)> ')'\n",
      "|    '+' <factor neg(+FB)>\n",
      "|    '-' <factor neg(+FB)>\n",
      "|    <integer>\n",
      "|    <integer> '.' <integer>\n",
      "<integer> ::=\n",
      "|    <digit>\n",
      "|    <digit> <integer>\n",
      "<digit> ::=\n",
      "|    '0'\n",
      "|    '1'\n",
      "|    '2'\n",
      "|    '3'\n",
      "|    '4'\n",
      "|    '5'\n",
      "|    '6'\n",
      "|    '7'\n",
      "|    '8'\n",
      "|    '9'\n",
      "7 26\n"
     ]
    },
    {
     "data": {
      "text/plain": [
       "'<start neg(+FB)>'"
      ]
     },
     "execution_count": 432,
     "metadata": {},
     "output_type": "execute_result"
    }
   ],
   "source": [
    "FpB = find_charecterizing_node(FtB)\n",
    "no_faultB_grammar_, no_faultB_start = no_fault_grammar(EXPR_GRAMMAR, EXPR_START, FpB, 'B')\n",
    "Gs(no_faultB_grammar_, -1)\n",
    "no_faultB_grammar, no_faultB_start = grammar_gc(no_faultB_grammar_, no_faultB_start)\n",
    "Gs(no_faultB_grammar)\n",
    "no_faultB_start"
   ]
  },
  {
   "cell_type": "code",
   "execution_count": 433,
   "metadata": {},
   "outputs": [],
   "source": [
    "no_faultB_fuzzer = LimitFuzzer(no_faultB_grammar)\n",
    "no_faultB_parser = Parser(no_faultB_grammar, canonical=True, start_symbol=no_faultB_start)"
   ]
  },
  {
   "cell_type": "code",
   "execution_count": 434,
   "metadata": {},
   "outputs": [],
   "source": [
    "assert no_faultB_parser.can_parse('1 - 2')"
   ]
  },
  {
   "cell_type": "code",
   "execution_count": 435,
   "metadata": {},
   "outputs": [],
   "source": [
    "assert not no_faultB_parser.can_parse('1 + 2')"
   ]
  },
  {
   "cell_type": "code",
   "execution_count": null,
   "metadata": {},
   "outputs": [],
   "source": []
  },
  {
   "cell_type": "markdown",
   "metadata": {},
   "source": [
    "## Fault C"
   ]
  },
  {
   "cell_type": "code",
   "execution_count": 436,
   "metadata": {},
   "outputs": [
    {
     "data": {
      "text/plain": [
       "'1 / 0'"
      ]
     },
     "execution_count": 436,
     "metadata": {},
     "output_type": "execute_result"
    }
   ],
   "source": [
    "exprC_input = '1 / 0'\n",
    "exprC_tree = list(expr_parser.parse(exprC_input))[0]\n",
    "tree_to_str(exprC_tree)"
   ]
  },
  {
   "cell_type": "code",
   "execution_count": 437,
   "metadata": {},
   "outputs": [
    {
     "name": "stdout",
     "output_type": "stream",
     "text": [
      "<factor> 1\n"
     ]
    }
   ],
   "source": [
    "abs_path_C = [0,0, 0]\n",
    "Ns(exprC_tree, [abs_path_C])"
   ]
  },
  {
   "cell_type": "code",
   "execution_count": 438,
   "metadata": {},
   "outputs": [
    {
     "data": {
      "image/png": "[encoded data removed]",
      "text/plain": [
       "<IPython.core.display.Image object>"
      ]
     },
     "execution_count": 438,
     "metadata": {},
     "output_type": "execute_result"
    }
   ],
   "source": [
    "FtC = mark_abstract_nodes(exprC_tree, [abs_path_C])\n",
    "Da(FtC)"
   ]
  },
  {
   "cell_type": "code",
   "execution_count": 439,
   "metadata": {
    "scrolled": false
   },
   "outputs": [
    {
     "name": "stdout",
     "output_type": "stream",
     "text": [
      "26 85\n",
      "<start .FC> ::=\n",
      "|    <expr .FC>\n",
      "<expr .FC> ::=\n",
      "|    <term .FC>\n",
      "|    <term .FC> ' + ' <expr neg(+FC)>\n",
      "|    <term .FC> ' - ' <expr neg(+FC)>\n",
      "|    <term neg(+FC)> ' + ' <expr .FC>\n",
      "|    <term neg(+FC)> ' - ' <expr .FC>\n",
      "<term .FC> ::=\n",
      "|    <factor> ' / ' <term LC_2>\n",
      "<expr neg(+FC)> ::=\n",
      "|    <term neg(+FC)>\n",
      "|    <term neg(+FC)> ' + ' <expr neg(+FC)>\n",
      "|    <term neg(+FC)> ' - ' <expr neg(+FC)>\n",
      "<term neg(+FC)> ::=\n",
      "|    <factor neg(+FC)>\n",
      "|    <factor neg(+FC)> ' * ' <term neg(+FC)>\n",
      "|    <factor neg(+FC)> ' / ' <term neg(LC_2)>\n",
      "<factor> ::=\n",
      "|    '(' <expr> ')'\n",
      "|    '+' <factor>\n",
      "|    '-' <factor>\n",
      "|    <integer>\n",
      "|    <integer> '.' <integer>\n",
      "<term LC_2> ::=\n",
      "|    <factor LC_1>\n",
      "<expr> ::=\n",
      "|    <term>\n",
      "|    <term> ' + ' <expr>\n",
      "|    <term> ' - ' <expr>\n",
      "<integer> ::=\n",
      "|    <digit>\n",
      "|    <digit> <integer>\n",
      "<term> ::=\n",
      "|    <factor>\n",
      "|    <factor> ' * ' <term>\n",
      "|    <factor> ' / ' <term>\n",
      "<digit> ::=\n",
      "|    '0'\n",
      "|    '1'\n",
      "|    '2'\n",
      "|    '3'\n",
      "|    '4'\n",
      "|    '5'\n",
      "|    '6'\n",
      "|    '7'\n",
      "|    '8'\n",
      "|    '9'\n",
      "<factor LC_1> ::=\n",
      "|    <integer LC_1>\n",
      "<integer LC_1> ::=\n",
      "|    <digit LC_1>\n",
      "<digit LC_1> ::=\n",
      "|    '0'\n",
      "<factor neg(+FC)> ::=\n",
      "|    '(' <expr neg(+FC)> ')'\n",
      "|    '+' <factor neg(+FC)>\n",
      "|    '-' <factor neg(+FC)>\n",
      "|    <integer>\n",
      "|    <integer> '.' <integer>\n",
      "<term neg(LC_2)> ::=\n",
      "|    <factor neg(+FC)> ' * ' <term neg(+FC)>\n",
      "|    <factor neg(+FC)> ' / ' <term neg(+FC)>\n",
      "|    <factor neg(LC_1)>\n",
      "<factor neg(LC_1)> ::=\n",
      "|    '(' <expr neg(+FC)> ')'\n",
      "|    '+' <factor neg(+FC)>\n",
      "|    '-' <factor neg(+FC)>\n",
      "|    <integer neg(LC_1)>\n",
      "|    <integer> '.' <integer>\n",
      "<integer neg(LC_1)> ::=\n",
      "|    <digit neg(LC_1)>\n",
      "|    <digit> <integer>\n",
      "<digit neg(LC_1)> ::=\n",
      "|    '1'\n",
      "|    '2'\n",
      "|    '3'\n",
      "|    '4'\n",
      "|    '5'\n",
      "|    '6'\n",
      "|    '7'\n",
      "|    '8'\n",
      "|    '9'\n",
      "19 64\n"
     ]
    },
    {
     "data": {
      "text/plain": [
       "'<start .FC>'"
      ]
     },
     "execution_count": 439,
     "metadata": {},
     "output_type": "execute_result"
    }
   ],
   "source": [
    "FpC = find_charecterizing_node(FtC)\n",
    "faultC_grammar_, faultC_start = exactly_one_fault_grammar(EXPR_GRAMMAR, EXPR_START, FpC, 'C')\n",
    "Gs(faultC_grammar_, -1)\n",
    "faultC_grammar, faultC_start = grammar_gc(faultC_grammar_, faultC_start)\n",
    "Gs(faultC_grammar)\n",
    "faultC_start"
   ]
  },
  {
   "cell_type": "code",
   "execution_count": 440,
   "metadata": {},
   "outputs": [],
   "source": [
    "faultC_fuzzer = LimitFuzzer(faultC_grammar)\n",
    "faultC_parser = Parser(faultC_grammar, canonical=True, start_symbol=faultC_start)"
   ]
  },
  {
   "cell_type": "code",
   "execution_count": 441,
   "metadata": {},
   "outputs": [
    {
     "name": "stdout",
     "output_type": "stream",
     "text": [
      "0876.8 / 0\n",
      "43 / (31) + 220974 + -208.1 * 4459.5 * 42 * 10 + (+0) / 0\n",
      "(32 - -(0 + 4 - 4.1) + --6.7 * 9.8 * 7.7 + +7 - 8.5 / 9 + 8 - 0) / 0 + ((2 / 1) / -(2.9) + 8 * 1.5 / 5 * 0.1 - 5.0 - 3.4) / (++5 * +4 / 2 * 0.7 + 1.8 + 5.2 + 5.0 + 6)\n",
      "+15357 / 0\n",
      "((-9 * 6.8) * (3.0 / 2 + 1) * -2.0 / 3.3 / 6.5) * -(87.5 / 7 * 9 / 6 - 9 * 1.3 + 8.0 / 6) - 8.2 / 0\n",
      "-88.74 / 0 + +43.214 / +(+4 + 4.8) / 05.0 - (81) - 1.7 - 04.5\n",
      "+329.5423 / -79827 / 3.1 / +(2 / 0.4 - 0 - 1.0) + 6827.09 * 5.0 / -838 / 88 * 68 / (6) / 1 / 2 + ++-1.34 - ((8.2 - 7 + 5 - 3 + 2.9 + 9.0 - 9 - 9.6) * 4.2 - 0 + 1 - 9 - 3.6 + 8 + 4 - 0 - 8 - 5 + 8.9) / 0 + 5 + (0 + 8) / 0.0 / 7 / 3.4 - 2 / 4.8 / 6.0 - 0.5 + 7.9 + 2.8\n",
      "+45 * 1 + +50.012 / 0\n",
      "+1 * 5128 * (+7 / (1) / 7.2 * 8.5) * 1.53 / (2.8 * 9 + 9 - 1.2) * +5.3 / -9 * 4.3 / 6 + 69.929 / 0 - (8 / (8)) * -255.9 / 3 * 97 + (+2 / 5.1 - 9.1 / 4.4 - 7 - 1) - 5.4 / 13.6 * (3) / 3.2 * 6\n",
      "((1 * 2.1 / 2 + 9) / 9 / 26.2 * -4.2) / -3.7 * (5 + 0 * 0 / 0.0 + 7.3 * 5) * 64.0 / 1 * (3.0 + 3) * 4.8 - 924.645 * +-7.509 * (9.3 / 5.0 + 8 / 7 - 7) * +(0.1 - 3.6) * -(2.0) * 7 - 364 / 0 - 87 * (6.7 * 5.9 + 1 + 4) * (5.9 + 0.7) * +3 * 5.4 * 1.8\n"
     ]
    }
   ],
   "source": [
    "for i in range(10):\n",
    "    s = faultC_fuzzer.fuzz(key=faultC_start)\n",
    "    print(s)\n",
    "    assert faultC_parser.can_parse(s)"
   ]
  },
  {
   "cell_type": "code",
   "execution_count": 442,
   "metadata": {},
   "outputs": [],
   "source": [
    "assert not faultC_parser.can_parse('1 - 2')"
   ]
  },
  {
   "cell_type": "code",
   "execution_count": null,
   "metadata": {},
   "outputs": [],
   "source": []
  },
  {
   "cell_type": "markdown",
   "metadata": {},
   "source": [
    "### -C"
   ]
  },
  {
   "cell_type": "code",
   "execution_count": 443,
   "metadata": {},
   "outputs": [
    {
     "name": "stdout",
     "output_type": "stream",
     "text": [
      "17 70\n",
      "<start neg(+FC)> ::=\n",
      "|    <expr neg(+FC)>\n",
      "<expr neg(+FC)> ::=\n",
      "|    <term neg(+FC)>\n",
      "|    <term neg(+FC)> ' + ' <expr neg(+FC)>\n",
      "|    <term neg(+FC)> ' - ' <expr neg(+FC)>\n",
      "<term neg(+FC)> ::=\n",
      "|    <factor neg(+FC)>\n",
      "|    <factor neg(+FC)> ' * ' <term neg(+FC)>\n",
      "|    <factor neg(+FC)> ' / ' <term neg(LC_2)>\n",
      "<factor neg(+FC)> ::=\n",
      "|    '(' <expr neg(+FC)> ')'\n",
      "|    '+' <factor neg(+FC)>\n",
      "|    '-' <factor neg(+FC)>\n",
      "|    <integer>\n",
      "|    <integer> '.' <integer>\n",
      "<term neg(LC_2)> ::=\n",
      "|    <factor neg(+FC)> ' * ' <term neg(+FC)>\n",
      "|    <factor neg(+FC)> ' / ' <term neg(+FC)>\n",
      "|    <factor neg(LC_1)>\n",
      "<integer> ::=\n",
      "|    <digit>\n",
      "|    <digit> <integer>\n",
      "<digit> ::=\n",
      "|    '0'\n",
      "|    '1'\n",
      "|    '2'\n",
      "|    '3'\n",
      "|    '4'\n",
      "|    '5'\n",
      "|    '6'\n",
      "|    '7'\n",
      "|    '8'\n",
      "|    '9'\n",
      "<factor neg(LC_1)> ::=\n",
      "|    '(' <expr neg(+FC)> ')'\n",
      "|    '+' <factor neg(+FC)>\n",
      "|    '-' <factor neg(+FC)>\n",
      "|    <integer neg(LC_1)>\n",
      "|    <integer> '.' <integer>\n",
      "<integer neg(LC_1)> ::=\n",
      "|    <digit neg(LC_1)>\n",
      "|    <digit> <integer>\n",
      "<digit neg(LC_1)> ::=\n",
      "|    '1'\n",
      "|    '2'\n",
      "|    '3'\n",
      "|    '4'\n",
      "|    '5'\n",
      "|    '6'\n",
      "|    '7'\n",
      "|    '8'\n",
      "|    '9'\n",
      "10 43\n"
     ]
    },
    {
     "data": {
      "text/plain": [
       "'<start neg(+FC)>'"
      ]
     },
     "execution_count": 443,
     "metadata": {},
     "output_type": "execute_result"
    }
   ],
   "source": [
    "FpC = find_charecterizing_node(FtC)\n",
    "no_faultC_grammar_, no_faultC_start = no_fault_grammar(EXPR_GRAMMAR, EXPR_START, FpC, 'C')\n",
    "Gs(no_faultC_grammar_, -1)\n",
    "no_faultC_grammar, no_faultC_start = grammar_gc(no_faultC_grammar_, no_faultC_start)\n",
    "Gs(no_faultC_grammar)\n",
    "no_faultC_start"
   ]
  },
  {
   "cell_type": "code",
   "execution_count": 444,
   "metadata": {},
   "outputs": [],
   "source": [
    "no_faultC_fuzzer = LimitFuzzer(no_faultC_grammar)\n",
    "no_faultC_parser = Parser(no_faultC_grammar, canonical=True, start_symbol=no_faultC_start)"
   ]
  },
  {
   "cell_type": "code",
   "execution_count": 445,
   "metadata": {},
   "outputs": [],
   "source": [
    "assert no_faultC_parser.can_parse('1 - 2')"
   ]
  },
  {
   "cell_type": "code",
   "execution_count": 446,
   "metadata": {},
   "outputs": [],
   "source": [
    "assert not no_faultC_parser.can_parse('1 / 0')"
   ]
  },
  {
   "cell_type": "markdown",
   "metadata": {},
   "source": [
    "## Conjunction"
   ]
  },
  {
   "cell_type": "markdown",
   "metadata": {},
   "source": [
    "### A & B"
   ]
  },
  {
   "cell_type": "code",
   "execution_count": 447,
   "metadata": {
    "scrolled": false
   },
   "outputs": [
    {
     "name": "stdout",
     "output_type": "stream",
     "text": [
      "49 131\n",
      "<start and(.FA,.FB)> ::=\n",
      "|    <expr and(.FA,.FB)>\n",
      "<expr and(.FA,.FB)> ::=\n",
      "|    <term .FA> ' + ' <expr and(neg(+FA),LB_2)>\n",
      "|    <term neg(+FA)> ' + ' <expr and(.FA,LB_2)>\n",
      "<term .FA> ::=\n",
      "|    <factor .FA>\n",
      "|    <factor .FA> ' * ' <term neg(+FA)>\n",
      "|    <factor .FA> ' / ' <term neg(+FA)>\n",
      "|    <factor neg(+FA)> ' * ' <term .FA>\n",
      "|    <factor neg(+FA)> ' / ' <term .FA>\n",
      "<expr and(neg(+FA),LB_2)> ::=\n",
      "|    <term neg(+FA)>\n",
      "<term neg(+FA)> ::=\n",
      "|    <factor neg(+FA)>\n",
      "|    <factor neg(+FA)> ' * ' <term neg(+FA)>\n",
      "|    <factor neg(+FA)> ' / ' <term neg(+FA)>\n",
      "<expr and(.FA,LB_2)> ::=\n",
      "|    <term .FA>\n",
      "<factor .FA> ::=\n",
      "|    '(' <expr LA_1> ')'\n",
      "<factor neg(+FA)> ::=\n",
      "|    '(' <expr neg(LA_1)> ')'\n",
      "|    '+' <factor neg(+FA)>\n",
      "|    '-' <factor neg(+FA)>\n",
      "|    <integer>\n",
      "|    <integer> '.' <integer>\n",
      "<expr LA_1> ::=\n",
      "|    <term LA_1>\n",
      "<term LA_1> ::=\n",
      "|    <factor LA_2>\n",
      "<factor LA_2> ::=\n",
      "|    '(' <expr> ')'\n",
      "<expr> ::=\n",
      "|    <term>\n",
      "|    <term> ' + ' <expr>\n",
      "|    <term> ' - ' <expr>\n",
      "<term> ::=\n",
      "|    <factor>\n",
      "|    <factor> ' * ' <term>\n",
      "|    <factor> ' / ' <term>\n",
      "<factor> ::=\n",
      "|    '(' <expr> ')'\n",
      "|    '+' <factor>\n",
      "|    '-' <factor>\n",
      "|    <integer>\n",
      "|    <integer> '.' <integer>\n",
      "<integer> ::=\n",
      "|    <digit>\n",
      "|    <digit> <integer>\n",
      "<digit> ::=\n",
      "|    '0'\n",
      "|    '1'\n",
      "|    '2'\n",
      "|    '3'\n",
      "|    '4'\n",
      "|    '5'\n",
      "|    '6'\n",
      "|    '7'\n",
      "|    '8'\n",
      "|    '9'\n",
      "<expr neg(LA_1)> ::=\n",
      "|    <term neg(+FA)> ' + ' <expr neg(+FA)>\n",
      "|    <term neg(+FA)> ' - ' <expr neg(+FA)>\n",
      "|    <term neg(LA_1)>\n",
      "<expr neg(+FA)> ::=\n",
      "|    <term neg(+FA)>\n",
      "|    <term neg(+FA)> ' + ' <expr neg(+FA)>\n",
      "|    <term neg(+FA)> ' - ' <expr neg(+FA)>\n",
      "<term neg(LA_1)> ::=\n",
      "|    <factor neg(+FA)> ' * ' <term neg(+FA)>\n",
      "|    <factor neg(+FA)> ' / ' <term neg(+FA)>\n",
      "|    <factor neg(LA_2)>\n",
      "<factor neg(LA_2)> ::=\n",
      "|    '+' <factor neg(+FA)>\n",
      "|    '-' <factor neg(+FA)>\n",
      "|    <integer>\n",
      "|    <integer> '.' <integer>\n",
      "20 58\n"
     ]
    },
    {
     "data": {
      "text/plain": [
       "'<start and(.FA,.FB)>'"
      ]
     },
     "execution_count": 447,
     "metadata": {},
     "output_type": "execute_result"
    }
   ],
   "source": [
    "AandB_grammar_, AandB_start, refs = and_grammars_(faultA_grammar, faultA_start, faultB_grammar, faultB_start)\n",
    "Gs(AandB_grammar_, -1)\n",
    "AandB_grammar, AandB_start = grammar_gc(AandB_grammar_, AandB_start)\n",
    "Gs(AandB_grammar)\n",
    "AandB_start"
   ]
  },
  {
   "cell_type": "code",
   "execution_count": 448,
   "metadata": {},
   "outputs": [],
   "source": [
    "AandB_fuzzer = LimitFuzzer(AandB_grammar)\n",
    "AandB_parser = Parser(AandB_grammar, canonical=True, start_symbol=AandB_start)"
   ]
  },
  {
   "cell_type": "code",
   "execution_count": 449,
   "metadata": {},
   "outputs": [
    {
     "name": "stdout",
     "output_type": "stream",
     "text": [
      "8 / -(-1.5 * -2.6 - (0.8) * 3 * 0.8 - 8.9 / 6.8) / +(+6.4) + ((3 * 8.0 + 0.9 + 6.7)) * 8\n",
      "A&B\n",
      "A\n",
      "B\n",
      "((1.9 + 3 / 2 + 7.4 - 5)) + 563694.6\n",
      "A&B\n",
      "A\n",
      "B\n",
      "+--++5.0 + ((2.7 / 3.3))\n",
      "A&B\n",
      "A\n",
      "B\n",
      "-3.2 / ((8)) * -18.9276 * 1202 * (1 - 0.3 - 2.5) * +(8) / -4.2 * 7 + (8.3) * (11 / 0 * 2) * 303 * -4.3\n",
      "A&B\n",
      "A\n",
      "B\n",
      "(((8.5) * 1 + 6.2 / 9.1 + 5 + 5.0)) * ((5.4 + 8 + 8) + 85 / (9.2) * 1.9 + (8.4) + 7.1 * 1.6 + 5 - 0.7) / ((9) * (5) / 3 / 2.0 - (3) + 5.9 * 0 + 3 + 5.0) / +(2 / 0) / +(9) + 2.1 * 3638.93745 * 4095\n",
      "A&B\n",
      "A\n",
      "B\n",
      "(((3) / 2.5 * 1 - 1.2 * 9.1)) / -+(-6.6 * 8.3 * 9 + 0.5 / 7.6 + 3) + -588\n",
      "A&B\n",
      "A\n",
      "B\n",
      "-((8 - 3 - 7.3) * -2.8 / +2 / 3.0 - +(2) / (9.1) * 7.2 / 9 - 8.1 * 5.3 / 1.9 - 1) + ((7 / 2 - 6.6 - 2))\n",
      "A&B\n",
      "A\n",
      "B\n",
      "2 + (4.6 * (8.2 - 0) / (9.2) / 4.3 + +(1.8) * (1.7) - 3.3 * 9 * 4.9 + 0 / 4 + 3.7 + 8) * +40.2 * +60 * ((2)) * (5.4 + 1) / (1.4) / 7 / 1\n",
      "A&B\n",
      "A\n",
      "B\n",
      "((+9.3 * 5 * 6.0 + 7 - 9.9 - 8)) + 0\n",
      "A&B\n",
      "A\n",
      "B\n",
      "(((2) / 8 * 9 + 4.6 / 7.2 - 2.2 + 2.5)) / 6.0 * (9.57 / -4 / 9.8 - +4.3 * 3) * (-2.6 + 4 / 9.9) / -+(6) * 1 + +-10.9016 / 6\n",
      "A&B\n",
      "A\n",
      "B\n"
     ]
    }
   ],
   "source": [
    "for i in range(10):\n",
    "    s = AandB_fuzzer.fuzz(key=AandB_start)\n",
    "    print(s)\n",
    "    print('A&B')\n",
    "    assert AandB_parser.can_parse(s)\n",
    "    print('A')\n",
    "    assert faultA_parser.can_parse(s)\n",
    "    print('B')\n",
    "    assert faultB_parser.can_parse(s)"
   ]
  },
  {
   "cell_type": "markdown",
   "metadata": {},
   "source": [
    "### A & C"
   ]
  },
  {
   "cell_type": "code",
   "execution_count": 450,
   "metadata": {},
   "outputs": [
    {
     "name": "stdout",
     "output_type": "stream",
     "text": [
      "99 287\n",
      "<start and(.FA,.FC)> ::=\n",
      "|    <expr and(.FA,.FC)>\n",
      "<expr and(.FA,.FC)> ::=\n",
      "|    <term and(.FA,.FC)>\n",
      "|    <term and(.FA,.FC)> ' + ' <expr and(neg(+FA),neg(+FC))>\n",
      "|    <term and(.FA,.FC)> ' - ' <expr and(neg(+FA),neg(+FC))>\n",
      "|    <term and(.FA,neg(+FC))> ' + ' <expr and(neg(+FA),.FC)>\n",
      "|    <term and(.FA,neg(+FC))> ' - ' <expr and(neg(+FA),.FC)>\n",
      "|    <term and(neg(+FA),.FC)> ' + ' <expr and(.FA,neg(+FC))>\n",
      "|    <term and(neg(+FA),.FC)> ' - ' <expr and(.FA,neg(+FC))>\n",
      "|    <term and(neg(+FA),neg(+FC))> ' + ' <expr and(.FA,.FC)>\n",
      "|    <term and(neg(+FA),neg(+FC))> ' - ' <expr and(.FA,.FC)>\n",
      "<term and(.FA,.FC)> ::=\n",
      "|    <factor .FA> ' / ' <term and(neg(+FA),LC_2)>\n",
      "<expr and(neg(+FA),neg(+FC))> ::=\n",
      "|    <term and(neg(+FA),neg(+FC))>\n",
      "|    <term and(neg(+FA),neg(+FC))> ' + ' <expr and(neg(+FA),neg(+FC))>\n",
      "|    <term and(neg(+FA),neg(+FC))> ' - ' <expr and(neg(+FA),neg(+FC))>\n",
      "<term and(.FA,neg(+FC))> ::=\n",
      "|    <factor and(.FA,neg(+FC))>\n",
      "|    <factor and(.FA,neg(+FC))> ' * ' <term and(neg(+FA),neg(+FC))>\n",
      "|    <factor and(.FA,neg(+FC))> ' / ' <term and(neg(+FA),neg(LC_2))>\n",
      "|    <factor and(neg(+FA),neg(+FC))> ' * ' <term and(.FA,neg(+FC))>\n",
      "|    <factor and(neg(+FA),neg(+FC))> ' / ' <term and(.FA,neg(LC_2))>\n",
      "<expr and(neg(+FA),.FC)> ::=\n",
      "|    <term and(neg(+FA),.FC)>\n",
      "|    <term and(neg(+FA),.FC)> ' + ' <expr and(neg(+FA),neg(+FC))>\n",
      "|    <term and(neg(+FA),.FC)> ' - ' <expr and(neg(+FA),neg(+FC))>\n",
      "|    <term and(neg(+FA),neg(+FC))> ' + ' <expr and(neg(+FA),.FC)>\n",
      "|    <term and(neg(+FA),neg(+FC))> ' - ' <expr and(neg(+FA),.FC)>\n",
      "<term and(neg(+FA),.FC)> ::=\n",
      "|    <factor neg(+FA)> ' / ' <term and(neg(+FA),LC_2)>\n",
      "<expr and(.FA,neg(+FC))> ::=\n",
      "|    <term and(.FA,neg(+FC))>\n",
      "|    <term and(.FA,neg(+FC))> ' + ' <expr and(neg(+FA),neg(+FC))>\n",
      "|    <term and(.FA,neg(+FC))> ' - ' <expr and(neg(+FA),neg(+FC))>\n",
      "|    <term and(neg(+FA),neg(+FC))> ' + ' <expr and(.FA,neg(+FC))>\n",
      "|    <term and(neg(+FA),neg(+FC))> ' - ' <expr and(.FA,neg(+FC))>\n",
      "<term and(neg(+FA),neg(+FC))> ::=\n",
      "|    <factor and(neg(+FA),neg(+FC))>\n",
      "|    <factor and(neg(+FA),neg(+FC))> ' * ' <term and(neg(+FA),neg(+FC))>\n",
      "|    <factor and(neg(+FA),neg(+FC))> ' / ' <term and(neg(+FA),neg(LC_2))>\n",
      "<factor .FA> ::=\n",
      "|    '(' <expr LA_1> ')'\n",
      "<term and(neg(+FA),LC_2)> ::=\n",
      "|    <factor and(neg(+FA),LC_1)>\n",
      "<expr LA_1> ::=\n",
      "|    <term LA_1>\n",
      "<term LA_1> ::=\n",
      "|    <factor LA_2>\n",
      "<factor LA_2> ::=\n",
      "|    '(' <expr> ')'\n",
      "<expr> ::=\n",
      "|    <term>\n",
      "|    <term> ' + ' <expr>\n",
      "|    <term> ' - ' <expr>\n",
      "<term> ::=\n",
      "|    <factor>\n",
      "|    <factor> ' * ' <term>\n",
      "|    <factor> ' / ' <term>\n",
      "<factor> ::=\n",
      "|    '(' <expr> ')'\n",
      "|    '+' <factor>\n",
      "|    '-' <factor>\n",
      "|    <integer>\n",
      "|    <integer> '.' <integer>\n",
      "<integer> ::=\n",
      "|    <digit>\n",
      "|    <digit> <integer>\n",
      "<digit> ::=\n",
      "|    '0'\n",
      "|    '1'\n",
      "|    '2'\n",
      "|    '3'\n",
      "|    '4'\n",
      "|    '5'\n",
      "|    '6'\n",
      "|    '7'\n",
      "|    '8'\n",
      "|    '9'\n",
      "<factor and(neg(+FA),LC_1)> ::=\n",
      "|    <integer LC_1>\n",
      "<integer LC_1> ::=\n",
      "|    <digit LC_1>\n",
      "<digit LC_1> ::=\n",
      "|    '0'\n",
      "<factor and(.FA,neg(+FC))> ::=\n",
      "|    '(' <expr and(LA_1,neg(+FC))> ')'\n",
      "<term and(neg(+FA),neg(LC_2))> ::=\n",
      "|    <factor and(neg(+FA),neg(+FC))> ' * ' <term and(neg(+FA),neg(+FC))>\n",
      "|    <factor and(neg(+FA),neg(+FC))> ' / ' <term and(neg(+FA),neg(+FC))>\n",
      "|    <factor and(neg(+FA),neg(LC_1))>\n",
      "<factor and(neg(+FA),neg(+FC))> ::=\n",
      "|    '(' <expr and(neg(LA_1),neg(+FC))> ')'\n",
      "|    '+' <factor and(neg(+FA),neg(+FC))>\n",
      "|    '-' <factor and(neg(+FA),neg(+FC))>\n",
      "|    <integer>\n",
      "|    <integer> '.' <integer>\n",
      "<term and(.FA,neg(LC_2))> ::=\n",
      "|    <factor and(.FA,neg(+FC))> ' * ' <term and(neg(+FA),neg(+FC))>\n",
      "|    <factor and(.FA,neg(+FC))> ' / ' <term and(neg(+FA),neg(+FC))>\n",
      "|    <factor and(.FA,neg(LC_1))>\n",
      "|    <factor and(neg(+FA),neg(+FC))> ' * ' <term and(.FA,neg(+FC))>\n",
      "|    <factor and(neg(+FA),neg(+FC))> ' / ' <term and(.FA,neg(+FC))>\n",
      "<expr and(LA_1,neg(+FC))> ::=\n",
      "|    <term and(LA_1,neg(+FC))>\n",
      "<term and(LA_1,neg(+FC))> ::=\n",
      "|    <factor and(LA_2,neg(+FC))>\n",
      "<factor and(LA_2,neg(+FC))> ::=\n",
      "|    '(' <expr neg(+FC)> ')'\n",
      "<expr neg(+FC)> ::=\n",
      "|    <term neg(+FC)>\n",
      "|    <term neg(+FC)> ' + ' <expr neg(+FC)>\n",
      "|    <term neg(+FC)> ' - ' <expr neg(+FC)>\n",
      "<term neg(+FC)> ::=\n",
      "|    <factor neg(+FC)>\n",
      "|    <factor neg(+FC)> ' * ' <term neg(+FC)>\n",
      "|    <factor neg(+FC)> ' / ' <term neg(LC_2)>\n",
      "<factor neg(+FC)> ::=\n",
      "|    '(' <expr neg(+FC)> ')'\n",
      "|    '+' <factor neg(+FC)>\n",
      "|    '-' <factor neg(+FC)>\n",
      "|    <integer>\n",
      "|    <integer> '.' <integer>\n",
      "<term neg(LC_2)> ::=\n",
      "|    <factor neg(+FC)> ' * ' <term neg(+FC)>\n",
      "|    <factor neg(+FC)> ' / ' <term neg(+FC)>\n",
      "|    <factor neg(LC_1)>\n",
      "<factor neg(LC_1)> ::=\n",
      "|    '(' <expr neg(+FC)> ')'\n",
      "|    '+' <factor neg(+FC)>\n",
      "|    '-' <factor neg(+FC)>\n",
      "|    <integer neg(LC_1)>\n",
      "|    <integer> '.' <integer>\n",
      "<integer neg(LC_1)> ::=\n",
      "|    <digit neg(LC_1)>\n",
      "|    <digit> <integer>\n",
      "<digit neg(LC_1)> ::=\n",
      "|    '1'\n",
      "|    '2'\n",
      "|    '3'\n",
      "|    '4'\n",
      "|    '5'\n",
      "|    '6'\n",
      "|    '7'\n",
      "|    '8'\n",
      "|    '9'\n",
      "<factor and(neg(+FA),neg(LC_1))> ::=\n",
      "|    '(' <expr and(neg(LA_1),neg(+FC))> ')'\n",
      "|    '+' <factor and(neg(+FA),neg(+FC))>\n",
      "|    '-' <factor and(neg(+FA),neg(+FC))>\n",
      "|    <integer neg(LC_1)>\n",
      "|    <integer> '.' <integer>\n",
      "<expr and(neg(LA_1),neg(+FC))> ::=\n",
      "|    <term and(neg(+FA),neg(+FC))> ' + ' <expr and(neg(+FA),neg(+FC))>\n",
      "|    <term and(neg(+FA),neg(+FC))> ' - ' <expr and(neg(+FA),neg(+FC))>\n",
      "|    <term and(neg(LA_1),neg(+FC))>\n",
      "<term and(neg(LA_1),neg(+FC))> ::=\n",
      "|    <factor and(neg(+FA),neg(+FC))> ' * ' <term and(neg(+FA),neg(+FC))>\n",
      "|    <factor and(neg(+FA),neg(+FC))> ' / ' <term and(neg(+FA),neg(LC_2))>\n",
      "|    <factor and(neg(LA_2),neg(+FC))>\n",
      "<factor and(neg(LA_2),neg(+FC))> ::=\n",
      "|    '+' <factor and(neg(+FA),neg(+FC))>\n",
      "|    '-' <factor and(neg(+FA),neg(+FC))>\n",
      "|    <integer>\n",
      "|    <integer> '.' <integer>\n",
      "<factor and(.FA,neg(LC_1))> ::=\n",
      "|    '(' <expr and(LA_1,neg(+FC))> ')'\n",
      "<factor neg(+FA)> ::=\n",
      "|    '(' <expr neg(LA_1)> ')'\n",
      "|    '+' <factor neg(+FA)>\n",
      "|    '-' <factor neg(+FA)>\n",
      "|    <integer>\n",
      "|    <integer> '.' <integer>\n",
      "<expr neg(LA_1)> ::=\n",
      "|    <term neg(+FA)> ' + ' <expr neg(+FA)>\n",
      "|    <term neg(+FA)> ' - ' <expr neg(+FA)>\n",
      "|    <term neg(LA_1)>\n",
      "<term neg(+FA)> ::=\n",
      "|    <factor neg(+FA)>\n",
      "|    <factor neg(+FA)> ' * ' <term neg(+FA)>\n",
      "|    <factor neg(+FA)> ' / ' <term neg(+FA)>\n",
      "<expr neg(+FA)> ::=\n",
      "|    <term neg(+FA)>\n",
      "|    <term neg(+FA)> ' + ' <expr neg(+FA)>\n",
      "|    <term neg(+FA)> ' - ' <expr neg(+FA)>\n",
      "<term neg(LA_1)> ::=\n",
      "|    <factor neg(+FA)> ' * ' <term neg(+FA)>\n",
      "|    <factor neg(+FA)> ' / ' <term neg(+FA)>\n",
      "|    <factor neg(LA_2)>\n",
      "<factor neg(LA_2)> ::=\n",
      "|    '+' <factor neg(+FA)>\n",
      "|    '-' <factor neg(+FA)>\n",
      "|    <integer>\n",
      "|    <integer> '.' <integer>\n",
      "47 148\n"
     ]
    },
    {
     "data": {
      "text/plain": [
       "'<start and(.FA,.FC)>'"
      ]
     },
     "execution_count": 450,
     "metadata": {},
     "output_type": "execute_result"
    }
   ],
   "source": [
    "AandC_grammar_, AandC_start, refs = and_grammars_(faultA_grammar, faultA_start, faultC_grammar, faultC_start)\n",
    "Gs(AandC_grammar_, -1)\n",
    "AandC_grammar, AandC_start = grammar_gc(AandC_grammar_, AandC_start)\n",
    "Gs(AandC_grammar)\n",
    "AandC_start"
   ]
  },
  {
   "cell_type": "code",
   "execution_count": 451,
   "metadata": {},
   "outputs": [],
   "source": [
    "AandC_fuzzer = LimitFuzzer(AandC_grammar)\n",
    "AandC_parser = Parser(AandC_grammar, canonical=True, start_symbol=AandC_start)"
   ]
  },
  {
   "cell_type": "code",
   "execution_count": 452,
   "metadata": {},
   "outputs": [
    {
     "name": "stdout",
     "output_type": "stream",
     "text": [
      "((3.1 / 2 / 6.3 + 9 * 6.9 - 3 - 8.3)) * 75.6 + -((1) * (0.6) * 5.6 * 9 - 2.3 / 4.2 - 1.1 + 3.3 + 6.0 - 1 - 6.7 + 3.6) / 0\n",
      "A&C\n",
      "A\n",
      "C\n",
      "((9 / 8 * 7.1 - 4.7 / 7.2 - 8.7)) + 8.8 / 0 - +-(3.4 / 1.9 - 0.9 - 8.5) / -2.7 / 4.8 / 18 - 2.658 + 798 * 22.03 / -4.6 * 1.2 * 7\n",
      "A&C\n",
      "A\n",
      "C\n",
      "70.5 - +96.695 / 0 + (--6 / 9) * ((7.7)) * -(4 - 4.8) / -(1.1) + +(0 * 1 + 2.2 - 2) / -+3 / 2.9 * +7.0 + 5 / +-9.7 / (1.1)\n",
      "A&C\n",
      "A\n",
      "C\n",
      "(-8.9 / +--8 / 59.2 / +3 / 8) / 0 - ((7 - 3)) * -2028.71 * 1427 / 57\n",
      "A&C\n",
      "A\n",
      "C\n",
      "((2.5 / 6 - 1.0 / 7.9)) / 0 - (+51 * ++5 + (0.7 - 1) * +6 + 1.9 / 3 / 3 + 3) * (7.03 * (1.8))\n",
      "A&C\n",
      "A\n",
      "C\n",
      "(((5.1) * 9 + 7 / 2.0)) / 0\n",
      "A&C\n",
      "A\n",
      "C\n",
      "(((2) / 9 - 7 / 1 + 7.4 + 2.1)) - +58 / 0\n",
      "A&C\n",
      "A\n",
      "C\n",
      "(1 - -2.11 / -+2 / -3.4 * 8 / 5) * +32.2 / ((2 - 3) + (7.8) / 0.7 * 7.5 + 9.9) * 5 + (-51.9 * -7 + 80 / +6.6 + 8.7 / 2.0 * 6.6) / -6.0 / ((7)) - 8 - +++8 / 356 * (2 + 1) + 5.708 / 6 - (0.9 + 1.9) / 0 - (9)\n",
      "A&C\n",
      "A\n",
      "C\n",
      "+1 / 0 + (1 / 7.9 + 58 * 5 / 5 + +3.9 / 1.5 * 7.3 - 4.3 * 7.1) / 5.9 - ((6))\n",
      "A&C\n",
      "A\n",
      "C\n",
      "(((5.3) / 3.1 / 9 - 1.3 / 2 - 6)) * 5.6 * ((2 - 0.6) * -1.7) * (5 / 1.1 / 1 - 0 * 7.1) / 2 / (8.4) - (+08 + (4) - (5.9) / 3.6 / 8.2) * -1 * 5.2 * +-5.6 * -(4) - -9 / 0 + 8 / +(5 + 6.4) * 8 / (0.0)\n",
      "A&C\n",
      "A\n",
      "C\n"
     ]
    }
   ],
   "source": [
    "for i in range(10):\n",
    "    s = AandC_fuzzer.fuzz(key=AandC_start)\n",
    "    print(s)\n",
    "    print('A&C')\n",
    "    assert AandC_parser.can_parse(s)\n",
    "    print('A')\n",
    "    assert faultA_parser.can_parse(s)\n",
    "    print('C')\n",
    "    assert faultC_parser.can_parse(s)"
   ]
  },
  {
   "cell_type": "markdown",
   "metadata": {},
   "source": [
    "### B & C"
   ]
  },
  {
   "cell_type": "code",
   "execution_count": 453,
   "metadata": {},
   "outputs": [
    {
     "name": "stdout",
     "output_type": "stream",
     "text": [
      "47 138\n",
      "<start and(.FB,.FC)> ::=\n",
      "|    <expr and(.FB,.FC)>\n",
      "<expr and(.FB,.FC)> ::=\n",
      "|    <term .FC> ' + ' <expr and(LB_2,neg(+FC))>\n",
      "|    <term neg(+FC)> ' + ' <expr and(LB_2,.FC)>\n",
      "<term .FC> ::=\n",
      "|    <factor> ' / ' <term LC_2>\n",
      "<expr and(LB_2,neg(+FC))> ::=\n",
      "|    <term neg(+FC)>\n",
      "<term neg(+FC)> ::=\n",
      "|    <factor neg(+FC)>\n",
      "|    <factor neg(+FC)> ' * ' <term neg(+FC)>\n",
      "|    <factor neg(+FC)> ' / ' <term neg(LC_2)>\n",
      "<expr and(LB_2,.FC)> ::=\n",
      "|    <term .FC>\n",
      "<factor> ::=\n",
      "|    '(' <expr> ')'\n",
      "|    '+' <factor>\n",
      "|    '-' <factor>\n",
      "|    <integer>\n",
      "|    <integer> '.' <integer>\n",
      "<term LC_2> ::=\n",
      "|    <factor LC_1>\n",
      "<expr> ::=\n",
      "|    <term>\n",
      "|    <term> ' + ' <expr>\n",
      "|    <term> ' - ' <expr>\n",
      "<integer> ::=\n",
      "|    <digit>\n",
      "|    <digit> <integer>\n",
      "<term> ::=\n",
      "|    <factor>\n",
      "|    <factor> ' * ' <term>\n",
      "|    <factor> ' / ' <term>\n",
      "<digit> ::=\n",
      "|    '0'\n",
      "|    '1'\n",
      "|    '2'\n",
      "|    '3'\n",
      "|    '4'\n",
      "|    '5'\n",
      "|    '6'\n",
      "|    '7'\n",
      "|    '8'\n",
      "|    '9'\n",
      "<factor LC_1> ::=\n",
      "|    <integer LC_1>\n",
      "<integer LC_1> ::=\n",
      "|    <digit LC_1>\n",
      "<digit LC_1> ::=\n",
      "|    '0'\n",
      "<factor neg(+FC)> ::=\n",
      "|    '(' <expr neg(+FC)> ')'\n",
      "|    '+' <factor neg(+FC)>\n",
      "|    '-' <factor neg(+FC)>\n",
      "|    <integer>\n",
      "|    <integer> '.' <integer>\n",
      "<term neg(LC_2)> ::=\n",
      "|    <factor neg(+FC)> ' * ' <term neg(+FC)>\n",
      "|    <factor neg(+FC)> ' / ' <term neg(+FC)>\n",
      "|    <factor neg(LC_1)>\n",
      "<expr neg(+FC)> ::=\n",
      "|    <term neg(+FC)>\n",
      "|    <term neg(+FC)> ' + ' <expr neg(+FC)>\n",
      "|    <term neg(+FC)> ' - ' <expr neg(+FC)>\n",
      "<factor neg(LC_1)> ::=\n",
      "|    '(' <expr neg(+FC)> ')'\n",
      "|    '+' <factor neg(+FC)>\n",
      "|    '-' <factor neg(+FC)>\n",
      "|    <integer neg(LC_1)>\n",
      "|    <integer> '.' <integer>\n",
      "<integer neg(LC_1)> ::=\n",
      "|    <digit neg(LC_1)>\n",
      "|    <digit> <integer>\n",
      "<digit neg(LC_1)> ::=\n",
      "|    '1'\n",
      "|    '2'\n",
      "|    '3'\n",
      "|    '4'\n",
      "|    '5'\n",
      "|    '6'\n",
      "|    '7'\n",
      "|    '8'\n",
      "|    '9'\n",
      "21 63\n"
     ]
    },
    {
     "data": {
      "text/plain": [
       "'<start and(.FB,.FC)>'"
      ]
     },
     "execution_count": 453,
     "metadata": {},
     "output_type": "execute_result"
    }
   ],
   "source": [
    "BandC_grammar_, BandC_start, refs = and_grammars_(faultB_grammar, faultB_start, faultC_grammar, faultC_start)\n",
    "Gs(BandC_grammar_, -1)\n",
    "BandC_grammar, BandC_start = grammar_gc(BandC_grammar_, BandC_start)\n",
    "Gs(BandC_grammar)\n",
    "BandC_start"
   ]
  },
  {
   "cell_type": "code",
   "execution_count": 454,
   "metadata": {},
   "outputs": [],
   "source": [
    "BandC_fuzzer = LimitFuzzer(BandC_grammar)\n",
    "BandC_parser = Parser(BandC_grammar, canonical=True, start_symbol=BandC_start)"
   ]
  },
  {
   "cell_type": "code",
   "execution_count": 455,
   "metadata": {},
   "outputs": [
    {
     "name": "stdout",
     "output_type": "stream",
     "text": [
      "1125.1523 / 0 + (23.259) / (-2.5 / 5.5 + +7.8 / 0.0 * 3.3)\n",
      "B&C\n",
      "B\n",
      "C\n",
      "+1.7 / 0 + +79568\n",
      "B&C\n",
      "B\n",
      "C\n",
      "7.86 / 0 + 53 / +647.27 / 9\n",
      "B&C\n",
      "B\n",
      "C\n",
      "+((7 * 2 + 7 - 3 - 2 - 9 + 5 + 5)) / 0 + -+++4.12 * (--1.1 - 8.1 - 8.1 * 6)\n",
      "B&C\n",
      "B\n",
      "C\n",
      "2 / 0 + 1092 * 1 / -386.4\n",
      "B&C\n",
      "B\n",
      "C\n",
      "+118.0466 / -+4 + -+1 / 0\n",
      "B&C\n",
      "B\n",
      "C\n",
      "--2 + 77.565 / 0\n",
      "B&C\n",
      "B\n",
      "C\n",
      "(++6.22) / +229.0 * (--3.2 / +1 / 5 / 3.7 + -7.4 / 4.9 * 7.3 - 4.3 * 3 + 6.4 - 5.1) / -8.8 / +8.6 / --7 + 76 / 0\n",
      "B&C\n",
      "B\n",
      "C\n",
      "(80.9) / 6 + +90 / 0\n",
      "B&C\n",
      "B\n",
      "C\n",
      "(-+(6.6 + 9) / --(5.8) / (8)) * +-5 / +((4) / 9 / 5) + 8.602 / 0\n",
      "B&C\n",
      "B\n",
      "C\n"
     ]
    }
   ],
   "source": [
    "for i in range(10):\n",
    "    s = BandC_fuzzer.fuzz(key=BandC_start)\n",
    "    print(s)\n",
    "    print('B&C')\n",
    "    assert BandC_parser.can_parse(s)\n",
    "    print('B')\n",
    "    assert faultB_parser.can_parse(s)\n",
    "    print('C')\n",
    "    assert faultC_parser.can_parse(s)"
   ]
  },
  {
   "cell_type": "markdown",
   "metadata": {},
   "source": [
    "## Disjunction"
   ]
  },
  {
   "cell_type": "markdown",
   "metadata": {},
   "source": [
    "### A | B"
   ]
  },
  {
   "cell_type": "code",
   "execution_count": 456,
   "metadata": {},
   "outputs": [
    {
     "name": "stdout",
     "output_type": "stream",
     "text": [
      "22 63\n"
     ]
    }
   ],
   "source": [
    "AorB_grammar_, AorB_start, refs = or_grammars_(faultA_grammar, faultA_start, faultB_grammar, faultB_start)\n",
    "Gs(AorB_grammar_, -1)"
   ]
  },
  {
   "cell_type": "code",
   "execution_count": 457,
   "metadata": {},
   "outputs": [
    {
     "data": {
      "text/plain": [
       "['<expr or(.FB,.FA)>']"
      ]
     },
     "execution_count": 457,
     "metadata": {},
     "output_type": "execute_result"
    }
   ],
   "source": [
    "ouk = undefined_keys(AorB_grammar_); ouk"
   ]
  },
  {
   "cell_type": "code",
   "execution_count": 458,
   "metadata": {},
   "outputs": [
    {
     "name": "stdout",
     "output_type": "stream",
     "text": [
      "1\n",
      "reconstructing: <expr or(.FB,.FA)>\n",
      "'or(.FA,.FB)'\n",
      "simplified_to: <expr or(.FA,.FB)>\n"
     ]
    }
   ],
   "source": [
    "#%%top\n",
    "AorB_grammar_ = complete(AorB_grammar_, AorB_start, log=True)"
   ]
  },
  {
   "cell_type": "code",
   "execution_count": 459,
   "metadata": {},
   "outputs": [
    {
     "name": "stdout",
     "output_type": "stream",
     "text": [
      "<start or(.FA,.FB)> ::=\n",
      "|    <expr or(.FB,.FA)>\n",
      "<expr or(.FB,.FA)> ::=\n",
      "|    <term .FA>\n",
      "|    <term .FA> ' + ' <expr neg(+FA)>\n",
      "|    <term .FA> ' - ' <expr neg(+FA)>\n",
      "|    <term> ' + ' <expr LB_2>\n",
      "<term .FA> ::=\n",
      "|    <factor .FA>\n",
      "|    <factor neg(+FA)> ' * ' <term .FA>\n",
      "|    <factor neg(+FA)> ' * ' <term .FA>\n",
      "|    <factor neg(+FA)> ' / ' <term .FA>\n",
      "|    <factor neg(+FA)> ' / ' <term .FA>\n",
      "<expr neg(+FA)> ::=\n",
      "|    <term neg(+FA)>\n",
      "|    <term neg(+FA)> ' + ' <expr neg(+FA)>\n",
      "|    <term neg(+FA)> ' - ' <expr neg(+FA)>\n",
      "<term> ::=\n",
      "|    <factor>\n",
      "|    <factor> ' * ' <term>\n",
      "|    <factor> ' / ' <term>\n",
      "<expr LB_2> ::=\n",
      "|    <term>\n",
      "<factor .FA> ::=\n",
      "|    '(' <expr LA_1> ')'\n",
      "<factor neg(+FA)> ::=\n",
      "|    '(' <expr neg(LA_1)> ')'\n",
      "|    '+' <factor neg(+FA)>\n",
      "|    '-' <factor neg(+FA)>\n",
      "|    <integer>\n",
      "|    <integer> '.' <integer>\n",
      "<expr LA_1> ::=\n",
      "|    <term LA_1>\n",
      "<term LA_1> ::=\n",
      "|    <factor LA_2>\n",
      "<factor LA_2> ::=\n",
      "|    '(' <expr> ')'\n",
      "<expr> ::=\n",
      "|    <term>\n",
      "|    <term> ' + ' <expr>\n",
      "|    <term> ' - ' <expr>\n",
      "<expr neg(LA_1)> ::=\n",
      "|    <term neg(+FA)> ' + ' <expr neg(+FA)>\n",
      "|    <term neg(+FA)> ' - ' <expr neg(+FA)>\n",
      "|    <term neg(LA_1)>\n",
      "<integer> ::=\n",
      "|    <digit>\n",
      "|    <digit> <integer>\n",
      "<term neg(+FA)> ::=\n",
      "|    <factor neg(+FA)>\n",
      "|    <factor neg(+FA)> ' * ' <term neg(+FA)>\n",
      "|    <factor neg(+FA)> ' / ' <term neg(+FA)>\n",
      "<term neg(LA_1)> ::=\n",
      "|    <factor neg(+FA)> ' * ' <term neg(+FA)>\n",
      "|    <factor neg(+FA)> ' / ' <term neg(+FA)>\n",
      "|    <factor neg(LA_2)>\n",
      "<factor neg(LA_2)> ::=\n",
      "|    '+' <factor neg(+FA)>\n",
      "|    '-' <factor neg(+FA)>\n",
      "|    <integer>\n",
      "|    <integer> '.' <integer>\n",
      "<digit> ::=\n",
      "|    '0'\n",
      "|    '1'\n",
      "|    '2'\n",
      "|    '3'\n",
      "|    '4'\n",
      "|    '5'\n",
      "|    '6'\n",
      "|    '7'\n",
      "|    '8'\n",
      "|    '9'\n",
      "<factor> ::=\n",
      "|    '(' <expr> ')'\n",
      "|    '+' <factor>\n",
      "|    '-' <factor>\n",
      "|    <integer>\n",
      "|    <integer> '.' <integer>\n",
      "19 59\n"
     ]
    },
    {
     "data": {
      "text/plain": [
       "'<start or(.FA,.FB)>'"
      ]
     },
     "execution_count": 459,
     "metadata": {},
     "output_type": "execute_result"
    }
   ],
   "source": [
    "AorB_grammar, AorB_start = grammar_gc(AorB_grammar_, AorB_start)\n",
    "Gs(AorB_grammar)\n",
    "AorB_start"
   ]
  },
  {
   "cell_type": "code",
   "execution_count": 460,
   "metadata": {},
   "outputs": [],
   "source": [
    "AorB_fuzzer = LimitFuzzer(AorB_grammar)\n",
    "AorB_parser = Parser(AorB_grammar, canonical=True, start_symbol=AorB_start)"
   ]
  },
  {
   "cell_type": "code",
   "execution_count": 461,
   "metadata": {},
   "outputs": [
    {
     "name": "stdout",
     "output_type": "stream",
     "text": [
      "-248.1559 / 51 / -(8.9 * 9.1 * 9 + 9 - 1 - 9.4) / --9 * ((8.5)) - -6 - (-3.6 + (4.0) - 1) - 5192 * -(5 + 1 - 7) / 02 * 1.9 / 9.4 + +5 * ++9.5 * 1 / 8.4 / 6.8 - (4.6 - 2.3 - 4.8 + 7 + 6) * 7.4 * 8.3 + +6 * 5.7 - 4 / 3.9 - 4 - 6\n",
      "A|B\n",
      "-(916 + 0 / 9.1 / 6 / 5.8) / 9 / ((9 - 9)) - +1905.7 + 60.597 + 3 * 2 / -(4) - 3 / +3 * 0 / 8 * 0.9 - 05 / (2) / 1.3 / 7.6\n",
      "A|B\n",
      "++9 * ((3.9 - 0.2)) - 699175 * +++++8.4 / (7.3 / 0.4 * 6.2) / (8 / 7) * -7.1 + -626 * --68 + -+++9.6 / (7.3 - 2.1)\n",
      "A|B\n",
      "----(9.2 - 5) * (+2 / +(1.8)) * -+15 * -685 * 845 / (3.8) * (3) * 0.0 * ((5.6)) - 6.8 / 402 / 1.983 * +-3.4 / 6 - 338 / +(6.9 / 1.3 - 9.2) * (6) * (2.5) * 7.1 / 4 * 3\n",
      "A|B\n",
      "((8 + 3.6 * 6.9 - 2.6 - 7.8)) - -+(-8 / 1.0 / 1.0 - 9.9 / 2 - 8 + 1 - 4) / 8.2 * (6) * 832.7 * +-1.9 / (4) / 4.1\n",
      "A|B\n",
      "((+3.6 * 3 - 3 / 5.9)) - (-2.61 / 7.5 * 3.8 * 6.9 * 0.9 - 3 / +0.3 * 3 / 2.4 + (2) / 4 - 8.4 / 9.4 - 6.0 + 4) + (-9 / (6.9) / 7 * 3 + (9.4) * 4 / 3.3) / 4 * 04 / 79 - +9\n",
      "A|B\n",
      "--9.3 * 1 / +8.46 / +95.978 / 2.4 / 55 * 3 / 4 * ((4)) + (428)\n",
      "A|B\n",
      "-2.13 * ((1 / 2))\n",
      "A|B\n",
      "++(-+8.9 * +1 / 0.0) * (8.2 * +(7.6) * 7.8 * 3) * -(+2 * 5 / 4.9 - 4 * 6) * +-89.2 / ((2.9)) - +-+343.321\n",
      "A|B\n",
      "(52.5972 * -1 * 0 / 5 * 1 * 1.5 - (0 * 3 + 2.7 + 1) * (3 - 7) * +4 + 8.34 + (7) * 7 - 9 * 5.7 - 0.6) / ((3.3 / 6 - 9 + 7) + 03.51 / 3.1 + (4) - 0 * 0 + 2.7 - 9) * 59.1 / (+0 * 3 - 3 * 7.6 + 8) + 66\n",
      "A|B\n"
     ]
    }
   ],
   "source": [
    "for i in range(10):\n",
    "    s = AorB_fuzzer.fuzz(key=AorB_start)\n",
    "    print(s)\n",
    "    print('A|B')\n",
    "    assert AorB_parser.can_parse(s)\n",
    "    assert faultA_parser.can_parse(s) or faultB_parser.can_parse(s)"
   ]
  },
  {
   "cell_type": "markdown",
   "metadata": {},
   "source": [
    "### A | C"
   ]
  },
  {
   "cell_type": "code",
   "execution_count": 462,
   "metadata": {},
   "outputs": [
    {
     "name": "stdout",
     "output_type": "stream",
     "text": [
      "33 101\n"
     ]
    }
   ],
   "source": [
    "AorC_grammar_, AorC_start, refs = or_grammars_(faultA_grammar, faultA_start, faultC_grammar, faultC_start)\n",
    "Gs(AorC_grammar_, -1)"
   ]
  },
  {
   "cell_type": "code",
   "execution_count": 463,
   "metadata": {},
   "outputs": [
    {
     "data": {
      "text/plain": [
       "['<expr or(.FA,.FC)>']"
      ]
     },
     "execution_count": 463,
     "metadata": {},
     "output_type": "execute_result"
    }
   ],
   "source": [
    "ouk = undefined_keys(AorC_grammar_); ouk"
   ]
  },
  {
   "cell_type": "code",
   "execution_count": 464,
   "metadata": {},
   "outputs": [
    {
     "name": "stdout",
     "output_type": "stream",
     "text": [
      "1\n",
      "reconstructing: <expr or(.FA,.FC)>\n",
      "'or(.FA,.FC)'\n",
      "simplified_to: <expr or(.FA,.FC)>\n",
      "1\n",
      "reconstructing: <term or(.FA,.FC)>\n",
      "'or(.FA,.FC)'\n",
      "simplified_to: <term or(.FA,.FC)>\n"
     ]
    }
   ],
   "source": [
    "#%%top\n",
    "AorC_grammar_ = complete(AorC_grammar_, AorC_start, log=True)"
   ]
  },
  {
   "cell_type": "code",
   "execution_count": 465,
   "metadata": {},
   "outputs": [
    {
     "name": "stdout",
     "output_type": "stream",
     "text": [
      "<start or(.FA,.FC)> ::=\n",
      "|    <expr or(.FA,.FC)>\n",
      "<expr or(.FA,.FC)> ::=\n",
      "|    <term .FA> ' + ' <expr neg(+FA)>\n",
      "|    <term .FA> ' + ' <expr neg(+FA)>\n",
      "|    <term .FA> ' - ' <expr neg(+FA)>\n",
      "|    <term .FA> ' - ' <expr neg(+FA)>\n",
      "|    <term or(.FA,.FC)>\n",
      "<term .FA> ::=\n",
      "|    <factor .FA>\n",
      "|    <factor neg(+FA)> ' * ' <term .FA>\n",
      "|    <factor neg(+FA)> ' * ' <term .FA>\n",
      "|    <factor neg(+FA)> ' / ' <term .FA>\n",
      "|    <factor neg(+FA)> ' / ' <term .FA>\n",
      "<expr neg(+FA)> ::=\n",
      "|    <term neg(+FA)>\n",
      "|    <term neg(+FA)> ' + ' <expr neg(+FA)>\n",
      "|    <term neg(+FA)> ' - ' <expr neg(+FA)>\n",
      "<term or(.FA,.FC)> ::=\n",
      "|    <factor .FA>\n",
      "|    <factor neg(+FA)> ' * ' <term .FA>\n",
      "|    <factor neg(+FA)> ' / ' <term .FA>\n",
      "|    <factor> ' / ' <term LC_2>\n",
      "<factor .FA> ::=\n",
      "|    '(' <expr LA_1> ')'\n",
      "<factor neg(+FA)> ::=\n",
      "|    '(' <expr neg(LA_1)> ')'\n",
      "|    '+' <factor neg(+FA)>\n",
      "|    '-' <factor neg(+FA)>\n",
      "|    <integer>\n",
      "|    <integer> '.' <integer>\n",
      "<expr LA_1> ::=\n",
      "|    <term LA_1>\n",
      "<term LA_1> ::=\n",
      "|    <factor LA_2>\n",
      "<factor LA_2> ::=\n",
      "|    '(' <expr> ')'\n",
      "<expr> ::=\n",
      "|    <term>\n",
      "|    <term> ' + ' <expr>\n",
      "|    <term> ' - ' <expr>\n",
      "<term> ::=\n",
      "|    <factor>\n",
      "|    <factor> ' * ' <term>\n",
      "|    <factor> ' / ' <term>\n",
      "<factor> ::=\n",
      "|    '(' <expr> ')'\n",
      "|    '+' <factor>\n",
      "|    '-' <factor>\n",
      "|    <integer>\n",
      "|    <integer> '.' <integer>\n",
      "<integer> ::=\n",
      "|    <digit>\n",
      "|    <digit> <integer>\n",
      "<digit> ::=\n",
      "|    '0'\n",
      "|    '1'\n",
      "|    '2'\n",
      "|    '3'\n",
      "|    '4'\n",
      "|    '5'\n",
      "|    '6'\n",
      "|    '7'\n",
      "|    '8'\n",
      "|    '9'\n",
      "<expr neg(LA_1)> ::=\n",
      "|    <term neg(+FA)> ' + ' <expr neg(+FA)>\n",
      "|    <term neg(+FA)> ' - ' <expr neg(+FA)>\n",
      "|    <term neg(LA_1)>\n",
      "<term neg(+FA)> ::=\n",
      "|    <factor neg(+FA)>\n",
      "|    <factor neg(+FA)> ' * ' <term neg(+FA)>\n",
      "|    <factor neg(+FA)> ' / ' <term neg(+FA)>\n",
      "<term neg(LA_1)> ::=\n",
      "|    <factor neg(+FA)> ' * ' <term neg(+FA)>\n",
      "|    <factor neg(+FA)> ' / ' <term neg(+FA)>\n",
      "|    <factor neg(LA_2)>\n",
      "<factor neg(LA_2)> ::=\n",
      "|    '+' <factor neg(+FA)>\n",
      "|    '-' <factor neg(+FA)>\n",
      "|    <integer>\n",
      "|    <integer> '.' <integer>\n",
      "<term LC_2> ::=\n",
      "|    <factor LC_1>\n",
      "<factor LC_1> ::=\n",
      "|    <integer LC_1>\n",
      "<integer LC_1> ::=\n",
      "|    <digit LC_1>\n",
      "<digit LC_1> ::=\n",
      "|    '0'\n",
      "23 67\n"
     ]
    },
    {
     "data": {
      "text/plain": [
       "'<start or(.FA,.FC)>'"
      ]
     },
     "execution_count": 465,
     "metadata": {},
     "output_type": "execute_result"
    }
   ],
   "source": [
    "AorC_grammar, AorC_start = grammar_gc(AorC_grammar_, AorC_start)\n",
    "Gs(AorC_grammar)\n",
    "AorC_start"
   ]
  },
  {
   "cell_type": "code",
   "execution_count": 466,
   "metadata": {},
   "outputs": [],
   "source": [
    "AorC_fuzzer = LimitFuzzer(AorC_grammar)\n",
    "AorC_parser = Parser(AorC_grammar, canonical=True, start_symbol=AorC_start)"
   ]
  },
  {
   "cell_type": "code",
   "execution_count": 467,
   "metadata": {},
   "outputs": [
    {
     "name": "stdout",
     "output_type": "stream",
     "text": [
      "((9.9 * 1 + 4.7 + 1 + 3.1)) - 2.35 + -(+1.5 * 1 / 0.0 + 5 * 7.1) / 81.7 / 8 / 95 * (8.0) + 9 / (7) * (6 + 4 + 5.4 + 0 - 2.9 - 1.6 + 4.4 + 2.2 - 5 - 9.9 + 1) / -7\n",
      "A|C\n",
      "((0 * 6 / 9 + 8.6 * 1 - 9.0 - 9)) + (839.54 * --7 * (3.1)) * (-(4) * 9 / 5 - +4 + 2.7 + 8.5 - 7 + 6 + 2 + 1.5) * (1 / 5 * 1 + 0.7 * 5) + 7.7 + (+2 * 6 - 0.6 * 9.2 + 3) / 9.9 - +62.99 + --3 / 7.2 * 5 + 1.8 * 7.2 / 5 - 4.7 - 7 - 4.7 + 2 - 8 + 8 + 6 - 2.3\n",
      "A|C\n",
      "6.68 * 50190.435 / ((2 + 6)) - +--(3 / 6) / +(+6.4 / 8 / 9) * +21\n",
      "A|C\n",
      "-5.6 * --2 / (7.6 * 3.4 * 5 / 0 + 0.8 * 5 / 9 - 4 * 8 - 9.5 + 8.6) * ((7)) - 80 * (50.5 / 6 * 5 * 9 - 0.8 * 5 / 0) / (0.4 * 5 / 4 - 7.4 / 8.3 - 2 - 6 + 9.3 + 2 - 3) * (6 / 6.9 + 5 - 0 - 8.7 - 7 + 7.4 + 0.3 + 7 - 4 - 4.0) * +6 * -6.3 / 7 + +2 / +818 * (9.6 / 1.5 + 3.8 + 1 - 8.3 - 3) / 78.6 / 5.4 + +-62 / (0 - 6) + +++3 / -(4.0) / +4 * 9.4 / 9.3\n",
      "A|C\n",
      "8 / -60 / -088.5 / 81 * 6.446 * 4 / +5 / 8.8 * ((3)) - 215.4 / 8.6 * (9.3 / 6 - 6 * 5) + (9.35 / (3) * 0.1 * 8.4 - 2.1 / 7.6 / 1.0) / 4405 * (0) - 74 * -56 * (9) / 4.9 / 0 * 8.5 + (2.0 * 0) + 5 - (8.1) / 9.3 / 8\n",
      "A|C\n",
      "(((9.3) / 4 * 4.7 + 7 / 9.6)) - (+-7 / +(6.0) / +2.6 / 9 * 5.9 + 03.8 + 9 / 1.3 / 1.0 - 7.1 + 4.7) / -((4.3) * 5 / 7) - 49.7 / 052 / --+0.3 / 84.3 / (4.6)\n",
      "A|C\n",
      "3 * -++-5 / ((3)) - ++3\n",
      "A|C\n",
      "399.9 * (2.5 / (5.3) / (0) / 5.6 / 1 + 3 / 1 / 5.4 * 1.3 + 4 + 0 / 1.5 + 2 - 0 + 6.5 - 0.9 - 1.5) * --+0.89 / 69.39 / -3 * (1 - 5.3) * (1) / 4.1 * ((2.9))\n",
      "A|C\n",
      "86 / ((1 / 6.9 - 1.5) / (1) / (3) * 1 * 5 + --4 * -7.0 * 2.2 / 4.5 + +4 * 7.3 / 7.4 + 0.6 - 0.5) * 413 * 7 * +(9.1 + 2) / +(7) * ((1)) - 357 + -8 * (-3.4 - 1.6 - 7 + 3.4 - 2 + 8) / 7.16 + 5.9574 / 9.100 * 8.58 * 7.2 * 5.7\n",
      "A|C\n",
      "+-1252.5 / ((9 / 5) + -2.8 / 2) / 17.1 * 9.14 / -+1.0 / 49 * ((4)) + +78.14 * -+++3.9 * (4 - 9.4 - 4.6 + 2.7) / (4.3 / 6.8 + 7.2 - 3.4) + (-6 / +9.1 + +3.8 * 4 - 9 / 0) / 2 + +9 / 773 * +4.1 / (3) / 5.7\n",
      "A|C\n"
     ]
    }
   ],
   "source": [
    "for i in range(10):\n",
    "    s = AorC_fuzzer.fuzz(key=AorC_start)\n",
    "    print(s)\n",
    "    print('A|C')\n",
    "    assert AorC_parser.can_parse(s)\n",
    "    assert faultA_parser.can_parse(s) or faultC_parser.can_parse(s)"
   ]
  },
  {
   "cell_type": "markdown",
   "metadata": {},
   "source": [
    "### B | C"
   ]
  },
  {
   "cell_type": "code",
   "execution_count": 468,
   "metadata": {},
   "outputs": [
    {
     "name": "stdout",
     "output_type": "stream",
     "text": [
      "23 68\n"
     ]
    }
   ],
   "source": [
    "BorC_grammar_, BorC_start, refs = or_grammars_(faultB_grammar, faultB_start, faultC_grammar, faultC_start)\n",
    "Gs(BorC_grammar_, -1)"
   ]
  },
  {
   "cell_type": "code",
   "execution_count": 469,
   "metadata": {},
   "outputs": [
    {
     "data": {
      "text/plain": [
       "['<expr or(.FB,.FC)>']"
      ]
     },
     "execution_count": 469,
     "metadata": {},
     "output_type": "execute_result"
    }
   ],
   "source": [
    "ouk = undefined_keys(BorC_grammar_); ouk"
   ]
  },
  {
   "cell_type": "code",
   "execution_count": 470,
   "metadata": {},
   "outputs": [
    {
     "name": "stdout",
     "output_type": "stream",
     "text": [
      "1\n",
      "reconstructing: <expr or(.FB,.FC)>\n",
      "'or(.FB,.FC)'\n",
      "simplified_to: <expr or(.FB,.FC)>\n"
     ]
    }
   ],
   "source": [
    "#%%top\n",
    "BorC_grammar_ = complete(BorC_grammar_, BorC_start, log=True)"
   ]
  },
  {
   "cell_type": "code",
   "execution_count": 471,
   "metadata": {},
   "outputs": [
    {
     "name": "stdout",
     "output_type": "stream",
     "text": [
      "<start or(.FB,.FC)> ::=\n",
      "|    <expr or(.FB,.FC)>\n",
      "<expr or(.FB,.FC)> ::=\n",
      "|    <term .FC>\n",
      "|    <term .FC> ' + ' <expr neg(+FC)>\n",
      "|    <term .FC> ' - ' <expr neg(+FC)>\n",
      "|    <term> ' + ' <expr LB_2>\n",
      "<term .FC> ::=\n",
      "|    <factor> ' / ' <term LC_2>\n",
      "<expr neg(+FC)> ::=\n",
      "|    <term neg(+FC)>\n",
      "|    <term neg(+FC)> ' + ' <expr neg(+FC)>\n",
      "|    <term neg(+FC)> ' - ' <expr neg(+FC)>\n",
      "<term> ::=\n",
      "|    <factor>\n",
      "|    <factor> ' * ' <term>\n",
      "|    <factor> ' / ' <term>\n",
      "<expr LB_2> ::=\n",
      "|    <term>\n",
      "<factor> ::=\n",
      "|    '(' <expr> ')'\n",
      "|    '+' <factor>\n",
      "|    '-' <factor>\n",
      "|    <integer>\n",
      "|    <integer> '.' <integer>\n",
      "<term LC_2> ::=\n",
      "|    <factor LC_1>\n",
      "<expr> ::=\n",
      "|    <term>\n",
      "|    <term> ' + ' <expr>\n",
      "|    <term> ' - ' <expr>\n",
      "<integer> ::=\n",
      "|    <digit>\n",
      "|    <digit> <integer>\n",
      "<digit> ::=\n",
      "|    '0'\n",
      "|    '1'\n",
      "|    '2'\n",
      "|    '3'\n",
      "|    '4'\n",
      "|    '5'\n",
      "|    '6'\n",
      "|    '7'\n",
      "|    '8'\n",
      "|    '9'\n",
      "<factor LC_1> ::=\n",
      "|    <integer LC_1>\n",
      "<integer LC_1> ::=\n",
      "|    <digit LC_1>\n",
      "<digit LC_1> ::=\n",
      "|    '0'\n",
      "<term neg(+FC)> ::=\n",
      "|    <factor neg(+FC)>\n",
      "|    <factor neg(+FC)> ' * ' <term neg(+FC)>\n",
      "|    <factor neg(+FC)> ' / ' <term neg(LC_2)>\n",
      "<factor neg(+FC)> ::=\n",
      "|    '(' <expr neg(+FC)> ')'\n",
      "|    '+' <factor neg(+FC)>\n",
      "|    '-' <factor neg(+FC)>\n",
      "|    <integer>\n",
      "|    <integer> '.' <integer>\n",
      "<term neg(LC_2)> ::=\n",
      "|    <factor neg(+FC)> ' * ' <term neg(+FC)>\n",
      "|    <factor neg(+FC)> ' / ' <term neg(+FC)>\n",
      "|    <factor neg(LC_1)>\n",
      "<factor neg(LC_1)> ::=\n",
      "|    '(' <expr neg(+FC)> ')'\n",
      "|    '+' <factor neg(+FC)>\n",
      "|    '-' <factor neg(+FC)>\n",
      "|    <integer neg(LC_1)>\n",
      "|    <integer> '.' <integer>\n",
      "<integer neg(LC_1)> ::=\n",
      "|    <digit neg(LC_1)>\n",
      "|    <digit> <integer>\n",
      "<digit neg(LC_1)> ::=\n",
      "|    '1'\n",
      "|    '2'\n",
      "|    '3'\n",
      "|    '4'\n",
      "|    '5'\n",
      "|    '6'\n",
      "|    '7'\n",
      "|    '8'\n",
      "|    '9'\n",
      "20 64\n"
     ]
    },
    {
     "data": {
      "text/plain": [
       "'<start or(.FB,.FC)>'"
      ]
     },
     "execution_count": 471,
     "metadata": {},
     "output_type": "execute_result"
    }
   ],
   "source": [
    "BorC_grammar, BorC_start = grammar_gc(BorC_grammar_, BorC_start)\n",
    "Gs(BorC_grammar)\n",
    "BorC_start"
   ]
  },
  {
   "cell_type": "code",
   "execution_count": 472,
   "metadata": {},
   "outputs": [],
   "source": [
    "BorC_fuzzer = LimitFuzzer(BorC_grammar)\n",
    "BorC_parser = Parser(BorC_grammar, canonical=True, start_symbol=BorC_start)"
   ]
  },
  {
   "cell_type": "code",
   "execution_count": 473,
   "metadata": {},
   "outputs": [
    {
     "name": "stdout",
     "output_type": "stream",
     "text": [
      "72.4 / 0\n",
      "B|C\n",
      "+003 * (+-+7 - -4 * -2) / (4 * 0 / 1 - (6.2 + 2 - 5 - 0.7) - 9 / 2 - 2) * +-++0 / (4) + +0.177 * ----8 / +(1.5 - 6.4) / 8 * 65 / 1.1 * 5 / 7.2\n",
      "B|C\n",
      "-7 / 0\n",
      "B|C\n",
      "--5 / 0\n",
      "B|C\n",
      "7 / 0 + (-++4.2 / 14.1 * (5.3) * 3.8 * 3.6 + 48 * (5.6) - 9.5 / 1 / 4.9 - 1.9) + +82.26 * 79 * (4 - 2 - 4) / -0.9 * 2\n",
      "B|C\n",
      "++585.0 + 5 / -6243 * 848.9033\n",
      "B|C\n",
      "+---7 / 0 - -48042.16 * 3 * +7.670 / -+(1) + -(-5 + 8.3 + 5.0 + 9.0) * 83.4 / -(4 - 9) / +-3.9\n",
      "B|C\n",
      "+-149 * 8.928 * (2 / 7 / 4.9 / 0) + 3363\n",
      "B|C\n",
      "20 / 0 + 45\n",
      "B|C\n",
      "+((0 * 9 + 7) / +3.6 * +8 / 1 * 2.0 - 06.6) / 0\n",
      "B|C\n"
     ]
    }
   ],
   "source": [
    "for i in range(10):\n",
    "    s = BorC_fuzzer.fuzz(key=BorC_start)\n",
    "    print(s)\n",
    "    print('B|C')\n",
    "    assert BorC_parser.can_parse(s)\n",
    "    assert faultB_parser.can_parse(s) or faultC_parser.can_parse(s)"
   ]
  },
  {
   "cell_type": "markdown",
   "metadata": {},
   "source": [
    "## Negation"
   ]
  },
  {
   "cell_type": "markdown",
   "metadata": {},
   "source": [
    "### A - B"
   ]
  },
  {
   "cell_type": "code",
   "execution_count": 474,
   "metadata": {},
   "outputs": [
    {
     "name": "stdout",
     "output_type": "stream",
     "text": [
      "<start .FA> ::=\n",
      "|    <expr .FA>\n",
      "<expr .FA> ::=\n",
      "|    <term .FA>\n",
      "|    <term .FA> ' + ' <expr neg(+FA)>\n",
      "|    <term .FA> ' - ' <expr neg(+FA)>\n",
      "|    <term neg(+FA)> ' + ' <expr .FA>\n",
      "|    <term neg(+FA)> ' - ' <expr .FA>\n",
      "<term .FA> ::=\n",
      "|    <factor .FA>\n",
      "|    <factor .FA> ' * ' <term neg(+FA)>\n",
      "|    <factor .FA> ' / ' <term neg(+FA)>\n",
      "|    <factor neg(+FA)> ' * ' <term .FA>\n",
      "|    <factor neg(+FA)> ' / ' <term .FA>\n",
      "<expr neg(+FA)> ::=\n",
      "|    <term neg(+FA)>\n",
      "|    <term neg(+FA)> ' + ' <expr neg(+FA)>\n",
      "|    <term neg(+FA)> ' - ' <expr neg(+FA)>\n",
      "<term neg(+FA)> ::=\n",
      "|    <factor neg(+FA)>\n",
      "|    <factor neg(+FA)> ' * ' <term neg(+FA)>\n",
      "|    <factor neg(+FA)> ' / ' <term neg(+FA)>\n",
      "<factor .FA> ::=\n",
      "|    '(' <expr LA_1> ')'\n",
      "<factor neg(+FA)> ::=\n",
      "|    '(' <expr neg(LA_1)> ')'\n",
      "|    '+' <factor neg(+FA)>\n",
      "|    '-' <factor neg(+FA)>\n",
      "|    <integer>\n",
      "|    <integer> '.' <integer>\n",
      "<expr LA_1> ::=\n",
      "|    <term LA_1>\n",
      "<term LA_1> ::=\n",
      "|    <factor LA_2>\n",
      "<factor LA_2> ::=\n",
      "|    '(' <expr> ')'\n",
      "<expr> ::=\n",
      "|    <term>\n",
      "|    <term> ' + ' <expr>\n",
      "|    <term> ' - ' <expr>\n",
      "<term> ::=\n",
      "|    <factor>\n",
      "|    <factor> ' * ' <term>\n",
      "|    <factor> ' / ' <term>\n",
      "<factor> ::=\n",
      "|    '(' <expr> ')'\n",
      "|    '+' <factor>\n",
      "|    '-' <factor>\n",
      "|    <integer>\n",
      "|    <integer> '.' <integer>\n",
      "<integer> ::=\n",
      "|    <digit>\n",
      "|    <digit> <integer>\n",
      "<digit> ::=\n",
      "|    '0'\n",
      "|    '1'\n",
      "|    '2'\n",
      "|    '3'\n",
      "|    '4'\n",
      "|    '5'\n",
      "|    '6'\n",
      "|    '7'\n",
      "|    '8'\n",
      "|    '9'\n",
      "<expr neg(LA_1)> ::=\n",
      "|    <term neg(+FA)> ' + ' <expr neg(+FA)>\n",
      "|    <term neg(+FA)> ' - ' <expr neg(+FA)>\n",
      "|    <term neg(LA_1)>\n",
      "<term neg(LA_1)> ::=\n",
      "|    <factor neg(+FA)> ' * ' <term neg(+FA)>\n",
      "|    <factor neg(+FA)> ' / ' <term neg(+FA)>\n",
      "|    <factor neg(LA_2)>\n",
      "<factor neg(LA_2)> ::=\n",
      "|    '+' <factor neg(+FA)>\n",
      "|    '-' <factor neg(+FA)>\n",
      "|    <integer>\n",
      "|    <integer> '.' <integer>\n",
      "<start neg(+FB)> ::=\n",
      "|    <expr neg(+FB)>\n",
      "<expr neg(+FB)> ::=\n",
      "|    <term neg(+FB)>\n",
      "|    <term neg(+FB)> ' + ' <expr neg(LB_2)>\n",
      "|    <term neg(+FB)> ' - ' <expr neg(+FB)>\n",
      "<term neg(+FB)> ::=\n",
      "|    <factor neg(+FB)>\n",
      "|    <factor neg(+FB)> ' * ' <term neg(+FB)>\n",
      "|    <factor neg(+FB)> ' / ' <term neg(+FB)>\n",
      "<expr neg(LB_2)> ::=\n",
      "|    <term neg(+FB)> ' + ' <expr neg(+FB)>\n",
      "|    <term neg(+FB)> ' - ' <expr neg(+FB)>\n",
      "<factor neg(+FB)> ::=\n",
      "|    '(' <expr neg(+FB)> ')'\n",
      "|    '+' <factor neg(+FB)>\n",
      "|    '-' <factor neg(+FB)>\n",
      "|    <integer>\n",
      "|    <integer> '.' <integer>\n",
      "<start and(.FA,neg(+FB))> ::=\n",
      "|    <expr and(.FA,neg(+FB))>\n",
      "<expr and(.FA,neg(+FB))> ::=\n",
      "|    <term and(.FA,neg(+FB))>\n",
      "|    <term and(.FA,neg(+FB))> ' + ' <expr and(neg(+FA),neg(LB_2))>\n",
      "|    <term and(.FA,neg(+FB))> ' - ' <expr and(neg(+FA),neg(+FB))>\n",
      "|    <term and(neg(+FA),neg(+FB))> ' + ' <expr and(.FA,neg(LB_2))>\n",
      "|    <term and(neg(+FA),neg(+FB))> ' - ' <expr and(.FA,neg(+FB))>\n",
      "<expr and(.FA,neg(LB_2))> ::=\n",
      "|    <term and(.FA,neg(+FB))> ' + ' <expr and(neg(+FA),neg(+FB))>\n",
      "|    <term and(.FA,neg(+FB))> ' - ' <expr and(neg(+FA),neg(+FB))>\n",
      "|    <term and(neg(+FA),neg(+FB))> ' + ' <expr and(.FA,neg(+FB))>\n",
      "|    <term and(neg(+FA),neg(+FB))> ' - ' <expr and(.FA,neg(+FB))>\n",
      "<term and(.FA,neg(+FB))> ::=\n",
      "|    <factor and(.FA,neg(+FB))>\n",
      "|    <factor and(.FA,neg(+FB))> ' * ' <term and(neg(+FA),neg(+FB))>\n",
      "|    <factor and(.FA,neg(+FB))> ' / ' <term and(neg(+FA),neg(+FB))>\n",
      "|    <factor and(neg(+FA),neg(+FB))> ' * ' <term and(.FA,neg(+FB))>\n",
      "|    <factor and(neg(+FA),neg(+FB))> ' / ' <term and(.FA,neg(+FB))>\n",
      "<expr and(neg(+FA),neg(+FB))> ::=\n",
      "|    <term and(neg(+FA),neg(+FB))>\n",
      "|    <term and(neg(+FA),neg(+FB))> ' + ' <expr and(neg(+FA),neg(LB_2))>\n",
      "|    <term and(neg(+FA),neg(+FB))> ' - ' <expr and(neg(+FA),neg(+FB))>\n",
      "<expr and(neg(+FA),neg(LB_2))> ::=\n",
      "|    <term and(neg(+FA),neg(+FB))> ' + ' <expr and(neg(+FA),neg(+FB))>\n",
      "|    <term and(neg(+FA),neg(+FB))> ' - ' <expr and(neg(+FA),neg(+FB))>\n",
      "<term and(neg(+FA),neg(+FB))> ::=\n",
      "|    <factor and(neg(+FA),neg(+FB))>\n",
      "|    <factor and(neg(+FA),neg(+FB))> ' * ' <term and(neg(+FA),neg(+FB))>\n",
      "|    <factor and(neg(+FA),neg(+FB))> ' / ' <term and(neg(+FA),neg(+FB))>\n",
      "<factor and(.FA,neg(+FB))> ::=\n",
      "|    '(' <expr and(LA_1,neg(+FB))> ')'\n",
      "<factor and(neg(+FA),neg(+FB))> ::=\n",
      "|    '(' <expr and(neg(LA_1),neg(+FB))> ')'\n",
      "|    '+' <factor and(neg(+FA),neg(+FB))>\n",
      "|    '-' <factor and(neg(+FA),neg(+FB))>\n",
      "|    <integer>\n",
      "|    <integer> '.' <integer>\n",
      "<expr and(LA_1,neg(+FB))> ::=\n",
      "|    <term and(LA_1,neg(+FB))>\n",
      "<expr and(LA_1,neg(LB_2))> ::=\n",
      "<term and(LA_1,neg(+FB))> ::=\n",
      "|    <factor and(LA_2,neg(+FB))>\n",
      "<factor and(LA_2,neg(+FB))> ::=\n",
      "|    '(' <expr neg(+FB)> ')'\n",
      "<expr and(,neg(+FB))> ::=\n",
      "|    <term neg(+FB)>\n",
      "|    <term neg(+FB)> ' + ' <expr neg(LB_2)>\n",
      "|    <term neg(+FB)> ' - ' <expr neg(+FB)>\n",
      "<expr and(,neg(LB_2))> ::=\n",
      "|    <term neg(+FB)> ' + ' <expr neg(+FB)>\n",
      "|    <term neg(+FB)> ' - ' <expr neg(+FB)>\n",
      "<term and(,neg(+FB))> ::=\n",
      "|    <factor neg(+FB)>\n",
      "|    <factor neg(+FB)> ' * ' <term neg(+FB)>\n",
      "|    <factor neg(+FB)> ' / ' <term neg(+FB)>\n",
      "<factor and(,neg(+FB))> ::=\n",
      "|    '(' <expr neg(+FB)> ')'\n",
      "|    '+' <factor neg(+FB)>\n",
      "|    '-' <factor neg(+FB)>\n",
      "|    <integer>\n",
      "|    <integer> '.' <integer>\n",
      "<integer and(,)> ::=\n",
      "|    <digit>\n",
      "|    <digit> <integer>\n",
      "<digit and(,)> ::=\n",
      "|    '0'\n",
      "|    '1'\n",
      "|    '2'\n",
      "|    '3'\n",
      "|    '4'\n",
      "|    '5'\n",
      "|    '6'\n",
      "|    '7'\n",
      "|    '8'\n",
      "|    '9'\n",
      "<expr and(neg(LA_1),neg(+FB))> ::=\n",
      "|    <term and(neg(+FA),neg(+FB))> ' + ' <expr and(neg(+FA),neg(LB_2))>\n",
      "|    <term and(neg(+FA),neg(+FB))> ' - ' <expr and(neg(+FA),neg(+FB))>\n",
      "|    <term and(neg(LA_1),neg(+FB))>\n",
      "<expr and(neg(LA_1),neg(LB_2))> ::=\n",
      "|    <term and(neg(+FA),neg(+FB))> ' + ' <expr and(neg(+FA),neg(+FB))>\n",
      "|    <term and(neg(+FA),neg(+FB))> ' - ' <expr and(neg(+FA),neg(+FB))>\n",
      "<term and(neg(LA_1),neg(+FB))> ::=\n",
      "|    <factor and(neg(+FA),neg(+FB))> ' * ' <term and(neg(+FA),neg(+FB))>\n",
      "|    <factor and(neg(+FA),neg(+FB))> ' / ' <term and(neg(+FA),neg(+FB))>\n",
      "|    <factor and(neg(LA_2),neg(+FB))>\n",
      "<factor and(neg(LA_2),neg(+FB))> ::=\n",
      "|    '+' <factor and(neg(+FA),neg(+FB))>\n",
      "|    '-' <factor and(neg(+FA),neg(+FB))>\n",
      "|    <integer>\n",
      "|    <integer> '.' <integer>\n",
      "46 142\n"
     ]
    },
    {
     "data": {
      "text/plain": [
       "'<start and(.FA,neg(+FB))>'"
      ]
     },
     "execution_count": 474,
     "metadata": {},
     "output_type": "execute_result"
    }
   ],
   "source": [
    "AminusB_grammar_, AminusB_start, refs = and_grammars_(faultA_grammar, faultA_start, no_faultB_grammar, no_faultB_start)\n",
    "Gs(AminusB_grammar_)\n",
    "AminusB_start"
   ]
  },
  {
   "cell_type": "code",
   "execution_count": 475,
   "metadata": {},
   "outputs": [
    {
     "data": {
      "text/plain": [
       "[]"
      ]
     },
     "execution_count": 475,
     "metadata": {},
     "output_type": "execute_result"
    }
   ],
   "source": [
    "undefined_keys(AminusB_grammar_)"
   ]
  },
  {
   "cell_type": "code",
   "execution_count": 476,
   "metadata": {
    "scrolled": false
   },
   "outputs": [
    {
     "name": "stdout",
     "output_type": "stream",
     "text": [
      "<start and(.FA,neg(+FB))> ::=\n",
      "|    <expr and(.FA,neg(+FB))>\n",
      "<expr and(.FA,neg(+FB))> ::=\n",
      "|    <term and(.FA,neg(+FB))>\n",
      "|    <term and(.FA,neg(+FB))> ' + ' <expr and(neg(+FA),neg(LB_2))>\n",
      "|    <term and(.FA,neg(+FB))> ' - ' <expr and(neg(+FA),neg(+FB))>\n",
      "|    <term and(neg(+FA),neg(+FB))> ' + ' <expr and(.FA,neg(LB_2))>\n",
      "|    <term and(neg(+FA),neg(+FB))> ' - ' <expr and(.FA,neg(+FB))>\n",
      "<term and(.FA,neg(+FB))> ::=\n",
      "|    <factor and(.FA,neg(+FB))>\n",
      "|    <factor and(.FA,neg(+FB))> ' * ' <term and(neg(+FA),neg(+FB))>\n",
      "|    <factor and(.FA,neg(+FB))> ' / ' <term and(neg(+FA),neg(+FB))>\n",
      "|    <factor and(neg(+FA),neg(+FB))> ' * ' <term and(.FA,neg(+FB))>\n",
      "|    <factor and(neg(+FA),neg(+FB))> ' / ' <term and(.FA,neg(+FB))>\n",
      "<expr and(neg(+FA),neg(LB_2))> ::=\n",
      "|    <term and(neg(+FA),neg(+FB))> ' + ' <expr and(neg(+FA),neg(+FB))>\n",
      "|    <term and(neg(+FA),neg(+FB))> ' - ' <expr and(neg(+FA),neg(+FB))>\n",
      "<expr and(neg(+FA),neg(+FB))> ::=\n",
      "|    <term and(neg(+FA),neg(+FB))>\n",
      "|    <term and(neg(+FA),neg(+FB))> ' + ' <expr and(neg(+FA),neg(LB_2))>\n",
      "|    <term and(neg(+FA),neg(+FB))> ' - ' <expr and(neg(+FA),neg(+FB))>\n",
      "<term and(neg(+FA),neg(+FB))> ::=\n",
      "|    <factor and(neg(+FA),neg(+FB))>\n",
      "|    <factor and(neg(+FA),neg(+FB))> ' * ' <term and(neg(+FA),neg(+FB))>\n",
      "|    <factor and(neg(+FA),neg(+FB))> ' / ' <term and(neg(+FA),neg(+FB))>\n",
      "<expr and(.FA,neg(LB_2))> ::=\n",
      "|    <term and(.FA,neg(+FB))> ' + ' <expr and(neg(+FA),neg(+FB))>\n",
      "|    <term and(.FA,neg(+FB))> ' - ' <expr and(neg(+FA),neg(+FB))>\n",
      "|    <term and(neg(+FA),neg(+FB))> ' + ' <expr and(.FA,neg(+FB))>\n",
      "|    <term and(neg(+FA),neg(+FB))> ' - ' <expr and(.FA,neg(+FB))>\n",
      "<factor and(.FA,neg(+FB))> ::=\n",
      "|    '(' <expr and(LA_1,neg(+FB))> ')'\n",
      "<factor and(neg(+FA),neg(+FB))> ::=\n",
      "|    '(' <expr and(neg(LA_1),neg(+FB))> ')'\n",
      "|    '+' <factor and(neg(+FA),neg(+FB))>\n",
      "|    '-' <factor and(neg(+FA),neg(+FB))>\n",
      "|    <integer>\n",
      "|    <integer> '.' <integer>\n",
      "<expr and(LA_1,neg(+FB))> ::=\n",
      "|    <term and(LA_1,neg(+FB))>\n",
      "<term and(LA_1,neg(+FB))> ::=\n",
      "|    <factor and(LA_2,neg(+FB))>\n",
      "<factor and(LA_2,neg(+FB))> ::=\n",
      "|    '(' <expr neg(+FB)> ')'\n",
      "<expr neg(+FB)> ::=\n",
      "|    <term neg(+FB)>\n",
      "|    <term neg(+FB)> ' + ' <expr neg(LB_2)>\n",
      "|    <term neg(+FB)> ' - ' <expr neg(+FB)>\n",
      "<term neg(+FB)> ::=\n",
      "|    <factor neg(+FB)>\n",
      "|    <factor neg(+FB)> ' * ' <term neg(+FB)>\n",
      "|    <factor neg(+FB)> ' / ' <term neg(+FB)>\n",
      "<expr neg(LB_2)> ::=\n",
      "|    <term neg(+FB)> ' + ' <expr neg(+FB)>\n",
      "|    <term neg(+FB)> ' - ' <expr neg(+FB)>\n",
      "<factor neg(+FB)> ::=\n",
      "|    '(' <expr neg(+FB)> ')'\n",
      "|    '+' <factor neg(+FB)>\n",
      "|    '-' <factor neg(+FB)>\n",
      "|    <integer>\n",
      "|    <integer> '.' <integer>\n",
      "<integer> ::=\n",
      "|    <digit>\n",
      "|    <digit> <integer>\n",
      "<digit> ::=\n",
      "|    '0'\n",
      "|    '1'\n",
      "|    '2'\n",
      "|    '3'\n",
      "|    '4'\n",
      "|    '5'\n",
      "|    '6'\n",
      "|    '7'\n",
      "|    '8'\n",
      "|    '9'\n",
      "<expr and(neg(LA_1),neg(+FB))> ::=\n",
      "|    <term and(neg(+FA),neg(+FB))> ' + ' <expr and(neg(+FA),neg(LB_2))>\n",
      "|    <term and(neg(+FA),neg(+FB))> ' - ' <expr and(neg(+FA),neg(+FB))>\n",
      "|    <term and(neg(LA_1),neg(+FB))>\n",
      "<term and(neg(LA_1),neg(+FB))> ::=\n",
      "|    <factor and(neg(+FA),neg(+FB))> ' * ' <term and(neg(+FA),neg(+FB))>\n",
      "|    <factor and(neg(+FA),neg(+FB))> ' / ' <term and(neg(+FA),neg(+FB))>\n",
      "|    <factor and(neg(LA_2),neg(+FB))>\n",
      "<factor and(neg(LA_2),neg(+FB))> ::=\n",
      "|    '+' <factor and(neg(+FA),neg(+FB))>\n",
      "|    '-' <factor and(neg(+FA),neg(+FB))>\n",
      "|    <integer>\n",
      "|    <integer> '.' <integer>\n",
      "21 67\n"
     ]
    },
    {
     "data": {
      "text/plain": [
       "'<start and(.FA,neg(+FB))>'"
      ]
     },
     "execution_count": 476,
     "metadata": {},
     "output_type": "execute_result"
    }
   ],
   "source": [
    "AminusB_grammar, AminusB_start = grammar_gc(AminusB_grammar_, AminusB_start)\n",
    "Gs(AminusB_grammar)\n",
    "AminusB_start"
   ]
  },
  {
   "cell_type": "code",
   "execution_count": 477,
   "metadata": {},
   "outputs": [],
   "source": [
    "AminusB_fuzzer = LimitFuzzer(AminusB_grammar)\n",
    "AminusB_parser = Parser(AminusB_grammar, canonical=True, start_symbol=AminusB_start)"
   ]
  },
  {
   "cell_type": "code",
   "execution_count": 478,
   "metadata": {},
   "outputs": [
    {
     "name": "stdout",
     "output_type": "stream",
     "text": [
      "((+4 / 5.8 * 9.1 - 7 * 7 - 9)) * 67319 * 55.2 + 5.5 - -(9.3 / 0 * 0.3)\n",
      "A-B\n",
      "A\n",
      "B\n",
      "599 + ((8 - 0.5 + 5.4 + 4.7)) * 8.13 + 34\n",
      "A-B\n",
      "A\n",
      "B\n",
      "((9.8 / 9 / 8))\n",
      "A-B\n",
      "A\n",
      "B\n",
      "(((4.9) * 8)) / -54.47 - 96 / 2 + ++74.6 + (8.1 + 4 / 3.8 - 2.5 - 3.2) / +7 - (5.1 * 5.1)\n",
      "A-B\n",
      "A\n",
      "B\n",
      "((0.3 / 8 + 0 - 0.1)) / 9794.75 * +++(6) / --23.25 / 7.7 * 1\n",
      "A-B\n",
      "A\n",
      "B\n",
      "+-9.5 - ((6 * 0)) - ((6 + 2 - 6.7) + 4 + 2 * 8.7 - 4.0 + 8.2 + 1.9) - 9529.9 * 6 - 5.3 * -+4 / +7.6 / 3.6 * 0 + (9 + 9 + 2) - -8.7 * 5.9 * 6.4\n",
      "A-B\n",
      "A\n",
      "B\n",
      "((4 * 8 * 1)) * +-8.7 / -(+3 * 7 / 2 - 3.8 - 2.0 - 1) * (+9 * 9 * 3)\n",
      "A-B\n",
      "A\n",
      "B\n",
      "7.90 * ((7.6 + 6 - 6))\n",
      "A-B\n",
      "A\n",
      "B\n",
      "(82 / +(6 + 5.2 + 2) / +4.9 + (7.1 / 1 + 8 + 2) * +(5) * 3 - (1.2 - 8) / (7) + (0.3) + 1 / 6.5 - 5.0) / (-15.9 * (6 + 2.1 - 3) / 8 * 6 / 4) + 0231.73 * 977.0 - ((6 - 4)) / 098.6 / -04 / 85\n",
      "A-B\n",
      "A\n",
      "B\n",
      "9.09 / 5.07 + ((1 / 6.2 - 5.5 - 8)) / 3 * 3.391 / -8.4 / 32.6 * 0.8 / 2 + +-++6.7 - ((9) * 7 / 6 + 9.1 + 8) * (0 - 7.4 - 4.2) / 8 * (0) * 6\n",
      "A-B\n",
      "A\n",
      "B\n"
     ]
    }
   ],
   "source": [
    "for i in range(10):\n",
    "    s = AminusB_fuzzer.fuzz(key=AminusB_start)\n",
    "    print(s)\n",
    "    print('A-B')\n",
    "    assert AminusB_parser.can_parse(s)\n",
    "    print('A')\n",
    "    assert faultA_parser.can_parse(s)\n",
    "    print('B')\n",
    "    assert not faultB_parser.can_parse(s)"
   ]
  },
  {
   "cell_type": "markdown",
   "metadata": {},
   "source": [
    "### A - C"
   ]
  },
  {
   "cell_type": "code",
   "execution_count": 479,
   "metadata": {},
   "outputs": [
    {
     "name": "stdout",
     "output_type": "stream",
     "text": [
      "56 191\n"
     ]
    }
   ],
   "source": [
    "AminusC_grammar_, AminusC_start, refs = and_grammars_(faultA_grammar, faultA_start, no_faultC_grammar, no_faultC_start)\n",
    "Gs(AminusC_grammar_, -1)"
   ]
  },
  {
   "cell_type": "code",
   "execution_count": 480,
   "metadata": {},
   "outputs": [
    {
     "name": "stdout",
     "output_type": "stream",
     "text": [
      "<start and(.FA,neg(+FC))> ::=\n",
      "|    <expr and(.FA,neg(+FC))>\n",
      "<expr and(.FA,neg(+FC))> ::=\n",
      "|    <term and(.FA,neg(+FC))>\n",
      "|    <term and(.FA,neg(+FC))> ' + ' <expr and(neg(+FA),neg(+FC))>\n",
      "|    <term and(.FA,neg(+FC))> ' - ' <expr and(neg(+FA),neg(+FC))>\n",
      "|    <term and(neg(+FA),neg(+FC))> ' + ' <expr and(.FA,neg(+FC))>\n",
      "|    <term and(neg(+FA),neg(+FC))> ' - ' <expr and(.FA,neg(+FC))>\n",
      "<term and(.FA,neg(+FC))> ::=\n",
      "|    <factor and(.FA,neg(+FC))>\n",
      "|    <factor and(.FA,neg(+FC))> ' * ' <term and(neg(+FA),neg(+FC))>\n",
      "|    <factor and(.FA,neg(+FC))> ' / ' <term and(neg(+FA),neg(LC_2))>\n",
      "|    <factor and(neg(+FA),neg(+FC))> ' * ' <term and(.FA,neg(+FC))>\n",
      "|    <factor and(neg(+FA),neg(+FC))> ' / ' <term and(.FA,neg(LC_2))>\n",
      "<expr and(neg(+FA),neg(+FC))> ::=\n",
      "|    <term and(neg(+FA),neg(+FC))>\n",
      "|    <term and(neg(+FA),neg(+FC))> ' + ' <expr and(neg(+FA),neg(+FC))>\n",
      "|    <term and(neg(+FA),neg(+FC))> ' - ' <expr and(neg(+FA),neg(+FC))>\n",
      "<term and(neg(+FA),neg(+FC))> ::=\n",
      "|    <factor and(neg(+FA),neg(+FC))>\n",
      "|    <factor and(neg(+FA),neg(+FC))> ' * ' <term and(neg(+FA),neg(+FC))>\n",
      "|    <factor and(neg(+FA),neg(+FC))> ' / ' <term and(neg(+FA),neg(LC_2))>\n",
      "<factor and(.FA,neg(+FC))> ::=\n",
      "|    '(' <expr and(LA_1,neg(+FC))> ')'\n",
      "<term and(neg(+FA),neg(LC_2))> ::=\n",
      "|    <factor and(neg(+FA),neg(+FC))> ' * ' <term and(neg(+FA),neg(+FC))>\n",
      "|    <factor and(neg(+FA),neg(+FC))> ' / ' <term and(neg(+FA),neg(+FC))>\n",
      "|    <factor and(neg(+FA),neg(LC_1))>\n",
      "<factor and(neg(+FA),neg(+FC))> ::=\n",
      "|    '(' <expr and(neg(LA_1),neg(+FC))> ')'\n",
      "|    '+' <factor and(neg(+FA),neg(+FC))>\n",
      "|    '-' <factor and(neg(+FA),neg(+FC))>\n",
      "|    <integer>\n",
      "|    <integer> '.' <integer>\n",
      "<term and(.FA,neg(LC_2))> ::=\n",
      "|    <factor and(.FA,neg(+FC))> ' * ' <term and(neg(+FA),neg(+FC))>\n",
      "|    <factor and(.FA,neg(+FC))> ' / ' <term and(neg(+FA),neg(+FC))>\n",
      "|    <factor and(.FA,neg(LC_1))>\n",
      "|    <factor and(neg(+FA),neg(+FC))> ' * ' <term and(.FA,neg(+FC))>\n",
      "|    <factor and(neg(+FA),neg(+FC))> ' / ' <term and(.FA,neg(+FC))>\n",
      "<expr and(LA_1,neg(+FC))> ::=\n",
      "|    <term and(LA_1,neg(+FC))>\n",
      "<term and(LA_1,neg(+FC))> ::=\n",
      "|    <factor and(LA_2,neg(+FC))>\n",
      "<factor and(LA_2,neg(+FC))> ::=\n",
      "|    '(' <expr neg(+FC)> ')'\n",
      "<expr neg(+FC)> ::=\n",
      "|    <term neg(+FC)>\n",
      "|    <term neg(+FC)> ' + ' <expr neg(+FC)>\n",
      "|    <term neg(+FC)> ' - ' <expr neg(+FC)>\n",
      "<term neg(+FC)> ::=\n",
      "|    <factor neg(+FC)>\n",
      "|    <factor neg(+FC)> ' * ' <term neg(+FC)>\n",
      "|    <factor neg(+FC)> ' / ' <term neg(LC_2)>\n",
      "<factor neg(+FC)> ::=\n",
      "|    '(' <expr neg(+FC)> ')'\n",
      "|    '+' <factor neg(+FC)>\n",
      "|    '-' <factor neg(+FC)>\n",
      "|    <integer>\n",
      "|    <integer> '.' <integer>\n",
      "<term neg(LC_2)> ::=\n",
      "|    <factor neg(+FC)> ' * ' <term neg(+FC)>\n",
      "|    <factor neg(+FC)> ' / ' <term neg(+FC)>\n",
      "|    <factor neg(LC_1)>\n",
      "<integer> ::=\n",
      "|    <digit>\n",
      "|    <digit> <integer>\n",
      "<digit> ::=\n",
      "|    '0'\n",
      "|    '1'\n",
      "|    '2'\n",
      "|    '3'\n",
      "|    '4'\n",
      "|    '5'\n",
      "|    '6'\n",
      "|    '7'\n",
      "|    '8'\n",
      "|    '9'\n",
      "<factor neg(LC_1)> ::=\n",
      "|    '(' <expr neg(+FC)> ')'\n",
      "|    '+' <factor neg(+FC)>\n",
      "|    '-' <factor neg(+FC)>\n",
      "|    <integer neg(LC_1)>\n",
      "|    <integer> '.' <integer>\n",
      "<integer neg(LC_1)> ::=\n",
      "|    <digit neg(LC_1)>\n",
      "|    <digit> <integer>\n",
      "<digit neg(LC_1)> ::=\n",
      "|    '1'\n",
      "|    '2'\n",
      "|    '3'\n",
      "|    '4'\n",
      "|    '5'\n",
      "|    '6'\n",
      "|    '7'\n",
      "|    '8'\n",
      "|    '9'\n",
      "<factor and(neg(+FA),neg(LC_1))> ::=\n",
      "|    '(' <expr and(neg(LA_1),neg(+FC))> ')'\n",
      "|    '+' <factor and(neg(+FA),neg(+FC))>\n",
      "|    '-' <factor and(neg(+FA),neg(+FC))>\n",
      "|    <integer neg(LC_1)>\n",
      "|    <integer> '.' <integer>\n",
      "<expr and(neg(LA_1),neg(+FC))> ::=\n",
      "|    <term and(neg(+FA),neg(+FC))> ' + ' <expr and(neg(+FA),neg(+FC))>\n",
      "|    <term and(neg(+FA),neg(+FC))> ' - ' <expr and(neg(+FA),neg(+FC))>\n",
      "|    <term and(neg(LA_1),neg(+FC))>\n",
      "<term and(neg(LA_1),neg(+FC))> ::=\n",
      "|    <factor and(neg(+FA),neg(+FC))> ' * ' <term and(neg(+FA),neg(+FC))>\n",
      "|    <factor and(neg(+FA),neg(+FC))> ' / ' <term and(neg(+FA),neg(LC_2))>\n",
      "|    <factor and(neg(LA_2),neg(+FC))>\n",
      "<factor and(neg(LA_2),neg(+FC))> ::=\n",
      "|    '+' <factor and(neg(+FA),neg(+FC))>\n",
      "|    '-' <factor and(neg(+FA),neg(+FC))>\n",
      "|    <integer>\n",
      "|    <integer> '.' <integer>\n",
      "<factor and(.FA,neg(LC_1))> ::=\n",
      "|    '(' <expr and(LA_1,neg(+FC))> ')'\n",
      "26 92\n"
     ]
    },
    {
     "data": {
      "text/plain": [
       "'<start and(.FA,neg(+FC))>'"
      ]
     },
     "execution_count": 480,
     "metadata": {},
     "output_type": "execute_result"
    }
   ],
   "source": [
    "AminusC_grammar, AminusC_start = grammar_gc(AminusC_grammar_, AminusC_start)\n",
    "Gs(AminusC_grammar)\n",
    "AminusC_start"
   ]
  },
  {
   "cell_type": "code",
   "execution_count": 481,
   "metadata": {},
   "outputs": [],
   "source": [
    "AminusC_fuzzer = LimitFuzzer(AminusC_grammar)\n",
    "AminusC_parser = Parser(AminusC_grammar, canonical=True, start_symbol=AminusC_start)"
   ]
  },
  {
   "cell_type": "code",
   "execution_count": 482,
   "metadata": {},
   "outputs": [
    {
     "name": "stdout",
     "output_type": "stream",
     "text": [
      "-68543.50 / 0 / ((3.0)) / +3 / +-(1.6) * +4 * -4.5 / 5 * 9\n",
      "A-C\n",
      "A\n",
      "C\n",
      "(((5.2) / 8.3 * 7 - 5 * 1.0 - 3 - 0.0)) - 9 - --3.14 / -(0 * 7 + 6 + 7.2) - (-9 * 0.1 / 8.2) / 710\n",
      "A-C\n",
      "A\n",
      "C\n",
      "-773 / +1.1 * ((7 + 3.6)) * ---+2 / -50.95\n",
      "A-C\n",
      "A\n",
      "C\n",
      "((-2.1 * 6.0)) * +-((5.7) * 7 / 7) / 99601 / 9\n",
      "A-C\n",
      "A\n",
      "C\n",
      "((+2 + 0 - 0 + 7.1)) + -70.3\n",
      "A-C\n",
      "A\n",
      "C\n",
      "-911 + 861 + 6.63 / ((5))\n",
      "A-C\n",
      "A\n",
      "C\n",
      "+99.2970 * ((0 * 7.3 - 8)) * -(-0 * 3.9 - 9 - 8.1 - 9) * 177 / ++0.9 / 5.4 / (3) * 1.0 - -9.9 + (--2) - (+1 * 8 - 1 / 6 - 9)\n",
      "A-C\n",
      "A\n",
      "C\n",
      "+-2 + 81.8 + 6858.04 * 6 / (9 * 5.7 - 7 + 0.1) / 8.58 / 1.0 + (6.7 * 5.0 * 1.7 + 9.7 * 9.1 + 6 + 9) * ((1)) - --+5\n",
      "A-C\n",
      "A\n",
      "C\n",
      "-(--(0.7) + -+8.8 * +1 * 8 + 9.1 * 9.7 / 6 - 5 * 4 + 2 + 3) - 8.2 * ((3.3 + 6)) / (9.7 * 2 * 7 - 6.7 / 8) * +1 + (93.40 + -0 / 8 / 3 - 1.7) / +--1.2\n",
      "A-C\n",
      "A\n",
      "C\n",
      "((+2.8 * 5 - 9.9 * 9.2)) + 277.8 * 8.0\n",
      "A-C\n",
      "A\n",
      "C\n"
     ]
    }
   ],
   "source": [
    "for i in range(10):\n",
    "    s = AminusC_fuzzer.fuzz(key=AminusC_start)\n",
    "    print(s)\n",
    "    print('A-C')\n",
    "    assert AminusC_parser.can_parse(s)\n",
    "    print('A')\n",
    "    assert faultA_parser.can_parse(s)\n",
    "    print('C')\n",
    "    assert not faultC_parser.can_parse(s)"
   ]
  },
  {
   "cell_type": "markdown",
   "metadata": {},
   "source": [
    "### B - C"
   ]
  },
  {
   "cell_type": "code",
   "execution_count": 483,
   "metadata": {},
   "outputs": [
    {
     "name": "stdout",
     "output_type": "stream",
     "text": [
      "28 102\n"
     ]
    }
   ],
   "source": [
    "BminusC_grammar_, BminusC_start, refs = and_grammars_(faultB_grammar, faultB_start, no_faultC_grammar, no_faultC_start)\n",
    "Gs(BminusC_grammar_, -1)"
   ]
  },
  {
   "cell_type": "code",
   "execution_count": 484,
   "metadata": {},
   "outputs": [
    {
     "name": "stdout",
     "output_type": "stream",
     "text": [
      "<start and(.FB,neg(+FC))> ::=\n",
      "|    <expr and(.FB,neg(+FC))>\n",
      "<expr and(.FB,neg(+FC))> ::=\n",
      "|    <term neg(+FC)> ' + ' <expr and(LB_2,neg(+FC))>\n",
      "<term neg(+FC)> ::=\n",
      "|    <factor neg(+FC)>\n",
      "|    <factor neg(+FC)> ' * ' <term neg(+FC)>\n",
      "|    <factor neg(+FC)> ' / ' <term neg(LC_2)>\n",
      "<expr and(LB_2,neg(+FC))> ::=\n",
      "|    <term neg(+FC)>\n",
      "<factor neg(+FC)> ::=\n",
      "|    '(' <expr neg(+FC)> ')'\n",
      "|    '+' <factor neg(+FC)>\n",
      "|    '-' <factor neg(+FC)>\n",
      "|    <integer>\n",
      "|    <integer> '.' <integer>\n",
      "<term neg(LC_2)> ::=\n",
      "|    <factor neg(+FC)> ' * ' <term neg(+FC)>\n",
      "|    <factor neg(+FC)> ' / ' <term neg(+FC)>\n",
      "|    <factor neg(LC_1)>\n",
      "<expr neg(+FC)> ::=\n",
      "|    <term neg(+FC)>\n",
      "|    <term neg(+FC)> ' + ' <expr neg(+FC)>\n",
      "|    <term neg(+FC)> ' - ' <expr neg(+FC)>\n",
      "<integer> ::=\n",
      "|    <digit>\n",
      "|    <digit> <integer>\n",
      "<digit> ::=\n",
      "|    '0'\n",
      "|    '1'\n",
      "|    '2'\n",
      "|    '3'\n",
      "|    '4'\n",
      "|    '5'\n",
      "|    '6'\n",
      "|    '7'\n",
      "|    '8'\n",
      "|    '9'\n",
      "<factor neg(LC_1)> ::=\n",
      "|    '(' <expr neg(+FC)> ')'\n",
      "|    '+' <factor neg(+FC)>\n",
      "|    '-' <factor neg(+FC)>\n",
      "|    <integer neg(LC_1)>\n",
      "|    <integer> '.' <integer>\n",
      "<integer neg(LC_1)> ::=\n",
      "|    <digit neg(LC_1)>\n",
      "|    <digit> <integer>\n",
      "<digit neg(LC_1)> ::=\n",
      "|    '1'\n",
      "|    '2'\n",
      "|    '3'\n",
      "|    '4'\n",
      "|    '5'\n",
      "|    '6'\n",
      "|    '7'\n",
      "|    '8'\n",
      "|    '9'\n",
      "12 45\n"
     ]
    },
    {
     "data": {
      "text/plain": [
       "'<start and(.FB,neg(+FC))>'"
      ]
     },
     "execution_count": 484,
     "metadata": {},
     "output_type": "execute_result"
    }
   ],
   "source": [
    "BminusC_grammar, BminusC_start = grammar_gc(BminusC_grammar_, BminusC_start)\n",
    "Gs(BminusC_grammar)\n",
    "BminusC_start"
   ]
  },
  {
   "cell_type": "code",
   "execution_count": 485,
   "metadata": {},
   "outputs": [],
   "source": [
    "BminusC_fuzzer = LimitFuzzer(BminusC_grammar)\n",
    "BminusC_parser = Parser(BminusC_grammar, canonical=True, start_symbol=BminusC_start)"
   ]
  },
  {
   "cell_type": "code",
   "execution_count": 486,
   "metadata": {},
   "outputs": [
    {
     "name": "stdout",
     "output_type": "stream",
     "text": [
      "+--((3.6) * 9.0) + 1.00 * 7 * +000 * 54 * -(6.2)\n",
      "B-C\n",
      "B\n",
      "C\n",
      "8.7 * +-2 / ((5) * +2 * 5.5 * 8.7) / -066 / 1 * ++8.1 / +9.7 / 8.9 + 411.04515\n",
      "B-C\n",
      "B\n",
      "C\n",
      "7 / +7.9 + +-13.167\n",
      "B-C\n",
      "B\n",
      "C\n",
      "(++-1.8 * -75 / 03.0 / -5.4 * 2 / 1 - 9 / 89.48) * (8 / -+7.1) / 5 + 24078.2 / --(9.8 * 3.5) / ((4.6) - 4.0 * 8.1) * (5.5 + 3.0 - 1.2) * 50.59 / -9\n",
      "B-C\n",
      "B\n",
      "C\n",
      "+386.8237 * +(30.78 * (2.3) * 0 * 5.3) * +(2.0 * 0 + 3.2 * 2 + 2) * (-1.3 * 9.4 / 0.4 + 1.8 * 5.2 + 2.4) / 28.86 * --9 * -4.5 + ((4 * 4 + 2.8 - 8)) / ((0.6) * 7)\n",
      "B-C\n",
      "B\n",
      "C\n",
      "5.656 * 4 * -+1.1 + 1 * (-4 - 3 / 2.5 / 1 + 5.2 - 0 + 9) / ++(3)\n",
      "B-C\n",
      "B\n",
      "C\n",
      "44637.1 / 6 * +++1.9 / 2 * 238 * +9 / 4 * 3 * 8.5 + ((0 / 4.1 + 3 + 9) / -+8 + 2.2) * -187 * 21 * +(4 - 9.5) / 03.2 * 0.7 * 9.7\n",
      "B-C\n",
      "B\n",
      "C\n",
      "9.7 + (-1.05 * --0.5) / -++40\n",
      "B-C\n",
      "B\n",
      "C\n",
      "-++-(5.6 + 4 + 4.2) * 12.9 + 19.9 / (06 / (1.5) / 5.4 * 2 + 5.0 * 9 / 4.6) * 80 * -00.43 * +(8.7)\n",
      "B-C\n",
      "B\n",
      "C\n",
      "6 + +----+6.6\n",
      "B-C\n",
      "B\n",
      "C\n"
     ]
    }
   ],
   "source": [
    "for i in range(10):\n",
    "    s = BminusC_fuzzer.fuzz(key=BminusC_start)\n",
    "    print(s)\n",
    "    print('B-C')\n",
    "    assert BminusC_parser.can_parse(s)\n",
    "    print('B')\n",
    "    assert faultB_parser.can_parse(s)\n",
    "    print('C')\n",
    "    assert not faultC_parser.can_parse(s)"
   ]
  },
  {
   "cell_type": "markdown",
   "metadata": {},
   "source": [
    "## More"
   ]
  },
  {
   "cell_type": "markdown",
   "metadata": {},
   "source": [
    "### A & B & C"
   ]
  },
  {
   "cell_type": "code",
   "execution_count": 487,
   "metadata": {},
   "outputs": [
    {
     "name": "stdout",
     "output_type": "stream",
     "text": [
      "107 281\n",
      "<start and(and(.FA,.FB),.FC)> ::=\n",
      "|    <expr and(and(.FA,.FB),.FC)>\n",
      "<expr and(and(.FA,.FB),.FC)> ::=\n",
      "|    <term and(.FA,.FC)> ' + ' <expr and(and(neg(+FA),LB_2),neg(+FC))>\n",
      "|    <term and(.FA,neg(+FC))> ' + ' <expr and(and(neg(+FA),LB_2),.FC)>\n",
      "|    <term and(neg(+FA),.FC)> ' + ' <expr and(and(.FA,LB_2),neg(+FC))>\n",
      "|    <term and(neg(+FA),neg(+FC))> ' + ' <expr and(and(.FA,LB_2),.FC)>\n",
      "<term and(.FA,.FC)> ::=\n",
      "|    <factor .FA> ' / ' <term and(neg(+FA),LC_2)>\n",
      "<expr and(and(neg(+FA),LB_2),neg(+FC))> ::=\n",
      "|    <term and(neg(+FA),neg(+FC))>\n",
      "<term and(.FA,neg(+FC))> ::=\n",
      "|    <factor and(.FA,neg(+FC))>\n",
      "|    <factor and(.FA,neg(+FC))> ' * ' <term and(neg(+FA),neg(+FC))>\n",
      "|    <factor and(.FA,neg(+FC))> ' / ' <term and(neg(+FA),neg(LC_2))>\n",
      "|    <factor and(neg(+FA),neg(+FC))> ' * ' <term and(.FA,neg(+FC))>\n",
      "|    <factor and(neg(+FA),neg(+FC))> ' / ' <term and(.FA,neg(LC_2))>\n",
      "<expr and(and(neg(+FA),LB_2),.FC)> ::=\n",
      "|    <term and(neg(+FA),.FC)>\n",
      "<term and(neg(+FA),.FC)> ::=\n",
      "|    <factor neg(+FA)> ' / ' <term and(neg(+FA),LC_2)>\n",
      "<expr and(and(.FA,LB_2),neg(+FC))> ::=\n",
      "|    <term and(.FA,neg(+FC))>\n",
      "<term and(neg(+FA),neg(+FC))> ::=\n",
      "|    <factor and(neg(+FA),neg(+FC))>\n",
      "|    <factor and(neg(+FA),neg(+FC))> ' * ' <term and(neg(+FA),neg(+FC))>\n",
      "|    <factor and(neg(+FA),neg(+FC))> ' / ' <term and(neg(+FA),neg(LC_2))>\n",
      "<expr and(and(.FA,LB_2),.FC)> ::=\n",
      "|    <term and(.FA,.FC)>\n",
      "<factor .FA> ::=\n",
      "|    '(' <expr LA_1> ')'\n",
      "<term and(neg(+FA),LC_2)> ::=\n",
      "|    <factor and(neg(+FA),LC_1)>\n",
      "<expr LA_1> ::=\n",
      "|    <term LA_1>\n",
      "<term LA_1> ::=\n",
      "|    <factor LA_2>\n",
      "<factor LA_2> ::=\n",
      "|    '(' <expr> ')'\n",
      "<expr> ::=\n",
      "|    <term>\n",
      "|    <term> ' + ' <expr>\n",
      "|    <term> ' - ' <expr>\n",
      "<term> ::=\n",
      "|    <factor>\n",
      "|    <factor> ' * ' <term>\n",
      "|    <factor> ' / ' <term>\n",
      "<factor> ::=\n",
      "|    '(' <expr> ')'\n",
      "|    '+' <factor>\n",
      "|    '-' <factor>\n",
      "|    <integer>\n",
      "|    <integer> '.' <integer>\n",
      "<integer> ::=\n",
      "|    <digit>\n",
      "|    <digit> <integer>\n",
      "<digit> ::=\n",
      "|    '0'\n",
      "|    '1'\n",
      "|    '2'\n",
      "|    '3'\n",
      "|    '4'\n",
      "|    '5'\n",
      "|    '6'\n",
      "|    '7'\n",
      "|    '8'\n",
      "|    '9'\n",
      "<factor and(neg(+FA),LC_1)> ::=\n",
      "|    <integer LC_1>\n",
      "<integer LC_1> ::=\n",
      "|    <digit LC_1>\n",
      "<digit LC_1> ::=\n",
      "|    '0'\n",
      "<factor and(.FA,neg(+FC))> ::=\n",
      "|    '(' <expr and(LA_1,neg(+FC))> ')'\n",
      "<term and(neg(+FA),neg(LC_2))> ::=\n",
      "|    <factor and(neg(+FA),neg(+FC))> ' * ' <term and(neg(+FA),neg(+FC))>\n",
      "|    <factor and(neg(+FA),neg(+FC))> ' / ' <term and(neg(+FA),neg(+FC))>\n",
      "|    <factor and(neg(+FA),neg(LC_1))>\n",
      "<factor and(neg(+FA),neg(+FC))> ::=\n",
      "|    '(' <expr and(neg(LA_1),neg(+FC))> ')'\n",
      "|    '+' <factor and(neg(+FA),neg(+FC))>\n",
      "|    '-' <factor and(neg(+FA),neg(+FC))>\n",
      "|    <integer>\n",
      "|    <integer> '.' <integer>\n",
      "<term and(.FA,neg(LC_2))> ::=\n",
      "|    <factor and(.FA,neg(+FC))> ' * ' <term and(neg(+FA),neg(+FC))>\n",
      "|    <factor and(.FA,neg(+FC))> ' / ' <term and(neg(+FA),neg(+FC))>\n",
      "|    <factor and(.FA,neg(LC_1))>\n",
      "|    <factor and(neg(+FA),neg(+FC))> ' * ' <term and(.FA,neg(+FC))>\n",
      "|    <factor and(neg(+FA),neg(+FC))> ' / ' <term and(.FA,neg(+FC))>\n",
      "<expr and(LA_1,neg(+FC))> ::=\n",
      "|    <term and(LA_1,neg(+FC))>\n",
      "<term and(LA_1,neg(+FC))> ::=\n",
      "|    <factor and(LA_2,neg(+FC))>\n",
      "<factor and(LA_2,neg(+FC))> ::=\n",
      "|    '(' <expr neg(+FC)> ')'\n",
      "<expr neg(+FC)> ::=\n",
      "|    <term neg(+FC)>\n",
      "|    <term neg(+FC)> ' + ' <expr neg(+FC)>\n",
      "|    <term neg(+FC)> ' - ' <expr neg(+FC)>\n",
      "<term neg(+FC)> ::=\n",
      "|    <factor neg(+FC)>\n",
      "|    <factor neg(+FC)> ' * ' <term neg(+FC)>\n",
      "|    <factor neg(+FC)> ' / ' <term neg(LC_2)>\n",
      "<factor neg(+FC)> ::=\n",
      "|    '(' <expr neg(+FC)> ')'\n",
      "|    '+' <factor neg(+FC)>\n",
      "|    '-' <factor neg(+FC)>\n",
      "|    <integer>\n",
      "|    <integer> '.' <integer>\n",
      "<term neg(LC_2)> ::=\n",
      "|    <factor neg(+FC)> ' * ' <term neg(+FC)>\n",
      "|    <factor neg(+FC)> ' / ' <term neg(+FC)>\n",
      "|    <factor neg(LC_1)>\n",
      "<factor neg(LC_1)> ::=\n",
      "|    '(' <expr neg(+FC)> ')'\n",
      "|    '+' <factor neg(+FC)>\n",
      "|    '-' <factor neg(+FC)>\n",
      "|    <integer neg(LC_1)>\n",
      "|    <integer> '.' <integer>\n",
      "<integer neg(LC_1)> ::=\n",
      "|    <digit neg(LC_1)>\n",
      "|    <digit> <integer>\n",
      "<digit neg(LC_1)> ::=\n",
      "|    '1'\n",
      "|    '2'\n",
      "|    '3'\n",
      "|    '4'\n",
      "|    '5'\n",
      "|    '6'\n",
      "|    '7'\n",
      "|    '8'\n",
      "|    '9'\n",
      "<factor and(neg(+FA),neg(LC_1))> ::=\n",
      "|    '(' <expr and(neg(LA_1),neg(+FC))> ')'\n",
      "|    '+' <factor and(neg(+FA),neg(+FC))>\n",
      "|    '-' <factor and(neg(+FA),neg(+FC))>\n",
      "|    <integer neg(LC_1)>\n",
      "|    <integer> '.' <integer>\n",
      "<expr and(neg(LA_1),neg(+FC))> ::=\n",
      "|    <term and(neg(+FA),neg(+FC))> ' + ' <expr and(neg(+FA),neg(+FC))>\n",
      "|    <term and(neg(+FA),neg(+FC))> ' - ' <expr and(neg(+FA),neg(+FC))>\n",
      "|    <term and(neg(LA_1),neg(+FC))>\n",
      "<expr and(neg(+FA),neg(+FC))> ::=\n",
      "|    <term and(neg(+FA),neg(+FC))>\n",
      "|    <term and(neg(+FA),neg(+FC))> ' + ' <expr and(neg(+FA),neg(+FC))>\n",
      "|    <term and(neg(+FA),neg(+FC))> ' - ' <expr and(neg(+FA),neg(+FC))>\n",
      "<term and(neg(LA_1),neg(+FC))> ::=\n",
      "|    <factor and(neg(+FA),neg(+FC))> ' * ' <term and(neg(+FA),neg(+FC))>\n",
      "|    <factor and(neg(+FA),neg(+FC))> ' / ' <term and(neg(+FA),neg(LC_2))>\n",
      "|    <factor and(neg(LA_2),neg(+FC))>\n",
      "<factor and(neg(LA_2),neg(+FC))> ::=\n",
      "|    '+' <factor and(neg(+FA),neg(+FC))>\n",
      "|    '-' <factor and(neg(+FA),neg(+FC))>\n",
      "|    <integer>\n",
      "|    <integer> '.' <integer>\n",
      "<factor and(.FA,neg(LC_1))> ::=\n",
      "|    '(' <expr and(LA_1,neg(+FC))> ')'\n",
      "<factor neg(+FA)> ::=\n",
      "|    '(' <expr neg(LA_1)> ')'\n",
      "|    '+' <factor neg(+FA)>\n",
      "|    '-' <factor neg(+FA)>\n",
      "|    <integer>\n",
      "|    <integer> '.' <integer>\n",
      "<expr neg(LA_1)> ::=\n",
      "|    <term neg(+FA)> ' + ' <expr neg(+FA)>\n",
      "|    <term neg(+FA)> ' - ' <expr neg(+FA)>\n",
      "|    <term neg(LA_1)>\n",
      "<term neg(+FA)> ::=\n",
      "|    <factor neg(+FA)>\n",
      "|    <factor neg(+FA)> ' * ' <term neg(+FA)>\n",
      "|    <factor neg(+FA)> ' / ' <term neg(+FA)>\n",
      "<expr neg(+FA)> ::=\n",
      "|    <term neg(+FA)>\n",
      "|    <term neg(+FA)> ' + ' <expr neg(+FA)>\n",
      "|    <term neg(+FA)> ' - ' <expr neg(+FA)>\n",
      "<term neg(LA_1)> ::=\n",
      "|    <factor neg(+FA)> ' * ' <term neg(+FA)>\n",
      "|    <factor neg(+FA)> ' / ' <term neg(+FA)>\n",
      "|    <factor neg(LA_2)>\n",
      "<factor neg(LA_2)> ::=\n",
      "|    '+' <factor neg(+FA)>\n",
      "|    '-' <factor neg(+FA)>\n",
      "|    <integer>\n",
      "|    <integer> '.' <integer>\n",
      "49 137\n"
     ]
    },
    {
     "data": {
      "text/plain": [
       "'<start and(and(.FA,.FB),.FC)>'"
      ]
     },
     "execution_count": 487,
     "metadata": {},
     "output_type": "execute_result"
    }
   ],
   "source": [
    "AandBandC_grammar_, AandBandC_start, refs = and_grammars_(AandB_grammar, AandB_start, faultC_grammar, faultC_start)\n",
    "Gs(AandBandC_grammar_, -1)\n",
    "AandBandC_grammar, AandBandC_start = grammar_gc(AandBandC_grammar_, AandBandC_start)\n",
    "Gs(AandBandC_grammar)\n",
    "AandBandC_start"
   ]
  },
  {
   "cell_type": "code",
   "execution_count": 488,
   "metadata": {},
   "outputs": [],
   "source": [
    "AandBandC_fuzzer = LimitFuzzer(AandBandC_grammar)\n",
    "AandBandC_parser = Parser(AandBandC_grammar, canonical=True, start_symbol=AandBandC_start)"
   ]
  },
  {
   "cell_type": "code",
   "execution_count": 489,
   "metadata": {},
   "outputs": [
    {
     "name": "stdout",
     "output_type": "stream",
     "text": [
      "-+((1 - 8 - 2.8 - 1.5 + 7 + 9.9 + 2.7 + 2.6 + 8 + 6) / -7 / 3.9 * 4.2) / 0 + 6 / ++-69.4 / ((0)) * +-(1.8) * -3.5 / (2)\n",
      "A&B&C\n",
      "A&B\n",
      "A&C\n",
      "B&C\n",
      "A\n",
      "B\n",
      "C\n",
      "66.1321290 / 0 + ((3 * 8.2 + 7.6)) * +7 / +20 * (8.0) * +2.2 * -9 * 1\n",
      "A&B&C\n",
      "A&B\n",
      "A&C\n",
      "B&C\n",
      "A\n",
      "B\n",
      "C\n",
      "((9)) / 0 + (-(6.5)) / -(-1.3 * 1.0 / 3) * -(9.0 * 6 + 8 - 3) * --+3.4 * +3 * +8 * 7.1\n",
      "A&B&C\n",
      "A&B\n",
      "A&C\n",
      "B&C\n",
      "A\n",
      "B\n",
      "C\n",
      "((-7.4)) / 0 + 80 * (-4.5) / -(4.1 / 3.0 + 0 - 5.5)\n",
      "A&B&C\n",
      "A&B\n",
      "A&C\n",
      "B&C\n",
      "A\n",
      "B\n",
      "C\n",
      "8.2566290 / 0 + ((6 / 4.7 - 1.9 - 5)) * +(4 * 0 / 3 + 4.4) * (+0 * 0 * 7.1 - 4.0 / 8 + 9 - 9) * +3 / 98 * 3.9 * 2 * 9\n",
      "A&B&C\n",
      "A&B\n",
      "A&C\n",
      "B&C\n",
      "A\n",
      "B\n",
      "C\n",
      "((8.0 / 9.3 + 5 / 9.6)) / ++-+61 + 22354 / 0\n",
      "A&B&C\n",
      "A&B\n",
      "A&C\n",
      "B&C\n",
      "A\n",
      "B\n",
      "C\n",
      "-16.447 + ((5 * 1.6 + 4 - 6)) / 0\n",
      "A&B&C\n",
      "A&B\n",
      "A&C\n",
      "B&C\n",
      "A\n",
      "B\n",
      "C\n",
      "+((0.6 / 3.2 - 7) / +(7)) * (4 * 57 * +1.9) + ((0 * 4 - 0.1)) / 0\n",
      "A&B&C\n",
      "A&B\n",
      "A&C\n",
      "B&C\n",
      "A\n",
      "B\n",
      "C\n",
      "(-+0 + 6 / (6.9 - 1)) * ((7)) + -(5.94 + +8 / 8 / 8 - 1.6 / 5 + 6) / 0\n",
      "A&B&C\n",
      "A&B\n",
      "A&C\n",
      "B&C\n",
      "A\n",
      "B\n",
      "C\n",
      "((+4 * 5.5 * 9 - 6 * 4)) / 0 + +-6.1862 * (-9.3 * -5 * 0.8 * 3) * 4.71 * +(9.3 + 9.2) / 58 / 9 / 4.3\n",
      "A&B&C\n",
      "A&B\n",
      "A&C\n",
      "B&C\n",
      "A\n",
      "B\n",
      "C\n"
     ]
    }
   ],
   "source": [
    "for i in range(10):\n",
    "    s = AandBandC_fuzzer.fuzz(key=AandBandC_start)\n",
    "    print(s)\n",
    "    print('A&B&C')\n",
    "    assert AandBandC_parser.can_parse(s)\n",
    "    print('A&B')\n",
    "    assert AandB_parser.can_parse(s)\n",
    "    print('A&C')\n",
    "    assert AandC_parser.can_parse(s)\n",
    "    print('B&C')\n",
    "    assert BandC_parser.can_parse(s)\n",
    "    print('A')\n",
    "    assert faultA_parser.can_parse(s)\n",
    "    print('B')\n",
    "    assert faultB_parser.can_parse(s)\n",
    "    print('C')\n",
    "    assert faultC_parser.can_parse(s)"
   ]
  },
  {
   "cell_type": "markdown",
   "metadata": {},
   "source": [
    "### A | B | C"
   ]
  },
  {
   "cell_type": "code",
   "execution_count": 490,
   "metadata": {},
   "outputs": [
    {
     "name": "stdout",
     "output_type": "stream",
     "text": [
      "46 130\n"
     ]
    }
   ],
   "source": [
    "AorBorC_grammar_, AorBorC_start, refs = or_grammars_(AorB_grammar_, AorB_start, faultC_grammar_, faultC_start)\n",
    "Gs(AorBorC_grammar_, -1)"
   ]
  },
  {
   "cell_type": "code",
   "execution_count": 491,
   "metadata": {},
   "outputs": [
    {
     "data": {
      "text/plain": [
       "['<expr or(or(.FB,.FA),.FC)>']"
      ]
     },
     "execution_count": 491,
     "metadata": {},
     "output_type": "execute_result"
    }
   ],
   "source": [
    "ouk = undefined_keys(AorBorC_grammar_); ouk"
   ]
  },
  {
   "cell_type": "code",
   "execution_count": 492,
   "metadata": {},
   "outputs": [
    {
     "name": "stdout",
     "output_type": "stream",
     "text": [
      "1\n",
      "reconstructing: <expr or(or(.FB,.FA),.FC)>\n",
      "'or(.FA,or(.FB,.FC))'\n",
      "simplified_to: <expr or(.FA,or(.FB,.FC))>\n",
      "1\n",
      "reconstructing: <term or(.FA,.FC)>\n",
      "'or(.FA,.FC)'\n",
      "simplified_to: <term or(.FA,.FC)>\n"
     ]
    }
   ],
   "source": [
    "AorBorC_grammar_ = complete(AorBorC_grammar_, AorBorC_start, log=True)"
   ]
  },
  {
   "cell_type": "code",
   "execution_count": 493,
   "metadata": {},
   "outputs": [
    {
     "name": "stdout",
     "output_type": "stream",
     "text": [
      "<start or(or(.FA,.FB),.FC)> ::=\n",
      "|    <expr or(or(.FB,.FA),.FC)>\n",
      "<expr or(or(.FB,.FA),.FC)> ::=\n",
      "|    <term .FA> ' + ' <expr neg(+FA)>\n",
      "|    <term .FA> ' + ' <expr neg(+FA)>\n",
      "|    <term .FA> ' - ' <expr neg(+FA)>\n",
      "|    <term .FA> ' - ' <expr neg(+FA)>\n",
      "|    <term or(.FA,.FC)>\n",
      "|    <term> ' + ' <expr LB_2>\n",
      "<term .FA> ::=\n",
      "|    <factor .FA>\n",
      "|    <factor neg(+FA)> ' * ' <term .FA>\n",
      "|    <factor neg(+FA)> ' / ' <term .FA>\n",
      "<expr neg(+FA)> ::=\n",
      "|    <term neg(+FA)>\n",
      "|    <term neg(+FA)> ' + ' <expr neg(+FA)>\n",
      "|    <term neg(+FA)> ' - ' <expr neg(+FA)>\n",
      "<term or(.FA,.FC)> ::=\n",
      "|    <factor .FA>\n",
      "|    <factor neg(+FA)> ' * ' <term .FA>\n",
      "|    <factor neg(+FA)> ' / ' <term .FA>\n",
      "|    <factor> ' / ' <term LC_2>\n",
      "<term> ::=\n",
      "|    <factor>\n",
      "|    <factor> ' * ' <term>\n",
      "|    <factor> ' / ' <term>\n",
      "<expr LB_2> ::=\n",
      "|    <term>\n",
      "<factor .FA> ::=\n",
      "|    '(' <expr LA_1> ')'\n",
      "<factor neg(+FA)> ::=\n",
      "|    '(' <expr neg(LA_1)> ')'\n",
      "|    '+' <factor neg(+FA)>\n",
      "|    '-' <factor neg(+FA)>\n",
      "|    <integer>\n",
      "|    <integer> '.' <integer>\n",
      "<expr LA_1> ::=\n",
      "|    <term LA_1>\n",
      "<term LA_1> ::=\n",
      "|    <factor LA_2>\n",
      "<factor LA_2> ::=\n",
      "|    '(' <expr> ')'\n",
      "<expr> ::=\n",
      "|    <term>\n",
      "|    <term> ' + ' <expr>\n",
      "|    <term> ' - ' <expr>\n",
      "<expr neg(LA_1)> ::=\n",
      "|    <term neg(+FA)> ' + ' <expr neg(+FA)>\n",
      "|    <term neg(+FA)> ' - ' <expr neg(+FA)>\n",
      "|    <term neg(LA_1)>\n",
      "<integer> ::=\n",
      "|    <digit>\n",
      "|    <digit> <integer>\n",
      "<term neg(+FA)> ::=\n",
      "|    <factor neg(+FA)>\n",
      "|    <factor neg(+FA)> ' * ' <term neg(+FA)>\n",
      "|    <factor neg(+FA)> ' / ' <term neg(+FA)>\n",
      "<term neg(LA_1)> ::=\n",
      "|    <factor neg(+FA)> ' * ' <term neg(+FA)>\n",
      "|    <factor neg(+FA)> ' / ' <term neg(+FA)>\n",
      "|    <factor neg(LA_2)>\n",
      "<factor neg(LA_2)> ::=\n",
      "|    '+' <factor neg(+FA)>\n",
      "|    '-' <factor neg(+FA)>\n",
      "|    <integer>\n",
      "|    <integer> '.' <integer>\n",
      "<digit> ::=\n",
      "|    '0'\n",
      "|    '1'\n",
      "|    '2'\n",
      "|    '3'\n",
      "|    '4'\n",
      "|    '5'\n",
      "|    '6'\n",
      "|    '7'\n",
      "|    '8'\n",
      "|    '9'\n",
      "<factor> ::=\n",
      "|    '(' <expr> ')'\n",
      "|    '+' <factor>\n",
      "|    '-' <factor>\n",
      "|    <integer>\n",
      "|    <integer> '.' <integer>\n",
      "<term LC_2> ::=\n",
      "|    <factor LC_1>\n",
      "<factor LC_1> ::=\n",
      "|    <integer LC_1>\n",
      "<integer LC_1> ::=\n",
      "|    <digit LC_1>\n",
      "<digit LC_1> ::=\n",
      "|    '0'\n",
      "24 67\n"
     ]
    },
    {
     "data": {
      "text/plain": [
       "'<start or(or(.FA,.FB),.FC)>'"
      ]
     },
     "execution_count": 493,
     "metadata": {},
     "output_type": "execute_result"
    }
   ],
   "source": [
    "AorBorC_grammar, AorBorC_start = grammar_gc(AorBorC_grammar_, AorBorC_start)\n",
    "Gs(AorBorC_grammar)\n",
    "AorBorC_start"
   ]
  },
  {
   "cell_type": "code",
   "execution_count": 494,
   "metadata": {},
   "outputs": [],
   "source": [
    "AorBorC_fuzzer = LimitFuzzer(AorBorC_grammar)\n",
    "AorBorC_parser = Parser(AorBorC_grammar, canonical=True, start_symbol=AorBorC_start)"
   ]
  },
  {
   "cell_type": "code",
   "execution_count": 495,
   "metadata": {},
   "outputs": [
    {
     "name": "stdout",
     "output_type": "stream",
     "text": [
      "((-2 * 6 * 9 - 5 / 1.4)) + -0.89765 * 0 / 6.4 + +(-1 + 1.9 * 5.1 + 5.7 + 2.6 - 4.4) / 5.588 * -8 + -632.6\n",
      "A|B|C\n",
      "A|B\n",
      "A|C\n",
      "B|C\n",
      "*\n",
      "+9 / ((4)) + +03 * +(+0 * 4.8 / 4 - 8.6 / 0.5) + (+4.0 * (0.4) * 1 * 9.7)\n",
      "A|B|C\n",
      "A|B\n",
      "A|C\n",
      "B|C\n",
      "*\n",
      "(2509.66) * 2642.280 / 2 / 072 / ((0.8)) - 4.2 / ++-+(6)\n",
      "A|B|C\n",
      "A|B\n",
      "A|C\n",
      "B|C\n",
      "*\n",
      "-((5.5 - 8 - 1.3) + --7 * 5 * 8.3 * 1 + -0) + 8 / 0.6 * 370.5\n",
      "A|B|C\n",
      "A|B\n",
      "A|C\n",
      "B|C\n",
      "*\n",
      "--+-724 * 3 / ((0.6 - 9)) + 1.336 * +((1.5) * 2.2) * 6.3\n",
      "A|B|C\n",
      "A|B\n",
      "A|C\n",
      "B|C\n",
      "*\n",
      "((-1 / 9 / 9.7 - 2 / 6.0 - 8 - 1)) + --+813 / +1 * 2.2 / 21 / +-0 / 5 / 4.4\n",
      "A|B|C\n",
      "A|B\n",
      "A|C\n",
      "B|C\n",
      "*\n",
      "++(36 / -7.0 * 7 * 3.3) / (-++6 / (2 + 6 + 3.8 + 6 + 5.6 - 4) / 0.9 / 5 - 74.0 * -7) * +586.662 * +63 * ((0.2)) - 5518 * (-+2.4 / +0.8 - +8.1 * 3 - 6.2) / 3\n",
      "A|B|C\n",
      "A|B\n",
      "A|C\n",
      "B|C\n",
      "*\n",
      "25.96636 / 59.03 / 0.88 / ((1.7))\n",
      "A|B|C\n",
      "A|B\n",
      "A|C\n",
      "B|C\n",
      "*\n",
      "(((1) * 2.0 / 8.4)) - 87 / +-(9 + 4.3 - 7) / ((4.6) + 3.3 / 6.4 - 1.9 + 8 + 3 - 0.8) / (6.1 * 7.4 - 6.5 + 3.9 - 3.1 + 4) * (0) - ((1 - 3) + 5.1 / 2 - 7 * 3.3 + 3 + 5 + 4.3)\n",
      "A|B|C\n",
      "A|B\n",
      "A|C\n",
      "B|C\n",
      "*\n",
      "((8.4 / 3.6 + 0 * 7 + 2 + 0)) - +-(5) + 7.2 * (5.5 / 6.8 * 6.2 + 0 * 4 + 9 + 8.7 + 9.4 + 3.5 - 9)\n",
      "A|B|C\n",
      "A|B\n",
      "A|C\n",
      "B|C\n",
      "*\n"
     ]
    }
   ],
   "source": [
    "for i in range(10):\n",
    "    s = AorBorC_fuzzer.fuzz(key=AorBorC_start)\n",
    "    print(s)\n",
    "    print('A|B|C')\n",
    "    assert AorBorC_parser.can_parse(s)\n",
    "    print('A|B')\n",
    "    assert AorB_parser.can_parse(s) or faultC_parser.can_parse(s)\n",
    "    print('A|C')\n",
    "    assert AorC_parser.can_parse(s) or faultB_parser.can_parse(s)\n",
    "    print('B|C')\n",
    "    assert BorC_parser.can_parse(s) or faultA_parser.can_parse(s)\n",
    "    print('*')\n",
    "    assert faultA_parser.can_parse(s) or  faultB_parser.can_parse(s) or  faultC_parser.can_parse(s)"
   ]
  },
  {
   "cell_type": "markdown",
   "metadata": {},
   "source": [
    "### A & B | C"
   ]
  },
  {
   "cell_type": "code",
   "execution_count": 496,
   "metadata": {},
   "outputs": [
    {
     "name": "stdout",
     "output_type": "stream",
     "text": [
      "1\n",
      "reconstructing: <expr or(and(.FA,.FB),.FC)>\n",
      "'or(.FC,and(.FA,.FB))'\n",
      "simplified_to: <expr or(.FC,and(.FA,.FB))>\n",
      "37 108\n"
     ]
    }
   ],
   "source": [
    "AandBorC_grammar_, AandBorC_start, refs = or_grammars_(AandB_grammar, AandB_start, faultC_grammar, faultC_start)\n",
    "AandBorC_grammar_ = complete(AandBorC_grammar_, AandBorC_start, True)\n",
    "Gs(AandBorC_grammar_, -1)"
   ]
  },
  {
   "cell_type": "code",
   "execution_count": 497,
   "metadata": {},
   "outputs": [
    {
     "name": "stdout",
     "output_type": "stream",
     "text": [
      "<start or(and(.FA,.FB),.FC)> ::=\n",
      "|    <expr or(and(.FA,.FB),.FC)>\n",
      "<expr or(and(.FA,.FB),.FC)> ::=\n",
      "|    <term .FC>\n",
      "|    <term .FC> ' - ' <expr neg(+FC)>\n",
      "|    <term neg(+FA)> ' + ' <expr and(.FA,LB_2)>\n",
      "|    <term neg(+FA)> ' + ' <expr and(.FA,LB_2)>\n",
      "<term .FC> ::=\n",
      "|    <factor> ' / ' <term LC_2>\n",
      "<expr neg(+FC)> ::=\n",
      "|    <term neg(+FC)>\n",
      "|    <term neg(+FC)> ' + ' <expr neg(+FC)>\n",
      "|    <term neg(+FC)> ' - ' <expr neg(+FC)>\n",
      "<term neg(+FA)> ::=\n",
      "|    <factor neg(+FA)>\n",
      "|    <factor neg(+FA)> ' * ' <term neg(+FA)>\n",
      "|    <factor neg(+FA)> ' / ' <term neg(+FA)>\n",
      "<expr and(.FA,LB_2)> ::=\n",
      "|    <term .FA>\n",
      "<factor> ::=\n",
      "|    '(' <expr> ')'\n",
      "|    '+' <factor>\n",
      "|    '-' <factor>\n",
      "|    <integer>\n",
      "|    <integer> '.' <integer>\n",
      "<term LC_2> ::=\n",
      "|    <factor LC_1>\n",
      "<expr> ::=\n",
      "|    <term>\n",
      "|    <term> ' + ' <expr>\n",
      "|    <term> ' - ' <expr>\n",
      "<integer> ::=\n",
      "|    <digit>\n",
      "|    <digit> <integer>\n",
      "<term> ::=\n",
      "|    <factor>\n",
      "|    <factor> ' * ' <term>\n",
      "|    <factor> ' / ' <term>\n",
      "<digit> ::=\n",
      "|    '0'\n",
      "|    '1'\n",
      "|    '2'\n",
      "|    '3'\n",
      "|    '4'\n",
      "|    '5'\n",
      "|    '6'\n",
      "|    '7'\n",
      "|    '8'\n",
      "|    '9'\n",
      "<factor LC_1> ::=\n",
      "|    <integer LC_1>\n",
      "<integer LC_1> ::=\n",
      "|    <digit LC_1>\n",
      "<digit LC_1> ::=\n",
      "|    '0'\n",
      "<term neg(+FC)> ::=\n",
      "|    <factor neg(+FC)>\n",
      "|    <factor neg(+FC)> ' * ' <term neg(+FC)>\n",
      "|    <factor neg(+FC)> ' / ' <term neg(LC_2)>\n",
      "<factor neg(+FC)> ::=\n",
      "|    '(' <expr neg(+FC)> ')'\n",
      "|    '+' <factor neg(+FC)>\n",
      "|    '-' <factor neg(+FC)>\n",
      "|    <integer>\n",
      "|    <integer> '.' <integer>\n",
      "<term neg(LC_2)> ::=\n",
      "|    <factor neg(+FC)> ' * ' <term neg(+FC)>\n",
      "|    <factor neg(+FC)> ' / ' <term neg(+FC)>\n",
      "|    <factor neg(LC_1)>\n",
      "<factor neg(LC_1)> ::=\n",
      "|    '(' <expr neg(+FC)> ')'\n",
      "|    '+' <factor neg(+FC)>\n",
      "|    '-' <factor neg(+FC)>\n",
      "|    <integer neg(LC_1)>\n",
      "|    <integer> '.' <integer>\n",
      "<integer neg(LC_1)> ::=\n",
      "|    <digit neg(LC_1)>\n",
      "|    <digit> <integer>\n",
      "<digit neg(LC_1)> ::=\n",
      "|    '1'\n",
      "|    '2'\n",
      "|    '3'\n",
      "|    '4'\n",
      "|    '5'\n",
      "|    '6'\n",
      "|    '7'\n",
      "|    '8'\n",
      "|    '9'\n",
      "<factor neg(+FA)> ::=\n",
      "|    '(' <expr neg(LA_1)> ')'\n",
      "|    '+' <factor neg(+FA)>\n",
      "|    '-' <factor neg(+FA)>\n",
      "|    <integer>\n",
      "|    <integer> '.' <integer>\n",
      "<expr neg(LA_1)> ::=\n",
      "|    <term neg(+FA)> ' + ' <expr neg(+FA)>\n",
      "|    <term neg(+FA)> ' - ' <expr neg(+FA)>\n",
      "|    <term neg(LA_1)>\n",
      "<expr neg(+FA)> ::=\n",
      "|    <term neg(+FA)>\n",
      "|    <term neg(+FA)> ' + ' <expr neg(+FA)>\n",
      "|    <term neg(+FA)> ' - ' <expr neg(+FA)>\n",
      "<term neg(LA_1)> ::=\n",
      "|    <factor neg(+FA)> ' * ' <term neg(+FA)>\n",
      "|    <factor neg(+FA)> ' / ' <term neg(+FA)>\n",
      "|    <factor neg(LA_2)>\n",
      "<factor neg(LA_2)> ::=\n",
      "|    '+' <factor neg(+FA)>\n",
      "|    '-' <factor neg(+FA)>\n",
      "|    <integer>\n",
      "|    <integer> '.' <integer>\n",
      "<term .FA> ::=\n",
      "|    <factor .FA>\n",
      "|    <factor neg(+FA)> ' * ' <term .FA>\n",
      "|    <factor neg(+FA)> ' * ' <term .FA>\n",
      "|    <factor neg(+FA)> ' / ' <term .FA>\n",
      "|    <factor neg(+FA)> ' / ' <term .FA>\n",
      "<factor .FA> ::=\n",
      "|    '(' <expr LA_1> ')'\n",
      "<expr LA_1> ::=\n",
      "|    <term LA_1>\n",
      "<term LA_1> ::=\n",
      "|    <factor LA_2>\n",
      "<factor LA_2> ::=\n",
      "|    '(' <expr> ')'\n",
      "31 94\n"
     ]
    },
    {
     "data": {
      "text/plain": [
       "'<start or(and(.FA,.FB),.FC)>'"
      ]
     },
     "execution_count": 497,
     "metadata": {},
     "output_type": "execute_result"
    }
   ],
   "source": [
    "AandBorC_grammar, AandBorC_start = grammar_gc(AandBorC_grammar_, AandBorC_start)\n",
    "Gs(AandBorC_grammar)\n",
    "AandBorC_start"
   ]
  },
  {
   "cell_type": "code",
   "execution_count": 498,
   "metadata": {},
   "outputs": [],
   "source": [
    "AandBorC_fuzzer = LimitFuzzer(AandBorC_grammar)\n",
    "AandBorC_parser = Parser(AandBorC_grammar, canonical=True, start_symbol=AandBorC_start)"
   ]
  },
  {
   "cell_type": "code",
   "execution_count": 499,
   "metadata": {},
   "outputs": [
    {
     "name": "stdout",
     "output_type": "stream",
     "text": [
      "+--8 + -846 * 2 * (-9 * 9 + 7.9 * 0) * -5.29 / 2.7 / (2) / 9.9 * 8 / 5.6 * 2.0 / 4 * ((5.9))\n",
      "A&B|C\n",
      "A&B\n",
      "((4.6 + 8 + 8.2 + 2 + 1 - 6 + 9.5 - 2.7 + 2.3 + 1.3 - 8 + 6.3 - 3.2) / 5 * 38) / 0 - -15 * 36711.7 * --(2.0 - 4.7) - 54.35 * +757 - ((7) - 5 - 0 - 0) + (2.8 / 2.0 + 6 + 5.0) / (7 + 2)\n",
      "A&B|C\n",
      "A&B\n",
      "613.583 / 02.289 / 8 + 70 / 5 / ++(1 - 5.4) * (6 * 7.6 + 2 + 9.1) / 72.5 / ((9 + 4))\n",
      "A&B|C\n",
      "A&B\n",
      "615 + -+-20.13 / +1 / (+9 + 3.6 / 4) * ((0 + 3))\n",
      "A&B|C\n",
      "A&B\n",
      "-(-52.17 / 54) * -6 * 10536 + -(++8.2 / 6.4 * 9.5) * 3 / 9.2 * (5 + 2.2 - 9.9) * ++2 / ((3.2))\n",
      "A&B|C\n",
      "A&B\n",
      "(-++8.9 + 380 * 39.3 / +8 / 0.4 * 9 - -+4 * 8.1 - 5 * 3 * 3.8 - 0 + 8.5 + 4.4) / 0\n",
      "A&B|C\n",
      "A&B\n",
      "3 / +(+9 / +9) + +2.18 / +210 * -(0 * 1) * +(1.4 + 2.4) / (8 - 3) * 9.4 / ((2 + 0 + 0.5 - 8 + 5 + 8 - 6.8))\n",
      "A&B|C\n",
      "A&B\n",
      "3.11 * 84929 / +8849 * (0 / 3.0 * 2.4 + 0 / 9.1 - 1.3 - 0) / 2 + 96.0 / +7 / 1.3197 * +6 * +(1.4) * ((9 - 2.7 + 3.9 - 7))\n",
      "A&B|C\n",
      "A&B\n",
      "5.9 / 0.464 * (40.73 * 0.2 * 3 / 2.1 - (5) / 6 / 1 + 6.9 - 1) * (8) * ++(2) + 86 / (42 / +5 - 5.6 / 7.8 * 1 + 3 + 5.1 - 6.4) / ((2 + 6.1 + 2 - 3.8 - 2 - 8.8 - 8.3 + 8))\n",
      "A&B|C\n",
      "A&B\n",
      "-1.2 / 0 - -0.345 + -(-2 + 5.9 * 8.4) * (1.0 + 5 - 9.7 + 2.1)\n",
      "A&B|C\n",
      "A&B\n"
     ]
    }
   ],
   "source": [
    "for i in range(10):\n",
    "    s = AandBorC_fuzzer.fuzz(key=AandBorC_start)\n",
    "    print(s)\n",
    "    print('A&B|C')\n",
    "    assert AandBorC_parser.can_parse(s)\n",
    "    print('A&B')\n",
    "    assert AandB_parser.can_parse(s) or faultC_parser.can_parse(s)"
   ]
  },
  {
   "cell_type": "code",
   "execution_count": 500,
   "metadata": {},
   "outputs": [
    {
     "data": {
      "text/plain": [
       "[]"
      ]
     },
     "execution_count": 500,
     "metadata": {},
     "output_type": "execute_result"
    }
   ],
   "source": [
    "EXCEPTION_HAPPENED"
   ]
  }
 ],
 "metadata": {
  "kernelspec": {
   "display_name": "Python 3",
   "language": "python",
   "name": "python3"
  },
  "language_info": {
   "codemirror_mode": {
    "name": "ipython",
    "version": 3
   },
   "file_extension": ".py",
   "mimetype": "text/x-python",
   "name": "python",
   "nbconvert_exporter": "python",
   "pygments_lexer": "ipython3",
   "version": "3.6.8"
  },
  "toc": {
   "base_numbering": 1,
   "nav_menu": {},
   "number_sections": true,
   "sideBar": true,
   "skip_h1_title": false,
   "title_cell": "Table of Contents",
   "title_sidebar": "Contents",
   "toc_cell": false,
   "toc_position": {},
   "toc_section_display": true,
   "toc_window_display": true
  }
 },
 "nbformat": 4,
 "nbformat_minor": 4
}
